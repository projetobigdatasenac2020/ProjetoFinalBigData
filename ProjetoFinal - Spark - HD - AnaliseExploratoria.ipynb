{
 "metadata": {
  "language_info": {
   "codemirror_mode": {
    "name": "ipython",
    "version": 3
   },
   "file_extension": ".py",
   "mimetype": "text/x-python",
   "name": "python",
   "nbconvert_exporter": "python",
   "pygments_lexer": "ipython3",
   "version": "3.8.5-final"
  },
  "orig_nbformat": 2,
  "kernelspec": {
   "name": "python_defaultSpec_1600381061555",
   "display_name": "Python 3.8.5 64-bit"
  }
 },
 "nbformat": 4,
 "nbformat_minor": 2,
 "cells": [
  {
   "cell_type": "code",
   "execution_count": 1,
   "metadata": {
    "tags": []
   },
   "outputs": [
    {
     "output_type": "stream",
     "name": "stdout",
     "text": "Ativação das bibliotecas iniciada - 2020-09-17 19:18:03.769808.\nAtivação das bibliotecas com sucesso - 2020-09-17 19:18:08.405824.\n"
    }
   ],
   "source": [
    "#Importação das bibliotecas utilizadas para manipulação dos dados das paginas Web.\n",
    "\n",
    "from datetime import datetime\n",
    "\n",
    "print(f'Ativação das bibliotecas iniciada - {datetime.now()}.')\n",
    "\n",
    "from bs4 import BeautifulSoup\n",
    "import urllib.request\n",
    "import shutil\n",
    "import os\n",
    "import pandas as pd\n",
    "import pyspark\n",
    "import zipfile\n",
    "import sqlalchemy\n",
    "import pymysql\n",
    "import json\n",
    "import numpy as np\n",
    "import matplotlib.pyplot as plt\n",
    "import seaborn as sns\n",
    "from pyspark import SparkContext\n",
    "from pyspark.sql import SQLContext\n",
    "from pyspark.sql.functions import * \n",
    "\n",
    "print(f'Ativação das bibliotecas com sucesso - {datetime.now()}.')"
   ]
  },
  {
   "cell_type": "code",
   "execution_count": 2,
   "metadata": {
    "tags": []
   },
   "outputs": [
    {
     "output_type": "stream",
     "name": "stdout",
     "text": "Intanciando o Spark - 2020-09-17 19:18:08.432797.\nSpark intanciado com sucesso - 2020-09-17 19:18:17.202181.\n"
    }
   ],
   "source": [
    "# Instanciar Spark\n",
    "\n",
    "print(f'Intanciando o Spark - {datetime.now()}.')\n",
    "\n",
    "sc = SparkContext()\n",
    "sqlContext = SQLContext(sc)\n",
    "\n",
    "print(f'Spark intanciado com sucesso - {datetime.now()}.')"
   ]
  },
  {
   "cell_type": "code",
   "execution_count": 3,
   "metadata": {
    "tags": []
   },
   "outputs": [
    {
     "output_type": "stream",
     "name": "stdout",
     "text": "Criação Dataframes Iniciado - 2020-09-17 19:18:17.233100.\n\n\nCriação Dataframe do Enem 2015 iniciada - 2020-09-17 19:18:17.234098.\nDataframe df_enem2015_completo criado com sucesso - 2020-09-17 19:19:02.346388.\n\nCriação Dataframe do Enem 2016 iniciada- 2020-09-17 19:19:02.346388.\nDataframe df_enem2016_completo criado com sucesso - 2020-09-17 19:19:51.787700.\n\nCriação Dataframe do Enem 2017 iniciada - 2020-09-17 19:19:51.788692.\nDataframe df_enem2017_completo criado com sucesso - 2020-09-17 19:20:30.099733.\n\nCriação Dataframe do Enem 2018 iniciada - 2020-09-17 19:20:30.102726.\nDataframe df_enem2018_completo criado com sucesso - 2020-09-17 19:21:02.080946.\n\nCriação Dataframe do Enem 2019 iniciada - 2020-09-17 19:21:02.080946.\nDataframe df_enem2019_completo criado com sucesso - 2020-09-17 19:21:31.497235.\n\n\nDataframes criados com sucesso - 2020-09-17 19:21:31.499226.\n"
    }
   ],
   "source": [
    "# No Processo abaixo, importaremos para o dataframe, apenas para conhecer os dados e verificar o separador do microdado.\n",
    "\n",
    "print(f'Criação Dataframes Iniciado - {datetime.now()}.')\n",
    "print('')\n",
    "\n",
    "print('')\n",
    "print(f'Criação Dataframe do Enem 2015 iniciada - {datetime.now()}.')\n",
    "df_enem2015_completo = sqlContext.read.format('com.databricks.spark.csv').options(header='true', sep=\",\", inferschema='true', encoding = 'ISO-8859-1', ).load(r'C:\\Users\\Ricardo\\Downloads\\MicrodadosEnem\\MICRODADOS_ENEM_2015.csv')\n",
    "print(f'Dataframe df_enem2015_completo criado com sucesso - {datetime.now()}.')\n",
    "print('')\n",
    "\n",
    "print(f'Criação Dataframe do Enem 2016 iniciada- {datetime.now()}.')\n",
    "df_enem2016_completo = sqlContext.read.format('com.databricks.spark.csv').options(header='true', sep=\";\", inferschema='true', encoding = 'ISO-8859-1').load(r'C:\\Users\\Ricardo\\Downloads\\MicrodadosEnem\\microdados_enem_2016.csv')\n",
    "print(f'Dataframe df_enem2016_completo criado com sucesso - {datetime.now()}.')\n",
    "print('')\n",
    "\n",
    "print(f'Criação Dataframe do Enem 2017 iniciada - {datetime.now()}.')\n",
    "df_enem2017_completo = sqlContext.read.format('com.databricks.spark.csv').options(header='true', sep=\";\", inferschema='true', encoding = 'ISO-8859-1').load(r'C:\\Users\\Ricardo\\Downloads\\MicrodadosEnem\\MICRODADOS_ENEM_2017.csv')\n",
    "print(f'Dataframe df_enem2017_completo criado com sucesso - {datetime.now()}.')\n",
    "print('')\n",
    "\n",
    "print(f'Criação Dataframe do Enem 2018 iniciada - {datetime.now()}.')\n",
    "df_enem2018_completo = sqlContext.read.format('com.databricks.spark.csv').options(header='true', sep=\";\", inferschema='true', encoding = 'ISO-8859-1').load(r'C:\\Users\\Ricardo\\Downloads\\MicrodadosEnem\\MICRODADOS_ENEM_2018.csv')\n",
    "print(f'Dataframe df_enem2018_completo criado com sucesso - {datetime.now()}.')\n",
    "print('')\n",
    "\n",
    "print(f'Criação Dataframe do Enem 2019 iniciada - {datetime.now()}.')\n",
    "df_enem2019_completo = sqlContext.read.format('com.databricks.spark.csv').options(header='true', sep=\";\", inferschema='true', encoding = 'ISO-8859-1').load(r'C:\\Users\\Ricardo\\Downloads\\MicrodadosEnem\\MICRODADOS_ENEM_2019.csv')\n",
    "print(f'Dataframe df_enem2019_completo criado com sucesso - {datetime.now()}.')\n",
    "print('')\n",
    "\n",
    "print('')\n",
    "print(f'Dataframes criados com sucesso - {datetime.now()}.')"
   ]
  },
  {
   "cell_type": "code",
   "execution_count": 4,
   "metadata": {
    "tags": []
   },
   "outputs": [
    {
     "output_type": "stream",
     "name": "stdout",
     "text": "Criação da variável columns e seleção das colunas para realização das analises exploratórias - 2020-09-17 19:21:31.543110.\n"
    }
   ],
   "source": [
    "# Criação e seleção das colunas para realização das analises exploratórias\n",
    "\n",
    "print(f'Criação da variável columns e seleção das colunas para realização das analises exploratórias - {datetime.now()}.')\n",
    "\n",
    "columns = ['NU_INSCRICAO', 'NU_ANO', 'NO_MUNICIPIO_RESIDENCIA', 'CO_UF_RESIDENCIA', 'SG_UF_RESIDENCIA', 'NU_IDADE', 'TP_SEXO', 'TP_ESTADO_CIVIL', 'TP_COR_RACA', 'TP_NACIONALIDADE', 'NO_MUNICIPIO_NASCIMENTO', 'CO_UF_NASCIMENTO', 'SG_UF_NASCIMENTO', 'TP_ST_CONCLUSAO', 'TP_ESCOLA', 'TP_ENSINO', 'IN_TREINEIRO', 'CO_UF_ESC', 'SG_UF_ESC', 'TP_DEPENDENCIA_ADM_ESC', 'TP_LOCALIZACAO_ESC', 'IN_BAIXA_VISAO', 'IN_CEGUEIRA', 'IN_SURDEZ', 'IN_DEFICIENCIA_AUDITIVA', 'IN_SURDO_CEGUEIRA', 'IN_DEFICIENCIA_FISICA', 'IN_DEFICIENCIA_MENTAL', 'IN_DEFICIT_ATENCAO', 'IN_DISLEXIA', 'IN_DISCALCULIA', 'IN_AUTISMO', 'IN_VISAO_MONOCULAR', 'IN_OUTRA_DEF', 'IN_GESTANTE', 'IN_LACTANTE', 'IN_IDOSO', 'IN_ESTUDA_CLASSE_HOSPITALAR', 'IN_SEM_RECURSO', 'IN_BRAILLE', 'IN_AMPLIADA_24', 'IN_AMPLIADA_18', 'IN_LEDOR', 'IN_ACESSO', 'IN_TRANSCRICAO', 'IN_LIBRAS', 'IN_LEITURA_LABIAL', 'IN_MESA_CADEIRA_RODAS', 'IN_MESA_CADEIRA_SEPARADA', 'IN_APOIO_PERNA', 'IN_GUIA_INTERPRETE', 'IN_COMPUTADOR', 'IN_CADEIRA_ESPECIAL', 'IN_CADEIRA_CANHOTO', 'IN_CADEIRA_ACOLCHOADA', 'IN_PROVA_DEITADO', 'IN_MOBILIARIO_OBESO', 'IN_LAMINA_OVERLAY', 'IN_PROTETOR_AURICULAR', 'IN_MEDIDOR_GLICOSE', 'IN_MAQUINA_BRAILE', 'IN_SOROBAN', 'IN_MARCA_PASSO', 'IN_SONDA', 'IN_MEDICAMENTOS', 'IN_SALA_INDIVIDUAL', 'IN_SALA_ESPECIAL', 'IN_SALA_ACOMPANHANTE', 'IN_MOBILIARIO_ESPECIFICO', 'IN_NOME_SOCIAL', 'NO_MUNICIPIO_PROVA', 'CO_UF_PROVA', 'SG_UF_PROVA', 'TP_PRESENCA_CN', 'TP_PRESENCA_CH', 'TP_PRESENCA_LC', 'TP_PRESENCA_MT', 'NU_NOTA_CN', 'NU_NOTA_CH', 'NU_NOTA_LC', 'NU_NOTA_MT', 'TP_LINGUA', 'TP_STATUS_REDACAO', 'NU_NOTA_COMP1', 'NU_NOTA_COMP2', 'NU_NOTA_COMP3', 'NU_NOTA_COMP4', 'NU_NOTA_COMP5', 'NU_NOTA_REDACAO', 'Q001', 'Q002', 'Q005', 'Q006', 'Q022', 'Q024', 'Q025']"
   ]
  },
  {
   "cell_type": "code",
   "execution_count": 5,
   "metadata": {
    "tags": []
   },
   "outputs": [
    {
     "output_type": "stream",
     "name": "stdout",
     "text": "Criação Dataframes Iniciado - 2020-09-17 19:21:31.625684.\n\n\nCriação Dataframe do Enem 2015 iniciada - 2020-09-17 19:21:31.625684.\nDataframe df_enem2015 criado com sucesso - 2020-09-17 19:21:32.075277.\n\n\nCriação Dataframe do Enem 2016 iniciada - 2020-09-17 19:21:32.076274.\nDataframe df_enem2016 criado com sucesso - 2020-09-17 19:21:32.415007.\n\n\nCriação Dataframe do Enem 2017 iniciada - 2020-09-17 19:21:32.415007.\nDataframe df_enem2017 criado com sucesso - 2020-09-17 19:21:32.816811.\n\n\nCriação Dataframe do Enem 2018 iniciada - 2020-09-17 19:21:32.817808.\nDataframe df_enem2018 criado com sucesso - 2020-09-17 19:21:33.225242.\n\n\nCriação Dataframe do Enem 2019 iniciada - 2020-09-17 19:21:33.226238.\nDataframe df_enem2019 criado com sucesso - 2020-09-17 19:21:33.495694.\n\n"
    }
   ],
   "source": [
    "# No Processo abaixo, criaremos dataframes, apenas com colunas selecionadas.\n",
    "\n",
    "print(f'Criação Dataframes Iniciado - {datetime.now()}.')\n",
    "print('')\n",
    "\n",
    "print('')\n",
    "print(f'Criação Dataframe do Enem 2015 iniciada - {datetime.now()}.')\n",
    "df_enem2015 = df_enem2015_completo.select(columns)\n",
    "print(f'Dataframe df_enem2015 criado com sucesso - {datetime.now()}.')\n",
    "print('')\n",
    "\n",
    "print('')\n",
    "print(f'Criação Dataframe do Enem 2016 iniciada - {datetime.now()}.')\n",
    "df_enem2016 = df_enem2016_completo.select(columns)\n",
    "print(f'Dataframe df_enem2016 criado com sucesso - {datetime.now()}.')\n",
    "print('')\n",
    "\n",
    "print('')\n",
    "print(f'Criação Dataframe do Enem 2017 iniciada - {datetime.now()}.')\n",
    "df_enem2017 = df_enem2017_completo.select(columns)\n",
    "print(f'Dataframe df_enem2017 criado com sucesso - {datetime.now()}.')\n",
    "print('')\n",
    "\n",
    "print('')\n",
    "print(f'Criação Dataframe do Enem 2018 iniciada - {datetime.now()}.')\n",
    "df_enem2018 = df_enem2018_completo.select(columns)\n",
    "print(f'Dataframe df_enem2018 criado com sucesso - {datetime.now()}.')\n",
    "print('')\n",
    "\n",
    "print('')\n",
    "print(f'Criação Dataframe do Enem 2019 iniciada - {datetime.now()}.')\n",
    "df_enem2019 = df_enem2019_completo.select(columns)\n",
    "print(f'Dataframe df_enem2019 criado com sucesso - {datetime.now()}.')\n",
    "print('')"
   ]
  },
  {
   "cell_type": "code",
   "execution_count": 6,
   "metadata": {
    "tags": []
   },
   "outputs": [
    {
     "output_type": "stream",
     "name": "stdout",
     "text": "Criação Dataframe do df_enem iniciada - 2020-09-17 19:21:33.525615.\nDataframe df_enem criado com sucesso - 2020-09-17 19:21:33.633653.\n"
    }
   ],
   "source": [
    "# Criação de um dataframe uníco, com a união de todos os dataframes criados. \n",
    "\n",
    "print(f'Criação Dataframe do df_enem iniciada - {datetime.now()}.')\n",
    "\n",
    "df_enem = df_enem2015.unionAll(df_enem2016).unionAll(df_enem2017).unionAll(df_enem2018).unionAll(df_enem2019)\n",
    "\n",
    "print(f'Dataframe df_enem criado com sucesso - {datetime.now()}.')"
   ]
  },
  {
   "cell_type": "code",
   "execution_count": 7,
   "metadata": {
    "tags": []
   },
   "outputs": [
    {
     "output_type": "stream",
     "name": "stdout",
     "text": "Criação das Colunas Análise Exploratória - 2020-09-17 19:21:33.710723.\nDataframe df_enem_analise criado com sucesso - 2020-09-17 19:21:37.010132.\n"
    }
   ],
   "source": [
    "# Criação das colunas de classificação do dataframe df_enem_analise. \n",
    "\n",
    "print(f'Criação das Colunas Análise Exploratória - {datetime.now()}.')\n",
    "\n",
    "df_enem_sexo = df_enem.withColumn('SEXO', expr(\"case when TP_SEXO = 'M' then 'Masculino' \" + \"when TP_SEXO = 'F' then 'Feminino' \" + \"else '' end\"))\n",
    "\n",
    "df_enem_estado_civil = df_enem_sexo.withColumn('ESTADO_CIVIL', expr(\"case when NU_ANO <> 2019 AND TP_ESTADO_CIVIL = 0 then 'Solteiro(a)' \" + \"when NU_ANO <> 2019 AND TP_ESTADO_CIVIL = 1 then 'Casado(a)/Mora com companheiro(a)' \" + \"when NU_ANO <> 2019 AND TP_ESTADO_CIVIL = 2 then 'Divorciado(a)/Desquitado(a)/Separado(a)' \" + \n",
    "\"when NU_ANO <> 2019 AND TP_ESTADO_CIVIL = 3 then 'Viúvo(a)' \" + \"when NU_ANO = 2019 AND TP_ESTADO_CIVIL = 0 then '' \" + \"when NU_ANO = 2019 AND TP_ESTADO_CIVIL = 1 then 'Solteiro(a)' \" + \"when NU_ANO = 2019 AND TP_ESTADO_CIVIL = 2 then 'Casado(a)/Mora com companheiro(a)' \" + \"when NU_ANO = 2019 AND TP_ESTADO_CIVIL = 3 then 'Divorciado(a)/Desquitado(a)/Separado(a)' \" + \"when NU_ANO = 2019 AND TP_ESTADO_CIVIL = 4 then 'Viúvo(a)' \" + \"else '' end\"))\n",
    "\n",
    "df_enem_raca = df_enem_estado_civil.withColumn('RACA', expr(\"case when TP_COR_RACA = 0 then 'Não declarado' \" + \"when TP_COR_RACA = 1 then 'Branca' \" + \"when TP_COR_RACA = 2 then 'Preta' \" + \"when TP_COR_RACA = 3 then 'Parda' \" + \"when TP_COR_RACA = 4 then 'Amarela' \" + \"when TP_COR_RACA = 5 then 'Indígena ' \" + \"else '' end\"))\n",
    "\n",
    "df_enem_nacionalidade = df_enem_raca.withColumn('NACIONALIDADE', expr(\"case when TP_NACIONALIDADE = 0 then 'Não informado' \" + \"when TP_NACIONALIDADE = 1 then 'Brasileiro(a)' \" + \"when TP_NACIONALIDADE = 2 then 'Brasileiro(a) Naturalizado(a)' \" + \"when TP_NACIONALIDADE = 3 then 'Estrangeiro(a)' \" + \"when TP_NACIONALIDADE = 4 then 'Brasileiro(a) Nato(a), nascido(a) no exterior' \" + \"else '' end\"))\n",
    "\n",
    "df_enem_st_conclusao = df_enem_nacionalidade.withColumn('SITUACAO_CONCLUSAO_ENSINO_MEDIO', expr(\"case when TP_ST_CONCLUSAO = 1 then 'Já concluí o Ensino Médio' \" + \"when TP_ST_CONCLUSAO = 2 then 'Estou cursando e concluirei o Ensino Médio no ano' \" + \"when TP_ST_CONCLUSAO = 3 then 'Estou cursando e concluirei o Ensino Médio após este ano' \" + \"when TP_ST_CONCLUSAO = 4 then 'Não concluí e não estou cursando o Ensino Médio' \" + \"else '' end\"))\n",
    "\n",
    "df_enem_tp_escola = df_enem_st_conclusao.withColumn('TIPO_ESCOLA', expr(\"case when TP_ESCOLA = 1 then 'Não Respondeu' \" + \"when TP_ESCOLA = 2 then 'Pública' \" + \"when TP_ESCOLA = 3 then 'Privada' \" + \"when TP_ESCOLA = 4 then 'Exterior' \" + \"else '' end\"))\n",
    "\n",
    "df_enem_tp_ensino = df_enem_tp_escola.withColumn('TIPO_ENSINO', expr(\"case when TP_ENSINO = 1 then 'Ensino Regular' \" + \"when TP_ENSINO = 2 then 'Educação Especial - Modalidade Substitutiva' \" + \"when TP_ENSINO = 3 then 'Educação de Jovens e Adultos' \" + \"else '' end\"))\n",
    "\n",
    "df_enem_in_treineiro = df_enem_tp_ensino.withColumn('TREINEIRO', expr(\"case when IN_TREINEIRO = 0 then 'Não' \" + \"when IN_TREINEIRO = 1 then 'Sim' \" + \"else '' end\"))\n",
    "\n",
    "df_enem_tp_dependencia_adm_esc = df_enem_in_treineiro.withColumn('DEPENDENCIA_ADMINISTRATIVA_ESCOLA', expr(\"case when TP_DEPENDENCIA_ADM_ESC = 1 then 'Federal' \" + \"when TP_DEPENDENCIA_ADM_ESC = 2 then 'Estadual' \" + \"when TP_DEPENDENCIA_ADM_ESC = 3 then 'Municipal' \" + \"when TP_DEPENDENCIA_ADM_ESC = 4 then 'Privada' \" + \"else '' end\"))\n",
    "\n",
    "df_enem_tp_localizacao_esc = df_enem_tp_dependencia_adm_esc.withColumn('LOCALIZACAO_ESCOLA', expr(\"case when TP_LOCALIZACAO_ESC = 1 then 'Urbana' \" + \"when TP_LOCALIZACAO_ESC = 2 then 'Rural' \" + \"else '' end\"))\n",
    "\n",
    "df_enem_in_baixa_visao = df_enem_tp_localizacao_esc.withColumn('BAIXA_VISAO', expr(\"case when IN_BAIXA_VISAO = 0 then 'Não' \" + \"when IN_BAIXA_VISAO = 1 then 'Sim' \" + \"else '' end\"))\n",
    "\n",
    "df_enem_in_cegueira = df_enem_in_baixa_visao.withColumn('CEGUEIRA', expr(\"case when IN_CEGUEIRA = 0 then 'Não' \" + \"when IN_CEGUEIRA = 1 then 'Sim' \" + \"else '' end\"))\n",
    "\n",
    "df_enem_in_surdez = df_enem_in_cegueira.withColumn('SURDEZ', expr(\"case when IN_SURDEZ = 0 then 'Não' \" + \"when IN_SURDEZ = 1 then 'Sim' \" + \"else '' end\"))\n",
    "\n",
    "df_enem_in_deficiencia_auditiva = df_enem_in_surdez.withColumn('DEFICIENCIA_AUDITIVA', expr(\"case when IN_DEFICIENCIA_AUDITIVA = 0 then 'Não' \" + \"when IN_DEFICIENCIA_AUDITIVA = 1 then 'Sim' \" + \"else '' end\"))\n",
    "\n",
    "df_enem_in_surdo_cegueira = df_enem_in_deficiencia_auditiva.withColumn('SURDO_CEGUEIRA', expr(\"case when IN_SURDO_CEGUEIRA = 0 then 'Não' \" + \"when IN_SURDO_CEGUEIRA = 1 then 'Sim' \" + \"else '' end\"))\n",
    "\n",
    "df_enem_in_deficiencia_fisica = df_enem_in_surdo_cegueira.withColumn('DEFICIENCIA_FISICA', expr(\"case when IN_DEFICIENCIA_FISICA = 0 then 'Não' \" + \"when IN_DEFICIENCIA_FISICA = 1 then 'Sim' \" + \"else '' end\"))\n",
    "\n",
    "df_enem_in_deficiencia_mental = df_enem_in_deficiencia_fisica.withColumn('DEFICIENCIA_MENTAL', expr(\"case when IN_DEFICIENCIA_MENTAL = 0 then 'Não' \" + \"when IN_DEFICIENCIA_MENTAL = 1 then 'Sim' \" + \"else '' end\"))\n",
    "\n",
    "df_enem_in_deficit_atencao = df_enem_in_deficiencia_mental.withColumn('DEFICIT_ATENCAO', expr(\"case when IN_DEFICIT_ATENCAO = 0 then 'Não' \" + \"when IN_DEFICIT_ATENCAO = 1 then 'Sim' \" + \"else '' end\"))\n",
    "\n",
    "df_enem_in_dislexia = df_enem_in_deficit_atencao.withColumn('DISLEXIA', expr(\"case when IN_DISLEXIA = 0 then 'Não' \" + \"when IN_DISLEXIA = 1 then 'Sim' \" + \"else '' end\"))\n",
    "\n",
    "df_enem_in_discalculia = df_enem_in_dislexia.withColumn('DISCALCULIA', expr(\"case when IN_DISCALCULIA = 0 then 'Não' \" + \"when IN_DISCALCULIA = 1 then 'Sim' \" + \"else '' end\"))\n",
    "\n",
    "df_enem_in_autismo = df_enem_in_discalculia.withColumn('AUTISMO', expr(\"case when IN_AUTISMO = 0 then 'Não' \" + \"when IN_AUTISMO = 1 then 'Sim' \" + \"else '' end\"))\n",
    "\n",
    "df_enem_in_visao_monocular = df_enem_in_autismo.withColumn('VISAO_MONOCULAR', expr(\"case when IN_VISAO_MONOCULAR = 0 then 'Não' \" + \"when IN_VISAO_MONOCULAR = 1 then 'Sim' \" + \"else '' end\"))\n",
    "\n",
    "df_enem_in_outra_def = df_enem_in_visao_monocular.withColumn('OUTRA_DEF', expr(\"case when IN_OUTRA_DEF = 0 then 'Não' \" + \"when IN_OUTRA_DEF = 1 then 'Sim' \" + \"else '' end\"))\n",
    "\n",
    "df_enem_in_gestante = df_enem_in_outra_def.withColumn('GESTANTE', expr(\"case when IN_GESTANTE = 0 then 'Não' \" + \"when IN_GESTANTE = 1 then 'Sim' \" + \"else '' end\"))\n",
    "\n",
    "df_enem_in_lactante = df_enem_in_gestante.withColumn('LACTANTE', expr(\"case when IN_LACTANTE = 0 then 'Não' \" + \"when IN_LACTANTE = 1 then 'Sim' \" + \"else '' end\"))\n",
    "\n",
    "df_enem_in_idoso = df_enem_in_lactante.withColumn('IDOSO', expr(\"case when IN_IDOSO = 0 then 'Não' \" + \"when IN_IDOSO = 1 then 'Sim' \" + \"else '' end\"))\n",
    "\n",
    "df_enem_in_estuda_classe_hospitalar = df_enem_in_idoso.withColumn('ESTUDA_CLASSE_HOSPITALAR', expr(\"case when IN_ESTUDA_CLASSE_HOSPITALAR = 0 then 'Não' \" + \"when IN_ESTUDA_CLASSE_HOSPITALAR = 1 then 'Sim' \" + \"else '' end\"))\n",
    "\n",
    "df_enem_in_sem_recurso = df_enem_in_estuda_classe_hospitalar.withColumn('SEM_RECURSO', expr(\"case when IN_SEM_RECURSO = 0 then 'Não' \" + \"when IN_SEM_RECURSO = 1 then 'Sim' \" + \"else '' end\"))\n",
    "\n",
    "df_enem_in_braille = df_enem_in_sem_recurso.withColumn('BRAILLE', expr(\"case when IN_BRAILLE = 0 then 'Não' \" + \"when IN_BRAILLE = 1 then 'Sim' \" + \"else '' end\"))\n",
    "\n",
    "df_enem_in_ampliada_24 = df_enem_in_braille.withColumn('AMPLIADA_24', expr(\"case when IN_AMPLIADA_24 = 0 then 'Não' \" + \"when IN_AMPLIADA_24 = 1 then 'Sim' \" + \"else '' end\"))\n",
    "\n",
    "df_enem_in_ampliada_18 = df_enem_in_ampliada_24.withColumn('AMPLIADA_18', expr(\"case when IN_AMPLIADA_18 = 0 then 'Não' \" + \"when IN_AMPLIADA_18 = 1 then 'Sim' \" + \"else '' end\"))\n",
    "\n",
    "df_enem_in_ledor = df_enem_in_ampliada_18.withColumn('LEDOR', expr(\"case when IN_LEDOR = 0 then 'Não' \" + \"when IN_LEDOR = 1 then 'Sim' \" + \"else '' end\"))\n",
    "\n",
    "df_enem_in_acesso = df_enem_in_ledor.withColumn('ACESSO', expr(\"case when IN_ACESSO = 0 then 'Não' \" + \"when IN_ACESSO = 1 then 'Sim' \" + \"else '' end\"))\n",
    "\n",
    "df_enem_in_transcricao = df_enem_in_acesso.withColumn('TRANSCRICAO', expr(\"case when IN_TRANSCRICAO = 0 then 'Não' \" + \"when IN_TRANSCRICAO = 1 then 'Sim' \" + \"else '' end\"))\n",
    "\n",
    "df_enem_in_libras = df_enem_in_transcricao.withColumn('LIBRAS', expr(\"case when IN_LIBRAS = 0 then 'Não' \" + \"when IN_LIBRAS = 1 then 'Sim' \" + \"else '' end\"))\n",
    "\n",
    "df_enem_in_leitura_labial = df_enem_in_libras.withColumn('LEITURA_LABIAL', expr(\"case when IN_LEITURA_LABIAL = 0 then 'Não' \" + \"when IN_LEITURA_LABIAL = 1 then 'Sim' \" + \"else '' end\"))\n",
    "\n",
    "df_enem_in_mesa_cadeira_rodas = df_enem_in_leitura_labial.withColumn('MESA_CADEIRA_RODAS', expr(\"case when IN_MESA_CADEIRA_RODAS = 0 then 'Não' \" + \"when IN_MESA_CADEIRA_RODAS = 1 then 'Sim' \" + \"else '' end\"))\n",
    "\n",
    "df_enem_in_mesa_cadeira_separada = df_enem_in_mesa_cadeira_rodas.withColumn('MESA_CADEIRA_SEPARADA', expr(\"case when IN_MESA_CADEIRA_SEPARADA = 0 then 'Não' \" + \"when IN_MESA_CADEIRA_SEPARADA = 1 then 'Sim' \" + \"else '' end\"))\n",
    "\n",
    "df_enem_in_apoio_perna = df_enem_in_mesa_cadeira_separada.withColumn('APOIO_PERNA', expr(\"case when IN_APOIO_PERNA = 0 then 'Não' \" + \"when IN_APOIO_PERNA = 1 then 'Sim' \" + \"else '' end\"))\n",
    "\n",
    "df_enem_in_guia_interprete = df_enem_in_apoio_perna.withColumn('GUIA_INTERPRETE', expr(\"case when IN_GUIA_INTERPRETE = 0 then 'Não' \" + \"when IN_GUIA_INTERPRETE = 1 then 'Sim' \" + \"else '' end\"))\n",
    "\n",
    "df_enem_in_computador = df_enem_in_guia_interprete.withColumn('COMPUTADOR', expr(\"case when IN_COMPUTADOR = 0 then 'Não' \" + \"when IN_COMPUTADOR = 1 then 'Sim' \" + \"else '' end\"))\n",
    "\n",
    "df_enem_in_cadeira_especial = df_enem_in_computador.withColumn('CADEIRA_ESPECIAL', expr(\"case when IN_CADEIRA_ESPECIAL = 0 then 'Não' \" + \"when IN_CADEIRA_ESPECIAL = 1 then 'Sim' \" + \"else '' end\"))\n",
    "\n",
    "df_enem_in_cadeira_canhoto = df_enem_in_cadeira_especial.withColumn('CADEIRA_CANHOTO', expr(\"case when IN_CADEIRA_CANHOTO = 0 then 'Não' \" + \"when IN_CADEIRA_CANHOTO = 1 then 'Sim' \" + \"else '' end\"))\n",
    "\n",
    "df_enem_in_cadeira_acolchoada = df_enem_in_cadeira_canhoto.withColumn('CADEIRA_ACOLCHOADA', expr(\"case when IN_CADEIRA_ACOLCHOADA = 0 then 'Não' \" + \"when IN_CADEIRA_ACOLCHOADA = 1 then 'Sim' \" + \"else '' end\"))\n",
    "\n",
    "df_enem_in_prova_deitado = df_enem_in_cadeira_acolchoada.withColumn('PROVA_DEITADO', expr(\"case when IN_PROVA_DEITADO = 0 then 'Não' \" + \"when IN_PROVA_DEITADO = 1 then 'Sim' \" + \"else '' end\"))\n",
    "\n",
    "df_enem_in_mobiliario_obeso = df_enem_in_prova_deitado.withColumn('MOBILIARIO_OBESO', expr(\"case when IN_MOBILIARIO_OBESO = 0 then 'Não' \" + \"when IN_MOBILIARIO_OBESO = 1 then 'Sim' \" + \"else '' end\"))\n",
    "\n",
    "df_enem_in_lamina_overlay = df_enem_in_mobiliario_obeso.withColumn('LAMINA_OVERLAY', expr(\"case when IN_LAMINA_OVERLAY = 0 then 'Não' \" + \"when IN_LAMINA_OVERLAY = 1 then 'Sim' \" + \"else '' end\"))\n",
    "\n",
    "df_enem_in_protetor_auricular = df_enem_in_lamina_overlay.withColumn('PROTETOR_AURICULAR', expr(\"case when IN_PROTETOR_AURICULAR = 0 then 'Não' \" + \"when IN_PROTETOR_AURICULAR = 1 then 'Sim' \" + \"else '' end\"))\n",
    "\n",
    "df_enem_in_medidor_glicose = df_enem_in_protetor_auricular.withColumn('MEDIDOR_GLICOSE', expr(\"case when IN_MEDIDOR_GLICOSE = 0 then 'Não' \" + \"when IN_MEDIDOR_GLICOSE = 1 then 'Sim' \" + \"else '' end\"))\n",
    "\n",
    "df_enem_in_maquina_braile = df_enem_in_medidor_glicose.withColumn('MAQUINA_BRAILE', expr(\"case when IN_MAQUINA_BRAILE = 0 then 'Não' \" + \"when IN_MAQUINA_BRAILE = 1 then 'Sim' \" + \"else '' end\"))\n",
    "\n",
    "df_enem_in_soroban = df_enem_in_maquina_braile.withColumn('SOROBAN', expr(\"case when IN_SOROBAN = 0 then 'Não' \" + \"when IN_SOROBAN = 1 then 'Sim' \" + \"else '' end\"))\n",
    "\n",
    "df_enem_in_marca_passo = df_enem_in_soroban.withColumn('MARCA_PASSO', expr(\"case when IN_MARCA_PASSO = 0 then 'Não' \" + \"when IN_MARCA_PASSO = 1 then 'Sim' \" + \"else '' end\"))\n",
    "\n",
    "df_enem_in_sonda = df_enem_in_marca_passo.withColumn('SONDA', expr(\"case when IN_SONDA = 0 then 'Não' \" + \"when IN_SONDA = 1 then 'Sim' \" + \"else '' end\"))\n",
    "\n",
    "df_enem_in_medicamentos = df_enem_in_sonda.withColumn('MEDICAMENTOS', expr(\"case when IN_MEDICAMENTOS = 0 then 'Não' \" + \"when IN_MEDICAMENTOS = 1 then 'Sim' \" + \"else '' end\"))\n",
    "\n",
    "df_enem_in_sala_individual = df_enem_in_medicamentos.withColumn('SALA_INDIVIDUAL', expr(\"case when IN_SALA_INDIVIDUAL = 0 then 'Não' \" + \"when IN_SALA_INDIVIDUAL = 1 then 'Sim' \" + \"else '' end\"))\n",
    "\n",
    "df_enem_in_sala_especial = df_enem_in_sala_individual.withColumn('SALA_ESPECIAL', expr(\"case when IN_SALA_ESPECIAL = 0 then 'Não' \" + \"when IN_SALA_ESPECIAL = 1 then 'Sim' \" + \"else '' end\"))\n",
    "\n",
    "df_enem_in_sala_acompanhante = df_enem_in_sala_especial.withColumn('SALA_ACOMPANHANTE', expr(\"case when IN_SALA_ACOMPANHANTE = 0 then 'Não' \" + \"when IN_SALA_ACOMPANHANTE = 1 then 'Sim' \" + \"else '' end\"))\n",
    "\n",
    "df_enem_in_mobiliario_especifico = df_enem_in_sala_acompanhante.withColumn('MOBILIARIO_ESPECIFICO', expr(\"case when IN_MOBILIARIO_ESPECIFICO = 0 then 'Não' \" + \"when IN_MOBILIARIO_ESPECIFICO = 1 then 'Sim' \" + \"else '' end\"))\n",
    "\n",
    "df_enem_in_nome_social = df_enem_in_mobiliario_especifico.withColumn('NOME_SOCIAL', expr(\"case when IN_NOME_SOCIAL = 0 then 'Não' \" + \"when IN_NOME_SOCIAL = 1 then 'Sim' \" + \"else '' end\"))\n",
    "\n",
    "df_enem_tp_presenca_cn = df_enem_in_nome_social.withColumn('PRESENCA_CIENCIAS_NATUREZA', expr(\"case when TP_PRESENCA_CN = 0 then 'Faltou à prova' \" + \"when TP_PRESENCA_CN = 1 then 'Presente na prova' \" + \"when TP_PRESENCA_CN = 2 then 'Eliminado na prova' \" + \"else '' end\"))\n",
    "\n",
    "df_enem_tp_presenca_ch = df_enem_tp_presenca_cn.withColumn('PRESENCA_CIENCIAS_HUMANAS', expr(\"case when TP_PRESENCA_CH = 0 then 'Faltou à prova' \" + \"when TP_PRESENCA_CH = 1 then 'Presente na prova' \" + \"when TP_PRESENCA_CH = 2 then 'Eliminado na prova' \" + \"else '' end\"))\n",
    "\n",
    "df_enem_tp_presenca_lc = df_enem_tp_presenca_ch.withColumn('PRESENCA_LINGUAGENS_CODIGOS', expr(\"case when TP_PRESENCA_LC = 0 then 'Faltou à prova' \" + \"when TP_PRESENCA_LC = 1 then 'Presente na prova' \" + \"when TP_PRESENCA_LC = 2 then 'Eliminado na prova' \" + \"else '' end\"))\n",
    "\n",
    "df_enem_tp_presenca_mt = df_enem_tp_presenca_lc.withColumn('PRESENCA_MATEMATICA', expr(\"case when TP_PRESENCA_MT = 0 then 'Faltou à prova' \" + \"when TP_PRESENCA_MT = 1 then 'Presente na prova' \" + \"when TP_PRESENCA_MT = 2 then 'Eliminado na prova' \" + \"else '' end\"))\n",
    "\n",
    "df_enem_tp_lingua = df_enem_tp_presenca_mt.withColumn('LINGUA', expr(\"case when TP_LINGUA = 0 then 'Inglês' \" + \"when TP_LINGUA = 1 then 'Espanhol' \" + \"else '' end\"))\n",
    "\n",
    "df_enem_tp_status_redacao = df_enem_tp_lingua.withColumn('STATUS_REDACAO', expr(\"case when TP_STATUS_REDACAO = 1 then 'Sem problemas' \" + \"when TP_STATUS_REDACAO = 2 then 'Anulada' \" + \"when TP_STATUS_REDACAO = 3 then 'Cópia Texto Motivador' \" + \"when TP_STATUS_REDACAO = 4 then 'Em Branco' \" + \"when TP_STATUS_REDACAO = 6 then 'Fuga ao tema' \" + \"when TP_STATUS_REDACAO = 7 then 'Não atendimento ao tipo textual' \" + \"when TP_STATUS_REDACAO = 8 then 'Texto insuficiente' \" + \"when TP_STATUS_REDACAO = 9 then 'Parte desconectada' \" + \"else '' end\"))\n",
    "\n",
    "df_enem_q001 = df_enem_tp_status_redacao.withColumn('PAI_ESTUDOU', expr(\"case when Q001 = 'A' then 'Nunca estudou.' \" + \"when Q001 = 'B' then 'Não completou a 4ª série/5º ano do Ensino Fundamental.' \" + \"when Q001 = 'C' then 'Completou a 4ª série/5º ano, mas não completou a 8ª série/9º ano do Ensino Fundamental.' \" + \"when Q001 = 'D' then 'Completou a 8ª série/9º ano do Ensino Fundamental, mas não completou o Ensino Médio.' \" + \"when Q001 = 'E' then 'Completou o Ensino Médio, mas não completou a Faculdade.' \" + \"when Q001 = 'F' then 'Completou a Faculdade, mas não completou a Pós-graduação.' \" + \"when Q001 = 'G' then 'Completou a Pós-graduação.' \" + \"when Q001 = 'H' then 'Não sei.' \" + \"else '' end\"))\n",
    "\n",
    "df_enem_q002 = df_enem_q001.withColumn('MAE_ESTUDOU', expr(\"case when Q002 = 'A' then 'Nunca estudou.' \" + \"when Q002 = 'B' then 'Não completou a 4ª série/5º ano do Ensino Fundamental.' \" + \"when Q002 = 'C' then 'Completou a 4ª série/5º ano, mas não completou a 8ª série/9º ano do Ensino Fundamental.' \" + \"when Q002 = 'D' then 'Completou a 8ª série/9º ano do Ensino Fundamental, mas não completou o Ensino Médio.' \" + \"when Q002 = 'E' then 'Completou o Ensino Médio, mas não completou a Faculdade.' \" + \"when Q002 = 'F' then 'Completou a Faculdade, mas não completou a Pós-graduação.' \" + \"when Q002 = 'G' then 'Completou a Pós-graduação.' \" + \"when Q002 = 'H' then 'Não sei.' \" + \"else '' end\"))\n",
    "\n",
    "df_enem_q005 = df_enem_q002.withColumn('QTDE_MORADOR_RESIDENCIA', expr(\"case when Q005 = 1 then '1, pois moro sozinho(a).' \" + \"when Q005 = 2 then '2' \" + \"when Q005 = 3 then '3' \" + \"when Q005 = 4 then '4' \" + \"when Q005 = 5 then '5' \" + \"when Q005 = 6 then '6' \" + \"when Q005 = 7 then '7' \" + \"when Q005 = 8 then '8' \" + \"when Q005 = 9 then '9' \" + \"when Q005 = 10 then '10' \" + \"when Q005 = 11 then '11' \" + \"when Q005 = 12 then '12' \" + \"when Q005 = 13 then '13' \" + \"when Q005 = 14 then '14' \" + \"when Q005 = 15 then '15' \" + \"when Q005 = 16 then '16' \" + \"when Q005 = 17 then '17' \" + \"when Q005 = 18 then '18' \" + \"when Q005 = 19 then '19' \" + \"when Q005 = 20 then '20' \" + \"else '' end\"))\n",
    "\n",
    "df_enem_q006 = df_enem_q005.withColumn('RENDA_MENSAL_FAMILIAR', expr(\"case when Q006 = 'A' then 'Nenhuma Renda.' \" + \"when Q006 = 'B' then 'Até 1,0 salário mínimo.' \" + \"when Q006 = 'C' then 'Acima de 1,0 salário mínimo até 1,5.' \" + \"when Q006 = 'D' then 'Acima de 1,5 salário mínimo até 2,0 salários mínimos.' \" + \"when Q006 = 'E' then 'Acima de 2,0 salários mínimos até 2,5 salários mínimos.' \" + \"when Q006 = 'F' then 'Acima de 2,5 salários mínimos até 3,0 salários mínimos.' \" + \"when Q006 = 'G' then 'Acima de 3,0 salários mínimos até 4,0 salários mínimos.' \" + \"when Q006 = 'H' then 'Acima de 4,0 salários mínimos até 5,0 salários mínimos.' \" + \"when Q006 = 'I' then 'Acima de 5,0 salários mínimos até 6,0 salários mínimos.' \" + \"when Q006 = 'J' then 'Acima de 6,0 salários mínimos até 7,0 salários mínimos.' \" + \"when Q006 = 'K' then 'Acima de 7,0 salários mínimos até 8,0 salários mínimos.' \" + \"when Q006 = 'L' then 'Acima de 8,0 salários mínimos até 9,0 salários mínimos.' \" + \"when Q006 = 'M' then 'Acima de 9,0 salários mínimos até 10,0 salários mínimos.' \" + \"when Q006 = 'N' then 'Acima de 10,0 salários mínimos até 12,0 salários mínimos.' \" + \"when Q006 = 'O' then 'Acima de 12,0 salários mínimos até 15,0 salários mínimos.' \" + \"when Q006 = 'P' then 'Acima de 15,0 salários mínimos até 20,0 salários mínimos.' \" + \"when Q006 = 'Q' then 'Acima de 20 salários mínimos.' \" + \"else '' end\"))\n",
    "\n",
    "df_enem_q022 = df_enem_q006.withColumn('RESIDENCIA_CELULAR', expr(\"case when Q022 = 'A' then 'Não.' \" + \"when Q022 = 'B' then 'Sim, um.' \" + \"when Q022 = 'C' then 'Sim, dois.' \" + \"when Q022 = 'D' then 'Sim, três.' \" + \"when Q022 = 'E' then 'Sim, quatro ou mais.' \" + \"else '' end\"))\n",
    "\n",
    "df_enem_q024 = df_enem_q022.withColumn('RESIDENCIA_COMPUTADOR', expr(\"case when Q024 = 'A' then 'Não.' \" + \"when Q024 = 'B' then 'Sim, um.' \" + \"when Q024 = 'C' then 'Sim, dois.' \" + \"when Q024 = 'D' then 'Sim, três.' \" + \"when Q024 = 'E' then 'Sim, quatro ou mais.' \" + \"else '' end\"))\n",
    "\n",
    "df_enem_q025 = df_enem_q024.withColumn('RESIDENCIA_INTERNET', expr(\"case when Q025 = 'A' then 'Não.' \" + \"when Q025 = 'B' then 'Sim.' \" + \"else '' end\"))\n",
    "\n",
    "df_enem_deficiente = df_enem_q025.withColumn('DEFICIENTE', expr(\"case when IN_BAIXA_VISAO = 1 OR IN_CEGUEIRA = 1 OR IN_SURDEZ = 1 OR IN_DEFICIENCIA_AUDITIVA = 1 OR IN_SURDO_CEGUEIRA = 1 OR IN_DEFICIENCIA_FISICA = 1 OR IN_DEFICIENCIA_MENTAL = 1 OR IN_DEFICIT_ATENCAO = 1 OR IN_DISLEXIA = 1 OR IN_DISCALCULIA = 1 OR IN_AUTISMO = 1 OR IN_VISAO_MONOCULAR = 1 OR IN_OUTRA_DEF = 1 then 'Sim.' \" + \"else 'Não.' end\"))\n",
    "\n",
    "df_enem_aprovacao = df_enem_deficiente.withColumn('APROVADO', expr(\"case when ((NU_NOTA_CN + NU_NOTA_CH + NU_NOTA_LC + NU_NOTA_MT + NU_NOTA_REDACAO) / 5 ) >= 450 then 'Sim.' \" + \"else 'Não.' end\"))\n",
    "\n",
    "df_enem_ausente = df_enem_aprovacao.withColumn('AUSENTE', expr(\"case when TP_PRESENCA_CN = 0 OR TP_PRESENCA_CH = 0 OR TP_PRESENCA_LC = 0 OR TP_PRESENCA_MT = 0 then 'Sim.' \" + \"else 'Não.' end\"))\n",
    "\n",
    "df_enem_analise = df_enem_ausente\n",
    "\n",
    "print(f'Dataframe df_enem_analise criado com sucesso - {datetime.now()}.')\n"
   ]
  },
  {
   "cell_type": "code",
   "execution_count": 10,
   "metadata": {
    "tags": []
   },
   "outputs": [
    {
     "output_type": "stream",
     "name": "stdout",
     "text": "Apresentação do processo de criação de uma tabela temporária para utilização do SQL - 2020-09-17 19:21:39.385646.\nCriação da tabela temporaria com sucesso - 2020-09-17 19:21:39.654925.\n"
    }
   ],
   "source": [
    "# Criar tabela temporaria e usar sql para consulta\n",
    "\n",
    "print(f'Apresentação do processo de criação de uma tabela temporária para utilização do SQL - {datetime.now()}.')\n",
    "\n",
    "df_enem_analise.createOrReplaceTempView('enemtb')\n",
    "\n",
    "print(f'Criação da tabela temporaria com sucesso - {datetime.now()}.')"
   ]
  },
  {
   "cell_type": "code",
   "execution_count": 11,
   "metadata": {
    "tags": []
   },
   "outputs": [
    {
     "output_type": "stream",
     "name": "stdout",
     "text": "Quantidade de inscriçoes Aprovados por Formação Acadêmica Pai.\n\nConsulta inciada -  2020-09-17 19:21:39.681853\n+---------------------------------------------------------------------------------------+--------------+----------+\n|PAI_ESTUDOU                                                                            |QTDE_INSCRICAO|PERCENTUAL|\n+---------------------------------------------------------------------------------------+--------------+----------+\n|Completou o Ensino Médio, mas não completou a Faculdade.                               |5256240       |27.63     |\n|Não completou a 4ª série/5º ano do Ensino Fundamental.                                 |3710606       |19.51     |\n|Completou a 4ª série/5º ano, mas não completou a 8ª série/9º ano do Ensino Fundamental.|2761938       |14.52     |\n|Completou a 8ª série/9º ano do Ensino Fundamental, mas não completou o Ensino Médio.   |2369030       |12.45     |\n|Completou a Faculdade, mas não completou a Pós-graduação.                              |1612274       |8.48      |\n|Não sei.                                                                               |1542666       |8.11      |\n|Completou a Pós-graduação.                                                             |960131        |5.05      |\n|Nunca estudou.                                                                         |809486        |4.26      |\n|                                                                                       |524           |0.0       |\n+---------------------------------------------------------------------------------------+--------------+----------+\n\nConsulta realizada com sucesso - 2020-09-17 19:24:50.487473\n"
    }
   ],
   "source": [
    "print('Quantidade de inscriçoes Aprovados por Formação Acadêmica Pai.')\n",
    "print('')\n",
    "print(f'Consulta inciada -  {datetime.now()}')\n",
    "\n",
    "# Apresentando os valores da consulta SQL no Spark\n",
    "\n",
    "sqlContext.sql('SELECT PAI_ESTUDOU, COUNT(*) AS QTDE_INSCRICAO, ROUND((COUNT(*)/(SELECT COUNT(*)/100 FROM enemtb WHERE APROVADO = \"Sim.\")),2) AS PERCENTUAL FROM enemtb WHERE APROVADO = \"Sim.\" GROUP BY PAI_ESTUDOU ORDER BY COUNT(*) DESC').show(truncate=False)\n",
    "\n",
    "print(f'Consulta realizada com sucesso - {datetime.now()}')"
   ]
  },
  {
   "cell_type": "code",
   "execution_count": 12,
   "metadata": {
    "tags": []
   },
   "outputs": [
    {
     "output_type": "stream",
     "name": "stdout",
     "text": "Quantidade de inscriçoes Aprovados por Formação Acadêmica Mãe.\n\nConsulta inciada -  2020-09-17 19:24:50.526369\n+---------------------------------------------------------------------------------------+--------------+----------+\n|MAE_ESTUDOU                                                                            |QTDE_INSCRICAO|PERCENTUAL|\n+---------------------------------------------------------------------------------------+--------------+----------+\n|Completou o Ensino Médio, mas não completou a Faculdade.                               |6281284       |33.02     |\n|Não completou a 4ª série/5º ano do Ensino Fundamental.                                 |2800271       |14.72     |\n|Completou a 8ª série/9º ano do Ensino Fundamental, mas não completou o Ensino Médio.   |2568866       |13.5      |\n|Completou a 4ª série/5º ano, mas não completou a 8ª série/9º ano do Ensino Fundamental.|2567491       |13.5      |\n|Completou a Faculdade, mas não completou a Pós-graduação.                              |2095044       |11.01     |\n|Completou a Pós-graduação.                                                             |1618450       |8.51      |\n|Nunca estudou.                                                                         |560664        |2.95      |\n|Não sei.                                                                               |530300        |2.79      |\n|                                                                                       |525           |0.0       |\n+---------------------------------------------------------------------------------------+--------------+----------+\n\nConsulta realizada com sucesso - 2020-09-17 19:28:01.947492\n"
    }
   ],
   "source": [
    "print('Quantidade de inscriçoes Aprovados por Formação Acadêmica Mãe.')\n",
    "print('')\n",
    "print(f'Consulta inciada -  {datetime.now()}')\n",
    "\n",
    "# Apresentando os valores da consulta SQL no Spark\n",
    "\n",
    "sqlContext.sql('SELECT MAE_ESTUDOU, COUNT(*) AS QTDE_INSCRICAO, ROUND((COUNT(*)/(SELECT COUNT(*)/100 FROM enemtb WHERE APROVADO = \"Sim.\")),2) AS PERCENTUAL FROM enemtb WHERE APROVADO = \"Sim.\" GROUP BY MAE_ESTUDOU ORDER BY COUNT(*) DESC').show(truncate=False)\n",
    "\n",
    "print(f'Consulta realizada com sucesso - {datetime.now()}')"
   ]
  },
  {
   "cell_type": "code",
   "execution_count": 13,
   "metadata": {
    "tags": []
   },
   "outputs": [
    {
     "output_type": "stream",
     "name": "stdout",
     "text": "Quantidade de inscriçoes Aprovados por Quantidade Morador na residência.\n\nConsulta inciada -  2020-09-17 19:28:01.970498\n+------------------------+--------------+----------+\n|QTDE_MORADOR_RESIDENCIA |QTDE_INSCRICAO|PERCENTUAL|\n+------------------------+--------------+----------+\n|4                       |6380494       |33.54     |\n|3                       |4763588       |25.04     |\n|5                       |3248989       |17.08     |\n|2                       |2155686       |11.33     |\n|6                       |1181923       |6.21      |\n|7                       |471343        |2.48      |\n|1, pois moro sozinho(a).|440567        |2.32      |\n|8                       |203601        |1.07      |\n|9                       |80166         |0.42      |\n|10                      |49445         |0.26      |\n|11                      |17213         |0.09      |\n|12                      |11035         |0.06      |\n|13                      |5171          |0.03      |\n|20                      |3160          |0.02      |\n|14                      |2912          |0.02      |\n|15                      |2466          |0.01      |\n|16                      |1324          |0.01      |\n|18                      |1123          |0.01      |\n|17                      |1097          |0.01      |\n|19                      |1058          |0.01      |\n|                        |534           |0.0       |\n+------------------------+--------------+----------+\n\nConsulta realizada com sucesso - 2020-09-17 19:31:16.114337\n"
    }
   ],
   "source": [
    "print('Quantidade de inscriçoes Aprovados por Quantidade Morador na residência.')\n",
    "print('')\n",
    "print(f'Consulta inciada -  {datetime.now()}')\n",
    "\n",
    "# Apresentando os valores da consulta SQL no Spark\n",
    "\n",
    "sqlContext.sql('SELECT QTDE_MORADOR_RESIDENCIA, COUNT(*) AS QTDE_INSCRICAO, ROUND((COUNT(*)/(SELECT COUNT(*)/100 FROM enemtb WHERE APROVADO = \"Sim.\")),2) AS PERCENTUAL FROM enemtb WHERE APROVADO = \"Sim.\" GROUP BY QTDE_MORADOR_RESIDENCIA ORDER BY COUNT(*) DESC').show(30, truncate=False)\n",
    "\n",
    "print(f'Consulta realizada com sucesso - {datetime.now()}')"
   ]
  },
  {
   "cell_type": "code",
   "execution_count": 14,
   "metadata": {
    "tags": []
   },
   "outputs": [
    {
     "output_type": "stream",
     "name": "stdout",
     "text": "Quantidade de inscriçoes Aprovados por Renda Mensal Familiar.\n\nConsulta inciada -  2020-09-17 19:31:16.149757\n+---------------------------------------------------------+--------------+----------+\n|RENDA_MENSAL_FAMILIAR                                    |QTDE_INSCRICAO|PERCENTUAL|\n+---------------------------------------------------------+--------------+----------+\n|Acima de 1,0 salário mínimo até 1,5.                     |4483403       |23.57     |\n|Até 1,0 salário mínimo.                                  |3914827       |20.58     |\n|Acima de 1,5 salário mínimo até 2,0 salários mínimos.    |2198956       |11.56     |\n|Acima de 2,0 salários mínimos até 2,5 salários mínimos.  |1768191       |9.3       |\n|Acima de 3,0 salários mínimos até 4,0 salários mínimos.  |1365613       |7.18      |\n|Acima de 2,5 salários mínimos até 3,0 salários mínimos.  |1192324       |6.27      |\n|Acima de 4,0 salários mínimos até 5,0 salários mínimos.  |878202        |4.62      |\n|Acima de 5,0 salários mínimos até 6,0 salários mínimos.  |663447        |3.49      |\n|Nenhuma Renda.                                           |505363        |2.66      |\n|Acima de 6,0 salários mínimos até 7,0 salários mínimos.  |445842        |2.34      |\n|Acima de 7,0 salários mínimos até 8,0 salários mínimos.  |289458        |1.52      |\n|Acima de 10,0 salários mínimos até 12,0 salários mínimos.|273128        |1.44      |\n|Acima de 20 salários mínimos.                            |256750        |1.35      |\n|Acima de 12,0 salários mínimos até 15,0 salários mínimos.|219044        |1.15      |\n|Acima de 8,0 salários mínimos até 9,0 salários mínimos.  |200173        |1.05      |\n|Acima de 15,0 salários mínimos até 20,0 salários mínimos.|189827        |1.0       |\n|Acima de 9,0 salários mínimos até 10,0 salários mínimos. |177812        |0.93      |\n|                                                         |535           |0.0       |\n+---------------------------------------------------------+--------------+----------+\n\nConsulta realizada com sucesso - 2020-09-17 19:34:30.655669\n"
    }
   ],
   "source": [
    "print('Quantidade de inscriçoes Aprovados por Renda Mensal Familiar.')\n",
    "print('')\n",
    "print(f'Consulta inciada -  {datetime.now()}')\n",
    "\n",
    "# Apresentando os valores da consulta SQL no Spark\n",
    "\n",
    "sqlContext.sql('SELECT RENDA_MENSAL_FAMILIAR, COUNT(*) AS QTDE_INSCRICAO, ROUND((COUNT(*)/(SELECT COUNT(*)/100 FROM enemtb WHERE APROVADO = \"Sim.\")),2) AS PERCENTUAL FROM enemtb WHERE APROVADO = \"Sim.\" GROUP BY RENDA_MENSAL_FAMILIAR ORDER BY COUNT(*) DESC').show(truncate=False)\n",
    "\n",
    "print(f'Consulta realizada com sucesso - {datetime.now()}')"
   ]
  },
  {
   "cell_type": "code",
   "execution_count": 15,
   "metadata": {
    "tags": []
   },
   "outputs": [
    {
     "output_type": "stream",
     "name": "stdout",
     "text": "Quantidade de inscriçoes Aprovados por Quantidade Celular Residência.\n\nConsulta inciada -  2020-09-17 19:34:30.770363\n+--------------------+--------------+----------+\n|RESIDENCIA_CELULAR  |QTDE_INSCRICAO|PERCENTUAL|\n+--------------------+--------------+----------+\n|Sim, dois.          |5869656       |30.86     |\n|Sim, três.          |5397012       |28.37     |\n|Sim, quatro ou mais.|3961758       |20.83     |\n|Sim, um.            |3475251       |18.27     |\n|Não.                |318641        |1.68      |\n|                    |577           |0.0       |\n+--------------------+--------------+----------+\n\nConsulta realizada com sucesso - 2020-09-17 19:37:53.564323\n"
    }
   ],
   "source": [
    "print('Quantidade de inscriçoes Aprovados por Quantidade Celular Residência.')\n",
    "print('')\n",
    "print(f'Consulta inciada -  {datetime.now()}')\n",
    "\n",
    "# Apresentando os valores da consulta SQL no Spark\n",
    "\n",
    "sqlContext.sql('SELECT RESIDENCIA_CELULAR, COUNT(*) AS QTDE_INSCRICAO, ROUND((COUNT(*)/(SELECT COUNT(*)/100 FROM enemtb WHERE APROVADO = \"Sim.\")),2) AS PERCENTUAL FROM enemtb WHERE APROVADO = \"Sim.\" GROUP BY RESIDENCIA_CELULAR ORDER BY COUNT(*) DESC').show(truncate=False)\n",
    "\n",
    "print(f'Consulta realizada com sucesso - {datetime.now()}')"
   ]
  },
  {
   "cell_type": "code",
   "execution_count": 16,
   "metadata": {
    "tags": []
   },
   "outputs": [
    {
     "output_type": "stream",
     "name": "stdout",
     "text": "Quantidade de inscriçoes Aprovados por Quantidade Computador Residência.\n\nConsulta inciada -  2020-09-17 19:37:53.631656\n+---------------------+--------------+----------+\n|RESIDENCIA_COMPUTADOR|QTDE_INSCRICAO|PERCENTUAL|\n+---------------------+--------------+----------+\n|Sim, um.             |10122315      |53.21     |\n|Não.                 |6112612       |32.13     |\n|Sim, dois.           |1928424       |10.14     |\n|Sim, três.           |596551        |3.14      |\n|Sim, quatro ou mais. |262411        |1.38      |\n|                     |582           |0.0       |\n+---------------------+--------------+----------+\n\nConsulta realizada com sucesso - 2020-09-17 19:41:11.230641\n"
    }
   ],
   "source": [
    "print('Quantidade de inscriçoes Aprovados por Quantidade Computador Residência.')\n",
    "print('')\n",
    "print(f'Consulta inciada -  {datetime.now()}')\n",
    "\n",
    "# Apresentando os valores da consulta SQL no Spark\n",
    "\n",
    "sqlContext.sql('SELECT RESIDENCIA_COMPUTADOR, COUNT(*) AS QTDE_INSCRICAO, ROUND((COUNT(*)/(SELECT COUNT(*)/100 FROM enemtb WHERE APROVADO = \"Sim.\")),2) AS PERCENTUAL FROM enemtb WHERE APROVADO = \"Sim.\" GROUP BY RESIDENCIA_COMPUTADOR ORDER BY COUNT(*) DESC').show(truncate=False)\n",
    "\n",
    "print(f'Consulta realizada com sucesso - {datetime.now()}')"
   ]
  },
  {
   "cell_type": "code",
   "execution_count": 17,
   "metadata": {
    "tags": []
   },
   "outputs": [
    {
     "output_type": "stream",
     "name": "stdout",
     "text": "Quantidade de inscriçoes Aprovados por Ano.\n\nConsulta inciada -  2020-09-17 19:41:11.256570\n+----+--------------+----------+\n|ANO |QTDE_INSCRICAO|PERCENTUAL|\n+----+--------------+----------+\n|2016|4682664       |24.62     |\n|2015|4487442       |23.59     |\n|2017|3630049       |19.08     |\n|2018|3221456       |16.93     |\n|2019|3001284       |15.78     |\n+----+--------------+----------+\n\nConsulta realizada com sucesso - 2020-09-17 19:44:34.242686\n"
    }
   ],
   "source": [
    "print('Quantidade de inscriçoes Aprovados por Ano.')\n",
    "print('')\n",
    "print(f'Consulta inciada -  {datetime.now()}')\n",
    "\n",
    "# Apresentando os valores da consulta SQL no Spark\n",
    "\n",
    "sqlContext.sql('SELECT NU_ANO as ANO, COUNT(*) AS QTDE_INSCRICAO, ROUND((COUNT(*)/(SELECT COUNT(*)/100 FROM enemtb WHERE APROVADO = \"Sim.\")),2) AS PERCENTUAL FROM enemtb WHERE APROVADO = \"Sim.\" GROUP BY NU_ANO ORDER BY COUNT(*) DESC').show(truncate=False)\n",
    "\n",
    "print(f'Consulta realizada com sucesso - {datetime.now()}')"
   ]
  },
  {
   "cell_type": "code",
   "execution_count": 18,
   "metadata": {
    "tags": []
   },
   "outputs": [
    {
     "output_type": "stream",
     "name": "stdout",
     "text": "Quantidade de inscriçoes Aprovados por Estado.\n\nConsulta inciada -  2020-09-17 19:44:34.268146\n+----------------+--------------+----------+\n|SG_UF_RESIDENCIA|QTDE_INSCRICAO|PERCENTUAL|\n+----------------+--------------+----------+\n|SP              |3297775       |17.34     |\n|MG              |2196617       |11.55     |\n|RJ              |1357963       |7.14      |\n|BA              |1344469       |7.07      |\n|CE              |1066861       |5.61      |\n|PE              |988380        |5.2       |\n|RS              |947305        |4.98      |\n|PA              |918169        |4.83      |\n|PR              |883816        |4.65      |\n|MA              |675525        |3.55      |\n|GO              |627447        |3.3       |\n|PB              |538294        |2.83      |\n|RN              |452632        |2.38      |\n|SC              |442994        |2.33      |\n|PI              |400646        |2.11      |\n|ES              |396987        |2.09      |\n|DF              |370832        |1.95      |\n|AM              |332992        |1.75      |\n|AL              |318653        |1.68      |\n|MT              |304523        |1.6       |\n|SE              |261880        |1.38      |\n|MS              |254732        |1.34      |\n|RO              |198478        |1.04      |\n|TO              |158127        |0.83      |\n|AP              |122944        |0.65      |\n|AC              |120090        |0.63      |\n|RR              |43764         |0.23      |\n+----------------+--------------+----------+\n\nConsulta realizada com sucesso - 2020-09-17 19:47:59.625708\n"
    }
   ],
   "source": [
    "print('Quantidade de inscriçoes Aprovados por Estado.')\n",
    "print('')\n",
    "print(f'Consulta inciada -  {datetime.now()}')\n",
    "\n",
    "# Apresentando os valores da consulta SQL no Spark\n",
    "\n",
    "sqlContext.sql('SELECT SG_UF_RESIDENCIA, COUNT(*) AS QTDE_INSCRICAO, ROUND((COUNT(*)/(SELECT COUNT(*)/100 FROM enemtb WHERE APROVADO = \"Sim.\")),2) AS PERCENTUAL FROM enemtb WHERE APROVADO = \"Sim.\" GROUP BY SG_UF_RESIDENCIA ORDER BY COUNT(*) DESC').show(30, truncate=False)\n",
    "\n",
    "print(f'Consulta realizada com sucesso - {datetime.now()}')"
   ]
  },
  {
   "cell_type": "code",
   "execution_count": 19,
   "metadata": {
    "tags": []
   },
   "outputs": [
    {
     "output_type": "stream",
     "name": "stdout",
     "text": "Quantidade de inscriçoes Aprovados por Sexo.\n\nConsulta inciada -  2020-09-17 19:47:59.656625\n+---------+--------------+----------+\n|SEXO     |QTDE_INSCRICAO|PERCENTUAL|\n+---------+--------------+----------+\n|Feminino |10998474      |57.82     |\n|Masculino|8024421       |42.18     |\n+---------+--------------+----------+\n\nConsulta realizada com sucesso - 2020-09-17 19:51:02.749490\n"
    }
   ],
   "source": [
    "print('Quantidade de inscriçoes Aprovados por Sexo.')\n",
    "print('')\n",
    "print(f'Consulta inciada -  {datetime.now()}')\n",
    "\n",
    "# Apresentando os valores da consulta SQL no Spark\n",
    "\n",
    "sqlContext.sql('SELECT SEXO, COUNT(*) AS QTDE_INSCRICAO, ROUND((COUNT(*)/(SELECT COUNT(*)/100 FROM enemtb WHERE APROVADO = \"Sim.\")),2) AS PERCENTUAL FROM enemtb WHERE APROVADO = \"Sim.\" GROUP BY SEXO ORDER BY COUNT(*) DESC').show(30, truncate=False)\n",
    "\n",
    "print(f'Consulta realizada com sucesso - {datetime.now()}')"
   ]
  },
  {
   "cell_type": "code",
   "execution_count": 20,
   "metadata": {
    "tags": []
   },
   "outputs": [
    {
     "output_type": "stream",
     "name": "stdout",
     "text": "Quantidade de inscriçoes Aprovados por Estado Civil.\n\nConsulta inciada -  2020-09-17 19:51:02.771797\n+---------------------------------------+--------------+----------+\n|ESTADO_CIVIL                           |QTDE_INSCRICAO|PERCENTUAL|\n+---------------------------------------+--------------+----------+\n|Solteiro(a)                            |16767436      |88.14     |\n|Casado(a)/Mora com companheiro(a)      |1384711       |7.28      |\n|                                       |638329        |3.36      |\n|Divorciado(a)/Desquitado(a)/Separado(a)|212653        |1.12      |\n|Viúvo(a)                               |19766         |0.1       |\n+---------------------------------------+--------------+----------+\n\nConsulta realizada com sucesso - 2020-09-17 19:54:10.283119\n"
    }
   ],
   "source": [
    "print('Quantidade de inscriçoes Aprovados por Estado Civil.')\n",
    "print('')\n",
    "print(f'Consulta inciada -  {datetime.now()}')\n",
    "\n",
    "# Apresentando os valores da consulta SQL no Spark\n",
    "\n",
    "sqlContext.sql('SELECT ESTADO_CIVIL, COUNT(*) AS QTDE_INSCRICAO, ROUND((COUNT(*)/(SELECT COUNT(*)/100 FROM enemtb WHERE APROVADO = \"Sim.\")),2) AS PERCENTUAL FROM enemtb WHERE APROVADO = \"Sim.\" GROUP BY ESTADO_CIVIL ORDER BY COUNT(*) DESC').show(30, truncate=False)\n",
    "\n",
    "print(f'Consulta realizada com sucesso - {datetime.now()}')"
   ]
  },
  {
   "cell_type": "code",
   "execution_count": 21,
   "metadata": {
    "tags": []
   },
   "outputs": [
    {
     "output_type": "stream",
     "name": "stdout",
     "text": "Quantidade de inscriçoes Aprovados por Raça.\n\nConsulta inciada -  2020-09-17 19:54:10.310493\n+-------------+--------------+----------+\n|RACA         |QTDE_INSCRICAO|PERCENTUAL|\n+-------------+--------------+----------+\n|Parda        |8316981       |43.72     |\n|Branca       |7531587       |39.59     |\n|Preta        |2293417       |12.06     |\n|Amarela      |434605        |2.28      |\n|Não declarado|347736        |1.83      |\n|Indígena     |88962         |0.47      |\n|             |9607          |0.05      |\n+-------------+--------------+----------+\n\nConsulta realizada com sucesso - 2020-09-17 19:57:15.974224\n"
    }
   ],
   "source": [
    "print('Quantidade de inscriçoes Aprovados por Raça.')\n",
    "print('')\n",
    "print(f'Consulta inciada -  {datetime.now()}')\n",
    "\n",
    "# Apresentando os valores da consulta SQL no Spark\n",
    "\n",
    "sqlContext.sql('SELECT RACA, COUNT(*) AS QTDE_INSCRICAO, ROUND((COUNT(*)/(SELECT COUNT(*)/100 FROM enemtb WHERE APROVADO = \"Sim.\")),2) AS PERCENTUAL FROM enemtb WHERE APROVADO = \"Sim.\" GROUP BY RACA ORDER BY COUNT(*) DESC').show(30, truncate=False)\n",
    "\n",
    "print(f'Consulta realizada com sucesso - {datetime.now()}')"
   ]
  }
 ]
}