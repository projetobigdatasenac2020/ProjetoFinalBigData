{
 "metadata": {
  "language_info": {
   "codemirror_mode": {
    "name": "ipython",
    "version": 3
   },
   "file_extension": ".py",
   "mimetype": "text/x-python",
   "name": "python",
   "nbconvert_exporter": "python",
   "pygments_lexer": "ipython3",
   "version": "3.8.5-final"
  },
  "orig_nbformat": 2,
  "kernelspec": {
   "name": "python_defaultSpec_1600612920086",
   "display_name": "Python 3.8.5 64-bit"
  }
 },
 "nbformat": 4,
 "nbformat_minor": 2,
 "cells": [
  {
   "cell_type": "code",
   "execution_count": 1,
   "metadata": {
    "tags": []
   },
   "outputs": [
    {
     "output_type": "stream",
     "name": "stdout",
     "text": "Ativação das bibliotecas iniciada - 2020-09-20 18:21:12.436209.\nAtivação das bibliotecas com sucesso - 2020-09-20 18:21:16.288602.\n"
    }
   ],
   "source": [
    "#Importação das bibliotecas utilizadas para manipulação dos dados das paginas Web.\n",
    "\n",
    "from datetime import datetime\n",
    "\n",
    "print(f'Ativação das bibliotecas iniciada - {datetime.now()}.')\n",
    "\n",
    "from bs4 import BeautifulSoup\n",
    "import urllib.request\n",
    "import shutil\n",
    "import os\n",
    "import pandas as pd\n",
    "import pyspark\n",
    "import zipfile\n",
    "import sqlalchemy\n",
    "import pymysql\n",
    "import json\n",
    "import numpy as np\n",
    "import matplotlib.pyplot as plt\n",
    "import seaborn as sns\n",
    "from pyspark import SparkContext\n",
    "from pyspark.sql import SQLContext\n",
    "from pyspark.sql.functions import * \n",
    "from pyspark.sql import DataFrameWriter\n",
    "from pyspark.sql.functions import explode\n",
    "from pyspark.sql import *\n",
    "from pyspark.sql.functions import col, asc\n",
    "from pyspark.ml.feature import VectorAssembler\n",
    "from pyspark.sql.types import IntegerType\n",
    "from pyspark.ml.feature import StringIndexer\n",
    "from pyspark.ml.classification import DecisionTreeClassifier, RandomForestClassifier\n",
    "from pyspark.ml.evaluation import BinaryClassificationEvaluator\n",
    "from pyspark.ml import Pipeline\n",
    "\n",
    "print(f'Ativação das bibliotecas com sucesso - {datetime.now()}.')"
   ]
  },
  {
   "cell_type": "code",
   "execution_count": 2,
   "metadata": {
    "tags": []
   },
   "outputs": [
    {
     "output_type": "stream",
     "name": "stdout",
     "text": "Intanciando o Spark - 2020-09-20 18:21:16.320566.\nSpark intanciado com sucesso - 2020-09-20 18:21:29.717440.\n"
    }
   ],
   "source": [
    "# Instanciar Spark\n",
    "\n",
    "print(f'Intanciando o Spark - {datetime.now()}.')\n",
    "\n",
    "sc = SparkContext()\n",
    "sqlContext = SQLContext(sc)\n",
    "\n",
    "print(f'Spark intanciado com sucesso - {datetime.now()}.')"
   ]
  },
  {
   "cell_type": "code",
   "execution_count": 3,
   "metadata": {
    "tags": []
   },
   "outputs": [
    {
     "output_type": "stream",
     "name": "stdout",
     "text": "Criação Dataframes Iniciado - 2020-09-20 18:21:29.765250.\n\n\nCriação Dataframe do Enem 2015 iniciada - 2020-09-20 18:21:29.766247.\nDataframe df_enem2015_completo criado com sucesso - 2020-09-20 18:22:57.372697.\n\nCriação Dataframe do Enem 2016 iniciada- 2020-09-20 18:22:57.373696.\nDataframe df_enem2016_completo criado com sucesso - 2020-09-20 18:24:21.660898.\n\nCriação Dataframe do Enem 2017 iniciada - 2020-09-20 18:24:21.661970.\nDataframe df_enem2017_completo criado com sucesso - 2020-09-20 18:25:19.472850.\n\nCriação Dataframe do Enem 2018 iniciada - 2020-09-20 18:25:19.474893.\nDataframe df_enem2018_completo criado com sucesso - 2020-09-20 18:26:06.883596.\n\nCriação Dataframe do Enem 2019 iniciada - 2020-09-20 18:26:06.884592.\nDataframe df_enem2019_completo criado com sucesso - 2020-09-20 18:26:50.700866.\n\n\nDataframes criados com sucesso - 2020-09-20 18:26:50.702860.\n"
    }
   ],
   "source": [
    "# No Processo abaixo, importaremos para o dataframe, apenas para conhecer os dados e verificar o separador do microdado.\n",
    "\n",
    "print(f'Criação Dataframes Iniciado - {datetime.now()}.')\n",
    "print('')\n",
    "\n",
    "print('')\n",
    "print(f'Criação Dataframe do Enem 2015 iniciada - {datetime.now()}.')\n",
    "df_enem2015_completo = sqlContext.read.format('com.databricks.spark.csv').options(header='true', sep=\",\", inferschema='true', encoding = 'ISO-8859-1', ).load(r'C:\\Users\\Ricardo\\Downloads\\MicrodadosEnem\\MICRODADOS_ENEM_2015.csv')\n",
    "print(f'Dataframe df_enem2015_completo criado com sucesso - {datetime.now()}.')\n",
    "print('')\n",
    "\n",
    "print(f'Criação Dataframe do Enem 2016 iniciada- {datetime.now()}.')\n",
    "df_enem2016_completo = sqlContext.read.format('com.databricks.spark.csv').options(header='true', sep=\";\", inferschema='true', encoding = 'ISO-8859-1').load(r'C:\\Users\\Ricardo\\Downloads\\MicrodadosEnem\\microdados_enem_2016.csv')\n",
    "print(f'Dataframe df_enem2016_completo criado com sucesso - {datetime.now()}.')\n",
    "print('')\n",
    "\n",
    "print(f'Criação Dataframe do Enem 2017 iniciada - {datetime.now()}.')\n",
    "df_enem2017_completo = sqlContext.read.format('com.databricks.spark.csv').options(header='true', sep=\";\", inferschema='true', encoding = 'ISO-8859-1').load(r'C:\\Users\\Ricardo\\Downloads\\MicrodadosEnem\\MICRODADOS_ENEM_2017.csv')\n",
    "print(f'Dataframe df_enem2017_completo criado com sucesso - {datetime.now()}.')\n",
    "print('')\n",
    "\n",
    "print(f'Criação Dataframe do Enem 2018 iniciada - {datetime.now()}.')\n",
    "df_enem2018_completo = sqlContext.read.format('com.databricks.spark.csv').options(header='true', sep=\";\", inferschema='true', encoding = 'ISO-8859-1').load(r'C:\\Users\\Ricardo\\Downloads\\MicrodadosEnem\\MICRODADOS_ENEM_2018.csv')\n",
    "print(f'Dataframe df_enem2018_completo criado com sucesso - {datetime.now()}.')\n",
    "print('')\n",
    "\n",
    "print(f'Criação Dataframe do Enem 2019 iniciada - {datetime.now()}.')\n",
    "df_enem2019_completo = sqlContext.read.format('com.databricks.spark.csv').options(header='true', sep=\";\", inferschema='true', encoding = 'ISO-8859-1').load(r'C:\\Users\\Ricardo\\Downloads\\MicrodadosEnem\\MICRODADOS_ENEM_2019.csv')\n",
    "print(f'Dataframe df_enem2019_completo criado com sucesso - {datetime.now()}.')\n",
    "print('')\n",
    "\n",
    "print('')\n",
    "print(f'Dataframes criados com sucesso - {datetime.now()}.')"
   ]
  },
  {
   "cell_type": "code",
   "execution_count": 4,
   "metadata": {
    "tags": []
   },
   "outputs": [
    {
     "output_type": "stream",
     "name": "stdout",
     "text": "Criação da variável columns e seleção das colunas para realização das analises exploratórias - 2020-09-20 18:26:50.741358.\n"
    }
   ],
   "source": [
    "# Criação e seleção das colunas para realização das analises exploratórias\n",
    "\n",
    "print(f'Criação da variável columns e seleção das colunas para realização das analises exploratórias - {datetime.now()}.')\n",
    "\n",
    "columns = ['NU_INSCRICAO', 'NU_ANO', 'NO_MUNICIPIO_RESIDENCIA', 'CO_UF_RESIDENCIA', 'SG_UF_RESIDENCIA', 'NU_IDADE', 'TP_SEXO', 'TP_ESTADO_CIVIL', 'TP_COR_RACA', 'TP_NACIONALIDADE', 'NO_MUNICIPIO_NASCIMENTO', 'CO_UF_NASCIMENTO', 'SG_UF_NASCIMENTO', 'TP_ST_CONCLUSAO', 'TP_ESCOLA', 'TP_ENSINO', 'IN_TREINEIRO', 'CO_UF_ESC', 'SG_UF_ESC', 'TP_DEPENDENCIA_ADM_ESC', 'TP_LOCALIZACAO_ESC', 'IN_BAIXA_VISAO', 'IN_CEGUEIRA', 'IN_SURDEZ', 'IN_DEFICIENCIA_AUDITIVA', 'IN_SURDO_CEGUEIRA', 'IN_DEFICIENCIA_FISICA', 'IN_DEFICIENCIA_MENTAL', 'IN_DEFICIT_ATENCAO', 'IN_DISLEXIA', 'IN_DISCALCULIA', 'IN_AUTISMO', 'IN_VISAO_MONOCULAR', 'IN_OUTRA_DEF', 'IN_GESTANTE', 'IN_LACTANTE', 'IN_IDOSO', 'IN_ESTUDA_CLASSE_HOSPITALAR', 'IN_SEM_RECURSO', 'IN_BRAILLE', 'IN_AMPLIADA_24', 'IN_AMPLIADA_18', 'IN_LEDOR', 'IN_ACESSO', 'IN_TRANSCRICAO', 'IN_LIBRAS', 'IN_LEITURA_LABIAL', 'IN_MESA_CADEIRA_RODAS', 'IN_MESA_CADEIRA_SEPARADA', 'IN_APOIO_PERNA', 'IN_GUIA_INTERPRETE', 'IN_COMPUTADOR', 'IN_CADEIRA_ESPECIAL', 'IN_CADEIRA_CANHOTO', 'IN_CADEIRA_ACOLCHOADA', 'IN_PROVA_DEITADO', 'IN_MOBILIARIO_OBESO', 'IN_LAMINA_OVERLAY', 'IN_PROTETOR_AURICULAR', 'IN_MEDIDOR_GLICOSE', 'IN_MAQUINA_BRAILE', 'IN_SOROBAN', 'IN_MARCA_PASSO', 'IN_SONDA', 'IN_MEDICAMENTOS', 'IN_SALA_INDIVIDUAL', 'IN_SALA_ESPECIAL', 'IN_SALA_ACOMPANHANTE', 'IN_MOBILIARIO_ESPECIFICO', 'IN_NOME_SOCIAL', 'NO_MUNICIPIO_PROVA', 'CO_UF_PROVA', 'SG_UF_PROVA', 'TP_PRESENCA_CN', 'TP_PRESENCA_CH', 'TP_PRESENCA_LC', 'TP_PRESENCA_MT', 'NU_NOTA_CN', 'NU_NOTA_CH', 'NU_NOTA_LC', 'NU_NOTA_MT', 'TP_LINGUA', 'TP_STATUS_REDACAO', 'NU_NOTA_COMP1', 'NU_NOTA_COMP2', 'NU_NOTA_COMP3', 'NU_NOTA_COMP4', 'NU_NOTA_COMP5', 'NU_NOTA_REDACAO', 'Q001', 'Q002', 'Q005', 'Q006', 'Q022', 'Q024', 'Q025']"
   ]
  },
  {
   "cell_type": "code",
   "execution_count": 5,
   "metadata": {
    "tags": []
   },
   "outputs": [
    {
     "output_type": "stream",
     "name": "stdout",
     "text": "Criação Dataframes Iniciado - 2020-09-20 18:26:50.791757.\n\n\nCriação Dataframe do Enem 2015 iniciada - 2020-09-20 18:26:50.791757.\nDataframe df_enem2015 criado com sucesso - 2020-09-20 18:26:51.246063.\n\n\nCriação Dataframe do Enem 2016 iniciada - 2020-09-20 18:26:51.247061.\nDataframe df_enem2016 criado com sucesso - 2020-09-20 18:26:51.608110.\n\n\nCriação Dataframe do Enem 2017 iniciada - 2020-09-20 18:26:51.610104.\nDataframe df_enem2017 criado com sucesso - 2020-09-20 18:26:52.002916.\n\n\nCriação Dataframe do Enem 2018 iniciada - 2020-09-20 18:26:52.003911.\nDataframe df_enem2018 criado com sucesso - 2020-09-20 18:26:52.430645.\n\n\nCriação Dataframe do Enem 2019 iniciada - 2020-09-20 18:26:52.432635.\nDataframe df_enem2019 criado com sucesso - 2020-09-20 18:26:52.835906.\n\n"
    }
   ],
   "source": [
    "# No Processo abaixo, criaremos dataframes, apenas com colunas selecionadas.\n",
    "\n",
    "print(f'Criação Dataframes Iniciado - {datetime.now()}.')\n",
    "print('')\n",
    "\n",
    "print('')\n",
    "print(f'Criação Dataframe do Enem 2015 iniciada - {datetime.now()}.')\n",
    "df_enem2015 = df_enem2015_completo.select(columns)\n",
    "print(f'Dataframe df_enem2015 criado com sucesso - {datetime.now()}.')\n",
    "print('')\n",
    "\n",
    "print('')\n",
    "print(f'Criação Dataframe do Enem 2016 iniciada - {datetime.now()}.')\n",
    "df_enem2016 = df_enem2016_completo.select(columns)\n",
    "print(f'Dataframe df_enem2016 criado com sucesso - {datetime.now()}.')\n",
    "print('')\n",
    "\n",
    "print('')\n",
    "print(f'Criação Dataframe do Enem 2017 iniciada - {datetime.now()}.')\n",
    "df_enem2017 = df_enem2017_completo.select(columns)\n",
    "print(f'Dataframe df_enem2017 criado com sucesso - {datetime.now()}.')\n",
    "print('')\n",
    "\n",
    "print('')\n",
    "print(f'Criação Dataframe do Enem 2018 iniciada - {datetime.now()}.')\n",
    "df_enem2018 = df_enem2018_completo.select(columns)\n",
    "print(f'Dataframe df_enem2018 criado com sucesso - {datetime.now()}.')\n",
    "print('')\n",
    "\n",
    "print('')\n",
    "print(f'Criação Dataframe do Enem 2019 iniciada - {datetime.now()}.')\n",
    "df_enem2019 = df_enem2019_completo.select(columns)\n",
    "print(f'Dataframe df_enem2019 criado com sucesso - {datetime.now()}.')\n",
    "print('')"
   ]
  },
  {
   "cell_type": "code",
   "execution_count": 6,
   "metadata": {
    "tags": []
   },
   "outputs": [
    {
     "output_type": "stream",
     "name": "stdout",
     "text": "Criação Dataframe do df_enem iniciada - 2020-09-20 18:26:52.860912.\nDataframe df_enem criado com sucesso - 2020-09-20 18:26:53.013136.\n"
    }
   ],
   "source": [
    "# Criação de um dataframe uníco, com a união de todos os dataframes criados. \n",
    "\n",
    "print(f'Criação Dataframe do df_enem iniciada - {datetime.now()}.')\n",
    "\n",
    "df_enem = df_enem2015.unionAll(df_enem2016).unionAll(df_enem2017).unionAll(df_enem2018).unionAll(df_enem2019)\n",
    "\n",
    "print(f'Dataframe df_enem criado com sucesso - {datetime.now()}.')"
   ]
  },
  {
   "cell_type": "code",
   "execution_count": 7,
   "metadata": {
    "tags": []
   },
   "outputs": [
    {
     "output_type": "stream",
     "name": "stdout",
     "text": "Criação das Colunas Análise Exploratória - 2020-09-20 18:26:53.131030.\nDataframe df_enem_analise criado com sucesso - 2020-09-20 18:26:58.117762.\n"
    }
   ],
   "source": [
    "# Criação das colunas de classificação do dataframe df_enem_analise. \n",
    "\n",
    "print(f'Criação das Colunas Análise Exploratória - {datetime.now()}.')\n",
    "\n",
    "df_enem_sexo = df_enem.withColumn('SEXO', expr(\"case when TP_SEXO = 'M' then 'Masculino' \" + \"when TP_SEXO = 'F' then 'Feminino' \" + \"else 'Não informado' end\"))\n",
    "\n",
    "df_enem_estado_civil = df_enem_sexo.withColumn('ESTADO_CIVIL', expr(\"case when NU_ANO <> 2019 AND TP_ESTADO_CIVIL = 0 then 'Solteiro(a)' \" + \"when NU_ANO <> 2019 AND TP_ESTADO_CIVIL = 1 then 'Casado(a)/Mora com companheiro(a)' \" + \"when NU_ANO <> 2019 AND TP_ESTADO_CIVIL = 2 then 'Divorciado(a)/Desquitado(a)/Separado(a)' \" + \n",
    "\"when NU_ANO <> 2019 AND TP_ESTADO_CIVIL = 3 then 'Viúvo(a)' \" + \"when NU_ANO = 2019 AND TP_ESTADO_CIVIL = 0 then '' \" + \"when NU_ANO = 2019 AND TP_ESTADO_CIVIL = 1 then 'Solteiro(a)' \" + \"when NU_ANO = 2019 AND TP_ESTADO_CIVIL = 2 then 'Casado(a)/Mora com companheiro(a)' \" + \"when NU_ANO = 2019 AND TP_ESTADO_CIVIL = 3 then 'Divorciado(a)/Desquitado(a)/Separado(a)' \" + \"when NU_ANO = 2019 AND TP_ESTADO_CIVIL = 4 then 'Viúvo(a)' \" + \"else 'Não informado' end\"))\n",
    "\n",
    "df_enem_raca = df_enem_estado_civil.withColumn('RACA', expr(\"case when TP_COR_RACA = 0 then 'Não declarado' \" + \"when TP_COR_RACA = 1 then 'Branca' \" + \"when TP_COR_RACA = 2 then 'Preta' \" + \"when TP_COR_RACA = 3 then 'Parda' \" + \"when TP_COR_RACA = 4 then 'Amarela' \" + \"when TP_COR_RACA = 5 then 'Indígena ' \" + \"else 'Não declarado' end\"))\n",
    "\n",
    "df_enem_nacionalidade = df_enem_raca.withColumn('NACIONALIDADE', expr(\"case when TP_NACIONALIDADE = 0 then 'Não informado' \" + \"when TP_NACIONALIDADE = 1 then 'Brasileiro(a)' \" + \"when TP_NACIONALIDADE = 2 then 'Brasileiro(a) Naturalizado(a)' \" + \"when TP_NACIONALIDADE = 3 then 'Estrangeiro(a)' \" + \"when TP_NACIONALIDADE = 4 then 'Brasileiro(a) Nato(a), nascido(a) no exterior' \" + \"else 'Não informado' end\"))\n",
    "\n",
    "df_enem_st_conclusao = df_enem_nacionalidade.withColumn('SITUACAO_CONCLUSAO_ENSINO_MEDIO', expr(\"case when TP_ST_CONCLUSAO = 1 then 'Já concluí o Ensino Médio' \" + \"when TP_ST_CONCLUSAO = 2 then 'Estou cursando e concluirei o Ensino Médio no ano' \" + \"when TP_ST_CONCLUSAO = 3 then 'Estou cursando e concluirei o Ensino Médio após este ano' \" + \"when TP_ST_CONCLUSAO = 4 then 'Não concluí e não estou cursando o Ensino Médio' \" + \"else 'Não informado' end\"))\n",
    "\n",
    "df_enem_tp_escola = df_enem_st_conclusao.withColumn('TIPO_ESCOLA', expr(\"case when TP_ESCOLA = 1 then 'Não Respondeu' \" + \"when TP_ESCOLA = 2 then 'Pública' \" + \"when TP_ESCOLA = 3 then 'Privada' \" + \"when TP_ESCOLA = 4 then 'Exterior' \" + \"else 'Não Respondeu' end\"))\n",
    "\n",
    "df_enem_tp_ensino = df_enem_tp_escola.withColumn('TIPO_ENSINO', expr(\"case when TP_ENSINO = 1 then 'Ensino Regular' \" + \"when TP_ENSINO = 2 then 'Educação Especial - Modalidade Substitutiva' \" + \"when TP_ENSINO = 3 then 'Educação de Jovens e Adultos' \" + \"else 'Não informado' end\"))\n",
    "\n",
    "df_enem_in_treineiro = df_enem_tp_ensino.withColumn('TREINEIRO', expr(\"case when IN_TREINEIRO = 0 then 'Não' \" + \"when IN_TREINEIRO = 1 then 'Sim' \" + \"else 'Não informado' end\"))\n",
    "\n",
    "df_enem_tp_dependencia_adm_esc = df_enem_in_treineiro.withColumn('DEPENDENCIA_ADMINISTRATIVA_ESCOLA', expr(\"case when TP_DEPENDENCIA_ADM_ESC = 1 then 'Federal' \" + \"when TP_DEPENDENCIA_ADM_ESC = 2 then 'Estadual' \" + \"when TP_DEPENDENCIA_ADM_ESC = 3 then 'Municipal' \" + \"when TP_DEPENDENCIA_ADM_ESC = 4 then 'Privada' \" + \"else 'Não informado' end\"))\n",
    "\n",
    "df_enem_tp_localizacao_esc = df_enem_tp_dependencia_adm_esc.withColumn('LOCALIZACAO_ESCOLA', expr(\"case when TP_LOCALIZACAO_ESC = 1 then 'Urbana' \" + \"when TP_LOCALIZACAO_ESC = 2 then 'Rural' \" + \"else 'Não informado' end\"))\n",
    "\n",
    "df_enem_in_baixa_visao = df_enem_tp_localizacao_esc.withColumn('BAIXA_VISAO', expr(\"case when IN_BAIXA_VISAO = 0 then 'Não' \" + \"when IN_BAIXA_VISAO = 1 then 'Sim' \" + \"else 'Não informado' end\"))\n",
    "\n",
    "df_enem_in_cegueira = df_enem_in_baixa_visao.withColumn('CEGUEIRA', expr(\"case when IN_CEGUEIRA = 0 then 'Não' \" + \"when IN_CEGUEIRA = 1 then 'Sim' \" + \"else 'Não informado' end\"))\n",
    "\n",
    "df_enem_in_surdez = df_enem_in_cegueira.withColumn('SURDEZ', expr(\"case when IN_SURDEZ = 0 then 'Não' \" + \"when IN_SURDEZ = 1 then 'Sim' \" + \"else 'Não informado' end\"))\n",
    "\n",
    "df_enem_in_deficiencia_auditiva = df_enem_in_surdez.withColumn('DEFICIENCIA_AUDITIVA', expr(\"case when IN_DEFICIENCIA_AUDITIVA = 0 then 'Não' \" + \"when IN_DEFICIENCIA_AUDITIVA = 1 then 'Sim' \" + \"else 'Não informado' end\"))\n",
    "\n",
    "df_enem_in_surdo_cegueira = df_enem_in_deficiencia_auditiva.withColumn('SURDO_CEGUEIRA', expr(\"case when IN_SURDO_CEGUEIRA = 0 then 'Não' \" + \"when IN_SURDO_CEGUEIRA = 1 then 'Sim' \" + \"else 'Não informado' end\"))\n",
    "\n",
    "df_enem_in_deficiencia_fisica = df_enem_in_surdo_cegueira.withColumn('DEFICIENCIA_FISICA', expr(\"case when IN_DEFICIENCIA_FISICA = 0 then 'Não' \" + \"when IN_DEFICIENCIA_FISICA = 1 then 'Sim' \" + \"else 'Não informado' end\"))\n",
    "\n",
    "df_enem_in_deficiencia_mental = df_enem_in_deficiencia_fisica.withColumn('DEFICIENCIA_MENTAL', expr(\"case when IN_DEFICIENCIA_MENTAL = 0 then 'Não' \" + \"when IN_DEFICIENCIA_MENTAL = 1 then 'Sim' \" + \"else 'Não informado' end\"))\n",
    "\n",
    "df_enem_in_deficit_atencao = df_enem_in_deficiencia_mental.withColumn('DEFICIT_ATENCAO', expr(\"case when IN_DEFICIT_ATENCAO = 0 then 'Não' \" + \"when IN_DEFICIT_ATENCAO = 1 then 'Sim' \" + \"else 'Não informado' end\"))\n",
    "\n",
    "df_enem_in_dislexia = df_enem_in_deficit_atencao.withColumn('DISLEXIA', expr(\"case when IN_DISLEXIA = 0 then 'Não' \" + \"when IN_DISLEXIA = 1 then 'Sim' \" + \"else 'Não informado' end\"))\n",
    "\n",
    "df_enem_in_discalculia = df_enem_in_dislexia.withColumn('DISCALCULIA', expr(\"case when IN_DISCALCULIA = 0 then 'Não' \" + \"when IN_DISCALCULIA = 1 then 'Sim' \" + \"else 'Não informado' end\"))\n",
    "\n",
    "df_enem_in_autismo = df_enem_in_discalculia.withColumn('AUTISMO', expr(\"case when IN_AUTISMO = 0 then 'Não' \" + \"when IN_AUTISMO = 1 then 'Sim' \" + \"else 'Não informado' end\"))\n",
    "\n",
    "df_enem_in_visao_monocular = df_enem_in_autismo.withColumn('VISAO_MONOCULAR', expr(\"case when IN_VISAO_MONOCULAR = 0 then 'Não' \" + \"when IN_VISAO_MONOCULAR = 1 then 'Sim' \" + \"else 'Não informado' end\"))\n",
    "\n",
    "df_enem_in_outra_def = df_enem_in_visao_monocular.withColumn('OUTRA_DEF', expr(\"case when IN_OUTRA_DEF = 0 then 'Não' \" + \"when IN_OUTRA_DEF = 1 then 'Sim' \" + \"else 'Não informado' end\"))\n",
    "\n",
    "df_enem_in_gestante = df_enem_in_outra_def.withColumn('GESTANTE', expr(\"case when IN_GESTANTE = 0 then 'Não' \" + \"when IN_GESTANTE = 1 then 'Sim' \" + \"else 'Não informado' end\"))\n",
    "\n",
    "df_enem_in_lactante = df_enem_in_gestante.withColumn('LACTANTE', expr(\"case when IN_LACTANTE = 0 then 'Não' \" + \"when IN_LACTANTE = 1 then 'Sim' \" + \"else 'Não informado' end\"))\n",
    "\n",
    "df_enem_in_idoso = df_enem_in_lactante.withColumn('IDOSO', expr(\"case when IN_IDOSO = 0 then 'Não' \" + \"when IN_IDOSO = 1 then 'Sim' \" + \"else 'Não informado' end\"))\n",
    "\n",
    "df_enem_in_estuda_classe_hospitalar = df_enem_in_idoso.withColumn('ESTUDA_CLASSE_HOSPITALAR', expr(\"case when IN_ESTUDA_CLASSE_HOSPITALAR = 0 then 'Não' \" + \"when IN_ESTUDA_CLASSE_HOSPITALAR = 1 then 'Sim' \" + \"else 'Não informado' end\"))\n",
    "\n",
    "df_enem_in_sem_recurso = df_enem_in_estuda_classe_hospitalar.withColumn('SEM_RECURSO', expr(\"case when IN_SEM_RECURSO = 0 then 'Não' \" + \"when IN_SEM_RECURSO = 1 then 'Sim' \" + \"else 'Não informado' end\"))\n",
    "\n",
    "df_enem_in_braille = df_enem_in_sem_recurso.withColumn('BRAILLE', expr(\"case when IN_BRAILLE = 0 then 'Não' \" + \"when IN_BRAILLE = 1 then 'Sim' \" + \"else 'Não informado' end\"))\n",
    "\n",
    "df_enem_in_ampliada_24 = df_enem_in_braille.withColumn('AMPLIADA_24', expr(\"case when IN_AMPLIADA_24 = 0 then 'Não' \" + \"when IN_AMPLIADA_24 = 1 then 'Sim' \" + \"else 'Não informado' end\"))\n",
    "\n",
    "df_enem_in_ampliada_18 = df_enem_in_ampliada_24.withColumn('AMPLIADA_18', expr(\"case when IN_AMPLIADA_18 = 0 then 'Não' \" + \"when IN_AMPLIADA_18 = 1 then 'Sim' \" + \"else 'Não informado' end\"))\n",
    "\n",
    "df_enem_in_ledor = df_enem_in_ampliada_18.withColumn('LEDOR', expr(\"case when IN_LEDOR = 0 then 'Não' \" + \"when IN_LEDOR = 1 then 'Sim' \" + \"else 'Não informado' end\"))\n",
    "\n",
    "df_enem_in_acesso = df_enem_in_ledor.withColumn('ACESSO', expr(\"case when IN_ACESSO = 0 then 'Não' \" + \"when IN_ACESSO = 1 then 'Sim' \" + \"else 'Não informado' end\"))\n",
    "\n",
    "df_enem_in_transcricao = df_enem_in_acesso.withColumn('TRANSCRICAO', expr(\"case when IN_TRANSCRICAO = 0 then 'Não' \" + \"when IN_TRANSCRICAO = 1 then 'Sim' \" + \"else 'Não informado' end\"))\n",
    "\n",
    "df_enem_in_libras = df_enem_in_transcricao.withColumn('LIBRAS', expr(\"case when IN_LIBRAS = 0 then 'Não' \" + \"when IN_LIBRAS = 1 then 'Sim' \" + \"else 'Não informado' end\"))\n",
    "\n",
    "df_enem_in_leitura_labial = df_enem_in_libras.withColumn('LEITURA_LABIAL', expr(\"case when IN_LEITURA_LABIAL = 0 then 'Não' \" + \"when IN_LEITURA_LABIAL = 1 then 'Sim' \" + \"else 'Não informado' end\"))\n",
    "\n",
    "df_enem_in_mesa_cadeira_rodas = df_enem_in_leitura_labial.withColumn('MESA_CADEIRA_RODAS', expr(\"case when IN_MESA_CADEIRA_RODAS = 0 then 'Não' \" + \"when IN_MESA_CADEIRA_RODAS = 1 then 'Sim' \" + \"else 'Não informado' end\"))\n",
    "\n",
    "df_enem_in_mesa_cadeira_separada = df_enem_in_mesa_cadeira_rodas.withColumn('MESA_CADEIRA_SEPARADA', expr(\"case when IN_MESA_CADEIRA_SEPARADA = 0 then 'Não' \" + \"when IN_MESA_CADEIRA_SEPARADA = 1 then 'Sim' \" + \"else 'Não informado' end\"))\n",
    "\n",
    "df_enem_in_apoio_perna = df_enem_in_mesa_cadeira_separada.withColumn('APOIO_PERNA', expr(\"case when IN_APOIO_PERNA = 0 then 'Não' \" + \"when IN_APOIO_PERNA = 1 then 'Sim' \" + \"else 'Não informado' end\"))\n",
    "\n",
    "df_enem_in_guia_interprete = df_enem_in_apoio_perna.withColumn('GUIA_INTERPRETE', expr(\"case when IN_GUIA_INTERPRETE = 0 then 'Não' \" + \"when IN_GUIA_INTERPRETE = 1 then 'Sim' \" + \"else 'Não informado' end\"))\n",
    "\n",
    "df_enem_in_computador = df_enem_in_guia_interprete.withColumn('COMPUTADOR', expr(\"case when IN_COMPUTADOR = 0 then 'Não' \" + \"when IN_COMPUTADOR = 1 then 'Sim' \" + \"else 'Não informado' end\"))\n",
    "\n",
    "df_enem_in_cadeira_especial = df_enem_in_computador.withColumn('CADEIRA_ESPECIAL', expr(\"case when IN_CADEIRA_ESPECIAL = 0 then 'Não' \" + \"when IN_CADEIRA_ESPECIAL = 1 then 'Sim' \" + \"else 'Não informado' end\"))\n",
    "\n",
    "df_enem_in_cadeira_canhoto = df_enem_in_cadeira_especial.withColumn('CADEIRA_CANHOTO', expr(\"case when IN_CADEIRA_CANHOTO = 0 then 'Não' \" + \"when IN_CADEIRA_CANHOTO = 1 then 'Sim' \" + \"else 'Não informado' end\"))\n",
    "\n",
    "df_enem_in_cadeira_acolchoada = df_enem_in_cadeira_canhoto.withColumn('CADEIRA_ACOLCHOADA', expr(\"case when IN_CADEIRA_ACOLCHOADA = 0 then 'Não' \" + \"when IN_CADEIRA_ACOLCHOADA = 1 then 'Sim' \" + \"else 'Não informado' end\"))\n",
    "\n",
    "df_enem_in_prova_deitado = df_enem_in_cadeira_acolchoada.withColumn('PROVA_DEITADO', expr(\"case when IN_PROVA_DEITADO = 0 then 'Não' \" + \"when IN_PROVA_DEITADO = 1 then 'Sim' \" + \"else 'Não informado' end\"))\n",
    "\n",
    "df_enem_in_mobiliario_obeso = df_enem_in_prova_deitado.withColumn('MOBILIARIO_OBESO', expr(\"case when IN_MOBILIARIO_OBESO = 0 then 'Não' \" + \"when IN_MOBILIARIO_OBESO = 1 then 'Sim' \" + \"else 'Não informado' end\"))\n",
    "\n",
    "df_enem_in_lamina_overlay = df_enem_in_mobiliario_obeso.withColumn('LAMINA_OVERLAY', expr(\"case when IN_LAMINA_OVERLAY = 0 then 'Não' \" + \"when IN_LAMINA_OVERLAY = 1 then 'Sim' \" + \"else 'Não informado' end\"))\n",
    "\n",
    "df_enem_in_protetor_auricular = df_enem_in_lamina_overlay.withColumn('PROTETOR_AURICULAR', expr(\"case when IN_PROTETOR_AURICULAR = 0 then 'Não' \" + \"when IN_PROTETOR_AURICULAR = 1 then 'Sim' \" + \"else 'Não informado' end\"))\n",
    "\n",
    "df_enem_in_medidor_glicose = df_enem_in_protetor_auricular.withColumn('MEDIDOR_GLICOSE', expr(\"case when IN_MEDIDOR_GLICOSE = 0 then 'Não' \" + \"when IN_MEDIDOR_GLICOSE = 1 then 'Sim' \" + \"else 'Não informado' end\"))\n",
    "\n",
    "df_enem_in_maquina_braile = df_enem_in_medidor_glicose.withColumn('MAQUINA_BRAILE', expr(\"case when IN_MAQUINA_BRAILE = 0 then 'Não' \" + \"when IN_MAQUINA_BRAILE = 1 then 'Sim' \" + \"else 'Não informado' end\"))\n",
    "\n",
    "df_enem_in_soroban = df_enem_in_maquina_braile.withColumn('SOROBAN', expr(\"case when IN_SOROBAN = 0 then 'Não' \" + \"when IN_SOROBAN = 1 then 'Sim' \" + \"else 'Não informado' end\"))\n",
    "\n",
    "df_enem_in_marca_passo = df_enem_in_soroban.withColumn('MARCA_PASSO', expr(\"case when IN_MARCA_PASSO = 0 then 'Não' \" + \"when IN_MARCA_PASSO = 1 then 'Sim' \" + \"else 'Não informado' end\"))\n",
    "\n",
    "df_enem_in_sonda = df_enem_in_marca_passo.withColumn('SONDA', expr(\"case when IN_SONDA = 0 then 'Não' \" + \"when IN_SONDA = 1 then 'Sim' \" + \"else 'Não informado' end\"))\n",
    "\n",
    "df_enem_in_medicamentos = df_enem_in_sonda.withColumn('MEDICAMENTOS', expr(\"case when IN_MEDICAMENTOS = 0 then 'Não' \" + \"when IN_MEDICAMENTOS = 1 then 'Sim' \" + \"else 'Não informado' end\"))\n",
    "\n",
    "df_enem_in_sala_individual = df_enem_in_medicamentos.withColumn('SALA_INDIVIDUAL', expr(\"case when IN_SALA_INDIVIDUAL = 0 then 'Não' \" + \"when IN_SALA_INDIVIDUAL = 1 then 'Sim' \" + \"else 'Não informado' end\"))\n",
    "\n",
    "df_enem_in_sala_especial = df_enem_in_sala_individual.withColumn('SALA_ESPECIAL', expr(\"case when IN_SALA_ESPECIAL = 0 then 'Não' \" + \"when IN_SALA_ESPECIAL = 1 then 'Sim' \" + \"else 'Não informado' end\"))\n",
    "\n",
    "df_enem_in_sala_acompanhante = df_enem_in_sala_especial.withColumn('SALA_ACOMPANHANTE', expr(\"case when IN_SALA_ACOMPANHANTE = 0 then 'Não' \" + \"when IN_SALA_ACOMPANHANTE = 1 then 'Sim' \" + \"else 'Não informado' end\"))\n",
    "\n",
    "df_enem_in_mobiliario_especifico = df_enem_in_sala_acompanhante.withColumn('MOBILIARIO_ESPECIFICO', expr(\"case when IN_MOBILIARIO_ESPECIFICO = 0 then 'Não' \" + \"when IN_MOBILIARIO_ESPECIFICO = 1 then 'Sim' \" + \"else 'Não informado' end\"))\n",
    "\n",
    "df_enem_in_nome_social = df_enem_in_mobiliario_especifico.withColumn('NOME_SOCIAL', expr(\"case when IN_NOME_SOCIAL = 0 then 'Não' \" + \"when IN_NOME_SOCIAL = 1 then 'Sim' \" + \"else 'Não informado' end\"))\n",
    "\n",
    "df_enem_tp_presenca_cn = df_enem_in_nome_social.withColumn('PRESENCA_CIENCIAS_NATUREZA', expr(\"case when TP_PRESENCA_CN = 0 then 'Faltou à prova' \" + \"when TP_PRESENCA_CN = 1 then 'Presente na prova' \" + \"when TP_PRESENCA_CN = 2 then 'Eliminado na prova' \" + \"else 'Não informado' end\"))\n",
    "\n",
    "df_enem_tp_presenca_ch = df_enem_tp_presenca_cn.withColumn('PRESENCA_CIENCIAS_HUMANAS', expr(\"case when TP_PRESENCA_CH = 0 then 'Faltou à prova' \" + \"when TP_PRESENCA_CH = 1 then 'Presente na prova' \" + \"when TP_PRESENCA_CH = 2 then 'Eliminado na prova' \" + \"else 'Não informado' end\"))\n",
    "\n",
    "df_enem_tp_presenca_lc = df_enem_tp_presenca_ch.withColumn('PRESENCA_LINGUAGENS_CODIGOS', expr(\"case when TP_PRESENCA_LC = 0 then 'Faltou à prova' \" + \"when TP_PRESENCA_LC = 1 then 'Presente na prova' \" + \"when TP_PRESENCA_LC = 2 then 'Eliminado na prova' \" + \"else 'Não informado' end\"))\n",
    "\n",
    "df_enem_tp_presenca_mt = df_enem_tp_presenca_lc.withColumn('PRESENCA_MATEMATICA', expr(\"case when TP_PRESENCA_MT = 0 then 'Faltou à prova' \" + \"when TP_PRESENCA_MT = 1 then 'Presente na prova' \" + \"when TP_PRESENCA_MT = 2 then 'Eliminado na prova' \" + \"else 'Não informado' end\"))\n",
    "\n",
    "df_enem_tp_lingua = df_enem_tp_presenca_mt.withColumn('LINGUA', expr(\"case when TP_LINGUA = 0 then 'Inglês' \" + \"when TP_LINGUA = 1 then 'Espanhol' \" + \"else 'Não informado' end\"))\n",
    "\n",
    "df_enem_tp_status_redacao = df_enem_tp_lingua.withColumn('STATUS_REDACAO', expr(\"case when TP_STATUS_REDACAO = 1 then 'Sem problemas' \" + \"when TP_STATUS_REDACAO = 2 then 'Anulada' \" + \"when TP_STATUS_REDACAO = 3 then 'Cópia Texto Motivador' \" + \"when TP_STATUS_REDACAO = 4 then 'Em Branco' \" + \"when TP_STATUS_REDACAO = 6 then 'Fuga ao tema' \" + \"when TP_STATUS_REDACAO = 7 then 'Não atendimento ao tipo textual' \" + \"when TP_STATUS_REDACAO = 8 then 'Texto insuficiente' \" + \"when TP_STATUS_REDACAO = 9 then 'Parte desconectada' \" + \"else 'Não informado' end\"))\n",
    "\n",
    "df_enem_q001 = df_enem_tp_status_redacao.withColumn('PAI_ESTUDOU', expr(\"case when Q001 = 'A' then 'Nunca estudou.' \" + \"when Q001 = 'B' then 'Não completou a 4ª série/5º ano do Ensino Fundamental.' \" + \"when Q001 = 'C' then 'Completou a 4ª série/5º ano, mas não completou a 8ª série/9º ano do Ensino Fundamental.' \" + \"when Q001 = 'D' then 'Completou a 8ª série/9º ano do Ensino Fundamental, mas não completou o Ensino Médio.' \" + \"when Q001 = 'E' then 'Completou o Ensino Médio, mas não completou a Faculdade.' \" + \"when Q001 = 'F' then 'Completou a Faculdade, mas não completou a Pós-graduação.' \" + \"when Q001 = 'G' then 'Completou a Pós-graduação.' \" + \"when Q001 = 'H' then 'Não sei.' \" + \"else 'Não informado' end\"))\n",
    "\n",
    "df_enem_q002 = df_enem_q001.withColumn('MAE_ESTUDOU', expr(\"case when Q002 = 'A' then 'Nunca estudou.' \" + \"when Q002 = 'B' then 'Não completou a 4ª série/5º ano do Ensino Fundamental.' \" + \"when Q002 = 'C' then 'Completou a 4ª série/5º ano, mas não completou a 8ª série/9º ano do Ensino Fundamental.' \" + \"when Q002 = 'D' then 'Completou a 8ª série/9º ano do Ensino Fundamental, mas não completou o Ensino Médio.' \" + \"when Q002 = 'E' then 'Completou o Ensino Médio, mas não completou a Faculdade.' \" + \"when Q002 = 'F' then 'Completou a Faculdade, mas não completou a Pós-graduação.' \" + \"when Q002 = 'G' then 'Completou a Pós-graduação.' \" + \"when Q002 = 'H' then 'Não sei.' \" + \"else 'Não informado' end\"))\n",
    "\n",
    "df_enem_q005 = df_enem_q002.withColumn('QTDE_MORADOR_RESIDENCIA', expr(\"case when Q005 = 1 then '1, pois moro sozinho(a).' \" + \"when Q005 = 2 then '2' \" + \"when Q005 = 3 then '3' \" + \"when Q005 = 4 then '4' \" + \"when Q005 = 5 then '5' \" + \"when Q005 = 6 then '6' \" + \"when Q005 = 7 then '7' \" + \"when Q005 = 8 then '8' \" + \"when Q005 = 9 then '9' \" + \"when Q005 = 10 then '10' \" + \"when Q005 = 11 then '11' \" + \"when Q005 = 12 then '12' \" + \"when Q005 = 13 then '13' \" + \"when Q005 = 14 then '14' \" + \"when Q005 = 15 then '15' \" + \"when Q005 = 16 then '16' \" + \"when Q005 = 17 then '17' \" + \"when Q005 = 18 then '18' \" + \"when Q005 = 19 then '19' \" + \"when Q005 = 20 then '20' \" + \"else 'Não informado' end\"))\n",
    "\n",
    "df_enem_q006 = df_enem_q005.withColumn('RENDA_MENSAL_FAMILIAR', expr(\"case when Q006 = 'A' then 'Nenhuma Renda.' \" + \"when Q006 = 'B' then 'Até 1,0 salário mínimo.' \" + \"when Q006 = 'C' then 'Acima de 1,0 salário mínimo até 1,5.' \" + \"when Q006 = 'D' then 'Acima de 1,5 salário mínimo até 2,0 salários mínimos.' \" + \"when Q006 = 'E' then 'Acima de 2,0 salários mínimos até 2,5 salários mínimos.' \" + \"when Q006 = 'F' then 'Acima de 2,5 salários mínimos até 3,0 salários mínimos.' \" + \"when Q006 = 'G' then 'Acima de 3,0 salários mínimos até 4,0 salários mínimos.' \" + \"when Q006 = 'H' then 'Acima de 4,0 salários mínimos até 5,0 salários mínimos.' \" + \"when Q006 = 'I' then 'Acima de 5,0 salários mínimos até 6,0 salários mínimos.' \" + \"when Q006 = 'J' then 'Acima de 6,0 salários mínimos até 7,0 salários mínimos.' \" + \"when Q006 = 'K' then 'Acima de 7,0 salários mínimos até 8,0 salários mínimos.' \" + \"when Q006 = 'L' then 'Acima de 8,0 salários mínimos até 9,0 salários mínimos.' \" + \"when Q006 = 'M' then 'Acima de 9,0 salários mínimos até 10,0 salários mínimos.' \" + \"when Q006 = 'N' then 'Acima de 10,0 salários mínimos até 12,0 salários mínimos.' \" + \"when Q006 = 'O' then 'Acima de 12,0 salários mínimos até 15,0 salários mínimos.' \" + \"when Q006 = 'P' then 'Acima de 15,0 salários mínimos até 20,0 salários mínimos.' \" + \"when Q006 = 'Q' then 'Acima de 20 salários mínimos.' \" + \"else 'Não informado' end\"))\n",
    "\n",
    "df_enem_q022 = df_enem_q006.withColumn('RESIDENCIA_CELULAR', expr(\"case when Q022 = 'A' then 'Não' \" + \"when Q022 = 'B' then 'Sim, um.' \" + \"when Q022 = 'C' then 'Sim, dois.' \" + \"when Q022 = 'D' then 'Sim, três.' \" + \"when Q022 = 'E' then 'Sim, quatro ou mais.' \" + \"else 'Não informado' end\"))\n",
    "\n",
    "df_enem_q024 = df_enem_q022.withColumn('RESIDENCIA_COMPUTADOR', expr(\"case when Q024 = 'A' then 'Não' \" + \"when Q024 = 'B' then 'Sim, um.' \" + \"when Q024 = 'C' then 'Sim, dois.' \" + \"when Q024 = 'D' then 'Sim, três.' \" + \"when Q024 = 'E' then 'Sim, quatro ou mais.' \" + \"else 'Não informado' end\"))\n",
    "\n",
    "df_enem_q025 = df_enem_q024.withColumn('RESIDENCIA_INTERNET', expr(\"case when Q025 = 'A' then 'Não' \" + \"when Q025 = 'B' then 'Sim' \" + \"else 'Não informado' end\"))\n",
    "\n",
    "df_enem_deficiente = df_enem_q025.withColumn('DEFICIENTE', expr(\"case when IN_BAIXA_VISAO = 1 OR IN_CEGUEIRA = 1 OR IN_SURDEZ = 1 OR IN_DEFICIENCIA_AUDITIVA = 1 OR IN_SURDO_CEGUEIRA = 1 OR IN_DEFICIENCIA_FISICA = 1 OR IN_DEFICIENCIA_MENTAL = 1 OR IN_DEFICIT_ATENCAO = 1 OR IN_DISLEXIA = 1 OR IN_DISCALCULIA = 1 OR IN_AUTISMO = 1 OR IN_VISAO_MONOCULAR = 1 OR IN_OUTRA_DEF = 1 then 'Sim' \" + \"else 'Não' end\"))\n",
    "\n",
    "df_enem_aprovacao = df_enem_deficiente.withColumn('APROVADO', expr(\"case when ((NU_NOTA_CN + NU_NOTA_CH + NU_NOTA_LC + NU_NOTA_MT + NU_NOTA_REDACAO) / 5 ) >= 450 then 'Sim' \" + \"else 'Não' end\"))\n",
    "\n",
    "df_enem_ausente = df_enem_aprovacao.withColumn('AUSENTE', expr(\"case when TP_PRESENCA_CN = 0 OR TP_PRESENCA_CH = 0 OR TP_PRESENCA_LC = 0 OR TP_PRESENCA_MT = 0 then 'Sim' \" + \"else 'Não' end\"))\n",
    "\n",
    "df_enem_nota_media = df_enem_ausente.withColumn('NOTA_MEDIA', expr(\"(NU_NOTA_CN + NU_NOTA_CH + NU_NOTA_LC + NU_NOTA_MT + NU_NOTA_REDACAO) / 5\"))\n",
    "\n",
    "df_enem_analise = df_enem_nota_media\n",
    "\n",
    "print(f'Dataframe df_enem_analise criado com sucesso - {datetime.now()}.')"
   ]
  },
  {
   "cell_type": "code",
   "execution_count": 8,
   "metadata": {},
   "outputs": [
    {
     "output_type": "execute_result",
     "data": {
      "text/plain": "['NU_INSCRICAO',\n 'NU_ANO',\n 'NO_MUNICIPIO_RESIDENCIA',\n 'CO_UF_RESIDENCIA',\n 'SG_UF_RESIDENCIA',\n 'NU_IDADE',\n 'TP_SEXO',\n 'TP_ESTADO_CIVIL',\n 'TP_COR_RACA',\n 'TP_NACIONALIDADE',\n 'NO_MUNICIPIO_NASCIMENTO',\n 'CO_UF_NASCIMENTO',\n 'SG_UF_NASCIMENTO',\n 'TP_ST_CONCLUSAO',\n 'TP_ESCOLA',\n 'TP_ENSINO',\n 'IN_TREINEIRO',\n 'CO_UF_ESC',\n 'SG_UF_ESC',\n 'TP_DEPENDENCIA_ADM_ESC',\n 'TP_LOCALIZACAO_ESC',\n 'IN_BAIXA_VISAO',\n 'IN_CEGUEIRA',\n 'IN_SURDEZ',\n 'IN_DEFICIENCIA_AUDITIVA',\n 'IN_SURDO_CEGUEIRA',\n 'IN_DEFICIENCIA_FISICA',\n 'IN_DEFICIENCIA_MENTAL',\n 'IN_DEFICIT_ATENCAO',\n 'IN_DISLEXIA',\n 'IN_DISCALCULIA',\n 'IN_AUTISMO',\n 'IN_VISAO_MONOCULAR',\n 'IN_OUTRA_DEF',\n 'IN_GESTANTE',\n 'IN_LACTANTE',\n 'IN_IDOSO',\n 'IN_ESTUDA_CLASSE_HOSPITALAR',\n 'IN_SEM_RECURSO',\n 'IN_BRAILLE',\n 'IN_AMPLIADA_24',\n 'IN_AMPLIADA_18',\n 'IN_LEDOR',\n 'IN_ACESSO',\n 'IN_TRANSCRICAO',\n 'IN_LIBRAS',\n 'IN_LEITURA_LABIAL',\n 'IN_MESA_CADEIRA_RODAS',\n 'IN_MESA_CADEIRA_SEPARADA',\n 'IN_APOIO_PERNA',\n 'IN_GUIA_INTERPRETE',\n 'IN_COMPUTADOR',\n 'IN_CADEIRA_ESPECIAL',\n 'IN_CADEIRA_CANHOTO',\n 'IN_CADEIRA_ACOLCHOADA',\n 'IN_PROVA_DEITADO',\n 'IN_MOBILIARIO_OBESO',\n 'IN_LAMINA_OVERLAY',\n 'IN_PROTETOR_AURICULAR',\n 'IN_MEDIDOR_GLICOSE',\n 'IN_MAQUINA_BRAILE',\n 'IN_SOROBAN',\n 'IN_MARCA_PASSO',\n 'IN_SONDA',\n 'IN_MEDICAMENTOS',\n 'IN_SALA_INDIVIDUAL',\n 'IN_SALA_ESPECIAL',\n 'IN_SALA_ACOMPANHANTE',\n 'IN_MOBILIARIO_ESPECIFICO',\n 'IN_NOME_SOCIAL',\n 'NO_MUNICIPIO_PROVA',\n 'CO_UF_PROVA',\n 'SG_UF_PROVA',\n 'TP_PRESENCA_CN',\n 'TP_PRESENCA_CH',\n 'TP_PRESENCA_LC',\n 'TP_PRESENCA_MT',\n 'NU_NOTA_CN',\n 'NU_NOTA_CH',\n 'NU_NOTA_LC',\n 'NU_NOTA_MT',\n 'TP_LINGUA',\n 'TP_STATUS_REDACAO',\n 'NU_NOTA_COMP1',\n 'NU_NOTA_COMP2',\n 'NU_NOTA_COMP3',\n 'NU_NOTA_COMP4',\n 'NU_NOTA_COMP5',\n 'NU_NOTA_REDACAO',\n 'Q001',\n 'Q002',\n 'Q005',\n 'Q006',\n 'Q022',\n 'Q024',\n 'Q025',\n 'SEXO',\n 'ESTADO_CIVIL',\n 'RACA',\n 'NACIONALIDADE',\n 'SITUACAO_CONCLUSAO_ENSINO_MEDIO',\n 'TIPO_ESCOLA',\n 'TIPO_ENSINO',\n 'TREINEIRO',\n 'DEPENDENCIA_ADMINISTRATIVA_ESCOLA',\n 'LOCALIZACAO_ESCOLA',\n 'BAIXA_VISAO',\n 'CEGUEIRA',\n 'SURDEZ',\n 'DEFICIENCIA_AUDITIVA',\n 'SURDO_CEGUEIRA',\n 'DEFICIENCIA_FISICA',\n 'DEFICIENCIA_MENTAL',\n 'DEFICIT_ATENCAO',\n 'DISLEXIA',\n 'DISCALCULIA',\n 'AUTISMO',\n 'VISAO_MONOCULAR',\n 'OUTRA_DEF',\n 'GESTANTE',\n 'LACTANTE',\n 'IDOSO',\n 'ESTUDA_CLASSE_HOSPITALAR',\n 'SEM_RECURSO',\n 'BRAILLE',\n 'AMPLIADA_24',\n 'AMPLIADA_18',\n 'LEDOR',\n 'ACESSO',\n 'TRANSCRICAO',\n 'LIBRAS',\n 'LEITURA_LABIAL',\n 'MESA_CADEIRA_RODAS',\n 'MESA_CADEIRA_SEPARADA',\n 'APOIO_PERNA',\n 'GUIA_INTERPRETE',\n 'COMPUTADOR',\n 'CADEIRA_ESPECIAL',\n 'CADEIRA_CANHOTO',\n 'CADEIRA_ACOLCHOADA',\n 'PROVA_DEITADO',\n 'MOBILIARIO_OBESO',\n 'LAMINA_OVERLAY',\n 'PROTETOR_AURICULAR',\n 'MEDIDOR_GLICOSE',\n 'MAQUINA_BRAILE',\n 'SOROBAN',\n 'MARCA_PASSO',\n 'SONDA',\n 'MEDICAMENTOS',\n 'SALA_INDIVIDUAL',\n 'SALA_ESPECIAL',\n 'SALA_ACOMPANHANTE',\n 'MOBILIARIO_ESPECIFICO',\n 'NOME_SOCIAL',\n 'PRESENCA_CIENCIAS_NATUREZA',\n 'PRESENCA_CIENCIAS_HUMANAS',\n 'PRESENCA_LINGUAGENS_CODIGOS',\n 'PRESENCA_MATEMATICA',\n 'LINGUA',\n 'STATUS_REDACAO',\n 'PAI_ESTUDOU',\n 'MAE_ESTUDOU',\n 'QTDE_MORADOR_RESIDENCIA',\n 'RENDA_MENSAL_FAMILIAR',\n 'RESIDENCIA_CELULAR',\n 'RESIDENCIA_COMPUTADOR',\n 'RESIDENCIA_INTERNET',\n 'DEFICIENTE',\n 'APROVADO',\n 'AUSENTE',\n 'NOTA_MEDIA']"
     },
     "metadata": {},
     "execution_count": 8
    }
   ],
   "source": [
    "df_enem_analise.columns"
   ]
  },
  {
   "cell_type": "code",
   "execution_count": 9,
   "metadata": {
    "tags": []
   },
   "outputs": [
    {
     "output_type": "stream",
     "name": "stdout",
     "text": "Apresentação do processo de criação de uma tabela temporária para utilização do SQL - 2020-09-20 18:26:58.292327.\nCriação da tabela temporaria com sucesso - 2020-09-20 18:26:58.695278.\n"
    }
   ],
   "source": [
    "# Criar tabela temporaria e usar sql para consulta\n",
    "\n",
    "print(f'Apresentação do processo de criação de uma tabela temporária para utilização do SQL - {datetime.now()}.')\n",
    "\n",
    "df_enem_analise.createOrReplaceTempView('enemtb')\n",
    "\n",
    "print(f'Criação da tabela temporaria com sucesso - {datetime.now()}.')"
   ]
  },
  {
   "source": [
    "Machine Learning   "
   ],
   "cell_type": "markdown",
   "metadata": {}
  },
  {
   "cell_type": "code",
   "execution_count": 10,
   "metadata": {
    "tags": []
   },
   "outputs": [
    {
     "output_type": "stream",
     "name": "stdout",
     "text": "Apresentação da Estrutura do Dataframe df_enem_analise\n"
    },
    {
     "output_type": "display_data",
     "data": {
      "text/plain": "DataFrame[NU_INSCRICAO: bigint, NU_ANO: int, NO_MUNICIPIO_RESIDENCIA: string, CO_UF_RESIDENCIA: int, SG_UF_RESIDENCIA: string, NU_IDADE: int, TP_SEXO: string, TP_ESTADO_CIVIL: int, TP_COR_RACA: int, TP_NACIONALIDADE: int, NO_MUNICIPIO_NASCIMENTO: string, CO_UF_NASCIMENTO: int, SG_UF_NASCIMENTO: string, TP_ST_CONCLUSAO: int, TP_ESCOLA: int, TP_ENSINO: int, IN_TREINEIRO: int, CO_UF_ESC: int, SG_UF_ESC: string, TP_DEPENDENCIA_ADM_ESC: int, TP_LOCALIZACAO_ESC: int, IN_BAIXA_VISAO: int, IN_CEGUEIRA: int, IN_SURDEZ: int, IN_DEFICIENCIA_AUDITIVA: int, IN_SURDO_CEGUEIRA: int, IN_DEFICIENCIA_FISICA: int, IN_DEFICIENCIA_MENTAL: int, IN_DEFICIT_ATENCAO: int, IN_DISLEXIA: int, IN_DISCALCULIA: int, IN_AUTISMO: int, IN_VISAO_MONOCULAR: int, IN_OUTRA_DEF: int, IN_GESTANTE: int, IN_LACTANTE: int, IN_IDOSO: int, IN_ESTUDA_CLASSE_HOSPITALAR: int, IN_SEM_RECURSO: int, IN_BRAILLE: int, IN_AMPLIADA_24: int, IN_AMPLIADA_18: int, IN_LEDOR: int, IN_ACESSO: int, IN_TRANSCRICAO: int, IN_LIBRAS: int, IN_LEITURA_LABIAL: int, IN_MESA_CADEIRA_RODAS: int, IN_MESA_CADEIRA_SEPARADA: int, IN_APOIO_PERNA: int, IN_GUIA_INTERPRETE: int, IN_COMPUTADOR: int, IN_CADEIRA_ESPECIAL: int, IN_CADEIRA_CANHOTO: int, IN_CADEIRA_ACOLCHOADA: int, IN_PROVA_DEITADO: int, IN_MOBILIARIO_OBESO: int, IN_LAMINA_OVERLAY: int, IN_PROTETOR_AURICULAR: int, IN_MEDIDOR_GLICOSE: int, IN_MAQUINA_BRAILE: int, IN_SOROBAN: int, IN_MARCA_PASSO: int, IN_SONDA: int, IN_MEDICAMENTOS: int, IN_SALA_INDIVIDUAL: int, IN_SALA_ESPECIAL: int, IN_SALA_ACOMPANHANTE: int, IN_MOBILIARIO_ESPECIFICO: int, IN_NOME_SOCIAL: int, NO_MUNICIPIO_PROVA: string, CO_UF_PROVA: int, SG_UF_PROVA: string, TP_PRESENCA_CN: int, TP_PRESENCA_CH: int, TP_PRESENCA_LC: int, TP_PRESENCA_MT: int, NU_NOTA_CN: double, NU_NOTA_CH: double, NU_NOTA_LC: double, NU_NOTA_MT: double, TP_LINGUA: int, TP_STATUS_REDACAO: int, NU_NOTA_COMP1: int, NU_NOTA_COMP2: int, NU_NOTA_COMP3: int, NU_NOTA_COMP4: int, NU_NOTA_COMP5: int, NU_NOTA_REDACAO: int, Q001: string, Q002: string, Q005: int, Q006: string, Q022: string, Q024: string, Q025: string, SEXO: string, ESTADO_CIVIL: string, RACA: string, NACIONALIDADE: string, SITUACAO_CONCLUSAO_ENSINO_MEDIO: string, TIPO_ESCOLA: string, TIPO_ENSINO: string, TREINEIRO: string, DEPENDENCIA_ADMINISTRATIVA_ESCOLA: string, LOCALIZACAO_ESCOLA: string, BAIXA_VISAO: string, CEGUEIRA: string, SURDEZ: string, DEFICIENCIA_AUDITIVA: string, SURDO_CEGUEIRA: string, DEFICIENCIA_FISICA: string, DEFICIENCIA_MENTAL: string, DEFICIT_ATENCAO: string, DISLEXIA: string, DISCALCULIA: string, AUTISMO: string, VISAO_MONOCULAR: string, OUTRA_DEF: string, GESTANTE: string, LACTANTE: string, IDOSO: string, ESTUDA_CLASSE_HOSPITALAR: string, SEM_RECURSO: string, BRAILLE: string, AMPLIADA_24: string, AMPLIADA_18: string, LEDOR: string, ACESSO: string, TRANSCRICAO: string, LIBRAS: string, LEITURA_LABIAL: string, MESA_CADEIRA_RODAS: string, MESA_CADEIRA_SEPARADA: string, APOIO_PERNA: string, GUIA_INTERPRETE: string, COMPUTADOR: string, CADEIRA_ESPECIAL: string, CADEIRA_CANHOTO: string, CADEIRA_ACOLCHOADA: string, PROVA_DEITADO: string, MOBILIARIO_OBESO: string, LAMINA_OVERLAY: string, PROTETOR_AURICULAR: string, MEDIDOR_GLICOSE: string, MAQUINA_BRAILE: string, SOROBAN: string, MARCA_PASSO: string, SONDA: string, MEDICAMENTOS: string, SALA_INDIVIDUAL: string, SALA_ESPECIAL: string, SALA_ACOMPANHANTE: string, MOBILIARIO_ESPECIFICO: string, NOME_SOCIAL: string, PRESENCA_CIENCIAS_NATUREZA: string, PRESENCA_CIENCIAS_HUMANAS: string, PRESENCA_LINGUAGENS_CODIGOS: string, PRESENCA_MATEMATICA: string, LINGUA: string, STATUS_REDACAO: string, PAI_ESTUDOU: string, MAE_ESTUDOU: string, QTDE_MORADOR_RESIDENCIA: string, RENDA_MENSAL_FAMILIAR: string, RESIDENCIA_CELULAR: string, RESIDENCIA_COMPUTADOR: string, RESIDENCIA_INTERNET: string, DEFICIENTE: string, APROVADO: string, AUSENTE: string, NOTA_MEDIA: double]"
     },
     "metadata": {}
    }
   ],
   "source": [
    "# Apresentação da Estrutura do Dataframe df_enem_analise.\n",
    "\n",
    "print('Apresentação da Estrutura do Dataframe df_enem_analise')\n",
    "display(df_enem_analise)"
   ]
  },
  {
   "cell_type": "code",
   "execution_count": 11,
   "metadata": {
    "tags": []
   },
   "outputs": [
    {
     "output_type": "stream",
     "name": "stdout",
     "text": "Outra forma de apresentação da Estrutura do Dataframe df_enem_analise\nroot\n |-- NU_INSCRICAO: long (nullable = true)\n |-- NU_ANO: integer (nullable = true)\n |-- NO_MUNICIPIO_RESIDENCIA: string (nullable = true)\n |-- CO_UF_RESIDENCIA: integer (nullable = true)\n |-- SG_UF_RESIDENCIA: string (nullable = true)\n |-- NU_IDADE: integer (nullable = true)\n |-- TP_SEXO: string (nullable = true)\n |-- TP_ESTADO_CIVIL: integer (nullable = true)\n |-- TP_COR_RACA: integer (nullable = true)\n |-- TP_NACIONALIDADE: integer (nullable = true)\n |-- NO_MUNICIPIO_NASCIMENTO: string (nullable = true)\n |-- CO_UF_NASCIMENTO: integer (nullable = true)\n |-- SG_UF_NASCIMENTO: string (nullable = true)\n |-- TP_ST_CONCLUSAO: integer (nullable = true)\n |-- TP_ESCOLA: integer (nullable = true)\n |-- TP_ENSINO: integer (nullable = true)\n |-- IN_TREINEIRO: integer (nullable = true)\n |-- CO_UF_ESC: integer (nullable = true)\n |-- SG_UF_ESC: string (nullable = true)\n |-- TP_DEPENDENCIA_ADM_ESC: integer (nullable = true)\n |-- TP_LOCALIZACAO_ESC: integer (nullable = true)\n |-- IN_BAIXA_VISAO: integer (nullable = true)\n |-- IN_CEGUEIRA: integer (nullable = true)\n |-- IN_SURDEZ: integer (nullable = true)\n |-- IN_DEFICIENCIA_AUDITIVA: integer (nullable = true)\n |-- IN_SURDO_CEGUEIRA: integer (nullable = true)\n |-- IN_DEFICIENCIA_FISICA: integer (nullable = true)\n |-- IN_DEFICIENCIA_MENTAL: integer (nullable = true)\n |-- IN_DEFICIT_ATENCAO: integer (nullable = true)\n |-- IN_DISLEXIA: integer (nullable = true)\n |-- IN_DISCALCULIA: integer (nullable = true)\n |-- IN_AUTISMO: integer (nullable = true)\n |-- IN_VISAO_MONOCULAR: integer (nullable = true)\n |-- IN_OUTRA_DEF: integer (nullable = true)\n |-- IN_GESTANTE: integer (nullable = true)\n |-- IN_LACTANTE: integer (nullable = true)\n |-- IN_IDOSO: integer (nullable = true)\n |-- IN_ESTUDA_CLASSE_HOSPITALAR: integer (nullable = true)\n |-- IN_SEM_RECURSO: integer (nullable = true)\n |-- IN_BRAILLE: integer (nullable = true)\n |-- IN_AMPLIADA_24: integer (nullable = true)\n |-- IN_AMPLIADA_18: integer (nullable = true)\n |-- IN_LEDOR: integer (nullable = true)\n |-- IN_ACESSO: integer (nullable = true)\n |-- IN_TRANSCRICAO: integer (nullable = true)\n |-- IN_LIBRAS: integer (nullable = true)\n |-- IN_LEITURA_LABIAL: integer (nullable = true)\n |-- IN_MESA_CADEIRA_RODAS: integer (nullable = true)\n |-- IN_MESA_CADEIRA_SEPARADA: integer (nullable = true)\n |-- IN_APOIO_PERNA: integer (nullable = true)\n |-- IN_GUIA_INTERPRETE: integer (nullable = true)\n |-- IN_COMPUTADOR: integer (nullable = true)\n |-- IN_CADEIRA_ESPECIAL: integer (nullable = true)\n |-- IN_CADEIRA_CANHOTO: integer (nullable = true)\n |-- IN_CADEIRA_ACOLCHOADA: integer (nullable = true)\n |-- IN_PROVA_DEITADO: integer (nullable = true)\n |-- IN_MOBILIARIO_OBESO: integer (nullable = true)\n |-- IN_LAMINA_OVERLAY: integer (nullable = true)\n |-- IN_PROTETOR_AURICULAR: integer (nullable = true)\n |-- IN_MEDIDOR_GLICOSE: integer (nullable = true)\n |-- IN_MAQUINA_BRAILE: integer (nullable = true)\n |-- IN_SOROBAN: integer (nullable = true)\n |-- IN_MARCA_PASSO: integer (nullable = true)\n |-- IN_SONDA: integer (nullable = true)\n |-- IN_MEDICAMENTOS: integer (nullable = true)\n |-- IN_SALA_INDIVIDUAL: integer (nullable = true)\n |-- IN_SALA_ESPECIAL: integer (nullable = true)\n |-- IN_SALA_ACOMPANHANTE: integer (nullable = true)\n |-- IN_MOBILIARIO_ESPECIFICO: integer (nullable = true)\n |-- IN_NOME_SOCIAL: integer (nullable = true)\n |-- NO_MUNICIPIO_PROVA: string (nullable = true)\n |-- CO_UF_PROVA: integer (nullable = true)\n |-- SG_UF_PROVA: string (nullable = true)\n |-- TP_PRESENCA_CN: integer (nullable = true)\n |-- TP_PRESENCA_CH: integer (nullable = true)\n |-- TP_PRESENCA_LC: integer (nullable = true)\n |-- TP_PRESENCA_MT: integer (nullable = true)\n |-- NU_NOTA_CN: double (nullable = true)\n |-- NU_NOTA_CH: double (nullable = true)\n |-- NU_NOTA_LC: double (nullable = true)\n |-- NU_NOTA_MT: double (nullable = true)\n |-- TP_LINGUA: integer (nullable = true)\n |-- TP_STATUS_REDACAO: integer (nullable = true)\n |-- NU_NOTA_COMP1: integer (nullable = true)\n |-- NU_NOTA_COMP2: integer (nullable = true)\n |-- NU_NOTA_COMP3: integer (nullable = true)\n |-- NU_NOTA_COMP4: integer (nullable = true)\n |-- NU_NOTA_COMP5: integer (nullable = true)\n |-- NU_NOTA_REDACAO: integer (nullable = true)\n |-- Q001: string (nullable = true)\n |-- Q002: string (nullable = true)\n |-- Q005: integer (nullable = true)\n |-- Q006: string (nullable = true)\n |-- Q022: string (nullable = true)\n |-- Q024: string (nullable = true)\n |-- Q025: string (nullable = true)\n |-- SEXO: string (nullable = false)\n |-- ESTADO_CIVIL: string (nullable = false)\n |-- RACA: string (nullable = false)\n |-- NACIONALIDADE: string (nullable = false)\n |-- SITUACAO_CONCLUSAO_ENSINO_MEDIO: string (nullable = false)\n |-- TIPO_ESCOLA: string (nullable = false)\n |-- TIPO_ENSINO: string (nullable = false)\n |-- TREINEIRO: string (nullable = false)\n |-- DEPENDENCIA_ADMINISTRATIVA_ESCOLA: string (nullable = false)\n |-- LOCALIZACAO_ESCOLA: string (nullable = false)\n |-- BAIXA_VISAO: string (nullable = false)\n |-- CEGUEIRA: string (nullable = false)\n |-- SURDEZ: string (nullable = false)\n |-- DEFICIENCIA_AUDITIVA: string (nullable = false)\n |-- SURDO_CEGUEIRA: string (nullable = false)\n |-- DEFICIENCIA_FISICA: string (nullable = false)\n |-- DEFICIENCIA_MENTAL: string (nullable = false)\n |-- DEFICIT_ATENCAO: string (nullable = false)\n |-- DISLEXIA: string (nullable = false)\n |-- DISCALCULIA: string (nullable = false)\n |-- AUTISMO: string (nullable = false)\n |-- VISAO_MONOCULAR: string (nullable = false)\n |-- OUTRA_DEF: string (nullable = false)\n |-- GESTANTE: string (nullable = false)\n |-- LACTANTE: string (nullable = false)\n |-- IDOSO: string (nullable = false)\n |-- ESTUDA_CLASSE_HOSPITALAR: string (nullable = false)\n |-- SEM_RECURSO: string (nullable = false)\n |-- BRAILLE: string (nullable = false)\n |-- AMPLIADA_24: string (nullable = false)\n |-- AMPLIADA_18: string (nullable = false)\n |-- LEDOR: string (nullable = false)\n |-- ACESSO: string (nullable = false)\n |-- TRANSCRICAO: string (nullable = false)\n |-- LIBRAS: string (nullable = false)\n |-- LEITURA_LABIAL: string (nullable = false)\n |-- MESA_CADEIRA_RODAS: string (nullable = false)\n |-- MESA_CADEIRA_SEPARADA: string (nullable = false)\n |-- APOIO_PERNA: string (nullable = false)\n |-- GUIA_INTERPRETE: string (nullable = false)\n |-- COMPUTADOR: string (nullable = false)\n |-- CADEIRA_ESPECIAL: string (nullable = false)\n |-- CADEIRA_CANHOTO: string (nullable = false)\n |-- CADEIRA_ACOLCHOADA: string (nullable = false)\n |-- PROVA_DEITADO: string (nullable = false)\n |-- MOBILIARIO_OBESO: string (nullable = false)\n |-- LAMINA_OVERLAY: string (nullable = false)\n |-- PROTETOR_AURICULAR: string (nullable = false)\n |-- MEDIDOR_GLICOSE: string (nullable = false)\n |-- MAQUINA_BRAILE: string (nullable = false)\n |-- SOROBAN: string (nullable = false)\n |-- MARCA_PASSO: string (nullable = false)\n |-- SONDA: string (nullable = false)\n |-- MEDICAMENTOS: string (nullable = false)\n |-- SALA_INDIVIDUAL: string (nullable = false)\n |-- SALA_ESPECIAL: string (nullable = false)\n |-- SALA_ACOMPANHANTE: string (nullable = false)\n |-- MOBILIARIO_ESPECIFICO: string (nullable = false)\n |-- NOME_SOCIAL: string (nullable = false)\n |-- PRESENCA_CIENCIAS_NATUREZA: string (nullable = false)\n |-- PRESENCA_CIENCIAS_HUMANAS: string (nullable = false)\n |-- PRESENCA_LINGUAGENS_CODIGOS: string (nullable = false)\n |-- PRESENCA_MATEMATICA: string (nullable = false)\n |-- LINGUA: string (nullable = false)\n |-- STATUS_REDACAO: string (nullable = false)\n |-- PAI_ESTUDOU: string (nullable = false)\n |-- MAE_ESTUDOU: string (nullable = false)\n |-- QTDE_MORADOR_RESIDENCIA: string (nullable = false)\n |-- RENDA_MENSAL_FAMILIAR: string (nullable = false)\n |-- RESIDENCIA_CELULAR: string (nullable = false)\n |-- RESIDENCIA_COMPUTADOR: string (nullable = false)\n |-- RESIDENCIA_INTERNET: string (nullable = false)\n |-- DEFICIENTE: string (nullable = false)\n |-- APROVADO: string (nullable = false)\n |-- AUSENTE: string (nullable = false)\n |-- NOTA_MEDIA: double (nullable = true)\n\n"
    }
   ],
   "source": [
    "# Outra forma de apresentação da Estrutura do Dataframe df_enem_analise.\n",
    "\n",
    "print('Outra forma de apresentação da Estrutura do Dataframe df_enem_analise')\n",
    "df_enem_analise.printSchema()"
   ]
  },
  {
   "cell_type": "code",
   "execution_count": 12,
   "metadata": {
    "tags": []
   },
   "outputs": [
    {
     "output_type": "stream",
     "name": "stdout",
     "text": "Apresentação das colunas do Dataframe df_enem_analise\n"
    },
    {
     "output_type": "execute_result",
     "data": {
      "text/plain": "['NU_INSCRICAO',\n 'NU_ANO',\n 'NO_MUNICIPIO_RESIDENCIA',\n 'CO_UF_RESIDENCIA',\n 'SG_UF_RESIDENCIA',\n 'NU_IDADE',\n 'TP_SEXO',\n 'TP_ESTADO_CIVIL',\n 'TP_COR_RACA',\n 'TP_NACIONALIDADE',\n 'NO_MUNICIPIO_NASCIMENTO',\n 'CO_UF_NASCIMENTO',\n 'SG_UF_NASCIMENTO',\n 'TP_ST_CONCLUSAO',\n 'TP_ESCOLA',\n 'TP_ENSINO',\n 'IN_TREINEIRO',\n 'CO_UF_ESC',\n 'SG_UF_ESC',\n 'TP_DEPENDENCIA_ADM_ESC',\n 'TP_LOCALIZACAO_ESC',\n 'IN_BAIXA_VISAO',\n 'IN_CEGUEIRA',\n 'IN_SURDEZ',\n 'IN_DEFICIENCIA_AUDITIVA',\n 'IN_SURDO_CEGUEIRA',\n 'IN_DEFICIENCIA_FISICA',\n 'IN_DEFICIENCIA_MENTAL',\n 'IN_DEFICIT_ATENCAO',\n 'IN_DISLEXIA',\n 'IN_DISCALCULIA',\n 'IN_AUTISMO',\n 'IN_VISAO_MONOCULAR',\n 'IN_OUTRA_DEF',\n 'IN_GESTANTE',\n 'IN_LACTANTE',\n 'IN_IDOSO',\n 'IN_ESTUDA_CLASSE_HOSPITALAR',\n 'IN_SEM_RECURSO',\n 'IN_BRAILLE',\n 'IN_AMPLIADA_24',\n 'IN_AMPLIADA_18',\n 'IN_LEDOR',\n 'IN_ACESSO',\n 'IN_TRANSCRICAO',\n 'IN_LIBRAS',\n 'IN_LEITURA_LABIAL',\n 'IN_MESA_CADEIRA_RODAS',\n 'IN_MESA_CADEIRA_SEPARADA',\n 'IN_APOIO_PERNA',\n 'IN_GUIA_INTERPRETE',\n 'IN_COMPUTADOR',\n 'IN_CADEIRA_ESPECIAL',\n 'IN_CADEIRA_CANHOTO',\n 'IN_CADEIRA_ACOLCHOADA',\n 'IN_PROVA_DEITADO',\n 'IN_MOBILIARIO_OBESO',\n 'IN_LAMINA_OVERLAY',\n 'IN_PROTETOR_AURICULAR',\n 'IN_MEDIDOR_GLICOSE',\n 'IN_MAQUINA_BRAILE',\n 'IN_SOROBAN',\n 'IN_MARCA_PASSO',\n 'IN_SONDA',\n 'IN_MEDICAMENTOS',\n 'IN_SALA_INDIVIDUAL',\n 'IN_SALA_ESPECIAL',\n 'IN_SALA_ACOMPANHANTE',\n 'IN_MOBILIARIO_ESPECIFICO',\n 'IN_NOME_SOCIAL',\n 'NO_MUNICIPIO_PROVA',\n 'CO_UF_PROVA',\n 'SG_UF_PROVA',\n 'TP_PRESENCA_CN',\n 'TP_PRESENCA_CH',\n 'TP_PRESENCA_LC',\n 'TP_PRESENCA_MT',\n 'NU_NOTA_CN',\n 'NU_NOTA_CH',\n 'NU_NOTA_LC',\n 'NU_NOTA_MT',\n 'TP_LINGUA',\n 'TP_STATUS_REDACAO',\n 'NU_NOTA_COMP1',\n 'NU_NOTA_COMP2',\n 'NU_NOTA_COMP3',\n 'NU_NOTA_COMP4',\n 'NU_NOTA_COMP5',\n 'NU_NOTA_REDACAO',\n 'Q001',\n 'Q002',\n 'Q005',\n 'Q006',\n 'Q022',\n 'Q024',\n 'Q025',\n 'SEXO',\n 'ESTADO_CIVIL',\n 'RACA',\n 'NACIONALIDADE',\n 'SITUACAO_CONCLUSAO_ENSINO_MEDIO',\n 'TIPO_ESCOLA',\n 'TIPO_ENSINO',\n 'TREINEIRO',\n 'DEPENDENCIA_ADMINISTRATIVA_ESCOLA',\n 'LOCALIZACAO_ESCOLA',\n 'BAIXA_VISAO',\n 'CEGUEIRA',\n 'SURDEZ',\n 'DEFICIENCIA_AUDITIVA',\n 'SURDO_CEGUEIRA',\n 'DEFICIENCIA_FISICA',\n 'DEFICIENCIA_MENTAL',\n 'DEFICIT_ATENCAO',\n 'DISLEXIA',\n 'DISCALCULIA',\n 'AUTISMO',\n 'VISAO_MONOCULAR',\n 'OUTRA_DEF',\n 'GESTANTE',\n 'LACTANTE',\n 'IDOSO',\n 'ESTUDA_CLASSE_HOSPITALAR',\n 'SEM_RECURSO',\n 'BRAILLE',\n 'AMPLIADA_24',\n 'AMPLIADA_18',\n 'LEDOR',\n 'ACESSO',\n 'TRANSCRICAO',\n 'LIBRAS',\n 'LEITURA_LABIAL',\n 'MESA_CADEIRA_RODAS',\n 'MESA_CADEIRA_SEPARADA',\n 'APOIO_PERNA',\n 'GUIA_INTERPRETE',\n 'COMPUTADOR',\n 'CADEIRA_ESPECIAL',\n 'CADEIRA_CANHOTO',\n 'CADEIRA_ACOLCHOADA',\n 'PROVA_DEITADO',\n 'MOBILIARIO_OBESO',\n 'LAMINA_OVERLAY',\n 'PROTETOR_AURICULAR',\n 'MEDIDOR_GLICOSE',\n 'MAQUINA_BRAILE',\n 'SOROBAN',\n 'MARCA_PASSO',\n 'SONDA',\n 'MEDICAMENTOS',\n 'SALA_INDIVIDUAL',\n 'SALA_ESPECIAL',\n 'SALA_ACOMPANHANTE',\n 'MOBILIARIO_ESPECIFICO',\n 'NOME_SOCIAL',\n 'PRESENCA_CIENCIAS_NATUREZA',\n 'PRESENCA_CIENCIAS_HUMANAS',\n 'PRESENCA_LINGUAGENS_CODIGOS',\n 'PRESENCA_MATEMATICA',\n 'LINGUA',\n 'STATUS_REDACAO',\n 'PAI_ESTUDOU',\n 'MAE_ESTUDOU',\n 'QTDE_MORADOR_RESIDENCIA',\n 'RENDA_MENSAL_FAMILIAR',\n 'RESIDENCIA_CELULAR',\n 'RESIDENCIA_COMPUTADOR',\n 'RESIDENCIA_INTERNET',\n 'DEFICIENTE',\n 'APROVADO',\n 'AUSENTE',\n 'NOTA_MEDIA']"
     },
     "metadata": {},
     "execution_count": 12
    }
   ],
   "source": [
    "# Apresentação das colunas do Dataframe df_enem_analise.\n",
    "\n",
    "print('Apresentação das colunas do Dataframe df_enem_analise')\n",
    "df_enem_analise.columns"
   ]
  },
  {
   "cell_type": "code",
   "execution_count": 13,
   "metadata": {
    "tags": []
   },
   "outputs": [
    {
     "output_type": "stream",
     "name": "stdout",
     "text": "Apresentação da quantidade de linhas do Dataframe df_enem_analise\n"
    },
    {
     "output_type": "execute_result",
     "data": {
      "text/plain": "33714152"
     },
     "metadata": {},
     "execution_count": 13
    }
   ],
   "source": [
    "# Apresentação da quantidade de linhas do Dataframe df_enem_analise.\n",
    "\n",
    "print('Apresentação da quantidade de linhas do Dataframe df_enem_analise')\n",
    "df_enem_analise.count()"
   ]
  },
  {
   "cell_type": "code",
   "execution_count": 14,
   "metadata": {
    "tags": []
   },
   "outputs": [
    {
     "output_type": "stream",
     "name": "stdout",
     "text": "Apresentação da quantidade de aprovados do Dataframe df_enem_analise\nSim - Aprovado\nNão - Reprovado\n+--------+--------+\n|APROVADO|   count|\n+--------+--------+\n|     Sim|19022895|\n|     Não|14691257|\n+--------+--------+\n\n"
    }
   ],
   "source": [
    "# Apresentação da quantidade de aprovados do Dataframe df_enem_analise.\n",
    "\n",
    "print('Apresentação da quantidade de aprovados do Dataframe df_enem_analise')\n",
    "print('Sim - Aprovado')\n",
    "print('Não - Reprovado')\n",
    "\n",
    "df_enem_analise.groupBy('APROVADO').count().orderBy('APROVADO').sort('count', ascending=False).show()"
   ]
  },
  {
   "cell_type": "code",
   "execution_count": 30,
   "metadata": {
    "tags": []
   },
   "outputs": [
    {
     "output_type": "stream",
     "name": "stdout",
     "text": "Criação Dataframe df_enem_analise_ml iniciada - 2020-09-20 18:31:31.965643.\nCriação Dataframe df_enem_analise_ml com sucesso - 2020-09-20 18:31:32.063379.\n"
    }
   ],
   "source": [
    "# Criação do Dataframe para utilização dos algoritmos de machine learning de classificação.\n",
    "\n",
    "print(f'Criação Dataframe df_enem_analise_ml iniciada - {datetime.now()}.')\n",
    "\n",
    "df_enem_analise_ml = sqlContext.sql('SELECT APROVADO, PAI_ESTUDOU, MAE_ESTUDOU, QTDE_MORADOR_RESIDENCIA, RENDA_MENSAL_FAMILIAR, RESIDENCIA_CELULAR, RESIDENCIA_COMPUTADOR, RESIDENCIA_INTERNET, DEFICIENTE, ESTADO_CIVIL, RACA FROM enemtb WHERE NU_ANO = 2015')\n",
    "\n",
    "print(f'Criação Dataframe df_enem_analise_ml com sucesso - {datetime.now()}.')"
   ]
  },
  {
   "cell_type": "code",
   "execution_count": 31,
   "metadata": {
    "tags": []
   },
   "outputs": [
    {
     "output_type": "stream",
     "name": "stdout",
     "text": "Apresentação da quantidade de linhas do Dataframe df_enem_analise\n"
    },
    {
     "output_type": "execute_result",
     "data": {
      "text/plain": "7746427"
     },
     "metadata": {},
     "execution_count": 31
    }
   ],
   "source": [
    "# Apresentação da quantidade de linhas do Dataframe df_enem_analise.\n",
    "\n",
    "print('Apresentação da quantidade de linhas do Dataframe df_enem_analise')\n",
    "df_enem_analise_ml.count()"
   ]
  },
  {
   "cell_type": "code",
   "execution_count": 32,
   "metadata": {
    "tags": []
   },
   "outputs": [
    {
     "output_type": "stream",
     "name": "stdout",
     "text": "Criação da variável indexers, convertendo as colunas de String para Int, através da instância StringIndexer - 2020-09-20 18:33:40.380120.\nCriação da variável indexers, convertendo as colunas de String para Int, através da instância StringIndexer com sucesso - 2020-09-20 18:55:32.946724.\n"
    }
   ],
   "source": [
    "# Criação das variáveis indexer, convertendo as colunas de String para Int, através da instância StringIndexer.\n",
    "\n",
    "print(f'Criação da variável indexers, convertendo as colunas de String para Int, através da instância StringIndexer - {datetime.now()}.')\n",
    "\n",
    "indexers = [StringIndexer(inputCol=column, outputCol=column+\"_index\").fit(df_enem_analise_ml) for column in list(set(df_enem_analise_ml.columns))]\n",
    "\n",
    "print(f'Criação da variável indexers, convertendo as colunas de String para Int, através da instância StringIndexer com sucesso - {datetime.now()}.')"
   ]
  },
  {
   "cell_type": "code",
   "execution_count": 33,
   "metadata": {
    "tags": []
   },
   "outputs": [
    {
     "output_type": "stream",
     "name": "stdout",
     "text": "Criação de um novo Dataframe output_fixed com a inclusão das colunas Index - 2020-09-20 18:57:01.424294.\nCriação de um novo Dataframe output_fixed com a inclusão das colunas Index com sucesso - 2020-09-20 18:57:02.029985.\n"
    }
   ],
   "source": [
    "# Criação de um novo Dataframe output_fixed com a inclusão das colunas Index.\n",
    "\n",
    "print(f'Criação de um novo Dataframe output_fixed com a inclusão das colunas Index - {datetime.now()}.')\n",
    "\n",
    "pipeline = Pipeline(stages=indexers)\n",
    "\n",
    "output_fixed = pipeline.fit(df_enem_analise_ml).transform(df_enem_analise_ml)\n",
    "\n",
    "print(f'Criação de um novo Dataframe output_fixed com a inclusão das colunas Index com sucesso - {datetime.now()}.')"
   ]
  },
  {
   "cell_type": "code",
   "execution_count": 34,
   "metadata": {
    "tags": []
   },
   "outputs": [
    {
     "output_type": "stream",
     "name": "stdout",
     "text": "Apresentação da estrutura do Dataframe output_fixed - 2020-09-20 18:57:04.704069.\nroot\n |-- APROVADO: string (nullable = false)\n |-- PAI_ESTUDOU: string (nullable = false)\n |-- MAE_ESTUDOU: string (nullable = false)\n |-- QTDE_MORADOR_RESIDENCIA: string (nullable = false)\n |-- RENDA_MENSAL_FAMILIAR: string (nullable = false)\n |-- RESIDENCIA_CELULAR: string (nullable = false)\n |-- RESIDENCIA_COMPUTADOR: string (nullable = false)\n |-- RESIDENCIA_INTERNET: string (nullable = false)\n |-- DEFICIENTE: string (nullable = false)\n |-- ESTADO_CIVIL: string (nullable = false)\n |-- RACA: string (nullable = false)\n |-- MAE_ESTUDOU_index: double (nullable = false)\n |-- RESIDENCIA_COMPUTADOR_index: double (nullable = false)\n |-- RACA_index: double (nullable = false)\n |-- QTDE_MORADOR_RESIDENCIA_index: double (nullable = false)\n |-- DEFICIENTE_index: double (nullable = false)\n |-- RESIDENCIA_CELULAR_index: double (nullable = false)\n |-- RENDA_MENSAL_FAMILIAR_index: double (nullable = false)\n |-- RESIDENCIA_INTERNET_index: double (nullable = false)\n |-- ESTADO_CIVIL_index: double (nullable = false)\n |-- PAI_ESTUDOU_index: double (nullable = false)\n |-- APROVADO_index: double (nullable = false)\n\n"
    }
   ],
   "source": [
    "# Apresentação da estrutura do Dataframe output_fixed.\n",
    "\n",
    "print(f'Apresentação da estrutura do Dataframe output_fixed - {datetime.now()}.')\n",
    "output_fixed.printSchema()"
   ]
  },
  {
   "cell_type": "code",
   "execution_count": 35,
   "metadata": {},
   "outputs": [
    {
     "output_type": "execute_result",
     "data": {
      "text/plain": "['APROVADO',\n 'PAI_ESTUDOU',\n 'MAE_ESTUDOU',\n 'QTDE_MORADOR_RESIDENCIA',\n 'RENDA_MENSAL_FAMILIAR',\n 'RESIDENCIA_CELULAR',\n 'RESIDENCIA_COMPUTADOR',\n 'RESIDENCIA_INTERNET',\n 'DEFICIENTE',\n 'ESTADO_CIVIL',\n 'RACA',\n 'MAE_ESTUDOU_index',\n 'RESIDENCIA_COMPUTADOR_index',\n 'RACA_index',\n 'QTDE_MORADOR_RESIDENCIA_index',\n 'DEFICIENTE_index',\n 'RESIDENCIA_CELULAR_index',\n 'RENDA_MENSAL_FAMILIAR_index',\n 'RESIDENCIA_INTERNET_index',\n 'ESTADO_CIVIL_index',\n 'PAI_ESTUDOU_index',\n 'APROVADO_index']"
     },
     "metadata": {},
     "execution_count": 35
    }
   ],
   "source": [
    "output_fixed.colum"
   ]
  },
  {
   "cell_type": "code",
   "execution_count": 36,
   "metadata": {
    "tags": []
   },
   "outputs": [
    {
     "output_type": "stream",
     "name": "stdout",
     "text": "Criação da variável myAssembler, Criação da Coluna features - coluna de vetores - 2020-09-20 19:00:07.940276\nCriação da variável myAssembler, Criação da Coluna features - coluna de vetores com sucesso- 2020-09-20 19:00:07.950276\n"
    }
   ],
   "source": [
    "# Criação da variável myAssembler, criando a coluna features de vetores, dos dados relevantes para a análise da previção\n",
    "# de aprovados do Enem dos anos de 2015, 2016, 2017, 2018 e 2019 , através da instância VectorAssembler.\n",
    "\n",
    "print(f'Criação da variável myAssembler, Criação da Coluna features - coluna de vetores - {datetime.now()}')\n",
    "\n",
    "myAssembler = VectorAssembler(inputCols=['MAE_ESTUDOU_index', 'RESIDENCIA_COMPUTADOR_index', 'RACA_index', 'QTDE_MORADOR_RESIDENCIA_index', 'DEFICIENTE_index', 'RESIDENCIA_CELULAR_index', 'RENDA_MENSAL_FAMILIAR_index', 'RESIDENCIA_INTERNET_index', 'ESTADO_CIVIL_index', 'PAI_ESTUDOU_index'],outputCol='features')\n",
    "\n",
    "print(f'Criação da variável myAssembler, Criação da Coluna features - coluna de vetores com sucesso- {datetime.now()}')"
   ]
  },
  {
   "cell_type": "code",
   "execution_count": 37,
   "metadata": {
    "tags": []
   },
   "outputs": [
    {
     "output_type": "stream",
     "name": "stdout",
     "text": "Criação do Dataframe output\n"
    }
   ],
   "source": [
    "# Criação do Dataframe output com os dados do Datafrma output_fixed e a inclusão da coluna features.\n",
    "\n",
    "print('Criação do Dataframe output')\n",
    "output = myAssembler.transform(output_fixed)\n"
   ]
  },
  {
   "cell_type": "code",
   "execution_count": 38,
   "metadata": {
    "tags": []
   },
   "outputs": [
    {
     "output_type": "stream",
     "name": "stdout",
     "text": "Apresentação da Estrutura do Dataframe df_enem_analise\n"
    },
    {
     "output_type": "display_data",
     "data": {
      "text/plain": "DataFrame[APROVADO: string, PAI_ESTUDOU: string, MAE_ESTUDOU: string, QTDE_MORADOR_RESIDENCIA: string, RENDA_MENSAL_FAMILIAR: string, RESIDENCIA_CELULAR: string, RESIDENCIA_COMPUTADOR: string, RESIDENCIA_INTERNET: string, DEFICIENTE: string, ESTADO_CIVIL: string, RACA: string, MAE_ESTUDOU_index: double, RESIDENCIA_COMPUTADOR_index: double, RACA_index: double, QTDE_MORADOR_RESIDENCIA_index: double, DEFICIENTE_index: double, RESIDENCIA_CELULAR_index: double, RENDA_MENSAL_FAMILIAR_index: double, RESIDENCIA_INTERNET_index: double, ESTADO_CIVIL_index: double, PAI_ESTUDOU_index: double, APROVADO_index: double, features: vector]"
     },
     "metadata": {}
    }
   ],
   "source": [
    "# Apresentação da Estrutura do Dataframe df_enem_analise.\n",
    "\n",
    "print('Apresentação da Estrutura do Dataframe df_enem_analise')\n",
    "\n",
    "display(output)"
   ]
  },
  {
   "cell_type": "code",
   "execution_count": 39,
   "metadata": {
    "tags": []
   },
   "outputs": [
    {
     "output_type": "stream",
     "name": "stdout",
     "text": "Apresentação das 20 primeiras linhas do Dataframe output\n+--------+--------------------+--------------------+-----------------------+---------------------+--------------------+---------------------+-------------------+----------+--------------------+-------+-----------------+---------------------------+----------+-----------------------------+----------------+------------------------+---------------------------+-------------------------+------------------+-----------------+--------------+--------------------+\n|APROVADO|         PAI_ESTUDOU|         MAE_ESTUDOU|QTDE_MORADOR_RESIDENCIA|RENDA_MENSAL_FAMILIAR|  RESIDENCIA_CELULAR|RESIDENCIA_COMPUTADOR|RESIDENCIA_INTERNET|DEFICIENTE|        ESTADO_CIVIL|   RACA|MAE_ESTUDOU_index|RESIDENCIA_COMPUTADOR_index|RACA_index|QTDE_MORADOR_RESIDENCIA_index|DEFICIENTE_index|RESIDENCIA_CELULAR_index|RENDA_MENSAL_FAMILIAR_index|RESIDENCIA_INTERNET_index|ESTADO_CIVIL_index|PAI_ESTUDOU_index|APROVADO_index|            features|\n+--------+--------------------+--------------------+-----------------------+---------------------+--------------------+---------------------+-------------------+----------+--------------------+-------+-----------------+---------------------------+----------+-----------------------------+----------------+------------------------+---------------------------+-------------------------+------------------+-----------------+--------------+--------------------+\n|     Sim|      Nunca estudou.|      Nunca estudou.|                      3| Acima de 1,5 salá...|            Sim, um.|             Sim, um.|                Sim|       Não|Casado(a)/Mora co...| Branca|              6.0|                        0.0|       1.0|                          1.0|             0.0|                     2.0|                        2.0|                      0.0|               1.0|              5.0|           0.0|[6.0,0.0,1.0,1.0,...|\n|     Não|Completou o Ensin...|Completou o Ensin...|                      3| Até 1,0 salário m...|          Sim, três.|             Sim, um.|                Sim|       Não|         Solteiro(a)|  Parda|              0.0|                        0.0|       0.0|                          1.0|             0.0|                     1.0|                        1.0|                      0.0|               0.0|              0.0|           1.0|(10,[3,5,6],[1.0,...|\n|     Sim|Completou o Ensin...|Completou a 4ª sé...|                      3| Até 1,0 salário m...|          Sim, dois.|             Sim, um.|                Não|       Não|Casado(a)/Mora co...|  Preta|              2.0|                        0.0|       2.0|                          1.0|             0.0|                     0.0|                        1.0|                      1.0|               1.0|              0.0|           0.0|[2.0,0.0,2.0,1.0,...|\n|     Não|Completou o Ensin...|Completou o Ensin...|                      3| Acima de 2,5 salá...|          Sim, três.|             Sim, um.|                Sim|       Não|         Solteiro(a)|Amarela|              0.0|                        0.0|       3.0|                          1.0|             0.0|                     1.0|                        4.0|                      0.0|               0.0|              0.0|           1.0|(10,[2,3,5,6],[3....|\n|     Sim|Não completou a 4...|Completou a 4ª sé...|                      5| Acima de 3,0 salá...|          Sim, dois.|             Sim, um.|                Sim|       Não|         Solteiro(a)|  Parda|              2.0|                        0.0|       0.0|                          2.0|             0.0|                     0.0|                        5.0|                      0.0|               0.0|              1.0|           0.0|(10,[0,3,6,9],[2....|\n|     Sim|Completou a 8ª sé...|Completou a 4ª sé...|                      4| Acima de 2,5 salá...|          Sim, três.|           Sim, dois.|                Sim|       Não|         Solteiro(a)| Branca|              2.0|                        2.0|       1.0|                          0.0|             0.0|                     1.0|                        4.0|                      0.0|               0.0|              3.0|           0.0|[2.0,2.0,1.0,0.0,...|\n|     Sim|Completou a Facul...|Completou a Facul...|                      3| Acima de 6,0 salá...|          Sim, três.|           Sim, dois.|                Sim|       Não|         Solteiro(a)| Branca|              4.0|                        2.0|       1.0|                          1.0|             0.0|                     1.0|                        9.0|                      0.0|               0.0|              6.0|           0.0|[4.0,2.0,1.0,1.0,...|\n|     Sim|Completou a 8ª sé...|Completou o Ensin...|                      7| Acima de 2,0 salá...|Sim, quatro ou mais.|             Sim, um.|                Não|       Não|         Solteiro(a)|  Preta|              0.0|                        0.0|       2.0|                          5.0|             0.0|                     3.0|                        3.0|                      1.0|               0.0|              3.0|           0.0|[0.0,0.0,2.0,5.0,...|\n|     Não|Não completou a 4...|Não completou a 4...|                      5| Acima de 7,0 salá...|          Sim, dois.|             Sim, um.|                Sim|       Não|Casado(a)/Mora co...|  Parda|              1.0|                        0.0|       0.0|                          2.0|             0.0|                     0.0|                       10.0|                      0.0|               1.0|              1.0|           1.0|(10,[0,3,6,8,9],[...|\n|     Sim|Completou o Ensin...|Completou a 8ª sé...|                      2| Acima de 2,0 salá...|            Sim, um.|             Sim, um.|                Sim|       Não|Divorciado(a)/Des...| Branca|              3.0|                        0.0|       1.0|                          3.0|             0.0|                     2.0|                        3.0|                      0.0|               3.0|              0.0|           0.0|[3.0,0.0,1.0,3.0,...|\n|     Sim|Completou o Ensin...|Completou o Ensin...|                      2| Acima de 3,0 salá...|          Sim, dois.|             Sim, um.|                Sim|       Não|Casado(a)/Mora co...| Branca|              0.0|                        0.0|       1.0|                          3.0|             0.0|                     0.0|                        5.0|                      0.0|               1.0|              0.0|           0.0|(10,[2,3,6,8],[1....|\n|     Sim|            Não sei.|Completou o Ensin...|                      6| Acima de 1,5 salá...|Sim, quatro ou mais.|             Sim, um.|                Sim|       Não|         Solteiro(a)| Branca|              0.0|                        0.0|       1.0|                          4.0|             0.0|                     3.0|                        2.0|                      0.0|               0.0|              4.0|           0.0|(10,[2,3,5,6,9],[...|\n|     Sim|Completou a 4ª sé...|Completou o Ensin...|                      3| Acima de 1,5 salá...|            Sim, um.|             Sim, um.|                Sim|       Não|         Solteiro(a)| Branca|              0.0|                        0.0|       1.0|                          1.0|             0.0|                     2.0|                        2.0|                      0.0|               0.0|              2.0|           0.0|(10,[2,3,5,6,9],[...|\n|     Não|Completou o Ensin...|Completou a 8ª sé...|   1, pois moro sozi...| Acima de 1,0 salá...|          Sim, dois.|             Sim, um.|                Sim|       Não|Casado(a)/Mora co...|  Preta|              3.0|                        0.0|       2.0|                          6.0|             0.0|                     0.0|                        0.0|                      0.0|               1.0|              0.0|           1.0|(10,[0,2,3,8],[3....|\n|     Sim|Não completou a 4...|Não completou a 4...|                      3| Acima de 1,0 salá...|          Sim, três.|             Sim, um.|                Sim|       Não|         Solteiro(a)|  Preta|              1.0|                        0.0|       2.0|                          1.0|             0.0|                     1.0|                        0.0|                      0.0|               0.0|              1.0|           0.0|(10,[0,2,3,5,9],[...|\n|     Não|Completou a 8ª sé...|Completou o Ensin...|                      3| Acima de 1,5 salá...|          Sim, dois.|             Sim, um.|                Sim|       Não|         Solteiro(a)|  Parda|              0.0|                        0.0|       0.0|                          1.0|             0.0|                     0.0|                        2.0|                      0.0|               0.0|              3.0|           1.0|(10,[3,6,9],[1.0,...|\n|     Sim|            Não sei.|Completou o Ensin...|                      4| Acima de 2,0 salá...|          Sim, três.|             Sim, um.|                Sim|       Não|         Solteiro(a)| Branca|              0.0|                        0.0|       1.0|                          0.0|             0.0|                     1.0|                        3.0|                      0.0|               0.0|              4.0|           0.0|(10,[2,5,6,9],[1....|\n|     Não|Não completou a 4...|Completou a 8ª sé...|                      3| Acima de 1,0 salá...|          Sim, dois.|             Sim, um.|                Sim|       Não|         Solteiro(a)|  Parda|              3.0|                        0.0|       0.0|                          1.0|             0.0|                     0.0|                        0.0|                      0.0|               0.0|              1.0|           1.0|(10,[0,3,9],[3.0,...|\n|     Não|Completou a Facul...|Completou a 8ª sé...|                      4| Acima de 1,5 salá...|          Sim, três.|             Sim, um.|                Sim|       Não|         Solteiro(a)| Branca|              3.0|                        0.0|       1.0|                          0.0|             0.0|                     1.0|                        2.0|                      0.0|               0.0|              6.0|           1.0|(10,[0,2,5,6,9],[...|\n|     Não|Completou a 8ª sé...|Completou o Ensin...|                      5| Acima de 3,0 salá...|          Sim, três.|             Sim, um.|                Sim|       Não|Casado(a)/Mora co...|  Parda|              0.0|                        0.0|       0.0|                          2.0|             0.0|                     1.0|                        5.0|                      0.0|               1.0|              3.0|           1.0|(10,[3,5,6,8,9],[...|\n+--------+--------------------+--------------------+-----------------------+---------------------+--------------------+---------------------+-------------------+----------+--------------------+-------+-----------------+---------------------------+----------+-----------------------------+----------------+------------------------+---------------------------+-------------------------+------------------+-----------------+--------------+--------------------+\nonly showing top 20 rows\n\n"
    }
   ],
   "source": [
    "# Apresentação das 20 primeiras linhas do Dataframe output.\n",
    "\n",
    "print('Apresentação das 20 primeiras linhas do Dataframe output')\n",
    "output.show()"
   ]
  },
  {
   "cell_type": "code",
   "execution_count": 40,
   "metadata": {
    "tags": []
   },
   "outputs": [
    {
     "output_type": "stream",
     "name": "stdout",
     "text": "Criação do Dataframe df_final com a seleção das colunas que servirão de Label e Features\n"
    }
   ],
   "source": [
    "# Criação do Dataframe df_final com a seleção das colunas que servirão de Label e Features.\n",
    "# Label = APROVADO_index e Features = features.\n",
    "\n",
    "print('Criação do Dataframe df_final com a seleção das colunas que servirão de Label e Features')\n",
    "df_final = output.select('APROVADO_index', 'features')"
   ]
  },
  {
   "cell_type": "code",
   "execution_count": 41,
   "metadata": {
    "tags": []
   },
   "outputs": [
    {
     "output_type": "stream",
     "name": "stdout",
     "text": "Apresentação da estrutura do Dataframe df_final\nroot\n |-- APROVADO_index: double (nullable = false)\n |-- features: vector (nullable = true)\n\n"
    }
   ],
   "source": [
    "# Apresentação da estrutura do Dataframe df_final.\n",
    "\n",
    "print('Apresentação da estrutura do Dataframe df_final')\n",
    "df_final.printSchema()"
   ]
  },
  {
   "cell_type": "code",
   "execution_count": 42,
   "metadata": {
    "tags": []
   },
   "outputs": [
    {
     "output_type": "stream",
     "name": "stdout",
     "text": "Apresentação das 20 primeiras linhas do Dataframe df_final\n+--------------+--------------------+\n|APROVADO_index|            features|\n+--------------+--------------------+\n|           0.0|[6.0,0.0,1.0,1.0,...|\n|           1.0|(10,[3,5,6],[1.0,...|\n|           0.0|[2.0,0.0,2.0,1.0,...|\n|           1.0|(10,[2,3,5,6],[3....|\n|           0.0|(10,[0,3,6,9],[2....|\n|           0.0|[2.0,2.0,1.0,0.0,...|\n|           0.0|[4.0,2.0,1.0,1.0,...|\n|           0.0|[0.0,0.0,2.0,5.0,...|\n|           1.0|(10,[0,3,6,8,9],[...|\n|           0.0|[3.0,0.0,1.0,3.0,...|\n|           0.0|(10,[2,3,6,8],[1....|\n|           0.0|(10,[2,3,5,6,9],[...|\n|           0.0|(10,[2,3,5,6,9],[...|\n|           1.0|(10,[0,2,3,8],[3....|\n|           0.0|(10,[0,2,3,5,9],[...|\n|           1.0|(10,[3,6,9],[1.0,...|\n|           0.0|(10,[2,5,6,9],[1....|\n|           1.0|(10,[0,3,9],[3.0,...|\n|           1.0|(10,[0,2,5,6,9],[...|\n|           1.0|(10,[3,5,6,8,9],[...|\n+--------------+--------------------+\nonly showing top 20 rows\n\n"
    }
   ],
   "source": [
    "# Apresentação das 20 primeiras linhas do Dataframe df_final.\n",
    "\n",
    "print('Apresentação das 20 primeiras linhas do Dataframe df_final')\n",
    "\n",
    "df_final.show()"
   ]
  },
  {
   "cell_type": "code",
   "execution_count": 43,
   "metadata": {
    "tags": []
   },
   "outputs": [
    {
     "output_type": "stream",
     "name": "stdout",
     "text": "Criação dos Dataframes para Treino com 70% do Dataframe df_final e Testes com 30% do Dataframe df_final\n"
    }
   ],
   "source": [
    "# Criação dos Dataframes para Treino e Testes.\n",
    "# Treino com 70% do Dataframe df_final.\n",
    "# Teste com 30% do Dataframe df_final.\n",
    "\n",
    "print('Criação dos Dataframes para Treino com 70% do Dataframe df_final e Testes com 30% do Dataframe df_final')\n",
    "treino_data, teste_data = df_final.randomSplit([0.7, 0.3])"
   ]
  },
  {
   "cell_type": "code",
   "execution_count": 44,
   "metadata": {
    "tags": []
   },
   "outputs": [
    {
     "output_type": "stream",
     "name": "stdout",
     "text": "Criação das Variáveis dtc (Árvore de Decisão) e rfc (Floresta Randômica)\n"
    }
   ],
   "source": [
    "# Criação das Variáveis dtc (Árvore de Decisão) e rfc (Floresta Randômica).\n",
    "\n",
    "print(f'Criação das Variáveis dtc (Árvore de Decisão) e rfc (Floresta Randômica) iniciada - {datetime.now()}')\n",
    "\n",
    "dtc = DecisionTreeClassifier(labelCol='APROVADO_index', featuresCol='features')\n",
    "rfc = RandomForestClassifier(labelCol='APROVADO_index', featuresCol='features')\n",
    "\n",
    "print(f'Criação das Variáveis dtc (Árvore de Decisão) e rfc (Floresta Randômica) com sucesso - {datetime.now()}')"
   ]
  },
  {
   "cell_type": "code",
   "execution_count": 45,
   "metadata": {
    "tags": []
   },
   "outputs": [
    {
     "output_type": "stream",
     "name": "stdout",
     "text": "Criação das Variáveis dtc_modelo (Árvore de Decisão) e rfc_modelo (Floresta Randômica)\n"
    }
   ],
   "source": [
    "# Criação das Variáveis dtc_modelo (Árvore de Decisão) e rfc_modelo (Floresta Randômica), para realização do treino \n",
    "# dos algoritmos.\n",
    "\n",
    "print(f'Criação das Variáveis dtc_modelo (Árvore de Decisão) e rfc_modelo (Floresta Randômica) iniciada - {datetime.now()}')\n",
    "\n",
    "dtc_modelo = dtc.fit(treino_data)\n",
    "rfc_modelo = rfc.fit(treino_data)\n",
    "\n",
    "print(f'Criação das Variáveis dtc_modelo (Árvore de Decisão) e rfc_modelo (Floresta Randômica) com sucesso - {datetime.now()}')"
   ]
  },
  {
   "cell_type": "code",
   "execution_count": 46,
   "metadata": {
    "tags": []
   },
   "outputs": [
    {
     "output_type": "stream",
     "name": "stdout",
     "text": "Criação das variaveis dtc_preds (Árvore de Decisão) e rfc_preds (Floresta Randômica) para predição iniciada - 2020-09-20 19:22:35.191004\nCriação das variaveis dtc_preds (Árvore de Decisão) e rfc_preds (Floresta Randômica) para predição com sucesso - 2020-09-20 19:22:35.513844\n"
    }
   ],
   "source": [
    "# Criação das variaveis dtc_preds (Árvore de Decisão) e rfc_preds (Floresta Randômica) para predição dos sobreviventes do Titanic.\n",
    "\n",
    "print(f'Criação das variaveis dtc_preds (Árvore de Decisão) e rfc_preds (Floresta Randômica) para predição iniciada - {datetime.now()}')\n",
    "\n",
    "dtc_preds = dtc_modelo.transform(teste_data)\n",
    "rfc_preds = rfc_modelo.transform(teste_data)\n",
    "\n",
    "print(f'Criação das variaveis dtc_preds (Árvore de Decisão) e rfc_preds (Floresta Randômica) para predição com sucesso - {datetime.now()}')"
   ]
  },
  {
   "cell_type": "code",
   "execution_count": 47,
   "metadata": {
    "tags": []
   },
   "outputs": [
    {
     "output_type": "stream",
     "name": "stdout",
     "text": "Apresentação do Resultado da predição da variável dtc_preds(Árvore de Decisão) iniciada - 2020-09-20 19:22:40.960283\n+--------------+----------+--------------------+--------------------+----------+\n|APROVADO_index|  features|       rawPrediction|         probability|prediction|\n+--------------+----------+--------------------+--------------------+----------+\n|           0.0|(10,[],[])|[1396198.0,836234.0]|[0.62541569015316...|       0.0|\n|           0.0|(10,[],[])|[1396198.0,836234.0]|[0.62541569015316...|       0.0|\n|           0.0|(10,[],[])|[1396198.0,836234.0]|[0.62541569015316...|       0.0|\n|           0.0|(10,[],[])|[1396198.0,836234.0]|[0.62541569015316...|       0.0|\n|           0.0|(10,[],[])|[1396198.0,836234.0]|[0.62541569015316...|       0.0|\n|           0.0|(10,[],[])|[1396198.0,836234.0]|[0.62541569015316...|       0.0|\n|           0.0|(10,[],[])|[1396198.0,836234.0]|[0.62541569015316...|       0.0|\n|           0.0|(10,[],[])|[1396198.0,836234.0]|[0.62541569015316...|       0.0|\n|           0.0|(10,[],[])|[1396198.0,836234.0]|[0.62541569015316...|       0.0|\n|           0.0|(10,[],[])|[1396198.0,836234.0]|[0.62541569015316...|       0.0|\n|           0.0|(10,[],[])|[1396198.0,836234.0]|[0.62541569015316...|       0.0|\n|           0.0|(10,[],[])|[1396198.0,836234.0]|[0.62541569015316...|       0.0|\n|           0.0|(10,[],[])|[1396198.0,836234.0]|[0.62541569015316...|       0.0|\n|           0.0|(10,[],[])|[1396198.0,836234.0]|[0.62541569015316...|       0.0|\n|           0.0|(10,[],[])|[1396198.0,836234.0]|[0.62541569015316...|       0.0|\n|           0.0|(10,[],[])|[1396198.0,836234.0]|[0.62541569015316...|       0.0|\n|           0.0|(10,[],[])|[1396198.0,836234.0]|[0.62541569015316...|       0.0|\n|           0.0|(10,[],[])|[1396198.0,836234.0]|[0.62541569015316...|       0.0|\n|           0.0|(10,[],[])|[1396198.0,836234.0]|[0.62541569015316...|       0.0|\n|           0.0|(10,[],[])|[1396198.0,836234.0]|[0.62541569015316...|       0.0|\n+--------------+----------+--------------------+--------------------+----------+\nonly showing top 20 rows\n\nApresentação do Resultado da predição da variável dtc_preds(Árvore de Decisão) com sucesso - 2020-09-20 19:22:52.589664\n"
    }
   ],
   "source": [
    "# Apresentação do Resultado da predição da variável dtc_preds(Árvore de Decisão).\n",
    "\n",
    "print(f'Apresentação do Resultado da predição da variável dtc_preds(Árvore de Decisão) iniciada - {datetime.now()}')\n",
    "\n",
    "dtc_preds.show()\n",
    "\n",
    "print(f'Apresentação do Resultado da predição da variável dtc_preds(Árvore de Decisão) com sucesso - {datetime.now()}')"
   ]
  },
  {
   "cell_type": "code",
   "execution_count": 48,
   "metadata": {
    "tags": []
   },
   "outputs": [
    {
     "output_type": "stream",
     "name": "stdout",
     "text": "Apresentação do Resultado da predição da variável rfc_preds(Floresta Randômica) iniciada - 2020-09-20 19:23:57.538670\n+--------------+----------+--------------------+--------------------+----------+\n|APROVADO_index|  features|       rawPrediction|         probability|prediction|\n+--------------+----------+--------------------+--------------------+----------+\n|           0.0|(10,[],[])|[11.9554750438219...|[0.59777375219109...|       0.0|\n|           0.0|(10,[],[])|[11.9554750438219...|[0.59777375219109...|       0.0|\n|           0.0|(10,[],[])|[11.9554750438219...|[0.59777375219109...|       0.0|\n|           0.0|(10,[],[])|[11.9554750438219...|[0.59777375219109...|       0.0|\n|           0.0|(10,[],[])|[11.9554750438219...|[0.59777375219109...|       0.0|\n|           0.0|(10,[],[])|[11.9554750438219...|[0.59777375219109...|       0.0|\n|           0.0|(10,[],[])|[11.9554750438219...|[0.59777375219109...|       0.0|\n|           0.0|(10,[],[])|[11.9554750438219...|[0.59777375219109...|       0.0|\n|           0.0|(10,[],[])|[11.9554750438219...|[0.59777375219109...|       0.0|\n|           0.0|(10,[],[])|[11.9554750438219...|[0.59777375219109...|       0.0|\n|           0.0|(10,[],[])|[11.9554750438219...|[0.59777375219109...|       0.0|\n|           0.0|(10,[],[])|[11.9554750438219...|[0.59777375219109...|       0.0|\n|           0.0|(10,[],[])|[11.9554750438219...|[0.59777375219109...|       0.0|\n|           0.0|(10,[],[])|[11.9554750438219...|[0.59777375219109...|       0.0|\n|           0.0|(10,[],[])|[11.9554750438219...|[0.59777375219109...|       0.0|\n|           0.0|(10,[],[])|[11.9554750438219...|[0.59777375219109...|       0.0|\n|           0.0|(10,[],[])|[11.9554750438219...|[0.59777375219109...|       0.0|\n|           0.0|(10,[],[])|[11.9554750438219...|[0.59777375219109...|       0.0|\n|           0.0|(10,[],[])|[11.9554750438219...|[0.59777375219109...|       0.0|\n|           0.0|(10,[],[])|[11.9554750438219...|[0.59777375219109...|       0.0|\n+--------------+----------+--------------------+--------------------+----------+\nonly showing top 20 rows\n\nApresentação do Resultado da predição da variável rfc_preds(Floresta Randômica) com sucesso - 2020-09-20 19:24:10.583026\n"
    }
   ],
   "source": [
    "# Apresentação do Resultado da predição da variável rfc_preds(Floresta Randômica).\n",
    "\n",
    "print(f'Apresentação do Resultado da predição da variável rfc_preds(Floresta Randômica) iniciada - {datetime.now()}')\n",
    "\n",
    "rfc_preds.show()\n",
    "\n",
    "print(f'Apresentação do Resultado da predição da variável rfc_preds(Floresta Randômica) com sucesso - {datetime.now()}')"
   ]
  },
  {
   "cell_type": "code",
   "execution_count": 49,
   "metadata": {
    "tags": []
   },
   "outputs": [
    {
     "output_type": "stream",
     "name": "stdout",
     "text": "Criação da variável my_binary_eval para levantamento do percentual de acertos do algoritmo\n"
    }
   ],
   "source": [
    "# Criação da variável my_binary_eval para levantamento do percentual de acertos do algoritmo.\n",
    "\n",
    "print(f'Criação da variável my_binary_eval para levantamento do percentual de acertos do algoritmo iniciada - {datetime.now()}')\n",
    "\n",
    "my_binary_eval = BinaryClassificationEvaluator(labelCol='APROVADO_index')\n",
    "\n",
    "print(f'Criação da variável my_binary_eval para levantamento do percentual de acertos do algoritmo com sucesso - {datetime.now()}')"
   ]
  },
  {
   "cell_type": "code",
   "execution_count": 50,
   "metadata": {
    "tags": []
   },
   "outputs": [
    {
     "output_type": "stream",
     "name": "stdout",
     "text": "Imprimindo a Avaliação do Resultado do Algoritmo Machine Learning Arvore de Decisão - Decision Tree iniciada - 2020-09-20 19:32:40.741787\n0.5023704819155907\nImprimindo a Avaliação do Resultado do Algoritmo Machine Learning Arvore de Decisão - Decision Tree com sucesso - 2020-09-20 19:35:50.832174\n"
    }
   ],
   "source": [
    "# Apresentação da Avaliação do Resultado do Algoritmo Machine Learning Arvore de Decisão - Decision Tree\n",
    "\n",
    "print(f'Imprimindo a Avaliação do Resultado do Algoritmo Machine Learning Arvore de Decisão - Decision Tree iniciada - {datetime.now()}')\n",
    "\n",
    "print(my_binary_eval.evaluate(dtc_preds))\n",
    "\n",
    "print(f'Imprimindo a Avaliação do Resultado do Algoritmo Machine Learning Arvore de Decisão - Decision Tree com sucesso - {datetime.now()}')"
   ]
  },
  {
   "cell_type": "code",
   "execution_count": 51,
   "metadata": {
    "tags": []
   },
   "outputs": [
    {
     "output_type": "stream",
     "name": "stdout",
     "text": "Imprimindo a Avaliação do Resultado do Algoritmo Machine Learning Floresta Randômica - Random Forrest iniciada - 2020-09-20 19:35:50.858170\n0.6574956840512106\nImprimindo a Avaliação do Resultado do Algoritmo Machine Learning Floresta Randômica - Random Forrest com sucesso - 2020-09-20 19:39:40.134070\n"
    }
   ],
   "source": [
    "# Apresentação da Avaliação do Resultado do Algoritmo Machine Learning Floresta Randômica - Random Forrest\n",
    "\n",
    "print(f'Imprimindo a Avaliação do Resultado do Algoritmo Machine Learning Floresta Randômica - Random Forrest iniciada - {datetime.now()}')\n",
    "\n",
    "print(my_binary_eval.evaluate(rfc_preds))\n",
    "\n",
    "print(f'Imprimindo a Avaliação do Resultado do Algoritmo Machine Learning Floresta Randômica - Random Forrest com sucesso - {datetime.now()}')"
   ]
  },
  {
   "cell_type": "code",
   "execution_count": null,
   "metadata": {},
   "outputs": [],
   "source": [
    "#Aumentando o número de arvores de 20 para 300.\n",
    "\n",
    "print(f'Imprimindo a Avaliação do Resultado do Algoritmo Machine Learning Floresta Randômica - 300 árvores iniciada - {datetime.now()}')\n",
    "\n",
    "rfc = RandomForestClassifier(numTrees=300, labelCol='APROVADO_index', featuresCol='features')\n",
    "rfc_modelo = rfc.fit(treino_data)\n",
    "rfc_preds = rfc_modelo.transform(teste_data)\n",
    "print(my_binary_eval.evaluate(dtc_preds))\n",
    "\n",
    "print(f'Imprimindo a Avaliação do Resultado do Algoritmo Machine Learning Floresta Randômica - 300 árvores com sucesso - {datetime.now()}')"
   ]
  },
  {
   "cell_type": "code",
   "execution_count": null,
   "metadata": {},
   "outputs": [],
   "source": []
  }
 ]
}