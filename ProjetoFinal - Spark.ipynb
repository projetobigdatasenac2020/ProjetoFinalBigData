{
 "metadata": {
  "language_info": {
   "codemirror_mode": {
    "name": "ipython",
    "version": 3
   },
   "file_extension": ".py",
   "mimetype": "text/x-python",
   "name": "python",
   "nbconvert_exporter": "python",
   "pygments_lexer": "ipython3",
   "version": "3.7.6-final"
  },
  "orig_nbformat": 2,
  "kernelspec": {
   "name": "python_defaultSpec_1597845078186",
   "display_name": "Python 3.7.6 64-bit ('base': conda)"
  }
 },
 "nbformat": 4,
 "nbformat_minor": 2,
 "cells": [
  {
   "cell_type": "markdown",
   "metadata": {},
   "source": [
    "Projeto Final Pós Graduação Big Data - Senac Rio - 2020."
   ]
  },
  {
   "cell_type": "markdown",
   "metadata": {},
   "source": [
    "Processo de importação das Bibliotecas utilizadas no durante todo o projeto."
   ]
  },
  {
   "cell_type": "code",
   "execution_count": 1,
   "metadata": {},
   "outputs": [],
   "source": [
    "#Importação das bibliotecas utilizadas para manipulação dos dados das paginas Web.\n",
    "\n",
    "from bs4 import BeautifulSoup\n",
    "import urllib.request\n",
    "import shutil\n",
    "import os\n",
    "from datetime import datetime\n",
    "import pandas as pd\n",
    "import pyspark\n",
    "import zipfile\n",
    "import sqlalchemy\n",
    "import pymysql\n",
    "import json\n",
    "import numpy as np\n",
    "import matplotlib.pyplot as plt\n",
    "from pyspark import SparkContext\n",
    "from pyspark.sql import SQLContext\n",
    "from pyspark.sql.functions import * "
   ]
  },
  {
   "cell_type": "markdown",
   "metadata": {},
   "source": [
    "Indicação do diretório para download dos arquivos Inep-Enem. "
   ]
  },
  {
   "cell_type": "code",
   "execution_count": null,
   "metadata": {},
   "outputs": [],
   "source": [
    "#Indicação do diretório desejado para download dos arquivos. \n",
    "#No exemplo, estamos salvando no diretório: C:\\Users\\Ricardo\\Downloads\n",
    "\n",
    "diretorio = input('Digite o diretório desejado para salvar os arquivos: ')\n",
    "os.chdir(r'{}'.format(diretorio))\n",
    "os.getcwd( )"
   ]
  },
  {
   "cell_type": "code",
   "execution_count": null,
   "metadata": {},
   "outputs": [],
   "source": [
    "#Apos indicar o diretorio desejado, como boa pratica, sugerimos a criação da pasta onde será salvos os arquivos.\n",
    "#No exemplo, estamos salvando na pasta: MicrodadosEnem.'''\n",
    "\n",
    "url = 'http://inep.gov.br/microdados'\n",
    "\n",
    "pasta = input('Após indicação do diretório {}, informe o nome da pasta desejada para salvar os arquivos baixados da pagina {}: '.format(diretorio, url))\n",
    "\n",
    "try:\n",
    "    os.mkdir(pasta)\n",
    "    print('Pasta {} criada com sucesso!'.format(pasta))\n",
    "except FileExistsError as e:\n",
    "    print(f'Pasta {pasta} já existe')"
   ]
  },
  {
   "cell_type": "code",
   "execution_count": null,
   "metadata": {},
   "outputs": [],
   "source": [
    "#Indicação do diretório onde será salvo os arquivos baixados da url.\n",
    "\n",
    "os.chdir(r'{}\\{}'.format(diretorio, pasta))\n",
    "print('Os arquivos serão salvos no seguinte diretorio:', format(os.getcwd()))"
   ]
  },
  {
   "cell_type": "markdown",
   "metadata": {},
   "source": [
    "Processo de Web Scraping no site do Inep, buscando os microdados do Enem."
   ]
  },
  {
   "cell_type": "code",
   "execution_count": null,
   "metadata": {},
   "outputs": [],
   "source": [
    "#Criação da variável que receberá todos os dados correspondente a varíavel \"url\".\n",
    "\n",
    "page = urllib.request.urlopen(url)"
   ]
  },
  {
   "cell_type": "code",
   "execution_count": null,
   "metadata": {},
   "outputs": [],
   "source": [
    "#Criação da variável \"soup\", do pacote BeatifulSoup, que apresenta a estutura HTML da pagina que será trabalhada.\n",
    "\n",
    "soup = BeautifulSoup(page,'html.parser')\n",
    "print(soup)"
   ]
  },
  {
   "cell_type": "code",
   "execution_count": null,
   "metadata": {},
   "outputs": [],
   "source": [
    "#No loop \"for\" abaixo, o realizaremos o filtro das tags desejadas.\n",
    "\n",
    "for link in soup.findAll('a'):\n",
    "    theLink = link.get('href')\n",
    "    name = link.string\n",
    "    \n",
    "    print(theLink)\n",
    "    print(name)"
   ]
  },
  {
   "cell_type": "code",
   "execution_count": null,
   "metadata": {},
   "outputs": [],
   "source": [
    "#No processo abaixo, realizaremos o filtro das linhas, cujo o o tipo do arquivo desejado é *.zip.\n",
    "\n",
    "nomeArquivo = []\n",
    "typeFile = '.zip'\n",
    "i = 0\n",
    "for link in soup.findAll('a'):\n",
    "    theLink = str(link.get('href')).lower()\n",
    "    name = link.string\n",
    "    if 'enem'in theLink:\n",
    "        if theLink[-4:] == typeFile:\n",
    "            print(theLink)\n",
    "            print(type(theLink))\n",
    "            print(name)\n",
    "            print(type(name))\n",
    "            nomeArquivo.append(theLink[39:-4].replace('/','_'))\n",
    "            print(type(nomeArquivo))"
   ]
  },
  {
   "cell_type": "code",
   "execution_count": null,
   "metadata": {},
   "outputs": [],
   "source": [
    "#Processo de download dos arquivos desejados e salvos na na pasta indicada.\n",
    "\n",
    "i = 0\n",
    "for link in soup.findAll('a'):\n",
    "    theLink = str(link.get('href')).lower()\n",
    "    name = link.string\n",
    "    if 'enem'in theLink:\n",
    "        if theLink[-4:] == typeFile:\n",
    "            if name is None:\n",
    "                title = 'SemTítulo' + typeFile\n",
    "            else:\n",
    "                title = nomeArquivo[i] + typeFile\n",
    "                i +=1\n",
    "            try:\n",
    "                with open(os.getcwd() + '/' + title,'r') as fileExists:\n",
    "                    print('Arquivo ' + title + ' existente no diretório '+ os.getcwd() + ' - ' + str(datetime.now()))\n",
    "                    fileExists.close()\n",
    "            except FileNotFoundError:\n",
    "                print('Download Iniciado - {}: '.format(datetime.now()) + title)\n",
    "                docFile = open(os.getcwd() + '/' + title,'wb')\n",
    "                docFile.write(urllib.request.urlopen(theLink).read())\n",
    "                docFile.close()\n",
    "                print('Download Concluído em {}'.format(datetime.now()))\n",
    "print('Não há mais arquivos para download')"
   ]
  },
  {
   "cell_type": "code",
   "execution_count": null,
   "metadata": {},
   "outputs": [],
   "source": [
    "#Apresentação do tamanho dos arquivos baixados.\n",
    "\n",
    "print('Apresentação Arquivos Enem baixados no díretório: ' + os.getcwd())\n",
    "contador = 0\n",
    "tamanhoTotal = 0\n",
    "tipo = '.zip'\n",
    "\n",
    "def formatarTamanho(tamanho):\n",
    "    base = 1024\n",
    "    kilo = base\n",
    "    mega = base ** 2\n",
    "    giga = base ** 3\n",
    "    tera = base ** 4\n",
    "    \n",
    "    if tamanho < kilo:\n",
    "        tamanho = base\n",
    "        texto = 'B'\n",
    "    elif tamanho < mega:\n",
    "        tamanho /= kilo\n",
    "        texto = 'K'\n",
    "    elif tamanho < giga:\n",
    "        tamanho /= mega\n",
    "        texto = 'M'\n",
    "    else:\n",
    "        tamanho < tera\n",
    "        tamanho /= giga\n",
    "        texto = 'G'\n",
    "    tamanho = round(tamanho, 2)\n",
    "    return f'{tamanho} {texto}'\n",
    "\n",
    "for raiz, diretorios, arquivos in os.walk(os.getcwd()):\n",
    "    for arquivo in arquivos:\n",
    "        if tipo in arquivo:\n",
    "            contador +=1 \n",
    "            caminho = os.path.join(raiz, arquivo)\n",
    "            nome, ext = os.path.splitext(arquivo)\n",
    "            tamanho = os.path.getsize(caminho)\n",
    "            tamanhoTotal += tamanho\n",
    "                                \n",
    "            if tamanho > 0:\n",
    "                print()\n",
    "                print('Arquivo encontrado: ', arquivo)\n",
    "                print('Caminho: ', caminho)\n",
    "                print('Nome: ', nome)\n",
    "                print('Extensão: ', ext)\n",
    "                print('Tamanho: ', formatarTamanho(tamanho))\n",
    "\n",
    "print()\n",
    "print(f'{contador} arquivo(s) encontrado(s).' + 'Tamanho Total: ' + formatarTamanho(tamanhoTotal))"
   ]
  },
  {
   "cell_type": "code",
   "execution_count": 2,
   "metadata": {},
   "outputs": [],
   "source": [
    "# Instanciar Spark\n",
    "\n",
    "sc = SparkContext()\n",
    "sqlContext = SQLContext(sc)"
   ]
  },
  {
   "cell_type": "code",
   "execution_count": 3,
   "metadata": {
    "tags": []
   },
   "outputs": [
    {
     "output_type": "stream",
     "name": "stdout",
     "text": "Criação Dataframes Iniciado - 2020-08-19 10:54:13.410366.\n\n\nCriação Dataframe do Enem 2015 iniciada - 2020-08-19 10:54:13.411369.\nDataframe df_enem2015_completo criado com sucesso - 2020-08-19 10:55:14.681563.\n\nCriação Dataframe do Enem 2016 iniciada- 2020-08-19 10:55:14.682560.\nDataframe df_enem2016_completo criado com sucesso - 2020-08-19 10:56:22.160381.\n\nCriação Dataframe do Enem 2017 iniciada - 2020-08-19 10:56:22.161377.\nDataframe df_enem2017_completo criado com sucesso - 2020-08-19 10:57:10.208661.\n\nCriação Dataframe do Enem 2018 iniciada - 2020-08-19 10:57:10.211653.\nDataframe df_enem2018_completo criado com sucesso - 2020-08-19 10:57:45.693456.\n\nCriação Dataframe do Enem 2019 iniciada - 2020-08-19 10:57:45.694453.\nDataframe df_enem2019_completo criado com sucesso - 2020-08-19 10:58:20.671672.\n\n\nDataframes criados com sucesso - 2020-08-19 10:58:20.672669.\n"
    }
   ],
   "source": [
    "# No Processo abaixo, importaremos para o dataframe, apenas para conhecer os dados e verificar o separador do microdado.\n",
    "\n",
    "print(f'Criação Dataframes Iniciado - {datetime.now()}.')\n",
    "print('')\n",
    "\n",
    "print('')\n",
    "print(f'Criação Dataframe do Enem 2015 iniciada - {datetime.now()}.')\n",
    "df_enem2015_completo = sqlContext.read.format('com.databricks.spark.csv').options(header='true', sep=\",\", inferschema='true', encoding = 'ISO-8859-1', ).load(r'C:\\Users\\Ricardo\\Downloads\\MicrodadosEnem\\MICRODADOS_ENEM_2015.csv')\n",
    "print(f'Dataframe df_enem2015_completo criado com sucesso - {datetime.now()}.')\n",
    "print('')\n",
    "\n",
    "print(f'Criação Dataframe do Enem 2016 iniciada- {datetime.now()}.')\n",
    "df_enem2016_completo = sqlContext.read.format('com.databricks.spark.csv').options(header='true', sep=\";\", inferschema='true', encoding = 'ISO-8859-1').load(r'C:\\Users\\Ricardo\\Downloads\\MicrodadosEnem\\microdados_enem_2016.csv')\n",
    "print(f'Dataframe df_enem2016_completo criado com sucesso - {datetime.now()}.')\n",
    "print('')\n",
    "\n",
    "print(f'Criação Dataframe do Enem 2017 iniciada - {datetime.now()}.')\n",
    "df_enem2017_completo = sqlContext.read.format('com.databricks.spark.csv').options(header='true', sep=\";\", inferschema='true', encoding = 'ISO-8859-1').load(r'C:\\Users\\Ricardo\\Downloads\\MicrodadosEnem\\MICRODADOS_ENEM_2017.csv')\n",
    "print(f'Dataframe df_enem2017_completo criado com sucesso - {datetime.now()}.')\n",
    "print('')\n",
    "\n",
    "print(f'Criação Dataframe do Enem 2018 iniciada - {datetime.now()}.')\n",
    "df_enem2018_completo = sqlContext.read.format('com.databricks.spark.csv').options(header='true', sep=\";\", inferschema='true', encoding = 'ISO-8859-1').load(r'C:\\Users\\Ricardo\\Downloads\\MicrodadosEnem\\MICRODADOS_ENEM_2018.csv')\n",
    "print(f'Dataframe df_enem2018_completo criado com sucesso - {datetime.now()}.')\n",
    "print('')\n",
    "\n",
    "print(f'Criação Dataframe do Enem 2019 iniciada - {datetime.now()}.')\n",
    "df_enem2019_completo = sqlContext.read.format('com.databricks.spark.csv').options(header='true', sep=\";\", inferschema='true', encoding = 'ISO-8859-1').load(r'C:\\Users\\Ricardo\\Downloads\\MicrodadosEnem\\MICRODADOS_ENEM_2019.csv')\n",
    "print(f'Dataframe df_enem2019_completo criado com sucesso - {datetime.now()}.')\n",
    "print('')\n",
    "\n",
    "print('')\n",
    "print(f'Dataframes criados com sucesso - {datetime.now()}.')"
   ]
  },
  {
   "cell_type": "code",
   "execution_count": 4,
   "metadata": {
    "tags": []
   },
   "outputs": [
    {
     "output_type": "stream",
     "name": "stdout",
     "text": "Quantidade de Registros importadados para cada Dataframe\n\nQuantdade de Registros Dataframe Enem2015\n7746427\n\nQuantdade de Registros Dataframe Enem2016\n8627367\n\nQuantdade de Registros Dataframe Enem2017\n6731341\n\nQuantdade de Registros Dataframe Enem2018\n5513747\n\nQuantdade de Registros Dataframe Enem2019\n5095270\n\nQuantdade de Registros Dataframe Enem2019\n5095270\n"
    }
   ],
   "source": [
    "print('Quantidade de Registros importadados para cada Dataframe')\n",
    "print('')\n",
    "print('Quantdade de Registros Dataframe Enem2015')\n",
    "print(df_enem2015_completo.count())\n",
    "print('')\n",
    "print('Quantdade de Registros Dataframe Enem2016')\n",
    "print(df_enem2016_completo.count())\n",
    "print('')\n",
    "print('Quantdade de Registros Dataframe Enem2017')\n",
    "print(df_enem2017_completo.count())\n",
    "print('')\n",
    "print('Quantdade de Registros Dataframe Enem2018')\n",
    "print(df_enem2018_completo.count())\n",
    "print('')\n",
    "print('Quantdade de Registros Dataframe Enem2019')\n",
    "print(df_enem2019_completo.count())\n",
    "print('')\n",
    "print('Quantdade de Registros Dataframe Enem2019')\n",
    "\n",
    "print(df_enem2019_completo.count())"
   ]
  },
  {
   "cell_type": "code",
   "execution_count": 5,
   "metadata": {
    "tags": []
   },
   "outputs": [
    {
     "output_type": "stream",
     "name": "stdout",
     "text": "+------------+------+-----------------------+-----------------------+----------------+----------------+---------------------------+------------+---------+----------------+----------------+---------+---------+----------------------+------------------+---------------+--------+-------+----------------+-----------------------+-----------------------+----------------+----------------+---------------+---------------+---------+---------+---------------+-----------+--------------+-----------+---------+-----------------------+-----------------+---------------------+---------------------+------------------+-----------+-----------+-----------+--------+--------------+----------+------------------+------------+------------+--------------+--------------+----------+--------------+--------------+--------+---------+--------------+---------+-----------------+---------------------+------------------------+--------------+------------------+-------+-------------+-------------------+------------------+---------------------+----------------+-------------------+-----------------+---------------------+------------------+-----------------+----------+--------------+--------+---------------+------------------+----------------+--------------------+------------------------+----------------------+--------------+------------------------+---------------------------+---------------------------+------------------+------------------+-----------+-----------+--------------+--------------+--------------+--------------+-----------+-----------+-----------+-----------+----------+----------+----------+----------+--------------------+--------------------+--------------------+--------------------+---------+--------------------+--------------------+--------------------+--------------------+-----------------+-------------+-------------+-------------+-------------+-------------+---------------+----+----+----+----+----+----+----+----+----+----+----+----+----+----+----+----+----+----+----+----+----+----+----+----+----+----+----+----+----+----+----+----+----+----+----+----+----+----+----+----+----+----+----+----+----+----+----+----+----+----+\n|NU_INSCRICAO|NU_ANO|CO_MUNICIPIO_RESIDENCIA|NO_MUNICIPIO_RESIDENCIA|CO_UF_RESIDENCIA|SG_UF_RESIDENCIA|IN_ESTUDA_CLASSE_HOSPITALAR|IN_TREINEIRO|CO_ESCOLA|CO_MUNICIPIO_ESC|NO_MUNICIPIO_ESC|CO_UF_ESC|SG_UF_ESC|TP_DEPENDENCIA_ADM_ESC|TP_LOCALIZACAO_ESC|TP_SIT_FUNC_ESC|NU_IDADE|TP_SEXO|TP_NACIONALIDADE|CO_MUNICIPIO_NASCIMENTO|NO_MUNICIPIO_NASCIMENTO|CO_UF_NASCIMENTO|SG_UF_NASCIMENTO|TP_ST_CONCLUSAO|TP_ANO_CONCLUIU|TP_ESCOLA|TP_ENSINO|TP_ESTADO_CIVIL|TP_COR_RACA|IN_BAIXA_VISAO|IN_CEGUEIRA|IN_SURDEZ|IN_DEFICIENCIA_AUDITIVA|IN_SURDO_CEGUEIRA|IN_DEFICIENCIA_FISICA|IN_DEFICIENCIA_MENTAL|IN_DEFICIT_ATENCAO|IN_DISLEXIA|IN_GESTANTE|IN_LACTANTE|IN_IDOSO|IN_DISCALCULIA|IN_AUTISMO|IN_VISAO_MONOCULAR|IN_SABATISTA|IN_OUTRA_DEF|IN_SEM_RECURSO|IN_NOME_SOCIAL|IN_BRAILLE|IN_AMPLIADA_24|IN_AMPLIADA_18|IN_LEDOR|IN_ACESSO|IN_TRANSCRICAO|IN_LIBRAS|IN_LEITURA_LABIAL|IN_MESA_CADEIRA_RODAS|IN_MESA_CADEIRA_SEPARADA|IN_APOIO_PERNA|IN_GUIA_INTERPRETE|IN_MACA|IN_COMPUTADOR|IN_CADEIRA_ESPECIAL|IN_CADEIRA_CANHOTO|IN_CADEIRA_ACOLCHOADA|IN_PROVA_DEITADO|IN_MOBILIARIO_OBESO|IN_LAMINA_OVERLAY|IN_PROTETOR_AURICULAR|IN_MEDIDOR_GLICOSE|IN_MAQUINA_BRAILE|IN_SOROBAN|IN_MARCA_PASSO|IN_SONDA|IN_MEDICAMENTOS|IN_SALA_INDIVIDUAL|IN_SALA_ESPECIAL|IN_SALA_ACOMPANHANTE|IN_MOBILIARIO_ESPECIFICO|IN_MATERIAL_ESPECÍFICO|IN_CERTIFICADO|NO_ENTIDADE_CERTIFICACAO|CO_UF_ENTIDADE_CERTIFICACAO|SG_UF_ENTIDADE_CERTIFICACAO|CO_MUNICIPIO_PROVA|NO_MUNICIPIO_PROVA|CO_UF_PROVA|SG_UF_PROVA|TP_PRESENCA_CN|TP_PRESENCA_CH|TP_PRESENCA_LC|TP_PRESENCA_MT|CO_PROVA_CN|CO_PROVA_CH|CO_PROVA_LC|CO_PROVA_MT|NU_NOTA_CN|NU_NOTA_CH|NU_NOTA_LC|NU_NOTA_MT|     TX_RESPOSTAS_CN|     TX_RESPOSTAS_CH|     TX_RESPOSTAS_LC|     TX_RESPOSTAS_MT|TP_LINGUA|      TX_GABARITO_CN|      TX_GABARITO_CH|      TX_GABARITO_LC|      TX_GABARITO_MT|TP_STATUS_REDACAO|NU_NOTA_COMP1|NU_NOTA_COMP2|NU_NOTA_COMP3|NU_NOTA_COMP4|NU_NOTA_COMP5|NU_NOTA_REDACAO|Q001|Q002|Q003|Q004|Q005|Q006|Q007|Q008|Q009|Q010|Q011|Q012|Q013|Q014|Q015|Q016|Q017|Q018|Q019|Q020|Q021|Q022|Q023|Q024|Q025|Q026|Q027|Q028|Q029|Q030|Q031|Q032|Q033|Q034|Q035|Q036|Q037|Q038|Q039|Q040|Q041|Q042|Q043|Q044|Q045|Q046|Q047|Q048|Q049|Q050|\n+------------+------+-----------------------+-----------------------+----------------+----------------+---------------------------+------------+---------+----------------+----------------+---------+---------+----------------------+------------------+---------------+--------+-------+----------------+-----------------------+-----------------------+----------------+----------------+---------------+---------------+---------+---------+---------------+-----------+--------------+-----------+---------+-----------------------+-----------------+---------------------+---------------------+------------------+-----------+-----------+-----------+--------+--------------+----------+------------------+------------+------------+--------------+--------------+----------+--------------+--------------+--------+---------+--------------+---------+-----------------+---------------------+------------------------+--------------+------------------+-------+-------------+-------------------+------------------+---------------------+----------------+-------------------+-----------------+---------------------+------------------+-----------------+----------+--------------+--------+---------------+------------------+----------------+--------------------+------------------------+----------------------+--------------+------------------------+---------------------------+---------------------------+------------------+------------------+-----------+-----------+--------------+--------------+--------------+--------------+-----------+-----------+-----------+-----------+----------+----------+----------+----------+--------------------+--------------------+--------------------+--------------------+---------+--------------------+--------------------+--------------------+--------------------+-----------------+-------------+-------------+-------------+-------------+-------------+---------------+----+----+----+----+----+----+----+----+----+----+----+----+----+----+----+----+----+----+----+----+----+----+----+----+----+----+----+----+----+----+----+----+----+----+----+----+----+----+----+----+----+----+----+----+----+----+----+----+----+----+\n|150000000376|  2015|                4309209|               Gravataí|              43|              RS|                          0|           0|     null|            null|            null|     null|     null|                  null|              null|           null|      42|      M|               1|                4209003|                Joaçaba|              42|              SC|              1|             10|        1|     null|              1|          1|             0|          0|        0|                      0|                0|                    0|                    0|                 0|          0|          0|          0|       0|             0|         0|                 0|           0|           0|             0|             0|         0|             0|             0|       0|        0|             0|        0|                0|                    0|                       0|             0|                 0|      0|            0|                  0|                 0|                    0|               0|                  0|                0|                    0|                 0|                0|         0|             0|       0|              0|                 0|               0|                   0|                       0|                     0|             0|                    null|                       null|                       null|           4309209|          Gravataí|         43|         RS|             1|             1|             1|             1|        235|        231|        242|        246|     657.4|     705.3|     591.1|     732.3|DACCBCABEDDCBABBB...|CEAEADACEADEDBDAC...|99999DAABDBDEDBDC...|DCEDAACEBBDBEBEBC...|        1|DCCDBCAAEBECBAADA...|AEAEADECEADEDBDAC...|CEDAABDACDBDEDBDC...|DAEACAAEBADDBBEBC...|                1|          160|          160|          120|          160|          160|            760|   A|   A|   A|   A|   3|   D|   A|   B|   B|   A|   A|   B|   A|   B|   A|   B|   A|   A|   B|   A|   A|   B|   B|   B|   B|   C|   A|   A|   0|   2|   2|   2|   1|   5|   5|   5|   5|   5|   5|   5|   5|   A|   A|   A|   A|   A|   E|   A|   A|   A|\n|150000003053|  2015|                3143302|          Montes Claros|              31|              MG|                          0|           0|     null|            null|            null|     null|     null|                  null|              null|           null|      21|      M|               1|                3143302|          Montes Claros|              31|              MG|              1|              5|        1|     null|              0|          3|             0|          0|        0|                      0|                0|                    0|                    0|                 0|          0|          0|          0|       0|             0|         0|                 0|           0|           0|             0|             0|         0|             0|             0|       0|        0|             0|        0|                0|                    0|                       0|             0|                 0|      0|            0|                  0|                 0|                    0|               0|                  0|                0|                    0|                 0|                0|         0|             0|       0|              0|                 0|               0|                   0|                       0|                     0|             0|                    null|                       null|                       null|           3143302|     Montes Claros|         31|         MG|             0|             0|             0|             0|       null|       null|       null|       null|      null|      null|      null|      null|                null|                null|                null|                null|        1|                null|                null|                null|                null|                4|            0|            0|            0|            0|            0|              0|   E|   E|   C|   B|   3|   B|   A|   C|   D|   A|   B|   B|   A|   A|   A|   A|   A|   A|   B|   B|   A|   D|   B|   B|   B|   C|   B|   E|   5|   5|   5|   5|   5|   5|   5|   2|   5|   0|   0|   5|   5|   B|   A|   A|   A|   A|   A|   A|   A|   A|\n+------------+------+-----------------------+-----------------------+----------------+----------------+---------------------------+------------+---------+----------------+----------------+---------+---------+----------------------+------------------+---------------+--------+-------+----------------+-----------------------+-----------------------+----------------+----------------+---------------+---------------+---------+---------+---------------+-----------+--------------+-----------+---------+-----------------------+-----------------+---------------------+---------------------+------------------+-----------+-----------+-----------+--------+--------------+----------+------------------+------------+------------+--------------+--------------+----------+--------------+--------------+--------+---------+--------------+---------+-----------------+---------------------+------------------------+--------------+------------------+-------+-------------+-------------------+------------------+---------------------+----------------+-------------------+-----------------+---------------------+------------------+-----------------+----------+--------------+--------+---------------+------------------+----------------+--------------------+------------------------+----------------------+--------------+------------------------+---------------------------+---------------------------+------------------+------------------+-----------+-----------+--------------+--------------+--------------+--------------+-----------+-----------+-----------+-----------+----------+----------+----------+----------+--------------------+--------------------+--------------------+--------------------+---------+--------------------+--------------------+--------------------+--------------------+-----------------+-------------+-------------+-------------+-------------+-------------+---------------+----+----+----+----+----+----+----+----+----+----+----+----+----+----+----+----+----+----+----+----+----+----+----+----+----+----+----+----+----+----+----+----+----+----+----+----+----+----+----+----+----+----+----+----+----+----+----+----+----+----+\nonly showing top 2 rows\n\n"
    }
   ],
   "source": [
    "df_enem2015_completo.show(n=2,truncate=True)"
   ]
  },
  {
   "cell_type": "code",
   "execution_count": 6,
   "metadata": {
    "tags": []
   },
   "outputs": [
    {
     "output_type": "execute_result",
     "data": {
      "text/plain": "[Row(NU_INSCRICAO=150000000376, NU_ANO=2015, CO_MUNICIPIO_RESIDENCIA=4309209, NO_MUNICIPIO_RESIDENCIA='Gravataí', CO_UF_RESIDENCIA=43, SG_UF_RESIDENCIA='RS', IN_ESTUDA_CLASSE_HOSPITALAR=0, IN_TREINEIRO=0, CO_ESCOLA=None, CO_MUNICIPIO_ESC=None, NO_MUNICIPIO_ESC=None, CO_UF_ESC=None, SG_UF_ESC=None, TP_DEPENDENCIA_ADM_ESC=None, TP_LOCALIZACAO_ESC=None, TP_SIT_FUNC_ESC=None, NU_IDADE=42, TP_SEXO='M', TP_NACIONALIDADE=1, CO_MUNICIPIO_NASCIMENTO=4209003, NO_MUNICIPIO_NASCIMENTO='Joaçaba', CO_UF_NASCIMENTO=42, SG_UF_NASCIMENTO='SC', TP_ST_CONCLUSAO=1, TP_ANO_CONCLUIU=10, TP_ESCOLA=1, TP_ENSINO=None, TP_ESTADO_CIVIL=1, TP_COR_RACA=1, IN_BAIXA_VISAO=0, IN_CEGUEIRA=0, IN_SURDEZ=0, IN_DEFICIENCIA_AUDITIVA=0, IN_SURDO_CEGUEIRA=0, IN_DEFICIENCIA_FISICA=0, IN_DEFICIENCIA_MENTAL=0, IN_DEFICIT_ATENCAO=0, IN_DISLEXIA=0, IN_GESTANTE=0, IN_LACTANTE=0, IN_IDOSO=0, IN_DISCALCULIA=0, IN_AUTISMO=0, IN_VISAO_MONOCULAR=0, IN_SABATISTA=0, IN_OUTRA_DEF=0, IN_SEM_RECURSO=0, IN_NOME_SOCIAL=0, IN_BRAILLE=0, IN_AMPLIADA_24=0, IN_AMPLIADA_18=0, IN_LEDOR=0, IN_ACESSO=0, IN_TRANSCRICAO=0, IN_LIBRAS=0, IN_LEITURA_LABIAL=0, IN_MESA_CADEIRA_RODAS=0, IN_MESA_CADEIRA_SEPARADA=0, IN_APOIO_PERNA=0, IN_GUIA_INTERPRETE=0, IN_MACA=0, IN_COMPUTADOR=0, IN_CADEIRA_ESPECIAL=0, IN_CADEIRA_CANHOTO=0, IN_CADEIRA_ACOLCHOADA=0, IN_PROVA_DEITADO=0, IN_MOBILIARIO_OBESO=0, IN_LAMINA_OVERLAY=0, IN_PROTETOR_AURICULAR=0, IN_MEDIDOR_GLICOSE=0, IN_MAQUINA_BRAILE=0, IN_SOROBAN=0, IN_MARCA_PASSO=0, IN_SONDA=0, IN_MEDICAMENTOS=0, IN_SALA_INDIVIDUAL=0, IN_SALA_ESPECIAL=0, IN_SALA_ACOMPANHANTE=0, IN_MOBILIARIO_ESPECIFICO=0, IN_MATERIAL_ESPECÍFICO=0, IN_CERTIFICADO=0, NO_ENTIDADE_CERTIFICACAO=None, CO_UF_ENTIDADE_CERTIFICACAO=None, SG_UF_ENTIDADE_CERTIFICACAO=None, CO_MUNICIPIO_PROVA=4309209, NO_MUNICIPIO_PROVA='Gravataí', CO_UF_PROVA=43, SG_UF_PROVA='RS', TP_PRESENCA_CN=1, TP_PRESENCA_CH=1, TP_PRESENCA_LC=1, TP_PRESENCA_MT=1, CO_PROVA_CN=235, CO_PROVA_CH=231, CO_PROVA_LC=242, CO_PROVA_MT=246, NU_NOTA_CN=657.4, NU_NOTA_CH=705.3, NU_NOTA_LC=591.1, NU_NOTA_MT=732.3, TX_RESPOSTAS_CN='DACCBCABEDDCBABBBDCDCDEBDCECABCBEACEEDBBEBAED', TX_RESPOSTAS_CH='CEAEADACEADEDBDACBBEEEEEBADCEBCBACBBDDADCCBBD', TX_RESPOSTAS_LC='99999DAABDBDEDBDCDAC*BCDDBEEAECCAABCDCCDBBCDEBEDAB', TX_RESPOSTAS_MT='DCEDAACEBBDBEBEBCAACBEBDDACDCBEDDCCBADAADAACC', TP_LINGUA=1, TX_GABARITO_CN='DCCDBCAAEBECBAADADBDEDEEBBBCABCCEAAEEDCBDDCEA', TX_GABARITO_CH='AEAEADECEADEDBDACBBCEEECBADCEBCEACBBBDADCCABD', TX_GABARITO_LC='CEDAABDACDBDEDBDCDDCEDCDABEBAECCEABCECCBABDEEBEABB', TX_GABARITO_MT='DAEACAAEBADDBBEBCCCEBEEDCAADCBEDACCEDCABDBDEC', TP_STATUS_REDACAO=1, NU_NOTA_COMP1=160, NU_NOTA_COMP2=160, NU_NOTA_COMP3=120, NU_NOTA_COMP4=160, NU_NOTA_COMP5=160, NU_NOTA_REDACAO=760, Q001='A', Q002='A', Q003='A', Q004='A', Q005=3, Q006='D', Q007='A', Q008='B', Q009='B', Q010='A', Q011='A', Q012='B', Q013='A', Q014='B', Q015='A', Q016='B', Q017='A', Q018='A', Q019='B', Q020='A', Q021='A', Q022='B', Q023='B', Q024='B', Q025='B', Q026='C', Q027='A', Q028='A', Q029=0, Q030=2, Q031=2, Q032=2, Q033=1, Q034=5, Q035=5, Q036=5, Q037=5, Q038=5, Q039=5, Q040=5, Q041=5, Q042='A', Q043='A', Q044='A', Q045='A', Q046='A', Q047='E', Q048='A', Q049='A', Q050='A'),\n Row(NU_INSCRICAO=150000003053, NU_ANO=2015, CO_MUNICIPIO_RESIDENCIA=3143302, NO_MUNICIPIO_RESIDENCIA='Montes Claros', CO_UF_RESIDENCIA=31, SG_UF_RESIDENCIA='MG', IN_ESTUDA_CLASSE_HOSPITALAR=0, IN_TREINEIRO=0, CO_ESCOLA=None, CO_MUNICIPIO_ESC=None, NO_MUNICIPIO_ESC=None, CO_UF_ESC=None, SG_UF_ESC=None, TP_DEPENDENCIA_ADM_ESC=None, TP_LOCALIZACAO_ESC=None, TP_SIT_FUNC_ESC=None, NU_IDADE=21, TP_SEXO='M', TP_NACIONALIDADE=1, CO_MUNICIPIO_NASCIMENTO=3143302, NO_MUNICIPIO_NASCIMENTO='Montes Claros', CO_UF_NASCIMENTO=31, SG_UF_NASCIMENTO='MG', TP_ST_CONCLUSAO=1, TP_ANO_CONCLUIU=5, TP_ESCOLA=1, TP_ENSINO=None, TP_ESTADO_CIVIL=0, TP_COR_RACA=3, IN_BAIXA_VISAO=0, IN_CEGUEIRA=0, IN_SURDEZ=0, IN_DEFICIENCIA_AUDITIVA=0, IN_SURDO_CEGUEIRA=0, IN_DEFICIENCIA_FISICA=0, IN_DEFICIENCIA_MENTAL=0, IN_DEFICIT_ATENCAO=0, IN_DISLEXIA=0, IN_GESTANTE=0, IN_LACTANTE=0, IN_IDOSO=0, IN_DISCALCULIA=0, IN_AUTISMO=0, IN_VISAO_MONOCULAR=0, IN_SABATISTA=0, IN_OUTRA_DEF=0, IN_SEM_RECURSO=0, IN_NOME_SOCIAL=0, IN_BRAILLE=0, IN_AMPLIADA_24=0, IN_AMPLIADA_18=0, IN_LEDOR=0, IN_ACESSO=0, IN_TRANSCRICAO=0, IN_LIBRAS=0, IN_LEITURA_LABIAL=0, IN_MESA_CADEIRA_RODAS=0, IN_MESA_CADEIRA_SEPARADA=0, IN_APOIO_PERNA=0, IN_GUIA_INTERPRETE=0, IN_MACA=0, IN_COMPUTADOR=0, IN_CADEIRA_ESPECIAL=0, IN_CADEIRA_CANHOTO=0, IN_CADEIRA_ACOLCHOADA=0, IN_PROVA_DEITADO=0, IN_MOBILIARIO_OBESO=0, IN_LAMINA_OVERLAY=0, IN_PROTETOR_AURICULAR=0, IN_MEDIDOR_GLICOSE=0, IN_MAQUINA_BRAILE=0, IN_SOROBAN=0, IN_MARCA_PASSO=0, IN_SONDA=0, IN_MEDICAMENTOS=0, IN_SALA_INDIVIDUAL=0, IN_SALA_ESPECIAL=0, IN_SALA_ACOMPANHANTE=0, IN_MOBILIARIO_ESPECIFICO=0, IN_MATERIAL_ESPECÍFICO=0, IN_CERTIFICADO=0, NO_ENTIDADE_CERTIFICACAO=None, CO_UF_ENTIDADE_CERTIFICACAO=None, SG_UF_ENTIDADE_CERTIFICACAO=None, CO_MUNICIPIO_PROVA=3143302, NO_MUNICIPIO_PROVA='Montes Claros', CO_UF_PROVA=31, SG_UF_PROVA='MG', TP_PRESENCA_CN=0, TP_PRESENCA_CH=0, TP_PRESENCA_LC=0, TP_PRESENCA_MT=0, CO_PROVA_CN=None, CO_PROVA_CH=None, CO_PROVA_LC=None, CO_PROVA_MT=None, NU_NOTA_CN=None, NU_NOTA_CH=None, NU_NOTA_LC=None, NU_NOTA_MT=None, TX_RESPOSTAS_CN=None, TX_RESPOSTAS_CH=None, TX_RESPOSTAS_LC=None, TX_RESPOSTAS_MT=None, TP_LINGUA=1, TX_GABARITO_CN=None, TX_GABARITO_CH=None, TX_GABARITO_LC=None, TX_GABARITO_MT=None, TP_STATUS_REDACAO=4, NU_NOTA_COMP1=0, NU_NOTA_COMP2=0, NU_NOTA_COMP3=0, NU_NOTA_COMP4=0, NU_NOTA_COMP5=0, NU_NOTA_REDACAO=0, Q001='E', Q002='E', Q003='C', Q004='B', Q005=3, Q006='B', Q007='A', Q008='C', Q009='D', Q010='A', Q011='B', Q012='B', Q013='A', Q014='A', Q015='A', Q016='A', Q017='A', Q018='A', Q019='B', Q020='B', Q021='A', Q022='D', Q023='B', Q024='B', Q025='B', Q026='C', Q027='B', Q028='E', Q029=5, Q030=5, Q031=5, Q032=5, Q033=5, Q034=5, Q035=5, Q036=2, Q037=5, Q038=0, Q039=0, Q040=5, Q041=5, Q042='B', Q043='A', Q044='A', Q045='A', Q046='A', Q047='A', Q048='A', Q049='A', Q050='A')]"
     },
     "metadata": {},
     "execution_count": 6
    }
   ],
   "source": [
    "df_enem2015_completo.head(2)"
   ]
  },
  {
   "cell_type": "code",
   "execution_count": 7,
   "metadata": {
    "tags": []
   },
   "outputs": [
    {
     "output_type": "stream",
     "name": "stdout",
     "text": "root\n |-- NU_INSCRICAO: long (nullable = true)\n |-- NU_ANO: integer (nullable = true)\n |-- CO_MUNICIPIO_RESIDENCIA: integer (nullable = true)\n |-- NO_MUNICIPIO_RESIDENCIA: string (nullable = true)\n |-- CO_UF_RESIDENCIA: integer (nullable = true)\n |-- SG_UF_RESIDENCIA: string (nullable = true)\n |-- IN_ESTUDA_CLASSE_HOSPITALAR: integer (nullable = true)\n |-- IN_TREINEIRO: integer (nullable = true)\n |-- CO_ESCOLA: integer (nullable = true)\n |-- CO_MUNICIPIO_ESC: integer (nullable = true)\n |-- NO_MUNICIPIO_ESC: string (nullable = true)\n |-- CO_UF_ESC: integer (nullable = true)\n |-- SG_UF_ESC: string (nullable = true)\n |-- TP_DEPENDENCIA_ADM_ESC: integer (nullable = true)\n |-- TP_LOCALIZACAO_ESC: integer (nullable = true)\n |-- TP_SIT_FUNC_ESC: integer (nullable = true)\n |-- NU_IDADE: integer (nullable = true)\n |-- TP_SEXO: string (nullable = true)\n |-- TP_NACIONALIDADE: integer (nullable = true)\n |-- CO_MUNICIPIO_NASCIMENTO: integer (nullable = true)\n |-- NO_MUNICIPIO_NASCIMENTO: string (nullable = true)\n |-- CO_UF_NASCIMENTO: integer (nullable = true)\n |-- SG_UF_NASCIMENTO: string (nullable = true)\n |-- TP_ST_CONCLUSAO: integer (nullable = true)\n |-- TP_ANO_CONCLUIU: integer (nullable = true)\n |-- TP_ESCOLA: integer (nullable = true)\n |-- TP_ENSINO: integer (nullable = true)\n |-- TP_ESTADO_CIVIL: integer (nullable = true)\n |-- TP_COR_RACA: integer (nullable = true)\n |-- IN_BAIXA_VISAO: integer (nullable = true)\n |-- IN_CEGUEIRA: integer (nullable = true)\n |-- IN_SURDEZ: integer (nullable = true)\n |-- IN_DEFICIENCIA_AUDITIVA: integer (nullable = true)\n |-- IN_SURDO_CEGUEIRA: integer (nullable = true)\n |-- IN_DEFICIENCIA_FISICA: integer (nullable = true)\n |-- IN_DEFICIENCIA_MENTAL: integer (nullable = true)\n |-- IN_DEFICIT_ATENCAO: integer (nullable = true)\n |-- IN_DISLEXIA: integer (nullable = true)\n |-- IN_GESTANTE: integer (nullable = true)\n |-- IN_LACTANTE: integer (nullable = true)\n |-- IN_IDOSO: integer (nullable = true)\n |-- IN_DISCALCULIA: integer (nullable = true)\n |-- IN_AUTISMO: integer (nullable = true)\n |-- IN_VISAO_MONOCULAR: integer (nullable = true)\n |-- IN_SABATISTA: integer (nullable = true)\n |-- IN_OUTRA_DEF: integer (nullable = true)\n |-- IN_SEM_RECURSO: integer (nullable = true)\n |-- IN_NOME_SOCIAL: integer (nullable = true)\n |-- IN_BRAILLE: integer (nullable = true)\n |-- IN_AMPLIADA_24: integer (nullable = true)\n |-- IN_AMPLIADA_18: integer (nullable = true)\n |-- IN_LEDOR: integer (nullable = true)\n |-- IN_ACESSO: integer (nullable = true)\n |-- IN_TRANSCRICAO: integer (nullable = true)\n |-- IN_LIBRAS: integer (nullable = true)\n |-- IN_LEITURA_LABIAL: integer (nullable = true)\n |-- IN_MESA_CADEIRA_RODAS: integer (nullable = true)\n |-- IN_MESA_CADEIRA_SEPARADA: integer (nullable = true)\n |-- IN_APOIO_PERNA: integer (nullable = true)\n |-- IN_GUIA_INTERPRETE: integer (nullable = true)\n |-- IN_MACA: integer (nullable = true)\n |-- IN_COMPUTADOR: integer (nullable = true)\n |-- IN_CADEIRA_ESPECIAL: integer (nullable = true)\n |-- IN_CADEIRA_CANHOTO: integer (nullable = true)\n |-- IN_CADEIRA_ACOLCHOADA: integer (nullable = true)\n |-- IN_PROVA_DEITADO: integer (nullable = true)\n |-- IN_MOBILIARIO_OBESO: integer (nullable = true)\n |-- IN_LAMINA_OVERLAY: integer (nullable = true)\n |-- IN_PROTETOR_AURICULAR: integer (nullable = true)\n |-- IN_MEDIDOR_GLICOSE: integer (nullable = true)\n |-- IN_MAQUINA_BRAILE: integer (nullable = true)\n |-- IN_SOROBAN: integer (nullable = true)\n |-- IN_MARCA_PASSO: integer (nullable = true)\n |-- IN_SONDA: integer (nullable = true)\n |-- IN_MEDICAMENTOS: integer (nullable = true)\n |-- IN_SALA_INDIVIDUAL: integer (nullable = true)\n |-- IN_SALA_ESPECIAL: integer (nullable = true)\n |-- IN_SALA_ACOMPANHANTE: integer (nullable = true)\n |-- IN_MOBILIARIO_ESPECIFICO: integer (nullable = true)\n |-- IN_MATERIAL_ESPECÍFICO: integer (nullable = true)\n |-- IN_CERTIFICADO: integer (nullable = true)\n |-- NO_ENTIDADE_CERTIFICACAO: string (nullable = true)\n |-- CO_UF_ENTIDADE_CERTIFICACAO: integer (nullable = true)\n |-- SG_UF_ENTIDADE_CERTIFICACAO: string (nullable = true)\n |-- CO_MUNICIPIO_PROVA: integer (nullable = true)\n |-- NO_MUNICIPIO_PROVA: string (nullable = true)\n |-- CO_UF_PROVA: integer (nullable = true)\n |-- SG_UF_PROVA: string (nullable = true)\n |-- TP_PRESENCA_CN: integer (nullable = true)\n |-- TP_PRESENCA_CH: integer (nullable = true)\n |-- TP_PRESENCA_LC: integer (nullable = true)\n |-- TP_PRESENCA_MT: integer (nullable = true)\n |-- CO_PROVA_CN: integer (nullable = true)\n |-- CO_PROVA_CH: integer (nullable = true)\n |-- CO_PROVA_LC: integer (nullable = true)\n |-- CO_PROVA_MT: integer (nullable = true)\n |-- NU_NOTA_CN: double (nullable = true)\n |-- NU_NOTA_CH: double (nullable = true)\n |-- NU_NOTA_LC: double (nullable = true)\n |-- NU_NOTA_MT: double (nullable = true)\n |-- TX_RESPOSTAS_CN: string (nullable = true)\n |-- TX_RESPOSTAS_CH: string (nullable = true)\n |-- TX_RESPOSTAS_LC: string (nullable = true)\n |-- TX_RESPOSTAS_MT: string (nullable = true)\n |-- TP_LINGUA: integer (nullable = true)\n |-- TX_GABARITO_CN: string (nullable = true)\n |-- TX_GABARITO_CH: string (nullable = true)\n |-- TX_GABARITO_LC: string (nullable = true)\n |-- TX_GABARITO_MT: string (nullable = true)\n |-- TP_STATUS_REDACAO: integer (nullable = true)\n |-- NU_NOTA_COMP1: integer (nullable = true)\n |-- NU_NOTA_COMP2: integer (nullable = true)\n |-- NU_NOTA_COMP3: integer (nullable = true)\n |-- NU_NOTA_COMP4: integer (nullable = true)\n |-- NU_NOTA_COMP5: integer (nullable = true)\n |-- NU_NOTA_REDACAO: integer (nullable = true)\n |-- Q001: string (nullable = true)\n |-- Q002: string (nullable = true)\n |-- Q003: string (nullable = true)\n |-- Q004: string (nullable = true)\n |-- Q005: integer (nullable = true)\n |-- Q006: string (nullable = true)\n |-- Q007: string (nullable = true)\n |-- Q008: string (nullable = true)\n |-- Q009: string (nullable = true)\n |-- Q010: string (nullable = true)\n |-- Q011: string (nullable = true)\n |-- Q012: string (nullable = true)\n |-- Q013: string (nullable = true)\n |-- Q014: string (nullable = true)\n |-- Q015: string (nullable = true)\n |-- Q016: string (nullable = true)\n |-- Q017: string (nullable = true)\n |-- Q018: string (nullable = true)\n |-- Q019: string (nullable = true)\n |-- Q020: string (nullable = true)\n |-- Q021: string (nullable = true)\n |-- Q022: string (nullable = true)\n |-- Q023: string (nullable = true)\n |-- Q024: string (nullable = true)\n |-- Q025: string (nullable = true)\n |-- Q026: string (nullable = true)\n |-- Q027: string (nullable = true)\n |-- Q028: string (nullable = true)\n |-- Q029: integer (nullable = true)\n |-- Q030: integer (nullable = true)\n |-- Q031: integer (nullable = true)\n |-- Q032: integer (nullable = true)\n |-- Q033: integer (nullable = true)\n |-- Q034: integer (nullable = true)\n |-- Q035: integer (nullable = true)\n |-- Q036: integer (nullable = true)\n |-- Q037: integer (nullable = true)\n |-- Q038: integer (nullable = true)\n |-- Q039: integer (nullable = true)\n |-- Q040: integer (nullable = true)\n |-- Q041: integer (nullable = true)\n |-- Q042: string (nullable = true)\n |-- Q043: string (nullable = true)\n |-- Q044: string (nullable = true)\n |-- Q045: string (nullable = true)\n |-- Q046: string (nullable = true)\n |-- Q047: string (nullable = true)\n |-- Q048: string (nullable = true)\n |-- Q049: string (nullable = true)\n |-- Q050: string (nullable = true)\n\n"
    }
   ],
   "source": [
    "df_enem2015_completo.printSchema()"
   ]
  },
  {
   "cell_type": "code",
   "execution_count": 8,
   "metadata": {},
   "outputs": [
    {
     "output_type": "execute_result",
     "data": {
      "text/plain": "['NU_INSCRICAO',\n 'NU_ANO',\n 'CO_MUNICIPIO_RESIDENCIA',\n 'NO_MUNICIPIO_RESIDENCIA',\n 'CO_UF_RESIDENCIA',\n 'SG_UF_RESIDENCIA',\n 'IN_ESTUDA_CLASSE_HOSPITALAR',\n 'IN_TREINEIRO',\n 'CO_ESCOLA',\n 'CO_MUNICIPIO_ESC',\n 'NO_MUNICIPIO_ESC',\n 'CO_UF_ESC',\n 'SG_UF_ESC',\n 'TP_DEPENDENCIA_ADM_ESC',\n 'TP_LOCALIZACAO_ESC',\n 'TP_SIT_FUNC_ESC',\n 'NU_IDADE',\n 'TP_SEXO',\n 'TP_NACIONALIDADE',\n 'CO_MUNICIPIO_NASCIMENTO',\n 'NO_MUNICIPIO_NASCIMENTO',\n 'CO_UF_NASCIMENTO',\n 'SG_UF_NASCIMENTO',\n 'TP_ST_CONCLUSAO',\n 'TP_ANO_CONCLUIU',\n 'TP_ESCOLA',\n 'TP_ENSINO',\n 'TP_ESTADO_CIVIL',\n 'TP_COR_RACA',\n 'IN_BAIXA_VISAO',\n 'IN_CEGUEIRA',\n 'IN_SURDEZ',\n 'IN_DEFICIENCIA_AUDITIVA',\n 'IN_SURDO_CEGUEIRA',\n 'IN_DEFICIENCIA_FISICA',\n 'IN_DEFICIENCIA_MENTAL',\n 'IN_DEFICIT_ATENCAO',\n 'IN_DISLEXIA',\n 'IN_GESTANTE',\n 'IN_LACTANTE',\n 'IN_IDOSO',\n 'IN_DISCALCULIA',\n 'IN_AUTISMO',\n 'IN_VISAO_MONOCULAR',\n 'IN_SABATISTA',\n 'IN_OUTRA_DEF',\n 'IN_SEM_RECURSO',\n 'IN_NOME_SOCIAL',\n 'IN_BRAILLE',\n 'IN_AMPLIADA_24',\n 'IN_AMPLIADA_18',\n 'IN_LEDOR',\n 'IN_ACESSO',\n 'IN_TRANSCRICAO',\n 'IN_LIBRAS',\n 'IN_LEITURA_LABIAL',\n 'IN_MESA_CADEIRA_RODAS',\n 'IN_MESA_CADEIRA_SEPARADA',\n 'IN_APOIO_PERNA',\n 'IN_GUIA_INTERPRETE',\n 'IN_MACA',\n 'IN_COMPUTADOR',\n 'IN_CADEIRA_ESPECIAL',\n 'IN_CADEIRA_CANHOTO',\n 'IN_CADEIRA_ACOLCHOADA',\n 'IN_PROVA_DEITADO',\n 'IN_MOBILIARIO_OBESO',\n 'IN_LAMINA_OVERLAY',\n 'IN_PROTETOR_AURICULAR',\n 'IN_MEDIDOR_GLICOSE',\n 'IN_MAQUINA_BRAILE',\n 'IN_SOROBAN',\n 'IN_MARCA_PASSO',\n 'IN_SONDA',\n 'IN_MEDICAMENTOS',\n 'IN_SALA_INDIVIDUAL',\n 'IN_SALA_ESPECIAL',\n 'IN_SALA_ACOMPANHANTE',\n 'IN_MOBILIARIO_ESPECIFICO',\n 'IN_MATERIAL_ESPECÍFICO',\n 'IN_CERTIFICADO',\n 'NO_ENTIDADE_CERTIFICACAO',\n 'CO_UF_ENTIDADE_CERTIFICACAO',\n 'SG_UF_ENTIDADE_CERTIFICACAO',\n 'CO_MUNICIPIO_PROVA',\n 'NO_MUNICIPIO_PROVA',\n 'CO_UF_PROVA',\n 'SG_UF_PROVA',\n 'TP_PRESENCA_CN',\n 'TP_PRESENCA_CH',\n 'TP_PRESENCA_LC',\n 'TP_PRESENCA_MT',\n 'CO_PROVA_CN',\n 'CO_PROVA_CH',\n 'CO_PROVA_LC',\n 'CO_PROVA_MT',\n 'NU_NOTA_CN',\n 'NU_NOTA_CH',\n 'NU_NOTA_LC',\n 'NU_NOTA_MT',\n 'TX_RESPOSTAS_CN',\n 'TX_RESPOSTAS_CH',\n 'TX_RESPOSTAS_LC',\n 'TX_RESPOSTAS_MT',\n 'TP_LINGUA',\n 'TX_GABARITO_CN',\n 'TX_GABARITO_CH',\n 'TX_GABARITO_LC',\n 'TX_GABARITO_MT',\n 'TP_STATUS_REDACAO',\n 'NU_NOTA_COMP1',\n 'NU_NOTA_COMP2',\n 'NU_NOTA_COMP3',\n 'NU_NOTA_COMP4',\n 'NU_NOTA_COMP5',\n 'NU_NOTA_REDACAO',\n 'Q001',\n 'Q002',\n 'Q003',\n 'Q004',\n 'Q005',\n 'Q006',\n 'Q007',\n 'Q008',\n 'Q009',\n 'Q010',\n 'Q011',\n 'Q012',\n 'Q013',\n 'Q014',\n 'Q015',\n 'Q016',\n 'Q017',\n 'Q018',\n 'Q019',\n 'Q020',\n 'Q021',\n 'Q022',\n 'Q023',\n 'Q024',\n 'Q025',\n 'Q026',\n 'Q027',\n 'Q028',\n 'Q029',\n 'Q030',\n 'Q031',\n 'Q032',\n 'Q033',\n 'Q034',\n 'Q035',\n 'Q036',\n 'Q037',\n 'Q038',\n 'Q039',\n 'Q040',\n 'Q041',\n 'Q042',\n 'Q043',\n 'Q044',\n 'Q045',\n 'Q046',\n 'Q047',\n 'Q048',\n 'Q049',\n 'Q050']"
     },
     "metadata": {},
     "execution_count": 8
    }
   ],
   "source": [
    "df_enem2015_completo.columns[:]"
   ]
  },
  {
   "cell_type": "code",
   "execution_count": 9,
   "metadata": {
    "tags": []
   },
   "outputs": [
    {
     "output_type": "stream",
     "name": "stdout",
     "text": "Descrição DataFrame df_enem2015_completo\n\nDescrição Idade\n+-------+------------------+\n|summary|          NU_IDADE|\n+-------+------------------+\n|  count|           7746352|\n|   mean|23.004694338702915|\n| stddev| 7.944599707765686|\n|    min|                10|\n|    max|                98|\n+-------+------------------+\n\n\nDescrição Nota da prova de Ciências da Natureza\n+-------+-----------------+\n|summary|       NU_NOTA_CN|\n+-------+-----------------+\n|  count|          5755091|\n|   mean|478.9239503771539|\n| stddev|71.56005864237716|\n|    min|              0.0|\n|    max|            875.2|\n+-------+-----------------+\n\n\nDescrição Nota da prova de Ciências Humanas\n+-------+-----------------+\n|summary|       NU_NOTA_CH|\n+-------+-----------------+\n|  count|          5755091|\n|   mean|558.4878240152929|\n| stddev|70.96839011437301|\n|    min|              0.0|\n|    max|            850.6|\n+-------+-----------------+\n\n\nDescrição Nota da prova de Linguagens e Códigos\n+-------+------------------+\n|summary|        NU_NOTA_LC|\n+-------+------------------+\n|  count|           5625540|\n|   mean|505.45478531838677|\n| stddev| 72.68930504276108|\n|    min|               0.0|\n|    max|             825.8|\n+-------+------------------+\n\n\nDescrição Nota da prova de Matemática\n+-------+------------------+\n|summary|        NU_NOTA_MT|\n+-------+------------------+\n|  count|           5625540|\n|   mean|467.93117604709937|\n| stddev|107.36792743837316|\n|    min|               0.0|\n|    max|            1008.3|\n+-------+------------------+\n\n\nDescrição Nota da prova de redação\n+-------+------------------+\n|summary|   NU_NOTA_REDACAO|\n+-------+------------------+\n|  count|           7744736|\n|   mean|388.40985670783357|\n| stddev| 267.5071259318306|\n|    min|                 0|\n|    max|              1000|\n+-------+------------------+\n\n"
    }
   ],
   "source": [
    "# Descrição Dataframe df_enem2015_completo.\n",
    "\n",
    "print('Descrição DataFrame df_enem2015_completo')\n",
    "print('')\n",
    "\n",
    "print('Descrição Idade')\n",
    "df_enem2015_completo.describe('NU_IDADE').show()\n",
    "print('')\n",
    "\n",
    "print('Descrição Nota da prova de Ciências da Natureza')\n",
    "df_enem2015_completo.describe('NU_NOTA_CN').show()\n",
    "print('')\n",
    "\n",
    "print('Descrição Nota da prova de Ciências Humanas')\n",
    "df_enem2015_completo.describe('NU_NOTA_CH').show()\n",
    "print('')\n",
    "\n",
    "print('Descrição Nota da prova de Linguagens e Códigos')\n",
    "df_enem2015_completo.describe('NU_NOTA_LC').show()\n",
    "print('')\n",
    "\n",
    "print('Descrição Nota da prova de Matemática')\n",
    "df_enem2015_completo.describe('NU_NOTA_MT').show()\n",
    "print('')\n",
    "\n",
    "print('Descrição Nota da prova de redação')\n",
    "df_enem2015_completo.describe('NU_NOTA_REDACAO').show()"
   ]
  },
  {
   "cell_type": "code",
   "execution_count": 10,
   "metadata": {
    "tags": []
   },
   "outputs": [
    {
     "output_type": "stream",
     "name": "stdout",
     "text": "Descrição DataFrame df_enem2016_completo\n\nDescrição Idade\n+-------+-----------------+\n|summary|         NU_IDADE|\n+-------+-----------------+\n|  count|          8627265|\n|   mean| 23.0310825041308|\n| stddev|7.973406085745136|\n|    min|               10|\n|    max|               95|\n+-------+-----------------+\n\n\nDescrição Nota da prova de Ciências da Natureza\n+-------+-----------------+\n|summary|       NU_NOTA_CN|\n+-------+-----------------+\n|  count|          5999126|\n|   mean|477.6773009101653|\n| stddev|72.71845884040538|\n|    min|              0.0|\n|    max|            871.3|\n+-------+-----------------+\n\n\nDescrição Nota da prova de Ciências Humanas\n+-------+-----------------+\n|summary|       NU_NOTA_CH|\n+-------+-----------------+\n|  count|          5999126|\n|   mean|534.4409175603251|\n| stddev| 74.4988507782099|\n|    min|              0.0|\n|    max|            859.1|\n+-------+-----------------+\n\n\nDescrição Nota da prova de Linguagens e Códigos\n+-------+-----------------+\n|summary|       NU_NOTA_LC|\n+-------+-----------------+\n|  count|          5844971|\n|   mean|520.9074943742231|\n| stddev|68.79658007787643|\n|    min|              0.0|\n|    max|            802.6|\n+-------+-----------------+\n\n\nDescrição Nota da prova de Matemática\n+-------+------------------+\n|summary|        NU_NOTA_MT|\n+-------+------------------+\n|  count|           5844971|\n|   mean|490.08540213458764|\n| stddev|103.23464319126394|\n|    min|               0.0|\n|    max|             991.5|\n+-------+------------------+\n\n\nDescrição Nota da prova de redação\n+-------+-----------------+\n|summary|  NU_NOTA_REDACAO|\n+-------+-----------------+\n|  count|          5844971|\n|   mean|529.9665149750101|\n| stddev|154.0034330186631|\n|    min|                0|\n|    max|             1000|\n+-------+-----------------+\n\n"
    }
   ],
   "source": [
    "# Descrição Dataframe df_enem2016_completo.\n",
    "\n",
    "print('Descrição DataFrame df_enem2016_completo')\n",
    "print('')\n",
    "\n",
    "print('Descrição Idade')\n",
    "df_enem2016_completo.describe('NU_IDADE').show()\n",
    "print('')\n",
    "\n",
    "print('Descrição Nota da prova de Ciências da Natureza')\n",
    "df_enem2016_completo.describe('NU_NOTA_CN').show()\n",
    "print('')\n",
    "\n",
    "print('Descrição Nota da prova de Ciências Humanas')\n",
    "df_enem2016_completo.describe('NU_NOTA_CH').show()\n",
    "print('')\n",
    "\n",
    "print('Descrição Nota da prova de Linguagens e Códigos')\n",
    "df_enem2016_completo.describe('NU_NOTA_LC').show()\n",
    "print('')\n",
    "\n",
    "print('Descrição Nota da prova de Matemática')\n",
    "df_enem2016_completo.describe('NU_NOTA_MT').show()\n",
    "print('')\n",
    "\n",
    "print('Descrição Nota da prova de redação')\n",
    "df_enem2016_completo.describe('NU_NOTA_REDACAO').show()"
   ]
  },
  {
   "cell_type": "code",
   "execution_count": 11,
   "metadata": {
    "tags": []
   },
   "outputs": [
    {
     "output_type": "stream",
     "name": "stdout",
     "text": "Descrição DataFrame df_enem2017_completo\n\nDescrição Idade\n+-------+-----------------+\n|summary|         NU_IDADE|\n+-------+-----------------+\n|  count|          6731240|\n|   mean|22.95379261473369|\n| stddev|7.728937918555041|\n|    min|               10|\n|    max|               90|\n+-------+-----------------+\n\n\nDescrição Nota da prova de Ciências da Natureza\n+-------+-----------------+\n|summary|       NU_NOTA_CN|\n+-------+-----------------+\n|  count|          4437560|\n|   mean|510.8619317147265|\n| stddev|72.12733741911008|\n|    min|              0.0|\n|    max|            885.6|\n+-------+-----------------+\n\n\nDescrição Nota da prova de Ciências Humanas\n+-------+-----------------+\n|summary|       NU_NOTA_CH|\n+-------+-----------------+\n|  count|          4701428|\n|   mean|518.8259502219317|\n| stddev|83.41395391030184|\n|    min|              0.0|\n|    max|            868.3|\n+-------+-----------------+\n\n\nDescrição Nota da prova de Linguagens e Códigos\n+-------+-----------------+\n|summary|       NU_NOTA_LC|\n+-------+-----------------+\n|  count|          4701428|\n|   mean|510.2055666703836|\n| stddev|66.90544936176694|\n|    min|              0.0|\n|    max|            788.8|\n+-------+-----------------+\n\n\nDescrição Nota da prova de Matemática\n+-------+------------------+\n|summary|        NU_NOTA_MT|\n+-------+------------------+\n|  count|           4437560|\n|   mean| 518.7596521511824|\n| stddev|105.00474143091222|\n|    min|               0.0|\n|    max|             993.9|\n+-------+------------------+\n\n\nDescrição Nota da prova de redação\n+-------+------------------+\n|summary|   NU_NOTA_REDACAO|\n+-------+------------------+\n|  count|           4701428|\n|   mean| 522.5579206998384|\n| stddev|185.92055660075908|\n|    min|                 0|\n|    max|              1000|\n+-------+------------------+\n\n"
    }
   ],
   "source": [
    "# Descrição Dataframe df_enem2017_completo.\n",
    "\n",
    "print('Descrição DataFrame df_enem2017_completo')\n",
    "print('')\n",
    "\n",
    "print('Descrição Idade')\n",
    "df_enem2017_completo.describe('NU_IDADE').show()\n",
    "print('')\n",
    "\n",
    "print('Descrição Nota da prova de Ciências da Natureza')\n",
    "df_enem2017_completo.describe('NU_NOTA_CN').show()\n",
    "print('')\n",
    "\n",
    "print('Descrição Nota da prova de Ciências Humanas')\n",
    "df_enem2017_completo.describe('NU_NOTA_CH').show()\n",
    "print('')\n",
    "\n",
    "print('Descrição Nota da prova de Linguagens e Códigos')\n",
    "df_enem2017_completo.describe('NU_NOTA_LC').show()\n",
    "print('')\n",
    "\n",
    "print('Descrição Nota da prova de Matemática')\n",
    "df_enem2017_completo.describe('NU_NOTA_MT').show()\n",
    "print('')\n",
    "\n",
    "print('Descrição Nota da prova de redação')\n",
    "df_enem2017_completo.describe('NU_NOTA_REDACAO').show()"
   ]
  },
  {
   "cell_type": "code",
   "execution_count": 12,
   "metadata": {
    "tags": []
   },
   "outputs": [
    {
     "output_type": "stream",
     "name": "stdout",
     "text": "Descrição DataFrame df_enem2018_completo\n\nDescrição Idade\n+-------+------------------+\n|summary|          NU_IDADE|\n+-------+------------------+\n|  count|           5513650|\n|   mean|22.372219854361447|\n| stddev| 7.594597160609549|\n|    min|                10|\n|    max|                98|\n+-------+------------------+\n\n\nDescrição Nota da prova de Ciências da Natureza\n+-------+-----------------+\n|summary|       NU_NOTA_CN|\n+-------+-----------------+\n|  count|          3905099|\n|   mean|493.6832652129926|\n| stddev|  74.165826188305|\n|    min|              0.0|\n|    max|            869.6|\n+-------+-----------------+\n\n\nDescrição Nota da prova de Ciências Humanas\n+-------+-----------------+\n|summary|       NU_NOTA_CH|\n+-------+-----------------+\n|  count|          4148264|\n|   mean|568.0977346186262|\n| stddev|81.41996050791391|\n|    min|              0.0|\n|    max|            850.4|\n+-------+-----------------+\n\n\nDescrição Nota da prova de Linguagens e Códigos\n+-------+-----------------+\n|summary|       NU_NOTA_LC|\n+-------+-----------------+\n|  count|          4148264|\n|   mean|526.4537585119939|\n| stddev|73.49787440921446|\n|    min|              0.0|\n|    max|            816.9|\n+-------+-----------------+\n\n\nDescrição Nota da prova de Matemática\n+-------+------------------+\n|summary|        NU_NOTA_MT|\n+-------+------------------+\n|  count|           3905099|\n|   mean| 535.4055659280325|\n| stddev|103.15124301720219|\n|    min|               0.0|\n|    max|             996.1|\n+-------+------------------+\n\n\nDescrição Nota da prova de redação\n+-------+------------------+\n|summary|   NU_NOTA_REDACAO|\n+-------+------------------+\n|  count|           4148264|\n|   mean|508.68055167173543|\n| stddev| 187.4964873716687|\n|    min|                 0|\n|    max|              1000|\n+-------+------------------+\n\n"
    }
   ],
   "source": [
    "# Descrição Dataframe df_enem2018_completo.\n",
    "\n",
    "print('Descrição DataFrame df_enem2018_completo')\n",
    "print('')\n",
    "\n",
    "print('Descrição Idade')\n",
    "df_enem2018_completo.describe('NU_IDADE').show()\n",
    "print('')\n",
    "\n",
    "print('Descrição Nota da prova de Ciências da Natureza')\n",
    "df_enem2018_completo.describe('NU_NOTA_CN').show()\n",
    "print('')\n",
    "\n",
    "print('Descrição Nota da prova de Ciências Humanas')\n",
    "df_enem2018_completo.describe('NU_NOTA_CH').show()\n",
    "print('')\n",
    "\n",
    "print('Descrição Nota da prova de Linguagens e Códigos')\n",
    "df_enem2018_completo.describe('NU_NOTA_LC').show()\n",
    "print('')\n",
    "\n",
    "print('Descrição Nota da prova de Matemática')\n",
    "df_enem2018_completo.describe('NU_NOTA_MT').show()\n",
    "print('')\n",
    "\n",
    "print('Descrição Nota da prova de redação')\n",
    "df_enem2018_completo.describe('NU_NOTA_REDACAO').show()"
   ]
  },
  {
   "cell_type": "code",
   "execution_count": 13,
   "metadata": {
    "tags": []
   },
   "outputs": [
    {
     "output_type": "stream",
     "name": "stdout",
     "text": "Descrição DataFrame df_enem2019_completo\n\nDescrição Idade\n+-------+-----------------+\n|summary|         NU_IDADE|\n+-------+-----------------+\n|  count|          5095270|\n|   mean|22.08743069552742|\n| stddev|7.454970482110064|\n|    min|                1|\n|    max|               94|\n+-------+-----------------+\n\n\nDescrição Nota da prova de Ciências da Natureza\n+-------+------------------+\n|summary|        NU_NOTA_CN|\n+-------+------------------+\n|  count|           3710433|\n|   mean|477.82408735045146|\n| stddev| 76.09774469638398|\n|    min|               0.0|\n|    max|             860.9|\n+-------+------------------+\n\n\nDescrição Nota da prova de Ciências Humanas\n+-------+-----------------+\n|summary|       NU_NOTA_CH|\n+-------+-----------------+\n|  count|          3923145|\n|   mean|507.2486632280978|\n| stddev| 82.4116343330404|\n|    min|              0.0|\n|    max|            835.1|\n+-------+-----------------+\n\n\nDescrição Nota da prova de Linguagens e Códigos\n+-------+-----------------+\n|summary|       NU_NOTA_LC|\n+-------+-----------------+\n|  count|          3923145|\n|   mean|520.5176577210385|\n| stddev|64.15065496536891|\n|    min|              0.0|\n|    max|            801.7|\n+-------+-----------------+\n\n\nDescrição Nota da prova de Matemática\n+-------+------------------+\n|summary|        NU_NOTA_MT|\n+-------+------------------+\n|  count|           3710433|\n|   mean| 523.1241219825291|\n| stddev|109.06368552884479|\n|    min|               0.0|\n|    max|             985.5|\n+-------+------------------+\n\n\nDescrição Nota da prova de redação\n+-------+------------------+\n|summary|   NU_NOTA_REDACAO|\n+-------+------------------+\n|  count|           3923144|\n|   mean| 571.1883479168748|\n| stddev|188.76327214930322|\n|    min|                 0|\n|    max|              1000|\n+-------+------------------+\n\n"
    }
   ],
   "source": [
    "# Descrição Dataframe df_enem2019_completo.\n",
    "\n",
    "print('Descrição DataFrame df_enem2019_completo')\n",
    "print('')\n",
    "\n",
    "print('Descrição Idade')\n",
    "df_enem2019_completo.describe('NU_IDADE').show()\n",
    "print('')\n",
    "\n",
    "print('Descrição Nota da prova de Ciências da Natureza')\n",
    "df_enem2019_completo.describe('NU_NOTA_CN').show()\n",
    "print('')\n",
    "\n",
    "print('Descrição Nota da prova de Ciências Humanas')\n",
    "df_enem2019_completo.describe('NU_NOTA_CH').show()\n",
    "print('')\n",
    "\n",
    "print('Descrição Nota da prova de Linguagens e Códigos')\n",
    "df_enem2019_completo.describe('NU_NOTA_LC').show()\n",
    "print('')\n",
    "\n",
    "print('Descrição Nota da prova de Matemática')\n",
    "df_enem2019_completo.describe('NU_NOTA_MT').show()\n",
    "print('')\n",
    "\n",
    "print('Descrição Nota da prova de redação')\n",
    "df_enem2019_completo.describe('NU_NOTA_REDACAO').show()"
   ]
  },
  {
   "cell_type": "code",
   "execution_count": 14,
   "metadata": {},
   "outputs": [],
   "source": [
    "columns = [\n",
    "'NU_INSCRICAO', \n",
    "'NU_ANO', \n",
    "'NO_MUNICIPIO_RESIDENCIA', \n",
    "'CO_UF_RESIDENCIA', \n",
    "'SG_UF_RESIDENCIA',\n",
    "'NU_IDADE', \n",
    "'TP_SEXO', \n",
    "'TP_ESTADO_CIVIL',\n",
    "'TP_COR_RACA', \n",
    "'TP_NACIONALIDADE',\n",
    "'NO_MUNICIPIO_NASCIMENTO',\n",
    "'CO_UF_NASCIMENTO', \n",
    "'SG_UF_NASCIMENTO', \n",
    "'TP_ST_CONCLUSAO',\n",
    "'TP_ESCOLA', \n",
    "'TP_ENSINO', \n",
    "'IN_TREINEIRO', \n",
    "'CO_UF_ESC', \n",
    "'SG_UF_ESC',\n",
    "'TP_DEPENDENCIA_ADM_ESC', \n",
    "'TP_LOCALIZACAO_ESC', \n",
    "'IN_BAIXA_VISAO', \n",
    "'IN_CEGUEIRA', \n",
    "'IN_SURDEZ',\n",
    "'IN_DEFICIENCIA_AUDITIVA', \n",
    "'IN_SURDO_CEGUEIRA',\n",
    "'IN_DEFICIENCIA_FISICA', \n",
    "'IN_DEFICIENCIA_MENTAL',\n",
    "'IN_DEFICIT_ATENCAO', \n",
    "'IN_DISLEXIA', \n",
    "'IN_DISCALCULIA', \n",
    "'IN_AUTISMO', \n",
    "'IN_VISAO_MONOCULAR',\n",
    "'IN_OUTRA_DEF', \n",
    "'IN_GESTANTE', \n",
    "'IN_LACTANTE',\n",
    "'IN_IDOSO', \n",
    "'IN_ESTUDA_CLASSE_HOSPITALAR', \n",
    "'IN_SEM_RECURSO', \n",
    "'IN_BRAILLE', \n",
    "'IN_AMPLIADA_24', \n",
    "'IN_AMPLIADA_18', \n",
    "'IN_LEDOR',\n",
    "'IN_ACESSO', \n",
    "'IN_TRANSCRICAO', \n",
    "'IN_LIBRAS', \n",
    "'IN_LEITURA_LABIAL',\n",
    "'IN_MESA_CADEIRA_RODAS', \n",
    "'IN_MESA_CADEIRA_SEPARADA',\n",
    "'IN_APOIO_PERNA', \n",
    "'IN_GUIA_INTERPRETE', \n",
    "'IN_COMPUTADOR',\n",
    "'IN_CADEIRA_ESPECIAL', \n",
    "'IN_CADEIRA_CANHOTO',\n",
    "'IN_CADEIRA_ACOLCHOADA', \n",
    "'IN_PROVA_DEITADO', \n",
    "'IN_MOBILIARIO_OBESO',\n",
    "'IN_LAMINA_OVERLAY', \n",
    "'IN_PROTETOR_AURICULAR', \n",
    "'IN_MEDIDOR_GLICOSE',\n",
    "'IN_MAQUINA_BRAILE', \n",
    "'IN_SOROBAN', \n",
    "'IN_MARCA_PASSO', \n",
    "'IN_SONDA',\n",
    "'IN_MEDICAMENTOS', \n",
    "'IN_SALA_INDIVIDUAL', \n",
    "'IN_SALA_ESPECIAL',\n",
    "'IN_SALA_ACOMPANHANTE', \n",
    "'IN_MOBILIARIO_ESPECIFICO',\n",
    "'IN_NOME_SOCIAL',\n",
    "'NO_MUNICIPIO_PROVA', \n",
    "'CO_UF_PROVA', \n",
    "'SG_UF_PROVA',\n",
    "'TP_PRESENCA_CN', \n",
    "'TP_PRESENCA_CH', \n",
    "'TP_PRESENCA_LC',\n",
    "'TP_PRESENCA_MT', \n",
    "'NU_NOTA_CN', \n",
    "'NU_NOTA_CH', \n",
    "'NU_NOTA_LC',\n",
    "'NU_NOTA_MT', \n",
    "'TP_LINGUA',\n",
    "'TP_STATUS_REDACAO', \n",
    "'NU_NOTA_COMP1',\n",
    "'NU_NOTA_COMP2', \n",
    "'NU_NOTA_COMP3', \n",
    "'NU_NOTA_COMP4', \n",
    "'NU_NOTA_COMP5',\n",
    "'NU_NOTA_REDACAO', \n",
    "'Q001', \n",
    "'Q002', \n",
    "'Q005', \n",
    "'Q006',\n",
    "'Q022',\n",
    "'Q024', \n",
    "'Q025'\n",
    "]\n"
   ]
  },
  {
   "cell_type": "code",
   "execution_count": 15,
   "metadata": {
    "tags": []
   },
   "outputs": [
    {
     "output_type": "stream",
     "name": "stdout",
     "text": "Criação Dataframes Iniciado - 2020-08-19 11:08:28.508465.\n\n\nCriação Dataframe do Enem 2015 iniciada - 2020-08-19 11:08:28.508465.\nDataframe df_enem2015 criado com sucesso - 2020-08-19 11:08:28.771761.\n\n\nCriação Dataframe do Enem 2016 iniciada - 2020-08-19 11:08:28.771761.\nDataframe df_enem2016 criado com sucesso - 2020-08-19 11:08:28.938313.\n\n\nCriação Dataframe do Enem 2017 iniciada - 2020-08-19 11:08:28.939311.\nDataframe df_enem2017 criado com sucesso - 2020-08-19 11:08:29.135673.\n\n\nCriação Dataframe do Enem 2018 iniciada - 2020-08-19 11:08:29.135673.\nDataframe df_enem2018 criado com sucesso - 2020-08-19 11:08:29.279288.\n\n\nCriação Dataframe do Enem 2019 iniciada - 2020-08-19 11:08:29.280285.\nDataframe df_enem2019 criado com sucesso - 2020-08-19 11:08:29.416553.\n\n"
    }
   ],
   "source": [
    "# No Processo abaixo, criaremos dataframes, apenas com colunas selecionadas.\n",
    "\n",
    "print(f'Criação Dataframes Iniciado - {datetime.now()}.')\n",
    "print('')\n",
    "\n",
    "print('')\n",
    "print(f'Criação Dataframe do Enem 2015 iniciada - {datetime.now()}.')\n",
    "df_enem2015 = df_enem2015_completo.select(columns)\n",
    "print(f'Dataframe df_enem2015 criado com sucesso - {datetime.now()}.')\n",
    "print('')\n",
    "\n",
    "print('')\n",
    "print(f'Criação Dataframe do Enem 2016 iniciada - {datetime.now()}.')\n",
    "df_enem2016 = df_enem2016_completo.select(columns)\n",
    "print(f'Dataframe df_enem2016 criado com sucesso - {datetime.now()}.')\n",
    "print('')\n",
    "\n",
    "print('')\n",
    "print(f'Criação Dataframe do Enem 2017 iniciada - {datetime.now()}.')\n",
    "df_enem2017 = df_enem2017_completo.select(columns)\n",
    "print(f'Dataframe df_enem2017 criado com sucesso - {datetime.now()}.')\n",
    "print('')\n",
    "\n",
    "print('')\n",
    "print(f'Criação Dataframe do Enem 2018 iniciada - {datetime.now()}.')\n",
    "df_enem2018 = df_enem2018_completo.select(columns)\n",
    "print(f'Dataframe df_enem2018 criado com sucesso - {datetime.now()}.')\n",
    "print('')\n",
    "\n",
    "print('')\n",
    "print(f'Criação Dataframe do Enem 2019 iniciada - {datetime.now()}.')\n",
    "df_enem2019 = df_enem2019_completo.select(columns)\n",
    "print(f'Dataframe df_enem2019 criado com sucesso - {datetime.now()}.')\n",
    "print('')\n"
   ]
  },
  {
   "cell_type": "code",
   "execution_count": 16,
   "metadata": {},
   "outputs": [],
   "source": [
    "df_enem = df_enem2015.unionAll(df_enem2016).unionAll(df_enem2017).unionAll(df_enem2018).unionAll(df_enem2019)"
   ]
  },
  {
   "cell_type": "code",
   "execution_count": 17,
   "metadata": {},
   "outputs": [
    {
     "output_type": "execute_result",
     "data": {
      "text/plain": "33714152"
     },
     "metadata": {},
     "execution_count": 17
    }
   ],
   "source": [
    "df_enem.count()"
   ]
  },
  {
   "cell_type": "code",
   "execution_count": 18,
   "metadata": {},
   "outputs": [
    {
     "output_type": "execute_result",
     "data": {
      "text/plain": "['NU_INSCRICAO',\n 'NU_ANO',\n 'NO_MUNICIPIO_RESIDENCIA',\n 'CO_UF_RESIDENCIA',\n 'SG_UF_RESIDENCIA',\n 'NU_IDADE',\n 'TP_SEXO',\n 'TP_ESTADO_CIVIL',\n 'TP_COR_RACA',\n 'TP_NACIONALIDADE',\n 'NO_MUNICIPIO_NASCIMENTO',\n 'CO_UF_NASCIMENTO',\n 'SG_UF_NASCIMENTO',\n 'TP_ST_CONCLUSAO',\n 'TP_ESCOLA',\n 'TP_ENSINO',\n 'IN_TREINEIRO',\n 'CO_UF_ESC',\n 'SG_UF_ESC',\n 'TP_DEPENDENCIA_ADM_ESC',\n 'TP_LOCALIZACAO_ESC',\n 'IN_BAIXA_VISAO',\n 'IN_CEGUEIRA',\n 'IN_SURDEZ',\n 'IN_DEFICIENCIA_AUDITIVA',\n 'IN_SURDO_CEGUEIRA',\n 'IN_DEFICIENCIA_FISICA',\n 'IN_DEFICIENCIA_MENTAL',\n 'IN_DEFICIT_ATENCAO',\n 'IN_DISLEXIA',\n 'IN_DISCALCULIA',\n 'IN_AUTISMO',\n 'IN_VISAO_MONOCULAR',\n 'IN_OUTRA_DEF',\n 'IN_GESTANTE',\n 'IN_LACTANTE',\n 'IN_IDOSO',\n 'IN_ESTUDA_CLASSE_HOSPITALAR',\n 'IN_SEM_RECURSO',\n 'IN_BRAILLE',\n 'IN_AMPLIADA_24',\n 'IN_AMPLIADA_18',\n 'IN_LEDOR',\n 'IN_ACESSO',\n 'IN_TRANSCRICAO',\n 'IN_LIBRAS',\n 'IN_LEITURA_LABIAL',\n 'IN_MESA_CADEIRA_RODAS',\n 'IN_MESA_CADEIRA_SEPARADA',\n 'IN_APOIO_PERNA',\n 'IN_GUIA_INTERPRETE',\n 'IN_COMPUTADOR',\n 'IN_CADEIRA_ESPECIAL',\n 'IN_CADEIRA_CANHOTO',\n 'IN_CADEIRA_ACOLCHOADA',\n 'IN_PROVA_DEITADO',\n 'IN_MOBILIARIO_OBESO',\n 'IN_LAMINA_OVERLAY',\n 'IN_PROTETOR_AURICULAR',\n 'IN_MEDIDOR_GLICOSE',\n 'IN_MAQUINA_BRAILE',\n 'IN_SOROBAN',\n 'IN_MARCA_PASSO',\n 'IN_SONDA',\n 'IN_MEDICAMENTOS',\n 'IN_SALA_INDIVIDUAL',\n 'IN_SALA_ESPECIAL',\n 'IN_SALA_ACOMPANHANTE',\n 'IN_MOBILIARIO_ESPECIFICO',\n 'IN_NOME_SOCIAL',\n 'NO_MUNICIPIO_PROVA',\n 'CO_UF_PROVA',\n 'SG_UF_PROVA',\n 'TP_PRESENCA_CN',\n 'TP_PRESENCA_CH',\n 'TP_PRESENCA_LC',\n 'TP_PRESENCA_MT',\n 'NU_NOTA_CN',\n 'NU_NOTA_CH',\n 'NU_NOTA_LC',\n 'NU_NOTA_MT',\n 'TP_LINGUA',\n 'TP_STATUS_REDACAO',\n 'NU_NOTA_COMP1',\n 'NU_NOTA_COMP2',\n 'NU_NOTA_COMP3',\n 'NU_NOTA_COMP4',\n 'NU_NOTA_COMP5',\n 'NU_NOTA_REDACAO',\n 'Q001',\n 'Q002',\n 'Q005',\n 'Q006',\n 'Q022',\n 'Q024',\n 'Q025']"
     },
     "metadata": {},
     "execution_count": 18
    }
   ],
   "source": [
    "df_enem.columns[:]"
   ]
  },
  {
   "cell_type": "code",
   "execution_count": 19,
   "metadata": {
    "tags": []
   },
   "outputs": [
    {
     "output_type": "stream",
     "name": "stdout",
     "text": "root\n |-- NU_INSCRICAO: long (nullable = true)\n |-- NU_ANO: integer (nullable = true)\n |-- NO_MUNICIPIO_RESIDENCIA: string (nullable = true)\n |-- CO_UF_RESIDENCIA: integer (nullable = true)\n |-- SG_UF_RESIDENCIA: string (nullable = true)\n |-- NU_IDADE: integer (nullable = true)\n |-- TP_SEXO: string (nullable = true)\n |-- TP_ESTADO_CIVIL: integer (nullable = true)\n |-- TP_COR_RACA: integer (nullable = true)\n |-- TP_NACIONALIDADE: integer (nullable = true)\n |-- NO_MUNICIPIO_NASCIMENTO: string (nullable = true)\n |-- CO_UF_NASCIMENTO: integer (nullable = true)\n |-- SG_UF_NASCIMENTO: string (nullable = true)\n |-- TP_ST_CONCLUSAO: integer (nullable = true)\n |-- TP_ESCOLA: integer (nullable = true)\n |-- TP_ENSINO: integer (nullable = true)\n |-- IN_TREINEIRO: integer (nullable = true)\n |-- CO_UF_ESC: integer (nullable = true)\n |-- SG_UF_ESC: string (nullable = true)\n |-- TP_DEPENDENCIA_ADM_ESC: integer (nullable = true)\n |-- TP_LOCALIZACAO_ESC: integer (nullable = true)\n |-- IN_BAIXA_VISAO: integer (nullable = true)\n |-- IN_CEGUEIRA: integer (nullable = true)\n |-- IN_SURDEZ: integer (nullable = true)\n |-- IN_DEFICIENCIA_AUDITIVA: integer (nullable = true)\n |-- IN_SURDO_CEGUEIRA: integer (nullable = true)\n |-- IN_DEFICIENCIA_FISICA: integer (nullable = true)\n |-- IN_DEFICIENCIA_MENTAL: integer (nullable = true)\n |-- IN_DEFICIT_ATENCAO: integer (nullable = true)\n |-- IN_DISLEXIA: integer (nullable = true)\n |-- IN_DISCALCULIA: integer (nullable = true)\n |-- IN_AUTISMO: integer (nullable = true)\n |-- IN_VISAO_MONOCULAR: integer (nullable = true)\n |-- IN_OUTRA_DEF: integer (nullable = true)\n |-- IN_GESTANTE: integer (nullable = true)\n |-- IN_LACTANTE: integer (nullable = true)\n |-- IN_IDOSO: integer (nullable = true)\n |-- IN_ESTUDA_CLASSE_HOSPITALAR: integer (nullable = true)\n |-- IN_SEM_RECURSO: integer (nullable = true)\n |-- IN_BRAILLE: integer (nullable = true)\n |-- IN_AMPLIADA_24: integer (nullable = true)\n |-- IN_AMPLIADA_18: integer (nullable = true)\n |-- IN_LEDOR: integer (nullable = true)\n |-- IN_ACESSO: integer (nullable = true)\n |-- IN_TRANSCRICAO: integer (nullable = true)\n |-- IN_LIBRAS: integer (nullable = true)\n |-- IN_LEITURA_LABIAL: integer (nullable = true)\n |-- IN_MESA_CADEIRA_RODAS: integer (nullable = true)\n |-- IN_MESA_CADEIRA_SEPARADA: integer (nullable = true)\n |-- IN_APOIO_PERNA: integer (nullable = true)\n |-- IN_GUIA_INTERPRETE: integer (nullable = true)\n |-- IN_COMPUTADOR: integer (nullable = true)\n |-- IN_CADEIRA_ESPECIAL: integer (nullable = true)\n |-- IN_CADEIRA_CANHOTO: integer (nullable = true)\n |-- IN_CADEIRA_ACOLCHOADA: integer (nullable = true)\n |-- IN_PROVA_DEITADO: integer (nullable = true)\n |-- IN_MOBILIARIO_OBESO: integer (nullable = true)\n |-- IN_LAMINA_OVERLAY: integer (nullable = true)\n |-- IN_PROTETOR_AURICULAR: integer (nullable = true)\n |-- IN_MEDIDOR_GLICOSE: integer (nullable = true)\n |-- IN_MAQUINA_BRAILE: integer (nullable = true)\n |-- IN_SOROBAN: integer (nullable = true)\n |-- IN_MARCA_PASSO: integer (nullable = true)\n |-- IN_SONDA: integer (nullable = true)\n |-- IN_MEDICAMENTOS: integer (nullable = true)\n |-- IN_SALA_INDIVIDUAL: integer (nullable = true)\n |-- IN_SALA_ESPECIAL: integer (nullable = true)\n |-- IN_SALA_ACOMPANHANTE: integer (nullable = true)\n |-- IN_MOBILIARIO_ESPECIFICO: integer (nullable = true)\n |-- IN_NOME_SOCIAL: integer (nullable = true)\n |-- NO_MUNICIPIO_PROVA: string (nullable = true)\n |-- CO_UF_PROVA: integer (nullable = true)\n |-- SG_UF_PROVA: string (nullable = true)\n |-- TP_PRESENCA_CN: integer (nullable = true)\n |-- TP_PRESENCA_CH: integer (nullable = true)\n |-- TP_PRESENCA_LC: integer (nullable = true)\n |-- TP_PRESENCA_MT: integer (nullable = true)\n |-- NU_NOTA_CN: double (nullable = true)\n |-- NU_NOTA_CH: double (nullable = true)\n |-- NU_NOTA_LC: double (nullable = true)\n |-- NU_NOTA_MT: double (nullable = true)\n |-- TP_LINGUA: integer (nullable = true)\n |-- TP_STATUS_REDACAO: integer (nullable = true)\n |-- NU_NOTA_COMP1: integer (nullable = true)\n |-- NU_NOTA_COMP2: integer (nullable = true)\n |-- NU_NOTA_COMP3: integer (nullable = true)\n |-- NU_NOTA_COMP4: integer (nullable = true)\n |-- NU_NOTA_COMP5: integer (nullable = true)\n |-- NU_NOTA_REDACAO: integer (nullable = true)\n |-- Q001: string (nullable = true)\n |-- Q002: string (nullable = true)\n |-- Q005: integer (nullable = true)\n |-- Q006: string (nullable = true)\n |-- Q022: string (nullable = true)\n |-- Q024: string (nullable = true)\n |-- Q025: string (nullable = true)\n\n"
    }
   ],
   "source": [
    "df_enem.printSchema()"
   ]
  },
  {
   "cell_type": "code",
   "execution_count": 20,
   "metadata": {
    "tags": []
   },
   "outputs": [
    {
     "output_type": "stream",
     "name": "stdout",
     "text": "Descrição DataFrame df_enem (Dataframe com os anos 2015, 2016, 2017, 2018 e 2019).\n\nDescrição Idade\n+-------+------------------+\n|summary|          NU_IDADE|\n+-------+------------------+\n|  count|          33713777|\n|   mean|22.759218345663257|\n| stddev| 7.788652341876025|\n|    min|                 1|\n|    max|                98|\n+-------+------------------+\n\n\nDescrição Nota da prova de Ciências da Natureza\n+-------+-----------------+\n|summary|       NU_NOTA_CN|\n+-------+-----------------+\n|  count|         23807309|\n|   mean|486.8124319678461|\n| stddev|74.22313690738514|\n|    min|              0.0|\n|    max|            885.6|\n+-------+-----------------+\n\n\nDescrição Nota da prova de Ciências Humanas\n+-------+-----------------+\n|summary|       NU_NOTA_CH|\n+-------+-----------------+\n|  count|         24527054|\n|   mean|538.4331498189712|\n| stddev|80.97454950674937|\n|    min|              0.0|\n|    max|            868.3|\n+-------+-----------------+\n\n\nDescrição Nota da prova de Linguagens e Códigos\n+-------+-----------------+\n|summary|       NU_NOTA_LC|\n+-------+-----------------+\n|  count|         24243348|\n|   mean|516.1323208576638|\n| stddev| 69.8972338325045|\n|    min|              0.0|\n|    max|            825.8|\n+-------+-----------------+\n\n\nDescrição Nota da prova de Matemática\n+-------+------------------+\n|summary|        NU_NOTA_MT|\n+-------+------------------+\n|  count|          23523603|\n|   mean| 502.9313042946695|\n| stddev|108.38833974499668|\n|    min|               0.0|\n|    max|            1008.3|\n+-------+------------------+\n\n\nDescrição Nota da prova de redação\n+-------+------------------+\n|summary|   NU_NOTA_REDACAO|\n+-------+------------------+\n|  count|          26362543|\n|   mean| 489.8440378456661|\n| stddev|218.83999113614607|\n|    min|                 0|\n|    max|              1000|\n+-------+------------------+\n\n"
    }
   ],
   "source": [
    "# Descrição Dataframe df_enem.\n",
    "\n",
    "print('Descrição DataFrame df_enem (Dataframe com os anos 2015, 2016, 2017, 2018 e 2019).')\n",
    "print('')\n",
    "\n",
    "print('Descrição Idade')\n",
    "df_enem.describe('NU_IDADE').show()\n",
    "print('')\n",
    "\n",
    "print('Descrição Nota da prova de Ciências da Natureza')\n",
    "df_enem.describe('NU_NOTA_CN').show()\n",
    "print('')\n",
    "\n",
    "print('Descrição Nota da prova de Ciências Humanas')\n",
    "df_enem.describe('NU_NOTA_CH').show()\n",
    "print('')\n",
    "\n",
    "print('Descrição Nota da prova de Linguagens e Códigos')\n",
    "df_enem.describe('NU_NOTA_LC').show()\n",
    "print('')\n",
    "\n",
    "print('Descrição Nota da prova de Matemática')\n",
    "df_enem.describe('NU_NOTA_MT').show()\n",
    "print('')\n",
    "\n",
    "print('Descrição Nota da prova de redação')\n",
    "df_enem.describe('NU_NOTA_REDACAO').show()"
   ]
  },
  {
   "cell_type": "code",
   "execution_count": 21,
   "metadata": {
    "tags": []
   },
   "outputs": [
    {
     "output_type": "stream",
     "name": "stdout",
     "text": "+------------+\n|NU_INSCRICAO|\n+------------+\n|150000000376|\n|150000003053|\n|150000001161|\n|150000001335|\n|150000001219|\n|150000002884|\n|150000002510|\n|150000000658|\n|150000000434|\n|150000000216|\n|150000000274|\n|150000000217|\n|150000000164|\n|150000000165|\n|150000000218|\n|150000000166|\n|150000000219|\n|150000000275|\n|150000000220|\n|150000000167|\n+------------+\nonly showing top 20 rows\n\n"
    }
   ],
   "source": [
    "# Criar tabela temporaria e usar sql para consulta\n",
    "\n",
    "df_enem.createOrReplaceTempView('enemtb')\n",
    "teste = sqlContext.sql('SELECT NU_INSCRICAO FROM enemtb').show()"
   ]
  },
  {
   "cell_type": "code",
   "execution_count": 22,
   "metadata": {
    "tags": []
   },
   "outputs": [],
   "source": [
    "df_enem_sexo = df_enem.withColumn('SEXO', expr(\"case when TP_SEXO = 'M' then 'Masculino' \" + \"when TP_SEXO = 'F' then 'Feminino' \" + \"else '' end\"))"
   ]
  },
  {
   "cell_type": "code",
   "execution_count": 23,
   "metadata": {},
   "outputs": [],
   "source": [
    "df_enem_estado_civil = df_enem_sexo.withColumn('ESTADO_CIVIL', expr(\"case when TP_ESTADO_CIVIL = 0 then 'Solteiro' \" + \"when TP_ESTADO_CIVIL = 1 then 'Casado(a)/Mora com companheiro(a)' \" + \"when TP_ESTADO_CIVIL = 2 then 'Divorciado(a)/Desquitado(a)/Separado(a)' \" + \"when TP_ESTADO_CIVIL = 3 then 'Viúvo(a)' \" + \"else '' end\"))"
   ]
  },
  {
   "cell_type": "code",
   "execution_count": 24,
   "metadata": {},
   "outputs": [],
   "source": [
    "df_enem_raca = df_enem_estado_civil.withColumn('RACA', expr(\"case when TP_NACIONALIDADE = 0 then 'Não declarado' \" + \"when TP_NACIONALIDADE = 1 then 'Branca' \" + \"when TP_NACIONALIDADE = 2 then 'Preta' \" + \"when TP_NACIONALIDADE = 3 then 'Parda' \" + \"when TP_NACIONALIDADE = 4 then 'Amarela' \" + \"when TP_NACIONALIDADE = 5 then 'Indígena ' \" + \"else '' end\"))"
   ]
  },
  {
   "cell_type": "code",
   "execution_count": 25,
   "metadata": {},
   "outputs": [],
   "source": [
    "df_enem_nacionalidade = df_enem_raca.withColumn('NACIONALIDADE', expr(\"case when TP_NACIONALIDADE = 0 then 'Não informado' \" + \"when TP_NACIONALIDADE = 1 then 'Brasileiro(a)' \" + \"when TP_NACIONALIDADE = 2 then 'Brasileiro(a) Naturalizado(a)' \" + \"when TP_NACIONALIDADE = 3 then 'Estrangeiro(a)' \" + \"when TP_NACIONALIDADE = 4 then 'Brasileiro(a) Nato(a), nascido(a) no exterior' \" + \"else '' end\"))"
   ]
  },
  {
   "cell_type": "code",
   "execution_count": 26,
   "metadata": {},
   "outputs": [],
   "source": [
    "df_enem_st_conclusao = df_enem_nacionalidade.withColumn('SITUACAO_CONCLUSAO_ENSINO_MEDIO', expr(\"case when TP_ST_CONCLUSAO = 1 then 'Já concluí o Ensino Médio' \" + \"when TP_ST_CONCLUSAO = 2 then 'Estou cursando e concluirei o Ensino Médio no ano' \" + \"when TP_ST_CONCLUSAO = 3 then 'Estou cursando e concluirei o Ensino Médio após este ano' \" + \"when TP_ST_CONCLUSAO = 4 then 'Não concluí e não estou cursando o Ensino Médio' \" + \"else '' end\"))"
   ]
  },
  {
   "cell_type": "code",
   "execution_count": 27,
   "metadata": {},
   "outputs": [],
   "source": [
    "df_enem_tp_escola = df_enem_st_conclusao.withColumn('TIPO_ESCOLA', expr(\"case when TP_ESCOLA = 1 then 'Não Respondeu' \" + \"when TP_ESCOLA = 2 then 'Pública' \" + \"when TP_ESCOLA = 3 then 'Privada' \" + \"when TP_ESCOLA = 4 then 'Exterior' \" + \"else '' end\"))"
   ]
  },
  {
   "cell_type": "code",
   "execution_count": 28,
   "metadata": {},
   "outputs": [],
   "source": [
    "df_enem_tp_ensino = df_enem_tp_escola.withColumn('TIPO_ENSINO', expr(\"case when TP_ENSINO = 1 then 'Ensino Regular' \" + \"when TP_ENSINO = 2 then 'Educação Especial - Modalidade Substitutiva' \" + \"when TP_ENSINO = 3 then 'Educação de Jovens e Adultos' \" + \"else '' end\"))"
   ]
  },
  {
   "cell_type": "code",
   "execution_count": 29,
   "metadata": {},
   "outputs": [],
   "source": [
    "df_enem_in_treineiro = df_enem_tp_ensino.withColumn('TREINEIRO', expr(\"case when IN_TREINEIRO = 0 then 'Não' \" + \"when IN_TREINEIRO = 1 then 'Sim' \" + \"else '' end\"))"
   ]
  },
  {
   "cell_type": "code",
   "execution_count": 30,
   "metadata": {},
   "outputs": [],
   "source": [
    "df_enem_tp_dependencia_adm_esc = df_enem_in_treineiro.withColumn('DEPENDENCIA_ADMINISTRATIVA_ESCOLA', expr(\"case when TP_DEPENDENCIA_ADM_ESC = 1 then 'Federal' \" + \"when TP_DEPENDENCIA_ADM_ESC = 2 then 'Estadual' \" + \"when TP_DEPENDENCIA_ADM_ESC = 3 then 'Municipal' \" + \"when TP_DEPENDENCIA_ADM_ESC = 4 then 'Privada' \" + \"else '' end\"))"
   ]
  },
  {
   "cell_type": "code",
   "execution_count": 31,
   "metadata": {},
   "outputs": [],
   "source": [
    "df_enem_tp_localizacao_esc = df_enem_tp_dependencia_adm_esc.withColumn('LOCALIZACAO_ESCOLA', expr(\"case when TP_LOCALIZACAO_ESC = 1 then 'Urbana' \" + \"when TP_LOCALIZACAO_ESC = 2 then 'Rural' \" + \"else '' end\"))"
   ]
  },
  {
   "cell_type": "code",
   "execution_count": 32,
   "metadata": {},
   "outputs": [],
   "source": [
    "df_enem_in_baixa_visao = df_enem_tp_localizacao_esc.withColumn('BAIXA_VISAO', expr(\"case when IN_BAIXA_VISAO = 0 then 'Não' \" + \"when IN_BAIXA_VISAO = 1 then 'Sim' \" + \"else '' end\"))"
   ]
  },
  {
   "cell_type": "code",
   "execution_count": 33,
   "metadata": {},
   "outputs": [],
   "source": [
    "df_enem_in_cegueira = df_enem_in_baixa_visao.withColumn('CEGUEIRA', expr(\"case when IN_CEGUEIRA = 0 then 'Não' \" + \"when IN_CEGUEIRA = 1 then 'Sim' \" + \"else '' end\"))"
   ]
  },
  {
   "cell_type": "code",
   "execution_count": 34,
   "metadata": {},
   "outputs": [],
   "source": [
    "df_enem_in_surdez = df_enem_in_cegueira.withColumn('SURDEZ', expr(\"case when IN_SURDEZ = 0 then 'Não' \" + \"when IN_SURDEZ = 1 then 'Sim' \" + \"else '' end\"))"
   ]
  },
  {
   "cell_type": "code",
   "execution_count": 35,
   "metadata": {},
   "outputs": [],
   "source": [
    "df_enem_in_deficiencia_auditiva = df_enem_in_surdez.withColumn('DEFICIENCIA_AUDITIVA', expr(\"case when IN_DEFICIENCIA_AUDITIVA = 0 then 'Não' \" + \"when IN_DEFICIENCIA_AUDITIVA = 1 then 'Sim' \" + \"else '' end\"))"
   ]
  },
  {
   "cell_type": "code",
   "execution_count": 36,
   "metadata": {},
   "outputs": [],
   "source": [
    "df_enem_in_surdo_cegueira = df_enem_in_deficiencia_auditiva.withColumn('SURDO_CEGUEIRA', expr(\"case when IN_SURDO_CEGUEIRA = 0 then 'Não' \" + \"when IN_SURDO_CEGUEIRA = 1 then 'Sim' \" + \"else '' end\"))"
   ]
  },
  {
   "cell_type": "code",
   "execution_count": 37,
   "metadata": {},
   "outputs": [],
   "source": [
    "df_enem_in_surdo_cegueira = df_enem_in_deficiencia_auditiva.withColumn('SURDO_CEGUEIRA', expr(\"case when IN_SURDO_CEGUEIRA = 0 then 'Não' \" + \"when IN_SURDO_CEGUEIRA = 1 then 'Sim' \" + \"else '' end\"))"
   ]
  },
  {
   "cell_type": "code",
   "execution_count": 38,
   "metadata": {},
   "outputs": [],
   "source": [
    "df_enem_in_deficiencia_fisica = df_enem_in_surdo_cegueira.withColumn('DEFICIENCIA_FISICA', expr(\"case when IN_DEFICIENCIA_FISICA = 0 then 'Não' \" + \"when IN_DEFICIENCIA_FISICA = 1 then 'Sim' \" + \"else '' end\"))"
   ]
  },
  {
   "cell_type": "code",
   "execution_count": 39,
   "metadata": {},
   "outputs": [],
   "source": [
    "df_enem_in_deficiencia_mental = df_enem_in_deficiencia_fisica.withColumn('DEFICIENCIA_MENTAL', expr(\"case when IN_DEFICIENCIA_MENTAL = 0 then 'Não' \" + \"when IN_DEFICIENCIA_MENTAL = 1 then 'Sim' \" + \"else '' end\"))"
   ]
  },
  {
   "cell_type": "code",
   "execution_count": 40,
   "metadata": {},
   "outputs": [],
   "source": [
    "df_enem_in_deficit_atencao = df_enem_in_deficiencia_mental.withColumn('DEFICIT_ATENCAO', expr(\"case when IN_DEFICIT_ATENCAO = 0 then 'Não' \" + \"when IN_DEFICIT_ATENCAO = 1 then 'Sim' \" + \"else '' end\"))"
   ]
  },
  {
   "cell_type": "code",
   "execution_count": 45,
   "metadata": {},
   "outputs": [],
   "source": [
    "df_enem_in_dislexia = df_enem_in_deficit_atencao.withColumn('DISLEXIA', expr(\"case when IN_DISLEXIA = 0 then 'Não' \" + \"when IN_DISLEXIA = 1 then 'Sim' \" + \"else '' end\"))"
   ]
  },
  {
   "cell_type": "code",
   "execution_count": 46,
   "metadata": {},
   "outputs": [],
   "source": [
    "df_enem_in_discalculia = df_enem_in_dislexia.withColumn('DISCALCULIA', expr(\"case when IN_DISCALCULIA = 0 then 'Não' \" + \"when IN_DISCALCULIA = 1 then 'Sim' \" + \"else '' end\"))"
   ]
  },
  {
   "cell_type": "code",
   "execution_count": 47,
   "metadata": {},
   "outputs": [],
   "source": [
    "df_enem_in_autismo = df_enem_in_discalculia.withColumn('AUTISMO', expr(\"case when IN_AUTISMO = 0 then 'Não' \" + \"when IN_AUTISMO = 1 then 'Sim' \" + \"else '' end\"))"
   ]
  },
  {
   "cell_type": "code",
   "execution_count": 49,
   "metadata": {},
   "outputs": [],
   "source": [
    "df_enem_in_visao_monocular = df_enem_in_autismo.withColumn('VISAO_MONOCULAR', expr(\"case when IN_VISAO_MONOCULAR = 0 then 'Não' \" + \"when IN_VISAO_MONOCULAR = 1 then 'Sim' \" + \"else '' end\"))"
   ]
  },
  {
   "cell_type": "code",
   "execution_count": 50,
   "metadata": {},
   "outputs": [],
   "source": [
    "df_enem_in_outra_def = df_enem_in_visao_monocular.withColumn('OUTRA_DEF', expr(\"case when IN_OUTRA_DEF = 0 then 'Não' \" + \"when IN_OUTRA_DEF = 1 then 'Sim' \" + \"else '' end\"))"
   ]
  },
  {
   "cell_type": "code",
   "execution_count": 51,
   "metadata": {},
   "outputs": [],
   "source": [
    "df_enem_in_gestante = df_enem_in_outra_def.withColumn('GESTANTE', expr(\"case when IN_GESTANTE = 0 then 'Não' \" + \"when IN_GESTANTE = 1 then 'Sim' \" + \"else '' end\"))"
   ]
  },
  {
   "cell_type": "code",
   "execution_count": 52,
   "metadata": {},
   "outputs": [],
   "source": [
    "df_enem_in_lactante = df_enem_in_gestante.withColumn('LACTANTE', expr(\"case when IN_LACTANTE = 0 then 'Não' \" + \"when IN_LACTANTE = 1 then 'Sim' \" + \"else '' end\"))"
   ]
  },
  {
   "cell_type": "code",
   "execution_count": 53,
   "metadata": {},
   "outputs": [],
   "source": [
    "df_enem_in_idoso = df_enem_in_lactante.withColumn('IDOSO', expr(\"case when IN_IDOSO = 0 then 'Não' \" + \"when IN_IDOSO = 1 then 'Sim' \" + \"else '' end\"))"
   ]
  },
  {
   "cell_type": "code",
   "execution_count": 55,
   "metadata": {},
   "outputs": [],
   "source": [
    "df_enem_in_estuda_classe_hospitalar = df_enem_in_idoso.withColumn('ESTUDA_CLASSE_HOSPITALAR', expr(\"case when IN_ESTUDA_CLASSE_HOSPITALAR = 0 then 'Não' \" + \"when IN_ESTUDA_CLASSE_HOSPITALAR = 1 then 'Sim' \" + \"else '' end\"))"
   ]
  },
  {
   "cell_type": "code",
   "execution_count": 56,
   "metadata": {},
   "outputs": [],
   "source": [
    "df_enem_in_sem_recurso = df_enem_in_estuda_classe_hospitalar.withColumn('SEM_RECURSO', expr(\"case when IN_SEM_RECURSO = 0 then 'Não' \" + \"when IN_SEM_RECURSO = 1 then 'Sim' \" + \"else '' end\"))"
   ]
  },
  {
   "cell_type": "code",
   "execution_count": 57,
   "metadata": {},
   "outputs": [],
   "source": [
    "df_enem_in_braille = df_enem_in_sem_recurso.withColumn('BRAILLE', expr(\"case when IN_BRAILLE = 0 then 'Não' \" + \"when IN_BRAILLE = 1 then 'Sim' \" + \"else '' end\"))"
   ]
  },
  {
   "cell_type": "code",
   "execution_count": 59,
   "metadata": {},
   "outputs": [],
   "source": [
    "df_enem_in_ampliada_24 = df_enem_in_braille.withColumn('AMPLIADA_24', expr(\"case when IN_AMPLIADA_24 = 0 then 'Não' \" + \"when IN_AMPLIADA_24 = 1 then 'Sim' \" + \"else '' end\"))"
   ]
  },
  {
   "cell_type": "code",
   "execution_count": 60,
   "metadata": {},
   "outputs": [],
   "source": [
    "df_enem_in_ampliada_18 = df_enem_in_ampliada_24.withColumn('AMPLIADA_18', expr(\"case when IN_AMPLIADA_18 = 0 then 'Não' \" + \"when IN_AMPLIADA_18 = 1 then 'Sim' \" + \"else '' end\"))"
   ]
  },
  {
   "cell_type": "code",
   "execution_count": 61,
   "metadata": {},
   "outputs": [],
   "source": [
    "df_enem_in_ledor = df_enem_in_ampliada_18.withColumn('LEDOR', expr(\"case when IN_LEDOR = 0 then 'Não' \" + \"when IN_LEDOR = 1 then 'Sim' \" + \"else '' end\"))"
   ]
  },
  {
   "cell_type": "code",
   "execution_count": 62,
   "metadata": {},
   "outputs": [],
   "source": [
    "df_enem_in_acesso = df_enem_in_ledor.withColumn('ACESSO', expr(\"case when IN_ACESSO = 0 then 'Não' \" + \"when IN_ACESSO = 1 then 'Sim' \" + \"else '' end\"))"
   ]
  },
  {
   "cell_type": "code",
   "execution_count": 63,
   "metadata": {},
   "outputs": [],
   "source": [
    "df_enem_in_transcricao = df_enem_in_acesso.withColumn('TRANSCRICAO', expr(\"case when IN_TRANSCRICAO = 0 then 'Não' \" + \"when IN_TRANSCRICAO = 1 then 'Sim' \" + \"else '' end\"))"
   ]
  },
  {
   "cell_type": "code",
   "execution_count": null,
   "metadata": {},
   "outputs": [],
   "source": [
    "df_enem_in_libras = df_enem_in_transcricao.withColumn('LIBRAS', expr(\"case when IN_LIBRAS = 0 then 'Não' \" + \"when IN_LIBRAS = 1 then 'Sim' \" + \"else '' end\"))"
   ]
  },
  {
   "cell_type": "code",
   "execution_count": null,
   "metadata": {},
   "outputs": [],
   "source": [
    "df_enem_in_leitura_labial = df_enem_in_libras.withColumn('LEITURA_LABIAL', expr(\"case when IN_LEITURA_LABIAL = 0 then 'Não' \" + \"when IN_LEITURA_LABIAL = 1 then 'Sim' \" + \"else '' end\"))"
   ]
  },
  {
   "cell_type": "code",
   "execution_count": null,
   "metadata": {},
   "outputs": [],
   "source": [
    "df_enem_in_mesa_cadeira_rodas = df_enem_in_leitura_labial.withColumn('MESA_CADEIRA_RODAS', expr(\"case when IN_MESA_CADEIRA_RODAS = 0 then 'Não' \" + \"when IN_MESA_CADEIRA_RODAS = 1 then 'Sim' \" + \"else '' end\"))"
   ]
  },
  {
   "cell_type": "code",
   "execution_count": null,
   "metadata": {},
   "outputs": [],
   "source": [
    "df_enem_in_mesa_cadeira_separada = df_enem_in_mesa_cadeira_rodas.withColumn('MESA_CADEIRA_SEPARADA', expr(\"case when IN_MESA_CADEIRA_SEPARADA = 0 then 'Não' \" + \"when IN_MESA_CADEIRA_SEPARADA = 1 then 'Sim' \" + \"else '' end\"))"
   ]
  },
  {
   "cell_type": "code",
   "execution_count": null,
   "metadata": {},
   "outputs": [],
   "source": [
    "df_enem_in_apoio_perna = df_enem_in_mesa_cadeira_separada.withColumn('APOIO_PERNA', expr(\"case when IN_APOIO_PERNA = 0 then 'Não' \" + \"when IN_APOIO_PERNA = 1 then 'Sim' \" + \"else '' end\"))"
   ]
  },
  {
   "cell_type": "code",
   "execution_count": null,
   "metadata": {},
   "outputs": [],
   "source": [
    "df_enem_in_guia_interprete = df_enem_in_apoio_perna.withColumn('GUIA_INTERPRETE', expr(\"case when IN_GUIA_INTERPRETE = 0 then 'Não' \" + \"when IN_GUIA_INTERPRETE = 1 then 'Sim' \" + \"else '' end\"))"
   ]
  },
  {
   "cell_type": "code",
   "execution_count": null,
   "metadata": {},
   "outputs": [],
   "source": [
    "df_enem_in_computador = df_enem_in_guia_interprete.withColumn('COMPUTADOR', expr(\"case when IN_COMPUTADOR = 0 then 'Não' \" + \"when IN_COMPUTADOR = 1 then 'Sim' \" + \"else '' end\"))"
   ]
  },
  {
   "cell_type": "code",
   "execution_count": null,
   "metadata": {},
   "outputs": [],
   "source": [
    "df_enem_in_cadeira_especial = df_enem_in_computador.withColumn('CADEIRA_ESPECIAL', expr(\"case when IN_CADEIRA_ESPECIAL = 0 then 'Não' \" + \"when IN_CADEIRA_ESPECIAL = 1 then 'Sim' \" + \"else '' end\"))"
   ]
  },
  {
   "cell_type": "code",
   "execution_count": null,
   "metadata": {},
   "outputs": [],
   "source": [
    "df_enem_in_cadeira_canhoto = df_enem_in_cadeira_especial.withColumn('CADEIRA_CANHOTO', expr(\"case when IN_CADEIRA_CANHOTO = 0 then 'Não' \" + \"when IN_CADEIRA_CANHOTO = 1 then 'Sim' \" + \"else '' end\"))"
   ]
  },
  {
   "cell_type": "code",
   "execution_count": null,
   "metadata": {},
   "outputs": [],
   "source": [
    "df_enem_in_cadeira_acolchoada = df_enem_in_cadeira_canhoto.withColumn('CADEIRA_ACOLCHOADA', expr(\"case when IN_CADEIRA_ACOLCHOADA = 0 then 'Não' \" + \"when IN_CADEIRA_ACOLCHOADA = 1 then 'Sim' \" + \"else '' end\"))"
   ]
  },
  {
   "cell_type": "code",
   "execution_count": null,
   "metadata": {},
   "outputs": [],
   "source": [
    "df_enem_in_prova_deitado = df_enem_in_cadeira_acolchoada.withColumn('PROVA_DEITADO', expr(\"case when IN_PROVA_DEITADO = 0 then 'Não' \" + \"when IN_PROVA_DEITADO = 1 then 'Sim' \" + \"else '' end\"))"
   ]
  },
  {
   "cell_type": "code",
   "execution_count": null,
   "metadata": {},
   "outputs": [],
   "source": [
    "df_enem_in_mobiliario_obeso = df_enem_in_prova_deitado.withColumn('MOBILIARIO_OBESO', expr(\"case when IN_MOBILIARIO_OBESO = 0 then 'Não' \" + \"when IN_MOBILIARIO_OBESO = 1 then 'Sim' \" + \"else '' end\"))"
   ]
  },
  {
   "cell_type": "code",
   "execution_count": null,
   "metadata": {},
   "outputs": [],
   "source": [
    "df_enem_in_lamina_overlay = df_enem_in_mobiliario_obeso.withColumn('LAMINA_OVERLAY', expr(\"case when IN_LAMINA_OVERLAY = 0 then 'Não' \" + \"when IN_LAMINA_OVERLAY = 1 then 'Sim' \" + \"else '' end\"))"
   ]
  },
  {
   "cell_type": "code",
   "execution_count": null,
   "metadata": {},
   "outputs": [],
   "source": [
    "df_enem_in_protetor_auricular = df_enem_in_lamina_overlay.withColumn('PROTETOR_AURICULAR', expr(\"case when IN_PROTETOR_AURICULAR = 0 then 'Não' \" + \"when IN_PROTETOR_AURICULAR = 1 then 'Sim' \" + \"else '' end\"))"
   ]
  },
  {
   "cell_type": "code",
   "execution_count": null,
   "metadata": {},
   "outputs": [],
   "source": [
    "df_enem_in_medidor_glicose = df_enem_in_protetor_auricular.withColumn('MEDIDOR_GLICOSE', expr(\"case when IN_MEDIDOR_GLICOSE = 0 then 'Não' \" + \"when IN_MEDIDOR_GLICOSE = 1 then 'Sim' \" + \"else '' end\"))"
   ]
  },
  {
   "cell_type": "code",
   "execution_count": null,
   "metadata": {},
   "outputs": [],
   "source": [
    "df_enem_in_maquina_braile = df_enem_in_medidor_glicose.withColumn('MAQUINA_BRAILE', expr(\"case when IN_MAQUINA_BRAILE = 0 then 'Não' \" + \"when IN_MAQUINA_BRAILE = 1 then 'Sim' \" + \"else '' end\"))"
   ]
  },
  {
   "cell_type": "code",
   "execution_count": null,
   "metadata": {},
   "outputs": [],
   "source": [
    "df_enem_in_soroban = df_enem_in_maquina_braile.withColumn('SOROBAN', expr(\"case when IN_SOROBAN = 0 then 'Não' \" + \"when IN_SOROBAN = 1 then 'Sim' \" + \"else '' end\"))"
   ]
  },
  {
   "cell_type": "code",
   "execution_count": null,
   "metadata": {},
   "outputs": [],
   "source": [
    "df_enem_in_marca_passo = df_enem_in_soroban.withColumn('MARCA_PASSO', expr(\"case when IN_MARCA_PASSO = 0 then 'Não' \" + \"when IN_MARCA_PASSO = 1 then 'Sim' \" + \"else '' end\"))"
   ]
  },
  {
   "cell_type": "code",
   "execution_count": null,
   "metadata": {},
   "outputs": [],
   "source": [
    "df_enem_in_sonda = df_enem_in_marca_passo.withColumn('MARCA_PASSO', expr(\"case when IN_SONDA = 0 then 'Não' \" + \"when IN_SONDA = 1 then 'Sim' \" + \"else '' end\"))"
   ]
  },
  {
   "cell_type": "code",
   "execution_count": null,
   "metadata": {},
   "outputs": [],
   "source": [
    "df_enem_in_medicamentos = df_enem_in_sonda.withColumn('MEDICAMENTOS', expr(\"case when IN_MEDICAMENTOS = 0 then 'Não' \" + \"when IN_MEDICAMENTOS = 1 then 'Sim' \" + \"else '' end\"))"
   ]
  },
  {
   "cell_type": "code",
   "execution_count": null,
   "metadata": {},
   "outputs": [],
   "source": [
    "df_enem_in_sala_individual = df_enem_in_medicamentos.withColumn('SALA_INDIVIDUAL', expr(\"case when IN_SALA_INDIVIDUAL = 0 then 'Não' \" + \"when IN_SALA_INDIVIDUAL = 1 then 'Sim' \" + \"else '' end\"))"
   ]
  },
  {
   "cell_type": "code",
   "execution_count": null,
   "metadata": {},
   "outputs": [],
   "source": [
    "df_enem_in_sala_especial = df_enem_in_sala_individual.withColumn('SALA_ESPECIAL', expr(\"case when IN_SALA_ESPECIAL = 0 then 'Não' \" + \"when IN_SALA_ESPECIAL = 1 then 'Sim' \" + \"else '' end\"))"
   ]
  },
  {
   "cell_type": "code",
   "execution_count": null,
   "metadata": {},
   "outputs": [],
   "source": [
    "df_enem_in_sala_acompanhante = df_enem_in_sala_especial.withColumn('SALA_ACOMPANHANTE', expr(\"case when IN_SALA_ACOMPANHANTE = 0 then 'Não' \" + \"when IN_SALA_ACOMPANHANTE = 1 then 'Sim' \" + \"else '' end\"))"
   ]
  },
  {
   "cell_type": "code",
   "execution_count": null,
   "metadata": {},
   "outputs": [],
   "source": [
    "df_enem_in_mobiliario_especifico = df_enem_in_sala_acompanhante.withColumn('MOBILIARIO_ESPECIFICO', expr(\"case when IN_MOBILIARIO_ESPECIFICO = 0 then 'Não' \" + \"when IN_MOBILIARIO_ESPECIFICO = 1 then 'Sim' \" + \"else '' end\"))"
   ]
  },
  {
   "cell_type": "code",
   "execution_count": null,
   "metadata": {},
   "outputs": [],
   "source": [
    "df_enem_in_nome_social = df_enem_in_mobiliario_especifico.withColumn('NOME_SOCIAL', expr(\"case when IN_NOME_SOCIAL = 0 then 'Não' \" + \"when IN_NOME_SOCIAL = 1 then 'Sim' \" + \"else '' end\"))"
   ]
  },
  {
   "cell_type": "code",
   "execution_count": null,
   "metadata": {},
   "outputs": [],
   "source": [
    "df_enem_tp_presenca_cn = df_enem_in_nome_social.withColumn('PRESENCA_CIENCIAS_NATUREZA', expr(\"case when TP_PRESENCA_CN = 0 then 'Faltou à prova' \" + \"when TP_PRESENCA_CN = 1 then 'Presente na prova' \" + \"when TP_PRESENCA_CN = 2 then 'Eliminado na prova' \" + \"else '' end\"))"
   ]
  },
  {
   "cell_type": "code",
   "execution_count": null,
   "metadata": {},
   "outputs": [],
   "source": [
    "df_enem_tp_presenca_ch = df_enem_tp_presenca_cn.withColumn('PRESENCA_CIENCIAS_HUMANAS', expr(\"case when TP_PRESENCA_CH = 0 then 'Faltou à prova' \" + \"when TP_PRESENCA_CH = 1 then 'Presente na prova' \" + \"when TP_PRESENCA_CH = 2 then 'Eliminado na prova' \" + \"else '' end\"))"
   ]
  },
  {
   "cell_type": "code",
   "execution_count": 54,
   "metadata": {
    "tags": []
   },
   "outputs": [
    {
     "output_type": "stream",
     "name": "stdout",
     "text": "root\n |-- NU_INSCRICAO: long (nullable = true)\n |-- NU_ANO: integer (nullable = true)\n |-- NO_MUNICIPIO_RESIDENCIA: string (nullable = true)\n |-- CO_UF_RESIDENCIA: integer (nullable = true)\n |-- SG_UF_RESIDENCIA: string (nullable = true)\n |-- NU_IDADE: integer (nullable = true)\n |-- TP_SEXO: string (nullable = true)\n |-- TP_ESTADO_CIVIL: integer (nullable = true)\n |-- TP_COR_RACA: integer (nullable = true)\n |-- TP_NACIONALIDADE: integer (nullable = true)\n |-- NO_MUNICIPIO_NASCIMENTO: string (nullable = true)\n |-- CO_UF_NASCIMENTO: integer (nullable = true)\n |-- SG_UF_NASCIMENTO: string (nullable = true)\n |-- TP_ST_CONCLUSAO: integer (nullable = true)\n |-- TP_ESCOLA: integer (nullable = true)\n |-- TP_ENSINO: integer (nullable = true)\n |-- IN_TREINEIRO: integer (nullable = true)\n |-- CO_UF_ESC: integer (nullable = true)\n |-- SG_UF_ESC: string (nullable = true)\n |-- TP_DEPENDENCIA_ADM_ESC: integer (nullable = true)\n |-- TP_LOCALIZACAO_ESC: integer (nullable = true)\n |-- IN_BAIXA_VISAO: integer (nullable = true)\n |-- IN_CEGUEIRA: integer (nullable = true)\n |-- IN_SURDEZ: integer (nullable = true)\n |-- IN_DEFICIENCIA_AUDITIVA: integer (nullable = true)\n |-- IN_SURDO_CEGUEIRA: integer (nullable = true)\n |-- IN_DEFICIENCIA_FISICA: integer (nullable = true)\n |-- IN_DEFICIENCIA_MENTAL: integer (nullable = true)\n |-- IN_DEFICIT_ATENCAO: integer (nullable = true)\n |-- IN_DISLEXIA: integer (nullable = true)\n |-- IN_DISCALCULIA: integer (nullable = true)\n |-- IN_AUTISMO: integer (nullable = true)\n |-- IN_VISAO_MONOCULAR: integer (nullable = true)\n |-- IN_OUTRA_DEF: integer (nullable = true)\n |-- IN_GESTANTE: integer (nullable = true)\n |-- IN_LACTANTE: integer (nullable = true)\n |-- IN_IDOSO: integer (nullable = true)\n |-- IN_ESTUDA_CLASSE_HOSPITALAR: integer (nullable = true)\n |-- IN_SEM_RECURSO: integer (nullable = true)\n |-- IN_BRAILLE: integer (nullable = true)\n |-- IN_AMPLIADA_24: integer (nullable = true)\n |-- IN_AMPLIADA_18: integer (nullable = true)\n |-- IN_LEDOR: integer (nullable = true)\n |-- IN_ACESSO: integer (nullable = true)\n |-- IN_TRANSCRICAO: integer (nullable = true)\n |-- IN_LIBRAS: integer (nullable = true)\n |-- IN_LEITURA_LABIAL: integer (nullable = true)\n |-- IN_MESA_CADEIRA_RODAS: integer (nullable = true)\n |-- IN_MESA_CADEIRA_SEPARADA: integer (nullable = true)\n |-- IN_APOIO_PERNA: integer (nullable = true)\n |-- IN_GUIA_INTERPRETE: integer (nullable = true)\n |-- IN_COMPUTADOR: integer (nullable = true)\n |-- IN_CADEIRA_ESPECIAL: integer (nullable = true)\n |-- IN_CADEIRA_CANHOTO: integer (nullable = true)\n |-- IN_CADEIRA_ACOLCHOADA: integer (nullable = true)\n |-- IN_PROVA_DEITADO: integer (nullable = true)\n |-- IN_MOBILIARIO_OBESO: integer (nullable = true)\n |-- IN_LAMINA_OVERLAY: integer (nullable = true)\n |-- IN_PROTETOR_AURICULAR: integer (nullable = true)\n |-- IN_MEDIDOR_GLICOSE: integer (nullable = true)\n |-- IN_MAQUINA_BRAILE: integer (nullable = true)\n |-- IN_SOROBAN: integer (nullable = true)\n |-- IN_MARCA_PASSO: integer (nullable = true)\n |-- IN_SONDA: integer (nullable = true)\n |-- IN_MEDICAMENTOS: integer (nullable = true)\n |-- IN_SALA_INDIVIDUAL: integer (nullable = true)\n |-- IN_SALA_ESPECIAL: integer (nullable = true)\n |-- IN_SALA_ACOMPANHANTE: integer (nullable = true)\n |-- IN_MOBILIARIO_ESPECIFICO: integer (nullable = true)\n |-- IN_NOME_SOCIAL: integer (nullable = true)\n |-- NO_MUNICIPIO_PROVA: string (nullable = true)\n |-- CO_UF_PROVA: integer (nullable = true)\n |-- SG_UF_PROVA: string (nullable = true)\n |-- TP_PRESENCA_CN: integer (nullable = true)\n |-- TP_PRESENCA_CH: integer (nullable = true)\n |-- TP_PRESENCA_LC: integer (nullable = true)\n |-- TP_PRESENCA_MT: integer (nullable = true)\n |-- NU_NOTA_CN: double (nullable = true)\n |-- NU_NOTA_CH: double (nullable = true)\n |-- NU_NOTA_LC: double (nullable = true)\n |-- NU_NOTA_MT: double (nullable = true)\n |-- TP_LINGUA: integer (nullable = true)\n |-- TP_STATUS_REDACAO: integer (nullable = true)\n |-- NU_NOTA_COMP1: integer (nullable = true)\n |-- NU_NOTA_COMP2: integer (nullable = true)\n |-- NU_NOTA_COMP3: integer (nullable = true)\n |-- NU_NOTA_COMP4: integer (nullable = true)\n |-- NU_NOTA_COMP5: integer (nullable = true)\n |-- NU_NOTA_REDACAO: integer (nullable = true)\n |-- Q001: string (nullable = true)\n |-- Q002: string (nullable = true)\n |-- Q005: integer (nullable = true)\n |-- Q006: string (nullable = true)\n |-- Q022: string (nullable = true)\n |-- Q024: string (nullable = true)\n |-- Q025: string (nullable = true)\n |-- SEXO: string (nullable = false)\n |-- ESTADO_CIVIL: string (nullable = false)\n |-- RACA: string (nullable = false)\n |-- NACIONALIDADE: string (nullable = false)\n |-- SITUACAO_CONCLUSAO_ENSINO_MEDIO: string (nullable = false)\n |-- TIPO_ESCOLA: string (nullable = false)\n |-- TIPO_ENSINO: string (nullable = false)\n |-- TREINEIRO: string (nullable = false)\n |-- DEPENDENCIA_ADMINISTRATIVA_ESCOLA: string (nullable = false)\n |-- LOCALIZACAO_ESCOLA: string (nullable = false)\n |-- BAIXA_VISAO: string (nullable = false)\n |-- CEGUEIRA: string (nullable = false)\n |-- SURDEZ: string (nullable = false)\n |-- DEFICIENCIA_AUDITIVA: string (nullable = false)\n |-- SURDO_CEGUEIRA: string (nullable = false)\n |-- DEFICIENCIA_FISICA: string (nullable = false)\n |-- DEFICIENCIA_MENTAL: string (nullable = false)\n |-- DEFICIT_ATENCAO: string (nullable = false)\n |-- DISLEXIA: string (nullable = false)\n |-- DISCALCULIA: string (nullable = false)\n |-- AUTISMO: string (nullable = false)\n |-- VISAO_MONOCULAR: string (nullable = false)\n |-- OUTRA_DEF: string (nullable = false)\n |-- GESTANTE: string (nullable = false)\n |-- LACTANTE: string (nullable = false)\n |-- IDOSO: string (nullable = false)\n\n"
    }
   ],
   "source": [
    "df_enem_in_idoso.printSchema()"
   ]
  },
  {
   "cell_type": "code",
   "execution_count": null,
   "metadata": {},
   "outputs": [],
   "source": []
  },
  {
   "cell_type": "code",
   "execution_count": null,
   "metadata": {},
   "outputs": [],
   "source": []
  },
  {
   "cell_type": "code",
   "execution_count": null,
   "metadata": {},
   "outputs": [],
   "source": []
  },
  {
   "cell_type": "code",
   "execution_count": null,
   "metadata": {},
   "outputs": [],
   "source": []
  },
  {
   "cell_type": "code",
   "execution_count": null,
   "metadata": {},
   "outputs": [],
   "source": []
  },
  {
   "cell_type": "code",
   "execution_count": null,
   "metadata": {},
   "outputs": [],
   "source": []
  },
  {
   "cell_type": "code",
   "execution_count": null,
   "metadata": {},
   "outputs": [],
   "source": []
  },
  {
   "cell_type": "code",
   "execution_count": null,
   "metadata": {},
   "outputs": [],
   "source": []
  },
  {
   "cell_type": "code",
   "execution_count": null,
   "metadata": {},
   "outputs": [],
   "source": []
  },
  {
   "cell_type": "code",
   "execution_count": null,
   "metadata": {},
   "outputs": [],
   "source": []
  },
  {
   "cell_type": "code",
   "execution_count": null,
   "metadata": {},
   "outputs": [],
   "source": []
  },
  {
   "cell_type": "code",
   "execution_count": null,
   "metadata": {},
   "outputs": [],
   "source": []
  }
 ]
}