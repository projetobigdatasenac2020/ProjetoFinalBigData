{
 "metadata": {
  "language_info": {
   "codemirror_mode": {
    "name": "ipython",
    "version": 3
   },
   "file_extension": ".py",
   "mimetype": "text/x-python",
   "name": "python",
   "nbconvert_exporter": "python",
   "pygments_lexer": "ipython3",
   "version": "3.7.6-final"
  },
  "orig_nbformat": 2,
  "kernelspec": {
   "name": "python_defaultSpec_1597941291003",
   "display_name": "Python 3.7.6 64-bit ('base': conda)"
  }
 },
 "nbformat": 4,
 "nbformat_minor": 2,
 "cells": [
  {
   "cell_type": "markdown",
   "metadata": {},
   "source": [
    "Projeto Final Pós Graduação Big Data - Senac Rio - 2020."
   ]
  },
  {
   "cell_type": "markdown",
   "metadata": {},
   "source": [
    "Processo de importação das Bibliotecas utilizadas no durante todo o projeto."
   ]
  },
  {
   "cell_type": "code",
   "execution_count": 1,
   "metadata": {
    "tags": []
   },
   "outputs": [
    {
     "output_type": "stream",
     "name": "stdout",
     "text": "Ativação das bibliotecas iniciada - 2020-08-20 17:30:29.005827.\nAtivação das bibliotecas com sucesso - 2020-08-20 17:30:30.391884.\n"
    }
   ],
   "source": [
    "#Importação das bibliotecas utilizadas para manipulação dos dados das paginas Web.\n",
    "\n",
    "from datetime import datetime\n",
    "\n",
    "print(f'Ativação das bibliotecas iniciada - {datetime.now()}.')\n",
    "\n",
    "from bs4 import BeautifulSoup\n",
    "import urllib.request\n",
    "import shutil\n",
    "import os\n",
    "import pandas as pd\n",
    "import pyspark\n",
    "import zipfile\n",
    "import sqlalchemy\n",
    "import pymysql\n",
    "import json\n",
    "import numpy as np\n",
    "import matplotlib.pyplot as plt\n",
    "from pyspark import SparkContext\n",
    "from pyspark.sql import SQLContext\n",
    "from pyspark.sql.functions import * \n",
    "\n",
    "print(f'Ativação das bibliotecas com sucesso - {datetime.now()}.')"
   ]
  },
  {
   "cell_type": "markdown",
   "metadata": {},
   "source": [
    "Indicação do diretório para download dos arquivos Inep-Enem. "
   ]
  },
  {
   "cell_type": "code",
   "execution_count": null,
   "metadata": {},
   "outputs": [],
   "source": [
    "#Indicação do diretório desejado para download dos arquivos. \n",
    "#No exemplo, estamos salvando no diretório: C:\\Users\\Ricardo\\Downloads\n",
    "\n",
    "diretorio = input('Digite o diretório desejado para salvar os arquivos: ')\n",
    "os.chdir(r'{}'.format(diretorio))\n",
    "os.getcwd( )"
   ]
  },
  {
   "cell_type": "code",
   "execution_count": null,
   "metadata": {},
   "outputs": [],
   "source": [
    "#Apos indicar o diretorio desejado, como boa pratica, sugerimos a criação da pasta onde será salvos os arquivos.\n",
    "#No exemplo, estamos salvando na pasta: MicrodadosEnem.'''\n",
    "\n",
    "url = 'http://inep.gov.br/microdados'\n",
    "\n",
    "pasta = input('Após indicação do diretório {}, informe o nome da pasta desejada para salvar os arquivos baixados da pagina {}: '.format(diretorio, url))\n",
    "\n",
    "try:\n",
    "    os.mkdir(pasta)\n",
    "    print('Pasta {} criada com sucesso!'.format(pasta))\n",
    "except FileExistsError as e:\n",
    "    print(f'Pasta {pasta} já existe')"
   ]
  },
  {
   "cell_type": "code",
   "execution_count": null,
   "metadata": {},
   "outputs": [],
   "source": [
    "#Indicação do diretório onde será salvo os arquivos baixados da url.\n",
    "\n",
    "os.chdir(r'{}\\{}'.format(diretorio, pasta))\n",
    "print('Os arquivos serão salvos no seguinte diretorio:', format(os.getcwd()))"
   ]
  },
  {
   "cell_type": "markdown",
   "metadata": {},
   "source": [
    "Processo de Web Scraping no site do Inep, buscando os microdados do Enem."
   ]
  },
  {
   "cell_type": "code",
   "execution_count": null,
   "metadata": {},
   "outputs": [],
   "source": [
    "#Criação da variável que receberá todos os dados correspondente a varíavel \"url\".\n",
    "\n",
    "page = urllib.request.urlopen(url)"
   ]
  },
  {
   "cell_type": "code",
   "execution_count": null,
   "metadata": {},
   "outputs": [],
   "source": [
    "#Criação da variável \"soup\", do pacote BeatifulSoup, que apresenta a estutura HTML da pagina que será trabalhada.\n",
    "\n",
    "soup = BeautifulSoup(page,'html.parser')\n",
    "print(soup)"
   ]
  },
  {
   "cell_type": "code",
   "execution_count": null,
   "metadata": {},
   "outputs": [],
   "source": [
    "#No loop \"for\" abaixo, o realizaremos o filtro das tags desejadas.\n",
    "\n",
    "for link in soup.findAll('a'):\n",
    "    theLink = link.get('href')\n",
    "    name = link.string\n",
    "    \n",
    "    print(theLink)\n",
    "    print(name)"
   ]
  },
  {
   "cell_type": "code",
   "execution_count": null,
   "metadata": {},
   "outputs": [],
   "source": [
    "#No processo abaixo, realizaremos o filtro das linhas, cujo o o tipo do arquivo desejado é *.zip.\n",
    "\n",
    "nomeArquivo = []\n",
    "typeFile = '.zip'\n",
    "i = 0\n",
    "for link in soup.findAll('a'):\n",
    "    theLink = str(link.get('href')).lower()\n",
    "    name = link.string\n",
    "    if 'enem'in theLink:\n",
    "        if theLink[-4:] == typeFile:\n",
    "            print(theLink)\n",
    "            print(type(theLink))\n",
    "            print(name)\n",
    "            print(type(name))\n",
    "            nomeArquivo.append(theLink[39:-4].replace('/','_'))\n",
    "            print(type(nomeArquivo))"
   ]
  },
  {
   "cell_type": "code",
   "execution_count": null,
   "metadata": {},
   "outputs": [],
   "source": [
    "#Processo de download dos arquivos desejados e salvos na na pasta indicada.\n",
    "\n",
    "i = 0\n",
    "for link in soup.findAll('a'):\n",
    "    theLink = str(link.get('href')).lower()\n",
    "    name = link.string\n",
    "    if 'enem'in theLink:\n",
    "        if theLink[-4:] == typeFile:\n",
    "            if name is None:\n",
    "                title = 'SemTítulo' + typeFile\n",
    "            else:\n",
    "                title = nomeArquivo[i] + typeFile\n",
    "                i +=1\n",
    "            try:\n",
    "                with open(os.getcwd() + '/' + title,'r') as fileExists:\n",
    "                    print('Arquivo ' + title + ' existente no diretório '+ os.getcwd() + ' - ' + str(datetime.now()))\n",
    "                    fileExists.close()\n",
    "            except FileNotFoundError:\n",
    "                print('Download Iniciado - {}: '.format(datetime.now()) + title)\n",
    "                docFile = open(os.getcwd() + '/' + title,'wb')\n",
    "                docFile.write(urllib.request.urlopen(theLink).read())\n",
    "                docFile.close()\n",
    "                print('Download Concluído em {}'.format(datetime.now()))\n",
    "print('Não há mais arquivos para download')"
   ]
  },
  {
   "cell_type": "code",
   "execution_count": null,
   "metadata": {},
   "outputs": [],
   "source": [
    "#Apresentação do tamanho dos arquivos baixados.\n",
    "\n",
    "print('Apresentação Arquivos Enem baixados no díretório: ' + os.getcwd())\n",
    "contador = 0\n",
    "tamanhoTotal = 0\n",
    "tipo = '.zip'\n",
    "\n",
    "def formatarTamanho(tamanho):\n",
    "    base = 1024\n",
    "    kilo = base\n",
    "    mega = base ** 2\n",
    "    giga = base ** 3\n",
    "    tera = base ** 4\n",
    "    \n",
    "    if tamanho < kilo:\n",
    "        tamanho = base\n",
    "        texto = 'B'\n",
    "    elif tamanho < mega:\n",
    "        tamanho /= kilo\n",
    "        texto = 'K'\n",
    "    elif tamanho < giga:\n",
    "        tamanho /= mega\n",
    "        texto = 'M'\n",
    "    else:\n",
    "        tamanho < tera\n",
    "        tamanho /= giga\n",
    "        texto = 'G'\n",
    "    tamanho = round(tamanho, 2)\n",
    "    return f'{tamanho} {texto}'\n",
    "\n",
    "for raiz, diretorios, arquivos in os.walk(os.getcwd()):\n",
    "    for arquivo in arquivos:\n",
    "        if tipo in arquivo:\n",
    "            contador +=1 \n",
    "            caminho = os.path.join(raiz, arquivo)\n",
    "            nome, ext = os.path.splitext(arquivo)\n",
    "            tamanho = os.path.getsize(caminho)\n",
    "            tamanhoTotal += tamanho\n",
    "                                \n",
    "            if tamanho > 0:\n",
    "                print()\n",
    "                print('Arquivo encontrado: ', arquivo)\n",
    "                print('Caminho: ', caminho)\n",
    "                print('Nome: ', nome)\n",
    "                print('Extensão: ', ext)\n",
    "                print('Tamanho: ', formatarTamanho(tamanho))\n",
    "\n",
    "print()\n",
    "print(f'{contador} arquivo(s) encontrado(s).' + 'Tamanho Total: ' + formatarTamanho(tamanhoTotal))"
   ]
  },
  {
   "cell_type": "markdown",
   "metadata": {},
   "source": [
    "Processo de Intaciação do Spark e criação dos Dataframes, atraves dos arquivos CSV's do Enem. "
   ]
  },
  {
   "cell_type": "code",
   "execution_count": 2,
   "metadata": {
    "tags": []
   },
   "outputs": [
    {
     "output_type": "stream",
     "name": "stdout",
     "text": "Intanciando o Spark - 2020-08-20 17:30:49.463251.\nSpark intanciado com sucesso - 2020-08-20 17:30:53.753230.\n"
    }
   ],
   "source": [
    "# Instanciar Spark\n",
    "\n",
    "print(f'Intanciando o Spark - {datetime.now()}.')\n",
    "\n",
    "sc = SparkContext()\n",
    "sqlContext = SQLContext(sc)\n",
    "\n",
    "print(f'Spark intanciado com sucesso - {datetime.now()}.')"
   ]
  },
  {
   "cell_type": "code",
   "execution_count": 3,
   "metadata": {
    "tags": []
   },
   "outputs": [
    {
     "output_type": "stream",
     "name": "stdout",
     "text": "Criação Dataframes Iniciado - 2020-08-20 17:30:53.782846.\n\n\nCriação Dataframe do Enem 2015 iniciada - 2020-08-20 17:30:53.784838.\nDataframe df_enem2015_completo criado com sucesso - 2020-08-20 17:31:50.388501.\n\nCriação Dataframe do Enem 2016 iniciada- 2020-08-20 17:31:50.388501.\nDataframe df_enem2016_completo criado com sucesso - 2020-08-20 17:32:48.149216.\n\nCriação Dataframe do Enem 2017 iniciada - 2020-08-20 17:32:48.150210.\nDataframe df_enem2017_completo criado com sucesso - 2020-08-20 17:33:25.256192.\n\nCriação Dataframe do Enem 2018 iniciada - 2020-08-20 17:33:25.257192.\nDataframe df_enem2018_completo criado com sucesso - 2020-08-20 17:33:59.076736.\n\nCriação Dataframe do Enem 2019 iniciada - 2020-08-20 17:33:59.077733.\nDataframe df_enem2019_completo criado com sucesso - 2020-08-20 17:34:29.399801.\n\n\nDataframes criados com sucesso - 2020-08-20 17:34:29.399801.\n"
    }
   ],
   "source": [
    "# No Processo abaixo, importaremos para o dataframe, apenas para conhecer os dados e verificar o separador do microdado.\n",
    "\n",
    "print(f'Criação Dataframes Iniciado - {datetime.now()}.')\n",
    "print('')\n",
    "\n",
    "print('')\n",
    "print(f'Criação Dataframe do Enem 2015 iniciada - {datetime.now()}.')\n",
    "df_enem2015_completo = sqlContext.read.format('com.databricks.spark.csv').options(header='true', sep=\",\", inferschema='true', encoding = 'ISO-8859-1', ).load(r'C:\\Users\\Ricardo\\Downloads\\MicrodadosEnem\\MICRODADOS_ENEM_2015.csv')\n",
    "print(f'Dataframe df_enem2015_completo criado com sucesso - {datetime.now()}.')\n",
    "print('')\n",
    "\n",
    "print(f'Criação Dataframe do Enem 2016 iniciada- {datetime.now()}.')\n",
    "df_enem2016_completo = sqlContext.read.format('com.databricks.spark.csv').options(header='true', sep=\";\", inferschema='true', encoding = 'ISO-8859-1').load(r'C:\\Users\\Ricardo\\Downloads\\MicrodadosEnem\\microdados_enem_2016.csv')\n",
    "print(f'Dataframe df_enem2016_completo criado com sucesso - {datetime.now()}.')\n",
    "print('')\n",
    "\n",
    "print(f'Criação Dataframe do Enem 2017 iniciada - {datetime.now()}.')\n",
    "df_enem2017_completo = sqlContext.read.format('com.databricks.spark.csv').options(header='true', sep=\";\", inferschema='true', encoding = 'ISO-8859-1').load(r'C:\\Users\\Ricardo\\Downloads\\MicrodadosEnem\\MICRODADOS_ENEM_2017.csv')\n",
    "print(f'Dataframe df_enem2017_completo criado com sucesso - {datetime.now()}.')\n",
    "print('')\n",
    "\n",
    "print(f'Criação Dataframe do Enem 2018 iniciada - {datetime.now()}.')\n",
    "df_enem2018_completo = sqlContext.read.format('com.databricks.spark.csv').options(header='true', sep=\";\", inferschema='true', encoding = 'ISO-8859-1').load(r'C:\\Users\\Ricardo\\Downloads\\MicrodadosEnem\\MICRODADOS_ENEM_2018.csv')\n",
    "print(f'Dataframe df_enem2018_completo criado com sucesso - {datetime.now()}.')\n",
    "print('')\n",
    "\n",
    "print(f'Criação Dataframe do Enem 2019 iniciada - {datetime.now()}.')\n",
    "df_enem2019_completo = sqlContext.read.format('com.databricks.spark.csv').options(header='true', sep=\";\", inferschema='true', encoding = 'ISO-8859-1').load(r'C:\\Users\\Ricardo\\Downloads\\MicrodadosEnem\\MICRODADOS_ENEM_2019.csv')\n",
    "print(f'Dataframe df_enem2019_completo criado com sucesso - {datetime.now()}.')\n",
    "print('')\n",
    "\n",
    "print('')\n",
    "print(f'Dataframes criados com sucesso - {datetime.now()}.')"
   ]
  },
  {
   "cell_type": "code",
   "execution_count": 4,
   "metadata": {
    "tags": []
   },
   "outputs": [
    {
     "output_type": "stream",
     "name": "stdout",
     "text": "Quantidade de Registros importadados para cada Dataframe\n\nQuantdade de Registros Dataframe Enem2015 - 2020-08-20 17:34:29.431716.\n7746427\n\nQuantdade de Registros Dataframe Enem2016 - 2020-08-20 17:34:54.084093.\n8627367\n\nQuantdade de Registros Dataframe Enem2017 - 2020-08-20 17:35:18.303845.\n6731341\n\nQuantdade de Registros Dataframe Enem2018 - 2020-08-20 17:35:34.550508.\n5513747\n\nQuantdade de Registros Dataframe Enem2019 - 2020-08-20 17:35:51.802192.\n5095270\n"
    }
   ],
   "source": [
    "# Apresentação dos registros de cada dataframe\n",
    "\n",
    "print('Quantidade de Registros importadados para cada Dataframe')\n",
    "print('')\n",
    "\n",
    "print(f'Quantdade de Registros Dataframe Enem2015 - {datetime.now()}.')\n",
    "print(df_enem2015_completo.count())\n",
    "print('')\n",
    "\n",
    "print(f'Quantdade de Registros Dataframe Enem2016 - {datetime.now()}.')\n",
    "print(df_enem2016_completo.count())\n",
    "print('')\n",
    "\n",
    "print(f'Quantdade de Registros Dataframe Enem2017 - {datetime.now()}.')\n",
    "print(df_enem2017_completo.count())\n",
    "print('')\n",
    "\n",
    "print(f'Quantdade de Registros Dataframe Enem2018 - {datetime.now()}.')\n",
    "print(df_enem2018_completo.count())\n",
    "print('')\n",
    "\n",
    "print(f'Quantdade de Registros Dataframe Enem2019 - {datetime.now()}.')\n",
    "print(df_enem2019_completo.count())\n"
   ]
  },
  {
   "cell_type": "code",
   "execution_count": 5,
   "metadata": {
    "tags": []
   },
   "outputs": [
    {
     "output_type": "stream",
     "name": "stdout",
     "text": "Apresentação de duas linhas do dataframe df_enem2015_completo - 2020-08-20 17:36:06.191466.\n+------------+------+-----------------------+-----------------------+----------------+----------------+---------------------------+------------+---------+----------------+----------------+---------+---------+----------------------+------------------+---------------+--------+-------+----------------+-----------------------+-----------------------+----------------+----------------+---------------+---------------+---------+---------+---------------+-----------+--------------+-----------+---------+-----------------------+-----------------+---------------------+---------------------+------------------+-----------+-----------+-----------+--------+--------------+----------+------------------+------------+------------+--------------+--------------+----------+--------------+--------------+--------+---------+--------------+---------+-----------------+---------------------+------------------------+--------------+------------------+-------+-------------+-------------------+------------------+---------------------+----------------+-------------------+-----------------+---------------------+------------------+-----------------+----------+--------------+--------+---------------+------------------+----------------+--------------------+------------------------+----------------------+--------------+------------------------+---------------------------+---------------------------+------------------+------------------+-----------+-----------+--------------+--------------+--------------+--------------+-----------+-----------+-----------+-----------+----------+----------+----------+----------+--------------------+--------------------+--------------------+--------------------+---------+--------------------+--------------------+--------------------+--------------------+-----------------+-------------+-------------+-------------+-------------+-------------+---------------+----+----+----+----+----+----+----+----+----+----+----+----+----+----+----+----+----+----+----+----+----+----+----+----+----+----+----+----+----+----+----+----+----+----+----+----+----+----+----+----+----+----+----+----+----+----+----+----+----+----+\n|NU_INSCRICAO|NU_ANO|CO_MUNICIPIO_RESIDENCIA|NO_MUNICIPIO_RESIDENCIA|CO_UF_RESIDENCIA|SG_UF_RESIDENCIA|IN_ESTUDA_CLASSE_HOSPITALAR|IN_TREINEIRO|CO_ESCOLA|CO_MUNICIPIO_ESC|NO_MUNICIPIO_ESC|CO_UF_ESC|SG_UF_ESC|TP_DEPENDENCIA_ADM_ESC|TP_LOCALIZACAO_ESC|TP_SIT_FUNC_ESC|NU_IDADE|TP_SEXO|TP_NACIONALIDADE|CO_MUNICIPIO_NASCIMENTO|NO_MUNICIPIO_NASCIMENTO|CO_UF_NASCIMENTO|SG_UF_NASCIMENTO|TP_ST_CONCLUSAO|TP_ANO_CONCLUIU|TP_ESCOLA|TP_ENSINO|TP_ESTADO_CIVIL|TP_COR_RACA|IN_BAIXA_VISAO|IN_CEGUEIRA|IN_SURDEZ|IN_DEFICIENCIA_AUDITIVA|IN_SURDO_CEGUEIRA|IN_DEFICIENCIA_FISICA|IN_DEFICIENCIA_MENTAL|IN_DEFICIT_ATENCAO|IN_DISLEXIA|IN_GESTANTE|IN_LACTANTE|IN_IDOSO|IN_DISCALCULIA|IN_AUTISMO|IN_VISAO_MONOCULAR|IN_SABATISTA|IN_OUTRA_DEF|IN_SEM_RECURSO|IN_NOME_SOCIAL|IN_BRAILLE|IN_AMPLIADA_24|IN_AMPLIADA_18|IN_LEDOR|IN_ACESSO|IN_TRANSCRICAO|IN_LIBRAS|IN_LEITURA_LABIAL|IN_MESA_CADEIRA_RODAS|IN_MESA_CADEIRA_SEPARADA|IN_APOIO_PERNA|IN_GUIA_INTERPRETE|IN_MACA|IN_COMPUTADOR|IN_CADEIRA_ESPECIAL|IN_CADEIRA_CANHOTO|IN_CADEIRA_ACOLCHOADA|IN_PROVA_DEITADO|IN_MOBILIARIO_OBESO|IN_LAMINA_OVERLAY|IN_PROTETOR_AURICULAR|IN_MEDIDOR_GLICOSE|IN_MAQUINA_BRAILE|IN_SOROBAN|IN_MARCA_PASSO|IN_SONDA|IN_MEDICAMENTOS|IN_SALA_INDIVIDUAL|IN_SALA_ESPECIAL|IN_SALA_ACOMPANHANTE|IN_MOBILIARIO_ESPECIFICO|IN_MATERIAL_ESPECÍFICO|IN_CERTIFICADO|NO_ENTIDADE_CERTIFICACAO|CO_UF_ENTIDADE_CERTIFICACAO|SG_UF_ENTIDADE_CERTIFICACAO|CO_MUNICIPIO_PROVA|NO_MUNICIPIO_PROVA|CO_UF_PROVA|SG_UF_PROVA|TP_PRESENCA_CN|TP_PRESENCA_CH|TP_PRESENCA_LC|TP_PRESENCA_MT|CO_PROVA_CN|CO_PROVA_CH|CO_PROVA_LC|CO_PROVA_MT|NU_NOTA_CN|NU_NOTA_CH|NU_NOTA_LC|NU_NOTA_MT|     TX_RESPOSTAS_CN|     TX_RESPOSTAS_CH|     TX_RESPOSTAS_LC|     TX_RESPOSTAS_MT|TP_LINGUA|      TX_GABARITO_CN|      TX_GABARITO_CH|      TX_GABARITO_LC|      TX_GABARITO_MT|TP_STATUS_REDACAO|NU_NOTA_COMP1|NU_NOTA_COMP2|NU_NOTA_COMP3|NU_NOTA_COMP4|NU_NOTA_COMP5|NU_NOTA_REDACAO|Q001|Q002|Q003|Q004|Q005|Q006|Q007|Q008|Q009|Q010|Q011|Q012|Q013|Q014|Q015|Q016|Q017|Q018|Q019|Q020|Q021|Q022|Q023|Q024|Q025|Q026|Q027|Q028|Q029|Q030|Q031|Q032|Q033|Q034|Q035|Q036|Q037|Q038|Q039|Q040|Q041|Q042|Q043|Q044|Q045|Q046|Q047|Q048|Q049|Q050|\n+------------+------+-----------------------+-----------------------+----------------+----------------+---------------------------+------------+---------+----------------+----------------+---------+---------+----------------------+------------------+---------------+--------+-------+----------------+-----------------------+-----------------------+----------------+----------------+---------------+---------------+---------+---------+---------------+-----------+--------------+-----------+---------+-----------------------+-----------------+---------------------+---------------------+------------------+-----------+-----------+-----------+--------+--------------+----------+------------------+------------+------------+--------------+--------------+----------+--------------+--------------+--------+---------+--------------+---------+-----------------+---------------------+------------------------+--------------+------------------+-------+-------------+-------------------+------------------+---------------------+----------------+-------------------+-----------------+---------------------+------------------+-----------------+----------+--------------+--------+---------------+------------------+----------------+--------------------+------------------------+----------------------+--------------+------------------------+---------------------------+---------------------------+------------------+------------------+-----------+-----------+--------------+--------------+--------------+--------------+-----------+-----------+-----------+-----------+----------+----------+----------+----------+--------------------+--------------------+--------------------+--------------------+---------+--------------------+--------------------+--------------------+--------------------+-----------------+-------------+-------------+-------------+-------------+-------------+---------------+----+----+----+----+----+----+----+----+----+----+----+----+----+----+----+----+----+----+----+----+----+----+----+----+----+----+----+----+----+----+----+----+----+----+----+----+----+----+----+----+----+----+----+----+----+----+----+----+----+----+\n|150000000376|  2015|                4309209|               Gravataí|              43|              RS|                          0|           0|     null|            null|            null|     null|     null|                  null|              null|           null|      42|      M|               1|                4209003|                Joaçaba|              42|              SC|              1|             10|        1|     null|              1|          1|             0|          0|        0|                      0|                0|                    0|                    0|                 0|          0|          0|          0|       0|             0|         0|                 0|           0|           0|             0|             0|         0|             0|             0|       0|        0|             0|        0|                0|                    0|                       0|             0|                 0|      0|            0|                  0|                 0|                    0|               0|                  0|                0|                    0|                 0|                0|         0|             0|       0|              0|                 0|               0|                   0|                       0|                     0|             0|                    null|                       null|                       null|           4309209|          Gravataí|         43|         RS|             1|             1|             1|             1|        235|        231|        242|        246|     657.4|     705.3|     591.1|     732.3|DACCBCABEDDCBABBB...|CEAEADACEADEDBDAC...|99999DAABDBDEDBDC...|DCEDAACEBBDBEBEBC...|        1|DCCDBCAAEBECBAADA...|AEAEADECEADEDBDAC...|CEDAABDACDBDEDBDC...|DAEACAAEBADDBBEBC...|                1|          160|          160|          120|          160|          160|            760|   A|   A|   A|   A|   3|   D|   A|   B|   B|   A|   A|   B|   A|   B|   A|   B|   A|   A|   B|   A|   A|   B|   B|   B|   B|   C|   A|   A|   0|   2|   2|   2|   1|   5|   5|   5|   5|   5|   5|   5|   5|   A|   A|   A|   A|   A|   E|   A|   A|   A|\n|150000003053|  2015|                3143302|          Montes Claros|              31|              MG|                          0|           0|     null|            null|            null|     null|     null|                  null|              null|           null|      21|      M|               1|                3143302|          Montes Claros|              31|              MG|              1|              5|        1|     null|              0|          3|             0|          0|        0|                      0|                0|                    0|                    0|                 0|          0|          0|          0|       0|             0|         0|                 0|           0|           0|             0|             0|         0|             0|             0|       0|        0|             0|        0|                0|                    0|                       0|             0|                 0|      0|            0|                  0|                 0|                    0|               0|                  0|                0|                    0|                 0|                0|         0|             0|       0|              0|                 0|               0|                   0|                       0|                     0|             0|                    null|                       null|                       null|           3143302|     Montes Claros|         31|         MG|             0|             0|             0|             0|       null|       null|       null|       null|      null|      null|      null|      null|                null|                null|                null|                null|        1|                null|                null|                null|                null|                4|            0|            0|            0|            0|            0|              0|   E|   E|   C|   B|   3|   B|   A|   C|   D|   A|   B|   B|   A|   A|   A|   A|   A|   A|   B|   B|   A|   D|   B|   B|   B|   C|   B|   E|   5|   5|   5|   5|   5|   5|   5|   2|   5|   0|   0|   5|   5|   B|   A|   A|   A|   A|   A|   A|   A|   A|\n+------------+------+-----------------------+-----------------------+----------------+----------------+---------------------------+------------+---------+----------------+----------------+---------+---------+----------------------+------------------+---------------+--------+-------+----------------+-----------------------+-----------------------+----------------+----------------+---------------+---------------+---------+---------+---------------+-----------+--------------+-----------+---------+-----------------------+-----------------+---------------------+---------------------+------------------+-----------+-----------+-----------+--------+--------------+----------+------------------+------------+------------+--------------+--------------+----------+--------------+--------------+--------+---------+--------------+---------+-----------------+---------------------+------------------------+--------------+------------------+-------+-------------+-------------------+------------------+---------------------+----------------+-------------------+-----------------+---------------------+------------------+-----------------+----------+--------------+--------+---------------+------------------+----------------+--------------------+------------------------+----------------------+--------------+------------------------+---------------------------+---------------------------+------------------+------------------+-----------+-----------+--------------+--------------+--------------+--------------+-----------+-----------+-----------+-----------+----------+----------+----------+----------+--------------------+--------------------+--------------------+--------------------+---------+--------------------+--------------------+--------------------+--------------------+-----------------+-------------+-------------+-------------+-------------+-------------+---------------+----+----+----+----+----+----+----+----+----+----+----+----+----+----+----+----+----+----+----+----+----+----+----+----+----+----+----+----+----+----+----+----+----+----+----+----+----+----+----+----+----+----+----+----+----+----+----+----+----+----+\nonly showing top 2 rows\n\n"
    }
   ],
   "source": [
    "# Apresentação de duas linhas do dataframe df_enem2015_completo\n",
    "\n",
    "print(f'Apresentação de duas linhas do dataframe df_enem2015_completo - {datetime.now()}.')\n",
    "\n",
    "df_enem2015_completo.show(n=2,truncate=True)"
   ]
  },
  {
   "cell_type": "code",
   "execution_count": 6,
   "metadata": {
    "tags": []
   },
   "outputs": [
    {
     "output_type": "stream",
     "name": "stdout",
     "text": "Apresentação de duas linhas do dataframe df_enem2015_completo, classificado como linhas - 2020-08-20 17:36:06.984345.\n"
    },
    {
     "output_type": "execute_result",
     "data": {
      "text/plain": "[Row(NU_INSCRICAO=150000000376, NU_ANO=2015, CO_MUNICIPIO_RESIDENCIA=4309209, NO_MUNICIPIO_RESIDENCIA='Gravataí', CO_UF_RESIDENCIA=43, SG_UF_RESIDENCIA='RS', IN_ESTUDA_CLASSE_HOSPITALAR=0, IN_TREINEIRO=0, CO_ESCOLA=None, CO_MUNICIPIO_ESC=None, NO_MUNICIPIO_ESC=None, CO_UF_ESC=None, SG_UF_ESC=None, TP_DEPENDENCIA_ADM_ESC=None, TP_LOCALIZACAO_ESC=None, TP_SIT_FUNC_ESC=None, NU_IDADE=42, TP_SEXO='M', TP_NACIONALIDADE=1, CO_MUNICIPIO_NASCIMENTO=4209003, NO_MUNICIPIO_NASCIMENTO='Joaçaba', CO_UF_NASCIMENTO=42, SG_UF_NASCIMENTO='SC', TP_ST_CONCLUSAO=1, TP_ANO_CONCLUIU=10, TP_ESCOLA=1, TP_ENSINO=None, TP_ESTADO_CIVIL=1, TP_COR_RACA=1, IN_BAIXA_VISAO=0, IN_CEGUEIRA=0, IN_SURDEZ=0, IN_DEFICIENCIA_AUDITIVA=0, IN_SURDO_CEGUEIRA=0, IN_DEFICIENCIA_FISICA=0, IN_DEFICIENCIA_MENTAL=0, IN_DEFICIT_ATENCAO=0, IN_DISLEXIA=0, IN_GESTANTE=0, IN_LACTANTE=0, IN_IDOSO=0, IN_DISCALCULIA=0, IN_AUTISMO=0, IN_VISAO_MONOCULAR=0, IN_SABATISTA=0, IN_OUTRA_DEF=0, IN_SEM_RECURSO=0, IN_NOME_SOCIAL=0, IN_BRAILLE=0, IN_AMPLIADA_24=0, IN_AMPLIADA_18=0, IN_LEDOR=0, IN_ACESSO=0, IN_TRANSCRICAO=0, IN_LIBRAS=0, IN_LEITURA_LABIAL=0, IN_MESA_CADEIRA_RODAS=0, IN_MESA_CADEIRA_SEPARADA=0, IN_APOIO_PERNA=0, IN_GUIA_INTERPRETE=0, IN_MACA=0, IN_COMPUTADOR=0, IN_CADEIRA_ESPECIAL=0, IN_CADEIRA_CANHOTO=0, IN_CADEIRA_ACOLCHOADA=0, IN_PROVA_DEITADO=0, IN_MOBILIARIO_OBESO=0, IN_LAMINA_OVERLAY=0, IN_PROTETOR_AURICULAR=0, IN_MEDIDOR_GLICOSE=0, IN_MAQUINA_BRAILE=0, IN_SOROBAN=0, IN_MARCA_PASSO=0, IN_SONDA=0, IN_MEDICAMENTOS=0, IN_SALA_INDIVIDUAL=0, IN_SALA_ESPECIAL=0, IN_SALA_ACOMPANHANTE=0, IN_MOBILIARIO_ESPECIFICO=0, IN_MATERIAL_ESPECÍFICO=0, IN_CERTIFICADO=0, NO_ENTIDADE_CERTIFICACAO=None, CO_UF_ENTIDADE_CERTIFICACAO=None, SG_UF_ENTIDADE_CERTIFICACAO=None, CO_MUNICIPIO_PROVA=4309209, NO_MUNICIPIO_PROVA='Gravataí', CO_UF_PROVA=43, SG_UF_PROVA='RS', TP_PRESENCA_CN=1, TP_PRESENCA_CH=1, TP_PRESENCA_LC=1, TP_PRESENCA_MT=1, CO_PROVA_CN=235, CO_PROVA_CH=231, CO_PROVA_LC=242, CO_PROVA_MT=246, NU_NOTA_CN=657.4, NU_NOTA_CH=705.3, NU_NOTA_LC=591.1, NU_NOTA_MT=732.3, TX_RESPOSTAS_CN='DACCBCABEDDCBABBBDCDCDEBDCECABCBEACEEDBBEBAED', TX_RESPOSTAS_CH='CEAEADACEADEDBDACBBEEEEEBADCEBCBACBBDDADCCBBD', TX_RESPOSTAS_LC='99999DAABDBDEDBDCDAC*BCDDBEEAECCAABCDCCDBBCDEBEDAB', TX_RESPOSTAS_MT='DCEDAACEBBDBEBEBCAACBEBDDACDCBEDDCCBADAADAACC', TP_LINGUA=1, TX_GABARITO_CN='DCCDBCAAEBECBAADADBDEDEEBBBCABCCEAAEEDCBDDCEA', TX_GABARITO_CH='AEAEADECEADEDBDACBBCEEECBADCEBCEACBBBDADCCABD', TX_GABARITO_LC='CEDAABDACDBDEDBDCDDCEDCDABEBAECCEABCECCBABDEEBEABB', TX_GABARITO_MT='DAEACAAEBADDBBEBCCCEBEEDCAADCBEDACCEDCABDBDEC', TP_STATUS_REDACAO=1, NU_NOTA_COMP1=160, NU_NOTA_COMP2=160, NU_NOTA_COMP3=120, NU_NOTA_COMP4=160, NU_NOTA_COMP5=160, NU_NOTA_REDACAO=760, Q001='A', Q002='A', Q003='A', Q004='A', Q005=3, Q006='D', Q007='A', Q008='B', Q009='B', Q010='A', Q011='A', Q012='B', Q013='A', Q014='B', Q015='A', Q016='B', Q017='A', Q018='A', Q019='B', Q020='A', Q021='A', Q022='B', Q023='B', Q024='B', Q025='B', Q026='C', Q027='A', Q028='A', Q029=0, Q030=2, Q031=2, Q032=2, Q033=1, Q034=5, Q035=5, Q036=5, Q037=5, Q038=5, Q039=5, Q040=5, Q041=5, Q042='A', Q043='A', Q044='A', Q045='A', Q046='A', Q047='E', Q048='A', Q049='A', Q050='A'),\n Row(NU_INSCRICAO=150000003053, NU_ANO=2015, CO_MUNICIPIO_RESIDENCIA=3143302, NO_MUNICIPIO_RESIDENCIA='Montes Claros', CO_UF_RESIDENCIA=31, SG_UF_RESIDENCIA='MG', IN_ESTUDA_CLASSE_HOSPITALAR=0, IN_TREINEIRO=0, CO_ESCOLA=None, CO_MUNICIPIO_ESC=None, NO_MUNICIPIO_ESC=None, CO_UF_ESC=None, SG_UF_ESC=None, TP_DEPENDENCIA_ADM_ESC=None, TP_LOCALIZACAO_ESC=None, TP_SIT_FUNC_ESC=None, NU_IDADE=21, TP_SEXO='M', TP_NACIONALIDADE=1, CO_MUNICIPIO_NASCIMENTO=3143302, NO_MUNICIPIO_NASCIMENTO='Montes Claros', CO_UF_NASCIMENTO=31, SG_UF_NASCIMENTO='MG', TP_ST_CONCLUSAO=1, TP_ANO_CONCLUIU=5, TP_ESCOLA=1, TP_ENSINO=None, TP_ESTADO_CIVIL=0, TP_COR_RACA=3, IN_BAIXA_VISAO=0, IN_CEGUEIRA=0, IN_SURDEZ=0, IN_DEFICIENCIA_AUDITIVA=0, IN_SURDO_CEGUEIRA=0, IN_DEFICIENCIA_FISICA=0, IN_DEFICIENCIA_MENTAL=0, IN_DEFICIT_ATENCAO=0, IN_DISLEXIA=0, IN_GESTANTE=0, IN_LACTANTE=0, IN_IDOSO=0, IN_DISCALCULIA=0, IN_AUTISMO=0, IN_VISAO_MONOCULAR=0, IN_SABATISTA=0, IN_OUTRA_DEF=0, IN_SEM_RECURSO=0, IN_NOME_SOCIAL=0, IN_BRAILLE=0, IN_AMPLIADA_24=0, IN_AMPLIADA_18=0, IN_LEDOR=0, IN_ACESSO=0, IN_TRANSCRICAO=0, IN_LIBRAS=0, IN_LEITURA_LABIAL=0, IN_MESA_CADEIRA_RODAS=0, IN_MESA_CADEIRA_SEPARADA=0, IN_APOIO_PERNA=0, IN_GUIA_INTERPRETE=0, IN_MACA=0, IN_COMPUTADOR=0, IN_CADEIRA_ESPECIAL=0, IN_CADEIRA_CANHOTO=0, IN_CADEIRA_ACOLCHOADA=0, IN_PROVA_DEITADO=0, IN_MOBILIARIO_OBESO=0, IN_LAMINA_OVERLAY=0, IN_PROTETOR_AURICULAR=0, IN_MEDIDOR_GLICOSE=0, IN_MAQUINA_BRAILE=0, IN_SOROBAN=0, IN_MARCA_PASSO=0, IN_SONDA=0, IN_MEDICAMENTOS=0, IN_SALA_INDIVIDUAL=0, IN_SALA_ESPECIAL=0, IN_SALA_ACOMPANHANTE=0, IN_MOBILIARIO_ESPECIFICO=0, IN_MATERIAL_ESPECÍFICO=0, IN_CERTIFICADO=0, NO_ENTIDADE_CERTIFICACAO=None, CO_UF_ENTIDADE_CERTIFICACAO=None, SG_UF_ENTIDADE_CERTIFICACAO=None, CO_MUNICIPIO_PROVA=3143302, NO_MUNICIPIO_PROVA='Montes Claros', CO_UF_PROVA=31, SG_UF_PROVA='MG', TP_PRESENCA_CN=0, TP_PRESENCA_CH=0, TP_PRESENCA_LC=0, TP_PRESENCA_MT=0, CO_PROVA_CN=None, CO_PROVA_CH=None, CO_PROVA_LC=None, CO_PROVA_MT=None, NU_NOTA_CN=None, NU_NOTA_CH=None, NU_NOTA_LC=None, NU_NOTA_MT=None, TX_RESPOSTAS_CN=None, TX_RESPOSTAS_CH=None, TX_RESPOSTAS_LC=None, TX_RESPOSTAS_MT=None, TP_LINGUA=1, TX_GABARITO_CN=None, TX_GABARITO_CH=None, TX_GABARITO_LC=None, TX_GABARITO_MT=None, TP_STATUS_REDACAO=4, NU_NOTA_COMP1=0, NU_NOTA_COMP2=0, NU_NOTA_COMP3=0, NU_NOTA_COMP4=0, NU_NOTA_COMP5=0, NU_NOTA_REDACAO=0, Q001='E', Q002='E', Q003='C', Q004='B', Q005=3, Q006='B', Q007='A', Q008='C', Q009='D', Q010='A', Q011='B', Q012='B', Q013='A', Q014='A', Q015='A', Q016='A', Q017='A', Q018='A', Q019='B', Q020='B', Q021='A', Q022='D', Q023='B', Q024='B', Q025='B', Q026='C', Q027='B', Q028='E', Q029=5, Q030=5, Q031=5, Q032=5, Q033=5, Q034=5, Q035=5, Q036=2, Q037=5, Q038=0, Q039=0, Q040=5, Q041=5, Q042='B', Q043='A', Q044='A', Q045='A', Q046='A', Q047='A', Q048='A', Q049='A', Q050='A')]"
     },
     "metadata": {},
     "execution_count": 6
    }
   ],
   "source": [
    "# Apresentação de duas linhas do dataframe df_enem2015_completo\n",
    "\n",
    "print(f'Apresentação de duas linhas do dataframe df_enem2015_completo, classificado como linhas - {datetime.now()}.')\n",
    "\n",
    "df_enem2015_completo.head(2)"
   ]
  },
  {
   "cell_type": "code",
   "execution_count": 7,
   "metadata": {
    "tags": []
   },
   "outputs": [
    {
     "output_type": "stream",
     "name": "stdout",
     "text": "Apresentação da estutura do dataframe df_enem2015_completo - 2020-08-20 17:36:07.168852.\nroot\n |-- NU_INSCRICAO: long (nullable = true)\n |-- NU_ANO: integer (nullable = true)\n |-- CO_MUNICIPIO_RESIDENCIA: integer (nullable = true)\n |-- NO_MUNICIPIO_RESIDENCIA: string (nullable = true)\n |-- CO_UF_RESIDENCIA: integer (nullable = true)\n |-- SG_UF_RESIDENCIA: string (nullable = true)\n |-- IN_ESTUDA_CLASSE_HOSPITALAR: integer (nullable = true)\n |-- IN_TREINEIRO: integer (nullable = true)\n |-- CO_ESCOLA: integer (nullable = true)\n |-- CO_MUNICIPIO_ESC: integer (nullable = true)\n |-- NO_MUNICIPIO_ESC: string (nullable = true)\n |-- CO_UF_ESC: integer (nullable = true)\n |-- SG_UF_ESC: string (nullable = true)\n |-- TP_DEPENDENCIA_ADM_ESC: integer (nullable = true)\n |-- TP_LOCALIZACAO_ESC: integer (nullable = true)\n |-- TP_SIT_FUNC_ESC: integer (nullable = true)\n |-- NU_IDADE: integer (nullable = true)\n |-- TP_SEXO: string (nullable = true)\n |-- TP_NACIONALIDADE: integer (nullable = true)\n |-- CO_MUNICIPIO_NASCIMENTO: integer (nullable = true)\n |-- NO_MUNICIPIO_NASCIMENTO: string (nullable = true)\n |-- CO_UF_NASCIMENTO: integer (nullable = true)\n |-- SG_UF_NASCIMENTO: string (nullable = true)\n |-- TP_ST_CONCLUSAO: integer (nullable = true)\n |-- TP_ANO_CONCLUIU: integer (nullable = true)\n |-- TP_ESCOLA: integer (nullable = true)\n |-- TP_ENSINO: integer (nullable = true)\n |-- TP_ESTADO_CIVIL: integer (nullable = true)\n |-- TP_COR_RACA: integer (nullable = true)\n |-- IN_BAIXA_VISAO: integer (nullable = true)\n |-- IN_CEGUEIRA: integer (nullable = true)\n |-- IN_SURDEZ: integer (nullable = true)\n |-- IN_DEFICIENCIA_AUDITIVA: integer (nullable = true)\n |-- IN_SURDO_CEGUEIRA: integer (nullable = true)\n |-- IN_DEFICIENCIA_FISICA: integer (nullable = true)\n |-- IN_DEFICIENCIA_MENTAL: integer (nullable = true)\n |-- IN_DEFICIT_ATENCAO: integer (nullable = true)\n |-- IN_DISLEXIA: integer (nullable = true)\n |-- IN_GESTANTE: integer (nullable = true)\n |-- IN_LACTANTE: integer (nullable = true)\n |-- IN_IDOSO: integer (nullable = true)\n |-- IN_DISCALCULIA: integer (nullable = true)\n |-- IN_AUTISMO: integer (nullable = true)\n |-- IN_VISAO_MONOCULAR: integer (nullable = true)\n |-- IN_SABATISTA: integer (nullable = true)\n |-- IN_OUTRA_DEF: integer (nullable = true)\n |-- IN_SEM_RECURSO: integer (nullable = true)\n |-- IN_NOME_SOCIAL: integer (nullable = true)\n |-- IN_BRAILLE: integer (nullable = true)\n |-- IN_AMPLIADA_24: integer (nullable = true)\n |-- IN_AMPLIADA_18: integer (nullable = true)\n |-- IN_LEDOR: integer (nullable = true)\n |-- IN_ACESSO: integer (nullable = true)\n |-- IN_TRANSCRICAO: integer (nullable = true)\n |-- IN_LIBRAS: integer (nullable = true)\n |-- IN_LEITURA_LABIAL: integer (nullable = true)\n |-- IN_MESA_CADEIRA_RODAS: integer (nullable = true)\n |-- IN_MESA_CADEIRA_SEPARADA: integer (nullable = true)\n |-- IN_APOIO_PERNA: integer (nullable = true)\n |-- IN_GUIA_INTERPRETE: integer (nullable = true)\n |-- IN_MACA: integer (nullable = true)\n |-- IN_COMPUTADOR: integer (nullable = true)\n |-- IN_CADEIRA_ESPECIAL: integer (nullable = true)\n |-- IN_CADEIRA_CANHOTO: integer (nullable = true)\n |-- IN_CADEIRA_ACOLCHOADA: integer (nullable = true)\n |-- IN_PROVA_DEITADO: integer (nullable = true)\n |-- IN_MOBILIARIO_OBESO: integer (nullable = true)\n |-- IN_LAMINA_OVERLAY: integer (nullable = true)\n |-- IN_PROTETOR_AURICULAR: integer (nullable = true)\n |-- IN_MEDIDOR_GLICOSE: integer (nullable = true)\n |-- IN_MAQUINA_BRAILE: integer (nullable = true)\n |-- IN_SOROBAN: integer (nullable = true)\n |-- IN_MARCA_PASSO: integer (nullable = true)\n |-- IN_SONDA: integer (nullable = true)\n |-- IN_MEDICAMENTOS: integer (nullable = true)\n |-- IN_SALA_INDIVIDUAL: integer (nullable = true)\n |-- IN_SALA_ESPECIAL: integer (nullable = true)\n |-- IN_SALA_ACOMPANHANTE: integer (nullable = true)\n |-- IN_MOBILIARIO_ESPECIFICO: integer (nullable = true)\n |-- IN_MATERIAL_ESPECÍFICO: integer (nullable = true)\n |-- IN_CERTIFICADO: integer (nullable = true)\n |-- NO_ENTIDADE_CERTIFICACAO: string (nullable = true)\n |-- CO_UF_ENTIDADE_CERTIFICACAO: integer (nullable = true)\n |-- SG_UF_ENTIDADE_CERTIFICACAO: string (nullable = true)\n |-- CO_MUNICIPIO_PROVA: integer (nullable = true)\n |-- NO_MUNICIPIO_PROVA: string (nullable = true)\n |-- CO_UF_PROVA: integer (nullable = true)\n |-- SG_UF_PROVA: string (nullable = true)\n |-- TP_PRESENCA_CN: integer (nullable = true)\n |-- TP_PRESENCA_CH: integer (nullable = true)\n |-- TP_PRESENCA_LC: integer (nullable = true)\n |-- TP_PRESENCA_MT: integer (nullable = true)\n |-- CO_PROVA_CN: integer (nullable = true)\n |-- CO_PROVA_CH: integer (nullable = true)\n |-- CO_PROVA_LC: integer (nullable = true)\n |-- CO_PROVA_MT: integer (nullable = true)\n |-- NU_NOTA_CN: double (nullable = true)\n |-- NU_NOTA_CH: double (nullable = true)\n |-- NU_NOTA_LC: double (nullable = true)\n |-- NU_NOTA_MT: double (nullable = true)\n |-- TX_RESPOSTAS_CN: string (nullable = true)\n |-- TX_RESPOSTAS_CH: string (nullable = true)\n |-- TX_RESPOSTAS_LC: string (nullable = true)\n |-- TX_RESPOSTAS_MT: string (nullable = true)\n |-- TP_LINGUA: integer (nullable = true)\n |-- TX_GABARITO_CN: string (nullable = true)\n |-- TX_GABARITO_CH: string (nullable = true)\n |-- TX_GABARITO_LC: string (nullable = true)\n |-- TX_GABARITO_MT: string (nullable = true)\n |-- TP_STATUS_REDACAO: integer (nullable = true)\n |-- NU_NOTA_COMP1: integer (nullable = true)\n |-- NU_NOTA_COMP2: integer (nullable = true)\n |-- NU_NOTA_COMP3: integer (nullable = true)\n |-- NU_NOTA_COMP4: integer (nullable = true)\n |-- NU_NOTA_COMP5: integer (nullable = true)\n |-- NU_NOTA_REDACAO: integer (nullable = true)\n |-- Q001: string (nullable = true)\n |-- Q002: string (nullable = true)\n |-- Q003: string (nullable = true)\n |-- Q004: string (nullable = true)\n |-- Q005: integer (nullable = true)\n |-- Q006: string (nullable = true)\n |-- Q007: string (nullable = true)\n |-- Q008: string (nullable = true)\n |-- Q009: string (nullable = true)\n |-- Q010: string (nullable = true)\n |-- Q011: string (nullable = true)\n |-- Q012: string (nullable = true)\n |-- Q013: string (nullable = true)\n |-- Q014: string (nullable = true)\n |-- Q015: string (nullable = true)\n |-- Q016: string (nullable = true)\n |-- Q017: string (nullable = true)\n |-- Q018: string (nullable = true)\n |-- Q019: string (nullable = true)\n |-- Q020: string (nullable = true)\n |-- Q021: string (nullable = true)\n |-- Q022: string (nullable = true)\n |-- Q023: string (nullable = true)\n |-- Q024: string (nullable = true)\n |-- Q025: string (nullable = true)\n |-- Q026: string (nullable = true)\n |-- Q027: string (nullable = true)\n |-- Q028: string (nullable = true)\n |-- Q029: integer (nullable = true)\n |-- Q030: integer (nullable = true)\n |-- Q031: integer (nullable = true)\n |-- Q032: integer (nullable = true)\n |-- Q033: integer (nullable = true)\n |-- Q034: integer (nullable = true)\n |-- Q035: integer (nullable = true)\n |-- Q036: integer (nullable = true)\n |-- Q037: integer (nullable = true)\n |-- Q038: integer (nullable = true)\n |-- Q039: integer (nullable = true)\n |-- Q040: integer (nullable = true)\n |-- Q041: integer (nullable = true)\n |-- Q042: string (nullable = true)\n |-- Q043: string (nullable = true)\n |-- Q044: string (nullable = true)\n |-- Q045: string (nullable = true)\n |-- Q046: string (nullable = true)\n |-- Q047: string (nullable = true)\n |-- Q048: string (nullable = true)\n |-- Q049: string (nullable = true)\n |-- Q050: string (nullable = true)\n\n"
    }
   ],
   "source": [
    "# Apresentação da estutura do dataframe df_enem2015_completo\n",
    "\n",
    "print(f'Apresentação da estutura do dataframe df_enem2015_completo - {datetime.now()}.')\n",
    "\n",
    "df_enem2015_completo.printSchema()"
   ]
  },
  {
   "cell_type": "code",
   "execution_count": 8,
   "metadata": {
    "tags": []
   },
   "outputs": [
    {
     "output_type": "stream",
     "name": "stdout",
     "text": "Apresentação das colunas do dataframe df_enem2015_completo - 2020-08-20 17:36:07.205757.\n"
    },
    {
     "output_type": "execute_result",
     "data": {
      "text/plain": "['NU_INSCRICAO',\n 'NU_ANO',\n 'CO_MUNICIPIO_RESIDENCIA',\n 'NO_MUNICIPIO_RESIDENCIA',\n 'CO_UF_RESIDENCIA',\n 'SG_UF_RESIDENCIA',\n 'IN_ESTUDA_CLASSE_HOSPITALAR',\n 'IN_TREINEIRO',\n 'CO_ESCOLA',\n 'CO_MUNICIPIO_ESC',\n 'NO_MUNICIPIO_ESC',\n 'CO_UF_ESC',\n 'SG_UF_ESC',\n 'TP_DEPENDENCIA_ADM_ESC',\n 'TP_LOCALIZACAO_ESC',\n 'TP_SIT_FUNC_ESC',\n 'NU_IDADE',\n 'TP_SEXO',\n 'TP_NACIONALIDADE',\n 'CO_MUNICIPIO_NASCIMENTO',\n 'NO_MUNICIPIO_NASCIMENTO',\n 'CO_UF_NASCIMENTO',\n 'SG_UF_NASCIMENTO',\n 'TP_ST_CONCLUSAO',\n 'TP_ANO_CONCLUIU',\n 'TP_ESCOLA',\n 'TP_ENSINO',\n 'TP_ESTADO_CIVIL',\n 'TP_COR_RACA',\n 'IN_BAIXA_VISAO',\n 'IN_CEGUEIRA',\n 'IN_SURDEZ',\n 'IN_DEFICIENCIA_AUDITIVA',\n 'IN_SURDO_CEGUEIRA',\n 'IN_DEFICIENCIA_FISICA',\n 'IN_DEFICIENCIA_MENTAL',\n 'IN_DEFICIT_ATENCAO',\n 'IN_DISLEXIA',\n 'IN_GESTANTE',\n 'IN_LACTANTE',\n 'IN_IDOSO',\n 'IN_DISCALCULIA',\n 'IN_AUTISMO',\n 'IN_VISAO_MONOCULAR',\n 'IN_SABATISTA',\n 'IN_OUTRA_DEF',\n 'IN_SEM_RECURSO',\n 'IN_NOME_SOCIAL',\n 'IN_BRAILLE',\n 'IN_AMPLIADA_24',\n 'IN_AMPLIADA_18',\n 'IN_LEDOR',\n 'IN_ACESSO',\n 'IN_TRANSCRICAO',\n 'IN_LIBRAS',\n 'IN_LEITURA_LABIAL',\n 'IN_MESA_CADEIRA_RODAS',\n 'IN_MESA_CADEIRA_SEPARADA',\n 'IN_APOIO_PERNA',\n 'IN_GUIA_INTERPRETE',\n 'IN_MACA',\n 'IN_COMPUTADOR',\n 'IN_CADEIRA_ESPECIAL',\n 'IN_CADEIRA_CANHOTO',\n 'IN_CADEIRA_ACOLCHOADA',\n 'IN_PROVA_DEITADO',\n 'IN_MOBILIARIO_OBESO',\n 'IN_LAMINA_OVERLAY',\n 'IN_PROTETOR_AURICULAR',\n 'IN_MEDIDOR_GLICOSE',\n 'IN_MAQUINA_BRAILE',\n 'IN_SOROBAN',\n 'IN_MARCA_PASSO',\n 'IN_SONDA',\n 'IN_MEDICAMENTOS',\n 'IN_SALA_INDIVIDUAL',\n 'IN_SALA_ESPECIAL',\n 'IN_SALA_ACOMPANHANTE',\n 'IN_MOBILIARIO_ESPECIFICO',\n 'IN_MATERIAL_ESPECÍFICO',\n 'IN_CERTIFICADO',\n 'NO_ENTIDADE_CERTIFICACAO',\n 'CO_UF_ENTIDADE_CERTIFICACAO',\n 'SG_UF_ENTIDADE_CERTIFICACAO',\n 'CO_MUNICIPIO_PROVA',\n 'NO_MUNICIPIO_PROVA',\n 'CO_UF_PROVA',\n 'SG_UF_PROVA',\n 'TP_PRESENCA_CN',\n 'TP_PRESENCA_CH',\n 'TP_PRESENCA_LC',\n 'TP_PRESENCA_MT',\n 'CO_PROVA_CN',\n 'CO_PROVA_CH',\n 'CO_PROVA_LC',\n 'CO_PROVA_MT',\n 'NU_NOTA_CN',\n 'NU_NOTA_CH',\n 'NU_NOTA_LC',\n 'NU_NOTA_MT',\n 'TX_RESPOSTAS_CN',\n 'TX_RESPOSTAS_CH',\n 'TX_RESPOSTAS_LC',\n 'TX_RESPOSTAS_MT',\n 'TP_LINGUA',\n 'TX_GABARITO_CN',\n 'TX_GABARITO_CH',\n 'TX_GABARITO_LC',\n 'TX_GABARITO_MT',\n 'TP_STATUS_REDACAO',\n 'NU_NOTA_COMP1',\n 'NU_NOTA_COMP2',\n 'NU_NOTA_COMP3',\n 'NU_NOTA_COMP4',\n 'NU_NOTA_COMP5',\n 'NU_NOTA_REDACAO',\n 'Q001',\n 'Q002',\n 'Q003',\n 'Q004',\n 'Q005',\n 'Q006',\n 'Q007',\n 'Q008',\n 'Q009',\n 'Q010',\n 'Q011',\n 'Q012',\n 'Q013',\n 'Q014',\n 'Q015',\n 'Q016',\n 'Q017',\n 'Q018',\n 'Q019',\n 'Q020',\n 'Q021',\n 'Q022',\n 'Q023',\n 'Q024',\n 'Q025',\n 'Q026',\n 'Q027',\n 'Q028',\n 'Q029',\n 'Q030',\n 'Q031',\n 'Q032',\n 'Q033',\n 'Q034',\n 'Q035',\n 'Q036',\n 'Q037',\n 'Q038',\n 'Q039',\n 'Q040',\n 'Q041',\n 'Q042',\n 'Q043',\n 'Q044',\n 'Q045',\n 'Q046',\n 'Q047',\n 'Q048',\n 'Q049',\n 'Q050']"
     },
     "metadata": {},
     "execution_count": 8
    }
   ],
   "source": [
    "# Apresentação das colunas do dataframe df_enem2015_completo\n",
    "\n",
    "print(f'Apresentação das colunas do dataframe df_enem2015_completo - {datetime.now()}.')\n",
    "\n",
    "df_enem2015_completo.columns[:]"
   ]
  },
  {
   "cell_type": "code",
   "execution_count": 9,
   "metadata": {
    "tags": []
   },
   "outputs": [
    {
     "output_type": "stream",
     "name": "stdout",
     "text": "Descrição DataFrame df_enem2015_completo\n\nDescrição Idade\n+-------+------------------+\n|summary|          NU_IDADE|\n+-------+------------------+\n|  count|           7746352|\n|   mean|23.004694338702915|\n| stddev| 7.944599707765686|\n|    min|                10|\n|    max|                98|\n+-------+------------------+\n\n2020-08-20 17:36:30.357805.\n\nDescrição Nota da prova de Ciências da Natureza\n+-------+-----------------+\n|summary|       NU_NOTA_CN|\n+-------+-----------------+\n|  count|          5755091|\n|   mean|478.9239503771539|\n| stddev|71.56005864237716|\n|    min|              0.0|\n|    max|            875.2|\n+-------+-----------------+\n\n2020-08-20 17:36:54.675046.\n\nDescrição Nota da prova de Ciências Humanas\n+-------+-----------------+\n|summary|       NU_NOTA_CH|\n+-------+-----------------+\n|  count|          5755091|\n|   mean|558.4878240152929|\n| stddev|70.96839011437301|\n|    min|              0.0|\n|    max|            850.6|\n+-------+-----------------+\n\n2020-08-20 17:37:17.277231.\n\nDescrição Nota da prova de Linguagens e Códigos\n+-------+------------------+\n|summary|        NU_NOTA_LC|\n+-------+------------------+\n|  count|           5625540|\n|   mean|505.45478531838677|\n| stddev| 72.68930504276108|\n|    min|               0.0|\n|    max|             825.8|\n+-------+------------------+\n\n2020-08-20 17:37:40.950824.\n\nDescrição Nota da prova de Matemática\n+-------+------------------+\n|summary|        NU_NOTA_MT|\n+-------+------------------+\n|  count|           5625540|\n|   mean|467.93117604709937|\n| stddev|107.36792743837316|\n|    min|               0.0|\n|    max|            1008.3|\n+-------+------------------+\n\n2020-08-20 17:38:05.955734.\n\nDescrição Nota da prova de redação\n+-------+------------------+\n|summary|   NU_NOTA_REDACAO|\n+-------+------------------+\n|  count|           7744736|\n|   mean|388.40985670783357|\n| stddev| 267.5071259318306|\n|    min|                 0|\n|    max|              1000|\n+-------+------------------+\n\n2020-08-20 17:38:32.690698.\n"
    }
   ],
   "source": [
    "# Descrição Dataframe df_enem2015_completo.\n",
    "\n",
    "print('Descrição DataFrame df_enem2015_completo')\n",
    "print('')\n",
    "\n",
    "print('Descrição Idade')\n",
    "df_enem2015_completo.describe('NU_IDADE').show()\n",
    "print(f'{datetime.now()}.')\n",
    "print('')\n",
    "\n",
    "print('Descrição Nota da prova de Ciências da Natureza')\n",
    "df_enem2015_completo.describe('NU_NOTA_CN').show()\n",
    "print(f'{datetime.now()}.')\n",
    "print('')\n",
    "\n",
    "print('Descrição Nota da prova de Ciências Humanas')\n",
    "df_enem2015_completo.describe('NU_NOTA_CH').show()\n",
    "print(f'{datetime.now()}.')\n",
    "print('')\n",
    "\n",
    "print('Descrição Nota da prova de Linguagens e Códigos')\n",
    "df_enem2015_completo.describe('NU_NOTA_LC').show()\n",
    "print(f'{datetime.now()}.')\n",
    "print('')\n",
    "\n",
    "print('Descrição Nota da prova de Matemática')\n",
    "df_enem2015_completo.describe('NU_NOTA_MT').show()\n",
    "print(f'{datetime.now()}.')\n",
    "print('')\n",
    "\n",
    "print('Descrição Nota da prova de redação')\n",
    "df_enem2015_completo.describe('NU_NOTA_REDACAO').show()\n",
    "print(f'{datetime.now()}.')"
   ]
  },
  {
   "cell_type": "code",
   "execution_count": 10,
   "metadata": {
    "tags": []
   },
   "outputs": [
    {
     "output_type": "stream",
     "name": "stdout",
     "text": "Descrição DataFrame df_enem2016_completo\n\nDescrição Idade\n+-------+-----------------+\n|summary|         NU_IDADE|\n+-------+-----------------+\n|  count|          8627265|\n|   mean| 23.0310825041308|\n| stddev|7.973406085745136|\n|    min|               10|\n|    max|               95|\n+-------+-----------------+\n\n2020-08-20 17:38:59.133703.\n\nDescrição Nota da prova de Ciências da Natureza\n+-------+-----------------+\n|summary|       NU_NOTA_CN|\n+-------+-----------------+\n|  count|          5999126|\n|   mean|477.6773009101653|\n| stddev|72.71845884040538|\n|    min|              0.0|\n|    max|            871.3|\n+-------+-----------------+\n\n2020-08-20 17:39:25.766280.\n\nDescrição Nota da prova de Ciências Humanas\n+-------+-----------------+\n|summary|       NU_NOTA_CH|\n+-------+-----------------+\n|  count|          5999126|\n|   mean|534.4409175603251|\n| stddev| 74.4988507782099|\n|    min|              0.0|\n|    max|            859.1|\n+-------+-----------------+\n\n2020-08-20 17:39:51.900888.\n\nDescrição Nota da prova de Linguagens e Códigos\n+-------+-----------------+\n|summary|       NU_NOTA_LC|\n+-------+-----------------+\n|  count|          5844971|\n|   mean|520.9074943742231|\n| stddev|68.79658007787643|\n|    min|              0.0|\n|    max|            802.6|\n+-------+-----------------+\n\n2020-08-20 17:40:16.832767.\n\nDescrição Nota da prova de Matemática\n+-------+------------------+\n|summary|        NU_NOTA_MT|\n+-------+------------------+\n|  count|           5844971|\n|   mean|490.08540213458764|\n| stddev|103.23464319126394|\n|    min|               0.0|\n|    max|             991.5|\n+-------+------------------+\n\n2020-08-20 17:40:44.205952.\n\nDescrição Nota da prova de redação\n+-------+-----------------+\n|summary|  NU_NOTA_REDACAO|\n+-------+-----------------+\n|  count|          5844971|\n|   mean|529.9665149750101|\n| stddev|154.0034330186631|\n|    min|                0|\n|    max|             1000|\n+-------+-----------------+\n\n2020-08-20 17:41:10.362014.\n"
    }
   ],
   "source": [
    "# Descrição Dataframe df_enem2016_completo.\n",
    "\n",
    "print('Descrição DataFrame df_enem2016_completo')\n",
    "print('')\n",
    "\n",
    "print('Descrição Idade')\n",
    "df_enem2016_completo.describe('NU_IDADE').show()\n",
    "print(f'{datetime.now()}.')\n",
    "print('')\n",
    "\n",
    "print('Descrição Nota da prova de Ciências da Natureza')\n",
    "df_enem2016_completo.describe('NU_NOTA_CN').show()\n",
    "print(f'{datetime.now()}.')\n",
    "print('')\n",
    "\n",
    "print('Descrição Nota da prova de Ciências Humanas')\n",
    "df_enem2016_completo.describe('NU_NOTA_CH').show()\n",
    "print(f'{datetime.now()}.')\n",
    "print('')\n",
    "\n",
    "print('Descrição Nota da prova de Linguagens e Códigos')\n",
    "df_enem2016_completo.describe('NU_NOTA_LC').show()\n",
    "print(f'{datetime.now()}.')\n",
    "print('')\n",
    "\n",
    "print('Descrição Nota da prova de Matemática')\n",
    "df_enem2016_completo.describe('NU_NOTA_MT').show()\n",
    "print(f'{datetime.now()}.')\n",
    "print('')\n",
    "\n",
    "print('Descrição Nota da prova de redação')\n",
    "df_enem2016_completo.describe('NU_NOTA_REDACAO').show()\n",
    "print(f'{datetime.now()}.')"
   ]
  },
  {
   "cell_type": "code",
   "execution_count": 11,
   "metadata": {
    "tags": []
   },
   "outputs": [
    {
     "output_type": "stream",
     "name": "stdout",
     "text": "Descrição DataFrame df_enem2017_completo\n\nDescrição Idade\n+-------+-----------------+\n|summary|         NU_IDADE|\n+-------+-----------------+\n|  count|          6731240|\n|   mean|22.95379261473369|\n| stddev|7.728937918555041|\n|    min|               10|\n|    max|               90|\n+-------+-----------------+\n\n2020-08-20 17:41:28.966066.\n\nDescrição Nota da prova de Ciências da Natureza\n+-------+-----------------+\n|summary|       NU_NOTA_CN|\n+-------+-----------------+\n|  count|          4437560|\n|   mean|510.8619317147265|\n| stddev|72.12733741911008|\n|    min|              0.0|\n|    max|            885.6|\n+-------+-----------------+\n\n2020-08-20 17:41:42.801919.\n\nDescrição Nota da prova de Ciências Humanas\n+-------+-----------------+\n|summary|       NU_NOTA_CH|\n+-------+-----------------+\n|  count|          4701428|\n|   mean|518.8259502219317|\n| stddev|83.41395391030184|\n|    min|              0.0|\n|    max|            868.3|\n+-------+-----------------+\n\n2020-08-20 17:41:57.143544.\n\nDescrição Nota da prova de Linguagens e Códigos\n+-------+-----------------+\n|summary|       NU_NOTA_LC|\n+-------+-----------------+\n|  count|          4701428|\n|   mean|510.2055666703836|\n| stddev|66.90544936176694|\n|    min|              0.0|\n|    max|            788.8|\n+-------+-----------------+\n\n2020-08-20 17:42:10.474807.\n\nDescrição Nota da prova de Matemática\n+-------+------------------+\n|summary|        NU_NOTA_MT|\n+-------+------------------+\n|  count|           4437560|\n|   mean| 518.7596521511824|\n| stddev|105.00474143091222|\n|    min|               0.0|\n|    max|             993.9|\n+-------+------------------+\n\n2020-08-20 17:42:24.259096.\n\nDescrição Nota da prova de redação\n+-------+------------------+\n|summary|   NU_NOTA_REDACAO|\n+-------+------------------+\n|  count|           4701428|\n|   mean| 522.5579206998384|\n| stddev|185.92055660075908|\n|    min|                 0|\n|    max|              1000|\n+-------+------------------+\n\n2020-08-20 17:42:37.820278.\n"
    }
   ],
   "source": [
    "# Descrição Dataframe df_enem2017_completo.\n",
    "\n",
    "print('Descrição DataFrame df_enem2017_completo')\n",
    "print('')\n",
    "\n",
    "print('Descrição Idade')\n",
    "df_enem2017_completo.describe('NU_IDADE').show()\n",
    "print(f'{datetime.now()}.')\n",
    "print('')\n",
    "\n",
    "print('Descrição Nota da prova de Ciências da Natureza')\n",
    "df_enem2017_completo.describe('NU_NOTA_CN').show()\n",
    "print(f'{datetime.now()}.')\n",
    "print('')\n",
    "\n",
    "print('Descrição Nota da prova de Ciências Humanas')\n",
    "df_enem2017_completo.describe('NU_NOTA_CH').show()\n",
    "print(f'{datetime.now()}.')\n",
    "print('')\n",
    "\n",
    "print('Descrição Nota da prova de Linguagens e Códigos')\n",
    "df_enem2017_completo.describe('NU_NOTA_LC').show()\n",
    "print(f'{datetime.now()}.')\n",
    "print('')\n",
    "\n",
    "print('Descrição Nota da prova de Matemática')\n",
    "df_enem2017_completo.describe('NU_NOTA_MT').show()\n",
    "print(f'{datetime.now()}.')\n",
    "print('')\n",
    "\n",
    "print('Descrição Nota da prova de redação')\n",
    "df_enem2017_completo.describe('NU_NOTA_REDACAO').show()\n",
    "print(f'{datetime.now()}.')"
   ]
  },
  {
   "cell_type": "code",
   "execution_count": 12,
   "metadata": {
    "tags": []
   },
   "outputs": [
    {
     "output_type": "stream",
     "name": "stdout",
     "text": "Descrição DataFrame df_enem2018_completo\n\nDescrição Idade\n+-------+------------------+\n|summary|          NU_IDADE|\n+-------+------------------+\n|  count|           5513650|\n|   mean|22.372219854361447|\n| stddev| 7.594597160609549|\n|    min|                10|\n|    max|                98|\n+-------+------------------+\n\n2020-08-20 17:42:53.340435.\n\nDescrição Nota da prova de Ciências da Natureza\n+-------+-----------------+\n|summary|       NU_NOTA_CN|\n+-------+-----------------+\n|  count|          3905099|\n|   mean|493.6832652129926|\n| stddev|  74.165826188305|\n|    min|              0.0|\n|    max|            869.6|\n+-------+-----------------+\n\n2020-08-20 17:43:05.529274.\n\nDescrição Nota da prova de Ciências Humanas\n+-------+-----------------+\n|summary|       NU_NOTA_CH|\n+-------+-----------------+\n|  count|          4148264|\n|   mean|568.0977346186262|\n| stddev|81.41996050791391|\n|    min|              0.0|\n|    max|            850.4|\n+-------+-----------------+\n\n2020-08-20 17:43:17.604191.\n\nDescrição Nota da prova de Linguagens e Códigos\n+-------+-----------------+\n|summary|       NU_NOTA_LC|\n+-------+-----------------+\n|  count|          4148264|\n|   mean|526.4537585119939|\n| stddev|73.49787440921446|\n|    min|              0.0|\n|    max|            816.9|\n+-------+-----------------+\n\n2020-08-20 17:43:29.575804.\n\nDescrição Nota da prova de Matemática\n+-------+------------------+\n|summary|        NU_NOTA_MT|\n+-------+------------------+\n|  count|           3905099|\n|   mean| 535.4055659280325|\n| stddev|103.15124301720219|\n|    min|               0.0|\n|    max|             996.1|\n+-------+------------------+\n\n2020-08-20 17:43:41.384735.\n\nDescrição Nota da prova de redação\n+-------+------------------+\n|summary|   NU_NOTA_REDACAO|\n+-------+------------------+\n|  count|           4148264|\n|   mean|508.68055167173543|\n| stddev| 187.4964873716687|\n|    min|                 0|\n|    max|              1000|\n+-------+------------------+\n\n2020-08-20 17:43:52.814882.\n"
    }
   ],
   "source": [
    "# Descrição Dataframe df_enem2018_completo.\n",
    "\n",
    "print('Descrição DataFrame df_enem2018_completo')\n",
    "print('')\n",
    "\n",
    "print('Descrição Idade')\n",
    "df_enem2018_completo.describe('NU_IDADE').show()\n",
    "print(f'{datetime.now()}.')\n",
    "print('')\n",
    "\n",
    "print('Descrição Nota da prova de Ciências da Natureza')\n",
    "df_enem2018_completo.describe('NU_NOTA_CN').show()\n",
    "print(f'{datetime.now()}.')\n",
    "print('')\n",
    "\n",
    "print('Descrição Nota da prova de Ciências Humanas')\n",
    "df_enem2018_completo.describe('NU_NOTA_CH').show()\n",
    "print(f'{datetime.now()}.')\n",
    "print('')\n",
    "\n",
    "print('Descrição Nota da prova de Linguagens e Códigos')\n",
    "df_enem2018_completo.describe('NU_NOTA_LC').show()\n",
    "print(f'{datetime.now()}.')\n",
    "print('')\n",
    "\n",
    "print('Descrição Nota da prova de Matemática')\n",
    "df_enem2018_completo.describe('NU_NOTA_MT').show()\n",
    "print(f'{datetime.now()}.')\n",
    "print('')\n",
    "\n",
    "print('Descrição Nota da prova de redação')\n",
    "df_enem2018_completo.describe('NU_NOTA_REDACAO').show()\n",
    "print(f'{datetime.now()}.')"
   ]
  },
  {
   "cell_type": "code",
   "execution_count": 13,
   "metadata": {
    "tags": []
   },
   "outputs": [
    {
     "output_type": "stream",
     "name": "stdout",
     "text": "Descrição DataFrame df_enem2019_completo\n\nDescrição Idade\n+-------+-----------------+\n|summary|         NU_IDADE|\n+-------+-----------------+\n|  count|          5095270|\n|   mean|22.08743069552742|\n| stddev|7.454970482110064|\n|    min|                1|\n|    max|               94|\n+-------+-----------------+\n\n2020-08-20 17:44:06.464697.\n\nDescrição Nota da prova de Ciências da Natureza\n+-------+------------------+\n|summary|        NU_NOTA_CN|\n+-------+------------------+\n|  count|           3710433|\n|   mean|477.82408735045146|\n| stddev| 76.09774469638398|\n|    min|               0.0|\n|    max|             860.9|\n+-------+------------------+\n\n2020-08-20 17:44:16.745594.\n\nDescrição Nota da prova de Ciências Humanas\n+-------+-----------------+\n|summary|       NU_NOTA_CH|\n+-------+-----------------+\n|  count|          3923145|\n|   mean|507.2486632280978|\n| stddev| 82.4116343330404|\n|    min|              0.0|\n|    max|            835.1|\n+-------+-----------------+\n\n2020-08-20 17:44:27.191180.\n\nDescrição Nota da prova de Linguagens e Códigos\n+-------+-----------------+\n|summary|       NU_NOTA_LC|\n+-------+-----------------+\n|  count|          3923145|\n|   mean|520.5176577210385|\n| stddev|64.15065496536891|\n|    min|              0.0|\n|    max|            801.7|\n+-------+-----------------+\n\n2020-08-20 17:44:37.449953.\n\nDescrição Nota da prova de Matemática\n+-------+------------------+\n|summary|        NU_NOTA_MT|\n+-------+------------------+\n|  count|           3710433|\n|   mean| 523.1241219825291|\n| stddev|109.06368552884479|\n|    min|               0.0|\n|    max|             985.5|\n+-------+------------------+\n\n2020-08-20 17:44:47.830959.\n\nDescrição Nota da prova de redação\n+-------+------------------+\n|summary|   NU_NOTA_REDACAO|\n+-------+------------------+\n|  count|           3923144|\n|   mean| 571.1883479168748|\n| stddev|188.76327214930322|\n|    min|                 0|\n|    max|              1000|\n+-------+------------------+\n\n2020-08-20 17:44:57.953416.\n"
    }
   ],
   "source": [
    "# Descrição Dataframe df_enem2019_completo.\n",
    "\n",
    "print('Descrição DataFrame df_enem2019_completo')\n",
    "print('')\n",
    "\n",
    "print('Descrição Idade')\n",
    "df_enem2019_completo.describe('NU_IDADE').show()\n",
    "print(f'{datetime.now()}.')\n",
    "print('')\n",
    "\n",
    "print('Descrição Nota da prova de Ciências da Natureza')\n",
    "df_enem2019_completo.describe('NU_NOTA_CN').show()\n",
    "print(f'{datetime.now()}.')\n",
    "print('')\n",
    "\n",
    "print('Descrição Nota da prova de Ciências Humanas')\n",
    "df_enem2019_completo.describe('NU_NOTA_CH').show()\n",
    "print(f'{datetime.now()}.')\n",
    "print('')\n",
    "\n",
    "print('Descrição Nota da prova de Linguagens e Códigos')\n",
    "df_enem2019_completo.describe('NU_NOTA_LC').show()\n",
    "print(f'{datetime.now()}.')\n",
    "print('')\n",
    "\n",
    "print('Descrição Nota da prova de Matemática')\n",
    "df_enem2019_completo.describe('NU_NOTA_MT').show()\n",
    "print(f'{datetime.now()}.')\n",
    "print('')\n",
    "\n",
    "print('Descrição Nota da prova de redação')\n",
    "df_enem2019_completo.describe('NU_NOTA_REDACAO').show()\n",
    "print(f'{datetime.now()}.')"
   ]
  },
  {
   "cell_type": "code",
   "execution_count": 14,
   "metadata": {
    "tags": []
   },
   "outputs": [
    {
     "output_type": "stream",
     "name": "stdout",
     "text": "Criação da variável columns e seleção das colunas para realização das analises exploratórias - 2020-08-20 17:44:57.979346.\n"
    }
   ],
   "source": [
    "# Criação e seleção das colunas para realização das analises exploratórias\n",
    "\n",
    "print(f'Criação da variável columns e seleção das colunas para realização das analises exploratórias - {datetime.now()}.')\n",
    "\n",
    "columns = [\n",
    "'NU_INSCRICAO', \n",
    "'NU_ANO', \n",
    "'NO_MUNICIPIO_RESIDENCIA', \n",
    "'CO_UF_RESIDENCIA', \n",
    "'SG_UF_RESIDENCIA',\n",
    "'NU_IDADE', \n",
    "'TP_SEXO', \n",
    "'TP_ESTADO_CIVIL',\n",
    "'TP_COR_RACA', \n",
    "'TP_NACIONALIDADE',\n",
    "'NO_MUNICIPIO_NASCIMENTO',\n",
    "'CO_UF_NASCIMENTO', \n",
    "'SG_UF_NASCIMENTO', \n",
    "'TP_ST_CONCLUSAO',\n",
    "'TP_ESCOLA', \n",
    "'TP_ENSINO', \n",
    "'IN_TREINEIRO', \n",
    "'CO_UF_ESC', \n",
    "'SG_UF_ESC',\n",
    "'TP_DEPENDENCIA_ADM_ESC', \n",
    "'TP_LOCALIZACAO_ESC', \n",
    "'IN_BAIXA_VISAO', \n",
    "'IN_CEGUEIRA', \n",
    "'IN_SURDEZ',\n",
    "'IN_DEFICIENCIA_AUDITIVA', \n",
    "'IN_SURDO_CEGUEIRA',\n",
    "'IN_DEFICIENCIA_FISICA', \n",
    "'IN_DEFICIENCIA_MENTAL',\n",
    "'IN_DEFICIT_ATENCAO', \n",
    "'IN_DISLEXIA', \n",
    "'IN_DISCALCULIA', \n",
    "'IN_AUTISMO', \n",
    "'IN_VISAO_MONOCULAR',\n",
    "'IN_OUTRA_DEF', \n",
    "'IN_GESTANTE', \n",
    "'IN_LACTANTE',\n",
    "'IN_IDOSO', \n",
    "'IN_ESTUDA_CLASSE_HOSPITALAR', \n",
    "'IN_SEM_RECURSO', \n",
    "'IN_BRAILLE', \n",
    "'IN_AMPLIADA_24', \n",
    "'IN_AMPLIADA_18', \n",
    "'IN_LEDOR',\n",
    "'IN_ACESSO', \n",
    "'IN_TRANSCRICAO', \n",
    "'IN_LIBRAS', \n",
    "'IN_LEITURA_LABIAL',\n",
    "'IN_MESA_CADEIRA_RODAS', \n",
    "'IN_MESA_CADEIRA_SEPARADA',\n",
    "'IN_APOIO_PERNA', \n",
    "'IN_GUIA_INTERPRETE', \n",
    "'IN_COMPUTADOR',\n",
    "'IN_CADEIRA_ESPECIAL', \n",
    "'IN_CADEIRA_CANHOTO',\n",
    "'IN_CADEIRA_ACOLCHOADA', \n",
    "'IN_PROVA_DEITADO', \n",
    "'IN_MOBILIARIO_OBESO',\n",
    "'IN_LAMINA_OVERLAY', \n",
    "'IN_PROTETOR_AURICULAR', \n",
    "'IN_MEDIDOR_GLICOSE',\n",
    "'IN_MAQUINA_BRAILE', \n",
    "'IN_SOROBAN', \n",
    "'IN_MARCA_PASSO', \n",
    "'IN_SONDA',\n",
    "'IN_MEDICAMENTOS', \n",
    "'IN_SALA_INDIVIDUAL', \n",
    "'IN_SALA_ESPECIAL',\n",
    "'IN_SALA_ACOMPANHANTE', \n",
    "'IN_MOBILIARIO_ESPECIFICO',\n",
    "'IN_NOME_SOCIAL',\n",
    "'NO_MUNICIPIO_PROVA', \n",
    "'CO_UF_PROVA', \n",
    "'SG_UF_PROVA',\n",
    "'TP_PRESENCA_CN', \n",
    "'TP_PRESENCA_CH', \n",
    "'TP_PRESENCA_LC',\n",
    "'TP_PRESENCA_MT', \n",
    "'NU_NOTA_CN', \n",
    "'NU_NOTA_CH', \n",
    "'NU_NOTA_LC',\n",
    "'NU_NOTA_MT', \n",
    "'TP_LINGUA',\n",
    "'TP_STATUS_REDACAO', \n",
    "'NU_NOTA_COMP1',\n",
    "'NU_NOTA_COMP2', \n",
    "'NU_NOTA_COMP3', \n",
    "'NU_NOTA_COMP4', \n",
    "'NU_NOTA_COMP5',\n",
    "'NU_NOTA_REDACAO', \n",
    "'Q001', \n",
    "'Q002', \n",
    "'Q005', \n",
    "'Q006',\n",
    "'Q022',\n",
    "'Q024', \n",
    "'Q025'\n",
    "]\n"
   ]
  },
  {
   "cell_type": "code",
   "execution_count": 15,
   "metadata": {
    "tags": []
   },
   "outputs": [
    {
     "output_type": "stream",
     "name": "stdout",
     "text": "Criação Dataframes Iniciado - 2020-08-20 17:44:58.011261.\n\n\nCriação Dataframe do Enem 2015 iniciada - 2020-08-20 17:44:58.012258.\nDataframe df_enem2015 criado com sucesso - 2020-08-20 17:44:58.237854.\n\n\nCriação Dataframe do Enem 2016 iniciada - 2020-08-20 17:44:58.237854.\nDataframe df_enem2016 criado com sucesso - 2020-08-20 17:44:58.483682.\n\n\nCriação Dataframe do Enem 2017 iniciada - 2020-08-20 17:44:58.484680.\nDataframe df_enem2017 criado com sucesso - 2020-08-20 17:44:58.661642.\n\n\nCriação Dataframe do Enem 2018 iniciada - 2020-08-20 17:44:58.661642.\nDataframe df_enem2018 criado com sucesso - 2020-08-20 17:44:58.828711.\n\n\nCriação Dataframe do Enem 2019 iniciada - 2020-08-20 17:44:58.828711.\nDataframe df_enem2019 criado com sucesso - 2020-08-20 17:44:58.969537.\n\n"
    }
   ],
   "source": [
    "# No Processo abaixo, criaremos dataframes, apenas com colunas selecionadas.\n",
    "\n",
    "print(f'Criação Dataframes Iniciado - {datetime.now()}.')\n",
    "print('')\n",
    "\n",
    "print('')\n",
    "print(f'Criação Dataframe do Enem 2015 iniciada - {datetime.now()}.')\n",
    "df_enem2015 = df_enem2015_completo.select(columns)\n",
    "print(f'Dataframe df_enem2015 criado com sucesso - {datetime.now()}.')\n",
    "print('')\n",
    "\n",
    "print('')\n",
    "print(f'Criação Dataframe do Enem 2016 iniciada - {datetime.now()}.')\n",
    "df_enem2016 = df_enem2016_completo.select(columns)\n",
    "print(f'Dataframe df_enem2016 criado com sucesso - {datetime.now()}.')\n",
    "print('')\n",
    "\n",
    "print('')\n",
    "print(f'Criação Dataframe do Enem 2017 iniciada - {datetime.now()}.')\n",
    "df_enem2017 = df_enem2017_completo.select(columns)\n",
    "print(f'Dataframe df_enem2017 criado com sucesso - {datetime.now()}.')\n",
    "print('')\n",
    "\n",
    "print('')\n",
    "print(f'Criação Dataframe do Enem 2018 iniciada - {datetime.now()}.')\n",
    "df_enem2018 = df_enem2018_completo.select(columns)\n",
    "print(f'Dataframe df_enem2018 criado com sucesso - {datetime.now()}.')\n",
    "print('')\n",
    "\n",
    "print('')\n",
    "print(f'Criação Dataframe do Enem 2019 iniciada - {datetime.now()}.')\n",
    "df_enem2019 = df_enem2019_completo.select(columns)\n",
    "print(f'Dataframe df_enem2019 criado com sucesso - {datetime.now()}.')\n",
    "print('')\n"
   ]
  },
  {
   "cell_type": "code",
   "execution_count": 16,
   "metadata": {
    "tags": []
   },
   "outputs": [
    {
     "output_type": "stream",
     "name": "stdout",
     "text": "Criação Dataframe do df_enem iniciada - 2020-08-20 17:44:58.987491.\nDataframe df_enem criado com sucesso - 2020-08-20 17:44:59.060296.\n"
    }
   ],
   "source": [
    "# Criação de um dataframe uníco, com a união de todos os dataframes criados. \n",
    "\n",
    "print(f'Criação Dataframe do df_enem iniciada - {datetime.now()}.')\n",
    "\n",
    "df_enem = df_enem2015.unionAll(df_enem2016).unionAll(df_enem2017).unionAll(df_enem2018).unionAll(df_enem2019)\n",
    "\n",
    "print(f'Dataframe df_enem criado com sucesso - {datetime.now()}.')"
   ]
  },
  {
   "cell_type": "code",
   "execution_count": 17,
   "metadata": {
    "tags": []
   },
   "outputs": [
    {
     "output_type": "stream",
     "name": "stdout",
     "text": "Quantdade de Registros Dataframe df_enem - 2020-08-20 17:44:59.082239.\n"
    },
    {
     "output_type": "execute_result",
     "data": {
      "text/plain": "33714152"
     },
     "metadata": {},
     "execution_count": 17
    }
   ],
   "source": [
    "# Total de linhas do dataframe df_enem\n",
    "\n",
    "print(f'Quantdade de Registros Dataframe df_enem - {datetime.now()}.')\n",
    "\n",
    "df_enem.count()"
   ]
  },
  {
   "cell_type": "code",
   "execution_count": 18,
   "metadata": {
    "tags": []
   },
   "outputs": [
    {
     "output_type": "stream",
     "name": "stdout",
     "text": "Apresentação das colunas do dataframe df_enem - 2020-08-20 17:46:34.312555.\n"
    },
    {
     "output_type": "execute_result",
     "data": {
      "text/plain": "['NU_INSCRICAO',\n 'NU_ANO',\n 'NO_MUNICIPIO_RESIDENCIA',\n 'CO_UF_RESIDENCIA',\n 'SG_UF_RESIDENCIA',\n 'NU_IDADE',\n 'TP_SEXO',\n 'TP_ESTADO_CIVIL',\n 'TP_COR_RACA',\n 'TP_NACIONALIDADE',\n 'NO_MUNICIPIO_NASCIMENTO',\n 'CO_UF_NASCIMENTO',\n 'SG_UF_NASCIMENTO',\n 'TP_ST_CONCLUSAO',\n 'TP_ESCOLA',\n 'TP_ENSINO',\n 'IN_TREINEIRO',\n 'CO_UF_ESC',\n 'SG_UF_ESC',\n 'TP_DEPENDENCIA_ADM_ESC',\n 'TP_LOCALIZACAO_ESC',\n 'IN_BAIXA_VISAO',\n 'IN_CEGUEIRA',\n 'IN_SURDEZ',\n 'IN_DEFICIENCIA_AUDITIVA',\n 'IN_SURDO_CEGUEIRA',\n 'IN_DEFICIENCIA_FISICA',\n 'IN_DEFICIENCIA_MENTAL',\n 'IN_DEFICIT_ATENCAO',\n 'IN_DISLEXIA',\n 'IN_DISCALCULIA',\n 'IN_AUTISMO',\n 'IN_VISAO_MONOCULAR',\n 'IN_OUTRA_DEF',\n 'IN_GESTANTE',\n 'IN_LACTANTE',\n 'IN_IDOSO',\n 'IN_ESTUDA_CLASSE_HOSPITALAR',\n 'IN_SEM_RECURSO',\n 'IN_BRAILLE',\n 'IN_AMPLIADA_24',\n 'IN_AMPLIADA_18',\n 'IN_LEDOR',\n 'IN_ACESSO',\n 'IN_TRANSCRICAO',\n 'IN_LIBRAS',\n 'IN_LEITURA_LABIAL',\n 'IN_MESA_CADEIRA_RODAS',\n 'IN_MESA_CADEIRA_SEPARADA',\n 'IN_APOIO_PERNA',\n 'IN_GUIA_INTERPRETE',\n 'IN_COMPUTADOR',\n 'IN_CADEIRA_ESPECIAL',\n 'IN_CADEIRA_CANHOTO',\n 'IN_CADEIRA_ACOLCHOADA',\n 'IN_PROVA_DEITADO',\n 'IN_MOBILIARIO_OBESO',\n 'IN_LAMINA_OVERLAY',\n 'IN_PROTETOR_AURICULAR',\n 'IN_MEDIDOR_GLICOSE',\n 'IN_MAQUINA_BRAILE',\n 'IN_SOROBAN',\n 'IN_MARCA_PASSO',\n 'IN_SONDA',\n 'IN_MEDICAMENTOS',\n 'IN_SALA_INDIVIDUAL',\n 'IN_SALA_ESPECIAL',\n 'IN_SALA_ACOMPANHANTE',\n 'IN_MOBILIARIO_ESPECIFICO',\n 'IN_NOME_SOCIAL',\n 'NO_MUNICIPIO_PROVA',\n 'CO_UF_PROVA',\n 'SG_UF_PROVA',\n 'TP_PRESENCA_CN',\n 'TP_PRESENCA_CH',\n 'TP_PRESENCA_LC',\n 'TP_PRESENCA_MT',\n 'NU_NOTA_CN',\n 'NU_NOTA_CH',\n 'NU_NOTA_LC',\n 'NU_NOTA_MT',\n 'TP_LINGUA',\n 'TP_STATUS_REDACAO',\n 'NU_NOTA_COMP1',\n 'NU_NOTA_COMP2',\n 'NU_NOTA_COMP3',\n 'NU_NOTA_COMP4',\n 'NU_NOTA_COMP5',\n 'NU_NOTA_REDACAO',\n 'Q001',\n 'Q002',\n 'Q005',\n 'Q006',\n 'Q022',\n 'Q024',\n 'Q025']"
     },
     "metadata": {},
     "execution_count": 18
    }
   ],
   "source": [
    "# Apresentação das colunas do dataframe df_enem.\n",
    "\n",
    "print(f'Apresentação das colunas do dataframe df_enem - {datetime.now()}.')\n",
    "\n",
    "df_enem.columns[:]"
   ]
  },
  {
   "cell_type": "code",
   "execution_count": 19,
   "metadata": {
    "tags": []
   },
   "outputs": [
    {
     "output_type": "stream",
     "name": "stdout",
     "text": "Apresentação da estutura do dataframe df_enem - 2020-08-20 17:46:34.347973.\nroot\n |-- NU_INSCRICAO: long (nullable = true)\n |-- NU_ANO: integer (nullable = true)\n |-- NO_MUNICIPIO_RESIDENCIA: string (nullable = true)\n |-- CO_UF_RESIDENCIA: integer (nullable = true)\n |-- SG_UF_RESIDENCIA: string (nullable = true)\n |-- NU_IDADE: integer (nullable = true)\n |-- TP_SEXO: string (nullable = true)\n |-- TP_ESTADO_CIVIL: integer (nullable = true)\n |-- TP_COR_RACA: integer (nullable = true)\n |-- TP_NACIONALIDADE: integer (nullable = true)\n |-- NO_MUNICIPIO_NASCIMENTO: string (nullable = true)\n |-- CO_UF_NASCIMENTO: integer (nullable = true)\n |-- SG_UF_NASCIMENTO: string (nullable = true)\n |-- TP_ST_CONCLUSAO: integer (nullable = true)\n |-- TP_ESCOLA: integer (nullable = true)\n |-- TP_ENSINO: integer (nullable = true)\n |-- IN_TREINEIRO: integer (nullable = true)\n |-- CO_UF_ESC: integer (nullable = true)\n |-- SG_UF_ESC: string (nullable = true)\n |-- TP_DEPENDENCIA_ADM_ESC: integer (nullable = true)\n |-- TP_LOCALIZACAO_ESC: integer (nullable = true)\n |-- IN_BAIXA_VISAO: integer (nullable = true)\n |-- IN_CEGUEIRA: integer (nullable = true)\n |-- IN_SURDEZ: integer (nullable = true)\n |-- IN_DEFICIENCIA_AUDITIVA: integer (nullable = true)\n |-- IN_SURDO_CEGUEIRA: integer (nullable = true)\n |-- IN_DEFICIENCIA_FISICA: integer (nullable = true)\n |-- IN_DEFICIENCIA_MENTAL: integer (nullable = true)\n |-- IN_DEFICIT_ATENCAO: integer (nullable = true)\n |-- IN_DISLEXIA: integer (nullable = true)\n |-- IN_DISCALCULIA: integer (nullable = true)\n |-- IN_AUTISMO: integer (nullable = true)\n |-- IN_VISAO_MONOCULAR: integer (nullable = true)\n |-- IN_OUTRA_DEF: integer (nullable = true)\n |-- IN_GESTANTE: integer (nullable = true)\n |-- IN_LACTANTE: integer (nullable = true)\n |-- IN_IDOSO: integer (nullable = true)\n |-- IN_ESTUDA_CLASSE_HOSPITALAR: integer (nullable = true)\n |-- IN_SEM_RECURSO: integer (nullable = true)\n |-- IN_BRAILLE: integer (nullable = true)\n |-- IN_AMPLIADA_24: integer (nullable = true)\n |-- IN_AMPLIADA_18: integer (nullable = true)\n |-- IN_LEDOR: integer (nullable = true)\n |-- IN_ACESSO: integer (nullable = true)\n |-- IN_TRANSCRICAO: integer (nullable = true)\n |-- IN_LIBRAS: integer (nullable = true)\n |-- IN_LEITURA_LABIAL: integer (nullable = true)\n |-- IN_MESA_CADEIRA_RODAS: integer (nullable = true)\n |-- IN_MESA_CADEIRA_SEPARADA: integer (nullable = true)\n |-- IN_APOIO_PERNA: integer (nullable = true)\n |-- IN_GUIA_INTERPRETE: integer (nullable = true)\n |-- IN_COMPUTADOR: integer (nullable = true)\n |-- IN_CADEIRA_ESPECIAL: integer (nullable = true)\n |-- IN_CADEIRA_CANHOTO: integer (nullable = true)\n |-- IN_CADEIRA_ACOLCHOADA: integer (nullable = true)\n |-- IN_PROVA_DEITADO: integer (nullable = true)\n |-- IN_MOBILIARIO_OBESO: integer (nullable = true)\n |-- IN_LAMINA_OVERLAY: integer (nullable = true)\n |-- IN_PROTETOR_AURICULAR: integer (nullable = true)\n |-- IN_MEDIDOR_GLICOSE: integer (nullable = true)\n |-- IN_MAQUINA_BRAILE: integer (nullable = true)\n |-- IN_SOROBAN: integer (nullable = true)\n |-- IN_MARCA_PASSO: integer (nullable = true)\n |-- IN_SONDA: integer (nullable = true)\n |-- IN_MEDICAMENTOS: integer (nullable = true)\n |-- IN_SALA_INDIVIDUAL: integer (nullable = true)\n |-- IN_SALA_ESPECIAL: integer (nullable = true)\n |-- IN_SALA_ACOMPANHANTE: integer (nullable = true)\n |-- IN_MOBILIARIO_ESPECIFICO: integer (nullable = true)\n |-- IN_NOME_SOCIAL: integer (nullable = true)\n |-- NO_MUNICIPIO_PROVA: string (nullable = true)\n |-- CO_UF_PROVA: integer (nullable = true)\n |-- SG_UF_PROVA: string (nullable = true)\n |-- TP_PRESENCA_CN: integer (nullable = true)\n |-- TP_PRESENCA_CH: integer (nullable = true)\n |-- TP_PRESENCA_LC: integer (nullable = true)\n |-- TP_PRESENCA_MT: integer (nullable = true)\n |-- NU_NOTA_CN: double (nullable = true)\n |-- NU_NOTA_CH: double (nullable = true)\n |-- NU_NOTA_LC: double (nullable = true)\n |-- NU_NOTA_MT: double (nullable = true)\n |-- TP_LINGUA: integer (nullable = true)\n |-- TP_STATUS_REDACAO: integer (nullable = true)\n |-- NU_NOTA_COMP1: integer (nullable = true)\n |-- NU_NOTA_COMP2: integer (nullable = true)\n |-- NU_NOTA_COMP3: integer (nullable = true)\n |-- NU_NOTA_COMP4: integer (nullable = true)\n |-- NU_NOTA_COMP5: integer (nullable = true)\n |-- NU_NOTA_REDACAO: integer (nullable = true)\n |-- Q001: string (nullable = true)\n |-- Q002: string (nullable = true)\n |-- Q005: integer (nullable = true)\n |-- Q006: string (nullable = true)\n |-- Q022: string (nullable = true)\n |-- Q024: string (nullable = true)\n |-- Q025: string (nullable = true)\n\n"
    }
   ],
   "source": [
    "# Apresentação da estutura do dataframe df_enem\n",
    "\n",
    "print(f'Apresentação da estutura do dataframe df_enem - {datetime.now()}.')\n",
    "\n",
    "df_enem.printSchema()"
   ]
  },
  {
   "cell_type": "code",
   "execution_count": 20,
   "metadata": {
    "tags": []
   },
   "outputs": [
    {
     "output_type": "stream",
     "name": "stdout",
     "text": "Descrição DataFrame df_enem (Dataframe com os anos 2015, 2016, 2017, 2018 e 2019) - 2020-08-20 17:46:34.379885.\n\nDescrição Idade\n+-------+------------------+\n|summary|          NU_IDADE|\n+-------+------------------+\n|  count|          33713777|\n|   mean|22.759218345663257|\n| stddev| 7.788652341876025|\n|    min|                 1|\n|    max|                98|\n+-------+------------------+\n\n2020-08-20 17:48:10.799885.\n\nDescrição Nota da prova de Ciências da Natureza\n+-------+-----------------+\n|summary|       NU_NOTA_CN|\n+-------+-----------------+\n|  count|         23807309|\n|   mean|486.8124319678461|\n| stddev|74.22313690738514|\n|    min|              0.0|\n|    max|            885.6|\n+-------+-----------------+\n\n2020-08-20 17:49:45.367317.\n\nDescrição Nota da prova de Ciências Humanas\n+-------+-----------------+\n|summary|       NU_NOTA_CH|\n+-------+-----------------+\n|  count|         24527054|\n|   mean|538.4331498189712|\n| stddev|80.97454950674937|\n|    min|              0.0|\n|    max|            868.3|\n+-------+-----------------+\n\n2020-08-20 17:51:18.811080.\n\nDescrição Nota da prova de Linguagens e Códigos\n+-------+-----------------+\n|summary|       NU_NOTA_LC|\n+-------+-----------------+\n|  count|         24243348|\n|   mean|516.1323208576638|\n| stddev| 69.8972338325045|\n|    min|              0.0|\n|    max|            825.8|\n+-------+-----------------+\n\n2020-08-20 17:52:53.447605.\n\nDescrição Nota da prova de Matemática\n+-------+------------------+\n|summary|        NU_NOTA_MT|\n+-------+------------------+\n|  count|          23523603|\n|   mean| 502.9313042946695|\n| stddev|108.38833974499668|\n|    min|               0.0|\n|    max|            1008.3|\n+-------+------------------+\n\n2020-08-20 17:54:31.537111.\n\nDescrição Nota da prova de redação\n+-------+------------------+\n|summary|   NU_NOTA_REDACAO|\n+-------+------------------+\n|  count|          26362543|\n|   mean| 489.8440378456661|\n| stddev|218.83999113614607|\n|    min|                 0|\n|    max|              1000|\n+-------+------------------+\n\n2020-08-20 17:56:03.566124.\n"
    }
   ],
   "source": [
    "# Descrição Dataframe df_enem.\n",
    "\n",
    "print(f'Descrição DataFrame df_enem (Dataframe com os anos 2015, 2016, 2017, 2018 e 2019) - {datetime.now()}.')\n",
    "print('')\n",
    "\n",
    "print('Descrição Idade')\n",
    "df_enem.describe('NU_IDADE').show()\n",
    "print(f'{datetime.now()}.')\n",
    "print('')\n",
    "\n",
    "print('Descrição Nota da prova de Ciências da Natureza')\n",
    "df_enem.describe('NU_NOTA_CN').show()\n",
    "print(f'{datetime.now()}.')\n",
    "print('')\n",
    "\n",
    "print('Descrição Nota da prova de Ciências Humanas')\n",
    "df_enem.describe('NU_NOTA_CH').show()\n",
    "print(f'{datetime.now()}.')\n",
    "print('')\n",
    "\n",
    "print('Descrição Nota da prova de Linguagens e Códigos')\n",
    "df_enem.describe('NU_NOTA_LC').show()\n",
    "print(f'{datetime.now()}.')\n",
    "print('')\n",
    "\n",
    "print('Descrição Nota da prova de Matemática')\n",
    "df_enem.describe('NU_NOTA_MT').show()\n",
    "print(f'{datetime.now()}.')\n",
    "print('')\n",
    "\n",
    "print('Descrição Nota da prova de redação')\n",
    "df_enem.describe('NU_NOTA_REDACAO').show()\n",
    "print(f'{datetime.now()}.')"
   ]
  },
  {
   "cell_type": "code",
   "execution_count": 21,
   "metadata": {
    "tags": []
   },
   "outputs": [
    {
     "output_type": "stream",
     "name": "stdout",
     "text": "Apresentação do processo de criação de uma tabela temporária para utilização do SQL - 2020-08-20 17:56:03.605018.\n+------------+\n|NU_INSCRICAO|\n+------------+\n|150000000376|\n|150000003053|\n|150000001161|\n|150000001335|\n|150000001219|\n|150000002884|\n|150000002510|\n|150000000658|\n|150000000434|\n|150000000216|\n|150000000274|\n|150000000217|\n|150000000164|\n|150000000165|\n|150000000218|\n|150000000166|\n|150000000219|\n|150000000275|\n|150000000220|\n|150000000167|\n+------------+\nonly showing top 20 rows\n\n2020-08-20 17:56:04.460729.\n"
    }
   ],
   "source": [
    "# Criar tabela temporaria e usar sql para consulta\n",
    "\n",
    "print(f'Apresentação do processo de criação de uma tabela temporária para utilização do SQL - {datetime.now()}.')\n",
    "\n",
    "df_enem.createOrReplaceTempView('enemtb')\n",
    "teste = sqlContext.sql('SELECT NU_INSCRICAO FROM enemtb').show()\n",
    "\n",
    "print(f'{datetime.now()}.')"
   ]
  },
  {
   "cell_type": "code",
   "execution_count": 22,
   "metadata": {
    "tags": []
   },
   "outputs": [
    {
     "output_type": "stream",
     "name": "stdout",
     "text": "Criação da coluna SEXO - 2020-08-20 17:56:04.489654.\nCriação da coluna com sucesso - 2020-08-20 17:56:04.568442.\n"
    }
   ],
   "source": [
    "# Criação das colunas de classificação do dataframe df_enem_analise. \n",
    "\n",
    "print(f'Criação da coluna SEXO - {datetime.now()}.')\n",
    "\n",
    "df_enem_sexo = df_enem.withColumn('SEXO', expr(\"case when TP_SEXO = 'M' then 'Masculino' \" + \"when TP_SEXO = 'F' then 'Feminino' \" + \"else '' end\"))\n",
    "\n",
    "print(f'Criação da coluna com sucesso - {datetime.now()}.')"
   ]
  },
  {
   "cell_type": "code",
   "execution_count": 23,
   "metadata": {
    "tags": []
   },
   "outputs": [
    {
     "output_type": "stream",
     "name": "stdout",
     "text": "Criação da coluna ESTADO_CIVIL - 2020-08-20 17:56:04.601354.\nCriação da coluna com sucesso - 2020-08-20 17:56:04.640250.\n"
    }
   ],
   "source": [
    "print(f'Criação da coluna ESTADO_CIVIL - {datetime.now()}.')\n",
    "\n",
    "df_enem_estado_civil = df_enem_sexo.withColumn('ESTADO_CIVIL', expr(\"case when TP_ESTADO_CIVIL = 0 then 'Solteiro' \" + \"when TP_ESTADO_CIVIL = 1 then 'Casado(a)/Mora com companheiro(a)' \" + \"when TP_ESTADO_CIVIL = 2 then 'Divorciado(a)/Desquitado(a)/Separado(a)' \" + \"when TP_ESTADO_CIVIL = 3 then 'Viúvo(a)' \" + \"else '' end\"))\n",
    "\n",
    "print(f'Criação da coluna com sucesso - {datetime.now()}.')"
   ]
  },
  {
   "cell_type": "code",
   "execution_count": 24,
   "metadata": {
    "tags": []
   },
   "outputs": [
    {
     "output_type": "stream",
     "name": "stdout",
     "text": "Criação da coluna RACA - 2020-08-20 17:56:04.662191.\nCriação da coluna com sucesso - 2020-08-20 17:56:04.702085.\n"
    }
   ],
   "source": [
    "print(f'Criação da coluna RACA - {datetime.now()}.')\n",
    "\n",
    "df_enem_raca = df_enem_estado_civil.withColumn('RACA', expr(\"case when TP_NACIONALIDADE = 0 then 'Não declarado' \" + \"when TP_NACIONALIDADE = 1 then 'Branca' \" + \"when TP_NACIONALIDADE = 2 then 'Preta' \" + \"when TP_NACIONALIDADE = 3 then 'Parda' \" + \"when TP_NACIONALIDADE = 4 then 'Amarela' \" + \"when TP_NACIONALIDADE = 5 then 'Indígena ' \" + \"else '' end\"))\n",
    "\n",
    "print(f'Criação da coluna com sucesso - {datetime.now()}.')"
   ]
  },
  {
   "cell_type": "code",
   "execution_count": 25,
   "metadata": {
    "tags": []
   },
   "outputs": [
    {
     "output_type": "stream",
     "name": "stdout",
     "text": "Criação da coluna NACIONALIDADE - 2020-08-20 17:56:04.737988.\nCriação da coluna com sucesso - 2020-08-20 17:56:04.778879.\n"
    }
   ],
   "source": [
    "print(f'Criação da coluna NACIONALIDADE - {datetime.now()}.')\n",
    "\n",
    "df_enem_nacionalidade = df_enem_raca.withColumn('NACIONALIDADE', expr(\"case when TP_NACIONALIDADE = 0 then 'Não informado' \" + \"when TP_NACIONALIDADE = 1 then 'Brasileiro(a)' \" + \"when TP_NACIONALIDADE = 2 then 'Brasileiro(a) Naturalizado(a)' \" + \"when TP_NACIONALIDADE = 3 then 'Estrangeiro(a)' \" + \"when TP_NACIONALIDADE = 4 then 'Brasileiro(a) Nato(a), nascido(a) no exterior' \" + \"else '' end\"))\n",
    "\n",
    "print(f'Criação da coluna com sucesso - {datetime.now()}.')"
   ]
  },
  {
   "cell_type": "code",
   "execution_count": 26,
   "metadata": {
    "tags": []
   },
   "outputs": [
    {
     "output_type": "stream",
     "name": "stdout",
     "text": "Criação da coluna SITUACAO_CONCLUSAO_ENSINO_MEDIO - 2020-08-20 17:56:04.803813.\nCriação da coluna com sucesso - 2020-08-20 17:56:04.845700.\n"
    }
   ],
   "source": [
    "print(f'Criação da coluna SITUACAO_CONCLUSAO_ENSINO_MEDIO - {datetime.now()}.')\n",
    "\n",
    "df_enem_st_conclusao = df_enem_nacionalidade.withColumn('SITUACAO_CONCLUSAO_ENSINO_MEDIO', expr(\"case when TP_ST_CONCLUSAO = 1 then 'Já concluí o Ensino Médio' \" + \"when TP_ST_CONCLUSAO = 2 then 'Estou cursando e concluirei o Ensino Médio no ano' \" + \"when TP_ST_CONCLUSAO = 3 then 'Estou cursando e concluirei o Ensino Médio após este ano' \" + \"when TP_ST_CONCLUSAO = 4 then 'Não concluí e não estou cursando o Ensino Médio' \" + \"else '' end\"))\n",
    "\n",
    "print(f'Criação da coluna com sucesso - {datetime.now()}.')"
   ]
  },
  {
   "cell_type": "code",
   "execution_count": 27,
   "metadata": {
    "tags": []
   },
   "outputs": [
    {
     "output_type": "stream",
     "name": "stdout",
     "text": "Criação da coluna TIPO_ESCOLA - 2020-08-20 17:56:04.881604.\nCriação da coluna com sucesso - 2020-08-20 17:56:04.925488.\n"
    }
   ],
   "source": [
    "print(f'Criação da coluna TIPO_ESCOLA - {datetime.now()}.')\n",
    "\n",
    "df_enem_tp_escola = df_enem_st_conclusao.withColumn('TIPO_ESCOLA', expr(\"case when TP_ESCOLA = 1 then 'Não Respondeu' \" + \"when TP_ESCOLA = 2 then 'Pública' \" + \"when TP_ESCOLA = 3 then 'Privada' \" + \"when TP_ESCOLA = 4 then 'Exterior' \" + \"else '' end\"))\n",
    "\n",
    "print(f'Criação da coluna com sucesso - {datetime.now()}.')"
   ]
  },
  {
   "cell_type": "code",
   "execution_count": 28,
   "metadata": {
    "tags": []
   },
   "outputs": [
    {
     "output_type": "stream",
     "name": "stdout",
     "text": "Criação da coluna TIPO_ENSINO - 2020-08-20 17:56:04.965380.\nCriação da coluna com sucesso - 2020-08-20 17:56:05.003279.\n"
    }
   ],
   "source": [
    "print(f'Criação da coluna TIPO_ENSINO - {datetime.now()}.')\n",
    "\n",
    "df_enem_tp_ensino = df_enem_tp_escola.withColumn('TIPO_ENSINO', expr(\"case when TP_ENSINO = 1 then 'Ensino Regular' \" + \"when TP_ENSINO = 2 then 'Educação Especial - Modalidade Substitutiva' \" + \"when TP_ENSINO = 3 then 'Educação de Jovens e Adultos' \" + \"else '' end\"))\n",
    "\n",
    "print(f'Criação da coluna com sucesso - {datetime.now()}.')"
   ]
  },
  {
   "cell_type": "code",
   "execution_count": 29,
   "metadata": {
    "tags": []
   },
   "outputs": [
    {
     "output_type": "stream",
     "name": "stdout",
     "text": "Criação da coluna TREINEIRO - 2020-08-20 17:56:05.038187.\nCriação da coluna com sucesso - 2020-08-20 17:56:05.080074.\n"
    }
   ],
   "source": [
    "print(f'Criação da coluna TREINEIRO - {datetime.now()}.')\n",
    "\n",
    "df_enem_in_treineiro = df_enem_tp_ensino.withColumn('TREINEIRO', expr(\"case when IN_TREINEIRO = 0 then 'Não' \" + \"when IN_TREINEIRO = 1 then 'Sim' \" + \"else '' end\"))\n",
    "\n",
    "print(f'Criação da coluna com sucesso - {datetime.now()}.')"
   ]
  },
  {
   "cell_type": "code",
   "execution_count": 30,
   "metadata": {
    "tags": []
   },
   "outputs": [
    {
     "output_type": "stream",
     "name": "stdout",
     "text": "Criação da coluna DEPENDENCIA_ADMINISTRATIVA_ESCOLA - 2020-08-20 17:56:05.115978.\nCriação da coluna com sucesso - 2020-08-20 17:56:05.154873.\n"
    }
   ],
   "source": [
    "print(f'Criação da coluna DEPENDENCIA_ADMINISTRATIVA_ESCOLA - {datetime.now()}.')\n",
    "\n",
    "df_enem_tp_dependencia_adm_esc = df_enem_in_treineiro.withColumn('DEPENDENCIA_ADMINISTRATIVA_ESCOLA', expr(\"case when TP_DEPENDENCIA_ADM_ESC = 1 then 'Federal' \" + \"when TP_DEPENDENCIA_ADM_ESC = 2 then 'Estadual' \" + \"when TP_DEPENDENCIA_ADM_ESC = 3 then 'Municipal' \" + \"when TP_DEPENDENCIA_ADM_ESC = 4 then 'Privada' \" + \"else '' end\"))\n",
    "\n",
    "print(f'Criação da coluna com sucesso - {datetime.now()}.')"
   ]
  },
  {
   "cell_type": "code",
   "execution_count": 31,
   "metadata": {
    "tags": []
   },
   "outputs": [
    {
     "output_type": "stream",
     "name": "stdout",
     "text": "Criação da coluna LOCALIZACAO_ESCOLA - 2020-08-20 17:56:05.176814.\nCriação da coluna com sucesso - 2020-08-20 17:56:05.218703.\n"
    }
   ],
   "source": [
    "print(f'Criação da coluna LOCALIZACAO_ESCOLA - {datetime.now()}.')\n",
    "\n",
    "df_enem_tp_localizacao_esc = df_enem_tp_dependencia_adm_esc.withColumn('LOCALIZACAO_ESCOLA', expr(\"case when TP_LOCALIZACAO_ESC = 1 then 'Urbana' \" + \"when TP_LOCALIZACAO_ESC = 2 then 'Rural' \" + \"else '' end\"))\n",
    "\n",
    "print(f'Criação da coluna com sucesso - {datetime.now()}.')"
   ]
  },
  {
   "cell_type": "code",
   "execution_count": 32,
   "metadata": {
    "tags": []
   },
   "outputs": [
    {
     "output_type": "stream",
     "name": "stdout",
     "text": "Criação da coluna BAIXA_VISAO - 2020-08-20 17:56:05.250618.\nCriação da coluna com sucesso - 2020-08-20 17:56:05.290511.\n"
    }
   ],
   "source": [
    "print(f'Criação da coluna BAIXA_VISAO - {datetime.now()}.')\n",
    "\n",
    "df_enem_in_baixa_visao = df_enem_tp_localizacao_esc.withColumn('BAIXA_VISAO', expr(\"case when IN_BAIXA_VISAO = 0 then 'Não' \" + \"when IN_BAIXA_VISAO = 1 then 'Sim' \" + \"else '' end\"))\n",
    "\n",
    "print(f'Criação da coluna com sucesso - {datetime.now()}.')"
   ]
  },
  {
   "cell_type": "code",
   "execution_count": 33,
   "metadata": {
    "tags": []
   },
   "outputs": [
    {
     "output_type": "stream",
     "name": "stdout",
     "text": "Criação da coluna CEGUEIRA - 2020-08-20 17:56:05.316441.\nCriação da coluna com sucesso - 2020-08-20 17:56:05.349355.\n"
    }
   ],
   "source": [
    "print(f'Criação da coluna CEGUEIRA - {datetime.now()}.')\n",
    "\n",
    "df_enem_in_cegueira = df_enem_in_baixa_visao.withColumn('CEGUEIRA', expr(\"case when IN_CEGUEIRA = 0 then 'Não' \" + \"when IN_CEGUEIRA = 1 then 'Sim' \" + \"else '' end\"))\n",
    "\n",
    "print(f'Criação da coluna com sucesso - {datetime.now()}.')\n"
   ]
  },
  {
   "cell_type": "code",
   "execution_count": 34,
   "metadata": {
    "tags": []
   },
   "outputs": [
    {
     "output_type": "stream",
     "name": "stdout",
     "text": "Criação da coluna SURDEZ - 2020-08-20 17:56:05.376281.\nCriação da coluna com sucesso - 2020-08-20 17:56:05.415177.\n"
    }
   ],
   "source": [
    "print(f'Criação da coluna SURDEZ - {datetime.now()}.')\n",
    "\n",
    "df_enem_in_surdez = df_enem_in_cegueira.withColumn('SURDEZ', expr(\"case when IN_SURDEZ = 0 then 'Não' \" + \"when IN_SURDEZ = 1 then 'Sim' \" + \"else '' end\"))\n",
    "\n",
    "print(f'Criação da coluna com sucesso - {datetime.now()}.')"
   ]
  },
  {
   "cell_type": "code",
   "execution_count": 35,
   "metadata": {
    "tags": []
   },
   "outputs": [
    {
     "output_type": "stream",
     "name": "stdout",
     "text": "Criação da coluna DEFICIENCIA_AUDITIVA - 2020-08-20 17:56:05.440110.\nCriação da coluna com sucesso - 2020-08-20 17:56:05.478010.\n"
    }
   ],
   "source": [
    "print(f'Criação da coluna DEFICIENCIA_AUDITIVA - {datetime.now()}.')\n",
    "\n",
    "df_enem_in_deficiencia_auditiva = df_enem_in_surdez.withColumn('DEFICIENCIA_AUDITIVA', expr(\"case when IN_DEFICIENCIA_AUDITIVA = 0 then 'Não' \" + \"when IN_DEFICIENCIA_AUDITIVA = 1 then 'Sim' \" + \"else '' end\"))\n",
    "\n",
    "print(f'Criação da coluna com sucesso - {datetime.now()}.')"
   ]
  },
  {
   "cell_type": "code",
   "execution_count": 36,
   "metadata": {
    "tags": []
   },
   "outputs": [
    {
     "output_type": "stream",
     "name": "stdout",
     "text": "Criação da coluna SURDO_CEGUEIRA - 2020-08-20 17:56:05.501947.\nCriação da coluna com sucesso - 2020-08-20 17:56:05.540840.\n"
    }
   ],
   "source": [
    "print(f'Criação da coluna SURDO_CEGUEIRA - {datetime.now()}.')\n",
    "\n",
    "df_enem_in_surdo_cegueira = df_enem_in_deficiencia_auditiva.withColumn('SURDO_CEGUEIRA', expr(\"case when IN_SURDO_CEGUEIRA = 0 then 'Não' \" + \"when IN_SURDO_CEGUEIRA = 1 then 'Sim' \" + \"else '' end\"))\n",
    "\n",
    "print(f'Criação da coluna com sucesso - {datetime.now()}.')"
   ]
  },
  {
   "cell_type": "code",
   "execution_count": 37,
   "metadata": {
    "tags": []
   },
   "outputs": [
    {
     "output_type": "stream",
     "name": "stdout",
     "text": "Criação da coluna DEFICIENCIA_FISICA - 2020-08-20 17:56:05.563779.\nCriação da coluna com sucesso - 2020-08-20 17:56:05.603673.\n"
    }
   ],
   "source": [
    "print(f'Criação da coluna DEFICIENCIA_FISICA - {datetime.now()}.')\n",
    "\n",
    "df_enem_in_deficiencia_fisica = df_enem_in_surdo_cegueira.withColumn('DEFICIENCIA_FISICA', expr(\"case when IN_DEFICIENCIA_FISICA = 0 then 'Não' \" + \"when IN_DEFICIENCIA_FISICA = 1 then 'Sim' \" + \"else '' end\"))\n",
    "\n",
    "print(f'Criação da coluna com sucesso - {datetime.now()}.')"
   ]
  },
  {
   "cell_type": "code",
   "execution_count": 38,
   "metadata": {
    "tags": []
   },
   "outputs": [
    {
     "output_type": "stream",
     "name": "stdout",
     "text": "Criação da coluna DEFICIENCIA_MENTAL - 2020-08-20 17:56:05.624617.\nCriação da coluna com sucesso - 2020-08-20 17:56:05.664510.\n"
    }
   ],
   "source": [
    "print(f'Criação da coluna DEFICIENCIA_MENTAL - {datetime.now()}.')\n",
    "\n",
    "df_enem_in_deficiencia_mental = df_enem_in_deficiencia_fisica.withColumn('DEFICIENCIA_MENTAL', expr(\"case when IN_DEFICIENCIA_MENTAL = 0 then 'Não' \" + \"when IN_DEFICIENCIA_MENTAL = 1 then 'Sim' \" + \"else '' end\"))\n",
    "\n",
    "print(f'Criação da coluna com sucesso - {datetime.now()}.')"
   ]
  },
  {
   "cell_type": "code",
   "execution_count": 39,
   "metadata": {
    "tags": []
   },
   "outputs": [
    {
     "output_type": "stream",
     "name": "stdout",
     "text": "Criação da coluna DEFICIT_ATENCAO - 2020-08-20 17:56:05.687449.\nCriação da coluna com sucesso - 2020-08-20 17:56:05.723352.\n"
    }
   ],
   "source": [
    "print(f'Criação da coluna DEFICIT_ATENCAO - {datetime.now()}.')\n",
    "\n",
    "df_enem_in_deficit_atencao = df_enem_in_deficiencia_mental.withColumn('DEFICIT_ATENCAO', expr(\"case when IN_DEFICIT_ATENCAO = 0 then 'Não' \" + \"when IN_DEFICIT_ATENCAO = 1 then 'Sim' \" + \"else '' end\"))\n",
    "\n",
    "print(f'Criação da coluna com sucesso - {datetime.now()}.')"
   ]
  },
  {
   "cell_type": "code",
   "execution_count": 40,
   "metadata": {
    "tags": []
   },
   "outputs": [
    {
     "output_type": "stream",
     "name": "stdout",
     "text": "Criação da coluna DISLEXIA - 2020-08-20 17:56:05.746292.\nCriação da coluna com sucesso - 2020-08-20 17:56:05.786186.\n"
    }
   ],
   "source": [
    "print(f'Criação da coluna DISLEXIA - {datetime.now()}.')\n",
    "\n",
    "df_enem_in_dislexia = df_enem_in_deficit_atencao.withColumn('DISLEXIA', expr(\"case when IN_DISLEXIA = 0 then 'Não' \" + \"when IN_DISLEXIA = 1 then 'Sim' \" + \"else '' end\"))\n",
    "\n",
    "print(f'Criação da coluna com sucesso - {datetime.now()}.')"
   ]
  },
  {
   "cell_type": "code",
   "execution_count": 41,
   "metadata": {
    "tags": []
   },
   "outputs": [
    {
     "output_type": "stream",
     "name": "stdout",
     "text": "Criação da coluna DISCALCULIA - 2020-08-20 17:56:05.810122.\nCriação da coluna com sucesso - 2020-08-20 17:56:05.845028.\n"
    }
   ],
   "source": [
    "print(f'Criação da coluna DISCALCULIA - {datetime.now()}.')\n",
    "\n",
    "df_enem_in_discalculia = df_enem_in_dislexia.withColumn('DISCALCULIA', expr(\"case when IN_DISCALCULIA = 0 then 'Não' \" + \"when IN_DISCALCULIA = 1 then 'Sim' \" + \"else '' end\"))\n",
    "\n",
    "print(f'Criação da coluna com sucesso - {datetime.now()}.')"
   ]
  },
  {
   "cell_type": "code",
   "execution_count": 42,
   "metadata": {
    "tags": []
   },
   "outputs": [
    {
     "output_type": "stream",
     "name": "stdout",
     "text": "Criação da coluna AUTISMO - 2020-08-20 17:56:05.874946.\nCriação da coluna com sucesso - 2020-08-20 17:56:05.915837.\n"
    }
   ],
   "source": [
    "print(f'Criação da coluna AUTISMO - {datetime.now()}.')\n",
    "\n",
    "df_enem_in_autismo = df_enem_in_discalculia.withColumn('AUTISMO', expr(\"case when IN_AUTISMO = 0 then 'Não' \" + \"when IN_AUTISMO = 1 then 'Sim' \" + \"else '' end\"))\n",
    "\n",
    "print(f'Criação da coluna com sucesso - {datetime.now()}.')"
   ]
  },
  {
   "cell_type": "code",
   "execution_count": 43,
   "metadata": {
    "tags": []
   },
   "outputs": [
    {
     "output_type": "stream",
     "name": "stdout",
     "text": "Criação da coluna VISAO_MONOCULAR - 2020-08-20 17:56:05.934787.\nCriação da coluna com sucesso - 2020-08-20 17:56:05.972686.\n"
    }
   ],
   "source": [
    "print(f'Criação da coluna VISAO_MONOCULAR - {datetime.now()}.')\n",
    "\n",
    "df_enem_in_visao_monocular = df_enem_in_autismo.withColumn('VISAO_MONOCULAR', expr(\"case when IN_VISAO_MONOCULAR = 0 then 'Não' \" + \"when IN_VISAO_MONOCULAR = 1 then 'Sim' \" + \"else '' end\"))\n",
    "\n",
    "print(f'Criação da coluna com sucesso - {datetime.now()}.')"
   ]
  },
  {
   "cell_type": "code",
   "execution_count": 44,
   "metadata": {
    "tags": []
   },
   "outputs": [
    {
     "output_type": "stream",
     "name": "stdout",
     "text": "Criação da coluna OUTRA_DEF - 2020-08-20 17:56:05.998616.\nCriação da coluna com sucesso - 2020-08-20 17:56:06.040506.\n"
    }
   ],
   "source": [
    "print(f'Criação da coluna OUTRA_DEF - {datetime.now()}.')\n",
    "\n",
    "df_enem_in_outra_def = df_enem_in_visao_monocular.withColumn('OUTRA_DEF', expr(\"case when IN_OUTRA_DEF = 0 then 'Não' \" + \"when IN_OUTRA_DEF = 1 then 'Sim' \" + \"else '' end\"))\n",
    "\n",
    "print(f'Criação da coluna com sucesso - {datetime.now()}.')"
   ]
  },
  {
   "cell_type": "code",
   "execution_count": 45,
   "metadata": {
    "tags": []
   },
   "outputs": [
    {
     "output_type": "stream",
     "name": "stdout",
     "text": "Criação da coluna GESTANTE - 2020-08-20 17:56:06.061448.\nCriação da coluna com sucesso - 2020-08-20 17:56:06.113311.\n"
    }
   ],
   "source": [
    "print(f'Criação da coluna GESTANTE - {datetime.now()}.')\n",
    "\n",
    "df_enem_in_gestante = df_enem_in_outra_def.withColumn('GESTANTE', expr(\"case when IN_GESTANTE = 0 then 'Não' \" + \"when IN_GESTANTE = 1 then 'Sim' \" + \"else '' end\"))\n",
    "\n",
    "print(f'Criação da coluna com sucesso - {datetime.now()}.')"
   ]
  },
  {
   "cell_type": "code",
   "execution_count": 46,
   "metadata": {
    "tags": []
   },
   "outputs": [
    {
     "output_type": "stream",
     "name": "stdout",
     "text": "Criação da coluna LACTANTE - 2020-08-20 17:56:06.140244.\nCriação da coluna com sucesso - 2020-08-20 17:56:06.178136.\n"
    }
   ],
   "source": [
    "print(f'Criação da coluna LACTANTE - {datetime.now()}.')\n",
    "\n",
    "df_enem_in_lactante = df_enem_in_gestante.withColumn('LACTANTE', expr(\"case when IN_LACTANTE = 0 then 'Não' \" + \"when IN_LACTANTE = 1 then 'Sim' \" + \"else '' end\"))\n",
    "\n",
    "print(f'Criação da coluna com sucesso - {datetime.now()}.')"
   ]
  },
  {
   "cell_type": "code",
   "execution_count": 47,
   "metadata": {
    "tags": []
   },
   "outputs": [
    {
     "output_type": "stream",
     "name": "stdout",
     "text": "Criação da coluna IDOSO - 2020-08-20 17:56:06.221022.\nCriação da coluna com sucesso - 2020-08-20 17:56:06.258920.\n"
    }
   ],
   "source": [
    "print(f'Criação da coluna IDOSO - {datetime.now()}.')\n",
    "\n",
    "df_enem_in_idoso = df_enem_in_lactante.withColumn('IDOSO', expr(\"case when IN_IDOSO = 0 then 'Não' \" + \"when IN_IDOSO = 1 then 'Sim' \" + \"else '' end\"))\n",
    "\n",
    "print(f'Criação da coluna com sucesso - {datetime.now()}.')"
   ]
  },
  {
   "cell_type": "code",
   "execution_count": 48,
   "metadata": {
    "tags": []
   },
   "outputs": [
    {
     "output_type": "stream",
     "name": "stdout",
     "text": "Criação da coluna ESTUDA_CLASSE_HOSPITALAR - 2020-08-20 17:56:06.278867.\nCriação da coluna com sucesso - 2020-08-20 17:56:06.318761.\n"
    }
   ],
   "source": [
    "print(f'Criação da coluna ESTUDA_CLASSE_HOSPITALAR - {datetime.now()}.')\n",
    "\n",
    "df_enem_in_estuda_classe_hospitalar = df_enem_in_idoso.withColumn('ESTUDA_CLASSE_HOSPITALAR', expr(\"case when IN_ESTUDA_CLASSE_HOSPITALAR = 0 then 'Não' \" + \"when IN_ESTUDA_CLASSE_HOSPITALAR = 1 then 'Sim' \" + \"else '' end\"))\n",
    "\n",
    "print(f'Criação da coluna com sucesso - {datetime.now()}.')"
   ]
  },
  {
   "cell_type": "code",
   "execution_count": 49,
   "metadata": {
    "tags": []
   },
   "outputs": [
    {
     "output_type": "stream",
     "name": "stdout",
     "text": "Criação da coluna SEM_RECURSO - 2020-08-20 17:56:06.340702.\nCriação da coluna com sucesso - 2020-08-20 17:56:06.374611.\n"
    }
   ],
   "source": [
    "print(f'Criação da coluna SEM_RECURSO - {datetime.now()}.')\n",
    "\n",
    "df_enem_in_sem_recurso = df_enem_in_estuda_classe_hospitalar.withColumn('SEM_RECURSO', expr(\"case when IN_SEM_RECURSO = 0 then 'Não' \" + \"when IN_SEM_RECURSO = 1 then 'Sim' \" + \"else '' end\"))\n",
    "\n",
    "print(f'Criação da coluna com sucesso - {datetime.now()}.')"
   ]
  },
  {
   "cell_type": "code",
   "execution_count": 50,
   "metadata": {
    "tags": []
   },
   "outputs": [
    {
     "output_type": "stream",
     "name": "stdout",
     "text": "Criação da coluna BRAILLE - 2020-08-20 17:56:06.400542.\nCriação da coluna com sucesso - 2020-08-20 17:56:06.442430.\n"
    }
   ],
   "source": [
    "print(f'Criação da coluna BRAILLE - {datetime.now()}.')\n",
    "\n",
    "df_enem_in_braille = df_enem_in_sem_recurso.withColumn('BRAILLE', expr(\"case when IN_BRAILLE = 0 then 'Não' \" + \"when IN_BRAILLE = 1 then 'Sim' \" + \"else '' end\"))\n",
    "\n",
    "print(f'Criação da coluna com sucesso - {datetime.now()}.')"
   ]
  },
  {
   "cell_type": "code",
   "execution_count": 51,
   "metadata": {
    "tags": []
   },
   "outputs": [
    {
     "output_type": "stream",
     "name": "stdout",
     "text": "Criação da coluna AMPLIADA_24 - 2020-08-20 17:56:06.469358.\nCriação da coluna com sucesso - 2020-08-20 17:56:06.509253.\n"
    }
   ],
   "source": [
    "print(f'Criação da coluna AMPLIADA_24 - {datetime.now()}.')\n",
    "\n",
    "df_enem_in_ampliada_24 = df_enem_in_braille.withColumn('AMPLIADA_24', expr(\"case when IN_AMPLIADA_24 = 0 then 'Não' \" + \"when IN_AMPLIADA_24 = 1 then 'Sim' \" + \"else '' end\"))\n",
    "\n",
    "print(f'Criação da coluna com sucesso - {datetime.now()}.')"
   ]
  },
  {
   "cell_type": "code",
   "execution_count": 52,
   "metadata": {
    "tags": []
   },
   "outputs": [
    {
     "output_type": "stream",
     "name": "stdout",
     "text": "Criação da coluna AMPLIADA_18 - 2020-08-20 17:56:06.528200.\nCriação da coluna com sucesso - 2020-08-20 17:56:06.566098.\n"
    }
   ],
   "source": [
    "print(f'Criação da coluna AMPLIADA_18 - {datetime.now()}.')\n",
    "\n",
    "df_enem_in_ampliada_18 = df_enem_in_ampliada_24.withColumn('AMPLIADA_18', expr(\"case when IN_AMPLIADA_18 = 0 then 'Não' \" + \"when IN_AMPLIADA_18 = 1 then 'Sim' \" + \"else '' end\"))\n",
    "\n",
    "print(f'Criação da coluna com sucesso - {datetime.now()}.')"
   ]
  },
  {
   "cell_type": "code",
   "execution_count": 53,
   "metadata": {
    "tags": []
   },
   "outputs": [
    {
     "output_type": "stream",
     "name": "stdout",
     "text": "Criação da coluna LEDOR - 2020-08-20 17:56:06.593026.\nCriação da coluna com sucesso - 2020-08-20 17:56:06.637906.\n"
    }
   ],
   "source": [
    "print(f'Criação da coluna LEDOR - {datetime.now()}.')\n",
    "\n",
    "df_enem_in_ledor = df_enem_in_ampliada_18.withColumn('LEDOR', expr(\"case when IN_LEDOR = 0 then 'Não' \" + \"when IN_LEDOR = 1 then 'Sim' \" + \"else '' end\"))\n",
    "\n",
    "print(f'Criação da coluna com sucesso - {datetime.now()}.')"
   ]
  },
  {
   "cell_type": "code",
   "execution_count": 54,
   "metadata": {
    "tags": []
   },
   "outputs": [
    {
     "output_type": "stream",
     "name": "stdout",
     "text": "Criação da coluna ACESSO - 2020-08-20 17:56:06.652867.\nCriação da coluna com sucesso - 2020-08-20 17:56:06.689767.\n"
    }
   ],
   "source": [
    "print(f'Criação da coluna ACESSO - {datetime.now()}.')\n",
    "\n",
    "df_enem_in_acesso = df_enem_in_ledor.withColumn('ACESSO', expr(\"case when IN_ACESSO = 0 then 'Não' \" + \"when IN_ACESSO = 1 then 'Sim' \" + \"else '' end\"))\n",
    "\n",
    "print(f'Criação da coluna com sucesso - {datetime.now()}.')"
   ]
  },
  {
   "cell_type": "code",
   "execution_count": 55,
   "metadata": {
    "tags": []
   },
   "outputs": [
    {
     "output_type": "stream",
     "name": "stdout",
     "text": "Criação da coluna TRANSCRICAO - 2020-08-20 17:56:06.718690.\nCriação da coluna com sucesso - 2020-08-20 17:56:06.757586.\n"
    }
   ],
   "source": [
    "print(f'Criação da coluna TRANSCRICAO - {datetime.now()}.')\n",
    "\n",
    "df_enem_in_transcricao = df_enem_in_acesso.withColumn('TRANSCRICAO', expr(\"case when IN_TRANSCRICAO = 0 then 'Não' \" + \"when IN_TRANSCRICAO = 1 then 'Sim' \" + \"else '' end\"))\n",
    "\n",
    "print(f'Criação da coluna com sucesso - {datetime.now()}.')"
   ]
  },
  {
   "cell_type": "code",
   "execution_count": 56,
   "metadata": {
    "tags": []
   },
   "outputs": [
    {
     "output_type": "stream",
     "name": "stdout",
     "text": "Criação da coluna LIBRAS - 2020-08-20 17:56:06.778530.\nCriação da coluna com sucesso - 2020-08-20 17:56:06.814435.\n"
    }
   ],
   "source": [
    "print(f'Criação da coluna LIBRAS - {datetime.now()}.')\n",
    "\n",
    "df_enem_in_libras = df_enem_in_transcricao.withColumn('LIBRAS', expr(\"case when IN_LIBRAS = 0 then 'Não' \" + \"when IN_LIBRAS = 1 then 'Sim' \" + \"else '' end\"))\n",
    "\n",
    "print(f'Criação da coluna com sucesso - {datetime.now()}.')"
   ]
  },
  {
   "cell_type": "code",
   "execution_count": 57,
   "metadata": {
    "tags": []
   },
   "outputs": [
    {
     "output_type": "stream",
     "name": "stdout",
     "text": "Criação da coluna LEITURA_LABIAL - 2020-08-20 17:56:06.842359.\nCriação da coluna com sucesso - 2020-08-20 17:56:06.876269.\n"
    }
   ],
   "source": [
    "print(f'Criação da coluna LEITURA_LABIAL - {datetime.now()}.')\n",
    "\n",
    "df_enem_in_leitura_labial = df_enem_in_libras.withColumn('LEITURA_LABIAL', expr(\"case when IN_LEITURA_LABIAL = 0 then 'Não' \" + \"when IN_LEITURA_LABIAL = 1 then 'Sim' \" + \"else '' end\"))\n",
    "\n",
    "print(f'Criação da coluna com sucesso - {datetime.now()}.')"
   ]
  },
  {
   "cell_type": "code",
   "execution_count": 58,
   "metadata": {
    "tags": []
   },
   "outputs": [
    {
     "output_type": "stream",
     "name": "stdout",
     "text": "Criação da coluna MESA_CADEIRA_RODAS - 2020-08-20 17:56:06.905193.\nCriação da coluna com sucesso - 2020-08-20 17:56:06.940104.\n"
    }
   ],
   "source": [
    "print(f'Criação da coluna MESA_CADEIRA_RODAS - {datetime.now()}.')\n",
    "\n",
    "df_enem_in_mesa_cadeira_rodas = df_enem_in_leitura_labial.withColumn('MESA_CADEIRA_RODAS', expr(\"case when IN_MESA_CADEIRA_RODAS = 0 then 'Não' \" + \"when IN_MESA_CADEIRA_RODAS = 1 then 'Sim' \" + \"else '' end\"))\n",
    "\n",
    "print(f'Criação da coluna com sucesso - {datetime.now()}.')"
   ]
  },
  {
   "cell_type": "code",
   "execution_count": 59,
   "metadata": {
    "tags": []
   },
   "outputs": [
    {
     "output_type": "stream",
     "name": "stdout",
     "text": "Criação da coluna MESA_CADEIRA_SEPARADA - 2020-08-20 17:56:06.964034.\nCriação da coluna com sucesso - 2020-08-20 17:56:07.000935.\n"
    }
   ],
   "source": [
    "print(f'Criação da coluna MESA_CADEIRA_SEPARADA - {datetime.now()}.')\n",
    "\n",
    "df_enem_in_mesa_cadeira_separada = df_enem_in_mesa_cadeira_rodas.withColumn('MESA_CADEIRA_SEPARADA', expr(\"case when IN_MESA_CADEIRA_SEPARADA = 0 then 'Não' \" + \"when IN_MESA_CADEIRA_SEPARADA = 1 then 'Sim' \" + \"else '' end\"))\n",
    "\n",
    "print(f'Criação da coluna com sucesso - {datetime.now()}.')"
   ]
  },
  {
   "cell_type": "code",
   "execution_count": 60,
   "metadata": {
    "tags": []
   },
   "outputs": [
    {
     "output_type": "stream",
     "name": "stdout",
     "text": "Criação da coluna APOIO_PERNA - 2020-08-20 17:56:07.027863.\nCriação da coluna com sucesso - 2020-08-20 17:56:07.071745.\n"
    }
   ],
   "source": [
    "print(f'Criação da coluna APOIO_PERNA - {datetime.now()}.')\n",
    "\n",
    "df_enem_in_apoio_perna = df_enem_in_mesa_cadeira_separada.withColumn('APOIO_PERNA', expr(\"case when IN_APOIO_PERNA = 0 then 'Não' \" + \"when IN_APOIO_PERNA = 1 then 'Sim' \" + \"else '' end\"))\n",
    "\n",
    "print(f'Criação da coluna com sucesso - {datetime.now()}.')"
   ]
  },
  {
   "cell_type": "code",
   "execution_count": 61,
   "metadata": {
    "tags": []
   },
   "outputs": [
    {
     "output_type": "stream",
     "name": "stdout",
     "text": "Criação da coluna GUIA_INTERPRETE - 2020-08-20 17:56:07.091693.\nCriação da coluna com sucesso - 2020-08-20 17:56:07.133582.\n"
    }
   ],
   "source": [
    "print(f'Criação da coluna GUIA_INTERPRETE - {datetime.now()}.')\n",
    "\n",
    "df_enem_in_guia_interprete = df_enem_in_apoio_perna.withColumn('GUIA_INTERPRETE', expr(\"case when IN_GUIA_INTERPRETE = 0 then 'Não' \" + \"when IN_GUIA_INTERPRETE = 1 then 'Sim' \" + \"else '' end\"))\n",
    "\n",
    "print(f'Criação da coluna com sucesso - {datetime.now()}.')"
   ]
  },
  {
   "cell_type": "code",
   "execution_count": 62,
   "metadata": {
    "tags": []
   },
   "outputs": [
    {
     "output_type": "stream",
     "name": "stdout",
     "text": "Criação da coluna COMPUTADOR - 2020-08-20 17:56:07.155522.\nCriação da coluna com sucesso - 2020-08-20 17:56:07.203394.\n"
    }
   ],
   "source": [
    "print(f'Criação da coluna COMPUTADOR - {datetime.now()}.')\n",
    "\n",
    "df_enem_in_computador = df_enem_in_guia_interprete.withColumn('COMPUTADOR', expr(\"case when IN_COMPUTADOR = 0 then 'Não' \" + \"when IN_COMPUTADOR = 1 then 'Sim' \" + \"else '' end\"))\n",
    "\n",
    "print(f'Criação da coluna com sucesso - {datetime.now()}.')"
   ]
  },
  {
   "cell_type": "code",
   "execution_count": 63,
   "metadata": {
    "tags": []
   },
   "outputs": [
    {
     "output_type": "stream",
     "name": "stdout",
     "text": "Criação da coluna CADEIRA_ESPECIAL - 2020-08-20 17:56:07.233314.\nCriação da coluna com sucesso - 2020-08-20 17:56:07.276200.\n"
    }
   ],
   "source": [
    "print(f'Criação da coluna CADEIRA_ESPECIAL - {datetime.now()}.')\n",
    "\n",
    "df_enem_in_cadeira_especial = df_enem_in_computador.withColumn('CADEIRA_ESPECIAL', expr(\"case when IN_CADEIRA_ESPECIAL = 0 then 'Não' \" + \"when IN_CADEIRA_ESPECIAL = 1 then 'Sim' \" + \"else '' end\"))\n",
    "\n",
    "print(f'Criação da coluna com sucesso - {datetime.now()}.')"
   ]
  },
  {
   "cell_type": "code",
   "execution_count": 64,
   "metadata": {
    "tags": []
   },
   "outputs": [
    {
     "output_type": "stream",
     "name": "stdout",
     "text": "Criação da coluna CADEIRA_CANHOTO - 2020-08-20 17:56:07.297144.\nCriação da coluna com sucesso - 2020-08-20 17:56:07.337036.\n"
    }
   ],
   "source": [
    "print(f'Criação da coluna CADEIRA_CANHOTO - {datetime.now()}.')\n",
    "\n",
    "df_enem_in_cadeira_canhoto = df_enem_in_cadeira_especial.withColumn('CADEIRA_CANHOTO', expr(\"case when IN_CADEIRA_CANHOTO = 0 then 'Não' \" + \"when IN_CADEIRA_CANHOTO = 1 then 'Sim' \" + \"else '' end\"))\n",
    "\n",
    "print(f'Criação da coluna com sucesso - {datetime.now()}.')"
   ]
  },
  {
   "cell_type": "code",
   "execution_count": 65,
   "metadata": {
    "tags": []
   },
   "outputs": [
    {
     "output_type": "stream",
     "name": "stdout",
     "text": "Criação da coluna CADEIRA_ACOLCHOADA - 2020-08-20 17:56:07.355986.\nCriação da coluna com sucesso - 2020-08-20 17:56:07.401864.\n"
    }
   ],
   "source": [
    "print(f'Criação da coluna CADEIRA_ACOLCHOADA - {datetime.now()}.')\n",
    "\n",
    "df_enem_in_cadeira_acolchoada = df_enem_in_cadeira_canhoto.withColumn('CADEIRA_ACOLCHOADA', expr(\"case when IN_CADEIRA_ACOLCHOADA = 0 then 'Não' \" + \"when IN_CADEIRA_ACOLCHOADA = 1 then 'Sim' \" + \"else '' end\"))\n",
    "\n",
    "print(f'Criação da coluna com sucesso - {datetime.now()}.')"
   ]
  },
  {
   "cell_type": "code",
   "execution_count": 66,
   "metadata": {
    "tags": []
   },
   "outputs": [
    {
     "output_type": "stream",
     "name": "stdout",
     "text": "Criação da coluna PROVA_DEITADO - 2020-08-20 17:56:07.421810.\nCriação da coluna com sucesso - 2020-08-20 17:56:07.459708.\n"
    }
   ],
   "source": [
    "print(f'Criação da coluna PROVA_DEITADO - {datetime.now()}.')\n",
    "\n",
    "df_enem_in_prova_deitado = df_enem_in_cadeira_acolchoada.withColumn('PROVA_DEITADO', expr(\"case when IN_PROVA_DEITADO = 0 then 'Não' \" + \"when IN_PROVA_DEITADO = 1 then 'Sim' \" + \"else '' end\"))\n",
    "\n",
    "print(f'Criação da coluna com sucesso - {datetime.now()}.')"
   ]
  },
  {
   "cell_type": "code",
   "execution_count": 67,
   "metadata": {
    "tags": []
   },
   "outputs": [
    {
     "output_type": "stream",
     "name": "stdout",
     "text": "Criação da coluna MOBILIARIO_OBESO - 2020-08-20 17:56:07.484643.\nCriação da coluna com sucesso - 2020-08-20 17:56:07.524536.\n"
    }
   ],
   "source": [
    "print(f'Criação da coluna MOBILIARIO_OBESO - {datetime.now()}.')\n",
    "\n",
    "df_enem_in_mobiliario_obeso = df_enem_in_prova_deitado.withColumn('MOBILIARIO_OBESO', expr(\"case when IN_MOBILIARIO_OBESO = 0 then 'Não' \" + \"when IN_MOBILIARIO_OBESO = 1 then 'Sim' \" + \"else '' end\"))\n",
    "\n",
    "print(f'Criação da coluna com sucesso - {datetime.now()}.')"
   ]
  },
  {
   "cell_type": "code",
   "execution_count": 68,
   "metadata": {
    "tags": []
   },
   "outputs": [
    {
     "output_type": "stream",
     "name": "stdout",
     "text": "Criação da coluna LAMINA_OVERLAY - 2020-08-20 17:56:07.544482.\nCriação da coluna com sucesso - 2020-08-20 17:56:07.584375.\n"
    }
   ],
   "source": [
    "print(f'Criação da coluna LAMINA_OVERLAY - {datetime.now()}.')\n",
    "\n",
    "df_enem_in_lamina_overlay = df_enem_in_mobiliario_obeso.withColumn('LAMINA_OVERLAY', expr(\"case when IN_LAMINA_OVERLAY = 0 then 'Não' \" + \"when IN_LAMINA_OVERLAY = 1 then 'Sim' \" + \"else '' end\"))\n",
    "\n",
    "print(f'Criação da coluna com sucesso - {datetime.now()}.')"
   ]
  },
  {
   "cell_type": "code",
   "execution_count": 69,
   "metadata": {
    "tags": []
   },
   "outputs": [
    {
     "output_type": "stream",
     "name": "stdout",
     "text": "Criação da coluna PROTETOR_AURICULAR - 2020-08-20 17:56:07.609309.\nCriação da coluna com sucesso - 2020-08-20 17:56:07.655186.\n"
    }
   ],
   "source": [
    "print(f'Criação da coluna PROTETOR_AURICULAR - {datetime.now()}.')\n",
    "\n",
    "df_enem_in_protetor_auricular = df_enem_in_lamina_overlay.withColumn('PROTETOR_AURICULAR', expr(\"case when IN_PROTETOR_AURICULAR = 0 then 'Não' \" + \"when IN_PROTETOR_AURICULAR = 1 then 'Sim' \" + \"else '' end\"))\n",
    "\n",
    "print(f'Criação da coluna com sucesso - {datetime.now()}.')"
   ]
  },
  {
   "cell_type": "code",
   "execution_count": 70,
   "metadata": {
    "tags": []
   },
   "outputs": [
    {
     "output_type": "stream",
     "name": "stdout",
     "text": "Criação da coluna MEDIDOR_GLICOSE - 2020-08-20 17:56:07.670146.\nCriação da coluna com sucesso - 2020-08-20 17:56:07.711036.\n"
    }
   ],
   "source": [
    "print(f'Criação da coluna MEDIDOR_GLICOSE - {datetime.now()}.')\n",
    "\n",
    "df_enem_in_medidor_glicose = df_enem_in_protetor_auricular.withColumn('MEDIDOR_GLICOSE', expr(\"case when IN_MEDIDOR_GLICOSE = 0 then 'Não' \" + \"when IN_MEDIDOR_GLICOSE = 1 then 'Sim' \" + \"else '' end\"))\n",
    "\n",
    "print(f'Criação da coluna com sucesso - {datetime.now()}.')"
   ]
  },
  {
   "cell_type": "code",
   "execution_count": 71,
   "metadata": {
    "tags": []
   },
   "outputs": [
    {
     "output_type": "stream",
     "name": "stdout",
     "text": "Criação da coluna MAQUINA_BRAILE - 2020-08-20 17:56:07.736968.\nCriação da coluna com sucesso - 2020-08-20 17:56:07.783841.\n"
    }
   ],
   "source": [
    "print(f'Criação da coluna MAQUINA_BRAILE - {datetime.now()}.')\n",
    "\n",
    "df_enem_in_maquina_braile = df_enem_in_medidor_glicose.withColumn('MAQUINA_BRAILE', expr(\"case when IN_MAQUINA_BRAILE = 0 then 'Não' \" + \"when IN_MAQUINA_BRAILE = 1 then 'Sim' \" + \"else '' end\"))\n",
    "\n",
    "print(f'Criação da coluna com sucesso - {datetime.now()}.')"
   ]
  },
  {
   "cell_type": "code",
   "execution_count": 72,
   "metadata": {
    "tags": []
   },
   "outputs": [
    {
     "output_type": "stream",
     "name": "stdout",
     "text": "Criação da coluna SOROBAN - 2020-08-20 17:56:07.798802.\nCriação da coluna com sucesso - 2020-08-20 17:56:07.839692.\n"
    }
   ],
   "source": [
    "print(f'Criação da coluna SOROBAN - {datetime.now()}.')\n",
    "\n",
    "df_enem_in_soroban = df_enem_in_maquina_braile.withColumn('SOROBAN', expr(\"case when IN_SOROBAN = 0 then 'Não' \" + \"when IN_SOROBAN = 1 then 'Sim' \" + \"else '' end\"))\n",
    "\n",
    "print(f'Criação da coluna com sucesso - {datetime.now()}.')"
   ]
  },
  {
   "cell_type": "code",
   "execution_count": 73,
   "metadata": {
    "tags": []
   },
   "outputs": [
    {
     "output_type": "stream",
     "name": "stdout",
     "text": "Criação da coluna MARCA_PASSO - 2020-08-20 17:56:07.858641.\nCriação da coluna com sucesso - 2020-08-20 17:56:07.899533.\n"
    }
   ],
   "source": [
    "print(f'Criação da coluna MARCA_PASSO - {datetime.now()}.')\n",
    "\n",
    "df_enem_in_marca_passo = df_enem_in_soroban.withColumn('MARCA_PASSO', expr(\"case when IN_MARCA_PASSO = 0 then 'Não' \" + \"when IN_MARCA_PASSO = 1 then 'Sim' \" + \"else '' end\"))\n",
    "\n",
    "print(f'Criação da coluna com sucesso - {datetime.now()}.')"
   ]
  },
  {
   "cell_type": "code",
   "execution_count": 74,
   "metadata": {
    "tags": []
   },
   "outputs": [
    {
     "output_type": "stream",
     "name": "stdout",
     "text": "Criação da coluna SONDA - 2020-08-20 17:56:07.925463.\nCriação da coluna com sucesso - 2020-08-20 17:56:07.973336.\n"
    }
   ],
   "source": [
    "print(f'Criação da coluna SONDA - {datetime.now()}.')\n",
    "\n",
    "df_enem_in_sonda = df_enem_in_marca_passo.withColumn('SONDA', expr(\"case when IN_SONDA = 0 then 'Não' \" + \"when IN_SONDA = 1 then 'Sim' \" + \"else '' end\"))\n",
    "\n",
    "print(f'Criação da coluna com sucesso - {datetime.now()}.')"
   ]
  },
  {
   "cell_type": "code",
   "execution_count": 75,
   "metadata": {
    "tags": []
   },
   "outputs": [
    {
     "output_type": "stream",
     "name": "stdout",
     "text": "Criação da coluna MEDICAMENTOS - 2020-08-20 17:56:07.998269.\nCriação da coluna com sucesso - 2020-08-20 17:56:08.035171.\n"
    }
   ],
   "source": [
    "print(f'Criação da coluna MEDICAMENTOS - {datetime.now()}.')\n",
    "\n",
    "df_enem_in_medicamentos = df_enem_in_sonda.withColumn('MEDICAMENTOS', expr(\"case when IN_MEDICAMENTOS = 0 then 'Não' \" + \"when IN_MEDICAMENTOS = 1 then 'Sim' \" + \"else '' end\"))\n",
    "\n",
    "print(f'Criação da coluna com sucesso - {datetime.now()}.')"
   ]
  },
  {
   "cell_type": "code",
   "execution_count": 76,
   "metadata": {
    "tags": []
   },
   "outputs": [
    {
     "output_type": "stream",
     "name": "stdout",
     "text": "Criação da coluna SALA_INDIVIDUAL - 2020-08-20 17:56:08.063094.\nCriação da coluna com sucesso - 2020-08-20 17:56:08.103987.\n"
    }
   ],
   "source": [
    "print(f'Criação da coluna SALA_INDIVIDUAL - {datetime.now()}.')\n",
    "\n",
    "df_enem_in_sala_individual = df_enem_in_medicamentos.withColumn('SALA_INDIVIDUAL', expr(\"case when IN_SALA_INDIVIDUAL = 0 then 'Não' \" + \"when IN_SALA_INDIVIDUAL = 1 then 'Sim' \" + \"else '' end\"))\n",
    "\n",
    "print(f'Criação da coluna com sucesso - {datetime.now()}.')"
   ]
  },
  {
   "cell_type": "code",
   "execution_count": 77,
   "metadata": {
    "tags": []
   },
   "outputs": [
    {
     "output_type": "stream",
     "name": "stdout",
     "text": "Criação da coluna SALA_ESPECIAL - 2020-08-20 17:56:08.129918.\nCriação da coluna com sucesso - 2020-08-20 17:56:08.170808.\n"
    }
   ],
   "source": [
    "print(f'Criação da coluna SALA_ESPECIAL - {datetime.now()}.')\n",
    "\n",
    "df_enem_in_sala_especial = df_enem_in_sala_individual.withColumn('SALA_ESPECIAL', expr(\"case when IN_SALA_ESPECIAL = 0 then 'Não' \" + \"when IN_SALA_ESPECIAL = 1 then 'Sim' \" + \"else '' end\"))\n",
    "\n",
    "print(f'Criação da coluna com sucesso - {datetime.now()}.')"
   ]
  },
  {
   "cell_type": "code",
   "execution_count": 78,
   "metadata": {
    "tags": []
   },
   "outputs": [
    {
     "output_type": "stream",
     "name": "stdout",
     "text": "Criação da coluna SALA_ACOMPANHANTE - 2020-08-20 17:56:08.189756.\nCriação da coluna com sucesso - 2020-08-20 17:56:08.227656.\n"
    }
   ],
   "source": [
    "print(f'Criação da coluna SALA_ACOMPANHANTE - {datetime.now()}.')\n",
    "\n",
    "df_enem_in_sala_acompanhante = df_enem_in_sala_especial.withColumn('SALA_ACOMPANHANTE', expr(\"case when IN_SALA_ACOMPANHANTE = 0 then 'Não' \" + \"when IN_SALA_ACOMPANHANTE = 1 then 'Sim' \" + \"else '' end\"))\n",
    "\n",
    "print(f'Criação da coluna com sucesso - {datetime.now()}.')"
   ]
  },
  {
   "cell_type": "code",
   "execution_count": 79,
   "metadata": {
    "tags": []
   },
   "outputs": [
    {
     "output_type": "stream",
     "name": "stdout",
     "text": "Criação da coluna MOBILIARIO_ESPECIFICO - 2020-08-20 17:56:08.249596.\nCriação da coluna com sucesso - 2020-08-20 17:56:08.296472.\n"
    }
   ],
   "source": [
    "print(f'Criação da coluna MOBILIARIO_ESPECIFICO - {datetime.now()}.')\n",
    "\n",
    "df_enem_in_mobiliario_especifico = df_enem_in_sala_acompanhante.withColumn('MOBILIARIO_ESPECIFICO', expr(\"case when IN_MOBILIARIO_ESPECIFICO = 0 then 'Não' \" + \"when IN_MOBILIARIO_ESPECIFICO = 1 then 'Sim' \" + \"else '' end\"))\n",
    "\n",
    "print(f'Criação da coluna com sucesso - {datetime.now()}.')"
   ]
  },
  {
   "cell_type": "code",
   "execution_count": 80,
   "metadata": {
    "tags": []
   },
   "outputs": [
    {
     "output_type": "stream",
     "name": "stdout",
     "text": "Criação da coluna NOME_SOCIAL - 2020-08-20 17:56:08.314425.\nCriação da coluna com sucesso - 2020-08-20 17:56:08.352323.\n"
    }
   ],
   "source": [
    "print(f'Criação da coluna NOME_SOCIAL - {datetime.now()}.')\n",
    "\n",
    "df_enem_in_nome_social = df_enem_in_mobiliario_especifico.withColumn('NOME_SOCIAL', expr(\"case when IN_NOME_SOCIAL = 0 then 'Não' \" + \"when IN_NOME_SOCIAL = 1 then 'Sim' \" + \"else '' end\"))\n",
    "\n",
    "print(f'Criação da coluna com sucesso - {datetime.now()}.')"
   ]
  },
  {
   "cell_type": "code",
   "execution_count": 81,
   "metadata": {
    "tags": []
   },
   "outputs": [
    {
     "output_type": "stream",
     "name": "stdout",
     "text": "Criação da coluna PRESENCA_CIENCIAS_NATUREZA - 2020-08-20 17:56:08.377255.\nCriação da coluna com sucesso - 2020-08-20 17:56:08.422135.\n"
    }
   ],
   "source": [
    "print(f'Criação da coluna PRESENCA_CIENCIAS_NATUREZA - {datetime.now()}.')\n",
    "\n",
    "df_enem_tp_presenca_cn = df_enem_in_nome_social.withColumn('PRESENCA_CIENCIAS_NATUREZA', expr(\"case when TP_PRESENCA_CN = 0 then 'Faltou à prova' \" + \"when TP_PRESENCA_CN = 1 then 'Presente na prova' \" + \"when TP_PRESENCA_CN = 2 then 'Eliminado na prova' \" + \"else '' end\"))\n",
    "\n",
    "print(f'Criação da coluna com sucesso - {datetime.now()}.')"
   ]
  },
  {
   "cell_type": "code",
   "execution_count": 82,
   "metadata": {
    "tags": []
   },
   "outputs": [
    {
     "output_type": "stream",
     "name": "stdout",
     "text": "Criação da coluna PRESENCA_CIENCIAS_HUMANAS - 2020-08-20 17:56:08.443078.\nCriação da coluna com sucesso - 2020-08-20 17:56:08.490951.\n"
    }
   ],
   "source": [
    "print(f'Criação da coluna PRESENCA_CIENCIAS_HUMANAS - {datetime.now()}.')\n",
    "\n",
    "df_enem_tp_presenca_ch = df_enem_tp_presenca_cn.withColumn('PRESENCA_CIENCIAS_HUMANAS', expr(\"case when TP_PRESENCA_CH = 0 then 'Faltou à prova' \" + \"when TP_PRESENCA_CH = 1 then 'Presente na prova' \" + \"when TP_PRESENCA_CH = 2 then 'Eliminado na prova' \" + \"else '' end\"))\n",
    "\n",
    "print(f'Criação da coluna com sucesso - {datetime.now()}.')"
   ]
  },
  {
   "cell_type": "code",
   "execution_count": 83,
   "metadata": {
    "tags": []
   },
   "outputs": [
    {
     "output_type": "stream",
     "name": "stdout",
     "text": "Criação da coluna PRESENCA_LINGUAGENS_CODIGOS - 2020-08-20 17:56:08.516881.\nCriação da coluna com sucesso - 2020-08-20 17:56:08.557772.\n"
    }
   ],
   "source": [
    "print(f'Criação da coluna PRESENCA_LINGUAGENS_CODIGOS - {datetime.now()}.')\n",
    "\n",
    "df_enem_tp_presenca_lc = df_enem_tp_presenca_ch.withColumn('PRESENCA_LINGUAGENS_CODIGOS', expr(\"case when TP_PRESENCA_LC = 0 then 'Faltou à prova' \" + \"when TP_PRESENCA_LC = 1 then 'Presente na prova' \" + \"when TP_PRESENCA_LC = 2 then 'Eliminado na prova' \" + \"else '' end\"))\n",
    "\n",
    "print(f'Criação da coluna com sucesso - {datetime.now()}.')"
   ]
  },
  {
   "cell_type": "code",
   "execution_count": 84,
   "metadata": {
    "tags": []
   },
   "outputs": [
    {
     "output_type": "stream",
     "name": "stdout",
     "text": "Criação da coluna PRESENCA_MATEMATICA - 2020-08-20 17:56:08.576721.\nCriação da coluna com sucesso - 2020-08-20 17:56:08.622599.\n"
    }
   ],
   "source": [
    "print(f'Criação da coluna PRESENCA_MATEMATICA - {datetime.now()}.')\n",
    "\n",
    "df_enem_tp_presenca_mt = df_enem_tp_presenca_lc.withColumn('PRESENCA_MATEMATICA', expr(\"case when TP_PRESENCA_MT = 0 then 'Faltou à prova' \" + \"when TP_PRESENCA_MT = 1 then 'Presente na prova' \" + \"when TP_PRESENCA_MT = 2 then 'Eliminado na prova' \" + \"else '' end\"))\n",
    "\n",
    "print(f'Criação da coluna com sucesso - {datetime.now()}.')"
   ]
  },
  {
   "cell_type": "code",
   "execution_count": 85,
   "metadata": {
    "tags": []
   },
   "outputs": [
    {
     "output_type": "stream",
     "name": "stdout",
     "text": "Criação da coluna LINGUA - 2020-08-20 17:56:08.645546.\nCriação da coluna com sucesso - 2020-08-20 17:56:08.684469.\n"
    }
   ],
   "source": [
    "print(f'Criação da coluna LINGUA - {datetime.now()}.')\n",
    "\n",
    "df_enem_tp_lingua = df_enem_tp_presenca_mt.withColumn('LINGUA', expr(\"case when TP_LINGUA = 0 then 'Inglês' \" + \"when TP_LINGUA = 1 then 'Espanhol' \" + \"else '' end\"))\n",
    "\n",
    "print(f'Criação da coluna com sucesso - {datetime.now()}.')"
   ]
  },
  {
   "cell_type": "code",
   "execution_count": 86,
   "metadata": {
    "tags": []
   },
   "outputs": [
    {
     "output_type": "stream",
     "name": "stdout",
     "text": "Criação da coluna STATUS_REDACAO - 2020-08-20 17:56:08.702386.\nCriação da coluna com sucesso - 2020-08-20 17:56:08.746269.\n"
    }
   ],
   "source": [
    "print(f'Criação da coluna STATUS_REDACAO - {datetime.now()}.')\n",
    "\n",
    "df_enem_tp_status_redacao = df_enem_tp_lingua.withColumn('STATUS_REDACAO', expr(\"case when TP_STATUS_REDACAO = 1 then 'Sem problemas' \" + \"when TP_STATUS_REDACAO = 2 then 'Anulada' \" + \"when TP_STATUS_REDACAO = 3 then 'Cópia Texto Motivador' \" + \"when TP_STATUS_REDACAO = 4 then 'Em Branco' \" + \"when TP_STATUS_REDACAO = 6 then 'Fuga ao tema' \" + \"when TP_STATUS_REDACAO = 7 then 'Não atendimento ao tipo textual' \" + \"when TP_STATUS_REDACAO = 8 then 'Texto insuficiente' \" + \"when TP_STATUS_REDACAO = 9 then 'Parte desconectada' \" + \"else '' end\"))\n",
    "\n",
    "print(f'Criação da coluna com sucesso - {datetime.now()}.')"
   ]
  },
  {
   "cell_type": "code",
   "execution_count": 87,
   "metadata": {
    "tags": []
   },
   "outputs": [
    {
     "output_type": "stream",
     "name": "stdout",
     "text": "Criação da coluna PAI_ESTUDOU - 2020-08-20 17:56:08.766214.\nCriação da coluna com sucesso - 2020-08-20 17:56:08.814117.\n"
    }
   ],
   "source": [
    "print(f'Criação da coluna PAI_ESTUDOU - {datetime.now()}.')\n",
    "\n",
    "df_enem_q001 = df_enem_tp_status_redacao.withColumn('PAI_ESTUDOU', expr(\"case when Q001 = 'A' then 'Nunca estudou.' \" + \"when Q001 = 'B' then 'Não completou a 4ª série/5º ano do Ensino Fundamental.' \" + \"when Q001 = 'C' then 'Completou a 4ª série/5º ano, mas não completou a 8ª série/9º ano do Ensino Fundamental.' \" + \"when Q001 = 'D' then 'Completou a 8ª série/9º ano do Ensino Fundamental, mas não completou o Ensino Médio.' \" + \"when Q001 = 'E' then 'Completou o Ensino Médio, mas não completou a Faculdade.' \" + \"when Q001 = 'F' then 'Completou a Faculdade, mas não completou a Pós-graduação.' \" + \"when Q001 = 'G' then 'Completou a Pós-graduação.' \" + \"when Q001 = 'H' then 'Não sei.' \" + \"else '' end\"))\n",
    "\n",
    "print(f'Criação da coluna com sucesso - {datetime.now()}.')"
   ]
  },
  {
   "cell_type": "code",
   "execution_count": 88,
   "metadata": {
    "tags": []
   },
   "outputs": [
    {
     "output_type": "stream",
     "name": "stdout",
     "text": "Criação da coluna MAE_ESTUDOU - 2020-08-20 17:56:08.829046.\nCriação da coluna com sucesso - 2020-08-20 17:56:08.875923.\n"
    }
   ],
   "source": [
    "print(f'Criação da coluna MAE_ESTUDOU - {datetime.now()}.')\n",
    "\n",
    "df_enem_q002 = df_enem_q001.withColumn('MAE_ESTUDOU', expr(\"case when Q002 = 'A' then 'Nunca estudou.' \" + \"when Q002 = 'B' then 'Não completou a 4ª série/5º ano do Ensino Fundamental.' \" + \"when Q002 = 'C' then 'Completou a 4ª série/5º ano, mas não completou a 8ª série/9º ano do Ensino Fundamental.' \" + \"when Q002 = 'D' then 'Completou a 8ª série/9º ano do Ensino Fundamental, mas não completou o Ensino Médio.' \" + \"when Q002 = 'E' then 'Completou o Ensino Médio, mas não completou a Faculdade.' \" + \"when Q002 = 'F' then 'Completou a Faculdade, mas não completou a Pós-graduação.' \" + \"when Q002 = 'G' then 'Completou a Pós-graduação.' \" + \"when Q002 = 'H' then 'Não sei.' \" + \"else '' end\"))\n",
    "\n",
    "print(f'Criação da coluna com sucesso - {datetime.now()}.')"
   ]
  },
  {
   "cell_type": "code",
   "execution_count": 89,
   "metadata": {
    "tags": []
   },
   "outputs": [
    {
     "output_type": "stream",
     "name": "stdout",
     "text": "Criação da coluna QTDE_MORADOR_RESIDENCIA - 2020-08-20 17:56:08.891880.\nCriação da coluna com sucesso - 2020-08-20 17:56:08.949723.\n"
    }
   ],
   "source": [
    "print(f'Criação da coluna QTDE_MORADOR_RESIDENCIA - {datetime.now()}.')\n",
    "\n",
    "df_enem_q005 = df_enem_q002.withColumn('QTDE_MORADOR_RESIDENCIA', expr(\"case when Q005 = 1 then '1, pois moro sozinho(a).' \" + \"when Q005 = 2 then '2' \" + \"when Q005 = 3 then '3' \" + \"when Q005 = 4 then '4' \" + \"when Q005 = 5 then '5' \" + \"when Q005 = 6 then '6' \" + \"when Q005 = 7 then '7' \" + \"when Q005 = 8 then '8' \" + \"when Q005 = 9 then '9' \" + \"when Q005 = 10 then '10' \" + \"when Q005 = 11 then '11' \" + \"when Q005 = 12 then '12' \" + \"when Q005 = 13 then '13' \" + \"when Q005 = 14 then '14' \" + \"when Q005 = 15 then '15' \" + \"when Q005 = 16 then '16' \" + \"when Q005 = 17 then '17' \" + \"when Q005 = 18 then '18' \" + \"when Q005 = 19 then '19' \" + \"when Q005 = 20 then '20' \" + \"else '' end\"))\n",
    "\n",
    "print(f'Criação da coluna com sucesso - {datetime.now()}.')"
   ]
  },
  {
   "cell_type": "code",
   "execution_count": 90,
   "metadata": {
    "tags": []
   },
   "outputs": [
    {
     "output_type": "stream",
     "name": "stdout",
     "text": "Criação da coluna RENDA_MENSAL_FAMILIAR - 2020-08-20 17:56:08.970667.\nCriação da coluna com sucesso - 2020-08-20 17:56:09.019536.\n"
    }
   ],
   "source": [
    "print(f'Criação da coluna RENDA_MENSAL_FAMILIAR - {datetime.now()}.')\n",
    "\n",
    "df_enem_q006 = df_enem_q005.withColumn('RENDA_MENSAL_FAMILIAR', expr(\"case when Q006 = 'A' then 'Nenhuma Renda.' \" + \"when Q006 = 'B' then 'Até 1,0 salário mínimo.' \" + \"when Q006 = 'C' then 'Acima de 1,0 salário mínimo até 1,5.' \" + \"when Q006 = 'D' then 'Acima de 1,5 salário mínimo até 2,0 salários mínimos.' \" + \"when Q006 = 'E' then 'Acima de 2,0 salários mínimos até 2,5 salários mínimos.' \" + \"when Q006 = 'F' then 'Acima de 2,5 salários mínimos até 3,0 salários mínimos.' \" + \"when Q006 = 'G' then 'Acima de 3,0 salários mínimos até 4,0 salários mínimos.' \" + \"when Q006 = 'H' then 'Acima de 4,0 salários mínimos até 5,0 salários mínimos.' \" + \"when Q006 = 'I' then 'Acima de 5,0 salários mínimos até 6,0 salários mínimos.' \" + \"when Q006 = 'J' then 'Acima de 6,0 salários mínimos até 7,0 salários mínimos.' \" + \"when Q006 = 'K' then 'Acima de 7,0 salários mínimos até 8,0 salários mínimos.' \" + \"when Q006 = 'L' then 'Acima de 8,0 salários mínimos até 9,0 salários mínimos.' \" + \"when Q006 = 'M' then 'Acima de 9,0 salários mínimos até 10,0 salários mínimos.' \" + \"when Q006 = 'N' then 'Acima de 10,0 salários mínimos até 12,0 salários mínimos.' \" + \"when Q006 = 'O' then 'Acima de 12,0 salários mínimos até 15,0 salários mínimos.' \" + \"when Q006 = 'P' then 'Acima de 15,0 salários mínimos até 20,0 salários mínimos.' \" + \"when Q006 = 'Q' then 'Acima de 20 salários mínimos.' \" + \"else '' end\"))\n",
    "\n",
    "print(f'Criação da coluna com sucesso - {datetime.now()}.')"
   ]
  },
  {
   "cell_type": "code",
   "execution_count": 91,
   "metadata": {
    "tags": []
   },
   "outputs": [
    {
     "output_type": "stream",
     "name": "stdout",
     "text": "Criação da coluna RESIDENCIA_CELULAR - 2020-08-20 17:56:09.049456.\nCriação da coluna com sucesso - 2020-08-20 17:56:09.107301.\n"
    }
   ],
   "source": [
    "print(f'Criação da coluna RESIDENCIA_CELULAR - {datetime.now()}.')\n",
    "\n",
    "df_enem_q022 = df_enem_q006.withColumn('RESIDENCIA_CELULAR', expr(\"case when Q022 = 'A' then 'Não.' \" + \"when Q022 = 'B' then 'Sim, um.' \" + \"when Q022 = 'C' then 'Sim, dois.' \" + \"when Q022 = 'D' then 'Sim, três.' \" + \"when Q022 = 'E' then 'Sim, quatro ou mais.' \" + \"else '' end\"))\n",
    "\n",
    "print(f'Criação da coluna com sucesso - {datetime.now()}.')"
   ]
  },
  {
   "cell_type": "code",
   "execution_count": 92,
   "metadata": {
    "tags": []
   },
   "outputs": [
    {
     "output_type": "stream",
     "name": "stdout",
     "text": "Criação da coluna RESIDENCIA_COMPUTADOR - 2020-08-20 17:56:09.127249.\nCriação da coluna com sucesso - 2020-08-20 17:56:09.205041.\n"
    }
   ],
   "source": [
    "print(f'Criação da coluna RESIDENCIA_COMPUTADOR - {datetime.now()}.')\n",
    "\n",
    "df_enem_q024 = df_enem_q022.withColumn('RESIDENCIA_COMPUTADOR', expr(\"case when Q024 = 'A' then 'Não.' \" + \"when Q024 = 'B' then 'Sim, um.' \" + \"when Q024 = 'C' then 'Sim, dois.' \" + \"when Q024 = 'D' then 'Sim, três.' \" + \"when Q024 = 'E' then 'Sim, quatro ou mais.' \" + \"else '' end\"))\n",
    "\n",
    "print(f'Criação da coluna com sucesso - {datetime.now()}.')"
   ]
  },
  {
   "cell_type": "code",
   "execution_count": 93,
   "metadata": {
    "tags": []
   },
   "outputs": [
    {
     "output_type": "stream",
     "name": "stdout",
     "text": "Criação da coluna RESIDENCIA_INTERNET - 2020-08-20 17:56:09.221995.\nCriação da coluna com sucesso - 2020-08-20 17:56:09.267872.\n"
    }
   ],
   "source": [
    "print(f'Criação da coluna RESIDENCIA_INTERNET - {datetime.now()}.')\n",
    "\n",
    "df_enem_q025 = df_enem_q024.withColumn('RESIDENCIA_INTERNET', expr(\"case when Q025 = 'A' then 'Não.' \" + \"when Q025 = 'B' then 'Sim.' \" + \"else '' end\"))\n",
    "\n",
    "print(f'Criação da coluna com sucesso - {datetime.now()}.')"
   ]
  },
  {
   "cell_type": "code",
   "execution_count": 94,
   "metadata": {
    "tags": []
   },
   "outputs": [
    {
     "output_type": "stream",
     "name": "stdout",
     "text": "Criação do Dataframe para análise exploratória df_enem_analise - 2020-08-20 17:56:09.282832.\nDataframe df_enem_analise criado com sucesso - 2020-08-20 17:56:09.282832.\n"
    }
   ],
   "source": [
    "# Criação do dataframe df_enem_analise para análise exploratória.\n",
    "\n",
    "print(f'Criação do Dataframe para análise exploratória df_enem_analise - {datetime.now()}.')\n",
    "\n",
    "df_enem_analise = df_enem_q025\n",
    "\n",
    "print(f'Dataframe df_enem_analise criado com sucesso - {datetime.now()}.')"
   ]
  },
  {
   "cell_type": "code",
   "execution_count": 95,
   "metadata": {
    "tags": []
   },
   "outputs": [
    {
     "output_type": "stream",
     "name": "stdout",
     "text": "Apresentação da estutura do dataframe df_enem_analise - 2020-08-20 17:56:09.298789.\nroot\n |-- NU_INSCRICAO: long (nullable = true)\n |-- NU_ANO: integer (nullable = true)\n |-- NO_MUNICIPIO_RESIDENCIA: string (nullable = true)\n |-- CO_UF_RESIDENCIA: integer (nullable = true)\n |-- SG_UF_RESIDENCIA: string (nullable = true)\n |-- NU_IDADE: integer (nullable = true)\n |-- TP_SEXO: string (nullable = true)\n |-- TP_ESTADO_CIVIL: integer (nullable = true)\n |-- TP_COR_RACA: integer (nullable = true)\n |-- TP_NACIONALIDADE: integer (nullable = true)\n |-- NO_MUNICIPIO_NASCIMENTO: string (nullable = true)\n |-- CO_UF_NASCIMENTO: integer (nullable = true)\n |-- SG_UF_NASCIMENTO: string (nullable = true)\n |-- TP_ST_CONCLUSAO: integer (nullable = true)\n |-- TP_ESCOLA: integer (nullable = true)\n |-- TP_ENSINO: integer (nullable = true)\n |-- IN_TREINEIRO: integer (nullable = true)\n |-- CO_UF_ESC: integer (nullable = true)\n |-- SG_UF_ESC: string (nullable = true)\n |-- TP_DEPENDENCIA_ADM_ESC: integer (nullable = true)\n |-- TP_LOCALIZACAO_ESC: integer (nullable = true)\n |-- IN_BAIXA_VISAO: integer (nullable = true)\n |-- IN_CEGUEIRA: integer (nullable = true)\n |-- IN_SURDEZ: integer (nullable = true)\n |-- IN_DEFICIENCIA_AUDITIVA: integer (nullable = true)\n |-- IN_SURDO_CEGUEIRA: integer (nullable = true)\n |-- IN_DEFICIENCIA_FISICA: integer (nullable = true)\n |-- IN_DEFICIENCIA_MENTAL: integer (nullable = true)\n |-- IN_DEFICIT_ATENCAO: integer (nullable = true)\n |-- IN_DISLEXIA: integer (nullable = true)\n |-- IN_DISCALCULIA: integer (nullable = true)\n |-- IN_AUTISMO: integer (nullable = true)\n |-- IN_VISAO_MONOCULAR: integer (nullable = true)\n |-- IN_OUTRA_DEF: integer (nullable = true)\n |-- IN_GESTANTE: integer (nullable = true)\n |-- IN_LACTANTE: integer (nullable = true)\n |-- IN_IDOSO: integer (nullable = true)\n |-- IN_ESTUDA_CLASSE_HOSPITALAR: integer (nullable = true)\n |-- IN_SEM_RECURSO: integer (nullable = true)\n |-- IN_BRAILLE: integer (nullable = true)\n |-- IN_AMPLIADA_24: integer (nullable = true)\n |-- IN_AMPLIADA_18: integer (nullable = true)\n |-- IN_LEDOR: integer (nullable = true)\n |-- IN_ACESSO: integer (nullable = true)\n |-- IN_TRANSCRICAO: integer (nullable = true)\n |-- IN_LIBRAS: integer (nullable = true)\n |-- IN_LEITURA_LABIAL: integer (nullable = true)\n |-- IN_MESA_CADEIRA_RODAS: integer (nullable = true)\n |-- IN_MESA_CADEIRA_SEPARADA: integer (nullable = true)\n |-- IN_APOIO_PERNA: integer (nullable = true)\n |-- IN_GUIA_INTERPRETE: integer (nullable = true)\n |-- IN_COMPUTADOR: integer (nullable = true)\n |-- IN_CADEIRA_ESPECIAL: integer (nullable = true)\n |-- IN_CADEIRA_CANHOTO: integer (nullable = true)\n |-- IN_CADEIRA_ACOLCHOADA: integer (nullable = true)\n |-- IN_PROVA_DEITADO: integer (nullable = true)\n |-- IN_MOBILIARIO_OBESO: integer (nullable = true)\n |-- IN_LAMINA_OVERLAY: integer (nullable = true)\n |-- IN_PROTETOR_AURICULAR: integer (nullable = true)\n |-- IN_MEDIDOR_GLICOSE: integer (nullable = true)\n |-- IN_MAQUINA_BRAILE: integer (nullable = true)\n |-- IN_SOROBAN: integer (nullable = true)\n |-- IN_MARCA_PASSO: integer (nullable = true)\n |-- IN_SONDA: integer (nullable = true)\n |-- IN_MEDICAMENTOS: integer (nullable = true)\n |-- IN_SALA_INDIVIDUAL: integer (nullable = true)\n |-- IN_SALA_ESPECIAL: integer (nullable = true)\n |-- IN_SALA_ACOMPANHANTE: integer (nullable = true)\n |-- IN_MOBILIARIO_ESPECIFICO: integer (nullable = true)\n |-- IN_NOME_SOCIAL: integer (nullable = true)\n |-- NO_MUNICIPIO_PROVA: string (nullable = true)\n |-- CO_UF_PROVA: integer (nullable = true)\n |-- SG_UF_PROVA: string (nullable = true)\n |-- TP_PRESENCA_CN: integer (nullable = true)\n |-- TP_PRESENCA_CH: integer (nullable = true)\n |-- TP_PRESENCA_LC: integer (nullable = true)\n |-- TP_PRESENCA_MT: integer (nullable = true)\n |-- NU_NOTA_CN: double (nullable = true)\n |-- NU_NOTA_CH: double (nullable = true)\n |-- NU_NOTA_LC: double (nullable = true)\n |-- NU_NOTA_MT: double (nullable = true)\n |-- TP_LINGUA: integer (nullable = true)\n |-- TP_STATUS_REDACAO: integer (nullable = true)\n |-- NU_NOTA_COMP1: integer (nullable = true)\n |-- NU_NOTA_COMP2: integer (nullable = true)\n |-- NU_NOTA_COMP3: integer (nullable = true)\n |-- NU_NOTA_COMP4: integer (nullable = true)\n |-- NU_NOTA_COMP5: integer (nullable = true)\n |-- NU_NOTA_REDACAO: integer (nullable = true)\n |-- Q001: string (nullable = true)\n |-- Q002: string (nullable = true)\n |-- Q005: integer (nullable = true)\n |-- Q006: string (nullable = true)\n |-- Q022: string (nullable = true)\n |-- Q024: string (nullable = true)\n |-- Q025: string (nullable = true)\n |-- SEXO: string (nullable = false)\n |-- ESTADO_CIVIL: string (nullable = false)\n |-- RACA: string (nullable = false)\n |-- NACIONALIDADE: string (nullable = false)\n |-- SITUACAO_CONCLUSAO_ENSINO_MEDIO: string (nullable = false)\n |-- TIPO_ESCOLA: string (nullable = false)\n |-- TIPO_ENSINO: string (nullable = false)\n |-- TREINEIRO: string (nullable = false)\n |-- DEPENDENCIA_ADMINISTRATIVA_ESCOLA: string (nullable = false)\n |-- LOCALIZACAO_ESCOLA: string (nullable = false)\n |-- BAIXA_VISAO: string (nullable = false)\n |-- CEGUEIRA: string (nullable = false)\n |-- SURDEZ: string (nullable = false)\n |-- DEFICIENCIA_AUDITIVA: string (nullable = false)\n |-- SURDO_CEGUEIRA: string (nullable = false)\n |-- DEFICIENCIA_FISICA: string (nullable = false)\n |-- DEFICIENCIA_MENTAL: string (nullable = false)\n |-- DEFICIT_ATENCAO: string (nullable = false)\n |-- DISLEXIA: string (nullable = false)\n |-- DISCALCULIA: string (nullable = false)\n |-- AUTISMO: string (nullable = false)\n |-- VISAO_MONOCULAR: string (nullable = false)\n |-- OUTRA_DEF: string (nullable = false)\n |-- GESTANTE: string (nullable = false)\n |-- LACTANTE: string (nullable = false)\n |-- IDOSO: string (nullable = false)\n |-- ESTUDA_CLASSE_HOSPITALAR: string (nullable = false)\n |-- SEM_RECURSO: string (nullable = false)\n |-- BRAILLE: string (nullable = false)\n |-- AMPLIADA_24: string (nullable = false)\n |-- AMPLIADA_18: string (nullable = false)\n |-- LEDOR: string (nullable = false)\n |-- ACESSO: string (nullable = false)\n |-- TRANSCRICAO: string (nullable = false)\n |-- LIBRAS: string (nullable = false)\n |-- LEITURA_LABIAL: string (nullable = false)\n |-- MESA_CADEIRA_RODAS: string (nullable = false)\n |-- MESA_CADEIRA_SEPARADA: string (nullable = false)\n |-- APOIO_PERNA: string (nullable = false)\n |-- GUIA_INTERPRETE: string (nullable = false)\n |-- COMPUTADOR: string (nullable = false)\n |-- CADEIRA_ESPECIAL: string (nullable = false)\n |-- CADEIRA_CANHOTO: string (nullable = false)\n |-- CADEIRA_ACOLCHOADA: string (nullable = false)\n |-- PROVA_DEITADO: string (nullable = false)\n |-- MOBILIARIO_OBESO: string (nullable = false)\n |-- LAMINA_OVERLAY: string (nullable = false)\n |-- PROTETOR_AURICULAR: string (nullable = false)\n |-- MEDIDOR_GLICOSE: string (nullable = false)\n |-- MAQUINA_BRAILE: string (nullable = false)\n |-- SOROBAN: string (nullable = false)\n |-- MARCA_PASSO: string (nullable = false)\n |-- SONDA: string (nullable = false)\n |-- MEDICAMENTOS: string (nullable = false)\n |-- SALA_INDIVIDUAL: string (nullable = false)\n |-- SALA_ESPECIAL: string (nullable = false)\n |-- SALA_ACOMPANHANTE: string (nullable = false)\n |-- MOBILIARIO_ESPECIFICO: string (nullable = false)\n |-- NOME_SOCIAL: string (nullable = false)\n |-- PRESENCA_CIENCIAS_NATUREZA: string (nullable = false)\n |-- PRESENCA_CIENCIAS_HUMANAS: string (nullable = false)\n |-- PRESENCA_LINGUAGENS_CODIGOS: string (nullable = false)\n |-- PRESENCA_MATEMATICA: string (nullable = false)\n |-- LINGUA: string (nullable = false)\n |-- STATUS_REDACAO: string (nullable = false)\n |-- PAI_ESTUDOU: string (nullable = false)\n |-- MAE_ESTUDOU: string (nullable = false)\n |-- QTDE_MORADOR_RESIDENCIA: string (nullable = false)\n |-- RENDA_MENSAL_FAMILIAR: string (nullable = false)\n |-- RESIDENCIA_CELULAR: string (nullable = false)\n |-- RESIDENCIA_COMPUTADOR: string (nullable = false)\n |-- RESIDENCIA_INTERNET: string (nullable = false)\n\n"
    }
   ],
   "source": [
    "# Apresentação da estutura do dataframe df_enem_analise\n",
    "\n",
    "print(f'Apresentação da estutura do dataframe df_enem_analise - {datetime.now()}.')\n",
    "\n",
    "df_enem_analise.printSchema()"
   ]
  },
  {
   "cell_type": "code",
   "execution_count": 103,
   "metadata": {
    "tags": []
   },
   "outputs": [
    {
     "output_type": "stream",
     "name": "stdout",
     "text": "Apresentação do processo de criação de uma tabela temporária para utilização do SQL - 2020-08-20 18:11:16.344847.\nCriação da tabela temporaria com sucesso - 2020-08-20 18:11:16.531062.\n"
    }
   ],
   "source": [
    "# Criar tabela temporaria e usar sql para consulta\n",
    "\n",
    "print(f'Apresentação do processo de criação de uma tabela temporária para utilização do SQL - {datetime.now()}.')\n",
    "\n",
    "df_enem_analise.createOrReplaceTempView('enemtb')\n",
    "\n",
    "print(f'Criação da tabela temporaria com sucesso - {datetime.now()}.')"
   ]
  },
  {
   "cell_type": "code",
   "execution_count": 107,
   "metadata": {
    "tags": []
   },
   "outputs": [
    {
     "output_type": "stream",
     "name": "stdout",
     "text": "Quantidade de inscriçoes por Ano.\n\nConsulta inciada -  2020-08-20 18:20:43.943536\n+----+--------------+\n| ANO|QTDE_INSCRICAO|\n+----+--------------+\n|2015|       7746427|\n|2016|       8627367|\n|2017|       6731341|\n|2018|       5513747|\n|2019|       5095270|\n+----+--------------+\n\nConsulta realizada com sucesso -  2020-08-20 18:22:18.015673\n"
    }
   ],
   "source": [
    "# Realização da Análise Exploratória\n",
    "\n",
    "print('Quantidade de inscriçoes por Ano.')\n",
    "print('')\n",
    "print(f'Consulta inciada -  {datetime.now()}')\n",
    "\n",
    "sqlContext.sql('SELECT NU_ANO AS ANO, COUNT(*) AS QTDE_INSCRICAO FROM enemtb GROUP BY NU_ANO ORDER BY NU_ANO, COUNT(*)').show()\n",
    "\n",
    "print(f'Consulta realizada com sucesso -  {datetime.now()}')"
   ]
  },
  {
   "cell_type": "code",
   "execution_count": 108,
   "metadata": {
    "tags": []
   },
   "outputs": [
    {
     "output_type": "stream",
     "name": "stdout",
     "text": "Quantidade de inscriçoes por Sexo.\n\nConsulta inciada -  2020-08-20 18:22:18.046586\n+---------+--------------+\n|     SEXO|QTDE_INSCRICAO|\n+---------+--------------+\n| Feminino|      19679368|\n|Masculino|      14034784|\n+---------+--------------+\n\nConsulta realizada com sucesso -  2020-08-20 18:23:55.740218\n"
    }
   ],
   "source": [
    "print('Quantidade de inscriçoes por Sexo.')\n",
    "print('')\n",
    "print(f'Consulta inciada -  {datetime.now()}')\n",
    "\n",
    "sqlContext.sql('SELECT SEXO, COUNT(*) AS QTDE_INSCRICAO FROM enemtb GROUP BY SEXO ORDER BY COUNT(*)').show()\n",
    "\n",
    "print(f'Consulta realizada com sucesso -  {datetime.now()}')"
   ]
  },
  {
   "cell_type": "code",
   "execution_count": 112,
   "metadata": {
    "tags": []
   },
   "outputs": [
    {
     "output_type": "stream",
     "name": "stdout",
     "text": "Quantidade de inscriçoes por Estado Civil.\n\nConsulta inciada -  2020-08-20 18:34:29.682818\n+--------------------+--------------+\n|        ESTADO_CIVIL|QTDE_INSCRICAO|\n+--------------------+--------------+\n|            Solteiro|      24197550|\n|Casado(a)/Mora co...|       7350094|\n|                    |       1199287|\n|Divorciado(a)/Des...|        829816|\n|            Viúvo(a)|        137405|\n+--------------------+--------------+\n\nConsulta realizada com sucesso -  2020-08-20 18:36:09.753529\n"
    }
   ],
   "source": [
    "print('Quantidade de inscriçoes por Estado Civil.')\n",
    "print('')\n",
    "print(f'Consulta inciada -  {datetime.now()}')\n",
    "\n",
    "sqlContext.sql('SELECT ESTADO_CIVIL, COUNT(*) AS QTDE_INSCRICAO FROM enemtb GROUP BY ESTADO_CIVIL ORDER BY COUNT(*) DESC').show()\n",
    "\n",
    "print(f'Consulta realizada com sucesso -  {datetime.now()}')"
   ]
  },
  {
   "cell_type": "code",
   "execution_count": 114,
   "metadata": {
    "tags": []
   },
   "outputs": [
    {
     "output_type": "stream",
     "name": "stdout",
     "text": "Quantidade de inscriçoes por Raça.\n\nConsulta inciada -  2020-08-20 18:38:03.883448\n+-------------+--------------+\n|         RACA|QTDE_INSCRICAO|\n+-------------+--------------+\n|       Branca|      32435187|\n|        Preta|       1135510|\n|      Amarela|         85678|\n|        Parda|         40436|\n|Não declarado|         17341|\n+-------------+--------------+\n\nConsulta realizada com sucesso -  2020-08-20 18:39:48.101416\n"
    }
   ],
   "source": [
    "print('Quantidade de inscriçoes por Raça.')\n",
    "print('')\n",
    "print(f'Consulta inciada -  {datetime.now()}')\n",
    "\n",
    "sqlContext.sql('SELECT RACA, COUNT(*) AS QTDE_INSCRICAO FROM enemtb GROUP BY RACA ORDER BY COUNT(*) DESC').show()\n",
    "\n",
    "print(f'Consulta realizada com sucesso -  {datetime.now()}')"
   ]
  },
  {
   "cell_type": "code",
   "execution_count": 115,
   "metadata": {
    "tags": []
   },
   "outputs": [
    {
     "output_type": "stream",
     "name": "stdout",
     "text": "Quantidade de inscriçoes por Nacionalidade.\n\nConsulta inciada -  2020-08-20 18:39:48.241564\n+--------------------+--------------+\n|       NACIONALIDADE|QTDE_INSCRICAO|\n+--------------------+--------------+\n|       Brasileiro(a)|      32435187|\n|Brasileiro(a) Nat...|       1135510|\n|Brasileiro(a) Nat...|         85678|\n|      Estrangeiro(a)|         40436|\n|       Não informado|         17341|\n+--------------------+--------------+\n\nConsulta realizada com sucesso -  2020-08-20 18:41:31.062981\n"
    }
   ],
   "source": [
    "print('Quantidade de inscriçoes por Nacionalidade.')\n",
    "print('')\n",
    "print(f'Consulta inciada -  {datetime.now()}')\n",
    "\n",
    "sqlContext.sql('SELECT NACIONALIDADE, COUNT(*) AS QTDE_INSCRICAO FROM enemtb GROUP BY NACIONALIDADE ORDER BY COUNT(*) DESC').show()\n",
    "\n",
    "print(f'Consulta realizada com sucesso -  {datetime.now()}')"
   ]
  },
  {
   "cell_type": "code",
   "execution_count": 116,
   "metadata": {
    "tags": []
   },
   "outputs": [
    {
     "output_type": "stream",
     "name": "stdout",
     "text": "Quantidade de inscriçoes por Situação Conclusão Ensino Médio.\n\nConsulta inciada -  2020-08-20 18:41:31.141503\n+-------------------------------+--------------+\n|SITUACAO_CONCLUSAO_ENSINO_MEDIO|QTDE_INSCRICAO|\n+-------------------------------+--------------+\n|           Já concluí o Ensi...|      19919399|\n|           Estou cursando e ...|       8424851|\n|           Estou cursando e ...|       4302929|\n|           Não concluí e não...|       1066973|\n+-------------------------------+--------------+\n\nConsulta realizada com sucesso -  2020-08-20 18:43:16.222189\n"
    }
   ],
   "source": [
    "print('Quantidade de inscriçoes por Situação Conclusão Ensino Médio.')\n",
    "print('')\n",
    "print(f'Consulta inciada -  {datetime.now()}')\n",
    "\n",
    "sqlContext.sql('SELECT SITUACAO_CONCLUSAO_ENSINO_MEDIO, COUNT(*) AS QTDE_INSCRICAO FROM enemtb GROUP BY SITUACAO_CONCLUSAO_ENSINO_MEDIO ORDER BY COUNT(*) DESC').show()\n",
    "\n",
    "print(f'Consulta realizada com sucesso -  {datetime.now()}')"
   ]
  },
  {
   "cell_type": "code",
   "execution_count": 117,
   "metadata": {
    "tags": []
   },
   "outputs": [
    {
     "output_type": "stream",
     "name": "stdout",
     "text": "Quantidade de inscriçoes por Tipo Escola.\n\nConsulta inciada -  2020-08-20 18:43:16.298983\n+-------------+--------------+\n|  TIPO_ESCOLA|QTDE_INSCRICAO|\n+-------------+--------------+\n|Não Respondeu|      25526429|\n|      Pública|       6780145|\n|      Privada|       1149757|\n|     Exterior|        257821|\n+-------------+--------------+\n\nConsulta realizada com sucesso -  2020-08-20 18:44:57.642937\n"
    }
   ],
   "source": [
    "print('Quantidade de inscriçoes por Tipo Escola.')\n",
    "print('')\n",
    "print(f'Consulta inciada -  {datetime.now()}')\n",
    "\n",
    "sqlContext.sql('SELECT TIPO_ESCOLA, COUNT(*) AS QTDE_INSCRICAO FROM enemtb GROUP BY TIPO_ESCOLA ORDER BY COUNT(*) DESC').show()\n",
    "\n",
    "print(f'Consulta realizada com sucesso -  {datetime.now()}')"
   ]
  },
  {
   "cell_type": "code",
   "execution_count": 118,
   "metadata": {
    "tags": []
   },
   "outputs": [
    {
     "output_type": "stream",
     "name": "stdout",
     "text": "Quantidade de inscriçoes por Tipo Ensino.\n\nConsulta inciada -  2020-08-20 18:44:57.693802\n+--------------------+--------------+\n|         TIPO_ENSINO|QTDE_INSCRICAO|\n+--------------------+--------------+\n|                    |      22036422|\n|      Ensino Regular|      10700506|\n|Educação de Joven...|        917342|\n|Educação Especial...|         59882|\n+--------------------+--------------+\n\nConsulta realizada com sucesso -  2020-08-20 18:46:30.947633\n"
    }
   ],
   "source": [
    "print('Quantidade de inscriçoes por Tipo Ensino.')\n",
    "print('')\n",
    "print(f'Consulta inciada -  {datetime.now()}')\n",
    "\n",
    "sqlContext.sql('SELECT TIPO_ENSINO, COUNT(*) AS QTDE_INSCRICAO FROM enemtb GROUP BY TIPO_ENSINO ORDER BY COUNT(*) DESC').show()\n",
    "\n",
    "print(f'Consulta realizada com sucesso -  {datetime.now()}')"
   ]
  },
  {
   "cell_type": "code",
   "execution_count": 119,
   "metadata": {
    "tags": []
   },
   "outputs": [
    {
     "output_type": "stream",
     "name": "stdout",
     "text": "Quantidade de inscriçoes por Treineiro.\n\nConsulta inciada -  2020-08-20 18:46:31.002489\n+---------+--------------+\n|TREINEIRO|QTDE_INSCRICAO|\n+---------+--------------+\n|      Não|      30127568|\n|      Sim|       3586584|\n+---------+--------------+\n\nConsulta realizada com sucesso -  2020-08-20 18:48:06.597728\n"
    }
   ],
   "source": [
    "print('Quantidade de inscriçoes por Treineiro.')\n",
    "print('')\n",
    "print(f'Consulta inciada -  {datetime.now()}')\n",
    "\n",
    "sqlContext.sql('SELECT TREINEIRO, COUNT(*) AS QTDE_INSCRICAO FROM enemtb GROUP BY TREINEIRO ORDER BY COUNT(*) DESC').show()\n",
    "\n",
    "print(f'Consulta realizada com sucesso -  {datetime.now()}')"
   ]
  },
  {
   "cell_type": "code",
   "execution_count": 120,
   "metadata": {
    "tags": []
   },
   "outputs": [
    {
     "output_type": "stream",
     "name": "stdout",
     "text": "Quantidade de inscriçoes por Dependência Administrativa Escola.\n\nConsulta inciada -  2020-08-20 18:48:06.632636\n+---------------------------------+--------------+\n|DEPENDENCIA_ADMINISTRATIVA_ESCOLA|QTDE_INSCRICAO|\n+---------------------------------+--------------+\n|                                 |      25801465|\n|                         Estadual|       6280273|\n|                          Privada|       1337142|\n|                          Federal|        212646|\n|                        Municipal|         82626|\n+---------------------------------+--------------+\n\nConsulta realizada com sucesso -  2020-08-20 18:49:43.195782\n"
    }
   ],
   "source": [
    "print('Quantidade de inscriçoes por Dependência Administrativa Escola.')\n",
    "print('')\n",
    "print(f'Consulta inciada -  {datetime.now()}')\n",
    "\n",
    "sqlContext.sql('SELECT DEPENDENCIA_ADMINISTRATIVA_ESCOLA, COUNT(*) AS QTDE_INSCRICAO FROM enemtb GROUP BY DEPENDENCIA_ADMINISTRATIVA_ESCOLA ORDER BY COUNT(*) DESC').show()\n",
    "\n",
    "print(f'Consulta realizada com sucesso -  {datetime.now()}')"
   ]
  },
  {
   "cell_type": "code",
   "execution_count": 121,
   "metadata": {
    "tags": []
   },
   "outputs": [
    {
     "output_type": "stream",
     "name": "stdout",
     "text": "Quantidade de inscriçoes por Localização Escola.\n\nConsulta inciada -  2020-08-20 18:49:43.284544\n+------------------+--------------+\n|LOCALIZACAO_ESCOLA|QTDE_INSCRICAO|\n+------------------+--------------+\n|                  |      25801465|\n|            Urbana|       7665166|\n|             Rural|        247521|\n+------------------+--------------+\n\nConsulta realizada com sucesso -  2020-08-20 18:51:19.163088\n"
    }
   ],
   "source": [
    "print('Quantidade de inscriçoes por Localização Escola.')\n",
    "print('')\n",
    "print(f'Consulta inciada -  {datetime.now()}')\n",
    "\n",
    "sqlContext.sql('SELECT LOCALIZACAO_ESCOLA, COUNT(*) AS QTDE_INSCRICAO FROM enemtb GROUP BY LOCALIZACAO_ESCOLA ORDER BY COUNT(*) DESC').show()\n",
    "\n",
    "print(f'Consulta realizada com sucesso -  {datetime.now()}')"
   ]
  },
  {
   "cell_type": "code",
   "execution_count": 122,
   "metadata": {
    "tags": []
   },
   "outputs": [
    {
     "output_type": "stream",
     "name": "stdout",
     "text": "Quantidade de inscriçoes por Baixa Visão.\n\nConsulta inciada -  2020-08-20 18:51:19.214948\n+-----------+--------------+\n|BAIXA_VISAO|QTDE_INSCRICAO|\n+-----------+--------------+\n|        Não|      33673697|\n|        Sim|         40455|\n+-----------+--------------+\n\nConsulta realizada com sucesso -  2020-08-20 18:52:53.753921\n"
    }
   ],
   "source": [
    "print('Quantidade de inscriçoes por Baixa Visão.')\n",
    "print('')\n",
    "print(f'Consulta inciada -  {datetime.now()}')\n",
    "\n",
    "sqlContext.sql('SELECT BAIXA_VISAO, COUNT(*) AS QTDE_INSCRICAO FROM enemtb GROUP BY BAIXA_VISAO ORDER BY COUNT(*) DESC').show()\n",
    "\n",
    "print(f'Consulta realizada com sucesso -  {datetime.now()}')"
   ]
  },
  {
   "cell_type": "code",
   "execution_count": 123,
   "metadata": {
    "tags": []
   },
   "outputs": [
    {
     "output_type": "stream",
     "name": "stdout",
     "text": "Quantidade de inscriçoes por Cegueira.\n\nConsulta inciada -  2020-08-20 19:11:10.096829\n+--------+--------------+\n|CEGUEIRA|QTDE_INSCRICAO|\n+--------+--------------+\n|     Não|      33709598|\n|     Sim|          4554|\n+--------+--------------+\n\nConsulta realizada com sucesso -  2020-08-20 19:12:47.403104\n"
    }
   ],
   "source": [
    "print('Quantidade de inscriçoes por Cegueira.')\n",
    "print('')\n",
    "print(f'Consulta inciada -  {datetime.now()}')\n",
    "\n",
    "sqlContext.sql('SELECT CEGUEIRA, COUNT(*) AS QTDE_INSCRICAO FROM enemtb GROUP BY CEGUEIRA ORDER BY COUNT(*) DESC').show()\n",
    "\n",
    "print(f'Consulta realizada com sucesso -  {datetime.now()}')"
   ]
  },
  {
   "cell_type": "code",
   "execution_count": 124,
   "metadata": {
    "tags": []
   },
   "outputs": [
    {
     "output_type": "stream",
     "name": "stdout",
     "text": "Quantidade de inscriçoes por Surdez.\n\nConsulta inciada -  2020-08-20 19:45:13.514148\n+------+--------------+\n|SURDEZ|QTDE_INSCRICAO|\n+------+--------------+\n|   Não|      33705038|\n|   Sim|          9114|\n+------+--------------+\n\nConsulta realizada com sucesso -  2020-08-20 19:47:05.207211\n"
    }
   ],
   "source": [
    "print('Quantidade de inscriçoes por Surdez.')\n",
    "print('')\n",
    "print(f'Consulta inciada -  {datetime.now()}')\n",
    "\n",
    "sqlContext.sql('SELECT SURDEZ, COUNT(*) AS QTDE_INSCRICAO FROM enemtb GROUP BY SURDEZ ORDER BY COUNT(*) DESC').show()\n",
    "\n",
    "print(f'Consulta realizada com sucesso -  {datetime.now()}')"
   ]
  },
  {
   "cell_type": "code",
   "execution_count": 125,
   "metadata": {
    "tags": []
   },
   "outputs": [
    {
     "output_type": "stream",
     "name": "stdout",
     "text": "Quantidade de inscriçoes por Deficiência Auditiva.\n\nConsulta inciada -  2020-08-20 19:47:05.355812\n+--------------------+--------------+\n|DEFICIENCIA_AUDITIVA|QTDE_INSCRICAO|\n+--------------------+--------------+\n|                 Não|      33691704|\n|                 Sim|         22448|\n+--------------------+--------------+\n\nConsulta realizada com sucesso -  2020-08-20 19:48:50.955585\n"
    }
   ],
   "source": [
    "print('Quantidade de inscriçoes por Deficiência Auditiva.')\n",
    "print('')\n",
    "print(f'Consulta inciada -  {datetime.now()}')\n",
    "\n",
    "sqlContext.sql('SELECT DEFICIENCIA_AUDITIVA, COUNT(*) AS QTDE_INSCRICAO FROM enemtb GROUP BY DEFICIENCIA_AUDITIVA ORDER BY COUNT(*) DESC').show()\n",
    "\n",
    "print(f'Consulta realizada com sucesso -  {datetime.now()}')"
   ]
  },
  {
   "cell_type": "code",
   "execution_count": 126,
   "metadata": {
    "tags": []
   },
   "outputs": [
    {
     "output_type": "stream",
     "name": "stdout",
     "text": "Quantidade de inscriçoes por Deficiência Auditiva.\n\nConsulta inciada -  2020-08-20 19:48:50.989495\n+--------------------+--------------+\n|DEFICIENCIA_AUDITIVA|QTDE_INSCRICAO|\n+--------------------+--------------+\n|                 Não|      33691704|\n|                 Sim|         22448|\n+--------------------+--------------+\n\nConsulta realizada com sucesso -  2020-08-20 19:50:35.703288\n"
    }
   ],
   "source": [
    "print('Quantidade de inscriçoes por Deficiência Auditiva.')\n",
    "print('')\n",
    "print(f'Consulta inciada -  {datetime.now()}')\n",
    "\n",
    "sqlContext.sql('SELECT DEFICIENCIA_AUDITIVA, COUNT(*) AS QTDE_INSCRICAO FROM enemtb GROUP BY DEFICIENCIA_AUDITIVA ORDER BY COUNT(*) DESC').show()\n",
    "\n",
    "print(f'Consulta realizada com sucesso -  {datetime.now()}')"
   ]
  },
  {
   "cell_type": "code",
   "execution_count": 127,
   "metadata": {
    "tags": []
   },
   "outputs": [
    {
     "output_type": "stream",
     "name": "stdout",
     "text": "Quantidade de inscriçoes por Surdo_Cegueira.\n\nConsulta inciada -  2020-08-20 19:50:35.733206\n+--------------+--------------+\n|SURDO_CEGUEIRA|QTDE_INSCRICAO|\n+--------------+--------------+\n|           Não|      33714026|\n|           Sim|           126|\n+--------------+--------------+\n\nConsulta realizada com sucesso -  2020-08-20 19:52:23.838919\n"
    }
   ],
   "source": [
    "print('Quantidade de inscriçoes por Surdo_Cegueira.')\n",
    "print('')\n",
    "print(f'Consulta inciada -  {datetime.now()}')\n",
    "\n",
    "sqlContext.sql('SELECT SURDO_CEGUEIRA, COUNT(*) AS QTDE_INSCRICAO FROM enemtb GROUP BY SURDO_CEGUEIRA ORDER BY COUNT(*) DESC').show()\n",
    "\n",
    "print(f'Consulta realizada com sucesso -  {datetime.now()}')"
   ]
  },
  {
   "cell_type": "code",
   "execution_count": 128,
   "metadata": {
    "tags": []
   },
   "outputs": [
    {
     "output_type": "stream",
     "name": "stdout",
     "text": "Quantidade de inscriçoes por Deficiência Física.\n\nConsulta inciada -  2020-08-20 19:52:23.870450\n+------------------+--------------+\n|DEFICIENCIA_FISICA|QTDE_INSCRICAO|\n+------------------+--------------+\n|               Não|      33643894|\n|               Sim|         70258|\n+------------------+--------------+\n\nConsulta realizada com sucesso -  2020-08-20 19:54:15.068543\n"
    }
   ],
   "source": [
    "print('Quantidade de inscriçoes por Deficiência Física.')\n",
    "print('')\n",
    "print(f'Consulta inciada -  {datetime.now()}')\n",
    "\n",
    "sqlContext.sql('SELECT DEFICIENCIA_FISICA, COUNT(*) AS QTDE_INSCRICAO FROM enemtb GROUP BY DEFICIENCIA_FISICA ORDER BY COUNT(*) DESC').show()\n",
    "\n",
    "print(f'Consulta realizada com sucesso -  {datetime.now()}')"
   ]
  },
  {
   "cell_type": "code",
   "execution_count": 129,
   "metadata": {
    "tags": []
   },
   "outputs": [
    {
     "output_type": "stream",
     "name": "stdout",
     "text": "Quantidade de inscriçoes por Deficiência Mental.\n\nConsulta inciada -  2020-08-20 19:54:15.096466\n+------------------+--------------+\n|DEFICIENCIA_MENTAL|QTDE_INSCRICAO|\n+------------------+--------------+\n|               Não|      33704239|\n|               Sim|          9913|\n+------------------+--------------+\n\nConsulta realizada com sucesso -  2020-08-20 19:56:06.209781\n"
    }
   ],
   "source": [
    "print('Quantidade de inscriçoes por Deficiência Mental.')\n",
    "print('')\n",
    "print(f'Consulta inciada -  {datetime.now()}')\n",
    "\n",
    "sqlContext.sql('SELECT DEFICIENCIA_MENTAL, COUNT(*) AS QTDE_INSCRICAO FROM enemtb GROUP BY DEFICIENCIA_MENTAL ORDER BY COUNT(*) DESC').show()\n",
    "\n",
    "print(f'Consulta realizada com sucesso -  {datetime.now()}')"
   ]
  },
  {
   "cell_type": "code",
   "execution_count": 130,
   "metadata": {
    "tags": []
   },
   "outputs": [
    {
     "output_type": "stream",
     "name": "stdout",
     "text": "Quantidade de inscriçoes por Deficit de Atenção.\n\nConsulta inciada -  2020-08-20 19:56:06.230725\n+---------------+--------------+\n|DEFICIT_ATENCAO|QTDE_INSCRICAO|\n+---------------+--------------+\n|            Não|      33681678|\n|            Sim|         32474|\n+---------------+--------------+\n\nConsulta realizada com sucesso -  2020-08-20 19:58:07.155794\n"
    }
   ],
   "source": [
    "print('Quantidade de inscriçoes por Deficit de Atenção.')\n",
    "print('')\n",
    "print(f'Consulta inciada -  {datetime.now()}')\n",
    "\n",
    "sqlContext.sql('SELECT DEFICIT_ATENCAO, COUNT(*) AS QTDE_INSCRICAO FROM enemtb GROUP BY DEFICIT_ATENCAO ORDER BY COUNT(*) DESC').show()\n",
    "\n",
    "print(f'Consulta realizada com sucesso -  {datetime.now()}')"
   ]
  },
  {
   "cell_type": "code",
   "execution_count": 131,
   "metadata": {
    "tags": []
   },
   "outputs": [
    {
     "output_type": "stream",
     "name": "stdout",
     "text": "Quantidade de inscriçoes por Dislexia.\n\nConsulta inciada -  2020-08-20 19:58:07.214636\n+--------+--------------+\n|DISLEXIA|QTDE_INSCRICAO|\n+--------+--------------+\n|     Não|      33707202|\n|     Sim|          6950|\n+--------+--------------+\n\nConsulta realizada com sucesso -  2020-08-20 20:00:02.635197\n"
    }
   ],
   "source": [
    "print('Quantidade de inscriçoes por Dislexia.')\n",
    "print('')\n",
    "print(f'Consulta inciada -  {datetime.now()}')\n",
    "\n",
    "sqlContext.sql('SELECT DISLEXIA, COUNT(*) AS QTDE_INSCRICAO FROM enemtb GROUP BY DISLEXIA ORDER BY COUNT(*) DESC').show()\n",
    "\n",
    "print(f'Consulta realizada com sucesso -  {datetime.now()}')"
   ]
  },
  {
   "cell_type": "code",
   "execution_count": 132,
   "metadata": {
    "tags": []
   },
   "outputs": [
    {
     "output_type": "stream",
     "name": "stdout",
     "text": "Quantidade de inscriçoes por Discalculia.\n\nConsulta inciada -  2020-08-20 20:00:02.710996\n+-----------+--------------+\n|DISCALCULIA|QTDE_INSCRICAO|\n+-----------+--------------+\n|        Não|      33712676|\n|        Sim|          1476|\n+-----------+--------------+\n\nConsulta realizada com sucesso -  2020-08-20 20:01:58.108508\n"
    }
   ],
   "source": [
    "print('Quantidade de inscriçoes por Discalculia.')\n",
    "print('')\n",
    "print(f'Consulta inciada -  {datetime.now()}')\n",
    "\n",
    "sqlContext.sql('SELECT DISCALCULIA, COUNT(*) AS QTDE_INSCRICAO FROM enemtb GROUP BY DISCALCULIA ORDER BY COUNT(*) DESC').show()\n",
    "\n",
    "print(f'Consulta realizada com sucesso -  {datetime.now()}')"
   ]
  },
  {
   "cell_type": "code",
   "execution_count": 133,
   "metadata": {
    "tags": []
   },
   "outputs": [
    {
     "output_type": "stream",
     "name": "stdout",
     "text": "Quantidade de inscriçoes por Autismo.\n\nConsulta inciada -  2020-08-20 20:01:58.151394\n+-------+--------------+\n|AUTISMO|QTDE_INSCRICAO|\n+-------+--------------+\n|    Não|      33710842|\n|    Sim|          3310|\n+-------+--------------+\n\nConsulta realizada com sucesso -  2020-08-20 20:04:02.725202\n"
    }
   ],
   "source": [
    "print('Quantidade de inscriçoes por Autismo.')\n",
    "print('')\n",
    "print(f'Consulta inciada -  {datetime.now()}')\n",
    "\n",
    "sqlContext.sql('SELECT AUTISMO, COUNT(*) AS QTDE_INSCRICAO FROM enemtb GROUP BY AUTISMO ORDER BY COUNT(*) DESC').show()\n",
    "\n",
    "print(f'Consulta realizada com sucesso -  {datetime.now()}')"
   ]
  },
  {
   "cell_type": "code",
   "execution_count": 134,
   "metadata": {
    "tags": []
   },
   "outputs": [
    {
     "output_type": "stream",
     "name": "stdout",
     "text": "Quantidade de inscriçoes por Visão Monocular.\n\nConsulta inciada -  2020-08-20 20:04:02.759111\n+---------------+--------------+\n|VISAO_MONOCULAR|QTDE_INSCRICAO|\n+---------------+--------------+\n|            Não|      33703225|\n|            Sim|         10927|\n+---------------+--------------+\n\nConsulta realizada com sucesso -  2020-08-20 20:06:09.429462\n"
    }
   ],
   "source": [
    "print('Quantidade de inscriçoes por Visão Monocular.')\n",
    "print('')\n",
    "print(f'Consulta inciada -  {datetime.now()}')\n",
    "\n",
    "sqlContext.sql('SELECT VISAO_MONOCULAR, COUNT(*) AS QTDE_INSCRICAO FROM enemtb GROUP BY VISAO_MONOCULAR ORDER BY COUNT(*) DESC').show()\n",
    "\n",
    "print(f'Consulta realizada com sucesso -  {datetime.now()}')"
   ]
  },
  {
   "cell_type": "code",
   "execution_count": 135,
   "metadata": {
    "tags": []
   },
   "outputs": [
    {
     "output_type": "stream",
     "name": "stdout",
     "text": "Quantidade de inscriçoes por Outra Deficiência.\n\nConsulta inciada -  2020-08-20 20:06:09.510459\n+---------+--------------+\n|OUTRA_DEF|QTDE_INSCRICAO|\n+---------+--------------+\n|      Não|      33695615|\n|      Sim|         18537|\n+---------+--------------+\n\nConsulta realizada com sucesso -  2020-08-20 20:08:14.268236\n"
    }
   ],
   "source": [
    "print('Quantidade de inscriçoes por Outra Deficiência.')\n",
    "print('')\n",
    "print(f'Consulta inciada -  {datetime.now()}')\n",
    "\n",
    "sqlContext.sql('SELECT OUTRA_DEF, COUNT(*) AS QTDE_INSCRICAO FROM enemtb GROUP BY OUTRA_DEF ORDER BY COUNT(*) DESC').show()\n",
    "\n",
    "print(f'Consulta realizada com sucesso -  {datetime.now()}')"
   ]
  },
  {
   "cell_type": "code",
   "execution_count": 136,
   "metadata": {
    "tags": []
   },
   "outputs": [
    {
     "output_type": "stream",
     "name": "stdout",
     "text": "Quantidade de inscriçoes por Gestante.\n\nConsulta inciada -  2020-08-20 20:08:14.428329\n+--------+--------------+\n|GESTANTE|QTDE_INSCRICAO|\n+--------+--------------+\n|     Não|      33693332|\n|     Sim|         20820|\n+--------+--------------+\n\nConsulta realizada com sucesso -  2020-08-20 20:10:21.965373\n"
    }
   ],
   "source": [
    "print('Quantidade de inscriçoes por Gestante.')\n",
    "print('')\n",
    "print(f'Consulta inciada -  {datetime.now()}')\n",
    "\n",
    "sqlContext.sql('SELECT GESTANTE, COUNT(*) AS QTDE_INSCRICAO FROM enemtb GROUP BY GESTANTE ORDER BY COUNT(*) DESC').show()\n",
    "\n",
    "print(f'Consulta realizada com sucesso -  {datetime.now()}')"
   ]
  },
  {
   "cell_type": "code",
   "execution_count": 137,
   "metadata": {
    "tags": []
   },
   "outputs": [
    {
     "output_type": "stream",
     "name": "stdout",
     "text": "Quantidade de inscriçoes por Lactante.\n\nConsulta inciada -  2020-08-20 20:10:22.018232\n+--------+--------------+\n|LACTANTE|QTDE_INSCRICAO|\n+--------+--------------+\n|     Não|      33671090|\n|     Sim|         43062|\n+--------+--------------+\n\nConsulta realizada com sucesso -  2020-08-20 20:12:30.199405\n"
    }
   ],
   "source": [
    "print('Quantidade de inscriçoes por Lactante.')\n",
    "print('')\n",
    "print(f'Consulta inciada -  {datetime.now()}')\n",
    "\n",
    "sqlContext.sql('SELECT LACTANTE, COUNT(*) AS QTDE_INSCRICAO FROM enemtb GROUP BY LACTANTE ORDER BY COUNT(*) DESC').show()\n",
    "\n",
    "print(f'Consulta realizada com sucesso -  {datetime.now()}')"
   ]
  },
  {
   "cell_type": "code",
   "execution_count": 138,
   "metadata": {
    "tags": []
   },
   "outputs": [
    {
     "output_type": "stream",
     "name": "stdout",
     "text": "Quantidade de inscriçoes por Idoso.\n\nConsulta inciada -  2020-08-20 20:12:30.400421\n+-----+--------------+\n|IDOSO|QTDE_INSCRICAO|\n+-----+--------------+\n|  Não|      33710312|\n|  Sim|          3840|\n+-----+--------------+\n\nConsulta realizada com sucesso -  2020-08-20 20:14:38.736152\n"
    }
   ],
   "source": [
    "print('Quantidade de inscriçoes por Idoso.')\n",
    "print('')\n",
    "print(f'Consulta inciada -  {datetime.now()}')\n",
    "\n",
    "sqlContext.sql('SELECT IDOSO, COUNT(*) AS QTDE_INSCRICAO FROM enemtb GROUP BY IDOSO ORDER BY COUNT(*) DESC').show()\n",
    "\n",
    "print(f'Consulta realizada com sucesso -  {datetime.now()}')"
   ]
  },
  {
   "cell_type": "code",
   "execution_count": 139,
   "metadata": {
    "tags": []
   },
   "outputs": [
    {
     "output_type": "stream",
     "name": "stdout",
     "text": "Quantidade de inscriçoes por Esuda em Classe Hospitalar.\n\nConsulta inciada -  2020-08-20 20:14:38.970016\n+------------------------+--------------+\n|ESTUDA_CLASSE_HOSPITALAR|QTDE_INSCRICAO|\n+------------------------+--------------+\n|                     Não|      33713999|\n|                     Sim|           153|\n+------------------------+--------------+\n\nConsulta realizada com sucesso -  2020-08-20 20:16:45.643642\n"
    }
   ],
   "source": [
    "print('Quantidade de inscriçoes por Esuda em Classe Hospitalar.')\n",
    "print('')\n",
    "print(f'Consulta inciada -  {datetime.now()}')\n",
    "\n",
    "sqlContext.sql('SELECT ESTUDA_CLASSE_HOSPITALAR, COUNT(*) AS QTDE_INSCRICAO FROM enemtb GROUP BY ESTUDA_CLASSE_HOSPITALAR ORDER BY COUNT(*) DESC').show()\n",
    "\n",
    "print(f'Consulta realizada com sucesso -  {datetime.now()}')"
   ]
  },
  {
   "cell_type": "code",
   "execution_count": 140,
   "metadata": {
    "tags": []
   },
   "outputs": [
    {
     "output_type": "stream",
     "name": "stdout",
     "text": "Quantidade de inscriçoes por Esuda em Sem Recurso.\n\nConsulta inciada -  2020-08-20 20:16:45.795240\n+-----------+--------------+\n|SEM_RECURSO|QTDE_INSCRICAO|\n+-----------+--------------+\n|        Não|      33598836|\n|        Sim|        115316|\n+-----------+--------------+\n\nConsulta realizada com sucesso -  2020-08-20 20:18:51.041388\n"
    }
   ],
   "source": [
    "print('Quantidade de inscriçoes por Esuda em Sem Recurso.')\n",
    "print('')\n",
    "print(f'Consulta inciada -  {datetime.now()}')\n",
    "\n",
    "sqlContext.sql('SELECT SEM_RECURSO, COUNT(*) AS QTDE_INSCRICAO FROM enemtb GROUP BY SEM_RECURSO ORDER BY COUNT(*) DESC').show()\n",
    "\n",
    "print(f'Consulta realizada com sucesso -  {datetime.now()}')"
   ]
  },
  {
   "cell_type": "code",
   "execution_count": 141,
   "metadata": {
    "tags": []
   },
   "outputs": [
    {
     "output_type": "stream",
     "name": "stdout",
     "text": "Quantidade de inscriçoes por Braille.\n\nConsulta inciada -  2020-08-20 20:18:51.141636\n+-------+--------------+\n|BRAILLE|QTDE_INSCRICAO|\n+-------+--------------+\n|    Não|      33712089|\n|    Sim|          2063|\n+-------+--------------+\n\nConsulta realizada com sucesso -  2020-08-20 20:21:16.199067\n"
    }
   ],
   "source": [
    "print('Quantidade de inscriçoes por Braille.')\n",
    "print('')\n",
    "print(f'Consulta inciada -  {datetime.now()}')\n",
    "\n",
    "sqlContext.sql('SELECT BRAILLE, COUNT(*) AS QTDE_INSCRICAO FROM enemtb GROUP BY BRAILLE ORDER BY COUNT(*) DESC').show()\n",
    "\n",
    "print(f'Consulta realizada com sucesso -  {datetime.now()}')"
   ]
  },
  {
   "cell_type": "code",
   "execution_count": 142,
   "metadata": {
    "tags": []
   },
   "outputs": [
    {
     "output_type": "stream",
     "name": "stdout",
     "text": "Quantidade de inscriçoes por Ampliada 24.\n\nConsulta inciada -  2020-08-20 20:21:16.317749\n+-----------+--------------+\n|AMPLIADA_24|QTDE_INSCRICAO|\n+-----------+--------------+\n|        Não|      33706677|\n|        Sim|          7475|\n+-----------+--------------+\n\nConsulta realizada com sucesso -  2020-08-20 20:23:21.637527\n"
    }
   ],
   "source": [
    "print('Quantidade de inscriçoes por Ampliada 24.')\n",
    "print('')\n",
    "print(f'Consulta inciada -  {datetime.now()}')\n",
    "\n",
    "sqlContext.sql('SELECT AMPLIADA_24, COUNT(*) AS QTDE_INSCRICAO FROM enemtb GROUP BY AMPLIADA_24 ORDER BY COUNT(*) DESC').show()\n",
    "\n",
    "print(f'Consulta realizada com sucesso -  {datetime.now()}')"
   ]
  },
  {
   "cell_type": "code",
   "execution_count": 143,
   "metadata": {
    "tags": []
   },
   "outputs": [
    {
     "output_type": "stream",
     "name": "stdout",
     "text": "Quantidade de inscriçoes por Ampliada 18.\n\nConsulta inciada -  2020-08-20 20:23:21.725999\n+-----------+--------------+\n|AMPLIADA_18|QTDE_INSCRICAO|\n+-----------+--------------+\n|        Não|      33687767|\n|        Sim|         26385|\n+-----------+--------------+\n\nConsulta realizada com sucesso -  2020-08-20 20:25:24.822947\n"
    }
   ],
   "source": [
    "print('Quantidade de inscriçoes por Ampliada 18.')\n",
    "print('')\n",
    "print(f'Consulta inciada -  {datetime.now()}')\n",
    "\n",
    "sqlContext.sql('SELECT AMPLIADA_18, COUNT(*) AS QTDE_INSCRICAO FROM enemtb GROUP BY AMPLIADA_18 ORDER BY COUNT(*) DESC').show()\n",
    "\n",
    "print(f'Consulta realizada com sucesso -  {datetime.now()}')"
   ]
  },
  {
   "cell_type": "code",
   "execution_count": 144,
   "metadata": {
    "tags": []
   },
   "outputs": [
    {
     "output_type": "stream",
     "name": "stdout",
     "text": "Quantidade de inscriçoes por Ledor.\n\nConsulta inciada -  2020-08-20 20:25:24.878799\n+-----+--------------+\n|LEDOR|QTDE_INSCRICAO|\n+-----+--------------+\n|  Não|      33682753|\n|  Sim|         31399|\n+-----+--------------+\n\nConsulta realizada com sucesso -  2020-08-20 20:27:27.830101\n"
    }
   ],
   "source": [
    "print('Quantidade de inscriçoes por Ledor.')\n",
    "print('')\n",
    "print(f'Consulta inciada -  {datetime.now()}')\n",
    "\n",
    "sqlContext.sql('SELECT LEDOR, COUNT(*) AS QTDE_INSCRICAO FROM enemtb GROUP BY LEDOR ORDER BY COUNT(*) DESC').show()\n",
    "\n",
    "print(f'Consulta realizada com sucesso -  {datetime.now()}')"
   ]
  },
  {
   "cell_type": "code",
   "execution_count": 145,
   "metadata": {
    "tags": []
   },
   "outputs": [
    {
     "output_type": "stream",
     "name": "stdout",
     "text": "Quantidade de inscriçoes por Acesso.\n\nConsulta inciada -  2020-08-20 20:27:27.984722\n+------+--------------+\n|ACESSO|QTDE_INSCRICAO|\n+------+--------------+\n|   Não|      33653419|\n|   Sim|         60733|\n+------+--------------+\n\nConsulta realizada com sucesso -  2020-08-20 20:29:39.484841\n"
    }
   ],
   "source": [
    "print('Quantidade de inscriçoes por Acesso.')\n",
    "print('')\n",
    "print(f'Consulta inciada -  {datetime.now()}')\n",
    "\n",
    "sqlContext.sql('SELECT ACESSO, COUNT(*) AS QTDE_INSCRICAO FROM enemtb GROUP BY ACESSO ORDER BY COUNT(*) DESC').show()\n",
    "\n",
    "print(f'Consulta realizada com sucesso -  {datetime.now()}')"
   ]
  },
  {
   "cell_type": "code",
   "execution_count": 146,
   "metadata": {
    "tags": []
   },
   "outputs": [
    {
     "output_type": "stream",
     "name": "stdout",
     "text": "Quantidade de inscriçoes por Transcrição.\n\nConsulta inciada -  2020-08-20 20:29:39.508772\n+-----------+--------------+\n|TRANSCRICAO|QTDE_INSCRICAO|\n+-----------+--------------+\n|        Não|      33683543|\n|        Sim|         30609|\n+-----------+--------------+\n\nConsulta realizada com sucesso -  2020-08-20 20:31:52.232778\n"
    }
   ],
   "source": [
    "print('Quantidade de inscriçoes por Transcrição.')\n",
    "print('')\n",
    "print(f'Consulta inciada -  {datetime.now()}')\n",
    "\n",
    "sqlContext.sql('SELECT TRANSCRICAO, COUNT(*) AS QTDE_INSCRICAO FROM enemtb GROUP BY TRANSCRICAO ORDER BY COUNT(*) DESC').show()\n",
    "\n",
    "print(f'Consulta realizada com sucesso -  {datetime.now()}')"
   ]
  },
  {
   "cell_type": "code",
   "execution_count": 147,
   "metadata": {
    "tags": []
   },
   "outputs": [
    {
     "output_type": "stream",
     "name": "stdout",
     "text": "Quantidade de inscriçoes por Libras.\n\nConsulta inciada -  2020-08-20 20:31:52.281648\n+------+--------------+\n|LIBRAS|QTDE_INSCRICAO|\n+------+--------------+\n|   Não|      33704150|\n|   Sim|         10002|\n+------+--------------+\n\nConsulta realizada com sucesso -  2020-08-20 20:34:06.949538\n"
    }
   ],
   "source": [
    "print('Quantidade de inscriçoes por Libras.')\n",
    "print('')\n",
    "print(f'Consulta inciada -  {datetime.now()}')\n",
    "\n",
    "sqlContext.sql('SELECT LIBRAS, COUNT(*) AS QTDE_INSCRICAO FROM enemtb GROUP BY LIBRAS ORDER BY COUNT(*) DESC').show()\n",
    "\n",
    "print(f'Consulta realizada com sucesso -  {datetime.now()}')"
   ]
  },
  {
   "cell_type": "code",
   "execution_count": 148,
   "metadata": {
    "tags": []
   },
   "outputs": [
    {
     "output_type": "stream",
     "name": "stdout",
     "text": "Quantidade de inscriçoes por Leitura Labial.\n\nConsulta inciada -  2020-08-20 20:34:06.974458\n+--------------+--------------+\n|LEITURA_LABIAL|QTDE_INSCRICAO|\n+--------------+--------------+\n|           Não|      33708872|\n|           Sim|          5280|\n+--------------+--------------+\n\nConsulta realizada com sucesso -  2020-08-20 20:36:10.007768\n"
    }
   ],
   "source": [
    "print('Quantidade de inscriçoes por Leitura Labial.')\n",
    "print('')\n",
    "print(f'Consulta inciada -  {datetime.now()}')\n",
    "\n",
    "sqlContext.sql('SELECT LEITURA_LABIAL, COUNT(*) AS QTDE_INSCRICAO FROM enemtb GROUP BY LEITURA_LABIAL ORDER BY COUNT(*) DESC').show()\n",
    "\n",
    "print(f'Consulta realizada com sucesso -  {datetime.now()}')"
   ]
  },
  {
   "cell_type": "code",
   "execution_count": 149,
   "metadata": {
    "tags": []
   },
   "outputs": [
    {
     "output_type": "stream",
     "name": "stdout",
     "text": "Quantidade de inscriçoes por Mesa Cadeira Rodas.\n\nConsulta inciada -  2020-08-20 20:36:10.054059\n+------------------+--------------+\n|MESA_CADEIRA_RODAS|QTDE_INSCRICAO|\n+------------------+--------------+\n|               Não|      33702892|\n|               Sim|         11260|\n+------------------+--------------+\n\nConsulta realizada com sucesso -  2020-08-20 20:38:15.166755\n"
    }
   ],
   "source": [
    "print('Quantidade de inscriçoes por Mesa Cadeira Rodas.')\n",
    "print('')\n",
    "print(f'Consulta inciada -  {datetime.now()}')\n",
    "\n",
    "sqlContext.sql('SELECT MESA_CADEIRA_RODAS, COUNT(*) AS QTDE_INSCRICAO FROM enemtb GROUP BY MESA_CADEIRA_RODAS ORDER BY COUNT(*) DESC').show()\n",
    "\n",
    "print(f'Consulta realizada com sucesso -  {datetime.now()}')"
   ]
  },
  {
   "cell_type": "code",
   "execution_count": 150,
   "metadata": {
    "tags": []
   },
   "outputs": [
    {
     "output_type": "stream",
     "name": "stdout",
     "text": "Quantidade de inscriçoes por Mesa Cadeira Separada.\n\nConsulta inciada -  2020-08-20 20:38:15.201183\n+---------------------+--------------+\n|MESA_CADEIRA_SEPARADA|QTDE_INSCRICAO|\n+---------------------+--------------+\n|                  Não|      33697178|\n|                  Sim|         16974|\n+---------------------+--------------+\n\nConsulta realizada com sucesso -  2020-08-20 20:40:19.990536\n"
    }
   ],
   "source": [
    "print('Quantidade de inscriçoes por Mesa Cadeira Separada.')\n",
    "print('')\n",
    "print(f'Consulta inciada -  {datetime.now()}')\n",
    "\n",
    "sqlContext.sql('SELECT MESA_CADEIRA_SEPARADA, COUNT(*) AS QTDE_INSCRICAO FROM enemtb GROUP BY MESA_CADEIRA_SEPARADA ORDER BY COUNT(*) DESC').show()\n",
    "\n",
    "print(f'Consulta realizada com sucesso -  {datetime.now()}')"
   ]
  },
  {
   "cell_type": "code",
   "execution_count": 151,
   "metadata": {
    "tags": []
   },
   "outputs": [
    {
     "output_type": "stream",
     "name": "stdout",
     "text": "Quantidade de inscriçoes por Apoio de Perna.\n\nConsulta inciada -  2020-08-20 20:40:20.023444\n+-----------+--------------+\n|APOIO_PERNA|QTDE_INSCRICAO|\n+-----------+--------------+\n|        Não|      33700885|\n|        Sim|         13267|\n+-----------+--------------+\n\nConsulta realizada com sucesso -  2020-08-20 20:42:34.936812\n"
    }
   ],
   "source": [
    "print('Quantidade de inscriçoes por Apoio de Perna.')\n",
    "print('')\n",
    "print(f'Consulta inciada -  {datetime.now()}')\n",
    "\n",
    "sqlContext.sql('SELECT APOIO_PERNA, COUNT(*) AS QTDE_INSCRICAO FROM enemtb GROUP BY APOIO_PERNA ORDER BY COUNT(*) DESC').show()\n",
    "\n",
    "print(f'Consulta realizada com sucesso -  {datetime.now()}')"
   ]
  },
  {
   "cell_type": "code",
   "execution_count": 152,
   "metadata": {
    "tags": []
   },
   "outputs": [
    {
     "output_type": "stream",
     "name": "stdout",
     "text": "Quantidade de inscriçoes por Guia Iterprete.\n\nConsulta inciada -  2020-08-20 20:42:34.983702\n+---------------+--------------+\n|GUIA_INTERPRETE|QTDE_INSCRICAO|\n+---------------+--------------+\n|            Não|      33714101|\n|            Sim|            51|\n+---------------+--------------+\n\nConsulta realizada com sucesso -  2020-08-20 20:44:45.464011\n"
    }
   ],
   "source": [
    "print('Quantidade de inscriçoes por Guia Iterprete.')\n",
    "print('')\n",
    "print(f'Consulta inciada -  {datetime.now()}')\n",
    "\n",
    "sqlContext.sql('SELECT GUIA_INTERPRETE, COUNT(*) AS QTDE_INSCRICAO FROM enemtb GROUP BY GUIA_INTERPRETE ORDER BY COUNT(*) DESC').show()\n",
    "\n",
    "print(f'Consulta realizada com sucesso -  {datetime.now()}')"
   ]
  },
  {
   "cell_type": "code",
   "execution_count": 153,
   "metadata": {
    "tags": []
   },
   "outputs": [
    {
     "output_type": "stream",
     "name": "stdout",
     "text": "Quantidade de inscriçoes por Pedido de Computador.\n\nConsulta inciada -  2020-08-20 20:44:45.501910\n+----------+--------------+\n|COMPUTADOR|QTDE_INSCRICAO|\n+----------+--------------+\n|       Não|      33714118|\n|       Sim|            34|\n+----------+--------------+\n\nConsulta realizada com sucesso -  2020-08-20 20:46:57.898228\n"
    }
   ],
   "source": [
    "print('Quantidade de inscriçoes por Pedido de Computador.')\n",
    "print('')\n",
    "print(f'Consulta inciada -  {datetime.now()}')\n",
    "\n",
    "sqlContext.sql('SELECT COMPUTADOR, COUNT(*) AS QTDE_INSCRICAO FROM enemtb GROUP BY COMPUTADOR ORDER BY COUNT(*) DESC').show()\n",
    "\n",
    "print(f'Consulta realizada com sucesso -  {datetime.now()}')"
   ]
  },
  {
   "cell_type": "code",
   "execution_count": 154,
   "metadata": {
    "tags": []
   },
   "outputs": [
    {
     "output_type": "stream",
     "name": "stdout",
     "text": "Quantidade de inscriçoes por Cadeira Especial.\n\nConsulta inciada -  2020-08-20 20:46:57.939954\n+----------------+--------------+\n|CADEIRA_ESPECIAL|QTDE_INSCRICAO|\n+----------------+--------------+\n|             Não|      33714031|\n|             Sim|           121|\n+----------------+--------------+\n\nConsulta realizada com sucesso -  2020-08-20 20:49:07.914224\n"
    }
   ],
   "source": [
    "print('Quantidade de inscriçoes por Cadeira Especial.')\n",
    "print('')\n",
    "print(f'Consulta inciada -  {datetime.now()}')\n",
    "\n",
    "sqlContext.sql('SELECT CADEIRA_ESPECIAL, COUNT(*) AS QTDE_INSCRICAO FROM enemtb GROUP BY CADEIRA_ESPECIAL ORDER BY COUNT(*) DESC').show()\n",
    "\n",
    "print(f'Consulta realizada com sucesso -  {datetime.now()}')"
   ]
  },
  {
   "cell_type": "code",
   "execution_count": 155,
   "metadata": {
    "tags": []
   },
   "outputs": [
    {
     "output_type": "stream",
     "name": "stdout",
     "text": "Quantidade de inscriçoes por Cadeira Canhoto.\n\nConsulta inciada -  2020-08-20 20:49:07.941678\n+---------------+--------------+\n|CADEIRA_CANHOTO|QTDE_INSCRICAO|\n+---------------+--------------+\n|            Não|      33714030|\n|            Sim|           122|\n+---------------+--------------+\n\nConsulta realizada com sucesso -  2020-08-20 20:51:15.954082\n"
    }
   ],
   "source": [
    "print('Quantidade de inscriçoes por Cadeira Canhoto.')\n",
    "print('')\n",
    "print(f'Consulta inciada -  {datetime.now()}')\n",
    "\n",
    "sqlContext.sql('SELECT CADEIRA_CANHOTO, COUNT(*) AS QTDE_INSCRICAO FROM enemtb GROUP BY CADEIRA_CANHOTO ORDER BY COUNT(*) DESC').show()\n",
    "\n",
    "print(f'Consulta realizada com sucesso -  {datetime.now()}')"
   ]
  },
  {
   "cell_type": "code",
   "execution_count": 156,
   "metadata": {
    "tags": []
   },
   "outputs": [
    {
     "output_type": "stream",
     "name": "stdout",
     "text": "Quantidade de inscriçoes por Cadeira Canhoto.\n\nConsulta inciada -  2020-08-20 20:51:15.987994\n+---------------+--------------+\n|CADEIRA_CANHOTO|QTDE_INSCRICAO|\n+---------------+--------------+\n|            Não|      33714030|\n|            Sim|           122|\n+---------------+--------------+\n\nConsulta realizada com sucesso -  2020-08-20 20:53:19.565908\n"
    }
   ],
   "source": [
    "print('Quantidade de inscriçoes por Cadeira Canhoto.')\n",
    "print('')\n",
    "print(f'Consulta inciada -  {datetime.now()}')\n",
    "\n",
    "sqlContext.sql('SELECT CADEIRA_CANHOTO, COUNT(*) AS QTDE_INSCRICAO FROM enemtb GROUP BY CADEIRA_CANHOTO ORDER BY COUNT(*) DESC').show()\n",
    "\n",
    "print(f'Consulta realizada com sucesso -  {datetime.now()}')"
   ]
  },
  {
   "cell_type": "code",
   "execution_count": 157,
   "metadata": {
    "tags": []
   },
   "outputs": [
    {
     "output_type": "stream",
     "name": "stdout",
     "text": "Quantidade de inscriçoes por Cadeira Acolchoada.\n\nConsulta inciada -  2020-08-20 20:53:19.601812\n+------------------+--------------+\n|CADEIRA_ACOLCHOADA|QTDE_INSCRICAO|\n+------------------+--------------+\n|               Não|      33713388|\n|               Sim|           764|\n+------------------+--------------+\n\nConsulta realizada com sucesso -  2020-08-20 20:55:20.148980\n"
    }
   ],
   "source": [
    "print('Quantidade de inscriçoes por Cadeira Acolchoada.')\n",
    "print('')\n",
    "print(f'Consulta inciada -  {datetime.now()}')\n",
    "\n",
    "sqlContext.sql('SELECT CADEIRA_ACOLCHOADA, COUNT(*) AS QTDE_INSCRICAO FROM enemtb GROUP BY CADEIRA_ACOLCHOADA ORDER BY COUNT(*) DESC').show()\n",
    "\n",
    "print(f'Consulta realizada com sucesso -  {datetime.now()}')"
   ]
  },
  {
   "cell_type": "code",
   "execution_count": 158,
   "metadata": {
    "tags": []
   },
   "outputs": [
    {
     "output_type": "stream",
     "name": "stdout",
     "text": "Quantidade de inscriçoes por Prova Deitada.\n\nConsulta inciada -  2020-08-20 20:55:20.170403\n+-------------+--------------+\n|PROVA_DEITADO|QTDE_INSCRICAO|\n+-------------+--------------+\n|          Não|      33714131|\n|          Sim|            21|\n+-------------+--------------+\n\nConsulta realizada com sucesso -  2020-08-20 20:57:22.286199\n"
    }
   ],
   "source": [
    "print('Quantidade de inscriçoes por Prova Deitada.')\n",
    "print('')\n",
    "print(f'Consulta inciada -  {datetime.now()}')\n",
    "\n",
    "sqlContext.sql('SELECT PROVA_DEITADO, COUNT(*) AS QTDE_INSCRICAO FROM enemtb GROUP BY PROVA_DEITADO ORDER BY COUNT(*) DESC').show()\n",
    "\n",
    "print(f'Consulta realizada com sucesso -  {datetime.now()}')"
   ]
  },
  {
   "cell_type": "code",
   "execution_count": 159,
   "metadata": {
    "tags": []
   },
   "outputs": [
    {
     "output_type": "stream",
     "name": "stdout",
     "text": "Quantidade de inscriçoes por Mobiliario Obeso.\n\nConsulta inciada -  2020-08-20 20:57:22.316118\n+----------------+--------------+\n|MOBILIARIO_OBESO|QTDE_INSCRICAO|\n+----------------+--------------+\n|             Não|      33713885|\n|             Sim|           267|\n+----------------+--------------+\n\nConsulta realizada com sucesso -  2020-08-20 20:59:07.485538\n"
    }
   ],
   "source": [
    "print('Quantidade de inscriçoes por Mobiliario Obeso.')\n",
    "print('')\n",
    "print(f'Consulta inciada -  {datetime.now()}')\n",
    "\n",
    "sqlContext.sql('SELECT MOBILIARIO_OBESO, COUNT(*) AS QTDE_INSCRICAO FROM enemtb GROUP BY MOBILIARIO_OBESO ORDER BY COUNT(*) DESC').show()\n",
    "\n",
    "print(f'Consulta realizada com sucesso -  {datetime.now()}')"
   ]
  },
  {
   "cell_type": "code",
   "execution_count": 160,
   "metadata": {
    "tags": []
   },
   "outputs": [
    {
     "output_type": "stream",
     "name": "stdout",
     "text": "Quantidade de inscriçoes por Lamina Overlay.\n\nConsulta inciada -  2020-08-20 20:59:07.508479\n+--------------+--------------+\n|LAMINA_OVERLAY|QTDE_INSCRICAO|\n+--------------+--------------+\n|           Não|      33714070|\n|           Sim|            82|\n+--------------+--------------+\n\nConsulta realizada com sucesso -  2020-08-20 21:00:40.480370\n"
    }
   ],
   "source": [
    "print('Quantidade de inscriçoes por Lamina Overlay.')\n",
    "print('')\n",
    "print(f'Consulta inciada -  {datetime.now()}')\n",
    "\n",
    "sqlContext.sql('SELECT LAMINA_OVERLAY, COUNT(*) AS QTDE_INSCRICAO FROM enemtb GROUP BY LAMINA_OVERLAY ORDER BY COUNT(*) DESC').show()\n",
    "\n",
    "print(f'Consulta realizada com sucesso -  {datetime.now()}')"
   ]
  },
  {
   "cell_type": "code",
   "execution_count": 161,
   "metadata": {
    "tags": []
   },
   "outputs": [
    {
     "output_type": "stream",
     "name": "stdout",
     "text": "Quantidade de inscriçoes por Protetor Auricular.\n\nConsulta inciada -  2020-08-20 21:00:40.507295\n+------------------+--------------+\n|PROTETOR_AURICULAR|QTDE_INSCRICAO|\n+------------------+--------------+\n|               Não|      33714130|\n|               Sim|            22|\n+------------------+--------------+\n\nConsulta realizada com sucesso -  2020-08-20 21:02:14.508058\n"
    }
   ],
   "source": [
    "print('Quantidade de inscriçoes por Protetor Auricular.')\n",
    "print('')\n",
    "print(f'Consulta inciada -  {datetime.now()}')\n",
    "\n",
    "sqlContext.sql('SELECT PROTETOR_AURICULAR, COUNT(*) AS QTDE_INSCRICAO FROM enemtb GROUP BY PROTETOR_AURICULAR ORDER BY COUNT(*) DESC').show()\n",
    "\n",
    "print(f'Consulta realizada com sucesso -  {datetime.now()}')"
   ]
  },
  {
   "cell_type": "code",
   "execution_count": 162,
   "metadata": {
    "tags": []
   },
   "outputs": [
    {
     "output_type": "stream",
     "name": "stdout",
     "text": "Quantidade de inscriçoes por Medidor Glicose.\n\nConsulta inciada -  2020-08-20 21:02:14.528006\n+---------------+--------------+\n|MEDIDOR_GLICOSE|QTDE_INSCRICAO|\n+---------------+--------------+\n|            Não|      33712326|\n|            Sim|          1826|\n+---------------+--------------+\n\nConsulta realizada com sucesso -  2020-08-20 21:03:52.305357\n"
    }
   ],
   "source": [
    "print('Quantidade de inscriçoes por Medidor Glicose.')\n",
    "print('')\n",
    "print(f'Consulta inciada -  {datetime.now()}')\n",
    "\n",
    "sqlContext.sql('SELECT MEDIDOR_GLICOSE, COUNT(*) AS QTDE_INSCRICAO FROM enemtb GROUP BY MEDIDOR_GLICOSE ORDER BY COUNT(*) DESC').show()\n",
    "\n",
    "print(f'Consulta realizada com sucesso -  {datetime.now()}')"
   ]
  },
  {
   "cell_type": "code",
   "execution_count": 163,
   "metadata": {
    "tags": []
   },
   "outputs": [
    {
     "output_type": "stream",
     "name": "stdout",
     "text": "Quantidade de inscriçoes por Máquina de Braile.\n\nConsulta inciada -  2020-08-20 21:03:52.343290\n+--------------+--------------+\n|MAQUINA_BRAILE|QTDE_INSCRICAO|\n+--------------+--------------+\n|           Não|      33713607|\n|           Sim|           545|\n+--------------+--------------+\n\nConsulta realizada com sucesso -  2020-08-20 21:05:25.565975\n"
    }
   ],
   "source": [
    "print('Quantidade de inscriçoes por Máquina de Braile.')\n",
    "print('')\n",
    "print(f'Consulta inciada -  {datetime.now()}')\n",
    "\n",
    "sqlContext.sql('SELECT MAQUINA_BRAILE, COUNT(*) AS QTDE_INSCRICAO FROM enemtb GROUP BY MAQUINA_BRAILE ORDER BY COUNT(*) DESC').show()\n",
    "\n",
    "print(f'Consulta realizada com sucesso -  {datetime.now()}')"
   ]
  },
  {
   "cell_type": "code",
   "execution_count": 164,
   "metadata": {
    "tags": []
   },
   "outputs": [
    {
     "output_type": "stream",
     "name": "stdout",
     "text": "Quantidade de inscriçoes por Soroban.\n\nConsulta inciada -  2020-08-20 21:05:25.586920\n+-------+--------------+\n|SOROBAN|QTDE_INSCRICAO|\n+-------+--------------+\n|    Não|      33713939|\n|    Sim|           213|\n+-------+--------------+\n\nConsulta realizada com sucesso -  2020-08-20 21:07:00.001411\n"
    }
   ],
   "source": [
    "print('Quantidade de inscriçoes por Soroban.')\n",
    "print('')\n",
    "print(f'Consulta inciada -  {datetime.now()}')\n",
    "\n",
    "sqlContext.sql('SELECT SOROBAN, COUNT(*) AS QTDE_INSCRICAO FROM enemtb GROUP BY SOROBAN ORDER BY COUNT(*) DESC').show()\n",
    "\n",
    "print(f'Consulta realizada com sucesso -  {datetime.now()}')"
   ]
  },
  {
   "cell_type": "code",
   "execution_count": 165,
   "metadata": {
    "tags": []
   },
   "outputs": [
    {
     "output_type": "stream",
     "name": "stdout",
     "text": "Quantidade de inscriçoes por Marca Passo.\n\nConsulta inciada -  2020-08-20 21:07:00.032326\n+-----------+--------------+\n|MARCA_PASSO|QTDE_INSCRICAO|\n+-----------+--------------+\n|        Não|      33714102|\n|        Sim|            50|\n+-----------+--------------+\n\nConsulta realizada com sucesso -  2020-08-20 21:08:34.208485\n"
    }
   ],
   "source": [
    "print('Quantidade de inscriçoes por Marca Passo.')\n",
    "print('')\n",
    "print(f'Consulta inciada -  {datetime.now()}')\n",
    "\n",
    "sqlContext.sql('SELECT MARCA_PASSO, COUNT(*) AS QTDE_INSCRICAO FROM enemtb GROUP BY MARCA_PASSO ORDER BY COUNT(*) DESC').show()\n",
    "\n",
    "print(f'Consulta realizada com sucesso -  {datetime.now()}')"
   ]
  },
  {
   "cell_type": "code",
   "execution_count": 166,
   "metadata": {
    "tags": []
   },
   "outputs": [
    {
     "output_type": "stream",
     "name": "stdout",
     "text": "Quantidade de inscriçoes por Sonda.\n\nConsulta inciada -  2020-08-20 21:08:34.228432\n+-----+--------------+\n|SONDA|QTDE_INSCRICAO|\n+-----+--------------+\n|  Não|      33714094|\n|  Sim|            58|\n+-----+--------------+\n\nConsulta realizada com sucesso -  2020-08-20 21:10:08.446343\n"
    }
   ],
   "source": [
    "print('Quantidade de inscriçoes por Sonda.')\n",
    "print('')\n",
    "print(f'Consulta inciada -  {datetime.now()}')\n",
    "\n",
    "sqlContext.sql('SELECT SONDA, COUNT(*) AS QTDE_INSCRICAO FROM enemtb GROUP BY SONDA ORDER BY COUNT(*) DESC').show()\n",
    "\n",
    "print(f'Consulta realizada com sucesso -  {datetime.now()}')"
   ]
  },
  {
   "cell_type": "code",
   "execution_count": 167,
   "metadata": {
    "tags": []
   },
   "outputs": [
    {
     "output_type": "stream",
     "name": "stdout",
     "text": "Quantidade de inscriçoes por Medicamentos.\n\nConsulta inciada -  2020-08-20 21:10:08.469281\n+------------+--------------+\n|MEDICAMENTOS|QTDE_INSCRICAO|\n+------------+--------------+\n|         Não|      33713057|\n|         Sim|          1095|\n+------------+--------------+\n\nConsulta realizada com sucesso -  2020-08-20 21:11:46.331199\n"
    }
   ],
   "source": [
    "print('Quantidade de inscriçoes por Medicamentos.')\n",
    "print('')\n",
    "print(f'Consulta inciada -  {datetime.now()}')\n",
    "\n",
    "sqlContext.sql('SELECT MEDICAMENTOS, COUNT(*) AS QTDE_INSCRICAO FROM enemtb GROUP BY MEDICAMENTOS ORDER BY COUNT(*) DESC').show()\n",
    "\n",
    "print(f'Consulta realizada com sucesso -  {datetime.now()}')"
   ]
  },
  {
   "cell_type": "code",
   "execution_count": 168,
   "metadata": {
    "tags": []
   },
   "outputs": [
    {
     "output_type": "stream",
     "name": "stdout",
     "text": "Quantidade de inscriçoes por Sala Individual.\n\nConsulta inciada -  2020-08-20 21:11:46.357689\n+---------------+--------------+\n|SALA_INDIVIDUAL|QTDE_INSCRICAO|\n+---------------+--------------+\n|            Não|      33712675|\n|            Sim|          1477|\n+---------------+--------------+\n\nConsulta realizada com sucesso -  2020-08-20 21:13:18.294057\n"
    }
   ],
   "source": [
    "print('Quantidade de inscriçoes por Sala Individual.')\n",
    "print('')\n",
    "print(f'Consulta inciada -  {datetime.now()}')\n",
    "\n",
    "sqlContext.sql('SELECT SALA_INDIVIDUAL, COUNT(*) AS QTDE_INSCRICAO FROM enemtb GROUP BY SALA_INDIVIDUAL ORDER BY COUNT(*) DESC').show()\n",
    "\n",
    "print(f'Consulta realizada com sucesso -  {datetime.now()}')"
   ]
  },
  {
   "cell_type": "code",
   "execution_count": 169,
   "metadata": {
    "tags": []
   },
   "outputs": [
    {
     "output_type": "stream",
     "name": "stdout",
     "text": "Quantidade de inscriçoes por Sala Especial.\n\nConsulta inciada -  2020-08-20 21:13:18.308020\n+-------------+--------------+\n|SALA_ESPECIAL|QTDE_INSCRICAO|\n+-------------+--------------+\n|          Não|      33712905|\n|          Sim|          1247|\n+-------------+--------------+\n\nConsulta realizada com sucesso -  2020-08-20 21:14:51.789375\n"
    }
   ],
   "source": [
    "print('Quantidade de inscriçoes por Sala Especial.')\n",
    "print('')\n",
    "print(f'Consulta inciada -  {datetime.now()}')\n",
    "\n",
    "sqlContext.sql('SELECT SALA_ESPECIAL, COUNT(*) AS QTDE_INSCRICAO FROM enemtb GROUP BY SALA_ESPECIAL ORDER BY COUNT(*) DESC').show()\n",
    "\n",
    "print(f'Consulta realizada com sucesso -  {datetime.now()}')"
   ]
  },
  {
   "cell_type": "code",
   "execution_count": 170,
   "metadata": {
    "tags": []
   },
   "outputs": [
    {
     "output_type": "stream",
     "name": "stdout",
     "text": "Quantidade de inscriçoes por Sala para Acompanhante.\n\nConsulta inciada -  2020-08-20 21:14:51.816300\n+-----------------+--------------+\n|SALA_ACOMPANHANTE|QTDE_INSCRICAO|\n+-----------------+--------------+\n|              Não|      33713752|\n|              Sim|           400|\n+-----------------+--------------+\n\nConsulta realizada com sucesso -  2020-08-20 21:16:25.120271\n"
    }
   ],
   "source": [
    "print('Quantidade de inscriçoes por Sala para Acompanhante.')\n",
    "print('')\n",
    "print(f'Consulta inciada -  {datetime.now()}')\n",
    "\n",
    "sqlContext.sql('SELECT SALA_ACOMPANHANTE, COUNT(*) AS QTDE_INSCRICAO FROM enemtb GROUP BY SALA_ACOMPANHANTE ORDER BY COUNT(*) DESC').show()\n",
    "\n",
    "print(f'Consulta realizada com sucesso -  {datetime.now()}')"
   ]
  },
  {
   "cell_type": "code",
   "execution_count": 171,
   "metadata": {
    "tags": []
   },
   "outputs": [
    {
     "output_type": "stream",
     "name": "stdout",
     "text": "Quantidade de inscriçoes por Mobiliario Específico.\n\nConsulta inciada -  2020-08-20 21:16:25.138222\n+---------------------+--------------+\n|MOBILIARIO_ESPECIFICO|QTDE_INSCRICAO|\n+---------------------+--------------+\n|                  Não|      33714017|\n|                  Sim|           135|\n+---------------------+--------------+\n\nConsulta realizada com sucesso -  2020-08-20 21:17:59.390371\n"
    }
   ],
   "source": [
    "print('Quantidade de inscriçoes por Mobiliario Específico.')\n",
    "print('')\n",
    "print(f'Consulta inciada -  {datetime.now()}')\n",
    "\n",
    "sqlContext.sql('SELECT MOBILIARIO_ESPECIFICO, COUNT(*) AS QTDE_INSCRICAO FROM enemtb GROUP BY MOBILIARIO_ESPECIFICO ORDER BY COUNT(*) DESC').show()\n",
    "\n",
    "print(f'Consulta realizada com sucesso -  {datetime.now()}')"
   ]
  },
  {
   "cell_type": "code",
   "execution_count": 172,
   "metadata": {
    "tags": []
   },
   "outputs": [
    {
     "output_type": "stream",
     "name": "stdout",
     "text": "Quantidade de inscriçoes por Nome Social.\n\nConsulta inciada -  2020-08-20 21:17:59.419295\n+-----------+--------------+\n|NOME_SOCIAL|QTDE_INSCRICAO|\n+-----------+--------------+\n|        Não|      33712493|\n|        Sim|          1659|\n+-----------+--------------+\n\nConsulta realizada com sucesso -  2020-08-20 21:19:37.218506\n"
    }
   ],
   "source": [
    "print('Quantidade de inscriçoes por Nome Social.')\n",
    "print('')\n",
    "print(f'Consulta inciada -  {datetime.now()}')\n",
    "\n",
    "sqlContext.sql('SELECT NOME_SOCIAL, COUNT(*) AS QTDE_INSCRICAO FROM enemtb GROUP BY NOME_SOCIAL ORDER BY COUNT(*) DESC').show()\n",
    "\n",
    "print(f'Consulta realizada com sucesso -  {datetime.now()}')"
   ]
  },
  {
   "cell_type": "code",
   "execution_count": 173,
   "metadata": {
    "tags": []
   },
   "outputs": [
    {
     "output_type": "stream",
     "name": "stdout",
     "text": "Quantidade de inscriçoes por Presença Prova Ciências Natureza.\n\nConsulta inciada -  2020-08-20 21:19:37.254605\n+--------------------------+--------------+\n|PRESENCA_CIENCIAS_NATUREZA|QTDE_INSCRICAO|\n+--------------------------+--------------+\n|         Presente na prova|      23807309|\n|            Faltou à prova|       9894904|\n|        Eliminado na prova|         10840|\n|                          |          1099|\n+--------------------------+--------------+\n\nConsulta realizada com sucesso -  2020-08-20 21:21:12.530540\n"
    }
   ],
   "source": [
    "print('Quantidade de inscriçoes por Presença Prova Ciências Natureza.')\n",
    "print('')\n",
    "print(f'Consulta inciada -  {datetime.now()}')\n",
    "\n",
    "sqlContext.sql('SELECT PRESENCA_CIENCIAS_NATUREZA, COUNT(*) AS QTDE_INSCRICAO FROM enemtb GROUP BY PRESENCA_CIENCIAS_NATUREZA ORDER BY COUNT(*) DESC').show()\n",
    "\n",
    "print(f'Consulta realizada com sucesso -  {datetime.now()}')"
   ]
  },
  {
   "cell_type": "code",
   "execution_count": 174,
   "metadata": {
    "tags": []
   },
   "outputs": [
    {
     "output_type": "stream",
     "name": "stdout",
     "text": "Quantidade de inscriçoes por Presença Prova Ciências Humanas.\n\nConsulta inciada -  2020-08-20 21:21:12.549488\n+-------------------------+--------------+\n|PRESENCA_CIENCIAS_HUMANAS|QTDE_INSCRICAO|\n+-------------------------+--------------+\n|        Presente na prova|      24527054|\n|           Faltou à prova|       9170610|\n|       Eliminado na prova|         15389|\n|                         |          1099|\n+-------------------------+--------------+\n\nConsulta realizada com sucesso -  2020-08-20 21:22:47.588751\n"
    }
   ],
   "source": [
    "print('Quantidade de inscriçoes por Presença Prova Ciências Humanas.')\n",
    "print('')\n",
    "print(f'Consulta inciada -  {datetime.now()}')\n",
    "\n",
    "sqlContext.sql('SELECT PRESENCA_CIENCIAS_HUMANAS, COUNT(*) AS QTDE_INSCRICAO FROM enemtb GROUP BY PRESENCA_CIENCIAS_HUMANAS ORDER BY COUNT(*) DESC').show()\n",
    "\n",
    "print(f'Consulta realizada com sucesso -  {datetime.now()}')"
   ]
  },
  {
   "cell_type": "code",
   "execution_count": 175,
   "metadata": {
    "tags": []
   },
   "outputs": [
    {
     "output_type": "stream",
     "name": "stdout",
     "text": "Quantidade de inscriçoes por Presença Prova Linguagens e Códigos.\n\nConsulta inciada -  2020-08-20 21:22:47.609694\n+---------------------------+--------------+\n|PRESENCA_LINGUAGENS_CODIGOS|QTDE_INSCRICAO|\n+---------------------------+--------------+\n|          Presente na prova|      24243348|\n|             Faltou à prova|       9452565|\n|         Eliminado na prova|         17164|\n|                           |          1075|\n+---------------------------+--------------+\n\nConsulta realizada com sucesso -  2020-08-20 21:24:25.244317\n"
    }
   ],
   "source": [
    "print('Quantidade de inscriçoes por Presença Prova Linguagens e Códigos.')\n",
    "print('')\n",
    "print(f'Consulta inciada -  {datetime.now()}')\n",
    "\n",
    "sqlContext.sql('SELECT PRESENCA_LINGUAGENS_CODIGOS, COUNT(*) AS QTDE_INSCRICAO FROM enemtb GROUP BY PRESENCA_LINGUAGENS_CODIGOS ORDER BY COUNT(*) DESC').show()\n",
    "\n",
    "print(f'Consulta realizada com sucesso -  {datetime.now()}')"
   ]
  },
  {
   "cell_type": "code",
   "execution_count": 176,
   "metadata": {
    "tags": []
   },
   "outputs": [
    {
     "output_type": "stream",
     "name": "stdout",
     "text": "Quantidade de inscriçoes por Presença Prova Matemática.\n\nConsulta inciada -  2020-08-20 21:24:25.263266\n+-------------------+--------------+\n|PRESENCA_MATEMATICA|QTDE_INSCRICAO|\n+-------------------+--------------+\n|  Presente na prova|      23523603|\n|     Faltou à prova|      10176859|\n| Eliminado na prova|         12615|\n|                   |          1075|\n+-------------------+--------------+\n\nConsulta realizada com sucesso -  2020-08-20 21:26:02.108106\n"
    }
   ],
   "source": [
    "print('Quantidade de inscriçoes por Presença Prova Matemática.')\n",
    "print('')\n",
    "print(f'Consulta inciada -  {datetime.now()}')\n",
    "\n",
    "sqlContext.sql('SELECT PRESENCA_MATEMATICA, COUNT(*) AS QTDE_INSCRICAO FROM enemtb GROUP BY PRESENCA_MATEMATICA ORDER BY COUNT(*) DESC').show()\n",
    "\n",
    "print(f'Consulta realizada com sucesso -  {datetime.now()}')"
   ]
  },
  {
   "cell_type": "code",
   "execution_count": 177,
   "metadata": {
    "tags": []
   },
   "outputs": [
    {
     "output_type": "stream",
     "name": "stdout",
     "text": "Quantidade de inscriçoes por Escolha Línguas.\n\nConsulta inciada -  2020-08-20 21:26:02.138027\n+--------+--------------+\n|  LINGUA|QTDE_INSCRICAO|\n+--------+--------------+\n|Espanhol|      18995697|\n|  Inglês|      14718455|\n+--------+--------------+\n\nConsulta realizada com sucesso -  2020-08-20 21:27:36.830387\n"
    }
   ],
   "source": [
    "print('Quantidade de inscriçoes por Escolha Línguas.')\n",
    "print('')\n",
    "print(f'Consulta inciada -  {datetime.now()}')\n",
    "\n",
    "sqlContext.sql('SELECT LINGUA, COUNT(*) AS QTDE_INSCRICAO FROM enemtb GROUP BY LINGUA ORDER BY COUNT(*) DESC').show()\n",
    "\n",
    "print(f'Consulta realizada com sucesso -  {datetime.now()}')"
   ]
  },
  {
   "cell_type": "code",
   "execution_count": 178,
   "metadata": {
    "tags": []
   },
   "outputs": [
    {
     "output_type": "stream",
     "name": "stdout",
     "text": "Quantidade de inscriçoes por Status Redação.\n\nConsulta inciada -  2020-08-20 21:27:36.846338\n+--------------------+--------------+\n|      STATUS_REDACAO|QTDE_INSCRICAO|\n+--------------------+--------------+\n|       Sem problemas|      23474861|\n|                    |       7366434|\n|           Em Branco|       2333045|\n|        Fuga ao tema|        373136|\n|Cópia Texto Motiv...|         55760|\n|  Texto insuficiente|         41654|\n|  Parte desconectada|         32730|\n|Não atendimento a...|         20782|\n|             Anulada|         15750|\n+--------------------+--------------+\n\nConsulta realizada com sucesso -  2020-08-20 21:29:12.020706\n"
    }
   ],
   "source": [
    "print('Quantidade de inscriçoes por Status Redação.')\n",
    "print('')\n",
    "print(f'Consulta inciada -  {datetime.now()}')\n",
    "\n",
    "sqlContext.sql('SELECT STATUS_REDACAO, COUNT(*) AS QTDE_INSCRICAO FROM enemtb GROUP BY STATUS_REDACAO ORDER BY COUNT(*) DESC').show()\n",
    "\n",
    "print(f'Consulta realizada com sucesso -  {datetime.now()}')"
   ]
  },
  {
   "cell_type": "code",
   "execution_count": 179,
   "metadata": {
    "tags": []
   },
   "outputs": [
    {
     "output_type": "stream",
     "name": "stdout",
     "text": "Quantidade de inscriçoes por Pai Estudou?.\n\nConsulta inciada -  2020-08-20 21:29:12.047633\n+--------------------+--------------+\n|         PAI_ESTUDOU|QTDE_INSCRICAO|\n+--------------------+--------------+\n|Completou o Ensin...|       8116484|\n|Não completou a 4...|       7873004|\n|Completou a 4ª sé...|       5084983|\n|Completou a 8ª sé...|       4074944|\n|            Não sei.|       3170233|\n|Completou a Facul...|       2114497|\n|      Nunca estudou.|       2076754|\n|Completou a Pós-g...|       1202565|\n|                    |           688|\n+--------------------+--------------+\n\nConsulta realizada com sucesso -  2020-08-20 21:30:48.782228\n"
    }
   ],
   "source": [
    "print('Quantidade de inscriçoes por Pai Estudou?.')\n",
    "print('')\n",
    "print(f'Consulta inciada -  {datetime.now()}')\n",
    "\n",
    "sqlContext.sql('SELECT PAI_ESTUDOU, COUNT(*) AS QTDE_INSCRICAO FROM enemtb GROUP BY PAI_ESTUDOU ORDER BY COUNT(*) DESC').show()\n",
    "\n",
    "print(f'Consulta realizada com sucesso -  {datetime.now()}')"
   ]
  },
  {
   "cell_type": "code",
   "execution_count": 180,
   "metadata": {
    "tags": []
   },
   "outputs": [
    {
     "output_type": "stream",
     "name": "stdout",
     "text": "Quantidade de inscriçoes por Mãe Estudou?.\n\nConsulta inciada -  2020-08-20 21:30:48.804167\n+--------------------+--------------+\n|         MAE_ESTUDOU|QTDE_INSCRICAO|\n+--------------------+--------------+\n|Completou o Ensin...|      10062314|\n|Não completou a 4...|       6238429|\n|Completou a 4ª sé...|       4993957|\n|Completou a 8ª sé...|       4668985|\n|Completou a Facul...|       2854443|\n|Completou a Pós-g...|       2107605|\n|      Nunca estudou.|       1533813|\n|            Não sei.|       1253916|\n|                    |           690|\n+--------------------+--------------+\n\nConsulta realizada com sucesso -  2020-08-20 21:32:24.940905\n"
    }
   ],
   "source": [
    "print('Quantidade de inscriçoes por Mãe Estudou?.')\n",
    "print('')\n",
    "print(f'Consulta inciada -  {datetime.now()}')\n",
    "\n",
    "sqlContext.sql('SELECT MAE_ESTUDOU, COUNT(*) AS QTDE_INSCRICAO FROM enemtb GROUP BY MAE_ESTUDOU ORDER BY COUNT(*) DESC').show()\n",
    "\n",
    "print(f'Consulta realizada com sucesso -  {datetime.now()}')"
   ]
  },
  {
   "cell_type": "code",
   "execution_count": 181,
   "metadata": {
    "tags": []
   },
   "outputs": [
    {
     "output_type": "stream",
     "name": "stdout",
     "text": "Quantidade de inscriçoes por Quantidade de Pessoas na Residência.\n\nConsulta inciada -  2020-08-20 21:32:24.958857\n+-----------------------+--------------+\n|QTDE_MORADOR_RESIDENCIA|QTDE_INSCRICAO|\n+-----------------------+--------------+\n|                      4|      10520748|\n|                      3|       8272709|\n|                      5|       5752725|\n|                      2|       4125748|\n|                      6|       2275631|\n|                      7|        968899|\n|   1, pois moro sozi...|        949920|\n|                      8|        443489|\n|                      9|        178596|\n|                     10|        117303|\n|                     11|         39419|\n|                     12|         27269|\n|                     13|         12265|\n|                     14|          6865|\n|                     20|          6265|\n|                     15|          6103|\n|                     16|          2996|\n|                     18|          2261|\n|                     17|          2200|\n|                     19|          2042|\n+-----------------------+--------------+\nonly showing top 20 rows\n\nConsulta realizada com sucesso -  2020-08-20 21:33:58.042223\n"
    }
   ],
   "source": [
    "print('Quantidade de inscriçoes por Quantidade de Pessoas na Residência.')\n",
    "print('')\n",
    "print(f'Consulta inciada -  {datetime.now()}')\n",
    "\n",
    "sqlContext.sql('SELECT QTDE_MORADOR_RESIDENCIA, COUNT(*) AS QTDE_INSCRICAO FROM enemtb GROUP BY QTDE_MORADOR_RESIDENCIA ORDER BY COUNT(*) DESC').show()\n",
    "\n",
    "print(f'Consulta realizada com sucesso -  {datetime.now()}')"
   ]
  },
  {
   "cell_type": "code",
   "execution_count": 182,
   "metadata": {
    "tags": []
   },
   "outputs": [
    {
     "output_type": "stream",
     "name": "stdout",
     "text": "Quantidade de inscriçoes por Renda Mensal Familiar.\n\nConsulta inciada -  2020-08-20 21:33:58.071181\n+---------------------+--------------+\n|RENDA_MENSAL_FAMILIAR|QTDE_INSCRICAO|\n+---------------------+--------------+\n| Acima de 1,0 salá...|       8676283|\n| Até 1,0 salário m...|       8562846|\n| Acima de 1,5 salá...|       3886465|\n| Acima de 2,0 salá...|       2926930|\n| Acima de 3,0 salá...|       1968376|\n| Acima de 2,5 salá...|       1846761|\n|       Nenhuma Renda.|       1241992|\n| Acima de 4,0 salá...|       1199179|\n| Acima de 5,0 salá...|        866593|\n| Acima de 6,0 salá...|        564727|\n| Acima de 7,0 salá...|        361117|\n| Acima de 10,0 sal...|        333550|\n| Acima de 20 salár...|        315608|\n| Acima de 12,0 sal...|        266142|\n| Acima de 8,0 salá...|        247428|\n| Acima de 15,0 sal...|        230354|\n| Acima de 9,0 salá...|        219101|\n|                     |           700|\n+---------------------+--------------+\n\nConsulta realizada com sucesso -  2020-08-20 21:35:34.798296\n"
    }
   ],
   "source": [
    "print('Quantidade de inscriçoes por Renda Mensal Familiar.')\n",
    "print('')\n",
    "print(f'Consulta inciada -  {datetime.now()}')\n",
    "\n",
    "sqlContext.sql('SELECT RENDA_MENSAL_FAMILIAR, COUNT(*) AS QTDE_INSCRICAO FROM enemtb GROUP BY RENDA_MENSAL_FAMILIAR ORDER BY COUNT(*) DESC').show()\n",
    "\n",
    "print(f'Consulta realizada com sucesso -  {datetime.now()}')"
   ]
  },
  {
   "cell_type": "code",
   "execution_count": 183,
   "metadata": {
    "tags": []
   },
   "outputs": [
    {
     "output_type": "stream",
     "name": "stdout",
     "text": "Quantidade de inscriçoes por Residência com Celular.\n\nConsulta inciada -  2020-08-20 21:35:34.818243\n+--------------------+--------------+\n|  RESIDENCIA_CELULAR|QTDE_INSCRICAO|\n+--------------------+--------------+\n|          Sim, dois.|      10926685|\n|          Sim, três.|       8486907|\n|            Sim, um.|       7810792|\n|Sim, quatro ou mais.|       5759039|\n|                Não.|        729975|\n|                    |           754|\n+--------------------+--------------+\n\nConsulta realizada com sucesso -  2020-08-20 21:37:08.699248\n"
    }
   ],
   "source": [
    "print('Quantidade de inscriçoes por Residência com Celular.')\n",
    "print('')\n",
    "print(f'Consulta inciada -  {datetime.now()}')\n",
    "\n",
    "sqlContext.sql('SELECT RESIDENCIA_CELULAR, COUNT(*) AS QTDE_INSCRICAO FROM enemtb GROUP BY RESIDENCIA_CELULAR ORDER BY COUNT(*) DESC').show()\n",
    "\n",
    "print(f'Consulta realizada com sucesso -  {datetime.now()}')"
   ]
  },
  {
   "cell_type": "code",
   "execution_count": 184,
   "metadata": {
    "tags": []
   },
   "outputs": [
    {
     "output_type": "stream",
     "name": "stdout",
     "text": "Quantidade de inscriçoes por Residência com Computador.\n\nConsulta inciada -  2020-08-20 21:37:08.720192\n+---------------------+--------------+\n|RESIDENCIA_COMPUTADOR|QTDE_INSCRICAO|\n+---------------------+--------------+\n|             Sim, um.|      16698903|\n|                 Não.|      13316634|\n|           Sim, dois.|       2617783|\n|           Sim, três.|        755001|\n| Sim, quatro ou mais.|        325069|\n|                     |           762|\n+---------------------+--------------+\n\nConsulta realizada com sucesso -  2020-08-20 21:38:42.488968\n"
    }
   ],
   "source": [
    "print('Quantidade de inscriçoes por Residência com Computador.')\n",
    "print('')\n",
    "print(f'Consulta inciada -  {datetime.now()}')\n",
    "\n",
    "sqlContext.sql('SELECT RESIDENCIA_COMPUTADOR, COUNT(*) AS QTDE_INSCRICAO FROM enemtb GROUP BY RESIDENCIA_COMPUTADOR ORDER BY COUNT(*) DESC').show()\n",
    "\n",
    "print(f'Consulta realizada com sucesso -  {datetime.now()}')"
   ]
  },
  {
   "cell_type": "code",
   "execution_count": 185,
   "metadata": {
    "tags": []
   },
   "outputs": [
    {
     "output_type": "stream",
     "name": "stdout",
     "text": "Quantidade de inscriçoes por Residência com Internet.\n\nConsulta inciada -  2020-08-20 21:38:42.509203\n+-------------------+--------------+\n|RESIDENCIA_INTERNET|QTDE_INSCRICAO|\n+-------------------+--------------+\n|               Sim.|      23073704|\n|               Não.|      10639681|\n|                   |           767|\n+-------------------+--------------+\n\nConsulta realizada com sucesso -  2020-08-20 21:40:18.781537\n"
    }
   ],
   "source": [
    "print('Quantidade de inscriçoes por Residência com Internet.')\n",
    "print('')\n",
    "print(f'Consulta inciada -  {datetime.now()}')\n",
    "\n",
    "sqlContext.sql('SELECT RESIDENCIA_INTERNET, COUNT(*) AS QTDE_INSCRICAO FROM enemtb GROUP BY RESIDENCIA_INTERNET ORDER BY COUNT(*) DESC').show()\n",
    "\n",
    "print(f'Consulta realizada com sucesso -  {datetime.now()}')"
   ]
  }
 ]
}