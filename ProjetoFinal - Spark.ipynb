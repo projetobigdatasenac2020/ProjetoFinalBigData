{
 "metadata": {
  "language_info": {
   "codemirror_mode": {
    "name": "ipython",
    "version": 3
   },
   "file_extension": ".py",
   "mimetype": "text/x-python",
   "name": "python",
   "nbconvert_exporter": "python",
   "pygments_lexer": "ipython3",
   "version": "3.7.6-final"
  },
  "orig_nbformat": 2,
  "kernelspec": {
   "name": "python_defaultSpec_1597600718210",
   "display_name": "Python 3.7.6 64-bit ('base': conda)"
  }
 },
 "nbformat": 4,
 "nbformat_minor": 2,
 "cells": [
  {
   "cell_type": "markdown",
   "metadata": {},
   "source": [
    "Projeto Final Pós Graduação Big Data - Senac Rio - 2020."
   ]
  },
  {
   "cell_type": "markdown",
   "metadata": {},
   "source": [
    "Processo de importação das Bibliotecas utilizadas no durante todo o projeto."
   ]
  },
  {
   "cell_type": "code",
   "execution_count": 1,
   "metadata": {},
   "outputs": [],
   "source": [
    "#Importação das bibliotecas utilizadas para manipulação dos dados das paginas Web.\n",
    "\n",
    "from bs4 import BeautifulSoup\n",
    "import urllib.request\n",
    "import shutil\n",
    "import os\n",
    "from datetime import datetime\n",
    "import pandas as pd\n",
    "import pyspark\n",
    "import zipfile\n",
    "import sqlalchemy\n",
    "import pymysql\n",
    "import json\n",
    "import numpy as np\n",
    "import matplotlib.pyplot as plt"
   ]
  },
  {
   "cell_type": "markdown",
   "metadata": {},
   "source": [
    "Indicação do diretório para download dos arquivos Inep-Enem. "
   ]
  },
  {
   "cell_type": "code",
   "execution_count": null,
   "metadata": {},
   "outputs": [],
   "source": [
    "#Indicação do diretório desejado para download dos arquivos. \n",
    "#No exemplo, estamos salvando no diretório: C:\\Users\\Ricardo\\Downloads\n",
    "\n",
    "diretorio = input('Digite o diretório desejado para salvar os arquivos: ')\n",
    "os.chdir(r'{}'.format(diretorio))\n",
    "os.getcwd( )"
   ]
  },
  {
   "cell_type": "code",
   "execution_count": null,
   "metadata": {},
   "outputs": [],
   "source": [
    "#Apos indicar o diretorio desejado, como boa pratica, sugerimos a criação da pasta onde será salvos os arquivos.\n",
    "#No exemplo, estamos salvando na pasta: MicrodadosEnem.'''\n",
    "\n",
    "url = 'http://inep.gov.br/microdados'\n",
    "\n",
    "pasta = input('Após indicação do diretório {}, informe o nome da pasta desejada para salvar os arquivos baixados da pagina {}: '.format(diretorio, url))\n",
    "\n",
    "try:\n",
    "    os.mkdir(pasta)\n",
    "    print('Pasta {} criada com sucesso!'.format(pasta))\n",
    "except FileExistsError as e:\n",
    "    print(f'Pasta {pasta} já existe')"
   ]
  },
  {
   "cell_type": "code",
   "execution_count": null,
   "metadata": {},
   "outputs": [],
   "source": [
    "#Indicação do diretório onde será salvo os arquivos baixados da url.\n",
    "\n",
    "os.chdir(r'{}\\{}'.format(diretorio, pasta))\n",
    "print('Os arquivos serão salvos no seguinte diretorio:', format(os.getcwd()))"
   ]
  },
  {
   "cell_type": "markdown",
   "metadata": {},
   "source": [
    "Processo de Web Scraping no site do Inep, buscando os microdados do Enem."
   ]
  },
  {
   "cell_type": "code",
   "execution_count": null,
   "metadata": {},
   "outputs": [],
   "source": [
    "#Criação da variável que receberá todos os dados correspondente a varíavel \"url\".\n",
    "\n",
    "page = urllib.request.urlopen(url)"
   ]
  },
  {
   "cell_type": "code",
   "execution_count": null,
   "metadata": {},
   "outputs": [],
   "source": [
    "#Criação da variável \"soup\", do pacote BeatifulSoup, que apresenta a estutura HTML da pagina que será trabalhada.\n",
    "\n",
    "soup = BeautifulSoup(page,'html.parser')\n",
    "print(soup)"
   ]
  },
  {
   "cell_type": "code",
   "execution_count": null,
   "metadata": {},
   "outputs": [],
   "source": [
    "#No loop \"for\" abaixo, o realizaremos o filtro das tags desejadas.\n",
    "\n",
    "for link in soup.findAll('a'):\n",
    "    theLink = link.get('href')\n",
    "    name = link.string\n",
    "    \n",
    "    print(theLink)\n",
    "    print(name)"
   ]
  },
  {
   "cell_type": "code",
   "execution_count": null,
   "metadata": {},
   "outputs": [],
   "source": [
    "#No processo abaixo, realizaremos o filtro das linhas, cujo o o tipo do arquivo desejado é *.zip.\n",
    "\n",
    "nomeArquivo = []\n",
    "typeFile = '.zip'\n",
    "i = 0\n",
    "for link in soup.findAll('a'):\n",
    "    theLink = str(link.get('href')).lower()\n",
    "    name = link.string\n",
    "    if 'enem'in theLink:\n",
    "        if theLink[-4:] == typeFile:\n",
    "            print(theLink)\n",
    "            print(type(theLink))\n",
    "            print(name)\n",
    "            print(type(name))\n",
    "            nomeArquivo.append(theLink[39:-4].replace('/','_'))\n",
    "            print(type(nomeArquivo))"
   ]
  },
  {
   "cell_type": "code",
   "execution_count": null,
   "metadata": {},
   "outputs": [],
   "source": [
    "#Processo de download dos arquivos desejados e salvos na na pasta indicada.\n",
    "\n",
    "i = 0\n",
    "for link in soup.findAll('a'):\n",
    "    theLink = str(link.get('href')).lower()\n",
    "    name = link.string\n",
    "    if 'enem'in theLink:\n",
    "        if theLink[-4:] == typeFile:\n",
    "            if name is None:\n",
    "                title = 'SemTítulo' + typeFile\n",
    "            else:\n",
    "                title = nomeArquivo[i] + typeFile\n",
    "                i +=1\n",
    "            try:\n",
    "                with open(os.getcwd() + '/' + title,'r') as fileExists:\n",
    "                    print('Arquivo ' + title + ' existente no diretório '+ os.getcwd() + ' - ' + str(datetime.now()))\n",
    "                    fileExists.close()\n",
    "            except FileNotFoundError:\n",
    "                print('Download Iniciado - {}: '.format(datetime.now()) + title)\n",
    "                docFile = open(os.getcwd() + '/' + title,'wb')\n",
    "                docFile.write(urllib.request.urlopen(theLink).read())\n",
    "                docFile.close()\n",
    "                print('Download Concluído em {}'.format(datetime.now()))\n",
    "print('Não há mais arquivos para download')"
   ]
  },
  {
   "cell_type": "code",
   "execution_count": null,
   "metadata": {},
   "outputs": [],
   "source": [
    "#Apresentação do tamanho dos arquivos baixados.\n",
    "\n",
    "print('Apresentação Arquivos Enem baixados no díretório: ' + os.getcwd())\n",
    "contador = 0\n",
    "tamanhoTotal = 0\n",
    "tipo = '.zip'\n",
    "\n",
    "def formatarTamanho(tamanho):\n",
    "    base = 1024\n",
    "    kilo = base\n",
    "    mega = base ** 2\n",
    "    giga = base ** 3\n",
    "    tera = base ** 4\n",
    "    \n",
    "    if tamanho < kilo:\n",
    "        tamanho = base\n",
    "        texto = 'B'\n",
    "    elif tamanho < mega:\n",
    "        tamanho /= kilo\n",
    "        texto = 'K'\n",
    "    elif tamanho < giga:\n",
    "        tamanho /= mega\n",
    "        texto = 'M'\n",
    "    else:\n",
    "        tamanho < tera\n",
    "        tamanho /= giga\n",
    "        texto = 'G'\n",
    "    tamanho = round(tamanho, 2)\n",
    "    return f'{tamanho} {texto}'\n",
    "\n",
    "for raiz, diretorios, arquivos in os.walk(os.getcwd()):\n",
    "    for arquivo in arquivos:\n",
    "        if tipo in arquivo:\n",
    "            contador +=1 \n",
    "            caminho = os.path.join(raiz, arquivo)\n",
    "            nome, ext = os.path.splitext(arquivo)\n",
    "            tamanho = os.path.getsize(caminho)\n",
    "            tamanhoTotal += tamanho\n",
    "                                \n",
    "            if tamanho > 0:\n",
    "                print()\n",
    "                print('Arquivo encontrado: ', arquivo)\n",
    "                print('Caminho: ', caminho)\n",
    "                print('Nome: ', nome)\n",
    "                print('Extensão: ', ext)\n",
    "                print('Tamanho: ', formatarTamanho(tamanho))\n",
    "\n",
    "print()\n",
    "print(f'{contador} arquivo(s) encontrado(s).' + 'Tamanho Total: ' + formatarTamanho(tamanhoTotal))"
   ]
  },
  {
   "cell_type": "markdown",
   "metadata": {},
   "source": [
    "Processo de Conexão ao Mysql e criação do banco de dados que receberá os microdados dos anos de 2015 a 2019."
   ]
  },
  {
   "cell_type": "code",
   "execution_count": null,
   "metadata": {
    "tags": []
   },
   "outputs": [],
   "source": [
    "# Criando um database.\n",
    "\n",
    "conexao = pymysql.connect(\n",
    "    host = 'localhost',\n",
    "    user = 'root',\n",
    "    password = 'admin')\n",
    "\n",
    "cursor = conexao.cursor()\n",
    "\n",
    "try:\n",
    "    cursor.execute('CREATE DATABASE dbenem')\n",
    "    print('Banco de Dados dbenem criado com sucesso!')\n",
    "except:\n",
    "    print('Banco de Dados dbenem já existe!')"
   ]
  },
  {
   "cell_type": "code",
   "execution_count": null,
   "metadata": {
    "tags": []
   },
   "outputs": [],
   "source": [
    "# Conectando ao Banco de Dados enemdb.\n",
    "\n",
    "cursor.execute(\"SHOW DATABASES\")\n",
    "print('Databases MySql:')\n",
    "for x in cursor:\n",
    "  print(x)\n",
    "\n",
    "\n",
    "cursor.connection.select_db('dbenem')\n",
    "print('')\n",
    "print('Conexão com o banco de dados dbenem')"
   ]
  },
  {
   "cell_type": "code",
   "execution_count": 2,
   "metadata": {},
   "outputs": [],
   "source": [
    "from pyspark import SparkContext\n",
    "sc = SparkContext()\n",
    "\n",
    "from pyspark.sql import SQLContext\n",
    "sqlContext = SQLContext(sc)"
   ]
  },
  {
   "cell_type": "code",
   "execution_count": 15,
   "metadata": {
    "tags": []
   },
   "outputs": [
    {
     "output_type": "stream",
     "name": "stdout",
     "text": "Criação Dataframes Iniciado - 2020-08-16 16:36:40.975207.\n\n\nCriação Dataframe do Enem 2015 iniciada - 2020-08-16 16:36:40.975207.\nDataframe enem2015 criado com sucesso - 2020-08-16 16:36:41.092461.\n\nCriação Dataframe do Enem 2016 iniciada- 2020-08-16 16:36:41.092461.\nDataframe enem2016 criado com sucesso - 2020-08-16 16:36:41.193194.\n\nCriação Dataframe do Enem 2017 iniciada - 2020-08-16 16:36:41.193194.\nDataframe enem2017 criado com sucesso - 2020-08-16 16:36:41.307165.\n\nCriação Dataframe do Enem 2018 iniciada - 2020-08-16 16:36:41.307165.\nDataframe enem2018 criado com sucesso - 2020-08-16 16:36:41.413433.\n\nCriação Dataframe do Enem 2019 iniciada - 2020-08-16 16:36:41.413433.\nDataframe enem2019 criado com sucesso - 2020-08-16 16:36:41.509178.\n\n\nDataframes criados com sucesso - 2020-08-16 16:36:41.509178.\n"
    }
   ],
   "source": [
    "# No Processo abaixo, importaremos para o dataframe, apenas para conhecer os dados e verificar o separador do microdado.\n",
    "\n",
    "print(f'Criação Dataframes Iniciado - {datetime.now()}.')\n",
    "print('')\n",
    "\n",
    "print('')\n",
    "print(f'Criação Dataframe do Enem 2015 iniciada - {datetime.now()}.')\n",
    "enem2015 = sqlContext.read.format('com.databricks.spark.csv').options(header='true', sep=\",\", inferschema='false', encoding = 'ISO-8859-1', ).load(r'C:\\Users\\Ricardo\\Downloads\\MicrodadosEnem\\MICRODADOS_ENEM_2015.csv')\n",
    "print(f'Dataframe enem2015 criado com sucesso - {datetime.now()}.')\n",
    "print('')\n",
    "\n",
    "print(f'Criação Dataframe do Enem 2016 iniciada- {datetime.now()}.')\n",
    "enem2016 = sqlContext.read.format('com.databricks.spark.csv').options(header='true', sep=\";\", inferschema='false', encoding = 'ISO-8859-1').load(r'C:\\Users\\Ricardo\\Downloads\\MicrodadosEnem\\microdados_enem_2016.csv')\n",
    "print(f'Dataframe enem2016 criado com sucesso - {datetime.now()}.')\n",
    "print('')\n",
    "\n",
    "print(f'Criação Dataframe do Enem 2017 iniciada - {datetime.now()}.')\n",
    "enem2017 = sqlContext.read.format('com.databricks.spark.csv').options(header='true', sep=\";\", inferschema='false', encoding = 'ISO-8859-1').load(r'C:\\Users\\Ricardo\\Downloads\\MicrodadosEnem\\MICRODADOS_ENEM_2017.csv')\n",
    "print(f'Dataframe enem2017 criado com sucesso - {datetime.now()}.')\n",
    "print('')\n",
    "\n",
    "print(f'Criação Dataframe do Enem 2018 iniciada - {datetime.now()}.')\n",
    "enem2018 = sqlContext.read.format('com.databricks.spark.csv').options(header='true', sep=\";\", inferschema='false', encoding = 'ISO-8859-1').load(r'C:\\Users\\Ricardo\\Downloads\\MicrodadosEnem\\MICRODADOS_ENEM_2018.csv')\n",
    "print(f'Dataframe enem2018 criado com sucesso - {datetime.now()}.')\n",
    "print('')\n",
    "\n",
    "print(f'Criação Dataframe do Enem 2019 iniciada - {datetime.now()}.')\n",
    "enem2019 = sqlContext.read.format('com.databricks.spark.csv').options(header='true', sep=\";\", inferschema='false', encoding = 'ISO-8859-1').load(r'C:\\Users\\Ricardo\\Downloads\\MicrodadosEnem\\MICRODADOS_ENEM_2019.csv')\n",
    "print(f'Dataframe enem2019 criado com sucesso - {datetime.now()}.')\n",
    "print('')\n",
    "\n",
    "print('')\n",
    "print(f'Dataframes criados com sucesso - {datetime.now()}.')"
   ]
  },
  {
   "cell_type": "code",
   "execution_count": 5,
   "metadata": {
    "tags": []
   },
   "outputs": [
    {
     "output_type": "stream",
     "name": "stdout",
     "text": "Iniciando a criação e importação dos dados do Microdados Enem para tabela mysql - 2020-08-14 18:24:30.703137.\n\n\nCriação da Tabela tb_enem2015 iniciada - 2020-08-14 18:24:30.703137.\nImportação do Dataframe enem2015 para a Tabela tb_enem2015 iniciada - 2020-08-14 18:24:30.703137.\nImportação para a Tabela tb_enem2015 com sucesso - 2020-08-14 18:54:14.514733.\n\nCriação da Tabela tb_enem2016 iniciada - 2020-08-14 18:54:14.516727.\nImportação do Dataframe enem2016 para a Tabela tb_enem2016 iniciada - 2020-08-14 18:54:14.516727.\nImportação para a Tabela tb_enem2016 com sucesso - 2020-08-14 19:30:42.159196.\n\nCriação da Tabela tb_enem2017 iniciada - 2020-08-14 19:30:42.160617.\nImportação do Dataframe enem2017 para a Tabela tb_enem2017 iniciada - 2020-08-14 19:30:42.161615.\nImportação para a Tabela tb_enem2017 com sucesso - 2020-08-14 19:53:11.265111.\n\nCriação da Tabela tb_enem2018 iniciada - 2020-08-14 19:53:11.266107.\nImportação do Dataframe enem2018 para a Tabela tb_enem2018 iniciada - 2020-08-14 19:53:11.266107.\nImportação para a Tabela tb_enem2018 com sucesso - 2020-08-14 20:12:35.305334.\n\nCriação da Tabela tb_enem2019 iniciada - 2020-08-14 20:12:35.305334.\nImportação do Dataframe enem2019 para a Tabela tb_enem2019 iniciada - 2020-08-14 20:12:35.305334.\nImportação para a Tabela tb_enem2019 com sucesso - 2020-08-14 20:28:48.675241.\n\n\nTabelas e Importações realizados com sucesso - 2020-08-14 20:28:48.676238.\n"
    }
   ],
   "source": [
    "#Importando dos Dataframes para tabelas no mysql\n",
    "\n",
    "print(f'Iniciando a criação e importação dos dados do Microdados Enem para tabela mysql - {datetime.now()}.')\n",
    "print('')\n",
    "\n",
    "print('')\n",
    "print(f'Criação da Tabela tb_enem2015 iniciada - {datetime.now()}.')\n",
    "print(f'Importação do Dataframe enem2015 para a Tabela tb_enem2015 iniciada - {datetime.now()}.')\n",
    "enem2015.write.format('jdbc').options(\n",
    "    url='jdbc:mysql://localhost/dbenem?useTimezone=true&serverTimezone=UTC',\n",
    "    driver='com.mysql.jdbc.Driver',\n",
    "    dbtable='tb_enem2015',\n",
    "    user='root', password='admin').mode('overwrite').save()\n",
    "print(f'Importação para a Tabela tb_enem2015 com sucesso - {datetime.now()}.')\n",
    "print('')\n",
    "\n",
    "print(f'Criação da Tabela tb_enem2016 iniciada - {datetime.now()}.')\n",
    "print(f'Importação do Dataframe enem2016 para a Tabela tb_enem2016 iniciada - {datetime.now()}.')\n",
    "enem2016.write.format('jdbc').options(\n",
    "    url='jdbc:mysql://localhost/dbenem?useTimezone=true&serverTimezone=UTC',\n",
    "    driver='com.mysql.jdbc.Driver',\n",
    "    dbtable='tb_enem2016',\n",
    "    user='root', password='admin').mode('overwrite').save()  \n",
    "print(f'Importação para a Tabela tb_enem2016 com sucesso - {datetime.now()}.')\n",
    "print('')\n",
    "\n",
    "print(f'Criação da Tabela tb_enem2017 iniciada - {datetime.now()}.')\n",
    "print(f'Importação do Dataframe enem2017 para a Tabela tb_enem2017 iniciada - {datetime.now()}.')\n",
    "enem2017.write.format('jdbc').options(\n",
    "    url='jdbc:mysql://localhost/dbenem?useTimezone=true&serverTimezone=UTC',\n",
    "    driver='com.mysql.jdbc.Driver',\n",
    "    dbtable='tb_enem2017',\n",
    "    user='root', password='admin').mode('overwrite').save()\n",
    "print(f'Importação para a Tabela tb_enem2017 com sucesso - {datetime.now()}.')\n",
    "print('')\n",
    "\n",
    "print(f'Criação da Tabela tb_enem2018 iniciada - {datetime.now()}.')\n",
    "print(f'Importação do Dataframe enem2018 para a Tabela tb_enem2018 iniciada - {datetime.now()}.')\n",
    "enem2018.write.format('jdbc').options(\n",
    "    url='jdbc:mysql://localhost/dbenem?useTimezone=true&serverTimezone=UTC',\n",
    "    driver='com.mysql.jdbc.Driver',\n",
    "    dbtable='tb_enem2018',\n",
    "    user='root', password='admin').mode('overwrite').save()\n",
    "print(f'Importação para a Tabela tb_enem2018 com sucesso - {datetime.now()}.')\n",
    "print('')\n",
    "\n",
    "print(f'Criação da Tabela tb_enem2019 iniciada - {datetime.now()}.')\n",
    "print(f'Importação do Dataframe enem2019 para a Tabela tb_enem2019 iniciada - {datetime.now()}.')\n",
    "enem2019.write.format('jdbc').options(\n",
    "    url='jdbc:mysql://localhost/dbenem?useTimezone=true&serverTimezone=UTC',\n",
    "    driver='com.mysql.jdbc.Driver',\n",
    "    dbtable='tb_enem2019',\n",
    "    user='root', password='admin').mode('overwrite').save()    \n",
    "print(f'Importação para a Tabela tb_enem2019 com sucesso - {datetime.now()}.')\n",
    "print('')\n",
    "\n",
    "print('')\n",
    "print(f'Tabelas e Importações realizados com sucesso - {datetime.now()}.')"
   ]
  },
  {
   "cell_type": "code",
   "execution_count": 27,
   "metadata": {
    "tags": [
     "outputPrepend"
    ]
   },
   "outputs": [
    {
     "output_type": "stream",
     "name": "stdout",
     "text": "|                       null|                       null|           3550308|         São Paulo|         35|         SP|             1|             1|             1|             1|        235|        231|        240|        244|     477.3|     553.3|     523.9|     429.5|DBCDDAECABECBBAAD...|DEAEBDBCAADEAACEB...|99999DDABEBEDDBAC...|EBCAADCBCEDECAAEC...|        1|DCCDBCAAEBECBAADA...|AEAEADECEADEDBDAC...|AACDEBACDDBEDDCEA...|EBCCBEEDABDBDECDA...|                1|          120|          120|           80|           80|           40|            440|   H|   E|   A|   A|   6|   D|   A|   B|   B|   A|   A|   B|   A|   A|   A|   A|   A|   A|   B|   B|   A|   E|   B|   B|   B|   C|   E|   E|   4|   4|   5|   5|   5|   5|   5|   3|   5|   5|   4|   4|   5|   A|   A|   A|   A|   A|   A|   A|   A|   A|\n|150000000164|  2015|                3304706|   Santo Antônio de ...|              33|              RJ|                          0|           0|     null|            null|            null|     null|     null|                  null|              null|           null|      20|      F|               1|                3304706|   Santo Antônio de ...|              33|              RJ|              1|              3|        1|     null|              0|          1|             0|          0|        0|                      0|                0|                    0|                    0|                 0|          0|          0|          0|       0|             0|         0|                 0|           0|           0|             0|             0|         0|             0|             0|       0|        0|             0|        0|                0|                    0|                       0|             0|                 0|      0|            0|                  0|                 0|                    0|               0|                  0|                0|                    0|                 0|                0|         0|             0|       0|              0|                 0|               0|                   0|                       0|                     0|             0|                    null|                       null|                       null|           3304557|    Rio de Janeiro|         33|         RJ|             1|             1|             1|             1|        236|        232|        242|        246|     452.2|     624.5|     596.8|     405.1|ADEEDCDCDDDCCCCEB...|BADCCBBDCACBEEDDD...|99999DDAEDCDEBBEC...|DDEECCDDBCBCDCDAE...|        1|AEDCADBCABCCBBBBE...|DADCCABDEACBCEEDE...|CEDAABDACDBDEDBDC...|DAEACAAEBADDBBEBC...|                1|          120|          120|          100|          100|          100|            540|   C|   E|   C|   B|   3|   D|   A|   B|   C|   A|   A|   B|   A|   B|   A|   A|   A|   A|   B|   A|   A|   B|   A|   B|   B|   B|   F|   A|   4|   3|   4|   4|   4|   5|   5|   3|   5|   3|   3|   4|null|   A|   A|   A|   A|   A|   A|   D|   A|   A|\n|150000000165|  2015|                2905701|               Camaçari|              29|              BA|                          0|           0|     null|            null|            null|     null|     null|                  null|              null|           null|      20|      F|               1|                2927408|               Salvador|              29|              BA|              1|              4|        1|     null|              1|          2|             0|          0|        0|                      0|                0|                    0|                    0|                 0|          0|          0|          0|       0|             0|         0|                 0|           0|           0|             0|             0|         0|             0|             0|       0|        0|             0|        0|                0|                    0|                       0|             0|                 0|      0|            0|                  0|                 0|                    0|               0|                  0|                0|                    0|                 0|                0|         0|             0|       0|              0|                 0|               0|                   0|                       0|                     0|             0|                    null|                       null|                       null|           2905701|          Camaçari|         29|         BA|             0|             0|             0|             0|       null|       null|       null|       null|      null|      null|      null|      null|                null|                null|                null|                null|        1|                null|                null|                null|                null|                4|            0|            0|            0|            0|            0|              0|   E|   D|   D|   B|   1|   C|   A|   B|   B|   A|   A|   B|   B|   A|   A|   A|   A|   A|   B|   A|   A|   C|   A|   B|   B|   C|   F|   C|   5|   0|   3|   5|   4|   5|   5|   3|   5|   1|   5|   4|   4|   A|   A|   A|   B|   A|   A|   A|   A|   A|\n|150000000218|  2015|                5300108|               Brasília|              53|              DF|                          0|           0|     null|            null|            null|     null|     null|                  null|              null|           null|      21|      M|               1|                2207009|                 Oeiras|              22|              PI|              1|              4|        1|     null|              0|          2|             0|          0|        0|                      0|                0|                    0|                    0|                 0|          0|          0|          0|       0|             0|         0|                 0|           0|           0|             0|             0|         0|             0|             0|       0|        0|             0|        0|                0|                    0|                       0|             0|                 0|      0|            0|                  0|                 0|                    0|               0|                  0|                0|                    0|                 0|                0|         0|             0|       0|              0|                 0|               0|                   0|                       0|                     0|             0|                    null|                       null|                       null|           5300108|          Brasília|         53|         DF|             1|             1|             1|             1|        237|        233|        239|        243|     478.4|     522.6|     476.5|     432.7|BBDBBBACCCBEBCAED...|CCBADEAEECEEDBDEA...|ABCEB99999BDEBEBD...|EAADCBAABABEDECBC...|        0|EADDCCBEEDCEAABBB...|CABDDEDADCBBCEBCE...|CDEAADCDBABDEBECE...|DBBBADCADAEAEDCAD...|                1|          120|           80|           80|           80|            0|            360|   B|   B|   A|   A|   3|   C|   A|   C|   B|   B|   A|   B|   A|   B|   A|   B|   A|   A|   C|   A|   B|   D|   B|   B|   B|   C|   C|   A|   2|   0|   4|   5|   5|   5|   5|   5|   5|   5|   3|   3|   3|   A|   A|   A|   A|   A|   A|   A|   A|   A|\n|150000000166|  2015|                3306008|              Três Rios|              33|              RJ|                          0|           0|     null|            null|            null|     null|     null|                  null|              null|           null|      19|      M|               1|                3306008|              Três Rios|              33|              RJ|              1|              3|        1|     null|              0|          3|             0|          0|        0|                      0|                0|                    0|                    0|                 0|          0|          0|          0|       0|             0|         0|                 0|           0|           0|             0|             0|         0|             0|             0|       0|        0|             0|        0|                0|                    0|                       0|             0|                 0|      0|            0|                  0|                 0|                    0|               0|                  0|                0|                    0|                 0|                0|         0|             0|       0|              0|                 0|               0|                   0|                       0|                     0|             0|                    null|                       null|                       null|           3306008|         Três Rios|         33|         RJ|             0|             0|             0|             0|       null|       null|       null|       null|      null|      null|      null|      null|                null|                null|                null|                null|        0|                null|                null|                null|                null|                4|            0|            0|            0|            0|            0|              0|   D|   E|   C|   C|   3|   D|   A|   B|   C|   B|   A|   B|   A|   B|   A|   A|   A|   A|   B|   B|   A|   C|   A|   B|   B|   C|   C|   E|   4|   2|   4|   5|   5|   5|   5|   3|   5|   5|   5|   5|   3|   A|   A|   A|   A|   A|   A|   A|   A|   A|\n|150000000219|  2015|                2111300|               São Luís|              21|              MA|                          0|           0|     null|            null|            null|     null|     null|                  null|              null|           null|      22|      F|               1|                2111300|               São Luís|              21|              MA|              1|              6|        1|     null|              0|          1|             0|          0|        0|                      0|                0|                    0|                    0|                 0|          0|          0|          0|       0|             0|         0|                 0|           0|           0|             0|             0|         0|             0|             0|       0|        0|             0|        0|                0|                    0|                       0|             0|                 0|      0|            0|                  0|                 0|                    0|               0|                  0|                0|                    0|                 0|                0|         0|             0|       0|              0|                 0|               0|                   0|                       0|                     0|             0|                    null|                       null|                       null|           2111300|          São Luís|         21|         MA|             1|             1|             1|             1|        236|        232|        241|        245|       552|       651|     602.8|     825.2|ACDEADECBEDBDDADB...|BAECCABAEACBEEDDE...|DEABA99999EBEADBB...|AADEBCCDACCCACABE...|        0|AEDCADBCABCCBBBBE...|DADCCABDEACBCEEDE...|DEAACDCBDAEBDABBB...|BADEBCCDACCCACAAE...|                1|          140|          140|          160|          120|           40|            600|   H|   E|   F|   D|   4|   E|   A|   B|   C|   B|   A|   B|   A|   B|   A|   B|   A|   A|   B|   A|   A|   D|   B|   B|   B|   A|null|null|null|null|null|null|null|   5|   5|   0|   0|   0|   5|   5|null|   C|   A|   A|   A|   A|   D|   A|   A|   A|\n|150000000275|  2015|                5300108|               Brasília|              53|              DF|                          0|           0|     null|            null|            null|     null|     null|                  null|              null|           null|      23|      F|               1|                5300108|               Brasília|              53|              DF|              1|              1|        1|     null|              0|          3|             0|          0|        0|                      0|                0|                    0|                    0|                 0|          0|          0|          0|       0|             0|         0|                 0|           0|           0|             0|             0|         0|             0|             0|       0|        0|             0|        0|                0|                    0|                       0|             0|                 0|      0|            0|                  0|                 0|                    0|               0|                  0|                0|                    0|                 0|                0|         0|             0|       0|              0|                 0|               0|                   0|                       0|                     0|             0|                    null|                       null|                       null|           5300108|          Brasília|         53|         DF|             0|             0|             0|             0|       null|       null|       null|       null|      null|      null|      null|      null|                null|                null|                null|                null|        1|                null|                null|                null|                null|                4|            0|            0|            0|            0|            0|              0|   B|   D|   B|   B|   3|   C|   A|   B|   C|   B|   A|   B|   A|   A|   A|   A|   A|   A|   B|   A|   A|   C|   B|   B|   B|   C|   B|   E|   4|   1|   2|   1|   5|   4|   5|   5|   5|   5|   5|   5|   3|   A|   A|   A|   B|   A|   A|   B|   B|   A|\n|150000000220|  2015|                5300108|               Brasília|              53|              DF|                          0|           0|     null|            null|            null|     null|     null|                  null|              null|           null|      23|      M|               1|                5300108|               Brasília|              53|              DF|              1|              6|        1|     null|              0|          1|             0|          0|        0|                      0|                0|                    0|                    0|                 0|          0|          0|          0|       0|             0|         0|                 0|           0|           0|             0|             0|         0|             0|             0|       0|        0|             0|        0|                0|                    0|                       0|             0|                 0|      0|            0|                  0|                 0|                    0|               0|                  0|                0|                    0|                 0|                0|         0|             0|       0|              0|                 0|               0|                   0|                       0|                     0|             0|                    null|                       null|                       null|           5300108|          Brasília|         53|         DF|             0|             0|             0|             0|       null|       null|       null|       null|      null|      null|      null|      null|                null|                null|                null|                null|        1|                null|                null|                null|                null|                4|            0|            0|            0|            0|            0|              0|   F|   D|   F|   B|   4|   D|   A|   B|   D|   A|   A|   B|   B|   A|   A|   A|   A|   A|   C|   B|   B|   D|   B|   B|   B|   C|   E|   E|   5|   5|   5|   5|   5|   5|   5|   5|   5|   3|   3|   5|   5|   A|   A|   A|   A|   A|   A|   C|   C|   A|\n|150000000167|  2015|                3304557|         Rio de Janeiro|              33|              RJ|                          0|           0|     null|            null|            null|     null|     null|                  null|              null|           null|      27|      F|               1|                3304557|         Rio de Janeiro|              33|              RJ|              1|             10|        1|     null|              1|          3|             0|          0|        0|                      0|                0|                    0|                    0|                 0|          0|          0|          0|       0|             0|         0|                 0|           0|           0|             0|             0|         0|             0|             0|       0|        0|             0|        0|                0|                    0|                       0|             0|                 0|      0|            0|                  0|                 0|                    0|               0|                  0|                0|                    0|                 0|                0|         0|             0|       0|              0|                 0|               0|                   0|                       0|                     0|             0|                    null|                       null|                       null|           3304557|    Rio de Janeiro|         33|         RJ|             0|             0|             0|             0|       null|       null|       null|       null|      null|      null|      null|      null|                null|                null|                null|                null|        1|                null|                null|                null|                null|                4|            0|            0|            0|            0|            0|              0|   D|   E|   C|   D|   5|   G|   A|   B|   C|   A|   A|   B|   B|   B|   A|   B|   A|   B|   C|   B|   B|   D|   B|   B|   B|   C|   A|   B|   5|   5|   5|   5|   5|   5|   5|   2|   5|   5|   5|   5|   2|   A|   A|   A|   A|   A|   A|   A|   A|   A|\n+------------+------+-----------------------+-----------------------+----------------+----------------+---------------------------+------------+---------+----------------+----------------+---------+---------+----------------------+------------------+---------------+--------+-------+----------------+-----------------------+-----------------------+----------------+----------------+---------------+---------------+---------+---------+---------------+-----------+--------------+-----------+---------+-----------------------+-----------------+---------------------+---------------------+------------------+-----------+-----------+-----------+--------+--------------+----------+------------------+------------+------------+--------------+--------------+----------+--------------+--------------+--------+---------+--------------+---------+-----------------+---------------------+------------------------+--------------+------------------+-------+-------------+-------------------+------------------+---------------------+----------------+-------------------+-----------------+---------------------+------------------+-----------------+----------+--------------+--------+---------------+------------------+----------------+--------------------+------------------------+----------------------+--------------+------------------------+---------------------------+---------------------------+------------------+------------------+-----------+-----------+--------------+--------------+--------------+--------------+-----------+-----------+-----------+-----------+----------+----------+----------+----------+--------------------+--------------------+--------------------+--------------------+---------+--------------------+--------------------+--------------------+--------------------+-----------------+-------------+-------------+-------------+-------------+-------------+---------------+----+----+----+----+----+----+----+----+----+----+----+----+----+----+----+----+----+----+----+----+----+----+----+----+----+----+----+----+----+----+----+----+----+----+----+----+----+----+----+----+----+----+----+----+----+----+----+----+----+----+\nonly showing top 20 rows\n\n"
    }
   ],
   "source": [
    "enem2015.show()"
   ]
  },
  {
   "cell_type": "code",
   "execution_count": 22,
   "metadata": {
    "tags": []
   },
   "outputs": [
    {
     "output_type": "stream",
     "name": "stdout",
     "text": "Quantidade de Registros importadados para cada Dataframe\n\nQuantdade de Registros Dataframe Enem2015\n7746427\n\nQuantdade de Registros Dataframe Enem2016\n8627367\n\nQuantdade de Registros Dataframe Enem2017\n6731341\n\nQuantdade de Registros Dataframe Enem2018\n5513747\n\nQuantdade de Registros Dataframe Enem2019\n5095270\n"
    }
   ],
   "source": [
    "print('Quantidade de Registros importadados para cada Dataframe')\n",
    "print('')\n",
    "print('Quantdade de Registros Dataframe Enem2015')\n",
    "print(enem2015.count())\n",
    "print('')\n",
    "print('Quantdade de Registros Dataframe Enem2016')\n",
    "print(enem2016.count())\n",
    "print('')\n",
    "print('Quantdade de Registros Dataframe Enem2017')\n",
    "print(enem2017.count())\n",
    "print('')\n",
    "print('Quantdade de Registros Dataframe Enem2018')\n",
    "print(enem2018.count())\n",
    "print('')\n",
    "print('Quantdade de Registros Dataframe Enem2019')\n",
    "print(enem2019.count())"
   ]
  },
  {
   "cell_type": "code",
   "execution_count": 25,
   "metadata": {
    "tags": []
   },
   "outputs": [
    {
     "output_type": "stream",
     "name": "stdout",
     "text": "+------------+\n|NU_INSCRICAO|\n+------------+\n|150000000376|\n|150000003053|\n|150000001161|\n|150000001335|\n|150000001219|\n|150000002884|\n|150000002510|\n|150000000658|\n|150000000434|\n|150000000216|\n|150000000274|\n|150000000217|\n|150000000164|\n|150000000165|\n|150000000218|\n|150000000166|\n|150000000219|\n|150000000275|\n|150000000220|\n|150000000167|\n+------------+\nonly showing top 20 rows\n\n"
    }
   ],
   "source": []
  },
  {
   "cell_type": "code",
   "execution_count": null,
   "metadata": {},
   "outputs": [],
   "source": [
    "enem2015.count()"
   ]
  },
  {
   "cell_type": "code",
   "execution_count": null,
   "metadata": {},
   "outputs": [],
   "source": []
  },
  {
   "cell_type": "code",
   "execution_count": null,
   "metadata": {},
   "outputs": [],
   "source": []
  },
  {
   "cell_type": "code",
   "execution_count": null,
   "metadata": {},
   "outputs": [],
   "source": []
  },
  {
   "cell_type": "code",
   "execution_count": null,
   "metadata": {},
   "outputs": [],
   "source": []
  },
  {
   "cell_type": "code",
   "execution_count": null,
   "metadata": {},
   "outputs": [],
   "source": []
  },
  {
   "cell_type": "code",
   "execution_count": null,
   "metadata": {},
   "outputs": [],
   "source": []
  },
  {
   "cell_type": "code",
   "execution_count": null,
   "metadata": {},
   "outputs": [],
   "source": []
  },
  {
   "cell_type": "code",
   "execution_count": null,
   "metadata": {},
   "outputs": [],
   "source": []
  },
  {
   "cell_type": "code",
   "execution_count": null,
   "metadata": {},
   "outputs": [],
   "source": []
  },
  {
   "cell_type": "code",
   "execution_count": null,
   "metadata": {},
   "outputs": [],
   "source": []
  },
  {
   "cell_type": "code",
   "execution_count": null,
   "metadata": {},
   "outputs": [],
   "source": []
  },
  {
   "cell_type": "code",
   "execution_count": null,
   "metadata": {},
   "outputs": [],
   "source": []
  },
  {
   "cell_type": "code",
   "execution_count": null,
   "metadata": {},
   "outputs": [],
   "source": []
  },
  {
   "cell_type": "code",
   "execution_count": null,
   "metadata": {},
   "outputs": [],
   "source": []
  },
  {
   "cell_type": "code",
   "execution_count": null,
   "metadata": {},
   "outputs": [],
   "source": []
  },
  {
   "cell_type": "code",
   "execution_count": null,
   "metadata": {},
   "outputs": [],
   "source": []
  },
  {
   "cell_type": "code",
   "execution_count": null,
   "metadata": {},
   "outputs": [],
   "source": []
  },
  {
   "cell_type": "code",
   "execution_count": null,
   "metadata": {},
   "outputs": [],
   "source": []
  },
  {
   "cell_type": "code",
   "execution_count": null,
   "metadata": {},
   "outputs": [],
   "source": []
  },
  {
   "cell_type": "code",
   "execution_count": null,
   "metadata": {},
   "outputs": [],
   "source": []
  },
  {
   "cell_type": "code",
   "execution_count": null,
   "metadata": {},
   "outputs": [],
   "source": []
  },
  {
   "cell_type": "code",
   "execution_count": null,
   "metadata": {},
   "outputs": [],
   "source": []
  },
  {
   "cell_type": "code",
   "execution_count": null,
   "metadata": {},
   "outputs": [],
   "source": []
  },
  {
   "cell_type": "code",
   "execution_count": null,
   "metadata": {},
   "outputs": [],
   "source": []
  },
  {
   "cell_type": "code",
   "execution_count": null,
   "metadata": {},
   "outputs": [],
   "source": []
  },
  {
   "cell_type": "code",
   "execution_count": null,
   "metadata": {},
   "outputs": [],
   "source": []
  },
  {
   "cell_type": "code",
   "execution_count": null,
   "metadata": {},
   "outputs": [],
   "source": []
  }
 ]
}