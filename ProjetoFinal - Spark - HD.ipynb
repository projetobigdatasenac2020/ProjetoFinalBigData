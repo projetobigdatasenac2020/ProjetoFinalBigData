{
 "metadata": {
  "language_info": {
   "codemirror_mode": {
    "name": "ipython",
    "version": 3
   },
   "file_extension": ".py",
   "mimetype": "text/x-python",
   "name": "python",
   "nbconvert_exporter": "python",
   "pygments_lexer": "ipython3",
   "version": "3.8.5-final"
  },
  "orig_nbformat": 2,
  "kernelspec": {
   "name": "python_defaultSpec_1598355867638",
   "display_name": "Python 3.7.6 64-bit ('base': conda)"
  }
 },
 "nbformat": 4,
 "nbformat_minor": 2,
 "cells": [
  {
   "cell_type": "markdown",
   "metadata": {},
   "source": [
    "Projeto Final Pós Graduação Big Data - Senac Rio - 2020."
   ]
  },
  {
   "cell_type": "markdown",
   "metadata": {},
   "source": [
    "Processo de importação das Bibliotecas utilizadas no durante todo o projeto."
   ]
  },
  {
   "cell_type": "code",
   "execution_count": 1,
   "metadata": {
    "tags": []
   },
   "outputs": [
    {
     "output_type": "stream",
     "name": "stdout",
     "text": "Ativação das bibliotecas iniciada - 2020-08-25 08:44:44.728069.\nAtivação das bibliotecas com sucesso - 2020-08-25 08:44:46.965115.\n"
    }
   ],
   "source": [
    "#Importação das bibliotecas utilizadas para manipulação dos dados das paginas Web.\n",
    "\n",
    "from datetime import datetime\n",
    "\n",
    "print(f'Ativação das bibliotecas iniciada - {datetime.now()}.')\n",
    "\n",
    "from bs4 import BeautifulSoup\n",
    "import urllib.request\n",
    "import shutil\n",
    "import os\n",
    "import pandas as pd\n",
    "import pyspark\n",
    "import zipfile\n",
    "import sqlalchemy\n",
    "import pymysql\n",
    "import json\n",
    "import numpy as np\n",
    "import matplotlib.pyplot as plt\n",
    "from pyspark import SparkContext\n",
    "from pyspark.sql import SQLContext\n",
    "from pyspark.sql.functions import * \n",
    "\n",
    "print(f'Ativação das bibliotecas com sucesso - {datetime.now()}.')"
   ]
  },
  {
   "cell_type": "markdown",
   "metadata": {},
   "source": [
    "Indicação do diretório para download dos arquivos Inep-Enem. "
   ]
  },
  {
   "cell_type": "code",
   "execution_count": null,
   "metadata": {},
   "outputs": [],
   "source": [
    "#Indicação do diretório desejado para download dos arquivos. \n",
    "#No exemplo, estamos salvando no diretório: C:\\Users\\Ricardo\\Downloads\n",
    "\n",
    "diretorio = input('Digite o diretório desejado para salvar os arquivos: ')\n",
    "os.chdir(r'{}'.format(diretorio))\n",
    "os.getcwd( )"
   ]
  },
  {
   "cell_type": "code",
   "execution_count": null,
   "metadata": {},
   "outputs": [],
   "source": [
    "#Apos indicar o diretorio desejado, como boa pratica, sugerimos a criação da pasta onde será salvos os arquivos.\n",
    "#No exemplo, estamos salvando na pasta: MicrodadosEnem.'''\n",
    "\n",
    "url = 'http://inep.gov.br/microdados'\n",
    "\n",
    "pasta = input('Após indicação do diretório {}, informe o nome da pasta desejada para salvar os arquivos baixados da pagina {}: '.format(diretorio, url))\n",
    "\n",
    "try:\n",
    "    os.mkdir(pasta)\n",
    "    print('Pasta {} criada com sucesso!'.format(pasta))\n",
    "except FileExistsError as e:\n",
    "    print(f'Pasta {pasta} já existe')"
   ]
  },
  {
   "cell_type": "code",
   "execution_count": null,
   "metadata": {},
   "outputs": [],
   "source": [
    "#Indicação do diretório onde será salvo os arquivos baixados da url.\n",
    "\n",
    "os.chdir(r'{}\\{}'.format(diretorio, pasta))\n",
    "print('Os arquivos serão salvos no seguinte diretorio:', format(os.getcwd()))"
   ]
  },
  {
   "cell_type": "markdown",
   "metadata": {},
   "source": [
    "Processo de Web Scraping no site do Inep, buscando os microdados do Enem."
   ]
  },
  {
   "cell_type": "code",
   "execution_count": null,
   "metadata": {},
   "outputs": [],
   "source": [
    "#Criação da variável que receberá todos os dados correspondente a varíavel \"url\".\n",
    "\n",
    "page = urllib.request.urlopen(url)"
   ]
  },
  {
   "cell_type": "code",
   "execution_count": null,
   "metadata": {},
   "outputs": [],
   "source": [
    "#Criação da variável \"soup\", do pacote BeatifulSoup, que apresenta a estutura HTML da pagina que será trabalhada.\n",
    "\n",
    "soup = BeautifulSoup(page,'html.parser')\n",
    "print(soup)"
   ]
  },
  {
   "cell_type": "code",
   "execution_count": null,
   "metadata": {},
   "outputs": [],
   "source": [
    "#No loop \"for\" abaixo, o realizaremos o filtro das tags desejadas.\n",
    "\n",
    "for link in soup.findAll('a'):\n",
    "    theLink = link.get('href')\n",
    "    name = link.string\n",
    "    \n",
    "    print(theLink)\n",
    "    print(name)"
   ]
  },
  {
   "cell_type": "code",
   "execution_count": null,
   "metadata": {},
   "outputs": [],
   "source": [
    "#No processo abaixo, realizaremos o filtro das linhas, cujo o o tipo do arquivo desejado é *.zip.\n",
    "\n",
    "nomeArquivo = []\n",
    "typeFile = '.zip'\n",
    "i = 0\n",
    "for link in soup.findAll('a'):\n",
    "    theLink = str(link.get('href')).lower()\n",
    "    name = link.string\n",
    "    if 'enem'in theLink:\n",
    "        if theLink[-4:] == typeFile:\n",
    "            print(theLink)\n",
    "            print(type(theLink))\n",
    "            print(name)\n",
    "            print(type(name))\n",
    "            nomeArquivo.append(theLink[39:-4].replace('/','_'))\n",
    "            print(type(nomeArquivo))"
   ]
  },
  {
   "cell_type": "code",
   "execution_count": null,
   "metadata": {},
   "outputs": [],
   "source": [
    "#Processo de download dos arquivos desejados e salvos na na pasta indicada.\n",
    "\n",
    "i = 0\n",
    "for link in soup.findAll('a'):\n",
    "    theLink = str(link.get('href')).lower()\n",
    "    name = link.string\n",
    "    if 'enem'in theLink:\n",
    "        if theLink[-4:] == typeFile:\n",
    "            if name is None:\n",
    "                title = 'SemTítulo' + typeFile\n",
    "            else:\n",
    "                title = nomeArquivo[i] + typeFile\n",
    "                i +=1\n",
    "            try:\n",
    "                with open(os.getcwd() + '/' + title,'r') as fileExists:\n",
    "                    print('Arquivo ' + title + ' existente no diretório '+ os.getcwd() + ' - ' + str(datetime.now()))\n",
    "                    fileExists.close()\n",
    "            except FileNotFoundError:\n",
    "                print('Download Iniciado - {}: '.format(datetime.now()) + title)\n",
    "                docFile = open(os.getcwd() + '/' + title,'wb')\n",
    "                docFile.write(urllib.request.urlopen(theLink).read())\n",
    "                docFile.close()\n",
    "                print('Download Concluído em {}'.format(datetime.now()))\n",
    "print('Não há mais arquivos para download')"
   ]
  },
  {
   "cell_type": "code",
   "execution_count": null,
   "metadata": {},
   "outputs": [],
   "source": [
    "#Apresentação do tamanho dos arquivos baixados.\n",
    "\n",
    "print('Apresentação Arquivos Enem baixados no díretório: ' + os.getcwd())\n",
    "contador = 0\n",
    "tamanhoTotal = 0\n",
    "tipo = '.zip'\n",
    "\n",
    "def formatarTamanho(tamanho):\n",
    "    base = 1024\n",
    "    kilo = base\n",
    "    mega = base ** 2\n",
    "    giga = base ** 3\n",
    "    tera = base ** 4\n",
    "    \n",
    "    if tamanho < kilo:\n",
    "        tamanho = base\n",
    "        texto = 'B'\n",
    "    elif tamanho < mega:\n",
    "        tamanho /= kilo\n",
    "        texto = 'K'\n",
    "    elif tamanho < giga:\n",
    "        tamanho /= mega\n",
    "        texto = 'M'\n",
    "    else:\n",
    "        tamanho < tera\n",
    "        tamanho /= giga\n",
    "        texto = 'G'\n",
    "    tamanho = round(tamanho, 2)\n",
    "    return f'{tamanho} {texto}'\n",
    "\n",
    "for raiz, diretorios, arquivos in os.walk(os.getcwd()):\n",
    "    for arquivo in arquivos:\n",
    "        if tipo in arquivo:\n",
    "            contador +=1 \n",
    "            caminho = os.path.join(raiz, arquivo)\n",
    "            nome, ext = os.path.splitext(arquivo)\n",
    "            tamanho = os.path.getsize(caminho)\n",
    "            tamanhoTotal += tamanho\n",
    "                                \n",
    "            if tamanho > 0:\n",
    "                print()\n",
    "                print('Arquivo encontrado: ', arquivo)\n",
    "                print('Caminho: ', caminho)\n",
    "                print('Nome: ', nome)\n",
    "                print('Extensão: ', ext)\n",
    "                print('Tamanho: ', formatarTamanho(tamanho))\n",
    "\n",
    "print()\n",
    "print(f'{contador} arquivo(s) encontrado(s).' + 'Tamanho Total: ' + formatarTamanho(tamanhoTotal))"
   ]
  },
  {
   "cell_type": "markdown",
   "metadata": {},
   "source": [
    "Processo de Intaciação do Spark e criação dos Dataframes, atraves dos arquivos CSV's do Enem. "
   ]
  },
  {
   "cell_type": "code",
   "execution_count": 2,
   "metadata": {
    "tags": []
   },
   "outputs": [
    {
     "output_type": "stream",
     "name": "stdout",
     "text": "Intanciando o Spark - 2020-08-25 08:45:00.101266.\nSpark intanciado com sucesso - 2020-08-25 08:45:10.382578.\n"
    }
   ],
   "source": [
    "# Instanciar Spark\n",
    "\n",
    "print(f'Intanciando o Spark - {datetime.now()}.')\n",
    "\n",
    "sc = SparkContext()\n",
    "sqlContext = SQLContext(sc)\n",
    "\n",
    "print(f'Spark intanciado com sucesso - {datetime.now()}.')"
   ]
  },
  {
   "cell_type": "code",
   "execution_count": 3,
   "metadata": {
    "tags": []
   },
   "outputs": [
    {
     "output_type": "stream",
     "name": "stdout",
     "text": "Criação Dataframes Iniciado - 2020-08-25 08:45:10.413496.\n\n\nCriação Dataframe do Enem 2015 iniciada - 2020-08-25 08:45:10.414493.\nDataframe df_enem2015_completo criado com sucesso - 2020-08-25 08:45:59.776956.\n\nCriação Dataframe do Enem 2016 iniciada- 2020-08-25 08:45:59.776956.\nDataframe df_enem2016_completo criado com sucesso - 2020-08-25 08:46:45.115021.\n\nCriação Dataframe do Enem 2017 iniciada - 2020-08-25 08:46:45.115021.\nDataframe df_enem2017_completo criado com sucesso - 2020-08-25 08:47:17.132388.\n\nCriação Dataframe do Enem 2018 iniciada - 2020-08-25 08:47:17.133386.\nDataframe df_enem2018_completo criado com sucesso - 2020-08-25 08:47:43.149055.\n\nCriação Dataframe do Enem 2019 iniciada - 2020-08-25 08:47:43.151050.\nDataframe df_enem2019_completo criado com sucesso - 2020-08-25 08:48:07.003257.\n\n\nDataframes criados com sucesso - 2020-08-25 08:48:07.004253.\n"
    }
   ],
   "source": [
    "# No Processo abaixo, importaremos para o dataframe, apenas para conhecer os dados e verificar o separador do microdado.\n",
    "\n",
    "print(f'Criação Dataframes Iniciado - {datetime.now()}.')\n",
    "print('')\n",
    "\n",
    "print('')\n",
    "print(f'Criação Dataframe do Enem 2015 iniciada - {datetime.now()}.')\n",
    "df_enem2015_completo = sqlContext.read.format('com.databricks.spark.csv').options(header='true', sep=\",\", inferschema='true', encoding = 'ISO-8859-1', ).load(r'C:\\Users\\Ricardo\\Downloads\\MicrodadosEnem\\MICRODADOS_ENEM_2015.csv')\n",
    "print(f'Dataframe df_enem2015_completo criado com sucesso - {datetime.now()}.')\n",
    "print('')\n",
    "\n",
    "print(f'Criação Dataframe do Enem 2016 iniciada- {datetime.now()}.')\n",
    "df_enem2016_completo = sqlContext.read.format('com.databricks.spark.csv').options(header='true', sep=\";\", inferschema='true', encoding = 'ISO-8859-1').load(r'C:\\Users\\Ricardo\\Downloads\\MicrodadosEnem\\microdados_enem_2016.csv')\n",
    "print(f'Dataframe df_enem2016_completo criado com sucesso - {datetime.now()}.')\n",
    "print('')\n",
    "\n",
    "print(f'Criação Dataframe do Enem 2017 iniciada - {datetime.now()}.')\n",
    "df_enem2017_completo = sqlContext.read.format('com.databricks.spark.csv').options(header='true', sep=\";\", inferschema='true', encoding = 'ISO-8859-1').load(r'C:\\Users\\Ricardo\\Downloads\\MicrodadosEnem\\MICRODADOS_ENEM_2017.csv')\n",
    "print(f'Dataframe df_enem2017_completo criado com sucesso - {datetime.now()}.')\n",
    "print('')\n",
    "\n",
    "print(f'Criação Dataframe do Enem 2018 iniciada - {datetime.now()}.')\n",
    "df_enem2018_completo = sqlContext.read.format('com.databricks.spark.csv').options(header='true', sep=\";\", inferschema='true', encoding = 'ISO-8859-1').load(r'C:\\Users\\Ricardo\\Downloads\\MicrodadosEnem\\MICRODADOS_ENEM_2018.csv')\n",
    "print(f'Dataframe df_enem2018_completo criado com sucesso - {datetime.now()}.')\n",
    "print('')\n",
    "\n",
    "print(f'Criação Dataframe do Enem 2019 iniciada - {datetime.now()}.')\n",
    "df_enem2019_completo = sqlContext.read.format('com.databricks.spark.csv').options(header='true', sep=\";\", inferschema='true', encoding = 'ISO-8859-1').load(r'C:\\Users\\Ricardo\\Downloads\\MicrodadosEnem\\MICRODADOS_ENEM_2019.csv')\n",
    "print(f'Dataframe df_enem2019_completo criado com sucesso - {datetime.now()}.')\n",
    "print('')\n",
    "\n",
    "print('')\n",
    "print(f'Dataframes criados com sucesso - {datetime.now()}.')"
   ]
  },
  {
   "cell_type": "code",
   "execution_count": 4,
   "metadata": {
    "tags": []
   },
   "outputs": [
    {
     "output_type": "stream",
     "name": "stdout",
     "text": "Quantidade de Registros importadados para cada Dataframe\n\nQuantdade de Registros Dataframe Enem2015 - 2020-08-25 08:48:07.039159.\n7746427\n\nQuantdade de Registros Dataframe Enem2016 - 2020-08-25 08:48:27.534707.\n8627367\n\nQuantdade de Registros Dataframe Enem2017 - 2020-08-25 08:48:46.675582.\n6731341\n\nQuantdade de Registros Dataframe Enem2018 - 2020-08-25 08:49:00.957289.\n5513747\n\nQuantdade de Registros Dataframe Enem2019 - 2020-08-25 08:49:12.559494.\n5095270\n"
    }
   ],
   "source": [
    "# Apresentação dos registros de cada dataframe\n",
    "\n",
    "print('Quantidade de Registros importadados para cada Dataframe')\n",
    "print('')\n",
    "\n",
    "print(f'Quantdade de Registros Dataframe Enem2015 - {datetime.now()}.')\n",
    "print(df_enem2015_completo.count())\n",
    "print('')\n",
    "\n",
    "print(f'Quantdade de Registros Dataframe Enem2016 - {datetime.now()}.')\n",
    "print(df_enem2016_completo.count())\n",
    "print('')\n",
    "\n",
    "print(f'Quantdade de Registros Dataframe Enem2017 - {datetime.now()}.')\n",
    "print(df_enem2017_completo.count())\n",
    "print('')\n",
    "\n",
    "print(f'Quantdade de Registros Dataframe Enem2018 - {datetime.now()}.')\n",
    "print(df_enem2018_completo.count())\n",
    "print('')\n",
    "\n",
    "print(f'Quantdade de Registros Dataframe Enem2019 - {datetime.now()}.')\n",
    "print(df_enem2019_completo.count())\n"
   ]
  },
  {
   "cell_type": "code",
   "execution_count": 5,
   "metadata": {
    "tags": []
   },
   "outputs": [
    {
     "output_type": "stream",
     "name": "stdout",
     "text": "Apresentação de duas linhas do dataframe df_enem2015_completo - 2020-08-25 08:49:23.682158.\n+------------+------+-----------------------+-----------------------+----------------+----------------+---------------------------+------------+---------+----------------+----------------+---------+---------+----------------------+------------------+---------------+--------+-------+----------------+-----------------------+-----------------------+----------------+----------------+---------------+---------------+---------+---------+---------------+-----------+--------------+-----------+---------+-----------------------+-----------------+---------------------+---------------------+------------------+-----------+-----------+-----------+--------+--------------+----------+------------------+------------+------------+--------------+--------------+----------+--------------+--------------+--------+---------+--------------+---------+-----------------+---------------------+------------------------+--------------+------------------+-------+-------------+-------------------+------------------+---------------------+----------------+-------------------+-----------------+---------------------+------------------+-----------------+----------+--------------+--------+---------------+------------------+----------------+--------------------+------------------------+----------------------+--------------+------------------------+---------------------------+---------------------------+------------------+------------------+-----------+-----------+--------------+--------------+--------------+--------------+-----------+-----------+-----------+-----------+----------+----------+----------+----------+--------------------+--------------------+--------------------+--------------------+---------+--------------------+--------------------+--------------------+--------------------+-----------------+-------------+-------------+-------------+-------------+-------------+---------------+----+----+----+----+----+----+----+----+----+----+----+----+----+----+----+----+----+----+----+----+----+----+----+----+----+----+----+----+----+----+----+----+----+----+----+----+----+----+----+----+----+----+----+----+----+----+----+----+----+----+\n|NU_INSCRICAO|NU_ANO|CO_MUNICIPIO_RESIDENCIA|NO_MUNICIPIO_RESIDENCIA|CO_UF_RESIDENCIA|SG_UF_RESIDENCIA|IN_ESTUDA_CLASSE_HOSPITALAR|IN_TREINEIRO|CO_ESCOLA|CO_MUNICIPIO_ESC|NO_MUNICIPIO_ESC|CO_UF_ESC|SG_UF_ESC|TP_DEPENDENCIA_ADM_ESC|TP_LOCALIZACAO_ESC|TP_SIT_FUNC_ESC|NU_IDADE|TP_SEXO|TP_NACIONALIDADE|CO_MUNICIPIO_NASCIMENTO|NO_MUNICIPIO_NASCIMENTO|CO_UF_NASCIMENTO|SG_UF_NASCIMENTO|TP_ST_CONCLUSAO|TP_ANO_CONCLUIU|TP_ESCOLA|TP_ENSINO|TP_ESTADO_CIVIL|TP_COR_RACA|IN_BAIXA_VISAO|IN_CEGUEIRA|IN_SURDEZ|IN_DEFICIENCIA_AUDITIVA|IN_SURDO_CEGUEIRA|IN_DEFICIENCIA_FISICA|IN_DEFICIENCIA_MENTAL|IN_DEFICIT_ATENCAO|IN_DISLEXIA|IN_GESTANTE|IN_LACTANTE|IN_IDOSO|IN_DISCALCULIA|IN_AUTISMO|IN_VISAO_MONOCULAR|IN_SABATISTA|IN_OUTRA_DEF|IN_SEM_RECURSO|IN_NOME_SOCIAL|IN_BRAILLE|IN_AMPLIADA_24|IN_AMPLIADA_18|IN_LEDOR|IN_ACESSO|IN_TRANSCRICAO|IN_LIBRAS|IN_LEITURA_LABIAL|IN_MESA_CADEIRA_RODAS|IN_MESA_CADEIRA_SEPARADA|IN_APOIO_PERNA|IN_GUIA_INTERPRETE|IN_MACA|IN_COMPUTADOR|IN_CADEIRA_ESPECIAL|IN_CADEIRA_CANHOTO|IN_CADEIRA_ACOLCHOADA|IN_PROVA_DEITADO|IN_MOBILIARIO_OBESO|IN_LAMINA_OVERLAY|IN_PROTETOR_AURICULAR|IN_MEDIDOR_GLICOSE|IN_MAQUINA_BRAILE|IN_SOROBAN|IN_MARCA_PASSO|IN_SONDA|IN_MEDICAMENTOS|IN_SALA_INDIVIDUAL|IN_SALA_ESPECIAL|IN_SALA_ACOMPANHANTE|IN_MOBILIARIO_ESPECIFICO|IN_MATERIAL_ESPECÍFICO|IN_CERTIFICADO|NO_ENTIDADE_CERTIFICACAO|CO_UF_ENTIDADE_CERTIFICACAO|SG_UF_ENTIDADE_CERTIFICACAO|CO_MUNICIPIO_PROVA|NO_MUNICIPIO_PROVA|CO_UF_PROVA|SG_UF_PROVA|TP_PRESENCA_CN|TP_PRESENCA_CH|TP_PRESENCA_LC|TP_PRESENCA_MT|CO_PROVA_CN|CO_PROVA_CH|CO_PROVA_LC|CO_PROVA_MT|NU_NOTA_CN|NU_NOTA_CH|NU_NOTA_LC|NU_NOTA_MT|     TX_RESPOSTAS_CN|     TX_RESPOSTAS_CH|     TX_RESPOSTAS_LC|     TX_RESPOSTAS_MT|TP_LINGUA|      TX_GABARITO_CN|      TX_GABARITO_CH|      TX_GABARITO_LC|      TX_GABARITO_MT|TP_STATUS_REDACAO|NU_NOTA_COMP1|NU_NOTA_COMP2|NU_NOTA_COMP3|NU_NOTA_COMP4|NU_NOTA_COMP5|NU_NOTA_REDACAO|Q001|Q002|Q003|Q004|Q005|Q006|Q007|Q008|Q009|Q010|Q011|Q012|Q013|Q014|Q015|Q016|Q017|Q018|Q019|Q020|Q021|Q022|Q023|Q024|Q025|Q026|Q027|Q028|Q029|Q030|Q031|Q032|Q033|Q034|Q035|Q036|Q037|Q038|Q039|Q040|Q041|Q042|Q043|Q044|Q045|Q046|Q047|Q048|Q049|Q050|\n+------------+------+-----------------------+-----------------------+----------------+----------------+---------------------------+------------+---------+----------------+----------------+---------+---------+----------------------+------------------+---------------+--------+-------+----------------+-----------------------+-----------------------+----------------+----------------+---------------+---------------+---------+---------+---------------+-----------+--------------+-----------+---------+-----------------------+-----------------+---------------------+---------------------+------------------+-----------+-----------+-----------+--------+--------------+----------+------------------+------------+------------+--------------+--------------+----------+--------------+--------------+--------+---------+--------------+---------+-----------------+---------------------+------------------------+--------------+------------------+-------+-------------+-------------------+------------------+---------------------+----------------+-------------------+-----------------+---------------------+------------------+-----------------+----------+--------------+--------+---------------+------------------+----------------+--------------------+------------------------+----------------------+--------------+------------------------+---------------------------+---------------------------+------------------+------------------+-----------+-----------+--------------+--------------+--------------+--------------+-----------+-----------+-----------+-----------+----------+----------+----------+----------+--------------------+--------------------+--------------------+--------------------+---------+--------------------+--------------------+--------------------+--------------------+-----------------+-------------+-------------+-------------+-------------+-------------+---------------+----+----+----+----+----+----+----+----+----+----+----+----+----+----+----+----+----+----+----+----+----+----+----+----+----+----+----+----+----+----+----+----+----+----+----+----+----+----+----+----+----+----+----+----+----+----+----+----+----+----+\n|150000000376|  2015|                4309209|               Gravataí|              43|              RS|                          0|           0|     null|            null|            null|     null|     null|                  null|              null|           null|      42|      M|               1|                4209003|                Joaçaba|              42|              SC|              1|             10|        1|     null|              1|          1|             0|          0|        0|                      0|                0|                    0|                    0|                 0|          0|          0|          0|       0|             0|         0|                 0|           0|           0|             0|             0|         0|             0|             0|       0|        0|             0|        0|                0|                    0|                       0|             0|                 0|      0|            0|                  0|                 0|                    0|               0|                  0|                0|                    0|                 0|                0|         0|             0|       0|              0|                 0|               0|                   0|                       0|                     0|             0|                    null|                       null|                       null|           4309209|          Gravataí|         43|         RS|             1|             1|             1|             1|        235|        231|        242|        246|     657.4|     705.3|     591.1|     732.3|DACCBCABEDDCBABBB...|CEAEADACEADEDBDAC...|99999DAABDBDEDBDC...|DCEDAACEBBDBEBEBC...|        1|DCCDBCAAEBECBAADA...|AEAEADECEADEDBDAC...|CEDAABDACDBDEDBDC...|DAEACAAEBADDBBEBC...|                1|          160|          160|          120|          160|          160|            760|   A|   A|   A|   A|   3|   D|   A|   B|   B|   A|   A|   B|   A|   B|   A|   B|   A|   A|   B|   A|   A|   B|   B|   B|   B|   C|   A|   A|   0|   2|   2|   2|   1|   5|   5|   5|   5|   5|   5|   5|   5|   A|   A|   A|   A|   A|   E|   A|   A|   A|\n|150000003053|  2015|                3143302|          Montes Claros|              31|              MG|                          0|           0|     null|            null|            null|     null|     null|                  null|              null|           null|      21|      M|               1|                3143302|          Montes Claros|              31|              MG|              1|              5|        1|     null|              0|          3|             0|          0|        0|                      0|                0|                    0|                    0|                 0|          0|          0|          0|       0|             0|         0|                 0|           0|           0|             0|             0|         0|             0|             0|       0|        0|             0|        0|                0|                    0|                       0|             0|                 0|      0|            0|                  0|                 0|                    0|               0|                  0|                0|                    0|                 0|                0|         0|             0|       0|              0|                 0|               0|                   0|                       0|                     0|             0|                    null|                       null|                       null|           3143302|     Montes Claros|         31|         MG|             0|             0|             0|             0|       null|       null|       null|       null|      null|      null|      null|      null|                null|                null|                null|                null|        1|                null|                null|                null|                null|                4|            0|            0|            0|            0|            0|              0|   E|   E|   C|   B|   3|   B|   A|   C|   D|   A|   B|   B|   A|   A|   A|   A|   A|   A|   B|   B|   A|   D|   B|   B|   B|   C|   B|   E|   5|   5|   5|   5|   5|   5|   5|   2|   5|   0|   0|   5|   5|   B|   A|   A|   A|   A|   A|   A|   A|   A|\n+------------+------+-----------------------+-----------------------+----------------+----------------+---------------------------+------------+---------+----------------+----------------+---------+---------+----------------------+------------------+---------------+--------+-------+----------------+-----------------------+-----------------------+----------------+----------------+---------------+---------------+---------+---------+---------------+-----------+--------------+-----------+---------+-----------------------+-----------------+---------------------+---------------------+------------------+-----------+-----------+-----------+--------+--------------+----------+------------------+------------+------------+--------------+--------------+----------+--------------+--------------+--------+---------+--------------+---------+-----------------+---------------------+------------------------+--------------+------------------+-------+-------------+-------------------+------------------+---------------------+----------------+-------------------+-----------------+---------------------+------------------+-----------------+----------+--------------+--------+---------------+------------------+----------------+--------------------+------------------------+----------------------+--------------+------------------------+---------------------------+---------------------------+------------------+------------------+-----------+-----------+--------------+--------------+--------------+--------------+-----------+-----------+-----------+-----------+----------+----------+----------+----------+--------------------+--------------------+--------------------+--------------------+---------+--------------------+--------------------+--------------------+--------------------+-----------------+-------------+-------------+-------------+-------------+-------------+---------------+----+----+----+----+----+----+----+----+----+----+----+----+----+----+----+----+----+----+----+----+----+----+----+----+----+----+----+----+----+----+----+----+----+----+----+----+----+----+----+----+----+----+----+----+----+----+----+----+----+----+\nonly showing top 2 rows\n\n"
    }
   ],
   "source": [
    "# Apresentação de duas linhas do dataframe df_enem2015_completo\n",
    "\n",
    "print(f'Apresentação de duas linhas do dataframe df_enem2015_completo - {datetime.now()}.')\n",
    "\n",
    "df_enem2015_completo.show(n=2,truncate=True)"
   ]
  },
  {
   "cell_type": "code",
   "execution_count": 6,
   "metadata": {
    "tags": []
   },
   "outputs": [
    {
     "output_type": "stream",
     "name": "stdout",
     "text": "Apresentação de duas linhas do dataframe df_enem2015_completo, classificado como linhas - 2020-08-25 08:49:24.579758.\n"
    },
    {
     "output_type": "execute_result",
     "data": {
      "text/plain": "[Row(NU_INSCRICAO=150000000376, NU_ANO=2015, CO_MUNICIPIO_RESIDENCIA=4309209, NO_MUNICIPIO_RESIDENCIA='Gravataí', CO_UF_RESIDENCIA=43, SG_UF_RESIDENCIA='RS', IN_ESTUDA_CLASSE_HOSPITALAR=0, IN_TREINEIRO=0, CO_ESCOLA=None, CO_MUNICIPIO_ESC=None, NO_MUNICIPIO_ESC=None, CO_UF_ESC=None, SG_UF_ESC=None, TP_DEPENDENCIA_ADM_ESC=None, TP_LOCALIZACAO_ESC=None, TP_SIT_FUNC_ESC=None, NU_IDADE=42, TP_SEXO='M', TP_NACIONALIDADE=1, CO_MUNICIPIO_NASCIMENTO=4209003, NO_MUNICIPIO_NASCIMENTO='Joaçaba', CO_UF_NASCIMENTO=42, SG_UF_NASCIMENTO='SC', TP_ST_CONCLUSAO=1, TP_ANO_CONCLUIU=10, TP_ESCOLA=1, TP_ENSINO=None, TP_ESTADO_CIVIL=1, TP_COR_RACA=1, IN_BAIXA_VISAO=0, IN_CEGUEIRA=0, IN_SURDEZ=0, IN_DEFICIENCIA_AUDITIVA=0, IN_SURDO_CEGUEIRA=0, IN_DEFICIENCIA_FISICA=0, IN_DEFICIENCIA_MENTAL=0, IN_DEFICIT_ATENCAO=0, IN_DISLEXIA=0, IN_GESTANTE=0, IN_LACTANTE=0, IN_IDOSO=0, IN_DISCALCULIA=0, IN_AUTISMO=0, IN_VISAO_MONOCULAR=0, IN_SABATISTA=0, IN_OUTRA_DEF=0, IN_SEM_RECURSO=0, IN_NOME_SOCIAL=0, IN_BRAILLE=0, IN_AMPLIADA_24=0, IN_AMPLIADA_18=0, IN_LEDOR=0, IN_ACESSO=0, IN_TRANSCRICAO=0, IN_LIBRAS=0, IN_LEITURA_LABIAL=0, IN_MESA_CADEIRA_RODAS=0, IN_MESA_CADEIRA_SEPARADA=0, IN_APOIO_PERNA=0, IN_GUIA_INTERPRETE=0, IN_MACA=0, IN_COMPUTADOR=0, IN_CADEIRA_ESPECIAL=0, IN_CADEIRA_CANHOTO=0, IN_CADEIRA_ACOLCHOADA=0, IN_PROVA_DEITADO=0, IN_MOBILIARIO_OBESO=0, IN_LAMINA_OVERLAY=0, IN_PROTETOR_AURICULAR=0, IN_MEDIDOR_GLICOSE=0, IN_MAQUINA_BRAILE=0, IN_SOROBAN=0, IN_MARCA_PASSO=0, IN_SONDA=0, IN_MEDICAMENTOS=0, IN_SALA_INDIVIDUAL=0, IN_SALA_ESPECIAL=0, IN_SALA_ACOMPANHANTE=0, IN_MOBILIARIO_ESPECIFICO=0, IN_MATERIAL_ESPECÍFICO=0, IN_CERTIFICADO=0, NO_ENTIDADE_CERTIFICACAO=None, CO_UF_ENTIDADE_CERTIFICACAO=None, SG_UF_ENTIDADE_CERTIFICACAO=None, CO_MUNICIPIO_PROVA=4309209, NO_MUNICIPIO_PROVA='Gravataí', CO_UF_PROVA=43, SG_UF_PROVA='RS', TP_PRESENCA_CN=1, TP_PRESENCA_CH=1, TP_PRESENCA_LC=1, TP_PRESENCA_MT=1, CO_PROVA_CN=235, CO_PROVA_CH=231, CO_PROVA_LC=242, CO_PROVA_MT=246, NU_NOTA_CN=657.4, NU_NOTA_CH=705.3, NU_NOTA_LC=591.1, NU_NOTA_MT=732.3, TX_RESPOSTAS_CN='DACCBCABEDDCBABBBDCDCDEBDCECABCBEACEEDBBEBAED', TX_RESPOSTAS_CH='CEAEADACEADEDBDACBBEEEEEBADCEBCBACBBDDADCCBBD', TX_RESPOSTAS_LC='99999DAABDBDEDBDCDAC*BCDDBEEAECCAABCDCCDBBCDEBEDAB', TX_RESPOSTAS_MT='DCEDAACEBBDBEBEBCAACBEBDDACDCBEDDCCBADAADAACC', TP_LINGUA=1, TX_GABARITO_CN='DCCDBCAAEBECBAADADBDEDEEBBBCABCCEAAEEDCBDDCEA', TX_GABARITO_CH='AEAEADECEADEDBDACBBCEEECBADCEBCEACBBBDADCCABD', TX_GABARITO_LC='CEDAABDACDBDEDBDCDDCEDCDABEBAECCEABCECCBABDEEBEABB', TX_GABARITO_MT='DAEACAAEBADDBBEBCCCEBEEDCAADCBEDACCEDCABDBDEC', TP_STATUS_REDACAO=1, NU_NOTA_COMP1=160, NU_NOTA_COMP2=160, NU_NOTA_COMP3=120, NU_NOTA_COMP4=160, NU_NOTA_COMP5=160, NU_NOTA_REDACAO=760, Q001='A', Q002='A', Q003='A', Q004='A', Q005=3, Q006='D', Q007='A', Q008='B', Q009='B', Q010='A', Q011='A', Q012='B', Q013='A', Q014='B', Q015='A', Q016='B', Q017='A', Q018='A', Q019='B', Q020='A', Q021='A', Q022='B', Q023='B', Q024='B', Q025='B', Q026='C', Q027='A', Q028='A', Q029=0, Q030=2, Q031=2, Q032=2, Q033=1, Q034=5, Q035=5, Q036=5, Q037=5, Q038=5, Q039=5, Q040=5, Q041=5, Q042='A', Q043='A', Q044='A', Q045='A', Q046='A', Q047='E', Q048='A', Q049='A', Q050='A'),\n Row(NU_INSCRICAO=150000003053, NU_ANO=2015, CO_MUNICIPIO_RESIDENCIA=3143302, NO_MUNICIPIO_RESIDENCIA='Montes Claros', CO_UF_RESIDENCIA=31, SG_UF_RESIDENCIA='MG', IN_ESTUDA_CLASSE_HOSPITALAR=0, IN_TREINEIRO=0, CO_ESCOLA=None, CO_MUNICIPIO_ESC=None, NO_MUNICIPIO_ESC=None, CO_UF_ESC=None, SG_UF_ESC=None, TP_DEPENDENCIA_ADM_ESC=None, TP_LOCALIZACAO_ESC=None, TP_SIT_FUNC_ESC=None, NU_IDADE=21, TP_SEXO='M', TP_NACIONALIDADE=1, CO_MUNICIPIO_NASCIMENTO=3143302, NO_MUNICIPIO_NASCIMENTO='Montes Claros', CO_UF_NASCIMENTO=31, SG_UF_NASCIMENTO='MG', TP_ST_CONCLUSAO=1, TP_ANO_CONCLUIU=5, TP_ESCOLA=1, TP_ENSINO=None, TP_ESTADO_CIVIL=0, TP_COR_RACA=3, IN_BAIXA_VISAO=0, IN_CEGUEIRA=0, IN_SURDEZ=0, IN_DEFICIENCIA_AUDITIVA=0, IN_SURDO_CEGUEIRA=0, IN_DEFICIENCIA_FISICA=0, IN_DEFICIENCIA_MENTAL=0, IN_DEFICIT_ATENCAO=0, IN_DISLEXIA=0, IN_GESTANTE=0, IN_LACTANTE=0, IN_IDOSO=0, IN_DISCALCULIA=0, IN_AUTISMO=0, IN_VISAO_MONOCULAR=0, IN_SABATISTA=0, IN_OUTRA_DEF=0, IN_SEM_RECURSO=0, IN_NOME_SOCIAL=0, IN_BRAILLE=0, IN_AMPLIADA_24=0, IN_AMPLIADA_18=0, IN_LEDOR=0, IN_ACESSO=0, IN_TRANSCRICAO=0, IN_LIBRAS=0, IN_LEITURA_LABIAL=0, IN_MESA_CADEIRA_RODAS=0, IN_MESA_CADEIRA_SEPARADA=0, IN_APOIO_PERNA=0, IN_GUIA_INTERPRETE=0, IN_MACA=0, IN_COMPUTADOR=0, IN_CADEIRA_ESPECIAL=0, IN_CADEIRA_CANHOTO=0, IN_CADEIRA_ACOLCHOADA=0, IN_PROVA_DEITADO=0, IN_MOBILIARIO_OBESO=0, IN_LAMINA_OVERLAY=0, IN_PROTETOR_AURICULAR=0, IN_MEDIDOR_GLICOSE=0, IN_MAQUINA_BRAILE=0, IN_SOROBAN=0, IN_MARCA_PASSO=0, IN_SONDA=0, IN_MEDICAMENTOS=0, IN_SALA_INDIVIDUAL=0, IN_SALA_ESPECIAL=0, IN_SALA_ACOMPANHANTE=0, IN_MOBILIARIO_ESPECIFICO=0, IN_MATERIAL_ESPECÍFICO=0, IN_CERTIFICADO=0, NO_ENTIDADE_CERTIFICACAO=None, CO_UF_ENTIDADE_CERTIFICACAO=None, SG_UF_ENTIDADE_CERTIFICACAO=None, CO_MUNICIPIO_PROVA=3143302, NO_MUNICIPIO_PROVA='Montes Claros', CO_UF_PROVA=31, SG_UF_PROVA='MG', TP_PRESENCA_CN=0, TP_PRESENCA_CH=0, TP_PRESENCA_LC=0, TP_PRESENCA_MT=0, CO_PROVA_CN=None, CO_PROVA_CH=None, CO_PROVA_LC=None, CO_PROVA_MT=None, NU_NOTA_CN=None, NU_NOTA_CH=None, NU_NOTA_LC=None, NU_NOTA_MT=None, TX_RESPOSTAS_CN=None, TX_RESPOSTAS_CH=None, TX_RESPOSTAS_LC=None, TX_RESPOSTAS_MT=None, TP_LINGUA=1, TX_GABARITO_CN=None, TX_GABARITO_CH=None, TX_GABARITO_LC=None, TX_GABARITO_MT=None, TP_STATUS_REDACAO=4, NU_NOTA_COMP1=0, NU_NOTA_COMP2=0, NU_NOTA_COMP3=0, NU_NOTA_COMP4=0, NU_NOTA_COMP5=0, NU_NOTA_REDACAO=0, Q001='E', Q002='E', Q003='C', Q004='B', Q005=3, Q006='B', Q007='A', Q008='C', Q009='D', Q010='A', Q011='B', Q012='B', Q013='A', Q014='A', Q015='A', Q016='A', Q017='A', Q018='A', Q019='B', Q020='B', Q021='A', Q022='D', Q023='B', Q024='B', Q025='B', Q026='C', Q027='B', Q028='E', Q029=5, Q030=5, Q031=5, Q032=5, Q033=5, Q034=5, Q035=5, Q036=2, Q037=5, Q038=0, Q039=0, Q040=5, Q041=5, Q042='B', Q043='A', Q044='A', Q045='A', Q046='A', Q047='A', Q048='A', Q049='A', Q050='A')]"
     },
     "metadata": {},
     "execution_count": 6
    }
   ],
   "source": [
    "# Apresentação de duas linhas do dataframe df_enem2015_completo\n",
    "\n",
    "print(f'Apresentação de duas linhas do dataframe df_enem2015_completo, classificado como linhas - {datetime.now()}.')\n",
    "\n",
    "df_enem2015_completo.head(2)"
   ]
  },
  {
   "cell_type": "code",
   "execution_count": 7,
   "metadata": {
    "tags": []
   },
   "outputs": [
    {
     "output_type": "stream",
     "name": "stdout",
     "text": "Apresentação da estutura do dataframe df_enem2015_completo - 2020-08-25 08:49:24.828092.\nroot\n |-- NU_INSCRICAO: long (nullable = true)\n |-- NU_ANO: integer (nullable = true)\n |-- CO_MUNICIPIO_RESIDENCIA: integer (nullable = true)\n |-- NO_MUNICIPIO_RESIDENCIA: string (nullable = true)\n |-- CO_UF_RESIDENCIA: integer (nullable = true)\n |-- SG_UF_RESIDENCIA: string (nullable = true)\n |-- IN_ESTUDA_CLASSE_HOSPITALAR: integer (nullable = true)\n |-- IN_TREINEIRO: integer (nullable = true)\n |-- CO_ESCOLA: integer (nullable = true)\n |-- CO_MUNICIPIO_ESC: integer (nullable = true)\n |-- NO_MUNICIPIO_ESC: string (nullable = true)\n |-- CO_UF_ESC: integer (nullable = true)\n |-- SG_UF_ESC: string (nullable = true)\n |-- TP_DEPENDENCIA_ADM_ESC: integer (nullable = true)\n |-- TP_LOCALIZACAO_ESC: integer (nullable = true)\n |-- TP_SIT_FUNC_ESC: integer (nullable = true)\n |-- NU_IDADE: integer (nullable = true)\n |-- TP_SEXO: string (nullable = true)\n |-- TP_NACIONALIDADE: integer (nullable = true)\n |-- CO_MUNICIPIO_NASCIMENTO: integer (nullable = true)\n |-- NO_MUNICIPIO_NASCIMENTO: string (nullable = true)\n |-- CO_UF_NASCIMENTO: integer (nullable = true)\n |-- SG_UF_NASCIMENTO: string (nullable = true)\n |-- TP_ST_CONCLUSAO: integer (nullable = true)\n |-- TP_ANO_CONCLUIU: integer (nullable = true)\n |-- TP_ESCOLA: integer (nullable = true)\n |-- TP_ENSINO: integer (nullable = true)\n |-- TP_ESTADO_CIVIL: integer (nullable = true)\n |-- TP_COR_RACA: integer (nullable = true)\n |-- IN_BAIXA_VISAO: integer (nullable = true)\n |-- IN_CEGUEIRA: integer (nullable = true)\n |-- IN_SURDEZ: integer (nullable = true)\n |-- IN_DEFICIENCIA_AUDITIVA: integer (nullable = true)\n |-- IN_SURDO_CEGUEIRA: integer (nullable = true)\n |-- IN_DEFICIENCIA_FISICA: integer (nullable = true)\n |-- IN_DEFICIENCIA_MENTAL: integer (nullable = true)\n |-- IN_DEFICIT_ATENCAO: integer (nullable = true)\n |-- IN_DISLEXIA: integer (nullable = true)\n |-- IN_GESTANTE: integer (nullable = true)\n |-- IN_LACTANTE: integer (nullable = true)\n |-- IN_IDOSO: integer (nullable = true)\n |-- IN_DISCALCULIA: integer (nullable = true)\n |-- IN_AUTISMO: integer (nullable = true)\n |-- IN_VISAO_MONOCULAR: integer (nullable = true)\n |-- IN_SABATISTA: integer (nullable = true)\n |-- IN_OUTRA_DEF: integer (nullable = true)\n |-- IN_SEM_RECURSO: integer (nullable = true)\n |-- IN_NOME_SOCIAL: integer (nullable = true)\n |-- IN_BRAILLE: integer (nullable = true)\n |-- IN_AMPLIADA_24: integer (nullable = true)\n |-- IN_AMPLIADA_18: integer (nullable = true)\n |-- IN_LEDOR: integer (nullable = true)\n |-- IN_ACESSO: integer (nullable = true)\n |-- IN_TRANSCRICAO: integer (nullable = true)\n |-- IN_LIBRAS: integer (nullable = true)\n |-- IN_LEITURA_LABIAL: integer (nullable = true)\n |-- IN_MESA_CADEIRA_RODAS: integer (nullable = true)\n |-- IN_MESA_CADEIRA_SEPARADA: integer (nullable = true)\n |-- IN_APOIO_PERNA: integer (nullable = true)\n |-- IN_GUIA_INTERPRETE: integer (nullable = true)\n |-- IN_MACA: integer (nullable = true)\n |-- IN_COMPUTADOR: integer (nullable = true)\n |-- IN_CADEIRA_ESPECIAL: integer (nullable = true)\n |-- IN_CADEIRA_CANHOTO: integer (nullable = true)\n |-- IN_CADEIRA_ACOLCHOADA: integer (nullable = true)\n |-- IN_PROVA_DEITADO: integer (nullable = true)\n |-- IN_MOBILIARIO_OBESO: integer (nullable = true)\n |-- IN_LAMINA_OVERLAY: integer (nullable = true)\n |-- IN_PROTETOR_AURICULAR: integer (nullable = true)\n |-- IN_MEDIDOR_GLICOSE: integer (nullable = true)\n |-- IN_MAQUINA_BRAILE: integer (nullable = true)\n |-- IN_SOROBAN: integer (nullable = true)\n |-- IN_MARCA_PASSO: integer (nullable = true)\n |-- IN_SONDA: integer (nullable = true)\n |-- IN_MEDICAMENTOS: integer (nullable = true)\n |-- IN_SALA_INDIVIDUAL: integer (nullable = true)\n |-- IN_SALA_ESPECIAL: integer (nullable = true)\n |-- IN_SALA_ACOMPANHANTE: integer (nullable = true)\n |-- IN_MOBILIARIO_ESPECIFICO: integer (nullable = true)\n |-- IN_MATERIAL_ESPECÍFICO: integer (nullable = true)\n |-- IN_CERTIFICADO: integer (nullable = true)\n |-- NO_ENTIDADE_CERTIFICACAO: string (nullable = true)\n |-- CO_UF_ENTIDADE_CERTIFICACAO: integer (nullable = true)\n |-- SG_UF_ENTIDADE_CERTIFICACAO: string (nullable = true)\n |-- CO_MUNICIPIO_PROVA: integer (nullable = true)\n |-- NO_MUNICIPIO_PROVA: string (nullable = true)\n |-- CO_UF_PROVA: integer (nullable = true)\n |-- SG_UF_PROVA: string (nullable = true)\n |-- TP_PRESENCA_CN: integer (nullable = true)\n |-- TP_PRESENCA_CH: integer (nullable = true)\n |-- TP_PRESENCA_LC: integer (nullable = true)\n |-- TP_PRESENCA_MT: integer (nullable = true)\n |-- CO_PROVA_CN: integer (nullable = true)\n |-- CO_PROVA_CH: integer (nullable = true)\n |-- CO_PROVA_LC: integer (nullable = true)\n |-- CO_PROVA_MT: integer (nullable = true)\n |-- NU_NOTA_CN: double (nullable = true)\n |-- NU_NOTA_CH: double (nullable = true)\n |-- NU_NOTA_LC: double (nullable = true)\n |-- NU_NOTA_MT: double (nullable = true)\n |-- TX_RESPOSTAS_CN: string (nullable = true)\n |-- TX_RESPOSTAS_CH: string (nullable = true)\n |-- TX_RESPOSTAS_LC: string (nullable = true)\n |-- TX_RESPOSTAS_MT: string (nullable = true)\n |-- TP_LINGUA: integer (nullable = true)\n |-- TX_GABARITO_CN: string (nullable = true)\n |-- TX_GABARITO_CH: string (nullable = true)\n |-- TX_GABARITO_LC: string (nullable = true)\n |-- TX_GABARITO_MT: string (nullable = true)\n |-- TP_STATUS_REDACAO: integer (nullable = true)\n |-- NU_NOTA_COMP1: integer (nullable = true)\n |-- NU_NOTA_COMP2: integer (nullable = true)\n |-- NU_NOTA_COMP3: integer (nullable = true)\n |-- NU_NOTA_COMP4: integer (nullable = true)\n |-- NU_NOTA_COMP5: integer (nullable = true)\n |-- NU_NOTA_REDACAO: integer (nullable = true)\n |-- Q001: string (nullable = true)\n |-- Q002: string (nullable = true)\n |-- Q003: string (nullable = true)\n |-- Q004: string (nullable = true)\n |-- Q005: integer (nullable = true)\n |-- Q006: string (nullable = true)\n |-- Q007: string (nullable = true)\n |-- Q008: string (nullable = true)\n |-- Q009: string (nullable = true)\n |-- Q010: string (nullable = true)\n |-- Q011: string (nullable = true)\n |-- Q012: string (nullable = true)\n |-- Q013: string (nullable = true)\n |-- Q014: string (nullable = true)\n |-- Q015: string (nullable = true)\n |-- Q016: string (nullable = true)\n |-- Q017: string (nullable = true)\n |-- Q018: string (nullable = true)\n |-- Q019: string (nullable = true)\n |-- Q020: string (nullable = true)\n |-- Q021: string (nullable = true)\n |-- Q022: string (nullable = true)\n |-- Q023: string (nullable = true)\n |-- Q024: string (nullable = true)\n |-- Q025: string (nullable = true)\n |-- Q026: string (nullable = true)\n |-- Q027: string (nullable = true)\n |-- Q028: string (nullable = true)\n |-- Q029: integer (nullable = true)\n |-- Q030: integer (nullable = true)\n |-- Q031: integer (nullable = true)\n |-- Q032: integer (nullable = true)\n |-- Q033: integer (nullable = true)\n |-- Q034: integer (nullable = true)\n |-- Q035: integer (nullable = true)\n |-- Q036: integer (nullable = true)\n |-- Q037: integer (nullable = true)\n |-- Q038: integer (nullable = true)\n |-- Q039: integer (nullable = true)\n |-- Q040: integer (nullable = true)\n |-- Q041: integer (nullable = true)\n |-- Q042: string (nullable = true)\n |-- Q043: string (nullable = true)\n |-- Q044: string (nullable = true)\n |-- Q045: string (nullable = true)\n |-- Q046: string (nullable = true)\n |-- Q047: string (nullable = true)\n |-- Q048: string (nullable = true)\n |-- Q049: string (nullable = true)\n |-- Q050: string (nullable = true)\n\n"
    }
   ],
   "source": [
    "# Apresentação da estutura do dataframe df_enem2015_completo\n",
    "\n",
    "print(f'Apresentação da estutura do dataframe df_enem2015_completo - {datetime.now()}.')\n",
    "\n",
    "df_enem2015_completo.printSchema()"
   ]
  },
  {
   "cell_type": "code",
   "execution_count": 8,
   "metadata": {
    "tags": []
   },
   "outputs": [
    {
     "output_type": "stream",
     "name": "stdout",
     "text": "Apresentação das colunas do dataframe df_enem2015_completo - 2020-08-25 08:49:24.874967.\n"
    },
    {
     "output_type": "execute_result",
     "data": {
      "text/plain": "['NU_INSCRICAO',\n 'NU_ANO',\n 'CO_MUNICIPIO_RESIDENCIA',\n 'NO_MUNICIPIO_RESIDENCIA',\n 'CO_UF_RESIDENCIA',\n 'SG_UF_RESIDENCIA',\n 'IN_ESTUDA_CLASSE_HOSPITALAR',\n 'IN_TREINEIRO',\n 'CO_ESCOLA',\n 'CO_MUNICIPIO_ESC',\n 'NO_MUNICIPIO_ESC',\n 'CO_UF_ESC',\n 'SG_UF_ESC',\n 'TP_DEPENDENCIA_ADM_ESC',\n 'TP_LOCALIZACAO_ESC',\n 'TP_SIT_FUNC_ESC',\n 'NU_IDADE',\n 'TP_SEXO',\n 'TP_NACIONALIDADE',\n 'CO_MUNICIPIO_NASCIMENTO',\n 'NO_MUNICIPIO_NASCIMENTO',\n 'CO_UF_NASCIMENTO',\n 'SG_UF_NASCIMENTO',\n 'TP_ST_CONCLUSAO',\n 'TP_ANO_CONCLUIU',\n 'TP_ESCOLA',\n 'TP_ENSINO',\n 'TP_ESTADO_CIVIL',\n 'TP_COR_RACA',\n 'IN_BAIXA_VISAO',\n 'IN_CEGUEIRA',\n 'IN_SURDEZ',\n 'IN_DEFICIENCIA_AUDITIVA',\n 'IN_SURDO_CEGUEIRA',\n 'IN_DEFICIENCIA_FISICA',\n 'IN_DEFICIENCIA_MENTAL',\n 'IN_DEFICIT_ATENCAO',\n 'IN_DISLEXIA',\n 'IN_GESTANTE',\n 'IN_LACTANTE',\n 'IN_IDOSO',\n 'IN_DISCALCULIA',\n 'IN_AUTISMO',\n 'IN_VISAO_MONOCULAR',\n 'IN_SABATISTA',\n 'IN_OUTRA_DEF',\n 'IN_SEM_RECURSO',\n 'IN_NOME_SOCIAL',\n 'IN_BRAILLE',\n 'IN_AMPLIADA_24',\n 'IN_AMPLIADA_18',\n 'IN_LEDOR',\n 'IN_ACESSO',\n 'IN_TRANSCRICAO',\n 'IN_LIBRAS',\n 'IN_LEITURA_LABIAL',\n 'IN_MESA_CADEIRA_RODAS',\n 'IN_MESA_CADEIRA_SEPARADA',\n 'IN_APOIO_PERNA',\n 'IN_GUIA_INTERPRETE',\n 'IN_MACA',\n 'IN_COMPUTADOR',\n 'IN_CADEIRA_ESPECIAL',\n 'IN_CADEIRA_CANHOTO',\n 'IN_CADEIRA_ACOLCHOADA',\n 'IN_PROVA_DEITADO',\n 'IN_MOBILIARIO_OBESO',\n 'IN_LAMINA_OVERLAY',\n 'IN_PROTETOR_AURICULAR',\n 'IN_MEDIDOR_GLICOSE',\n 'IN_MAQUINA_BRAILE',\n 'IN_SOROBAN',\n 'IN_MARCA_PASSO',\n 'IN_SONDA',\n 'IN_MEDICAMENTOS',\n 'IN_SALA_INDIVIDUAL',\n 'IN_SALA_ESPECIAL',\n 'IN_SALA_ACOMPANHANTE',\n 'IN_MOBILIARIO_ESPECIFICO',\n 'IN_MATERIAL_ESPECÍFICO',\n 'IN_CERTIFICADO',\n 'NO_ENTIDADE_CERTIFICACAO',\n 'CO_UF_ENTIDADE_CERTIFICACAO',\n 'SG_UF_ENTIDADE_CERTIFICACAO',\n 'CO_MUNICIPIO_PROVA',\n 'NO_MUNICIPIO_PROVA',\n 'CO_UF_PROVA',\n 'SG_UF_PROVA',\n 'TP_PRESENCA_CN',\n 'TP_PRESENCA_CH',\n 'TP_PRESENCA_LC',\n 'TP_PRESENCA_MT',\n 'CO_PROVA_CN',\n 'CO_PROVA_CH',\n 'CO_PROVA_LC',\n 'CO_PROVA_MT',\n 'NU_NOTA_CN',\n 'NU_NOTA_CH',\n 'NU_NOTA_LC',\n 'NU_NOTA_MT',\n 'TX_RESPOSTAS_CN',\n 'TX_RESPOSTAS_CH',\n 'TX_RESPOSTAS_LC',\n 'TX_RESPOSTAS_MT',\n 'TP_LINGUA',\n 'TX_GABARITO_CN',\n 'TX_GABARITO_CH',\n 'TX_GABARITO_LC',\n 'TX_GABARITO_MT',\n 'TP_STATUS_REDACAO',\n 'NU_NOTA_COMP1',\n 'NU_NOTA_COMP2',\n 'NU_NOTA_COMP3',\n 'NU_NOTA_COMP4',\n 'NU_NOTA_COMP5',\n 'NU_NOTA_REDACAO',\n 'Q001',\n 'Q002',\n 'Q003',\n 'Q004',\n 'Q005',\n 'Q006',\n 'Q007',\n 'Q008',\n 'Q009',\n 'Q010',\n 'Q011',\n 'Q012',\n 'Q013',\n 'Q014',\n 'Q015',\n 'Q016',\n 'Q017',\n 'Q018',\n 'Q019',\n 'Q020',\n 'Q021',\n 'Q022',\n 'Q023',\n 'Q024',\n 'Q025',\n 'Q026',\n 'Q027',\n 'Q028',\n 'Q029',\n 'Q030',\n 'Q031',\n 'Q032',\n 'Q033',\n 'Q034',\n 'Q035',\n 'Q036',\n 'Q037',\n 'Q038',\n 'Q039',\n 'Q040',\n 'Q041',\n 'Q042',\n 'Q043',\n 'Q044',\n 'Q045',\n 'Q046',\n 'Q047',\n 'Q048',\n 'Q049',\n 'Q050']"
     },
     "metadata": {},
     "execution_count": 8
    }
   ],
   "source": [
    "# Apresentação das colunas do dataframe df_enem2015_completo\n",
    "\n",
    "print(f'Apresentação das colunas do dataframe df_enem2015_completo - {datetime.now()}.')\n",
    "\n",
    "df_enem2015_completo.columns[:]"
   ]
  },
  {
   "cell_type": "code",
   "execution_count": 9,
   "metadata": {
    "tags": []
   },
   "outputs": [
    {
     "output_type": "stream",
     "name": "stdout",
     "text": "Descrição DataFrame df_enem2015_completo\n\nDescrição Idade\n+-------+------------------+\n|summary|          NU_IDADE|\n+-------+------------------+\n|  count|           7746352|\n|   mean|23.004694338702915|\n| stddev| 7.944599707765686|\n|    min|                10|\n|    max|                98|\n+-------+------------------+\n\n2020-08-25 08:49:43.732250.\n\nDescrição Nota da prova de Ciências da Natureza\n+-------+-----------------+\n|summary|       NU_NOTA_CN|\n+-------+-----------------+\n|  count|          5755091|\n|   mean|478.9239503771539|\n| stddev|71.56005864237716|\n|    min|              0.0|\n|    max|            875.2|\n+-------+-----------------+\n\n2020-08-25 08:50:00.397678.\n\nDescrição Nota da prova de Ciências Humanas\n+-------+-----------------+\n|summary|       NU_NOTA_CH|\n+-------+-----------------+\n|  count|          5755091|\n|   mean|558.4878240152929|\n| stddev|70.96839011437301|\n|    min|              0.0|\n|    max|            850.6|\n+-------+-----------------+\n\n2020-08-25 08:50:16.349015.\n\nDescrição Nota da prova de Linguagens e Códigos\n+-------+------------------+\n|summary|        NU_NOTA_LC|\n+-------+------------------+\n|  count|           5625540|\n|   mean|505.45478531838677|\n| stddev| 72.68930504276108|\n|    min|               0.0|\n|    max|             825.8|\n+-------+------------------+\n\n2020-08-25 08:50:31.961262.\n\nDescrição Nota da prova de Matemática\n+-------+------------------+\n|summary|        NU_NOTA_MT|\n+-------+------------------+\n|  count|           5625540|\n|   mean|467.93117604709937|\n| stddev|107.36792743837316|\n|    min|               0.0|\n|    max|            1008.3|\n+-------+------------------+\n\n2020-08-25 08:50:47.447627.\n\nDescrição Nota da prova de redação\n+-------+------------------+\n|summary|   NU_NOTA_REDACAO|\n+-------+------------------+\n|  count|           7744736|\n|   mean|388.40985670783357|\n| stddev| 267.5071259318306|\n|    min|                 0|\n|    max|              1000|\n+-------+------------------+\n\n2020-08-25 08:51:02.761019.\n"
    }
   ],
   "source": [
    "# Descrição Dataframe df_enem2015_completo.\n",
    "\n",
    "print('Descrição DataFrame df_enem2015_completo')\n",
    "print('')\n",
    "\n",
    "print('Descrição Idade')\n",
    "df_enem2015_completo.describe('NU_IDADE').show()\n",
    "print(f'{datetime.now()}.')\n",
    "print('')\n",
    "\n",
    "print('Descrição Nota da prova de Ciências da Natureza')\n",
    "df_enem2015_completo.describe('NU_NOTA_CN').show()\n",
    "print(f'{datetime.now()}.')\n",
    "print('')\n",
    "\n",
    "print('Descrição Nota da prova de Ciências Humanas')\n",
    "df_enem2015_completo.describe('NU_NOTA_CH').show()\n",
    "print(f'{datetime.now()}.')\n",
    "print('')\n",
    "\n",
    "print('Descrição Nota da prova de Linguagens e Códigos')\n",
    "df_enem2015_completo.describe('NU_NOTA_LC').show()\n",
    "print(f'{datetime.now()}.')\n",
    "print('')\n",
    "\n",
    "print('Descrição Nota da prova de Matemática')\n",
    "df_enem2015_completo.describe('NU_NOTA_MT').show()\n",
    "print(f'{datetime.now()}.')\n",
    "print('')\n",
    "\n",
    "print('Descrição Nota da prova de redação')\n",
    "df_enem2015_completo.describe('NU_NOTA_REDACAO').show()\n",
    "print(f'{datetime.now()}.')"
   ]
  },
  {
   "cell_type": "code",
   "execution_count": 10,
   "metadata": {
    "tags": []
   },
   "outputs": [
    {
     "output_type": "stream",
     "name": "stdout",
     "text": "Descrição DataFrame df_enem2016_completo\n\nDescrição Idade\n+-------+-----------------+\n|summary|         NU_IDADE|\n+-------+-----------------+\n|  count|          8627265|\n|   mean| 23.0310825041308|\n| stddev|7.973406085745136|\n|    min|               10|\n|    max|               95|\n+-------+-----------------+\n\n2020-08-25 08:51:21.962681.\n\nDescrição Nota da prova de Ciências da Natureza\n+-------+-----------------+\n|summary|       NU_NOTA_CN|\n+-------+-----------------+\n|  count|          5999126|\n|   mean|477.6773009101653|\n| stddev|72.71845884040538|\n|    min|              0.0|\n|    max|            871.3|\n+-------+-----------------+\n\n2020-08-25 08:51:39.184616.\n\nDescrição Nota da prova de Ciências Humanas\n+-------+-----------------+\n|summary|       NU_NOTA_CH|\n+-------+-----------------+\n|  count|          5999126|\n|   mean|534.4409175603251|\n| stddev| 74.4988507782099|\n|    min|              0.0|\n|    max|            859.1|\n+-------+-----------------+\n\n2020-08-25 08:51:56.367588.\n\nDescrição Nota da prova de Linguagens e Códigos\n+-------+-----------------+\n|summary|       NU_NOTA_LC|\n+-------+-----------------+\n|  count|          5844971|\n|   mean|520.9074943742231|\n| stddev|68.79658007787643|\n|    min|              0.0|\n|    max|            802.6|\n+-------+-----------------+\n\n2020-08-25 08:52:13.373143.\n\nDescrição Nota da prova de Matemática\n+-------+------------------+\n|summary|        NU_NOTA_MT|\n+-------+------------------+\n|  count|           5844971|\n|   mean|490.08540213458764|\n| stddev|103.23464319126394|\n|    min|               0.0|\n|    max|             991.5|\n+-------+------------------+\n\n2020-08-25 08:52:30.330965.\n\nDescrição Nota da prova de redação\n+-------+-----------------+\n|summary|  NU_NOTA_REDACAO|\n+-------+-----------------+\n|  count|          5844971|\n|   mean|529.9665149750101|\n| stddev|154.0034330186631|\n|    min|                0|\n|    max|             1000|\n+-------+-----------------+\n\n2020-08-25 08:52:47.100603.\n"
    }
   ],
   "source": [
    "# Descrição Dataframe df_enem2016_completo.\n",
    "\n",
    "print('Descrição DataFrame df_enem2016_completo')\n",
    "print('')\n",
    "\n",
    "print('Descrição Idade')\n",
    "df_enem2016_completo.describe('NU_IDADE').show()\n",
    "print(f'{datetime.now()}.')\n",
    "print('')\n",
    "\n",
    "print('Descrição Nota da prova de Ciências da Natureza')\n",
    "df_enem2016_completo.describe('NU_NOTA_CN').show()\n",
    "print(f'{datetime.now()}.')\n",
    "print('')\n",
    "\n",
    "print('Descrição Nota da prova de Ciências Humanas')\n",
    "df_enem2016_completo.describe('NU_NOTA_CH').show()\n",
    "print(f'{datetime.now()}.')\n",
    "print('')\n",
    "\n",
    "print('Descrição Nota da prova de Linguagens e Códigos')\n",
    "df_enem2016_completo.describe('NU_NOTA_LC').show()\n",
    "print(f'{datetime.now()}.')\n",
    "print('')\n",
    "\n",
    "print('Descrição Nota da prova de Matemática')\n",
    "df_enem2016_completo.describe('NU_NOTA_MT').show()\n",
    "print(f'{datetime.now()}.')\n",
    "print('')\n",
    "\n",
    "print('Descrição Nota da prova de redação')\n",
    "df_enem2016_completo.describe('NU_NOTA_REDACAO').show()\n",
    "print(f'{datetime.now()}.')"
   ]
  },
  {
   "cell_type": "code",
   "execution_count": 11,
   "metadata": {
    "tags": []
   },
   "outputs": [
    {
     "output_type": "stream",
     "name": "stdout",
     "text": "Descrição DataFrame df_enem2017_completo\n\nDescrição Idade\n+-------+-----------------+\n|summary|         NU_IDADE|\n+-------+-----------------+\n|  count|          6731240|\n|   mean|22.95379261473369|\n| stddev|7.728937918555041|\n|    min|               10|\n|    max|               90|\n+-------+-----------------+\n\n2020-08-25 08:53:00.611849.\n\nDescrição Nota da prova de Ciências da Natureza\n+-------+-----------------+\n|summary|       NU_NOTA_CN|\n+-------+-----------------+\n|  count|          4437560|\n|   mean|510.8619317147265|\n| stddev|72.12733741911008|\n|    min|              0.0|\n|    max|            885.6|\n+-------+-----------------+\n\n2020-08-25 08:53:12.314642.\n\nDescrição Nota da prova de Ciências Humanas\n+-------+-----------------+\n|summary|       NU_NOTA_CH|\n+-------+-----------------+\n|  count|          4701428|\n|   mean|518.8259502219317|\n| stddev|83.41395391030184|\n|    min|              0.0|\n|    max|            868.3|\n+-------+-----------------+\n\n2020-08-25 08:53:24.069294.\n\nDescrição Nota da prova de Linguagens e Códigos\n+-------+-----------------+\n|summary|       NU_NOTA_LC|\n+-------+-----------------+\n|  count|          4701428|\n|   mean|510.2055666703836|\n| stddev|66.90544936176694|\n|    min|              0.0|\n|    max|            788.8|\n+-------+-----------------+\n\n2020-08-25 08:53:35.707994.\n\nDescrição Nota da prova de Matemática\n+-------+------------------+\n|summary|        NU_NOTA_MT|\n+-------+------------------+\n|  count|           4437560|\n|   mean| 518.7596521511824|\n| stddev|105.00474143091222|\n|    min|               0.0|\n|    max|             993.9|\n+-------+------------------+\n\n2020-08-25 08:53:47.354610.\n\nDescrição Nota da prova de redação\n+-------+------------------+\n|summary|   NU_NOTA_REDACAO|\n+-------+------------------+\n|  count|           4701428|\n|   mean| 522.5579206998384|\n| stddev|185.92055660075908|\n|    min|                 0|\n|    max|              1000|\n+-------+------------------+\n\n2020-08-25 08:53:58.967475.\n"
    }
   ],
   "source": [
    "# Descrição Dataframe df_enem2017_completo.\n",
    "\n",
    "print('Descrição DataFrame df_enem2017_completo')\n",
    "print('')\n",
    "\n",
    "print('Descrição Idade')\n",
    "df_enem2017_completo.describe('NU_IDADE').show()\n",
    "print(f'{datetime.now()}.')\n",
    "print('')\n",
    "\n",
    "print('Descrição Nota da prova de Ciências da Natureza')\n",
    "df_enem2017_completo.describe('NU_NOTA_CN').show()\n",
    "print(f'{datetime.now()}.')\n",
    "print('')\n",
    "\n",
    "print('Descrição Nota da prova de Ciências Humanas')\n",
    "df_enem2017_completo.describe('NU_NOTA_CH').show()\n",
    "print(f'{datetime.now()}.')\n",
    "print('')\n",
    "\n",
    "print('Descrição Nota da prova de Linguagens e Códigos')\n",
    "df_enem2017_completo.describe('NU_NOTA_LC').show()\n",
    "print(f'{datetime.now()}.')\n",
    "print('')\n",
    "\n",
    "print('Descrição Nota da prova de Matemática')\n",
    "df_enem2017_completo.describe('NU_NOTA_MT').show()\n",
    "print(f'{datetime.now()}.')\n",
    "print('')\n",
    "\n",
    "print('Descrição Nota da prova de redação')\n",
    "df_enem2017_completo.describe('NU_NOTA_REDACAO').show()\n",
    "print(f'{datetime.now()}.')"
   ]
  },
  {
   "cell_type": "code",
   "execution_count": 12,
   "metadata": {
    "tags": []
   },
   "outputs": [
    {
     "output_type": "stream",
     "name": "stdout",
     "text": "Descrição DataFrame df_enem2018_completo\n\nDescrição Idade\n+-------+------------------+\n|summary|          NU_IDADE|\n+-------+------------------+\n|  count|           5513650|\n|   mean|22.372219854361447|\n| stddev| 7.594597160609549|\n|    min|                10|\n|    max|                98|\n+-------+------------------+\n\n2020-08-25 08:54:10.563731.\n\nDescrição Nota da prova de Ciências da Natureza\n+-------+-----------------+\n|summary|       NU_NOTA_CN|\n+-------+-----------------+\n|  count|          3905099|\n|   mean|493.6832652129926|\n| stddev|  74.165826188305|\n|    min|              0.0|\n|    max|            869.6|\n+-------+-----------------+\n\n2020-08-25 08:54:20.847548.\n\nDescrição Nota da prova de Ciências Humanas\n+-------+-----------------+\n|summary|       NU_NOTA_CH|\n+-------+-----------------+\n|  count|          4148264|\n|   mean|568.0977346186262|\n| stddev|81.41996050791391|\n|    min|              0.0|\n|    max|            850.4|\n+-------+-----------------+\n\n2020-08-25 08:54:31.067885.\n\nDescrição Nota da prova de Linguagens e Códigos\n+-------+-----------------+\n|summary|       NU_NOTA_LC|\n+-------+-----------------+\n|  count|          4148264|\n|   mean|526.4537585119939|\n| stddev|73.49787440921446|\n|    min|              0.0|\n|    max|            816.9|\n+-------+-----------------+\n\n2020-08-25 08:54:41.241737.\n\nDescrição Nota da prova de Matemática\n+-------+------------------+\n|summary|        NU_NOTA_MT|\n+-------+------------------+\n|  count|           3905099|\n|   mean| 535.4055659280325|\n| stddev|103.15124301720219|\n|    min|               0.0|\n|    max|             996.1|\n+-------+------------------+\n\n2020-08-25 08:54:51.430202.\n\nDescrição Nota da prova de redação\n+-------+------------------+\n|summary|   NU_NOTA_REDACAO|\n+-------+------------------+\n|  count|           4148264|\n|   mean|508.68055167173543|\n| stddev| 187.4964873716687|\n|    min|                 0|\n|    max|              1000|\n+-------+------------------+\n\n2020-08-25 08:55:01.428587.\n"
    }
   ],
   "source": [
    "# Descrição Dataframe df_enem2018_completo.\n",
    "\n",
    "print('Descrição DataFrame df_enem2018_completo')\n",
    "print('')\n",
    "\n",
    "print('Descrição Idade')\n",
    "df_enem2018_completo.describe('NU_IDADE').show()\n",
    "print(f'{datetime.now()}.')\n",
    "print('')\n",
    "\n",
    "print('Descrição Nota da prova de Ciências da Natureza')\n",
    "df_enem2018_completo.describe('NU_NOTA_CN').show()\n",
    "print(f'{datetime.now()}.')\n",
    "print('')\n",
    "\n",
    "print('Descrição Nota da prova de Ciências Humanas')\n",
    "df_enem2018_completo.describe('NU_NOTA_CH').show()\n",
    "print(f'{datetime.now()}.')\n",
    "print('')\n",
    "\n",
    "print('Descrição Nota da prova de Linguagens e Códigos')\n",
    "df_enem2018_completo.describe('NU_NOTA_LC').show()\n",
    "print(f'{datetime.now()}.')\n",
    "print('')\n",
    "\n",
    "print('Descrição Nota da prova de Matemática')\n",
    "df_enem2018_completo.describe('NU_NOTA_MT').show()\n",
    "print(f'{datetime.now()}.')\n",
    "print('')\n",
    "\n",
    "print('Descrição Nota da prova de redação')\n",
    "df_enem2018_completo.describe('NU_NOTA_REDACAO').show()\n",
    "print(f'{datetime.now()}.')"
   ]
  },
  {
   "cell_type": "code",
   "execution_count": 13,
   "metadata": {
    "tags": []
   },
   "outputs": [
    {
     "output_type": "stream",
     "name": "stdout",
     "text": "Descrição DataFrame df_enem2019_completo\n\nDescrição Idade\n+-------+-----------------+\n|summary|         NU_IDADE|\n+-------+-----------------+\n|  count|          5095270|\n|   mean|22.08743069552742|\n| stddev|7.454970482110064|\n|    min|                1|\n|    max|               94|\n+-------+-----------------+\n\n2020-08-25 08:55:12.050210.\n\nDescrição Nota da prova de Ciências da Natureza\n+-------+------------------+\n|summary|        NU_NOTA_CN|\n+-------+------------------+\n|  count|           3710433|\n|   mean|477.82408735045146|\n| stddev| 76.09774469638398|\n|    min|               0.0|\n|    max|             860.9|\n+-------+------------------+\n\n2020-08-25 08:55:20.947428.\n\nDescrição Nota da prova de Ciências Humanas\n+-------+-----------------+\n|summary|       NU_NOTA_CH|\n+-------+-----------------+\n|  count|          3923145|\n|   mean|507.2486632280978|\n| stddev| 82.4116343330404|\n|    min|              0.0|\n|    max|            835.1|\n+-------+-----------------+\n\n2020-08-25 08:55:30.302595.\n\nDescrição Nota da prova de Linguagens e Códigos\n+-------+-----------------+\n|summary|       NU_NOTA_LC|\n+-------+-----------------+\n|  count|          3923145|\n|   mean|520.5176577210385|\n| stddev|64.15065496536891|\n|    min|              0.0|\n|    max|            801.7|\n+-------+-----------------+\n\n2020-08-25 08:55:39.346611.\n\nDescrição Nota da prova de Matemática\n+-------+------------------+\n|summary|        NU_NOTA_MT|\n+-------+------------------+\n|  count|           3710433|\n|   mean| 523.1241219825291|\n| stddev|109.06368552884479|\n|    min|               0.0|\n|    max|             985.5|\n+-------+------------------+\n\n2020-08-25 08:55:48.220828.\n\nDescrição Nota da prova de redação\n+-------+------------------+\n|summary|   NU_NOTA_REDACAO|\n+-------+------------------+\n|  count|           3923144|\n|   mean| 571.1883479168748|\n| stddev|188.76327214930322|\n|    min|                 0|\n|    max|              1000|\n+-------+------------------+\n\n2020-08-25 08:55:57.035159.\n"
    }
   ],
   "source": [
    "# Descrição Dataframe df_enem2019_completo.\n",
    "\n",
    "print('Descrição DataFrame df_enem2019_completo')\n",
    "print('')\n",
    "\n",
    "print('Descrição Idade')\n",
    "df_enem2019_completo.describe('NU_IDADE').show()\n",
    "print(f'{datetime.now()}.')\n",
    "print('')\n",
    "\n",
    "print('Descrição Nota da prova de Ciências da Natureza')\n",
    "df_enem2019_completo.describe('NU_NOTA_CN').show()\n",
    "print(f'{datetime.now()}.')\n",
    "print('')\n",
    "\n",
    "print('Descrição Nota da prova de Ciências Humanas')\n",
    "df_enem2019_completo.describe('NU_NOTA_CH').show()\n",
    "print(f'{datetime.now()}.')\n",
    "print('')\n",
    "\n",
    "print('Descrição Nota da prova de Linguagens e Códigos')\n",
    "df_enem2019_completo.describe('NU_NOTA_LC').show()\n",
    "print(f'{datetime.now()}.')\n",
    "print('')\n",
    "\n",
    "print('Descrição Nota da prova de Matemática')\n",
    "df_enem2019_completo.describe('NU_NOTA_MT').show()\n",
    "print(f'{datetime.now()}.')\n",
    "print('')\n",
    "\n",
    "print('Descrição Nota da prova de redação')\n",
    "df_enem2019_completo.describe('NU_NOTA_REDACAO').show()\n",
    "print(f'{datetime.now()}.')"
   ]
  },
  {
   "cell_type": "code",
   "execution_count": 14,
   "metadata": {
    "tags": []
   },
   "outputs": [
    {
     "output_type": "stream",
     "name": "stdout",
     "text": "Criação da variável columns e seleção das colunas para realização das analises exploratórias - 2020-08-25 08:55:57.069066.\n"
    }
   ],
   "source": [
    "# Criação e seleção das colunas para realização das analises exploratórias\n",
    "\n",
    "print(f'Criação da variável columns e seleção das colunas para realização das analises exploratórias - {datetime.now()}.')\n",
    "\n",
    "columns = [\n",
    "'NU_INSCRICAO', \n",
    "'NU_ANO', \n",
    "'NO_MUNICIPIO_RESIDENCIA', \n",
    "'CO_UF_RESIDENCIA', \n",
    "'SG_UF_RESIDENCIA',\n",
    "'NU_IDADE', \n",
    "'TP_SEXO', \n",
    "'TP_ESTADO_CIVIL',\n",
    "'TP_COR_RACA', \n",
    "'TP_NACIONALIDADE',\n",
    "'NO_MUNICIPIO_NASCIMENTO',\n",
    "'CO_UF_NASCIMENTO', \n",
    "'SG_UF_NASCIMENTO', \n",
    "'TP_ST_CONCLUSAO',\n",
    "'TP_ESCOLA', \n",
    "'TP_ENSINO', \n",
    "'IN_TREINEIRO', \n",
    "'CO_UF_ESC', \n",
    "'SG_UF_ESC',\n",
    "'TP_DEPENDENCIA_ADM_ESC', \n",
    "'TP_LOCALIZACAO_ESC', \n",
    "'IN_BAIXA_VISAO', \n",
    "'IN_CEGUEIRA', \n",
    "'IN_SURDEZ',\n",
    "'IN_DEFICIENCIA_AUDITIVA', \n",
    "'IN_SURDO_CEGUEIRA',\n",
    "'IN_DEFICIENCIA_FISICA', \n",
    "'IN_DEFICIENCIA_MENTAL',\n",
    "'IN_DEFICIT_ATENCAO', \n",
    "'IN_DISLEXIA', \n",
    "'IN_DISCALCULIA', \n",
    "'IN_AUTISMO', \n",
    "'IN_VISAO_MONOCULAR',\n",
    "'IN_OUTRA_DEF', \n",
    "'IN_GESTANTE', \n",
    "'IN_LACTANTE',\n",
    "'IN_IDOSO', \n",
    "'IN_ESTUDA_CLASSE_HOSPITALAR', \n",
    "'IN_SEM_RECURSO', \n",
    "'IN_BRAILLE', \n",
    "'IN_AMPLIADA_24', \n",
    "'IN_AMPLIADA_18', \n",
    "'IN_LEDOR',\n",
    "'IN_ACESSO', \n",
    "'IN_TRANSCRICAO', \n",
    "'IN_LIBRAS', \n",
    "'IN_LEITURA_LABIAL',\n",
    "'IN_MESA_CADEIRA_RODAS', \n",
    "'IN_MESA_CADEIRA_SEPARADA',\n",
    "'IN_APOIO_PERNA', \n",
    "'IN_GUIA_INTERPRETE', \n",
    "'IN_COMPUTADOR',\n",
    "'IN_CADEIRA_ESPECIAL', \n",
    "'IN_CADEIRA_CANHOTO',\n",
    "'IN_CADEIRA_ACOLCHOADA', \n",
    "'IN_PROVA_DEITADO', \n",
    "'IN_MOBILIARIO_OBESO',\n",
    "'IN_LAMINA_OVERLAY', \n",
    "'IN_PROTETOR_AURICULAR', \n",
    "'IN_MEDIDOR_GLICOSE',\n",
    "'IN_MAQUINA_BRAILE', \n",
    "'IN_SOROBAN', \n",
    "'IN_MARCA_PASSO', \n",
    "'IN_SONDA',\n",
    "'IN_MEDICAMENTOS', \n",
    "'IN_SALA_INDIVIDUAL', \n",
    "'IN_SALA_ESPECIAL',\n",
    "'IN_SALA_ACOMPANHANTE', \n",
    "'IN_MOBILIARIO_ESPECIFICO',\n",
    "'IN_NOME_SOCIAL',\n",
    "'NO_MUNICIPIO_PROVA', \n",
    "'CO_UF_PROVA', \n",
    "'SG_UF_PROVA',\n",
    "'TP_PRESENCA_CN', \n",
    "'TP_PRESENCA_CH', \n",
    "'TP_PRESENCA_LC',\n",
    "'TP_PRESENCA_MT', \n",
    "'NU_NOTA_CN', \n",
    "'NU_NOTA_CH', \n",
    "'NU_NOTA_LC',\n",
    "'NU_NOTA_MT', \n",
    "'TP_LINGUA',\n",
    "'TP_STATUS_REDACAO', \n",
    "'NU_NOTA_COMP1',\n",
    "'NU_NOTA_COMP2', \n",
    "'NU_NOTA_COMP3', \n",
    "'NU_NOTA_COMP4', \n",
    "'NU_NOTA_COMP5',\n",
    "'NU_NOTA_REDACAO', \n",
    "'Q001', \n",
    "'Q002', \n",
    "'Q005', \n",
    "'Q006',\n",
    "'Q022',\n",
    "'Q024', \n",
    "'Q025'\n",
    "]\n"
   ]
  },
  {
   "cell_type": "code",
   "execution_count": 15,
   "metadata": {
    "tags": []
   },
   "outputs": [
    {
     "output_type": "stream",
     "name": "stdout",
     "text": "Criação Dataframes Iniciado - 2020-08-25 08:55:57.099985.\n\n\nCriação Dataframe do Enem 2015 iniciada - 2020-08-25 08:55:57.099985.\nDataframe df_enem2015 criado com sucesso - 2020-08-25 08:55:57.341338.\n\n\nCriação Dataframe do Enem 2016 iniciada - 2020-08-25 08:55:57.342335.\nDataframe df_enem2016 criado com sucesso - 2020-08-25 08:55:57.572719.\n\n\nCriação Dataframe do Enem 2017 iniciada - 2020-08-25 08:55:57.573716.\nDataframe df_enem2017 criado com sucesso - 2020-08-25 08:55:57.790139.\n\n\nCriação Dataframe do Enem 2018 iniciada - 2020-08-25 08:55:57.791135.\nDataframe df_enem2018 criado com sucesso - 2020-08-25 08:55:58.008554.\n\n\nCriação Dataframe do Enem 2019 iniciada - 2020-08-25 08:55:58.009553.\nDataframe df_enem2019 criado com sucesso - 2020-08-25 08:55:58.210015.\n\n"
    }
   ],
   "source": [
    "# No Processo abaixo, criaremos dataframes, apenas com colunas selecionadas.\n",
    "\n",
    "print(f'Criação Dataframes Iniciado - {datetime.now()}.')\n",
    "print('')\n",
    "\n",
    "print('')\n",
    "print(f'Criação Dataframe do Enem 2015 iniciada - {datetime.now()}.')\n",
    "df_enem2015 = df_enem2015_completo.select(columns)\n",
    "print(f'Dataframe df_enem2015 criado com sucesso - {datetime.now()}.')\n",
    "print('')\n",
    "\n",
    "print('')\n",
    "print(f'Criação Dataframe do Enem 2016 iniciada - {datetime.now()}.')\n",
    "df_enem2016 = df_enem2016_completo.select(columns)\n",
    "print(f'Dataframe df_enem2016 criado com sucesso - {datetime.now()}.')\n",
    "print('')\n",
    "\n",
    "print('')\n",
    "print(f'Criação Dataframe do Enem 2017 iniciada - {datetime.now()}.')\n",
    "df_enem2017 = df_enem2017_completo.select(columns)\n",
    "print(f'Dataframe df_enem2017 criado com sucesso - {datetime.now()}.')\n",
    "print('')\n",
    "\n",
    "print('')\n",
    "print(f'Criação Dataframe do Enem 2018 iniciada - {datetime.now()}.')\n",
    "df_enem2018 = df_enem2018_completo.select(columns)\n",
    "print(f'Dataframe df_enem2018 criado com sucesso - {datetime.now()}.')\n",
    "print('')\n",
    "\n",
    "print('')\n",
    "print(f'Criação Dataframe do Enem 2019 iniciada - {datetime.now()}.')\n",
    "df_enem2019 = df_enem2019_completo.select(columns)\n",
    "print(f'Dataframe df_enem2019 criado com sucesso - {datetime.now()}.')\n",
    "print('')\n"
   ]
  },
  {
   "cell_type": "code",
   "execution_count": 16,
   "metadata": {
    "tags": []
   },
   "outputs": [
    {
     "output_type": "stream",
     "name": "stdout",
     "text": "Criação Dataframe do df_enem iniciada - 2020-08-25 08:55:58.235945.\nDataframe df_enem criado com sucesso - 2020-08-25 08:55:58.300771.\n"
    }
   ],
   "source": [
    "# Criação de um dataframe uníco, com a união de todos os dataframes criados. \n",
    "\n",
    "print(f'Criação Dataframe do df_enem iniciada - {datetime.now()}.')\n",
    "\n",
    "df_enem = df_enem2015.unionAll(df_enem2016).unionAll(df_enem2017).unionAll(df_enem2018).unionAll(df_enem2019)\n",
    "\n",
    "print(f'Dataframe df_enem criado com sucesso - {datetime.now()}.')"
   ]
  },
  {
   "cell_type": "code",
   "execution_count": 17,
   "metadata": {
    "tags": []
   },
   "outputs": [
    {
     "output_type": "stream",
     "name": "stdout",
     "text": "Quantdade de Registros Dataframe df_enem - 2020-08-25 08:55:58.315732.\n"
    },
    {
     "output_type": "execute_result",
     "data": {
      "text/plain": "33714152"
     },
     "metadata": {},
     "execution_count": 17
    }
   ],
   "source": [
    "# Total de linhas do dataframe df_enem\n",
    "\n",
    "print(f'Quantdade de Registros Dataframe df_enem - {datetime.now()}.')\n",
    "\n",
    "df_enem.count()"
   ]
  },
  {
   "cell_type": "code",
   "execution_count": 18,
   "metadata": {
    "tags": []
   },
   "outputs": [
    {
     "output_type": "stream",
     "name": "stdout",
     "text": "Apresentação das colunas do dataframe df_enem - 2020-08-25 08:57:15.427365.\n"
    },
    {
     "output_type": "execute_result",
     "data": {
      "text/plain": "['NU_INSCRICAO',\n 'NU_ANO',\n 'NO_MUNICIPIO_RESIDENCIA',\n 'CO_UF_RESIDENCIA',\n 'SG_UF_RESIDENCIA',\n 'NU_IDADE',\n 'TP_SEXO',\n 'TP_ESTADO_CIVIL',\n 'TP_COR_RACA',\n 'TP_NACIONALIDADE',\n 'NO_MUNICIPIO_NASCIMENTO',\n 'CO_UF_NASCIMENTO',\n 'SG_UF_NASCIMENTO',\n 'TP_ST_CONCLUSAO',\n 'TP_ESCOLA',\n 'TP_ENSINO',\n 'IN_TREINEIRO',\n 'CO_UF_ESC',\n 'SG_UF_ESC',\n 'TP_DEPENDENCIA_ADM_ESC',\n 'TP_LOCALIZACAO_ESC',\n 'IN_BAIXA_VISAO',\n 'IN_CEGUEIRA',\n 'IN_SURDEZ',\n 'IN_DEFICIENCIA_AUDITIVA',\n 'IN_SURDO_CEGUEIRA',\n 'IN_DEFICIENCIA_FISICA',\n 'IN_DEFICIENCIA_MENTAL',\n 'IN_DEFICIT_ATENCAO',\n 'IN_DISLEXIA',\n 'IN_DISCALCULIA',\n 'IN_AUTISMO',\n 'IN_VISAO_MONOCULAR',\n 'IN_OUTRA_DEF',\n 'IN_GESTANTE',\n 'IN_LACTANTE',\n 'IN_IDOSO',\n 'IN_ESTUDA_CLASSE_HOSPITALAR',\n 'IN_SEM_RECURSO',\n 'IN_BRAILLE',\n 'IN_AMPLIADA_24',\n 'IN_AMPLIADA_18',\n 'IN_LEDOR',\n 'IN_ACESSO',\n 'IN_TRANSCRICAO',\n 'IN_LIBRAS',\n 'IN_LEITURA_LABIAL',\n 'IN_MESA_CADEIRA_RODAS',\n 'IN_MESA_CADEIRA_SEPARADA',\n 'IN_APOIO_PERNA',\n 'IN_GUIA_INTERPRETE',\n 'IN_COMPUTADOR',\n 'IN_CADEIRA_ESPECIAL',\n 'IN_CADEIRA_CANHOTO',\n 'IN_CADEIRA_ACOLCHOADA',\n 'IN_PROVA_DEITADO',\n 'IN_MOBILIARIO_OBESO',\n 'IN_LAMINA_OVERLAY',\n 'IN_PROTETOR_AURICULAR',\n 'IN_MEDIDOR_GLICOSE',\n 'IN_MAQUINA_BRAILE',\n 'IN_SOROBAN',\n 'IN_MARCA_PASSO',\n 'IN_SONDA',\n 'IN_MEDICAMENTOS',\n 'IN_SALA_INDIVIDUAL',\n 'IN_SALA_ESPECIAL',\n 'IN_SALA_ACOMPANHANTE',\n 'IN_MOBILIARIO_ESPECIFICO',\n 'IN_NOME_SOCIAL',\n 'NO_MUNICIPIO_PROVA',\n 'CO_UF_PROVA',\n 'SG_UF_PROVA',\n 'TP_PRESENCA_CN',\n 'TP_PRESENCA_CH',\n 'TP_PRESENCA_LC',\n 'TP_PRESENCA_MT',\n 'NU_NOTA_CN',\n 'NU_NOTA_CH',\n 'NU_NOTA_LC',\n 'NU_NOTA_MT',\n 'TP_LINGUA',\n 'TP_STATUS_REDACAO',\n 'NU_NOTA_COMP1',\n 'NU_NOTA_COMP2',\n 'NU_NOTA_COMP3',\n 'NU_NOTA_COMP4',\n 'NU_NOTA_COMP5',\n 'NU_NOTA_REDACAO',\n 'Q001',\n 'Q002',\n 'Q005',\n 'Q006',\n 'Q022',\n 'Q024',\n 'Q025']"
     },
     "metadata": {},
     "execution_count": 18
    }
   ],
   "source": [
    "# Apresentação das colunas do dataframe df_enem.\n",
    "\n",
    "print(f'Apresentação das colunas do dataframe df_enem - {datetime.now()}.')\n",
    "\n",
    "df_enem.columns[:]"
   ]
  },
  {
   "cell_type": "code",
   "execution_count": 19,
   "metadata": {
    "tags": []
   },
   "outputs": [
    {
     "output_type": "stream",
     "name": "stdout",
     "text": "Apresentação da estutura do dataframe df_enem - 2020-08-25 08:57:15.460276.\nroot\n |-- NU_INSCRICAO: long (nullable = true)\n |-- NU_ANO: integer (nullable = true)\n |-- NO_MUNICIPIO_RESIDENCIA: string (nullable = true)\n |-- CO_UF_RESIDENCIA: integer (nullable = true)\n |-- SG_UF_RESIDENCIA: string (nullable = true)\n |-- NU_IDADE: integer (nullable = true)\n |-- TP_SEXO: string (nullable = true)\n |-- TP_ESTADO_CIVIL: integer (nullable = true)\n |-- TP_COR_RACA: integer (nullable = true)\n |-- TP_NACIONALIDADE: integer (nullable = true)\n |-- NO_MUNICIPIO_NASCIMENTO: string (nullable = true)\n |-- CO_UF_NASCIMENTO: integer (nullable = true)\n |-- SG_UF_NASCIMENTO: string (nullable = true)\n |-- TP_ST_CONCLUSAO: integer (nullable = true)\n |-- TP_ESCOLA: integer (nullable = true)\n |-- TP_ENSINO: integer (nullable = true)\n |-- IN_TREINEIRO: integer (nullable = true)\n |-- CO_UF_ESC: integer (nullable = true)\n |-- SG_UF_ESC: string (nullable = true)\n |-- TP_DEPENDENCIA_ADM_ESC: integer (nullable = true)\n |-- TP_LOCALIZACAO_ESC: integer (nullable = true)\n |-- IN_BAIXA_VISAO: integer (nullable = true)\n |-- IN_CEGUEIRA: integer (nullable = true)\n |-- IN_SURDEZ: integer (nullable = true)\n |-- IN_DEFICIENCIA_AUDITIVA: integer (nullable = true)\n |-- IN_SURDO_CEGUEIRA: integer (nullable = true)\n |-- IN_DEFICIENCIA_FISICA: integer (nullable = true)\n |-- IN_DEFICIENCIA_MENTAL: integer (nullable = true)\n |-- IN_DEFICIT_ATENCAO: integer (nullable = true)\n |-- IN_DISLEXIA: integer (nullable = true)\n |-- IN_DISCALCULIA: integer (nullable = true)\n |-- IN_AUTISMO: integer (nullable = true)\n |-- IN_VISAO_MONOCULAR: integer (nullable = true)\n |-- IN_OUTRA_DEF: integer (nullable = true)\n |-- IN_GESTANTE: integer (nullable = true)\n |-- IN_LACTANTE: integer (nullable = true)\n |-- IN_IDOSO: integer (nullable = true)\n |-- IN_ESTUDA_CLASSE_HOSPITALAR: integer (nullable = true)\n |-- IN_SEM_RECURSO: integer (nullable = true)\n |-- IN_BRAILLE: integer (nullable = true)\n |-- IN_AMPLIADA_24: integer (nullable = true)\n |-- IN_AMPLIADA_18: integer (nullable = true)\n |-- IN_LEDOR: integer (nullable = true)\n |-- IN_ACESSO: integer (nullable = true)\n |-- IN_TRANSCRICAO: integer (nullable = true)\n |-- IN_LIBRAS: integer (nullable = true)\n |-- IN_LEITURA_LABIAL: integer (nullable = true)\n |-- IN_MESA_CADEIRA_RODAS: integer (nullable = true)\n |-- IN_MESA_CADEIRA_SEPARADA: integer (nullable = true)\n |-- IN_APOIO_PERNA: integer (nullable = true)\n |-- IN_GUIA_INTERPRETE: integer (nullable = true)\n |-- IN_COMPUTADOR: integer (nullable = true)\n |-- IN_CADEIRA_ESPECIAL: integer (nullable = true)\n |-- IN_CADEIRA_CANHOTO: integer (nullable = true)\n |-- IN_CADEIRA_ACOLCHOADA: integer (nullable = true)\n |-- IN_PROVA_DEITADO: integer (nullable = true)\n |-- IN_MOBILIARIO_OBESO: integer (nullable = true)\n |-- IN_LAMINA_OVERLAY: integer (nullable = true)\n |-- IN_PROTETOR_AURICULAR: integer (nullable = true)\n |-- IN_MEDIDOR_GLICOSE: integer (nullable = true)\n |-- IN_MAQUINA_BRAILE: integer (nullable = true)\n |-- IN_SOROBAN: integer (nullable = true)\n |-- IN_MARCA_PASSO: integer (nullable = true)\n |-- IN_SONDA: integer (nullable = true)\n |-- IN_MEDICAMENTOS: integer (nullable = true)\n |-- IN_SALA_INDIVIDUAL: integer (nullable = true)\n |-- IN_SALA_ESPECIAL: integer (nullable = true)\n |-- IN_SALA_ACOMPANHANTE: integer (nullable = true)\n |-- IN_MOBILIARIO_ESPECIFICO: integer (nullable = true)\n |-- IN_NOME_SOCIAL: integer (nullable = true)\n |-- NO_MUNICIPIO_PROVA: string (nullable = true)\n |-- CO_UF_PROVA: integer (nullable = true)\n |-- SG_UF_PROVA: string (nullable = true)\n |-- TP_PRESENCA_CN: integer (nullable = true)\n |-- TP_PRESENCA_CH: integer (nullable = true)\n |-- TP_PRESENCA_LC: integer (nullable = true)\n |-- TP_PRESENCA_MT: integer (nullable = true)\n |-- NU_NOTA_CN: double (nullable = true)\n |-- NU_NOTA_CH: double (nullable = true)\n |-- NU_NOTA_LC: double (nullable = true)\n |-- NU_NOTA_MT: double (nullable = true)\n |-- TP_LINGUA: integer (nullable = true)\n |-- TP_STATUS_REDACAO: integer (nullable = true)\n |-- NU_NOTA_COMP1: integer (nullable = true)\n |-- NU_NOTA_COMP2: integer (nullable = true)\n |-- NU_NOTA_COMP3: integer (nullable = true)\n |-- NU_NOTA_COMP4: integer (nullable = true)\n |-- NU_NOTA_COMP5: integer (nullable = true)\n |-- NU_NOTA_REDACAO: integer (nullable = true)\n |-- Q001: string (nullable = true)\n |-- Q002: string (nullable = true)\n |-- Q005: integer (nullable = true)\n |-- Q006: string (nullable = true)\n |-- Q022: string (nullable = true)\n |-- Q024: string (nullable = true)\n |-- Q025: string (nullable = true)\n\n"
    }
   ],
   "source": [
    "# Apresentação da estutura do dataframe df_enem\n",
    "\n",
    "print(f'Apresentação da estutura do dataframe df_enem - {datetime.now()}.')\n",
    "\n",
    "df_enem.printSchema()"
   ]
  },
  {
   "cell_type": "code",
   "execution_count": 20,
   "metadata": {
    "tags": []
   },
   "outputs": [
    {
     "output_type": "stream",
     "name": "stdout",
     "text": "Descrição DataFrame df_enem (Dataframe com os anos 2015, 2016, 2017, 2018 e 2019) - 2020-08-25 08:57:15.478228.\n\nDescrição Idade\n+-------+------------------+\n|summary|          NU_IDADE|\n+-------+------------------+\n|  count|          33713777|\n|   mean|22.759218345663257|\n| stddev| 7.788652341876025|\n|    min|                 1|\n|    max|                98|\n+-------+------------------+\n\n2020-08-25 08:58:28.514349.\n\nDescrição Nota da prova de Ciências da Natureza\n+-------+-----------------+\n|summary|       NU_NOTA_CN|\n+-------+-----------------+\n|  count|         23807309|\n|   mean|486.8124319678461|\n| stddev|74.22313690738514|\n|    min|              0.0|\n|    max|            885.6|\n+-------+-----------------+\n\n2020-08-25 08:59:39.464991.\n\nDescrição Nota da prova de Ciências Humanas\n+-------+-----------------+\n|summary|       NU_NOTA_CH|\n+-------+-----------------+\n|  count|         24527054|\n|   mean|538.4331498189712|\n| stddev|80.97454950674937|\n|    min|              0.0|\n|    max|            868.3|\n+-------+-----------------+\n\n2020-08-25 09:00:49.950126.\n\nDescrição Nota da prova de Linguagens e Códigos\n+-------+-----------------+\n|summary|       NU_NOTA_LC|\n+-------+-----------------+\n|  count|         24243348|\n|   mean|516.1323208576638|\n| stddev| 69.8972338325045|\n|    min|              0.0|\n|    max|            825.8|\n+-------+-----------------+\n\n2020-08-25 09:02:01.248633.\n\nDescrição Nota da prova de Matemática\n+-------+------------------+\n|summary|        NU_NOTA_MT|\n+-------+------------------+\n|  count|          23523603|\n|   mean| 502.9313042946695|\n| stddev|108.38833974499668|\n|    min|               0.0|\n|    max|            1008.3|\n+-------+------------------+\n\n2020-08-25 09:03:13.988575.\n\nDescrição Nota da prova de redação\n+-------+------------------+\n|summary|   NU_NOTA_REDACAO|\n+-------+------------------+\n|  count|          26362543|\n|   mean| 489.8440378456661|\n| stddev|218.83999113614607|\n|    min|                 0|\n|    max|              1000|\n+-------+------------------+\n\n2020-08-25 09:04:26.153341.\n"
    }
   ],
   "source": [
    "# Descrição Dataframe df_enem.\n",
    "\n",
    "print(f'Descrição DataFrame df_enem (Dataframe com os anos 2015, 2016, 2017, 2018 e 2019) - {datetime.now()}.')\n",
    "print('')\n",
    "\n",
    "print('Descrição Idade')\n",
    "df_enem.describe('NU_IDADE').show()\n",
    "print(f'{datetime.now()}.')\n",
    "print('')\n",
    "\n",
    "print('Descrição Nota da prova de Ciências da Natureza')\n",
    "df_enem.describe('NU_NOTA_CN').show()\n",
    "print(f'{datetime.now()}.')\n",
    "print('')\n",
    "\n",
    "print('Descrição Nota da prova de Ciências Humanas')\n",
    "df_enem.describe('NU_NOTA_CH').show()\n",
    "print(f'{datetime.now()}.')\n",
    "print('')\n",
    "\n",
    "print('Descrição Nota da prova de Linguagens e Códigos')\n",
    "df_enem.describe('NU_NOTA_LC').show()\n",
    "print(f'{datetime.now()}.')\n",
    "print('')\n",
    "\n",
    "print('Descrição Nota da prova de Matemática')\n",
    "df_enem.describe('NU_NOTA_MT').show()\n",
    "print(f'{datetime.now()}.')\n",
    "print('')\n",
    "\n",
    "print('Descrição Nota da prova de redação')\n",
    "df_enem.describe('NU_NOTA_REDACAO').show()\n",
    "print(f'{datetime.now()}.')"
   ]
  },
  {
   "cell_type": "code",
   "execution_count": 21,
   "metadata": {
    "tags": []
   },
   "outputs": [
    {
     "output_type": "stream",
     "name": "stdout",
     "text": "Apresentação do processo de criação de uma tabela temporária para utilização do SQL - 2020-08-25 09:04:26.178277.\n+------------+\n|NU_INSCRICAO|\n+------------+\n|150000000376|\n|150000003053|\n|150000001161|\n|150000001335|\n|150000001219|\n|150000002884|\n|150000002510|\n|150000000658|\n|150000000434|\n|150000000216|\n|150000000274|\n|150000000217|\n|150000000164|\n|150000000165|\n|150000000218|\n|150000000166|\n|150000000219|\n|150000000275|\n|150000000220|\n|150000000167|\n+------------+\nonly showing top 20 rows\n\n2020-08-25 09:04:26.863459.\n"
    }
   ],
   "source": [
    "# Criar tabela temporaria e usar sql para consulta\n",
    "\n",
    "print(f'Apresentação do processo de criação de uma tabela temporária para utilização do SQL - {datetime.now()}.')\n",
    "\n",
    "df_enem.createOrReplaceTempView('enemtb')\n",
    "teste = sqlContext.sql('SELECT NU_INSCRICAO FROM enemtb').show()\n",
    "\n",
    "print(f'{datetime.now()}.')"
   ]
  },
  {
   "cell_type": "code",
   "execution_count": 263,
   "metadata": {
    "tags": []
   },
   "outputs": [
    {
     "output_type": "stream",
     "name": "stdout",
     "text": "Criação da coluna SEXO - 2020-08-25 18:26:32.053602.\nCriação da coluna com sucesso - 2020-08-25 18:26:32.083523.\n"
    }
   ],
   "source": [
    "# Criação das colunas de classificação do dataframe df_enem_analise. \n",
    "\n",
    "print(f'Criação da coluna SEXO - {datetime.now()}.')\n",
    "\n",
    "df_enem_sexo = df_enem.withColumn('SEXO', expr(\"case when TP_SEXO = 'M' then 'Masculino' \" + \"when TP_SEXO = 'F' then 'Feminino' \" + \"else '' end\"))\n",
    "\n",
    "print(f'Criação da coluna com sucesso - {datetime.now()}.')"
   ]
  },
  {
   "cell_type": "code",
   "execution_count": 264,
   "metadata": {
    "tags": []
   },
   "outputs": [
    {
     "output_type": "stream",
     "name": "stdout",
     "text": "Criação da coluna ESTADO_CIVIL - 2020-08-25 18:26:34.307668.\nCriação da coluna com sucesso - 2020-08-25 18:26:34.333598.\n"
    }
   ],
   "source": [
    "print(f'Criação da coluna ESTADO_CIVIL - {datetime.now()}.')\n",
    "\n",
    "df_enem_estado_civil = df_enem_sexo.withColumn('ESTADO_CIVIL', expr(\"case when TP_ESTADO_CIVIL = 0 then 'Solteiro' \" + \"when TP_ESTADO_CIVIL = 1 then 'Casado(a)/Mora com companheiro(a)' \" + \"when TP_ESTADO_CIVIL = 2 then 'Divorciado(a)/Desquitado(a)/Separado(a)' \" + \"when TP_ESTADO_CIVIL = 3 then 'Viúvo(a)' \" + \"else '' end\"))\n",
    "\n",
    "print(f'Criação da coluna com sucesso - {datetime.now()}.')"
   ]
  },
  {
   "cell_type": "code",
   "execution_count": 265,
   "metadata": {
    "tags": []
   },
   "outputs": [
    {
     "output_type": "stream",
     "name": "stdout",
     "text": "Criação da coluna RACA - 2020-08-25 18:26:36.531538.\nCriação da coluna com sucesso - 2020-08-25 18:26:36.565447.\n"
    }
   ],
   "source": [
    "print(f'Criação da coluna RACA - {datetime.now()}.')\n",
    "\n",
    "df_enem_raca = df_enem_estado_civil.withColumn('RACA', expr(\"case when TP_COR_RACA = 0 then 'Não declarado' \" + \"when TP_COR_RACA = 1 then 'Branca' \" + \"when TP_COR_RACA = 2 then 'Preta' \" + \"when TP_COR_RACA = 3 then 'Parda' \" + \"when TP_COR_RACA = 4 then 'Amarela' \" + \"when TP_COR_RACA = 5 then 'Indígena ' \" + \"else '' end\"))\n",
    "\n",
    "print(f'Criação da coluna com sucesso - {datetime.now()}.')"
   ]
  },
  {
   "cell_type": "code",
   "execution_count": 266,
   "metadata": {
    "tags": []
   },
   "outputs": [
    {
     "output_type": "stream",
     "name": "stdout",
     "text": "Criação da coluna NACIONALIDADE - 2020-08-25 18:26:40.637046.\nCriação da coluna com sucesso - 2020-08-25 18:26:40.668973.\n"
    }
   ],
   "source": [
    "print(f'Criação da coluna NACIONALIDADE - {datetime.now()}.')\n",
    "\n",
    "df_enem_nacionalidade = df_enem_raca.withColumn('NACIONALIDADE', expr(\"case when TP_NACIONALIDADE = 0 then 'Não informado' \" + \"when TP_NACIONALIDADE = 1 then 'Brasileiro(a)' \" + \"when TP_NACIONALIDADE = 2 then 'Brasileiro(a) Naturalizado(a)' \" + \"when TP_NACIONALIDADE = 3 then 'Estrangeiro(a)' \" + \"when TP_NACIONALIDADE = 4 then 'Brasileiro(a) Nato(a), nascido(a) no exterior' \" + \"else '' end\"))\n",
    "\n",
    "print(f'Criação da coluna com sucesso - {datetime.now()}.')"
   ]
  },
  {
   "cell_type": "code",
   "execution_count": 267,
   "metadata": {
    "tags": []
   },
   "outputs": [
    {
     "output_type": "stream",
     "name": "stdout",
     "text": "Criação da coluna SITUACAO_CONCLUSAO_ENSINO_MEDIO - 2020-08-25 18:26:43.389158.\nCriação da coluna com sucesso - 2020-08-25 18:26:43.424076.\n"
    }
   ],
   "source": [
    "print(f'Criação da coluna SITUACAO_CONCLUSAO_ENSINO_MEDIO - {datetime.now()}.')\n",
    "\n",
    "df_enem_st_conclusao = df_enem_nacionalidade.withColumn('SITUACAO_CONCLUSAO_ENSINO_MEDIO', expr(\"case when TP_ST_CONCLUSAO = 1 then 'Já concluí o Ensino Médio' \" + \"when TP_ST_CONCLUSAO = 2 then 'Estou cursando e concluirei o Ensino Médio no ano' \" + \"when TP_ST_CONCLUSAO = 3 then 'Estou cursando e concluirei o Ensino Médio após este ano' \" + \"when TP_ST_CONCLUSAO = 4 then 'Não concluí e não estou cursando o Ensino Médio' \" + \"else '' end\"))\n",
    "\n",
    "print(f'Criação da coluna com sucesso - {datetime.now()}.')"
   ]
  },
  {
   "cell_type": "code",
   "execution_count": 268,
   "metadata": {
    "tags": []
   },
   "outputs": [
    {
     "output_type": "stream",
     "name": "stdout",
     "text": "Criação da coluna TIPO_ESCOLA - 2020-08-25 18:26:45.828639.\nCriação da coluna com sucesso - 2020-08-25 18:26:45.862581.\n"
    }
   ],
   "source": [
    "print(f'Criação da coluna TIPO_ESCOLA - {datetime.now()}.')\n",
    "\n",
    "df_enem_tp_escola = df_enem_st_conclusao.withColumn('TIPO_ESCOLA', expr(\"case when TP_ESCOLA = 1 then 'Não Respondeu' \" + \"when TP_ESCOLA = 2 then 'Pública' \" + \"when TP_ESCOLA = 3 then 'Privada' \" + \"when TP_ESCOLA = 4 then 'Exterior' \" + \"else '' end\"))\n",
    "\n",
    "print(f'Criação da coluna com sucesso - {datetime.now()}.')"
   ]
  },
  {
   "cell_type": "code",
   "execution_count": 269,
   "metadata": {
    "tags": []
   },
   "outputs": [
    {
     "output_type": "stream",
     "name": "stdout",
     "text": "Criação da coluna TIPO_ENSINO - 2020-08-25 18:26:47.708493.\nCriação da coluna com sucesso - 2020-08-25 18:26:47.739413.\n"
    }
   ],
   "source": [
    "print(f'Criação da coluna TIPO_ENSINO - {datetime.now()}.')\n",
    "\n",
    "df_enem_tp_ensino = df_enem_tp_escola.withColumn('TIPO_ENSINO', expr(\"case when TP_ENSINO = 1 then 'Ensino Regular' \" + \"when TP_ENSINO = 2 then 'Educação Especial - Modalidade Substitutiva' \" + \"when TP_ENSINO = 3 then 'Educação de Jovens e Adultos' \" + \"else '' end\"))\n",
    "\n",
    "print(f'Criação da coluna com sucesso - {datetime.now()}.')"
   ]
  },
  {
   "cell_type": "code",
   "execution_count": 270,
   "metadata": {
    "tags": []
   },
   "outputs": [
    {
     "output_type": "stream",
     "name": "stdout",
     "text": "Criação da coluna TREINEIRO - 2020-08-25 18:26:50.556604.\nCriação da coluna com sucesso - 2020-08-25 18:26:50.589514.\n"
    }
   ],
   "source": [
    "print(f'Criação da coluna TREINEIRO - {datetime.now()}.')\n",
    "\n",
    "df_enem_in_treineiro = df_enem_tp_ensino.withColumn('TREINEIRO', expr(\"case when IN_TREINEIRO = 0 then 'Não' \" + \"when IN_TREINEIRO = 1 then 'Sim' \" + \"else '' end\"))\n",
    "\n",
    "print(f'Criação da coluna com sucesso - {datetime.now()}.')"
   ]
  },
  {
   "cell_type": "code",
   "execution_count": 271,
   "metadata": {
    "tags": []
   },
   "outputs": [
    {
     "output_type": "stream",
     "name": "stdout",
     "text": "Criação da coluna DEPENDENCIA_ADMINISTRATIVA_ESCOLA - 2020-08-25 18:26:52.549496.\nCriação da coluna com sucesso - 2020-08-25 18:26:52.582410.\n"
    }
   ],
   "source": [
    "print(f'Criação da coluna DEPENDENCIA_ADMINISTRATIVA_ESCOLA - {datetime.now()}.')\n",
    "\n",
    "df_enem_tp_dependencia_adm_esc = df_enem_in_treineiro.withColumn('DEPENDENCIA_ADMINISTRATIVA_ESCOLA', expr(\"case when TP_DEPENDENCIA_ADM_ESC = 1 then 'Federal' \" + \"when TP_DEPENDENCIA_ADM_ESC = 2 then 'Estadual' \" + \"when TP_DEPENDENCIA_ADM_ESC = 3 then 'Municipal' \" + \"when TP_DEPENDENCIA_ADM_ESC = 4 then 'Privada' \" + \"else '' end\"))\n",
    "\n",
    "print(f'Criação da coluna com sucesso - {datetime.now()}.')"
   ]
  },
  {
   "cell_type": "code",
   "execution_count": 272,
   "metadata": {
    "tags": []
   },
   "outputs": [
    {
     "output_type": "stream",
     "name": "stdout",
     "text": "Criação da coluna LOCALIZACAO_ESCOLA - 2020-08-25 18:26:54.470470.\nCriação da coluna com sucesso - 2020-08-25 18:26:54.502383.\n"
    }
   ],
   "source": [
    "print(f'Criação da coluna LOCALIZACAO_ESCOLA - {datetime.now()}.')\n",
    "\n",
    "df_enem_tp_localizacao_esc = df_enem_tp_dependencia_adm_esc.withColumn('LOCALIZACAO_ESCOLA', expr(\"case when TP_LOCALIZACAO_ESC = 1 then 'Urbana' \" + \"when TP_LOCALIZACAO_ESC = 2 then 'Rural' \" + \"else '' end\"))\n",
    "\n",
    "print(f'Criação da coluna com sucesso - {datetime.now()}.')"
   ]
  },
  {
   "cell_type": "code",
   "execution_count": 273,
   "metadata": {
    "tags": []
   },
   "outputs": [
    {
     "output_type": "stream",
     "name": "stdout",
     "text": "Criação da coluna BAIXA_VISAO - 2020-08-25 18:26:56.801801.\nCriação da coluna com sucesso - 2020-08-25 18:26:56.855665.\n"
    }
   ],
   "source": [
    "print(f'Criação da coluna BAIXA_VISAO - {datetime.now()}.')\n",
    "\n",
    "df_enem_in_baixa_visao = df_enem_tp_localizacao_esc.withColumn('BAIXA_VISAO', expr(\"case when IN_BAIXA_VISAO = 0 then 'Não' \" + \"when IN_BAIXA_VISAO = 1 then 'Sim' \" + \"else '' end\"))\n",
    "\n",
    "print(f'Criação da coluna com sucesso - {datetime.now()}.')"
   ]
  },
  {
   "cell_type": "code",
   "execution_count": 274,
   "metadata": {
    "tags": []
   },
   "outputs": [
    {
     "output_type": "stream",
     "name": "stdout",
     "text": "Criação da coluna CEGUEIRA - 2020-08-25 18:27:02.951476.\nCriação da coluna com sucesso - 2020-08-25 18:27:02.973451.\n"
    }
   ],
   "source": [
    "print(f'Criação da coluna CEGUEIRA - {datetime.now()}.')\n",
    "\n",
    "df_enem_in_cegueira = df_enem_in_baixa_visao.withColumn('CEGUEIRA', expr(\"case when IN_CEGUEIRA = 0 then 'Não' \" + \"when IN_CEGUEIRA = 1 then 'Sim' \" + \"else '' end\"))\n",
    "\n",
    "print(f'Criação da coluna com sucesso - {datetime.now()}.')\n"
   ]
  },
  {
   "cell_type": "code",
   "execution_count": 275,
   "metadata": {
    "tags": []
   },
   "outputs": [
    {
     "output_type": "stream",
     "name": "stdout",
     "text": "Criação da coluna SURDEZ - 2020-08-25 18:27:05.088010.\nCriação da coluna com sucesso - 2020-08-25 18:27:05.107956.\n"
    }
   ],
   "source": [
    "print(f'Criação da coluna SURDEZ - {datetime.now()}.')\n",
    "\n",
    "df_enem_in_surdez = df_enem_in_cegueira.withColumn('SURDEZ', expr(\"case when IN_SURDEZ = 0 then 'Não' \" + \"when IN_SURDEZ = 1 then 'Sim' \" + \"else '' end\"))\n",
    "\n",
    "print(f'Criação da coluna com sucesso - {datetime.now()}.')"
   ]
  },
  {
   "cell_type": "code",
   "execution_count": 276,
   "metadata": {
    "tags": []
   },
   "outputs": [
    {
     "output_type": "stream",
     "name": "stdout",
     "text": "Criação da coluna DEFICIENCIA_AUDITIVA - 2020-08-25 18:27:07.682088.\nCriação da coluna com sucesso - 2020-08-25 18:27:07.704029.\n"
    }
   ],
   "source": [
    "print(f'Criação da coluna DEFICIENCIA_AUDITIVA - {datetime.now()}.')\n",
    "\n",
    "df_enem_in_deficiencia_auditiva = df_enem_in_surdez.withColumn('DEFICIENCIA_AUDITIVA', expr(\"case when IN_DEFICIENCIA_AUDITIVA = 0 then 'Não' \" + \"when IN_DEFICIENCIA_AUDITIVA = 1 then 'Sim' \" + \"else '' end\"))\n",
    "\n",
    "print(f'Criação da coluna com sucesso - {datetime.now()}.')"
   ]
  },
  {
   "cell_type": "code",
   "execution_count": 277,
   "metadata": {
    "tags": []
   },
   "outputs": [
    {
     "output_type": "stream",
     "name": "stdout",
     "text": "Criação da coluna SURDO_CEGUEIRA - 2020-08-25 18:27:09.604073.\nCriação da coluna com sucesso - 2020-08-25 18:27:09.624022.\n"
    }
   ],
   "source": [
    "print(f'Criação da coluna SURDO_CEGUEIRA - {datetime.now()}.')\n",
    "\n",
    "df_enem_in_surdo_cegueira = df_enem_in_deficiencia_auditiva.withColumn('SURDO_CEGUEIRA', expr(\"case when IN_SURDO_CEGUEIRA = 0 then 'Não' \" + \"when IN_SURDO_CEGUEIRA = 1 then 'Sim' \" + \"else '' end\"))\n",
    "\n",
    "print(f'Criação da coluna com sucesso - {datetime.now()}.')"
   ]
  },
  {
   "cell_type": "code",
   "execution_count": 278,
   "metadata": {
    "tags": []
   },
   "outputs": [
    {
     "output_type": "stream",
     "name": "stdout",
     "text": "Criação da coluna DEFICIENCIA_FISICA - 2020-08-25 18:27:11.583640.\nCriação da coluna com sucesso - 2020-08-25 18:27:11.609572.\n"
    }
   ],
   "source": [
    "print(f'Criação da coluna DEFICIENCIA_FISICA - {datetime.now()}.')\n",
    "\n",
    "df_enem_in_deficiencia_fisica = df_enem_in_surdo_cegueira.withColumn('DEFICIENCIA_FISICA', expr(\"case when IN_DEFICIENCIA_FISICA = 0 then 'Não' \" + \"when IN_DEFICIENCIA_FISICA = 1 then 'Sim' \" + \"else '' end\"))\n",
    "\n",
    "print(f'Criação da coluna com sucesso - {datetime.now()}.')"
   ]
  },
  {
   "cell_type": "code",
   "execution_count": 279,
   "metadata": {
    "tags": []
   },
   "outputs": [
    {
     "output_type": "stream",
     "name": "stdout",
     "text": "Criação da coluna DEFICIENCIA_MENTAL - 2020-08-25 18:27:14.265301.\nCriação da coluna com sucesso - 2020-08-25 18:27:14.288246.\n"
    }
   ],
   "source": [
    "print(f'Criação da coluna DEFICIENCIA_MENTAL - {datetime.now()}.')\n",
    "\n",
    "df_enem_in_deficiencia_mental = df_enem_in_deficiencia_fisica.withColumn('DEFICIENCIA_MENTAL', expr(\"case when IN_DEFICIENCIA_MENTAL = 0 then 'Não' \" + \"when IN_DEFICIENCIA_MENTAL = 1 then 'Sim' \" + \"else '' end\"))\n",
    "\n",
    "print(f'Criação da coluna com sucesso - {datetime.now()}.')"
   ]
  },
  {
   "cell_type": "code",
   "execution_count": 280,
   "metadata": {
    "tags": []
   },
   "outputs": [
    {
     "output_type": "stream",
     "name": "stdout",
     "text": "Criação da coluna DEFICIT_ATENCAO - 2020-08-25 18:27:16.604501.\nCriação da coluna com sucesso - 2020-08-25 18:27:16.631433.\n"
    }
   ],
   "source": [
    "print(f'Criação da coluna DEFICIT_ATENCAO - {datetime.now()}.')\n",
    "\n",
    "df_enem_in_deficit_atencao = df_enem_in_deficiencia_mental.withColumn('DEFICIT_ATENCAO', expr(\"case when IN_DEFICIT_ATENCAO = 0 then 'Não' \" + \"when IN_DEFICIT_ATENCAO = 1 then 'Sim' \" + \"else '' end\"))\n",
    "\n",
    "print(f'Criação da coluna com sucesso - {datetime.now()}.')"
   ]
  },
  {
   "cell_type": "code",
   "execution_count": 281,
   "metadata": {
    "tags": []
   },
   "outputs": [
    {
     "output_type": "stream",
     "name": "stdout",
     "text": "Criação da coluna DISLEXIA - 2020-08-25 18:27:18.498805.\nCriação da coluna com sucesso - 2020-08-25 18:27:18.517755.\n"
    }
   ],
   "source": [
    "print(f'Criação da coluna DISLEXIA - {datetime.now()}.')\n",
    "\n",
    "df_enem_in_dislexia = df_enem_in_deficit_atencao.withColumn('DISLEXIA', expr(\"case when IN_DISLEXIA = 0 then 'Não' \" + \"when IN_DISLEXIA = 1 then 'Sim' \" + \"else '' end\"))\n",
    "\n",
    "print(f'Criação da coluna com sucesso - {datetime.now()}.')"
   ]
  },
  {
   "cell_type": "code",
   "execution_count": 282,
   "metadata": {
    "tags": []
   },
   "outputs": [
    {
     "output_type": "stream",
     "name": "stdout",
     "text": "Criação da coluna DISCALCULIA - 2020-08-25 18:27:20.794479.\nCriação da coluna com sucesso - 2020-08-25 18:27:20.819413.\n"
    }
   ],
   "source": [
    "print(f'Criação da coluna DISCALCULIA - {datetime.now()}.')\n",
    "\n",
    "df_enem_in_discalculia = df_enem_in_dislexia.withColumn('DISCALCULIA', expr(\"case when IN_DISCALCULIA = 0 then 'Não' \" + \"when IN_DISCALCULIA = 1 then 'Sim' \" + \"else '' end\"))\n",
    "\n",
    "print(f'Criação da coluna com sucesso - {datetime.now()}.')"
   ]
  },
  {
   "cell_type": "code",
   "execution_count": 283,
   "metadata": {
    "tags": []
   },
   "outputs": [
    {
     "output_type": "stream",
     "name": "stdout",
     "text": "Criação da coluna AUTISMO - 2020-08-25 18:27:55.543888.\nCriação da coluna com sucesso - 2020-08-25 18:27:55.572813.\n"
    }
   ],
   "source": [
    "print(f'Criação da coluna AUTISMO - {datetime.now()}.')\n",
    "\n",
    "df_enem_in_autismo = df_enem_in_discalculia.withColumn('AUTISMO', expr(\"case when IN_AUTISMO = 0 then 'Não' \" + \"when IN_AUTISMO = 1 then 'Sim' \" + \"else '' end\"))\n",
    "\n",
    "print(f'Criação da coluna com sucesso - {datetime.now()}.')"
   ]
  },
  {
   "cell_type": "code",
   "execution_count": 284,
   "metadata": {
    "tags": []
   },
   "outputs": [
    {
     "output_type": "stream",
     "name": "stdout",
     "text": "Criação da coluna VISAO_MONOCULAR - 2020-08-25 18:27:57.588925.\nCriação da coluna com sucesso - 2020-08-25 18:27:57.611858.\n"
    }
   ],
   "source": [
    "print(f'Criação da coluna VISAO_MONOCULAR - {datetime.now()}.')\n",
    "\n",
    "df_enem_in_visao_monocular = df_enem_in_autismo.withColumn('VISAO_MONOCULAR', expr(\"case when IN_VISAO_MONOCULAR = 0 then 'Não' \" + \"when IN_VISAO_MONOCULAR = 1 then 'Sim' \" + \"else '' end\"))\n",
    "\n",
    "print(f'Criação da coluna com sucesso - {datetime.now()}.')"
   ]
  },
  {
   "cell_type": "code",
   "execution_count": 285,
   "metadata": {
    "tags": []
   },
   "outputs": [
    {
     "output_type": "stream",
     "name": "stdout",
     "text": "Criação da coluna OUTRA_DEF - 2020-08-25 18:28:00.826110.\nCriação da coluna com sucesso - 2020-08-25 18:28:00.849049.\n"
    }
   ],
   "source": [
    "print(f'Criação da coluna OUTRA_DEF - {datetime.now()}.')\n",
    "\n",
    "df_enem_in_outra_def = df_enem_in_visao_monocular.withColumn('OUTRA_DEF', expr(\"case when IN_OUTRA_DEF = 0 then 'Não' \" + \"when IN_OUTRA_DEF = 1 then 'Sim' \" + \"else '' end\"))\n",
    "\n",
    "print(f'Criação da coluna com sucesso - {datetime.now()}.')"
   ]
  },
  {
   "cell_type": "code",
   "execution_count": 287,
   "metadata": {
    "tags": []
   },
   "outputs": [
    {
     "output_type": "stream",
     "name": "stdout",
     "text": "Criação da coluna GESTANTE - 2020-08-25 18:28:04.826643.\nCriação da coluna com sucesso - 2020-08-25 18:28:04.851577.\n"
    }
   ],
   "source": [
    "print(f'Criação da coluna GESTANTE - {datetime.now()}.')\n",
    "\n",
    "df_enem_in_gestante = df_enem_in_outra_def.withColumn('GESTANTE', expr(\"case when IN_GESTANTE = 0 then 'Não' \" + \"when IN_GESTANTE = 1 then 'Sim' \" + \"else '' end\"))\n",
    "\n",
    "print(f'Criação da coluna com sucesso - {datetime.now()}.')"
   ]
  },
  {
   "cell_type": "code",
   "execution_count": 288,
   "metadata": {
    "tags": []
   },
   "outputs": [
    {
     "output_type": "stream",
     "name": "stdout",
     "text": "Criação da coluna LACTANTE - 2020-08-25 18:28:06.763711.\nCriação da coluna com sucesso - 2020-08-25 18:28:06.787649.\n"
    }
   ],
   "source": [
    "print(f'Criação da coluna LACTANTE - {datetime.now()}.')\n",
    "\n",
    "df_enem_in_lactante = df_enem_in_gestante.withColumn('LACTANTE', expr(\"case when IN_LACTANTE = 0 then 'Não' \" + \"when IN_LACTANTE = 1 then 'Sim' \" + \"else '' end\"))\n",
    "\n",
    "print(f'Criação da coluna com sucesso - {datetime.now()}.')"
   ]
  },
  {
   "cell_type": "code",
   "execution_count": 289,
   "metadata": {
    "tags": []
   },
   "outputs": [
    {
     "output_type": "stream",
     "name": "stdout",
     "text": "Criação da coluna IDOSO - 2020-08-25 18:28:11.481658.\nCriação da coluna com sucesso - 2020-08-25 18:28:11.505627.\n"
    }
   ],
   "source": [
    "print(f'Criação da coluna IDOSO - {datetime.now()}.')\n",
    "\n",
    "df_enem_in_idoso = df_enem_in_lactante.withColumn('IDOSO', expr(\"case when IN_IDOSO = 0 then 'Não' \" + \"when IN_IDOSO = 1 then 'Sim' \" + \"else '' end\"))\n",
    "\n",
    "print(f'Criação da coluna com sucesso - {datetime.now()}.')"
   ]
  },
  {
   "cell_type": "code",
   "execution_count": 290,
   "metadata": {
    "tags": []
   },
   "outputs": [
    {
     "output_type": "stream",
     "name": "stdout",
     "text": "Criação da coluna ESTUDA_CLASSE_HOSPITALAR - 2020-08-25 18:28:15.150857.\nCriação da coluna com sucesso - 2020-08-25 18:28:15.179783.\n"
    }
   ],
   "source": [
    "print(f'Criação da coluna ESTUDA_CLASSE_HOSPITALAR - {datetime.now()}.')\n",
    "\n",
    "df_enem_in_estuda_classe_hospitalar = df_enem_in_idoso.withColumn('ESTUDA_CLASSE_HOSPITALAR', expr(\"case when IN_ESTUDA_CLASSE_HOSPITALAR = 0 then 'Não' \" + \"when IN_ESTUDA_CLASSE_HOSPITALAR = 1 then 'Sim' \" + \"else '' end\"))\n",
    "\n",
    "print(f'Criação da coluna com sucesso - {datetime.now()}.')"
   ]
  },
  {
   "cell_type": "code",
   "execution_count": 291,
   "metadata": {
    "tags": []
   },
   "outputs": [
    {
     "output_type": "stream",
     "name": "stdout",
     "text": "Criação da coluna SEM_RECURSO - 2020-08-25 18:28:17.152189.\nCriação da coluna com sucesso - 2020-08-25 18:28:17.176126.\n"
    }
   ],
   "source": [
    "print(f'Criação da coluna SEM_RECURSO - {datetime.now()}.')\n",
    "\n",
    "df_enem_in_sem_recurso = df_enem_in_estuda_classe_hospitalar.withColumn('SEM_RECURSO', expr(\"case when IN_SEM_RECURSO = 0 then 'Não' \" + \"when IN_SEM_RECURSO = 1 then 'Sim' \" + \"else '' end\"))\n",
    "\n",
    "print(f'Criação da coluna com sucesso - {datetime.now()}.')"
   ]
  },
  {
   "cell_type": "code",
   "execution_count": 292,
   "metadata": {
    "tags": []
   },
   "outputs": [
    {
     "output_type": "stream",
     "name": "stdout",
     "text": "Criação da coluna BRAILLE - 2020-08-25 18:28:19.517016.\nCriação da coluna com sucesso - 2020-08-25 18:28:19.542948.\n"
    }
   ],
   "source": [
    "print(f'Criação da coluna BRAILLE - {datetime.now()}.')\n",
    "\n",
    "df_enem_in_braille = df_enem_in_sem_recurso.withColumn('BRAILLE', expr(\"case when IN_BRAILLE = 0 then 'Não' \" + \"when IN_BRAILLE = 1 then 'Sim' \" + \"else '' end\"))\n",
    "\n",
    "print(f'Criação da coluna com sucesso - {datetime.now()}.')"
   ]
  },
  {
   "cell_type": "code",
   "execution_count": 293,
   "metadata": {
    "tags": []
   },
   "outputs": [
    {
     "output_type": "stream",
     "name": "stdout",
     "text": "Criação da coluna AMPLIADA_24 - 2020-08-25 18:28:21.972500.\nCriação da coluna com sucesso - 2020-08-25 18:28:21.996471.\n"
    }
   ],
   "source": [
    "print(f'Criação da coluna AMPLIADA_24 - {datetime.now()}.')\n",
    "\n",
    "df_enem_in_ampliada_24 = df_enem_in_braille.withColumn('AMPLIADA_24', expr(\"case when IN_AMPLIADA_24 = 0 then 'Não' \" + \"when IN_AMPLIADA_24 = 1 then 'Sim' \" + \"else '' end\"))\n",
    "\n",
    "print(f'Criação da coluna com sucesso - {datetime.now()}.')"
   ]
  },
  {
   "cell_type": "code",
   "execution_count": 294,
   "metadata": {
    "tags": []
   },
   "outputs": [
    {
     "output_type": "stream",
     "name": "stdout",
     "text": "Criação da coluna AMPLIADA_18 - 2020-08-25 18:28:24.558480.\nCriação da coluna com sucesso - 2020-08-25 18:28:24.584409.\n"
    }
   ],
   "source": [
    "print(f'Criação da coluna AMPLIADA_18 - {datetime.now()}.')\n",
    "\n",
    "df_enem_in_ampliada_18 = df_enem_in_ampliada_24.withColumn('AMPLIADA_18', expr(\"case when IN_AMPLIADA_18 = 0 then 'Não' \" + \"when IN_AMPLIADA_18 = 1 then 'Sim' \" + \"else '' end\"))\n",
    "\n",
    "print(f'Criação da coluna com sucesso - {datetime.now()}.')"
   ]
  },
  {
   "cell_type": "code",
   "execution_count": 295,
   "metadata": {
    "tags": []
   },
   "outputs": [
    {
     "output_type": "stream",
     "name": "stdout",
     "text": "Criação da coluna LEDOR - 2020-08-25 18:28:28.260011.\nCriação da coluna com sucesso - 2020-08-25 18:28:28.285943.\n"
    }
   ],
   "source": [
    "print(f'Criação da coluna LEDOR - {datetime.now()}.')\n",
    "\n",
    "df_enem_in_ledor = df_enem_in_ampliada_18.withColumn('LEDOR', expr(\"case when IN_LEDOR = 0 then 'Não' \" + \"when IN_LEDOR = 1 then 'Sim' \" + \"else '' end\"))\n",
    "\n",
    "print(f'Criação da coluna com sucesso - {datetime.now()}.')"
   ]
  },
  {
   "cell_type": "code",
   "execution_count": 296,
   "metadata": {
    "tags": []
   },
   "outputs": [
    {
     "output_type": "stream",
     "name": "stdout",
     "text": "Criação da coluna ACESSO - 2020-08-25 18:28:30.822293.\nCriação da coluna com sucesso - 2020-08-25 18:28:30.851216.\n"
    }
   ],
   "source": [
    "print(f'Criação da coluna ACESSO - {datetime.now()}.')\n",
    "\n",
    "df_enem_in_acesso = df_enem_in_ledor.withColumn('ACESSO', expr(\"case when IN_ACESSO = 0 then 'Não' \" + \"when IN_ACESSO = 1 then 'Sim' \" + \"else '' end\"))\n",
    "\n",
    "print(f'Criação da coluna com sucesso - {datetime.now()}.')"
   ]
  },
  {
   "cell_type": "code",
   "execution_count": 297,
   "metadata": {
    "tags": []
   },
   "outputs": [
    {
     "output_type": "stream",
     "name": "stdout",
     "text": "Criação da coluna TRANSCRICAO - 2020-08-25 18:28:33.127166.\nCriação da coluna com sucesso - 2020-08-25 18:28:33.154094.\n"
    }
   ],
   "source": [
    "print(f'Criação da coluna TRANSCRICAO - {datetime.now()}.')\n",
    "\n",
    "df_enem_in_transcricao = df_enem_in_acesso.withColumn('TRANSCRICAO', expr(\"case when IN_TRANSCRICAO = 0 then 'Não' \" + \"when IN_TRANSCRICAO = 1 then 'Sim' \" + \"else '' end\"))\n",
    "\n",
    "print(f'Criação da coluna com sucesso - {datetime.now()}.')"
   ]
  },
  {
   "cell_type": "code",
   "execution_count": 298,
   "metadata": {
    "tags": []
   },
   "outputs": [
    {
     "output_type": "stream",
     "name": "stdout",
     "text": "Criação da coluna LIBRAS - 2020-08-25 18:28:34.810665.\nCriação da coluna com sucesso - 2020-08-25 18:28:34.838590.\n"
    }
   ],
   "source": [
    "print(f'Criação da coluna LIBRAS - {datetime.now()}.')\n",
    "\n",
    "df_enem_in_libras = df_enem_in_transcricao.withColumn('LIBRAS', expr(\"case when IN_LIBRAS = 0 then 'Não' \" + \"when IN_LIBRAS = 1 then 'Sim' \" + \"else '' end\"))\n",
    "\n",
    "print(f'Criação da coluna com sucesso - {datetime.now()}.')"
   ]
  },
  {
   "cell_type": "code",
   "execution_count": 299,
   "metadata": {
    "tags": []
   },
   "outputs": [
    {
     "output_type": "stream",
     "name": "stdout",
     "text": "Criação da coluna LEITURA_LABIAL - 2020-08-25 18:28:37.234352.\nCriação da coluna com sucesso - 2020-08-25 18:28:37.260285.\n"
    }
   ],
   "source": [
    "print(f'Criação da coluna LEITURA_LABIAL - {datetime.now()}.')\n",
    "\n",
    "df_enem_in_leitura_labial = df_enem_in_libras.withColumn('LEITURA_LABIAL', expr(\"case when IN_LEITURA_LABIAL = 0 then 'Não' \" + \"when IN_LEITURA_LABIAL = 1 then 'Sim' \" + \"else '' end\"))\n",
    "\n",
    "print(f'Criação da coluna com sucesso - {datetime.now()}.')"
   ]
  },
  {
   "cell_type": "code",
   "execution_count": 300,
   "metadata": {
    "tags": []
   },
   "outputs": [
    {
     "output_type": "stream",
     "name": "stdout",
     "text": "Criação da coluna MESA_CADEIRA_RODAS - 2020-08-25 18:28:39.220693.\nCriação da coluna com sucesso - 2020-08-25 18:28:39.250611.\n"
    }
   ],
   "source": [
    "print(f'Criação da coluna MESA_CADEIRA_RODAS - {datetime.now()}.')\n",
    "\n",
    "df_enem_in_mesa_cadeira_rodas = df_enem_in_leitura_labial.withColumn('MESA_CADEIRA_RODAS', expr(\"case when IN_MESA_CADEIRA_RODAS = 0 then 'Não' \" + \"when IN_MESA_CADEIRA_RODAS = 1 then 'Sim' \" + \"else '' end\"))\n",
    "\n",
    "print(f'Criação da coluna com sucesso - {datetime.now()}.')"
   ]
  },
  {
   "cell_type": "code",
   "execution_count": 301,
   "metadata": {
    "tags": []
   },
   "outputs": [
    {
     "output_type": "stream",
     "name": "stdout",
     "text": "Criação da coluna MESA_CADEIRA_SEPARADA - 2020-08-25 18:28:41.092786.\nCriação da coluna com sucesso - 2020-08-25 18:28:41.120762.\n"
    }
   ],
   "source": [
    "print(f'Criação da coluna MESA_CADEIRA_SEPARADA - {datetime.now()}.')\n",
    "\n",
    "df_enem_in_mesa_cadeira_separada = df_enem_in_mesa_cadeira_rodas.withColumn('MESA_CADEIRA_SEPARADA', expr(\"case when IN_MESA_CADEIRA_SEPARADA = 0 then 'Não' \" + \"when IN_MESA_CADEIRA_SEPARADA = 1 then 'Sim' \" + \"else '' end\"))\n",
    "\n",
    "print(f'Criação da coluna com sucesso - {datetime.now()}.')"
   ]
  },
  {
   "cell_type": "code",
   "execution_count": 302,
   "metadata": {
    "tags": []
   },
   "outputs": [
    {
     "output_type": "stream",
     "name": "stdout",
     "text": "Criação da coluna APOIO_PERNA - 2020-08-25 18:28:43.409485.\nCriação da coluna com sucesso - 2020-08-25 18:28:43.436430.\n"
    }
   ],
   "source": [
    "print(f'Criação da coluna APOIO_PERNA - {datetime.now()}.')\n",
    "\n",
    "df_enem_in_apoio_perna = df_enem_in_mesa_cadeira_separada.withColumn('APOIO_PERNA', expr(\"case when IN_APOIO_PERNA = 0 then 'Não' \" + \"when IN_APOIO_PERNA = 1 then 'Sim' \" + \"else '' end\"))\n",
    "\n",
    "print(f'Criação da coluna com sucesso - {datetime.now()}.')"
   ]
  },
  {
   "cell_type": "code",
   "execution_count": 303,
   "metadata": {
    "tags": []
   },
   "outputs": [
    {
     "output_type": "stream",
     "name": "stdout",
     "text": "Criação da coluna GUIA_INTERPRETE - 2020-08-25 18:28:45.374861.\nCriação da coluna com sucesso - 2020-08-25 18:28:45.404783.\n"
    }
   ],
   "source": [
    "print(f'Criação da coluna GUIA_INTERPRETE - {datetime.now()}.')\n",
    "\n",
    "df_enem_in_guia_interprete = df_enem_in_apoio_perna.withColumn('GUIA_INTERPRETE', expr(\"case when IN_GUIA_INTERPRETE = 0 then 'Não' \" + \"when IN_GUIA_INTERPRETE = 1 then 'Sim' \" + \"else '' end\"))\n",
    "\n",
    "print(f'Criação da coluna com sucesso - {datetime.now()}.')"
   ]
  },
  {
   "cell_type": "code",
   "execution_count": 304,
   "metadata": {
    "tags": []
   },
   "outputs": [
    {
     "output_type": "stream",
     "name": "stdout",
     "text": "Criação da coluna COMPUTADOR - 2020-08-25 18:28:47.447540.\nCriação da coluna com sucesso - 2020-08-25 18:28:47.475471.\n"
    }
   ],
   "source": [
    "print(f'Criação da coluna COMPUTADOR - {datetime.now()}.')\n",
    "\n",
    "df_enem_in_computador = df_enem_in_guia_interprete.withColumn('COMPUTADOR', expr(\"case when IN_COMPUTADOR = 0 then 'Não' \" + \"when IN_COMPUTADOR = 1 then 'Sim' \" + \"else '' end\"))\n",
    "\n",
    "print(f'Criação da coluna com sucesso - {datetime.now()}.')"
   ]
  },
  {
   "cell_type": "code",
   "execution_count": 305,
   "metadata": {
    "tags": []
   },
   "outputs": [
    {
     "output_type": "stream",
     "name": "stdout",
     "text": "Criação da coluna CADEIRA_ESPECIAL - 2020-08-25 18:28:49.640846.\nCriação da coluna com sucesso - 2020-08-25 18:28:49.670767.\n"
    }
   ],
   "source": [
    "print(f'Criação da coluna CADEIRA_ESPECIAL - {datetime.now()}.')\n",
    "\n",
    "df_enem_in_cadeira_especial = df_enem_in_computador.withColumn('CADEIRA_ESPECIAL', expr(\"case when IN_CADEIRA_ESPECIAL = 0 then 'Não' \" + \"when IN_CADEIRA_ESPECIAL = 1 then 'Sim' \" + \"else '' end\"))\n",
    "\n",
    "print(f'Criação da coluna com sucesso - {datetime.now()}.')"
   ]
  },
  {
   "cell_type": "code",
   "execution_count": 306,
   "metadata": {
    "tags": []
   },
   "outputs": [
    {
     "output_type": "stream",
     "name": "stdout",
     "text": "Criação da coluna CADEIRA_CANHOTO - 2020-08-25 18:28:51.704038.\nCriação da coluna com sucesso - 2020-08-25 18:28:51.732967.\n"
    }
   ],
   "source": [
    "print(f'Criação da coluna CADEIRA_CANHOTO - {datetime.now()}.')\n",
    "\n",
    "df_enem_in_cadeira_canhoto = df_enem_in_cadeira_especial.withColumn('CADEIRA_CANHOTO', expr(\"case when IN_CADEIRA_CANHOTO = 0 then 'Não' \" + \"when IN_CADEIRA_CANHOTO = 1 then 'Sim' \" + \"else '' end\"))\n",
    "\n",
    "print(f'Criação da coluna com sucesso - {datetime.now()}.')"
   ]
  },
  {
   "cell_type": "code",
   "execution_count": 307,
   "metadata": {
    "tags": []
   },
   "outputs": [
    {
     "output_type": "stream",
     "name": "stdout",
     "text": "Criação da coluna CADEIRA_ACOLCHOADA - 2020-08-25 18:28:53.710973.\nCriação da coluna com sucesso - 2020-08-25 18:28:53.738899.\n"
    }
   ],
   "source": [
    "print(f'Criação da coluna CADEIRA_ACOLCHOADA - {datetime.now()}.')\n",
    "\n",
    "df_enem_in_cadeira_acolchoada = df_enem_in_cadeira_canhoto.withColumn('CADEIRA_ACOLCHOADA', expr(\"case when IN_CADEIRA_ACOLCHOADA = 0 then 'Não' \" + \"when IN_CADEIRA_ACOLCHOADA = 1 then 'Sim' \" + \"else '' end\"))\n",
    "\n",
    "print(f'Criação da coluna com sucesso - {datetime.now()}.')"
   ]
  },
  {
   "cell_type": "code",
   "execution_count": 308,
   "metadata": {
    "tags": []
   },
   "outputs": [
    {
     "output_type": "stream",
     "name": "stdout",
     "text": "Criação da coluna PROVA_DEITADO - 2020-08-25 18:28:55.937188.\nCriação da coluna com sucesso - 2020-08-25 18:28:55.967106.\n"
    }
   ],
   "source": [
    "print(f'Criação da coluna PROVA_DEITADO - {datetime.now()}.')\n",
    "\n",
    "df_enem_in_prova_deitado = df_enem_in_cadeira_acolchoada.withColumn('PROVA_DEITADO', expr(\"case when IN_PROVA_DEITADO = 0 then 'Não' \" + \"when IN_PROVA_DEITADO = 1 then 'Sim' \" + \"else '' end\"))\n",
    "\n",
    "print(f'Criação da coluna com sucesso - {datetime.now()}.')"
   ]
  },
  {
   "cell_type": "code",
   "execution_count": 309,
   "metadata": {
    "tags": []
   },
   "outputs": [
    {
     "output_type": "stream",
     "name": "stdout",
     "text": "Criação da coluna MOBILIARIO_OBESO - 2020-08-25 18:28:58.544048.\nCriação da coluna com sucesso - 2020-08-25 18:28:58.575960.\n"
    }
   ],
   "source": [
    "print(f'Criação da coluna MOBILIARIO_OBESO - {datetime.now()}.')\n",
    "\n",
    "df_enem_in_mobiliario_obeso = df_enem_in_prova_deitado.withColumn('MOBILIARIO_OBESO', expr(\"case when IN_MOBILIARIO_OBESO = 0 then 'Não' \" + \"when IN_MOBILIARIO_OBESO = 1 then 'Sim' \" + \"else '' end\"))\n",
    "\n",
    "print(f'Criação da coluna com sucesso - {datetime.now()}.')"
   ]
  },
  {
   "cell_type": "code",
   "execution_count": 310,
   "metadata": {
    "tags": []
   },
   "outputs": [
    {
     "output_type": "stream",
     "name": "stdout",
     "text": "Criação da coluna LAMINA_OVERLAY - 2020-08-25 18:29:00.505513.\nCriação da coluna com sucesso - 2020-08-25 18:29:00.533437.\n"
    }
   ],
   "source": [
    "print(f'Criação da coluna LAMINA_OVERLAY - {datetime.now()}.')\n",
    "\n",
    "df_enem_in_lamina_overlay = df_enem_in_mobiliario_obeso.withColumn('LAMINA_OVERLAY', expr(\"case when IN_LAMINA_OVERLAY = 0 then 'Não' \" + \"when IN_LAMINA_OVERLAY = 1 then 'Sim' \" + \"else '' end\"))\n",
    "\n",
    "print(f'Criação da coluna com sucesso - {datetime.now()}.')"
   ]
  },
  {
   "cell_type": "code",
   "execution_count": 311,
   "metadata": {
    "tags": []
   },
   "outputs": [
    {
     "output_type": "stream",
     "name": "stdout",
     "text": "Criação da coluna PROTETOR_AURICULAR - 2020-08-25 18:29:03.291085.\nCriação da coluna com sucesso - 2020-08-25 18:29:03.321004.\n"
    }
   ],
   "source": [
    "print(f'Criação da coluna PROTETOR_AURICULAR - {datetime.now()}.')\n",
    "\n",
    "df_enem_in_protetor_auricular = df_enem_in_lamina_overlay.withColumn('PROTETOR_AURICULAR', expr(\"case when IN_PROTETOR_AURICULAR = 0 then 'Não' \" + \"when IN_PROTETOR_AURICULAR = 1 then 'Sim' \" + \"else '' end\"))\n",
    "\n",
    "print(f'Criação da coluna com sucesso - {datetime.now()}.')"
   ]
  },
  {
   "cell_type": "code",
   "execution_count": 312,
   "metadata": {
    "tags": []
   },
   "outputs": [
    {
     "output_type": "stream",
     "name": "stdout",
     "text": "Criação da coluna MEDIDOR_GLICOSE - 2020-08-25 18:29:06.118835.\nCriação da coluna com sucesso - 2020-08-25 18:29:06.149753.\n"
    }
   ],
   "source": [
    "print(f'Criação da coluna MEDIDOR_GLICOSE - {datetime.now()}.')\n",
    "\n",
    "df_enem_in_medidor_glicose = df_enem_in_protetor_auricular.withColumn('MEDIDOR_GLICOSE', expr(\"case when IN_MEDIDOR_GLICOSE = 0 then 'Não' \" + \"when IN_MEDIDOR_GLICOSE = 1 then 'Sim' \" + \"else '' end\"))\n",
    "\n",
    "print(f'Criação da coluna com sucesso - {datetime.now()}.')"
   ]
  },
  {
   "cell_type": "code",
   "execution_count": 313,
   "metadata": {
    "tags": []
   },
   "outputs": [
    {
     "output_type": "stream",
     "name": "stdout",
     "text": "Criação da coluna MAQUINA_BRAILE - 2020-08-25 18:29:07.982336.\nCriação da coluna com sucesso - 2020-08-25 18:29:08.012293.\n"
    }
   ],
   "source": [
    "print(f'Criação da coluna MAQUINA_BRAILE - {datetime.now()}.')\n",
    "\n",
    "df_enem_in_maquina_braile = df_enem_in_medidor_glicose.withColumn('MAQUINA_BRAILE', expr(\"case when IN_MAQUINA_BRAILE = 0 then 'Não' \" + \"when IN_MAQUINA_BRAILE = 1 then 'Sim' \" + \"else '' end\"))\n",
    "\n",
    "print(f'Criação da coluna com sucesso - {datetime.now()}.')"
   ]
  },
  {
   "cell_type": "code",
   "execution_count": 314,
   "metadata": {
    "tags": []
   },
   "outputs": [
    {
     "output_type": "stream",
     "name": "stdout",
     "text": "Criação da coluna SOROBAN - 2020-08-25 18:29:10.386197.\nCriação da coluna com sucesso - 2020-08-25 18:29:10.418112.\n"
    }
   ],
   "source": [
    "print(f'Criação da coluna SOROBAN - {datetime.now()}.')\n",
    "\n",
    "df_enem_in_soroban = df_enem_in_maquina_braile.withColumn('SOROBAN', expr(\"case when IN_SOROBAN = 0 then 'Não' \" + \"when IN_SOROBAN = 1 then 'Sim' \" + \"else '' end\"))\n",
    "\n",
    "print(f'Criação da coluna com sucesso - {datetime.now()}.')"
   ]
  },
  {
   "cell_type": "code",
   "execution_count": 315,
   "metadata": {
    "tags": []
   },
   "outputs": [
    {
     "output_type": "stream",
     "name": "stdout",
     "text": "Criação da coluna MARCA_PASSO - 2020-08-25 18:29:12.028466.\nCriação da coluna com sucesso - 2020-08-25 18:29:12.058384.\n"
    }
   ],
   "source": [
    "print(f'Criação da coluna MARCA_PASSO - {datetime.now()}.')\n",
    "\n",
    "df_enem_in_marca_passo = df_enem_in_soroban.withColumn('MARCA_PASSO', expr(\"case when IN_MARCA_PASSO = 0 then 'Não' \" + \"when IN_MARCA_PASSO = 1 then 'Sim' \" + \"else '' end\"))\n",
    "\n",
    "print(f'Criação da coluna com sucesso - {datetime.now()}.')"
   ]
  },
  {
   "cell_type": "code",
   "execution_count": 316,
   "metadata": {
    "tags": []
   },
   "outputs": [
    {
     "output_type": "stream",
     "name": "stdout",
     "text": "Criação da coluna SONDA - 2020-08-25 18:29:13.768127.\nCriação da coluna com sucesso - 2020-08-25 18:29:13.823982.\n"
    }
   ],
   "source": [
    "print(f'Criação da coluna SONDA - {datetime.now()}.')\n",
    "\n",
    "df_enem_in_sonda = df_enem_in_marca_passo.withColumn('SONDA', expr(\"case when IN_SONDA = 0 then 'Não' \" + \"when IN_SONDA = 1 then 'Sim' \" + \"else '' end\"))\n",
    "\n",
    "print(f'Criação da coluna com sucesso - {datetime.now()}.')"
   ]
  },
  {
   "cell_type": "code",
   "execution_count": 317,
   "metadata": {
    "tags": []
   },
   "outputs": [
    {
     "output_type": "stream",
     "name": "stdout",
     "text": "Criação da coluna MEDICAMENTOS - 2020-08-25 18:29:15.881549.\nCriação da coluna com sucesso - 2020-08-25 18:29:15.917453.\n"
    }
   ],
   "source": [
    "print(f'Criação da coluna MEDICAMENTOS - {datetime.now()}.')\n",
    "\n",
    "df_enem_in_medicamentos = df_enem_in_sonda.withColumn('MEDICAMENTOS', expr(\"case when IN_MEDICAMENTOS = 0 then 'Não' \" + \"when IN_MEDICAMENTOS = 1 then 'Sim' \" + \"else '' end\"))\n",
    "\n",
    "print(f'Criação da coluna com sucesso - {datetime.now()}.')"
   ]
  },
  {
   "cell_type": "code",
   "execution_count": 318,
   "metadata": {
    "tags": []
   },
   "outputs": [
    {
     "output_type": "stream",
     "name": "stdout",
     "text": "Criação da coluna SALA_INDIVIDUAL - 2020-08-25 18:29:19.505150.\nCriação da coluna com sucesso - 2020-08-25 18:29:19.537117.\n"
    }
   ],
   "source": [
    "print(f'Criação da coluna SALA_INDIVIDUAL - {datetime.now()}.')\n",
    "\n",
    "df_enem_in_sala_individual = df_enem_in_medicamentos.withColumn('SALA_INDIVIDUAL', expr(\"case when IN_SALA_INDIVIDUAL = 0 then 'Não' \" + \"when IN_SALA_INDIVIDUAL = 1 then 'Sim' \" + \"else '' end\"))\n",
    "\n",
    "print(f'Criação da coluna com sucesso - {datetime.now()}.')"
   ]
  },
  {
   "cell_type": "code",
   "execution_count": 319,
   "metadata": {
    "tags": []
   },
   "outputs": [
    {
     "output_type": "stream",
     "name": "stdout",
     "text": "Criação da coluna SALA_ESPECIAL - 2020-08-25 18:29:21.567075.\nCriação da coluna com sucesso - 2020-08-25 18:29:21.595998.\n"
    }
   ],
   "source": [
    "print(f'Criação da coluna SALA_ESPECIAL - {datetime.now()}.')\n",
    "\n",
    "df_enem_in_sala_especial = df_enem_in_sala_individual.withColumn('SALA_ESPECIAL', expr(\"case when IN_SALA_ESPECIAL = 0 then 'Não' \" + \"when IN_SALA_ESPECIAL = 1 then 'Sim' \" + \"else '' end\"))\n",
    "\n",
    "print(f'Criação da coluna com sucesso - {datetime.now()}.')"
   ]
  },
  {
   "cell_type": "code",
   "execution_count": 320,
   "metadata": {
    "tags": []
   },
   "outputs": [
    {
     "output_type": "stream",
     "name": "stdout",
     "text": "Criação da coluna SALA_ACOMPANHANTE - 2020-08-25 18:29:24.228890.\nCriação da coluna com sucesso - 2020-08-25 18:29:24.257814.\n"
    }
   ],
   "source": [
    "print(f'Criação da coluna SALA_ACOMPANHANTE - {datetime.now()}.')\n",
    "\n",
    "df_enem_in_sala_acompanhante = df_enem_in_sala_especial.withColumn('SALA_ACOMPANHANTE', expr(\"case when IN_SALA_ACOMPANHANTE = 0 then 'Não' \" + \"when IN_SALA_ACOMPANHANTE = 1 then 'Sim' \" + \"else '' end\"))\n",
    "\n",
    "print(f'Criação da coluna com sucesso - {datetime.now()}.')"
   ]
  },
  {
   "cell_type": "code",
   "execution_count": 321,
   "metadata": {
    "tags": []
   },
   "outputs": [
    {
     "output_type": "stream",
     "name": "stdout",
     "text": "Criação da coluna MOBILIARIO_ESPECIFICO - 2020-08-25 18:29:26.165939.\nCriação da coluna com sucesso - 2020-08-25 18:29:26.197856.\n"
    }
   ],
   "source": [
    "print(f'Criação da coluna MOBILIARIO_ESPECIFICO - {datetime.now()}.')\n",
    "\n",
    "df_enem_in_mobiliario_especifico = df_enem_in_sala_acompanhante.withColumn('MOBILIARIO_ESPECIFICO', expr(\"case when IN_MOBILIARIO_ESPECIFICO = 0 then 'Não' \" + \"when IN_MOBILIARIO_ESPECIFICO = 1 then 'Sim' \" + \"else '' end\"))\n",
    "\n",
    "print(f'Criação da coluna com sucesso - {datetime.now()}.')"
   ]
  },
  {
   "cell_type": "code",
   "execution_count": 322,
   "metadata": {
    "tags": []
   },
   "outputs": [
    {
     "output_type": "stream",
     "name": "stdout",
     "text": "Criação da coluna NOME_SOCIAL - 2020-08-25 18:29:28.020591.\nCriação da coluna com sucesso - 2020-08-25 18:29:28.049514.\n"
    }
   ],
   "source": [
    "print(f'Criação da coluna NOME_SOCIAL - {datetime.now()}.')\n",
    "\n",
    "df_enem_in_nome_social = df_enem_in_mobiliario_especifico.withColumn('NOME_SOCIAL', expr(\"case when IN_NOME_SOCIAL = 0 then 'Não' \" + \"when IN_NOME_SOCIAL = 1 then 'Sim' \" + \"else '' end\"))\n",
    "\n",
    "print(f'Criação da coluna com sucesso - {datetime.now()}.')"
   ]
  },
  {
   "cell_type": "code",
   "execution_count": 323,
   "metadata": {
    "tags": []
   },
   "outputs": [
    {
     "output_type": "stream",
     "name": "stdout",
     "text": "Criação da coluna PRESENCA_CIENCIAS_NATUREZA - 2020-08-25 18:29:30.674892.\nCriação da coluna com sucesso - 2020-08-25 18:29:30.704813.\n"
    }
   ],
   "source": [
    "print(f'Criação da coluna PRESENCA_CIENCIAS_NATUREZA - {datetime.now()}.')\n",
    "\n",
    "df_enem_tp_presenca_cn = df_enem_in_nome_social.withColumn('PRESENCA_CIENCIAS_NATUREZA', expr(\"case when TP_PRESENCA_CN = 0 then 'Faltou à prova' \" + \"when TP_PRESENCA_CN = 1 then 'Presente na prova' \" + \"when TP_PRESENCA_CN = 2 then 'Eliminado na prova' \" + \"else '' end\"))\n",
    "\n",
    "print(f'Criação da coluna com sucesso - {datetime.now()}.')"
   ]
  },
  {
   "cell_type": "code",
   "execution_count": 325,
   "metadata": {
    "tags": []
   },
   "outputs": [
    {
     "output_type": "stream",
     "name": "stdout",
     "text": "Criação da coluna PRESENCA_CIENCIAS_HUMANAS - 2020-08-25 18:29:33.592423.\nCriação da coluna com sucesso - 2020-08-25 18:29:33.622345.\n"
    }
   ],
   "source": [
    "print(f'Criação da coluna PRESENCA_CIENCIAS_HUMANAS - {datetime.now()}.')\n",
    "\n",
    "df_enem_tp_presenca_ch = df_enem_tp_presenca_cn.withColumn('PRESENCA_CIENCIAS_HUMANAS', expr(\"case when TP_PRESENCA_CH = 0 then 'Faltou à prova' \" + \"when TP_PRESENCA_CH = 1 then 'Presente na prova' \" + \"when TP_PRESENCA_CH = 2 then 'Eliminado na prova' \" + \"else '' end\"))\n",
    "\n",
    "print(f'Criação da coluna com sucesso - {datetime.now()}.')"
   ]
  },
  {
   "cell_type": "code",
   "execution_count": 326,
   "metadata": {
    "tags": []
   },
   "outputs": [
    {
     "output_type": "stream",
     "name": "stdout",
     "text": "Criação da coluna PRESENCA_LINGUAGENS_CODIGOS - 2020-08-25 18:29:35.593373.\nCriação da coluna com sucesso - 2020-08-25 18:29:35.622297.\n"
    }
   ],
   "source": [
    "print(f'Criação da coluna PRESENCA_LINGUAGENS_CODIGOS - {datetime.now()}.')\n",
    "\n",
    "df_enem_tp_presenca_lc = df_enem_tp_presenca_ch.withColumn('PRESENCA_LINGUAGENS_CODIGOS', expr(\"case when TP_PRESENCA_LC = 0 then 'Faltou à prova' \" + \"when TP_PRESENCA_LC = 1 then 'Presente na prova' \" + \"when TP_PRESENCA_LC = 2 then 'Eliminado na prova' \" + \"else '' end\"))\n",
    "\n",
    "print(f'Criação da coluna com sucesso - {datetime.now()}.')"
   ]
  },
  {
   "cell_type": "code",
   "execution_count": 327,
   "metadata": {
    "tags": []
   },
   "outputs": [
    {
     "output_type": "stream",
     "name": "stdout",
     "text": "Criação da coluna PRESENCA_MATEMATICA - 2020-08-25 18:29:54.350965.\nCriação da coluna com sucesso - 2020-08-25 18:29:54.391985.\n"
    }
   ],
   "source": [
    "print(f'Criação da coluna PRESENCA_MATEMATICA - {datetime.now()}.')\n",
    "\n",
    "df_enem_tp_presenca_mt = df_enem_tp_presenca_lc.withColumn('PRESENCA_MATEMATICA', expr(\"case when TP_PRESENCA_MT = 0 then 'Faltou à prova' \" + \"when TP_PRESENCA_MT = 1 then 'Presente na prova' \" + \"when TP_PRESENCA_MT = 2 then 'Eliminado na prova' \" + \"else '' end\"))\n",
    "\n",
    "print(f'Criação da coluna com sucesso - {datetime.now()}.')"
   ]
  },
  {
   "cell_type": "code",
   "execution_count": 328,
   "metadata": {
    "tags": []
   },
   "outputs": [
    {
     "output_type": "stream",
     "name": "stdout",
     "text": "Criação da coluna LINGUA - 2020-08-25 18:29:56.751219.\nCriação da coluna com sucesso - 2020-08-25 18:29:56.781141.\n"
    }
   ],
   "source": [
    "print(f'Criação da coluna LINGUA - {datetime.now()}.')\n",
    "\n",
    "df_enem_tp_lingua = df_enem_tp_presenca_mt.withColumn('LINGUA', expr(\"case when TP_LINGUA = 0 then 'Inglês' \" + \"when TP_LINGUA = 1 then 'Espanhol' \" + \"else '' end\"))\n",
    "\n",
    "print(f'Criação da coluna com sucesso - {datetime.now()}.')"
   ]
  },
  {
   "cell_type": "code",
   "execution_count": 329,
   "metadata": {
    "tags": []
   },
   "outputs": [
    {
     "output_type": "stream",
     "name": "stdout",
     "text": "Criação da coluna STATUS_REDACAO - 2020-08-25 18:29:58.623058.\nCriação da coluna com sucesso - 2020-08-25 18:29:58.658965.\n"
    }
   ],
   "source": [
    "print(f'Criação da coluna STATUS_REDACAO - {datetime.now()}.')\n",
    "\n",
    "df_enem_tp_status_redacao = df_enem_tp_lingua.withColumn('STATUS_REDACAO', expr(\"case when TP_STATUS_REDACAO = 1 then 'Sem problemas' \" + \"when TP_STATUS_REDACAO = 2 then 'Anulada' \" + \"when TP_STATUS_REDACAO = 3 then 'Cópia Texto Motivador' \" + \"when TP_STATUS_REDACAO = 4 then 'Em Branco' \" + \"when TP_STATUS_REDACAO = 6 then 'Fuga ao tema' \" + \"when TP_STATUS_REDACAO = 7 then 'Não atendimento ao tipo textual' \" + \"when TP_STATUS_REDACAO = 8 then 'Texto insuficiente' \" + \"when TP_STATUS_REDACAO = 9 then 'Parte desconectada' \" + \"else '' end\"))\n",
    "\n",
    "print(f'Criação da coluna com sucesso - {datetime.now()}.')"
   ]
  },
  {
   "cell_type": "code",
   "execution_count": 330,
   "metadata": {
    "tags": []
   },
   "outputs": [
    {
     "output_type": "stream",
     "name": "stdout",
     "text": "Criação da coluna PAI_ESTUDOU - 2020-08-25 18:30:01.440678.\nCriação da coluna com sucesso - 2020-08-25 18:30:01.481577.\n"
    }
   ],
   "source": [
    "print(f'Criação da coluna PAI_ESTUDOU - {datetime.now()}.')\n",
    "\n",
    "df_enem_q001 = df_enem_tp_status_redacao.withColumn('PAI_ESTUDOU', expr(\"case when Q001 = 'A' then 'Nunca estudou.' \" + \"when Q001 = 'B' then 'Não completou a 4ª série/5º ano do Ensino Fundamental.' \" + \"when Q001 = 'C' then 'Completou a 4ª série/5º ano, mas não completou a 8ª série/9º ano do Ensino Fundamental.' \" + \"when Q001 = 'D' then 'Completou a 8ª série/9º ano do Ensino Fundamental, mas não completou o Ensino Médio.' \" + \"when Q001 = 'E' then 'Completou o Ensino Médio, mas não completou a Faculdade.' \" + \"when Q001 = 'F' then 'Completou a Faculdade, mas não completou a Pós-graduação.' \" + \"when Q001 = 'G' then 'Completou a Pós-graduação.' \" + \"when Q001 = 'H' then 'Não sei.' \" + \"else '' end\"))\n",
    "\n",
    "print(f'Criação da coluna com sucesso - {datetime.now()}.')"
   ]
  },
  {
   "cell_type": "code",
   "execution_count": 331,
   "metadata": {
    "tags": []
   },
   "outputs": [
    {
     "output_type": "stream",
     "name": "stdout",
     "text": "Criação da coluna MAE_ESTUDOU - 2020-08-25 18:30:03.366956.\nCriação da coluna com sucesso - 2020-08-25 18:30:03.403860.\n"
    }
   ],
   "source": [
    "print(f'Criação da coluna MAE_ESTUDOU - {datetime.now()}.')\n",
    "\n",
    "df_enem_q002 = df_enem_q001.withColumn('MAE_ESTUDOU', expr(\"case when Q002 = 'A' then 'Nunca estudou.' \" + \"when Q002 = 'B' then 'Não completou a 4ª série/5º ano do Ensino Fundamental.' \" + \"when Q002 = 'C' then 'Completou a 4ª série/5º ano, mas não completou a 8ª série/9º ano do Ensino Fundamental.' \" + \"when Q002 = 'D' then 'Completou a 8ª série/9º ano do Ensino Fundamental, mas não completou o Ensino Médio.' \" + \"when Q002 = 'E' then 'Completou o Ensino Médio, mas não completou a Faculdade.' \" + \"when Q002 = 'F' then 'Completou a Faculdade, mas não completou a Pós-graduação.' \" + \"when Q002 = 'G' then 'Completou a Pós-graduação.' \" + \"when Q002 = 'H' then 'Não sei.' \" + \"else '' end\"))\n",
    "\n",
    "print(f'Criação da coluna com sucesso - {datetime.now()}.')"
   ]
  },
  {
   "cell_type": "code",
   "execution_count": 332,
   "metadata": {
    "tags": []
   },
   "outputs": [
    {
     "output_type": "stream",
     "name": "stdout",
     "text": "Criação da coluna QTDE_MORADOR_RESIDENCIA - 2020-08-25 18:30:06.547420.\nCriação da coluna com sucesso - 2020-08-25 18:30:06.587326.\n"
    }
   ],
   "source": [
    "print(f'Criação da coluna QTDE_MORADOR_RESIDENCIA - {datetime.now()}.')\n",
    "\n",
    "df_enem_q005 = df_enem_q002.withColumn('QTDE_MORADOR_RESIDENCIA', expr(\"case when Q005 = 1 then '1, pois moro sozinho(a).' \" + \"when Q005 = 2 then '2' \" + \"when Q005 = 3 then '3' \" + \"when Q005 = 4 then '4' \" + \"when Q005 = 5 then '5' \" + \"when Q005 = 6 then '6' \" + \"when Q005 = 7 then '7' \" + \"when Q005 = 8 then '8' \" + \"when Q005 = 9 then '9' \" + \"when Q005 = 10 then '10' \" + \"when Q005 = 11 then '11' \" + \"when Q005 = 12 then '12' \" + \"when Q005 = 13 then '13' \" + \"when Q005 = 14 then '14' \" + \"when Q005 = 15 then '15' \" + \"when Q005 = 16 then '16' \" + \"when Q005 = 17 then '17' \" + \"when Q005 = 18 then '18' \" + \"when Q005 = 19 then '19' \" + \"when Q005 = 20 then '20' \" + \"else '' end\"))\n",
    "\n",
    "print(f'Criação da coluna com sucesso - {datetime.now()}.')"
   ]
  },
  {
   "cell_type": "code",
   "execution_count": 333,
   "metadata": {
    "tags": []
   },
   "outputs": [
    {
     "output_type": "stream",
     "name": "stdout",
     "text": "Criação da coluna RENDA_MENSAL_FAMILIAR - 2020-08-25 18:30:12.861808.\nCriação da coluna com sucesso - 2020-08-25 18:30:12.908647.\n"
    }
   ],
   "source": [
    "print(f'Criação da coluna RENDA_MENSAL_FAMILIAR - {datetime.now()}.')\n",
    "\n",
    "df_enem_q006 = df_enem_q005.withColumn('RENDA_MENSAL_FAMILIAR', expr(\"case when Q006 = 'A' then 'Nenhuma Renda.' \" + \"when Q006 = 'B' then 'Até 1,0 salário mínimo.' \" + \"when Q006 = 'C' then 'Acima de 1,0 salário mínimo até 1,5.' \" + \"when Q006 = 'D' then 'Acima de 1,5 salário mínimo até 2,0 salários mínimos.' \" + \"when Q006 = 'E' then 'Acima de 2,0 salários mínimos até 2,5 salários mínimos.' \" + \"when Q006 = 'F' then 'Acima de 2,5 salários mínimos até 3,0 salários mínimos.' \" + \"when Q006 = 'G' then 'Acima de 3,0 salários mínimos até 4,0 salários mínimos.' \" + \"when Q006 = 'H' then 'Acima de 4,0 salários mínimos até 5,0 salários mínimos.' \" + \"when Q006 = 'I' then 'Acima de 5,0 salários mínimos até 6,0 salários mínimos.' \" + \"when Q006 = 'J' then 'Acima de 6,0 salários mínimos até 7,0 salários mínimos.' \" + \"when Q006 = 'K' then 'Acima de 7,0 salários mínimos até 8,0 salários mínimos.' \" + \"when Q006 = 'L' then 'Acima de 8,0 salários mínimos até 9,0 salários mínimos.' \" + \"when Q006 = 'M' then 'Acima de 9,0 salários mínimos até 10,0 salários mínimos.' \" + \"when Q006 = 'N' then 'Acima de 10,0 salários mínimos até 12,0 salários mínimos.' \" + \"when Q006 = 'O' then 'Acima de 12,0 salários mínimos até 15,0 salários mínimos.' \" + \"when Q006 = 'P' then 'Acima de 15,0 salários mínimos até 20,0 salários mínimos.' \" + \"when Q006 = 'Q' then 'Acima de 20 salários mínimos.' \" + \"else '' end\"))\n",
    "\n",
    "print(f'Criação da coluna com sucesso - {datetime.now()}.')"
   ]
  },
  {
   "cell_type": "code",
   "execution_count": 334,
   "metadata": {
    "tags": []
   },
   "outputs": [
    {
     "output_type": "stream",
     "name": "stdout",
     "text": "Criação da coluna RESIDENCIA_CELULAR - 2020-08-25 18:30:17.349862.\nCriação da coluna com sucesso - 2020-08-25 18:30:17.388811.\n"
    }
   ],
   "source": [
    "print(f'Criação da coluna RESIDENCIA_CELULAR - {datetime.now()}.')\n",
    "\n",
    "df_enem_q022 = df_enem_q006.withColumn('RESIDENCIA_CELULAR', expr(\"case when Q022 = 'A' then 'Não.' \" + \"when Q022 = 'B' then 'Sim, um.' \" + \"when Q022 = 'C' then 'Sim, dois.' \" + \"when Q022 = 'D' then 'Sim, três.' \" + \"when Q022 = 'E' then 'Sim, quatro ou mais.' \" + \"else '' end\"))\n",
    "\n",
    "print(f'Criação da coluna com sucesso - {datetime.now()}.')"
   ]
  },
  {
   "cell_type": "code",
   "execution_count": 335,
   "metadata": {
    "tags": []
   },
   "outputs": [
    {
     "output_type": "stream",
     "name": "stdout",
     "text": "Criação da coluna RESIDENCIA_COMPUTADOR - 2020-08-25 18:30:19.362109.\nCriação da coluna com sucesso - 2020-08-25 18:30:19.403997.\n"
    }
   ],
   "source": [
    "print(f'Criação da coluna RESIDENCIA_COMPUTADOR - {datetime.now()}.')\n",
    "\n",
    "df_enem_q024 = df_enem_q022.withColumn('RESIDENCIA_COMPUTADOR', expr(\"case when Q024 = 'A' then 'Não.' \" + \"when Q024 = 'B' then 'Sim, um.' \" + \"when Q024 = 'C' then 'Sim, dois.' \" + \"when Q024 = 'D' then 'Sim, três.' \" + \"when Q024 = 'E' then 'Sim, quatro ou mais.' \" + \"else '' end\"))\n",
    "\n",
    "print(f'Criação da coluna com sucesso - {datetime.now()}.')"
   ]
  },
  {
   "cell_type": "code",
   "execution_count": 336,
   "metadata": {
    "tags": []
   },
   "outputs": [
    {
     "output_type": "stream",
     "name": "stdout",
     "text": "Criação da coluna RESIDENCIA_INTERNET - 2020-08-25 18:30:21.763825.\nCriação da coluna com sucesso - 2020-08-25 18:30:21.797752.\n"
    }
   ],
   "source": [
    "print(f'Criação da coluna RESIDENCIA_INTERNET - {datetime.now()}.')\n",
    "\n",
    "df_enem_q025 = df_enem_q024.withColumn('RESIDENCIA_INTERNET', expr(\"case when Q025 = 'A' then 'Não.' \" + \"when Q025 = 'B' then 'Sim.' \" + \"else '' end\"))\n",
    "\n",
    "print(f'Criação da coluna com sucesso - {datetime.now()}.')"
   ]
  },
  {
   "cell_type": "code",
   "execution_count": 337,
   "metadata": {
    "tags": []
   },
   "outputs": [
    {
     "output_type": "stream",
     "name": "stdout",
     "text": "Criação do Dataframe para análise exploratória df_enem_analise - 2020-08-25 18:30:25.420799.\nDataframe df_enem_analise criado com sucesso - 2020-08-25 18:30:25.420799.\n"
    }
   ],
   "source": [
    "# Criação do dataframe df_enem_analise para análise exploratória.\n",
    "\n",
    "print(f'Criação do Dataframe para análise exploratória df_enem_analise - {datetime.now()}.')\n",
    "\n",
    "df_enem_analise = df_enem_q025\n",
    "\n",
    "print(f'Dataframe df_enem_analise criado com sucesso - {datetime.now()}.')"
   ]
  },
  {
   "cell_type": "code",
   "execution_count": 95,
   "metadata": {
    "tags": []
   },
   "outputs": [
    {
     "output_type": "stream",
     "name": "stdout",
     "text": "Apresentação da estutura do dataframe df_enem_analise - 2020-08-25 09:04:31.534050.\nroot\n |-- NU_INSCRICAO: long (nullable = true)\n |-- NU_ANO: integer (nullable = true)\n |-- NO_MUNICIPIO_RESIDENCIA: string (nullable = true)\n |-- CO_UF_RESIDENCIA: integer (nullable = true)\n |-- SG_UF_RESIDENCIA: string (nullable = true)\n |-- NU_IDADE: integer (nullable = true)\n |-- TP_SEXO: string (nullable = true)\n |-- TP_ESTADO_CIVIL: integer (nullable = true)\n |-- TP_COR_RACA: integer (nullable = true)\n |-- TP_NACIONALIDADE: integer (nullable = true)\n |-- NO_MUNICIPIO_NASCIMENTO: string (nullable = true)\n |-- CO_UF_NASCIMENTO: integer (nullable = true)\n |-- SG_UF_NASCIMENTO: string (nullable = true)\n |-- TP_ST_CONCLUSAO: integer (nullable = true)\n |-- TP_ESCOLA: integer (nullable = true)\n |-- TP_ENSINO: integer (nullable = true)\n |-- IN_TREINEIRO: integer (nullable = true)\n |-- CO_UF_ESC: integer (nullable = true)\n |-- SG_UF_ESC: string (nullable = true)\n |-- TP_DEPENDENCIA_ADM_ESC: integer (nullable = true)\n |-- TP_LOCALIZACAO_ESC: integer (nullable = true)\n |-- IN_BAIXA_VISAO: integer (nullable = true)\n |-- IN_CEGUEIRA: integer (nullable = true)\n |-- IN_SURDEZ: integer (nullable = true)\n |-- IN_DEFICIENCIA_AUDITIVA: integer (nullable = true)\n |-- IN_SURDO_CEGUEIRA: integer (nullable = true)\n |-- IN_DEFICIENCIA_FISICA: integer (nullable = true)\n |-- IN_DEFICIENCIA_MENTAL: integer (nullable = true)\n |-- IN_DEFICIT_ATENCAO: integer (nullable = true)\n |-- IN_DISLEXIA: integer (nullable = true)\n |-- IN_DISCALCULIA: integer (nullable = true)\n |-- IN_AUTISMO: integer (nullable = true)\n |-- IN_VISAO_MONOCULAR: integer (nullable = true)\n |-- IN_OUTRA_DEF: integer (nullable = true)\n |-- IN_GESTANTE: integer (nullable = true)\n |-- IN_LACTANTE: integer (nullable = true)\n |-- IN_IDOSO: integer (nullable = true)\n |-- IN_ESTUDA_CLASSE_HOSPITALAR: integer (nullable = true)\n |-- IN_SEM_RECURSO: integer (nullable = true)\n |-- IN_BRAILLE: integer (nullable = true)\n |-- IN_AMPLIADA_24: integer (nullable = true)\n |-- IN_AMPLIADA_18: integer (nullable = true)\n |-- IN_LEDOR: integer (nullable = true)\n |-- IN_ACESSO: integer (nullable = true)\n |-- IN_TRANSCRICAO: integer (nullable = true)\n |-- IN_LIBRAS: integer (nullable = true)\n |-- IN_LEITURA_LABIAL: integer (nullable = true)\n |-- IN_MESA_CADEIRA_RODAS: integer (nullable = true)\n |-- IN_MESA_CADEIRA_SEPARADA: integer (nullable = true)\n |-- IN_APOIO_PERNA: integer (nullable = true)\n |-- IN_GUIA_INTERPRETE: integer (nullable = true)\n |-- IN_COMPUTADOR: integer (nullable = true)\n |-- IN_CADEIRA_ESPECIAL: integer (nullable = true)\n |-- IN_CADEIRA_CANHOTO: integer (nullable = true)\n |-- IN_CADEIRA_ACOLCHOADA: integer (nullable = true)\n |-- IN_PROVA_DEITADO: integer (nullable = true)\n |-- IN_MOBILIARIO_OBESO: integer (nullable = true)\n |-- IN_LAMINA_OVERLAY: integer (nullable = true)\n |-- IN_PROTETOR_AURICULAR: integer (nullable = true)\n |-- IN_MEDIDOR_GLICOSE: integer (nullable = true)\n |-- IN_MAQUINA_BRAILE: integer (nullable = true)\n |-- IN_SOROBAN: integer (nullable = true)\n |-- IN_MARCA_PASSO: integer (nullable = true)\n |-- IN_SONDA: integer (nullable = true)\n |-- IN_MEDICAMENTOS: integer (nullable = true)\n |-- IN_SALA_INDIVIDUAL: integer (nullable = true)\n |-- IN_SALA_ESPECIAL: integer (nullable = true)\n |-- IN_SALA_ACOMPANHANTE: integer (nullable = true)\n |-- IN_MOBILIARIO_ESPECIFICO: integer (nullable = true)\n |-- IN_NOME_SOCIAL: integer (nullable = true)\n |-- NO_MUNICIPIO_PROVA: string (nullable = true)\n |-- CO_UF_PROVA: integer (nullable = true)\n |-- SG_UF_PROVA: string (nullable = true)\n |-- TP_PRESENCA_CN: integer (nullable = true)\n |-- TP_PRESENCA_CH: integer (nullable = true)\n |-- TP_PRESENCA_LC: integer (nullable = true)\n |-- TP_PRESENCA_MT: integer (nullable = true)\n |-- NU_NOTA_CN: double (nullable = true)\n |-- NU_NOTA_CH: double (nullable = true)\n |-- NU_NOTA_LC: double (nullable = true)\n |-- NU_NOTA_MT: double (nullable = true)\n |-- TP_LINGUA: integer (nullable = true)\n |-- TP_STATUS_REDACAO: integer (nullable = true)\n |-- NU_NOTA_COMP1: integer (nullable = true)\n |-- NU_NOTA_COMP2: integer (nullable = true)\n |-- NU_NOTA_COMP3: integer (nullable = true)\n |-- NU_NOTA_COMP4: integer (nullable = true)\n |-- NU_NOTA_COMP5: integer (nullable = true)\n |-- NU_NOTA_REDACAO: integer (nullable = true)\n |-- Q001: string (nullable = true)\n |-- Q002: string (nullable = true)\n |-- Q005: integer (nullable = true)\n |-- Q006: string (nullable = true)\n |-- Q022: string (nullable = true)\n |-- Q024: string (nullable = true)\n |-- Q025: string (nullable = true)\n |-- SEXO: string (nullable = false)\n |-- ESTADO_CIVIL: string (nullable = false)\n |-- RACA: string (nullable = false)\n |-- NACIONALIDADE: string (nullable = false)\n |-- SITUACAO_CONCLUSAO_ENSINO_MEDIO: string (nullable = false)\n |-- TIPO_ESCOLA: string (nullable = false)\n |-- TIPO_ENSINO: string (nullable = false)\n |-- TREINEIRO: string (nullable = false)\n |-- DEPENDENCIA_ADMINISTRATIVA_ESCOLA: string (nullable = false)\n |-- LOCALIZACAO_ESCOLA: string (nullable = false)\n |-- BAIXA_VISAO: string (nullable = false)\n |-- CEGUEIRA: string (nullable = false)\n |-- SURDEZ: string (nullable = false)\n |-- DEFICIENCIA_AUDITIVA: string (nullable = false)\n |-- SURDO_CEGUEIRA: string (nullable = false)\n |-- DEFICIENCIA_FISICA: string (nullable = false)\n |-- DEFICIENCIA_MENTAL: string (nullable = false)\n |-- DEFICIT_ATENCAO: string (nullable = false)\n |-- DISLEXIA: string (nullable = false)\n |-- DISCALCULIA: string (nullable = false)\n |-- AUTISMO: string (nullable = false)\n |-- VISAO_MONOCULAR: string (nullable = false)\n |-- OUTRA_DEF: string (nullable = false)\n |-- GESTANTE: string (nullable = false)\n |-- LACTANTE: string (nullable = false)\n |-- IDOSO: string (nullable = false)\n |-- ESTUDA_CLASSE_HOSPITALAR: string (nullable = false)\n |-- SEM_RECURSO: string (nullable = false)\n |-- BRAILLE: string (nullable = false)\n |-- AMPLIADA_24: string (nullable = false)\n |-- AMPLIADA_18: string (nullable = false)\n |-- LEDOR: string (nullable = false)\n |-- ACESSO: string (nullable = false)\n |-- TRANSCRICAO: string (nullable = false)\n |-- LIBRAS: string (nullable = false)\n |-- LEITURA_LABIAL: string (nullable = false)\n |-- MESA_CADEIRA_RODAS: string (nullable = false)\n |-- MESA_CADEIRA_SEPARADA: string (nullable = false)\n |-- APOIO_PERNA: string (nullable = false)\n |-- GUIA_INTERPRETE: string (nullable = false)\n |-- COMPUTADOR: string (nullable = false)\n |-- CADEIRA_ESPECIAL: string (nullable = false)\n |-- CADEIRA_CANHOTO: string (nullable = false)\n |-- CADEIRA_ACOLCHOADA: string (nullable = false)\n |-- PROVA_DEITADO: string (nullable = false)\n |-- MOBILIARIO_OBESO: string (nullable = false)\n |-- LAMINA_OVERLAY: string (nullable = false)\n |-- PROTETOR_AURICULAR: string (nullable = false)\n |-- MEDIDOR_GLICOSE: string (nullable = false)\n |-- MAQUINA_BRAILE: string (nullable = false)\n |-- SOROBAN: string (nullable = false)\n |-- MARCA_PASSO: string (nullable = false)\n |-- SONDA: string (nullable = false)\n |-- MEDICAMENTOS: string (nullable = false)\n |-- SALA_INDIVIDUAL: string (nullable = false)\n |-- SALA_ESPECIAL: string (nullable = false)\n |-- SALA_ACOMPANHANTE: string (nullable = false)\n |-- MOBILIARIO_ESPECIFICO: string (nullable = false)\n |-- NOME_SOCIAL: string (nullable = false)\n |-- PRESENCA_CIENCIAS_NATUREZA: string (nullable = false)\n |-- PRESENCA_CIENCIAS_HUMANAS: string (nullable = false)\n |-- PRESENCA_LINGUAGENS_CODIGOS: string (nullable = false)\n |-- PRESENCA_MATEMATICA: string (nullable = false)\n |-- LINGUA: string (nullable = false)\n |-- STATUS_REDACAO: string (nullable = false)\n |-- PAI_ESTUDOU: string (nullable = false)\n |-- MAE_ESTUDOU: string (nullable = false)\n |-- QTDE_MORADOR_RESIDENCIA: string (nullable = false)\n |-- RENDA_MENSAL_FAMILIAR: string (nullable = false)\n |-- RESIDENCIA_CELULAR: string (nullable = false)\n |-- RESIDENCIA_COMPUTADOR: string (nullable = false)\n |-- RESIDENCIA_INTERNET: string (nullable = false)\n\n"
    }
   ],
   "source": [
    "# Apresentação da estutura do dataframe df_enem_analise\n",
    "\n",
    "print(f'Apresentação da estutura do dataframe df_enem_analise - {datetime.now()}.')\n",
    "\n",
    "df_enem_analise.printSchema()"
   ]
  },
  {
   "cell_type": "code",
   "execution_count": 96,
   "metadata": {
    "tags": []
   },
   "outputs": [
    {
     "output_type": "stream",
     "name": "stdout",
     "text": "Apresentação do processo de criação de uma tabela temporária para utilização do SQL - 2020-08-25 09:04:31.556989.\nCriação da tabela temporaria com sucesso - 2020-08-25 09:04:31.785382.\n"
    }
   ],
   "source": [
    "# Criar tabela temporaria e usar sql para consulta\n",
    "\n",
    "print(f'Apresentação do processo de criação de uma tabela temporária para utilização do SQL - {datetime.now()}.')\n",
    "\n",
    "df_enem_analise.createOrReplaceTempView('enemtb')\n",
    "\n",
    "print(f'Criação da tabela temporaria com sucesso - {datetime.now()}.')"
   ]
  },
  {
   "cell_type": "code",
   "execution_count": 97,
   "metadata": {
    "tags": []
   },
   "outputs": [
    {
     "output_type": "stream",
     "name": "stdout",
     "text": "Quantidade de inscriçoes por Ano.\n\nConsulta inciada -  2020-08-25 09:04:31.807323\n+----+--------------+----------+\n| ANO|QTDE_INSCRICAO|PERCENTUAL|\n+----+--------------+----------+\n|2015|       7746427|     22.98|\n|2016|       8627367|     25.59|\n|2017|       6731341|     19.97|\n|2018|       5513747|     16.35|\n|2019|       5095270|     15.11|\n+----+--------------+----------+\n\nConsulta realizada com sucesso -  2020-08-25 09:06:59.685173\n"
    }
   ],
   "source": [
    "# Realização da Análise Exploratória\n",
    "\n",
    "print('Quantidade de inscriçoes por Ano.')\n",
    "print('')\n",
    "print(f'Consulta inciada -  {datetime.now()}')\n",
    "\n",
    "sqlContext.sql('SELECT NU_ANO AS ANO, COUNT(*) AS QTDE_INSCRICAO, ROUND((COUNT(*)/(SELECT COUNT(*)/100 FROM enemtb)),2) AS PERCENTUAL FROM enemtb GROUP BY NU_ANO ORDER BY NU_ANO, COUNT(*)').show()\n",
    "\n",
    "print(f'Consulta realizada com sucesso -  {datetime.now()}')"
   ]
  },
  {
   "cell_type": "code",
   "execution_count": 98,
   "metadata": {
    "tags": []
   },
   "outputs": [
    {
     "output_type": "stream",
     "name": "stdout",
     "text": "Quantidade de inscriçoes por Sexo.\n\nConsulta inciada -  2020-08-25 09:06:59.717089\n+---------+--------------+----------+\n|     SEXO|QTDE_INSCRICAO|PERCENTUAL|\n+---------+--------------+----------+\n| Feminino|      19679368|     58.37|\n|Masculino|      14034784|     41.63|\n+---------+--------------+----------+\n\nConsulta realizada com sucesso -  2020-08-25 09:09:26.520711\n"
    }
   ],
   "source": [
    "print('Quantidade de inscriçoes por Sexo.')\n",
    "print('')\n",
    "print(f'Consulta inciada -  {datetime.now()}')\n",
    "\n",
    "sqlContext.sql('SELECT SEXO, COUNT(*) AS QTDE_INSCRICAO, ROUND((COUNT(*)/(SELECT COUNT(*)/100 FROM enemtb)),2) AS PERCENTUAL FROM enemtb GROUP BY SEXO ORDER BY COUNT(*) DESC').show()\n",
    "\n",
    "print(f'Consulta realizada com sucesso -  {datetime.now()}')"
   ]
  },
  {
   "cell_type": "code",
   "execution_count": 99,
   "metadata": {
    "tags": []
   },
   "outputs": [
    {
     "output_type": "stream",
     "name": "stdout",
     "text": "Quantidade de inscriçoes por Sexo por Ano.\n\nConsulta inciada -  2020-08-25 09:09:26.548637\n+----+---------+--------------+----------+\n| ANO|     SEXO|QTDE_INSCRICAO|PERCENTUAL|\n+----+---------+--------------+----------+\n|2015| Feminino|       4460448|     13.23|\n|2015|Masculino|       3285979|      9.75|\n|2016| Feminino|       4982639|     14.78|\n|2016|Masculino|       3644728|     10.81|\n|2017| Feminino|       3946756|     11.71|\n|2017|Masculino|       2784585|      8.26|\n|2018| Feminino|       3257703|      9.66|\n|2018|Masculino|       2256044|      6.69|\n|2019| Feminino|       3031822|      8.99|\n|2019|Masculino|       2063448|      6.12|\n+----+---------+--------------+----------+\n\nConsulta realizada com sucesso -  2020-08-25 09:11:54.189724\n"
    }
   ],
   "source": [
    "print('Quantidade de inscriçoes por Sexo por Ano.')\n",
    "print('')\n",
    "print(f'Consulta inciada -  {datetime.now()}')\n",
    "\n",
    "sqlContext.sql('SELECT NU_ANO AS ANO, SEXO, COUNT(*) AS QTDE_INSCRICAO, ROUND((COUNT(*)/(SELECT COUNT(*)/100 FROM enemtb)),2) AS PERCENTUAL FROM enemtb GROUP BY NU_ANO, SEXO ORDER BY NU_ANO, COUNT(*) DESC').show()\n",
    "\n",
    "print(f'Consulta realizada com sucesso -  {datetime.now()}')"
   ]
  },
  {
   "cell_type": "code",
   "execution_count": 100,
   "metadata": {
    "tags": []
   },
   "outputs": [
    {
     "output_type": "stream",
     "name": "stdout",
     "text": "Quantidade de inscriçoes por Estado Civil.\n\nConsulta inciada -  2020-08-25 09:11:54.212665\n+---------------------------------------+--------------+----------+\n|ESTADO_CIVIL                           |QTDE_INSCRICAO|PERCENTUAL|\n+---------------------------------------+--------------+----------+\n|Solteiro                               |24197550      |71.77     |\n|Casado(a)/Mora com companheiro(a)      |7350094       |21.8      |\n|                                       |1199287       |3.56      |\n|Divorciado(a)/Desquitado(a)/Separado(a)|829816        |2.46      |\n|Viúvo(a)                               |137405        |0.41      |\n+---------------------------------------+--------------+----------+\n\nConsulta realizada com sucesso -  2020-08-25 09:14:19.346895\n"
    }
   ],
   "source": [
    "print('Quantidade de inscriçoes por Estado Civil.')\n",
    "print('')\n",
    "print(f'Consulta inciada -  {datetime.now()}')\n",
    "\n",
    "sqlContext.sql('SELECT ESTADO_CIVIL, COUNT(*) AS QTDE_INSCRICAO, ROUND((COUNT(*)/(SELECT COUNT(*)/100 FROM enemtb)),2) AS PERCENTUAL FROM enemtb GROUP BY ESTADO_CIVIL ORDER BY COUNT(*) DESC').show(truncate = False)\n",
    "\n",
    "print(f'Consulta realizada com sucesso -  {datetime.now()}')"
   ]
  },
  {
   "cell_type": "code",
   "execution_count": 101,
   "metadata": {
    "tags": []
   },
   "outputs": [
    {
     "output_type": "stream",
     "name": "stdout",
     "text": "Quantidade de inscriçoes por Estado Civil por Ano.\n\nConsulta inciada -  2020-08-25 09:14:19.379807\n+----+---------------------------------------+--------------+----------+\n|ANO |ESTADO_CIVIL                           |QTDE_INSCRICAO|PERCENTUAL|\n+----+---------------------------------------+--------------+----------+\n|2015|Solteiro                               |6417079       |19.03     |\n|2015|Casado(a)/Mora com companheiro(a)      |866112        |2.57      |\n|2015|                                       |323232        |0.96      |\n|2015|Divorciado(a)/Desquitado(a)/Separado(a)|124427        |0.37      |\n|2015|Viúvo(a)                               |15577         |0.05      |\n|2016|Solteiro                               |7144455       |21.19     |\n|2016|Casado(a)/Mora com companheiro(a)      |947502        |2.81      |\n|2016|                                       |380541        |1.13      |\n|2016|Divorciado(a)/Desquitado(a)/Separado(a)|138765        |0.41      |\n|2016|Viúvo(a)                               |16104         |0.05      |\n|2017|Solteiro                               |5680562       |16.85     |\n|2017|Casado(a)/Mora com companheiro(a)      |669750        |1.99      |\n|2017|                                       |271641        |0.81      |\n|2017|Divorciado(a)/Desquitado(a)/Separado(a)|98879         |0.29      |\n|2017|Viúvo(a)                               |10509         |0.03      |\n|2018|Solteiro                               |4748654       |14.09     |\n|2018|Casado(a)/Mora com companheiro(a)      |468245        |1.39      |\n|2018|                                       |217637        |0.65      |\n|2018|Divorciado(a)/Desquitado(a)/Separado(a)|71890         |0.21      |\n|2018|Viúvo(a)                               |7321          |0.02      |\n|2019|Casado(a)/Mora com companheiro(a)      |4398485       |13.05     |\n|2019|Divorciado(a)/Desquitado(a)/Separado(a)|395855        |1.17      |\n|2019|Solteiro                               |206800        |0.61      |\n|2019|Viúvo(a)                               |87894         |0.26      |\n|2019|                                       |6236          |0.02      |\n+----+---------------------------------------+--------------+----------+\n\nConsulta realizada com sucesso -  2020-08-25 09:16:47.579761\n"
    }
   ],
   "source": [
    "print('Quantidade de inscriçoes por Estado Civil por Ano.')\n",
    "print('')\n",
    "print(f'Consulta inciada -  {datetime.now()}')\n",
    "\n",
    "sqlContext.sql('SELECT NU_ANO AS ANO, ESTADO_CIVIL, COUNT(*) AS QTDE_INSCRICAO, ROUND((COUNT(*)/(SELECT COUNT(*)/100 FROM enemtb)),2) AS PERCENTUAL FROM enemtb GROUP BY NU_ANO, ESTADO_CIVIL ORDER BY NU_ANO, COUNT(*) DESC').show(30, truncate = False)\n",
    "\n",
    "print(f'Consulta realizada com sucesso -  {datetime.now()}')"
   ]
  },
  {
   "cell_type": "code",
   "execution_count": 338,
   "metadata": {
    "tags": []
   },
   "outputs": [
    {
     "output_type": "stream",
     "name": "stdout",
     "text": "Quantidade de inscriçoes por Raça.\n\nConsulta inciada -  2020-08-25 18:30:45.324933\n+-------------+--------------+----------+\n|         RACA|QTDE_INSCRICAO|PERCENTUAL|\n+-------------+--------------+----------+\n|       Branca|      32435187|     96.21|\n|        Preta|       1135510|      3.37|\n|      Amarela|         85678|      0.25|\n|        Parda|         40436|      0.12|\n|Não declarado|         17341|      0.05|\n+-------------+--------------+----------+\n\nConsulta realizada com sucesso -  2020-08-25 18:33:20.320725\n"
    }
   ],
   "source": [
    "print('Quantidade de inscriçoes por Raça.')\n",
    "print('')\n",
    "print(f'Consulta inciada -  {datetime.now()}')\n",
    "\n",
    "sqlContext.sql('SELECT RACA, COUNT(*) AS QTDE_INSCRICAO, ROUND((COUNT(*)/(SELECT COUNT(*)/100 FROM enemtb)),2) AS PERCENTUAL FROM enemtb GROUP BY RACA ORDER BY COUNT(*) DESC').show()\n",
    "\n",
    "print(f'Consulta realizada com sucesso -  {datetime.now()}')"
   ]
  },
  {
   "cell_type": "code",
   "execution_count": 339,
   "metadata": {
    "tags": []
   },
   "outputs": [
    {
     "output_type": "stream",
     "name": "stdout",
     "text": "Quantidade de inscriçoes por Raça.\n\nConsulta inciada -  2020-08-25 18:35:09.435735\n+-----------+--------------+----------+\n|TP_COR_RACA|QTDE_INSCRICAO|PERCENTUAL|\n+-----------+--------------+----------+\n|          3|      15612687|     46.31|\n|          1|      12059987|     35.77|\n|          2|       4411602|     13.09|\n|          4|        766447|      2.27|\n|          0|        634299|      1.88|\n|          5|        208649|      0.62|\n|          6|         20481|      0.06|\n+-----------+--------------+----------+\n\nConsulta realizada com sucesso -  2020-08-25 18:37:36.619458\n"
    }
   ],
   "source": [
    "print('Quantidade de inscriçoes por Raça.')\n",
    "print('')\n",
    "print(f'Consulta inciada -  {datetime.now()}')\n",
    "\n",
    "sqlContext.sql('SELECT TP_COR_RACA, COUNT(*) AS QTDE_INSCRICAO, ROUND((COUNT(*)/(SELECT COUNT(*)/100 FROM enemtb)),2) AS PERCENTUAL FROM enemtb GROUP BY TP_COR_RACA ORDER BY COUNT(*) DESC').show()\n",
    "\n",
    "print(f'Consulta realizada com sucesso -  {datetime.now()}')"
   ]
  },
  {
   "cell_type": "code",
   "execution_count": 103,
   "metadata": {
    "tags": []
   },
   "outputs": [
    {
     "output_type": "stream",
     "name": "stdout",
     "text": "Quantidade de inscriçoes por Raça por Ano.\n\nConsulta inciada -  2020-08-25 09:19:14.852881\n+----+-------------+--------------+----------+\n| ANO|         RACA|QTDE_INSCRICAO|PERCENTUAL|\n+----+-------------+--------------+----------+\n|2015|       Branca|       7429503|     22.04|\n|2015|        Preta|        281435|      0.83|\n|2015|      Amarela|         24246|      0.07|\n|2015|        Parda|          9247|      0.03|\n|2015|Não declarado|          1996|      0.01|\n|2016|       Branca|       8226131|      24.4|\n|2016|        Preta|        362481|      1.08|\n|2016|      Amarela|         24357|      0.07|\n|2016|        Parda|         10078|      0.03|\n|2016|Não declarado|          4320|      0.01|\n|2017|       Branca|       6501568|     19.28|\n|2017|        Preta|        202617|       0.6|\n|2017|      Amarela|         16367|      0.05|\n|2017|        Parda|          8300|      0.02|\n|2017|Não declarado|          2489|      0.01|\n|2018|       Branca|       5327964|      15.8|\n|2018|        Preta|        164645|      0.49|\n|2018|      Amarela|         12475|      0.04|\n|2018|        Parda|          6876|      0.02|\n|2018|Não declarado|          1787|      0.01|\n|2019|       Branca|       4950021|     14.68|\n|2019|        Preta|        124332|      0.37|\n|2019|      Amarela|          8233|      0.02|\n|2019|Não declarado|          6749|      0.02|\n|2019|        Parda|          5935|      0.02|\n+----+-------------+--------------+----------+\n\nConsulta realizada com sucesso -  2020-08-25 09:21:42.494507\n"
    }
   ],
   "source": [
    "print('Quantidade de inscriçoes por Raça por Ano.')\n",
    "print('')\n",
    "print(f'Consulta inciada -  {datetime.now()}')\n",
    "\n",
    "sqlContext.sql('SELECT NU_ANO AS ANO, RACA, COUNT(*) AS QTDE_INSCRICAO, ROUND((COUNT(*)/(SELECT COUNT(*)/100 FROM enemtb)),2) AS PERCENTUAL FROM enemtb GROUP BY NU_ANO, RACA ORDER BY NU_ANO, COUNT(*) DESC').show(30)\n",
    "\n",
    "print(f'Consulta realizada com sucesso -  {datetime.now()}')"
   ]
  },
  {
   "cell_type": "code",
   "execution_count": 104,
   "metadata": {
    "tags": []
   },
   "outputs": [
    {
     "output_type": "stream",
     "name": "stdout",
     "text": "Quantidade de inscriçoes por Nacionalidade.\n\nConsulta inciada -  2020-08-25 09:21:42.523429\n+---------------------------------------------+--------------+----------+\n|NACIONALIDADE                                |QTDE_INSCRICAO|PERCENTUAL|\n+---------------------------------------------+--------------+----------+\n|Brasileiro(a)                                |32435187      |96.21     |\n|Brasileiro(a) Naturalizado(a)                |1135510       |3.37      |\n|Brasileiro(a) Nato(a), nascido(a) no exterior|85678         |0.25      |\n|Estrangeiro(a)                               |40436         |0.12      |\n|Não informado                                |17341         |0.05      |\n+---------------------------------------------+--------------+----------+\n\nConsulta realizada com sucesso -  2020-08-25 09:24:16.261271\n"
    }
   ],
   "source": [
    "print('Quantidade de inscriçoes por Nacionalidade.')\n",
    "print('')\n",
    "print(f'Consulta inciada -  {datetime.now()}')\n",
    "\n",
    "sqlContext.sql('SELECT NACIONALIDADE, COUNT(*) AS QTDE_INSCRICAO, ROUND((COUNT(*)/(SELECT COUNT(*)/100 FROM enemtb)),2) AS PERCENTUAL FROM enemtb GROUP BY NACIONALIDADE ORDER BY COUNT(*) DESC').show(truncate = False)\n",
    "\n",
    "print(f'Consulta realizada com sucesso -  {datetime.now()}')"
   ]
  },
  {
   "cell_type": "code",
   "execution_count": 105,
   "metadata": {
    "tags": []
   },
   "outputs": [
    {
     "output_type": "stream",
     "name": "stdout",
     "text": "Quantidade de inscriçoes por Nacionalidade por Ano.\n\nConsulta inciada -  2020-08-25 09:24:16.282216\n+----+---------------------------------------------+----------+\n|ANO |NACIONALIDADE                                |PERCENTUAL|\n+----+---------------------------------------------+----------+\n|2015|Brasileiro(a)                                |22.04     |\n|2015|Brasileiro(a) Naturalizado(a)                |0.83      |\n|2015|Brasileiro(a) Nato(a), nascido(a) no exterior|0.07      |\n|2015|Estrangeiro(a)                               |0.03      |\n|2015|Não informado                                |0.01      |\n|2016|Brasileiro(a)                                |24.4      |\n|2016|Brasileiro(a) Naturalizado(a)                |1.08      |\n|2016|Brasileiro(a) Nato(a), nascido(a) no exterior|0.07      |\n|2016|Estrangeiro(a)                               |0.03      |\n|2016|Não informado                                |0.01      |\n|2017|Brasileiro(a)                                |19.28     |\n|2017|Brasileiro(a) Naturalizado(a)                |0.6       |\n|2017|Brasileiro(a) Nato(a), nascido(a) no exterior|0.05      |\n|2017|Estrangeiro(a)                               |0.02      |\n|2017|Não informado                                |0.01      |\n|2018|Brasileiro(a)                                |15.8      |\n|2018|Brasileiro(a) Naturalizado(a)                |0.49      |\n|2018|Brasileiro(a) Nato(a), nascido(a) no exterior|0.04      |\n|2018|Estrangeiro(a)                               |0.02      |\n|2018|Não informado                                |0.01      |\n|2019|Brasileiro(a)                                |14.68     |\n|2019|Brasileiro(a) Naturalizado(a)                |0.37      |\n|2019|Brasileiro(a) Nato(a), nascido(a) no exterior|0.02      |\n|2019|Não informado                                |0.02      |\n|2019|Estrangeiro(a)                               |0.02      |\n+----+---------------------------------------------+----------+\n\nConsulta realizada com sucesso -  2020-08-25 09:26:50.646162\n"
    }
   ],
   "source": [
    "print('Quantidade de inscriçoes por Nacionalidade por Ano.')\n",
    "print('')\n",
    "print(f'Consulta inciada -  {datetime.now()}')\n",
    "\n",
    "sqlContext.sql('SELECT NU_ANO AS ANO, NACIONALIDADE, ROUND((COUNT(*)/(SELECT COUNT(*)/100 FROM enemtb)),2) AS PERCENTUAL FROM enemtb GROUP BY NU_ANO, NACIONALIDADE ORDER BY NU_ANO, COUNT(*) DESC').show(30, truncate = False)\n",
    "\n",
    "print(f'Consulta realizada com sucesso -  {datetime.now()}')"
   ]
  },
  {
   "cell_type": "code",
   "execution_count": 106,
   "metadata": {
    "tags": []
   },
   "outputs": [
    {
     "output_type": "stream",
     "name": "stdout",
     "text": "Quantidade de inscriçoes por Situação Conclusão Ensino Médio.\n\nConsulta inciada -  2020-08-25 09:26:50.672094\n+--------------------------------------------------------+--------------+----------+\n|SITUACAO_CONCLUSAO_ENSINO_MEDIO                         |QTDE_INSCRICAO|PERCENTUAL|\n+--------------------------------------------------------+--------------+----------+\n|Já concluí o Ensino Médio                               |19919399      |59.08     |\n|Estou cursando e concluirei o Ensino Médio no ano       |8424851       |24.99     |\n|Estou cursando e concluirei o Ensino Médio após este ano|4302929       |12.76     |\n|Não concluí e não estou cursando o Ensino Médio         |1066973       |3.16      |\n+--------------------------------------------------------+--------------+----------+\n\nConsulta realizada com sucesso -  2020-08-25 09:29:18.274334\n"
    }
   ],
   "source": [
    "print('Quantidade de inscriçoes por Situação Conclusão Ensino Médio.')\n",
    "print('')\n",
    "print(f'Consulta inciada -  {datetime.now()}')\n",
    "\n",
    "sqlContext.sql('SELECT SITUACAO_CONCLUSAO_ENSINO_MEDIO, COUNT(* ) AS QTDE_INSCRICAO, ROUND((COUNT(*)/(SELECT COUNT(*)/100 FROM enemtb)),2) AS PERCENTUAL FROM enemtb GROUP BY SITUACAO_CONCLUSAO_ENSINO_MEDIO ORDER BY COUNT(*) DESC').show(truncate = False)\n",
    "\n",
    "print(f'Consulta realizada com sucesso -  {datetime.now()}')"
   ]
  },
  {
   "cell_type": "code",
   "execution_count": 107,
   "metadata": {
    "tags": []
   },
   "outputs": [
    {
     "output_type": "stream",
     "name": "stdout",
     "text": "Quantidade de inscriçoes por Situação Conclusão Ensino Médio por Ano.\n\nConsulta inciada -  2020-08-25 09:29:18.300264\n+----+--------------------------------------------------------+--------------+----------+\n|ANO |SITUACAO_CONCLUSAO_ENSINO_MEDIO                         |QTDE_INSCRICAO|PERCENTUAL|\n+----+--------------------------------------------------------+--------------+----------+\n|2015|Já concluí o Ensino Médio                               |4492044       |13.32     |\n|2015|Estou cursando e concluirei o Ensino Médio no ano       |1649860       |4.89      |\n|2015|Estou cursando e concluirei o Ensino Médio após este ano|1157560       |3.43      |\n|2015|Não concluí e não estou cursando o Ensino Médio         |446963        |1.33      |\n|2016|Já concluí o Ensino Médio                               |4928251       |14.62     |\n|2016|Estou cursando e concluirei o Ensino Médio no ano       |1882278       |5.58      |\n|2016|Estou cursando e concluirei o Ensino Médio após este ano|1344085       |3.99      |\n|2016|Não concluí e não estou cursando o Ensino Médio         |472753        |1.4       |\n|2017|Já concluí o Ensino Médio                               |4272215       |12.67     |\n|2017|Estou cursando e concluirei o Ensino Médio no ano       |1786719       |5.3       |\n|2017|Estou cursando e concluirei o Ensino Médio após este ano|597677        |1.77      |\n|2017|Não concluí e não estou cursando o Ensino Médio         |74730         |0.22      |\n|2018|Já concluí o Ensino Médio                               |3233968       |9.59      |\n|2018|Estou cursando e concluirei o Ensino Médio no ano       |1640099       |4.86      |\n|2018|Estou cursando e concluirei o Ensino Médio após este ano|586939        |1.74      |\n|2018|Não concluí e não estou cursando o Ensino Médio         |52741         |0.16      |\n|2019|Já concluí o Ensino Médio                               |2992921       |8.88      |\n|2019|Estou cursando e concluirei o Ensino Médio no ano       |1465895       |4.35      |\n|2019|Estou cursando e concluirei o Ensino Médio após este ano|616668        |1.83      |\n|2019|Não concluí e não estou cursando o Ensino Médio         |19786         |0.06      |\n+----+--------------------------------------------------------+--------------+----------+\n\nConsulta realizada com sucesso -  2020-08-25 09:31:55.333923\n"
    }
   ],
   "source": [
    "print('Quantidade de inscriçoes por Situação Conclusão Ensino Médio por Ano.')\n",
    "print('')\n",
    "print(f'Consulta inciada -  {datetime.now()}')\n",
    "\n",
    "sqlContext.sql('SELECT NU_ANO AS ANO, SITUACAO_CONCLUSAO_ENSINO_MEDIO, COUNT(* ) AS QTDE_INSCRICAO, ROUND((COUNT(*)/(SELECT COUNT(*)/100 FROM enemtb)),2) AS PERCENTUAL FROM enemtb GROUP BY NU_ANO, SITUACAO_CONCLUSAO_ENSINO_MEDIO ORDER BY NU_ANO, COUNT(*) DESC').show(truncate = False)\n",
    "\n",
    "print(f'Consulta realizada com sucesso -  {datetime.now()}')"
   ]
  },
  {
   "cell_type": "code",
   "execution_count": 108,
   "metadata": {
    "tags": []
   },
   "outputs": [
    {
     "output_type": "stream",
     "name": "stdout",
     "text": "Quantidade de inscriçoes por Tipo Escola.\n\nConsulta inciada -  2020-08-25 09:31:55.356862\n+-------------+--------------+----------+\n|  TIPO_ESCOLA|QTDE_INSCRICAO|PERCENTUAL|\n+-------------+--------------+----------+\n|Não Respondeu|      25526429|     75.71|\n|      Pública|       6780145|     20.11|\n|      Privada|       1149757|      3.41|\n|     Exterior|        257821|      0.76|\n+-------------+--------------+----------+\n\nConsulta realizada com sucesso -  2020-08-25 09:34:22.346909\n"
    }
   ],
   "source": [
    "print('Quantidade de inscriçoes por Tipo Escola.')\n",
    "print('')\n",
    "print(f'Consulta inciada -  {datetime.now()}')\n",
    "\n",
    "sqlContext.sql('SELECT TIPO_ESCOLA, COUNT(*) AS QTDE_INSCRICAO, ROUND((COUNT(*)/(SELECT COUNT(*)/100 FROM enemtb)),2) AS PERCENTUAL FROM enemtb GROUP BY TIPO_ESCOLA ORDER BY COUNT(*) DESC').show()\n",
    "\n",
    "print(f'Consulta realizada com sucesso -  {datetime.now()}')"
   ]
  },
  {
   "cell_type": "code",
   "execution_count": 109,
   "metadata": {
    "tags": []
   },
   "outputs": [
    {
     "output_type": "stream",
     "name": "stdout",
     "text": "Quantidade de inscriçoes por Tipo Escola por Ano.\n\nConsulta inciada -  2020-08-25 09:34:22.370846\n+----+-------------+--------------+----------+\n| ANO|  TIPO_ESCOLA|QTDE_INSCRICAO|PERCENTUAL|\n+----+-------------+--------------+----------+\n|2015|Não Respondeu|       6096567|     18.08|\n|2015|      Pública|       1344863|      3.99|\n|2015|      Privada|        304372|       0.9|\n|2015|     Exterior|           625|       0.0|\n|2016|Não Respondeu|       6745091|     20.01|\n|2016|      Pública|       1561876|      4.63|\n|2016|      Privada|        319415|      0.95|\n|2016|     Exterior|           985|       0.0|\n|2017|Não Respondeu|       4944631|     14.67|\n|2017|      Pública|       1488653|      4.42|\n|2017|      Privada|        293461|      0.87|\n|2017|     Exterior|          4596|      0.01|\n|2018|Não Respondeu|       4110764|     12.19|\n|2018|      Pública|       1137491|      3.37|\n|2018|     Exterior|        251615|      0.75|\n|2018|      Privada|         13877|      0.04|\n|2019|Não Respondeu|       3629376|     10.77|\n|2019|      Pública|       1247262|       3.7|\n|2019|      Privada|        218632|      0.65|\n+----+-------------+--------------+----------+\n\nConsulta realizada com sucesso -  2020-08-25 09:36:52.272485\n"
    }
   ],
   "source": [
    "print('Quantidade de inscriçoes por Tipo Escola por Ano.')\n",
    "print('')\n",
    "print(f'Consulta inciada -  {datetime.now()}')\n",
    "\n",
    "sqlContext.sql('SELECT NU_ANO AS ANO, TIPO_ESCOLA, COUNT(*) AS QTDE_INSCRICAO, ROUND((COUNT(*)/(SELECT COUNT(*)/100 FROM enemtb)),2) AS PERCENTUAL FROM enemtb GROUP BY NU_ANO, TIPO_ESCOLA ORDER BY NU_ANO, COUNT(*) DESC').show()\n",
    "\n",
    "print(f'Consulta realizada com sucesso -  {datetime.now()}')"
   ]
  },
  {
   "cell_type": "code",
   "execution_count": 110,
   "metadata": {
    "tags": []
   },
   "outputs": [
    {
     "output_type": "stream",
     "name": "stdout",
     "text": "Quantidade de inscriçoes por Tipo Ensino.\n\nConsulta inciada -  2020-08-25 09:36:52.294428\n+-------------------------------------------+--------------+----------+\n|TIPO_ENSINO                                |QTDE_INSCRICAO|PERCENTUAL|\n+-------------------------------------------+--------------+----------+\n|                                           |22036422      |65.36     |\n|Ensino Regular                             |10700506      |31.74     |\n|Educação de Jovens e Adultos               |917342        |2.72      |\n|Educação Especial - Modalidade Substitutiva|59882         |0.18      |\n+-------------------------------------------+--------------+----------+\n\nConsulta realizada com sucesso -  2020-08-25 09:39:23.554574\n"
    }
   ],
   "source": [
    "print('Quantidade de inscriçoes por Tipo Ensino.')\n",
    "print('')\n",
    "print(f'Consulta inciada -  {datetime.now()}')\n",
    "\n",
    "sqlContext.sql('SELECT TIPO_ENSINO, COUNT(*) AS QTDE_INSCRICAO, ROUND((COUNT(*)/(SELECT COUNT(*)/100 FROM enemtb)),2) AS PERCENTUAL FROM enemtb GROUP BY TIPO_ENSINO ORDER BY COUNT(*) DESC').show(truncate = False)\n",
    "\n",
    "print(f'Consulta realizada com sucesso -  {datetime.now()}')"
   ]
  },
  {
   "cell_type": "code",
   "execution_count": 111,
   "metadata": {
    "tags": []
   },
   "outputs": [
    {
     "output_type": "stream",
     "name": "stdout",
     "text": "Quantidade de inscriçoes por Tipo Ensino por Ano.\n\nConsulta inciada -  2020-08-25 09:39:23.578508\n+----+-------------------------------------------+--------------+----------+\n|ANO |TIPO_ENSINO                                |QTDE_INSCRICAO|PERCENTUAL|\n+----+-------------------------------------------+--------------+----------+\n|2015|                                           |6097192       |18.08     |\n|2015|Ensino Regular                             |1470357       |4.36      |\n|2015|Educação de Jovens e Adultos               |169509        |0.5       |\n|2015|Educação Especial - Modalidade Substitutiva|9369          |0.03      |\n|2016|                                           |6746055       |20.01     |\n|2016|Ensino Regular                             |1652485       |4.9       |\n|2016|Educação de Jovens e Adultos               |218532        |0.65      |\n|2016|Educação Especial - Modalidade Substitutiva|10295         |0.03      |\n|2017|                                           |4945436       |14.67     |\n|2017|Ensino Regular                             |1583756       |4.7       |\n|2017|Educação de Jovens e Adultos               |193096        |0.57      |\n|2017|Educação Especial - Modalidade Substitutiva|9053          |0.03      |\n|2018|Ensino Regular                             |3129510       |9.28      |\n|2018|                                           |2030666       |6.02      |\n|2018|Educação de Jovens e Adultos               |336205        |1.0       |\n|2018|Educação Especial - Modalidade Substitutiva|17366         |0.05      |\n|2019|Ensino Regular                             |2864398       |8.5       |\n|2019|                                           |2217073       |6.58      |\n|2019|Educação Especial - Modalidade Substitutiva|13799         |0.04      |\n+----+-------------------------------------------+--------------+----------+\n\nConsulta realizada com sucesso -  2020-08-25 09:41:50.287725\n"
    }
   ],
   "source": [
    "print('Quantidade de inscriçoes por Tipo Ensino por Ano.')\n",
    "print('')\n",
    "print(f'Consulta inciada -  {datetime.now()}')\n",
    "\n",
    "sqlContext.sql('SELECT NU_ANO AS ANO, TIPO_ENSINO, COUNT(*) AS QTDE_INSCRICAO, ROUND((COUNT(*)/(SELECT COUNT(*)/100 FROM enemtb)),2) AS PERCENTUAL FROM enemtb GROUP BY NU_ANO, TIPO_ENSINO ORDER BY NU_ANO, COUNT(*) DESC').show(truncate = False)\n",
    "\n",
    "print(f'Consulta realizada com sucesso -  {datetime.now()}')"
   ]
  },
  {
   "cell_type": "code",
   "execution_count": 112,
   "metadata": {
    "tags": []
   },
   "outputs": [
    {
     "output_type": "stream",
     "name": "stdout",
     "text": "Quantidade de inscriçoes por Treineiro.\n\nConsulta inciada -  2020-08-25 09:41:50.308669\n+---------+--------------+----------+\n|TREINEIRO|QTDE_INSCRICAO|PERCENTUAL|\n+---------+--------------+----------+\n|      Não|      30127568|     89.36|\n|      Sim|       3586584|     10.64|\n+---------+--------------+----------+\n\nConsulta realizada com sucesso -  2020-08-25 09:44:19.912320\n"
    }
   ],
   "source": [
    "print('Quantidade de inscriçoes por Treineiro.')\n",
    "print('')\n",
    "print(f'Consulta inciada -  {datetime.now()}')\n",
    "\n",
    "sqlContext.sql('SELECT TREINEIRO, COUNT(*) AS QTDE_INSCRICAO, ROUND((COUNT(*)/(SELECT COUNT(*)/100 FROM enemtb)),2) AS PERCENTUAL FROM enemtb GROUP BY TREINEIRO ORDER BY COUNT(*) DESC').show()\n",
    "\n",
    "print(f'Consulta realizada com sucesso -  {datetime.now()}')"
   ]
  },
  {
   "cell_type": "code",
   "execution_count": 113,
   "metadata": {
    "tags": []
   },
   "outputs": [
    {
     "output_type": "stream",
     "name": "stdout",
     "text": "Quantidade de inscriçoes por Treineiro por Ano.\n\nConsulta inciada -  2020-08-25 09:44:19.954209\n+----+---------+--------------+----------+\n| ANO|TREINEIRO|QTDE_INSCRICAO|PERCENTUAL|\n+----+---------+--------------+----------+\n|2015|      Não|       6840001|     20.29|\n|2015|      Sim|        906426|      2.69|\n|2016|      Não|       7608438|     22.57|\n|2016|      Sim|       1018929|      3.02|\n|2017|      Não|       6214489|     18.43|\n|2017|      Sim|        516852|      1.53|\n|2018|      Não|       4986038|     14.79|\n|2018|      Sim|        527709|      1.57|\n|2019|      Não|       4478602|     13.28|\n|2019|      Sim|        616668|      1.83|\n+----+---------+--------------+----------+\n\nConsulta realizada com sucesso -  2020-08-25 09:46:52.487952\n"
    }
   ],
   "source": [
    "print('Quantidade de inscriçoes por Treineiro por Ano.')\n",
    "print('')\n",
    "print(f'Consulta inciada -  {datetime.now()}')\n",
    "\n",
    "sqlContext.sql('SELECT NU_ANO AS ANO, TREINEIRO, COUNT(*) AS QTDE_INSCRICAO, ROUND((COUNT(*)/(SELECT COUNT(*)/100 FROM enemtb)),2) AS PERCENTUAL FROM enemtb GROUP BY NU_ANO, TREINEIRO ORDER BY NU_ANO, COUNT(*) DESC').show()\n",
    "\n",
    "print(f'Consulta realizada com sucesso -  {datetime.now()}')"
   ]
  },
  {
   "cell_type": "code",
   "execution_count": 114,
   "metadata": {
    "tags": []
   },
   "outputs": [
    {
     "output_type": "stream",
     "name": "stdout",
     "text": "Quantidade de inscriçoes por Dependência Administrativa Escola.\n\nConsulta inciada -  2020-08-25 09:46:52.630573\n+---------------------------------+--------------+----------+\n|DEPENDENCIA_ADMINISTRATIVA_ESCOLA|QTDE_INSCRICAO|PERCENTUAL|\n+---------------------------------+--------------+----------+\n|                                 |      25801465|     76.53|\n|                         Estadual|       6280273|     18.63|\n|                          Privada|       1337142|      3.97|\n|                          Federal|        212646|      0.63|\n|                        Municipal|         82626|      0.25|\n+---------------------------------+--------------+----------+\n\nConsulta realizada com sucesso -  2020-08-25 09:49:26.724007\n"
    }
   ],
   "source": [
    "print('Quantidade de inscriçoes por Dependência Administrativa Escola.')\n",
    "print('')\n",
    "print(f'Consulta inciada -  {datetime.now()}')\n",
    "\n",
    "sqlContext.sql('SELECT DEPENDENCIA_ADMINISTRATIVA_ESCOLA, COUNT(*) AS QTDE_INSCRICAO, ROUND((COUNT(*)/(SELECT COUNT(*)/100 FROM enemtb)),2) AS PERCENTUAL FROM enemtb GROUP BY DEPENDENCIA_ADMINISTRATIVA_ESCOLA ORDER BY COUNT(*) DESC').show()\n",
    "\n",
    "print(f'Consulta realizada com sucesso -  {datetime.now()}')"
   ]
  },
  {
   "cell_type": "code",
   "execution_count": 115,
   "metadata": {
    "tags": []
   },
   "outputs": [
    {
     "output_type": "stream",
     "name": "stdout",
     "text": "Quantidade de inscriçoes por Dependência Administrativa Escola por Ano.\n\nConsulta inciada -  2020-08-25 09:49:26.740962\n+----+---------------------------------+--------------+----------+\n| ANO|DEPENDENCIA_ADMINISTRATIVA_ESCOLA|QTDE_INSCRICAO|PERCENTUAL|\n+----+---------------------------------+--------------+----------+\n|2015|                                 |       6097169|     18.08|\n|2015|                         Estadual|       1293573|      3.84|\n|2015|                          Privada|        304364|       0.9|\n|2015|                          Federal|         34192|       0.1|\n|2015|                        Municipal|         17129|      0.05|\n|2016|                                 |       6746085|     20.01|\n|2016|                         Estadual|       1501527|      4.45|\n|2016|                          Privada|        319380|      0.95|\n|2016|                          Federal|         38741|      0.11|\n|2016|                        Municipal|         21634|      0.06|\n|2017|                                 |       4945427|     14.67|\n|2017|                         Estadual|       1423466|      4.22|\n|2017|                          Privada|        297228|      0.88|\n|2017|                          Federal|         44845|      0.13|\n|2017|                        Municipal|         20375|      0.06|\n|2018|                                 |       4064926|     12.06|\n|2018|                         Estadual|       1137369|      3.37|\n|2018|                          Privada|        251837|      0.75|\n|2018|                          Federal|         45777|      0.14|\n|2018|                        Municipal|         13838|      0.04|\n|2019|                                 |       3947858|     11.71|\n|2019|                         Estadual|        924338|      2.74|\n|2019|                          Privada|        164333|      0.49|\n|2019|                          Federal|         49091|      0.15|\n|2019|                        Municipal|          9650|      0.03|\n+----+---------------------------------+--------------+----------+\n\nConsulta realizada com sucesso -  2020-08-25 09:51:54.350267\n"
    }
   ],
   "source": [
    "print('Quantidade de inscriçoes por Dependência Administrativa Escola por Ano.')\n",
    "print('')\n",
    "print(f'Consulta inciada -  {datetime.now()}')\n",
    "\n",
    "sqlContext.sql('SELECT NU_ANO AS ANO, DEPENDENCIA_ADMINISTRATIVA_ESCOLA, COUNT(*) AS QTDE_INSCRICAO, ROUND((COUNT(*)/(SELECT COUNT(*)/100 FROM enemtb)),2) AS PERCENTUAL FROM enemtb GROUP BY NU_ANO, DEPENDENCIA_ADMINISTRATIVA_ESCOLA ORDER BY NU_ANO, COUNT(*) DESC').show(30)\n",
    "\n",
    "print(f'Consulta realizada com sucesso -  {datetime.now()}')"
   ]
  },
  {
   "cell_type": "code",
   "execution_count": 116,
   "metadata": {
    "tags": []
   },
   "outputs": [
    {
     "output_type": "stream",
     "name": "stdout",
     "text": "Quantidade de inscriçoes por Localização Escola.\n\nConsulta inciada -  2020-08-25 09:51:54.375201\n+------------------+--------------+----------+\n|LOCALIZACAO_ESCOLA|QTDE_INSCRICAO|PERCENTUAL|\n+------------------+--------------+----------+\n|                  |      25801465|     76.53|\n|            Urbana|       7665166|     22.74|\n|             Rural|        247521|      0.73|\n+------------------+--------------+----------+\n\nConsulta realizada com sucesso -  2020-08-25 09:54:24.570816\n"
    }
   ],
   "source": [
    "print('Quantidade de inscriçoes por Localização Escola.')\n",
    "print('')\n",
    "print(f'Consulta inciada -  {datetime.now()}')\n",
    "\n",
    "sqlContext.sql('SELECT LOCALIZACAO_ESCOLA, COUNT(*) AS QTDE_INSCRICAO, ROUND((COUNT(*)/(SELECT COUNT(*)/100 FROM enemtb)),2) AS PERCENTUAL FROM enemtb GROUP BY LOCALIZACAO_ESCOLA ORDER BY COUNT(*) DESC').show()\n",
    "\n",
    "print(f'Consulta realizada com sucesso -  {datetime.now()}')"
   ]
  },
  {
   "cell_type": "code",
   "execution_count": 117,
   "metadata": {
    "tags": []
   },
   "outputs": [
    {
     "output_type": "stream",
     "name": "stdout",
     "text": "Quantidade de inscriçoes por Localização Escola por Ano.\n\nConsulta inciada -  2020-08-25 09:54:24.590762\n+----+------------------+--------------+----------+\n| ANO|LOCALIZACAO_ESCOLA|QTDE_INSCRICAO|PERCENTUAL|\n+----+------------------+--------------+----------+\n|2015|                  |       6097169|     18.08|\n|2015|            Urbana|       1602743|      4.75|\n|2015|             Rural|         46515|      0.14|\n|2016|                  |       6746085|     20.01|\n|2016|            Urbana|       1827543|      5.42|\n|2016|             Rural|         53739|      0.16|\n|2017|                  |       4945427|     14.67|\n|2017|            Urbana|       1729579|      5.13|\n|2017|             Rural|         56335|      0.17|\n|2018|                  |       4064926|     12.06|\n|2018|            Urbana|       1399430|      4.15|\n|2018|             Rural|         49391|      0.15|\n|2019|                  |       3947858|     11.71|\n|2019|            Urbana|       1105871|      3.28|\n|2019|             Rural|         41541|      0.12|\n+----+------------------+--------------+----------+\n\nConsulta realizada com sucesso -  2020-08-25 09:56:53.205837\n"
    }
   ],
   "source": [
    "print('Quantidade de inscriçoes por Localização Escola por Ano.')\n",
    "print('')\n",
    "print(f'Consulta inciada -  {datetime.now()}')\n",
    "\n",
    "sqlContext.sql('SELECT NU_ANO AS ANO, LOCALIZACAO_ESCOLA, COUNT(*) AS QTDE_INSCRICAO, ROUND((COUNT(*)/(SELECT COUNT(*)/100 FROM enemtb)),2) AS PERCENTUAL FROM enemtb GROUP BY NU_ANO, LOCALIZACAO_ESCOLA ORDER BY NU_ANO, COUNT(*) DESC').show()\n",
    "\n",
    "print(f'Consulta realizada com sucesso -  {datetime.now()}')"
   ]
  },
  {
   "cell_type": "code",
   "execution_count": 118,
   "metadata": {
    "tags": []
   },
   "outputs": [
    {
     "output_type": "stream",
     "name": "stdout",
     "text": "Quantidade de inscriçoes por Baixa Visão.\n\nConsulta inciada -  2020-08-25 09:56:53.231769\n+-----------+--------------+----------+\n|BAIXA_VISAO|QTDE_INSCRICAO|PERCENTUAL|\n+-----------+--------------+----------+\n|        Não|      33673697|     99.88|\n|        Sim|         40455|      0.12|\n+-----------+--------------+----------+\n\nConsulta realizada com sucesso -  2020-08-25 09:59:25.259949\n"
    }
   ],
   "source": [
    "print('Quantidade de inscriçoes por Baixa Visão.')\n",
    "print('')\n",
    "print(f'Consulta inciada -  {datetime.now()}')\n",
    "\n",
    "sqlContext.sql('SELECT BAIXA_VISAO, COUNT(*) AS QTDE_INSCRICAO, ROUND((COUNT(*)/(SELECT COUNT(*)/100 FROM enemtb)),2) AS PERCENTUAL FROM enemtb GROUP BY BAIXA_VISAO ORDER BY COUNT(*) DESC').show()\n",
    "\n",
    "print(f'Consulta realizada com sucesso -  {datetime.now()}')"
   ]
  },
  {
   "cell_type": "code",
   "execution_count": 119,
   "metadata": {
    "tags": []
   },
   "outputs": [
    {
     "output_type": "stream",
     "name": "stdout",
     "text": "Quantidade de inscriçoes por Baixa Visão por Ano.\n\nConsulta inciada -  2020-08-25 09:59:25.285880\n+----+-----------+--------------+----------+\n| ANO|BAIXA_VISAO|QTDE_INSCRICAO|PERCENTUAL|\n+----+-----------+--------------+----------+\n|2015|        Não|       7736290|     22.95|\n|2015|        Sim|         10137|      0.03|\n|2016|        Não|       8615808|     25.56|\n|2016|        Sim|         11559|      0.03|\n|2017|        Não|       6724034|     19.94|\n|2017|        Sim|          7307|      0.02|\n|2018|        Não|       5508496|     16.34|\n|2018|        Sim|          5251|      0.02|\n|2019|        Não|       5089069|     15.09|\n|2019|        Sim|          6201|      0.02|\n+----+-----------+--------------+----------+\n\nConsulta realizada com sucesso -  2020-08-25 10:01:55.790459\n"
    }
   ],
   "source": [
    "print('Quantidade de inscriçoes por Baixa Visão por Ano.')\n",
    "print('')\n",
    "print(f'Consulta inciada -  {datetime.now()}')\n",
    "\n",
    "sqlContext.sql('SELECT NU_ANO AS ANO, BAIXA_VISAO, COUNT(*) AS QTDE_INSCRICAO, ROUND((COUNT(*)/(SELECT COUNT(*)/100 FROM enemtb)),2) AS PERCENTUAL FROM enemtb GROUP BY NU_ANO, BAIXA_VISAO ORDER BY NU_ANO, COUNT(*) DESC').show()\n",
    "\n",
    "print(f'Consulta realizada com sucesso -  {datetime.now()}')"
   ]
  },
  {
   "cell_type": "code",
   "execution_count": 120,
   "metadata": {
    "tags": []
   },
   "outputs": [
    {
     "output_type": "stream",
     "name": "stdout",
     "text": "Quantidade de inscriçoes por Cegueira.\n\nConsulta inciada -  2020-08-25 10:01:55.811404\n+--------+--------------+----------+\n|CEGUEIRA|QTDE_INSCRICAO|PERCENTUAL|\n+--------+--------------+----------+\n|     Não|      33709598|     99.99|\n|     Sim|          4554|      0.01|\n+--------+--------------+----------+\n\nConsulta realizada com sucesso -  2020-08-25 10:04:22.798139\n"
    }
   ],
   "source": [
    "print('Quantidade de inscriçoes por Cegueira.')\n",
    "print('')\n",
    "print(f'Consulta inciada -  {datetime.now()}')\n",
    "\n",
    "sqlContext.sql('SELECT CEGUEIRA, COUNT(*) AS QTDE_INSCRICAO, ROUND((COUNT(*)/(SELECT COUNT(*)/100 FROM enemtb)),2) AS PERCENTUAL FROM enemtb GROUP BY CEGUEIRA ORDER BY COUNT(*) DESC').show()\n",
    "\n",
    "print(f'Consulta realizada com sucesso -  {datetime.now()}')"
   ]
  },
  {
   "cell_type": "code",
   "execution_count": 121,
   "metadata": {
    "tags": []
   },
   "outputs": [
    {
     "output_type": "stream",
     "name": "stdout",
     "text": "Quantidade de inscriçoes por Cegueira por Ano.\n\nConsulta inciada -  2020-08-25 10:04:22.831080\n+----+--------+--------------+----------+\n| ANO|CEGUEIRA|QTDE_INSCRICAO|PERCENTUAL|\n+----+--------+--------------+----------+\n|2015|     Não|       7745386|     22.97|\n|2015|     Sim|          1041|       0.0|\n|2016|     Não|       8626211|     25.59|\n|2016|     Sim|          1156|       0.0|\n|2017|     Não|       6730457|     19.96|\n|2017|     Sim|           884|       0.0|\n|2018|     Não|       5512989|     16.35|\n|2018|     Sim|           758|       0.0|\n|2019|     Não|       5094555|     15.11|\n|2019|     Sim|           715|       0.0|\n+----+--------+--------------+----------+\n\nConsulta realizada com sucesso -  2020-08-25 10:06:51.121919\n"
    }
   ],
   "source": [
    "print('Quantidade de inscriçoes por Cegueira por Ano.')\n",
    "print('')\n",
    "print(f'Consulta inciada -  {datetime.now()}')\n",
    "\n",
    "sqlContext.sql('SELECT NU_ANO AS ANO, CEGUEIRA, COUNT(*) AS QTDE_INSCRICAO, ROUND((COUNT(*)/(SELECT COUNT(*)/100 FROM enemtb)),2) AS PERCENTUAL FROM enemtb GROUP BY NU_ANO, CEGUEIRA ORDER BY NU_ANO, COUNT(*) DESC').show()\n",
    "\n",
    "print(f'Consulta realizada com sucesso -  {datetime.now()}')"
   ]
  },
  {
   "cell_type": "code",
   "execution_count": 122,
   "metadata": {
    "tags": []
   },
   "outputs": [
    {
     "output_type": "stream",
     "name": "stdout",
     "text": "Quantidade de inscriçoes por Surdez.\n\nConsulta inciada -  2020-08-25 10:06:51.138874\n+------+--------------+----------+\n|SURDEZ|QTDE_INSCRICAO|PERCENTUAL|\n+------+--------------+----------+\n|   Não|      33705038|     99.97|\n|   Sim|          9114|      0.03|\n+------+--------------+----------+\n\nConsulta realizada com sucesso -  2020-08-25 10:09:18.544906\n"
    }
   ],
   "source": [
    "print('Quantidade de inscriçoes por Surdez.')\n",
    "print('')\n",
    "print(f'Consulta inciada -  {datetime.now()}')\n",
    "\n",
    "sqlContext.sql('SELECT SURDEZ, COUNT(*) AS QTDE_INSCRICAO, ROUND((COUNT(*)/(SELECT COUNT(*)/100 FROM enemtb)),2) AS PERCENTUAL FROM enemtb GROUP BY SURDEZ ORDER BY COUNT(*) DESC').show()\n",
    "\n",
    "print(f'Consulta realizada com sucesso -  {datetime.now()}')"
   ]
  },
  {
   "cell_type": "code",
   "execution_count": 123,
   "metadata": {
    "tags": []
   },
   "outputs": [
    {
     "output_type": "stream",
     "name": "stdout",
     "text": "Quantidade de inscriçoes por Surdez por Ano.\n\nConsulta inciada -  2020-08-25 10:09:18.572833\n+----+------+--------------+----------+\n| ANO|SURDEZ|QTDE_INSCRICAO|PERCENTUAL|\n+----+------+--------------+----------+\n|2015|   Não|       7744597|     22.97|\n|2015|   Sim|          1830|      0.01|\n|2016|   Não|       8625076|     25.58|\n|2016|   Sim|          2291|      0.01|\n|2017|   Não|       6729416|     19.96|\n|2017|   Sim|          1925|      0.01|\n|2018|   Não|       5512302|     16.35|\n|2018|   Sim|          1445|       0.0|\n|2019|   Não|       5093647|     15.11|\n|2019|   Sim|          1623|       0.0|\n+----+------+--------------+----------+\n\nConsulta realizada com sucesso -  2020-08-25 10:11:46.406974\n"
    }
   ],
   "source": [
    "print('Quantidade de inscriçoes por Surdez por Ano.')\n",
    "print('')\n",
    "print(f'Consulta inciada -  {datetime.now()}')\n",
    "\n",
    "sqlContext.sql('SELECT NU_ANO AS ANO, SURDEZ, COUNT(*) AS QTDE_INSCRICAO, ROUND((COUNT(*)/(SELECT COUNT(*)/100 FROM enemtb)),2) AS PERCENTUAL FROM enemtb GROUP BY NU_ANO, SURDEZ ORDER BY NU_ANO, COUNT(*) DESC').show()\n",
    "\n",
    "print(f'Consulta realizada com sucesso -  {datetime.now()}')"
   ]
  },
  {
   "cell_type": "code",
   "execution_count": 124,
   "metadata": {
    "tags": []
   },
   "outputs": [
    {
     "output_type": "stream",
     "name": "stdout",
     "text": "Quantidade de inscriçoes por Deficiência Auditiva.\n\nConsulta inciada -  2020-08-25 10:11:46.440882\n+--------------------+--------------+----------+\n|DEFICIENCIA_AUDITIVA|QTDE_INSCRICAO|PERCENTUAL|\n+--------------------+--------------+----------+\n|                 Não|      33691704|     99.93|\n|                 Sim|         22448|      0.07|\n+--------------------+--------------+----------+\n\nConsulta realizada com sucesso -  2020-08-25 10:14:13.895067\n"
    }
   ],
   "source": [
    "print('Quantidade de inscriçoes por Deficiência Auditiva.')\n",
    "print('')\n",
    "print(f'Consulta inciada -  {datetime.now()}')\n",
    "\n",
    "sqlContext.sql('SELECT DEFICIENCIA_AUDITIVA, COUNT(*) AS QTDE_INSCRICAO, ROUND((COUNT(*)/(SELECT COUNT(*)/100 FROM enemtb)),2) AS PERCENTUAL FROM enemtb GROUP BY DEFICIENCIA_AUDITIVA ORDER BY COUNT(*) DESC').show()\n",
    "\n",
    "print(f'Consulta realizada com sucesso -  {datetime.now()}')"
   ]
  },
  {
   "cell_type": "code",
   "execution_count": 125,
   "metadata": {
    "tags": []
   },
   "outputs": [
    {
     "output_type": "stream",
     "name": "stdout",
     "text": "Quantidade de inscriçoes por Deficiência Auditiva por Ano.\n\nConsulta inciada -  2020-08-25 10:14:13.918007\n+----+--------------------+--------------+----------+\n| ANO|DEFICIENCIA_AUDITIVA|QTDE_INSCRICAO|PERCENTUAL|\n+----+--------------------+--------------+----------+\n|2015|                 Não|       7740119|     22.96|\n|2015|                 Sim|          6308|      0.02|\n|2016|                 Não|       8620236|     25.57|\n|2016|                 Sim|          7131|      0.02|\n|2017|                 Não|       6726951|     19.95|\n|2017|                 Sim|          4390|      0.01|\n|2018|                 Não|       5511331|     16.35|\n|2018|                 Sim|          2416|      0.01|\n|2019|                 Não|       5093067|     15.11|\n|2019|                 Sim|          2203|      0.01|\n+----+--------------------+--------------+----------+\n\nConsulta realizada com sucesso -  2020-08-25 10:16:41.015451\n"
    }
   ],
   "source": [
    "print('Quantidade de inscriçoes por Deficiência Auditiva por Ano.')\n",
    "print('')\n",
    "print(f'Consulta inciada -  {datetime.now()}')\n",
    "\n",
    "sqlContext.sql('SELECT NU_ANO AS ANO, DEFICIENCIA_AUDITIVA, COUNT(*) AS QTDE_INSCRICAO, ROUND((COUNT(*)/(SELECT COUNT(*)/100 FROM enemtb)),2) AS PERCENTUAL FROM enemtb GROUP BY NU_ANO, DEFICIENCIA_AUDITIVA ORDER BY NU_ANO, COUNT(*) DESC').show()\n",
    "\n",
    "print(f'Consulta realizada com sucesso -  {datetime.now()}')"
   ]
  },
  {
   "cell_type": "code",
   "execution_count": 126,
   "metadata": {
    "tags": []
   },
   "outputs": [
    {
     "output_type": "stream",
     "name": "stdout",
     "text": "Quantidade de inscriçoes por Surdo_Cegueira.\n\nConsulta inciada -  2020-08-25 10:16:41.036394\n+--------------+--------------+----------+\n|SURDO_CEGUEIRA|QTDE_INSCRICAO|PERCENTUAL|\n+--------------+--------------+----------+\n|           Não|      33714026|     100.0|\n|           Sim|           126|       0.0|\n+--------------+--------------+----------+\n\nConsulta realizada com sucesso -  2020-08-25 10:19:08.536809\n"
    }
   ],
   "source": [
    "print('Quantidade de inscriçoes por Surdo_Cegueira.')\n",
    "print('')\n",
    "print(f'Consulta inciada -  {datetime.now()}')\n",
    "\n",
    "sqlContext.sql('SELECT SURDO_CEGUEIRA, COUNT(*) AS QTDE_INSCRICAO, ROUND((COUNT(*)/(SELECT COUNT(*)/100 FROM enemtb)),2) AS PERCENTUAL FROM enemtb GROUP BY SURDO_CEGUEIRA ORDER BY COUNT(*) DESC').show()\n",
    "\n",
    "print(f'Consulta realizada com sucesso -  {datetime.now()}')"
   ]
  },
  {
   "cell_type": "code",
   "execution_count": 260,
   "metadata": {
    "tags": []
   },
   "outputs": [
    {
     "output_type": "stream",
     "name": "stdout",
     "text": "Quantidade de inscriçoes por Surdo_Cegueira por Ano.\n\nConsulta inciada -  2020-08-25 16:54:20.719818\n+----+--------------+--------------+----------+\n| ANO|SURDO_CEGUEIRA|QTDE_INSCRICAO|PERCENTUAL|\n+----+--------------+--------------+----------+\n|2015|           Não|       7746405|     22.98|\n|2015|           Sim|            22|       0.0|\n|2016|           Não|       8627344|     25.59|\n|2016|           Sim|            23|       0.0|\n|2017|           Não|       6731320|     19.97|\n|2017|           Sim|            21|       0.0|\n|2018|           Não|       5513734|     16.35|\n|2018|           Sim|            13|       0.0|\n|2019|           Não|       5095223|     15.11|\n|2019|           Sim|            47|       0.0|\n+----+--------------+--------------+----------+\n\nConsulta realizada com sucesso -  2020-08-25 16:56:57.161410\n"
    }
   ],
   "source": [
    "print('Quantidade de inscriçoes por Surdo_Cegueira por Ano.')\n",
    "print('')\n",
    "print(f'Consulta inciada -  {datetime.now()}')\n",
    "\n",
    "sqlContext.sql('SELECT NU_ANO AS ANO, SURDO_CEGUEIRA, COUNT(*) AS QTDE_INSCRICAO, ROUND((COUNT(*)/(SELECT COUNT(*)/100 FROM enemtb)),2) AS PERCENTUAL FROM enemtb GROUP BY NU_ANO, SURDO_CEGUEIRA ORDER BY NU_ANO, COUNT(*) DESC').show()\n",
    "\n",
    "print(f'Consulta realizada com sucesso -  {datetime.now()}')"
   ]
  },
  {
   "cell_type": "code",
   "execution_count": 128,
   "metadata": {
    "tags": []
   },
   "outputs": [
    {
     "output_type": "stream",
     "name": "stdout",
     "text": "Quantidade de inscriçoes por Deficiência Física.\n\nConsulta inciada -  2020-08-25 10:19:09.128231\n+------------------+--------------+----------+\n|DEFICIENCIA_FISICA|QTDE_INSCRICAO|PERCENTUAL|\n+------------------+--------------+----------+\n|               Não|      33643894|     99.79|\n|               Sim|         70258|      0.21|\n+------------------+--------------+----------+\n\nConsulta realizada com sucesso -  2020-08-25 10:21:34.479914\n"
    }
   ],
   "source": [
    "print('Quantidade de inscriçoes por Deficiência Física.')\n",
    "print('')\n",
    "print(f'Consulta inciada -  {datetime.now()}')\n",
    "\n",
    "sqlContext.sql('SELECT DEFICIENCIA_FISICA, COUNT(*) AS QTDE_INSCRICAO, ROUND((COUNT(*)/(SELECT COUNT(*)/100 FROM enemtb)),2) AS PERCENTUAL FROM enemtb GROUP BY DEFICIENCIA_FISICA ORDER BY COUNT(*) DESC').show()\n",
    "\n",
    "print(f'Consulta realizada com sucesso -  {datetime.now()}')"
   ]
  },
  {
   "cell_type": "code",
   "execution_count": 259,
   "metadata": {
    "tags": []
   },
   "outputs": [
    {
     "output_type": "stream",
     "name": "stdout",
     "text": "Quantidade de inscriçoes por Deficiência Física por Ano.\n\nConsulta inciada -  2020-08-25 16:50:07.959327\n+----+------------------+--------------+----------+\n| ANO|DEFICIENCIA_FISICA|QTDE_INSCRICAO|PERCENTUAL|\n+----+------------------+--------------+----------+\n|2015|               Não|       7727373|     22.92|\n|2015|               Sim|         19054|      0.06|\n|2016|               Não|       8604998|     25.52|\n|2016|               Sim|         22369|      0.07|\n|2017|               Não|       6718917|     19.93|\n|2017|               Sim|         12424|      0.04|\n|2018|               Não|       5504818|     16.33|\n|2018|               Sim|          8929|      0.03|\n|2019|               Não|       5087788|     15.09|\n|2019|               Sim|          7482|      0.02|\n+----+------------------+--------------+----------+\n\nConsulta realizada com sucesso -  2020-08-25 16:52:47.472513\n"
    }
   ],
   "source": [
    "print('Quantidade de inscriçoes por Deficiência Física por Ano.')\n",
    "print('')\n",
    "print(f'Consulta inciada -  {datetime.now()}')\n",
    "\n",
    "sqlContext.sql('SELECT NU_ANO AS ANO, DEFICIENCIA_FISICA, COUNT(*) AS QTDE_INSCRICAO, ROUND((COUNT(*)/(SELECT COUNT(*)/100 FROM enemtb)),2) AS PERCENTUAL FROM enemtb GROUP BY NU_ANO, DEFICIENCIA_FISICA ORDER BY NU_ANO, COUNT(*) DESC').show()\n",
    "\n",
    "print(f'Consulta realizada com sucesso -  {datetime.now()}')"
   ]
  },
  {
   "cell_type": "code",
   "execution_count": 130,
   "metadata": {
    "tags": []
   },
   "outputs": [
    {
     "output_type": "stream",
     "name": "stdout",
     "text": "Quantidade de inscriçoes por Deficiência Mental.\n\nConsulta inciada -  2020-08-25 10:21:34.567681\n+------------------+--------------+----------+\n|DEFICIENCIA_MENTAL|QTDE_INSCRICAO|PERCENTUAL|\n+------------------+--------------+----------+\n|               Não|      33704239|     99.97|\n|               Sim|          9913|      0.03|\n+------------------+--------------+----------+\n\nConsulta realizada com sucesso -  2020-08-25 10:23:59.467509\n"
    }
   ],
   "source": [
    "print('Quantidade de inscriçoes por Deficiência Mental.')\n",
    "print('')\n",
    "print(f'Consulta inciada -  {datetime.now()}')\n",
    "\n",
    "sqlContext.sql('SELECT DEFICIENCIA_MENTAL, COUNT(*) AS QTDE_INSCRICAO, ROUND((COUNT(*)/(SELECT COUNT(*)/100 FROM enemtb)),2) AS PERCENTUAL FROM enemtb GROUP BY DEFICIENCIA_MENTAL ORDER BY COUNT(*) DESC').show()\n",
    "\n",
    "print(f'Consulta realizada com sucesso -  {datetime.now()}')"
   ]
  },
  {
   "cell_type": "code",
   "execution_count": 131,
   "metadata": {
    "tags": []
   },
   "outputs": [
    {
     "output_type": "stream",
     "name": "stdout",
     "text": "Quantidade de inscriçoes por Deficiência Mental por Ano.\n\nConsulta inciada -  2020-08-25 10:23:59.483467\n+----+------------------+--------------+----------+\n| ANO|DEFICIENCIA_MENTAL|QTDE_INSCRICAO|PERCENTUAL|\n+----+------------------+--------------+----------+\n|2015|               Não|       7744235|     22.97|\n|2015|               Sim|          2192|      0.01|\n|2016|               Não|       8626259|     25.59|\n|2016|               Sim|          1108|       0.0|\n|2017|               Não|       6728929|     19.96|\n|2017|               Sim|          2412|      0.01|\n|2018|               Não|       5511794|     16.35|\n|2018|               Sim|          1953|      0.01|\n|2019|               Não|       5093022|     15.11|\n|2019|               Sim|          2248|      0.01|\n+----+------------------+--------------+----------+\n\nConsulta realizada com sucesso -  2020-08-25 10:26:25.262380\n"
    }
   ],
   "source": [
    "print('Quantidade de inscriçoes por Deficiência Mental por Ano.')\n",
    "print('')\n",
    "print(f'Consulta inciada -  {datetime.now()}')\n",
    "\n",
    "sqlContext.sql('SELECT NU_ANO AS ANO, DEFICIENCIA_MENTAL, COUNT(*) AS QTDE_INSCRICAO, ROUND((COUNT(*)/(SELECT COUNT(*)/100 FROM enemtb)),2) AS PERCENTUAL FROM enemtb GROUP BY NU_ANO, DEFICIENCIA_MENTAL ORDER BY NU_ANO, COUNT(*) DESC').show()\n",
    "\n",
    "print(f'Consulta realizada com sucesso -  {datetime.now()}')"
   ]
  },
  {
   "cell_type": "code",
   "execution_count": 132,
   "metadata": {
    "tags": []
   },
   "outputs": [
    {
     "output_type": "stream",
     "name": "stdout",
     "text": "Quantidade de inscriçoes por Deficit de Atenção.\n\nConsulta inciada -  2020-08-25 10:26:25.286314\n+---------------+--------------+----------+\n|DEFICIT_ATENCAO|QTDE_INSCRICAO|PERCENTUAL|\n+---------------+--------------+----------+\n|            Não|      33681678|      99.9|\n|            Sim|         32474|       0.1|\n+---------------+--------------+----------+\n\nConsulta realizada com sucesso -  2020-08-25 10:28:50.640964\n"
    }
   ],
   "source": [
    "print('Quantidade de inscriçoes por Deficit de Atenção.')\n",
    "print('')\n",
    "print(f'Consulta inciada -  {datetime.now()}')\n",
    "\n",
    "sqlContext.sql('SELECT DEFICIT_ATENCAO, COUNT(*) AS QTDE_INSCRICAO, ROUND((COUNT(*)/(SELECT COUNT(*)/100 FROM enemtb)),2) AS PERCENTUAL FROM enemtb GROUP BY DEFICIT_ATENCAO ORDER BY COUNT(*) DESC').show()\n",
    "\n",
    "print(f'Consulta realizada com sucesso -  {datetime.now()}')"
   ]
  },
  {
   "cell_type": "code",
   "execution_count": 133,
   "metadata": {
    "tags": []
   },
   "outputs": [
    {
     "output_type": "stream",
     "name": "stdout",
     "text": "Quantidade de inscriçoes por Deficit de Atenção por Ano.\n\nConsulta inciada -  2020-08-25 10:28:50.660912\n+----+---------------+--------------+----------+\n| ANO|DEFICIT_ATENCAO|QTDE_INSCRICAO|PERCENTUAL|\n+----+---------------+--------------+----------+\n|2015|            Não|       7742579|     22.97|\n|2015|            Sim|          3848|      0.01|\n|2016|            Não|       8622067|     25.57|\n|2016|            Sim|          5300|      0.02|\n|2017|            Não|       6723552|     19.94|\n|2017|            Sim|          7789|      0.02|\n|2018|            Não|       5506548|     16.33|\n|2018|            Sim|          7199|      0.02|\n|2019|            Não|       5086932|     15.09|\n|2019|            Sim|          8338|      0.02|\n+----+---------------+--------------+----------+\n\nConsulta realizada com sucesso -  2020-08-25 10:31:18.318943\n"
    }
   ],
   "source": [
    "print('Quantidade de inscriçoes por Deficit de Atenção por Ano.')\n",
    "print('')\n",
    "print(f'Consulta inciada -  {datetime.now()}')\n",
    "\n",
    "sqlContext.sql('SELECT NU_ANO AS ANO, DEFICIT_ATENCAO, COUNT(*) AS QTDE_INSCRICAO, ROUND((COUNT(*)/(SELECT COUNT(*)/100 FROM enemtb)),2) AS PERCENTUAL FROM enemtb GROUP BY NU_ANO, DEFICIT_ATENCAO ORDER BY NU_ANO, COUNT(*) DESC').show()\n",
    "\n",
    "print(f'Consulta realizada com sucesso -  {datetime.now()}')"
   ]
  },
  {
   "cell_type": "code",
   "execution_count": 134,
   "metadata": {
    "tags": []
   },
   "outputs": [
    {
     "output_type": "stream",
     "name": "stdout",
     "text": "Quantidade de inscriçoes por Dislexia.\n\nConsulta inciada -  2020-08-25 10:31:18.343875\n+--------+--------------+----------+\n|DISLEXIA|QTDE_INSCRICAO|PERCENTUAL|\n+--------+--------------+----------+\n|     Não|      33707202|     99.98|\n|     Sim|          6950|      0.02|\n+--------+--------------+----------+\n\nConsulta realizada com sucesso -  2020-08-25 10:33:43.274485\n"
    }
   ],
   "source": [
    "print('Quantidade de inscriçoes por Dislexia.')\n",
    "print('')\n",
    "print(f'Consulta inciada -  {datetime.now()}')\n",
    "\n",
    "sqlContext.sql('SELECT DISLEXIA, COUNT(*) AS QTDE_INSCRICAO, ROUND((COUNT(*)/(SELECT COUNT(*)/100 FROM enemtb)),2) AS PERCENTUAL FROM enemtb GROUP BY DISLEXIA ORDER BY COUNT(*) DESC').show()\n",
    "\n",
    "print(f'Consulta realizada com sucesso -  {datetime.now()}')"
   ]
  },
  {
   "cell_type": "code",
   "execution_count": 135,
   "metadata": {
    "tags": []
   },
   "outputs": [
    {
     "output_type": "stream",
     "name": "stdout",
     "text": "Quantidade de inscriçoes por Dislexia por Ano.\n\nConsulta inciada -  2020-08-25 10:33:43.294430\n+----+--------+--------------+----------+\n| ANO|DISLEXIA|QTDE_INSCRICAO|PERCENTUAL|\n+----+--------+--------------+----------+\n|2015|     Não|       7745367|     22.97|\n|2015|     Sim|          1060|       0.0|\n|2016|     Não|       8625928|     25.59|\n|2016|     Sim|          1439|       0.0|\n|2017|     Não|       6729904|     19.96|\n|2017|     Sim|          1437|       0.0|\n|2018|     Não|       5512329|     16.35|\n|2018|     Sim|          1418|       0.0|\n|2019|     Não|       5093674|     15.11|\n|2019|     Sim|          1596|       0.0|\n+----+--------+--------------+----------+\n\nConsulta realizada com sucesso -  2020-08-25 10:36:08.946358\n"
    }
   ],
   "source": [
    "print('Quantidade de inscriçoes por Dislexia por Ano.')\n",
    "print('')\n",
    "print(f'Consulta inciada -  {datetime.now()}')\n",
    "\n",
    "sqlContext.sql('SELECT NU_ANO AS ANO, DISLEXIA, COUNT(*) AS QTDE_INSCRICAO, ROUND((COUNT(*)/(SELECT COUNT(*)/100 FROM enemtb)),2) AS PERCENTUAL FROM enemtb GROUP BY NU_ANO, DISLEXIA ORDER BY NU_ANO, COUNT(*) DESC').show()\n",
    "\n",
    "print(f'Consulta realizada com sucesso -  {datetime.now()}')"
   ]
  },
  {
   "cell_type": "code",
   "execution_count": 136,
   "metadata": {
    "tags": []
   },
   "outputs": [
    {
     "output_type": "stream",
     "name": "stdout",
     "text": "Quantidade de inscriçoes por Discalculia.\n\nConsulta inciada -  2020-08-25 10:36:08.975280\n+-----------+--------------+----------+\n|DISCALCULIA|QTDE_INSCRICAO|PERCENTUAL|\n+-----------+--------------+----------+\n|        Não|      33712676|     100.0|\n|        Sim|          1476|       0.0|\n+-----------+--------------+----------+\n\nConsulta realizada com sucesso -  2020-08-25 10:38:38.317239\n"
    }
   ],
   "source": [
    "print('Quantidade de inscriçoes por Discalculia.')\n",
    "print('')\n",
    "print(f'Consulta inciada -  {datetime.now()}')\n",
    "\n",
    "sqlContext.sql('SELECT DISCALCULIA, COUNT(*) AS QTDE_INSCRICAO, ROUND((COUNT(*)/(SELECT COUNT(*)/100 FROM enemtb)),2) AS PERCENTUAL FROM enemtb GROUP BY DISCALCULIA ORDER BY COUNT(*) DESC').show()\n",
    "\n",
    "print(f'Consulta realizada com sucesso -  {datetime.now()}')"
   ]
  },
  {
   "cell_type": "code",
   "execution_count": 137,
   "metadata": {
    "tags": []
   },
   "outputs": [
    {
     "output_type": "stream",
     "name": "stdout",
     "text": "Quantidade de inscriçoes por Discalculia por Ano.\n\nConsulta inciada -  2020-08-25 10:38:38.342173\n+----+-----------+--------------+----------+\n| ANO|DISCALCULIA|QTDE_INSCRICAO|PERCENTUAL|\n+----+-----------+--------------+----------+\n|2015|        Não|       7746248|     22.98|\n|2015|        Sim|           179|       0.0|\n|2016|        Não|       8627025|     25.59|\n|2016|        Sim|           342|       0.0|\n|2017|        Não|       6731068|     19.97|\n|2017|        Sim|           273|       0.0|\n|2018|        Não|       5513447|     16.35|\n|2018|        Sim|           300|       0.0|\n|2019|        Não|       5094888|     15.11|\n|2019|        Sim|           382|       0.0|\n+----+-----------+--------------+----------+\n\nConsulta realizada com sucesso -  2020-08-25 10:41:04.813095\n"
    }
   ],
   "source": [
    "print('Quantidade de inscriçoes por Discalculia por Ano.')\n",
    "print('')\n",
    "print(f'Consulta inciada -  {datetime.now()}')\n",
    "\n",
    "sqlContext.sql('SELECT NU_ANO AS ANO, DISCALCULIA, COUNT(*) AS QTDE_INSCRICAO, ROUND((COUNT(*)/(SELECT COUNT(*)/100 FROM enemtb)),2) AS PERCENTUAL FROM enemtb GROUP BY NU_ANO, DISCALCULIA ORDER BY NU_ANO, COUNT(*) DESC').show()\n",
    "\n",
    "print(f'Consulta realizada com sucesso -  {datetime.now()}')"
   ]
  },
  {
   "cell_type": "code",
   "execution_count": 138,
   "metadata": {
    "tags": []
   },
   "outputs": [
    {
     "output_type": "stream",
     "name": "stdout",
     "text": "Quantidade de inscriçoes por Autismo.\n\nConsulta inciada -  2020-08-25 10:41:04.845010\n+-------+--------------+----------+\n|AUTISMO|QTDE_INSCRICAO|PERCENTUAL|\n+-------+--------------+----------+\n|    Não|      33710842|     99.99|\n|    Sim|          3310|      0.01|\n+-------+--------------+----------+\n\nConsulta realizada com sucesso -  2020-08-25 10:43:36.276693\n"
    }
   ],
   "source": [
    "print('Quantidade de inscriçoes por Autismo.')\n",
    "print('')\n",
    "print(f'Consulta inciada -  {datetime.now()}')\n",
    "\n",
    "sqlContext.sql('SELECT AUTISMO, COUNT(*) AS QTDE_INSCRICAO, ROUND((COUNT(*)/(SELECT COUNT(*)/100 FROM enemtb)),2) AS PERCENTUAL FROM enemtb GROUP BY AUTISMO ORDER BY COUNT(*) DESC').show()\n",
    "\n",
    "print(f'Consulta realizada com sucesso -  {datetime.now()}')"
   ]
  },
  {
   "cell_type": "code",
   "execution_count": 139,
   "metadata": {
    "tags": []
   },
   "outputs": [
    {
     "output_type": "stream",
     "name": "stdout",
     "text": "Quantidade de inscriçoes por Autismo por Ano.\n\nConsulta inciada -  2020-08-25 10:43:36.427290\n+----+-------+--------------+----------+\n| ANO|AUTISMO|QTDE_INSCRICAO|PERCENTUAL|\n+----+-------+--------------+----------+\n|2015|    Não|       7746171|     22.98|\n|2015|    Sim|           256|       0.0|\n|2016|    Não|       8626995|     25.59|\n|2016|    Sim|           372|       0.0|\n|2017|    Não|       6730637|     19.96|\n|2017|    Sim|           704|       0.0|\n|2018|    Não|       5512973|     16.35|\n|2018|    Sim|           774|       0.0|\n|2019|    Não|       5094066|     15.11|\n|2019|    Sim|          1204|       0.0|\n+----+-------+--------------+----------+\n\nConsulta realizada com sucesso -  2020-08-25 10:46:10.124179\n"
    }
   ],
   "source": [
    "print('Quantidade de inscriçoes por Autismo por Ano.')\n",
    "print('')\n",
    "print(f'Consulta inciada -  {datetime.now()}')\n",
    "\n",
    "sqlContext.sql('SELECT NU_ANO AS ANO, AUTISMO, COUNT(*) AS QTDE_INSCRICAO, ROUND((COUNT(*)/(SELECT COUNT(*)/100 FROM enemtb)),2) AS PERCENTUAL FROM enemtb GROUP BY NU_ANO, AUTISMO ORDER BY NU_ANO, COUNT(*) DESC').show()\n",
    "\n",
    "print(f'Consulta realizada com sucesso -  {datetime.now()}')"
   ]
  },
  {
   "cell_type": "code",
   "execution_count": 140,
   "metadata": {
    "tags": []
   },
   "outputs": [
    {
     "output_type": "stream",
     "name": "stdout",
     "text": "Quantidade de inscriçoes por Visão Monocular.\n\nConsulta inciada -  2020-08-25 10:46:10.213942\n+---------------+--------------+----------+\n|VISAO_MONOCULAR|QTDE_INSCRICAO|PERCENTUAL|\n+---------------+--------------+----------+\n|            Não|      33703225|     99.97|\n|            Sim|         10927|      0.03|\n+---------------+--------------+----------+\n\nConsulta realizada com sucesso -  2020-08-25 10:48:36.469830\n"
    }
   ],
   "source": [
    "print('Quantidade de inscriçoes por Visão Monocular.')\n",
    "print('')\n",
    "print(f'Consulta inciada -  {datetime.now()}')\n",
    "\n",
    "sqlContext.sql('SELECT VISAO_MONOCULAR, COUNT(*) AS QTDE_INSCRICAO, ROUND((COUNT(*)/(SELECT COUNT(*)/100 FROM enemtb)),2) AS PERCENTUAL FROM enemtb GROUP BY VISAO_MONOCULAR ORDER BY COUNT(*) DESC').show()\n",
    "\n",
    "print(f'Consulta realizada com sucesso -  {datetime.now()}')"
   ]
  },
  {
   "cell_type": "code",
   "execution_count": 141,
   "metadata": {
    "tags": []
   },
   "outputs": [
    {
     "output_type": "stream",
     "name": "stdout",
     "text": "Quantidade de inscriçoes por Visão Monocular por Ano.\n\nConsulta inciada -  2020-08-25 10:48:36.500746\n+----+---------------+--------------+----------+\n| ANO|VISAO_MONOCULAR|QTDE_INSCRICAO|PERCENTUAL|\n+----+---------------+--------------+----------+\n|2015|            Não|       7743474|     22.97|\n|2015|            Sim|          2953|      0.01|\n|2016|            Não|       8623622|     25.58|\n|2016|            Sim|          3745|      0.01|\n|2017|            Não|       6729621|     19.96|\n|2017|            Sim|          1720|      0.01|\n|2018|            Não|       5512347|     16.35|\n|2018|            Sim|          1400|       0.0|\n|2019|            Não|       5094161|     15.11|\n|2019|            Sim|          1109|       0.0|\n+----+---------------+--------------+----------+\n\nConsulta realizada com sucesso -  2020-08-25 10:51:07.975753\n"
    }
   ],
   "source": [
    "print('Quantidade de inscriçoes por Visão Monocular por Ano.')\n",
    "print('')\n",
    "print(f'Consulta inciada -  {datetime.now()}')\n",
    "\n",
    "sqlContext.sql('SELECT NU_ANO AS ANO, VISAO_MONOCULAR, COUNT(*) AS QTDE_INSCRICAO, ROUND((COUNT(*)/(SELECT COUNT(*)/100 FROM enemtb)),2) AS PERCENTUAL FROM enemtb GROUP BY NU_ANO, VISAO_MONOCULAR ORDER BY NU_ANO, COUNT(*) DESC').show()\n",
    "\n",
    "print(f'Consulta realizada com sucesso -  {datetime.now()}')"
   ]
  },
  {
   "cell_type": "code",
   "execution_count": 142,
   "metadata": {
    "tags": []
   },
   "outputs": [
    {
     "output_type": "stream",
     "name": "stdout",
     "text": "Quantidade de inscriçoes por Outra Deficiência.\n\nConsulta inciada -  2020-08-25 10:51:08.019634\n+---------+--------------+----------+\n|OUTRA_DEF|QTDE_INSCRICAO|PERCENTUAL|\n+---------+--------------+----------+\n|      Não|      33695615|     99.95|\n|      Sim|         18537|      0.05|\n+---------+--------------+----------+\n\nConsulta realizada com sucesso -  2020-08-25 10:53:44.782208\n"
    }
   ],
   "source": [
    "print('Quantidade de inscriçoes por Outra Deficiência.')\n",
    "print('')\n",
    "print(f'Consulta inciada -  {datetime.now()}')\n",
    "\n",
    "sqlContext.sql('SELECT OUTRA_DEF, COUNT(*) AS QTDE_INSCRICAO, ROUND((COUNT(*)/(SELECT COUNT(*)/100 FROM enemtb)),2) AS PERCENTUAL FROM enemtb GROUP BY OUTRA_DEF ORDER BY COUNT(*) DESC').show()\n",
    "\n",
    "print(f'Consulta realizada com sucesso -  {datetime.now()}')"
   ]
  },
  {
   "cell_type": "code",
   "execution_count": 143,
   "metadata": {
    "tags": []
   },
   "outputs": [
    {
     "output_type": "stream",
     "name": "stdout",
     "text": "Quantidade de inscriçoes por Outra Deficiência por Ano.\n\nConsulta inciada -  2020-08-25 10:53:44.809135\n+----+---------+--------------+----------+\n| ANO|OUTRA_DEF|QTDE_INSCRICAO|PERCENTUAL|\n+----+---------+--------------+----------+\n|2015|      Não|       7745132|     22.97|\n|2015|      Sim|          1295|       0.0|\n|2016|      Não|       8623835|     25.58|\n|2016|      Sim|          3532|      0.01|\n|2017|      Não|       6725390|     19.95|\n|2017|      Sim|          5951|      0.02|\n|2018|      Não|       5509052|     16.34|\n|2018|      Sim|          4695|      0.01|\n|2019|      Não|       5092206|      15.1|\n|2019|      Sim|          3064|      0.01|\n+----+---------+--------------+----------+\n\nConsulta realizada com sucesso -  2020-08-25 10:56:21.693492\n"
    }
   ],
   "source": [
    "print('Quantidade de inscriçoes por Outra Deficiência por Ano.')\n",
    "print('')\n",
    "print(f'Consulta inciada -  {datetime.now()}')\n",
    "\n",
    "sqlContext.sql('SELECT NU_ANO AS ANO, OUTRA_DEF, COUNT(*) AS QTDE_INSCRICAO, ROUND((COUNT(*)/(SELECT COUNT(*)/100 FROM enemtb)),2) AS PERCENTUAL FROM enemtb GROUP BY NU_ANO, OUTRA_DEF ORDER BY NU_ANO, COUNT(*) DESC').show()\n",
    "\n",
    "print(f'Consulta realizada com sucesso -  {datetime.now()}')"
   ]
  },
  {
   "cell_type": "code",
   "execution_count": 144,
   "metadata": {
    "tags": []
   },
   "outputs": [
    {
     "output_type": "stream",
     "name": "stdout",
     "text": "Quantidade de inscriçoes por Gestante.\n\nConsulta inciada -  2020-08-25 10:56:21.733386\n+--------+--------------+----------+\n|GESTANTE|QTDE_INSCRICAO|PERCENTUAL|\n+--------+--------------+----------+\n|     Não|      33693332|     99.94|\n|     Sim|         20820|      0.06|\n+--------+--------------+----------+\n\nConsulta realizada com sucesso -  2020-08-25 10:59:00.550761\n"
    }
   ],
   "source": [
    "print('Quantidade de inscriçoes por Gestante.')\n",
    "print('')\n",
    "print(f'Consulta inciada -  {datetime.now()}')\n",
    "\n",
    "sqlContext.sql('SELECT GESTANTE, COUNT(*) AS QTDE_INSCRICAO, ROUND((COUNT(*)/(SELECT COUNT(*)/100 FROM enemtb)),2) AS PERCENTUAL FROM enemtb GROUP BY GESTANTE ORDER BY COUNT(*) DESC').show()\n",
    "\n",
    "print(f'Consulta realizada com sucesso -  {datetime.now()}')"
   ]
  },
  {
   "cell_type": "code",
   "execution_count": 258,
   "metadata": {
    "tags": []
   },
   "outputs": [
    {
     "output_type": "stream",
     "name": "stdout",
     "text": "Quantidade de inscriçoes por Gestante por Ano.\n\nConsulta inciada -  2020-08-25 16:43:29.503348\n+----+--------+--------------+----------+\n| ANO|GESTANTE|QTDE_INSCRICAO|PERCENTUAL|\n+----+--------+--------------+----------+\n|2015|     Não|       7739050|     22.95|\n|2015|     Sim|          7377|      0.02|\n|2016|     Não|       8619777|     25.57|\n|2016|     Sim|          7590|      0.02|\n|2017|     Não|       6728678|     19.96|\n|2017|     Sim|          2663|      0.01|\n|2018|     Não|       5511967|     16.35|\n|2018|     Sim|          1780|      0.01|\n|2019|     Não|       5093860|     15.11|\n|2019|     Sim|          1410|       0.0|\n+----+--------+--------------+----------+\n\nConsulta realizada com sucesso -  2020-08-25 16:46:02.420714\n"
    }
   ],
   "source": [
    "print('Quantidade de inscriçoes por Gestante por Ano.')\n",
    "print('')\n",
    "print(f'Consulta inciada -  {datetime.now()}')\n",
    "\n",
    "sqlContext.sql('SELECT NU_ANO AS ANO, GESTANTE, COUNT(*) AS QTDE_INSCRICAO, ROUND((COUNT(*)/(SELECT COUNT(*)/100 FROM enemtb)),2) AS PERCENTUAL FROM enemtb GROUP BY NU_ANO, GESTANTE ORDER BY NU_ANO, COUNT(*) DESC').show()\n",
    "\n",
    "print(f'Consulta realizada com sucesso -  {datetime.now()}')"
   ]
  },
  {
   "cell_type": "code",
   "execution_count": 146,
   "metadata": {
    "tags": []
   },
   "outputs": [
    {
     "output_type": "stream",
     "name": "stdout",
     "text": "Quantidade de inscriçoes por Lactante.\n\nConsulta inciada -  2020-08-25 10:59:00.688855\n+--------+--------------+----------+\n|LACTANTE|QTDE_INSCRICAO|PERCENTUAL|\n+--------+--------------+----------+\n|     Não|      33671090|     99.87|\n|     Sim|         43062|      0.13|\n+--------+--------------+----------+\n\nConsulta realizada com sucesso -  2020-08-25 11:01:39.479764\n"
    }
   ],
   "source": [
    "print('Quantidade de inscriçoes por Lactante.')\n",
    "print('')\n",
    "print(f'Consulta inciada -  {datetime.now()}')\n",
    "\n",
    "sqlContext.sql('SELECT LACTANTE, COUNT(*) AS QTDE_INSCRICAO, ROUND((COUNT(*)/(SELECT COUNT(*)/100 FROM enemtb)),2) AS PERCENTUAL FROM enemtb GROUP BY LACTANTE ORDER BY COUNT(*) DESC').show()\n",
    "\n",
    "print(f'Consulta realizada com sucesso -  {datetime.now()}')"
   ]
  },
  {
   "cell_type": "code",
   "execution_count": 147,
   "metadata": {
    "tags": []
   },
   "outputs": [
    {
     "output_type": "stream",
     "name": "stdout",
     "text": "Quantidade de inscriçoes por Lactante por Ano.\n\nConsulta inciada -  2020-08-25 11:01:39.624748\n+----+--------+--------------+----------+\n| ANO|LACTANTE|QTDE_INSCRICAO|PERCENTUAL|\n+----+--------+--------------+----------+\n|2015|     Não|       7736830|     22.95|\n|2015|     Sim|          9597|      0.03|\n|2016|     Não|       8610829|     25.54|\n|2016|     Sim|         16538|      0.05|\n|2017|     Não|       6723420|     19.94|\n|2017|     Sim|          7921|      0.02|\n|2018|     Não|       5508371|     16.34|\n|2018|     Sim|          5376|      0.02|\n|2019|     Não|       5091640|      15.1|\n|2019|     Sim|          3630|      0.01|\n+----+--------+--------------+----------+\n\nConsulta realizada com sucesso -  2020-08-25 11:04:29.444711\n"
    }
   ],
   "source": [
    "print('Quantidade de inscriçoes por Lactante por Ano.')\n",
    "print('')\n",
    "print(f'Consulta inciada -  {datetime.now()}')\n",
    "\n",
    "sqlContext.sql('SELECT NU_ANO AS ANO, LACTANTE, COUNT(*) AS QTDE_INSCRICAO, ROUND((COUNT(*)/(SELECT COUNT(*)/100 FROM enemtb)),2) AS PERCENTUAL FROM enemtb GROUP BY NU_ANO, LACTANTE ORDER BY NU_ANO, COUNT(*) DESC').show()\n",
    "\n",
    "print(f'Consulta realizada com sucesso -  {datetime.now()}')"
   ]
  },
  {
   "cell_type": "code",
   "execution_count": 148,
   "metadata": {
    "tags": []
   },
   "outputs": [
    {
     "output_type": "stream",
     "name": "stdout",
     "text": "Quantidade de inscriçoes por Idoso.\n\nConsulta inciada -  2020-08-25 11:04:29.495579\n+-----+--------------+----------+\n|IDOSO|QTDE_INSCRICAO|PERCENTUAL|\n+-----+--------------+----------+\n|  Não|      33710312|     99.99|\n|  Sim|          3840|      0.01|\n+-----+--------------+----------+\n\nConsulta realizada com sucesso -  2020-08-25 11:07:04.829023\n"
    }
   ],
   "source": [
    "print('Quantidade de inscriçoes por Idoso.')\n",
    "print('')\n",
    "print(f'Consulta inciada -  {datetime.now()}')\n",
    "\n",
    "sqlContext.sql('SELECT IDOSO, COUNT(*) AS QTDE_INSCRICAO, ROUND((COUNT(*)/(SELECT COUNT(*)/100 FROM enemtb)),2) AS PERCENTUAL FROM enemtb GROUP BY IDOSO ORDER BY COUNT(*) DESC').show()\n",
    "\n",
    "print(f'Consulta realizada com sucesso -  {datetime.now()}')"
   ]
  },
  {
   "cell_type": "code",
   "execution_count": 149,
   "metadata": {
    "tags": []
   },
   "outputs": [
    {
     "output_type": "stream",
     "name": "stdout",
     "text": "Quantidade de inscriçoes por Idoso por Ano.\n\nConsulta inciada -  2020-08-25 11:07:04.920065\n+----+-----+--------------+----------+\n| ANO|IDOSO|QTDE_INSCRICAO|PERCENTUAL|\n+----+-----+--------------+----------+\n|2015|  Não|       7744935|     22.97|\n|2015|  Sim|          1492|       0.0|\n|2016|  Não|       8625912|     25.59|\n|2016|  Sim|          1455|       0.0|\n|2017|  Não|       6730934|     19.96|\n|2017|  Sim|           407|       0.0|\n|2018|  Não|       5513493|     16.35|\n|2018|  Sim|           254|       0.0|\n|2019|  Não|       5095038|     15.11|\n|2019|  Sim|           232|       0.0|\n+----+-----+--------------+----------+\n\nConsulta realizada com sucesso -  2020-08-25 11:09:44.277181\n"
    }
   ],
   "source": [
    "print('Quantidade de inscriçoes por Idoso por Ano.')\n",
    "print('')\n",
    "print(f'Consulta inciada -  {datetime.now()}')\n",
    "\n",
    "sqlContext.sql('SELECT NU_ANO AS ANO, IDOSO, COUNT(*) AS QTDE_INSCRICAO, ROUND((COUNT(*)/(SELECT COUNT(*)/100 FROM enemtb)),2) AS PERCENTUAL FROM enemtb GROUP BY NU_ANO, IDOSO ORDER BY NU_ANO, COUNT(*) DESC').show()\n",
    "\n",
    "print(f'Consulta realizada com sucesso -  {datetime.now()}')"
   ]
  },
  {
   "cell_type": "code",
   "execution_count": 150,
   "metadata": {
    "tags": []
   },
   "outputs": [
    {
     "output_type": "stream",
     "name": "stdout",
     "text": "Quantidade de inscriçoes por Esuda em Classe Hospitalar.\n\nConsulta inciada -  2020-08-25 11:09:44.323060\n+------------------------+--------------+----------+\n|ESTUDA_CLASSE_HOSPITALAR|QTDE_INSCRICAO|PERCENTUAL|\n+------------------------+--------------+----------+\n|                     Não|      33713999|     100.0|\n|                     Sim|           153|       0.0|\n+------------------------+--------------+----------+\n\nConsulta realizada com sucesso -  2020-08-25 11:12:22.647016\n"
    }
   ],
   "source": [
    "print('Quantidade de inscriçoes por Esuda em Classe Hospitalar.')\n",
    "print('')\n",
    "print(f'Consulta inciada -  {datetime.now()}')\n",
    "\n",
    "sqlContext.sql('SELECT ESTUDA_CLASSE_HOSPITALAR, COUNT(*) AS QTDE_INSCRICAO, ROUND((COUNT(*)/(SELECT COUNT(*)/100 FROM enemtb)),2) AS PERCENTUAL FROM enemtb GROUP BY ESTUDA_CLASSE_HOSPITALAR ORDER BY COUNT(*) DESC').show()\n",
    "\n",
    "print(f'Consulta realizada com sucesso -  {datetime.now()}')"
   ]
  },
  {
   "cell_type": "code",
   "execution_count": 151,
   "metadata": {
    "tags": []
   },
   "outputs": [
    {
     "output_type": "stream",
     "name": "stdout",
     "text": "Quantidade de inscriçoes por Esuda em Classe Hospitalar por Ano.\n\nConsulta inciada -  2020-08-25 11:12:22.690899\n+----+------------------------+--------------+----------+\n| ANO|ESTUDA_CLASSE_HOSPITALAR|QTDE_INSCRICAO|PERCENTUAL|\n+----+------------------------+--------------+----------+\n|2015|                     Não|       7746409|     22.98|\n|2015|                     Sim|            18|       0.0|\n|2016|                     Não|       8627329|     25.59|\n|2016|                     Sim|            38|       0.0|\n|2017|                     Não|       6731301|     19.97|\n|2017|                     Sim|            40|       0.0|\n|2018|                     Não|       5513714|     16.35|\n|2018|                     Sim|            33|       0.0|\n|2019|                     Não|       5095246|     15.11|\n|2019|                     Sim|            24|       0.0|\n+----+------------------------+--------------+----------+\n\nConsulta realizada com sucesso -  2020-08-25 11:15:03.403985\n"
    }
   ],
   "source": [
    "print('Quantidade de inscriçoes por Esuda em Classe Hospitalar por Ano.')\n",
    "print('')\n",
    "print(f'Consulta inciada -  {datetime.now()}')\n",
    "\n",
    "sqlContext.sql('SELECT NU_ANO AS ANO, ESTUDA_CLASSE_HOSPITALAR, COUNT(*) AS QTDE_INSCRICAO, ROUND((COUNT(*)/(SELECT COUNT(*)/100 FROM enemtb)),2) AS PERCENTUAL FROM enemtb GROUP BY NU_ANO, ESTUDA_CLASSE_HOSPITALAR ORDER BY NU_ANO, COUNT(*) DESC').show()\n",
    "\n",
    "print(f'Consulta realizada com sucesso -  {datetime.now()}')"
   ]
  },
  {
   "cell_type": "code",
   "execution_count": 152,
   "metadata": {
    "tags": []
   },
   "outputs": [
    {
     "output_type": "stream",
     "name": "stdout",
     "text": "Quantidade de inscriçoes por Esuda em Sem Recurso.\n\nConsulta inciada -  2020-08-25 11:15:03.439200\n+-----------+--------------+----------+\n|SEM_RECURSO|QTDE_INSCRICAO|PERCENTUAL|\n+-----------+--------------+----------+\n|        Não|      33598836|     99.66|\n|        Sim|        115316|      0.34|\n+-----------+--------------+----------+\n\nConsulta realizada com sucesso -  2020-08-25 11:17:43.531995\n"
    }
   ],
   "source": [
    "print('Quantidade de inscriçoes por Esuda em Sem Recurso.')\n",
    "print('')\n",
    "print(f'Consulta inciada -  {datetime.now()}')\n",
    "\n",
    "sqlContext.sql('SELECT SEM_RECURSO, COUNT(*) AS QTDE_INSCRICAO, ROUND((COUNT(*)/(SELECT COUNT(*)/100 FROM enemtb)),2) AS PERCENTUAL FROM enemtb GROUP BY SEM_RECURSO ORDER BY COUNT(*) DESC').show()\n",
    "\n",
    "print(f'Consulta realizada com sucesso -  {datetime.now()}')"
   ]
  },
  {
   "cell_type": "code",
   "execution_count": 257,
   "metadata": {
    "tags": []
   },
   "outputs": [
    {
     "output_type": "stream",
     "name": "stdout",
     "text": "Quantidade de inscriçoes por Esuda em Sem Recurso por Ano.\n\nConsulta inciada -  2020-08-25 16:38:47.083519\n+----+-----------+--------------+----------+\n| ANO|SEM_RECURSO|QTDE_INSCRICAO|PERCENTUAL|\n+----+-----------+--------------+----------+\n|2015|        Não|       7711644|     22.87|\n|2015|        Sim|         34783|       0.1|\n|2016|        Não|       8585635|     25.47|\n|2016|        Sim|         41732|      0.12|\n|2017|        Não|       6708183|      19.9|\n|2017|        Sim|         23158|      0.07|\n|2018|        Não|       5504232|     16.33|\n|2018|        Sim|          9515|      0.03|\n|2019|        Não|       5089142|     15.09|\n|2019|        Sim|          6128|      0.02|\n+----+-----------+--------------+----------+\n\nConsulta realizada com sucesso -  2020-08-25 16:41:15.441654\n"
    }
   ],
   "source": [
    "print('Quantidade de inscriçoes por Esuda em Sem Recurso por Ano.')\n",
    "print('')\n",
    "print(f'Consulta inciada -  {datetime.now()}')\n",
    "\n",
    "sqlContext.sql('SELECT NU_ANO AS ANO, SEM_RECURSO, COUNT(*) AS QTDE_INSCRICAO, ROUND((COUNT(*)/(SELECT COUNT(*)/100 FROM enemtb)),2) AS PERCENTUAL FROM enemtb GROUP BY NU_ANO, SEM_RECURSO ORDER BY NU_ANO, COUNT(*) DESC').show()\n",
    "\n",
    "print(f'Consulta realizada com sucesso -  {datetime.now()}')"
   ]
  },
  {
   "cell_type": "code",
   "execution_count": 154,
   "metadata": {
    "tags": []
   },
   "outputs": [
    {
     "output_type": "stream",
     "name": "stdout",
     "text": "Quantidade de inscriçoes por Braille.\n\nConsulta inciada -  2020-08-25 11:17:43.659646\n+-------+--------------+----------+\n|BRAILLE|QTDE_INSCRICAO|PERCENTUAL|\n+-------+--------------+----------+\n|    Não|      33712089|     99.99|\n|    Sim|          2063|      0.01|\n+-------+--------------+----------+\n\nConsulta realizada com sucesso -  2020-08-25 11:20:21.286375\n"
    }
   ],
   "source": [
    "print('Quantidade de inscriçoes por Braille.')\n",
    "print('')\n",
    "print(f'Consulta inciada -  {datetime.now()}')\n",
    "\n",
    "sqlContext.sql('SELECT BRAILLE, COUNT(*) AS QTDE_INSCRICAO, ROUND((COUNT(*)/(SELECT COUNT(*)/100 FROM enemtb)),2) AS PERCENTUAL FROM enemtb GROUP BY BRAILLE ORDER BY COUNT(*) DESC').show()\n",
    "\n",
    "print(f'Consulta realizada com sucesso -  {datetime.now()}')"
   ]
  },
  {
   "cell_type": "code",
   "execution_count": 155,
   "metadata": {
    "tags": []
   },
   "outputs": [
    {
     "output_type": "stream",
     "name": "stdout",
     "text": "Quantidade de inscriçoes por Braille por Ano.\n\nConsulta inciada -  2020-08-25 11:20:21.317294\n+----+-------+--------------+----------+\n| ANO|BRAILLE|QTDE_INSCRICAO|PERCENTUAL|\n+----+-------+--------------+----------+\n|2015|    Não|       7745935|     22.98|\n|2015|    Sim|           492|       0.0|\n|2016|    Não|       8626807|     25.59|\n|2016|    Sim|           560|       0.0|\n|2017|    Não|       6730980|     19.96|\n|2017|    Sim|           361|       0.0|\n|2018|    Não|       5513399|     16.35|\n|2018|    Sim|           348|       0.0|\n|2019|    Não|       5094968|     15.11|\n|2019|    Sim|           302|       0.0|\n+----+-------+--------------+----------+\n\nConsulta realizada com sucesso -  2020-08-25 11:22:55.658595\n"
    }
   ],
   "source": [
    "print('Quantidade de inscriçoes por Braille por Ano.')\n",
    "print('')\n",
    "print(f'Consulta inciada -  {datetime.now()}')\n",
    "\n",
    "sqlContext.sql('SELECT NU_ANO AS ANO, BRAILLE, COUNT(*) AS QTDE_INSCRICAO, ROUND((COUNT(*)/(SELECT COUNT(*)/100 FROM enemtb)),2) AS PERCENTUAL FROM enemtb GROUP BY NU_ANO, BRAILLE ORDER BY NU_ANO, COUNT(*) DESC').show()\n",
    "\n",
    "print(f'Consulta realizada com sucesso -  {datetime.now()}')"
   ]
  },
  {
   "cell_type": "code",
   "execution_count": 156,
   "metadata": {
    "tags": []
   },
   "outputs": [
    {
     "output_type": "stream",
     "name": "stdout",
     "text": "Quantidade de inscriçoes por Ampliada 24.\n\nConsulta inciada -  2020-08-25 11:22:55.675548\n+-----------+--------------+----------+\n|AMPLIADA_24|QTDE_INSCRICAO|PERCENTUAL|\n+-----------+--------------+----------+\n|        Não|      33706677|     99.98|\n|        Sim|          7475|      0.02|\n+-----------+--------------+----------+\n\nConsulta realizada com sucesso -  2020-08-25 11:25:30.759260\n"
    }
   ],
   "source": [
    "print('Quantidade de inscriçoes por Ampliada 24.')\n",
    "print('')\n",
    "print(f'Consulta inciada -  {datetime.now()}')\n",
    "\n",
    "sqlContext.sql('SELECT AMPLIADA_24, COUNT(*) AS QTDE_INSCRICAO, ROUND((COUNT(*)/(SELECT COUNT(*)/100 FROM enemtb)),2) AS PERCENTUAL FROM enemtb GROUP BY AMPLIADA_24 ORDER BY COUNT(*) DESC').show()\n",
    "\n",
    "print(f'Consulta realizada com sucesso -  {datetime.now()}')"
   ]
  },
  {
   "cell_type": "code",
   "execution_count": 157,
   "metadata": {
    "tags": []
   },
   "outputs": [
    {
     "output_type": "stream",
     "name": "stdout",
     "text": "Quantidade de inscriçoes por Ampliada 24.\n\nConsulta inciada -  2020-08-25 11:25:30.847024\n+----+-----------+--------------+----------+\n| ANO|AMPLIADA_24|QTDE_INSCRICAO|PERCENTUAL|\n+----+-----------+--------------+----------+\n|2015|        Não|       7744807|     22.97|\n|2015|        Sim|          1620|       0.0|\n|2016|        Não|       8625244|     25.58|\n|2016|        Sim|          2123|      0.01|\n|2017|        Não|       6729963|     19.96|\n|2017|        Sim|          1378|       0.0|\n|2018|        Não|       5512480|     16.35|\n|2018|        Sim|          1267|       0.0|\n|2019|        Não|       5094183|     15.11|\n|2019|        Sim|          1087|       0.0|\n+----+-----------+--------------+----------+\n\nConsulta realizada com sucesso -  2020-08-25 11:28:05.074889\n"
    }
   ],
   "source": [
    "print('Quantidade de inscriçoes por Ampliada 24.')\n",
    "print('')\n",
    "print(f'Consulta inciada -  {datetime.now()}')\n",
    "\n",
    "sqlContext.sql('SELECT NU_ANO AS ANO, AMPLIADA_24, COUNT(*) AS QTDE_INSCRICAO, ROUND((COUNT(*)/(SELECT COUNT(*)/100 FROM enemtb)),2) AS PERCENTUAL FROM enemtb GROUP BY NU_ANO, AMPLIADA_24 ORDER BY NU_ANO, COUNT(*) DESC').show()\n",
    "\n",
    "print(f'Consulta realizada com sucesso -  {datetime.now()}')"
   ]
  },
  {
   "cell_type": "code",
   "execution_count": 158,
   "metadata": {
    "tags": []
   },
   "outputs": [
    {
     "output_type": "stream",
     "name": "stdout",
     "text": "Quantidade de inscriçoes por Ampliada 18.\n\nConsulta inciada -  2020-08-25 11:28:05.108812\n+-----------+--------------+----------+\n|AMPLIADA_18|QTDE_INSCRICAO|PERCENTUAL|\n+-----------+--------------+----------+\n|        Não|      33687767|     99.92|\n|        Sim|         26385|      0.08|\n+-----------+--------------+----------+\n\nConsulta realizada com sucesso -  2020-08-25 11:30:49.590801\n"
    }
   ],
   "source": [
    "print('Quantidade de inscriçoes por Ampliada 18.')\n",
    "print('')\n",
    "print(f'Consulta inciada -  {datetime.now()}')\n",
    "\n",
    "sqlContext.sql('SELECT AMPLIADA_18, COUNT(*) AS QTDE_INSCRICAO, ROUND((COUNT(*)/(SELECT COUNT(*)/100 FROM enemtb)),2) AS PERCENTUAL FROM enemtb GROUP BY AMPLIADA_18 ORDER BY COUNT(*) DESC').show()\n",
    "\n",
    "print(f'Consulta realizada com sucesso -  {datetime.now()}')"
   ]
  },
  {
   "cell_type": "code",
   "execution_count": 159,
   "metadata": {
    "tags": []
   },
   "outputs": [
    {
     "output_type": "stream",
     "name": "stdout",
     "text": "Quantidade de inscriçoes por Ampliada 18.\n\nConsulta inciada -  2020-08-25 11:30:49.618727\n+----+-----------+--------------+----------+\n| ANO|AMPLIADA_18|QTDE_INSCRICAO|PERCENTUAL|\n+----+-----------+--------------+----------+\n|2015|        Não|       7740023|     22.96|\n|2015|        Sim|          6404|      0.02|\n|2016|        Não|       8620060|     25.57|\n|2016|        Sim|          7307|      0.02|\n|2017|        Não|       6727160|     19.95|\n|2017|        Sim|          4181|      0.01|\n|2018|        Não|       5509824|     16.34|\n|2018|        Sim|          3923|      0.01|\n|2019|        Não|       5090700|      15.1|\n|2019|        Sim|          4570|      0.01|\n+----+-----------+--------------+----------+\n\nConsulta realizada com sucesso -  2020-08-25 11:33:24.389661\n"
    }
   ],
   "source": [
    "print('Quantidade de inscriçoes por Ampliada 18.')\n",
    "print('')\n",
    "print(f'Consulta inciada -  {datetime.now()}')\n",
    "\n",
    "sqlContext.sql('SELECT NU_ANO AS ANO, AMPLIADA_18, COUNT(*) AS QTDE_INSCRICAO, ROUND((COUNT(*)/(SELECT COUNT(*)/100 FROM enemtb)),2) AS PERCENTUAL FROM enemtb GROUP BY NU_ANO, AMPLIADA_18 ORDER BY NU_ANO, COUNT(*) DESC').show()\n",
    "\n",
    "print(f'Consulta realizada com sucesso -  {datetime.now()}')"
   ]
  },
  {
   "cell_type": "code",
   "execution_count": 160,
   "metadata": {
    "tags": []
   },
   "outputs": [
    {
     "output_type": "stream",
     "name": "stdout",
     "text": "Quantidade de inscriçoes por Ledor.\n\nConsulta inciada -  2020-08-25 11:33:24.417586\n+-----+--------------+----------+\n|LEDOR|QTDE_INSCRICAO|PERCENTUAL|\n+-----+--------------+----------+\n|  Não|      33682753|     99.91|\n|  Sim|         31399|      0.09|\n+-----+--------------+----------+\n\nConsulta realizada com sucesso -  2020-08-25 11:35:59.239222\n"
    }
   ],
   "source": [
    "print('Quantidade de inscriçoes por Ledor.')\n",
    "print('')\n",
    "print(f'Consulta inciada -  {datetime.now()}')\n",
    "\n",
    "sqlContext.sql('SELECT LEDOR, COUNT(*) AS QTDE_INSCRICAO, ROUND((COUNT(*)/(SELECT COUNT(*)/100 FROM enemtb)),2) AS PERCENTUAL FROM enemtb GROUP BY LEDOR ORDER BY COUNT(*) DESC').show()\n",
    "\n",
    "print(f'Consulta realizada com sucesso -  {datetime.now()}')"
   ]
  },
  {
   "cell_type": "code",
   "execution_count": 161,
   "metadata": {
    "tags": []
   },
   "outputs": [
    {
     "output_type": "stream",
     "name": "stdout",
     "text": "Quantidade de inscriçoes por Ledor por Ano.\n\nConsulta inciada -  2020-08-25 11:35:59.459633\n+----+-----+--------------+----------+\n| ANO|LEDOR|QTDE_INSCRICAO|PERCENTUAL|\n+----+-----+--------------+----------+\n|2015|  Não|       7739315|     22.96|\n|2015|  Sim|          7112|      0.02|\n|2016|  Não|       8620272|     25.57|\n|2016|  Sim|          7095|      0.02|\n|2017|  Não|       6726195|     19.95|\n|2017|  Sim|          5146|      0.02|\n|2018|  Não|       5507975|     16.34|\n|2018|  Sim|          5772|      0.02|\n|2019|  Não|       5088996|     15.09|\n|2019|  Sim|          6274|      0.02|\n+----+-----+--------------+----------+\n\nConsulta realizada com sucesso -  2020-08-25 11:38:31.017684\n"
    }
   ],
   "source": [
    "print('Quantidade de inscriçoes por Ledor por Ano.')\n",
    "print('')\n",
    "print(f'Consulta inciada -  {datetime.now()}')\n",
    "\n",
    "sqlContext.sql('SELECT NU_ANO AS ANO, LEDOR, COUNT(*) AS QTDE_INSCRICAO, ROUND((COUNT(*)/(SELECT COUNT(*)/100 FROM enemtb)),2) AS PERCENTUAL FROM enemtb GROUP BY NU_ANO, LEDOR ORDER BY NU_ANO, COUNT(*) DESC').show()\n",
    "\n",
    "print(f'Consulta realizada com sucesso -  {datetime.now()}')"
   ]
  },
  {
   "cell_type": "code",
   "execution_count": 162,
   "metadata": {
    "tags": []
   },
   "outputs": [
    {
     "output_type": "stream",
     "name": "stdout",
     "text": "Quantidade de inscriçoes por Acesso.\n\nConsulta inciada -  2020-08-25 11:38:31.115421\n+------+--------------+----------+\n|ACESSO|QTDE_INSCRICAO|PERCENTUAL|\n+------+--------------+----------+\n|   Não|      33653419|     99.82|\n|   Sim|         60733|      0.18|\n+------+--------------+----------+\n\nConsulta realizada com sucesso -  2020-08-25 11:41:12.854323\n"
    }
   ],
   "source": [
    "print('Quantidade de inscriçoes por Acesso.')\n",
    "print('')\n",
    "print(f'Consulta inciada -  {datetime.now()}')\n",
    "\n",
    "sqlContext.sql('SELECT ACESSO, COUNT(*) AS QTDE_INSCRICAO, ROUND((COUNT(*)/(SELECT COUNT(*)/100 FROM enemtb)),2) AS PERCENTUAL FROM enemtb GROUP BY ACESSO ORDER BY COUNT(*) DESC').show()\n",
    "\n",
    "print(f'Consulta realizada com sucesso -  {datetime.now()}')"
   ]
  },
  {
   "cell_type": "code",
   "execution_count": 163,
   "metadata": {
    "tags": []
   },
   "outputs": [
    {
     "output_type": "stream",
     "name": "stdout",
     "text": "Quantidade de inscriçoes por Acesso por Ano.\n\nConsulta inciada -  2020-08-25 11:41:13.042819\n+----+------+--------------+----------+\n| ANO|ACESSO|QTDE_INSCRICAO|PERCENTUAL|\n+----+------+--------------+----------+\n|2015|   Não|       7730673|     22.93|\n|2015|   Sim|         15754|      0.05|\n|2016|   Não|       8609048|     25.54|\n|2016|   Sim|         18319|      0.05|\n|2017|   Não|       6722078|     19.94|\n|2017|   Sim|          9263|      0.03|\n|2018|   Não|       5504357|     16.33|\n|2018|   Sim|          9390|      0.03|\n|2019|   Não|       5087263|     15.09|\n|2019|   Sim|          8007|      0.02|\n+----+------+--------------+----------+\n\nConsulta realizada com sucesso -  2020-08-25 11:43:48.533910\n"
    }
   ],
   "source": [
    "print('Quantidade de inscriçoes por Acesso por Ano.')\n",
    "print('')\n",
    "print(f'Consulta inciada -  {datetime.now()}')\n",
    "\n",
    "sqlContext.sql('SELECT NU_ANO AS ANO, ACESSO, COUNT(*) AS QTDE_INSCRICAO, ROUND((COUNT(*)/(SELECT COUNT(*)/100 FROM enemtb)),2) AS PERCENTUAL FROM enemtb GROUP BY NU_ANO, ACESSO ORDER BY NU_ANO, COUNT(*) DESC').show()\n",
    "\n",
    "print(f'Consulta realizada com sucesso -  {datetime.now()}')"
   ]
  },
  {
   "cell_type": "code",
   "execution_count": 164,
   "metadata": {
    "tags": []
   },
   "outputs": [
    {
     "output_type": "stream",
     "name": "stdout",
     "text": "Quantidade de inscriçoes por Transcrição.\n\nConsulta inciada -  2020-08-25 11:43:48.709440\n+-----------+--------------+----------+\n|TRANSCRICAO|QTDE_INSCRICAO|PERCENTUAL|\n+-----------+--------------+----------+\n|        Não|      33683543|     99.91|\n|        Sim|         30609|      0.09|\n+-----------+--------------+----------+\n\nConsulta realizada com sucesso -  2020-08-25 11:46:16.982220\n"
    }
   ],
   "source": [
    "print('Quantidade de inscriçoes por Transcrição.')\n",
    "print('')\n",
    "print(f'Consulta inciada -  {datetime.now()}')\n",
    "\n",
    "sqlContext.sql('SELECT TRANSCRICAO, COUNT(*) AS QTDE_INSCRICAO, ROUND((COUNT(*)/(SELECT COUNT(*)/100 FROM enemtb)),2) AS PERCENTUAL FROM enemtb GROUP BY TRANSCRICAO ORDER BY COUNT(*) DESC').show()\n",
    "\n",
    "print(f'Consulta realizada com sucesso -  {datetime.now()}')"
   ]
  },
  {
   "cell_type": "code",
   "execution_count": 165,
   "metadata": {
    "tags": []
   },
   "outputs": [
    {
     "output_type": "stream",
     "name": "stdout",
     "text": "Quantidade de inscriçoes por Transcrição por Ano.\n\nConsulta inciada -  2020-08-25 11:46:17.034080\n+----+-----------+--------------+----------+\n| ANO|TRANSCRICAO|QTDE_INSCRICAO|PERCENTUAL|\n+----+-----------+--------------+----------+\n|2015|        Não|       7739137|     22.96|\n|2015|        Sim|          7290|      0.02|\n|2016|        Não|       8620312|     25.57|\n|2016|        Sim|          7055|      0.02|\n|2017|        Não|       6726112|     19.95|\n|2017|        Sim|          5229|      0.02|\n|2018|        Não|       5508346|     16.34|\n|2018|        Sim|          5401|      0.02|\n|2019|        Não|       5089636|      15.1|\n|2019|        Sim|          5634|      0.02|\n+----+-----------+--------------+----------+\n\nConsulta realizada com sucesso -  2020-08-25 11:48:51.339731\n"
    }
   ],
   "source": [
    "print('Quantidade de inscriçoes por Transcrição por Ano.')\n",
    "print('')\n",
    "print(f'Consulta inciada -  {datetime.now()}')\n",
    "\n",
    "sqlContext.sql('SELECT NU_ANO AS ANO, TRANSCRICAO, COUNT(*) AS QTDE_INSCRICAO, ROUND((COUNT(*)/(SELECT COUNT(*)/100 FROM enemtb)),2) AS PERCENTUAL FROM enemtb GROUP BY NU_ANO, TRANSCRICAO ORDER BY NU_ANO, COUNT(*) DESC').show()\n",
    "\n",
    "print(f'Consulta realizada com sucesso -  {datetime.now()}')"
   ]
  },
  {
   "cell_type": "code",
   "execution_count": 166,
   "metadata": {
    "tags": []
   },
   "outputs": [
    {
     "output_type": "stream",
     "name": "stdout",
     "text": "Quantidade de inscriçoes por Libras.\n\nConsulta inciada -  2020-08-25 11:48:51.358680\n+------+--------------+----------+\n|LIBRAS|QTDE_INSCRICAO|PERCENTUAL|\n+------+--------------+----------+\n|   Não|      33704150|     99.97|\n|   Sim|         10002|      0.03|\n+------+--------------+----------+\n\nConsulta realizada com sucesso -  2020-08-25 11:51:30.342269\n"
    }
   ],
   "source": [
    "print('Quantidade de inscriçoes por Libras.')\n",
    "print('')\n",
    "print(f'Consulta inciada -  {datetime.now()}')\n",
    "\n",
    "sqlContext.sql('SELECT LIBRAS, COUNT(*) AS QTDE_INSCRICAO, ROUND((COUNT(*)/(SELECT COUNT(*)/100 FROM enemtb)),2) AS PERCENTUAL FROM enemtb GROUP BY LIBRAS ORDER BY COUNT(*) DESC').show()\n",
    "\n",
    "print(f'Consulta realizada com sucesso -  {datetime.now()}')"
   ]
  },
  {
   "cell_type": "code",
   "execution_count": 167,
   "metadata": {
    "tags": []
   },
   "outputs": [
    {
     "output_type": "stream",
     "name": "stdout",
     "text": "Quantidade de inscriçoes por Libras por Ano.\n\nConsulta inciada -  2020-08-25 11:51:30.369197\n+----+------+--------------+----------+\n| ANO|LIBRAS|QTDE_INSCRICAO|PERCENTUAL|\n+----+------+--------------+----------+\n|2015|   Não|       7743413|     22.97|\n|2015|   Sim|          3014|      0.01|\n|2016|   Não|       8623806|     25.58|\n|2016|   Sim|          3561|      0.01|\n|2017|   Não|       6729982|     19.96|\n|2017|   Sim|          1359|       0.0|\n|2018|   Não|       5512645|     16.35|\n|2018|   Sim|          1102|       0.0|\n|2019|   Não|       5094304|     15.11|\n|2019|   Sim|           966|       0.0|\n+----+------+--------------+----------+\n\nConsulta realizada com sucesso -  2020-08-25 11:54:08.627743\n"
    }
   ],
   "source": [
    "print('Quantidade de inscriçoes por Libras por Ano.')\n",
    "print('')\n",
    "print(f'Consulta inciada -  {datetime.now()}')\n",
    "\n",
    "sqlContext.sql('SELECT NU_ANO AS ANO, LIBRAS, COUNT(*) AS QTDE_INSCRICAO, ROUND((COUNT(*)/(SELECT COUNT(*)/100 FROM enemtb)),2) AS PERCENTUAL FROM enemtb GROUP BY NU_ANO, LIBRAS ORDER BY NU_ANO, COUNT(*) DESC').show()\n",
    "\n",
    "print(f'Consulta realizada com sucesso -  {datetime.now()}')"
   ]
  },
  {
   "cell_type": "code",
   "execution_count": 168,
   "metadata": {
    "tags": []
   },
   "outputs": [
    {
     "output_type": "stream",
     "name": "stdout",
     "text": "Quantidade de inscriçoes por Leitura Labial.\n\nConsulta inciada -  2020-08-25 11:54:08.663641\n+--------------+--------------+----------+\n|LEITURA_LABIAL|QTDE_INSCRICAO|PERCENTUAL|\n+--------------+--------------+----------+\n|           Não|      33708872|     99.98|\n|           Sim|          5280|      0.02|\n+--------------+--------------+----------+\n\nConsulta realizada com sucesso -  2020-08-25 11:56:48.988223\n"
    }
   ],
   "source": [
    "print('Quantidade de inscriçoes por Leitura Labial.')\n",
    "print('')\n",
    "print(f'Consulta inciada -  {datetime.now()}')\n",
    "\n",
    "sqlContext.sql('SELECT LEITURA_LABIAL, COUNT(*) AS QTDE_INSCRICAO, ROUND((COUNT(*)/(SELECT COUNT(*)/100 FROM enemtb)),2) AS PERCENTUAL FROM enemtb GROUP BY LEITURA_LABIAL ORDER BY COUNT(*) DESC').show()\n",
    "\n",
    "print(f'Consulta realizada com sucesso -  {datetime.now()}')"
   ]
  },
  {
   "cell_type": "code",
   "execution_count": 169,
   "metadata": {
    "tags": []
   },
   "outputs": [
    {
     "output_type": "stream",
     "name": "stdout",
     "text": "Quantidade de inscriçoes por Leitura Labial por Ano.\n\nConsulta inciada -  2020-08-25 11:56:49.012158\n+----+--------------+--------------+----------+\n| ANO|LEITURA_LABIAL|QTDE_INSCRICAO|PERCENTUAL|\n+----+--------------+--------------+----------+\n|2015|           Não|       7744949|     22.97|\n|2015|           Sim|          1478|       0.0|\n|2016|           Não|       8625743|     25.58|\n|2016|           Sim|          1624|       0.0|\n|2017|           Não|       6730446|     19.96|\n|2017|           Sim|           895|       0.0|\n|2018|           Não|       5513062|     16.35|\n|2018|           Sim|           685|       0.0|\n|2019|           Não|       5094672|     15.11|\n|2019|           Sim|           598|       0.0|\n+----+--------------+--------------+----------+\n\nConsulta realizada com sucesso -  2020-08-25 11:59:29.413144\n"
    }
   ],
   "source": [
    "print('Quantidade de inscriçoes por Leitura Labial por Ano.')\n",
    "print('')\n",
    "print(f'Consulta inciada -  {datetime.now()}')\n",
    "\n",
    "sqlContext.sql('SELECT NU_ANO AS ANO, LEITURA_LABIAL, COUNT(*) AS QTDE_INSCRICAO, ROUND((COUNT(*)/(SELECT COUNT(*)/100 FROM enemtb)),2) AS PERCENTUAL FROM enemtb GROUP BY NU_ANO, LEITURA_LABIAL ORDER BY NU_ANO, COUNT(*) DESC').show()\n",
    "\n",
    "print(f'Consulta realizada com sucesso -  {datetime.now()}')"
   ]
  },
  {
   "cell_type": "code",
   "execution_count": 170,
   "metadata": {
    "tags": []
   },
   "outputs": [
    {
     "output_type": "stream",
     "name": "stdout",
     "text": "Quantidade de inscriçoes por Mesa Cadeira Rodas.\n\nConsulta inciada -  2020-08-25 11:59:29.440939\n+------------------+--------------+----------+\n|MESA_CADEIRA_RODAS|QTDE_INSCRICAO|PERCENTUAL|\n+------------------+--------------+----------+\n|               Não|      33702892|     99.97|\n|               Sim|         11260|      0.03|\n+------------------+--------------+----------+\n\nConsulta realizada com sucesso -  2020-08-25 12:02:09.649770\n"
    }
   ],
   "source": [
    "print('Quantidade de inscriçoes por Mesa Cadeira Rodas.')\n",
    "print('')\n",
    "print(f'Consulta inciada -  {datetime.now()}')\n",
    "\n",
    "sqlContext.sql('SELECT MESA_CADEIRA_RODAS, COUNT(*) AS QTDE_INSCRICAO, ROUND((COUNT(*)/(SELECT COUNT(*)/100 FROM enemtb)),2) AS PERCENTUAL FROM enemtb GROUP BY MESA_CADEIRA_RODAS ORDER BY COUNT(*) DESC').show()\n",
    "\n",
    "print(f'Consulta realizada com sucesso -  {datetime.now()}')"
   ]
  },
  {
   "cell_type": "code",
   "execution_count": 171,
   "metadata": {
    "tags": []
   },
   "outputs": [
    {
     "output_type": "stream",
     "name": "stdout",
     "text": "Quantidade de inscriçoes por Mesa Cadeira Rodas por Ano.\n\nConsulta inciada -  2020-08-25 12:02:09.670715\n+----+------------------+--------------+----------+\n| ANO|MESA_CADEIRA_RODAS|QTDE_INSCRICAO|PERCENTUAL|\n+----+------------------+--------------+----------+\n|2015|               Não|       7743955|     22.97|\n|2015|               Sim|          2472|      0.01|\n|2016|               Não|       8624404|     25.58|\n|2016|               Sim|          2963|      0.01|\n|2017|               Não|       6729207|     19.96|\n|2017|               Sim|          2134|      0.01|\n|2018|               Não|       5511856|     16.35|\n|2018|               Sim|          1891|      0.01|\n|2019|               Não|       5093470|     15.11|\n|2019|               Sim|          1800|      0.01|\n+----+------------------+--------------+----------+\n\nConsulta realizada com sucesso -  2020-08-25 12:04:50.445135\n"
    }
   ],
   "source": [
    "print('Quantidade de inscriçoes por Mesa Cadeira Rodas por Ano.')\n",
    "print('')\n",
    "print(f'Consulta inciada -  {datetime.now()}')\n",
    "\n",
    "sqlContext.sql('SELECT NU_ANO AS ANO, MESA_CADEIRA_RODAS, COUNT(*) AS QTDE_INSCRICAO, ROUND((COUNT(*)/(SELECT COUNT(*)/100 FROM enemtb)),2) AS PERCENTUAL FROM enemtb GROUP BY NU_ANO, MESA_CADEIRA_RODAS ORDER BY NU_ANO, COUNT(*) DESC').show()\n",
    "\n",
    "print(f'Consulta realizada com sucesso -  {datetime.now()}')"
   ]
  },
  {
   "cell_type": "code",
   "execution_count": 172,
   "metadata": {
    "tags": []
   },
   "outputs": [
    {
     "output_type": "stream",
     "name": "stdout",
     "text": "Quantidade de inscriçoes por Mesa Cadeira Separada.\n\nConsulta inciada -  2020-08-25 12:04:50.475056\n+---------------------+--------------+----------+\n|MESA_CADEIRA_SEPARADA|QTDE_INSCRICAO|PERCENTUAL|\n+---------------------+--------------+----------+\n|                  Não|      33697178|     99.95|\n|                  Sim|         16974|      0.05|\n+---------------------+--------------+----------+\n\nConsulta realizada com sucesso -  2020-08-25 12:07:35.216278\n"
    }
   ],
   "source": [
    "print('Quantidade de inscriçoes por Mesa Cadeira Separada.')\n",
    "print('')\n",
    "print(f'Consulta inciada -  {datetime.now()}')\n",
    "\n",
    "sqlContext.sql('SELECT MESA_CADEIRA_SEPARADA, COUNT(*) AS QTDE_INSCRICAO, ROUND((COUNT(*)/(SELECT COUNT(*)/100 FROM enemtb)),2) AS PERCENTUAL FROM enemtb GROUP BY MESA_CADEIRA_SEPARADA ORDER BY COUNT(*) DESC').show()\n",
    "\n",
    "print(f'Consulta realizada com sucesso -  {datetime.now()}')"
   ]
  },
  {
   "cell_type": "code",
   "execution_count": 256,
   "metadata": {
    "tags": []
   },
   "outputs": [
    {
     "output_type": "stream",
     "name": "stdout",
     "text": "Quantidade de inscriçoes por Mesa Cadeira Separada por Ano.\n\nConsulta inciada -  2020-08-25 16:33:36.634223\n+----+---------------------+--------------+----------+\n| ANO|MESA_CADEIRA_SEPARADA|QTDE_INSCRICAO|PERCENTUAL|\n+----+---------------------+--------------+----------+\n|2015|                  Não|       7742194|     22.96|\n|2015|                  Sim|          4233|      0.01|\n|2016|                  Não|       8621456|     25.57|\n|2016|                  Sim|          5911|      0.02|\n|2017|                  Não|       6727879|     19.96|\n|2017|                  Sim|          3462|      0.01|\n|2018|                  Não|       5511805|     16.35|\n|2018|                  Sim|          1942|      0.01|\n|2019|                  Não|       5093844|     15.11|\n|2019|                  Sim|          1426|       0.0|\n+----+---------------------+--------------+----------+\n\nConsulta realizada com sucesso -  2020-08-25 16:36:10.834722\n"
    }
   ],
   "source": [
    "print('Quantidade de inscriçoes por Mesa Cadeira Separada por Ano.')\n",
    "print('')\n",
    "print(f'Consulta inciada -  {datetime.now()}')\n",
    "\n",
    "sqlContext.sql('SELECT NU_ANO AS ANO, MESA_CADEIRA_SEPARADA, COUNT(*) AS QTDE_INSCRICAO, ROUND((COUNT(*)/(SELECT COUNT(*)/100 FROM enemtb)),2) AS PERCENTUAL FROM enemtb GROUP BY NU_ANO, MESA_CADEIRA_SEPARADA ORDER BY NU_ANO, COUNT(*) DESC').show()\n",
    "\n",
    "print(f'Consulta realizada com sucesso -  {datetime.now()}')"
   ]
  },
  {
   "cell_type": "code",
   "execution_count": 174,
   "metadata": {
    "tags": []
   },
   "outputs": [
    {
     "output_type": "stream",
     "name": "stdout",
     "text": "Quantidade de inscriçoes por Apoio de Perna.\n\nConsulta inciada -  2020-08-25 12:07:35.343448\n+-----------+--------------+----------+\n|APOIO_PERNA|QTDE_INSCRICAO|PERCENTUAL|\n+-----------+--------------+----------+\n|        Não|      33700885|     99.96|\n|        Sim|         13267|      0.04|\n+-----------+--------------+----------+\n\nConsulta realizada com sucesso -  2020-08-25 12:10:19.663384\n"
    }
   ],
   "source": [
    "print('Quantidade de inscriçoes por Apoio de Perna.')\n",
    "print('')\n",
    "print(f'Consulta inciada -  {datetime.now()}')\n",
    "\n",
    "sqlContext.sql('SELECT APOIO_PERNA, COUNT(*) AS QTDE_INSCRICAO, ROUND((COUNT(*)/(SELECT COUNT(*)/100 FROM enemtb)),2) AS PERCENTUAL FROM enemtb GROUP BY APOIO_PERNA ORDER BY COUNT(*) DESC').show()\n",
    "\n",
    "print(f'Consulta realizada com sucesso -  {datetime.now()}')"
   ]
  },
  {
   "cell_type": "code",
   "execution_count": 175,
   "metadata": {
    "tags": []
   },
   "outputs": [
    {
     "output_type": "stream",
     "name": "stdout",
     "text": "Quantidade de inscriçoes por Apoio de Perna por Ano.\n\nConsulta inciada -  2020-08-25 12:10:19.697291\n+----+-----------+--------------+----------+\n| ANO|APOIO_PERNA|QTDE_INSCRICAO|PERCENTUAL|\n+----+-----------+--------------+----------+\n|2015|        Não|       7743254|     22.97|\n|2015|        Sim|          3173|      0.01|\n|2016|        Não|       8623523|     25.58|\n|2016|        Sim|          3844|      0.01|\n|2017|        Não|       6729429|     19.96|\n|2017|        Sim|          1912|      0.01|\n|2018|        Não|       5511656|     16.35|\n|2018|        Sim|          2091|      0.01|\n|2019|        Não|       5093023|     15.11|\n|2019|        Sim|          2247|      0.01|\n+----+-----------+--------------+----------+\n\nConsulta realizada com sucesso -  2020-08-25 12:12:52.077490\n"
    }
   ],
   "source": [
    "print('Quantidade de inscriçoes por Apoio de Perna por Ano.')\n",
    "print('')\n",
    "print(f'Consulta inciada -  {datetime.now()}')\n",
    "\n",
    "sqlContext.sql('SELECT NU_ANO AS ANO, APOIO_PERNA, COUNT(*) AS QTDE_INSCRICAO, ROUND((COUNT(*)/(SELECT COUNT(*)/100 FROM enemtb)),2) AS PERCENTUAL FROM enemtb GROUP BY NU_ANO, APOIO_PERNA ORDER BY NU_ANO, COUNT(*) DESC').show()\n",
    "\n",
    "print(f'Consulta realizada com sucesso -  {datetime.now()}')"
   ]
  },
  {
   "cell_type": "code",
   "execution_count": 176,
   "metadata": {
    "tags": []
   },
   "outputs": [
    {
     "output_type": "stream",
     "name": "stdout",
     "text": "Quantidade de inscriçoes por Guia Iterprete.\n\nConsulta inciada -  2020-08-25 12:12:52.109405\n+---------------+--------------+----------+\n|GUIA_INTERPRETE|QTDE_INSCRICAO|PERCENTUAL|\n+---------------+--------------+----------+\n|            Não|      33714101|     100.0|\n|            Sim|            51|       0.0|\n+---------------+--------------+----------+\n\nConsulta realizada com sucesso -  2020-08-25 12:15:25.303862\n"
    }
   ],
   "source": [
    "print('Quantidade de inscriçoes por Guia Iterprete.')\n",
    "print('')\n",
    "print(f'Consulta inciada -  {datetime.now()}')\n",
    "\n",
    "sqlContext.sql('SELECT GUIA_INTERPRETE, COUNT(*) AS QTDE_INSCRICAO, ROUND((COUNT(*)/(SELECT COUNT(*)/100 FROM enemtb)),2) AS PERCENTUAL FROM enemtb GROUP BY GUIA_INTERPRETE ORDER BY COUNT(*) DESC').show()\n",
    "\n",
    "print(f'Consulta realizada com sucesso -  {datetime.now()}')"
   ]
  },
  {
   "cell_type": "code",
   "execution_count": 177,
   "metadata": {
    "tags": []
   },
   "outputs": [
    {
     "output_type": "stream",
     "name": "stdout",
     "text": "Quantidade de inscriçoes por Guia Iterprete por Ano.\n\nConsulta inciada -  2020-08-25 12:15:25.328795\n+----+---------------+--------------+----------+\n| ANO|GUIA_INTERPRETE|QTDE_INSCRICAO|PERCENTUAL|\n+----+---------------+--------------+----------+\n|2015|            Não|       7746415|     22.98|\n|2015|            Sim|            12|       0.0|\n|2016|            Não|       8627352|     25.59|\n|2016|            Sim|            15|       0.0|\n|2017|            Não|       6731334|     19.97|\n|2017|            Sim|             7|       0.0|\n|2018|            Não|       5513739|     16.35|\n|2018|            Sim|             8|       0.0|\n|2019|            Não|       5095261|     15.11|\n|2019|            Sim|             9|       0.0|\n+----+---------------+--------------+----------+\n\nConsulta realizada com sucesso -  2020-08-25 12:18:02.883723\n"
    }
   ],
   "source": [
    "print('Quantidade de inscriçoes por Guia Iterprete por Ano.')\n",
    "print('')\n",
    "print(f'Consulta inciada -  {datetime.now()}')\n",
    "\n",
    "sqlContext.sql('SELECT NU_ANO AS ANO, GUIA_INTERPRETE, COUNT(*) AS QTDE_INSCRICAO, ROUND((COUNT(*)/(SELECT COUNT(*)/100 FROM enemtb)),2) AS PERCENTUAL FROM enemtb GROUP BY NU_ANO, GUIA_INTERPRETE ORDER BY NU_ANO, COUNT(*) DESC').show()\n",
    "\n",
    "print(f'Consulta realizada com sucesso -  {datetime.now()}')"
   ]
  },
  {
   "cell_type": "code",
   "execution_count": 178,
   "metadata": {
    "tags": []
   },
   "outputs": [
    {
     "output_type": "stream",
     "name": "stdout",
     "text": "Quantidade de inscriçoes por Pedido de Computador.\n\nConsulta inciada -  2020-08-25 12:18:02.909655\n+----------+--------------+----------+\n|COMPUTADOR|QTDE_INSCRICAO|PERCENTUAL|\n+----------+--------------+----------+\n|       Não|      33714118|     100.0|\n|       Sim|            34|       0.0|\n+----------+--------------+----------+\n\nConsulta realizada com sucesso -  2020-08-25 12:20:35.043676\n"
    }
   ],
   "source": [
    "print('Quantidade de inscriçoes por Pedido de Computador.')\n",
    "print('')\n",
    "print(f'Consulta inciada -  {datetime.now()}')\n",
    "\n",
    "sqlContext.sql('SELECT COMPUTADOR, COUNT(*) AS QTDE_INSCRICAO, ROUND((COUNT(*)/(SELECT COUNT(*)/100 FROM enemtb)),2) AS PERCENTUAL FROM enemtb GROUP BY COMPUTADOR ORDER BY COUNT(*) DESC').show()\n",
    "\n",
    "print(f'Consulta realizada com sucesso -  {datetime.now()}')"
   ]
  },
  {
   "cell_type": "code",
   "execution_count": 179,
   "metadata": {
    "tags": []
   },
   "outputs": [
    {
     "output_type": "stream",
     "name": "stdout",
     "text": "Quantidade de inscriçoes por Pedido de Computador por Ano.\n\nConsulta inciada -  2020-08-25 12:20:35.064621\n+----+----------+--------------+----------+\n| ANO|COMPUTADOR|QTDE_INSCRICAO|PERCENTUAL|\n+----+----------+--------------+----------+\n|2015|       Não|       7746421|     22.98|\n|2015|       Sim|             6|       0.0|\n|2016|       Não|       8627358|     25.59|\n|2016|       Sim|             9|       0.0|\n|2017|       Não|       6731338|     19.97|\n|2017|       Sim|             3|       0.0|\n|2018|       Não|       5513739|     16.35|\n|2018|       Sim|             8|       0.0|\n|2019|       Não|       5095262|     15.11|\n|2019|       Sim|             8|       0.0|\n+----+----------+--------------+----------+\n\nConsulta realizada com sucesso -  2020-08-25 12:23:02.535040\n"
    }
   ],
   "source": [
    "print('Quantidade de inscriçoes por Pedido de Computador por Ano.')\n",
    "print('')\n",
    "print(f'Consulta inciada -  {datetime.now()}')\n",
    "\n",
    "sqlContext.sql('SELECT NU_ANO AS ANO, COMPUTADOR, COUNT(*) AS QTDE_INSCRICAO, ROUND((COUNT(*)/(SELECT COUNT(*)/100 FROM enemtb)),2) AS PERCENTUAL FROM enemtb GROUP BY NU_ANO, COMPUTADOR ORDER BY NU_ANO, COUNT(*) DESC').show()\n",
    "\n",
    "print(f'Consulta realizada com sucesso -  {datetime.now()}')"
   ]
  },
  {
   "cell_type": "code",
   "execution_count": 180,
   "metadata": {
    "tags": []
   },
   "outputs": [
    {
     "output_type": "stream",
     "name": "stdout",
     "text": "Quantidade de inscriçoes por Cadeira Especial.\n\nConsulta inciada -  2020-08-25 12:23:02.561970\n+----------------+--------------+----------+\n|CADEIRA_ESPECIAL|QTDE_INSCRICAO|PERCENTUAL|\n+----------------+--------------+----------+\n|             Não|      33714031|     100.0|\n|             Sim|           121|       0.0|\n+----------------+--------------+----------+\n\nConsulta realizada com sucesso -  2020-08-25 12:25:41.997440\n"
    }
   ],
   "source": [
    "print('Quantidade de inscriçoes por Cadeira Especial.')\n",
    "print('')\n",
    "print(f'Consulta inciada -  {datetime.now()}')\n",
    "\n",
    "sqlContext.sql('SELECT CADEIRA_ESPECIAL, COUNT(*) AS QTDE_INSCRICAO, ROUND((COUNT(*)/(SELECT COUNT(*)/100 FROM enemtb)),2) AS PERCENTUAL FROM enemtb GROUP BY CADEIRA_ESPECIAL ORDER BY COUNT(*) DESC').show()\n",
    "\n",
    "print(f'Consulta realizada com sucesso -  {datetime.now()}')"
   ]
  },
  {
   "cell_type": "code",
   "execution_count": 181,
   "metadata": {
    "tags": []
   },
   "outputs": [
    {
     "output_type": "stream",
     "name": "stdout",
     "text": "Quantidade de inscriçoes por Cadeira Especial por Ano.\n\nConsulta inciada -  2020-08-25 12:25:42.018384\n+----+----------------+--------------+----------+\n| ANO|CADEIRA_ESPECIAL|QTDE_INSCRICAO|PERCENTUAL|\n+----+----------------+--------------+----------+\n|2015|             Não|       7746387|     22.98|\n|2015|             Sim|            40|       0.0|\n|2016|             Não|       8627329|     25.59|\n|2016|             Sim|            38|       0.0|\n|2017|             Não|       6731325|     19.97|\n|2017|             Sim|            16|       0.0|\n|2018|             Não|       5513733|     16.35|\n|2018|             Sim|            14|       0.0|\n|2019|             Não|       5095257|     15.11|\n|2019|             Sim|            13|       0.0|\n+----+----------------+--------------+----------+\n\nConsulta realizada com sucesso -  2020-08-25 12:28:26.945046\n"
    }
   ],
   "source": [
    "print('Quantidade de inscriçoes por Cadeira Especial por Ano.')\n",
    "print('')\n",
    "print(f'Consulta inciada -  {datetime.now()}')\n",
    "\n",
    "sqlContext.sql('SELECT NU_ANO AS ANO, CADEIRA_ESPECIAL, COUNT(*) AS QTDE_INSCRICAO, ROUND((COUNT(*)/(SELECT COUNT(*)/100 FROM enemtb)),2) AS PERCENTUAL FROM enemtb GROUP BY NU_ANO, CADEIRA_ESPECIAL ORDER BY NU_ANO, COUNT(*) DESC').show()\n",
    "\n",
    "print(f'Consulta realizada com sucesso -  {datetime.now()}')"
   ]
  },
  {
   "cell_type": "code",
   "execution_count": 182,
   "metadata": {
    "tags": []
   },
   "outputs": [
    {
     "output_type": "stream",
     "name": "stdout",
     "text": "Quantidade de inscriçoes por Cadeira Canhoto.\n\nConsulta inciada -  2020-08-25 12:28:26.967499\n+---------------+--------------+----------+\n|CADEIRA_CANHOTO|QTDE_INSCRICAO|PERCENTUAL|\n+---------------+--------------+----------+\n|            Não|      33714030|     100.0|\n|            Sim|           122|       0.0|\n+---------------+--------------+----------+\n\nConsulta realizada com sucesso -  2020-08-25 12:30:59.603521\n"
    }
   ],
   "source": [
    "print('Quantidade de inscriçoes por Cadeira Canhoto.')\n",
    "print('')\n",
    "print(f'Consulta inciada -  {datetime.now()}')\n",
    "\n",
    "sqlContext.sql('SELECT CADEIRA_CANHOTO, COUNT(*) AS QTDE_INSCRICAO, ROUND((COUNT(*)/(SELECT COUNT(*)/100 FROM enemtb)),2) AS PERCENTUAL FROM enemtb GROUP BY CADEIRA_CANHOTO ORDER BY COUNT(*) DESC').show()\n",
    "\n",
    "print(f'Consulta realizada com sucesso -  {datetime.now()}')"
   ]
  },
  {
   "cell_type": "code",
   "execution_count": 183,
   "metadata": {
    "tags": []
   },
   "outputs": [
    {
     "output_type": "stream",
     "name": "stdout",
     "text": "Quantidade de inscriçoes por Cadeira Canhoto por Ano.\n\nConsulta inciada -  2020-08-25 12:30:59.627455\n+----+---------------+--------------+----------+\n| ANO|CADEIRA_CANHOTO|QTDE_INSCRICAO|PERCENTUAL|\n+----+---------------+--------------+----------+\n|2015|            Não|       7746410|     22.98|\n|2015|            Sim|            17|       0.0|\n|2016|            Não|       8627336|     25.59|\n|2016|            Sim|            31|       0.0|\n|2017|            Não|       6731320|     19.97|\n|2017|            Sim|            21|       0.0|\n|2018|            Não|       5513708|     16.35|\n|2018|            Sim|            39|       0.0|\n|2019|            Não|       5095256|     15.11|\n|2019|            Sim|            14|       0.0|\n+----+---------------+--------------+----------+\n\nConsulta realizada com sucesso -  2020-08-25 12:33:28.752272\n"
    }
   ],
   "source": [
    "print('Quantidade de inscriçoes por Cadeira Canhoto por Ano.')\n",
    "print('')\n",
    "print(f'Consulta inciada -  {datetime.now()}')\n",
    "\n",
    "sqlContext.sql('SELECT NU_ANO AS ANO, CADEIRA_CANHOTO, COUNT(*) AS QTDE_INSCRICAO, ROUND((COUNT(*)/(SELECT COUNT(*)/100 FROM enemtb)),2) AS PERCENTUAL FROM enemtb GROUP BY NU_ANO, CADEIRA_CANHOTO ORDER BY NU_ANO, COUNT(*) DESC').show()\n",
    "\n",
    "print(f'Consulta realizada com sucesso -  {datetime.now()}')"
   ]
  },
  {
   "cell_type": "code",
   "execution_count": 184,
   "metadata": {
    "tags": []
   },
   "outputs": [
    {
     "output_type": "stream",
     "name": "stdout",
     "text": "Quantidade de inscriçoes por Cadeira Acolchoada.\n\nConsulta inciada -  2020-08-25 12:33:28.780196\n+------------------+--------------+----------+\n|CADEIRA_ACOLCHOADA|QTDE_INSCRICAO|PERCENTUAL|\n+------------------+--------------+----------+\n|               Não|      33713388|     100.0|\n|               Sim|           764|       0.0|\n+------------------+--------------+----------+\n\nConsulta realizada com sucesso -  2020-08-25 12:35:59.012383\n"
    }
   ],
   "source": [
    "print('Quantidade de inscriçoes por Cadeira Acolchoada.')\n",
    "print('')\n",
    "print(f'Consulta inciada -  {datetime.now()}')\n",
    "\n",
    "sqlContext.sql('SELECT CADEIRA_ACOLCHOADA, COUNT(*) AS QTDE_INSCRICAO, ROUND((COUNT(*)/(SELECT COUNT(*)/100 FROM enemtb)),2) AS PERCENTUAL FROM enemtb GROUP BY CADEIRA_ACOLCHOADA ORDER BY COUNT(*) DESC').show()\n",
    "\n",
    "print(f'Consulta realizada com sucesso -  {datetime.now()}')"
   ]
  },
  {
   "cell_type": "code",
   "execution_count": 185,
   "metadata": {
    "tags": []
   },
   "outputs": [
    {
     "output_type": "stream",
     "name": "stdout",
     "text": "Quantidade de inscriçoes por Cadeira Acolchoada por Ano.\n\nConsulta inciada -  2020-08-25 12:35:59.036321\n+----+------------------+--------------+----------+\n| ANO|CADEIRA_ACOLCHOADA|QTDE_INSCRICAO|PERCENTUAL|\n+----+------------------+--------------+----------+\n|2015|               Não|       7746392|     22.98|\n|2015|               Sim|            35|       0.0|\n|2016|               Não|       8627085|     25.59|\n|2016|               Sim|           282|       0.0|\n|2017|               Não|       6731221|     19.97|\n|2017|               Sim|           120|       0.0|\n|2018|               Não|       5513594|     16.35|\n|2018|               Sim|           153|       0.0|\n|2019|               Não|       5095096|     15.11|\n|2019|               Sim|           174|       0.0|\n+----+------------------+--------------+----------+\n\nConsulta realizada com sucesso -  2020-08-25 12:38:29.411412\n"
    }
   ],
   "source": [
    "print('Quantidade de inscriçoes por Cadeira Acolchoada por Ano.')\n",
    "print('')\n",
    "print(f'Consulta inciada -  {datetime.now()}')\n",
    "\n",
    "sqlContext.sql('SELECT NU_ANO AS ANO, CADEIRA_ACOLCHOADA, COUNT(*) AS QTDE_INSCRICAO, ROUND((COUNT(*)/(SELECT COUNT(*)/100 FROM enemtb)),2) AS PERCENTUAL FROM enemtb GROUP BY NU_ANO, CADEIRA_ACOLCHOADA ORDER BY NU_ANO, COUNT(*) DESC').show()\n",
    "\n",
    "print(f'Consulta realizada com sucesso -  {datetime.now()}')"
   ]
  },
  {
   "cell_type": "code",
   "execution_count": 186,
   "metadata": {
    "tags": []
   },
   "outputs": [
    {
     "output_type": "stream",
     "name": "stdout",
     "text": "Quantidade de inscriçoes por Prova Deitada.\n\nConsulta inciada -  2020-08-25 12:38:29.433354\n+-------------+--------------+----------+\n|PROVA_DEITADO|QTDE_INSCRICAO|PERCENTUAL|\n+-------------+--------------+----------+\n|          Não|      33714131|     100.0|\n|          Sim|            21|       0.0|\n+-------------+--------------+----------+\n\nConsulta realizada com sucesso -  2020-08-25 12:41:17.384885\n"
    }
   ],
   "source": [
    "print('Quantidade de inscriçoes por Prova Deitada.')\n",
    "print('')\n",
    "print(f'Consulta inciada -  {datetime.now()}')\n",
    "\n",
    "sqlContext.sql('SELECT PROVA_DEITADO, COUNT(*) AS QTDE_INSCRICAO, ROUND((COUNT(*)/(SELECT COUNT(*)/100 FROM enemtb)),2) AS PERCENTUAL FROM enemtb GROUP BY PROVA_DEITADO ORDER BY COUNT(*) DESC').show()\n",
    "\n",
    "print(f'Consulta realizada com sucesso -  {datetime.now()}')"
   ]
  },
  {
   "cell_type": "code",
   "execution_count": 187,
   "metadata": {
    "tags": []
   },
   "outputs": [
    {
     "output_type": "stream",
     "name": "stdout",
     "text": "Quantidade de inscriçoes por Prova Deitada por Ano.\n\nConsulta inciada -  2020-08-25 12:41:17.409818\n+----+-------------+--------------+----------+\n| ANO|PROVA_DEITADO|QTDE_INSCRICAO|PERCENTUAL|\n+----+-------------+--------------+----------+\n|2015|          Não|       7746422|     22.98|\n|2015|          Sim|             5|       0.0|\n|2016|          Não|       8627364|     25.59|\n|2016|          Sim|             3|       0.0|\n|2017|          Não|       6731340|     19.97|\n|2017|          Sim|             1|       0.0|\n|2018|          Não|       5513736|     16.35|\n|2018|          Sim|            11|       0.0|\n|2019|          Não|       5095269|     15.11|\n|2019|          Sim|             1|       0.0|\n+----+-------------+--------------+----------+\n\nConsulta realizada com sucesso -  2020-08-25 12:43:51.091417\n"
    }
   ],
   "source": [
    "print('Quantidade de inscriçoes por Prova Deitada por Ano.')\n",
    "print('')\n",
    "print(f'Consulta inciada -  {datetime.now()}')\n",
    "\n",
    "sqlContext.sql('SELECT NU_ANO AS ANO, PROVA_DEITADO, COUNT(*) AS QTDE_INSCRICAO, ROUND((COUNT(*)/(SELECT COUNT(*)/100 FROM enemtb)),2) AS PERCENTUAL FROM enemtb GROUP BY NU_ANO, PROVA_DEITADO ORDER BY NU_ANO, COUNT(*) DESC').show()\n",
    "\n",
    "print(f'Consulta realizada com sucesso -  {datetime.now()}')"
   ]
  },
  {
   "cell_type": "code",
   "execution_count": 188,
   "metadata": {
    "tags": []
   },
   "outputs": [
    {
     "output_type": "stream",
     "name": "stdout",
     "text": "Quantidade de inscriçoes por Mobiliario Obeso.\n\nConsulta inciada -  2020-08-25 12:43:51.112360\n+----------------+--------------+----------+\n|MOBILIARIO_OBESO|QTDE_INSCRICAO|PERCENTUAL|\n+----------------+--------------+----------+\n|             Não|      33713885|     100.0|\n|             Sim|           267|       0.0|\n+----------------+--------------+----------+\n\nConsulta realizada com sucesso -  2020-08-25 12:46:19.363508\n"
    }
   ],
   "source": [
    "print('Quantidade de inscriçoes por Mobiliario Obeso.')\n",
    "print('')\n",
    "print(f'Consulta inciada -  {datetime.now()}')\n",
    "\n",
    "sqlContext.sql('SELECT MOBILIARIO_OBESO, COUNT(*) AS QTDE_INSCRICAO, ROUND((COUNT(*)/(SELECT COUNT(*)/100 FROM enemtb)),2) AS PERCENTUAL FROM enemtb GROUP BY MOBILIARIO_OBESO ORDER BY COUNT(*) DESC').show()\n",
    "\n",
    "print(f'Consulta realizada com sucesso -  {datetime.now()}')"
   ]
  },
  {
   "cell_type": "code",
   "execution_count": 189,
   "metadata": {
    "tags": []
   },
   "outputs": [
    {
     "output_type": "stream",
     "name": "stdout",
     "text": "Quantidade de inscriçoes por Mobiliario Obeso por Ano.\n\nConsulta inciada -  2020-08-25 12:46:19.458256\n+----+----------------+--------------+----------+\n| ANO|MOBILIARIO_OBESO|QTDE_INSCRICAO|PERCENTUAL|\n+----+----------------+--------------+----------+\n|2015|             Não|       7746395|     22.98|\n|2015|             Sim|            32|       0.0|\n|2016|             Não|       8627312|     25.59|\n|2016|             Sim|            55|       0.0|\n|2017|             Não|       6731288|     19.97|\n|2017|             Sim|            53|       0.0|\n|2018|             Não|       5513679|     16.35|\n|2018|             Sim|            68|       0.0|\n|2019|             Não|       5095211|     15.11|\n|2019|             Sim|            59|       0.0|\n+----+----------------+--------------+----------+\n\nConsulta realizada com sucesso -  2020-08-25 12:48:50.778317\n"
    }
   ],
   "source": [
    "print('Quantidade de inscriçoes por Mobiliario Obeso por Ano.')\n",
    "print('')\n",
    "print(f'Consulta inciada -  {datetime.now()}')\n",
    "\n",
    "sqlContext.sql('SELECT NU_ANO AS ANO, MOBILIARIO_OBESO, COUNT(*) AS QTDE_INSCRICAO, ROUND((COUNT(*)/(SELECT COUNT(*)/100 FROM enemtb)),2) AS PERCENTUAL FROM enemtb GROUP BY NU_ANO, MOBILIARIO_OBESO ORDER BY NU_ANO, COUNT(*) DESC').show()\n",
    "\n",
    "print(f'Consulta realizada com sucesso -  {datetime.now()}')"
   ]
  },
  {
   "cell_type": "code",
   "execution_count": 190,
   "metadata": {
    "tags": []
   },
   "outputs": [
    {
     "output_type": "stream",
     "name": "stdout",
     "text": "Quantidade de inscriçoes por Lamina Overlay.\n\nConsulta inciada -  2020-08-25 12:48:50.808238\n+--------------+--------------+----------+\n|LAMINA_OVERLAY|QTDE_INSCRICAO|PERCENTUAL|\n+--------------+--------------+----------+\n|           Não|      33714070|     100.0|\n|           Sim|            82|       0.0|\n+--------------+--------------+----------+\n\nConsulta realizada com sucesso -  2020-08-25 12:51:20.881468\n"
    }
   ],
   "source": [
    "print('Quantidade de inscriçoes por Lamina Overlay.')\n",
    "print('')\n",
    "print(f'Consulta inciada -  {datetime.now()}')\n",
    "\n",
    "sqlContext.sql('SELECT LAMINA_OVERLAY, COUNT(*) AS QTDE_INSCRICAO, ROUND((COUNT(*)/(SELECT COUNT(*)/100 FROM enemtb)),2) AS PERCENTUAL FROM enemtb GROUP BY LAMINA_OVERLAY ORDER BY COUNT(*) DESC').show()\n",
    "\n",
    "print(f'Consulta realizada com sucesso -  {datetime.now()}')"
   ]
  },
  {
   "cell_type": "code",
   "execution_count": 191,
   "metadata": {
    "tags": []
   },
   "outputs": [
    {
     "output_type": "stream",
     "name": "stdout",
     "text": "Quantidade de inscriçoes por Lamina Overlay por Ano.\n\nConsulta inciada -  2020-08-25 12:51:20.906402\n+----+--------------+--------------+----------+\n| ANO|LAMINA_OVERLAY|QTDE_INSCRICAO|PERCENTUAL|\n+----+--------------+--------------+----------+\n|2015|           Não|       7746417|     22.98|\n|2015|           Sim|            10|       0.0|\n|2016|           Não|       8627347|     25.59|\n|2016|           Sim|            20|       0.0|\n|2017|           Não|       6731334|     19.97|\n|2017|           Sim|             7|       0.0|\n|2018|           Não|       5513729|     16.35|\n|2018|           Sim|            18|       0.0|\n|2019|           Não|       5095243|     15.11|\n|2019|           Sim|            27|       0.0|\n+----+--------------+--------------+----------+\n\nConsulta realizada com sucesso -  2020-08-25 12:53:53.763234\n"
    }
   ],
   "source": [
    "print('Quantidade de inscriçoes por Lamina Overlay por Ano.')\n",
    "print('')\n",
    "print(f'Consulta inciada -  {datetime.now()}')\n",
    "\n",
    "sqlContext.sql('SELECT NU_ANO AS ANO, LAMINA_OVERLAY, COUNT(*) AS QTDE_INSCRICAO, ROUND((COUNT(*)/(SELECT COUNT(*)/100 FROM enemtb)),2) AS PERCENTUAL FROM enemtb GROUP BY NU_ANO, LAMINA_OVERLAY ORDER BY NU_ANO, COUNT(*) DESC').show()\n",
    "\n",
    "print(f'Consulta realizada com sucesso -  {datetime.now()}')"
   ]
  },
  {
   "cell_type": "code",
   "execution_count": 192,
   "metadata": {
    "tags": []
   },
   "outputs": [
    {
     "output_type": "stream",
     "name": "stdout",
     "text": "Quantidade de inscriçoes por Protetor Auricular.\n\nConsulta inciada -  2020-08-25 12:53:53.795149\n+------------------+--------------+----------+\n|PROTETOR_AURICULAR|QTDE_INSCRICAO|PERCENTUAL|\n+------------------+--------------+----------+\n|               Não|      33714130|     100.0|\n|               Sim|            22|       0.0|\n+------------------+--------------+----------+\n\nConsulta realizada com sucesso -  2020-08-25 12:56:24.286859\n"
    }
   ],
   "source": [
    "print('Quantidade de inscriçoes por Protetor Auricular.')\n",
    "print('')\n",
    "print(f'Consulta inciada -  {datetime.now()}')\n",
    "\n",
    "sqlContext.sql('SELECT PROTETOR_AURICULAR, COUNT(*) AS QTDE_INSCRICAO, ROUND((COUNT(*)/(SELECT COUNT(*)/100 FROM enemtb)),2) AS PERCENTUAL FROM enemtb GROUP BY PROTETOR_AURICULAR ORDER BY COUNT(*) DESC').show()\n",
    "\n",
    "print(f'Consulta realizada com sucesso -  {datetime.now()}')"
   ]
  },
  {
   "cell_type": "code",
   "execution_count": 193,
   "metadata": {
    "tags": []
   },
   "outputs": [
    {
     "output_type": "stream",
     "name": "stdout",
     "text": "Quantidade de inscriçoes por Protetor Auricular por Ano.\n\nConsulta inciada -  2020-08-25 12:56:24.301821\n+----+------------------+--------------+----------+\n| ANO|PROTETOR_AURICULAR|QTDE_INSCRICAO|PERCENTUAL|\n+----+------------------+--------------+----------+\n|2015|               Não|       7746423|     22.98|\n|2015|               Sim|             4|       0.0|\n|2016|               Não|       8627363|     25.59|\n|2016|               Sim|             4|       0.0|\n|2017|               Não|       6731338|     19.97|\n|2017|               Sim|             3|       0.0|\n|2018|               Não|       5513741|     16.35|\n|2018|               Sim|             6|       0.0|\n|2019|               Não|       5095265|     15.11|\n|2019|               Sim|             5|       0.0|\n+----+------------------+--------------+----------+\n\nConsulta realizada com sucesso -  2020-08-25 12:58:52.738832\n"
    }
   ],
   "source": [
    "print('Quantidade de inscriçoes por Protetor Auricular por Ano.')\n",
    "print('')\n",
    "print(f'Consulta inciada -  {datetime.now()}')\n",
    "\n",
    "sqlContext.sql('SELECT NU_ANO AS ANO, PROTETOR_AURICULAR, COUNT(*) AS QTDE_INSCRICAO, ROUND((COUNT(*)/(SELECT COUNT(*)/100 FROM enemtb)),2) AS PERCENTUAL FROM enemtb GROUP BY NU_ANO, PROTETOR_AURICULAR ORDER BY NU_ANO, COUNT(*) DESC').show()\n",
    "\n",
    "print(f'Consulta realizada com sucesso -  {datetime.now()}')"
   ]
  },
  {
   "cell_type": "code",
   "execution_count": 194,
   "metadata": {
    "tags": []
   },
   "outputs": [
    {
     "output_type": "stream",
     "name": "stdout",
     "text": "Quantidade de inscriçoes por Medidor Glicose.\n\nConsulta inciada -  2020-08-25 12:58:52.758777\n+---------------+--------------+----------+\n|MEDIDOR_GLICOSE|QTDE_INSCRICAO|PERCENTUAL|\n+---------------+--------------+----------+\n|            Não|      33712326|     99.99|\n|            Sim|          1826|      0.01|\n+---------------+--------------+----------+\n\nConsulta realizada com sucesso -  2020-08-25 13:01:20.102308\n"
    }
   ],
   "source": [
    "print('Quantidade de inscriçoes por Medidor Glicose.')\n",
    "print('')\n",
    "print(f'Consulta inciada -  {datetime.now()}')\n",
    "\n",
    "sqlContext.sql('SELECT MEDIDOR_GLICOSE, COUNT(*) AS QTDE_INSCRICAO, ROUND((COUNT(*)/(SELECT COUNT(*)/100 FROM enemtb)),2) AS PERCENTUAL FROM enemtb GROUP BY MEDIDOR_GLICOSE ORDER BY COUNT(*) DESC').show()\n",
    "\n",
    "print(f'Consulta realizada com sucesso -  {datetime.now()}')"
   ]
  },
  {
   "cell_type": "code",
   "execution_count": 195,
   "metadata": {
    "tags": []
   },
   "outputs": [
    {
     "output_type": "stream",
     "name": "stdout",
     "text": "Quantidade de inscriçoes por Medidor Glicose por Ano.\n\nConsulta inciada -  2020-08-25 13:01:20.134264\n+----+---------------+--------------+----------+\n| ANO|MEDIDOR_GLICOSE|QTDE_INSCRICAO|PERCENTUAL|\n+----+---------------+--------------+----------+\n|2015|            Não|       7746297|     22.98|\n|2015|            Sim|           130|       0.0|\n|2016|            Não|       8627021|     25.59|\n|2016|            Sim|           346|       0.0|\n|2017|            Não|       6731031|     19.97|\n|2017|            Sim|           310|       0.0|\n|2018|            Não|       5513297|     16.35|\n|2018|            Sim|           450|       0.0|\n|2019|            Não|       5094680|     15.11|\n|2019|            Sim|           590|       0.0|\n+----+---------------+--------------+----------+\n\nConsulta realizada com sucesso -  2020-08-25 13:03:48.344787\n"
    }
   ],
   "source": [
    "print('Quantidade de inscriçoes por Medidor Glicose por Ano.')\n",
    "print('')\n",
    "print(f'Consulta inciada -  {datetime.now()}')\n",
    "\n",
    "sqlContext.sql('SELECT NU_ANO AS ANO, MEDIDOR_GLICOSE, COUNT(*) AS QTDE_INSCRICAO, ROUND((COUNT(*)/(SELECT COUNT(*)/100 FROM enemtb)),2) AS PERCENTUAL FROM enemtb GROUP BY NU_ANO, MEDIDOR_GLICOSE ORDER BY NU_ANO, COUNT(*) DESC').show()\n",
    "\n",
    "print(f'Consulta realizada com sucesso -  {datetime.now()}')"
   ]
  },
  {
   "cell_type": "code",
   "execution_count": 196,
   "metadata": {
    "tags": []
   },
   "outputs": [
    {
     "output_type": "stream",
     "name": "stdout",
     "text": "Quantidade de inscriçoes por Máquina de Braile.\n\nConsulta inciada -  2020-08-25 13:03:48.370717\n+--------------+--------------+----------+\n|MAQUINA_BRAILE|QTDE_INSCRICAO|PERCENTUAL|\n+--------------+--------------+----------+\n|           Não|      33713607|     100.0|\n|           Sim|           545|       0.0|\n+--------------+--------------+----------+\n\nConsulta realizada com sucesso -  2020-08-25 13:06:15.317725\n"
    }
   ],
   "source": [
    "print('Quantidade de inscriçoes por Máquina de Braile.')\n",
    "print('')\n",
    "print(f'Consulta inciada -  {datetime.now()}')\n",
    "\n",
    "sqlContext.sql('SELECT MAQUINA_BRAILE, COUNT(*) AS QTDE_INSCRICAO, ROUND((COUNT(*)/(SELECT COUNT(*)/100 FROM enemtb)),2) AS PERCENTUAL FROM enemtb GROUP BY MAQUINA_BRAILE ORDER BY COUNT(*) DESC').show()\n",
    "\n",
    "print(f'Consulta realizada com sucesso -  {datetime.now()}')"
   ]
  },
  {
   "cell_type": "code",
   "execution_count": 197,
   "metadata": {
    "tags": []
   },
   "outputs": [
    {
     "output_type": "stream",
     "name": "stdout",
     "text": "Quantidade de inscriçoes por Máquina de Braile por Ano.\n\nConsulta inciada -  2020-08-25 13:06:15.341660\n+----+--------------+--------------+----------+\n| ANO|MAQUINA_BRAILE|QTDE_INSCRICAO|PERCENTUAL|\n+----+--------------+--------------+----------+\n|2015|           Não|       7746400|     22.98|\n|2015|           Sim|            27|       0.0|\n|2016|           Não|       8627275|     25.59|\n|2016|           Sim|            92|       0.0|\n|2017|           Não|       6731179|     19.97|\n|2017|           Sim|           162|       0.0|\n|2018|           Não|       5513644|     16.35|\n|2018|           Sim|           103|       0.0|\n|2019|           Não|       5095109|     15.11|\n|2019|           Sim|           161|       0.0|\n+----+--------------+--------------+----------+\n\nConsulta realizada com sucesso -  2020-08-25 13:08:41.227192\n"
    }
   ],
   "source": [
    "print('Quantidade de inscriçoes por Máquina de Braile por Ano.')\n",
    "print('')\n",
    "print(f'Consulta inciada -  {datetime.now()}')\n",
    "\n",
    "sqlContext.sql('SELECT NU_ANO AS ANO, MAQUINA_BRAILE, COUNT(*) AS QTDE_INSCRICAO, ROUND((COUNT(*)/(SELECT COUNT(*)/100 FROM enemtb)),2) AS PERCENTUAL FROM enemtb GROUP BY NU_ANO, MAQUINA_BRAILE ORDER BY NU_ANO, COUNT(*) DESC').show()\n",
    "\n",
    "print(f'Consulta realizada com sucesso -  {datetime.now()}')"
   ]
  },
  {
   "cell_type": "code",
   "execution_count": 198,
   "metadata": {
    "tags": []
   },
   "outputs": [
    {
     "output_type": "stream",
     "name": "stdout",
     "text": "Quantidade de inscriçoes por Soroban.\n\nConsulta inciada -  2020-08-25 13:08:41.250130\n+-------+--------------+----------+\n|SOROBAN|QTDE_INSCRICAO|PERCENTUAL|\n+-------+--------------+----------+\n|    Não|      33713939|     100.0|\n|    Sim|           213|       0.0|\n+-------+--------------+----------+\n\nConsulta realizada com sucesso -  2020-08-25 13:11:08.987593\n"
    }
   ],
   "source": [
    "print('Quantidade de inscriçoes por Soroban.')\n",
    "print('')\n",
    "print(f'Consulta inciada -  {datetime.now()}')\n",
    "\n",
    "sqlContext.sql('SELECT SOROBAN, COUNT(*) AS QTDE_INSCRICAO, ROUND((COUNT(*)/(SELECT COUNT(*)/100 FROM enemtb)),2) AS PERCENTUAL FROM enemtb GROUP BY SOROBAN ORDER BY COUNT(*) DESC').show()\n",
    "\n",
    "print(f'Consulta realizada com sucesso -  {datetime.now()}')"
   ]
  },
  {
   "cell_type": "code",
   "execution_count": 199,
   "metadata": {
    "tags": []
   },
   "outputs": [
    {
     "output_type": "stream",
     "name": "stdout",
     "text": "Quantidade de inscriçoes por Soroban por Ano.\n\nConsulta inciada -  2020-08-25 13:11:09.015518\n+----+-------+--------------+----------+\n| ANO|SOROBAN|QTDE_INSCRICAO|PERCENTUAL|\n+----+-------+--------------+----------+\n|2015|    Não|       7746418|     22.98|\n|2015|    Sim|             9|       0.0|\n|2016|    Não|       8627339|     25.59|\n|2016|    Sim|            28|       0.0|\n|2017|    Não|       6731271|     19.97|\n|2017|    Sim|            70|       0.0|\n|2018|    Não|       5513684|     16.35|\n|2018|    Sim|            63|       0.0|\n|2019|    Não|       5095227|     15.11|\n|2019|    Sim|            43|       0.0|\n+----+-------+--------------+----------+\n\nConsulta realizada com sucesso -  2020-08-25 13:13:38.150683\n"
    }
   ],
   "source": [
    "print('Quantidade de inscriçoes por Soroban por Ano.')\n",
    "print('')\n",
    "print(f'Consulta inciada -  {datetime.now()}')\n",
    "\n",
    "sqlContext.sql('SELECT NU_ANO AS ANO, SOROBAN, COUNT(*) AS QTDE_INSCRICAO, ROUND((COUNT(*)/(SELECT COUNT(*)/100 FROM enemtb)),2) AS PERCENTUAL FROM enemtb GROUP BY NU_ANO, SOROBAN ORDER BY NU_ANO, COUNT(*) DESC').show()\n",
    "\n",
    "print(f'Consulta realizada com sucesso -  {datetime.now()}')"
   ]
  },
  {
   "cell_type": "code",
   "execution_count": 200,
   "metadata": {
    "tags": []
   },
   "outputs": [
    {
     "output_type": "stream",
     "name": "stdout",
     "text": "Quantidade de inscriçoes por Marca Passo.\n\nConsulta inciada -  2020-08-25 13:13:38.169633\n+-----------+--------------+----------+\n|MARCA_PASSO|QTDE_INSCRICAO|PERCENTUAL|\n+-----------+--------------+----------+\n|        Não|      33714102|     100.0|\n|        Sim|            50|       0.0|\n+-----------+--------------+----------+\n\nConsulta realizada com sucesso -  2020-08-25 13:16:05.447830\n"
    }
   ],
   "source": [
    "print('Quantidade de inscriçoes por Marca Passo.')\n",
    "print('')\n",
    "print(f'Consulta inciada -  {datetime.now()}')\n",
    "\n",
    "sqlContext.sql('SELECT MARCA_PASSO, COUNT(*) AS QTDE_INSCRICAO, ROUND((COUNT(*)/(SELECT COUNT(*)/100 FROM enemtb)),2) AS PERCENTUAL FROM enemtb GROUP BY MARCA_PASSO ORDER BY COUNT(*) DESC').show()\n",
    "\n",
    "print(f'Consulta realizada com sucesso -  {datetime.now()}')"
   ]
  },
  {
   "cell_type": "code",
   "execution_count": 201,
   "metadata": {
    "tags": []
   },
   "outputs": [
    {
     "output_type": "stream",
     "name": "stdout",
     "text": "Quantidade de inscriçoes por Marca Passo por Ano.\n\nConsulta inciada -  2020-08-25 13:16:05.462789\n+----+-----------+--------------+----------+\n| ANO|MARCA_PASSO|QTDE_INSCRICAO|PERCENTUAL|\n+----+-----------+--------------+----------+\n|2015|        Não|       7746424|     22.98|\n|2015|        Sim|             3|       0.0|\n|2016|        Não|       8627354|     25.59|\n|2016|        Sim|            13|       0.0|\n|2017|        Não|       6731333|     19.97|\n|2017|        Sim|             8|       0.0|\n|2018|        Não|       5513737|     16.35|\n|2018|        Sim|            10|       0.0|\n|2019|        Não|       5095254|     15.11|\n|2019|        Sim|            16|       0.0|\n+----+-----------+--------------+----------+\n\nConsulta realizada com sucesso -  2020-08-25 13:18:33.725447\n"
    }
   ],
   "source": [
    "print('Quantidade de inscriçoes por Marca Passo por Ano.')\n",
    "print('')\n",
    "print(f'Consulta inciada -  {datetime.now()}')\n",
    "\n",
    "sqlContext.sql('SELECT NU_ANO AS ANO, MARCA_PASSO, COUNT(*) AS QTDE_INSCRICAO, ROUND((COUNT(*)/(SELECT COUNT(*)/100 FROM enemtb)),2) AS PERCENTUAL FROM enemtb GROUP BY NU_ANO, MARCA_PASSO ORDER BY NU_ANO, COUNT(*) DESC').show()\n",
    "\n",
    "print(f'Consulta realizada com sucesso -  {datetime.now()}')"
   ]
  },
  {
   "cell_type": "code",
   "execution_count": 202,
   "metadata": {
    "tags": []
   },
   "outputs": [
    {
     "output_type": "stream",
     "name": "stdout",
     "text": "Quantidade de inscriçoes por Sonda.\n\nConsulta inciada -  2020-08-25 13:18:33.751378\n+-----+--------------+----------+\n|SONDA|QTDE_INSCRICAO|PERCENTUAL|\n+-----+--------------+----------+\n|  Não|      33714094|     100.0|\n|  Sim|            58|       0.0|\n+-----+--------------+----------+\n\nConsulta realizada com sucesso -  2020-08-25 13:20:59.119939\n"
    }
   ],
   "source": [
    "print('Quantidade de inscriçoes por Sonda.')\n",
    "print('')\n",
    "print(f'Consulta inciada -  {datetime.now()}')\n",
    "\n",
    "sqlContext.sql('SELECT SONDA, COUNT(*) AS QTDE_INSCRICAO, ROUND((COUNT(*)/(SELECT COUNT(*)/100 FROM enemtb)),2) AS PERCENTUAL FROM enemtb GROUP BY SONDA ORDER BY COUNT(*) DESC').show()\n",
    "\n",
    "print(f'Consulta realizada com sucesso -  {datetime.now()}')"
   ]
  },
  {
   "cell_type": "code",
   "execution_count": 203,
   "metadata": {
    "tags": []
   },
   "outputs": [
    {
     "output_type": "stream",
     "name": "stdout",
     "text": "Quantidade de inscriçoes por Sonda por Ano.\n\nConsulta inciada -  2020-08-25 13:20:59.134900\n+----+-----+--------------+----------+\n| ANO|SONDA|QTDE_INSCRICAO|PERCENTUAL|\n+----+-----+--------------+----------+\n|2015|  Não|       7746419|     22.98|\n|2015|  Sim|             8|       0.0|\n|2016|  Não|       8627351|     25.59|\n|2016|  Sim|            16|       0.0|\n|2017|  Não|       6731328|     19.97|\n|2017|  Sim|            13|       0.0|\n|2018|  Não|       5513736|     16.35|\n|2018|  Sim|            11|       0.0|\n|2019|  Não|       5095260|     15.11|\n|2019|  Sim|            10|       0.0|\n+----+-----+--------------+----------+\n\nConsulta realizada com sucesso -  2020-08-25 13:23:27.498548\n"
    }
   ],
   "source": [
    "print('Quantidade de inscriçoes por Sonda por Ano.')\n",
    "print('')\n",
    "print(f'Consulta inciada -  {datetime.now()}')\n",
    "\n",
    "sqlContext.sql('SELECT NU_ANO AS ANO, SONDA, COUNT(*) AS QTDE_INSCRICAO, ROUND((COUNT(*)/(SELECT COUNT(*)/100 FROM enemtb)),2) AS PERCENTUAL FROM enemtb GROUP BY NU_ANO, SONDA ORDER BY NU_ANO, COUNT(*) DESC').show()\n",
    "\n",
    "print(f'Consulta realizada com sucesso -  {datetime.now()}')"
   ]
  },
  {
   "cell_type": "code",
   "execution_count": 204,
   "metadata": {
    "tags": []
   },
   "outputs": [
    {
     "output_type": "stream",
     "name": "stdout",
     "text": "Quantidade de inscriçoes por Medicamentos.\n\nConsulta inciada -  2020-08-25 13:23:27.521485\n+------------+--------------+----------+\n|MEDICAMENTOS|QTDE_INSCRICAO|PERCENTUAL|\n+------------+--------------+----------+\n|         Não|      33713057|     100.0|\n|         Sim|          1095|       0.0|\n+------------+--------------+----------+\n\nConsulta realizada com sucesso -  2020-08-25 13:25:52.846128\n"
    }
   ],
   "source": [
    "print('Quantidade de inscriçoes por Medicamentos.')\n",
    "print('')\n",
    "print(f'Consulta inciada -  {datetime.now()}')\n",
    "\n",
    "sqlContext.sql('SELECT MEDICAMENTOS, COUNT(*) AS QTDE_INSCRICAO, ROUND((COUNT(*)/(SELECT COUNT(*)/100 FROM enemtb)),2) AS PERCENTUAL FROM enemtb GROUP BY MEDICAMENTOS ORDER BY COUNT(*) DESC').show()\n",
    "\n",
    "print(f'Consulta realizada com sucesso -  {datetime.now()}')"
   ]
  },
  {
   "cell_type": "code",
   "execution_count": 205,
   "metadata": {
    "tags": []
   },
   "outputs": [
    {
     "output_type": "stream",
     "name": "stdout",
     "text": "Quantidade de inscriçoes por Medicamentos por Ano.\n\nConsulta inciada -  2020-08-25 13:25:52.880506\n+----+------------+--------------+----------+\n| ANO|MEDICAMENTOS|QTDE_INSCRICAO|PERCENTUAL|\n+----+------------+--------------+----------+\n|2015|         Não|       7746294|     22.98|\n|2015|         Sim|           133|       0.0|\n|2016|         Não|       8627033|     25.59|\n|2016|         Sim|           334|       0.0|\n|2017|         Não|       6731156|     19.97|\n|2017|         Sim|           185|       0.0|\n|2018|         Não|       5513551|     16.35|\n|2018|         Sim|           196|       0.0|\n|2019|         Não|       5095023|     15.11|\n|2019|         Sim|           247|       0.0|\n+----+------------+--------------+----------+\n\nConsulta realizada com sucesso -  2020-08-25 13:28:19.245751\n"
    }
   ],
   "source": [
    "print('Quantidade de inscriçoes por Medicamentos por Ano.')\n",
    "print('')\n",
    "print(f'Consulta inciada -  {datetime.now()}')\n",
    "\n",
    "sqlContext.sql('SELECT NU_ANO AS ANO, MEDICAMENTOS, COUNT(*) AS QTDE_INSCRICAO, ROUND((COUNT(*)/(SELECT COUNT(*)/100 FROM enemtb)),2) AS PERCENTUAL FROM enemtb GROUP BY NU_ANO, MEDICAMENTOS ORDER BY NU_ANO, COUNT(*) DESC').show()\n",
    "\n",
    "print(f'Consulta realizada com sucesso -  {datetime.now()}')"
   ]
  },
  {
   "cell_type": "code",
   "execution_count": 206,
   "metadata": {
    "tags": []
   },
   "outputs": [
    {
     "output_type": "stream",
     "name": "stdout",
     "text": "Quantidade de inscriçoes por Sala Individual.\n\nConsulta inciada -  2020-08-25 13:28:19.268688\n+---------------+--------------+----------+\n|SALA_INDIVIDUAL|QTDE_INSCRICAO|PERCENTUAL|\n+---------------+--------------+----------+\n|            Não|      33712675|     100.0|\n|            Sim|          1477|       0.0|\n+---------------+--------------+----------+\n\nConsulta realizada com sucesso -  2020-08-25 13:30:44.762878\n"
    }
   ],
   "source": [
    "print('Quantidade de inscriçoes por Sala Individual.')\n",
    "print('')\n",
    "print(f'Consulta inciada -  {datetime.now()}')\n",
    "\n",
    "sqlContext.sql('SELECT SALA_INDIVIDUAL, COUNT(*) AS QTDE_INSCRICAO, ROUND((COUNT(*)/(SELECT COUNT(*)/100 FROM enemtb)),2) AS PERCENTUAL FROM enemtb GROUP BY SALA_INDIVIDUAL ORDER BY COUNT(*) DESC').show()\n",
    "\n",
    "print(f'Consulta realizada com sucesso -  {datetime.now()}')"
   ]
  },
  {
   "cell_type": "code",
   "execution_count": 255,
   "metadata": {
    "tags": []
   },
   "outputs": [
    {
     "output_type": "stream",
     "name": "stdout",
     "text": "Quantidade de inscriçoes por Sala Individual por Ano.\n\nConsulta inciada -  2020-08-25 16:24:17.259542\n+----+---------------+--------------+----------+\n| ANO|SALA_INDIVIDUAL|QTDE_INSCRICAO|PERCENTUAL|\n+----+---------------+--------------+----------+\n|2015|            Não|       7746129|     22.98|\n|2015|            Sim|           298|       0.0|\n|2016|            Não|       8627001|     25.59|\n|2016|            Sim|           366|       0.0|\n|2017|            Não|       6731117|     19.97|\n|2017|            Sim|           224|       0.0|\n|2018|            Não|       5513458|     16.35|\n|2018|            Sim|           289|       0.0|\n|2019|            Não|       5094970|     15.11|\n|2019|            Sim|           300|       0.0|\n+----+---------------+--------------+----------+\n\nConsulta realizada com sucesso -  2020-08-25 16:26:51.664119\n"
    }
   ],
   "source": [
    "print('Quantidade de inscriçoes por Sala Individual por Ano.')\n",
    "print('')\n",
    "print(f'Consulta inciada -  {datetime.now()}')\n",
    "\n",
    "sqlContext.sql('SELECT NU_ANO AS ANO, SALA_INDIVIDUAL, COUNT(*) AS QTDE_INSCRICAO, ROUND((COUNT(*)/(SELECT COUNT(*)/100 FROM enemtb)),2) AS PERCENTUAL FROM enemtb GROUP BY NU_ANO, SALA_INDIVIDUAL ORDER BY NU_ANO, COUNT(*) DESC').show()\n",
    "\n",
    "print(f'Consulta realizada com sucesso -  {datetime.now()}')"
   ]
  },
  {
   "cell_type": "code",
   "execution_count": 208,
   "metadata": {
    "tags": []
   },
   "outputs": [
    {
     "output_type": "stream",
     "name": "stdout",
     "text": "Quantidade de inscriçoes por Sala Especial.\n\nConsulta inciada -  2020-08-25 13:30:44.858620\n+-------------+--------------+----------+\n|SALA_ESPECIAL|QTDE_INSCRICAO|PERCENTUAL|\n+-------------+--------------+----------+\n|          Não|      33712905|     100.0|\n|          Sim|          1247|       0.0|\n+-------------+--------------+----------+\n\nConsulta realizada com sucesso -  2020-08-25 13:33:10.252098\n"
    }
   ],
   "source": [
    "print('Quantidade de inscriçoes por Sala Especial.')\n",
    "print('')\n",
    "print(f'Consulta inciada -  {datetime.now()}')\n",
    "\n",
    "sqlContext.sql('SELECT SALA_ESPECIAL, COUNT(*) AS QTDE_INSCRICAO, ROUND((COUNT(*)/(SELECT COUNT(*)/100 FROM enemtb)),2) AS PERCENTUAL FROM enemtb GROUP BY SALA_ESPECIAL ORDER BY COUNT(*) DESC').show()\n",
    "\n",
    "print(f'Consulta realizada com sucesso -  {datetime.now()}')"
   ]
  },
  {
   "cell_type": "code",
   "execution_count": 209,
   "metadata": {
    "tags": []
   },
   "outputs": [
    {
     "output_type": "stream",
     "name": "stdout",
     "text": "Quantidade de inscriçoes por Sala Especial por Ano.\n\nConsulta inciada -  2020-08-25 13:33:10.279025\n+----+-------------+--------------+----------+\n| ANO|SALA_ESPECIAL|QTDE_INSCRICAO|PERCENTUAL|\n+----+-------------+--------------+----------+\n|2015|          Não|       7746214|     22.98|\n|2015|          Sim|           213|       0.0|\n|2016|          Não|       8627084|     25.59|\n|2016|          Sim|           283|       0.0|\n|2017|          Não|       6731058|     19.97|\n|2017|          Sim|           283|       0.0|\n|2018|          Não|       5513534|     16.35|\n|2018|          Sim|           213|       0.0|\n|2019|          Não|       5095015|     15.11|\n|2019|          Sim|           255|       0.0|\n+----+-------------+--------------+----------+\n\nConsulta realizada com sucesso -  2020-08-25 13:35:36.466920\n"
    }
   ],
   "source": [
    "print('Quantidade de inscriçoes por Sala Especial por Ano.')\n",
    "print('')\n",
    "print(f'Consulta inciada -  {datetime.now()}')\n",
    "\n",
    "sqlContext.sql('SELECT NU_ANO AS ANO, SALA_ESPECIAL, COUNT(*) AS QTDE_INSCRICAO, ROUND((COUNT(*)/(SELECT COUNT(*)/100 FROM enemtb)),2) AS PERCENTUAL FROM enemtb GROUP BY NU_ANO, SALA_ESPECIAL ORDER BY NU_ANO, COUNT(*) DESC').show()\n",
    "\n",
    "print(f'Consulta realizada com sucesso -  {datetime.now()}')"
   ]
  },
  {
   "cell_type": "code",
   "execution_count": 210,
   "metadata": {
    "tags": []
   },
   "outputs": [
    {
     "output_type": "stream",
     "name": "stdout",
     "text": "Quantidade de inscriçoes por Sala para Acompanhante.\n\nConsulta inciada -  2020-08-25 13:35:36.486866\n+-----------------+--------------+----------+\n|SALA_ACOMPANHANTE|QTDE_INSCRICAO|PERCENTUAL|\n+-----------------+--------------+----------+\n|              Não|      33713752|     100.0|\n|              Sim|           400|       0.0|\n+-----------------+--------------+----------+\n\nConsulta realizada com sucesso -  2020-08-25 13:38:01.426881\n"
    }
   ],
   "source": [
    "print('Quantidade de inscriçoes por Sala para Acompanhante.')\n",
    "print('')\n",
    "print(f'Consulta inciada -  {datetime.now()}')\n",
    "\n",
    "sqlContext.sql('SELECT SALA_ACOMPANHANTE, COUNT(*) AS QTDE_INSCRICAO, ROUND((COUNT(*)/(SELECT COUNT(*)/100 FROM enemtb)),2) AS PERCENTUAL FROM enemtb GROUP BY SALA_ACOMPANHANTE ORDER BY COUNT(*) DESC').show()\n",
    "\n",
    "print(f'Consulta realizada com sucesso -  {datetime.now()}')"
   ]
  },
  {
   "cell_type": "code",
   "execution_count": 211,
   "metadata": {
    "tags": []
   },
   "outputs": [
    {
     "output_type": "stream",
     "name": "stdout",
     "text": "Quantidade de inscriçoes por Sala para Acompanhante por Ano.\n\nConsulta inciada -  2020-08-25 13:38:01.449820\n+----+-----------------+--------------+----------+\n| ANO|SALA_ACOMPANHANTE|QTDE_INSCRICAO|PERCENTUAL|\n+----+-----------------+--------------+----------+\n|2015|              Não|       7746331|     22.98|\n|2015|              Sim|            96|       0.0|\n|2016|              Não|       8627265|     25.59|\n|2016|              Sim|           102|       0.0|\n|2017|              Não|       6731247|     19.97|\n|2017|              Sim|            94|       0.0|\n|2018|              Não|       5513692|     16.35|\n|2018|              Sim|            55|       0.0|\n|2019|              Não|       5095217|     15.11|\n|2019|              Sim|            53|       0.0|\n+----+-----------------+--------------+----------+\n\nConsulta realizada com sucesso -  2020-08-25 13:40:41.968804\n"
    }
   ],
   "source": [
    "print('Quantidade de inscriçoes por Sala para Acompanhante por Ano.')\n",
    "print('')\n",
    "print(f'Consulta inciada -  {datetime.now()}')\n",
    "\n",
    "sqlContext.sql('SELECT NU_ANO AS ANO, SALA_ACOMPANHANTE, COUNT(*) AS QTDE_INSCRICAO, ROUND((COUNT(*)/(SELECT COUNT(*)/100 FROM enemtb)),2) AS PERCENTUAL FROM enemtb GROUP BY NU_ANO, SALA_ACOMPANHANTE ORDER BY NU_ANO, COUNT(*) DESC').show()\n",
    "\n",
    "print(f'Consulta realizada com sucesso -  {datetime.now()}')"
   ]
  },
  {
   "cell_type": "code",
   "execution_count": 212,
   "metadata": {
    "tags": []
   },
   "outputs": [
    {
     "output_type": "stream",
     "name": "stdout",
     "text": "Quantidade de inscriçoes por Mobiliario Específico.\n\nConsulta inciada -  2020-08-25 13:40:42.030652\n+---------------------+--------------+----------+\n|MOBILIARIO_ESPECIFICO|QTDE_INSCRICAO|PERCENTUAL|\n+---------------------+--------------+----------+\n|                  Não|      33714017|     100.0|\n|                  Sim|           135|       0.0|\n+---------------------+--------------+----------+\n\nConsulta realizada com sucesso -  2020-08-25 13:43:10.346031\n"
    }
   ],
   "source": [
    "print('Quantidade de inscriçoes por Mobiliario Específico.')\n",
    "print('')\n",
    "print(f'Consulta inciada -  {datetime.now()}')\n",
    "\n",
    "sqlContext.sql('SELECT MOBILIARIO_ESPECIFICO, COUNT(*) AS QTDE_INSCRICAO, ROUND((COUNT(*)/(SELECT COUNT(*)/100 FROM enemtb)),2) AS PERCENTUAL FROM enemtb GROUP BY MOBILIARIO_ESPECIFICO ORDER BY COUNT(*) DESC').show()\n",
    "\n",
    "print(f'Consulta realizada com sucesso -  {datetime.now()}')"
   ]
  },
  {
   "cell_type": "code",
   "execution_count": 213,
   "metadata": {
    "tags": []
   },
   "outputs": [
    {
     "output_type": "stream",
     "name": "stdout",
     "text": "Quantidade de inscriçoes por Mobiliario Específico por Ano.\n\nConsulta inciada -  2020-08-25 13:43:10.390911\n+----+---------------------+--------------+----------+\n| ANO|MOBILIARIO_ESPECIFICO|QTDE_INSCRICAO|PERCENTUAL|\n+----+---------------------+--------------+----------+\n|2015|                  Não|       7746415|     22.98|\n|2015|                  Sim|            12|       0.0|\n|2016|                  Não|       8627337|     25.59|\n|2016|                  Sim|            30|       0.0|\n|2017|                  Não|       6731330|     19.97|\n|2017|                  Sim|            11|       0.0|\n|2018|                  Não|       5513687|     16.35|\n|2018|                  Sim|            60|       0.0|\n|2019|                  Não|       5095248|     15.11|\n|2019|                  Sim|            22|       0.0|\n+----+---------------------+--------------+----------+\n\nConsulta realizada com sucesso -  2020-08-25 13:45:38.841350\n"
    }
   ],
   "source": [
    "print('Quantidade de inscriçoes por Mobiliario Específico por Ano.')\n",
    "print('')\n",
    "print(f'Consulta inciada -  {datetime.now()}')\n",
    "\n",
    "sqlContext.sql('SELECT NU_ANO AS ANO, MOBILIARIO_ESPECIFICO, COUNT(*) AS QTDE_INSCRICAO, ROUND((COUNT(*)/(SELECT COUNT(*)/100 FROM enemtb)),2) AS PERCENTUAL FROM enemtb GROUP BY NU_ANO, MOBILIARIO_ESPECIFICO ORDER BY NU_ANO, COUNT(*) DESC').show()\n",
    "\n",
    "print(f'Consulta realizada com sucesso -  {datetime.now()}')"
   ]
  },
  {
   "cell_type": "code",
   "execution_count": 214,
   "metadata": {
    "tags": []
   },
   "outputs": [
    {
     "output_type": "stream",
     "name": "stdout",
     "text": "Quantidade de inscriçoes por Nome Social.\n\nConsulta inciada -  2020-08-25 13:45:38.866282\n+-----------+--------------+----------+\n|NOME_SOCIAL|QTDE_INSCRICAO|PERCENTUAL|\n+-----------+--------------+----------+\n|        Não|      33712493|     100.0|\n|        Sim|          1659|       0.0|\n+-----------+--------------+----------+\n\nConsulta realizada com sucesso -  2020-08-25 13:48:10.129566\n"
    }
   ],
   "source": [
    "print('Quantidade de inscriçoes por Nome Social.')\n",
    "print('')\n",
    "print(f'Consulta inciada -  {datetime.now()}')\n",
    "\n",
    "sqlContext.sql('SELECT NOME_SOCIAL, COUNT(*) AS QTDE_INSCRICAO, ROUND((COUNT(*)/(SELECT COUNT(*)/100 FROM enemtb)),2) AS PERCENTUAL FROM enemtb GROUP BY NOME_SOCIAL ORDER BY COUNT(*) DESC').show()\n",
    "\n",
    "print(f'Consulta realizada com sucesso -  {datetime.now()}')"
   ]
  },
  {
   "cell_type": "code",
   "execution_count": 215,
   "metadata": {
    "tags": []
   },
   "outputs": [
    {
     "output_type": "stream",
     "name": "stdout",
     "text": "Quantidade de inscriçoes por Nome Social por Ano.\n\nConsulta inciada -  2020-08-25 13:48:10.144525\n+----+-----------+--------------+----------+\n| ANO|NOME_SOCIAL|QTDE_INSCRICAO|PERCENTUAL|\n+----+-----------+--------------+----------+\n|2015|        Não|       7746149|     22.98|\n|2015|        Sim|           278|       0.0|\n|2016|        Não|       8626936|     25.59|\n|2016|        Sim|           431|       0.0|\n|2017|        Não|       6731036|     19.97|\n|2017|        Sim|           305|       0.0|\n|2018|        Não|       5513496|     16.35|\n|2018|        Sim|           251|       0.0|\n|2019|        Não|       5094876|     15.11|\n|2019|        Sim|           394|       0.0|\n+----+-----------+--------------+----------+\n\nConsulta realizada com sucesso -  2020-08-25 13:50:38.108322\n"
    }
   ],
   "source": [
    "print('Quantidade de inscriçoes por Nome Social por Ano.')\n",
    "print('')\n",
    "print(f'Consulta inciada -  {datetime.now()}')\n",
    "\n",
    "sqlContext.sql('SELECT NU_ANO AS ANO, NOME_SOCIAL, COUNT(*) AS QTDE_INSCRICAO, ROUND((COUNT(*)/(SELECT COUNT(*)/100 FROM enemtb)),2) AS PERCENTUAL FROM enemtb GROUP BY NU_ANO, NOME_SOCIAL ORDER BY NU_ANO, COUNT(*) DESC').show()\n",
    "\n",
    "print(f'Consulta realizada com sucesso -  {datetime.now()}')"
   ]
  },
  {
   "cell_type": "code",
   "execution_count": 216,
   "metadata": {
    "tags": []
   },
   "outputs": [
    {
     "output_type": "stream",
     "name": "stdout",
     "text": "Quantidade de inscriçoes por Presença Prova Ciências Natureza.\n\nConsulta inciada -  2020-08-25 13:50:38.141233\n+--------------------------+--------------+----------+\n|PRESENCA_CIENCIAS_NATUREZA|QTDE_INSCRICAO|PERCENTUAL|\n+--------------------------+--------------+----------+\n|         Presente na prova|      23807309|     70.62|\n|            Faltou à prova|       9894904|     29.35|\n|        Eliminado na prova|         10840|      0.03|\n|                          |          1099|       0.0|\n+--------------------------+--------------+----------+\n\nConsulta realizada com sucesso -  2020-08-25 13:53:05.712198\n"
    }
   ],
   "source": [
    "print('Quantidade de inscriçoes por Presença Prova Ciências Natureza.')\n",
    "print('')\n",
    "print(f'Consulta inciada -  {datetime.now()}')\n",
    "\n",
    "sqlContext.sql('SELECT PRESENCA_CIENCIAS_NATUREZA, COUNT(*) AS QTDE_INSCRICAO, ROUND((COUNT(*)/(SELECT COUNT(*)/100 FROM enemtb)),2) AS PERCENTUAL FROM enemtb GROUP BY PRESENCA_CIENCIAS_NATUREZA ORDER BY COUNT(*) DESC').show()\n",
    "\n",
    "print(f'Consulta realizada com sucesso -  {datetime.now()}')"
   ]
  },
  {
   "cell_type": "code",
   "execution_count": 217,
   "metadata": {
    "tags": []
   },
   "outputs": [
    {
     "output_type": "stream",
     "name": "stdout",
     "text": "Quantidade de inscriçoes por Presença Prova Ciências Natureza por Ano.\n\nConsulta inciada -  2020-08-25 13:53:05.731148\n+----+--------------------------+--------------+----------+\n| ANO|PRESENCA_CIENCIAS_NATUREZA|QTDE_INSCRICAO|PERCENTUAL|\n+----+--------------------------+--------------+----------+\n|2015|         Presente na prova|       5755091|     17.07|\n|2015|            Faltou à prova|       1987518|       5.9|\n|2015|        Eliminado na prova|          3475|      0.01|\n|2015|                          |           343|       0.0|\n|2016|         Presente na prova|       5999126|     17.79|\n|2016|            Faltou à prova|       2624156|      7.78|\n|2016|        Eliminado na prova|          3711|      0.01|\n|2016|                          |           374|       0.0|\n|2017|         Presente na prova|       4437560|     13.16|\n|2017|            Faltou à prova|       2292509|       6.8|\n|2017|        Eliminado na prova|          1045|       0.0|\n|2017|                          |           227|       0.0|\n|2018|         Presente na prova|       3905099|     11.58|\n|2018|            Faltou à prova|       1607796|      4.77|\n|2018|        Eliminado na prova|           697|       0.0|\n|2018|                          |           155|       0.0|\n|2019|         Presente na prova|       3710433|     11.01|\n|2019|            Faltou à prova|       1382925|       4.1|\n|2019|        Eliminado na prova|          1912|      0.01|\n+----+--------------------------+--------------+----------+\n\nConsulta realizada com sucesso -  2020-08-25 13:55:31.713103\n"
    }
   ],
   "source": [
    "print('Quantidade de inscriçoes por Presença Prova Ciências Natureza por Ano.')\n",
    "print('')\n",
    "print(f'Consulta inciada -  {datetime.now()}')\n",
    "\n",
    "sqlContext.sql('SELECT NU_ANO AS ANO, PRESENCA_CIENCIAS_NATUREZA, COUNT(*) AS QTDE_INSCRICAO, ROUND((COUNT(*)/(SELECT COUNT(*)/100 FROM enemtb)),2) AS PERCENTUAL FROM enemtb GROUP BY NU_ANO, PRESENCA_CIENCIAS_NATUREZA ORDER BY NU_ANO, COUNT(*) DESC').show()\n",
    "\n",
    "print(f'Consulta realizada com sucesso -  {datetime.now()}')"
   ]
  },
  {
   "cell_type": "code",
   "execution_count": 218,
   "metadata": {
    "tags": []
   },
   "outputs": [
    {
     "output_type": "stream",
     "name": "stdout",
     "text": "Quantidade de inscriçoes por Presença Prova Ciências Humanas.\n\nConsulta inciada -  2020-08-25 13:55:31.739034\n+-------------------------+--------------+----------+\n|PRESENCA_CIENCIAS_HUMANAS|QTDE_INSCRICAO|PERCENTUAL|\n+-------------------------+--------------+----------+\n|        Presente na prova|      24527054|     72.75|\n|           Faltou à prova|       9170610|      27.2|\n|       Eliminado na prova|         15389|      0.05|\n|                         |          1099|       0.0|\n+-------------------------+--------------+----------+\n\nConsulta realizada com sucesso -  2020-08-25 13:58:00.353741\n"
    }
   ],
   "source": [
    "print('Quantidade de inscriçoes por Presença Prova Ciências Humanas.')\n",
    "print('')\n",
    "print(f'Consulta inciada -  {datetime.now()}')\n",
    "\n",
    "sqlContext.sql('SELECT PRESENCA_CIENCIAS_HUMANAS, COUNT(*) AS QTDE_INSCRICAO, ROUND((COUNT(*)/(SELECT COUNT(*)/100 FROM enemtb)),2) AS PERCENTUAL FROM enemtb GROUP BY PRESENCA_CIENCIAS_HUMANAS ORDER BY COUNT(*) DESC').show()\n",
    "\n",
    "print(f'Consulta realizada com sucesso -  {datetime.now()}')"
   ]
  },
  {
   "cell_type": "code",
   "execution_count": 219,
   "metadata": {
    "tags": []
   },
   "outputs": [
    {
     "output_type": "stream",
     "name": "stdout",
     "text": "Quantidade de inscriçoes por Presença Prova Ciências Humanas por Ano.\n\nConsulta inciada -  2020-08-25 13:58:00.445494\n+----+-------------------------+--------------+----------+\n| ANO|PRESENCA_CIENCIAS_HUMANAS|QTDE_INSCRICAO|PERCENTUAL|\n+----+-------------------------+--------------+----------+\n|2015|        Presente na prova|       5755091|     17.07|\n|2015|           Faltou à prova|       1987518|       5.9|\n|2015|       Eliminado na prova|          3475|      0.01|\n|2015|                         |           343|       0.0|\n|2016|        Presente na prova|       5999126|     17.79|\n|2016|           Faltou à prova|       2624156|      7.78|\n|2016|       Eliminado na prova|          3711|      0.01|\n|2016|                         |           374|       0.0|\n|2017|        Presente na prova|       4701428|     13.94|\n|2017|           Faltou à prova|       2027442|      6.01|\n|2017|       Eliminado na prova|          2244|      0.01|\n|2017|                         |           227|       0.0|\n|2018|        Presente na prova|       4148264|      12.3|\n|2018|           Faltou à prova|       1363441|      4.04|\n|2018|       Eliminado na prova|          1887|      0.01|\n|2018|                         |           155|       0.0|\n|2019|        Presente na prova|       3923145|     11.64|\n|2019|           Faltou à prova|       1168053|      3.46|\n|2019|       Eliminado na prova|          4072|      0.01|\n+----+-------------------------+--------------+----------+\n\nConsulta realizada com sucesso -  2020-08-25 14:00:30.341075\n"
    }
   ],
   "source": [
    "print('Quantidade de inscriçoes por Presença Prova Ciências Humanas por Ano.')\n",
    "print('')\n",
    "print(f'Consulta inciada -  {datetime.now()}')\n",
    "\n",
    "sqlContext.sql('SELECT NU_ANO AS ANO, PRESENCA_CIENCIAS_HUMANAS, COUNT(*) AS QTDE_INSCRICAO, ROUND((COUNT(*)/(SELECT COUNT(*)/100 FROM enemtb)),2) AS PERCENTUAL FROM enemtb GROUP BY NU_ANO, PRESENCA_CIENCIAS_HUMANAS ORDER BY NU_ANO, COUNT(*) DESC').show()\n",
    "\n",
    "print(f'Consulta realizada com sucesso -  {datetime.now()}')"
   ]
  },
  {
   "cell_type": "code",
   "execution_count": 220,
   "metadata": {
    "tags": []
   },
   "outputs": [
    {
     "output_type": "stream",
     "name": "stdout",
     "text": "Quantidade de inscriçoes por Presença Prova Linguagens e Códigos.\n\nConsulta inciada -  2020-08-25 14:00:30.383961\n+---------------------------+--------------+----------+\n|PRESENCA_LINGUAGENS_CODIGOS|QTDE_INSCRICAO|PERCENTUAL|\n+---------------------------+--------------+----------+\n|          Presente na prova|      24243348|     71.91|\n|             Faltou à prova|       9452565|     28.04|\n|         Eliminado na prova|         17164|      0.05|\n|                           |          1075|       0.0|\n+---------------------------+--------------+----------+\n\nConsulta realizada com sucesso -  2020-08-25 14:02:59.546948\n"
    }
   ],
   "source": [
    "print('Quantidade de inscriçoes por Presença Prova Linguagens e Códigos.')\n",
    "print('')\n",
    "print(f'Consulta inciada -  {datetime.now()}')\n",
    "\n",
    "sqlContext.sql('SELECT PRESENCA_LINGUAGENS_CODIGOS, COUNT(*) AS QTDE_INSCRICAO, ROUND((COUNT(*)/(SELECT COUNT(*)/100 FROM enemtb)),2) AS PERCENTUAL FROM enemtb GROUP BY PRESENCA_LINGUAGENS_CODIGOS ORDER BY COUNT(*) DESC').show()\n",
    "\n",
    "print(f'Consulta realizada com sucesso -  {datetime.now()}')"
   ]
  },
  {
   "cell_type": "code",
   "execution_count": 221,
   "metadata": {
    "tags": []
   },
   "outputs": [
    {
     "output_type": "stream",
     "name": "stdout",
     "text": "Quantidade de inscriçoes por Presença Prova Linguagens e Códigos por Ano.\n\nConsulta inciada -  2020-08-25 14:02:59.580858\n+----+---------------------------+--------------+----------+\n| ANO|PRESENCA_LINGUAGENS_CODIGOS|QTDE_INSCRICAO|PERCENTUAL|\n+----+---------------------------+--------------+----------+\n|2015|          Presente na prova|       5625540|     16.69|\n|2015|             Faltou à prova|       2116236|      6.28|\n|2015|         Eliminado na prova|          4332|      0.01|\n|2015|                           |           319|       0.0|\n|2016|          Presente na prova|       5844971|     17.34|\n|2016|             Faltou à prova|       2777393|      8.24|\n|2016|         Eliminado na prova|          4629|      0.01|\n|2016|                           |           374|       0.0|\n|2017|          Presente na prova|       4701428|     13.94|\n|2017|             Faltou à prova|       2027442|      6.01|\n|2017|         Eliminado na prova|          2244|      0.01|\n|2017|                           |           227|       0.0|\n|2018|          Presente na prova|       4148264|      12.3|\n|2018|             Faltou à prova|       1363441|      4.04|\n|2018|         Eliminado na prova|          1887|      0.01|\n|2018|                           |           155|       0.0|\n|2019|          Presente na prova|       3923145|     11.64|\n|2019|             Faltou à prova|       1168053|      3.46|\n|2019|         Eliminado na prova|          4072|      0.01|\n+----+---------------------------+--------------+----------+\n\nConsulta realizada com sucesso -  2020-08-25 14:05:31.748434\n"
    }
   ],
   "source": [
    "print('Quantidade de inscriçoes por Presença Prova Linguagens e Códigos por Ano.')\n",
    "print('')\n",
    "print(f'Consulta inciada -  {datetime.now()}')\n",
    "\n",
    "sqlContext.sql('SELECT NU_ANO AS ANO, PRESENCA_LINGUAGENS_CODIGOS, COUNT(*) AS QTDE_INSCRICAO, ROUND((COUNT(*)/(SELECT COUNT(*)/100 FROM enemtb)),2) AS PERCENTUAL FROM enemtb GROUP BY NU_ANO, PRESENCA_LINGUAGENS_CODIGOS ORDER BY NU_ANO, COUNT(*) DESC').show()\n",
    "\n",
    "print(f'Consulta realizada com sucesso -  {datetime.now()}')"
   ]
  },
  {
   "cell_type": "code",
   "execution_count": 222,
   "metadata": {
    "tags": []
   },
   "outputs": [
    {
     "output_type": "stream",
     "name": "stdout",
     "text": "Quantidade de inscriçoes por Presença Prova Matemática.\n\nConsulta inciada -  2020-08-25 14:05:31.777358\n+-------------------+--------------+----------+\n|PRESENCA_MATEMATICA|QTDE_INSCRICAO|PERCENTUAL|\n+-------------------+--------------+----------+\n|  Presente na prova|      23523603|     69.77|\n|     Faltou à prova|      10176859|     30.19|\n| Eliminado na prova|         12615|      0.04|\n|                   |          1075|       0.0|\n+-------------------+--------------+----------+\n\nConsulta realizada com sucesso -  2020-08-25 14:08:08.679310\n"
    }
   ],
   "source": [
    "print('Quantidade de inscriçoes por Presença Prova Matemática.')\n",
    "print('')\n",
    "print(f'Consulta inciada -  {datetime.now()}')\n",
    "\n",
    "sqlContext.sql('SELECT PRESENCA_MATEMATICA, COUNT(*) AS QTDE_INSCRICAO, ROUND((COUNT(*)/(SELECT COUNT(*)/100 FROM enemtb)),2) AS PERCENTUAL FROM enemtb GROUP BY PRESENCA_MATEMATICA ORDER BY COUNT(*) DESC').show()\n",
    "\n",
    "print(f'Consulta realizada com sucesso -  {datetime.now()}')"
   ]
  },
  {
   "cell_type": "code",
   "execution_count": 223,
   "metadata": {
    "tags": []
   },
   "outputs": [
    {
     "output_type": "stream",
     "name": "stdout",
     "text": "Quantidade de inscriçoes por Presença Prova Matemática por Ano.\n\nConsulta inciada -  2020-08-25 14:08:08.705240\n+----+-------------------+--------------+----------+\n| ANO|PRESENCA_MATEMATICA|QTDE_INSCRICAO|PERCENTUAL|\n+----+-------------------+--------------+----------+\n|2015|  Presente na prova|       5625540|     16.69|\n|2015|     Faltou à prova|       2116236|      6.28|\n|2015| Eliminado na prova|          4332|      0.01|\n|2015|                   |           319|       0.0|\n|2016|  Presente na prova|       5844971|     17.34|\n|2016|     Faltou à prova|       2777393|      8.24|\n|2016| Eliminado na prova|          4629|      0.01|\n|2016|                   |           374|       0.0|\n|2017|  Presente na prova|       4437560|     13.16|\n|2017|     Faltou à prova|       2292509|       6.8|\n|2017| Eliminado na prova|          1045|       0.0|\n|2017|                   |           227|       0.0|\n|2018|  Presente na prova|       3905099|     11.58|\n|2018|     Faltou à prova|       1607796|      4.77|\n|2018| Eliminado na prova|           697|       0.0|\n|2018|                   |           155|       0.0|\n|2019|  Presente na prova|       3710433|     11.01|\n|2019|     Faltou à prova|       1382925|       4.1|\n|2019| Eliminado na prova|          1912|      0.01|\n+----+-------------------+--------------+----------+\n\nConsulta realizada com sucesso -  2020-08-25 14:10:53.002763\n"
    }
   ],
   "source": [
    "print('Quantidade de inscriçoes por Presença Prova Matemática por Ano.')\n",
    "print('')\n",
    "print(f'Consulta inciada -  {datetime.now()}')\n",
    "\n",
    "sqlContext.sql('SELECT NU_ANO AS ANO, PRESENCA_MATEMATICA, COUNT(*) AS QTDE_INSCRICAO, ROUND((COUNT(*)/(SELECT COUNT(*)/100 FROM enemtb)),2) AS PERCENTUAL FROM enemtb GROUP BY NU_ANO, PRESENCA_MATEMATICA ORDER BY NU_ANO, COUNT(*) DESC').show()\n",
    "\n",
    "print(f'Consulta realizada com sucesso -  {datetime.now()}')"
   ]
  },
  {
   "cell_type": "code",
   "execution_count": 224,
   "metadata": {
    "tags": []
   },
   "outputs": [
    {
     "output_type": "stream",
     "name": "stdout",
     "text": "Quantidade de inscriçoes por Escolha Línguas.\n\nConsulta inciada -  2020-08-25 14:10:53.025704\n+--------+--------------+----------+\n|  LINGUA|QTDE_INSCRICAO|PERCENTUAL|\n+--------+--------------+----------+\n|Espanhol|      18995697|     56.34|\n|  Inglês|      14718455|     43.66|\n+--------+--------------+----------+\n\nConsulta realizada com sucesso -  2020-08-25 14:13:24.500674\n"
    }
   ],
   "source": [
    "print('Quantidade de inscriçoes por Escolha Línguas.')\n",
    "print('')\n",
    "print(f'Consulta inciada -  {datetime.now()}')\n",
    "\n",
    "sqlContext.sql('SELECT LINGUA, COUNT(*) AS QTDE_INSCRICAO, ROUND((COUNT(*)/(SELECT COUNT(*)/100 FROM enemtb)),2) AS PERCENTUAL FROM enemtb GROUP BY LINGUA ORDER BY COUNT(*) DESC').show()\n",
    "\n",
    "print(f'Consulta realizada com sucesso -  {datetime.now()}')"
   ]
  },
  {
   "cell_type": "code",
   "execution_count": 225,
   "metadata": {
    "tags": []
   },
   "outputs": [
    {
     "output_type": "stream",
     "name": "stdout",
     "text": "Quantidade de inscriçoes por Escolha Línguas por Ano.\n\nConsulta inciada -  2020-08-25 14:13:24.533587\n+----+--------+--------------+----------+\n| ANO|  LINGUA|QTDE_INSCRICAO|PERCENTUAL|\n+----+--------+--------------+----------+\n|2015|Espanhol|       4612529|     13.68|\n|2015|  Inglês|       3133898|       9.3|\n|2016|Espanhol|       5020795|     14.89|\n|2016|  Inglês|       3606572|      10.7|\n|2017|Espanhol|       3749674|     11.12|\n|2017|  Inglês|       2981667|      8.84|\n|2018|Espanhol|       2939201|      8.72|\n|2018|  Inglês|       2574546|      7.64|\n|2019|Espanhol|       2673498|      7.93|\n|2019|  Inglês|       2421772|      7.18|\n+----+--------+--------------+----------+\n\nConsulta realizada com sucesso -  2020-08-25 14:15:57.811360\n"
    }
   ],
   "source": [
    "print('Quantidade de inscriçoes por Escolha Línguas por Ano.')\n",
    "print('')\n",
    "print(f'Consulta inciada -  {datetime.now()}')\n",
    "\n",
    "sqlContext.sql('SELECT NU_ANO AS ANO, LINGUA, COUNT(*) AS QTDE_INSCRICAO, ROUND((COUNT(*)/(SELECT COUNT(*)/100 FROM enemtb)),2) AS PERCENTUAL FROM enemtb GROUP BY NU_ANO, LINGUA ORDER BY NU_ANO, COUNT(*) DESC').show()\n",
    "\n",
    "print(f'Consulta realizada com sucesso -  {datetime.now()}')"
   ]
  },
  {
   "cell_type": "code",
   "execution_count": 254,
   "metadata": {
    "tags": []
   },
   "outputs": [
    {
     "output_type": "stream",
     "name": "stdout",
     "text": "Quantidade de inscriçoes por Status Redação.\n\nConsulta inciada -  2020-08-25 16:19:58.193166\n+-------------------------------+--------------+----------+\n|STATUS_REDACAO                 |QTDE_INSCRICAO|PERCENTUAL|\n+-------------------------------+--------------+----------+\n|Sem problemas                  |23474861      |69.63     |\n|                               |7366434       |21.85     |\n|Em Branco                      |2333045       |6.92      |\n|Fuga ao tema                   |373136        |1.11      |\n|Cópia Texto Motivador          |55760         |0.17      |\n|Texto insuficiente             |41654         |0.12      |\n|Parte desconectada             |32730         |0.1       |\n|Não atendimento ao tipo textual|20782         |0.06      |\n|Anulada                        |15750         |0.05      |\n+-------------------------------+--------------+----------+\n\nConsulta realizada com sucesso -  2020-08-25 16:22:36.276854\n"
    }
   ],
   "source": [
    "print('Quantidade de inscriçoes por Status Redação.')\n",
    "print('')\n",
    "print(f'Consulta inciada -  {datetime.now()}')\n",
    "\n",
    "sqlContext.sql('SELECT STATUS_REDACAO, COUNT(*) AS QTDE_INSCRICAO, ROUND((COUNT(*)/(SELECT COUNT(*)/100 FROM enemtb)),2) AS PERCENTUAL FROM enemtb GROUP BY STATUS_REDACAO ORDER BY COUNT(*) DESC').show(truncate = False)\n",
    "\n",
    "print(f'Consulta realizada com sucesso -  {datetime.now()}')"
   ]
  },
  {
   "cell_type": "code",
   "execution_count": 227,
   "metadata": {
    "tags": []
   },
   "outputs": [
    {
     "output_type": "stream",
     "name": "stdout",
     "text": "Quantidade de inscriçoes por Status Redação por Ano.\n\nConsulta inciada -  2020-08-25 14:18:34.939736\n+----+-------------------------------+--------------+----------+\n|ANO |STATUS_REDACAO                 |QTDE_INSCRICAO|PERCENTUAL|\n+----+-------------------------------+--------------+----------+\n|2015|Sem problemas                  |5548135       |16.46     |\n|2015|Em Branco                      |2145286       |6.36      |\n|2015|Fuga ao tema                   |20765         |0.06      |\n|2015|                               |11689         |0.03      |\n|2015|Não atendimento ao tipo textual|6644          |0.02      |\n|2015|Cópia Texto Motivador          |6092          |0.02      |\n|2015|Texto insuficiente             |3516          |0.01      |\n|2015|Anulada                        |2222          |0.01      |\n|2015|Parte desconectada             |2078          |0.01      |\n|2016|Sem problemas                  |5712543       |16.94     |\n|2016|                               |2787223       |8.27      |\n|2016|Em Branco                      |49348         |0.15      |\n|2016|Fuga ao tema                   |45717         |0.14      |\n|2016|Parte desconectada             |12898         |0.04      |\n|2016|Cópia Texto Motivador          |7844          |0.02      |\n|2016|Texto insuficiente             |6985          |0.02      |\n|2016|Não atendimento ao tipo textual|3386          |0.01      |\n|2016|Anulada                        |1423          |0.0       |\n|2017|Sem problemas                  |4398454       |13.05     |\n|2017|                               |2029913       |6.02      |\n|2017|Fuga ao tema                   |234317        |0.7       |\n|2017|Em Branco                      |35910         |0.11      |\n|2017|Texto insuficiente             |15266         |0.05      |\n|2017|Parte desconectada             |7874          |0.02      |\n|2017|Não atendimento ao tipo textual|4431          |0.01      |\n|2017|Cópia Texto Motivador          |3869          |0.01      |\n|2017|Anulada                        |1307          |0.0       |\n|2018|Sem problemas                  |4036274       |11.97     |\n|2018|                               |1365483       |4.05      |\n|2018|Em Branco                      |45600         |0.14      |\n|2018|Fuga ao tema                   |31714         |0.09      |\n|2018|Cópia Texto Motivador          |14690         |0.04      |\n|2018|Texto insuficiente             |7309          |0.02      |\n|2018|Anulada                        |5139          |0.02      |\n|2018|Parte desconectada             |5017          |0.01      |\n|2018|Não atendimento ao tipo textual|2521          |0.01      |\n|2019|Sem problemas                  |3779455       |11.21     |\n|2019|                               |1172126       |3.48      |\n|2019|Em Branco                      |56901         |0.17      |\n|2019|Fuga ao tema                   |40623         |0.12      |\n|2019|Cópia Texto Motivador          |23265         |0.07      |\n|2019|Texto insuficiente             |8578          |0.03      |\n|2019|Anulada                        |5659          |0.02      |\n|2019|Parte desconectada             |4863          |0.01      |\n|2019|Não atendimento ao tipo textual|3800          |0.01      |\n+----+-------------------------------+--------------+----------+\n\nConsulta realizada com sucesso -  2020-08-25 14:21:10.620668\n"
    }
   ],
   "source": [
    "print('Quantidade de inscriçoes por Status Redação por Ano.')\n",
    "print('')\n",
    "print(f'Consulta inciada -  {datetime.now()}')\n",
    "\n",
    "sqlContext.sql('SELECT NU_ANO AS ANO, STATUS_REDACAO, COUNT(*) AS QTDE_INSCRICAO, ROUND((COUNT(*)/(SELECT COUNT(*)/100 FROM enemtb)),2) AS PERCENTUAL FROM enemtb GROUP BY NU_ANO, STATUS_REDACAO ORDER BY NU_ANO, COUNT(*) DESC').show(100, truncate = False)\n",
    "\n",
    "print(f'Consulta realizada com sucesso -  {datetime.now()}')"
   ]
  },
  {
   "cell_type": "code",
   "execution_count": 252,
   "metadata": {
    "tags": []
   },
   "outputs": [
    {
     "output_type": "stream",
     "name": "stdout",
     "text": "Quantidade de inscriçoes por Pai Estudou?\n\nConsulta inciada -  2020-08-25 16:13:46.245694\n+---------------------------------------------------------------------------------------+--------------+----------+\n|PAI_ESTUDOU                                                                            |QTDE_INSCRICAO|PERCENTUAL|\n+---------------------------------------------------------------------------------------+--------------+----------+\n|Completou o Ensino Médio, mas não completou a Faculdade.                               |8116484       |24.07     |\n|Não completou a 4ª série/5º ano do Ensino Fundamental.                                 |7873004       |23.35     |\n|Completou a 4ª série/5º ano, mas não completou a 8ª série/9º ano do Ensino Fundamental.|5084983       |15.08     |\n|Completou a 8ª série/9º ano do Ensino Fundamental, mas não completou o Ensino Médio.   |4074944       |12.09     |\n|Não sei.                                                                               |3170233       |9.4       |\n|Completou a Faculdade, mas não completou a Pós-graduação.                              |2114497       |6.27      |\n|Nunca estudou.                                                                         |2076754       |6.16      |\n|Completou a Pós-graduação.                                                             |1202565       |3.57      |\n|                                                                                       |688           |0.0       |\n+---------------------------------------------------------------------------------------+--------------+----------+\n\nConsulta realizada com sucesso -  2020-08-25 16:16:19.240642\n"
    }
   ],
   "source": [
    "print('Quantidade de inscriçoes por Pai Estudou?')\n",
    "print('')\n",
    "print(f'Consulta inciada -  {datetime.now()}')\n",
    "\n",
    "sqlContext.sql('SELECT PAI_ESTUDOU, COUNT(*) AS QTDE_INSCRICAO, ROUND((COUNT(*)/(SELECT COUNT(*)/100 FROM enemtb)),2) AS PERCENTUAL FROM enemtb GROUP BY PAI_ESTUDOU ORDER BY COUNT(*) DESC').show(truncate = False)\n",
    "\n",
    "print(f'Consulta realizada com sucesso -  {datetime.now()}')"
   ]
  },
  {
   "cell_type": "code",
   "execution_count": 253,
   "metadata": {
    "tags": []
   },
   "outputs": [
    {
     "output_type": "stream",
     "name": "stdout",
     "text": "Quantidade de inscriçoes por Pai Estudou por Ano?\n\nConsulta inciada -  2020-08-25 16:16:19.365309\n+----+---------------------------------------------------------------------------------------+--------------+----------+\n|ANO |PAI_ESTUDOU                                                                            |QTDE_INSCRICAO|PERCENTUAL|\n+----+---------------------------------------------------------------------------------------+--------------+----------+\n|2015|Completou o Ensino Médio, mas não completou a Faculdade.                               |1819907       |5.4       |\n|2015|Não completou a 4ª série/5º ano do Ensino Fundamental.                                 |1793568       |5.32      |\n|2015|Completou a 4ª série/5º ano, mas não completou a 8ª série/9º ano do Ensino Fundamental.|1239346       |3.68      |\n|2015|Completou a 8ª série/9º ano do Ensino Fundamental, mas não completou o Ensino Médio.   |959339        |2.85      |\n|2015|Não sei.                                                                               |749041        |2.22      |\n|2015|Nunca estudou.                                                                         |482477        |1.43      |\n|2015|Completou a Faculdade, mas não completou a Pós-graduação.                              |453032        |1.34      |\n|2015|Completou a Pós-graduação.                                                             |249033        |0.74      |\n|2015|                                                                                       |684           |0.0       |\n|2016|Não completou a 4ª série/5º ano do Ensino Fundamental.                                 |2073816       |6.15      |\n|2016|Completou o Ensino Médio, mas não completou a Faculdade.                               |1999819       |5.93      |\n|2016|Completou a 4ª série/5º ano, mas não completou a 8ª série/9º ano do Ensino Fundamental.|1322346       |3.92      |\n|2016|Completou a 8ª série/9º ano do Ensino Fundamental, mas não completou o Ensino Médio.   |1073204       |3.18      |\n|2016|Não sei.                                                                               |842596        |2.5       |\n|2016|Nunca estudou.                                                                         |556850        |1.65      |\n|2016|Completou a Faculdade, mas não completou a Pós-graduação.                              |490025        |1.45      |\n|2016|Completou a Pós-graduação.                                                             |268707        |0.8       |\n|2016|                                                                                       |4             |0.0       |\n|2017|Completou o Ensino Médio, mas não completou a Faculdade.                               |1602891       |4.75      |\n|2017|Não completou a 4ª série/5º ano do Ensino Fundamental.                                 |1602749       |4.75      |\n|2017|Completou a 4ª série/5º ano, mas não completou a 8ª série/9º ano do Ensino Fundamental.|1005213       |2.98      |\n|2017|Completou a 8ª série/9º ano do Ensino Fundamental, mas não completou o Ensino Médio.   |814771        |2.42      |\n|2017|Não sei.                                                                               |641041        |1.9       |\n|2017|Nunca estudou.                                                                         |421769        |1.25      |\n|2017|Completou a Faculdade, mas não completou a Pós-graduação.                              |411872        |1.22      |\n|2017|Completou a Pós-graduação.                                                             |231035        |0.69      |\n|2018|Completou o Ensino Médio, mas não completou a Faculdade.                               |1384876       |4.11      |\n|2018|Não completou a 4ª série/5º ano do Ensino Fundamental.                                 |1267055       |3.76      |\n|2018|Completou a 4ª série/5º ano, mas não completou a 8ª série/9º ano do Ensino Fundamental.|794560        |2.36      |\n|2018|Completou a 8ª série/9º ano do Ensino Fundamental, mas não completou o Ensino Médio.   |641010        |1.9       |\n|2018|Não sei.                                                                               |492749        |1.46      |\n|2018|Completou a Faculdade, mas não completou a Pós-graduação.                              |383847        |1.14      |\n|2018|Nunca estudou.                                                                         |325043        |0.96      |\n|2018|Completou a Pós-graduação.                                                             |224607        |0.67      |\n|2019|Completou o Ensino Médio, mas não completou a Faculdade.                               |1308991       |3.88      |\n|2019|Não completou a 4ª série/5º ano do Ensino Fundamental.                                 |1135816       |3.37      |\n|2019|Completou a 4ª série/5º ano, mas não completou a 8ª série/9º ano do Ensino Fundamental.|723518        |2.15      |\n|2019|Completou a 8ª série/9º ano do Ensino Fundamental, mas não completou o Ensino Médio.   |586620        |1.74      |\n|2019|Não sei.                                                                               |444806        |1.32      |\n|2019|Completou a Faculdade, mas não completou a Pós-graduação.                              |375721        |1.11      |\n|2019|Nunca estudou.                                                                         |290615        |0.86      |\n|2019|Completou a Pós-graduação.                                                             |229183        |0.68      |\n+----+---------------------------------------------------------------------------------------+--------------+----------+\n\nConsulta realizada com sucesso -  2020-08-25 16:19:01.245097\n"
    }
   ],
   "source": [
    "print('Quantidade de inscriçoes por Pai Estudou por Ano?')\n",
    "print('')\n",
    "print(f'Consulta inciada -  {datetime.now()}')\n",
    "\n",
    "sqlContext.sql('SELECT NU_ANO AS ANO, PAI_ESTUDOU, COUNT(*) AS QTDE_INSCRICAO, ROUND((COUNT(*)/(SELECT COUNT(*)/100 FROM enemtb)),2) AS PERCENTUAL FROM enemtb GROUP BY NU_ANO, PAI_ESTUDOU ORDER BY NU_ANO, COUNT(*) DESC').show(100, truncate = False)\n",
    "\n",
    "print(f'Consulta realizada com sucesso -  {datetime.now()}')"
   ]
  },
  {
   "cell_type": "code",
   "execution_count": 250,
   "metadata": {
    "tags": []
   },
   "outputs": [
    {
     "output_type": "stream",
     "name": "stdout",
     "text": "Quantidade de inscriçoes por Mãe Estudou?\n\nConsulta inciada -  2020-08-25 16:06:56.764945\n+---------------------------------------------------------------------------------------+--------------+----------+\n|MAE_ESTUDOU                                                                            |QTDE_INSCRICAO|PERCENTUAL|\n+---------------------------------------------------------------------------------------+--------------+----------+\n|Completou o Ensino Médio, mas não completou a Faculdade.                               |10062314      |29.85     |\n|Não completou a 4ª série/5º ano do Ensino Fundamental.                                 |6238429       |18.5      |\n|Completou a 4ª série/5º ano, mas não completou a 8ª série/9º ano do Ensino Fundamental.|4993957       |14.81     |\n|Completou a 8ª série/9º ano do Ensino Fundamental, mas não completou o Ensino Médio.   |4668985       |13.85     |\n|Completou a Faculdade, mas não completou a Pós-graduação.                              |2854443       |8.47      |\n|Completou a Pós-graduação.                                                             |2107605       |6.25      |\n|Nunca estudou.                                                                         |1533813       |4.55      |\n|Não sei.                                                                               |1253916       |3.72      |\n|                                                                                       |690           |0.0       |\n+---------------------------------------------------------------------------------------+--------------+----------+\n\nConsulta realizada com sucesso -  2020-08-25 16:09:29.392806\n"
    }
   ],
   "source": [
    "print('Quantidade de inscriçoes por Mãe Estudou?')\n",
    "print('')\n",
    "print(f'Consulta inciada -  {datetime.now()}')\n",
    "\n",
    "sqlContext.sql('SELECT MAE_ESTUDOU, COUNT(*) AS QTDE_INSCRICAO, ROUND((COUNT(*)/(SELECT COUNT(*)/100 FROM enemtb)),2) AS PERCENTUAL FROM enemtb GROUP BY MAE_ESTUDOU ORDER BY COUNT(*) DESC').show(truncate = False)\n",
    "\n",
    "print(f'Consulta realizada com sucesso -  {datetime.now()}')"
   ]
  },
  {
   "cell_type": "code",
   "execution_count": 251,
   "metadata": {
    "tags": []
   },
   "outputs": [
    {
     "output_type": "stream",
     "name": "stdout",
     "text": "Quantidade de inscriçoes por Mãe Estudou por Ano?\n\nConsulta inciada -  2020-08-25 16:09:29.479575\n+----+---------------------------------------------------------------------------------------+--------------+----------+\n|ANO |MAE_ESTUDOU                                                                            |QTDE_INSCRICAO|PERCENTUAL|\n+----+---------------------------------------------------------------------------------------+--------------+----------+\n|2015|Completou o Ensino Médio, mas não completou a Faculdade.                               |2229080       |6.61      |\n|2015|Não completou a 4ª série/5º ano do Ensino Fundamental.                                 |1478339       |4.38      |\n|2015|Completou a 4ª série/5º ano, mas não completou a 8ª série/9º ano do Ensino Fundamental.|1216696       |3.61      |\n|2015|Completou a 8ª série/9º ano do Ensino Fundamental, mas não completou o Ensino Médio.   |1093654       |3.24      |\n|2015|Completou a Faculdade, mas não completou a Pós-graduação.                              |602518        |1.79      |\n|2015|Completou a Pós-graduação.                                                             |438649        |1.3       |\n|2015|Nunca estudou.                                                                         |374691        |1.11      |\n|2015|Não sei.                                                                               |312114        |0.93      |\n|2015|                                                                                       |686           |0.0       |\n|2016|Completou o Ensino Médio, mas não completou a Faculdade.                               |2479133       |7.35      |\n|2016|Não completou a 4ª série/5º ano do Ensino Fundamental.                                 |1670367       |4.95      |\n|2016|Completou a 4ª série/5º ano, mas não completou a 8ª série/9º ano do Ensino Fundamental.|1320805       |3.92      |\n|2016|Completou a 8ª série/9º ano do Ensino Fundamental, mas não completou o Ensino Médio.   |1232518       |3.66      |\n|2016|Completou a Faculdade, mas não completou a Pós-graduação.                              |658229        |1.95      |\n|2016|Completou a Pós-graduação.                                                             |469503        |1.39      |\n|2016|Nunca estudou.                                                                         |424016        |1.26      |\n|2016|Não sei.                                                                               |372792        |1.11      |\n|2016|                                                                                       |4             |0.0       |\n|2017|Completou o Ensino Médio, mas não completou a Faculdade.                               |1998637       |5.93      |\n|2017|Não completou a 4ª série/5º ano do Ensino Fundamental.                                 |1264310       |3.75      |\n|2017|Completou a 4ª série/5º ano, mas não completou a 8ª série/9º ano do Ensino Fundamental.|996896        |2.96      |\n|2017|Completou a 8ª série/9º ano do Ensino Fundamental, mas não completou o Ensino Médio.   |940217        |2.79      |\n|2017|Completou a Faculdade, mas não completou a Pós-graduação.                              |559119        |1.66      |\n|2017|Completou a Pós-graduação.                                                             |409002        |1.21      |\n|2017|Nunca estudou.                                                                         |312354        |0.93      |\n|2017|Não sei.                                                                               |250806        |0.74      |\n|2018|Completou o Ensino Médio, mas não completou a Faculdade.                               |1721772       |5.11      |\n|2018|Não completou a 4ª série/5º ano do Ensino Fundamental.                                 |970587        |2.88      |\n|2018|Completou a 4ª série/5º ano, mas não completou a 8ª série/9º ano do Ensino Fundamental.|773362        |2.29      |\n|2018|Completou a 8ª série/9º ano do Ensino Fundamental, mas não completou o Ensino Médio.   |735181        |2.18      |\n|2018|Completou a Faculdade, mas não completou a Pós-graduação.                              |520866        |1.54      |\n|2018|Completou a Pós-graduação.                                                             |390981        |1.16      |\n|2018|Nunca estudou.                                                                         |228127        |0.68      |\n|2018|Não sei.                                                                               |172871        |0.51      |\n|2019|Completou o Ensino Médio, mas não completou a Faculdade.                               |1633692       |4.85      |\n|2019|Não completou a 4ª série/5º ano do Ensino Fundamental.                                 |854826        |2.54      |\n|2019|Completou a 4ª série/5º ano, mas não completou a 8ª série/9º ano do Ensino Fundamental.|686198        |2.04      |\n|2019|Completou a 8ª série/9º ano do Ensino Fundamental, mas não completou o Ensino Médio.   |667415        |1.98      |\n|2019|Completou a Faculdade, mas não completou a Pós-graduação.                              |513711        |1.52      |\n|2019|Completou a Pós-graduação.                                                             |399470        |1.18      |\n|2019|Nunca estudou.                                                                         |194625        |0.58      |\n|2019|Não sei.                                                                               |145333        |0.43      |\n+----+---------------------------------------------------------------------------------------+--------------+----------+\n\nConsulta realizada com sucesso -  2020-08-25 16:12:14.659919\n"
    }
   ],
   "source": [
    "print('Quantidade de inscriçoes por Mãe Estudou por Ano?')\n",
    "print('')\n",
    "print(f'Consulta inciada -  {datetime.now()}')\n",
    "\n",
    "sqlContext.sql('SELECT NU_ANO AS ANO, MAE_ESTUDOU, COUNT(*) AS QTDE_INSCRICAO, ROUND((COUNT(*)/(SELECT COUNT(*)/100 FROM enemtb)),2) AS PERCENTUAL FROM enemtb GROUP BY NU_ANO, MAE_ESTUDOU ORDER BY NU_ANO, COUNT(*) DESC').show(50, truncate = False)\n",
    "\n",
    "print(f'Consulta realizada com sucesso -  {datetime.now()}')"
   ]
  },
  {
   "cell_type": "code",
   "execution_count": 261,
   "metadata": {
    "tags": []
   },
   "outputs": [
    {
     "output_type": "stream",
     "name": "stdout",
     "text": "Quantidade de inscriçoes por Quantidade de Pessoas na Residência.\n\nConsulta inciada -  2020-08-25 17:01:40.319148\n+------------------------+--------------+----------+\n|QTDE_MORADOR_RESIDENCIA |QTDE_INSCRICAO|PERCENTUAL|\n+------------------------+--------------+----------+\n|4                       |10520748      |31.21     |\n|3                       |8272709       |24.54     |\n|5                       |5752725       |17.06     |\n|2                       |4125748       |12.24     |\n|6                       |2275631       |6.75      |\n|7                       |968899        |2.87      |\n|1, pois moro sozinho(a).|949920        |2.82      |\n|8                       |443489        |1.32      |\n|9                       |178596        |0.53      |\n|10                      |117303        |0.35      |\n|11                      |39419         |0.12      |\n|12                      |27269         |0.08      |\n|13                      |12265         |0.04      |\n|14                      |6865          |0.02      |\n|20                      |6265          |0.02      |\n|15                      |6103          |0.02      |\n|16                      |2996          |0.01      |\n|18                      |2261          |0.01      |\n|17                      |2200          |0.01      |\n|19                      |2042          |0.01      |\n|                        |699           |0.0       |\n+------------------------+--------------+----------+\n\nConsulta realizada com sucesso -  2020-08-25 17:04:17.632884\n"
    }
   ],
   "source": [
    "print('Quantidade de inscriçoes por Quantidade de Pessoas na Residência.')\n",
    "print('')\n",
    "print(f'Consulta inciada -  {datetime.now()}')\n",
    "\n",
    "sqlContext.sql('SELECT QTDE_MORADOR_RESIDENCIA, COUNT(*) AS QTDE_INSCRICAO, ROUND((COUNT(*)/(SELECT COUNT(*)/100 FROM enemtb)),2) AS PERCENTUAL FROM enemtb GROUP BY QTDE_MORADOR_RESIDENCIA ORDER BY COUNT(*) DESC').show(30, truncate = False)\n",
    "\n",
    "print(f'Consulta realizada com sucesso -  {datetime.now()}')"
   ]
  },
  {
   "cell_type": "code",
   "execution_count": 248,
   "metadata": {
    "tags": []
   },
   "outputs": [
    {
     "output_type": "stream",
     "name": "stdout",
     "text": "Quantidade de inscriçoes por Quantidade de Pessoas na Residência por Ano.\n\nConsulta inciada -  2020-08-25 16:00:07.616657\n+----+------------------------+--------------+----------+\n|ANO |QTDE_MORADOR_RESIDENCIA |QTDE_INSCRICAO|PERCENTUAL|\n+----+------------------------+--------------+----------+\n|2015|4                       |2411757       |7.15      |\n|2015|3                       |1851776       |5.49      |\n|2015|5                       |1373932       |4.08      |\n|2015|2                       |884977        |2.62      |\n|2015|6                       |555156        |1.65      |\n|2015|7                       |236760        |0.7       |\n|2015|1, pois moro sozinho(a).|219393        |0.65      |\n|2015|8                       |110982        |0.33      |\n|2015|9                       |45195         |0.13      |\n|2015|10                      |29468         |0.09      |\n|2015|11                      |9979          |0.03      |\n|2015|12                      |7015          |0.02      |\n|2015|13                      |2872          |0.01      |\n|2015|14                      |1692          |0.01      |\n|2015|15                      |1511          |0.0       |\n|2015|20                      |1449          |0.0       |\n|2015|                        |694           |0.0       |\n|2015|16                      |633           |0.0       |\n|2015|18                      |429           |0.0       |\n|2015|17                      |407           |0.0       |\n|2015|19                      |350           |0.0       |\n|2016|4                       |2644331       |7.84      |\n|2016|3                       |2078789       |6.17      |\n|2016|5                       |1493785       |4.43      |\n|2016|2                       |1057283       |3.14      |\n|2016|6                       |610457        |1.81      |\n|2016|7                       |260874        |0.77      |\n|2016|1, pois moro sozinho(a).|242562        |0.72      |\n|2016|8                       |122524        |0.36      |\n|2016|9                       |51012         |0.15      |\n|2016|10                      |33193         |0.1       |\n|2016|11                      |11401         |0.03      |\n|2016|12                      |8021          |0.02      |\n|2016|13                      |3558          |0.01      |\n|2016|14                      |2144          |0.01      |\n|2016|20                      |2058          |0.01      |\n|2016|15                      |1948          |0.01      |\n|2016|16                      |953           |0.0       |\n|2016|19                      |845           |0.0       |\n|2016|18                      |841           |0.0       |\n|2016|17                      |784           |0.0       |\n|2016|                        |4             |0.0       |\n|2017|4                       |2067312       |6.13      |\n|2017|3                       |1658148       |4.92      |\n|2017|5                       |1137713       |3.37      |\n|2017|2                       |847386        |2.51      |\n|2017|6                       |459550        |1.36      |\n|2017|7                       |193680        |0.57      |\n|2017|1, pois moro sozinho(a).|192962        |0.57      |\n|2017|8                       |90927         |0.27      |\n|2017|9                       |37097         |0.11      |\n|2017|10                      |23815         |0.07      |\n|2017|11                      |8018          |0.02      |\n|2017|12                      |5884          |0.02      |\n|2017|13                      |2517          |0.01      |\n|2017|14                      |1380          |0.0       |\n|2017|20                      |1374          |0.0       |\n|2017|15                      |1286          |0.0       |\n|2017|16                      |663           |0.0       |\n|2017|18                      |596           |0.0       |\n|2017|17                      |544           |0.0       |\n|2017|19                      |488           |0.0       |\n|2017|                        |1             |0.0       |\n|2018|4                       |1757900       |5.21      |\n|2018|3                       |1384158       |4.11      |\n|2018|5                       |916903        |2.72      |\n|2018|2                       |690545        |2.05      |\n|2018|6                       |343627        |1.02      |\n|2018|1, pois moro sozinho(a).|152989        |0.45      |\n|2018|7                       |148705        |0.44      |\n|2018|8                       |63510         |0.19      |\n|2018|9                       |24372         |0.07      |\n|2018|10                      |16635         |0.05      |\n|2018|11                      |5552          |0.02      |\n|2018|12                      |3433          |0.01      |\n|2018|13                      |1806          |0.01      |\n|2018|14                      |900           |0.0       |\n|2018|20                      |812           |0.0       |\n|2018|15                      |739           |0.0       |\n|2018|16                      |416           |0.0       |\n|2018|17                      |282           |0.0       |\n|2018|18                      |236           |0.0       |\n|2018|19                      |227           |0.0       |\n|2019|4                       |1639448       |4.86      |\n|2019|3                       |1299838       |3.86      |\n|2019|5                       |830392        |2.46      |\n|2019|2                       |645557        |1.91      |\n|2019|6                       |306841        |0.91      |\n|2019|1, pois moro sozinho(a).|142014        |0.42      |\n|2019|7                       |128880        |0.38      |\n|2019|8                       |55546         |0.16      |\n|2019|9                       |20920         |0.06      |\n|2019|10                      |14192         |0.04      |\n|2019|11                      |4469          |0.01      |\n|2019|12                      |2916          |0.01      |\n|2019|13                      |1512          |0.0       |\n|2019|14                      |749           |0.0       |\n|2019|15                      |619           |0.0       |\n|2019|20                      |572           |0.0       |\n|2019|16                      |331           |0.0       |\n|2019|17                      |183           |0.0       |\n|2019|18                      |159           |0.0       |\n|2019|19                      |132           |0.0       |\n+----+------------------------+--------------+----------+\n\nConsulta realizada com sucesso -  2020-08-25 16:02:39.411413\n"
    }
   ],
   "source": [
    "print('Quantidade de inscriçoes por Quantidade de Pessoas na Residência por Ano.')\n",
    "print('')\n",
    "print(f'Consulta inciada -  {datetime.now()}')\n",
    "\n",
    "sqlContext.sql('SELECT NU_ANO AS ANO, QTDE_MORADOR_RESIDENCIA, COUNT(*) AS QTDE_INSCRICAO, ROUND((COUNT(*)/(SELECT COUNT(*)/100 FROM enemtb)),2) AS PERCENTUAL FROM enemtb GROUP BY NU_ANO, QTDE_MORADOR_RESIDENCIA ORDER BY NU_ANO, COUNT(*) DESC').show(110, truncate = False)\n",
    "\n",
    "print(f'Consulta realizada com sucesso -  {datetime.now()}')"
   ]
  },
  {
   "cell_type": "code",
   "execution_count": 246,
   "metadata": {
    "tags": []
   },
   "outputs": [
    {
     "output_type": "stream",
     "name": "stdout",
     "text": "Quantidade de inscriçoes por Renda Mensal Familiar.\n\nConsulta inciada -  2020-08-25 15:47:14.269556\n+---------------------------------------------------------+--------------+----------+\n|RENDA_MENSAL_FAMILIAR                                    |QTDE_INSCRICAO|PERCENTUAL|\n+---------------------------------------------------------+--------------+----------+\n|Acima de 1,0 salário mínimo até 1,5.                     |8676283       |25.73     |\n|Até 1,0 salário mínimo.                                  |8562846       |25.4      |\n|Acima de 1,5 salário mínimo até 2,0 salários mínimos.    |3886465       |11.53     |\n|Acima de 2,0 salários mínimos até 2,5 salários mínimos.  |2926930       |8.68      |\n|Acima de 3,0 salários mínimos até 4,0 salários mínimos.  |1968376       |5.84      |\n|Acima de 2,5 salários mínimos até 3,0 salários mínimos.  |1846761       |5.48      |\n|Nenhuma Renda.                                           |1241992       |3.68      |\n|Acima de 4,0 salários mínimos até 5,0 salários mínimos.  |1199179       |3.56      |\n|Acima de 5,0 salários mínimos até 6,0 salários mínimos.  |866593        |2.57      |\n|Acima de 6,0 salários mínimos até 7,0 salários mínimos.  |564727        |1.68      |\n|Acima de 7,0 salários mínimos até 8,0 salários mínimos.  |361117        |1.07      |\n|Acima de 10,0 salários mínimos até 12,0 salários mínimos.|333550        |0.99      |\n|Acima de 20 salários mínimos.                            |315608        |0.94      |\n|Acima de 12,0 salários mínimos até 15,0 salários mínimos.|266142        |0.79      |\n|Acima de 8,0 salários mínimos até 9,0 salários mínimos.  |247428        |0.73      |\n|Acima de 15,0 salários mínimos até 20,0 salários mínimos.|230354        |0.68      |\n|Acima de 9,0 salários mínimos até 10,0 salários mínimos. |219101        |0.65      |\n|                                                         |700           |0.0       |\n+---------------------------------------------------------+--------------+----------+\n\nConsulta realizada com sucesso -  2020-08-25 15:49:52.578412\n"
    }
   ],
   "source": [
    "print('Quantidade de inscriçoes por Renda Mensal Familiar.')\n",
    "print('')\n",
    "print(f'Consulta inciada -  {datetime.now()}')\n",
    "\n",
    "sqlContext.sql('SELECT RENDA_MENSAL_FAMILIAR, COUNT(*) AS QTDE_INSCRICAO, ROUND((COUNT(*)/(SELECT COUNT(*)/100 FROM enemtb)),2) AS PERCENTUAL FROM enemtb GROUP BY RENDA_MENSAL_FAMILIAR ORDER BY COUNT(*) DESC').show(truncate = False)\n",
    "\n",
    "print(f'Consulta realizada com sucesso -  {datetime.now()}')"
   ]
  },
  {
   "cell_type": "code",
   "execution_count": 247,
   "metadata": {
    "tags": []
   },
   "outputs": [
    {
     "output_type": "stream",
     "name": "stdout",
     "text": "Quantidade de inscriçoes por Renda Mensal Familiar por Ano.\n\nConsulta inciada -  2020-08-25 15:56:01.669349\n+----+---------------------------------------------------------+--------------+----------+\n|ANO |RENDA_MENSAL_FAMILIAR                                    |QTDE_INSCRICAO|PERCENTUAL|\n+----+---------------------------------------------------------+--------------+----------+\n|2015|Acima de 1,0 salário mínimo até 1,5.                     |1987406       |5.89      |\n|2015|Até 1,0 salário mínimo.                                  |1840505       |5.46      |\n|2015|Acima de 1,5 salário mínimo até 2,0 salários mínimos.    |983760        |2.92      |\n|2015|Acima de 2,0 salários mínimos até 2,5 salários mínimos.  |646658        |1.92      |\n|2015|Acima de 2,5 salários mínimos até 3,0 salários mínimos.  |575665        |1.71      |\n|2015|Acima de 3,0 salários mínimos até 4,0 salários mínimos.  |457968        |1.36      |\n|2015|Acima de 4,0 salários mínimos até 5,0 salários mínimos.  |250581        |0.74      |\n|2015|Nenhuma Renda.                                           |188949        |0.56      |\n|2015|Acima de 5,0 salários mínimos até 6,0 salários mínimos.  |182627        |0.54      |\n|2015|Acima de 6,0 salários mínimos até 7,0 salários mínimos.  |154483        |0.46      |\n|2015|Acima de 7,0 salários mínimos até 8,0 salários mínimos.  |106358        |0.32      |\n|2015|Acima de 20 salários mínimos.                            |77363         |0.23      |\n|2015|Acima de 10,0 salários mínimos até 12,0 salários mínimos.|68019         |0.2       |\n|2015|Acima de 12,0 salários mínimos até 15,0 salários mínimos.|63896         |0.19      |\n|2015|Acima de 8,0 salários mínimos até 9,0 salários mínimos.  |61931         |0.18      |\n|2015|Acima de 15,0 salários mínimos até 20,0 salários mínimos.|57927         |0.17      |\n|2015|Acima de 9,0 salários mínimos até 10,0 salários mínimos. |41636         |0.12      |\n|2015|                                                         |695           |0.0       |\n|2016|Acima de 1,0 salário mínimo até 1,5.                     |2261102       |6.71      |\n|2016|Até 1,0 salário mínimo.                                  |2219242       |6.58      |\n|2016|Acima de 1,5 salário mínimo até 2,0 salários mínimos.    |1123739       |3.33      |\n|2016|Acima de 2,0 salários mínimos até 2,5 salários mínimos.  |754250        |2.24      |\n|2016|Acima de 3,0 salários mínimos até 4,0 salários mínimos.  |478168        |1.42      |\n|2016|Acima de 2,5 salários mínimos até 3,0 salários mínimos.  |473244        |1.4       |\n|2016|Acima de 4,0 salários mínimos até 5,0 salários mínimos.  |299045        |0.89      |\n|2016|Nenhuma Renda.                                           |295706        |0.88      |\n|2016|Acima de 5,0 salários mínimos até 6,0 salários mínimos.  |197197        |0.58      |\n|2016|Acima de 6,0 salários mínimos até 7,0 salários mínimos.  |124629        |0.37      |\n|2016|Acima de 10,0 salários mínimos até 12,0 salários mínimos.|75569         |0.22      |\n|2016|Acima de 7,0 salários mínimos até 8,0 salários mínimos.  |68567         |0.2       |\n|2016|Acima de 20 salários mínimos.                            |65517         |0.19      |\n|2016|Acima de 12,0 salários mínimos até 15,0 salários mínimos.|59868         |0.18      |\n|2016|Acima de 15,0 salários mínimos até 20,0 salários mínimos.|47380         |0.14      |\n|2016|Acima de 9,0 salários mínimos até 10,0 salários mínimos. |45248         |0.13      |\n|2016|Acima de 8,0 salários mínimos até 9,0 salários mínimos.  |38892         |0.12      |\n|2016|                                                         |4             |0.0       |\n|2017|Até 1,0 salário mínimo.                                  |1910039       |5.67      |\n|2017|Acima de 1,0 salário mínimo até 1,5.                     |1652220       |4.9       |\n|2017|Acima de 1,5 salário mínimo até 2,0 salários mínimos.    |752475        |2.23      |\n|2017|Acima de 2,0 salários mínimos até 2,5 salários mínimos.  |540616        |1.6       |\n|2017|Acima de 3,0 salários mínimos até 4,0 salários mínimos.  |365718        |1.08      |\n|2017|Acima de 2,5 salários mínimos até 3,0 salários mínimos.  |335387        |0.99      |\n|2017|Nenhuma Renda.                                           |289515        |0.86      |\n|2017|Acima de 4,0 salários mínimos até 5,0 salários mínimos.  |243209        |0.72      |\n|2017|Acima de 5,0 salários mínimos até 6,0 salários mínimos.  |170869        |0.51      |\n|2017|Acima de 6,0 salários mínimos até 7,0 salários mínimos.  |104098        |0.31      |\n|2017|Acima de 7,0 salários mínimos até 8,0 salários mínimos.  |64336         |0.19      |\n|2017|Acima de 10,0 salários mínimos até 12,0 salários mínimos.|63457         |0.19      |\n|2017|Acima de 20 salários mínimos.                            |59816         |0.18      |\n|2017|Acima de 8,0 salários mínimos até 9,0 salários mínimos.  |51540         |0.15      |\n|2017|Acima de 12,0 salários mínimos até 15,0 salários mínimos.|45196         |0.13      |\n|2017|Acima de 9,0 salários mínimos até 10,0 salários mínimos. |43926         |0.13      |\n|2017|Acima de 15,0 salários mínimos até 20,0 salários mínimos.|38923         |0.12      |\n|2017|                                                         |1             |0.0       |\n|2018|Acima de 1,0 salário mínimo até 1,5.                     |1464090       |4.34      |\n|2018|Até 1,0 salário mínimo.                                  |1319810       |3.91      |\n|2018|Acima de 1,5 salário mínimo até 2,0 salários mínimos.    |526875        |1.56      |\n|2018|Acima de 2,0 salários mínimos até 2,5 salários mínimos.  |509838        |1.51      |\n|2018|Acima de 3,0 salários mínimos até 4,0 salários mínimos.  |364600        |1.08      |\n|2018|Acima de 2,5 salários mínimos até 3,0 salários mínimos.  |236214        |0.7       |\n|2018|Nenhuma Renda.                                           |235747        |0.7       |\n|2018|Acima de 4,0 salários mínimos até 5,0 salários mínimos.  |213432        |0.63      |\n|2018|Acima de 5,0 salários mínimos até 6,0 salários mínimos.  |172248        |0.51      |\n|2018|Acima de 6,0 salários mínimos até 7,0 salários mínimos.  |100728        |0.3       |\n|2018|Acima de 10,0 salários mínimos até 12,0 salários mínimos.|64856         |0.19      |\n|2018|Acima de 7,0 salários mínimos até 8,0 salários mínimos.  |63830         |0.19      |\n|2018|Acima de 20 salários mínimos.                            |55763         |0.17      |\n|2018|Acima de 8,0 salários mínimos até 9,0 salários mínimos.  |50876         |0.15      |\n|2018|Acima de 12,0 salários mínimos até 15,0 salários mínimos.|46979         |0.14      |\n|2018|Acima de 9,0 salários mínimos até 10,0 salários mínimos. |44991         |0.13      |\n|2018|Acima de 15,0 salários mínimos até 20,0 salários mínimos.|42870         |0.13      |\n|2019|Acima de 1,0 salário mínimo até 1,5.                     |1311465       |3.89      |\n|2019|Até 1,0 salário mínimo.                                  |1273250       |3.78      |\n|2019|Acima de 1,5 salário mínimo até 2,0 salários mínimos.    |499616        |1.48      |\n|2019|Acima de 2,0 salários mínimos até 2,5 salários mínimos.  |475568        |1.41      |\n|2019|Acima de 3,0 salários mínimos até 4,0 salários mínimos.  |301922        |0.9       |\n|2019|Nenhuma Renda.                                           |232075        |0.69      |\n|2019|Acima de 2,5 salários mínimos até 3,0 salários mínimos.  |226251        |0.67      |\n|2019|Acima de 4,0 salários mínimos até 5,0 salários mínimos.  |192912        |0.57      |\n|2019|Acima de 5,0 salários mínimos até 6,0 salários mínimos.  |143652        |0.43      |\n|2019|Acima de 6,0 salários mínimos até 7,0 salários mínimos.  |80789         |0.24      |\n|2019|Acima de 10,0 salários mínimos até 12,0 salários mínimos.|61649         |0.18      |\n|2019|Acima de 7,0 salários mínimos até 8,0 salários mínimos.  |58026         |0.17      |\n|2019|Acima de 20 salários mínimos.                            |57149         |0.17      |\n|2019|Acima de 12,0 salários mínimos até 15,0 salários mínimos.|50203         |0.15      |\n|2019|Acima de 8,0 salários mínimos até 9,0 salários mínimos.  |44189         |0.13      |\n|2019|Acima de 9,0 salários mínimos até 10,0 salários mínimos. |43300         |0.13      |\n|2019|Acima de 15,0 salários mínimos até 20,0 salários mínimos.|43254         |0.13      |\n+----+---------------------------------------------------------+--------------+----------+\n\nConsulta realizada com sucesso -  2020-08-25 15:58:29.314138\n"
    }
   ],
   "source": [
    "print('Quantidade de inscriçoes por Renda Mensal Familiar por Ano.')\n",
    "print('')\n",
    "print(f'Consulta inciada -  {datetime.now()}')\n",
    "\n",
    "sqlContext.sql('SELECT NU_ANO AS ANO, RENDA_MENSAL_FAMILIAR, COUNT(*) AS QTDE_INSCRICAO, ROUND((COUNT(*)/(SELECT COUNT(*)/100 FROM enemtb)),2) AS PERCENTUAL FROM enemtb GROUP BY NU_ANO, RENDA_MENSAL_FAMILIAR ORDER BY NU_ANO, COUNT(*) DESC').show(100, truncate=False)\n",
    "\n",
    "print(f'Consulta realizada com sucesso -  {datetime.now()}')"
   ]
  },
  {
   "cell_type": "code",
   "execution_count": 236,
   "metadata": {
    "tags": []
   },
   "outputs": [
    {
     "output_type": "stream",
     "name": "stdout",
     "text": "Quantidade de inscriçoes por Residência com Celular.\n\nConsulta inciada -  2020-08-25 14:42:26.555492\n+--------------------+--------------+----------+\n|  RESIDENCIA_CELULAR|QTDE_INSCRICAO|PERCENTUAL|\n+--------------------+--------------+----------+\n|          Sim, dois.|      10926685|     32.41|\n|          Sim, três.|       8486907|     25.17|\n|            Sim, um.|       7810792|     23.17|\n|Sim, quatro ou mais.|       5759039|     17.08|\n|                Não.|        729975|      2.17|\n|                    |           754|       0.0|\n+--------------------+--------------+----------+\n\nConsulta realizada com sucesso -  2020-08-25 14:45:25.367251\n"
    }
   ],
   "source": [
    "print('Quantidade de inscriçoes por Residência com Celular.')\n",
    "print('')\n",
    "print(f'Consulta inciada -  {datetime.now()}')\n",
    "\n",
    "sqlContext.sql('SELECT RESIDENCIA_CELULAR, COUNT(*) AS QTDE_INSCRICAO, ROUND((COUNT(*)/(SELECT COUNT(*)/100 FROM enemtb)),2) AS PERCENTUAL FROM enemtb GROUP BY RESIDENCIA_CELULAR ORDER BY COUNT(*) DESC').show()\n",
    "\n",
    "print(f'Consulta realizada com sucesso -  {datetime.now()}')"
   ]
  },
  {
   "cell_type": "code",
   "execution_count": 243,
   "metadata": {
    "tags": []
   },
   "outputs": [
    {
     "output_type": "stream",
     "name": "stdout",
     "text": "Quantidade de inscriçoes por Residência com Celular por Ano.\n\nConsulta inciada -  2020-08-25 15:21:54.903585\n+----+--------------------+--------------+----------+\n| ANO|  RESIDENCIA_CELULAR|QTDE_INSCRICAO|PERCENTUAL|\n+----+--------------------+--------------+----------+\n|2015|          Sim, dois.|       2559154|      7.59|\n|2015|          Sim, três.|       1914053|      5.68|\n|2015|            Sim, um.|       1736663|      5.15|\n|2015|Sim, quatro ou mais.|       1373850|      4.07|\n|2015|                Não.|        161958|      0.48|\n|2015|                    |           749|       0.0|\n|2016|          Sim, dois.|       2827184|      8.39|\n|2016|            Sim, um.|       2124543|       6.3|\n|2016|          Sim, três.|       2092330|      6.21|\n|2016|Sim, quatro ou mais.|       1391513|      4.13|\n|2016|                Não.|        191793|      0.57|\n|2016|                    |             4|       0.0|\n|2017|          Sim, dois.|       2191336|       6.5|\n|2017|          Sim, três.|       1656598|      4.91|\n|2017|            Sim, um.|       1628468|      4.83|\n|2017|Sim, quatro ou mais.|       1101285|      3.27|\n|2017|                Não.|        153653|      0.46|\n|2017|                    |             1|       0.0|\n|2018|          Sim, dois.|       1753982|       5.2|\n|2018|          Sim, três.|       1437670|      4.26|\n|2018|            Sim, um.|       1235701|      3.67|\n|2018|Sim, quatro ou mais.|        973162|      2.89|\n|2018|                Não.|        113232|      0.34|\n|2019|          Sim, dois.|       1595029|      4.73|\n|2019|          Sim, três.|       1386256|      4.11|\n|2019|            Sim, um.|       1085417|      3.22|\n|2019|Sim, quatro ou mais.|        919229|      2.73|\n|2019|                Não.|        109339|      0.32|\n+----+--------------------+--------------+----------+\n\nConsulta realizada com sucesso -  2020-08-25 15:24:28.637046\n"
    }
   ],
   "source": [
    "print('Quantidade de inscriçoes por Residência com Celular por Ano.')\n",
    "print('')\n",
    "print(f'Consulta inciada -  {datetime.now()}')\n",
    "\n",
    "sqlContext.sql('SELECT NU_ANO AS ANO, RESIDENCIA_CELULAR, COUNT(*) AS QTDE_INSCRICAO, ROUND((COUNT(*)/(SELECT COUNT(*)/100 FROM enemtb)),2) AS PERCENTUAL FROM enemtb GROUP BY NU_ANO, RESIDENCIA_CELULAR ORDER BY NU_ANO, COUNT(*) DESC').show(30)\n",
    "\n",
    "print(f'Consulta realizada com sucesso -  {datetime.now()}')"
   ]
  },
  {
   "cell_type": "code",
   "execution_count": 238,
   "metadata": {
    "tags": []
   },
   "outputs": [
    {
     "output_type": "stream",
     "name": "stdout",
     "text": "Quantidade de inscriçoes por Residência com Computador.\n\nConsulta inciada -  2020-08-25 14:48:18.667429\n+---------------------+--------------+----------+\n|RESIDENCIA_COMPUTADOR|QTDE_INSCRICAO|PERCENTUAL|\n+---------------------+--------------+----------+\n|             Sim, um.|      16698903|     49.53|\n|                 Não.|      13316634|      39.5|\n|           Sim, dois.|       2617783|      7.76|\n|           Sim, três.|        755001|      2.24|\n| Sim, quatro ou mais.|        325069|      0.96|\n|                     |           762|       0.0|\n+---------------------+--------------+----------+\n\nConsulta realizada com sucesso -  2020-08-25 14:51:04.056085\n"
    }
   ],
   "source": [
    "print('Quantidade de inscriçoes por Residência com Computador.')\n",
    "print('')\n",
    "print(f'Consulta inciada -  {datetime.now()}')\n",
    "\n",
    "sqlContext.sql('SELECT RESIDENCIA_COMPUTADOR, COUNT(*) AS QTDE_INSCRICAO, ROUND((COUNT(*)/(SELECT COUNT(*)/100 FROM enemtb)),2) AS PERCENTUAL FROM enemtb GROUP BY RESIDENCIA_COMPUTADOR ORDER BY COUNT(*) DESC').show()\n",
    "\n",
    "print(f'Consulta realizada com sucesso -  {datetime.now()}')"
   ]
  },
  {
   "cell_type": "code",
   "execution_count": 242,
   "metadata": {
    "tags": []
   },
   "outputs": [
    {
     "output_type": "stream",
     "name": "stdout",
     "text": "Quantidade de inscriçoes por Residência com Computador por Ano.\n\nConsulta inciada -  2020-08-25 15:16:50.453272\n+----+---------------------+--------------+----------+\n| ANO|RESIDENCIA_COMPUTADOR|QTDE_INSCRICAO|PERCENTUAL|\n+----+---------------------+--------------+----------+\n|2015|             Sim, um.|       4238477|     12.57|\n|2015|                 Não.|       2573603|      7.63|\n|2015|           Sim, dois.|        654291|      1.94|\n|2015|           Sim, três.|        192132|      0.57|\n|2015| Sim, quatro ou mais.|         87167|      0.26|\n|2015|                     |           757|       0.0|\n|2016|             Sim, um.|       4421205|     13.11|\n|2016|                 Não.|       3302709|       9.8|\n|2016|           Sim, dois.|        645732|      1.92|\n|2016|           Sim, três.|        180479|      0.54|\n|2016| Sim, quatro ou mais.|         77238|      0.23|\n|2016|                     |             4|       0.0|\n|2017|             Sim, um.|       3268129|      9.69|\n|2017|                 Não.|       2759216|      8.18|\n|2017|           Sim, dois.|        501431|      1.49|\n|2017|           Sim, três.|        142475|      0.42|\n|2017| Sim, quatro ou mais.|         60089|      0.18|\n|2017|                     |             1|       0.0|\n|2018|             Sim, um.|       2568108|      7.62|\n|2018|                 Não.|       2335639|      6.93|\n|2018|           Sim, dois.|        431722|      1.28|\n|2018|           Sim, três.|        125260|      0.37|\n|2018| Sim, quatro ou mais.|         53018|      0.16|\n|2019|                 Não.|       2345467|      6.96|\n|2019|             Sim, um.|       2202984|      6.53|\n|2019|           Sim, dois.|        384607|      1.14|\n|2019|           Sim, três.|        114655|      0.34|\n|2019| Sim, quatro ou mais.|         47557|      0.14|\n+----+---------------------+--------------+----------+\n\nConsulta realizada com sucesso -  2020-08-25 15:19:22.130849\n"
    }
   ],
   "source": [
    "print('Quantidade de inscriçoes por Residência com Computador por Ano.')\n",
    "print('')\n",
    "print(f'Consulta inciada -  {datetime.now()}')\n",
    "\n",
    "sqlContext.sql('SELECT NU_ANO AS ANO, RESIDENCIA_COMPUTADOR, COUNT(*) AS QTDE_INSCRICAO, ROUND((COUNT(*)/(SELECT COUNT(*)/100 FROM enemtb)),2) AS PERCENTUAL FROM enemtb GROUP BY NU_ANO, RESIDENCIA_COMPUTADOR ORDER BY NU_ANO, COUNT(*) DESC').show(30)\n",
    "\n",
    "print(f'Consulta realizada com sucesso -  {datetime.now()}')"
   ]
  },
  {
   "cell_type": "code",
   "execution_count": 240,
   "metadata": {
    "tags": []
   },
   "outputs": [
    {
     "output_type": "stream",
     "name": "stdout",
     "text": "Quantidade de inscriçoes por Residência com Internet.\n\nConsulta inciada -  2020-08-25 14:53:43.879581\n+-------------------+--------------+----------+\n|RESIDENCIA_INTERNET|QTDE_INSCRICAO|PERCENTUAL|\n+-------------------+--------------+----------+\n|               Sim.|      23073704|     68.44|\n|               Não.|      10639681|     31.56|\n|                   |           767|       0.0|\n+-------------------+--------------+----------+\n\nConsulta realizada com sucesso -  2020-08-25 14:56:27.191025\n"
    }
   ],
   "source": [
    "print('Quantidade de inscriçoes por Residência com Internet.')\n",
    "print('')\n",
    "print(f'Consulta inciada -  {datetime.now()}')\n",
    "\n",
    "sqlContext.sql('SELECT RESIDENCIA_INTERNET, COUNT(*) AS QTDE_INSCRICAO, ROUND((COUNT(*)/(SELECT COUNT(*)/100 FROM enemtb)),2) AS PERCENTUAL FROM enemtb GROUP BY RESIDENCIA_INTERNET ORDER BY COUNT(*) DESC').show()\n",
    "\n",
    "print(f'Consulta realizada com sucesso -  {datetime.now()}')"
   ]
  },
  {
   "cell_type": "code",
   "execution_count": 241,
   "metadata": {
    "tags": []
   },
   "outputs": [
    {
     "output_type": "stream",
     "name": "stdout",
     "text": "Quantidade de inscriçoes por Residência com Internet por Ano.\n\nConsulta inciada -  2020-08-25 14:56:27.241891\n+----+-------------------+--------------+----------+\n| ANO|RESIDENCIA_INTERNET|QTDE_INSCRICAO|PERCENTUAL|\n+----+-------------------+--------------+----------+\n|2015|               Sim.|       4911396|     14.57|\n|2015|               Não.|       2834269|      8.41|\n|2015|                   |           762|       0.0|\n|2016|               Sim.|       5543339|     16.44|\n|2016|               Não.|       3084024|      9.15|\n|2016|                   |             4|       0.0|\n|2017|               Sim.|       4577887|     13.58|\n|2017|               Não.|       2153453|      6.39|\n|2017|                   |             1|       0.0|\n|2018|               Sim.|       4086277|     12.12|\n|2018|               Não.|       1427470|      4.23|\n|2019|               Sim.|       3954805|     11.73|\n|2019|               Não.|       1140465|      3.38|\n+----+-------------------+--------------+----------+\n\nConsulta realizada com sucesso -  2020-08-25 14:59:08.665942\n"
    }
   ],
   "source": [
    "print('Quantidade de inscriçoes por Residência com Internet por Ano.')\n",
    "print('')\n",
    "print(f'Consulta inciada -  {datetime.now()}')\n",
    "\n",
    "sqlContext.sql('SELECT NU_ANO AS ANO, RESIDENCIA_INTERNET, COUNT(*) AS QTDE_INSCRICAO, ROUND((COUNT(*)/(SELECT COUNT(*)/100 FROM enemtb)),2) AS PERCENTUAL FROM enemtb GROUP BY NU_ANO, RESIDENCIA_INTERNET ORDER BY NU_ANO, COUNT(*) DESC').show()\n",
    "\n",
    "print(f'Consulta realizada com sucesso -  {datetime.now()}')"
   ]
  }
 ]
}