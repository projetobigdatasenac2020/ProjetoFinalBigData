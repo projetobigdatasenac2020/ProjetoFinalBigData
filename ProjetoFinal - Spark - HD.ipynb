{
 "metadata": {
  "language_info": {
   "codemirror_mode": {
    "name": "ipython",
    "version": 3
   },
   "file_extension": ".py",
   "mimetype": "text/x-python",
   "name": "python",
   "nbconvert_exporter": "python",
   "pygments_lexer": "ipython3",
   "version": "3.8.5-final"
  },
  "orig_nbformat": 2,
  "kernelspec": {
   "name": "python_defaultSpec_1599079701998",
   "display_name": "Python 3.8.5 64-bit"
  }
 },
 "nbformat": 4,
 "nbformat_minor": 2,
 "cells": [
  {
   "cell_type": "markdown",
   "metadata": {},
   "source": [
    "Projeto Final Pós Graduação Big Data - Senac Rio - 2020."
   ]
  },
  {
   "cell_type": "markdown",
   "metadata": {},
   "source": [
    "Processo de importação das Bibliotecas utilizadas no durante todo o projeto."
   ]
  },
  {
   "cell_type": "code",
   "execution_count": 1,
   "metadata": {
    "tags": []
   },
   "outputs": [
    {
     "output_type": "stream",
     "name": "stdout",
     "text": "Ativação das bibliotecas iniciada - 2020-09-02 17:50:57.109005.\nAtivação das bibliotecas com sucesso - 2020-09-02 17:50:58.313954.\n"
    }
   ],
   "source": [
    "#Importação das bibliotecas utilizadas para manipulação dos dados das paginas Web.\n",
    "\n",
    "from datetime import datetime\n",
    "\n",
    "print(f'Ativação das bibliotecas iniciada - {datetime.now()}.')\n",
    "\n",
    "from bs4 import BeautifulSoup\n",
    "import urllib.request\n",
    "import shutil\n",
    "import os\n",
    "import pandas as pd\n",
    "import pyspark\n",
    "import zipfile\n",
    "import sqlalchemy\n",
    "import pymysql\n",
    "import json\n",
    "import numpy as np\n",
    "import matplotlib.pyplot as plt\n",
    "import seaborn as sns\n",
    "from pyspark import SparkContext\n",
    "from pyspark.sql import SQLContext\n",
    "from pyspark.sql.functions import * \n",
    "\n",
    "%matplotlib inline\n",
    "\n",
    "print(f'Ativação das bibliotecas com sucesso - {datetime.now()}.')"
   ]
  },
  {
   "cell_type": "markdown",
   "metadata": {},
   "source": [
    "Indicação do diretório para download dos arquivos Inep-Enem. "
   ]
  },
  {
   "cell_type": "code",
   "execution_count": null,
   "metadata": {},
   "outputs": [],
   "source": [
    "#Indicação do diretório desejado para download dos arquivos. \n",
    "#No exemplo, estamos salvando no diretório: C:\\Users\\Ricardo\\Downloads\n",
    "\n",
    "diretorio = input('Digite o diretório desejado para salvar os arquivos: ')\n",
    "os.chdir(r'{}'.format(diretorio))\n",
    "os.getcwd( )"
   ]
  },
  {
   "cell_type": "code",
   "execution_count": null,
   "metadata": {
    "tags": []
   },
   "outputs": [],
   "source": [
    "#Apos indicar o diretorio desejado, como boa pratica, sugerimos a criação da pasta onde será salvos os arquivos.\n",
    "#No exemplo, estamos salvando na pasta: MicrodadosEnem.'''\n",
    "\n",
    "url = 'http://inep.gov.br/microdados'\n",
    "\n",
    "pasta = input('Após indicação do diretório {}, informe o nome da pasta desejada para salvar os arquivos baixados da pagina {}: '.format(diretorio, url))\n",
    "\n",
    "try:\n",
    "    os.mkdir(pasta)\n",
    "    print('Pasta {} criada com sucesso!'.format(pasta))\n",
    "except FileExistsError as e:\n",
    "    print(f'Pasta {pasta} já existe')"
   ]
  },
  {
   "cell_type": "code",
   "execution_count": null,
   "metadata": {
    "tags": []
   },
   "outputs": [],
   "source": [
    "#Indicação do diretório onde será salvo os arquivos baixados da url.\n",
    "\n",
    "os.chdir(r'{}\\{}'.format(diretorio, pasta))\n",
    "print('Os arquivos serão salvos no seguinte diretorio:', format(os.getcwd()))"
   ]
  },
  {
   "cell_type": "markdown",
   "metadata": {},
   "source": [
    "Processo de Web Scraping no site do Inep, buscando os microdados do Enem."
   ]
  },
  {
   "cell_type": "code",
   "execution_count": null,
   "metadata": {},
   "outputs": [],
   "source": [
    "#Criação da variável que receberá todos os dados correspondente a varíavel \"url\".\n",
    "\n",
    "page = urllib.request.urlopen(url)"
   ]
  },
  {
   "cell_type": "code",
   "execution_count": null,
   "metadata": {
    "tags": [
     "outputPrepend"
    ]
   },
   "outputs": [],
   "source": [
    "#Criação da variável \"soup\", do pacote BeatifulSoup, que apresenta a estutura HTML da pagina que será trabalhada.\n",
    "\n",
    "soup = BeautifulSoup(page,'html.parser')\n",
    "print(soup)"
   ]
  },
  {
   "cell_type": "code",
   "execution_count": null,
   "metadata": {
    "tags": [
     "outputPrepend"
    ]
   },
   "outputs": [],
   "source": [
    "#No loop \"for\" abaixo, o realizaremos o filtro das tags desejadas.\n",
    "\n",
    "for link in soup.findAll('a'):\n",
    "    theLink = link.get('href')\n",
    "    name = link.string\n",
    "    \n",
    "    print(theLink)\n",
    "    print(name)"
   ]
  },
  {
   "cell_type": "code",
   "execution_count": null,
   "metadata": {
    "tags": []
   },
   "outputs": [],
   "source": [
    "#No processo abaixo, realizaremos o filtro das linhas, cujo o o tipo do arquivo desejado é *.zip.\n",
    "\n",
    "nomeArquivo = []\n",
    "typeFile = '.zip'\n",
    "i = 0\n",
    "for link in soup.findAll('a'):\n",
    "    theLink = str(link.get('href')).lower()\n",
    "    name = link.string\n",
    "    if 'enem'in theLink:\n",
    "        if theLink[-4:] == typeFile:\n",
    "            print(theLink)\n",
    "            print(type(theLink))\n",
    "            print(name)\n",
    "            print(type(name))\n",
    "            nomeArquivo.append(theLink[39:-4].replace('/','_'))\n",
    "            print(type(nomeArquivo))"
   ]
  },
  {
   "cell_type": "code",
   "execution_count": null,
   "metadata": {
    "tags": []
   },
   "outputs": [],
   "source": [
    "#Processo de download dos arquivos desejados e salvos na na pasta indicada.\n",
    "\n",
    "i = 0\n",
    "for link in soup.findAll('a'):\n",
    "    theLink = str(link.get('href')).lower()\n",
    "    name = link.string\n",
    "    if 'enem'in theLink:\n",
    "        if theLink[-4:] == typeFile:\n",
    "            if name is None:\n",
    "                title = 'SemTítulo' + typeFile\n",
    "            else:\n",
    "                title = nomeArquivo[i] + typeFile\n",
    "                i +=1\n",
    "            try:\n",
    "                with open(os.getcwd() + '/' + title,'r') as fileExists:\n",
    "                    print('Arquivo ' + title + ' existente no diretório '+ os.getcwd() + ' - ' + str(datetime.now()))\n",
    "                    fileExists.close()\n",
    "            except FileNotFoundError:\n",
    "                print('Download Iniciado - {}: '.format(datetime.now()) + title)\n",
    "                docFile = open(os.getcwd() + '/' + title,'wb')\n",
    "                docFile.write(urllib.request.urlopen(theLink).read())\n",
    "                docFile.close()\n",
    "                print('Download Concluído em {}'.format(datetime.now()))\n",
    "print('Não há mais arquivos para download')"
   ]
  },
  {
   "cell_type": "code",
   "execution_count": null,
   "metadata": {},
   "outputs": [],
   "source": [
    "#Apresentação do tamanho dos arquivos baixados.\n",
    "\n",
    "print('Apresentação Arquivos Enem baixados no díretório: ' + os.getcwd())\n",
    "contador = 0\n",
    "tamanhoTotal = 0\n",
    "tipo = '.zip'\n",
    "\n",
    "def formatarTamanho(tamanho):\n",
    "    base = 1024\n",
    "    kilo = base\n",
    "    mega = base ** 2\n",
    "    giga = base ** 3\n",
    "    tera = base ** 4\n",
    "    \n",
    "    if tamanho < kilo:\n",
    "        tamanho = base\n",
    "        texto = 'B'\n",
    "    elif tamanho < mega:\n",
    "        tamanho /= kilo\n",
    "        texto = 'K'\n",
    "    elif tamanho < giga:\n",
    "        tamanho /= mega\n",
    "        texto = 'M'\n",
    "    else:\n",
    "        tamanho < tera\n",
    "        tamanho /= giga\n",
    "        texto = 'G'\n",
    "    tamanho = round(tamanho, 2)\n",
    "    return f'{tamanho} {texto}'\n",
    "\n",
    "for raiz, diretorios, arquivos in os.walk(os.getcwd()):\n",
    "    for arquivo in arquivos:\n",
    "        if tipo in arquivo:\n",
    "            contador +=1 \n",
    "            caminho = os.path.join(raiz, arquivo)\n",
    "            nome, ext = os.path.splitext(arquivo)\n",
    "            tamanho = os.path.getsize(caminho)\n",
    "            tamanhoTotal += tamanho\n",
    "                                \n",
    "            if tamanho > 0:\n",
    "                print()\n",
    "                print('Arquivo encontrado: ', arquivo)\n",
    "                print('Caminho: ', caminho)\n",
    "                print('Nome: ', nome)\n",
    "                print('Extensão: ', ext)\n",
    "                print('Tamanho: ', formatarTamanho(tamanho))\n",
    "\n",
    "print()\n",
    "print(f'{contador} arquivo(s) encontrado(s).' + 'Tamanho Total: ' + formatarTamanho(tamanhoTotal))"
   ]
  },
  {
   "cell_type": "markdown",
   "metadata": {},
   "source": [
    "Processo de Intaciação do Spark e criação dos Dataframes, atraves dos arquivos CSV's do Enem. "
   ]
  },
  {
   "cell_type": "code",
   "execution_count": 2,
   "metadata": {
    "tags": []
   },
   "outputs": [
    {
     "output_type": "stream",
     "name": "stdout",
     "text": "Intanciando o Spark - 2020-09-02 17:51:26.489611.\nSpark intanciado com sucesso - 2020-09-02 17:51:37.758769.\n"
    }
   ],
   "source": [
    "# Instanciar Spark\n",
    "\n",
    "print(f'Intanciando o Spark - {datetime.now()}.')\n",
    "\n",
    "sc = SparkContext()\n",
    "sqlContext = SQLContext(sc)\n",
    "\n",
    "print(f'Spark intanciado com sucesso - {datetime.now()}.')"
   ]
  },
  {
   "cell_type": "code",
   "execution_count": 3,
   "metadata": {
    "tags": []
   },
   "outputs": [
    {
     "output_type": "stream",
     "name": "stdout",
     "text": "Criação Dataframes Iniciado - 2020-09-02 17:51:37.836560.\n\n\nCriação Dataframe do Enem 2015 iniciada - 2020-09-02 17:51:37.837559.\nDataframe df_enem2015_completo criado com sucesso - 2020-09-02 17:52:27.912356.\n\nCriação Dataframe do Enem 2016 iniciada- 2020-09-02 17:52:27.914350.\nDataframe df_enem2016_completo criado com sucesso - 2020-09-02 17:53:19.341446.\n\nCriação Dataframe do Enem 2017 iniciada - 2020-09-02 17:53:19.342443.\nDataframe df_enem2017_completo criado com sucesso - 2020-09-02 17:53:52.066797.\n\nCriação Dataframe do Enem 2018 iniciada - 2020-09-02 17:53:52.067793.\nDataframe df_enem2018_completo criado com sucesso - 2020-09-02 17:54:19.586942.\n\nCriação Dataframe do Enem 2019 iniciada - 2020-09-02 17:54:19.587939.\nDataframe df_enem2019_completo criado com sucesso - 2020-09-02 17:54:45.541547.\n\n\nDataframes criados com sucesso - 2020-09-02 17:54:45.542544.\n"
    }
   ],
   "source": [
    "# No Processo abaixo, importaremos para o dataframe, apenas para conhecer os dados e verificar o separador do microdado.\n",
    "\n",
    "print(f'Criação Dataframes Iniciado - {datetime.now()}.')\n",
    "print('')\n",
    "\n",
    "print('')\n",
    "print(f'Criação Dataframe do Enem 2015 iniciada - {datetime.now()}.')\n",
    "df_enem2015_completo = sqlContext.read.format('com.databricks.spark.csv').options(header='true', sep=\",\", inferschema='true', encoding = 'ISO-8859-1', ).load(r'C:\\Users\\Ricardo\\Downloads\\MicrodadosEnem\\MICRODADOS_ENEM_2015.csv')\n",
    "print(f'Dataframe df_enem2015_completo criado com sucesso - {datetime.now()}.')\n",
    "print('')\n",
    "\n",
    "print(f'Criação Dataframe do Enem 2016 iniciada- {datetime.now()}.')\n",
    "df_enem2016_completo = sqlContext.read.format('com.databricks.spark.csv').options(header='true', sep=\";\", inferschema='true', encoding = 'ISO-8859-1').load(r'C:\\Users\\Ricardo\\Downloads\\MicrodadosEnem\\microdados_enem_2016.csv')\n",
    "print(f'Dataframe df_enem2016_completo criado com sucesso - {datetime.now()}.')\n",
    "print('')\n",
    "\n",
    "print(f'Criação Dataframe do Enem 2017 iniciada - {datetime.now()}.')\n",
    "df_enem2017_completo = sqlContext.read.format('com.databricks.spark.csv').options(header='true', sep=\";\", inferschema='true', encoding = 'ISO-8859-1').load(r'C:\\Users\\Ricardo\\Downloads\\MicrodadosEnem\\MICRODADOS_ENEM_2017.csv')\n",
    "print(f'Dataframe df_enem2017_completo criado com sucesso - {datetime.now()}.')\n",
    "print('')\n",
    "\n",
    "print(f'Criação Dataframe do Enem 2018 iniciada - {datetime.now()}.')\n",
    "df_enem2018_completo = sqlContext.read.format('com.databricks.spark.csv').options(header='true', sep=\";\", inferschema='true', encoding = 'ISO-8859-1').load(r'C:\\Users\\Ricardo\\Downloads\\MicrodadosEnem\\MICRODADOS_ENEM_2018.csv')\n",
    "print(f'Dataframe df_enem2018_completo criado com sucesso - {datetime.now()}.')\n",
    "print('')\n",
    "\n",
    "print(f'Criação Dataframe do Enem 2019 iniciada - {datetime.now()}.')\n",
    "df_enem2019_completo = sqlContext.read.format('com.databricks.spark.csv').options(header='true', sep=\";\", inferschema='true', encoding = 'ISO-8859-1').load(r'C:\\Users\\Ricardo\\Downloads\\MicrodadosEnem\\MICRODADOS_ENEM_2019.csv')\n",
    "print(f'Dataframe df_enem2019_completo criado com sucesso - {datetime.now()}.')\n",
    "print('')\n",
    "\n",
    "print('')\n",
    "print(f'Dataframes criados com sucesso - {datetime.now()}.')"
   ]
  },
  {
   "cell_type": "code",
   "execution_count": 4,
   "metadata": {
    "tags": []
   },
   "outputs": [
    {
     "output_type": "stream",
     "name": "stdout",
     "text": "Quantidade de Registros importadados para cada Dataframe\n\nQuantdade de Registros Dataframe Enem2015 - 2020-09-02 17:54:45.579445.\n7746427\n\nQuantdade de Registros Dataframe Enem2016 - 2020-09-02 17:55:08.843610.\n8627367\n\nQuantdade de Registros Dataframe Enem2017 - 2020-09-02 17:55:33.805536.\n6731341\n\nQuantdade de Registros Dataframe Enem2018 - 2020-09-02 17:55:50.200179.\n5513747\n\nQuantdade de Registros Dataframe Enem2019 - 2020-09-02 17:56:04.513854.\n5095270\n"
    }
   ],
   "source": [
    "# Apresentação dos registros de cada dataframe\n",
    "\n",
    "print('Quantidade de Registros importadados para cada Dataframe')\n",
    "print('')\n",
    "\n",
    "print(f'Quantdade de Registros Dataframe Enem2015 - {datetime.now()}.')\n",
    "print(df_enem2015_completo.count())\n",
    "print('')\n",
    "\n",
    "print(f'Quantdade de Registros Dataframe Enem2016 - {datetime.now()}.')\n",
    "print(df_enem2016_completo.count())\n",
    "print('')\n",
    "\n",
    "print(f'Quantdade de Registros Dataframe Enem2017 - {datetime.now()}.')\n",
    "print(df_enem2017_completo.count())\n",
    "print('')\n",
    "\n",
    "print(f'Quantdade de Registros Dataframe Enem2018 - {datetime.now()}.')\n",
    "print(df_enem2018_completo.count())\n",
    "print('')\n",
    "\n",
    "print(f'Quantdade de Registros Dataframe Enem2019 - {datetime.now()}.')\n",
    "print(df_enem2019_completo.count())\n"
   ]
  },
  {
   "cell_type": "code",
   "execution_count": 5,
   "metadata": {
    "tags": []
   },
   "outputs": [
    {
     "output_type": "stream",
     "name": "stdout",
     "text": "Apresentação de duas linhas do dataframe df_enem2015_completo - 2020-09-02 17:56:16.246288.\n+------------+------+-----------------------+-----------------------+----------------+----------------+---------------------------+------------+---------+----------------+----------------+---------+---------+----------------------+------------------+---------------+--------+-------+----------------+-----------------------+-----------------------+----------------+----------------+---------------+---------------+---------+---------+---------------+-----------+--------------+-----------+---------+-----------------------+-----------------+---------------------+---------------------+------------------+-----------+-----------+-----------+--------+--------------+----------+------------------+------------+------------+--------------+--------------+----------+--------------+--------------+--------+---------+--------------+---------+-----------------+---------------------+------------------------+--------------+------------------+-------+-------------+-------------------+------------------+---------------------+----------------+-------------------+-----------------+---------------------+------------------+-----------------+----------+--------------+--------+---------------+------------------+----------------+--------------------+------------------------+----------------------+--------------+------------------------+---------------------------+---------------------------+------------------+------------------+-----------+-----------+--------------+--------------+--------------+--------------+-----------+-----------+-----------+-----------+----------+----------+----------+----------+--------------------+--------------------+--------------------+--------------------+---------+--------------------+--------------------+--------------------+--------------------+-----------------+-------------+-------------+-------------+-------------+-------------+---------------+----+----+----+----+----+----+----+----+----+----+----+----+----+----+----+----+----+----+----+----+----+----+----+----+----+----+----+----+----+----+----+----+----+----+----+----+----+----+----+----+----+----+----+----+----+----+----+----+----+----+\n|NU_INSCRICAO|NU_ANO|CO_MUNICIPIO_RESIDENCIA|NO_MUNICIPIO_RESIDENCIA|CO_UF_RESIDENCIA|SG_UF_RESIDENCIA|IN_ESTUDA_CLASSE_HOSPITALAR|IN_TREINEIRO|CO_ESCOLA|CO_MUNICIPIO_ESC|NO_MUNICIPIO_ESC|CO_UF_ESC|SG_UF_ESC|TP_DEPENDENCIA_ADM_ESC|TP_LOCALIZACAO_ESC|TP_SIT_FUNC_ESC|NU_IDADE|TP_SEXO|TP_NACIONALIDADE|CO_MUNICIPIO_NASCIMENTO|NO_MUNICIPIO_NASCIMENTO|CO_UF_NASCIMENTO|SG_UF_NASCIMENTO|TP_ST_CONCLUSAO|TP_ANO_CONCLUIU|TP_ESCOLA|TP_ENSINO|TP_ESTADO_CIVIL|TP_COR_RACA|IN_BAIXA_VISAO|IN_CEGUEIRA|IN_SURDEZ|IN_DEFICIENCIA_AUDITIVA|IN_SURDO_CEGUEIRA|IN_DEFICIENCIA_FISICA|IN_DEFICIENCIA_MENTAL|IN_DEFICIT_ATENCAO|IN_DISLEXIA|IN_GESTANTE|IN_LACTANTE|IN_IDOSO|IN_DISCALCULIA|IN_AUTISMO|IN_VISAO_MONOCULAR|IN_SABATISTA|IN_OUTRA_DEF|IN_SEM_RECURSO|IN_NOME_SOCIAL|IN_BRAILLE|IN_AMPLIADA_24|IN_AMPLIADA_18|IN_LEDOR|IN_ACESSO|IN_TRANSCRICAO|IN_LIBRAS|IN_LEITURA_LABIAL|IN_MESA_CADEIRA_RODAS|IN_MESA_CADEIRA_SEPARADA|IN_APOIO_PERNA|IN_GUIA_INTERPRETE|IN_MACA|IN_COMPUTADOR|IN_CADEIRA_ESPECIAL|IN_CADEIRA_CANHOTO|IN_CADEIRA_ACOLCHOADA|IN_PROVA_DEITADO|IN_MOBILIARIO_OBESO|IN_LAMINA_OVERLAY|IN_PROTETOR_AURICULAR|IN_MEDIDOR_GLICOSE|IN_MAQUINA_BRAILE|IN_SOROBAN|IN_MARCA_PASSO|IN_SONDA|IN_MEDICAMENTOS|IN_SALA_INDIVIDUAL|IN_SALA_ESPECIAL|IN_SALA_ACOMPANHANTE|IN_MOBILIARIO_ESPECIFICO|IN_MATERIAL_ESPECÍFICO|IN_CERTIFICADO|NO_ENTIDADE_CERTIFICACAO|CO_UF_ENTIDADE_CERTIFICACAO|SG_UF_ENTIDADE_CERTIFICACAO|CO_MUNICIPIO_PROVA|NO_MUNICIPIO_PROVA|CO_UF_PROVA|SG_UF_PROVA|TP_PRESENCA_CN|TP_PRESENCA_CH|TP_PRESENCA_LC|TP_PRESENCA_MT|CO_PROVA_CN|CO_PROVA_CH|CO_PROVA_LC|CO_PROVA_MT|NU_NOTA_CN|NU_NOTA_CH|NU_NOTA_LC|NU_NOTA_MT|     TX_RESPOSTAS_CN|     TX_RESPOSTAS_CH|     TX_RESPOSTAS_LC|     TX_RESPOSTAS_MT|TP_LINGUA|      TX_GABARITO_CN|      TX_GABARITO_CH|      TX_GABARITO_LC|      TX_GABARITO_MT|TP_STATUS_REDACAO|NU_NOTA_COMP1|NU_NOTA_COMP2|NU_NOTA_COMP3|NU_NOTA_COMP4|NU_NOTA_COMP5|NU_NOTA_REDACAO|Q001|Q002|Q003|Q004|Q005|Q006|Q007|Q008|Q009|Q010|Q011|Q012|Q013|Q014|Q015|Q016|Q017|Q018|Q019|Q020|Q021|Q022|Q023|Q024|Q025|Q026|Q027|Q028|Q029|Q030|Q031|Q032|Q033|Q034|Q035|Q036|Q037|Q038|Q039|Q040|Q041|Q042|Q043|Q044|Q045|Q046|Q047|Q048|Q049|Q050|\n+------------+------+-----------------------+-----------------------+----------------+----------------+---------------------------+------------+---------+----------------+----------------+---------+---------+----------------------+------------------+---------------+--------+-------+----------------+-----------------------+-----------------------+----------------+----------------+---------------+---------------+---------+---------+---------------+-----------+--------------+-----------+---------+-----------------------+-----------------+---------------------+---------------------+------------------+-----------+-----------+-----------+--------+--------------+----------+------------------+------------+------------+--------------+--------------+----------+--------------+--------------+--------+---------+--------------+---------+-----------------+---------------------+------------------------+--------------+------------------+-------+-------------+-------------------+------------------+---------------------+----------------+-------------------+-----------------+---------------------+------------------+-----------------+----------+--------------+--------+---------------+------------------+----------------+--------------------+------------------------+----------------------+--------------+------------------------+---------------------------+---------------------------+------------------+------------------+-----------+-----------+--------------+--------------+--------------+--------------+-----------+-----------+-----------+-----------+----------+----------+----------+----------+--------------------+--------------------+--------------------+--------------------+---------+--------------------+--------------------+--------------------+--------------------+-----------------+-------------+-------------+-------------+-------------+-------------+---------------+----+----+----+----+----+----+----+----+----+----+----+----+----+----+----+----+----+----+----+----+----+----+----+----+----+----+----+----+----+----+----+----+----+----+----+----+----+----+----+----+----+----+----+----+----+----+----+----+----+----+\n|150000000376|  2015|                4309209|               Gravataí|              43|              RS|                          0|           0|     null|            null|            null|     null|     null|                  null|              null|           null|      42|      M|               1|                4209003|                Joaçaba|              42|              SC|              1|             10|        1|     null|              1|          1|             0|          0|        0|                      0|                0|                    0|                    0|                 0|          0|          0|          0|       0|             0|         0|                 0|           0|           0|             0|             0|         0|             0|             0|       0|        0|             0|        0|                0|                    0|                       0|             0|                 0|      0|            0|                  0|                 0|                    0|               0|                  0|                0|                    0|                 0|                0|         0|             0|       0|              0|                 0|               0|                   0|                       0|                     0|             0|                    null|                       null|                       null|           4309209|          Gravataí|         43|         RS|             1|             1|             1|             1|        235|        231|        242|        246|     657.4|     705.3|     591.1|     732.3|DACCBCABEDDCBABBB...|CEAEADACEADEDBDAC...|99999DAABDBDEDBDC...|DCEDAACEBBDBEBEBC...|        1|DCCDBCAAEBECBAADA...|AEAEADECEADEDBDAC...|CEDAABDACDBDEDBDC...|DAEACAAEBADDBBEBC...|                1|          160|          160|          120|          160|          160|            760|   A|   A|   A|   A|   3|   D|   A|   B|   B|   A|   A|   B|   A|   B|   A|   B|   A|   A|   B|   A|   A|   B|   B|   B|   B|   C|   A|   A|   0|   2|   2|   2|   1|   5|   5|   5|   5|   5|   5|   5|   5|   A|   A|   A|   A|   A|   E|   A|   A|   A|\n|150000003053|  2015|                3143302|          Montes Claros|              31|              MG|                          0|           0|     null|            null|            null|     null|     null|                  null|              null|           null|      21|      M|               1|                3143302|          Montes Claros|              31|              MG|              1|              5|        1|     null|              0|          3|             0|          0|        0|                      0|                0|                    0|                    0|                 0|          0|          0|          0|       0|             0|         0|                 0|           0|           0|             0|             0|         0|             0|             0|       0|        0|             0|        0|                0|                    0|                       0|             0|                 0|      0|            0|                  0|                 0|                    0|               0|                  0|                0|                    0|                 0|                0|         0|             0|       0|              0|                 0|               0|                   0|                       0|                     0|             0|                    null|                       null|                       null|           3143302|     Montes Claros|         31|         MG|             0|             0|             0|             0|       null|       null|       null|       null|      null|      null|      null|      null|                null|                null|                null|                null|        1|                null|                null|                null|                null|                4|            0|            0|            0|            0|            0|              0|   E|   E|   C|   B|   3|   B|   A|   C|   D|   A|   B|   B|   A|   A|   A|   A|   A|   A|   B|   B|   A|   D|   B|   B|   B|   C|   B|   E|   5|   5|   5|   5|   5|   5|   5|   2|   5|   0|   0|   5|   5|   B|   A|   A|   A|   A|   A|   A|   A|   A|\n+------------+------+-----------------------+-----------------------+----------------+----------------+---------------------------+------------+---------+----------------+----------------+---------+---------+----------------------+------------------+---------------+--------+-------+----------------+-----------------------+-----------------------+----------------+----------------+---------------+---------------+---------+---------+---------------+-----------+--------------+-----------+---------+-----------------------+-----------------+---------------------+---------------------+------------------+-----------+-----------+-----------+--------+--------------+----------+------------------+------------+------------+--------------+--------------+----------+--------------+--------------+--------+---------+--------------+---------+-----------------+---------------------+------------------------+--------------+------------------+-------+-------------+-------------------+------------------+---------------------+----------------+-------------------+-----------------+---------------------+------------------+-----------------+----------+--------------+--------+---------------+------------------+----------------+--------------------+------------------------+----------------------+--------------+------------------------+---------------------------+---------------------------+------------------+------------------+-----------+-----------+--------------+--------------+--------------+--------------+-----------+-----------+-----------+-----------+----------+----------+----------+----------+--------------------+--------------------+--------------------+--------------------+---------+--------------------+--------------------+--------------------+--------------------+-----------------+-------------+-------------+-------------+-------------+-------------+---------------+----+----+----+----+----+----+----+----+----+----+----+----+----+----+----+----+----+----+----+----+----+----+----+----+----+----+----+----+----+----+----+----+----+----+----+----+----+----+----+----+----+----+----+----+----+----+----+----+----+----+\nonly showing top 2 rows\n\n"
    }
   ],
   "source": [
    "# Apresentação de duas linhas do dataframe df_enem2015_completo\n",
    "\n",
    "print(f'Apresentação de duas linhas do dataframe df_enem2015_completo - {datetime.now()}.')\n",
    "\n",
    "df_enem2015_completo.show(n=2,truncate=True)"
   ]
  },
  {
   "cell_type": "code",
   "execution_count": 6,
   "metadata": {
    "tags": []
   },
   "outputs": [
    {
     "output_type": "stream",
     "name": "stdout",
     "text": "Apresentação de duas linhas do dataframe df_enem2015_completo, classificado como linhas - 2020-09-02 17:56:16.957385.\n"
    },
    {
     "output_type": "execute_result",
     "data": {
      "text/plain": "[Row(NU_INSCRICAO=150000000376, NU_ANO=2015, CO_MUNICIPIO_RESIDENCIA=4309209, NO_MUNICIPIO_RESIDENCIA='Gravataí', CO_UF_RESIDENCIA=43, SG_UF_RESIDENCIA='RS', IN_ESTUDA_CLASSE_HOSPITALAR=0, IN_TREINEIRO=0, CO_ESCOLA=None, CO_MUNICIPIO_ESC=None, NO_MUNICIPIO_ESC=None, CO_UF_ESC=None, SG_UF_ESC=None, TP_DEPENDENCIA_ADM_ESC=None, TP_LOCALIZACAO_ESC=None, TP_SIT_FUNC_ESC=None, NU_IDADE=42, TP_SEXO='M', TP_NACIONALIDADE=1, CO_MUNICIPIO_NASCIMENTO=4209003, NO_MUNICIPIO_NASCIMENTO='Joaçaba', CO_UF_NASCIMENTO=42, SG_UF_NASCIMENTO='SC', TP_ST_CONCLUSAO=1, TP_ANO_CONCLUIU=10, TP_ESCOLA=1, TP_ENSINO=None, TP_ESTADO_CIVIL=1, TP_COR_RACA=1, IN_BAIXA_VISAO=0, IN_CEGUEIRA=0, IN_SURDEZ=0, IN_DEFICIENCIA_AUDITIVA=0, IN_SURDO_CEGUEIRA=0, IN_DEFICIENCIA_FISICA=0, IN_DEFICIENCIA_MENTAL=0, IN_DEFICIT_ATENCAO=0, IN_DISLEXIA=0, IN_GESTANTE=0, IN_LACTANTE=0, IN_IDOSO=0, IN_DISCALCULIA=0, IN_AUTISMO=0, IN_VISAO_MONOCULAR=0, IN_SABATISTA=0, IN_OUTRA_DEF=0, IN_SEM_RECURSO=0, IN_NOME_SOCIAL=0, IN_BRAILLE=0, IN_AMPLIADA_24=0, IN_AMPLIADA_18=0, IN_LEDOR=0, IN_ACESSO=0, IN_TRANSCRICAO=0, IN_LIBRAS=0, IN_LEITURA_LABIAL=0, IN_MESA_CADEIRA_RODAS=0, IN_MESA_CADEIRA_SEPARADA=0, IN_APOIO_PERNA=0, IN_GUIA_INTERPRETE=0, IN_MACA=0, IN_COMPUTADOR=0, IN_CADEIRA_ESPECIAL=0, IN_CADEIRA_CANHOTO=0, IN_CADEIRA_ACOLCHOADA=0, IN_PROVA_DEITADO=0, IN_MOBILIARIO_OBESO=0, IN_LAMINA_OVERLAY=0, IN_PROTETOR_AURICULAR=0, IN_MEDIDOR_GLICOSE=0, IN_MAQUINA_BRAILE=0, IN_SOROBAN=0, IN_MARCA_PASSO=0, IN_SONDA=0, IN_MEDICAMENTOS=0, IN_SALA_INDIVIDUAL=0, IN_SALA_ESPECIAL=0, IN_SALA_ACOMPANHANTE=0, IN_MOBILIARIO_ESPECIFICO=0, IN_MATERIAL_ESPECÍFICO=0, IN_CERTIFICADO=0, NO_ENTIDADE_CERTIFICACAO=None, CO_UF_ENTIDADE_CERTIFICACAO=None, SG_UF_ENTIDADE_CERTIFICACAO=None, CO_MUNICIPIO_PROVA=4309209, NO_MUNICIPIO_PROVA='Gravataí', CO_UF_PROVA=43, SG_UF_PROVA='RS', TP_PRESENCA_CN=1, TP_PRESENCA_CH=1, TP_PRESENCA_LC=1, TP_PRESENCA_MT=1, CO_PROVA_CN=235, CO_PROVA_CH=231, CO_PROVA_LC=242, CO_PROVA_MT=246, NU_NOTA_CN=657.4, NU_NOTA_CH=705.3, NU_NOTA_LC=591.1, NU_NOTA_MT=732.3, TX_RESPOSTAS_CN='DACCBCABEDDCBABBBDCDCDEBDCECABCBEACEEDBBEBAED', TX_RESPOSTAS_CH='CEAEADACEADEDBDACBBEEEEEBADCEBCBACBBDDADCCBBD', TX_RESPOSTAS_LC='99999DAABDBDEDBDCDAC*BCDDBEEAECCAABCDCCDBBCDEBEDAB', TX_RESPOSTAS_MT='DCEDAACEBBDBEBEBCAACBEBDDACDCBEDDCCBADAADAACC', TP_LINGUA=1, TX_GABARITO_CN='DCCDBCAAEBECBAADADBDEDEEBBBCABCCEAAEEDCBDDCEA', TX_GABARITO_CH='AEAEADECEADEDBDACBBCEEECBADCEBCEACBBBDADCCABD', TX_GABARITO_LC='CEDAABDACDBDEDBDCDDCEDCDABEBAECCEABCECCBABDEEBEABB', TX_GABARITO_MT='DAEACAAEBADDBBEBCCCEBEEDCAADCBEDACCEDCABDBDEC', TP_STATUS_REDACAO=1, NU_NOTA_COMP1=160, NU_NOTA_COMP2=160, NU_NOTA_COMP3=120, NU_NOTA_COMP4=160, NU_NOTA_COMP5=160, NU_NOTA_REDACAO=760, Q001='A', Q002='A', Q003='A', Q004='A', Q005=3, Q006='D', Q007='A', Q008='B', Q009='B', Q010='A', Q011='A', Q012='B', Q013='A', Q014='B', Q015='A', Q016='B', Q017='A', Q018='A', Q019='B', Q020='A', Q021='A', Q022='B', Q023='B', Q024='B', Q025='B', Q026='C', Q027='A', Q028='A', Q029=0, Q030=2, Q031=2, Q032=2, Q033=1, Q034=5, Q035=5, Q036=5, Q037=5, Q038=5, Q039=5, Q040=5, Q041=5, Q042='A', Q043='A', Q044='A', Q045='A', Q046='A', Q047='E', Q048='A', Q049='A', Q050='A'),\n Row(NU_INSCRICAO=150000003053, NU_ANO=2015, CO_MUNICIPIO_RESIDENCIA=3143302, NO_MUNICIPIO_RESIDENCIA='Montes Claros', CO_UF_RESIDENCIA=31, SG_UF_RESIDENCIA='MG', IN_ESTUDA_CLASSE_HOSPITALAR=0, IN_TREINEIRO=0, CO_ESCOLA=None, CO_MUNICIPIO_ESC=None, NO_MUNICIPIO_ESC=None, CO_UF_ESC=None, SG_UF_ESC=None, TP_DEPENDENCIA_ADM_ESC=None, TP_LOCALIZACAO_ESC=None, TP_SIT_FUNC_ESC=None, NU_IDADE=21, TP_SEXO='M', TP_NACIONALIDADE=1, CO_MUNICIPIO_NASCIMENTO=3143302, NO_MUNICIPIO_NASCIMENTO='Montes Claros', CO_UF_NASCIMENTO=31, SG_UF_NASCIMENTO='MG', TP_ST_CONCLUSAO=1, TP_ANO_CONCLUIU=5, TP_ESCOLA=1, TP_ENSINO=None, TP_ESTADO_CIVIL=0, TP_COR_RACA=3, IN_BAIXA_VISAO=0, IN_CEGUEIRA=0, IN_SURDEZ=0, IN_DEFICIENCIA_AUDITIVA=0, IN_SURDO_CEGUEIRA=0, IN_DEFICIENCIA_FISICA=0, IN_DEFICIENCIA_MENTAL=0, IN_DEFICIT_ATENCAO=0, IN_DISLEXIA=0, IN_GESTANTE=0, IN_LACTANTE=0, IN_IDOSO=0, IN_DISCALCULIA=0, IN_AUTISMO=0, IN_VISAO_MONOCULAR=0, IN_SABATISTA=0, IN_OUTRA_DEF=0, IN_SEM_RECURSO=0, IN_NOME_SOCIAL=0, IN_BRAILLE=0, IN_AMPLIADA_24=0, IN_AMPLIADA_18=0, IN_LEDOR=0, IN_ACESSO=0, IN_TRANSCRICAO=0, IN_LIBRAS=0, IN_LEITURA_LABIAL=0, IN_MESA_CADEIRA_RODAS=0, IN_MESA_CADEIRA_SEPARADA=0, IN_APOIO_PERNA=0, IN_GUIA_INTERPRETE=0, IN_MACA=0, IN_COMPUTADOR=0, IN_CADEIRA_ESPECIAL=0, IN_CADEIRA_CANHOTO=0, IN_CADEIRA_ACOLCHOADA=0, IN_PROVA_DEITADO=0, IN_MOBILIARIO_OBESO=0, IN_LAMINA_OVERLAY=0, IN_PROTETOR_AURICULAR=0, IN_MEDIDOR_GLICOSE=0, IN_MAQUINA_BRAILE=0, IN_SOROBAN=0, IN_MARCA_PASSO=0, IN_SONDA=0, IN_MEDICAMENTOS=0, IN_SALA_INDIVIDUAL=0, IN_SALA_ESPECIAL=0, IN_SALA_ACOMPANHANTE=0, IN_MOBILIARIO_ESPECIFICO=0, IN_MATERIAL_ESPECÍFICO=0, IN_CERTIFICADO=0, NO_ENTIDADE_CERTIFICACAO=None, CO_UF_ENTIDADE_CERTIFICACAO=None, SG_UF_ENTIDADE_CERTIFICACAO=None, CO_MUNICIPIO_PROVA=3143302, NO_MUNICIPIO_PROVA='Montes Claros', CO_UF_PROVA=31, SG_UF_PROVA='MG', TP_PRESENCA_CN=0, TP_PRESENCA_CH=0, TP_PRESENCA_LC=0, TP_PRESENCA_MT=0, CO_PROVA_CN=None, CO_PROVA_CH=None, CO_PROVA_LC=None, CO_PROVA_MT=None, NU_NOTA_CN=None, NU_NOTA_CH=None, NU_NOTA_LC=None, NU_NOTA_MT=None, TX_RESPOSTAS_CN=None, TX_RESPOSTAS_CH=None, TX_RESPOSTAS_LC=None, TX_RESPOSTAS_MT=None, TP_LINGUA=1, TX_GABARITO_CN=None, TX_GABARITO_CH=None, TX_GABARITO_LC=None, TX_GABARITO_MT=None, TP_STATUS_REDACAO=4, NU_NOTA_COMP1=0, NU_NOTA_COMP2=0, NU_NOTA_COMP3=0, NU_NOTA_COMP4=0, NU_NOTA_COMP5=0, NU_NOTA_REDACAO=0, Q001='E', Q002='E', Q003='C', Q004='B', Q005=3, Q006='B', Q007='A', Q008='C', Q009='D', Q010='A', Q011='B', Q012='B', Q013='A', Q014='A', Q015='A', Q016='A', Q017='A', Q018='A', Q019='B', Q020='B', Q021='A', Q022='D', Q023='B', Q024='B', Q025='B', Q026='C', Q027='B', Q028='E', Q029=5, Q030=5, Q031=5, Q032=5, Q033=5, Q034=5, Q035=5, Q036=2, Q037=5, Q038=0, Q039=0, Q040=5, Q041=5, Q042='B', Q043='A', Q044='A', Q045='A', Q046='A', Q047='A', Q048='A', Q049='A', Q050='A')]"
     },
     "metadata": {},
     "execution_count": 6
    }
   ],
   "source": [
    "# Apresentação de duas linhas do dataframe df_enem2015_completo\n",
    "\n",
    "print(f'Apresentação de duas linhas do dataframe df_enem2015_completo, classificado como linhas - {datetime.now()}.')\n",
    "\n",
    "df_enem2015_completo.head(2)"
   ]
  },
  {
   "cell_type": "code",
   "execution_count": 7,
   "metadata": {
    "tags": []
   },
   "outputs": [
    {
     "output_type": "stream",
     "name": "stdout",
     "text": "Apresentação da estutura do dataframe df_enem2015_completo - 2020-09-02 17:56:17.128928.\nroot\n |-- NU_INSCRICAO: long (nullable = true)\n |-- NU_ANO: integer (nullable = true)\n |-- CO_MUNICIPIO_RESIDENCIA: integer (nullable = true)\n |-- NO_MUNICIPIO_RESIDENCIA: string (nullable = true)\n |-- CO_UF_RESIDENCIA: integer (nullable = true)\n |-- SG_UF_RESIDENCIA: string (nullable = true)\n |-- IN_ESTUDA_CLASSE_HOSPITALAR: integer (nullable = true)\n |-- IN_TREINEIRO: integer (nullable = true)\n |-- CO_ESCOLA: integer (nullable = true)\n |-- CO_MUNICIPIO_ESC: integer (nullable = true)\n |-- NO_MUNICIPIO_ESC: string (nullable = true)\n |-- CO_UF_ESC: integer (nullable = true)\n |-- SG_UF_ESC: string (nullable = true)\n |-- TP_DEPENDENCIA_ADM_ESC: integer (nullable = true)\n |-- TP_LOCALIZACAO_ESC: integer (nullable = true)\n |-- TP_SIT_FUNC_ESC: integer (nullable = true)\n |-- NU_IDADE: integer (nullable = true)\n |-- TP_SEXO: string (nullable = true)\n |-- TP_NACIONALIDADE: integer (nullable = true)\n |-- CO_MUNICIPIO_NASCIMENTO: integer (nullable = true)\n |-- NO_MUNICIPIO_NASCIMENTO: string (nullable = true)\n |-- CO_UF_NASCIMENTO: integer (nullable = true)\n |-- SG_UF_NASCIMENTO: string (nullable = true)\n |-- TP_ST_CONCLUSAO: integer (nullable = true)\n |-- TP_ANO_CONCLUIU: integer (nullable = true)\n |-- TP_ESCOLA: integer (nullable = true)\n |-- TP_ENSINO: integer (nullable = true)\n |-- TP_ESTADO_CIVIL: integer (nullable = true)\n |-- TP_COR_RACA: integer (nullable = true)\n |-- IN_BAIXA_VISAO: integer (nullable = true)\n |-- IN_CEGUEIRA: integer (nullable = true)\n |-- IN_SURDEZ: integer (nullable = true)\n |-- IN_DEFICIENCIA_AUDITIVA: integer (nullable = true)\n |-- IN_SURDO_CEGUEIRA: integer (nullable = true)\n |-- IN_DEFICIENCIA_FISICA: integer (nullable = true)\n |-- IN_DEFICIENCIA_MENTAL: integer (nullable = true)\n |-- IN_DEFICIT_ATENCAO: integer (nullable = true)\n |-- IN_DISLEXIA: integer (nullable = true)\n |-- IN_GESTANTE: integer (nullable = true)\n |-- IN_LACTANTE: integer (nullable = true)\n |-- IN_IDOSO: integer (nullable = true)\n |-- IN_DISCALCULIA: integer (nullable = true)\n |-- IN_AUTISMO: integer (nullable = true)\n |-- IN_VISAO_MONOCULAR: integer (nullable = true)\n |-- IN_SABATISTA: integer (nullable = true)\n |-- IN_OUTRA_DEF: integer (nullable = true)\n |-- IN_SEM_RECURSO: integer (nullable = true)\n |-- IN_NOME_SOCIAL: integer (nullable = true)\n |-- IN_BRAILLE: integer (nullable = true)\n |-- IN_AMPLIADA_24: integer (nullable = true)\n |-- IN_AMPLIADA_18: integer (nullable = true)\n |-- IN_LEDOR: integer (nullable = true)\n |-- IN_ACESSO: integer (nullable = true)\n |-- IN_TRANSCRICAO: integer (nullable = true)\n |-- IN_LIBRAS: integer (nullable = true)\n |-- IN_LEITURA_LABIAL: integer (nullable = true)\n |-- IN_MESA_CADEIRA_RODAS: integer (nullable = true)\n |-- IN_MESA_CADEIRA_SEPARADA: integer (nullable = true)\n |-- IN_APOIO_PERNA: integer (nullable = true)\n |-- IN_GUIA_INTERPRETE: integer (nullable = true)\n |-- IN_MACA: integer (nullable = true)\n |-- IN_COMPUTADOR: integer (nullable = true)\n |-- IN_CADEIRA_ESPECIAL: integer (nullable = true)\n |-- IN_CADEIRA_CANHOTO: integer (nullable = true)\n |-- IN_CADEIRA_ACOLCHOADA: integer (nullable = true)\n |-- IN_PROVA_DEITADO: integer (nullable = true)\n |-- IN_MOBILIARIO_OBESO: integer (nullable = true)\n |-- IN_LAMINA_OVERLAY: integer (nullable = true)\n |-- IN_PROTETOR_AURICULAR: integer (nullable = true)\n |-- IN_MEDIDOR_GLICOSE: integer (nullable = true)\n |-- IN_MAQUINA_BRAILE: integer (nullable = true)\n |-- IN_SOROBAN: integer (nullable = true)\n |-- IN_MARCA_PASSO: integer (nullable = true)\n |-- IN_SONDA: integer (nullable = true)\n |-- IN_MEDICAMENTOS: integer (nullable = true)\n |-- IN_SALA_INDIVIDUAL: integer (nullable = true)\n |-- IN_SALA_ESPECIAL: integer (nullable = true)\n |-- IN_SALA_ACOMPANHANTE: integer (nullable = true)\n |-- IN_MOBILIARIO_ESPECIFICO: integer (nullable = true)\n |-- IN_MATERIAL_ESPECÍFICO: integer (nullable = true)\n |-- IN_CERTIFICADO: integer (nullable = true)\n |-- NO_ENTIDADE_CERTIFICACAO: string (nullable = true)\n |-- CO_UF_ENTIDADE_CERTIFICACAO: integer (nullable = true)\n |-- SG_UF_ENTIDADE_CERTIFICACAO: string (nullable = true)\n |-- CO_MUNICIPIO_PROVA: integer (nullable = true)\n |-- NO_MUNICIPIO_PROVA: string (nullable = true)\n |-- CO_UF_PROVA: integer (nullable = true)\n |-- SG_UF_PROVA: string (nullable = true)\n |-- TP_PRESENCA_CN: integer (nullable = true)\n |-- TP_PRESENCA_CH: integer (nullable = true)\n |-- TP_PRESENCA_LC: integer (nullable = true)\n |-- TP_PRESENCA_MT: integer (nullable = true)\n |-- CO_PROVA_CN: integer (nullable = true)\n |-- CO_PROVA_CH: integer (nullable = true)\n |-- CO_PROVA_LC: integer (nullable = true)\n |-- CO_PROVA_MT: integer (nullable = true)\n |-- NU_NOTA_CN: double (nullable = true)\n |-- NU_NOTA_CH: double (nullable = true)\n |-- NU_NOTA_LC: double (nullable = true)\n |-- NU_NOTA_MT: double (nullable = true)\n |-- TX_RESPOSTAS_CN: string (nullable = true)\n |-- TX_RESPOSTAS_CH: string (nullable = true)\n |-- TX_RESPOSTAS_LC: string (nullable = true)\n |-- TX_RESPOSTAS_MT: string (nullable = true)\n |-- TP_LINGUA: integer (nullable = true)\n |-- TX_GABARITO_CN: string (nullable = true)\n |-- TX_GABARITO_CH: string (nullable = true)\n |-- TX_GABARITO_LC: string (nullable = true)\n |-- TX_GABARITO_MT: string (nullable = true)\n |-- TP_STATUS_REDACAO: integer (nullable = true)\n |-- NU_NOTA_COMP1: integer (nullable = true)\n |-- NU_NOTA_COMP2: integer (nullable = true)\n |-- NU_NOTA_COMP3: integer (nullable = true)\n |-- NU_NOTA_COMP4: integer (nullable = true)\n |-- NU_NOTA_COMP5: integer (nullable = true)\n |-- NU_NOTA_REDACAO: integer (nullable = true)\n |-- Q001: string (nullable = true)\n |-- Q002: string (nullable = true)\n |-- Q003: string (nullable = true)\n |-- Q004: string (nullable = true)\n |-- Q005: integer (nullable = true)\n |-- Q006: string (nullable = true)\n |-- Q007: string (nullable = true)\n |-- Q008: string (nullable = true)\n |-- Q009: string (nullable = true)\n |-- Q010: string (nullable = true)\n |-- Q011: string (nullable = true)\n |-- Q012: string (nullable = true)\n |-- Q013: string (nullable = true)\n |-- Q014: string (nullable = true)\n |-- Q015: string (nullable = true)\n |-- Q016: string (nullable = true)\n |-- Q017: string (nullable = true)\n |-- Q018: string (nullable = true)\n |-- Q019: string (nullable = true)\n |-- Q020: string (nullable = true)\n |-- Q021: string (nullable = true)\n |-- Q022: string (nullable = true)\n |-- Q023: string (nullable = true)\n |-- Q024: string (nullable = true)\n |-- Q025: string (nullable = true)\n |-- Q026: string (nullable = true)\n |-- Q027: string (nullable = true)\n |-- Q028: string (nullable = true)\n |-- Q029: integer (nullable = true)\n |-- Q030: integer (nullable = true)\n |-- Q031: integer (nullable = true)\n |-- Q032: integer (nullable = true)\n |-- Q033: integer (nullable = true)\n |-- Q034: integer (nullable = true)\n |-- Q035: integer (nullable = true)\n |-- Q036: integer (nullable = true)\n |-- Q037: integer (nullable = true)\n |-- Q038: integer (nullable = true)\n |-- Q039: integer (nullable = true)\n |-- Q040: integer (nullable = true)\n |-- Q041: integer (nullable = true)\n |-- Q042: string (nullable = true)\n |-- Q043: string (nullable = true)\n |-- Q044: string (nullable = true)\n |-- Q045: string (nullable = true)\n |-- Q046: string (nullable = true)\n |-- Q047: string (nullable = true)\n |-- Q048: string (nullable = true)\n |-- Q049: string (nullable = true)\n |-- Q050: string (nullable = true)\n\n"
    }
   ],
   "source": [
    "# Apresentação da estutura do dataframe df_enem2015_completo\n",
    "\n",
    "print(f'Apresentação da estutura do dataframe df_enem2015_completo - {datetime.now()}.')\n",
    "\n",
    "df_enem2015_completo.printSchema()"
   ]
  },
  {
   "cell_type": "code",
   "execution_count": 8,
   "metadata": {
    "tags": []
   },
   "outputs": [
    {
     "output_type": "stream",
     "name": "stdout",
     "text": "Apresentação das colunas do dataframe df_enem2015_completo - 2020-09-02 17:56:17.161838.\n"
    },
    {
     "output_type": "execute_result",
     "data": {
      "text/plain": "['NU_INSCRICAO',\n 'NU_ANO',\n 'CO_MUNICIPIO_RESIDENCIA',\n 'NO_MUNICIPIO_RESIDENCIA',\n 'CO_UF_RESIDENCIA',\n 'SG_UF_RESIDENCIA',\n 'IN_ESTUDA_CLASSE_HOSPITALAR',\n 'IN_TREINEIRO',\n 'CO_ESCOLA',\n 'CO_MUNICIPIO_ESC',\n 'NO_MUNICIPIO_ESC',\n 'CO_UF_ESC',\n 'SG_UF_ESC',\n 'TP_DEPENDENCIA_ADM_ESC',\n 'TP_LOCALIZACAO_ESC',\n 'TP_SIT_FUNC_ESC',\n 'NU_IDADE',\n 'TP_SEXO',\n 'TP_NACIONALIDADE',\n 'CO_MUNICIPIO_NASCIMENTO',\n 'NO_MUNICIPIO_NASCIMENTO',\n 'CO_UF_NASCIMENTO',\n 'SG_UF_NASCIMENTO',\n 'TP_ST_CONCLUSAO',\n 'TP_ANO_CONCLUIU',\n 'TP_ESCOLA',\n 'TP_ENSINO',\n 'TP_ESTADO_CIVIL',\n 'TP_COR_RACA',\n 'IN_BAIXA_VISAO',\n 'IN_CEGUEIRA',\n 'IN_SURDEZ',\n 'IN_DEFICIENCIA_AUDITIVA',\n 'IN_SURDO_CEGUEIRA',\n 'IN_DEFICIENCIA_FISICA',\n 'IN_DEFICIENCIA_MENTAL',\n 'IN_DEFICIT_ATENCAO',\n 'IN_DISLEXIA',\n 'IN_GESTANTE',\n 'IN_LACTANTE',\n 'IN_IDOSO',\n 'IN_DISCALCULIA',\n 'IN_AUTISMO',\n 'IN_VISAO_MONOCULAR',\n 'IN_SABATISTA',\n 'IN_OUTRA_DEF',\n 'IN_SEM_RECURSO',\n 'IN_NOME_SOCIAL',\n 'IN_BRAILLE',\n 'IN_AMPLIADA_24',\n 'IN_AMPLIADA_18',\n 'IN_LEDOR',\n 'IN_ACESSO',\n 'IN_TRANSCRICAO',\n 'IN_LIBRAS',\n 'IN_LEITURA_LABIAL',\n 'IN_MESA_CADEIRA_RODAS',\n 'IN_MESA_CADEIRA_SEPARADA',\n 'IN_APOIO_PERNA',\n 'IN_GUIA_INTERPRETE',\n 'IN_MACA',\n 'IN_COMPUTADOR',\n 'IN_CADEIRA_ESPECIAL',\n 'IN_CADEIRA_CANHOTO',\n 'IN_CADEIRA_ACOLCHOADA',\n 'IN_PROVA_DEITADO',\n 'IN_MOBILIARIO_OBESO',\n 'IN_LAMINA_OVERLAY',\n 'IN_PROTETOR_AURICULAR',\n 'IN_MEDIDOR_GLICOSE',\n 'IN_MAQUINA_BRAILE',\n 'IN_SOROBAN',\n 'IN_MARCA_PASSO',\n 'IN_SONDA',\n 'IN_MEDICAMENTOS',\n 'IN_SALA_INDIVIDUAL',\n 'IN_SALA_ESPECIAL',\n 'IN_SALA_ACOMPANHANTE',\n 'IN_MOBILIARIO_ESPECIFICO',\n 'IN_MATERIAL_ESPECÍFICO',\n 'IN_CERTIFICADO',\n 'NO_ENTIDADE_CERTIFICACAO',\n 'CO_UF_ENTIDADE_CERTIFICACAO',\n 'SG_UF_ENTIDADE_CERTIFICACAO',\n 'CO_MUNICIPIO_PROVA',\n 'NO_MUNICIPIO_PROVA',\n 'CO_UF_PROVA',\n 'SG_UF_PROVA',\n 'TP_PRESENCA_CN',\n 'TP_PRESENCA_CH',\n 'TP_PRESENCA_LC',\n 'TP_PRESENCA_MT',\n 'CO_PROVA_CN',\n 'CO_PROVA_CH',\n 'CO_PROVA_LC',\n 'CO_PROVA_MT',\n 'NU_NOTA_CN',\n 'NU_NOTA_CH',\n 'NU_NOTA_LC',\n 'NU_NOTA_MT',\n 'TX_RESPOSTAS_CN',\n 'TX_RESPOSTAS_CH',\n 'TX_RESPOSTAS_LC',\n 'TX_RESPOSTAS_MT',\n 'TP_LINGUA',\n 'TX_GABARITO_CN',\n 'TX_GABARITO_CH',\n 'TX_GABARITO_LC',\n 'TX_GABARITO_MT',\n 'TP_STATUS_REDACAO',\n 'NU_NOTA_COMP1',\n 'NU_NOTA_COMP2',\n 'NU_NOTA_COMP3',\n 'NU_NOTA_COMP4',\n 'NU_NOTA_COMP5',\n 'NU_NOTA_REDACAO',\n 'Q001',\n 'Q002',\n 'Q003',\n 'Q004',\n 'Q005',\n 'Q006',\n 'Q007',\n 'Q008',\n 'Q009',\n 'Q010',\n 'Q011',\n 'Q012',\n 'Q013',\n 'Q014',\n 'Q015',\n 'Q016',\n 'Q017',\n 'Q018',\n 'Q019',\n 'Q020',\n 'Q021',\n 'Q022',\n 'Q023',\n 'Q024',\n 'Q025',\n 'Q026',\n 'Q027',\n 'Q028',\n 'Q029',\n 'Q030',\n 'Q031',\n 'Q032',\n 'Q033',\n 'Q034',\n 'Q035',\n 'Q036',\n 'Q037',\n 'Q038',\n 'Q039',\n 'Q040',\n 'Q041',\n 'Q042',\n 'Q043',\n 'Q044',\n 'Q045',\n 'Q046',\n 'Q047',\n 'Q048',\n 'Q049',\n 'Q050']"
     },
     "metadata": {},
     "execution_count": 8
    }
   ],
   "source": [
    "# Apresentação das colunas do dataframe df_enem2015_completo\n",
    "\n",
    "print(f'Apresentação das colunas do dataframe df_enem2015_completo - {datetime.now()}.')\n",
    "\n",
    "df_enem2015_completo.columns[:]"
   ]
  },
  {
   "cell_type": "code",
   "execution_count": 9,
   "metadata": {
    "tags": []
   },
   "outputs": [
    {
     "output_type": "stream",
     "name": "stdout",
     "text": "Descrição DataFrame df_enem2015_completo\n\nDescrição Idade\n+-------+------------------+\n|summary|          NU_IDADE|\n+-------+------------------+\n|  count|           7746352|\n|   mean|23.004694338702915|\n| stddev| 7.944599707765686|\n|    min|                10|\n|    max|                98|\n+-------+------------------+\n\n2020-09-02 17:56:38.564970.\n\nDescrição Nota da prova de Ciências da Natureza\n+-------+-----------------+\n|summary|       NU_NOTA_CN|\n+-------+-----------------+\n|  count|          5755091|\n|   mean|478.9239503771539|\n| stddev|71.56005864237716|\n|    min|              0.0|\n|    max|            875.2|\n+-------+-----------------+\n\n2020-09-02 17:56:54.719640.\n\nDescrição Nota da prova de Ciências Humanas\n+-------+-----------------+\n|summary|       NU_NOTA_CH|\n+-------+-----------------+\n|  count|          5755091|\n|   mean|558.4878240152929|\n| stddev|70.96839011437301|\n|    min|              0.0|\n|    max|            850.6|\n+-------+-----------------+\n\n2020-09-02 17:57:10.819638.\n\nDescrição Nota da prova de Linguagens e Códigos\n+-------+------------------+\n|summary|        NU_NOTA_LC|\n+-------+------------------+\n|  count|           5625540|\n|   mean|505.45478531838677|\n| stddev| 72.68930504276108|\n|    min|               0.0|\n|    max|             825.8|\n+-------+------------------+\n\n2020-09-02 17:57:27.254683.\n\nDescrição Nota da prova de Matemática\n+-------+------------------+\n|summary|        NU_NOTA_MT|\n+-------+------------------+\n|  count|           5625540|\n|   mean|467.93117604709937|\n| stddev|107.36792743837316|\n|    min|               0.0|\n|    max|            1008.3|\n+-------+------------------+\n\n2020-09-02 17:57:44.505544.\n\nDescrição Nota da prova de redação\n+-------+------------------+\n|summary|   NU_NOTA_REDACAO|\n+-------+------------------+\n|  count|           7744736|\n|   mean|388.40985670783357|\n| stddev| 267.5071259318306|\n|    min|                 0|\n|    max|              1000|\n+-------+------------------+\n\n2020-09-02 17:58:01.500093.\n"
    }
   ],
   "source": [
    "# Descrição Dataframe df_enem2015_completo.\n",
    "\n",
    "print('Descrição DataFrame df_enem2015_completo')\n",
    "print('')\n",
    "\n",
    "print('Descrição Idade')\n",
    "df_enem2015_completo.describe('NU_IDADE').show()\n",
    "print(f'{datetime.now()}.')\n",
    "print('')\n",
    "\n",
    "print('Descrição Nota da prova de Ciências da Natureza')\n",
    "df_enem2015_completo.describe('NU_NOTA_CN').show()\n",
    "print(f'{datetime.now()}.')\n",
    "print('')\n",
    "\n",
    "print('Descrição Nota da prova de Ciências Humanas')\n",
    "df_enem2015_completo.describe('NU_NOTA_CH').show()\n",
    "print(f'{datetime.now()}.')\n",
    "print('')\n",
    "\n",
    "print('Descrição Nota da prova de Linguagens e Códigos')\n",
    "df_enem2015_completo.describe('NU_NOTA_LC').show()\n",
    "print(f'{datetime.now()}.')\n",
    "print('')\n",
    "\n",
    "print('Descrição Nota da prova de Matemática')\n",
    "df_enem2015_completo.describe('NU_NOTA_MT').show()\n",
    "print(f'{datetime.now()}.')\n",
    "print('')\n",
    "\n",
    "print('Descrição Nota da prova de redação')\n",
    "df_enem2015_completo.describe('NU_NOTA_REDACAO').show()\n",
    "print(f'{datetime.now()}.')"
   ]
  },
  {
   "cell_type": "code",
   "execution_count": 10,
   "metadata": {
    "tags": []
   },
   "outputs": [
    {
     "output_type": "stream",
     "name": "stdout",
     "text": "Descrição DataFrame df_enem2016_completo\n\nDescrição Idade\n+-------+-----------------+\n|summary|         NU_IDADE|\n+-------+-----------------+\n|  count|          8627265|\n|   mean| 23.0310825041308|\n| stddev|7.973406085745136|\n|    min|               10|\n|    max|               95|\n+-------+-----------------+\n\n2020-09-02 17:58:25.077135.\n\nDescrição Nota da prova de Ciências da Natureza\n+-------+-----------------+\n|summary|       NU_NOTA_CN|\n+-------+-----------------+\n|  count|          5999126|\n|   mean|477.6773009101653|\n| stddev|72.71845884040538|\n|    min|              0.0|\n|    max|            871.3|\n+-------+-----------------+\n\n2020-09-02 17:58:44.063053.\n\nDescrição Nota da prova de Ciências Humanas\n+-------+-----------------+\n|summary|       NU_NOTA_CH|\n+-------+-----------------+\n|  count|          5999126|\n|   mean|534.4409175603251|\n| stddev| 74.4988507782099|\n|    min|              0.0|\n|    max|            859.1|\n+-------+-----------------+\n\n2020-09-02 17:59:03.489098.\n\nDescrição Nota da prova de Linguagens e Códigos\n+-------+-----------------+\n|summary|       NU_NOTA_LC|\n+-------+-----------------+\n|  count|          5844971|\n|   mean|520.9074943742231|\n| stddev|68.79658007787643|\n|    min|              0.0|\n|    max|            802.6|\n+-------+-----------------+\n\n2020-09-02 17:59:22.384726.\n\nDescrição Nota da prova de Matemática\n+-------+------------------+\n|summary|        NU_NOTA_MT|\n+-------+------------------+\n|  count|           5844971|\n|   mean|490.08540213458764|\n| stddev|103.23464319126394|\n|    min|               0.0|\n|    max|             991.5|\n+-------+------------------+\n\n2020-09-02 17:59:41.104639.\n\nDescrição Nota da prova de redação\n+-------+-----------------+\n|summary|  NU_NOTA_REDACAO|\n+-------+-----------------+\n|  count|          5844971|\n|   mean|529.9665149750101|\n| stddev|154.0034330186631|\n|    min|                0|\n|    max|             1000|\n+-------+-----------------+\n\n2020-09-02 17:59:59.571609.\n"
    }
   ],
   "source": [
    "# Descrição Dataframe df_enem2016_completo.\n",
    "\n",
    "print('Descrição DataFrame df_enem2016_completo')\n",
    "print('')\n",
    "\n",
    "print('Descrição Idade')\n",
    "df_enem2016_completo.describe('NU_IDADE').show()\n",
    "print(f'{datetime.now()}.')\n",
    "print('')\n",
    "\n",
    "print('Descrição Nota da prova de Ciências da Natureza')\n",
    "df_enem2016_completo.describe('NU_NOTA_CN').show()\n",
    "print(f'{datetime.now()}.')\n",
    "print('')\n",
    "\n",
    "print('Descrição Nota da prova de Ciências Humanas')\n",
    "df_enem2016_completo.describe('NU_NOTA_CH').show()\n",
    "print(f'{datetime.now()}.')\n",
    "print('')\n",
    "\n",
    "print('Descrição Nota da prova de Linguagens e Códigos')\n",
    "df_enem2016_completo.describe('NU_NOTA_LC').show()\n",
    "print(f'{datetime.now()}.')\n",
    "print('')\n",
    "\n",
    "print('Descrição Nota da prova de Matemática')\n",
    "df_enem2016_completo.describe('NU_NOTA_MT').show()\n",
    "print(f'{datetime.now()}.')\n",
    "print('')\n",
    "\n",
    "print('Descrição Nota da prova de redação')\n",
    "df_enem2016_completo.describe('NU_NOTA_REDACAO').show()\n",
    "print(f'{datetime.now()}.')"
   ]
  },
  {
   "cell_type": "code",
   "execution_count": 11,
   "metadata": {
    "tags": []
   },
   "outputs": [
    {
     "output_type": "stream",
     "name": "stdout",
     "text": "Descrição DataFrame df_enem2017_completo\n\nDescrição Idade\n+-------+-----------------+\n|summary|         NU_IDADE|\n+-------+-----------------+\n|  count|          6731240|\n|   mean|22.95379261473369|\n| stddev|7.728937918555041|\n|    min|               10|\n|    max|               90|\n+-------+-----------------+\n\n2020-09-02 18:00:15.977027.\n\nDescrição Nota da prova de Ciências da Natureza\n+-------+-----------------+\n|summary|       NU_NOTA_CN|\n+-------+-----------------+\n|  count|          4437560|\n|   mean|510.8619317147265|\n| stddev|72.12733741911008|\n|    min|              0.0|\n|    max|            885.6|\n+-------+-----------------+\n\n2020-09-02 18:00:28.828840.\n\nDescrição Nota da prova de Ciências Humanas\n+-------+-----------------+\n|summary|       NU_NOTA_CH|\n+-------+-----------------+\n|  count|          4701428|\n|   mean|518.8259502219317|\n| stddev|83.41395391030184|\n|    min|              0.0|\n|    max|            868.3|\n+-------+-----------------+\n\n2020-09-02 18:00:41.759439.\n\nDescrição Nota da prova de Linguagens e Códigos\n+-------+-----------------+\n|summary|       NU_NOTA_LC|\n+-------+-----------------+\n|  count|          4701428|\n|   mean|510.2055666703836|\n| stddev|66.90544936176694|\n|    min|              0.0|\n|    max|            788.8|\n+-------+-----------------+\n\n2020-09-02 18:00:54.624893.\n\nDescrição Nota da prova de Matemática\n+-------+------------------+\n|summary|        NU_NOTA_MT|\n+-------+------------------+\n|  count|           4437560|\n|   mean| 518.7596521511824|\n| stddev|105.00474143091222|\n|    min|               0.0|\n|    max|             993.9|\n+-------+------------------+\n\n2020-09-02 18:01:07.458550.\n\nDescrição Nota da prova de redação\n+-------+------------------+\n|summary|   NU_NOTA_REDACAO|\n+-------+------------------+\n|  count|           4701428|\n|   mean| 522.5579206998384|\n| stddev|185.92055660075908|\n|    min|                 0|\n|    max|              1000|\n+-------+------------------+\n\n2020-09-02 18:01:20.300235.\n"
    }
   ],
   "source": [
    "# Descrição Dataframe df_enem2017_completo.\n",
    "\n",
    "print('Descrição DataFrame df_enem2017_completo')\n",
    "print('')\n",
    "\n",
    "print('Descrição Idade')\n",
    "df_enem2017_completo.describe('NU_IDADE').show()\n",
    "print(f'{datetime.now()}.')\n",
    "print('')\n",
    "\n",
    "print('Descrição Nota da prova de Ciências da Natureza')\n",
    "df_enem2017_completo.describe('NU_NOTA_CN').show()\n",
    "print(f'{datetime.now()}.')\n",
    "print('')\n",
    "\n",
    "print('Descrição Nota da prova de Ciências Humanas')\n",
    "df_enem2017_completo.describe('NU_NOTA_CH').show()\n",
    "print(f'{datetime.now()}.')\n",
    "print('')\n",
    "\n",
    "print('Descrição Nota da prova de Linguagens e Códigos')\n",
    "df_enem2017_completo.describe('NU_NOTA_LC').show()\n",
    "print(f'{datetime.now()}.')\n",
    "print('')\n",
    "\n",
    "print('Descrição Nota da prova de Matemática')\n",
    "df_enem2017_completo.describe('NU_NOTA_MT').show()\n",
    "print(f'{datetime.now()}.')\n",
    "print('')\n",
    "\n",
    "print('Descrição Nota da prova de redação')\n",
    "df_enem2017_completo.describe('NU_NOTA_REDACAO').show()\n",
    "print(f'{datetime.now()}.')"
   ]
  },
  {
   "cell_type": "code",
   "execution_count": 12,
   "metadata": {
    "tags": []
   },
   "outputs": [
    {
     "output_type": "stream",
     "name": "stdout",
     "text": "Descrição DataFrame df_enem2018_completo\n\nDescrição Idade\n+-------+------------------+\n|summary|          NU_IDADE|\n+-------+------------------+\n|  count|           5513650|\n|   mean|22.372219854361447|\n| stddev| 7.594597160609549|\n|    min|                10|\n|    max|                98|\n+-------+------------------+\n\n2020-09-02 18:01:36.151275.\n\nDescrição Nota da prova de Ciências da Natureza\n+-------+-----------------+\n|summary|       NU_NOTA_CN|\n+-------+-----------------+\n|  count|          3905099|\n|   mean|493.6832652129926|\n| stddev|  74.165826188305|\n|    min|              0.0|\n|    max|            869.6|\n+-------+-----------------+\n\n2020-09-02 18:01:47.492982.\n\nDescrição Nota da prova de Ciências Humanas\n+-------+-----------------+\n|summary|       NU_NOTA_CH|\n+-------+-----------------+\n|  count|          4148264|\n|   mean|568.0977346186262|\n| stddev|81.41996050791391|\n|    min|              0.0|\n|    max|            850.4|\n+-------+-----------------+\n\n2020-09-02 18:01:58.758456.\n\nDescrição Nota da prova de Linguagens e Códigos\n+-------+-----------------+\n|summary|       NU_NOTA_LC|\n+-------+-----------------+\n|  count|          4148264|\n|   mean|526.4537585119939|\n| stddev|73.49787440921446|\n|    min|              0.0|\n|    max|            816.9|\n+-------+-----------------+\n\n2020-09-02 18:02:10.173245.\n\nDescrição Nota da prova de Matemática\n+-------+------------------+\n|summary|        NU_NOTA_MT|\n+-------+------------------+\n|  count|           3905099|\n|   mean| 535.4055659280325|\n| stddev|103.15124301720219|\n|    min|               0.0|\n|    max|             996.1|\n+-------+------------------+\n\n2020-09-02 18:02:22.758583.\n\nDescrição Nota da prova de redação\n+-------+------------------+\n|summary|   NU_NOTA_REDACAO|\n+-------+------------------+\n|  count|           4148264|\n|   mean|508.68055167173543|\n| stddev| 187.4964873716687|\n|    min|                 0|\n|    max|              1000|\n+-------+------------------+\n\n2020-09-02 18:02:35.718922.\n"
    }
   ],
   "source": [
    "# Descrição Dataframe df_enem2018_completo.\n",
    "\n",
    "print('Descrição DataFrame df_enem2018_completo')\n",
    "print('')\n",
    "\n",
    "print('Descrição Idade')\n",
    "df_enem2018_completo.describe('NU_IDADE').show()\n",
    "print(f'{datetime.now()}.')\n",
    "print('')\n",
    "\n",
    "print('Descrição Nota da prova de Ciências da Natureza')\n",
    "df_enem2018_completo.describe('NU_NOTA_CN').show()\n",
    "print(f'{datetime.now()}.')\n",
    "print('')\n",
    "\n",
    "print('Descrição Nota da prova de Ciências Humanas')\n",
    "df_enem2018_completo.describe('NU_NOTA_CH').show()\n",
    "print(f'{datetime.now()}.')\n",
    "print('')\n",
    "\n",
    "print('Descrição Nota da prova de Linguagens e Códigos')\n",
    "df_enem2018_completo.describe('NU_NOTA_LC').show()\n",
    "print(f'{datetime.now()}.')\n",
    "print('')\n",
    "\n",
    "print('Descrição Nota da prova de Matemática')\n",
    "df_enem2018_completo.describe('NU_NOTA_MT').show()\n",
    "print(f'{datetime.now()}.')\n",
    "print('')\n",
    "\n",
    "print('Descrição Nota da prova de redação')\n",
    "df_enem2018_completo.describe('NU_NOTA_REDACAO').show()\n",
    "print(f'{datetime.now()}.')"
   ]
  },
  {
   "cell_type": "code",
   "execution_count": 13,
   "metadata": {
    "tags": []
   },
   "outputs": [
    {
     "output_type": "stream",
     "name": "stdout",
     "text": "Descrição DataFrame df_enem2019_completo\n\nDescrição Idade\n+-------+-----------------+\n|summary|         NU_IDADE|\n+-------+-----------------+\n|  count|          5095270|\n|   mean|22.08743069552742|\n| stddev|7.454970482110064|\n|    min|                1|\n|    max|               94|\n+-------+-----------------+\n\n2020-09-02 18:02:49.820497.\n\nDescrição Nota da prova de Ciências da Natureza\n+-------+------------------+\n|summary|        NU_NOTA_CN|\n+-------+------------------+\n|  count|           3710433|\n|   mean|477.82408735045146|\n| stddev| 76.09774469638398|\n|    min|               0.0|\n|    max|             860.9|\n+-------+------------------+\n\n2020-09-02 18:02:59.914500.\n\nDescrição Nota da prova de Ciências Humanas\n+-------+-----------------+\n|summary|       NU_NOTA_CH|\n+-------+-----------------+\n|  count|          3923145|\n|   mean|507.2486632280978|\n| stddev| 82.4116343330404|\n|    min|              0.0|\n|    max|            835.1|\n+-------+-----------------+\n\n2020-09-02 18:03:10.318614.\n\nDescrição Nota da prova de Linguagens e Códigos\n+-------+-----------------+\n|summary|       NU_NOTA_LC|\n+-------+-----------------+\n|  count|          3923145|\n|   mean|520.5176577210385|\n| stddev|64.15065496536891|\n|    min|              0.0|\n|    max|            801.7|\n+-------+-----------------+\n\n2020-09-02 18:03:20.290668.\n\nDescrição Nota da prova de Matemática\n+-------+------------------+\n|summary|        NU_NOTA_MT|\n+-------+------------------+\n|  count|           3710433|\n|   mean| 523.1241219825291|\n| stddev|109.06368552884479|\n|    min|               0.0|\n|    max|             985.5|\n+-------+------------------+\n\n2020-09-02 18:03:30.261997.\n\nDescrição Nota da prova de redação\n+-------+------------------+\n|summary|   NU_NOTA_REDACAO|\n+-------+------------------+\n|  count|           3923144|\n|   mean| 571.1883479168748|\n| stddev|188.76327214930322|\n|    min|                 0|\n|    max|              1000|\n+-------+------------------+\n\n2020-09-02 18:03:40.165596.\n"
    }
   ],
   "source": [
    "# Descrição Dataframe df_enem2019_completo.\n",
    "\n",
    "print('Descrição DataFrame df_enem2019_completo')\n",
    "print('')\n",
    "\n",
    "print('Descrição Idade')\n",
    "df_enem2019_completo.describe('NU_IDADE').show()\n",
    "print(f'{datetime.now()}.')\n",
    "print('')\n",
    "\n",
    "print('Descrição Nota da prova de Ciências da Natureza')\n",
    "df_enem2019_completo.describe('NU_NOTA_CN').show()\n",
    "print(f'{datetime.now()}.')\n",
    "print('')\n",
    "\n",
    "print('Descrição Nota da prova de Ciências Humanas')\n",
    "df_enem2019_completo.describe('NU_NOTA_CH').show()\n",
    "print(f'{datetime.now()}.')\n",
    "print('')\n",
    "\n",
    "print('Descrição Nota da prova de Linguagens e Códigos')\n",
    "df_enem2019_completo.describe('NU_NOTA_LC').show()\n",
    "print(f'{datetime.now()}.')\n",
    "print('')\n",
    "\n",
    "print('Descrição Nota da prova de Matemática')\n",
    "df_enem2019_completo.describe('NU_NOTA_MT').show()\n",
    "print(f'{datetime.now()}.')\n",
    "print('')\n",
    "\n",
    "print('Descrição Nota da prova de redação')\n",
    "df_enem2019_completo.describe('NU_NOTA_REDACAO').show()\n",
    "print(f'{datetime.now()}.')"
   ]
  },
  {
   "cell_type": "code",
   "execution_count": 14,
   "metadata": {
    "tags": []
   },
   "outputs": [
    {
     "output_type": "stream",
     "name": "stdout",
     "text": "Criação da variável columns e seleção das colunas para realização das analises exploratórias - 2020-09-02 18:03:40.192523.\n"
    }
   ],
   "source": [
    "# Criação e seleção das colunas para realização das analises exploratórias\n",
    "\n",
    "print(f'Criação da variável columns e seleção das colunas para realização das analises exploratórias - {datetime.now()}.')\n",
    "\n",
    "columns = [\n",
    "'NU_INSCRICAO', \n",
    "'NU_ANO', \n",
    "'NO_MUNICIPIO_RESIDENCIA', \n",
    "'CO_UF_RESIDENCIA', \n",
    "'SG_UF_RESIDENCIA',\n",
    "'NU_IDADE', \n",
    "'TP_SEXO', \n",
    "'TP_ESTADO_CIVIL',\n",
    "'TP_COR_RACA', \n",
    "'TP_NACIONALIDADE',\n",
    "'NO_MUNICIPIO_NASCIMENTO',\n",
    "'CO_UF_NASCIMENTO', \n",
    "'SG_UF_NASCIMENTO', \n",
    "'TP_ST_CONCLUSAO',\n",
    "'TP_ESCOLA', \n",
    "'TP_ENSINO', \n",
    "'IN_TREINEIRO', \n",
    "'CO_UF_ESC', \n",
    "'SG_UF_ESC',\n",
    "'TP_DEPENDENCIA_ADM_ESC', \n",
    "'TP_LOCALIZACAO_ESC', \n",
    "'IN_BAIXA_VISAO', \n",
    "'IN_CEGUEIRA', \n",
    "'IN_SURDEZ',\n",
    "'IN_DEFICIENCIA_AUDITIVA', \n",
    "'IN_SURDO_CEGUEIRA',\n",
    "'IN_DEFICIENCIA_FISICA', \n",
    "'IN_DEFICIENCIA_MENTAL',\n",
    "'IN_DEFICIT_ATENCAO', \n",
    "'IN_DISLEXIA', \n",
    "'IN_DISCALCULIA', \n",
    "'IN_AUTISMO', \n",
    "'IN_VISAO_MONOCULAR',\n",
    "'IN_OUTRA_DEF', \n",
    "'IN_GESTANTE', \n",
    "'IN_LACTANTE',\n",
    "'IN_IDOSO', \n",
    "'IN_ESTUDA_CLASSE_HOSPITALAR', \n",
    "'IN_SEM_RECURSO', \n",
    "'IN_BRAILLE', \n",
    "'IN_AMPLIADA_24', \n",
    "'IN_AMPLIADA_18', \n",
    "'IN_LEDOR',\n",
    "'IN_ACESSO', \n",
    "'IN_TRANSCRICAO', \n",
    "'IN_LIBRAS', \n",
    "'IN_LEITURA_LABIAL',\n",
    "'IN_MESA_CADEIRA_RODAS', \n",
    "'IN_MESA_CADEIRA_SEPARADA',\n",
    "'IN_APOIO_PERNA', \n",
    "'IN_GUIA_INTERPRETE', \n",
    "'IN_COMPUTADOR',\n",
    "'IN_CADEIRA_ESPECIAL', \n",
    "'IN_CADEIRA_CANHOTO',\n",
    "'IN_CADEIRA_ACOLCHOADA', \n",
    "'IN_PROVA_DEITADO', \n",
    "'IN_MOBILIARIO_OBESO',\n",
    "'IN_LAMINA_OVERLAY', \n",
    "'IN_PROTETOR_AURICULAR', \n",
    "'IN_MEDIDOR_GLICOSE',\n",
    "'IN_MAQUINA_BRAILE', \n",
    "'IN_SOROBAN', \n",
    "'IN_MARCA_PASSO', \n",
    "'IN_SONDA',\n",
    "'IN_MEDICAMENTOS', \n",
    "'IN_SALA_INDIVIDUAL', \n",
    "'IN_SALA_ESPECIAL',\n",
    "'IN_SALA_ACOMPANHANTE', \n",
    "'IN_MOBILIARIO_ESPECIFICO',\n",
    "'IN_NOME_SOCIAL',\n",
    "'NO_MUNICIPIO_PROVA', \n",
    "'CO_UF_PROVA', \n",
    "'SG_UF_PROVA',\n",
    "'TP_PRESENCA_CN', \n",
    "'TP_PRESENCA_CH', \n",
    "'TP_PRESENCA_LC',\n",
    "'TP_PRESENCA_MT', \n",
    "'NU_NOTA_CN', \n",
    "'NU_NOTA_CH', \n",
    "'NU_NOTA_LC',\n",
    "'NU_NOTA_MT', \n",
    "'TP_LINGUA',\n",
    "'TP_STATUS_REDACAO', \n",
    "'NU_NOTA_COMP1',\n",
    "'NU_NOTA_COMP2', \n",
    "'NU_NOTA_COMP3', \n",
    "'NU_NOTA_COMP4', \n",
    "'NU_NOTA_COMP5',\n",
    "'NU_NOTA_REDACAO', \n",
    "'Q001', \n",
    "'Q002', \n",
    "'Q005', \n",
    "'Q006',\n",
    "'Q022',\n",
    "'Q024', \n",
    "'Q025'\n",
    "]\n"
   ]
  },
  {
   "cell_type": "code",
   "execution_count": 15,
   "metadata": {
    "tags": []
   },
   "outputs": [
    {
     "output_type": "stream",
     "name": "stdout",
     "text": "Criação Dataframes Iniciado - 2020-09-02 18:03:40.225437.\n\n\nCriação Dataframe do Enem 2015 iniciada - 2020-09-02 18:03:40.225437.\nDataframe df_enem2015 criado com sucesso - 2020-09-02 18:03:40.490726.\n\n\nCriação Dataframe do Enem 2016 iniciada - 2020-09-02 18:03:40.491724.\nDataframe df_enem2016 criado com sucesso - 2020-09-02 18:03:40.777958.\n\n\nCriação Dataframe do Enem 2017 iniciada - 2020-09-02 18:03:40.778955.\nDataframe df_enem2017 criado com sucesso - 2020-09-02 18:03:41.091122.\n\n\nCriação Dataframe do Enem 2018 iniciada - 2020-09-02 18:03:41.092120.\nDataframe df_enem2018 criado com sucesso - 2020-09-02 18:03:41.347437.\n\n\nCriação Dataframe do Enem 2019 iniciada - 2020-09-02 18:03:41.347437.\nDataframe df_enem2019 criado com sucesso - 2020-09-02 18:03:41.562859.\n\n"
    }
   ],
   "source": [
    "# No Processo abaixo, criaremos dataframes, apenas com colunas selecionadas.\n",
    "\n",
    "print(f'Criação Dataframes Iniciado - {datetime.now()}.')\n",
    "print('')\n",
    "\n",
    "print('')\n",
    "print(f'Criação Dataframe do Enem 2015 iniciada - {datetime.now()}.')\n",
    "df_enem2015 = df_enem2015_completo.select(columns)\n",
    "print(f'Dataframe df_enem2015 criado com sucesso - {datetime.now()}.')\n",
    "print('')\n",
    "\n",
    "print('')\n",
    "print(f'Criação Dataframe do Enem 2016 iniciada - {datetime.now()}.')\n",
    "df_enem2016 = df_enem2016_completo.select(columns)\n",
    "print(f'Dataframe df_enem2016 criado com sucesso - {datetime.now()}.')\n",
    "print('')\n",
    "\n",
    "print('')\n",
    "print(f'Criação Dataframe do Enem 2017 iniciada - {datetime.now()}.')\n",
    "df_enem2017 = df_enem2017_completo.select(columns)\n",
    "print(f'Dataframe df_enem2017 criado com sucesso - {datetime.now()}.')\n",
    "print('')\n",
    "\n",
    "print('')\n",
    "print(f'Criação Dataframe do Enem 2018 iniciada - {datetime.now()}.')\n",
    "df_enem2018 = df_enem2018_completo.select(columns)\n",
    "print(f'Dataframe df_enem2018 criado com sucesso - {datetime.now()}.')\n",
    "print('')\n",
    "\n",
    "print('')\n",
    "print(f'Criação Dataframe do Enem 2019 iniciada - {datetime.now()}.')\n",
    "df_enem2019 = df_enem2019_completo.select(columns)\n",
    "print(f'Dataframe df_enem2019 criado com sucesso - {datetime.now()}.')\n",
    "print('')\n"
   ]
  },
  {
   "cell_type": "code",
   "execution_count": 16,
   "metadata": {
    "tags": []
   },
   "outputs": [
    {
     "output_type": "stream",
     "name": "stdout",
     "text": "Criação Dataframe do df_enem iniciada - 2020-09-02 18:03:41.590783.\nDataframe df_enem criado com sucesso - 2020-09-02 18:03:41.656607.\n"
    }
   ],
   "source": [
    "# Criação de um dataframe uníco, com a união de todos os dataframes criados. \n",
    "\n",
    "print(f'Criação Dataframe do df_enem iniciada - {datetime.now()}.')\n",
    "\n",
    "df_enem = df_enem2015.unionAll(df_enem2016).unionAll(df_enem2017).unionAll(df_enem2018).unionAll(df_enem2019)\n",
    "\n",
    "print(f'Dataframe df_enem criado com sucesso - {datetime.now()}.')"
   ]
  },
  {
   "cell_type": "code",
   "execution_count": 17,
   "metadata": {
    "tags": []
   },
   "outputs": [
    {
     "output_type": "stream",
     "name": "stdout",
     "text": "Quantdade de Registros Dataframe df_enem - 2020-09-02 18:03:41.681543.\n"
    },
    {
     "output_type": "execute_result",
     "data": {
      "text/plain": "33714152"
     },
     "metadata": {},
     "execution_count": 17
    }
   ],
   "source": [
    "# Total de linhas do dataframe df_enem\n",
    "\n",
    "print(f'Quantdade de Registros Dataframe df_enem - {datetime.now()}.')\n",
    "\n",
    "df_enem.count()"
   ]
  },
  {
   "cell_type": "code",
   "execution_count": 18,
   "metadata": {
    "tags": []
   },
   "outputs": [
    {
     "output_type": "stream",
     "name": "stdout",
     "text": "Apresentação das colunas do dataframe df_enem - 2020-09-02 18:05:19.975336.\n"
    },
    {
     "output_type": "execute_result",
     "data": {
      "text/plain": "['NU_INSCRICAO',\n 'NU_ANO',\n 'NO_MUNICIPIO_RESIDENCIA',\n 'CO_UF_RESIDENCIA',\n 'SG_UF_RESIDENCIA',\n 'NU_IDADE',\n 'TP_SEXO',\n 'TP_ESTADO_CIVIL',\n 'TP_COR_RACA',\n 'TP_NACIONALIDADE',\n 'NO_MUNICIPIO_NASCIMENTO',\n 'CO_UF_NASCIMENTO',\n 'SG_UF_NASCIMENTO',\n 'TP_ST_CONCLUSAO',\n 'TP_ESCOLA',\n 'TP_ENSINO',\n 'IN_TREINEIRO',\n 'CO_UF_ESC',\n 'SG_UF_ESC',\n 'TP_DEPENDENCIA_ADM_ESC',\n 'TP_LOCALIZACAO_ESC',\n 'IN_BAIXA_VISAO',\n 'IN_CEGUEIRA',\n 'IN_SURDEZ',\n 'IN_DEFICIENCIA_AUDITIVA',\n 'IN_SURDO_CEGUEIRA',\n 'IN_DEFICIENCIA_FISICA',\n 'IN_DEFICIENCIA_MENTAL',\n 'IN_DEFICIT_ATENCAO',\n 'IN_DISLEXIA',\n 'IN_DISCALCULIA',\n 'IN_AUTISMO',\n 'IN_VISAO_MONOCULAR',\n 'IN_OUTRA_DEF',\n 'IN_GESTANTE',\n 'IN_LACTANTE',\n 'IN_IDOSO',\n 'IN_ESTUDA_CLASSE_HOSPITALAR',\n 'IN_SEM_RECURSO',\n 'IN_BRAILLE',\n 'IN_AMPLIADA_24',\n 'IN_AMPLIADA_18',\n 'IN_LEDOR',\n 'IN_ACESSO',\n 'IN_TRANSCRICAO',\n 'IN_LIBRAS',\n 'IN_LEITURA_LABIAL',\n 'IN_MESA_CADEIRA_RODAS',\n 'IN_MESA_CADEIRA_SEPARADA',\n 'IN_APOIO_PERNA',\n 'IN_GUIA_INTERPRETE',\n 'IN_COMPUTADOR',\n 'IN_CADEIRA_ESPECIAL',\n 'IN_CADEIRA_CANHOTO',\n 'IN_CADEIRA_ACOLCHOADA',\n 'IN_PROVA_DEITADO',\n 'IN_MOBILIARIO_OBESO',\n 'IN_LAMINA_OVERLAY',\n 'IN_PROTETOR_AURICULAR',\n 'IN_MEDIDOR_GLICOSE',\n 'IN_MAQUINA_BRAILE',\n 'IN_SOROBAN',\n 'IN_MARCA_PASSO',\n 'IN_SONDA',\n 'IN_MEDICAMENTOS',\n 'IN_SALA_INDIVIDUAL',\n 'IN_SALA_ESPECIAL',\n 'IN_SALA_ACOMPANHANTE',\n 'IN_MOBILIARIO_ESPECIFICO',\n 'IN_NOME_SOCIAL',\n 'NO_MUNICIPIO_PROVA',\n 'CO_UF_PROVA',\n 'SG_UF_PROVA',\n 'TP_PRESENCA_CN',\n 'TP_PRESENCA_CH',\n 'TP_PRESENCA_LC',\n 'TP_PRESENCA_MT',\n 'NU_NOTA_CN',\n 'NU_NOTA_CH',\n 'NU_NOTA_LC',\n 'NU_NOTA_MT',\n 'TP_LINGUA',\n 'TP_STATUS_REDACAO',\n 'NU_NOTA_COMP1',\n 'NU_NOTA_COMP2',\n 'NU_NOTA_COMP3',\n 'NU_NOTA_COMP4',\n 'NU_NOTA_COMP5',\n 'NU_NOTA_REDACAO',\n 'Q001',\n 'Q002',\n 'Q005',\n 'Q006',\n 'Q022',\n 'Q024',\n 'Q025']"
     },
     "metadata": {},
     "execution_count": 18
    }
   ],
   "source": [
    "# Apresentação das colunas do dataframe df_enem.\n",
    "\n",
    "print(f'Apresentação das colunas do dataframe df_enem - {datetime.now()}.')\n",
    "\n",
    "df_enem.columns[:]"
   ]
  },
  {
   "cell_type": "code",
   "execution_count": 19,
   "metadata": {
    "tags": []
   },
   "outputs": [
    {
     "output_type": "stream",
     "name": "stdout",
     "text": "Apresentação da estutura do dataframe df_enem - 2020-09-02 18:05:20.011241.\nroot\n |-- NU_INSCRICAO: long (nullable = true)\n |-- NU_ANO: integer (nullable = true)\n |-- NO_MUNICIPIO_RESIDENCIA: string (nullable = true)\n |-- CO_UF_RESIDENCIA: integer (nullable = true)\n |-- SG_UF_RESIDENCIA: string (nullable = true)\n |-- NU_IDADE: integer (nullable = true)\n |-- TP_SEXO: string (nullable = true)\n |-- TP_ESTADO_CIVIL: integer (nullable = true)\n |-- TP_COR_RACA: integer (nullable = true)\n |-- TP_NACIONALIDADE: integer (nullable = true)\n |-- NO_MUNICIPIO_NASCIMENTO: string (nullable = true)\n |-- CO_UF_NASCIMENTO: integer (nullable = true)\n |-- SG_UF_NASCIMENTO: string (nullable = true)\n |-- TP_ST_CONCLUSAO: integer (nullable = true)\n |-- TP_ESCOLA: integer (nullable = true)\n |-- TP_ENSINO: integer (nullable = true)\n |-- IN_TREINEIRO: integer (nullable = true)\n |-- CO_UF_ESC: integer (nullable = true)\n |-- SG_UF_ESC: string (nullable = true)\n |-- TP_DEPENDENCIA_ADM_ESC: integer (nullable = true)\n |-- TP_LOCALIZACAO_ESC: integer (nullable = true)\n |-- IN_BAIXA_VISAO: integer (nullable = true)\n |-- IN_CEGUEIRA: integer (nullable = true)\n |-- IN_SURDEZ: integer (nullable = true)\n |-- IN_DEFICIENCIA_AUDITIVA: integer (nullable = true)\n |-- IN_SURDO_CEGUEIRA: integer (nullable = true)\n |-- IN_DEFICIENCIA_FISICA: integer (nullable = true)\n |-- IN_DEFICIENCIA_MENTAL: integer (nullable = true)\n |-- IN_DEFICIT_ATENCAO: integer (nullable = true)\n |-- IN_DISLEXIA: integer (nullable = true)\n |-- IN_DISCALCULIA: integer (nullable = true)\n |-- IN_AUTISMO: integer (nullable = true)\n |-- IN_VISAO_MONOCULAR: integer (nullable = true)\n |-- IN_OUTRA_DEF: integer (nullable = true)\n |-- IN_GESTANTE: integer (nullable = true)\n |-- IN_LACTANTE: integer (nullable = true)\n |-- IN_IDOSO: integer (nullable = true)\n |-- IN_ESTUDA_CLASSE_HOSPITALAR: integer (nullable = true)\n |-- IN_SEM_RECURSO: integer (nullable = true)\n |-- IN_BRAILLE: integer (nullable = true)\n |-- IN_AMPLIADA_24: integer (nullable = true)\n |-- IN_AMPLIADA_18: integer (nullable = true)\n |-- IN_LEDOR: integer (nullable = true)\n |-- IN_ACESSO: integer (nullable = true)\n |-- IN_TRANSCRICAO: integer (nullable = true)\n |-- IN_LIBRAS: integer (nullable = true)\n |-- IN_LEITURA_LABIAL: integer (nullable = true)\n |-- IN_MESA_CADEIRA_RODAS: integer (nullable = true)\n |-- IN_MESA_CADEIRA_SEPARADA: integer (nullable = true)\n |-- IN_APOIO_PERNA: integer (nullable = true)\n |-- IN_GUIA_INTERPRETE: integer (nullable = true)\n |-- IN_COMPUTADOR: integer (nullable = true)\n |-- IN_CADEIRA_ESPECIAL: integer (nullable = true)\n |-- IN_CADEIRA_CANHOTO: integer (nullable = true)\n |-- IN_CADEIRA_ACOLCHOADA: integer (nullable = true)\n |-- IN_PROVA_DEITADO: integer (nullable = true)\n |-- IN_MOBILIARIO_OBESO: integer (nullable = true)\n |-- IN_LAMINA_OVERLAY: integer (nullable = true)\n |-- IN_PROTETOR_AURICULAR: integer (nullable = true)\n |-- IN_MEDIDOR_GLICOSE: integer (nullable = true)\n |-- IN_MAQUINA_BRAILE: integer (nullable = true)\n |-- IN_SOROBAN: integer (nullable = true)\n |-- IN_MARCA_PASSO: integer (nullable = true)\n |-- IN_SONDA: integer (nullable = true)\n |-- IN_MEDICAMENTOS: integer (nullable = true)\n |-- IN_SALA_INDIVIDUAL: integer (nullable = true)\n |-- IN_SALA_ESPECIAL: integer (nullable = true)\n |-- IN_SALA_ACOMPANHANTE: integer (nullable = true)\n |-- IN_MOBILIARIO_ESPECIFICO: integer (nullable = true)\n |-- IN_NOME_SOCIAL: integer (nullable = true)\n |-- NO_MUNICIPIO_PROVA: string (nullable = true)\n |-- CO_UF_PROVA: integer (nullable = true)\n |-- SG_UF_PROVA: string (nullable = true)\n |-- TP_PRESENCA_CN: integer (nullable = true)\n |-- TP_PRESENCA_CH: integer (nullable = true)\n |-- TP_PRESENCA_LC: integer (nullable = true)\n |-- TP_PRESENCA_MT: integer (nullable = true)\n |-- NU_NOTA_CN: double (nullable = true)\n |-- NU_NOTA_CH: double (nullable = true)\n |-- NU_NOTA_LC: double (nullable = true)\n |-- NU_NOTA_MT: double (nullable = true)\n |-- TP_LINGUA: integer (nullable = true)\n |-- TP_STATUS_REDACAO: integer (nullable = true)\n |-- NU_NOTA_COMP1: integer (nullable = true)\n |-- NU_NOTA_COMP2: integer (nullable = true)\n |-- NU_NOTA_COMP3: integer (nullable = true)\n |-- NU_NOTA_COMP4: integer (nullable = true)\n |-- NU_NOTA_COMP5: integer (nullable = true)\n |-- NU_NOTA_REDACAO: integer (nullable = true)\n |-- Q001: string (nullable = true)\n |-- Q002: string (nullable = true)\n |-- Q005: integer (nullable = true)\n |-- Q006: string (nullable = true)\n |-- Q022: string (nullable = true)\n |-- Q024: string (nullable = true)\n |-- Q025: string (nullable = true)\n\n"
    }
   ],
   "source": [
    "# Apresentação da estutura do dataframe df_enem\n",
    "\n",
    "print(f'Apresentação da estutura do dataframe df_enem - {datetime.now()}.')\n",
    "\n",
    "df_enem.printSchema()"
   ]
  },
  {
   "cell_type": "code",
   "execution_count": 20,
   "metadata": {
    "tags": []
   },
   "outputs": [
    {
     "output_type": "stream",
     "name": "stdout",
     "text": "Descrição DataFrame df_enem (Dataframe com os anos 2015, 2016, 2017, 2018 e 2019) - 2020-09-02 18:05:20.029222.\n\nDescrição Idade\n+-------+------------------+\n|summary|          NU_IDADE|\n+-------+------------------+\n|  count|          33713777|\n|   mean|22.759218345663257|\n| stddev| 7.788652341876025|\n|    min|                 1|\n|    max|                98|\n+-------+------------------+\n\n2020-09-02 18:06:50.088502.\n\nDescrição Nota da prova de Ciências da Natureza\n+-------+-----------------+\n|summary|       NU_NOTA_CN|\n+-------+-----------------+\n|  count|         23807309|\n|   mean|486.8124319678461|\n| stddev|74.22313690738514|\n|    min|              0.0|\n|    max|            885.6|\n+-------+-----------------+\n\n2020-09-02 18:08:22.622362.\n\nDescrição Nota da prova de Ciências Humanas\n+-------+-----------------+\n|summary|       NU_NOTA_CH|\n+-------+-----------------+\n|  count|         24527054|\n|   mean|538.4331498189712|\n| stddev|80.97454950674937|\n|    min|              0.0|\n|    max|            868.3|\n+-------+-----------------+\n\n2020-09-02 18:09:56.266102.\n\nDescrição Nota da prova de Linguagens e Códigos\n+-------+-----------------+\n|summary|       NU_NOTA_LC|\n+-------+-----------------+\n|  count|         24243348|\n|   mean|516.1323208576638|\n| stddev| 69.8972338325045|\n|    min|              0.0|\n|    max|            825.8|\n+-------+-----------------+\n\n2020-09-02 18:11:27.158858.\n\nDescrição Nota da prova de Matemática\n+-------+------------------+\n|summary|        NU_NOTA_MT|\n+-------+------------------+\n|  count|          23523603|\n|   mean| 502.9313042946695|\n| stddev|108.38833974499668|\n|    min|               0.0|\n|    max|            1008.3|\n+-------+------------------+\n\n2020-09-02 18:12:58.356476.\n\nDescrição Nota da prova de redação\n+-------+------------------+\n|summary|   NU_NOTA_REDACAO|\n+-------+------------------+\n|  count|          26362543|\n|   mean| 489.8440378456661|\n| stddev|218.83999113614607|\n|    min|                 0|\n|    max|              1000|\n+-------+------------------+\n\n2020-09-02 18:14:34.432788.\n"
    }
   ],
   "source": [
    "# Descrição Dataframe df_enem.\n",
    "\n",
    "print(f'Descrição DataFrame df_enem (Dataframe com os anos 2015, 2016, 2017, 2018 e 2019) - {datetime.now()}.')\n",
    "print('')\n",
    "\n",
    "print('Descrição Idade')\n",
    "df_enem.describe('NU_IDADE').show()\n",
    "print(f'{datetime.now()}.')\n",
    "print('')\n",
    "\n",
    "print('Descrição Nota da prova de Ciências da Natureza')\n",
    "df_enem.describe('NU_NOTA_CN').show()\n",
    "print(f'{datetime.now()}.')\n",
    "print('')\n",
    "\n",
    "print('Descrição Nota da prova de Ciências Humanas')\n",
    "df_enem.describe('NU_NOTA_CH').show()\n",
    "print(f'{datetime.now()}.')\n",
    "print('')\n",
    "\n",
    "print('Descrição Nota da prova de Linguagens e Códigos')\n",
    "df_enem.describe('NU_NOTA_LC').show()\n",
    "print(f'{datetime.now()}.')\n",
    "print('')\n",
    "\n",
    "print('Descrição Nota da prova de Matemática')\n",
    "df_enem.describe('NU_NOTA_MT').show()\n",
    "print(f'{datetime.now()}.')\n",
    "print('')\n",
    "\n",
    "print('Descrição Nota da prova de redação')\n",
    "df_enem.describe('NU_NOTA_REDACAO').show()\n",
    "print(f'{datetime.now()}.')"
   ]
  },
  {
   "cell_type": "code",
   "execution_count": 21,
   "metadata": {
    "tags": []
   },
   "outputs": [
    {
     "output_type": "stream",
     "name": "stdout",
     "text": "Apresentação do processo de criação de uma tabela temporária para utilização do SQL - 2020-09-02 18:14:34.454728.\n+------------+\n|NU_INSCRICAO|\n+------------+\n|150000000376|\n|150000003053|\n|150000001161|\n|150000001335|\n|150000001219|\n|150000002884|\n|150000002510|\n|150000000658|\n|150000000434|\n|150000000216|\n|150000000274|\n|150000000217|\n|150000000164|\n|150000000165|\n|150000000218|\n|150000000166|\n|150000000219|\n|150000000275|\n|150000000220|\n|150000000167|\n+------------+\nonly showing top 20 rows\n\n2020-09-02 18:14:35.307447.\n"
    }
   ],
   "source": [
    "# Criar tabela temporaria e usar sql para consulta\n",
    "\n",
    "print(f'Apresentação do processo de criação de uma tabela temporária para utilização do SQL - {datetime.now()}.')\n",
    "\n",
    "df_enem.createOrReplaceTempView('enemtb')\n",
    "teste = sqlContext.sql('SELECT NU_INSCRICAO FROM enemtb').show()\n",
    "\n",
    "print(f'{datetime.now()}.')"
   ]
  },
  {
   "cell_type": "code",
   "execution_count": 22,
   "metadata": {
    "tags": []
   },
   "outputs": [
    {
     "output_type": "stream",
     "name": "stdout",
     "text": "Criação da coluna SEXO - 2020-09-02 18:14:35.334374.\nCriação da coluna com sucesso - 2020-09-02 18:14:35.415159.\n"
    }
   ],
   "source": [
    "# Criação das colunas de classificação do dataframe df_enem_analise. \n",
    "\n",
    "print(f'Criação da coluna SEXO - {datetime.now()}.')\n",
    "\n",
    "df_enem_sexo = df_enem.withColumn('SEXO', expr(\"case when TP_SEXO = 'M' then 'Masculino' \" + \"when TP_SEXO = 'F' then 'Feminino' \" + \"else '' end\"))\n",
    "\n",
    "print(f'Criação da coluna com sucesso - {datetime.now()}.')"
   ]
  },
  {
   "cell_type": "code",
   "execution_count": 23,
   "metadata": {
    "tags": []
   },
   "outputs": [
    {
     "output_type": "stream",
     "name": "stdout",
     "text": "Criação da coluna ESTADO_CIVIL - 2020-09-02 18:14:35.444086.\nCriação da coluna com sucesso - 2020-09-02 18:14:35.483974.\n"
    }
   ],
   "source": [
    "print(f'Criação da coluna ESTADO_CIVIL - {datetime.now()}.')\n",
    "\n",
    "df_enem_estado_civil = df_enem_sexo.withColumn('ESTADO_CIVIL', expr(\"case when TP_ESTADO_CIVIL = 0 then 'Solteiro' \" + \"when TP_ESTADO_CIVIL = 1 then 'Casado(a)/Mora com companheiro(a)' \" + \"when TP_ESTADO_CIVIL = 2 then 'Divorciado(a)/Desquitado(a)/Separado(a)' \" + \"when TP_ESTADO_CIVIL = 3 then 'Viúvo(a)' \" + \"else '' end\"))\n",
    "\n",
    "print(f'Criação da coluna com sucesso - {datetime.now()}.')"
   ]
  },
  {
   "cell_type": "code",
   "execution_count": 24,
   "metadata": {
    "tags": []
   },
   "outputs": [
    {
     "output_type": "stream",
     "name": "stdout",
     "text": "Criação da coluna RACA - 2020-09-02 18:14:35.507911.\nCriação da coluna com sucesso - 2020-09-02 18:14:35.546807.\n"
    }
   ],
   "source": [
    "print(f'Criação da coluna RACA - {datetime.now()}.')\n",
    "\n",
    "df_enem_raca = df_enem_estado_civil.withColumn('RACA', expr(\"case when TP_COR_RACA = 0 then 'Não declarado' \" + \"when TP_COR_RACA = 1 then 'Branca' \" + \"when TP_COR_RACA = 2 then 'Preta' \" + \"when TP_COR_RACA = 3 then 'Parda' \" + \"when TP_COR_RACA = 4 then 'Amarela' \" + \"when TP_COR_RACA = 5 then 'Indígena ' \" + \"else '' end\"))\n",
    "\n",
    "print(f'Criação da coluna com sucesso - {datetime.now()}.')"
   ]
  },
  {
   "cell_type": "code",
   "execution_count": 25,
   "metadata": {
    "tags": []
   },
   "outputs": [
    {
     "output_type": "stream",
     "name": "stdout",
     "text": "Criação da coluna NACIONALIDADE - 2020-09-02 18:14:35.569745.\nCriação da coluna com sucesso - 2020-09-02 18:14:35.607643.\n"
    }
   ],
   "source": [
    "print(f'Criação da coluna NACIONALIDADE - {datetime.now()}.')\n",
    "\n",
    "df_enem_nacionalidade = df_enem_raca.withColumn('NACIONALIDADE', expr(\"case when TP_NACIONALIDADE = 0 then 'Não informado' \" + \"when TP_NACIONALIDADE = 1 then 'Brasileiro(a)' \" + \"when TP_NACIONALIDADE = 2 then 'Brasileiro(a) Naturalizado(a)' \" + \"when TP_NACIONALIDADE = 3 then 'Estrangeiro(a)' \" + \"when TP_NACIONALIDADE = 4 then 'Brasileiro(a) Nato(a), nascido(a) no exterior' \" + \"else '' end\"))\n",
    "\n",
    "print(f'Criação da coluna com sucesso - {datetime.now()}.')"
   ]
  },
  {
   "cell_type": "code",
   "execution_count": 26,
   "metadata": {
    "tags": []
   },
   "outputs": [
    {
     "output_type": "stream",
     "name": "stdout",
     "text": "Criação da coluna SITUACAO_CONCLUSAO_ENSINO_MEDIO - 2020-09-02 18:14:35.634572.\nCriação da coluna com sucesso - 2020-09-02 18:14:35.672470.\n"
    }
   ],
   "source": [
    "print(f'Criação da coluna SITUACAO_CONCLUSAO_ENSINO_MEDIO - {datetime.now()}.')\n",
    "\n",
    "df_enem_st_conclusao = df_enem_nacionalidade.withColumn('SITUACAO_CONCLUSAO_ENSINO_MEDIO', expr(\"case when TP_ST_CONCLUSAO = 1 then 'Já concluí o Ensino Médio' \" + \"when TP_ST_CONCLUSAO = 2 then 'Estou cursando e concluirei o Ensino Médio no ano' \" + \"when TP_ST_CONCLUSAO = 3 then 'Estou cursando e concluirei o Ensino Médio após este ano' \" + \"when TP_ST_CONCLUSAO = 4 then 'Não concluí e não estou cursando o Ensino Médio' \" + \"else '' end\"))\n",
    "\n",
    "print(f'Criação da coluna com sucesso - {datetime.now()}.')"
   ]
  },
  {
   "cell_type": "code",
   "execution_count": 27,
   "metadata": {
    "tags": []
   },
   "outputs": [
    {
     "output_type": "stream",
     "name": "stdout",
     "text": "Criação da coluna TIPO_ESCOLA - 2020-09-02 18:14:35.695408.\nCriação da coluna com sucesso - 2020-09-02 18:14:35.731312.\n"
    }
   ],
   "source": [
    "print(f'Criação da coluna TIPO_ESCOLA - {datetime.now()}.')\n",
    "\n",
    "df_enem_tp_escola = df_enem_st_conclusao.withColumn('TIPO_ESCOLA', expr(\"case when TP_ESCOLA = 1 then 'Não Respondeu' \" + \"when TP_ESCOLA = 2 then 'Pública' \" + \"when TP_ESCOLA = 3 then 'Privada' \" + \"when TP_ESCOLA = 4 then 'Exterior' \" + \"else '' end\"))\n",
    "\n",
    "print(f'Criação da coluna com sucesso - {datetime.now()}.')"
   ]
  },
  {
   "cell_type": "code",
   "execution_count": 28,
   "metadata": {
    "tags": []
   },
   "outputs": [
    {
     "output_type": "stream",
     "name": "stdout",
     "text": "Criação da coluna TIPO_ENSINO - 2020-09-02 18:14:35.758241.\nCriação da coluna com sucesso - 2020-09-02 18:14:35.796140.\n"
    }
   ],
   "source": [
    "print(f'Criação da coluna TIPO_ENSINO - {datetime.now()}.')\n",
    "\n",
    "df_enem_tp_ensino = df_enem_tp_escola.withColumn('TIPO_ENSINO', expr(\"case when TP_ENSINO = 1 then 'Ensino Regular' \" + \"when TP_ENSINO = 2 then 'Educação Especial - Modalidade Substitutiva' \" + \"when TP_ENSINO = 3 then 'Educação de Jovens e Adultos' \" + \"else '' end\"))\n",
    "\n",
    "print(f'Criação da coluna com sucesso - {datetime.now()}.')"
   ]
  },
  {
   "cell_type": "code",
   "execution_count": 29,
   "metadata": {
    "tags": []
   },
   "outputs": [
    {
     "output_type": "stream",
     "name": "stdout",
     "text": "Criação da coluna TREINEIRO - 2020-09-02 18:14:35.819078.\nCriação da coluna com sucesso - 2020-09-02 18:14:35.855981.\n"
    }
   ],
   "source": [
    "print(f'Criação da coluna TREINEIRO - {datetime.now()}.')\n",
    "\n",
    "df_enem_in_treineiro = df_enem_tp_ensino.withColumn('TREINEIRO', expr(\"case when IN_TREINEIRO = 0 then 'Não' \" + \"when IN_TREINEIRO = 1 then 'Sim' \" + \"else '' end\"))\n",
    "\n",
    "print(f'Criação da coluna com sucesso - {datetime.now()}.')"
   ]
  },
  {
   "cell_type": "code",
   "execution_count": 30,
   "metadata": {
    "tags": []
   },
   "outputs": [
    {
     "output_type": "stream",
     "name": "stdout",
     "text": "Criação da coluna DEPENDENCIA_ADMINISTRATIVA_ESCOLA - 2020-09-02 18:14:35.883904.\nCriação da coluna com sucesso - 2020-09-02 18:14:35.920806.\n"
    }
   ],
   "source": [
    "print(f'Criação da coluna DEPENDENCIA_ADMINISTRATIVA_ESCOLA - {datetime.now()}.')\n",
    "\n",
    "df_enem_tp_dependencia_adm_esc = df_enem_in_treineiro.withColumn('DEPENDENCIA_ADMINISTRATIVA_ESCOLA', expr(\"case when TP_DEPENDENCIA_ADM_ESC = 1 then 'Federal' \" + \"when TP_DEPENDENCIA_ADM_ESC = 2 then 'Estadual' \" + \"when TP_DEPENDENCIA_ADM_ESC = 3 then 'Municipal' \" + \"when TP_DEPENDENCIA_ADM_ESC = 4 then 'Privada' \" + \"else '' end\"))\n",
    "\n",
    "print(f'Criação da coluna com sucesso - {datetime.now()}.')"
   ]
  },
  {
   "cell_type": "code",
   "execution_count": 31,
   "metadata": {
    "tags": []
   },
   "outputs": [
    {
     "output_type": "stream",
     "name": "stdout",
     "text": "Criação da coluna LOCALIZACAO_ESCOLA - 2020-09-02 18:14:35.946738.\nCriação da coluna com sucesso - 2020-09-02 18:14:35.984636.\n"
    }
   ],
   "source": [
    "print(f'Criação da coluna LOCALIZACAO_ESCOLA - {datetime.now()}.')\n",
    "\n",
    "df_enem_tp_localizacao_esc = df_enem_tp_dependencia_adm_esc.withColumn('LOCALIZACAO_ESCOLA', expr(\"case when TP_LOCALIZACAO_ESC = 1 then 'Urbana' \" + \"when TP_LOCALIZACAO_ESC = 2 then 'Rural' \" + \"else '' end\"))\n",
    "\n",
    "print(f'Criação da coluna com sucesso - {datetime.now()}.')"
   ]
  },
  {
   "cell_type": "code",
   "execution_count": 32,
   "metadata": {
    "tags": []
   },
   "outputs": [
    {
     "output_type": "stream",
     "name": "stdout",
     "text": "Criação da coluna BAIXA_VISAO - 2020-09-02 18:14:36.014556.\nCriação da coluna com sucesso - 2020-09-02 18:14:36.048465.\n"
    }
   ],
   "source": [
    "print(f'Criação da coluna BAIXA_VISAO - {datetime.now()}.')\n",
    "\n",
    "df_enem_in_baixa_visao = df_enem_tp_localizacao_esc.withColumn('BAIXA_VISAO', expr(\"case when IN_BAIXA_VISAO = 0 then 'Não' \" + \"when IN_BAIXA_VISAO = 1 then 'Sim' \" + \"else '' end\"))\n",
    "\n",
    "print(f'Criação da coluna com sucesso - {datetime.now()}.')"
   ]
  },
  {
   "cell_type": "code",
   "execution_count": 33,
   "metadata": {
    "tags": []
   },
   "outputs": [
    {
     "output_type": "stream",
     "name": "stdout",
     "text": "Criação da coluna CEGUEIRA - 2020-09-02 18:14:36.070406.\nCriação da coluna com sucesso - 2020-09-02 18:14:36.107308.\n"
    }
   ],
   "source": [
    "print(f'Criação da coluna CEGUEIRA - {datetime.now()}.')\n",
    "\n",
    "df_enem_in_cegueira = df_enem_in_baixa_visao.withColumn('CEGUEIRA', expr(\"case when IN_CEGUEIRA = 0 then 'Não' \" + \"when IN_CEGUEIRA = 1 then 'Sim' \" + \"else '' end\"))\n",
    "\n",
    "print(f'Criação da coluna com sucesso - {datetime.now()}.')\n"
   ]
  },
  {
   "cell_type": "code",
   "execution_count": 34,
   "metadata": {
    "tags": []
   },
   "outputs": [
    {
     "output_type": "stream",
     "name": "stdout",
     "text": "Criação da coluna SURDEZ - 2020-09-02 18:14:36.134235.\nCriação da coluna com sucesso - 2020-09-02 18:14:36.170140.\n"
    }
   ],
   "source": [
    "print(f'Criação da coluna SURDEZ - {datetime.now()}.')\n",
    "\n",
    "df_enem_in_surdez = df_enem_in_cegueira.withColumn('SURDEZ', expr(\"case when IN_SURDEZ = 0 then 'Não' \" + \"when IN_SURDEZ = 1 then 'Sim' \" + \"else '' end\"))\n",
    "\n",
    "print(f'Criação da coluna com sucesso - {datetime.now()}.')"
   ]
  },
  {
   "cell_type": "code",
   "execution_count": 35,
   "metadata": {
    "tags": []
   },
   "outputs": [
    {
     "output_type": "stream",
     "name": "stdout",
     "text": "Criação da coluna DEFICIENCIA_AUDITIVA - 2020-09-02 18:14:36.195072.\nCriação da coluna com sucesso - 2020-09-02 18:14:36.230977.\n"
    }
   ],
   "source": [
    "print(f'Criação da coluna DEFICIENCIA_AUDITIVA - {datetime.now()}.')\n",
    "\n",
    "df_enem_in_deficiencia_auditiva = df_enem_in_surdez.withColumn('DEFICIENCIA_AUDITIVA', expr(\"case when IN_DEFICIENCIA_AUDITIVA = 0 then 'Não' \" + \"when IN_DEFICIENCIA_AUDITIVA = 1 then 'Sim' \" + \"else '' end\"))\n",
    "\n",
    "print(f'Criação da coluna com sucesso - {datetime.now()}.')"
   ]
  },
  {
   "cell_type": "code",
   "execution_count": 36,
   "metadata": {
    "tags": []
   },
   "outputs": [
    {
     "output_type": "stream",
     "name": "stdout",
     "text": "Criação da coluna SURDO_CEGUEIRA - 2020-09-02 18:14:36.254913.\nCriação da coluna com sucesso - 2020-09-02 18:14:36.292812.\n"
    }
   ],
   "source": [
    "print(f'Criação da coluna SURDO_CEGUEIRA - {datetime.now()}.')\n",
    "\n",
    "df_enem_in_surdo_cegueira = df_enem_in_deficiencia_auditiva.withColumn('SURDO_CEGUEIRA', expr(\"case when IN_SURDO_CEGUEIRA = 0 then 'Não' \" + \"when IN_SURDO_CEGUEIRA = 1 then 'Sim' \" + \"else '' end\"))\n",
    "\n",
    "print(f'Criação da coluna com sucesso - {datetime.now()}.')"
   ]
  },
  {
   "cell_type": "code",
   "execution_count": 37,
   "metadata": {
    "tags": []
   },
   "outputs": [
    {
     "output_type": "stream",
     "name": "stdout",
     "text": "Criação da coluna DEFICIENCIA_FISICA - 2020-09-02 18:14:36.320737.\nCriação da coluna com sucesso - 2020-09-02 18:14:36.359633.\n"
    }
   ],
   "source": [
    "print(f'Criação da coluna DEFICIENCIA_FISICA - {datetime.now()}.')\n",
    "\n",
    "df_enem_in_deficiencia_fisica = df_enem_in_surdo_cegueira.withColumn('DEFICIENCIA_FISICA', expr(\"case when IN_DEFICIENCIA_FISICA = 0 then 'Não' \" + \"when IN_DEFICIENCIA_FISICA = 1 then 'Sim' \" + \"else '' end\"))\n",
    "\n",
    "print(f'Criação da coluna com sucesso - {datetime.now()}.')"
   ]
  },
  {
   "cell_type": "code",
   "execution_count": 38,
   "metadata": {
    "tags": []
   },
   "outputs": [
    {
     "output_type": "stream",
     "name": "stdout",
     "text": "Criação da coluna DEFICIENCIA_MENTAL - 2020-09-02 18:14:36.382572.\nCriação da coluna com sucesso - 2020-09-02 18:14:36.420470.\n"
    }
   ],
   "source": [
    "print(f'Criação da coluna DEFICIENCIA_MENTAL - {datetime.now()}.')\n",
    "\n",
    "df_enem_in_deficiencia_mental = df_enem_in_deficiencia_fisica.withColumn('DEFICIENCIA_MENTAL', expr(\"case when IN_DEFICIENCIA_MENTAL = 0 then 'Não' \" + \"when IN_DEFICIENCIA_MENTAL = 1 then 'Sim' \" + \"else '' end\"))\n",
    "\n",
    "print(f'Criação da coluna com sucesso - {datetime.now()}.')"
   ]
  },
  {
   "cell_type": "code",
   "execution_count": 39,
   "metadata": {
    "tags": []
   },
   "outputs": [
    {
     "output_type": "stream",
     "name": "stdout",
     "text": "Criação da coluna DEFICIT_ATENCAO - 2020-09-02 18:14:36.447398.\nCriação da coluna com sucesso - 2020-09-02 18:14:36.484299.\n"
    }
   ],
   "source": [
    "print(f'Criação da coluna DEFICIT_ATENCAO - {datetime.now()}.')\n",
    "\n",
    "df_enem_in_deficit_atencao = df_enem_in_deficiencia_mental.withColumn('DEFICIT_ATENCAO', expr(\"case when IN_DEFICIT_ATENCAO = 0 then 'Não' \" + \"when IN_DEFICIT_ATENCAO = 1 then 'Sim' \" + \"else '' end\"))\n",
    "\n",
    "print(f'Criação da coluna com sucesso - {datetime.now()}.')"
   ]
  },
  {
   "cell_type": "code",
   "execution_count": 40,
   "metadata": {
    "tags": []
   },
   "outputs": [
    {
     "output_type": "stream",
     "name": "stdout",
     "text": "Criação da coluna DISLEXIA - 2020-09-02 18:14:36.508235.\nCriação da coluna com sucesso - 2020-09-02 18:14:36.547134.\n"
    }
   ],
   "source": [
    "print(f'Criação da coluna DISLEXIA - {datetime.now()}.')\n",
    "\n",
    "df_enem_in_dislexia = df_enem_in_deficit_atencao.withColumn('DISLEXIA', expr(\"case when IN_DISLEXIA = 0 then 'Não' \" + \"when IN_DISLEXIA = 1 then 'Sim' \" + \"else '' end\"))\n",
    "\n",
    "print(f'Criação da coluna com sucesso - {datetime.now()}.')"
   ]
  },
  {
   "cell_type": "code",
   "execution_count": 41,
   "metadata": {
    "tags": []
   },
   "outputs": [
    {
     "output_type": "stream",
     "name": "stdout",
     "text": "Criação da coluna DISCALCULIA - 2020-09-02 18:14:36.573063.\nCriação da coluna com sucesso - 2020-09-02 18:14:36.613952.\n"
    }
   ],
   "source": [
    "print(f'Criação da coluna DISCALCULIA - {datetime.now()}.')\n",
    "\n",
    "df_enem_in_discalculia = df_enem_in_dislexia.withColumn('DISCALCULIA', expr(\"case when IN_DISCALCULIA = 0 then 'Não' \" + \"when IN_DISCALCULIA = 1 then 'Sim' \" + \"else '' end\"))\n",
    "\n",
    "print(f'Criação da coluna com sucesso - {datetime.now()}.')"
   ]
  },
  {
   "cell_type": "code",
   "execution_count": 42,
   "metadata": {
    "tags": []
   },
   "outputs": [
    {
     "output_type": "stream",
     "name": "stdout",
     "text": "Criação da coluna AUTISMO - 2020-09-02 18:14:36.646865.\nCriação da coluna com sucesso - 2020-09-02 18:14:36.684763.\n"
    }
   ],
   "source": [
    "print(f'Criação da coluna AUTISMO - {datetime.now()}.')\n",
    "\n",
    "df_enem_in_autismo = df_enem_in_discalculia.withColumn('AUTISMO', expr(\"case when IN_AUTISMO = 0 then 'Não' \" + \"when IN_AUTISMO = 1 then 'Sim' \" + \"else '' end\"))\n",
    "\n",
    "print(f'Criação da coluna com sucesso - {datetime.now()}.')"
   ]
  },
  {
   "cell_type": "code",
   "execution_count": 43,
   "metadata": {
    "tags": []
   },
   "outputs": [
    {
     "output_type": "stream",
     "name": "stdout",
     "text": "Criação da coluna VISAO_MONOCULAR - 2020-09-02 18:14:36.709697.\nCriação da coluna com sucesso - 2020-09-02 18:14:36.748592.\n"
    }
   ],
   "source": [
    "print(f'Criação da coluna VISAO_MONOCULAR - {datetime.now()}.')\n",
    "\n",
    "df_enem_in_visao_monocular = df_enem_in_autismo.withColumn('VISAO_MONOCULAR', expr(\"case when IN_VISAO_MONOCULAR = 0 then 'Não' \" + \"when IN_VISAO_MONOCULAR = 1 then 'Sim' \" + \"else '' end\"))\n",
    "\n",
    "print(f'Criação da coluna com sucesso - {datetime.now()}.')"
   ]
  },
  {
   "cell_type": "code",
   "execution_count": 44,
   "metadata": {
    "tags": []
   },
   "outputs": [
    {
     "output_type": "stream",
     "name": "stdout",
     "text": "Criação da coluna OUTRA_DEF - 2020-09-02 18:14:36.773526.\nCriação da coluna com sucesso - 2020-09-02 18:14:36.813418.\n"
    }
   ],
   "source": [
    "print(f'Criação da coluna OUTRA_DEF - {datetime.now()}.')\n",
    "\n",
    "df_enem_in_outra_def = df_enem_in_visao_monocular.withColumn('OUTRA_DEF', expr(\"case when IN_OUTRA_DEF = 0 then 'Não' \" + \"when IN_OUTRA_DEF = 1 then 'Sim' \" + \"else '' end\"))\n",
    "\n",
    "print(f'Criação da coluna com sucesso - {datetime.now()}.')"
   ]
  },
  {
   "cell_type": "code",
   "execution_count": 45,
   "metadata": {
    "tags": []
   },
   "outputs": [
    {
     "output_type": "stream",
     "name": "stdout",
     "text": "Criação da coluna GESTANTE - 2020-09-02 18:14:36.836357.\nCriação da coluna com sucesso - 2020-09-02 18:14:36.880240.\n"
    }
   ],
   "source": [
    "print(f'Criação da coluna GESTANTE - {datetime.now()}.')\n",
    "\n",
    "df_enem_in_gestante = df_enem_in_outra_def.withColumn('GESTANTE', expr(\"case when IN_GESTANTE = 0 then 'Não' \" + \"when IN_GESTANTE = 1 then 'Sim' \" + \"else '' end\"))\n",
    "\n",
    "print(f'Criação da coluna com sucesso - {datetime.now()}.')"
   ]
  },
  {
   "cell_type": "code",
   "execution_count": 46,
   "metadata": {
    "tags": []
   },
   "outputs": [
    {
     "output_type": "stream",
     "name": "stdout",
     "text": "Criação da coluna LACTANTE - 2020-09-02 18:14:36.901184.\nCriação da coluna com sucesso - 2020-09-02 18:14:36.938085.\n"
    }
   ],
   "source": [
    "print(f'Criação da coluna LACTANTE - {datetime.now()}.')\n",
    "\n",
    "df_enem_in_lactante = df_enem_in_gestante.withColumn('LACTANTE', expr(\"case when IN_LACTANTE = 0 then 'Não' \" + \"when IN_LACTANTE = 1 then 'Sim' \" + \"else '' end\"))\n",
    "\n",
    "print(f'Criação da coluna com sucesso - {datetime.now()}.')"
   ]
  },
  {
   "cell_type": "code",
   "execution_count": 47,
   "metadata": {
    "tags": []
   },
   "outputs": [
    {
     "output_type": "stream",
     "name": "stdout",
     "text": "Criação da coluna IDOSO - 2020-09-02 18:14:36.962022.\nCriação da coluna com sucesso - 2020-09-02 18:14:37.002911.\n"
    }
   ],
   "source": [
    "print(f'Criação da coluna IDOSO - {datetime.now()}.')\n",
    "\n",
    "df_enem_in_idoso = df_enem_in_lactante.withColumn('IDOSO', expr(\"case when IN_IDOSO = 0 then 'Não' \" + \"when IN_IDOSO = 1 then 'Sim' \" + \"else '' end\"))\n",
    "\n",
    "print(f'Criação da coluna com sucesso - {datetime.now()}.')"
   ]
  },
  {
   "cell_type": "code",
   "execution_count": 48,
   "metadata": {
    "tags": []
   },
   "outputs": [
    {
     "output_type": "stream",
     "name": "stdout",
     "text": "Criação da coluna ESTUDA_CLASSE_HOSPITALAR - 2020-09-02 18:14:37.027846.\nCriação da coluna com sucesso - 2020-09-02 18:14:37.064748.\n"
    }
   ],
   "source": [
    "print(f'Criação da coluna ESTUDA_CLASSE_HOSPITALAR - {datetime.now()}.')\n",
    "\n",
    "df_enem_in_estuda_classe_hospitalar = df_enem_in_idoso.withColumn('ESTUDA_CLASSE_HOSPITALAR', expr(\"case when IN_ESTUDA_CLASSE_HOSPITALAR = 0 then 'Não' \" + \"when IN_ESTUDA_CLASSE_HOSPITALAR = 1 then 'Sim' \" + \"else '' end\"))\n",
    "\n",
    "print(f'Criação da coluna com sucesso - {datetime.now()}.')"
   ]
  },
  {
   "cell_type": "code",
   "execution_count": 49,
   "metadata": {
    "tags": []
   },
   "outputs": [
    {
     "output_type": "stream",
     "name": "stdout",
     "text": "Criação da coluna SEM_RECURSO - 2020-09-02 18:14:37.085691.\nCriação da coluna com sucesso - 2020-09-02 18:14:37.119599.\n"
    }
   ],
   "source": [
    "print(f'Criação da coluna SEM_RECURSO - {datetime.now()}.')\n",
    "\n",
    "df_enem_in_sem_recurso = df_enem_in_estuda_classe_hospitalar.withColumn('SEM_RECURSO', expr(\"case when IN_SEM_RECURSO = 0 then 'Não' \" + \"when IN_SEM_RECURSO = 1 then 'Sim' \" + \"else '' end\"))\n",
    "\n",
    "print(f'Criação da coluna com sucesso - {datetime.now()}.')"
   ]
  },
  {
   "cell_type": "code",
   "execution_count": 50,
   "metadata": {
    "tags": []
   },
   "outputs": [
    {
     "output_type": "stream",
     "name": "stdout",
     "text": "Criação da coluna BRAILLE - 2020-09-02 18:14:37.146527.\nCriação da coluna com sucesso - 2020-09-02 18:14:37.179440.\n"
    }
   ],
   "source": [
    "print(f'Criação da coluna BRAILLE - {datetime.now()}.')\n",
    "\n",
    "df_enem_in_braille = df_enem_in_sem_recurso.withColumn('BRAILLE', expr(\"case when IN_BRAILLE = 0 then 'Não' \" + \"when IN_BRAILLE = 1 then 'Sim' \" + \"else '' end\"))\n",
    "\n",
    "print(f'Criação da coluna com sucesso - {datetime.now()}.')"
   ]
  },
  {
   "cell_type": "code",
   "execution_count": 51,
   "metadata": {
    "tags": []
   },
   "outputs": [
    {
     "output_type": "stream",
     "name": "stdout",
     "text": "Criação da coluna AMPLIADA_24 - 2020-09-02 18:14:37.201381.\nCriação da coluna com sucesso - 2020-09-02 18:14:37.238282.\n"
    }
   ],
   "source": [
    "print(f'Criação da coluna AMPLIADA_24 - {datetime.now()}.')\n",
    "\n",
    "df_enem_in_ampliada_24 = df_enem_in_braille.withColumn('AMPLIADA_24', expr(\"case when IN_AMPLIADA_24 = 0 then 'Não' \" + \"when IN_AMPLIADA_24 = 1 then 'Sim' \" + \"else '' end\"))\n",
    "\n",
    "print(f'Criação da coluna com sucesso - {datetime.now()}.')"
   ]
  },
  {
   "cell_type": "code",
   "execution_count": 52,
   "metadata": {
    "tags": []
   },
   "outputs": [
    {
     "output_type": "stream",
     "name": "stdout",
     "text": "Criação da coluna AMPLIADA_18 - 2020-09-02 18:14:37.260223.\nCriação da coluna com sucesso - 2020-09-02 18:14:37.293135.\n"
    }
   ],
   "source": [
    "print(f'Criação da coluna AMPLIADA_18 - {datetime.now()}.')\n",
    "\n",
    "df_enem_in_ampliada_18 = df_enem_in_ampliada_24.withColumn('AMPLIADA_18', expr(\"case when IN_AMPLIADA_18 = 0 then 'Não' \" + \"when IN_AMPLIADA_18 = 1 then 'Sim' \" + \"else '' end\"))\n",
    "\n",
    "print(f'Criação da coluna com sucesso - {datetime.now()}.')"
   ]
  },
  {
   "cell_type": "code",
   "execution_count": 53,
   "metadata": {
    "tags": []
   },
   "outputs": [
    {
     "output_type": "stream",
     "name": "stdout",
     "text": "Criação da coluna LEDOR - 2020-09-02 18:14:37.327045.\nCriação da coluna com sucesso - 2020-09-02 18:14:37.367935.\n"
    }
   ],
   "source": [
    "print(f'Criação da coluna LEDOR - {datetime.now()}.')\n",
    "\n",
    "df_enem_in_ledor = df_enem_in_ampliada_18.withColumn('LEDOR', expr(\"case when IN_LEDOR = 0 then 'Não' \" + \"when IN_LEDOR = 1 then 'Sim' \" + \"else '' end\"))\n",
    "\n",
    "print(f'Criação da coluna com sucesso - {datetime.now()}.')"
   ]
  },
  {
   "cell_type": "code",
   "execution_count": 54,
   "metadata": {
    "tags": []
   },
   "outputs": [
    {
     "output_type": "stream",
     "name": "stdout",
     "text": "Criação da coluna ACESSO - 2020-09-02 18:14:37.387882.\nCriação da coluna com sucesso - 2020-09-02 18:14:37.421791.\n"
    }
   ],
   "source": [
    "print(f'Criação da coluna ACESSO - {datetime.now()}.')\n",
    "\n",
    "df_enem_in_acesso = df_enem_in_ledor.withColumn('ACESSO', expr(\"case when IN_ACESSO = 0 then 'Não' \" + \"when IN_ACESSO = 1 then 'Sim' \" + \"else '' end\"))\n",
    "\n",
    "print(f'Criação da coluna com sucesso - {datetime.now()}.')"
   ]
  },
  {
   "cell_type": "code",
   "execution_count": 55,
   "metadata": {
    "tags": []
   },
   "outputs": [
    {
     "output_type": "stream",
     "name": "stdout",
     "text": "Criação da coluna TRANSCRICAO - 2020-09-02 18:14:37.449717.\nCriação da coluna com sucesso - 2020-09-02 18:14:37.483625.\n"
    }
   ],
   "source": [
    "print(f'Criação da coluna TRANSCRICAO - {datetime.now()}.')\n",
    "\n",
    "df_enem_in_transcricao = df_enem_in_acesso.withColumn('TRANSCRICAO', expr(\"case when IN_TRANSCRICAO = 0 then 'Não' \" + \"when IN_TRANSCRICAO = 1 then 'Sim' \" + \"else '' end\"))\n",
    "\n",
    "print(f'Criação da coluna com sucesso - {datetime.now()}.')"
   ]
  },
  {
   "cell_type": "code",
   "execution_count": 56,
   "metadata": {
    "tags": []
   },
   "outputs": [
    {
     "output_type": "stream",
     "name": "stdout",
     "text": "Criação da coluna LIBRAS - 2020-09-02 18:14:37.510554.\nCriação da coluna com sucesso - 2020-09-02 18:14:37.544462.\n"
    }
   ],
   "source": [
    "print(f'Criação da coluna LIBRAS - {datetime.now()}.')\n",
    "\n",
    "df_enem_in_libras = df_enem_in_transcricao.withColumn('LIBRAS', expr(\"case when IN_LIBRAS = 0 then 'Não' \" + \"when IN_LIBRAS = 1 then 'Sim' \" + \"else '' end\"))\n",
    "\n",
    "print(f'Criação da coluna com sucesso - {datetime.now()}.')"
   ]
  },
  {
   "cell_type": "code",
   "execution_count": 57,
   "metadata": {
    "tags": []
   },
   "outputs": [
    {
     "output_type": "stream",
     "name": "stdout",
     "text": "Criação da coluna LEITURA_LABIAL - 2020-09-02 18:14:37.559424.\nCriação da coluna com sucesso - 2020-09-02 18:14:37.593333.\n"
    }
   ],
   "source": [
    "print(f'Criação da coluna LEITURA_LABIAL - {datetime.now()}.')\n",
    "\n",
    "df_enem_in_leitura_labial = df_enem_in_libras.withColumn('LEITURA_LABIAL', expr(\"case when IN_LEITURA_LABIAL = 0 then 'Não' \" + \"when IN_LEITURA_LABIAL = 1 then 'Sim' \" + \"else '' end\"))\n",
    "\n",
    "print(f'Criação da coluna com sucesso - {datetime.now()}.')"
   ]
  },
  {
   "cell_type": "code",
   "execution_count": 58,
   "metadata": {
    "tags": []
   },
   "outputs": [
    {
     "output_type": "stream",
     "name": "stdout",
     "text": "Criação da coluna MESA_CADEIRA_RODAS - 2020-09-02 18:14:37.625247.\nCriação da coluna com sucesso - 2020-09-02 18:14:37.660154.\n"
    }
   ],
   "source": [
    "print(f'Criação da coluna MESA_CADEIRA_RODAS - {datetime.now()}.')\n",
    "\n",
    "df_enem_in_mesa_cadeira_rodas = df_enem_in_leitura_labial.withColumn('MESA_CADEIRA_RODAS', expr(\"case when IN_MESA_CADEIRA_RODAS = 0 then 'Não' \" + \"when IN_MESA_CADEIRA_RODAS = 1 then 'Sim' \" + \"else '' end\"))\n",
    "\n",
    "print(f'Criação da coluna com sucesso - {datetime.now()}.')"
   ]
  },
  {
   "cell_type": "code",
   "execution_count": 59,
   "metadata": {
    "tags": []
   },
   "outputs": [
    {
     "output_type": "stream",
     "name": "stdout",
     "text": "Criação da coluna MESA_CADEIRA_SEPARADA - 2020-09-02 18:14:37.686085.\nCriação da coluna com sucesso - 2020-09-02 18:14:37.726976.\n"
    }
   ],
   "source": [
    "print(f'Criação da coluna MESA_CADEIRA_SEPARADA - {datetime.now()}.')\n",
    "\n",
    "df_enem_in_mesa_cadeira_separada = df_enem_in_mesa_cadeira_rodas.withColumn('MESA_CADEIRA_SEPARADA', expr(\"case when IN_MESA_CADEIRA_SEPARADA = 0 then 'Não' \" + \"when IN_MESA_CADEIRA_SEPARADA = 1 then 'Sim' \" + \"else '' end\"))\n",
    "\n",
    "print(f'Criação da coluna com sucesso - {datetime.now()}.')"
   ]
  },
  {
   "cell_type": "code",
   "execution_count": 60,
   "metadata": {
    "tags": []
   },
   "outputs": [
    {
     "output_type": "stream",
     "name": "stdout",
     "text": "Criação da coluna APOIO_PERNA - 2020-09-02 18:14:37.747919.\nCriação da coluna com sucesso - 2020-09-02 18:14:37.789817.\n"
    }
   ],
   "source": [
    "print(f'Criação da coluna APOIO_PERNA - {datetime.now()}.')\n",
    "\n",
    "df_enem_in_apoio_perna = df_enem_in_mesa_cadeira_separada.withColumn('APOIO_PERNA', expr(\"case when IN_APOIO_PERNA = 0 then 'Não' \" + \"when IN_APOIO_PERNA = 1 then 'Sim' \" + \"else '' end\"))\n",
    "\n",
    "print(f'Criação da coluna com sucesso - {datetime.now()}.')"
   ]
  },
  {
   "cell_type": "code",
   "execution_count": 61,
   "metadata": {
    "tags": []
   },
   "outputs": [
    {
     "output_type": "stream",
     "name": "stdout",
     "text": "Criação da coluna GUIA_INTERPRETE - 2020-09-02 18:14:37.849649.\nCriação da coluna com sucesso - 2020-09-02 18:14:37.891535.\n"
    }
   ],
   "source": [
    "print(f'Criação da coluna GUIA_INTERPRETE - {datetime.now()}.')\n",
    "\n",
    "df_enem_in_guia_interprete = df_enem_in_apoio_perna.withColumn('GUIA_INTERPRETE', expr(\"case when IN_GUIA_INTERPRETE = 0 then 'Não' \" + \"when IN_GUIA_INTERPRETE = 1 then 'Sim' \" + \"else '' end\"))\n",
    "\n",
    "print(f'Criação da coluna com sucesso - {datetime.now()}.')"
   ]
  },
  {
   "cell_type": "code",
   "execution_count": 62,
   "metadata": {
    "tags": []
   },
   "outputs": [
    {
     "output_type": "stream",
     "name": "stdout",
     "text": "Criação da coluna COMPUTADOR - 2020-09-02 18:14:37.919460.\nCriação da coluna com sucesso - 2020-09-02 18:14:37.963344.\n"
    }
   ],
   "source": [
    "print(f'Criação da coluna COMPUTADOR - {datetime.now()}.')\n",
    "\n",
    "df_enem_in_computador = df_enem_in_guia_interprete.withColumn('COMPUTADOR', expr(\"case when IN_COMPUTADOR = 0 then 'Não' \" + \"when IN_COMPUTADOR = 1 then 'Sim' \" + \"else '' end\"))\n",
    "\n",
    "print(f'Criação da coluna com sucesso - {datetime.now()}.')"
   ]
  },
  {
   "cell_type": "code",
   "execution_count": 63,
   "metadata": {
    "tags": []
   },
   "outputs": [
    {
     "output_type": "stream",
     "name": "stdout",
     "text": "Criação da coluna CADEIRA_ESPECIAL - 2020-09-02 18:14:37.985284.\nCriação da coluna com sucesso - 2020-09-02 18:14:38.028169.\n"
    }
   ],
   "source": [
    "print(f'Criação da coluna CADEIRA_ESPECIAL - {datetime.now()}.')\n",
    "\n",
    "df_enem_in_cadeira_especial = df_enem_in_computador.withColumn('CADEIRA_ESPECIAL', expr(\"case when IN_CADEIRA_ESPECIAL = 0 then 'Não' \" + \"when IN_CADEIRA_ESPECIAL = 1 then 'Sim' \" + \"else '' end\"))\n",
    "\n",
    "print(f'Criação da coluna com sucesso - {datetime.now()}.')"
   ]
  },
  {
   "cell_type": "code",
   "execution_count": 64,
   "metadata": {
    "tags": []
   },
   "outputs": [
    {
     "output_type": "stream",
     "name": "stdout",
     "text": "Criação da coluna CADEIRA_CANHOTO - 2020-09-02 18:14:38.065071.\nCriação da coluna com sucesso - 2020-09-02 18:14:38.107956.\n"
    }
   ],
   "source": [
    "print(f'Criação da coluna CADEIRA_CANHOTO - {datetime.now()}.')\n",
    "\n",
    "df_enem_in_cadeira_canhoto = df_enem_in_cadeira_especial.withColumn('CADEIRA_CANHOTO', expr(\"case when IN_CADEIRA_CANHOTO = 0 then 'Não' \" + \"when IN_CADEIRA_CANHOTO = 1 then 'Sim' \" + \"else '' end\"))\n",
    "\n",
    "print(f'Criação da coluna com sucesso - {datetime.now()}.')"
   ]
  },
  {
   "cell_type": "code",
   "execution_count": 65,
   "metadata": {
    "tags": []
   },
   "outputs": [
    {
     "output_type": "stream",
     "name": "stdout",
     "text": "Criação da coluna CADEIRA_ACOLCHOADA - 2020-09-02 18:14:38.137877.\nCriação da coluna com sucesso - 2020-09-02 18:14:38.180762.\n"
    }
   ],
   "source": [
    "print(f'Criação da coluna CADEIRA_ACOLCHOADA - {datetime.now()}.')\n",
    "\n",
    "df_enem_in_cadeira_acolchoada = df_enem_in_cadeira_canhoto.withColumn('CADEIRA_ACOLCHOADA', expr(\"case when IN_CADEIRA_ACOLCHOADA = 0 then 'Não' \" + \"when IN_CADEIRA_ACOLCHOADA = 1 then 'Sim' \" + \"else '' end\"))\n",
    "\n",
    "print(f'Criação da coluna com sucesso - {datetime.now()}.')"
   ]
  },
  {
   "cell_type": "code",
   "execution_count": 66,
   "metadata": {
    "tags": []
   },
   "outputs": [
    {
     "output_type": "stream",
     "name": "stdout",
     "text": "Criação da coluna PROVA_DEITADO - 2020-09-02 18:14:38.197716.\nCriação da coluna com sucesso - 2020-09-02 18:14:38.238608.\n"
    }
   ],
   "source": [
    "print(f'Criação da coluna PROVA_DEITADO - {datetime.now()}.')\n",
    "\n",
    "df_enem_in_prova_deitado = df_enem_in_cadeira_acolchoada.withColumn('PROVA_DEITADO', expr(\"case when IN_PROVA_DEITADO = 0 then 'Não' \" + \"when IN_PROVA_DEITADO = 1 then 'Sim' \" + \"else '' end\"))\n",
    "\n",
    "print(f'Criação da coluna com sucesso - {datetime.now()}.')"
   ]
  },
  {
   "cell_type": "code",
   "execution_count": 67,
   "metadata": {
    "tags": []
   },
   "outputs": [
    {
     "output_type": "stream",
     "name": "stdout",
     "text": "Criação da coluna MOBILIARIO_OBESO - 2020-09-02 18:14:38.263540.\nCriação da coluna com sucesso - 2020-09-02 18:14:38.296452.\n"
    }
   ],
   "source": [
    "print(f'Criação da coluna MOBILIARIO_OBESO - {datetime.now()}.')\n",
    "\n",
    "df_enem_in_mobiliario_obeso = df_enem_in_prova_deitado.withColumn('MOBILIARIO_OBESO', expr(\"case when IN_MOBILIARIO_OBESO = 0 then 'Não' \" + \"when IN_MOBILIARIO_OBESO = 1 then 'Sim' \" + \"else '' end\"))\n",
    "\n",
    "print(f'Criação da coluna com sucesso - {datetime.now()}.')"
   ]
  },
  {
   "cell_type": "code",
   "execution_count": 68,
   "metadata": {
    "tags": []
   },
   "outputs": [
    {
     "output_type": "stream",
     "name": "stdout",
     "text": "Criação da coluna LAMINA_OVERLAY - 2020-09-02 18:14:38.325374.\nCriação da coluna com sucesso - 2020-09-02 18:14:38.361279.\n"
    }
   ],
   "source": [
    "print(f'Criação da coluna LAMINA_OVERLAY - {datetime.now()}.')\n",
    "\n",
    "df_enem_in_lamina_overlay = df_enem_in_mobiliario_obeso.withColumn('LAMINA_OVERLAY', expr(\"case when IN_LAMINA_OVERLAY = 0 then 'Não' \" + \"when IN_LAMINA_OVERLAY = 1 then 'Sim' \" + \"else '' end\"))\n",
    "\n",
    "print(f'Criação da coluna com sucesso - {datetime.now()}.')"
   ]
  },
  {
   "cell_type": "code",
   "execution_count": 69,
   "metadata": {
    "tags": []
   },
   "outputs": [
    {
     "output_type": "stream",
     "name": "stdout",
     "text": "Criação da coluna PROTETOR_AURICULAR - 2020-09-02 18:14:38.386211.\nCriação da coluna com sucesso - 2020-09-02 18:14:38.425107.\n"
    }
   ],
   "source": [
    "print(f'Criação da coluna PROTETOR_AURICULAR - {datetime.now()}.')\n",
    "\n",
    "df_enem_in_protetor_auricular = df_enem_in_lamina_overlay.withColumn('PROTETOR_AURICULAR', expr(\"case when IN_PROTETOR_AURICULAR = 0 then 'Não' \" + \"when IN_PROTETOR_AURICULAR = 1 then 'Sim' \" + \"else '' end\"))\n",
    "\n",
    "print(f'Criação da coluna com sucesso - {datetime.now()}.')"
   ]
  },
  {
   "cell_type": "code",
   "execution_count": 70,
   "metadata": {
    "tags": []
   },
   "outputs": [
    {
     "output_type": "stream",
     "name": "stdout",
     "text": "Criação da coluna MEDIDOR_GLICOSE - 2020-09-02 18:14:38.462009.\nCriação da coluna com sucesso - 2020-09-02 18:14:38.805093.\n"
    }
   ],
   "source": [
    "print(f'Criação da coluna MEDIDOR_GLICOSE - {datetime.now()}.')\n",
    "\n",
    "df_enem_in_medidor_glicose = df_enem_in_protetor_auricular.withColumn('MEDIDOR_GLICOSE', expr(\"case when IN_MEDIDOR_GLICOSE = 0 then 'Não' \" + \"when IN_MEDIDOR_GLICOSE = 1 then 'Sim' \" + \"else '' end\"))\n",
    "\n",
    "print(f'Criação da coluna com sucesso - {datetime.now()}.')"
   ]
  },
  {
   "cell_type": "code",
   "execution_count": 71,
   "metadata": {
    "tags": []
   },
   "outputs": [
    {
     "output_type": "stream",
     "name": "stdout",
     "text": "Criação da coluna MAQUINA_BRAILE - 2020-09-02 18:14:38.832020.\nCriação da coluna com sucesso - 2020-09-02 18:14:38.883881.\n"
    }
   ],
   "source": [
    "print(f'Criação da coluna MAQUINA_BRAILE - {datetime.now()}.')\n",
    "\n",
    "df_enem_in_maquina_braile = df_enem_in_medidor_glicose.withColumn('MAQUINA_BRAILE', expr(\"case when IN_MAQUINA_BRAILE = 0 then 'Não' \" + \"when IN_MAQUINA_BRAILE = 1 then 'Sim' \" + \"else '' end\"))\n",
    "\n",
    "print(f'Criação da coluna com sucesso - {datetime.now()}.')"
   ]
  },
  {
   "cell_type": "code",
   "execution_count": 72,
   "metadata": {
    "tags": []
   },
   "outputs": [
    {
     "output_type": "stream",
     "name": "stdout",
     "text": "Criação da coluna SOROBAN - 2020-09-02 18:14:38.908815.\nCriação da coluna com sucesso - 2020-09-02 18:14:38.962671.\n"
    }
   ],
   "source": [
    "print(f'Criação da coluna SOROBAN - {datetime.now()}.')\n",
    "\n",
    "df_enem_in_soroban = df_enem_in_maquina_braile.withColumn('SOROBAN', expr(\"case when IN_SOROBAN = 0 then 'Não' \" + \"when IN_SOROBAN = 1 then 'Sim' \" + \"else '' end\"))\n",
    "\n",
    "print(f'Criação da coluna com sucesso - {datetime.now()}.')"
   ]
  },
  {
   "cell_type": "code",
   "execution_count": 73,
   "metadata": {
    "tags": []
   },
   "outputs": [
    {
     "output_type": "stream",
     "name": "stdout",
     "text": "Criação da coluna MARCA_PASSO - 2020-09-02 18:14:38.986607.\nCriação da coluna com sucesso - 2020-09-02 18:14:39.037476.\n"
    }
   ],
   "source": [
    "print(f'Criação da coluna MARCA_PASSO - {datetime.now()}.')\n",
    "\n",
    "df_enem_in_marca_passo = df_enem_in_soroban.withColumn('MARCA_PASSO', expr(\"case when IN_MARCA_PASSO = 0 then 'Não' \" + \"when IN_MARCA_PASSO = 1 then 'Sim' \" + \"else '' end\"))\n",
    "\n",
    "print(f'Criação da coluna com sucesso - {datetime.now()}.')"
   ]
  },
  {
   "cell_type": "code",
   "execution_count": 74,
   "metadata": {
    "tags": []
   },
   "outputs": [
    {
     "output_type": "stream",
     "name": "stdout",
     "text": "Criação da coluna SONDA - 2020-09-02 18:14:39.061407.\nCriação da coluna com sucesso - 2020-09-02 18:14:39.113269.\n"
    }
   ],
   "source": [
    "print(f'Criação da coluna SONDA - {datetime.now()}.')\n",
    "\n",
    "df_enem_in_sonda = df_enem_in_marca_passo.withColumn('SONDA', expr(\"case when IN_SONDA = 0 then 'Não' \" + \"when IN_SONDA = 1 then 'Sim' \" + \"else '' end\"))\n",
    "\n",
    "print(f'Criação da coluna com sucesso - {datetime.now()}.')"
   ]
  },
  {
   "cell_type": "code",
   "execution_count": 75,
   "metadata": {
    "tags": []
   },
   "outputs": [
    {
     "output_type": "stream",
     "name": "stdout",
     "text": "Criação da coluna MEDICAMENTOS - 2020-09-02 18:14:39.141193.\nCriação da coluna com sucesso - 2020-09-02 18:14:39.195049.\n"
    }
   ],
   "source": [
    "print(f'Criação da coluna MEDICAMENTOS - {datetime.now()}.')\n",
    "\n",
    "df_enem_in_medicamentos = df_enem_in_sonda.withColumn('MEDICAMENTOS', expr(\"case when IN_MEDICAMENTOS = 0 then 'Não' \" + \"when IN_MEDICAMENTOS = 1 then 'Sim' \" + \"else '' end\"))\n",
    "\n",
    "print(f'Criação da coluna com sucesso - {datetime.now()}.')"
   ]
  },
  {
   "cell_type": "code",
   "execution_count": 76,
   "metadata": {
    "tags": []
   },
   "outputs": [
    {
     "output_type": "stream",
     "name": "stdout",
     "text": "Criação da coluna SALA_INDIVIDUAL - 2020-09-02 18:14:39.218986.\nCriação da coluna com sucesso - 2020-09-02 18:14:39.274835.\n"
    }
   ],
   "source": [
    "print(f'Criação da coluna SALA_INDIVIDUAL - {datetime.now()}.')\n",
    "\n",
    "df_enem_in_sala_individual = df_enem_in_medicamentos.withColumn('SALA_INDIVIDUAL', expr(\"case when IN_SALA_INDIVIDUAL = 0 then 'Não' \" + \"when IN_SALA_INDIVIDUAL = 1 then 'Sim' \" + \"else '' end\"))\n",
    "\n",
    "print(f'Criação da coluna com sucesso - {datetime.now()}.')"
   ]
  },
  {
   "cell_type": "code",
   "execution_count": 77,
   "metadata": {
    "tags": []
   },
   "outputs": [
    {
     "output_type": "stream",
     "name": "stdout",
     "text": "Criação da coluna SALA_ESPECIAL - 2020-09-02 18:14:39.305754.\nCriação da coluna com sucesso - 2020-09-02 18:14:39.360606.\n"
    }
   ],
   "source": [
    "print(f'Criação da coluna SALA_ESPECIAL - {datetime.now()}.')\n",
    "\n",
    "df_enem_in_sala_especial = df_enem_in_sala_individual.withColumn('SALA_ESPECIAL', expr(\"case when IN_SALA_ESPECIAL = 0 then 'Não' \" + \"when IN_SALA_ESPECIAL = 1 then 'Sim' \" + \"else '' end\"))\n",
    "\n",
    "print(f'Criação da coluna com sucesso - {datetime.now()}.')"
   ]
  },
  {
   "cell_type": "code",
   "execution_count": 78,
   "metadata": {
    "tags": []
   },
   "outputs": [
    {
     "output_type": "stream",
     "name": "stdout",
     "text": "Criação da coluna SALA_ACOMPANHANTE - 2020-09-02 18:14:39.393518.\nCriação da coluna com sucesso - 2020-09-02 18:14:39.447373.\n"
    }
   ],
   "source": [
    "print(f'Criação da coluna SALA_ACOMPANHANTE - {datetime.now()}.')\n",
    "\n",
    "df_enem_in_sala_acompanhante = df_enem_in_sala_especial.withColumn('SALA_ACOMPANHANTE', expr(\"case when IN_SALA_ACOMPANHANTE = 0 then 'Não' \" + \"when IN_SALA_ACOMPANHANTE = 1 then 'Sim' \" + \"else '' end\"))\n",
    "\n",
    "print(f'Criação da coluna com sucesso - {datetime.now()}.')"
   ]
  },
  {
   "cell_type": "code",
   "execution_count": 79,
   "metadata": {
    "tags": []
   },
   "outputs": [
    {
     "output_type": "stream",
     "name": "stdout",
     "text": "Criação da coluna MOBILIARIO_ESPECIFICO - 2020-09-02 18:14:39.472308.\nCriação da coluna com sucesso - 2020-09-02 18:14:39.526162.\n"
    }
   ],
   "source": [
    "print(f'Criação da coluna MOBILIARIO_ESPECIFICO - {datetime.now()}.')\n",
    "\n",
    "df_enem_in_mobiliario_especifico = df_enem_in_sala_acompanhante.withColumn('MOBILIARIO_ESPECIFICO', expr(\"case when IN_MOBILIARIO_ESPECIFICO = 0 then 'Não' \" + \"when IN_MOBILIARIO_ESPECIFICO = 1 then 'Sim' \" + \"else '' end\"))\n",
    "\n",
    "print(f'Criação da coluna com sucesso - {datetime.now()}.')"
   ]
  },
  {
   "cell_type": "code",
   "execution_count": 80,
   "metadata": {
    "tags": []
   },
   "outputs": [
    {
     "output_type": "stream",
     "name": "stdout",
     "text": "Criação da coluna NOME_SOCIAL - 2020-09-02 18:14:39.551096.\nCriação da coluna com sucesso - 2020-09-02 18:14:39.606946.\n"
    }
   ],
   "source": [
    "print(f'Criação da coluna NOME_SOCIAL - {datetime.now()}.')\n",
    "\n",
    "df_enem_in_nome_social = df_enem_in_mobiliario_especifico.withColumn('NOME_SOCIAL', expr(\"case when IN_NOME_SOCIAL = 0 then 'Não' \" + \"when IN_NOME_SOCIAL = 1 then 'Sim' \" + \"else '' end\"))\n",
    "\n",
    "print(f'Criação da coluna com sucesso - {datetime.now()}.')"
   ]
  },
  {
   "cell_type": "code",
   "execution_count": 81,
   "metadata": {
    "tags": []
   },
   "outputs": [
    {
     "output_type": "stream",
     "name": "stdout",
     "text": "Criação da coluna PRESENCA_CIENCIAS_NATUREZA - 2020-09-02 18:14:39.689725.\nCriação da coluna com sucesso - 2020-09-02 18:14:39.744579.\n"
    }
   ],
   "source": [
    "print(f'Criação da coluna PRESENCA_CIENCIAS_NATUREZA - {datetime.now()}.')\n",
    "\n",
    "df_enem_tp_presenca_cn = df_enem_in_nome_social.withColumn('PRESENCA_CIENCIAS_NATUREZA', expr(\"case when TP_PRESENCA_CN = 0 then 'Faltou à prova' \" + \"when TP_PRESENCA_CN = 1 then 'Presente na prova' \" + \"when TP_PRESENCA_CN = 2 then 'Eliminado na prova' \" + \"else '' end\"))\n",
    "\n",
    "print(f'Criação da coluna com sucesso - {datetime.now()}.')"
   ]
  },
  {
   "cell_type": "code",
   "execution_count": 82,
   "metadata": {
    "tags": []
   },
   "outputs": [
    {
     "output_type": "stream",
     "name": "stdout",
     "text": "Criação da coluna PRESENCA_CIENCIAS_HUMANAS - 2020-09-02 18:14:39.773502.\nCriação da coluna com sucesso - 2020-09-02 18:14:39.838328.\n"
    }
   ],
   "source": [
    "print(f'Criação da coluna PRESENCA_CIENCIAS_HUMANAS - {datetime.now()}.')\n",
    "\n",
    "df_enem_tp_presenca_ch = df_enem_tp_presenca_cn.withColumn('PRESENCA_CIENCIAS_HUMANAS', expr(\"case when TP_PRESENCA_CH = 0 then 'Faltou à prova' \" + \"when TP_PRESENCA_CH = 1 then 'Presente na prova' \" + \"when TP_PRESENCA_CH = 2 then 'Eliminado na prova' \" + \"else '' end\"))\n",
    "\n",
    "print(f'Criação da coluna com sucesso - {datetime.now()}.')"
   ]
  },
  {
   "cell_type": "code",
   "execution_count": 83,
   "metadata": {
    "tags": []
   },
   "outputs": [
    {
     "output_type": "stream",
     "name": "stdout",
     "text": "Criação da coluna PRESENCA_LINGUAGENS_CODIGOS - 2020-09-02 18:14:39.866253.\nCriação da coluna com sucesso - 2020-09-02 18:14:39.920118.\n"
    }
   ],
   "source": [
    "print(f'Criação da coluna PRESENCA_LINGUAGENS_CODIGOS - {datetime.now()}.')\n",
    "\n",
    "df_enem_tp_presenca_lc = df_enem_tp_presenca_ch.withColumn('PRESENCA_LINGUAGENS_CODIGOS', expr(\"case when TP_PRESENCA_LC = 0 then 'Faltou à prova' \" + \"when TP_PRESENCA_LC = 1 then 'Presente na prova' \" + \"when TP_PRESENCA_LC = 2 then 'Eliminado na prova' \" + \"else '' end\"))\n",
    "\n",
    "print(f'Criação da coluna com sucesso - {datetime.now()}.')"
   ]
  },
  {
   "cell_type": "code",
   "execution_count": 84,
   "metadata": {
    "tags": []
   },
   "outputs": [
    {
     "output_type": "stream",
     "name": "stdout",
     "text": "Criação da coluna PRESENCA_MATEMATICA - 2020-09-02 18:14:39.947037.\nCriação da coluna com sucesso - 2020-09-02 18:14:39.992916.\n"
    }
   ],
   "source": [
    "print(f'Criação da coluna PRESENCA_MATEMATICA - {datetime.now()}.')\n",
    "\n",
    "df_enem_tp_presenca_mt = df_enem_tp_presenca_lc.withColumn('PRESENCA_MATEMATICA', expr(\"case when TP_PRESENCA_MT = 0 then 'Faltou à prova' \" + \"when TP_PRESENCA_MT = 1 then 'Presente na prova' \" + \"when TP_PRESENCA_MT = 2 then 'Eliminado na prova' \" + \"else '' end\"))\n",
    "\n",
    "print(f'Criação da coluna com sucesso - {datetime.now()}.')"
   ]
  },
  {
   "cell_type": "code",
   "execution_count": 85,
   "metadata": {
    "tags": []
   },
   "outputs": [
    {
     "output_type": "stream",
     "name": "stdout",
     "text": "Criação da coluna LINGUA - 2020-09-02 18:14:40.020841.\nCriação da coluna com sucesso - 2020-09-02 18:14:40.065722.\n"
    }
   ],
   "source": [
    "print(f'Criação da coluna LINGUA - {datetime.now()}.')\n",
    "\n",
    "df_enem_tp_lingua = df_enem_tp_presenca_mt.withColumn('LINGUA', expr(\"case when TP_LINGUA = 0 then 'Inglês' \" + \"when TP_LINGUA = 1 then 'Espanhol' \" + \"else '' end\"))\n",
    "\n",
    "print(f'Criação da coluna com sucesso - {datetime.now()}.')"
   ]
  },
  {
   "cell_type": "code",
   "execution_count": 86,
   "metadata": {
    "tags": []
   },
   "outputs": [
    {
     "output_type": "stream",
     "name": "stdout",
     "text": "Criação da coluna STATUS_REDACAO - 2020-09-02 18:14:40.088661.\nCriação da coluna com sucesso - 2020-09-02 18:14:40.139523.\n"
    }
   ],
   "source": [
    "print(f'Criação da coluna STATUS_REDACAO - {datetime.now()}.')\n",
    "\n",
    "df_enem_tp_status_redacao = df_enem_tp_lingua.withColumn('STATUS_REDACAO', expr(\"case when TP_STATUS_REDACAO = 1 then 'Sem problemas' \" + \"when TP_STATUS_REDACAO = 2 then 'Anulada' \" + \"when TP_STATUS_REDACAO = 3 then 'Cópia Texto Motivador' \" + \"when TP_STATUS_REDACAO = 4 then 'Em Branco' \" + \"when TP_STATUS_REDACAO = 6 then 'Fuga ao tema' \" + \"when TP_STATUS_REDACAO = 7 then 'Não atendimento ao tipo textual' \" + \"when TP_STATUS_REDACAO = 8 then 'Texto insuficiente' \" + \"when TP_STATUS_REDACAO = 9 then 'Parte desconectada' \" + \"else '' end\"))\n",
    "\n",
    "print(f'Criação da coluna com sucesso - {datetime.now()}.')"
   ]
  },
  {
   "cell_type": "code",
   "execution_count": 87,
   "metadata": {
    "tags": []
   },
   "outputs": [
    {
     "output_type": "stream",
     "name": "stdout",
     "text": "Criação da coluna PAI_ESTUDOU - 2020-09-02 18:14:40.164456.\nCriação da coluna com sucesso - 2020-09-02 18:14:40.209335.\n"
    }
   ],
   "source": [
    "print(f'Criação da coluna PAI_ESTUDOU - {datetime.now()}.')\n",
    "\n",
    "df_enem_q001 = df_enem_tp_status_redacao.withColumn('PAI_ESTUDOU', expr(\"case when Q001 = 'A' then 'Nunca estudou.' \" + \"when Q001 = 'B' then 'Não completou a 4ª série/5º ano do Ensino Fundamental.' \" + \"when Q001 = 'C' then 'Completou a 4ª série/5º ano, mas não completou a 8ª série/9º ano do Ensino Fundamental.' \" + \"when Q001 = 'D' then 'Completou a 8ª série/9º ano do Ensino Fundamental, mas não completou o Ensino Médio.' \" + \"when Q001 = 'E' then 'Completou o Ensino Médio, mas não completou a Faculdade.' \" + \"when Q001 = 'F' then 'Completou a Faculdade, mas não completou a Pós-graduação.' \" + \"when Q001 = 'G' then 'Completou a Pós-graduação.' \" + \"when Q001 = 'H' then 'Não sei.' \" + \"else '' end\"))\n",
    "\n",
    "print(f'Criação da coluna com sucesso - {datetime.now()}.')"
   ]
  },
  {
   "cell_type": "code",
   "execution_count": 88,
   "metadata": {
    "tags": []
   },
   "outputs": [
    {
     "output_type": "stream",
     "name": "stdout",
     "text": "Criação da coluna MAE_ESTUDOU - 2020-09-02 18:14:40.225292.\nCriação da coluna com sucesso - 2020-09-02 18:14:40.267182.\n"
    }
   ],
   "source": [
    "print(f'Criação da coluna MAE_ESTUDOU - {datetime.now()}.')\n",
    "\n",
    "df_enem_q002 = df_enem_q001.withColumn('MAE_ESTUDOU', expr(\"case when Q002 = 'A' then 'Nunca estudou.' \" + \"when Q002 = 'B' then 'Não completou a 4ª série/5º ano do Ensino Fundamental.' \" + \"when Q002 = 'C' then 'Completou a 4ª série/5º ano, mas não completou a 8ª série/9º ano do Ensino Fundamental.' \" + \"when Q002 = 'D' then 'Completou a 8ª série/9º ano do Ensino Fundamental, mas não completou o Ensino Médio.' \" + \"when Q002 = 'E' then 'Completou o Ensino Médio, mas não completou a Faculdade.' \" + \"when Q002 = 'F' then 'Completou a Faculdade, mas não completou a Pós-graduação.' \" + \"when Q002 = 'G' then 'Completou a Pós-graduação.' \" + \"when Q002 = 'H' then 'Não sei.' \" + \"else '' end\"))\n",
    "\n",
    "print(f'Criação da coluna com sucesso - {datetime.now()}.')"
   ]
  },
  {
   "cell_type": "code",
   "execution_count": 89,
   "metadata": {
    "tags": []
   },
   "outputs": [
    {
     "output_type": "stream",
     "name": "stdout",
     "text": "Criação da coluna QTDE_MORADOR_RESIDENCIA - 2020-09-02 18:14:40.292117.\nCriação da coluna com sucesso - 2020-09-02 18:14:40.350957.\n"
    }
   ],
   "source": [
    "print(f'Criação da coluna QTDE_MORADOR_RESIDENCIA - {datetime.now()}.')\n",
    "\n",
    "df_enem_q005 = df_enem_q002.withColumn('QTDE_MORADOR_RESIDENCIA', expr(\"case when Q005 = 1 then '1, pois moro sozinho(a).' \" + \"when Q005 = 2 then '2' \" + \"when Q005 = 3 then '3' \" + \"when Q005 = 4 then '4' \" + \"when Q005 = 5 then '5' \" + \"when Q005 = 6 then '6' \" + \"when Q005 = 7 then '7' \" + \"when Q005 = 8 then '8' \" + \"when Q005 = 9 then '9' \" + \"when Q005 = 10 then '10' \" + \"when Q005 = 11 then '11' \" + \"when Q005 = 12 then '12' \" + \"when Q005 = 13 then '13' \" + \"when Q005 = 14 then '14' \" + \"when Q005 = 15 then '15' \" + \"when Q005 = 16 then '16' \" + \"when Q005 = 17 then '17' \" + \"when Q005 = 18 then '18' \" + \"when Q005 = 19 then '19' \" + \"when Q005 = 20 then '20' \" + \"else '' end\"))\n",
    "\n",
    "print(f'Criação da coluna com sucesso - {datetime.now()}.')"
   ]
  },
  {
   "cell_type": "code",
   "execution_count": 90,
   "metadata": {
    "tags": []
   },
   "outputs": [
    {
     "output_type": "stream",
     "name": "stdout",
     "text": "Criação da coluna RENDA_MENSAL_FAMILIAR - 2020-09-02 18:14:40.372899.\nCriação da coluna com sucesso - 2020-09-02 18:14:40.431741.\n"
    }
   ],
   "source": [
    "print(f'Criação da coluna RENDA_MENSAL_FAMILIAR - {datetime.now()}.')\n",
    "\n",
    "df_enem_q006 = df_enem_q005.withColumn('RENDA_MENSAL_FAMILIAR', expr(\"case when Q006 = 'A' then 'Nenhuma Renda.' \" + \"when Q006 = 'B' then 'Até 1,0 salário mínimo.' \" + \"when Q006 = 'C' then 'Acima de 1,0 salário mínimo até 1,5.' \" + \"when Q006 = 'D' then 'Acima de 1,5 salário mínimo até 2,0 salários mínimos.' \" + \"when Q006 = 'E' then 'Acima de 2,0 salários mínimos até 2,5 salários mínimos.' \" + \"when Q006 = 'F' then 'Acima de 2,5 salários mínimos até 3,0 salários mínimos.' \" + \"when Q006 = 'G' then 'Acima de 3,0 salários mínimos até 4,0 salários mínimos.' \" + \"when Q006 = 'H' then 'Acima de 4,0 salários mínimos até 5,0 salários mínimos.' \" + \"when Q006 = 'I' then 'Acima de 5,0 salários mínimos até 6,0 salários mínimos.' \" + \"when Q006 = 'J' then 'Acima de 6,0 salários mínimos até 7,0 salários mínimos.' \" + \"when Q006 = 'K' then 'Acima de 7,0 salários mínimos até 8,0 salários mínimos.' \" + \"when Q006 = 'L' then 'Acima de 8,0 salários mínimos até 9,0 salários mínimos.' \" + \"when Q006 = 'M' then 'Acima de 9,0 salários mínimos até 10,0 salários mínimos.' \" + \"when Q006 = 'N' then 'Acima de 10,0 salários mínimos até 12,0 salários mínimos.' \" + \"when Q006 = 'O' then 'Acima de 12,0 salários mínimos até 15,0 salários mínimos.' \" + \"when Q006 = 'P' then 'Acima de 15,0 salários mínimos até 20,0 salários mínimos.' \" + \"when Q006 = 'Q' then 'Acima de 20 salários mínimos.' \" + \"else '' end\"))\n",
    "\n",
    "print(f'Criação da coluna com sucesso - {datetime.now()}.')"
   ]
  },
  {
   "cell_type": "code",
   "execution_count": 91,
   "metadata": {
    "tags": []
   },
   "outputs": [
    {
     "output_type": "stream",
     "name": "stdout",
     "text": "Criação da coluna RESIDENCIA_CELULAR - 2020-09-02 18:14:40.460665.\nCriação da coluna com sucesso - 2020-09-02 18:14:40.516514.\n"
    }
   ],
   "source": [
    "print(f'Criação da coluna RESIDENCIA_CELULAR - {datetime.now()}.')\n",
    "\n",
    "df_enem_q022 = df_enem_q006.withColumn('RESIDENCIA_CELULAR', expr(\"case when Q022 = 'A' then 'Não.' \" + \"when Q022 = 'B' then 'Sim, um.' \" + \"when Q022 = 'C' then 'Sim, dois.' \" + \"when Q022 = 'D' then 'Sim, três.' \" + \"when Q022 = 'E' then 'Sim, quatro ou mais.' \" + \"else '' end\"))\n",
    "\n",
    "print(f'Criação da coluna com sucesso - {datetime.now()}.')"
   ]
  },
  {
   "cell_type": "code",
   "execution_count": 92,
   "metadata": {
    "tags": []
   },
   "outputs": [
    {
     "output_type": "stream",
     "name": "stdout",
     "text": "Criação da coluna RESIDENCIA_COMPUTADOR - 2020-09-02 18:14:40.538456.\nCriação da coluna com sucesso - 2020-09-02 18:14:40.578351.\n"
    }
   ],
   "source": [
    "print(f'Criação da coluna RESIDENCIA_COMPUTADOR - {datetime.now()}.')\n",
    "\n",
    "df_enem_q024 = df_enem_q022.withColumn('RESIDENCIA_COMPUTADOR', expr(\"case when Q024 = 'A' then 'Não.' \" + \"when Q024 = 'B' then 'Sim, um.' \" + \"when Q024 = 'C' then 'Sim, dois.' \" + \"when Q024 = 'D' then 'Sim, três.' \" + \"when Q024 = 'E' then 'Sim, quatro ou mais.' \" + \"else '' end\"))\n",
    "\n",
    "print(f'Criação da coluna com sucesso - {datetime.now()}.')"
   ]
  },
  {
   "cell_type": "code",
   "execution_count": 93,
   "metadata": {
    "tags": []
   },
   "outputs": [
    {
     "output_type": "stream",
     "name": "stdout",
     "text": "Criação da coluna RESIDENCIA_INTERNET - 2020-09-02 18:14:40.601289.\nCriação da coluna com sucesso - 2020-09-02 18:14:40.646167.\n"
    }
   ],
   "source": [
    "print(f'Criação da coluna RESIDENCIA_INTERNET - {datetime.now()}.')\n",
    "\n",
    "df_enem_q025 = df_enem_q024.withColumn('RESIDENCIA_INTERNET', expr(\"case when Q025 = 'A' then 'Não.' \" + \"when Q025 = 'B' then 'Sim.' \" + \"else '' end\"))\n",
    "\n",
    "print(f'Criação da coluna com sucesso - {datetime.now()}.')"
   ]
  },
  {
   "cell_type": "code",
   "execution_count": 94,
   "metadata": {
    "tags": []
   },
   "outputs": [
    {
     "output_type": "stream",
     "name": "stdout",
     "text": "Criação do Dataframe para análise exploratória df_enem_analise - 2020-09-02 18:14:40.661128.\nDataframe df_enem_analise criado com sucesso - 2020-09-02 18:14:40.661128.\n"
    }
   ],
   "source": [
    "# Criação do dataframe df_enem_analise para análise exploratória.\n",
    "\n",
    "print(f'Criação do Dataframe para análise exploratória df_enem_analise - {datetime.now()}.')\n",
    "\n",
    "df_enem_analise = df_enem_q025\n",
    "\n",
    "print(f'Dataframe df_enem_analise criado com sucesso - {datetime.now()}.')"
   ]
  },
  {
   "cell_type": "code",
   "execution_count": 95,
   "metadata": {
    "tags": []
   },
   "outputs": [
    {
     "output_type": "stream",
     "name": "stdout",
     "text": "Apresentação da estutura do dataframe df_enem_analise - 2020-09-02 18:14:40.679080.\nroot\n |-- NU_INSCRICAO: long (nullable = true)\n |-- NU_ANO: integer (nullable = true)\n |-- NO_MUNICIPIO_RESIDENCIA: string (nullable = true)\n |-- CO_UF_RESIDENCIA: integer (nullable = true)\n |-- SG_UF_RESIDENCIA: string (nullable = true)\n |-- NU_IDADE: integer (nullable = true)\n |-- TP_SEXO: string (nullable = true)\n |-- TP_ESTADO_CIVIL: integer (nullable = true)\n |-- TP_COR_RACA: integer (nullable = true)\n |-- TP_NACIONALIDADE: integer (nullable = true)\n |-- NO_MUNICIPIO_NASCIMENTO: string (nullable = true)\n |-- CO_UF_NASCIMENTO: integer (nullable = true)\n |-- SG_UF_NASCIMENTO: string (nullable = true)\n |-- TP_ST_CONCLUSAO: integer (nullable = true)\n |-- TP_ESCOLA: integer (nullable = true)\n |-- TP_ENSINO: integer (nullable = true)\n |-- IN_TREINEIRO: integer (nullable = true)\n |-- CO_UF_ESC: integer (nullable = true)\n |-- SG_UF_ESC: string (nullable = true)\n |-- TP_DEPENDENCIA_ADM_ESC: integer (nullable = true)\n |-- TP_LOCALIZACAO_ESC: integer (nullable = true)\n |-- IN_BAIXA_VISAO: integer (nullable = true)\n |-- IN_CEGUEIRA: integer (nullable = true)\n |-- IN_SURDEZ: integer (nullable = true)\n |-- IN_DEFICIENCIA_AUDITIVA: integer (nullable = true)\n |-- IN_SURDO_CEGUEIRA: integer (nullable = true)\n |-- IN_DEFICIENCIA_FISICA: integer (nullable = true)\n |-- IN_DEFICIENCIA_MENTAL: integer (nullable = true)\n |-- IN_DEFICIT_ATENCAO: integer (nullable = true)\n |-- IN_DISLEXIA: integer (nullable = true)\n |-- IN_DISCALCULIA: integer (nullable = true)\n |-- IN_AUTISMO: integer (nullable = true)\n |-- IN_VISAO_MONOCULAR: integer (nullable = true)\n |-- IN_OUTRA_DEF: integer (nullable = true)\n |-- IN_GESTANTE: integer (nullable = true)\n |-- IN_LACTANTE: integer (nullable = true)\n |-- IN_IDOSO: integer (nullable = true)\n |-- IN_ESTUDA_CLASSE_HOSPITALAR: integer (nullable = true)\n |-- IN_SEM_RECURSO: integer (nullable = true)\n |-- IN_BRAILLE: integer (nullable = true)\n |-- IN_AMPLIADA_24: integer (nullable = true)\n |-- IN_AMPLIADA_18: integer (nullable = true)\n |-- IN_LEDOR: integer (nullable = true)\n |-- IN_ACESSO: integer (nullable = true)\n |-- IN_TRANSCRICAO: integer (nullable = true)\n |-- IN_LIBRAS: integer (nullable = true)\n |-- IN_LEITURA_LABIAL: integer (nullable = true)\n |-- IN_MESA_CADEIRA_RODAS: integer (nullable = true)\n |-- IN_MESA_CADEIRA_SEPARADA: integer (nullable = true)\n |-- IN_APOIO_PERNA: integer (nullable = true)\n |-- IN_GUIA_INTERPRETE: integer (nullable = true)\n |-- IN_COMPUTADOR: integer (nullable = true)\n |-- IN_CADEIRA_ESPECIAL: integer (nullable = true)\n |-- IN_CADEIRA_CANHOTO: integer (nullable = true)\n |-- IN_CADEIRA_ACOLCHOADA: integer (nullable = true)\n |-- IN_PROVA_DEITADO: integer (nullable = true)\n |-- IN_MOBILIARIO_OBESO: integer (nullable = true)\n |-- IN_LAMINA_OVERLAY: integer (nullable = true)\n |-- IN_PROTETOR_AURICULAR: integer (nullable = true)\n |-- IN_MEDIDOR_GLICOSE: integer (nullable = true)\n |-- IN_MAQUINA_BRAILE: integer (nullable = true)\n |-- IN_SOROBAN: integer (nullable = true)\n |-- IN_MARCA_PASSO: integer (nullable = true)\n |-- IN_SONDA: integer (nullable = true)\n |-- IN_MEDICAMENTOS: integer (nullable = true)\n |-- IN_SALA_INDIVIDUAL: integer (nullable = true)\n |-- IN_SALA_ESPECIAL: integer (nullable = true)\n |-- IN_SALA_ACOMPANHANTE: integer (nullable = true)\n |-- IN_MOBILIARIO_ESPECIFICO: integer (nullable = true)\n |-- IN_NOME_SOCIAL: integer (nullable = true)\n |-- NO_MUNICIPIO_PROVA: string (nullable = true)\n |-- CO_UF_PROVA: integer (nullable = true)\n |-- SG_UF_PROVA: string (nullable = true)\n |-- TP_PRESENCA_CN: integer (nullable = true)\n |-- TP_PRESENCA_CH: integer (nullable = true)\n |-- TP_PRESENCA_LC: integer (nullable = true)\n |-- TP_PRESENCA_MT: integer (nullable = true)\n |-- NU_NOTA_CN: double (nullable = true)\n |-- NU_NOTA_CH: double (nullable = true)\n |-- NU_NOTA_LC: double (nullable = true)\n |-- NU_NOTA_MT: double (nullable = true)\n |-- TP_LINGUA: integer (nullable = true)\n |-- TP_STATUS_REDACAO: integer (nullable = true)\n |-- NU_NOTA_COMP1: integer (nullable = true)\n |-- NU_NOTA_COMP2: integer (nullable = true)\n |-- NU_NOTA_COMP3: integer (nullable = true)\n |-- NU_NOTA_COMP4: integer (nullable = true)\n |-- NU_NOTA_COMP5: integer (nullable = true)\n |-- NU_NOTA_REDACAO: integer (nullable = true)\n |-- Q001: string (nullable = true)\n |-- Q002: string (nullable = true)\n |-- Q005: integer (nullable = true)\n |-- Q006: string (nullable = true)\n |-- Q022: string (nullable = true)\n |-- Q024: string (nullable = true)\n |-- Q025: string (nullable = true)\n |-- SEXO: string (nullable = false)\n |-- ESTADO_CIVIL: string (nullable = false)\n |-- RACA: string (nullable = false)\n |-- NACIONALIDADE: string (nullable = false)\n |-- SITUACAO_CONCLUSAO_ENSINO_MEDIO: string (nullable = false)\n |-- TIPO_ESCOLA: string (nullable = false)\n |-- TIPO_ENSINO: string (nullable = false)\n |-- TREINEIRO: string (nullable = false)\n |-- DEPENDENCIA_ADMINISTRATIVA_ESCOLA: string (nullable = false)\n |-- LOCALIZACAO_ESCOLA: string (nullable = false)\n |-- BAIXA_VISAO: string (nullable = false)\n |-- CEGUEIRA: string (nullable = false)\n |-- SURDEZ: string (nullable = false)\n |-- DEFICIENCIA_AUDITIVA: string (nullable = false)\n |-- SURDO_CEGUEIRA: string (nullable = false)\n |-- DEFICIENCIA_FISICA: string (nullable = false)\n |-- DEFICIENCIA_MENTAL: string (nullable = false)\n |-- DEFICIT_ATENCAO: string (nullable = false)\n |-- DISLEXIA: string (nullable = false)\n |-- DISCALCULIA: string (nullable = false)\n |-- AUTISMO: string (nullable = false)\n |-- VISAO_MONOCULAR: string (nullable = false)\n |-- OUTRA_DEF: string (nullable = false)\n |-- GESTANTE: string (nullable = false)\n |-- LACTANTE: string (nullable = false)\n |-- IDOSO: string (nullable = false)\n |-- ESTUDA_CLASSE_HOSPITALAR: string (nullable = false)\n |-- SEM_RECURSO: string (nullable = false)\n |-- BRAILLE: string (nullable = false)\n |-- AMPLIADA_24: string (nullable = false)\n |-- AMPLIADA_18: string (nullable = false)\n |-- LEDOR: string (nullable = false)\n |-- ACESSO: string (nullable = false)\n |-- TRANSCRICAO: string (nullable = false)\n |-- LIBRAS: string (nullable = false)\n |-- LEITURA_LABIAL: string (nullable = false)\n |-- MESA_CADEIRA_RODAS: string (nullable = false)\n |-- MESA_CADEIRA_SEPARADA: string (nullable = false)\n |-- APOIO_PERNA: string (nullable = false)\n |-- GUIA_INTERPRETE: string (nullable = false)\n |-- COMPUTADOR: string (nullable = false)\n |-- CADEIRA_ESPECIAL: string (nullable = false)\n |-- CADEIRA_CANHOTO: string (nullable = false)\n |-- CADEIRA_ACOLCHOADA: string (nullable = false)\n |-- PROVA_DEITADO: string (nullable = false)\n |-- MOBILIARIO_OBESO: string (nullable = false)\n |-- LAMINA_OVERLAY: string (nullable = false)\n |-- PROTETOR_AURICULAR: string (nullable = false)\n |-- MEDIDOR_GLICOSE: string (nullable = false)\n |-- MAQUINA_BRAILE: string (nullable = false)\n |-- SOROBAN: string (nullable = false)\n |-- MARCA_PASSO: string (nullable = false)\n |-- SONDA: string (nullable = false)\n |-- MEDICAMENTOS: string (nullable = false)\n |-- SALA_INDIVIDUAL: string (nullable = false)\n |-- SALA_ESPECIAL: string (nullable = false)\n |-- SALA_ACOMPANHANTE: string (nullable = false)\n |-- MOBILIARIO_ESPECIFICO: string (nullable = false)\n |-- NOME_SOCIAL: string (nullable = false)\n |-- PRESENCA_CIENCIAS_NATUREZA: string (nullable = false)\n |-- PRESENCA_CIENCIAS_HUMANAS: string (nullable = false)\n |-- PRESENCA_LINGUAGENS_CODIGOS: string (nullable = false)\n |-- PRESENCA_MATEMATICA: string (nullable = false)\n |-- LINGUA: string (nullable = false)\n |-- STATUS_REDACAO: string (nullable = false)\n |-- PAI_ESTUDOU: string (nullable = false)\n |-- MAE_ESTUDOU: string (nullable = false)\n |-- QTDE_MORADOR_RESIDENCIA: string (nullable = false)\n |-- RENDA_MENSAL_FAMILIAR: string (nullable = false)\n |-- RESIDENCIA_CELULAR: string (nullable = false)\n |-- RESIDENCIA_COMPUTADOR: string (nullable = false)\n |-- RESIDENCIA_INTERNET: string (nullable = false)\n\n"
    }
   ],
   "source": [
    "# Apresentação da estutura do dataframe df_enem_analise\n",
    "\n",
    "print(f'Apresentação da estutura do dataframe df_enem_analise - {datetime.now()}.')\n",
    "\n",
    "df_enem_analise.printSchema()"
   ]
  },
  {
   "cell_type": "code",
   "execution_count": 96,
   "metadata": {},
   "outputs": [
    {
     "output_type": "execute_result",
     "data": {
      "text/plain": "['NU_INSCRICAO',\n 'NU_ANO',\n 'NO_MUNICIPIO_RESIDENCIA',\n 'CO_UF_RESIDENCIA',\n 'SG_UF_RESIDENCIA',\n 'NU_IDADE',\n 'TP_SEXO',\n 'TP_ESTADO_CIVIL',\n 'TP_COR_RACA',\n 'TP_NACIONALIDADE',\n 'NO_MUNICIPIO_NASCIMENTO',\n 'CO_UF_NASCIMENTO',\n 'SG_UF_NASCIMENTO',\n 'TP_ST_CONCLUSAO',\n 'TP_ESCOLA',\n 'TP_ENSINO',\n 'IN_TREINEIRO',\n 'CO_UF_ESC',\n 'SG_UF_ESC',\n 'TP_DEPENDENCIA_ADM_ESC',\n 'TP_LOCALIZACAO_ESC',\n 'IN_BAIXA_VISAO',\n 'IN_CEGUEIRA',\n 'IN_SURDEZ',\n 'IN_DEFICIENCIA_AUDITIVA',\n 'IN_SURDO_CEGUEIRA',\n 'IN_DEFICIENCIA_FISICA',\n 'IN_DEFICIENCIA_MENTAL',\n 'IN_DEFICIT_ATENCAO',\n 'IN_DISLEXIA',\n 'IN_DISCALCULIA',\n 'IN_AUTISMO',\n 'IN_VISAO_MONOCULAR',\n 'IN_OUTRA_DEF',\n 'IN_GESTANTE',\n 'IN_LACTANTE',\n 'IN_IDOSO',\n 'IN_ESTUDA_CLASSE_HOSPITALAR',\n 'IN_SEM_RECURSO',\n 'IN_BRAILLE',\n 'IN_AMPLIADA_24',\n 'IN_AMPLIADA_18',\n 'IN_LEDOR',\n 'IN_ACESSO',\n 'IN_TRANSCRICAO',\n 'IN_LIBRAS',\n 'IN_LEITURA_LABIAL',\n 'IN_MESA_CADEIRA_RODAS',\n 'IN_MESA_CADEIRA_SEPARADA',\n 'IN_APOIO_PERNA',\n 'IN_GUIA_INTERPRETE',\n 'IN_COMPUTADOR',\n 'IN_CADEIRA_ESPECIAL',\n 'IN_CADEIRA_CANHOTO',\n 'IN_CADEIRA_ACOLCHOADA',\n 'IN_PROVA_DEITADO',\n 'IN_MOBILIARIO_OBESO',\n 'IN_LAMINA_OVERLAY',\n 'IN_PROTETOR_AURICULAR',\n 'IN_MEDIDOR_GLICOSE',\n 'IN_MAQUINA_BRAILE',\n 'IN_SOROBAN',\n 'IN_MARCA_PASSO',\n 'IN_SONDA',\n 'IN_MEDICAMENTOS',\n 'IN_SALA_INDIVIDUAL',\n 'IN_SALA_ESPECIAL',\n 'IN_SALA_ACOMPANHANTE',\n 'IN_MOBILIARIO_ESPECIFICO',\n 'IN_NOME_SOCIAL',\n 'NO_MUNICIPIO_PROVA',\n 'CO_UF_PROVA',\n 'SG_UF_PROVA',\n 'TP_PRESENCA_CN',\n 'TP_PRESENCA_CH',\n 'TP_PRESENCA_LC',\n 'TP_PRESENCA_MT',\n 'NU_NOTA_CN',\n 'NU_NOTA_CH',\n 'NU_NOTA_LC',\n 'NU_NOTA_MT',\n 'TP_LINGUA',\n 'TP_STATUS_REDACAO',\n 'NU_NOTA_COMP1',\n 'NU_NOTA_COMP2',\n 'NU_NOTA_COMP3',\n 'NU_NOTA_COMP4',\n 'NU_NOTA_COMP5',\n 'NU_NOTA_REDACAO',\n 'Q001',\n 'Q002',\n 'Q005',\n 'Q006',\n 'Q022',\n 'Q024',\n 'Q025',\n 'SEXO',\n 'ESTADO_CIVIL',\n 'RACA',\n 'NACIONALIDADE',\n 'SITUACAO_CONCLUSAO_ENSINO_MEDIO',\n 'TIPO_ESCOLA',\n 'TIPO_ENSINO',\n 'TREINEIRO',\n 'DEPENDENCIA_ADMINISTRATIVA_ESCOLA',\n 'LOCALIZACAO_ESCOLA',\n 'BAIXA_VISAO',\n 'CEGUEIRA',\n 'SURDEZ',\n 'DEFICIENCIA_AUDITIVA',\n 'SURDO_CEGUEIRA',\n 'DEFICIENCIA_FISICA',\n 'DEFICIENCIA_MENTAL',\n 'DEFICIT_ATENCAO',\n 'DISLEXIA',\n 'DISCALCULIA',\n 'AUTISMO',\n 'VISAO_MONOCULAR',\n 'OUTRA_DEF',\n 'GESTANTE',\n 'LACTANTE',\n 'IDOSO',\n 'ESTUDA_CLASSE_HOSPITALAR',\n 'SEM_RECURSO',\n 'BRAILLE',\n 'AMPLIADA_24',\n 'AMPLIADA_18',\n 'LEDOR',\n 'ACESSO',\n 'TRANSCRICAO',\n 'LIBRAS',\n 'LEITURA_LABIAL',\n 'MESA_CADEIRA_RODAS',\n 'MESA_CADEIRA_SEPARADA',\n 'APOIO_PERNA',\n 'GUIA_INTERPRETE',\n 'COMPUTADOR',\n 'CADEIRA_ESPECIAL',\n 'CADEIRA_CANHOTO',\n 'CADEIRA_ACOLCHOADA',\n 'PROVA_DEITADO',\n 'MOBILIARIO_OBESO',\n 'LAMINA_OVERLAY',\n 'PROTETOR_AURICULAR',\n 'MEDIDOR_GLICOSE',\n 'MAQUINA_BRAILE',\n 'SOROBAN',\n 'MARCA_PASSO',\n 'SONDA',\n 'MEDICAMENTOS',\n 'SALA_INDIVIDUAL',\n 'SALA_ESPECIAL',\n 'SALA_ACOMPANHANTE',\n 'MOBILIARIO_ESPECIFICO',\n 'NOME_SOCIAL',\n 'PRESENCA_CIENCIAS_NATUREZA',\n 'PRESENCA_CIENCIAS_HUMANAS',\n 'PRESENCA_LINGUAGENS_CODIGOS',\n 'PRESENCA_MATEMATICA',\n 'LINGUA',\n 'STATUS_REDACAO',\n 'PAI_ESTUDOU',\n 'MAE_ESTUDOU',\n 'QTDE_MORADOR_RESIDENCIA',\n 'RENDA_MENSAL_FAMILIAR',\n 'RESIDENCIA_CELULAR',\n 'RESIDENCIA_COMPUTADOR',\n 'RESIDENCIA_INTERNET']"
     },
     "metadata": {},
     "execution_count": 96
    }
   ],
   "source": [
    "df_enem_analise.columns[:]"
   ]
  },
  {
   "cell_type": "code",
   "execution_count": 97,
   "metadata": {
    "tags": []
   },
   "outputs": [
    {
     "output_type": "stream",
     "name": "stdout",
     "text": "Apresentação do processo de criação de uma tabela temporária para utilização do SQL - 2020-09-02 18:14:40.753879.\nCriação da tabela temporaria com sucesso - 2020-09-02 18:14:40.970302.\n"
    }
   ],
   "source": [
    "# Criar tabela temporaria e usar sql para consulta\n",
    "\n",
    "print(f'Apresentação do processo de criação de uma tabela temporária para utilização do SQL - {datetime.now()}.')\n",
    "\n",
    "df_enem_analise.createOrReplaceTempView('enemtb')\n",
    "\n",
    "print(f'Criação da tabela temporaria com sucesso - {datetime.now()}.')"
   ]
  },
  {
   "cell_type": "code",
   "execution_count": 98,
   "metadata": {
    "tags": []
   },
   "outputs": [
    {
     "output_type": "stream",
     "name": "stdout",
     "text": "Quantidade de inscriçoes por Ano.\n\nConsulta inciada -  2020-09-02 18:14:40.988252\n+----+--------------+----------+\n| ANO|QTDE_INSCRICAO|PERCENTUAL|\n+----+--------------+----------+\n|2015|       7746427|     22.98|\n|2016|       8627367|     25.59|\n|2017|       6731341|     19.97|\n|2018|       5513747|     16.35|\n|2019|       5095270|     15.11|\n+----+--------------+----------+\n\nConsulta realizada com sucesso -  2020-09-02 18:21:02.826920\n"
    },
    {
     "output_type": "display_data",
     "data": {
      "text/plain": "<Figure size 432x288 with 1 Axes>",
      "image/svg+xml": "<?xml version=\"1.0\" encoding=\"utf-8\" standalone=\"no\"?>\r\n<!DOCTYPE svg PUBLIC \"-//W3C//DTD SVG 1.1//EN\"\r\n  \"http://www.w3.org/Graphics/SVG/1.1/DTD/svg11.dtd\">\r\n<!-- Created with matplotlib (https://matplotlib.org/) -->\r\n<svg height=\"293.08625pt\" version=\"1.1\" viewBox=\"0 0 376.489062 293.08625\" width=\"376.489062pt\" xmlns=\"http://www.w3.org/2000/svg\" xmlns:xlink=\"http://www.w3.org/1999/xlink\">\r\n <metadata>\r\n  <rdf:RDF xmlns:cc=\"http://creativecommons.org/ns#\" xmlns:dc=\"http://purl.org/dc/elements/1.1/\" xmlns:rdf=\"http://www.w3.org/1999/02/22-rdf-syntax-ns#\">\r\n   <cc:Work>\r\n    <dc:type rdf:resource=\"http://purl.org/dc/dcmitype/StillImage\"/>\r\n    <dc:date>2020-09-02T18:21:02.932638</dc:date>\r\n    <dc:format>image/svg+xml</dc:format>\r\n    <dc:creator>\r\n     <cc:Agent>\r\n      <dc:title>Matplotlib v3.3.1, https://matplotlib.org/</dc:title>\r\n     </cc:Agent>\r\n    </dc:creator>\r\n   </cc:Work>\r\n  </rdf:RDF>\r\n </metadata>\r\n <defs>\r\n  <style type=\"text/css\">*{stroke-linecap:butt;stroke-linejoin:round;}</style>\r\n </defs>\r\n <g id=\"figure_1\">\r\n  <g id=\"patch_1\">\r\n   <path d=\"M 0 293.08625 \r\nL 376.489062 293.08625 \r\nL 376.489062 0 \r\nL 0 0 \r\nz\r\n\" style=\"fill:none;\"/>\r\n  </g>\r\n  <g id=\"axes_1\">\r\n   <g id=\"patch_2\">\r\n    <path d=\"M 34.489063 239.758125 \r\nL 369.289062 239.758125 \r\nL 369.289062 22.318125 \r\nL 34.489063 22.318125 \r\nz\r\n\" style=\"fill:#ffffff;\"/>\r\n   </g>\r\n   <g id=\"patch_3\">\r\n    <path clip-path=\"url(#pc4cffcd3fc)\" d=\"M 51.229063 239.758125 \r\nL 84.709063 239.758125 \r\nL 84.709063 53.817922 \r\nL 51.229063 53.817922 \r\nz\r\n\" style=\"fill:#1f77b4;\"/>\r\n   </g>\r\n   <g id=\"patch_4\">\r\n    <path clip-path=\"url(#pc4cffcd3fc)\" d=\"M 118.189063 239.758125 \r\nL 151.669062 239.758125 \r\nL 151.669062 32.672411 \r\nL 118.189063 32.672411 \r\nz\r\n\" style=\"fill:#1f77b4;\"/>\r\n   </g>\r\n   <g id=\"patch_5\">\r\n    <path clip-path=\"url(#pc4cffcd3fc)\" d=\"M 185.149063 239.758125 \r\nL 218.629063 239.758125 \r\nL 218.629063 78.183387 \r\nL 185.149063 78.183387 \r\nz\r\n\" style=\"fill:#1f77b4;\"/>\r\n   </g>\r\n   <g id=\"patch_6\">\r\n    <path clip-path=\"url(#pc4cffcd3fc)\" d=\"M 252.109063 239.758125 \r\nL 285.589063 239.758125 \r\nL 285.589063 107.409723 \r\nL 252.109063 107.409723 \r\nz\r\n\" style=\"fill:#1f77b4;\"/>\r\n   </g>\r\n   <g id=\"patch_7\">\r\n    <path clip-path=\"url(#pc4cffcd3fc)\" d=\"M 319.069063 239.758125 \r\nL 352.549063 239.758125 \r\nL 352.549063 117.454573 \r\nL 319.069063 117.454573 \r\nz\r\n\" style=\"fill:#1f77b4;\"/>\r\n   </g>\r\n   <g id=\"matplotlib.axis_1\">\r\n    <g id=\"xtick_1\">\r\n     <g id=\"line2d_1\">\r\n      <defs>\r\n       <path d=\"M 0 0 \r\nL 0 3.5 \r\n\" id=\"mff4b77851e\" style=\"stroke:#000000;stroke-width:0.8;\"/>\r\n      </defs>\r\n      <g>\r\n       <use style=\"stroke:#000000;stroke-width:0.8;\" x=\"67.969063\" xlink:href=\"#mff4b77851e\" y=\"239.758125\"/>\r\n      </g>\r\n     </g>\r\n     <g id=\"text_1\">\r\n      <!-- 2015 -->\r\n      <g transform=\"translate(70.728438 272.208125)rotate(-90)scale(0.1 -0.1)\">\r\n       <defs>\r\n        <path d=\"M 19.1875 8.296875 \r\nL 53.609375 8.296875 \r\nL 53.609375 0 \r\nL 7.328125 0 \r\nL 7.328125 8.296875 \r\nQ 12.9375 14.109375 22.625 23.890625 \r\nQ 32.328125 33.6875 34.8125 36.53125 \r\nQ 39.546875 41.84375 41.421875 45.53125 \r\nQ 43.3125 49.21875 43.3125 52.78125 \r\nQ 43.3125 58.59375 39.234375 62.25 \r\nQ 35.15625 65.921875 28.609375 65.921875 \r\nQ 23.96875 65.921875 18.8125 64.3125 \r\nQ 13.671875 62.703125 7.8125 59.421875 \r\nL 7.8125 69.390625 \r\nQ 13.765625 71.78125 18.9375 73 \r\nQ 24.125 74.21875 28.421875 74.21875 \r\nQ 39.75 74.21875 46.484375 68.546875 \r\nQ 53.21875 62.890625 53.21875 53.421875 \r\nQ 53.21875 48.921875 51.53125 44.890625 \r\nQ 49.859375 40.875 45.40625 35.40625 \r\nQ 44.1875 33.984375 37.640625 27.21875 \r\nQ 31.109375 20.453125 19.1875 8.296875 \r\nz\r\n\" id=\"DejaVuSans-50\"/>\r\n        <path d=\"M 31.78125 66.40625 \r\nQ 24.171875 66.40625 20.328125 58.90625 \r\nQ 16.5 51.421875 16.5 36.375 \r\nQ 16.5 21.390625 20.328125 13.890625 \r\nQ 24.171875 6.390625 31.78125 6.390625 \r\nQ 39.453125 6.390625 43.28125 13.890625 \r\nQ 47.125 21.390625 47.125 36.375 \r\nQ 47.125 51.421875 43.28125 58.90625 \r\nQ 39.453125 66.40625 31.78125 66.40625 \r\nz\r\nM 31.78125 74.21875 \r\nQ 44.046875 74.21875 50.515625 64.515625 \r\nQ 56.984375 54.828125 56.984375 36.375 \r\nQ 56.984375 17.96875 50.515625 8.265625 \r\nQ 44.046875 -1.421875 31.78125 -1.421875 \r\nQ 19.53125 -1.421875 13.0625 8.265625 \r\nQ 6.59375 17.96875 6.59375 36.375 \r\nQ 6.59375 54.828125 13.0625 64.515625 \r\nQ 19.53125 74.21875 31.78125 74.21875 \r\nz\r\n\" id=\"DejaVuSans-48\"/>\r\n        <path d=\"M 12.40625 8.296875 \r\nL 28.515625 8.296875 \r\nL 28.515625 63.921875 \r\nL 10.984375 60.40625 \r\nL 10.984375 69.390625 \r\nL 28.421875 72.90625 \r\nL 38.28125 72.90625 \r\nL 38.28125 8.296875 \r\nL 54.390625 8.296875 \r\nL 54.390625 0 \r\nL 12.40625 0 \r\nz\r\n\" id=\"DejaVuSans-49\"/>\r\n        <path d=\"M 10.796875 72.90625 \r\nL 49.515625 72.90625 \r\nL 49.515625 64.59375 \r\nL 19.828125 64.59375 \r\nL 19.828125 46.734375 \r\nQ 21.96875 47.46875 24.109375 47.828125 \r\nQ 26.265625 48.1875 28.421875 48.1875 \r\nQ 40.625 48.1875 47.75 41.5 \r\nQ 54.890625 34.8125 54.890625 23.390625 \r\nQ 54.890625 11.625 47.5625 5.09375 \r\nQ 40.234375 -1.421875 26.90625 -1.421875 \r\nQ 22.3125 -1.421875 17.546875 -0.640625 \r\nQ 12.796875 0.140625 7.71875 1.703125 \r\nL 7.71875 11.625 \r\nQ 12.109375 9.234375 16.796875 8.0625 \r\nQ 21.484375 6.890625 26.703125 6.890625 \r\nQ 35.15625 6.890625 40.078125 11.328125 \r\nQ 45.015625 15.765625 45.015625 23.390625 \r\nQ 45.015625 31 40.078125 35.4375 \r\nQ 35.15625 39.890625 26.703125 39.890625 \r\nQ 22.75 39.890625 18.8125 39.015625 \r\nQ 14.890625 38.140625 10.796875 36.28125 \r\nz\r\n\" id=\"DejaVuSans-53\"/>\r\n       </defs>\r\n       <use xlink:href=\"#DejaVuSans-50\"/>\r\n       <use x=\"63.623047\" xlink:href=\"#DejaVuSans-48\"/>\r\n       <use x=\"127.246094\" xlink:href=\"#DejaVuSans-49\"/>\r\n       <use x=\"190.869141\" xlink:href=\"#DejaVuSans-53\"/>\r\n      </g>\r\n     </g>\r\n    </g>\r\n    <g id=\"xtick_2\">\r\n     <g id=\"line2d_2\">\r\n      <g>\r\n       <use style=\"stroke:#000000;stroke-width:0.8;\" x=\"134.929063\" xlink:href=\"#mff4b77851e\" y=\"239.758125\"/>\r\n      </g>\r\n     </g>\r\n     <g id=\"text_2\">\r\n      <!-- 2016 -->\r\n      <g transform=\"translate(137.688438 272.208125)rotate(-90)scale(0.1 -0.1)\">\r\n       <defs>\r\n        <path d=\"M 33.015625 40.375 \r\nQ 26.375 40.375 22.484375 35.828125 \r\nQ 18.609375 31.296875 18.609375 23.390625 \r\nQ 18.609375 15.53125 22.484375 10.953125 \r\nQ 26.375 6.390625 33.015625 6.390625 \r\nQ 39.65625 6.390625 43.53125 10.953125 \r\nQ 47.40625 15.53125 47.40625 23.390625 \r\nQ 47.40625 31.296875 43.53125 35.828125 \r\nQ 39.65625 40.375 33.015625 40.375 \r\nz\r\nM 52.59375 71.296875 \r\nL 52.59375 62.3125 \r\nQ 48.875 64.0625 45.09375 64.984375 \r\nQ 41.3125 65.921875 37.59375 65.921875 \r\nQ 27.828125 65.921875 22.671875 59.328125 \r\nQ 17.53125 52.734375 16.796875 39.40625 \r\nQ 19.671875 43.65625 24.015625 45.921875 \r\nQ 28.375 48.1875 33.59375 48.1875 \r\nQ 44.578125 48.1875 50.953125 41.515625 \r\nQ 57.328125 34.859375 57.328125 23.390625 \r\nQ 57.328125 12.15625 50.6875 5.359375 \r\nQ 44.046875 -1.421875 33.015625 -1.421875 \r\nQ 20.359375 -1.421875 13.671875 8.265625 \r\nQ 6.984375 17.96875 6.984375 36.375 \r\nQ 6.984375 53.65625 15.1875 63.9375 \r\nQ 23.390625 74.21875 37.203125 74.21875 \r\nQ 40.921875 74.21875 44.703125 73.484375 \r\nQ 48.484375 72.75 52.59375 71.296875 \r\nz\r\n\" id=\"DejaVuSans-54\"/>\r\n       </defs>\r\n       <use xlink:href=\"#DejaVuSans-50\"/>\r\n       <use x=\"63.623047\" xlink:href=\"#DejaVuSans-48\"/>\r\n       <use x=\"127.246094\" xlink:href=\"#DejaVuSans-49\"/>\r\n       <use x=\"190.869141\" xlink:href=\"#DejaVuSans-54\"/>\r\n      </g>\r\n     </g>\r\n    </g>\r\n    <g id=\"xtick_3\">\r\n     <g id=\"line2d_3\">\r\n      <g>\r\n       <use style=\"stroke:#000000;stroke-width:0.8;\" x=\"201.889063\" xlink:href=\"#mff4b77851e\" y=\"239.758125\"/>\r\n      </g>\r\n     </g>\r\n     <g id=\"text_3\">\r\n      <!-- 2017 -->\r\n      <g transform=\"translate(204.648438 272.208125)rotate(-90)scale(0.1 -0.1)\">\r\n       <defs>\r\n        <path d=\"M 8.203125 72.90625 \r\nL 55.078125 72.90625 \r\nL 55.078125 68.703125 \r\nL 28.609375 0 \r\nL 18.3125 0 \r\nL 43.21875 64.59375 \r\nL 8.203125 64.59375 \r\nz\r\n\" id=\"DejaVuSans-55\"/>\r\n       </defs>\r\n       <use xlink:href=\"#DejaVuSans-50\"/>\r\n       <use x=\"63.623047\" xlink:href=\"#DejaVuSans-48\"/>\r\n       <use x=\"127.246094\" xlink:href=\"#DejaVuSans-49\"/>\r\n       <use x=\"190.869141\" xlink:href=\"#DejaVuSans-55\"/>\r\n      </g>\r\n     </g>\r\n    </g>\r\n    <g id=\"xtick_4\">\r\n     <g id=\"line2d_4\">\r\n      <g>\r\n       <use style=\"stroke:#000000;stroke-width:0.8;\" x=\"268.849063\" xlink:href=\"#mff4b77851e\" y=\"239.758125\"/>\r\n      </g>\r\n     </g>\r\n     <g id=\"text_4\">\r\n      <!-- 2018 -->\r\n      <g transform=\"translate(271.608438 272.208125)rotate(-90)scale(0.1 -0.1)\">\r\n       <defs>\r\n        <path d=\"M 31.78125 34.625 \r\nQ 24.75 34.625 20.71875 30.859375 \r\nQ 16.703125 27.09375 16.703125 20.515625 \r\nQ 16.703125 13.921875 20.71875 10.15625 \r\nQ 24.75 6.390625 31.78125 6.390625 \r\nQ 38.8125 6.390625 42.859375 10.171875 \r\nQ 46.921875 13.96875 46.921875 20.515625 \r\nQ 46.921875 27.09375 42.890625 30.859375 \r\nQ 38.875 34.625 31.78125 34.625 \r\nz\r\nM 21.921875 38.8125 \r\nQ 15.578125 40.375 12.03125 44.71875 \r\nQ 8.5 49.078125 8.5 55.328125 \r\nQ 8.5 64.0625 14.71875 69.140625 \r\nQ 20.953125 74.21875 31.78125 74.21875 \r\nQ 42.671875 74.21875 48.875 69.140625 \r\nQ 55.078125 64.0625 55.078125 55.328125 \r\nQ 55.078125 49.078125 51.53125 44.71875 \r\nQ 48 40.375 41.703125 38.8125 \r\nQ 48.828125 37.15625 52.796875 32.3125 \r\nQ 56.78125 27.484375 56.78125 20.515625 \r\nQ 56.78125 9.90625 50.3125 4.234375 \r\nQ 43.84375 -1.421875 31.78125 -1.421875 \r\nQ 19.734375 -1.421875 13.25 4.234375 \r\nQ 6.78125 9.90625 6.78125 20.515625 \r\nQ 6.78125 27.484375 10.78125 32.3125 \r\nQ 14.796875 37.15625 21.921875 38.8125 \r\nz\r\nM 18.3125 54.390625 \r\nQ 18.3125 48.734375 21.84375 45.5625 \r\nQ 25.390625 42.390625 31.78125 42.390625 \r\nQ 38.140625 42.390625 41.71875 45.5625 \r\nQ 45.3125 48.734375 45.3125 54.390625 \r\nQ 45.3125 60.0625 41.71875 63.234375 \r\nQ 38.140625 66.40625 31.78125 66.40625 \r\nQ 25.390625 66.40625 21.84375 63.234375 \r\nQ 18.3125 60.0625 18.3125 54.390625 \r\nz\r\n\" id=\"DejaVuSans-56\"/>\r\n       </defs>\r\n       <use xlink:href=\"#DejaVuSans-50\"/>\r\n       <use x=\"63.623047\" xlink:href=\"#DejaVuSans-48\"/>\r\n       <use x=\"127.246094\" xlink:href=\"#DejaVuSans-49\"/>\r\n       <use x=\"190.869141\" xlink:href=\"#DejaVuSans-56\"/>\r\n      </g>\r\n     </g>\r\n    </g>\r\n    <g id=\"xtick_5\">\r\n     <g id=\"line2d_5\">\r\n      <g>\r\n       <use style=\"stroke:#000000;stroke-width:0.8;\" x=\"335.809063\" xlink:href=\"#mff4b77851e\" y=\"239.758125\"/>\r\n      </g>\r\n     </g>\r\n     <g id=\"text_5\">\r\n      <!-- 2019 -->\r\n      <g transform=\"translate(338.568438 272.208125)rotate(-90)scale(0.1 -0.1)\">\r\n       <defs>\r\n        <path d=\"M 10.984375 1.515625 \r\nL 10.984375 10.5 \r\nQ 14.703125 8.734375 18.5 7.8125 \r\nQ 22.3125 6.890625 25.984375 6.890625 \r\nQ 35.75 6.890625 40.890625 13.453125 \r\nQ 46.046875 20.015625 46.78125 33.40625 \r\nQ 43.953125 29.203125 39.59375 26.953125 \r\nQ 35.25 24.703125 29.984375 24.703125 \r\nQ 19.046875 24.703125 12.671875 31.3125 \r\nQ 6.296875 37.9375 6.296875 49.421875 \r\nQ 6.296875 60.640625 12.9375 67.421875 \r\nQ 19.578125 74.21875 30.609375 74.21875 \r\nQ 43.265625 74.21875 49.921875 64.515625 \r\nQ 56.59375 54.828125 56.59375 36.375 \r\nQ 56.59375 19.140625 48.40625 8.859375 \r\nQ 40.234375 -1.421875 26.421875 -1.421875 \r\nQ 22.703125 -1.421875 18.890625 -0.6875 \r\nQ 15.09375 0.046875 10.984375 1.515625 \r\nz\r\nM 30.609375 32.421875 \r\nQ 37.25 32.421875 41.125 36.953125 \r\nQ 45.015625 41.5 45.015625 49.421875 \r\nQ 45.015625 57.28125 41.125 61.84375 \r\nQ 37.25 66.40625 30.609375 66.40625 \r\nQ 23.96875 66.40625 20.09375 61.84375 \r\nQ 16.21875 57.28125 16.21875 49.421875 \r\nQ 16.21875 41.5 20.09375 36.953125 \r\nQ 23.96875 32.421875 30.609375 32.421875 \r\nz\r\n\" id=\"DejaVuSans-57\"/>\r\n       </defs>\r\n       <use xlink:href=\"#DejaVuSans-50\"/>\r\n       <use x=\"63.623047\" xlink:href=\"#DejaVuSans-48\"/>\r\n       <use x=\"127.246094\" xlink:href=\"#DejaVuSans-49\"/>\r\n       <use x=\"190.869141\" xlink:href=\"#DejaVuSans-57\"/>\r\n      </g>\r\n     </g>\r\n    </g>\r\n    <g id=\"text_6\">\r\n     <!-- Ano -->\r\n     <g transform=\"translate(192.240625 283.806562)scale(0.1 -0.1)\">\r\n      <defs>\r\n       <path d=\"M 34.1875 63.1875 \r\nL 20.796875 26.90625 \r\nL 47.609375 26.90625 \r\nz\r\nM 28.609375 72.90625 \r\nL 39.796875 72.90625 \r\nL 67.578125 0 \r\nL 57.328125 0 \r\nL 50.6875 18.703125 \r\nL 17.828125 18.703125 \r\nL 11.1875 0 \r\nL 0.78125 0 \r\nz\r\n\" id=\"DejaVuSans-65\"/>\r\n       <path d=\"M 54.890625 33.015625 \r\nL 54.890625 0 \r\nL 45.90625 0 \r\nL 45.90625 32.71875 \r\nQ 45.90625 40.484375 42.875 44.328125 \r\nQ 39.84375 48.1875 33.796875 48.1875 \r\nQ 26.515625 48.1875 22.3125 43.546875 \r\nQ 18.109375 38.921875 18.109375 30.90625 \r\nL 18.109375 0 \r\nL 9.078125 0 \r\nL 9.078125 54.6875 \r\nL 18.109375 54.6875 \r\nL 18.109375 46.1875 \r\nQ 21.34375 51.125 25.703125 53.5625 \r\nQ 30.078125 56 35.796875 56 \r\nQ 45.21875 56 50.046875 50.171875 \r\nQ 54.890625 44.34375 54.890625 33.015625 \r\nz\r\n\" id=\"DejaVuSans-110\"/>\r\n       <path d=\"M 30.609375 48.390625 \r\nQ 23.390625 48.390625 19.1875 42.75 \r\nQ 14.984375 37.109375 14.984375 27.296875 \r\nQ 14.984375 17.484375 19.15625 11.84375 \r\nQ 23.34375 6.203125 30.609375 6.203125 \r\nQ 37.796875 6.203125 41.984375 11.859375 \r\nQ 46.1875 17.53125 46.1875 27.296875 \r\nQ 46.1875 37.015625 41.984375 42.703125 \r\nQ 37.796875 48.390625 30.609375 48.390625 \r\nz\r\nM 30.609375 56 \r\nQ 42.328125 56 49.015625 48.375 \r\nQ 55.71875 40.765625 55.71875 27.296875 \r\nQ 55.71875 13.875 49.015625 6.21875 \r\nQ 42.328125 -1.421875 30.609375 -1.421875 \r\nQ 18.84375 -1.421875 12.171875 6.21875 \r\nQ 5.515625 13.875 5.515625 27.296875 \r\nQ 5.515625 40.765625 12.171875 48.375 \r\nQ 18.84375 56 30.609375 56 \r\nz\r\n\" id=\"DejaVuSans-111\"/>\r\n      </defs>\r\n      <use xlink:href=\"#DejaVuSans-65\"/>\r\n      <use x=\"68.408203\" xlink:href=\"#DejaVuSans-110\"/>\r\n      <use x=\"131.787109\" xlink:href=\"#DejaVuSans-111\"/>\r\n     </g>\r\n    </g>\r\n   </g>\r\n   <g id=\"matplotlib.axis_2\">\r\n    <g id=\"ytick_1\">\r\n     <g id=\"line2d_6\">\r\n      <defs>\r\n       <path d=\"M 0 0 \r\nL -3.5 0 \r\n\" id=\"m46fd676168\" style=\"stroke:#000000;stroke-width:0.8;\"/>\r\n      </defs>\r\n      <g>\r\n       <use style=\"stroke:#000000;stroke-width:0.8;\" x=\"34.489063\" xlink:href=\"#m46fd676168\" y=\"239.758125\"/>\r\n      </g>\r\n     </g>\r\n     <g id=\"text_7\">\r\n      <!-- 0 -->\r\n      <g transform=\"translate(21.126563 243.557344)scale(0.1 -0.1)\">\r\n       <use xlink:href=\"#DejaVuSans-48\"/>\r\n      </g>\r\n     </g>\r\n    </g>\r\n    <g id=\"ytick_2\">\r\n     <g id=\"line2d_7\">\r\n      <g>\r\n       <use style=\"stroke:#000000;stroke-width:0.8;\" x=\"34.489063\" xlink:href=\"#m46fd676168\" y=\"191.751424\"/>\r\n      </g>\r\n     </g>\r\n     <g id=\"text_8\">\r\n      <!-- 2 -->\r\n      <g transform=\"translate(21.126563 195.550643)scale(0.1 -0.1)\">\r\n       <use xlink:href=\"#DejaVuSans-50\"/>\r\n      </g>\r\n     </g>\r\n    </g>\r\n    <g id=\"ytick_3\">\r\n     <g id=\"line2d_8\">\r\n      <g>\r\n       <use style=\"stroke:#000000;stroke-width:0.8;\" x=\"34.489063\" xlink:href=\"#m46fd676168\" y=\"143.744723\"/>\r\n      </g>\r\n     </g>\r\n     <g id=\"text_9\">\r\n      <!-- 4 -->\r\n      <g transform=\"translate(21.126563 147.543942)scale(0.1 -0.1)\">\r\n       <defs>\r\n        <path d=\"M 37.796875 64.3125 \r\nL 12.890625 25.390625 \r\nL 37.796875 25.390625 \r\nz\r\nM 35.203125 72.90625 \r\nL 47.609375 72.90625 \r\nL 47.609375 25.390625 \r\nL 58.015625 25.390625 \r\nL 58.015625 17.1875 \r\nL 47.609375 17.1875 \r\nL 47.609375 0 \r\nL 37.796875 0 \r\nL 37.796875 17.1875 \r\nL 4.890625 17.1875 \r\nL 4.890625 26.703125 \r\nz\r\n\" id=\"DejaVuSans-52\"/>\r\n       </defs>\r\n       <use xlink:href=\"#DejaVuSans-52\"/>\r\n      </g>\r\n     </g>\r\n    </g>\r\n    <g id=\"ytick_4\">\r\n     <g id=\"line2d_9\">\r\n      <g>\r\n       <use style=\"stroke:#000000;stroke-width:0.8;\" x=\"34.489063\" xlink:href=\"#m46fd676168\" y=\"95.738022\"/>\r\n      </g>\r\n     </g>\r\n     <g id=\"text_10\">\r\n      <!-- 6 -->\r\n      <g transform=\"translate(21.126563 99.537241)scale(0.1 -0.1)\">\r\n       <use xlink:href=\"#DejaVuSans-54\"/>\r\n      </g>\r\n     </g>\r\n    </g>\r\n    <g id=\"ytick_5\">\r\n     <g id=\"line2d_10\">\r\n      <g>\r\n       <use style=\"stroke:#000000;stroke-width:0.8;\" x=\"34.489063\" xlink:href=\"#m46fd676168\" y=\"47.731321\"/>\r\n      </g>\r\n     </g>\r\n     <g id=\"text_11\">\r\n      <!-- 8 -->\r\n      <g transform=\"translate(21.126563 51.530539)scale(0.1 -0.1)\">\r\n       <use xlink:href=\"#DejaVuSans-56\"/>\r\n      </g>\r\n     </g>\r\n    </g>\r\n    <g id=\"text_12\">\r\n     <!-- Número de Inscrição (1.000.000) -->\r\n     <g transform=\"translate(15.046875 213.577969)rotate(-90)scale(0.1 -0.1)\">\r\n      <defs>\r\n       <path d=\"M 9.8125 72.90625 \r\nL 23.09375 72.90625 \r\nL 55.421875 11.921875 \r\nL 55.421875 72.90625 \r\nL 64.984375 72.90625 \r\nL 64.984375 0 \r\nL 51.703125 0 \r\nL 19.390625 60.984375 \r\nL 19.390625 0 \r\nL 9.8125 0 \r\nz\r\n\" id=\"DejaVuSans-78\"/>\r\n       <path d=\"M 8.5 21.578125 \r\nL 8.5 54.6875 \r\nL 17.484375 54.6875 \r\nL 17.484375 21.921875 \r\nQ 17.484375 14.15625 20.5 10.265625 \r\nQ 23.53125 6.390625 29.59375 6.390625 \r\nQ 36.859375 6.390625 41.078125 11.03125 \r\nQ 45.3125 15.671875 45.3125 23.6875 \r\nL 45.3125 54.6875 \r\nL 54.296875 54.6875 \r\nL 54.296875 0 \r\nL 45.3125 0 \r\nL 45.3125 8.40625 \r\nQ 42.046875 3.421875 37.71875 1 \r\nQ 33.40625 -1.421875 27.6875 -1.421875 \r\nQ 18.265625 -1.421875 13.375 4.4375 \r\nQ 8.5 10.296875 8.5 21.578125 \r\nz\r\nM 31.109375 56 \r\nz\r\nM 37.78125 79.984375 \r\nL 47.5 79.984375 \r\nL 31.59375 61.625 \r\nL 24.109375 61.625 \r\nz\r\n\" id=\"DejaVuSans-250\"/>\r\n       <path d=\"M 52 44.1875 \r\nQ 55.375 50.25 60.0625 53.125 \r\nQ 64.75 56 71.09375 56 \r\nQ 79.640625 56 84.28125 50.015625 \r\nQ 88.921875 44.046875 88.921875 33.015625 \r\nL 88.921875 0 \r\nL 79.890625 0 \r\nL 79.890625 32.71875 \r\nQ 79.890625 40.578125 77.09375 44.375 \r\nQ 74.3125 48.1875 68.609375 48.1875 \r\nQ 61.625 48.1875 57.5625 43.546875 \r\nQ 53.515625 38.921875 53.515625 30.90625 \r\nL 53.515625 0 \r\nL 44.484375 0 \r\nL 44.484375 32.71875 \r\nQ 44.484375 40.625 41.703125 44.40625 \r\nQ 38.921875 48.1875 33.109375 48.1875 \r\nQ 26.21875 48.1875 22.15625 43.53125 \r\nQ 18.109375 38.875 18.109375 30.90625 \r\nL 18.109375 0 \r\nL 9.078125 0 \r\nL 9.078125 54.6875 \r\nL 18.109375 54.6875 \r\nL 18.109375 46.1875 \r\nQ 21.1875 51.21875 25.484375 53.609375 \r\nQ 29.78125 56 35.6875 56 \r\nQ 41.65625 56 45.828125 52.96875 \r\nQ 50 49.953125 52 44.1875 \r\nz\r\n\" id=\"DejaVuSans-109\"/>\r\n       <path d=\"M 56.203125 29.59375 \r\nL 56.203125 25.203125 \r\nL 14.890625 25.203125 \r\nQ 15.484375 15.921875 20.484375 11.0625 \r\nQ 25.484375 6.203125 34.421875 6.203125 \r\nQ 39.59375 6.203125 44.453125 7.46875 \r\nQ 49.3125 8.734375 54.109375 11.28125 \r\nL 54.109375 2.78125 \r\nQ 49.265625 0.734375 44.1875 -0.34375 \r\nQ 39.109375 -1.421875 33.890625 -1.421875 \r\nQ 20.796875 -1.421875 13.15625 6.1875 \r\nQ 5.515625 13.8125 5.515625 26.8125 \r\nQ 5.515625 40.234375 12.765625 48.109375 \r\nQ 20.015625 56 32.328125 56 \r\nQ 43.359375 56 49.78125 48.890625 \r\nQ 56.203125 41.796875 56.203125 29.59375 \r\nz\r\nM 47.21875 32.234375 \r\nQ 47.125 39.59375 43.09375 43.984375 \r\nQ 39.0625 48.390625 32.421875 48.390625 \r\nQ 24.90625 48.390625 20.390625 44.140625 \r\nQ 15.875 39.890625 15.1875 32.171875 \r\nz\r\n\" id=\"DejaVuSans-101\"/>\r\n       <path d=\"M 41.109375 46.296875 \r\nQ 39.59375 47.171875 37.8125 47.578125 \r\nQ 36.03125 48 33.890625 48 \r\nQ 26.265625 48 22.1875 43.046875 \r\nQ 18.109375 38.09375 18.109375 28.8125 \r\nL 18.109375 0 \r\nL 9.078125 0 \r\nL 9.078125 54.6875 \r\nL 18.109375 54.6875 \r\nL 18.109375 46.1875 \r\nQ 20.953125 51.171875 25.484375 53.578125 \r\nQ 30.03125 56 36.53125 56 \r\nQ 37.453125 56 38.578125 55.875 \r\nQ 39.703125 55.765625 41.0625 55.515625 \r\nz\r\n\" id=\"DejaVuSans-114\"/>\r\n       <path id=\"DejaVuSans-32\"/>\r\n       <path d=\"M 45.40625 46.390625 \r\nL 45.40625 75.984375 \r\nL 54.390625 75.984375 \r\nL 54.390625 0 \r\nL 45.40625 0 \r\nL 45.40625 8.203125 \r\nQ 42.578125 3.328125 38.25 0.953125 \r\nQ 33.9375 -1.421875 27.875 -1.421875 \r\nQ 17.96875 -1.421875 11.734375 6.484375 \r\nQ 5.515625 14.40625 5.515625 27.296875 \r\nQ 5.515625 40.1875 11.734375 48.09375 \r\nQ 17.96875 56 27.875 56 \r\nQ 33.9375 56 38.25 53.625 \r\nQ 42.578125 51.265625 45.40625 46.390625 \r\nz\r\nM 14.796875 27.296875 \r\nQ 14.796875 17.390625 18.875 11.75 \r\nQ 22.953125 6.109375 30.078125 6.109375 \r\nQ 37.203125 6.109375 41.296875 11.75 \r\nQ 45.40625 17.390625 45.40625 27.296875 \r\nQ 45.40625 37.203125 41.296875 42.84375 \r\nQ 37.203125 48.484375 30.078125 48.484375 \r\nQ 22.953125 48.484375 18.875 42.84375 \r\nQ 14.796875 37.203125 14.796875 27.296875 \r\nz\r\n\" id=\"DejaVuSans-100\"/>\r\n       <path d=\"M 9.8125 72.90625 \r\nL 19.671875 72.90625 \r\nL 19.671875 0 \r\nL 9.8125 0 \r\nz\r\n\" id=\"DejaVuSans-73\"/>\r\n       <path d=\"M 44.28125 53.078125 \r\nL 44.28125 44.578125 \r\nQ 40.484375 46.53125 36.375 47.5 \r\nQ 32.28125 48.484375 27.875 48.484375 \r\nQ 21.1875 48.484375 17.84375 46.4375 \r\nQ 14.5 44.390625 14.5 40.28125 \r\nQ 14.5 37.15625 16.890625 35.375 \r\nQ 19.28125 33.59375 26.515625 31.984375 \r\nL 29.59375 31.296875 \r\nQ 39.15625 29.25 43.1875 25.515625 \r\nQ 47.21875 21.78125 47.21875 15.09375 \r\nQ 47.21875 7.46875 41.1875 3.015625 \r\nQ 35.15625 -1.421875 24.609375 -1.421875 \r\nQ 20.21875 -1.421875 15.453125 -0.5625 \r\nQ 10.6875 0.296875 5.421875 2 \r\nL 5.421875 11.28125 \r\nQ 10.40625 8.6875 15.234375 7.390625 \r\nQ 20.0625 6.109375 24.8125 6.109375 \r\nQ 31.15625 6.109375 34.5625 8.28125 \r\nQ 37.984375 10.453125 37.984375 14.40625 \r\nQ 37.984375 18.0625 35.515625 20.015625 \r\nQ 33.0625 21.96875 24.703125 23.78125 \r\nL 21.578125 24.515625 \r\nQ 13.234375 26.265625 9.515625 29.90625 \r\nQ 5.8125 33.546875 5.8125 39.890625 \r\nQ 5.8125 47.609375 11.28125 51.796875 \r\nQ 16.75 56 26.8125 56 \r\nQ 31.78125 56 36.171875 55.265625 \r\nQ 40.578125 54.546875 44.28125 53.078125 \r\nz\r\n\" id=\"DejaVuSans-115\"/>\r\n       <path d=\"M 48.78125 52.59375 \r\nL 48.78125 44.1875 \r\nQ 44.96875 46.296875 41.140625 47.34375 \r\nQ 37.3125 48.390625 33.40625 48.390625 \r\nQ 24.65625 48.390625 19.8125 42.84375 \r\nQ 14.984375 37.3125 14.984375 27.296875 \r\nQ 14.984375 17.28125 19.8125 11.734375 \r\nQ 24.65625 6.203125 33.40625 6.203125 \r\nQ 37.3125 6.203125 41.140625 7.25 \r\nQ 44.96875 8.296875 48.78125 10.40625 \r\nL 48.78125 2.09375 \r\nQ 45.015625 0.34375 40.984375 -0.53125 \r\nQ 36.96875 -1.421875 32.421875 -1.421875 \r\nQ 20.0625 -1.421875 12.78125 6.34375 \r\nQ 5.515625 14.109375 5.515625 27.296875 \r\nQ 5.515625 40.671875 12.859375 48.328125 \r\nQ 20.21875 56 33.015625 56 \r\nQ 37.15625 56 41.109375 55.140625 \r\nQ 45.0625 54.296875 48.78125 52.59375 \r\nz\r\n\" id=\"DejaVuSans-99\"/>\r\n       <path d=\"M 9.421875 54.6875 \r\nL 18.40625 54.6875 \r\nL 18.40625 0 \r\nL 9.421875 0 \r\nz\r\nM 9.421875 75.984375 \r\nL 18.40625 75.984375 \r\nL 18.40625 64.59375 \r\nL 9.421875 64.59375 \r\nz\r\n\" id=\"DejaVuSans-105\"/>\r\n       <path d=\"M 48.78125 52.59375 \r\nL 48.78125 44.1875 \r\nQ 44.96875 46.296875 41.140625 47.34375 \r\nQ 37.3125 48.390625 33.40625 48.390625 \r\nQ 24.65625 48.390625 19.8125 42.84375 \r\nQ 14.984375 37.3125 14.984375 27.296875 \r\nQ 14.984375 17.28125 19.8125 11.734375 \r\nQ 24.65625 6.203125 33.40625 6.203125 \r\nQ 37.3125 6.203125 41.140625 7.25 \r\nQ 44.96875 8.296875 48.78125 10.40625 \r\nL 48.78125 2.09375 \r\nQ 45.015625 0.34375 40.984375 -0.53125 \r\nQ 36.96875 -1.421875 32.421875 -1.421875 \r\nQ 20.0625 -1.421875 12.78125 6.34375 \r\nQ 5.515625 14.109375 5.515625 27.296875 \r\nQ 5.515625 40.671875 12.859375 48.328125 \r\nQ 20.21875 56 33.015625 56 \r\nQ 37.15625 56 41.109375 55.140625 \r\nQ 45.0625 54.296875 48.78125 52.59375 \r\nz\r\nM 36.109375 0 \r\nQ 38.78125 -3.03125 40.09375 -5.59375 \r\nQ 41.421875 -8.15625 41.421875 -10.5 \r\nQ 41.421875 -14.84375 38.484375 -17.0625 \r\nQ 35.5625 -19.28125 29.796875 -19.28125 \r\nQ 27.5625 -19.28125 25.4375 -18.984375 \r\nQ 23.3125 -18.703125 21.203125 -18.109375 \r\nL 21.203125 -11.71875 \r\nQ 22.875 -12.546875 24.671875 -12.90625 \r\nQ 26.484375 -13.28125 28.78125 -13.28125 \r\nQ 31.65625 -13.28125 33.125 -12.109375 \r\nQ 34.59375 -10.9375 34.59375 -8.6875 \r\nQ 34.59375 -7.234375 33.53125 -5.109375 \r\nQ 32.484375 -2.984375 30.296875 0 \r\nz\r\n\" id=\"DejaVuSans-231\"/>\r\n       <path d=\"M 34.28125 27.484375 \r\nQ 23.390625 27.484375 19.1875 25 \r\nQ 14.984375 22.515625 14.984375 16.5 \r\nQ 14.984375 11.71875 18.140625 8.90625 \r\nQ 21.296875 6.109375 26.703125 6.109375 \r\nQ 34.1875 6.109375 38.703125 11.40625 \r\nQ 43.21875 16.703125 43.21875 25.484375 \r\nL 43.21875 27.484375 \r\nz\r\nM 52.203125 31.203125 \r\nL 52.203125 0 \r\nL 43.21875 0 \r\nL 43.21875 8.296875 \r\nQ 40.140625 3.328125 35.546875 0.953125 \r\nQ 30.953125 -1.421875 24.3125 -1.421875 \r\nQ 15.921875 -1.421875 10.953125 3.296875 \r\nQ 6 8.015625 6 15.921875 \r\nQ 6 25.140625 12.171875 29.828125 \r\nQ 18.359375 34.515625 30.609375 34.515625 \r\nL 43.21875 34.515625 \r\nL 43.21875 35.40625 \r\nQ 43.21875 41.609375 39.140625 45 \r\nQ 35.0625 48.390625 27.6875 48.390625 \r\nQ 23 48.390625 18.546875 47.265625 \r\nQ 14.109375 46.140625 10.015625 43.890625 \r\nL 10.015625 52.203125 \r\nQ 14.9375 54.109375 19.578125 55.046875 \r\nQ 24.21875 56 28.609375 56 \r\nQ 40.484375 56 46.34375 49.84375 \r\nQ 52.203125 43.703125 52.203125 31.203125 \r\nz\r\nM 28.8125 66.890625 \r\nL 26.015625 69.578125 \r\nQ 24.953125 70.5625 24.140625 71.015625 \r\nQ 23.34375 71.484375 22.703125 71.484375 \r\nQ 20.84375 71.484375 19.96875 69.703125 \r\nQ 19.09375 67.921875 18.984375 63.921875 \r\nL 12.890625 63.921875 \r\nQ 12.984375 70.515625 15.46875 74.09375 \r\nQ 17.96875 77.6875 22.40625 77.6875 \r\nQ 24.265625 77.6875 25.828125 77 \r\nQ 27.390625 76.3125 29.203125 74.703125 \r\nL 31.984375 72.015625 \r\nQ 33.046875 71.046875 33.859375 70.578125 \r\nQ 34.671875 70.125 35.296875 70.125 \r\nQ 37.15625 70.125 38.03125 71.90625 \r\nQ 38.90625 73.6875 39.015625 77.6875 \r\nL 45.109375 77.6875 \r\nQ 45.015625 71.09375 42.515625 67.5 \r\nQ 40.03125 63.921875 35.59375 63.921875 \r\nQ 33.734375 63.921875 32.171875 64.59375 \r\nQ 30.609375 65.28125 28.8125 66.890625 \r\nz\r\n\" id=\"DejaVuSans-227\"/>\r\n       <path d=\"M 31 75.875 \r\nQ 24.46875 64.65625 21.28125 53.65625 \r\nQ 18.109375 42.671875 18.109375 31.390625 \r\nQ 18.109375 20.125 21.3125 9.0625 \r\nQ 24.515625 -2 31 -13.1875 \r\nL 23.1875 -13.1875 \r\nQ 15.875 -1.703125 12.234375 9.375 \r\nQ 8.59375 20.453125 8.59375 31.390625 \r\nQ 8.59375 42.28125 12.203125 53.3125 \r\nQ 15.828125 64.359375 23.1875 75.875 \r\nz\r\n\" id=\"DejaVuSans-40\"/>\r\n       <path d=\"M 10.6875 12.40625 \r\nL 21 12.40625 \r\nL 21 0 \r\nL 10.6875 0 \r\nz\r\n\" id=\"DejaVuSans-46\"/>\r\n       <path d=\"M 8.015625 75.875 \r\nL 15.828125 75.875 \r\nQ 23.140625 64.359375 26.78125 53.3125 \r\nQ 30.421875 42.28125 30.421875 31.390625 \r\nQ 30.421875 20.453125 26.78125 9.375 \r\nQ 23.140625 -1.703125 15.828125 -13.1875 \r\nL 8.015625 -13.1875 \r\nQ 14.5 -2 17.703125 9.0625 \r\nQ 20.90625 20.125 20.90625 31.390625 \r\nQ 20.90625 42.671875 17.703125 53.65625 \r\nQ 14.5 64.65625 8.015625 75.875 \r\nz\r\n\" id=\"DejaVuSans-41\"/>\r\n      </defs>\r\n      <use xlink:href=\"#DejaVuSans-78\"/>\r\n      <use x=\"74.804688\" xlink:href=\"#DejaVuSans-250\"/>\r\n      <use x=\"138.183594\" xlink:href=\"#DejaVuSans-109\"/>\r\n      <use x=\"235.595703\" xlink:href=\"#DejaVuSans-101\"/>\r\n      <use x=\"297.119141\" xlink:href=\"#DejaVuSans-114\"/>\r\n      <use x=\"335.982422\" xlink:href=\"#DejaVuSans-111\"/>\r\n      <use x=\"397.164062\" xlink:href=\"#DejaVuSans-32\"/>\r\n      <use x=\"428.951172\" xlink:href=\"#DejaVuSans-100\"/>\r\n      <use x=\"492.427734\" xlink:href=\"#DejaVuSans-101\"/>\r\n      <use x=\"553.951172\" xlink:href=\"#DejaVuSans-32\"/>\r\n      <use x=\"585.738281\" xlink:href=\"#DejaVuSans-73\"/>\r\n      <use x=\"615.230469\" xlink:href=\"#DejaVuSans-110\"/>\r\n      <use x=\"678.609375\" xlink:href=\"#DejaVuSans-115\"/>\r\n      <use x=\"730.708984\" xlink:href=\"#DejaVuSans-99\"/>\r\n      <use x=\"785.689453\" xlink:href=\"#DejaVuSans-114\"/>\r\n      <use x=\"826.802734\" xlink:href=\"#DejaVuSans-105\"/>\r\n      <use x=\"854.585938\" xlink:href=\"#DejaVuSans-231\"/>\r\n      <use x=\"909.566406\" xlink:href=\"#DejaVuSans-227\"/>\r\n      <use x=\"970.845703\" xlink:href=\"#DejaVuSans-111\"/>\r\n      <use x=\"1032.027344\" xlink:href=\"#DejaVuSans-32\"/>\r\n      <use x=\"1063.814453\" xlink:href=\"#DejaVuSans-40\"/>\r\n      <use x=\"1102.828125\" xlink:href=\"#DejaVuSans-49\"/>\r\n      <use x=\"1166.451172\" xlink:href=\"#DejaVuSans-46\"/>\r\n      <use x=\"1198.238281\" xlink:href=\"#DejaVuSans-48\"/>\r\n      <use x=\"1261.861328\" xlink:href=\"#DejaVuSans-48\"/>\r\n      <use x=\"1325.484375\" xlink:href=\"#DejaVuSans-48\"/>\r\n      <use x=\"1389.107422\" xlink:href=\"#DejaVuSans-46\"/>\r\n      <use x=\"1420.894531\" xlink:href=\"#DejaVuSans-48\"/>\r\n      <use x=\"1484.517578\" xlink:href=\"#DejaVuSans-48\"/>\r\n      <use x=\"1548.140625\" xlink:href=\"#DejaVuSans-48\"/>\r\n      <use x=\"1611.763672\" xlink:href=\"#DejaVuSans-41\"/>\r\n     </g>\r\n    </g>\r\n    <g id=\"text_13\">\r\n     <!-- 1e6 -->\r\n     <g transform=\"translate(34.489063 19.318125)scale(0.1 -0.1)\">\r\n      <use xlink:href=\"#DejaVuSans-49\"/>\r\n      <use x=\"63.623047\" xlink:href=\"#DejaVuSans-101\"/>\r\n      <use x=\"125.146484\" xlink:href=\"#DejaVuSans-54\"/>\r\n     </g>\r\n    </g>\r\n   </g>\r\n   <g id=\"patch_8\">\r\n    <path d=\"M 34.489063 239.758125 \r\nL 34.489063 22.318125 \r\n\" style=\"fill:none;stroke:#000000;stroke-linecap:square;stroke-linejoin:miter;stroke-width:0.8;\"/>\r\n   </g>\r\n   <g id=\"patch_9\">\r\n    <path d=\"M 369.289062 239.758125 \r\nL 369.289062 22.318125 \r\n\" style=\"fill:none;stroke:#000000;stroke-linecap:square;stroke-linejoin:miter;stroke-width:0.8;\"/>\r\n   </g>\r\n   <g id=\"patch_10\">\r\n    <path d=\"M 34.489063 239.758125 \r\nL 369.289063 239.758125 \r\n\" style=\"fill:none;stroke:#000000;stroke-linecap:square;stroke-linejoin:miter;stroke-width:0.8;\"/>\r\n   </g>\r\n   <g id=\"patch_11\">\r\n    <path d=\"M 34.489063 22.318125 \r\nL 369.289063 22.318125 \r\n\" style=\"fill:none;stroke:#000000;stroke-linecap:square;stroke-linejoin:miter;stroke-width:0.8;\"/>\r\n   </g>\r\n   <g id=\"text_14\">\r\n    <!-- Quantidade de inscriçoes por Ano. -->\r\n    <g transform=\"translate(98.6075 16.318125)scale(0.12 -0.12)\">\r\n     <defs>\r\n      <path d=\"M 39.40625 66.21875 \r\nQ 28.65625 66.21875 22.328125 58.203125 \r\nQ 16.015625 50.203125 16.015625 36.375 \r\nQ 16.015625 22.609375 22.328125 14.59375 \r\nQ 28.65625 6.59375 39.40625 6.59375 \r\nQ 50.140625 6.59375 56.421875 14.59375 \r\nQ 62.703125 22.609375 62.703125 36.375 \r\nQ 62.703125 50.203125 56.421875 58.203125 \r\nQ 50.140625 66.21875 39.40625 66.21875 \r\nz\r\nM 53.21875 1.3125 \r\nL 66.21875 -12.890625 \r\nL 54.296875 -12.890625 \r\nL 43.5 -1.21875 \r\nQ 41.890625 -1.3125 41.03125 -1.359375 \r\nQ 40.1875 -1.421875 39.40625 -1.421875 \r\nQ 24.03125 -1.421875 14.8125 8.859375 \r\nQ 5.609375 19.140625 5.609375 36.375 \r\nQ 5.609375 53.65625 14.8125 63.9375 \r\nQ 24.03125 74.21875 39.40625 74.21875 \r\nQ 54.734375 74.21875 63.90625 63.9375 \r\nQ 73.09375 53.65625 73.09375 36.375 \r\nQ 73.09375 23.6875 67.984375 14.640625 \r\nQ 62.890625 5.609375 53.21875 1.3125 \r\nz\r\n\" id=\"DejaVuSans-81\"/>\r\n      <path d=\"M 8.5 21.578125 \r\nL 8.5 54.6875 \r\nL 17.484375 54.6875 \r\nL 17.484375 21.921875 \r\nQ 17.484375 14.15625 20.5 10.265625 \r\nQ 23.53125 6.390625 29.59375 6.390625 \r\nQ 36.859375 6.390625 41.078125 11.03125 \r\nQ 45.3125 15.671875 45.3125 23.6875 \r\nL 45.3125 54.6875 \r\nL 54.296875 54.6875 \r\nL 54.296875 0 \r\nL 45.3125 0 \r\nL 45.3125 8.40625 \r\nQ 42.046875 3.421875 37.71875 1 \r\nQ 33.40625 -1.421875 27.6875 -1.421875 \r\nQ 18.265625 -1.421875 13.375 4.4375 \r\nQ 8.5 10.296875 8.5 21.578125 \r\nz\r\nM 31.109375 56 \r\nz\r\n\" id=\"DejaVuSans-117\"/>\r\n      <path d=\"M 34.28125 27.484375 \r\nQ 23.390625 27.484375 19.1875 25 \r\nQ 14.984375 22.515625 14.984375 16.5 \r\nQ 14.984375 11.71875 18.140625 8.90625 \r\nQ 21.296875 6.109375 26.703125 6.109375 \r\nQ 34.1875 6.109375 38.703125 11.40625 \r\nQ 43.21875 16.703125 43.21875 25.484375 \r\nL 43.21875 27.484375 \r\nz\r\nM 52.203125 31.203125 \r\nL 52.203125 0 \r\nL 43.21875 0 \r\nL 43.21875 8.296875 \r\nQ 40.140625 3.328125 35.546875 0.953125 \r\nQ 30.953125 -1.421875 24.3125 -1.421875 \r\nQ 15.921875 -1.421875 10.953125 3.296875 \r\nQ 6 8.015625 6 15.921875 \r\nQ 6 25.140625 12.171875 29.828125 \r\nQ 18.359375 34.515625 30.609375 34.515625 \r\nL 43.21875 34.515625 \r\nL 43.21875 35.40625 \r\nQ 43.21875 41.609375 39.140625 45 \r\nQ 35.0625 48.390625 27.6875 48.390625 \r\nQ 23 48.390625 18.546875 47.265625 \r\nQ 14.109375 46.140625 10.015625 43.890625 \r\nL 10.015625 52.203125 \r\nQ 14.9375 54.109375 19.578125 55.046875 \r\nQ 24.21875 56 28.609375 56 \r\nQ 40.484375 56 46.34375 49.84375 \r\nQ 52.203125 43.703125 52.203125 31.203125 \r\nz\r\n\" id=\"DejaVuSans-97\"/>\r\n      <path d=\"M 18.3125 70.21875 \r\nL 18.3125 54.6875 \r\nL 36.8125 54.6875 \r\nL 36.8125 47.703125 \r\nL 18.3125 47.703125 \r\nL 18.3125 18.015625 \r\nQ 18.3125 11.328125 20.140625 9.421875 \r\nQ 21.96875 7.515625 27.59375 7.515625 \r\nL 36.8125 7.515625 \r\nL 36.8125 0 \r\nL 27.59375 0 \r\nQ 17.1875 0 13.234375 3.875 \r\nQ 9.28125 7.765625 9.28125 18.015625 \r\nL 9.28125 47.703125 \r\nL 2.6875 47.703125 \r\nL 2.6875 54.6875 \r\nL 9.28125 54.6875 \r\nL 9.28125 70.21875 \r\nz\r\n\" id=\"DejaVuSans-116\"/>\r\n      <path d=\"M 18.109375 8.203125 \r\nL 18.109375 -20.796875 \r\nL 9.078125 -20.796875 \r\nL 9.078125 54.6875 \r\nL 18.109375 54.6875 \r\nL 18.109375 46.390625 \r\nQ 20.953125 51.265625 25.265625 53.625 \r\nQ 29.59375 56 35.59375 56 \r\nQ 45.5625 56 51.78125 48.09375 \r\nQ 58.015625 40.1875 58.015625 27.296875 \r\nQ 58.015625 14.40625 51.78125 6.484375 \r\nQ 45.5625 -1.421875 35.59375 -1.421875 \r\nQ 29.59375 -1.421875 25.265625 0.953125 \r\nQ 20.953125 3.328125 18.109375 8.203125 \r\nz\r\nM 48.6875 27.296875 \r\nQ 48.6875 37.203125 44.609375 42.84375 \r\nQ 40.53125 48.484375 33.40625 48.484375 \r\nQ 26.265625 48.484375 22.1875 42.84375 \r\nQ 18.109375 37.203125 18.109375 27.296875 \r\nQ 18.109375 17.390625 22.1875 11.75 \r\nQ 26.265625 6.109375 33.40625 6.109375 \r\nQ 40.53125 6.109375 44.609375 11.75 \r\nQ 48.6875 17.390625 48.6875 27.296875 \r\nz\r\n\" id=\"DejaVuSans-112\"/>\r\n     </defs>\r\n     <use xlink:href=\"#DejaVuSans-81\"/>\r\n     <use x=\"78.710938\" xlink:href=\"#DejaVuSans-117\"/>\r\n     <use x=\"142.089844\" xlink:href=\"#DejaVuSans-97\"/>\r\n     <use x=\"203.369141\" xlink:href=\"#DejaVuSans-110\"/>\r\n     <use x=\"266.748047\" xlink:href=\"#DejaVuSans-116\"/>\r\n     <use x=\"305.957031\" xlink:href=\"#DejaVuSans-105\"/>\r\n     <use x=\"333.740234\" xlink:href=\"#DejaVuSans-100\"/>\r\n     <use x=\"397.216797\" xlink:href=\"#DejaVuSans-97\"/>\r\n     <use x=\"458.496094\" xlink:href=\"#DejaVuSans-100\"/>\r\n     <use x=\"521.972656\" xlink:href=\"#DejaVuSans-101\"/>\r\n     <use x=\"583.496094\" xlink:href=\"#DejaVuSans-32\"/>\r\n     <use x=\"615.283203\" xlink:href=\"#DejaVuSans-100\"/>\r\n     <use x=\"678.759766\" xlink:href=\"#DejaVuSans-101\"/>\r\n     <use x=\"740.283203\" xlink:href=\"#DejaVuSans-32\"/>\r\n     <use x=\"772.070312\" xlink:href=\"#DejaVuSans-105\"/>\r\n     <use x=\"799.853516\" xlink:href=\"#DejaVuSans-110\"/>\r\n     <use x=\"863.232422\" xlink:href=\"#DejaVuSans-115\"/>\r\n     <use x=\"915.332031\" xlink:href=\"#DejaVuSans-99\"/>\r\n     <use x=\"970.3125\" xlink:href=\"#DejaVuSans-114\"/>\r\n     <use x=\"1011.425781\" xlink:href=\"#DejaVuSans-105\"/>\r\n     <use x=\"1039.208984\" xlink:href=\"#DejaVuSans-231\"/>\r\n     <use x=\"1094.189453\" xlink:href=\"#DejaVuSans-111\"/>\r\n     <use x=\"1155.371094\" xlink:href=\"#DejaVuSans-101\"/>\r\n     <use x=\"1216.894531\" xlink:href=\"#DejaVuSans-115\"/>\r\n     <use x=\"1268.994141\" xlink:href=\"#DejaVuSans-32\"/>\r\n     <use x=\"1300.78125\" xlink:href=\"#DejaVuSans-112\"/>\r\n     <use x=\"1364.257812\" xlink:href=\"#DejaVuSans-111\"/>\r\n     <use x=\"1425.439453\" xlink:href=\"#DejaVuSans-114\"/>\r\n     <use x=\"1466.552734\" xlink:href=\"#DejaVuSans-32\"/>\r\n     <use x=\"1498.339844\" xlink:href=\"#DejaVuSans-65\"/>\r\n     <use x=\"1566.748047\" xlink:href=\"#DejaVuSans-110\"/>\r\n     <use x=\"1630.126953\" xlink:href=\"#DejaVuSans-111\"/>\r\n     <use x=\"1689.558594\" xlink:href=\"#DejaVuSans-46\"/>\r\n    </g>\r\n   </g>\r\n  </g>\r\n </g>\r\n <defs>\r\n  <clipPath id=\"pc4cffcd3fc\">\r\n   <rect height=\"217.44\" width=\"334.8\" x=\"34.489063\" y=\"22.318125\"/>\r\n  </clipPath>\r\n </defs>\r\n</svg>\r\n",
      "image/png": "[encoded data removed]"
     },
     "metadata": {
      "needs_background": "light"
     }
    }
   ],
   "source": [
    "# Realização da Análise Exploratória\n",
    "\n",
    "print('Quantidade de inscriçoes por Ano.')\n",
    "print('')\n",
    "print(f'Consulta inciada -  {datetime.now()}')\n",
    "\n",
    "# Apresentando os valores da consulta SQL no Spark\n",
    "sqlContext.sql('SELECT NU_ANO AS ANO, COUNT(*) AS QTDE_INSCRICAO, ROUND((COUNT(*)/(SELECT COUNT(*)/100 FROM enemtb)),2) AS PERCENTUAL FROM enemtb GROUP BY NU_ANO ORDER BY NU_ANO, COUNT(*)').show( )\n",
    "\n",
    "# Criação do dataframe com os valores selecionados\n",
    "df_grafico = sqlContext.sql('SELECT NU_ANO AS ANO, COUNT(*) AS QTDE_INSCRICAO, ROUND((COUNT(*)/(SELECT COUNT(*)/100 FROM enemtb)),2) AS PERCENTUAL FROM enemtb GROUP BY NU_ANO ORDER BY NU_ANO, COUNT(*)').toPandas()\n",
    "\n",
    "# Apresentando o grafico do Dataframe df_grafico.\n",
    "df_grafico.plot(kind='bar', x='ANO', y='QTDE_INSCRICAO', legend=False)\n",
    "plt.title('Quantidade de inscriçoes por Ano.')\n",
    "plt.xlabel('Ano',)\n",
    "plt.ylabel('Número de Inscrição (1.000.000)')\n",
    "\n",
    "print(f'Consulta realizada com sucesso -  {datetime.now()}')"
   ]
  },
  {
   "cell_type": "code",
   "execution_count": 99,
   "metadata": {
    "tags": []
   },
   "outputs": [
    {
     "output_type": "stream",
     "name": "stdout",
     "text": "Quantidade de inscriçoes por Sexo.\n\nConsulta inciada -  2020-09-02 18:21:03.123301\n+---------+--------------+----------+\n|     SEXO|QTDE_INSCRICAO|PERCENTUAL|\n+---------+--------------+----------+\n| Feminino|      19679368|     58.37|\n|Masculino|      14034784|     41.63|\n+---------+--------------+----------+\n\nConsulta realizada com sucesso -  2020-09-02 18:27:13.114729\n"
    },
    {
     "output_type": "display_data",
     "data": {
      "text/plain": "<Figure size 432x288 with 1 Axes>",
      "image/svg+xml": "<?xml version=\"1.0\" encoding=\"utf-8\" standalone=\"no\"?>\r\n<!DOCTYPE svg PUBLIC \"-//W3C//DTD SVG 1.1//EN\"\r\n  \"http://www.w3.org/Graphics/SVG/1.1/DTD/svg11.dtd\">\r\n<!-- Created with matplotlib (https://matplotlib.org/) -->\r\n<svg height=\"317.450312pt\" version=\"1.1\" viewBox=\"0 0 392.392187 317.450312\" width=\"392.392187pt\" xmlns=\"http://www.w3.org/2000/svg\" xmlns:xlink=\"http://www.w3.org/1999/xlink\">\r\n <metadata>\r\n  <rdf:RDF xmlns:cc=\"http://creativecommons.org/ns#\" xmlns:dc=\"http://purl.org/dc/elements/1.1/\" xmlns:rdf=\"http://www.w3.org/1999/02/22-rdf-syntax-ns#\">\r\n   <cc:Work>\r\n    <dc:type rdf:resource=\"http://purl.org/dc/dcmitype/StillImage\"/>\r\n    <dc:date>2020-09-02T18:27:13.207483</dc:date>\r\n    <dc:format>image/svg+xml</dc:format>\r\n    <dc:creator>\r\n     <cc:Agent>\r\n      <dc:title>Matplotlib v3.3.1, https://matplotlib.org/</dc:title>\r\n     </cc:Agent>\r\n    </dc:creator>\r\n   </cc:Work>\r\n  </rdf:RDF>\r\n </metadata>\r\n <defs>\r\n  <style type=\"text/css\">*{stroke-linecap:butt;stroke-linejoin:round;}</style>\r\n </defs>\r\n <g id=\"figure_1\">\r\n  <g id=\"patch_1\">\r\n   <path d=\"M 0 317.450312 \r\nL 392.392187 317.450312 \r\nL 392.392187 0 \r\nL 0 0 \r\nz\r\n\" style=\"fill:none;\"/>\r\n  </g>\r\n  <g id=\"axes_1\">\r\n   <g id=\"patch_2\">\r\n    <path d=\"M 50.392188 239.758125 \r\nL 385.192188 239.758125 \r\nL 385.192188 22.318125 \r\nL 50.392188 22.318125 \r\nz\r\n\" style=\"fill:#ffffff;\"/>\r\n   </g>\r\n   <g id=\"patch_3\">\r\n    <path clip-path=\"url(#p2876e3a2a1)\" d=\"M 92.242188 239.758125 \r\nL 175.942188 239.758125 \r\nL 175.942188 32.672411 \r\nL 92.242188 32.672411 \r\nz\r\n\" style=\"fill:#1f77b4;\"/>\r\n   </g>\r\n   <g id=\"patch_4\">\r\n    <path clip-path=\"url(#p2876e3a2a1)\" d=\"M 259.642188 239.758125 \r\nL 343.342188 239.758125 \r\nL 343.342188 92.070289 \r\nL 259.642188 92.070289 \r\nz\r\n\" style=\"fill:#1f77b4;\"/>\r\n   </g>\r\n   <g id=\"matplotlib.axis_1\">\r\n    <g id=\"xtick_1\">\r\n     <g id=\"line2d_1\">\r\n      <defs>\r\n       <path d=\"M 0 0 \r\nL 0 3.5 \r\n\" id=\"ma216071336\" style=\"stroke:#000000;stroke-width:0.8;\"/>\r\n      </defs>\r\n      <g>\r\n       <use style=\"stroke:#000000;stroke-width:0.8;\" x=\"134.092188\" xlink:href=\"#ma216071336\" y=\"239.758125\"/>\r\n      </g>\r\n     </g>\r\n     <g id=\"text_1\">\r\n      <!-- Feminino -->\r\n      <g transform=\"translate(136.851563 292.203438)rotate(-90)scale(0.1 -0.1)\">\r\n       <defs>\r\n        <path d=\"M 9.8125 72.90625 \r\nL 51.703125 72.90625 \r\nL 51.703125 64.59375 \r\nL 19.671875 64.59375 \r\nL 19.671875 43.109375 \r\nL 48.578125 43.109375 \r\nL 48.578125 34.8125 \r\nL 19.671875 34.8125 \r\nL 19.671875 0 \r\nL 9.8125 0 \r\nz\r\n\" id=\"DejaVuSans-70\"/>\r\n        <path d=\"M 56.203125 29.59375 \r\nL 56.203125 25.203125 \r\nL 14.890625 25.203125 \r\nQ 15.484375 15.921875 20.484375 11.0625 \r\nQ 25.484375 6.203125 34.421875 6.203125 \r\nQ 39.59375 6.203125 44.453125 7.46875 \r\nQ 49.3125 8.734375 54.109375 11.28125 \r\nL 54.109375 2.78125 \r\nQ 49.265625 0.734375 44.1875 -0.34375 \r\nQ 39.109375 -1.421875 33.890625 -1.421875 \r\nQ 20.796875 -1.421875 13.15625 6.1875 \r\nQ 5.515625 13.8125 5.515625 26.8125 \r\nQ 5.515625 40.234375 12.765625 48.109375 \r\nQ 20.015625 56 32.328125 56 \r\nQ 43.359375 56 49.78125 48.890625 \r\nQ 56.203125 41.796875 56.203125 29.59375 \r\nz\r\nM 47.21875 32.234375 \r\nQ 47.125 39.59375 43.09375 43.984375 \r\nQ 39.0625 48.390625 32.421875 48.390625 \r\nQ 24.90625 48.390625 20.390625 44.140625 \r\nQ 15.875 39.890625 15.1875 32.171875 \r\nz\r\n\" id=\"DejaVuSans-101\"/>\r\n        <path d=\"M 52 44.1875 \r\nQ 55.375 50.25 60.0625 53.125 \r\nQ 64.75 56 71.09375 56 \r\nQ 79.640625 56 84.28125 50.015625 \r\nQ 88.921875 44.046875 88.921875 33.015625 \r\nL 88.921875 0 \r\nL 79.890625 0 \r\nL 79.890625 32.71875 \r\nQ 79.890625 40.578125 77.09375 44.375 \r\nQ 74.3125 48.1875 68.609375 48.1875 \r\nQ 61.625 48.1875 57.5625 43.546875 \r\nQ 53.515625 38.921875 53.515625 30.90625 \r\nL 53.515625 0 \r\nL 44.484375 0 \r\nL 44.484375 32.71875 \r\nQ 44.484375 40.625 41.703125 44.40625 \r\nQ 38.921875 48.1875 33.109375 48.1875 \r\nQ 26.21875 48.1875 22.15625 43.53125 \r\nQ 18.109375 38.875 18.109375 30.90625 \r\nL 18.109375 0 \r\nL 9.078125 0 \r\nL 9.078125 54.6875 \r\nL 18.109375 54.6875 \r\nL 18.109375 46.1875 \r\nQ 21.1875 51.21875 25.484375 53.609375 \r\nQ 29.78125 56 35.6875 56 \r\nQ 41.65625 56 45.828125 52.96875 \r\nQ 50 49.953125 52 44.1875 \r\nz\r\n\" id=\"DejaVuSans-109\"/>\r\n        <path d=\"M 9.421875 54.6875 \r\nL 18.40625 54.6875 \r\nL 18.40625 0 \r\nL 9.421875 0 \r\nz\r\nM 9.421875 75.984375 \r\nL 18.40625 75.984375 \r\nL 18.40625 64.59375 \r\nL 9.421875 64.59375 \r\nz\r\n\" id=\"DejaVuSans-105\"/>\r\n        <path d=\"M 54.890625 33.015625 \r\nL 54.890625 0 \r\nL 45.90625 0 \r\nL 45.90625 32.71875 \r\nQ 45.90625 40.484375 42.875 44.328125 \r\nQ 39.84375 48.1875 33.796875 48.1875 \r\nQ 26.515625 48.1875 22.3125 43.546875 \r\nQ 18.109375 38.921875 18.109375 30.90625 \r\nL 18.109375 0 \r\nL 9.078125 0 \r\nL 9.078125 54.6875 \r\nL 18.109375 54.6875 \r\nL 18.109375 46.1875 \r\nQ 21.34375 51.125 25.703125 53.5625 \r\nQ 30.078125 56 35.796875 56 \r\nQ 45.21875 56 50.046875 50.171875 \r\nQ 54.890625 44.34375 54.890625 33.015625 \r\nz\r\n\" id=\"DejaVuSans-110\"/>\r\n        <path d=\"M 30.609375 48.390625 \r\nQ 23.390625 48.390625 19.1875 42.75 \r\nQ 14.984375 37.109375 14.984375 27.296875 \r\nQ 14.984375 17.484375 19.15625 11.84375 \r\nQ 23.34375 6.203125 30.609375 6.203125 \r\nQ 37.796875 6.203125 41.984375 11.859375 \r\nQ 46.1875 17.53125 46.1875 27.296875 \r\nQ 46.1875 37.015625 41.984375 42.703125 \r\nQ 37.796875 48.390625 30.609375 48.390625 \r\nz\r\nM 30.609375 56 \r\nQ 42.328125 56 49.015625 48.375 \r\nQ 55.71875 40.765625 55.71875 27.296875 \r\nQ 55.71875 13.875 49.015625 6.21875 \r\nQ 42.328125 -1.421875 30.609375 -1.421875 \r\nQ 18.84375 -1.421875 12.171875 6.21875 \r\nQ 5.515625 13.875 5.515625 27.296875 \r\nQ 5.515625 40.765625 12.171875 48.375 \r\nQ 18.84375 56 30.609375 56 \r\nz\r\n\" id=\"DejaVuSans-111\"/>\r\n       </defs>\r\n       <use xlink:href=\"#DejaVuSans-70\"/>\r\n       <use x=\"52.019531\" xlink:href=\"#DejaVuSans-101\"/>\r\n       <use x=\"113.542969\" xlink:href=\"#DejaVuSans-109\"/>\r\n       <use x=\"210.955078\" xlink:href=\"#DejaVuSans-105\"/>\r\n       <use x=\"238.738281\" xlink:href=\"#DejaVuSans-110\"/>\r\n       <use x=\"302.117188\" xlink:href=\"#DejaVuSans-105\"/>\r\n       <use x=\"329.900391\" xlink:href=\"#DejaVuSans-110\"/>\r\n       <use x=\"393.279297\" xlink:href=\"#DejaVuSans-111\"/>\r\n      </g>\r\n     </g>\r\n    </g>\r\n    <g id=\"xtick_2\">\r\n     <g id=\"line2d_2\">\r\n      <g>\r\n       <use style=\"stroke:#000000;stroke-width:0.8;\" x=\"301.492188\" xlink:href=\"#ma216071336\" y=\"239.758125\"/>\r\n      </g>\r\n     </g>\r\n     <g id=\"text_2\">\r\n      <!-- Masculino -->\r\n      <g transform=\"translate(304.251563 296.572187)rotate(-90)scale(0.1 -0.1)\">\r\n       <defs>\r\n        <path d=\"M 9.8125 72.90625 \r\nL 24.515625 72.90625 \r\nL 43.109375 23.296875 \r\nL 61.8125 72.90625 \r\nL 76.515625 72.90625 \r\nL 76.515625 0 \r\nL 66.890625 0 \r\nL 66.890625 64.015625 \r\nL 48.09375 14.015625 \r\nL 38.1875 14.015625 \r\nL 19.390625 64.015625 \r\nL 19.390625 0 \r\nL 9.8125 0 \r\nz\r\n\" id=\"DejaVuSans-77\"/>\r\n        <path d=\"M 34.28125 27.484375 \r\nQ 23.390625 27.484375 19.1875 25 \r\nQ 14.984375 22.515625 14.984375 16.5 \r\nQ 14.984375 11.71875 18.140625 8.90625 \r\nQ 21.296875 6.109375 26.703125 6.109375 \r\nQ 34.1875 6.109375 38.703125 11.40625 \r\nQ 43.21875 16.703125 43.21875 25.484375 \r\nL 43.21875 27.484375 \r\nz\r\nM 52.203125 31.203125 \r\nL 52.203125 0 \r\nL 43.21875 0 \r\nL 43.21875 8.296875 \r\nQ 40.140625 3.328125 35.546875 0.953125 \r\nQ 30.953125 -1.421875 24.3125 -1.421875 \r\nQ 15.921875 -1.421875 10.953125 3.296875 \r\nQ 6 8.015625 6 15.921875 \r\nQ 6 25.140625 12.171875 29.828125 \r\nQ 18.359375 34.515625 30.609375 34.515625 \r\nL 43.21875 34.515625 \r\nL 43.21875 35.40625 \r\nQ 43.21875 41.609375 39.140625 45 \r\nQ 35.0625 48.390625 27.6875 48.390625 \r\nQ 23 48.390625 18.546875 47.265625 \r\nQ 14.109375 46.140625 10.015625 43.890625 \r\nL 10.015625 52.203125 \r\nQ 14.9375 54.109375 19.578125 55.046875 \r\nQ 24.21875 56 28.609375 56 \r\nQ 40.484375 56 46.34375 49.84375 \r\nQ 52.203125 43.703125 52.203125 31.203125 \r\nz\r\n\" id=\"DejaVuSans-97\"/>\r\n        <path d=\"M 44.28125 53.078125 \r\nL 44.28125 44.578125 \r\nQ 40.484375 46.53125 36.375 47.5 \r\nQ 32.28125 48.484375 27.875 48.484375 \r\nQ 21.1875 48.484375 17.84375 46.4375 \r\nQ 14.5 44.390625 14.5 40.28125 \r\nQ 14.5 37.15625 16.890625 35.375 \r\nQ 19.28125 33.59375 26.515625 31.984375 \r\nL 29.59375 31.296875 \r\nQ 39.15625 29.25 43.1875 25.515625 \r\nQ 47.21875 21.78125 47.21875 15.09375 \r\nQ 47.21875 7.46875 41.1875 3.015625 \r\nQ 35.15625 -1.421875 24.609375 -1.421875 \r\nQ 20.21875 -1.421875 15.453125 -0.5625 \r\nQ 10.6875 0.296875 5.421875 2 \r\nL 5.421875 11.28125 \r\nQ 10.40625 8.6875 15.234375 7.390625 \r\nQ 20.0625 6.109375 24.8125 6.109375 \r\nQ 31.15625 6.109375 34.5625 8.28125 \r\nQ 37.984375 10.453125 37.984375 14.40625 \r\nQ 37.984375 18.0625 35.515625 20.015625 \r\nQ 33.0625 21.96875 24.703125 23.78125 \r\nL 21.578125 24.515625 \r\nQ 13.234375 26.265625 9.515625 29.90625 \r\nQ 5.8125 33.546875 5.8125 39.890625 \r\nQ 5.8125 47.609375 11.28125 51.796875 \r\nQ 16.75 56 26.8125 56 \r\nQ 31.78125 56 36.171875 55.265625 \r\nQ 40.578125 54.546875 44.28125 53.078125 \r\nz\r\n\" id=\"DejaVuSans-115\"/>\r\n        <path d=\"M 48.78125 52.59375 \r\nL 48.78125 44.1875 \r\nQ 44.96875 46.296875 41.140625 47.34375 \r\nQ 37.3125 48.390625 33.40625 48.390625 \r\nQ 24.65625 48.390625 19.8125 42.84375 \r\nQ 14.984375 37.3125 14.984375 27.296875 \r\nQ 14.984375 17.28125 19.8125 11.734375 \r\nQ 24.65625 6.203125 33.40625 6.203125 \r\nQ 37.3125 6.203125 41.140625 7.25 \r\nQ 44.96875 8.296875 48.78125 10.40625 \r\nL 48.78125 2.09375 \r\nQ 45.015625 0.34375 40.984375 -0.53125 \r\nQ 36.96875 -1.421875 32.421875 -1.421875 \r\nQ 20.0625 -1.421875 12.78125 6.34375 \r\nQ 5.515625 14.109375 5.515625 27.296875 \r\nQ 5.515625 40.671875 12.859375 48.328125 \r\nQ 20.21875 56 33.015625 56 \r\nQ 37.15625 56 41.109375 55.140625 \r\nQ 45.0625 54.296875 48.78125 52.59375 \r\nz\r\n\" id=\"DejaVuSans-99\"/>\r\n        <path d=\"M 8.5 21.578125 \r\nL 8.5 54.6875 \r\nL 17.484375 54.6875 \r\nL 17.484375 21.921875 \r\nQ 17.484375 14.15625 20.5 10.265625 \r\nQ 23.53125 6.390625 29.59375 6.390625 \r\nQ 36.859375 6.390625 41.078125 11.03125 \r\nQ 45.3125 15.671875 45.3125 23.6875 \r\nL 45.3125 54.6875 \r\nL 54.296875 54.6875 \r\nL 54.296875 0 \r\nL 45.3125 0 \r\nL 45.3125 8.40625 \r\nQ 42.046875 3.421875 37.71875 1 \r\nQ 33.40625 -1.421875 27.6875 -1.421875 \r\nQ 18.265625 -1.421875 13.375 4.4375 \r\nQ 8.5 10.296875 8.5 21.578125 \r\nz\r\nM 31.109375 56 \r\nz\r\n\" id=\"DejaVuSans-117\"/>\r\n        <path d=\"M 9.421875 75.984375 \r\nL 18.40625 75.984375 \r\nL 18.40625 0 \r\nL 9.421875 0 \r\nz\r\n\" id=\"DejaVuSans-108\"/>\r\n       </defs>\r\n       <use xlink:href=\"#DejaVuSans-77\"/>\r\n       <use x=\"86.279297\" xlink:href=\"#DejaVuSans-97\"/>\r\n       <use x=\"147.558594\" xlink:href=\"#DejaVuSans-115\"/>\r\n       <use x=\"199.658203\" xlink:href=\"#DejaVuSans-99\"/>\r\n       <use x=\"254.638672\" xlink:href=\"#DejaVuSans-117\"/>\r\n       <use x=\"318.017578\" xlink:href=\"#DejaVuSans-108\"/>\r\n       <use x=\"345.800781\" xlink:href=\"#DejaVuSans-105\"/>\r\n       <use x=\"373.583984\" xlink:href=\"#DejaVuSans-110\"/>\r\n       <use x=\"436.962891\" xlink:href=\"#DejaVuSans-111\"/>\r\n      </g>\r\n     </g>\r\n    </g>\r\n    <g id=\"text_3\">\r\n     <!-- Sexo -->\r\n     <g transform=\"translate(205.766406 308.170625)scale(0.1 -0.1)\">\r\n      <defs>\r\n       <path d=\"M 53.515625 70.515625 \r\nL 53.515625 60.890625 \r\nQ 47.90625 63.578125 42.921875 64.890625 \r\nQ 37.9375 66.21875 33.296875 66.21875 \r\nQ 25.25 66.21875 20.875 63.09375 \r\nQ 16.5 59.96875 16.5 54.203125 \r\nQ 16.5 49.359375 19.40625 46.890625 \r\nQ 22.3125 44.4375 30.421875 42.921875 \r\nL 36.375 41.703125 \r\nQ 47.40625 39.59375 52.65625 34.296875 \r\nQ 57.90625 29 57.90625 20.125 \r\nQ 57.90625 9.515625 50.796875 4.046875 \r\nQ 43.703125 -1.421875 29.984375 -1.421875 \r\nQ 24.8125 -1.421875 18.96875 -0.25 \r\nQ 13.140625 0.921875 6.890625 3.21875 \r\nL 6.890625 13.375 \r\nQ 12.890625 10.015625 18.65625 8.296875 \r\nQ 24.421875 6.59375 29.984375 6.59375 \r\nQ 38.421875 6.59375 43.015625 9.90625 \r\nQ 47.609375 13.234375 47.609375 19.390625 \r\nQ 47.609375 24.75 44.3125 27.78125 \r\nQ 41.015625 30.8125 33.5 32.328125 \r\nL 27.484375 33.5 \r\nQ 16.453125 35.6875 11.515625 40.375 \r\nQ 6.59375 45.0625 6.59375 53.421875 \r\nQ 6.59375 63.09375 13.40625 68.65625 \r\nQ 20.21875 74.21875 32.171875 74.21875 \r\nQ 37.3125 74.21875 42.625 73.28125 \r\nQ 47.953125 72.359375 53.515625 70.515625 \r\nz\r\n\" id=\"DejaVuSans-83\"/>\r\n       <path d=\"M 54.890625 54.6875 \r\nL 35.109375 28.078125 \r\nL 55.90625 0 \r\nL 45.3125 0 \r\nL 29.390625 21.484375 \r\nL 13.484375 0 \r\nL 2.875 0 \r\nL 24.125 28.609375 \r\nL 4.6875 54.6875 \r\nL 15.28125 54.6875 \r\nL 29.78125 35.203125 \r\nL 44.28125 54.6875 \r\nz\r\n\" id=\"DejaVuSans-120\"/>\r\n      </defs>\r\n      <use xlink:href=\"#DejaVuSans-83\"/>\r\n      <use x=\"63.476562\" xlink:href=\"#DejaVuSans-101\"/>\r\n      <use x=\"123.25\" xlink:href=\"#DejaVuSans-120\"/>\r\n      <use x=\"179.304688\" xlink:href=\"#DejaVuSans-111\"/>\r\n     </g>\r\n    </g>\r\n   </g>\r\n   <g id=\"matplotlib.axis_2\">\r\n    <g id=\"ytick_1\">\r\n     <g id=\"line2d_3\">\r\n      <defs>\r\n       <path d=\"M 0 0 \r\nL -3.5 0 \r\n\" id=\"mf303c1fd3d\" style=\"stroke:#000000;stroke-width:0.8;\"/>\r\n      </defs>\r\n      <g>\r\n       <use style=\"stroke:#000000;stroke-width:0.8;\" x=\"50.392188\" xlink:href=\"#mf303c1fd3d\" y=\"239.758125\"/>\r\n      </g>\r\n     </g>\r\n     <g id=\"text_4\">\r\n      <!-- 0.00 -->\r\n      <g transform=\"translate(21.126563 243.557344)scale(0.1 -0.1)\">\r\n       <defs>\r\n        <path d=\"M 31.78125 66.40625 \r\nQ 24.171875 66.40625 20.328125 58.90625 \r\nQ 16.5 51.421875 16.5 36.375 \r\nQ 16.5 21.390625 20.328125 13.890625 \r\nQ 24.171875 6.390625 31.78125 6.390625 \r\nQ 39.453125 6.390625 43.28125 13.890625 \r\nQ 47.125 21.390625 47.125 36.375 \r\nQ 47.125 51.421875 43.28125 58.90625 \r\nQ 39.453125 66.40625 31.78125 66.40625 \r\nz\r\nM 31.78125 74.21875 \r\nQ 44.046875 74.21875 50.515625 64.515625 \r\nQ 56.984375 54.828125 56.984375 36.375 \r\nQ 56.984375 17.96875 50.515625 8.265625 \r\nQ 44.046875 -1.421875 31.78125 -1.421875 \r\nQ 19.53125 -1.421875 13.0625 8.265625 \r\nQ 6.59375 17.96875 6.59375 36.375 \r\nQ 6.59375 54.828125 13.0625 64.515625 \r\nQ 19.53125 74.21875 31.78125 74.21875 \r\nz\r\n\" id=\"DejaVuSans-48\"/>\r\n        <path d=\"M 10.6875 12.40625 \r\nL 21 12.40625 \r\nL 21 0 \r\nL 10.6875 0 \r\nz\r\n\" id=\"DejaVuSans-46\"/>\r\n       </defs>\r\n       <use xlink:href=\"#DejaVuSans-48\"/>\r\n       <use x=\"63.623047\" xlink:href=\"#DejaVuSans-46\"/>\r\n       <use x=\"95.410156\" xlink:href=\"#DejaVuSans-48\"/>\r\n       <use x=\"159.033203\" xlink:href=\"#DejaVuSans-48\"/>\r\n      </g>\r\n     </g>\r\n    </g>\r\n    <g id=\"ytick_2\">\r\n     <g id=\"line2d_4\">\r\n      <g>\r\n       <use style=\"stroke:#000000;stroke-width:0.8;\" x=\"50.392188\" xlink:href=\"#mf303c1fd3d\" y=\"213.45066\"/>\r\n      </g>\r\n     </g>\r\n     <g id=\"text_5\">\r\n      <!-- 0.25 -->\r\n      <g transform=\"translate(21.126563 217.249879)scale(0.1 -0.1)\">\r\n       <defs>\r\n        <path d=\"M 19.1875 8.296875 \r\nL 53.609375 8.296875 \r\nL 53.609375 0 \r\nL 7.328125 0 \r\nL 7.328125 8.296875 \r\nQ 12.9375 14.109375 22.625 23.890625 \r\nQ 32.328125 33.6875 34.8125 36.53125 \r\nQ 39.546875 41.84375 41.421875 45.53125 \r\nQ 43.3125 49.21875 43.3125 52.78125 \r\nQ 43.3125 58.59375 39.234375 62.25 \r\nQ 35.15625 65.921875 28.609375 65.921875 \r\nQ 23.96875 65.921875 18.8125 64.3125 \r\nQ 13.671875 62.703125 7.8125 59.421875 \r\nL 7.8125 69.390625 \r\nQ 13.765625 71.78125 18.9375 73 \r\nQ 24.125 74.21875 28.421875 74.21875 \r\nQ 39.75 74.21875 46.484375 68.546875 \r\nQ 53.21875 62.890625 53.21875 53.421875 \r\nQ 53.21875 48.921875 51.53125 44.890625 \r\nQ 49.859375 40.875 45.40625 35.40625 \r\nQ 44.1875 33.984375 37.640625 27.21875 \r\nQ 31.109375 20.453125 19.1875 8.296875 \r\nz\r\n\" id=\"DejaVuSans-50\"/>\r\n        <path d=\"M 10.796875 72.90625 \r\nL 49.515625 72.90625 \r\nL 49.515625 64.59375 \r\nL 19.828125 64.59375 \r\nL 19.828125 46.734375 \r\nQ 21.96875 47.46875 24.109375 47.828125 \r\nQ 26.265625 48.1875 28.421875 48.1875 \r\nQ 40.625 48.1875 47.75 41.5 \r\nQ 54.890625 34.8125 54.890625 23.390625 \r\nQ 54.890625 11.625 47.5625 5.09375 \r\nQ 40.234375 -1.421875 26.90625 -1.421875 \r\nQ 22.3125 -1.421875 17.546875 -0.640625 \r\nQ 12.796875 0.140625 7.71875 1.703125 \r\nL 7.71875 11.625 \r\nQ 12.109375 9.234375 16.796875 8.0625 \r\nQ 21.484375 6.890625 26.703125 6.890625 \r\nQ 35.15625 6.890625 40.078125 11.328125 \r\nQ 45.015625 15.765625 45.015625 23.390625 \r\nQ 45.015625 31 40.078125 35.4375 \r\nQ 35.15625 39.890625 26.703125 39.890625 \r\nQ 22.75 39.890625 18.8125 39.015625 \r\nQ 14.890625 38.140625 10.796875 36.28125 \r\nz\r\n\" id=\"DejaVuSans-53\"/>\r\n       </defs>\r\n       <use xlink:href=\"#DejaVuSans-48\"/>\r\n       <use x=\"63.623047\" xlink:href=\"#DejaVuSans-46\"/>\r\n       <use x=\"95.410156\" xlink:href=\"#DejaVuSans-50\"/>\r\n       <use x=\"159.033203\" xlink:href=\"#DejaVuSans-53\"/>\r\n      </g>\r\n     </g>\r\n    </g>\r\n    <g id=\"ytick_3\">\r\n     <g id=\"line2d_5\">\r\n      <g>\r\n       <use style=\"stroke:#000000;stroke-width:0.8;\" x=\"50.392188\" xlink:href=\"#mf303c1fd3d\" y=\"187.143195\"/>\r\n      </g>\r\n     </g>\r\n     <g id=\"text_6\">\r\n      <!-- 0.50 -->\r\n      <g transform=\"translate(21.126563 190.942414)scale(0.1 -0.1)\">\r\n       <use xlink:href=\"#DejaVuSans-48\"/>\r\n       <use x=\"63.623047\" xlink:href=\"#DejaVuSans-46\"/>\r\n       <use x=\"95.410156\" xlink:href=\"#DejaVuSans-53\"/>\r\n       <use x=\"159.033203\" xlink:href=\"#DejaVuSans-48\"/>\r\n      </g>\r\n     </g>\r\n    </g>\r\n    <g id=\"ytick_4\">\r\n     <g id=\"line2d_6\">\r\n      <g>\r\n       <use style=\"stroke:#000000;stroke-width:0.8;\" x=\"50.392188\" xlink:href=\"#mf303c1fd3d\" y=\"160.83573\"/>\r\n      </g>\r\n     </g>\r\n     <g id=\"text_7\">\r\n      <!-- 0.75 -->\r\n      <g transform=\"translate(21.126563 164.634949)scale(0.1 -0.1)\">\r\n       <defs>\r\n        <path d=\"M 8.203125 72.90625 \r\nL 55.078125 72.90625 \r\nL 55.078125 68.703125 \r\nL 28.609375 0 \r\nL 18.3125 0 \r\nL 43.21875 64.59375 \r\nL 8.203125 64.59375 \r\nz\r\n\" id=\"DejaVuSans-55\"/>\r\n       </defs>\r\n       <use xlink:href=\"#DejaVuSans-48\"/>\r\n       <use x=\"63.623047\" xlink:href=\"#DejaVuSans-46\"/>\r\n       <use x=\"95.410156\" xlink:href=\"#DejaVuSans-55\"/>\r\n       <use x=\"159.033203\" xlink:href=\"#DejaVuSans-53\"/>\r\n      </g>\r\n     </g>\r\n    </g>\r\n    <g id=\"ytick_5\">\r\n     <g id=\"line2d_7\">\r\n      <g>\r\n       <use style=\"stroke:#000000;stroke-width:0.8;\" x=\"50.392188\" xlink:href=\"#mf303c1fd3d\" y=\"134.528265\"/>\r\n      </g>\r\n     </g>\r\n     <g id=\"text_8\">\r\n      <!-- 1.00 -->\r\n      <g transform=\"translate(21.126563 138.327484)scale(0.1 -0.1)\">\r\n       <defs>\r\n        <path d=\"M 12.40625 8.296875 \r\nL 28.515625 8.296875 \r\nL 28.515625 63.921875 \r\nL 10.984375 60.40625 \r\nL 10.984375 69.390625 \r\nL 28.421875 72.90625 \r\nL 38.28125 72.90625 \r\nL 38.28125 8.296875 \r\nL 54.390625 8.296875 \r\nL 54.390625 0 \r\nL 12.40625 0 \r\nz\r\n\" id=\"DejaVuSans-49\"/>\r\n       </defs>\r\n       <use xlink:href=\"#DejaVuSans-49\"/>\r\n       <use x=\"63.623047\" xlink:href=\"#DejaVuSans-46\"/>\r\n       <use x=\"95.410156\" xlink:href=\"#DejaVuSans-48\"/>\r\n       <use x=\"159.033203\" xlink:href=\"#DejaVuSans-48\"/>\r\n      </g>\r\n     </g>\r\n    </g>\r\n    <g id=\"ytick_6\">\r\n     <g id=\"line2d_8\">\r\n      <g>\r\n       <use style=\"stroke:#000000;stroke-width:0.8;\" x=\"50.392188\" xlink:href=\"#mf303c1fd3d\" y=\"108.2208\"/>\r\n      </g>\r\n     </g>\r\n     <g id=\"text_9\">\r\n      <!-- 1.25 -->\r\n      <g transform=\"translate(21.126563 112.020019)scale(0.1 -0.1)\">\r\n       <use xlink:href=\"#DejaVuSans-49\"/>\r\n       <use x=\"63.623047\" xlink:href=\"#DejaVuSans-46\"/>\r\n       <use x=\"95.410156\" xlink:href=\"#DejaVuSans-50\"/>\r\n       <use x=\"159.033203\" xlink:href=\"#DejaVuSans-53\"/>\r\n      </g>\r\n     </g>\r\n    </g>\r\n    <g id=\"ytick_7\">\r\n     <g id=\"line2d_9\">\r\n      <g>\r\n       <use style=\"stroke:#000000;stroke-width:0.8;\" x=\"50.392188\" xlink:href=\"#mf303c1fd3d\" y=\"81.913335\"/>\r\n      </g>\r\n     </g>\r\n     <g id=\"text_10\">\r\n      <!-- 1.50 -->\r\n      <g transform=\"translate(21.126563 85.712553)scale(0.1 -0.1)\">\r\n       <use xlink:href=\"#DejaVuSans-49\"/>\r\n       <use x=\"63.623047\" xlink:href=\"#DejaVuSans-46\"/>\r\n       <use x=\"95.410156\" xlink:href=\"#DejaVuSans-53\"/>\r\n       <use x=\"159.033203\" xlink:href=\"#DejaVuSans-48\"/>\r\n      </g>\r\n     </g>\r\n    </g>\r\n    <g id=\"ytick_8\">\r\n     <g id=\"line2d_10\">\r\n      <g>\r\n       <use style=\"stroke:#000000;stroke-width:0.8;\" x=\"50.392188\" xlink:href=\"#mf303c1fd3d\" y=\"55.60587\"/>\r\n      </g>\r\n     </g>\r\n     <g id=\"text_11\">\r\n      <!-- 1.75 -->\r\n      <g transform=\"translate(21.126563 59.405088)scale(0.1 -0.1)\">\r\n       <use xlink:href=\"#DejaVuSans-49\"/>\r\n       <use x=\"63.623047\" xlink:href=\"#DejaVuSans-46\"/>\r\n       <use x=\"95.410156\" xlink:href=\"#DejaVuSans-55\"/>\r\n       <use x=\"159.033203\" xlink:href=\"#DejaVuSans-53\"/>\r\n      </g>\r\n     </g>\r\n    </g>\r\n    <g id=\"ytick_9\">\r\n     <g id=\"line2d_11\">\r\n      <g>\r\n       <use style=\"stroke:#000000;stroke-width:0.8;\" x=\"50.392188\" xlink:href=\"#mf303c1fd3d\" y=\"29.298405\"/>\r\n      </g>\r\n     </g>\r\n     <g id=\"text_12\">\r\n      <!-- 2.00 -->\r\n      <g transform=\"translate(21.126563 33.097623)scale(0.1 -0.1)\">\r\n       <use xlink:href=\"#DejaVuSans-50\"/>\r\n       <use x=\"63.623047\" xlink:href=\"#DejaVuSans-46\"/>\r\n       <use x=\"95.410156\" xlink:href=\"#DejaVuSans-48\"/>\r\n       <use x=\"159.033203\" xlink:href=\"#DejaVuSans-48\"/>\r\n      </g>\r\n     </g>\r\n    </g>\r\n    <g id=\"text_13\">\r\n     <!-- Número de Inscrição -->\r\n     <g transform=\"translate(15.046875 182.640469)rotate(-90)scale(0.1 -0.1)\">\r\n      <defs>\r\n       <path d=\"M 9.8125 72.90625 \r\nL 23.09375 72.90625 \r\nL 55.421875 11.921875 \r\nL 55.421875 72.90625 \r\nL 64.984375 72.90625 \r\nL 64.984375 0 \r\nL 51.703125 0 \r\nL 19.390625 60.984375 \r\nL 19.390625 0 \r\nL 9.8125 0 \r\nz\r\n\" id=\"DejaVuSans-78\"/>\r\n       <path d=\"M 8.5 21.578125 \r\nL 8.5 54.6875 \r\nL 17.484375 54.6875 \r\nL 17.484375 21.921875 \r\nQ 17.484375 14.15625 20.5 10.265625 \r\nQ 23.53125 6.390625 29.59375 6.390625 \r\nQ 36.859375 6.390625 41.078125 11.03125 \r\nQ 45.3125 15.671875 45.3125 23.6875 \r\nL 45.3125 54.6875 \r\nL 54.296875 54.6875 \r\nL 54.296875 0 \r\nL 45.3125 0 \r\nL 45.3125 8.40625 \r\nQ 42.046875 3.421875 37.71875 1 \r\nQ 33.40625 -1.421875 27.6875 -1.421875 \r\nQ 18.265625 -1.421875 13.375 4.4375 \r\nQ 8.5 10.296875 8.5 21.578125 \r\nz\r\nM 31.109375 56 \r\nz\r\nM 37.78125 79.984375 \r\nL 47.5 79.984375 \r\nL 31.59375 61.625 \r\nL 24.109375 61.625 \r\nz\r\n\" id=\"DejaVuSans-250\"/>\r\n       <path d=\"M 41.109375 46.296875 \r\nQ 39.59375 47.171875 37.8125 47.578125 \r\nQ 36.03125 48 33.890625 48 \r\nQ 26.265625 48 22.1875 43.046875 \r\nQ 18.109375 38.09375 18.109375 28.8125 \r\nL 18.109375 0 \r\nL 9.078125 0 \r\nL 9.078125 54.6875 \r\nL 18.109375 54.6875 \r\nL 18.109375 46.1875 \r\nQ 20.953125 51.171875 25.484375 53.578125 \r\nQ 30.03125 56 36.53125 56 \r\nQ 37.453125 56 38.578125 55.875 \r\nQ 39.703125 55.765625 41.0625 55.515625 \r\nz\r\n\" id=\"DejaVuSans-114\"/>\r\n       <path id=\"DejaVuSans-32\"/>\r\n       <path d=\"M 45.40625 46.390625 \r\nL 45.40625 75.984375 \r\nL 54.390625 75.984375 \r\nL 54.390625 0 \r\nL 45.40625 0 \r\nL 45.40625 8.203125 \r\nQ 42.578125 3.328125 38.25 0.953125 \r\nQ 33.9375 -1.421875 27.875 -1.421875 \r\nQ 17.96875 -1.421875 11.734375 6.484375 \r\nQ 5.515625 14.40625 5.515625 27.296875 \r\nQ 5.515625 40.1875 11.734375 48.09375 \r\nQ 17.96875 56 27.875 56 \r\nQ 33.9375 56 38.25 53.625 \r\nQ 42.578125 51.265625 45.40625 46.390625 \r\nz\r\nM 14.796875 27.296875 \r\nQ 14.796875 17.390625 18.875 11.75 \r\nQ 22.953125 6.109375 30.078125 6.109375 \r\nQ 37.203125 6.109375 41.296875 11.75 \r\nQ 45.40625 17.390625 45.40625 27.296875 \r\nQ 45.40625 37.203125 41.296875 42.84375 \r\nQ 37.203125 48.484375 30.078125 48.484375 \r\nQ 22.953125 48.484375 18.875 42.84375 \r\nQ 14.796875 37.203125 14.796875 27.296875 \r\nz\r\n\" id=\"DejaVuSans-100\"/>\r\n       <path d=\"M 9.8125 72.90625 \r\nL 19.671875 72.90625 \r\nL 19.671875 0 \r\nL 9.8125 0 \r\nz\r\n\" id=\"DejaVuSans-73\"/>\r\n       <path d=\"M 48.78125 52.59375 \r\nL 48.78125 44.1875 \r\nQ 44.96875 46.296875 41.140625 47.34375 \r\nQ 37.3125 48.390625 33.40625 48.390625 \r\nQ 24.65625 48.390625 19.8125 42.84375 \r\nQ 14.984375 37.3125 14.984375 27.296875 \r\nQ 14.984375 17.28125 19.8125 11.734375 \r\nQ 24.65625 6.203125 33.40625 6.203125 \r\nQ 37.3125 6.203125 41.140625 7.25 \r\nQ 44.96875 8.296875 48.78125 10.40625 \r\nL 48.78125 2.09375 \r\nQ 45.015625 0.34375 40.984375 -0.53125 \r\nQ 36.96875 -1.421875 32.421875 -1.421875 \r\nQ 20.0625 -1.421875 12.78125 6.34375 \r\nQ 5.515625 14.109375 5.515625 27.296875 \r\nQ 5.515625 40.671875 12.859375 48.328125 \r\nQ 20.21875 56 33.015625 56 \r\nQ 37.15625 56 41.109375 55.140625 \r\nQ 45.0625 54.296875 48.78125 52.59375 \r\nz\r\nM 36.109375 0 \r\nQ 38.78125 -3.03125 40.09375 -5.59375 \r\nQ 41.421875 -8.15625 41.421875 -10.5 \r\nQ 41.421875 -14.84375 38.484375 -17.0625 \r\nQ 35.5625 -19.28125 29.796875 -19.28125 \r\nQ 27.5625 -19.28125 25.4375 -18.984375 \r\nQ 23.3125 -18.703125 21.203125 -18.109375 \r\nL 21.203125 -11.71875 \r\nQ 22.875 -12.546875 24.671875 -12.90625 \r\nQ 26.484375 -13.28125 28.78125 -13.28125 \r\nQ 31.65625 -13.28125 33.125 -12.109375 \r\nQ 34.59375 -10.9375 34.59375 -8.6875 \r\nQ 34.59375 -7.234375 33.53125 -5.109375 \r\nQ 32.484375 -2.984375 30.296875 0 \r\nz\r\n\" id=\"DejaVuSans-231\"/>\r\n       <path d=\"M 34.28125 27.484375 \r\nQ 23.390625 27.484375 19.1875 25 \r\nQ 14.984375 22.515625 14.984375 16.5 \r\nQ 14.984375 11.71875 18.140625 8.90625 \r\nQ 21.296875 6.109375 26.703125 6.109375 \r\nQ 34.1875 6.109375 38.703125 11.40625 \r\nQ 43.21875 16.703125 43.21875 25.484375 \r\nL 43.21875 27.484375 \r\nz\r\nM 52.203125 31.203125 \r\nL 52.203125 0 \r\nL 43.21875 0 \r\nL 43.21875 8.296875 \r\nQ 40.140625 3.328125 35.546875 0.953125 \r\nQ 30.953125 -1.421875 24.3125 -1.421875 \r\nQ 15.921875 -1.421875 10.953125 3.296875 \r\nQ 6 8.015625 6 15.921875 \r\nQ 6 25.140625 12.171875 29.828125 \r\nQ 18.359375 34.515625 30.609375 34.515625 \r\nL 43.21875 34.515625 \r\nL 43.21875 35.40625 \r\nQ 43.21875 41.609375 39.140625 45 \r\nQ 35.0625 48.390625 27.6875 48.390625 \r\nQ 23 48.390625 18.546875 47.265625 \r\nQ 14.109375 46.140625 10.015625 43.890625 \r\nL 10.015625 52.203125 \r\nQ 14.9375 54.109375 19.578125 55.046875 \r\nQ 24.21875 56 28.609375 56 \r\nQ 40.484375 56 46.34375 49.84375 \r\nQ 52.203125 43.703125 52.203125 31.203125 \r\nz\r\nM 28.8125 66.890625 \r\nL 26.015625 69.578125 \r\nQ 24.953125 70.5625 24.140625 71.015625 \r\nQ 23.34375 71.484375 22.703125 71.484375 \r\nQ 20.84375 71.484375 19.96875 69.703125 \r\nQ 19.09375 67.921875 18.984375 63.921875 \r\nL 12.890625 63.921875 \r\nQ 12.984375 70.515625 15.46875 74.09375 \r\nQ 17.96875 77.6875 22.40625 77.6875 \r\nQ 24.265625 77.6875 25.828125 77 \r\nQ 27.390625 76.3125 29.203125 74.703125 \r\nL 31.984375 72.015625 \r\nQ 33.046875 71.046875 33.859375 70.578125 \r\nQ 34.671875 70.125 35.296875 70.125 \r\nQ 37.15625 70.125 38.03125 71.90625 \r\nQ 38.90625 73.6875 39.015625 77.6875 \r\nL 45.109375 77.6875 \r\nQ 45.015625 71.09375 42.515625 67.5 \r\nQ 40.03125 63.921875 35.59375 63.921875 \r\nQ 33.734375 63.921875 32.171875 64.59375 \r\nQ 30.609375 65.28125 28.8125 66.890625 \r\nz\r\n\" id=\"DejaVuSans-227\"/>\r\n      </defs>\r\n      <use xlink:href=\"#DejaVuSans-78\"/>\r\n      <use x=\"74.804688\" xlink:href=\"#DejaVuSans-250\"/>\r\n      <use x=\"138.183594\" xlink:href=\"#DejaVuSans-109\"/>\r\n      <use x=\"235.595703\" xlink:href=\"#DejaVuSans-101\"/>\r\n      <use x=\"297.119141\" xlink:href=\"#DejaVuSans-114\"/>\r\n      <use x=\"335.982422\" xlink:href=\"#DejaVuSans-111\"/>\r\n      <use x=\"397.164062\" xlink:href=\"#DejaVuSans-32\"/>\r\n      <use x=\"428.951172\" xlink:href=\"#DejaVuSans-100\"/>\r\n      <use x=\"492.427734\" xlink:href=\"#DejaVuSans-101\"/>\r\n      <use x=\"553.951172\" xlink:href=\"#DejaVuSans-32\"/>\r\n      <use x=\"585.738281\" xlink:href=\"#DejaVuSans-73\"/>\r\n      <use x=\"615.230469\" xlink:href=\"#DejaVuSans-110\"/>\r\n      <use x=\"678.609375\" xlink:href=\"#DejaVuSans-115\"/>\r\n      <use x=\"730.708984\" xlink:href=\"#DejaVuSans-99\"/>\r\n      <use x=\"785.689453\" xlink:href=\"#DejaVuSans-114\"/>\r\n      <use x=\"826.802734\" xlink:href=\"#DejaVuSans-105\"/>\r\n      <use x=\"854.585938\" xlink:href=\"#DejaVuSans-231\"/>\r\n      <use x=\"909.566406\" xlink:href=\"#DejaVuSans-227\"/>\r\n      <use x=\"970.845703\" xlink:href=\"#DejaVuSans-111\"/>\r\n     </g>\r\n    </g>\r\n    <g id=\"text_14\">\r\n     <!-- 1e7 -->\r\n     <g transform=\"translate(50.392188 19.318125)scale(0.1 -0.1)\">\r\n      <use xlink:href=\"#DejaVuSans-49\"/>\r\n      <use x=\"63.623047\" xlink:href=\"#DejaVuSans-101\"/>\r\n      <use x=\"125.146484\" xlink:href=\"#DejaVuSans-55\"/>\r\n     </g>\r\n    </g>\r\n   </g>\r\n   <g id=\"patch_5\">\r\n    <path d=\"M 50.392188 239.758125 \r\nL 50.392188 22.318125 \r\n\" style=\"fill:none;stroke:#000000;stroke-linecap:square;stroke-linejoin:miter;stroke-width:0.8;\"/>\r\n   </g>\r\n   <g id=\"patch_6\">\r\n    <path d=\"M 385.192188 239.758125 \r\nL 385.192188 22.318125 \r\n\" style=\"fill:none;stroke:#000000;stroke-linecap:square;stroke-linejoin:miter;stroke-width:0.8;\"/>\r\n   </g>\r\n   <g id=\"patch_7\">\r\n    <path d=\"M 50.392188 239.758125 \r\nL 385.192188 239.758125 \r\n\" style=\"fill:none;stroke:#000000;stroke-linecap:square;stroke-linejoin:miter;stroke-width:0.8;\"/>\r\n   </g>\r\n   <g id=\"patch_8\">\r\n    <path d=\"M 50.392188 22.318125 \r\nL 385.192188 22.318125 \r\n\" style=\"fill:none;stroke:#000000;stroke-linecap:square;stroke-linejoin:miter;stroke-width:0.8;\"/>\r\n   </g>\r\n   <g id=\"text_15\">\r\n    <!-- Quantidade de inscriçoes por Sexo. -->\r\n    <g transform=\"translate(111.657813 16.318125)scale(0.12 -0.12)\">\r\n     <defs>\r\n      <path d=\"M 39.40625 66.21875 \r\nQ 28.65625 66.21875 22.328125 58.203125 \r\nQ 16.015625 50.203125 16.015625 36.375 \r\nQ 16.015625 22.609375 22.328125 14.59375 \r\nQ 28.65625 6.59375 39.40625 6.59375 \r\nQ 50.140625 6.59375 56.421875 14.59375 \r\nQ 62.703125 22.609375 62.703125 36.375 \r\nQ 62.703125 50.203125 56.421875 58.203125 \r\nQ 50.140625 66.21875 39.40625 66.21875 \r\nz\r\nM 53.21875 1.3125 \r\nL 66.21875 -12.890625 \r\nL 54.296875 -12.890625 \r\nL 43.5 -1.21875 \r\nQ 41.890625 -1.3125 41.03125 -1.359375 \r\nQ 40.1875 -1.421875 39.40625 -1.421875 \r\nQ 24.03125 -1.421875 14.8125 8.859375 \r\nQ 5.609375 19.140625 5.609375 36.375 \r\nQ 5.609375 53.65625 14.8125 63.9375 \r\nQ 24.03125 74.21875 39.40625 74.21875 \r\nQ 54.734375 74.21875 63.90625 63.9375 \r\nQ 73.09375 53.65625 73.09375 36.375 \r\nQ 73.09375 23.6875 67.984375 14.640625 \r\nQ 62.890625 5.609375 53.21875 1.3125 \r\nz\r\n\" id=\"DejaVuSans-81\"/>\r\n      <path d=\"M 18.3125 70.21875 \r\nL 18.3125 54.6875 \r\nL 36.8125 54.6875 \r\nL 36.8125 47.703125 \r\nL 18.3125 47.703125 \r\nL 18.3125 18.015625 \r\nQ 18.3125 11.328125 20.140625 9.421875 \r\nQ 21.96875 7.515625 27.59375 7.515625 \r\nL 36.8125 7.515625 \r\nL 36.8125 0 \r\nL 27.59375 0 \r\nQ 17.1875 0 13.234375 3.875 \r\nQ 9.28125 7.765625 9.28125 18.015625 \r\nL 9.28125 47.703125 \r\nL 2.6875 47.703125 \r\nL 2.6875 54.6875 \r\nL 9.28125 54.6875 \r\nL 9.28125 70.21875 \r\nz\r\n\" id=\"DejaVuSans-116\"/>\r\n      <path d=\"M 18.109375 8.203125 \r\nL 18.109375 -20.796875 \r\nL 9.078125 -20.796875 \r\nL 9.078125 54.6875 \r\nL 18.109375 54.6875 \r\nL 18.109375 46.390625 \r\nQ 20.953125 51.265625 25.265625 53.625 \r\nQ 29.59375 56 35.59375 56 \r\nQ 45.5625 56 51.78125 48.09375 \r\nQ 58.015625 40.1875 58.015625 27.296875 \r\nQ 58.015625 14.40625 51.78125 6.484375 \r\nQ 45.5625 -1.421875 35.59375 -1.421875 \r\nQ 29.59375 -1.421875 25.265625 0.953125 \r\nQ 20.953125 3.328125 18.109375 8.203125 \r\nz\r\nM 48.6875 27.296875 \r\nQ 48.6875 37.203125 44.609375 42.84375 \r\nQ 40.53125 48.484375 33.40625 48.484375 \r\nQ 26.265625 48.484375 22.1875 42.84375 \r\nQ 18.109375 37.203125 18.109375 27.296875 \r\nQ 18.109375 17.390625 22.1875 11.75 \r\nQ 26.265625 6.109375 33.40625 6.109375 \r\nQ 40.53125 6.109375 44.609375 11.75 \r\nQ 48.6875 17.390625 48.6875 27.296875 \r\nz\r\n\" id=\"DejaVuSans-112\"/>\r\n     </defs>\r\n     <use xlink:href=\"#DejaVuSans-81\"/>\r\n     <use x=\"78.710938\" xlink:href=\"#DejaVuSans-117\"/>\r\n     <use x=\"142.089844\" xlink:href=\"#DejaVuSans-97\"/>\r\n     <use x=\"203.369141\" xlink:href=\"#DejaVuSans-110\"/>\r\n     <use x=\"266.748047\" xlink:href=\"#DejaVuSans-116\"/>\r\n     <use x=\"305.957031\" xlink:href=\"#DejaVuSans-105\"/>\r\n     <use x=\"333.740234\" xlink:href=\"#DejaVuSans-100\"/>\r\n     <use x=\"397.216797\" xlink:href=\"#DejaVuSans-97\"/>\r\n     <use x=\"458.496094\" xlink:href=\"#DejaVuSans-100\"/>\r\n     <use x=\"521.972656\" xlink:href=\"#DejaVuSans-101\"/>\r\n     <use x=\"583.496094\" xlink:href=\"#DejaVuSans-32\"/>\r\n     <use x=\"615.283203\" xlink:href=\"#DejaVuSans-100\"/>\r\n     <use x=\"678.759766\" xlink:href=\"#DejaVuSans-101\"/>\r\n     <use x=\"740.283203\" xlink:href=\"#DejaVuSans-32\"/>\r\n     <use x=\"772.070312\" xlink:href=\"#DejaVuSans-105\"/>\r\n     <use x=\"799.853516\" xlink:href=\"#DejaVuSans-110\"/>\r\n     <use x=\"863.232422\" xlink:href=\"#DejaVuSans-115\"/>\r\n     <use x=\"915.332031\" xlink:href=\"#DejaVuSans-99\"/>\r\n     <use x=\"970.3125\" xlink:href=\"#DejaVuSans-114\"/>\r\n     <use x=\"1011.425781\" xlink:href=\"#DejaVuSans-105\"/>\r\n     <use x=\"1039.208984\" xlink:href=\"#DejaVuSans-231\"/>\r\n     <use x=\"1094.189453\" xlink:href=\"#DejaVuSans-111\"/>\r\n     <use x=\"1155.371094\" xlink:href=\"#DejaVuSans-101\"/>\r\n     <use x=\"1216.894531\" xlink:href=\"#DejaVuSans-115\"/>\r\n     <use x=\"1268.994141\" xlink:href=\"#DejaVuSans-32\"/>\r\n     <use x=\"1300.78125\" xlink:href=\"#DejaVuSans-112\"/>\r\n     <use x=\"1364.257812\" xlink:href=\"#DejaVuSans-111\"/>\r\n     <use x=\"1425.439453\" xlink:href=\"#DejaVuSans-114\"/>\r\n     <use x=\"1466.552734\" xlink:href=\"#DejaVuSans-32\"/>\r\n     <use x=\"1498.339844\" xlink:href=\"#DejaVuSans-83\"/>\r\n     <use x=\"1561.816406\" xlink:href=\"#DejaVuSans-101\"/>\r\n     <use x=\"1621.589844\" xlink:href=\"#DejaVuSans-120\"/>\r\n     <use x=\"1677.644531\" xlink:href=\"#DejaVuSans-111\"/>\r\n     <use x=\"1737.076172\" xlink:href=\"#DejaVuSans-46\"/>\r\n    </g>\r\n   </g>\r\n  </g>\r\n </g>\r\n <defs>\r\n  <clipPath id=\"p2876e3a2a1\">\r\n   <rect height=\"217.44\" width=\"334.8\" x=\"50.392188\" y=\"22.318125\"/>\r\n  </clipPath>\r\n </defs>\r\n</svg>\r\n",
      "image/png": "[encoded data removed]"
     },
     "metadata": {
      "needs_background": "light"
     }
    }
   ],
   "source": [
    "print('Quantidade de inscriçoes por Sexo.')\n",
    "print('')\n",
    "print(f'Consulta inciada -  {datetime.now()}')\n",
    "\n",
    "# Apresentando os valores da consulta SQL no Spark\n",
    "sqlContext.sql('SELECT SEXO, COUNT(*) AS QTDE_INSCRICAO, ROUND((COUNT(*)/(SELECT COUNT(*)/100 FROM enemtb)),2) AS PERCENTUAL FROM enemtb GROUP BY SEXO ORDER BY COUNT(*) DESC').show()\n",
    "\n",
    "# Criação do dataframe com os valores selecionados\n",
    "df_grafico = sqlContext.sql('SELECT SEXO, COUNT(*) AS QTDE_INSCRICAO, ROUND((COUNT(*)/(SELECT COUNT(*)/100 FROM enemtb)),2) AS PERCENTUAL FROM enemtb GROUP BY SEXO ORDER BY COUNT(*) DESC').toPandas()\n",
    "\n",
    "# Apresentando o grafico do Dataframe df_grafico.\n",
    "df_grafico.plot(kind='bar', x='SEXO', y='QTDE_INSCRICAO', legend=False)\n",
    "plt.title('Quantidade de inscriçoes por Sexo.')\n",
    "plt.xlabel('Sexo')\n",
    "plt.ylabel('Número de Inscrição')\n",
    "\n",
    "print(f'Consulta realizada com sucesso -  {datetime.now()}')"
   ]
  },
  {
   "cell_type": "code",
   "execution_count": 100,
   "metadata": {
    "tags": []
   },
   "outputs": [
    {
     "output_type": "stream",
     "name": "stdout",
     "text": "Quantidade de inscriçoes por Sexo por Ano.\n\nConsulta inciada -  2020-09-02 18:27:13.456816\n+----+---------+--------------+----------+\n| ANO|     SEXO|QTDE_INSCRICAO|PERCENTUAL|\n+----+---------+--------------+----------+\n|2015| Feminino|       4460448|     13.23|\n|2015|Masculino|       3285979|      9.75|\n|2016| Feminino|       4982639|     14.78|\n|2016|Masculino|       3644728|     10.81|\n|2017| Feminino|       3946756|     11.71|\n|2017|Masculino|       2784585|      8.26|\n|2018| Feminino|       3257703|      9.66|\n|2018|Masculino|       2256044|      6.69|\n|2019| Feminino|       3031822|      8.99|\n|2019|Masculino|       2063448|      6.12|\n+----+---------+--------------+----------+\n\nConsulta realizada com sucesso -  2020-09-02 18:33:30.430419\n"
    },
    {
     "output_type": "display_data",
     "data": {
      "text/plain": "<Figure size 521.225x432 with 1 Axes>",
      "image/svg+xml": "<?xml version=\"1.0\" encoding=\"utf-8\" standalone=\"no\"?>\r\n<!DOCTYPE svg PUBLIC \"-//W3C//DTD SVG 1.1//EN\"\r\n  \"http://www.w3.org/Graphics/SVG/1.1/DTD/svg11.dtd\">\r\n<!-- Created with matplotlib (https://matplotlib.org/) -->\r\n<svg height=\"421.387812pt\" version=\"1.1\" viewBox=\"0 0 509.325736 421.387812\" width=\"509.325736pt\" xmlns=\"http://www.w3.org/2000/svg\" xmlns:xlink=\"http://www.w3.org/1999/xlink\">\r\n <metadata>\r\n  <rdf:RDF xmlns:cc=\"http://creativecommons.org/ns#\" xmlns:dc=\"http://purl.org/dc/elements/1.1/\" xmlns:rdf=\"http://www.w3.org/1999/02/22-rdf-syntax-ns#\">\r\n   <cc:Work>\r\n    <dc:type rdf:resource=\"http://purl.org/dc/dcmitype/StillImage\"/>\r\n    <dc:date>2020-09-02T18:33:30.531149</dc:date>\r\n    <dc:format>image/svg+xml</dc:format>\r\n    <dc:creator>\r\n     <cc:Agent>\r\n      <dc:title>Matplotlib v3.3.1, https://matplotlib.org/</dc:title>\r\n     </cc:Agent>\r\n    </dc:creator>\r\n   </cc:Work>\r\n  </rdf:RDF>\r\n </metadata>\r\n <defs>\r\n  <style type=\"text/css\">*{stroke-linecap:butt;stroke-linejoin:round;}</style>\r\n </defs>\r\n <g id=\"figure_1\">\r\n  <g id=\"patch_1\">\r\n   <path d=\"M 0 421.387812 \r\nL 509.325736 421.387812 \r\nL 509.325736 0 \r\nL 0 0 \r\nz\r\n\" style=\"fill:#ffffff;\"/>\r\n  </g>\r\n  <g id=\"axes_1\">\r\n   <g id=\"patch_2\">\r\n    <path d=\"M 37.932031 379.653594 \r\nL 413.188486 379.653594 \r\nL 413.188486 18.073594 \r\nL 37.932031 18.073594 \r\nz\r\n\" style=\"fill:#ffffff;\"/>\r\n   </g>\r\n   <g id=\"matplotlib.axis_1\">\r\n    <g id=\"xtick_1\">\r\n     <g id=\"text_1\">\r\n      <!-- 2015 -->\r\n      <g style=\"fill:#262626;\" transform=\"translate(63.223614 397.027187)scale(0.11 -0.11)\">\r\n       <defs>\r\n        <path d=\"M 50.34375 8.453125 \r\nL 50.34375 0 \r\nL 3.03125 0 \r\nQ 2.9375 3.171875 4.046875 6.109375 \r\nQ 5.859375 10.9375 9.828125 15.625 \r\nQ 13.8125 20.3125 21.34375 26.46875 \r\nQ 33.015625 36.03125 37.109375 41.625 \r\nQ 41.21875 47.21875 41.21875 52.203125 \r\nQ 41.21875 57.421875 37.46875 61 \r\nQ 33.734375 64.59375 27.734375 64.59375 \r\nQ 21.390625 64.59375 17.578125 60.78125 \r\nQ 13.765625 56.984375 13.71875 50.25 \r\nL 4.6875 51.171875 \r\nQ 5.609375 61.28125 11.65625 66.578125 \r\nQ 17.71875 71.875 27.9375 71.875 \r\nQ 38.234375 71.875 44.234375 66.15625 \r\nQ 50.25 60.453125 50.25 52 \r\nQ 50.25 47.703125 48.484375 43.546875 \r\nQ 46.734375 39.40625 42.65625 34.8125 \r\nQ 38.578125 30.21875 29.109375 22.21875 \r\nQ 21.1875 15.578125 18.9375 13.203125 \r\nQ 16.703125 10.84375 15.234375 8.453125 \r\nz\r\n\" id=\"ArialMT-50\"/>\r\n        <path d=\"M 4.15625 35.296875 \r\nQ 4.15625 48 6.765625 55.734375 \r\nQ 9.375 63.484375 14.515625 67.671875 \r\nQ 19.671875 71.875 27.484375 71.875 \r\nQ 33.25 71.875 37.59375 69.546875 \r\nQ 41.9375 67.234375 44.765625 62.859375 \r\nQ 47.609375 58.5 49.21875 52.21875 \r\nQ 50.828125 45.953125 50.828125 35.296875 \r\nQ 50.828125 22.703125 48.234375 14.96875 \r\nQ 45.65625 7.234375 40.5 3 \r\nQ 35.359375 -1.21875 27.484375 -1.21875 \r\nQ 17.140625 -1.21875 11.234375 6.203125 \r\nQ 4.15625 15.140625 4.15625 35.296875 \r\nz\r\nM 13.1875 35.296875 \r\nQ 13.1875 17.671875 17.3125 11.828125 \r\nQ 21.4375 6 27.484375 6 \r\nQ 33.546875 6 37.671875 11.859375 \r\nQ 41.796875 17.71875 41.796875 35.296875 \r\nQ 41.796875 52.984375 37.671875 58.78125 \r\nQ 33.546875 64.59375 27.390625 64.59375 \r\nQ 21.34375 64.59375 17.71875 59.46875 \r\nQ 13.1875 52.9375 13.1875 35.296875 \r\nz\r\n\" id=\"ArialMT-48\"/>\r\n        <path d=\"M 37.25 0 \r\nL 28.46875 0 \r\nL 28.46875 56 \r\nQ 25.296875 52.984375 20.140625 49.953125 \r\nQ 14.984375 46.921875 10.890625 45.40625 \r\nL 10.890625 53.90625 \r\nQ 18.265625 57.375 23.78125 62.296875 \r\nQ 29.296875 67.234375 31.59375 71.875 \r\nL 37.25 71.875 \r\nz\r\n\" id=\"ArialMT-49\"/>\r\n        <path d=\"M 4.15625 18.75 \r\nL 13.375 19.53125 \r\nQ 14.40625 12.796875 18.140625 9.390625 \r\nQ 21.875 6 27.15625 6 \r\nQ 33.5 6 37.890625 10.78125 \r\nQ 42.28125 15.578125 42.28125 23.484375 \r\nQ 42.28125 31 38.0625 35.34375 \r\nQ 33.84375 39.703125 27 39.703125 \r\nQ 22.75 39.703125 19.328125 37.765625 \r\nQ 15.921875 35.84375 13.96875 32.765625 \r\nL 5.71875 33.84375 \r\nL 12.640625 70.609375 \r\nL 48.25 70.609375 \r\nL 48.25 62.203125 \r\nL 19.671875 62.203125 \r\nL 15.828125 42.96875 \r\nQ 22.265625 47.46875 29.34375 47.46875 \r\nQ 38.71875 47.46875 45.15625 40.96875 \r\nQ 51.609375 34.46875 51.609375 24.265625 \r\nQ 51.609375 14.546875 45.953125 7.46875 \r\nQ 39.0625 -1.21875 27.15625 -1.21875 \r\nQ 17.390625 -1.21875 11.203125 4.25 \r\nQ 5.03125 9.71875 4.15625 18.75 \r\nz\r\n\" id=\"ArialMT-53\"/>\r\n       </defs>\r\n       <use xlink:href=\"#ArialMT-50\"/>\r\n       <use x=\"55.615234\" xlink:href=\"#ArialMT-48\"/>\r\n       <use x=\"111.230469\" xlink:href=\"#ArialMT-49\"/>\r\n       <use x=\"166.845703\" xlink:href=\"#ArialMT-53\"/>\r\n      </g>\r\n     </g>\r\n    </g>\r\n    <g id=\"xtick_2\">\r\n     <g id=\"text_2\">\r\n      <!-- 2016 -->\r\n      <g style=\"fill:#262626;\" transform=\"translate(138.274905 397.027187)scale(0.11 -0.11)\">\r\n       <defs>\r\n        <path d=\"M 49.75 54.046875 \r\nL 41.015625 53.375 \r\nQ 39.84375 58.546875 37.703125 60.890625 \r\nQ 34.125 64.65625 28.90625 64.65625 \r\nQ 24.703125 64.65625 21.53125 62.3125 \r\nQ 17.390625 59.28125 14.984375 53.46875 \r\nQ 12.59375 47.65625 12.5 36.921875 \r\nQ 15.671875 41.75 20.265625 44.09375 \r\nQ 24.859375 46.4375 29.890625 46.4375 \r\nQ 38.671875 46.4375 44.84375 39.96875 \r\nQ 51.03125 33.5 51.03125 23.25 \r\nQ 51.03125 16.5 48.125 10.71875 \r\nQ 45.21875 4.9375 40.140625 1.859375 \r\nQ 35.0625 -1.21875 28.609375 -1.21875 \r\nQ 17.625 -1.21875 10.6875 6.859375 \r\nQ 3.765625 14.9375 3.765625 33.5 \r\nQ 3.765625 54.25 11.421875 63.671875 \r\nQ 18.109375 71.875 29.4375 71.875 \r\nQ 37.890625 71.875 43.28125 67.140625 \r\nQ 48.6875 62.40625 49.75 54.046875 \r\nz\r\nM 13.875 23.1875 \r\nQ 13.875 18.65625 15.796875 14.5 \r\nQ 17.71875 10.359375 21.1875 8.171875 \r\nQ 24.65625 6 28.46875 6 \r\nQ 34.03125 6 38.03125 10.484375 \r\nQ 42.046875 14.984375 42.046875 22.703125 \r\nQ 42.046875 30.125 38.078125 34.390625 \r\nQ 34.125 38.671875 28.125 38.671875 \r\nQ 22.171875 38.671875 18.015625 34.390625 \r\nQ 13.875 30.125 13.875 23.1875 \r\nz\r\n\" id=\"ArialMT-54\"/>\r\n       </defs>\r\n       <use xlink:href=\"#ArialMT-50\"/>\r\n       <use x=\"55.615234\" xlink:href=\"#ArialMT-48\"/>\r\n       <use x=\"111.230469\" xlink:href=\"#ArialMT-49\"/>\r\n       <use x=\"166.845703\" xlink:href=\"#ArialMT-54\"/>\r\n      </g>\r\n     </g>\r\n    </g>\r\n    <g id=\"xtick_3\">\r\n     <g id=\"text_3\">\r\n      <!-- 2017 -->\r\n      <g style=\"fill:#262626;\" transform=\"translate(213.326196 397.027187)scale(0.11 -0.11)\">\r\n       <defs>\r\n        <path d=\"M 4.734375 62.203125 \r\nL 4.734375 70.65625 \r\nL 51.078125 70.65625 \r\nL 51.078125 63.8125 \r\nQ 44.234375 56.546875 37.515625 44.484375 \r\nQ 30.8125 32.421875 27.15625 19.671875 \r\nQ 24.515625 10.6875 23.78125 0 \r\nL 14.75 0 \r\nQ 14.890625 8.453125 18.0625 20.40625 \r\nQ 21.234375 32.375 27.171875 43.484375 \r\nQ 33.109375 54.59375 39.796875 62.203125 \r\nz\r\n\" id=\"ArialMT-55\"/>\r\n       </defs>\r\n       <use xlink:href=\"#ArialMT-50\"/>\r\n       <use x=\"55.615234\" xlink:href=\"#ArialMT-48\"/>\r\n       <use x=\"111.230469\" xlink:href=\"#ArialMT-49\"/>\r\n       <use x=\"166.845703\" xlink:href=\"#ArialMT-55\"/>\r\n      </g>\r\n     </g>\r\n    </g>\r\n    <g id=\"xtick_4\">\r\n     <g id=\"text_4\">\r\n      <!-- 2018 -->\r\n      <g style=\"fill:#262626;\" transform=\"translate(288.377487 397.027187)scale(0.11 -0.11)\">\r\n       <defs>\r\n        <path d=\"M 17.671875 38.8125 \r\nQ 12.203125 40.828125 9.5625 44.53125 \r\nQ 6.9375 48.25 6.9375 53.421875 \r\nQ 6.9375 61.234375 12.546875 66.546875 \r\nQ 18.171875 71.875 27.484375 71.875 \r\nQ 36.859375 71.875 42.578125 66.421875 \r\nQ 48.296875 60.984375 48.296875 53.171875 \r\nQ 48.296875 48.1875 45.671875 44.5 \r\nQ 43.0625 40.828125 37.75 38.8125 \r\nQ 44.34375 36.671875 47.78125 31.875 \r\nQ 51.21875 27.09375 51.21875 20.453125 \r\nQ 51.21875 11.28125 44.71875 5.03125 \r\nQ 38.234375 -1.21875 27.640625 -1.21875 \r\nQ 17.046875 -1.21875 10.546875 5.046875 \r\nQ 4.046875 11.328125 4.046875 20.703125 \r\nQ 4.046875 27.6875 7.59375 32.390625 \r\nQ 11.140625 37.109375 17.671875 38.8125 \r\nz\r\nM 15.921875 53.71875 \r\nQ 15.921875 48.640625 19.1875 45.40625 \r\nQ 22.46875 42.1875 27.6875 42.1875 \r\nQ 32.765625 42.1875 36.015625 45.375 \r\nQ 39.265625 48.578125 39.265625 53.21875 \r\nQ 39.265625 58.0625 35.90625 61.359375 \r\nQ 32.5625 64.65625 27.59375 64.65625 \r\nQ 22.5625 64.65625 19.234375 61.421875 \r\nQ 15.921875 58.203125 15.921875 53.71875 \r\nz\r\nM 13.09375 20.65625 \r\nQ 13.09375 16.890625 14.875 13.375 \r\nQ 16.65625 9.859375 20.171875 7.921875 \r\nQ 23.6875 6 27.734375 6 \r\nQ 34.03125 6 38.125 10.046875 \r\nQ 42.234375 14.109375 42.234375 20.359375 \r\nQ 42.234375 26.703125 38.015625 30.859375 \r\nQ 33.796875 35.015625 27.4375 35.015625 \r\nQ 21.234375 35.015625 17.15625 30.90625 \r\nQ 13.09375 26.8125 13.09375 20.65625 \r\nz\r\n\" id=\"ArialMT-56\"/>\r\n       </defs>\r\n       <use xlink:href=\"#ArialMT-50\"/>\r\n       <use x=\"55.615234\" xlink:href=\"#ArialMT-48\"/>\r\n       <use x=\"111.230469\" xlink:href=\"#ArialMT-49\"/>\r\n       <use x=\"166.845703\" xlink:href=\"#ArialMT-56\"/>\r\n      </g>\r\n     </g>\r\n    </g>\r\n    <g id=\"xtick_5\">\r\n     <g id=\"text_5\">\r\n      <!-- 2019 -->\r\n      <g style=\"fill:#262626;\" transform=\"translate(363.428778 397.027187)scale(0.11 -0.11)\">\r\n       <defs>\r\n        <path d=\"M 5.46875 16.546875 \r\nL 13.921875 17.328125 \r\nQ 14.984375 11.375 18.015625 8.6875 \r\nQ 21.046875 6 25.78125 6 \r\nQ 29.828125 6 32.875 7.859375 \r\nQ 35.9375 9.71875 37.890625 12.8125 \r\nQ 39.84375 15.921875 41.15625 21.1875 \r\nQ 42.484375 26.46875 42.484375 31.9375 \r\nQ 42.484375 32.515625 42.4375 33.6875 \r\nQ 39.796875 29.5 35.234375 26.875 \r\nQ 30.671875 24.265625 25.34375 24.265625 \r\nQ 16.453125 24.265625 10.296875 30.703125 \r\nQ 4.15625 37.15625 4.15625 47.703125 \r\nQ 4.15625 58.59375 10.578125 65.234375 \r\nQ 17 71.875 26.65625 71.875 \r\nQ 33.640625 71.875 39.421875 68.109375 \r\nQ 45.21875 64.359375 48.21875 57.390625 \r\nQ 51.21875 50.4375 51.21875 37.25 \r\nQ 51.21875 23.53125 48.234375 15.40625 \r\nQ 45.265625 7.28125 39.375 3.03125 \r\nQ 33.5 -1.21875 25.59375 -1.21875 \r\nQ 17.1875 -1.21875 11.859375 3.4375 \r\nQ 6.546875 8.109375 5.46875 16.546875 \r\nz\r\nM 41.453125 48.140625 \r\nQ 41.453125 55.71875 37.421875 60.15625 \r\nQ 33.40625 64.59375 27.734375 64.59375 \r\nQ 21.875 64.59375 17.53125 59.8125 \r\nQ 13.1875 55.03125 13.1875 47.40625 \r\nQ 13.1875 40.578125 17.3125 36.296875 \r\nQ 21.4375 32.03125 27.484375 32.03125 \r\nQ 33.59375 32.03125 37.515625 36.296875 \r\nQ 41.453125 40.578125 41.453125 48.140625 \r\nz\r\n\" id=\"ArialMT-57\"/>\r\n       </defs>\r\n       <use xlink:href=\"#ArialMT-50\"/>\r\n       <use x=\"55.615234\" xlink:href=\"#ArialMT-48\"/>\r\n       <use x=\"111.230469\" xlink:href=\"#ArialMT-49\"/>\r\n       <use x=\"166.845703\" xlink:href=\"#ArialMT-57\"/>\r\n      </g>\r\n     </g>\r\n    </g>\r\n    <g id=\"text_6\">\r\n     <!-- ANO -->\r\n     <g style=\"fill:#262626;\" transform=\"translate(212.558071 411.802812)scale(0.12 -0.12)\">\r\n      <defs>\r\n       <path d=\"M -0.140625 0 \r\nL 27.34375 71.578125 \r\nL 37.546875 71.578125 \r\nL 66.84375 0 \r\nL 56.0625 0 \r\nL 47.703125 21.6875 \r\nL 17.78125 21.6875 \r\nL 9.90625 0 \r\nz\r\nM 20.515625 29.390625 \r\nL 44.78125 29.390625 \r\nL 37.3125 49.21875 \r\nQ 33.890625 58.25 32.234375 64.0625 \r\nQ 30.859375 57.171875 28.375 50.390625 \r\nz\r\n\" id=\"ArialMT-65\"/>\r\n       <path d=\"M 7.625 0 \r\nL 7.625 71.578125 \r\nL 17.328125 71.578125 \r\nL 54.9375 15.375 \r\nL 54.9375 71.578125 \r\nL 64.015625 71.578125 \r\nL 64.015625 0 \r\nL 54.296875 0 \r\nL 16.703125 56.25 \r\nL 16.703125 0 \r\nz\r\n\" id=\"ArialMT-78\"/>\r\n       <path d=\"M 4.828125 34.859375 \r\nQ 4.828125 52.6875 14.390625 62.765625 \r\nQ 23.96875 72.859375 39.109375 72.859375 \r\nQ 49.03125 72.859375 56.984375 68.109375 \r\nQ 64.9375 63.375 69.109375 54.90625 \r\nQ 73.296875 46.4375 73.296875 35.6875 \r\nQ 73.296875 24.8125 68.890625 16.21875 \r\nQ 64.5 7.625 56.4375 3.203125 \r\nQ 48.390625 -1.21875 39.0625 -1.21875 \r\nQ 28.953125 -1.21875 20.984375 3.65625 \r\nQ 13.03125 8.546875 8.921875 16.984375 \r\nQ 4.828125 25.4375 4.828125 34.859375 \r\nz\r\nM 14.59375 34.71875 \r\nQ 14.59375 21.78125 21.546875 14.328125 \r\nQ 28.515625 6.890625 39.015625 6.890625 \r\nQ 49.703125 6.890625 56.609375 14.40625 \r\nQ 63.53125 21.921875 63.53125 35.75 \r\nQ 63.53125 44.484375 60.578125 51 \r\nQ 57.625 57.515625 51.921875 61.109375 \r\nQ 46.234375 64.703125 39.15625 64.703125 \r\nQ 29.109375 64.703125 21.84375 57.78125 \r\nQ 14.59375 50.875 14.59375 34.71875 \r\nz\r\n\" id=\"ArialMT-79\"/>\r\n      </defs>\r\n      <use xlink:href=\"#ArialMT-65\"/>\r\n      <use x=\"66.699219\" xlink:href=\"#ArialMT-78\"/>\r\n      <use x=\"138.916016\" xlink:href=\"#ArialMT-79\"/>\r\n     </g>\r\n    </g>\r\n   </g>\r\n   <g id=\"matplotlib.axis_2\">\r\n    <g id=\"ytick_1\">\r\n     <g id=\"line2d_1\">\r\n      <path clip-path=\"url(#p58650e4a4a)\" d=\"M 37.932031 379.653594 \r\nL 413.188486 379.653594 \r\n\" style=\"fill:none;stroke:#cccccc;stroke-linecap:round;\"/>\r\n     </g>\r\n     <g id=\"text_7\">\r\n      <!-- 0 -->\r\n      <g style=\"fill:#262626;\" transform=\"translate(22.315 383.590391)scale(0.11 -0.11)\">\r\n       <use xlink:href=\"#ArialMT-48\"/>\r\n      </g>\r\n     </g>\r\n    </g>\r\n    <g id=\"ytick_2\">\r\n     <g id=\"line2d_2\">\r\n      <path clip-path=\"url(#p58650e4a4a)\" d=\"M 37.932031 310.541241 \r\nL 413.188486 310.541241 \r\n\" style=\"fill:none;stroke:#cccccc;stroke-linecap:round;\"/>\r\n     </g>\r\n     <g id=\"text_8\">\r\n      <!-- 1 -->\r\n      <g style=\"fill:#262626;\" transform=\"translate(22.315 314.478038)scale(0.11 -0.11)\">\r\n       <use xlink:href=\"#ArialMT-49\"/>\r\n      </g>\r\n     </g>\r\n    </g>\r\n    <g id=\"ytick_3\">\r\n     <g id=\"line2d_3\">\r\n      <path clip-path=\"url(#p58650e4a4a)\" d=\"M 37.932031 241.428888 \r\nL 413.188486 241.428888 \r\n\" style=\"fill:none;stroke:#cccccc;stroke-linecap:round;\"/>\r\n     </g>\r\n     <g id=\"text_9\">\r\n      <!-- 2 -->\r\n      <g style=\"fill:#262626;\" transform=\"translate(22.315 245.365685)scale(0.11 -0.11)\">\r\n       <use xlink:href=\"#ArialMT-50\"/>\r\n      </g>\r\n     </g>\r\n    </g>\r\n    <g id=\"ytick_4\">\r\n     <g id=\"line2d_4\">\r\n      <path clip-path=\"url(#p58650e4a4a)\" d=\"M 37.932031 172.316535 \r\nL 413.188486 172.316535 \r\n\" style=\"fill:none;stroke:#cccccc;stroke-linecap:round;\"/>\r\n     </g>\r\n     <g id=\"text_10\">\r\n      <!-- 3 -->\r\n      <g style=\"fill:#262626;\" transform=\"translate(22.315 176.253332)scale(0.11 -0.11)\">\r\n       <defs>\r\n        <path d=\"M 4.203125 18.890625 \r\nL 12.984375 20.0625 \r\nQ 14.5 12.59375 18.140625 9.296875 \r\nQ 21.78125 6 27 6 \r\nQ 33.203125 6 37.46875 10.296875 \r\nQ 41.75 14.59375 41.75 20.953125 \r\nQ 41.75 27 37.796875 30.921875 \r\nQ 33.84375 34.859375 27.734375 34.859375 \r\nQ 25.25 34.859375 21.53125 33.890625 \r\nL 22.515625 41.609375 \r\nQ 23.390625 41.5 23.921875 41.5 \r\nQ 29.546875 41.5 34.03125 44.421875 \r\nQ 38.53125 47.359375 38.53125 53.46875 \r\nQ 38.53125 58.296875 35.25 61.46875 \r\nQ 31.984375 64.65625 26.8125 64.65625 \r\nQ 21.6875 64.65625 18.265625 61.421875 \r\nQ 14.84375 58.203125 13.875 51.765625 \r\nL 5.078125 53.328125 \r\nQ 6.6875 62.15625 12.390625 67.015625 \r\nQ 18.109375 71.875 26.609375 71.875 \r\nQ 32.46875 71.875 37.390625 69.359375 \r\nQ 42.328125 66.84375 44.9375 62.5 \r\nQ 47.5625 58.15625 47.5625 53.265625 \r\nQ 47.5625 48.640625 45.0625 44.828125 \r\nQ 42.578125 41.015625 37.703125 38.765625 \r\nQ 44.046875 37.3125 47.5625 32.6875 \r\nQ 51.078125 28.078125 51.078125 21.140625 \r\nQ 51.078125 11.765625 44.234375 5.25 \r\nQ 37.40625 -1.265625 26.953125 -1.265625 \r\nQ 17.53125 -1.265625 11.296875 4.34375 \r\nQ 5.078125 9.96875 4.203125 18.890625 \r\nz\r\n\" id=\"ArialMT-51\"/>\r\n       </defs>\r\n       <use xlink:href=\"#ArialMT-51\"/>\r\n      </g>\r\n     </g>\r\n    </g>\r\n    <g id=\"ytick_5\">\r\n     <g id=\"line2d_5\">\r\n      <path clip-path=\"url(#p58650e4a4a)\" d=\"M 37.932031 103.204182 \r\nL 413.188486 103.204182 \r\n\" style=\"fill:none;stroke:#cccccc;stroke-linecap:round;\"/>\r\n     </g>\r\n     <g id=\"text_11\">\r\n      <!-- 4 -->\r\n      <g style=\"fill:#262626;\" transform=\"translate(22.315 107.140979)scale(0.11 -0.11)\">\r\n       <defs>\r\n        <path d=\"M 32.328125 0 \r\nL 32.328125 17.140625 \r\nL 1.265625 17.140625 \r\nL 1.265625 25.203125 \r\nL 33.9375 71.578125 \r\nL 41.109375 71.578125 \r\nL 41.109375 25.203125 \r\nL 50.78125 25.203125 \r\nL 50.78125 17.140625 \r\nL 41.109375 17.140625 \r\nL 41.109375 0 \r\nz\r\nM 32.328125 25.203125 \r\nL 32.328125 57.46875 \r\nL 9.90625 25.203125 \r\nz\r\n\" id=\"ArialMT-52\"/>\r\n       </defs>\r\n       <use xlink:href=\"#ArialMT-52\"/>\r\n      </g>\r\n     </g>\r\n    </g>\r\n    <g id=\"ytick_6\">\r\n     <g id=\"line2d_6\">\r\n      <path clip-path=\"url(#p58650e4a4a)\" d=\"M 37.932031 34.091829 \r\nL 413.188486 34.091829 \r\n\" style=\"fill:none;stroke:#cccccc;stroke-linecap:round;\"/>\r\n     </g>\r\n     <g id=\"text_12\">\r\n      <!-- 5 -->\r\n      <g style=\"fill:#262626;\" transform=\"translate(22.315 38.028626)scale(0.11 -0.11)\">\r\n       <use xlink:href=\"#ArialMT-53\"/>\r\n      </g>\r\n     </g>\r\n    </g>\r\n    <g id=\"text_13\">\r\n     <!-- survival probability -->\r\n     <g style=\"fill:#262626;\" transform=\"translate(15.789375 248.214531)rotate(-90)scale(0.12 -0.12)\">\r\n      <defs>\r\n       <path d=\"M 3.078125 15.484375 \r\nL 11.765625 16.84375 \r\nQ 12.5 11.625 15.84375 8.84375 \r\nQ 19.1875 6.0625 25.203125 6.0625 \r\nQ 31.25 6.0625 34.171875 8.515625 \r\nQ 37.109375 10.984375 37.109375 14.3125 \r\nQ 37.109375 17.28125 34.515625 19 \r\nQ 32.71875 20.171875 25.53125 21.96875 \r\nQ 15.875 24.421875 12.140625 26.203125 \r\nQ 8.40625 27.984375 6.46875 31.125 \r\nQ 4.546875 34.28125 4.546875 38.09375 \r\nQ 4.546875 41.546875 6.125 44.5 \r\nQ 7.71875 47.46875 10.453125 49.421875 \r\nQ 12.5 50.921875 16.03125 51.96875 \r\nQ 19.578125 53.03125 23.640625 53.03125 \r\nQ 29.734375 53.03125 34.34375 51.265625 \r\nQ 38.96875 49.515625 41.15625 46.5 \r\nQ 43.359375 43.5 44.1875 38.484375 \r\nL 35.59375 37.3125 \r\nQ 35.015625 41.3125 32.203125 43.546875 \r\nQ 29.390625 45.796875 24.265625 45.796875 \r\nQ 18.21875 45.796875 15.625 43.796875 \r\nQ 13.03125 41.796875 13.03125 39.109375 \r\nQ 13.03125 37.40625 14.109375 36.03125 \r\nQ 15.1875 34.625 17.484375 33.6875 \r\nQ 18.796875 33.203125 25.25 31.453125 \r\nQ 34.578125 28.953125 38.25 27.359375 \r\nQ 41.9375 25.78125 44.03125 22.75 \r\nQ 46.140625 19.734375 46.140625 15.234375 \r\nQ 46.140625 10.84375 43.578125 6.953125 \r\nQ 41.015625 3.078125 36.171875 0.953125 \r\nQ 31.34375 -1.171875 25.25 -1.171875 \r\nQ 15.140625 -1.171875 9.84375 3.03125 \r\nQ 4.546875 7.234375 3.078125 15.484375 \r\nz\r\n\" id=\"ArialMT-115\"/>\r\n       <path d=\"M 40.578125 0 \r\nL 40.578125 7.625 \r\nQ 34.515625 -1.171875 24.125 -1.171875 \r\nQ 19.53125 -1.171875 15.546875 0.578125 \r\nQ 11.578125 2.34375 9.640625 5 \r\nQ 7.71875 7.671875 6.9375 11.53125 \r\nQ 6.390625 14.109375 6.390625 19.734375 \r\nL 6.390625 51.859375 \r\nL 15.1875 51.859375 \r\nL 15.1875 23.09375 \r\nQ 15.1875 16.21875 15.71875 13.8125 \r\nQ 16.546875 10.359375 19.234375 8.375 \r\nQ 21.921875 6.390625 25.875 6.390625 \r\nQ 29.828125 6.390625 33.296875 8.421875 \r\nQ 36.765625 10.453125 38.203125 13.9375 \r\nQ 39.65625 17.4375 39.65625 24.078125 \r\nL 39.65625 51.859375 \r\nL 48.4375 51.859375 \r\nL 48.4375 0 \r\nz\r\n\" id=\"ArialMT-117\"/>\r\n       <path d=\"M 6.5 0 \r\nL 6.5 51.859375 \r\nL 14.40625 51.859375 \r\nL 14.40625 44 \r\nQ 17.4375 49.515625 20 51.265625 \r\nQ 22.5625 53.03125 25.640625 53.03125 \r\nQ 30.078125 53.03125 34.671875 50.203125 \r\nL 31.640625 42.046875 \r\nQ 28.421875 43.953125 25.203125 43.953125 \r\nQ 22.3125 43.953125 20.015625 42.21875 \r\nQ 17.71875 40.484375 16.75 37.40625 \r\nQ 15.28125 32.71875 15.28125 27.15625 \r\nL 15.28125 0 \r\nz\r\n\" id=\"ArialMT-114\"/>\r\n       <path d=\"M 21 0 \r\nL 1.265625 51.859375 \r\nL 10.546875 51.859375 \r\nL 21.6875 20.796875 \r\nQ 23.484375 15.765625 25 10.359375 \r\nQ 26.171875 14.453125 28.265625 20.21875 \r\nL 39.796875 51.859375 \r\nL 48.828125 51.859375 \r\nL 29.203125 0 \r\nz\r\n\" id=\"ArialMT-118\"/>\r\n       <path d=\"M 6.640625 61.46875 \r\nL 6.640625 71.578125 \r\nL 15.4375 71.578125 \r\nL 15.4375 61.46875 \r\nz\r\nM 6.640625 0 \r\nL 6.640625 51.859375 \r\nL 15.4375 51.859375 \r\nL 15.4375 0 \r\nz\r\n\" id=\"ArialMT-105\"/>\r\n       <path d=\"M 40.4375 6.390625 \r\nQ 35.546875 2.25 31.03125 0.53125 \r\nQ 26.515625 -1.171875 21.34375 -1.171875 \r\nQ 12.796875 -1.171875 8.203125 3 \r\nQ 3.609375 7.171875 3.609375 13.671875 \r\nQ 3.609375 17.484375 5.34375 20.625 \r\nQ 7.078125 23.78125 9.890625 25.6875 \r\nQ 12.703125 27.59375 16.21875 28.5625 \r\nQ 18.796875 29.25 24.03125 29.890625 \r\nQ 34.671875 31.15625 39.703125 32.90625 \r\nQ 39.75 34.71875 39.75 35.203125 \r\nQ 39.75 40.578125 37.25 42.78125 \r\nQ 33.890625 45.75 27.25 45.75 \r\nQ 21.046875 45.75 18.09375 43.578125 \r\nQ 15.140625 41.40625 13.71875 35.890625 \r\nL 5.125 37.0625 \r\nQ 6.296875 42.578125 8.984375 45.96875 \r\nQ 11.671875 49.359375 16.75 51.1875 \r\nQ 21.828125 53.03125 28.515625 53.03125 \r\nQ 35.15625 53.03125 39.296875 51.46875 \r\nQ 43.453125 49.90625 45.40625 47.53125 \r\nQ 47.359375 45.171875 48.140625 41.546875 \r\nQ 48.578125 39.3125 48.578125 33.453125 \r\nL 48.578125 21.734375 \r\nQ 48.578125 9.46875 49.140625 6.21875 \r\nQ 49.703125 2.984375 51.375 0 \r\nL 42.1875 0 \r\nQ 40.828125 2.734375 40.4375 6.390625 \r\nz\r\nM 39.703125 26.03125 \r\nQ 34.90625 24.078125 25.34375 22.703125 \r\nQ 19.921875 21.921875 17.671875 20.9375 \r\nQ 15.4375 19.96875 14.203125 18.09375 \r\nQ 12.984375 16.21875 12.984375 13.921875 \r\nQ 12.984375 10.40625 15.640625 8.0625 \r\nQ 18.3125 5.71875 23.4375 5.71875 \r\nQ 28.515625 5.71875 32.46875 7.9375 \r\nQ 36.421875 10.15625 38.28125 14.015625 \r\nQ 39.703125 17 39.703125 22.796875 \r\nz\r\n\" id=\"ArialMT-97\"/>\r\n       <path d=\"M 6.390625 0 \r\nL 6.390625 71.578125 \r\nL 15.1875 71.578125 \r\nL 15.1875 0 \r\nz\r\n\" id=\"ArialMT-108\"/>\r\n       <path id=\"ArialMT-32\"/>\r\n       <path d=\"M 6.59375 -19.875 \r\nL 6.59375 51.859375 \r\nL 14.59375 51.859375 \r\nL 14.59375 45.125 \r\nQ 17.4375 49.078125 21 51.046875 \r\nQ 24.5625 53.03125 29.640625 53.03125 \r\nQ 36.28125 53.03125 41.359375 49.609375 \r\nQ 46.4375 46.1875 49.015625 39.953125 \r\nQ 51.609375 33.734375 51.609375 26.3125 \r\nQ 51.609375 18.359375 48.75 11.984375 \r\nQ 45.90625 5.609375 40.453125 2.21875 \r\nQ 35.015625 -1.171875 29 -1.171875 \r\nQ 24.609375 -1.171875 21.109375 0.6875 \r\nQ 17.625 2.546875 15.375 5.375 \r\nL 15.375 -19.875 \r\nz\r\nM 14.546875 25.640625 \r\nQ 14.546875 15.625 18.59375 10.84375 \r\nQ 22.65625 6.0625 28.421875 6.0625 \r\nQ 34.28125 6.0625 38.453125 11.015625 \r\nQ 42.625 15.96875 42.625 26.375 \r\nQ 42.625 36.28125 38.546875 41.203125 \r\nQ 34.46875 46.140625 28.8125 46.140625 \r\nQ 23.1875 46.140625 18.859375 40.890625 \r\nQ 14.546875 35.640625 14.546875 25.640625 \r\nz\r\n\" id=\"ArialMT-112\"/>\r\n       <path d=\"M 3.328125 25.921875 \r\nQ 3.328125 40.328125 11.328125 47.265625 \r\nQ 18.015625 53.03125 27.640625 53.03125 \r\nQ 38.328125 53.03125 45.109375 46.015625 \r\nQ 51.90625 39.015625 51.90625 26.65625 \r\nQ 51.90625 16.65625 48.90625 10.90625 \r\nQ 45.90625 5.171875 40.15625 2 \r\nQ 34.421875 -1.171875 27.640625 -1.171875 \r\nQ 16.75 -1.171875 10.03125 5.8125 \r\nQ 3.328125 12.796875 3.328125 25.921875 \r\nz\r\nM 12.359375 25.921875 \r\nQ 12.359375 15.96875 16.703125 11.015625 \r\nQ 21.046875 6.0625 27.640625 6.0625 \r\nQ 34.1875 6.0625 38.53125 11.03125 \r\nQ 42.875 16.015625 42.875 26.21875 \r\nQ 42.875 35.84375 38.5 40.796875 \r\nQ 34.125 45.75 27.640625 45.75 \r\nQ 21.046875 45.75 16.703125 40.8125 \r\nQ 12.359375 35.890625 12.359375 25.921875 \r\nz\r\n\" id=\"ArialMT-111\"/>\r\n       <path d=\"M 14.703125 0 \r\nL 6.546875 0 \r\nL 6.546875 71.578125 \r\nL 15.328125 71.578125 \r\nL 15.328125 46.046875 \r\nQ 20.90625 53.03125 29.546875 53.03125 \r\nQ 34.328125 53.03125 38.59375 51.09375 \r\nQ 42.875 49.171875 45.625 45.671875 \r\nQ 48.390625 42.1875 49.953125 37.25 \r\nQ 51.515625 32.328125 51.515625 26.703125 \r\nQ 51.515625 13.375 44.921875 6.09375 \r\nQ 38.328125 -1.171875 29.109375 -1.171875 \r\nQ 19.921875 -1.171875 14.703125 6.5 \r\nz\r\nM 14.59375 26.3125 \r\nQ 14.59375 17 17.140625 12.84375 \r\nQ 21.296875 6.0625 28.375 6.0625 \r\nQ 34.125 6.0625 38.328125 11.0625 \r\nQ 42.53125 16.0625 42.53125 25.984375 \r\nQ 42.53125 36.140625 38.5 40.96875 \r\nQ 34.46875 45.796875 28.765625 45.796875 \r\nQ 23 45.796875 18.796875 40.796875 \r\nQ 14.59375 35.796875 14.59375 26.3125 \r\nz\r\n\" id=\"ArialMT-98\"/>\r\n       <path d=\"M 25.78125 7.859375 \r\nL 27.046875 0.09375 \r\nQ 23.34375 -0.6875 20.40625 -0.6875 \r\nQ 15.625 -0.6875 12.984375 0.828125 \r\nQ 10.359375 2.34375 9.28125 4.8125 \r\nQ 8.203125 7.28125 8.203125 15.1875 \r\nL 8.203125 45.015625 \r\nL 1.765625 45.015625 \r\nL 1.765625 51.859375 \r\nL 8.203125 51.859375 \r\nL 8.203125 64.703125 \r\nL 16.9375 69.96875 \r\nL 16.9375 51.859375 \r\nL 25.78125 51.859375 \r\nL 25.78125 45.015625 \r\nL 16.9375 45.015625 \r\nL 16.9375 14.703125 \r\nQ 16.9375 10.9375 17.40625 9.859375 \r\nQ 17.875 8.796875 18.921875 8.15625 \r\nQ 19.96875 7.515625 21.921875 7.515625 \r\nQ 23.390625 7.515625 25.78125 7.859375 \r\nz\r\n\" id=\"ArialMT-116\"/>\r\n       <path d=\"M 6.203125 -19.96875 \r\nL 5.21875 -11.71875 \r\nQ 8.109375 -12.5 10.25 -12.5 \r\nQ 13.1875 -12.5 14.9375 -11.515625 \r\nQ 16.703125 -10.546875 17.828125 -8.796875 \r\nQ 18.65625 -7.46875 20.515625 -2.25 \r\nQ 20.75 -1.515625 21.296875 -0.09375 \r\nL 1.609375 51.859375 \r\nL 11.078125 51.859375 \r\nL 21.875 21.828125 \r\nQ 23.96875 16.109375 25.640625 9.8125 \r\nQ 27.15625 15.875 29.25 21.625 \r\nL 40.328125 51.859375 \r\nL 49.125 51.859375 \r\nL 29.390625 -0.875 \r\nQ 26.21875 -9.421875 24.46875 -12.640625 \r\nQ 22.125 -17 19.09375 -19.015625 \r\nQ 16.0625 -21.046875 11.859375 -21.046875 \r\nQ 9.328125 -21.046875 6.203125 -19.96875 \r\nz\r\n\" id=\"ArialMT-121\"/>\r\n      </defs>\r\n      <use xlink:href=\"#ArialMT-115\"/>\r\n      <use x=\"50\" xlink:href=\"#ArialMT-117\"/>\r\n      <use x=\"105.615234\" xlink:href=\"#ArialMT-114\"/>\r\n      <use x=\"138.916016\" xlink:href=\"#ArialMT-118\"/>\r\n      <use x=\"188.916016\" xlink:href=\"#ArialMT-105\"/>\r\n      <use x=\"211.132812\" xlink:href=\"#ArialMT-118\"/>\r\n      <use x=\"261.132812\" xlink:href=\"#ArialMT-97\"/>\r\n      <use x=\"316.748047\" xlink:href=\"#ArialMT-108\"/>\r\n      <use x=\"338.964844\" xlink:href=\"#ArialMT-32\"/>\r\n      <use x=\"366.748047\" xlink:href=\"#ArialMT-112\"/>\r\n      <use x=\"422.363281\" xlink:href=\"#ArialMT-114\"/>\r\n      <use x=\"455.664062\" xlink:href=\"#ArialMT-111\"/>\r\n      <use x=\"511.279297\" xlink:href=\"#ArialMT-98\"/>\r\n      <use x=\"566.894531\" xlink:href=\"#ArialMT-97\"/>\r\n      <use x=\"622.509766\" xlink:href=\"#ArialMT-98\"/>\r\n      <use x=\"678.125\" xlink:href=\"#ArialMT-105\"/>\r\n      <use x=\"700.341797\" xlink:href=\"#ArialMT-108\"/>\r\n      <use x=\"722.558594\" xlink:href=\"#ArialMT-105\"/>\r\n      <use x=\"744.775391\" xlink:href=\"#ArialMT-116\"/>\r\n      <use x=\"772.558594\" xlink:href=\"#ArialMT-121\"/>\r\n     </g>\r\n    </g>\r\n    <g id=\"text_14\">\r\n     <!-- 1e6 -->\r\n     <g style=\"fill:#262626;\" transform=\"translate(37.932031 15.073594)scale(0.11 -0.11)\">\r\n      <defs>\r\n       <path d=\"M 42.09375 16.703125 \r\nL 51.171875 15.578125 \r\nQ 49.03125 7.625 43.21875 3.21875 \r\nQ 37.40625 -1.171875 28.375 -1.171875 \r\nQ 17 -1.171875 10.328125 5.828125 \r\nQ 3.65625 12.84375 3.65625 25.484375 \r\nQ 3.65625 38.578125 10.390625 45.796875 \r\nQ 17.140625 53.03125 27.875 53.03125 \r\nQ 38.28125 53.03125 44.875 45.953125 \r\nQ 51.46875 38.875 51.46875 26.03125 \r\nQ 51.46875 25.25 51.421875 23.6875 \r\nL 12.75 23.6875 \r\nQ 13.234375 15.140625 17.578125 10.59375 \r\nQ 21.921875 6.0625 28.421875 6.0625 \r\nQ 33.25 6.0625 36.671875 8.59375 \r\nQ 40.09375 11.140625 42.09375 16.703125 \r\nz\r\nM 13.234375 30.90625 \r\nL 42.1875 30.90625 \r\nQ 41.609375 37.453125 38.875 40.71875 \r\nQ 34.671875 45.796875 27.984375 45.796875 \r\nQ 21.921875 45.796875 17.796875 41.75 \r\nQ 13.671875 37.703125 13.234375 30.90625 \r\nz\r\n\" id=\"ArialMT-101\"/>\r\n      </defs>\r\n      <use xlink:href=\"#ArialMT-49\"/>\r\n      <use x=\"55.615234\" xlink:href=\"#ArialMT-101\"/>\r\n      <use x=\"111.230469\" xlink:href=\"#ArialMT-54\"/>\r\n     </g>\r\n    </g>\r\n   </g>\r\n   <g id=\"patch_3\">\r\n    <path clip-path=\"url(#p58650e4a4a)\" d=\"M 45.43716 379.653594 \r\nL 75.457677 379.653594 \r\nL 75.457677 71.381538 \r\nL 45.43716 71.381538 \r\nz\r\n\" style=\"fill:#597dbf;stroke:#ffffff;stroke-linejoin:miter;\"/>\r\n   </g>\r\n   <g id=\"patch_4\">\r\n    <path clip-path=\"url(#p58650e4a4a)\" d=\"M 120.488451 379.653594 \r\nL 150.508968 379.653594 \r\nL 150.508968 35.291689 \r\nL 120.488451 35.291689 \r\nz\r\n\" style=\"fill:#597dbf;stroke:#ffffff;stroke-linejoin:miter;\"/>\r\n   </g>\r\n   <g id=\"patch_5\">\r\n    <path clip-path=\"url(#p58650e4a4a)\" d=\"M 195.539742 379.653594 \r\nL 225.560258 379.653594 \r\nL 225.560258 106.884 \r\nL 195.539742 106.884 \r\nz\r\n\" style=\"fill:#597dbf;stroke:#ffffff;stroke-linejoin:miter;\"/>\r\n   </g>\r\n   <g id=\"patch_6\">\r\n    <path clip-path=\"url(#p58650e4a4a)\" d=\"M 270.591033 379.653594 \r\nL 300.611549 379.653594 \r\nL 300.611549 154.506074 \r\nL 270.591033 154.506074 \r\nz\r\n\" style=\"fill:#597dbf;stroke:#ffffff;stroke-linejoin:miter;\"/>\r\n   </g>\r\n   <g id=\"patch_7\">\r\n    <path clip-path=\"url(#p58650e4a4a)\" d=\"M 345.642324 379.653594 \r\nL 375.66284 379.653594 \r\nL 375.66284 170.117242 \r\nL 345.642324 170.117242 \r\nz\r\n\" style=\"fill:#597dbf;stroke:#ffffff;stroke-linejoin:miter;\"/>\r\n   </g>\r\n   <g id=\"patch_8\">\r\n    <path clip-path=\"url(#p58650e4a4a)\" d=\"M 75.457677 379.653594 \r\nL 105.478193 379.653594 \r\nL 105.478193 152.551854 \r\nL 75.457677 152.551854 \r\nz\r\n\" style=\"fill:#d98b5f;stroke:#ffffff;stroke-linejoin:miter;\"/>\r\n   </g>\r\n   <g id=\"patch_9\">\r\n    <path clip-path=\"url(#p58650e4a4a)\" d=\"M 150.508968 379.653594 \r\nL 180.529484 379.653594 \r\nL 180.529484 127.757866 \r\nL 150.508968 127.757866 \r\nz\r\n\" style=\"fill:#d98b5f;stroke:#ffffff;stroke-linejoin:miter;\"/>\r\n   </g>\r\n   <g id=\"patch_10\">\r\n    <path clip-path=\"url(#p58650e4a4a)\" d=\"M 225.560258 379.653594 \r\nL 255.580775 379.653594 \r\nL 255.580775 187.204373 \r\nL 225.560258 187.204373 \r\nz\r\n\" style=\"fill:#d98b5f;stroke:#ffffff;stroke-linejoin:miter;\"/>\r\n   </g>\r\n   <g id=\"patch_11\">\r\n    <path clip-path=\"url(#p58650e4a4a)\" d=\"M 300.611549 379.653594 \r\nL 330.632066 379.653594 \r\nL 330.632066 223.733085 \r\nL 300.611549 223.733085 \r\nz\r\n\" style=\"fill:#d98b5f;stroke:#ffffff;stroke-linejoin:miter;\"/>\r\n   </g>\r\n   <g id=\"patch_12\">\r\n    <path clip-path=\"url(#p58650e4a4a)\" d=\"M 375.66284 379.653594 \r\nL 405.683356 379.653594 \r\nL 405.683356 237.043847 \r\nL 375.66284 237.043847 \r\nz\r\n\" style=\"fill:#d98b5f;stroke:#ffffff;stroke-linejoin:miter;\"/>\r\n   </g>\r\n   <g id=\"line2d_7\">\r\n    <path clip-path=\"url(#p58650e4a4a)\" d=\"M 0 0 \r\n\" style=\"fill:none;stroke:#424242;stroke-linecap:round;stroke-width:2.7;\"/>\r\n   </g>\r\n   <g id=\"line2d_8\">\r\n    <path clip-path=\"url(#p58650e4a4a)\" d=\"M 0 0 \r\n\" style=\"fill:none;stroke:#424242;stroke-linecap:round;stroke-width:2.7;\"/>\r\n   </g>\r\n   <g id=\"line2d_9\">\r\n    <path clip-path=\"url(#p58650e4a4a)\" d=\"M 0 0 \r\n\" style=\"fill:none;stroke:#424242;stroke-linecap:round;stroke-width:2.7;\"/>\r\n   </g>\r\n   <g id=\"line2d_10\">\r\n    <path clip-path=\"url(#p58650e4a4a)\" d=\"M 0 0 \r\n\" style=\"fill:none;stroke:#424242;stroke-linecap:round;stroke-width:2.7;\"/>\r\n   </g>\r\n   <g id=\"line2d_11\">\r\n    <path clip-path=\"url(#p58650e4a4a)\" d=\"M 0 0 \r\n\" style=\"fill:none;stroke:#424242;stroke-linecap:round;stroke-width:2.7;\"/>\r\n   </g>\r\n   <g id=\"line2d_12\">\r\n    <path clip-path=\"url(#p58650e4a4a)\" d=\"M 0 0 \r\n\" style=\"fill:none;stroke:#424242;stroke-linecap:round;stroke-width:2.7;\"/>\r\n   </g>\r\n   <g id=\"line2d_13\">\r\n    <path clip-path=\"url(#p58650e4a4a)\" d=\"M 0 0 \r\n\" style=\"fill:none;stroke:#424242;stroke-linecap:round;stroke-width:2.7;\"/>\r\n   </g>\r\n   <g id=\"line2d_14\">\r\n    <path clip-path=\"url(#p58650e4a4a)\" d=\"M 0 0 \r\n\" style=\"fill:none;stroke:#424242;stroke-linecap:round;stroke-width:2.7;\"/>\r\n   </g>\r\n   <g id=\"line2d_15\">\r\n    <path clip-path=\"url(#p58650e4a4a)\" d=\"M 0 0 \r\n\" style=\"fill:none;stroke:#424242;stroke-linecap:round;stroke-width:2.7;\"/>\r\n   </g>\r\n   <g id=\"line2d_16\">\r\n    <path clip-path=\"url(#p58650e4a4a)\" d=\"M 0 0 \r\n\" style=\"fill:none;stroke:#424242;stroke-linecap:round;stroke-width:2.7;\"/>\r\n   </g>\r\n   <g id=\"patch_13\">\r\n    <path d=\"M 37.932031 379.653594 \r\nL 413.188486 379.653594 \r\n\" style=\"fill:none;stroke:#cccccc;stroke-linecap:square;stroke-linejoin:miter;stroke-width:1.25;\"/>\r\n   </g>\r\n  </g>\r\n  <g id=\"legend_1\">\r\n   <g id=\"text_15\">\r\n    <!-- SEXO -->\r\n    <g style=\"fill:#262626;\" transform=\"translate(442.592845 198.23625)scale(0.12 -0.12)\">\r\n     <defs>\r\n      <path d=\"M 4.5 23 \r\nL 13.421875 23.78125 \r\nQ 14.0625 18.40625 16.375 14.96875 \r\nQ 18.703125 11.53125 23.578125 9.40625 \r\nQ 28.46875 7.28125 34.578125 7.28125 \r\nQ 39.984375 7.28125 44.140625 8.890625 \r\nQ 48.296875 10.5 50.3125 13.296875 \r\nQ 52.34375 16.109375 52.34375 19.4375 \r\nQ 52.34375 22.796875 50.390625 25.3125 \r\nQ 48.4375 27.828125 43.953125 29.546875 \r\nQ 41.0625 30.671875 31.203125 33.03125 \r\nQ 21.34375 35.40625 17.390625 37.5 \r\nQ 12.25 40.1875 9.734375 44.15625 \r\nQ 7.234375 48.140625 7.234375 53.078125 \r\nQ 7.234375 58.5 10.296875 63.203125 \r\nQ 13.375 67.921875 19.28125 70.359375 \r\nQ 25.203125 72.796875 32.421875 72.796875 \r\nQ 40.375 72.796875 46.453125 70.234375 \r\nQ 52.546875 67.671875 55.8125 62.6875 \r\nQ 59.078125 57.71875 59.328125 51.421875 \r\nL 50.25 50.734375 \r\nQ 49.515625 57.515625 45.28125 60.984375 \r\nQ 41.0625 64.453125 32.8125 64.453125 \r\nQ 24.21875 64.453125 20.28125 61.296875 \r\nQ 16.359375 58.15625 16.359375 53.71875 \r\nQ 16.359375 49.859375 19.140625 47.359375 \r\nQ 21.875 44.875 33.421875 42.265625 \r\nQ 44.96875 39.65625 49.265625 37.703125 \r\nQ 55.515625 34.8125 58.484375 30.390625 \r\nQ 61.46875 25.984375 61.46875 20.21875 \r\nQ 61.46875 14.5 58.203125 9.4375 \r\nQ 54.9375 4.390625 48.796875 1.578125 \r\nQ 42.671875 -1.21875 35.015625 -1.21875 \r\nQ 25.296875 -1.21875 18.71875 1.609375 \r\nQ 12.15625 4.4375 8.421875 10.125 \r\nQ 4.6875 15.828125 4.5 23 \r\nz\r\n\" id=\"ArialMT-83\"/>\r\n      <path d=\"M 7.90625 0 \r\nL 7.90625 71.578125 \r\nL 59.671875 71.578125 \r\nL 59.671875 63.140625 \r\nL 17.390625 63.140625 \r\nL 17.390625 41.21875 \r\nL 56.984375 41.21875 \r\nL 56.984375 32.8125 \r\nL 17.390625 32.8125 \r\nL 17.390625 8.453125 \r\nL 61.328125 8.453125 \r\nL 61.328125 0 \r\nz\r\n\" id=\"ArialMT-69\"/>\r\n      <path d=\"M 0.4375 0 \r\nL 28.125 37.3125 \r\nL 3.71875 71.578125 \r\nL 14.984375 71.578125 \r\nL 27.984375 53.21875 \r\nQ 32.03125 47.515625 33.734375 44.4375 \r\nQ 36.140625 48.34375 39.40625 52.59375 \r\nL 53.8125 71.578125 \r\nL 64.109375 71.578125 \r\nL 38.96875 37.84375 \r\nL 66.0625 0 \r\nL 54.34375 0 \r\nL 36.328125 25.53125 \r\nQ 34.8125 27.734375 33.203125 30.328125 \r\nQ 30.8125 26.421875 29.78125 24.953125 \r\nL 11.8125 0 \r\nz\r\n\" id=\"ArialMT-88\"/>\r\n     </defs>\r\n     <use xlink:href=\"#ArialMT-83\"/>\r\n     <use x=\"66.699219\" xlink:href=\"#ArialMT-69\"/>\r\n     <use x=\"133.398438\" xlink:href=\"#ArialMT-88\"/>\r\n     <use x=\"200.097656\" xlink:href=\"#ArialMT-79\"/>\r\n    </g>\r\n   </g>\r\n   <g id=\"patch_14\">\r\n    <path d=\"M 419.106829 213.994844 \r\nL 441.106829 213.994844 \r\nL 441.106829 206.294844 \r\nL 419.106829 206.294844 \r\nz\r\n\" style=\"fill:#597dbf;stroke:#ffffff;stroke-linejoin:miter;\"/>\r\n   </g>\r\n   <g id=\"text_16\">\r\n    <!-- Feminino -->\r\n    <g style=\"fill:#262626;\" transform=\"translate(449.906829 213.994844)scale(0.11 -0.11)\">\r\n     <defs>\r\n      <path d=\"M 8.203125 0 \r\nL 8.203125 71.578125 \r\nL 56.5 71.578125 \r\nL 56.5 63.140625 \r\nL 17.671875 63.140625 \r\nL 17.671875 40.96875 \r\nL 51.265625 40.96875 \r\nL 51.265625 32.515625 \r\nL 17.671875 32.515625 \r\nL 17.671875 0 \r\nz\r\n\" id=\"ArialMT-70\"/>\r\n      <path d=\"M 6.59375 0 \r\nL 6.59375 51.859375 \r\nL 14.453125 51.859375 \r\nL 14.453125 44.578125 \r\nQ 16.890625 48.390625 20.9375 50.703125 \r\nQ 25 53.03125 30.171875 53.03125 \r\nQ 35.9375 53.03125 39.625 50.640625 \r\nQ 43.3125 48.25 44.828125 43.953125 \r\nQ 50.984375 53.03125 60.84375 53.03125 \r\nQ 68.5625 53.03125 72.703125 48.75 \r\nQ 76.859375 44.484375 76.859375 35.59375 \r\nL 76.859375 0 \r\nL 68.109375 0 \r\nL 68.109375 32.671875 \r\nQ 68.109375 37.9375 67.25 40.25 \r\nQ 66.40625 42.578125 64.15625 43.984375 \r\nQ 61.921875 45.40625 58.890625 45.40625 \r\nQ 53.421875 45.40625 49.796875 41.765625 \r\nQ 46.1875 38.140625 46.1875 30.125 \r\nL 46.1875 0 \r\nL 37.40625 0 \r\nL 37.40625 33.6875 \r\nQ 37.40625 39.546875 35.25 42.46875 \r\nQ 33.109375 45.40625 28.21875 45.40625 \r\nQ 24.515625 45.40625 21.359375 43.453125 \r\nQ 18.21875 41.5 16.796875 37.734375 \r\nQ 15.375 33.984375 15.375 26.90625 \r\nL 15.375 0 \r\nz\r\n\" id=\"ArialMT-109\"/>\r\n      <path d=\"M 6.59375 0 \r\nL 6.59375 51.859375 \r\nL 14.5 51.859375 \r\nL 14.5 44.484375 \r\nQ 20.21875 53.03125 31 53.03125 \r\nQ 35.6875 53.03125 39.625 51.34375 \r\nQ 43.5625 49.65625 45.515625 46.921875 \r\nQ 47.46875 44.1875 48.25 40.4375 \r\nQ 48.734375 37.984375 48.734375 31.890625 \r\nL 48.734375 0 \r\nL 39.9375 0 \r\nL 39.9375 31.546875 \r\nQ 39.9375 36.921875 38.90625 39.578125 \r\nQ 37.890625 42.234375 35.28125 43.8125 \r\nQ 32.671875 45.40625 29.15625 45.40625 \r\nQ 23.53125 45.40625 19.453125 41.84375 \r\nQ 15.375 38.28125 15.375 28.328125 \r\nL 15.375 0 \r\nz\r\n\" id=\"ArialMT-110\"/>\r\n     </defs>\r\n     <use xlink:href=\"#ArialMT-70\"/>\r\n     <use x=\"61.083984\" xlink:href=\"#ArialMT-101\"/>\r\n     <use x=\"116.699219\" xlink:href=\"#ArialMT-109\"/>\r\n     <use x=\"200\" xlink:href=\"#ArialMT-105\"/>\r\n     <use x=\"222.216797\" xlink:href=\"#ArialMT-110\"/>\r\n     <use x=\"277.832031\" xlink:href=\"#ArialMT-105\"/>\r\n     <use x=\"300.048828\" xlink:href=\"#ArialMT-110\"/>\r\n     <use x=\"355.664062\" xlink:href=\"#ArialMT-111\"/>\r\n    </g>\r\n   </g>\r\n   <g id=\"patch_15\">\r\n    <path d=\"M 419.106829 229.554687 \r\nL 441.106829 229.554687 \r\nL 441.106829 221.854687 \r\nL 419.106829 221.854687 \r\nz\r\n\" style=\"fill:#d98b5f;stroke:#ffffff;stroke-linejoin:miter;\"/>\r\n   </g>\r\n   <g id=\"text_17\">\r\n    <!-- Masculino -->\r\n    <g style=\"fill:#262626;\" transform=\"translate(449.906829 229.554687)scale(0.11 -0.11)\">\r\n     <defs>\r\n      <path d=\"M 7.421875 0 \r\nL 7.421875 71.578125 \r\nL 21.6875 71.578125 \r\nL 38.625 20.90625 \r\nQ 40.96875 13.8125 42.046875 10.296875 \r\nQ 43.265625 14.203125 45.84375 21.78125 \r\nL 62.984375 71.578125 \r\nL 75.734375 71.578125 \r\nL 75.734375 0 \r\nL 66.609375 0 \r\nL 66.609375 59.90625 \r\nL 45.796875 0 \r\nL 37.25 0 \r\nL 16.546875 60.9375 \r\nL 16.546875 0 \r\nz\r\n\" id=\"ArialMT-77\"/>\r\n      <path d=\"M 40.4375 19 \r\nL 49.078125 17.875 \r\nQ 47.65625 8.9375 41.8125 3.875 \r\nQ 35.984375 -1.171875 27.484375 -1.171875 \r\nQ 16.84375 -1.171875 10.375 5.78125 \r\nQ 3.90625 12.75 3.90625 25.734375 \r\nQ 3.90625 34.125 6.6875 40.421875 \r\nQ 9.46875 46.734375 15.15625 49.875 \r\nQ 20.84375 53.03125 27.546875 53.03125 \r\nQ 35.984375 53.03125 41.359375 48.75 \r\nQ 46.734375 44.484375 48.25 36.625 \r\nL 39.703125 35.296875 \r\nQ 38.484375 40.53125 35.375 43.15625 \r\nQ 32.28125 45.796875 27.875 45.796875 \r\nQ 21.234375 45.796875 17.078125 41.03125 \r\nQ 12.9375 36.28125 12.9375 25.984375 \r\nQ 12.9375 15.53125 16.9375 10.796875 \r\nQ 20.953125 6.0625 27.390625 6.0625 \r\nQ 32.5625 6.0625 36.03125 9.234375 \r\nQ 39.5 12.40625 40.4375 19 \r\nz\r\n\" id=\"ArialMT-99\"/>\r\n     </defs>\r\n     <use xlink:href=\"#ArialMT-77\"/>\r\n     <use x=\"83.300781\" xlink:href=\"#ArialMT-97\"/>\r\n     <use x=\"138.916016\" xlink:href=\"#ArialMT-115\"/>\r\n     <use x=\"188.916016\" xlink:href=\"#ArialMT-99\"/>\r\n     <use x=\"238.916016\" xlink:href=\"#ArialMT-117\"/>\r\n     <use x=\"294.53125\" xlink:href=\"#ArialMT-108\"/>\r\n     <use x=\"316.748047\" xlink:href=\"#ArialMT-105\"/>\r\n     <use x=\"338.964844\" xlink:href=\"#ArialMT-110\"/>\r\n     <use x=\"394.580078\" xlink:href=\"#ArialMT-111\"/>\r\n    </g>\r\n   </g>\r\n  </g>\r\n </g>\r\n <defs>\r\n  <clipPath id=\"p58650e4a4a\">\r\n   <rect height=\"361.58\" width=\"375.256454\" x=\"37.932031\" y=\"18.073594\"/>\r\n  </clipPath>\r\n </defs>\r\n</svg>\r\n",
      "image/png": "[encoded data removed]"
     },
     "metadata": {}
    }
   ],
   "source": [
    "print('Quantidade de inscriçoes por Sexo por Ano.')\n",
    "print('')\n",
    "print(f'Consulta inciada -  {datetime.now()}')\n",
    "\n",
    "# Apresentando os valores da consulta SQL no Spark\n",
    "sqlContext.sql('SELECT NU_ANO AS ANO, SEXO, COUNT(*) AS QTDE_INSCRICAO, ROUND((COUNT(*)/(SELECT COUNT(*)/100 FROM enemtb)),2) AS PERCENTUAL FROM enemtb GROUP BY NU_ANO, SEXO ORDER BY NU_ANO, COUNT(*) DESC').show()\n",
    "\n",
    "# Criação do dataframe com os valores selecionados\n",
    "df_grafico = sqlContext.sql('SELECT NU_ANO AS ANO, SEXO, COUNT(*) AS QTDE_INSCRICAO, ROUND((COUNT(*)/(SELECT COUNT(*)/100 FROM enemtb)),2) AS PERCENTUAL FROM enemtb GROUP BY NU_ANO, SEXO ORDER BY NU_ANO, COUNT(*) DESC').toPandas()\n",
    "\n",
    "# Apresentando o grafico do Dataframe df_grafico.\n",
    "sns.set(style=\"whitegrid\")\n",
    "\n",
    "g = sns.catplot(x=\"ANO\", y=\"QTDE_INSCRICAO\", hue=\"SEXO\", data=df_grafico, height=6, kind=\"bar\", palette=\"muted\")\n",
    "g.despine(left=True)\n",
    "g.set_ylabels(\"survival probability\")\n",
    "\n",
    "print(f'Consulta realizada com sucesso -  {datetime.now()}')"
   ]
  },
  {
   "cell_type": "code",
   "execution_count": 101,
   "metadata": {
    "tags": []
   },
   "outputs": [
    {
     "output_type": "stream",
     "name": "stdout",
     "text": "Quantidade de inscriçoes por Estado Civil.\n\nConsulta inciada -  2020-09-02 18:33:30.765523\n+---------------------------------------+--------------+----------+\n|ESTADO_CIVIL                           |QTDE_INSCRICAO|PERCENTUAL|\n+---------------------------------------+--------------+----------+\n|Solteiro                               |24197550      |71.77     |\n|Casado(a)/Mora com companheiro(a)      |7350094       |21.8      |\n|                                       |1199287       |3.56      |\n|Divorciado(a)/Desquitado(a)/Separado(a)|829816        |2.46      |\n|Viúvo(a)                               |137405        |0.41      |\n+---------------------------------------+--------------+----------+\n\nConsulta realizada com sucesso -  2020-09-02 18:39:43.829132\n"
    },
    {
     "output_type": "display_data",
     "data": {
      "text/plain": "<Figure size 432x288 with 1 Axes>",
      "image/svg+xml": "<?xml version=\"1.0\" encoding=\"utf-8\" standalone=\"no\"?>\r\n<!DOCTYPE svg PUBLIC \"-//W3C//DTD SVG 1.1//EN\"\r\n  \"http://www.w3.org/Graphics/SVG/1.1/DTD/svg11.dtd\">\r\n<!-- Created with matplotlib (https://matplotlib.org/) -->\r\n<svg height=\"472.807813pt\" version=\"1.1\" viewBox=\"0 0 388.97375 472.807813\" width=\"388.97375pt\" xmlns=\"http://www.w3.org/2000/svg\" xmlns:xlink=\"http://www.w3.org/1999/xlink\">\r\n <metadata>\r\n  <rdf:RDF xmlns:cc=\"http://creativecommons.org/ns#\" xmlns:dc=\"http://purl.org/dc/elements/1.1/\" xmlns:rdf=\"http://www.w3.org/1999/02/22-rdf-syntax-ns#\">\r\n   <cc:Work>\r\n    <dc:type rdf:resource=\"http://purl.org/dc/dcmitype/StillImage\"/>\r\n    <dc:date>2020-09-02T18:39:43.908622</dc:date>\r\n    <dc:format>image/svg+xml</dc:format>\r\n    <dc:creator>\r\n     <cc:Agent>\r\n      <dc:title>Matplotlib v3.3.1, https://matplotlib.org/</dc:title>\r\n     </cc:Agent>\r\n    </dc:creator>\r\n   </cc:Work>\r\n  </rdf:RDF>\r\n </metadata>\r\n <defs>\r\n  <style type=\"text/css\">*{stroke-linecap:butt;stroke-linejoin:round;}</style>\r\n </defs>\r\n <g id=\"figure_1\">\r\n  <g id=\"patch_1\">\r\n   <path d=\"M 0 472.807813 \r\nL 388.97375 472.807813 \r\nL 388.97375 0 \r\nL 0 0 \r\nz\r\n\" style=\"fill:#ffffff;\"/>\r\n  </g>\r\n  <g id=\"axes_1\">\r\n   <g id=\"patch_2\">\r\n    <path d=\"M 46.97375 239.383125 \r\nL 381.77375 239.383125 \r\nL 381.77375 21.943125 \r\nL 46.97375 21.943125 \r\nz\r\n\" style=\"fill:#ffffff;\"/>\r\n   </g>\r\n   <g id=\"matplotlib.axis_1\">\r\n    <g id=\"xtick_1\">\r\n     <g id=\"line2d_1\">\r\n      <path clip-path=\"url(#p271aa21d7e)\" d=\"M 80.45375 239.383125 \r\nL 80.45375 21.943125 \r\n\" style=\"fill:none;stroke:#cccccc;stroke-linecap:round;\"/>\r\n     </g>\r\n     <g id=\"text_1\">\r\n      <!-- Solteiro -->\r\n      <g style=\"fill:#262626;\" transform=\"translate(83.297422 286.178281)rotate(-90)scale(0.11 -0.11)\">\r\n       <defs>\r\n        <path d=\"M 4.5 23 \r\nL 13.421875 23.78125 \r\nQ 14.0625 18.40625 16.375 14.96875 \r\nQ 18.703125 11.53125 23.578125 9.40625 \r\nQ 28.46875 7.28125 34.578125 7.28125 \r\nQ 39.984375 7.28125 44.140625 8.890625 \r\nQ 48.296875 10.5 50.3125 13.296875 \r\nQ 52.34375 16.109375 52.34375 19.4375 \r\nQ 52.34375 22.796875 50.390625 25.3125 \r\nQ 48.4375 27.828125 43.953125 29.546875 \r\nQ 41.0625 30.671875 31.203125 33.03125 \r\nQ 21.34375 35.40625 17.390625 37.5 \r\nQ 12.25 40.1875 9.734375 44.15625 \r\nQ 7.234375 48.140625 7.234375 53.078125 \r\nQ 7.234375 58.5 10.296875 63.203125 \r\nQ 13.375 67.921875 19.28125 70.359375 \r\nQ 25.203125 72.796875 32.421875 72.796875 \r\nQ 40.375 72.796875 46.453125 70.234375 \r\nQ 52.546875 67.671875 55.8125 62.6875 \r\nQ 59.078125 57.71875 59.328125 51.421875 \r\nL 50.25 50.734375 \r\nQ 49.515625 57.515625 45.28125 60.984375 \r\nQ 41.0625 64.453125 32.8125 64.453125 \r\nQ 24.21875 64.453125 20.28125 61.296875 \r\nQ 16.359375 58.15625 16.359375 53.71875 \r\nQ 16.359375 49.859375 19.140625 47.359375 \r\nQ 21.875 44.875 33.421875 42.265625 \r\nQ 44.96875 39.65625 49.265625 37.703125 \r\nQ 55.515625 34.8125 58.484375 30.390625 \r\nQ 61.46875 25.984375 61.46875 20.21875 \r\nQ 61.46875 14.5 58.203125 9.4375 \r\nQ 54.9375 4.390625 48.796875 1.578125 \r\nQ 42.671875 -1.21875 35.015625 -1.21875 \r\nQ 25.296875 -1.21875 18.71875 1.609375 \r\nQ 12.15625 4.4375 8.421875 10.125 \r\nQ 4.6875 15.828125 4.5 23 \r\nz\r\n\" id=\"ArialMT-83\"/>\r\n        <path d=\"M 3.328125 25.921875 \r\nQ 3.328125 40.328125 11.328125 47.265625 \r\nQ 18.015625 53.03125 27.640625 53.03125 \r\nQ 38.328125 53.03125 45.109375 46.015625 \r\nQ 51.90625 39.015625 51.90625 26.65625 \r\nQ 51.90625 16.65625 48.90625 10.90625 \r\nQ 45.90625 5.171875 40.15625 2 \r\nQ 34.421875 -1.171875 27.640625 -1.171875 \r\nQ 16.75 -1.171875 10.03125 5.8125 \r\nQ 3.328125 12.796875 3.328125 25.921875 \r\nz\r\nM 12.359375 25.921875 \r\nQ 12.359375 15.96875 16.703125 11.015625 \r\nQ 21.046875 6.0625 27.640625 6.0625 \r\nQ 34.1875 6.0625 38.53125 11.03125 \r\nQ 42.875 16.015625 42.875 26.21875 \r\nQ 42.875 35.84375 38.5 40.796875 \r\nQ 34.125 45.75 27.640625 45.75 \r\nQ 21.046875 45.75 16.703125 40.8125 \r\nQ 12.359375 35.890625 12.359375 25.921875 \r\nz\r\n\" id=\"ArialMT-111\"/>\r\n        <path d=\"M 6.390625 0 \r\nL 6.390625 71.578125 \r\nL 15.1875 71.578125 \r\nL 15.1875 0 \r\nz\r\n\" id=\"ArialMT-108\"/>\r\n        <path d=\"M 25.78125 7.859375 \r\nL 27.046875 0.09375 \r\nQ 23.34375 -0.6875 20.40625 -0.6875 \r\nQ 15.625 -0.6875 12.984375 0.828125 \r\nQ 10.359375 2.34375 9.28125 4.8125 \r\nQ 8.203125 7.28125 8.203125 15.1875 \r\nL 8.203125 45.015625 \r\nL 1.765625 45.015625 \r\nL 1.765625 51.859375 \r\nL 8.203125 51.859375 \r\nL 8.203125 64.703125 \r\nL 16.9375 69.96875 \r\nL 16.9375 51.859375 \r\nL 25.78125 51.859375 \r\nL 25.78125 45.015625 \r\nL 16.9375 45.015625 \r\nL 16.9375 14.703125 \r\nQ 16.9375 10.9375 17.40625 9.859375 \r\nQ 17.875 8.796875 18.921875 8.15625 \r\nQ 19.96875 7.515625 21.921875 7.515625 \r\nQ 23.390625 7.515625 25.78125 7.859375 \r\nz\r\n\" id=\"ArialMT-116\"/>\r\n        <path d=\"M 42.09375 16.703125 \r\nL 51.171875 15.578125 \r\nQ 49.03125 7.625 43.21875 3.21875 \r\nQ 37.40625 -1.171875 28.375 -1.171875 \r\nQ 17 -1.171875 10.328125 5.828125 \r\nQ 3.65625 12.84375 3.65625 25.484375 \r\nQ 3.65625 38.578125 10.390625 45.796875 \r\nQ 17.140625 53.03125 27.875 53.03125 \r\nQ 38.28125 53.03125 44.875 45.953125 \r\nQ 51.46875 38.875 51.46875 26.03125 \r\nQ 51.46875 25.25 51.421875 23.6875 \r\nL 12.75 23.6875 \r\nQ 13.234375 15.140625 17.578125 10.59375 \r\nQ 21.921875 6.0625 28.421875 6.0625 \r\nQ 33.25 6.0625 36.671875 8.59375 \r\nQ 40.09375 11.140625 42.09375 16.703125 \r\nz\r\nM 13.234375 30.90625 \r\nL 42.1875 30.90625 \r\nQ 41.609375 37.453125 38.875 40.71875 \r\nQ 34.671875 45.796875 27.984375 45.796875 \r\nQ 21.921875 45.796875 17.796875 41.75 \r\nQ 13.671875 37.703125 13.234375 30.90625 \r\nz\r\n\" id=\"ArialMT-101\"/>\r\n        <path d=\"M 6.640625 61.46875 \r\nL 6.640625 71.578125 \r\nL 15.4375 71.578125 \r\nL 15.4375 61.46875 \r\nz\r\nM 6.640625 0 \r\nL 6.640625 51.859375 \r\nL 15.4375 51.859375 \r\nL 15.4375 0 \r\nz\r\n\" id=\"ArialMT-105\"/>\r\n        <path d=\"M 6.5 0 \r\nL 6.5 51.859375 \r\nL 14.40625 51.859375 \r\nL 14.40625 44 \r\nQ 17.4375 49.515625 20 51.265625 \r\nQ 22.5625 53.03125 25.640625 53.03125 \r\nQ 30.078125 53.03125 34.671875 50.203125 \r\nL 31.640625 42.046875 \r\nQ 28.421875 43.953125 25.203125 43.953125 \r\nQ 22.3125 43.953125 20.015625 42.21875 \r\nQ 17.71875 40.484375 16.75 37.40625 \r\nQ 15.28125 32.71875 15.28125 27.15625 \r\nL 15.28125 0 \r\nz\r\n\" id=\"ArialMT-114\"/>\r\n       </defs>\r\n       <use xlink:href=\"#ArialMT-83\"/>\r\n       <use x=\"66.699219\" xlink:href=\"#ArialMT-111\"/>\r\n       <use x=\"122.314453\" xlink:href=\"#ArialMT-108\"/>\r\n       <use x=\"144.53125\" xlink:href=\"#ArialMT-116\"/>\r\n       <use x=\"172.314453\" xlink:href=\"#ArialMT-101\"/>\r\n       <use x=\"227.929688\" xlink:href=\"#ArialMT-105\"/>\r\n       <use x=\"250.146484\" xlink:href=\"#ArialMT-114\"/>\r\n       <use x=\"283.447266\" xlink:href=\"#ArialMT-111\"/>\r\n      </g>\r\n     </g>\r\n    </g>\r\n    <g id=\"xtick_2\">\r\n     <g id=\"line2d_2\">\r\n      <path clip-path=\"url(#p271aa21d7e)\" d=\"M 147.41375 239.383125 \r\nL 147.41375 21.943125 \r\n\" style=\"fill:none;stroke:#cccccc;stroke-linecap:round;\"/>\r\n     </g>\r\n     <g id=\"text_2\">\r\n      <!-- Casado(a)/Mora com companheiro(a) -->\r\n      <g style=\"fill:#262626;\" transform=\"translate(150.26 432.275469)rotate(-90)scale(0.11 -0.11)\">\r\n       <defs>\r\n        <path d=\"M 58.796875 25.09375 \r\nL 68.265625 22.703125 \r\nQ 65.28125 11.03125 57.546875 4.90625 \r\nQ 49.8125 -1.21875 38.625 -1.21875 \r\nQ 27.046875 -1.21875 19.796875 3.484375 \r\nQ 12.546875 8.203125 8.765625 17.140625 \r\nQ 4.984375 26.078125 4.984375 36.328125 \r\nQ 4.984375 47.515625 9.25 55.828125 \r\nQ 13.53125 64.15625 21.40625 68.46875 \r\nQ 29.296875 72.796875 38.765625 72.796875 \r\nQ 49.515625 72.796875 56.828125 67.328125 \r\nQ 64.15625 61.859375 67.046875 51.953125 \r\nL 57.71875 49.75 \r\nQ 55.21875 57.5625 50.484375 61.125 \r\nQ 45.75 64.703125 38.578125 64.703125 \r\nQ 30.328125 64.703125 24.78125 60.734375 \r\nQ 19.234375 56.78125 16.984375 50.109375 \r\nQ 14.75 43.453125 14.75 36.375 \r\nQ 14.75 27.25 17.40625 20.4375 \r\nQ 20.0625 13.625 25.671875 10.25 \r\nQ 31.296875 6.890625 37.84375 6.890625 \r\nQ 45.796875 6.890625 51.3125 11.46875 \r\nQ 56.84375 16.0625 58.796875 25.09375 \r\nz\r\n\" id=\"ArialMT-67\"/>\r\n        <path d=\"M 40.4375 6.390625 \r\nQ 35.546875 2.25 31.03125 0.53125 \r\nQ 26.515625 -1.171875 21.34375 -1.171875 \r\nQ 12.796875 -1.171875 8.203125 3 \r\nQ 3.609375 7.171875 3.609375 13.671875 \r\nQ 3.609375 17.484375 5.34375 20.625 \r\nQ 7.078125 23.78125 9.890625 25.6875 \r\nQ 12.703125 27.59375 16.21875 28.5625 \r\nQ 18.796875 29.25 24.03125 29.890625 \r\nQ 34.671875 31.15625 39.703125 32.90625 \r\nQ 39.75 34.71875 39.75 35.203125 \r\nQ 39.75 40.578125 37.25 42.78125 \r\nQ 33.890625 45.75 27.25 45.75 \r\nQ 21.046875 45.75 18.09375 43.578125 \r\nQ 15.140625 41.40625 13.71875 35.890625 \r\nL 5.125 37.0625 \r\nQ 6.296875 42.578125 8.984375 45.96875 \r\nQ 11.671875 49.359375 16.75 51.1875 \r\nQ 21.828125 53.03125 28.515625 53.03125 \r\nQ 35.15625 53.03125 39.296875 51.46875 \r\nQ 43.453125 49.90625 45.40625 47.53125 \r\nQ 47.359375 45.171875 48.140625 41.546875 \r\nQ 48.578125 39.3125 48.578125 33.453125 \r\nL 48.578125 21.734375 \r\nQ 48.578125 9.46875 49.140625 6.21875 \r\nQ 49.703125 2.984375 51.375 0 \r\nL 42.1875 0 \r\nQ 40.828125 2.734375 40.4375 6.390625 \r\nz\r\nM 39.703125 26.03125 \r\nQ 34.90625 24.078125 25.34375 22.703125 \r\nQ 19.921875 21.921875 17.671875 20.9375 \r\nQ 15.4375 19.96875 14.203125 18.09375 \r\nQ 12.984375 16.21875 12.984375 13.921875 \r\nQ 12.984375 10.40625 15.640625 8.0625 \r\nQ 18.3125 5.71875 23.4375 5.71875 \r\nQ 28.515625 5.71875 32.46875 7.9375 \r\nQ 36.421875 10.15625 38.28125 14.015625 \r\nQ 39.703125 17 39.703125 22.796875 \r\nz\r\n\" id=\"ArialMT-97\"/>\r\n        <path d=\"M 3.078125 15.484375 \r\nL 11.765625 16.84375 \r\nQ 12.5 11.625 15.84375 8.84375 \r\nQ 19.1875 6.0625 25.203125 6.0625 \r\nQ 31.25 6.0625 34.171875 8.515625 \r\nQ 37.109375 10.984375 37.109375 14.3125 \r\nQ 37.109375 17.28125 34.515625 19 \r\nQ 32.71875 20.171875 25.53125 21.96875 \r\nQ 15.875 24.421875 12.140625 26.203125 \r\nQ 8.40625 27.984375 6.46875 31.125 \r\nQ 4.546875 34.28125 4.546875 38.09375 \r\nQ 4.546875 41.546875 6.125 44.5 \r\nQ 7.71875 47.46875 10.453125 49.421875 \r\nQ 12.5 50.921875 16.03125 51.96875 \r\nQ 19.578125 53.03125 23.640625 53.03125 \r\nQ 29.734375 53.03125 34.34375 51.265625 \r\nQ 38.96875 49.515625 41.15625 46.5 \r\nQ 43.359375 43.5 44.1875 38.484375 \r\nL 35.59375 37.3125 \r\nQ 35.015625 41.3125 32.203125 43.546875 \r\nQ 29.390625 45.796875 24.265625 45.796875 \r\nQ 18.21875 45.796875 15.625 43.796875 \r\nQ 13.03125 41.796875 13.03125 39.109375 \r\nQ 13.03125 37.40625 14.109375 36.03125 \r\nQ 15.1875 34.625 17.484375 33.6875 \r\nQ 18.796875 33.203125 25.25 31.453125 \r\nQ 34.578125 28.953125 38.25 27.359375 \r\nQ 41.9375 25.78125 44.03125 22.75 \r\nQ 46.140625 19.734375 46.140625 15.234375 \r\nQ 46.140625 10.84375 43.578125 6.953125 \r\nQ 41.015625 3.078125 36.171875 0.953125 \r\nQ 31.34375 -1.171875 25.25 -1.171875 \r\nQ 15.140625 -1.171875 9.84375 3.03125 \r\nQ 4.546875 7.234375 3.078125 15.484375 \r\nz\r\n\" id=\"ArialMT-115\"/>\r\n        <path d=\"M 40.234375 0 \r\nL 40.234375 6.546875 \r\nQ 35.296875 -1.171875 25.734375 -1.171875 \r\nQ 19.53125 -1.171875 14.328125 2.25 \r\nQ 9.125 5.671875 6.265625 11.796875 \r\nQ 3.421875 17.921875 3.421875 25.875 \r\nQ 3.421875 33.640625 6 39.96875 \r\nQ 8.59375 46.296875 13.765625 49.65625 \r\nQ 18.953125 53.03125 25.34375 53.03125 \r\nQ 30.03125 53.03125 33.6875 51.046875 \r\nQ 37.359375 49.078125 39.65625 45.90625 \r\nL 39.65625 71.578125 \r\nL 48.390625 71.578125 \r\nL 48.390625 0 \r\nz\r\nM 12.453125 25.875 \r\nQ 12.453125 15.921875 16.640625 10.984375 \r\nQ 20.84375 6.0625 26.5625 6.0625 \r\nQ 32.328125 6.0625 36.34375 10.765625 \r\nQ 40.375 15.484375 40.375 25.140625 \r\nQ 40.375 35.796875 36.265625 40.765625 \r\nQ 32.171875 45.75 26.171875 45.75 \r\nQ 20.3125 45.75 16.375 40.96875 \r\nQ 12.453125 36.1875 12.453125 25.875 \r\nz\r\n\" id=\"ArialMT-100\"/>\r\n        <path d=\"M 23.390625 -21.046875 \r\nQ 16.109375 -11.859375 11.078125 0.4375 \r\nQ 6.0625 12.75 6.0625 25.921875 \r\nQ 6.0625 37.546875 9.8125 48.1875 \r\nQ 14.203125 60.546875 23.390625 72.796875 \r\nL 29.6875 72.796875 \r\nQ 23.78125 62.640625 21.875 58.296875 \r\nQ 18.890625 51.5625 17.1875 44.234375 \r\nQ 15.09375 35.109375 15.09375 25.875 \r\nQ 15.09375 2.390625 29.6875 -21.046875 \r\nz\r\n\" id=\"ArialMT-40\"/>\r\n        <path d=\"M 12.359375 -21.046875 \r\nL 6.0625 -21.046875 \r\nQ 20.65625 2.390625 20.65625 25.875 \r\nQ 20.65625 35.0625 18.5625 44.09375 \r\nQ 16.890625 51.421875 13.921875 58.15625 \r\nQ 12.015625 62.546875 6.0625 72.796875 \r\nL 12.359375 72.796875 \r\nQ 21.53125 60.546875 25.921875 48.1875 \r\nQ 29.6875 37.546875 29.6875 25.921875 \r\nQ 29.6875 12.75 24.625 0.4375 \r\nQ 19.578125 -11.859375 12.359375 -21.046875 \r\nz\r\n\" id=\"ArialMT-41\"/>\r\n        <path d=\"M 0 -1.21875 \r\nL 20.75 72.796875 \r\nL 27.78125 72.796875 \r\nL 7.078125 -1.21875 \r\nz\r\n\" id=\"ArialMT-47\"/>\r\n        <path d=\"M 7.421875 0 \r\nL 7.421875 71.578125 \r\nL 21.6875 71.578125 \r\nL 38.625 20.90625 \r\nQ 40.96875 13.8125 42.046875 10.296875 \r\nQ 43.265625 14.203125 45.84375 21.78125 \r\nL 62.984375 71.578125 \r\nL 75.734375 71.578125 \r\nL 75.734375 0 \r\nL 66.609375 0 \r\nL 66.609375 59.90625 \r\nL 45.796875 0 \r\nL 37.25 0 \r\nL 16.546875 60.9375 \r\nL 16.546875 0 \r\nz\r\n\" id=\"ArialMT-77\"/>\r\n        <path id=\"ArialMT-32\"/>\r\n        <path d=\"M 40.4375 19 \r\nL 49.078125 17.875 \r\nQ 47.65625 8.9375 41.8125 3.875 \r\nQ 35.984375 -1.171875 27.484375 -1.171875 \r\nQ 16.84375 -1.171875 10.375 5.78125 \r\nQ 3.90625 12.75 3.90625 25.734375 \r\nQ 3.90625 34.125 6.6875 40.421875 \r\nQ 9.46875 46.734375 15.15625 49.875 \r\nQ 20.84375 53.03125 27.546875 53.03125 \r\nQ 35.984375 53.03125 41.359375 48.75 \r\nQ 46.734375 44.484375 48.25 36.625 \r\nL 39.703125 35.296875 \r\nQ 38.484375 40.53125 35.375 43.15625 \r\nQ 32.28125 45.796875 27.875 45.796875 \r\nQ 21.234375 45.796875 17.078125 41.03125 \r\nQ 12.9375 36.28125 12.9375 25.984375 \r\nQ 12.9375 15.53125 16.9375 10.796875 \r\nQ 20.953125 6.0625 27.390625 6.0625 \r\nQ 32.5625 6.0625 36.03125 9.234375 \r\nQ 39.5 12.40625 40.4375 19 \r\nz\r\n\" id=\"ArialMT-99\"/>\r\n        <path d=\"M 6.59375 0 \r\nL 6.59375 51.859375 \r\nL 14.453125 51.859375 \r\nL 14.453125 44.578125 \r\nQ 16.890625 48.390625 20.9375 50.703125 \r\nQ 25 53.03125 30.171875 53.03125 \r\nQ 35.9375 53.03125 39.625 50.640625 \r\nQ 43.3125 48.25 44.828125 43.953125 \r\nQ 50.984375 53.03125 60.84375 53.03125 \r\nQ 68.5625 53.03125 72.703125 48.75 \r\nQ 76.859375 44.484375 76.859375 35.59375 \r\nL 76.859375 0 \r\nL 68.109375 0 \r\nL 68.109375 32.671875 \r\nQ 68.109375 37.9375 67.25 40.25 \r\nQ 66.40625 42.578125 64.15625 43.984375 \r\nQ 61.921875 45.40625 58.890625 45.40625 \r\nQ 53.421875 45.40625 49.796875 41.765625 \r\nQ 46.1875 38.140625 46.1875 30.125 \r\nL 46.1875 0 \r\nL 37.40625 0 \r\nL 37.40625 33.6875 \r\nQ 37.40625 39.546875 35.25 42.46875 \r\nQ 33.109375 45.40625 28.21875 45.40625 \r\nQ 24.515625 45.40625 21.359375 43.453125 \r\nQ 18.21875 41.5 16.796875 37.734375 \r\nQ 15.375 33.984375 15.375 26.90625 \r\nL 15.375 0 \r\nz\r\n\" id=\"ArialMT-109\"/>\r\n        <path d=\"M 6.59375 -19.875 \r\nL 6.59375 51.859375 \r\nL 14.59375 51.859375 \r\nL 14.59375 45.125 \r\nQ 17.4375 49.078125 21 51.046875 \r\nQ 24.5625 53.03125 29.640625 53.03125 \r\nQ 36.28125 53.03125 41.359375 49.609375 \r\nQ 46.4375 46.1875 49.015625 39.953125 \r\nQ 51.609375 33.734375 51.609375 26.3125 \r\nQ 51.609375 18.359375 48.75 11.984375 \r\nQ 45.90625 5.609375 40.453125 2.21875 \r\nQ 35.015625 -1.171875 29 -1.171875 \r\nQ 24.609375 -1.171875 21.109375 0.6875 \r\nQ 17.625 2.546875 15.375 5.375 \r\nL 15.375 -19.875 \r\nz\r\nM 14.546875 25.640625 \r\nQ 14.546875 15.625 18.59375 10.84375 \r\nQ 22.65625 6.0625 28.421875 6.0625 \r\nQ 34.28125 6.0625 38.453125 11.015625 \r\nQ 42.625 15.96875 42.625 26.375 \r\nQ 42.625 36.28125 38.546875 41.203125 \r\nQ 34.46875 46.140625 28.8125 46.140625 \r\nQ 23.1875 46.140625 18.859375 40.890625 \r\nQ 14.546875 35.640625 14.546875 25.640625 \r\nz\r\n\" id=\"ArialMT-112\"/>\r\n        <path d=\"M 6.59375 0 \r\nL 6.59375 51.859375 \r\nL 14.5 51.859375 \r\nL 14.5 44.484375 \r\nQ 20.21875 53.03125 31 53.03125 \r\nQ 35.6875 53.03125 39.625 51.34375 \r\nQ 43.5625 49.65625 45.515625 46.921875 \r\nQ 47.46875 44.1875 48.25 40.4375 \r\nQ 48.734375 37.984375 48.734375 31.890625 \r\nL 48.734375 0 \r\nL 39.9375 0 \r\nL 39.9375 31.546875 \r\nQ 39.9375 36.921875 38.90625 39.578125 \r\nQ 37.890625 42.234375 35.28125 43.8125 \r\nQ 32.671875 45.40625 29.15625 45.40625 \r\nQ 23.53125 45.40625 19.453125 41.84375 \r\nQ 15.375 38.28125 15.375 28.328125 \r\nL 15.375 0 \r\nz\r\n\" id=\"ArialMT-110\"/>\r\n        <path d=\"M 6.59375 0 \r\nL 6.59375 71.578125 \r\nL 15.375 71.578125 \r\nL 15.375 45.90625 \r\nQ 21.53125 53.03125 30.90625 53.03125 \r\nQ 36.671875 53.03125 40.921875 50.75 \r\nQ 45.171875 48.484375 47 44.484375 \r\nQ 48.828125 40.484375 48.828125 32.859375 \r\nL 48.828125 0 \r\nL 40.046875 0 \r\nL 40.046875 32.859375 \r\nQ 40.046875 39.453125 37.1875 42.453125 \r\nQ 34.328125 45.453125 29.109375 45.453125 \r\nQ 25.203125 45.453125 21.75 43.421875 \r\nQ 18.3125 41.40625 16.84375 37.9375 \r\nQ 15.375 34.46875 15.375 28.375 \r\nL 15.375 0 \r\nz\r\n\" id=\"ArialMT-104\"/>\r\n       </defs>\r\n       <use xlink:href=\"#ArialMT-67\"/>\r\n       <use x=\"72.216797\" xlink:href=\"#ArialMT-97\"/>\r\n       <use x=\"127.832031\" xlink:href=\"#ArialMT-115\"/>\r\n       <use x=\"177.832031\" xlink:href=\"#ArialMT-97\"/>\r\n       <use x=\"233.447266\" xlink:href=\"#ArialMT-100\"/>\r\n       <use x=\"289.0625\" xlink:href=\"#ArialMT-111\"/>\r\n       <use x=\"344.677734\" xlink:href=\"#ArialMT-40\"/>\r\n       <use x=\"377.978516\" xlink:href=\"#ArialMT-97\"/>\r\n       <use x=\"433.59375\" xlink:href=\"#ArialMT-41\"/>\r\n       <use x=\"466.894531\" xlink:href=\"#ArialMT-47\"/>\r\n       <use x=\"494.677734\" xlink:href=\"#ArialMT-77\"/>\r\n       <use x=\"577.978516\" xlink:href=\"#ArialMT-111\"/>\r\n       <use x=\"633.59375\" xlink:href=\"#ArialMT-114\"/>\r\n       <use x=\"666.894531\" xlink:href=\"#ArialMT-97\"/>\r\n       <use x=\"722.509766\" xlink:href=\"#ArialMT-32\"/>\r\n       <use x=\"750.292969\" xlink:href=\"#ArialMT-99\"/>\r\n       <use x=\"800.292969\" xlink:href=\"#ArialMT-111\"/>\r\n       <use x=\"855.908203\" xlink:href=\"#ArialMT-109\"/>\r\n       <use x=\"939.208984\" xlink:href=\"#ArialMT-32\"/>\r\n       <use x=\"966.992188\" xlink:href=\"#ArialMT-99\"/>\r\n       <use x=\"1016.992188\" xlink:href=\"#ArialMT-111\"/>\r\n       <use x=\"1072.607422\" xlink:href=\"#ArialMT-109\"/>\r\n       <use x=\"1155.908203\" xlink:href=\"#ArialMT-112\"/>\r\n       <use x=\"1211.523438\" xlink:href=\"#ArialMT-97\"/>\r\n       <use x=\"1267.138672\" xlink:href=\"#ArialMT-110\"/>\r\n       <use x=\"1322.753906\" xlink:href=\"#ArialMT-104\"/>\r\n       <use x=\"1378.369141\" xlink:href=\"#ArialMT-101\"/>\r\n       <use x=\"1433.984375\" xlink:href=\"#ArialMT-105\"/>\r\n       <use x=\"1456.201172\" xlink:href=\"#ArialMT-114\"/>\r\n       <use x=\"1489.501953\" xlink:href=\"#ArialMT-111\"/>\r\n       <use x=\"1545.117188\" xlink:href=\"#ArialMT-40\"/>\r\n       <use x=\"1578.417969\" xlink:href=\"#ArialMT-97\"/>\r\n       <use x=\"1634.033203\" xlink:href=\"#ArialMT-41\"/>\r\n      </g>\r\n     </g>\r\n    </g>\r\n    <g id=\"xtick_3\">\r\n     <g id=\"line2d_3\">\r\n      <path clip-path=\"url(#p271aa21d7e)\" d=\"M 214.37375 239.383125 \r\nL 214.37375 21.943125 \r\n\" style=\"fill:none;stroke:#cccccc;stroke-linecap:round;\"/>\r\n     </g>\r\n    </g>\r\n    <g id=\"xtick_4\">\r\n     <g id=\"line2d_4\">\r\n      <path clip-path=\"url(#p271aa21d7e)\" d=\"M 281.33375 239.383125 \r\nL 281.33375 21.943125 \r\n\" style=\"fill:none;stroke:#cccccc;stroke-linecap:round;\"/>\r\n     </g>\r\n     <g id=\"text_3\">\r\n      <!-- Divorciado(a)/Desquitado(a)/Separado(a) -->\r\n      <g style=\"fill:#262626;\" transform=\"translate(284.18 450.633438)rotate(-90)scale(0.11 -0.11)\">\r\n       <defs>\r\n        <path d=\"M 7.71875 0 \r\nL 7.71875 71.578125 \r\nL 32.375 71.578125 \r\nQ 40.71875 71.578125 45.125 70.5625 \r\nQ 51.265625 69.140625 55.609375 65.4375 \r\nQ 61.28125 60.640625 64.078125 53.1875 \r\nQ 66.890625 45.75 66.890625 36.1875 \r\nQ 66.890625 28.03125 64.984375 21.734375 \r\nQ 63.09375 15.4375 60.109375 11.296875 \r\nQ 57.125 7.171875 53.578125 4.796875 \r\nQ 50.046875 2.4375 45.046875 1.21875 \r\nQ 40.046875 0 33.546875 0 \r\nz\r\nM 17.1875 8.453125 \r\nL 32.46875 8.453125 \r\nQ 39.546875 8.453125 43.578125 9.765625 \r\nQ 47.609375 11.078125 50 13.484375 \r\nQ 53.375 16.84375 55.25 22.53125 \r\nQ 57.125 28.21875 57.125 36.328125 \r\nQ 57.125 47.5625 53.4375 53.59375 \r\nQ 49.75 59.625 44.484375 61.671875 \r\nQ 40.671875 63.140625 32.234375 63.140625 \r\nL 17.1875 63.140625 \r\nz\r\n\" id=\"ArialMT-68\"/>\r\n        <path d=\"M 21 0 \r\nL 1.265625 51.859375 \r\nL 10.546875 51.859375 \r\nL 21.6875 20.796875 \r\nQ 23.484375 15.765625 25 10.359375 \r\nQ 26.171875 14.453125 28.265625 20.21875 \r\nL 39.796875 51.859375 \r\nL 48.828125 51.859375 \r\nL 29.203125 0 \r\nz\r\n\" id=\"ArialMT-118\"/>\r\n        <path d=\"M 39.65625 -19.875 \r\nL 39.65625 5.515625 \r\nQ 37.59375 2.640625 33.90625 0.734375 \r\nQ 30.21875 -1.171875 26.078125 -1.171875 \r\nQ 16.84375 -1.171875 10.171875 6.203125 \r\nQ 3.515625 13.578125 3.515625 26.421875 \r\nQ 3.515625 34.234375 6.21875 40.421875 \r\nQ 8.9375 46.625 14.078125 49.828125 \r\nQ 19.234375 53.03125 25.390625 53.03125 \r\nQ 35.015625 53.03125 40.53125 44.921875 \r\nL 40.53125 51.859375 \r\nL 48.4375 51.859375 \r\nL 48.4375 -19.875 \r\nz\r\nM 12.546875 26.078125 \r\nQ 12.546875 16.0625 16.75 11.0625 \r\nQ 20.953125 6.0625 26.8125 6.0625 \r\nQ 32.421875 6.0625 36.46875 10.8125 \r\nQ 40.53125 15.578125 40.53125 25.296875 \r\nQ 40.53125 35.640625 36.25 40.859375 \r\nQ 31.984375 46.09375 26.21875 46.09375 \r\nQ 20.515625 46.09375 16.53125 41.234375 \r\nQ 12.546875 36.375 12.546875 26.078125 \r\nz\r\n\" id=\"ArialMT-113\"/>\r\n        <path d=\"M 40.578125 0 \r\nL 40.578125 7.625 \r\nQ 34.515625 -1.171875 24.125 -1.171875 \r\nQ 19.53125 -1.171875 15.546875 0.578125 \r\nQ 11.578125 2.34375 9.640625 5 \r\nQ 7.71875 7.671875 6.9375 11.53125 \r\nQ 6.390625 14.109375 6.390625 19.734375 \r\nL 6.390625 51.859375 \r\nL 15.1875 51.859375 \r\nL 15.1875 23.09375 \r\nQ 15.1875 16.21875 15.71875 13.8125 \r\nQ 16.546875 10.359375 19.234375 8.375 \r\nQ 21.921875 6.390625 25.875 6.390625 \r\nQ 29.828125 6.390625 33.296875 8.421875 \r\nQ 36.765625 10.453125 38.203125 13.9375 \r\nQ 39.65625 17.4375 39.65625 24.078125 \r\nL 39.65625 51.859375 \r\nL 48.4375 51.859375 \r\nL 48.4375 0 \r\nz\r\n\" id=\"ArialMT-117\"/>\r\n       </defs>\r\n       <use xlink:href=\"#ArialMT-68\"/>\r\n       <use x=\"72.216797\" xlink:href=\"#ArialMT-105\"/>\r\n       <use x=\"94.433594\" xlink:href=\"#ArialMT-118\"/>\r\n       <use x=\"144.433594\" xlink:href=\"#ArialMT-111\"/>\r\n       <use x=\"200.048828\" xlink:href=\"#ArialMT-114\"/>\r\n       <use x=\"233.349609\" xlink:href=\"#ArialMT-99\"/>\r\n       <use x=\"283.349609\" xlink:href=\"#ArialMT-105\"/>\r\n       <use x=\"305.566406\" xlink:href=\"#ArialMT-97\"/>\r\n       <use x=\"361.181641\" xlink:href=\"#ArialMT-100\"/>\r\n       <use x=\"416.796875\" xlink:href=\"#ArialMT-111\"/>\r\n       <use x=\"472.412109\" xlink:href=\"#ArialMT-40\"/>\r\n       <use x=\"505.712891\" xlink:href=\"#ArialMT-97\"/>\r\n       <use x=\"561.328125\" xlink:href=\"#ArialMT-41\"/>\r\n       <use x=\"594.628906\" xlink:href=\"#ArialMT-47\"/>\r\n       <use x=\"622.412109\" xlink:href=\"#ArialMT-68\"/>\r\n       <use x=\"694.628906\" xlink:href=\"#ArialMT-101\"/>\r\n       <use x=\"750.244141\" xlink:href=\"#ArialMT-115\"/>\r\n       <use x=\"800.244141\" xlink:href=\"#ArialMT-113\"/>\r\n       <use x=\"855.859375\" xlink:href=\"#ArialMT-117\"/>\r\n       <use x=\"911.474609\" xlink:href=\"#ArialMT-105\"/>\r\n       <use x=\"933.691406\" xlink:href=\"#ArialMT-116\"/>\r\n       <use x=\"961.474609\" xlink:href=\"#ArialMT-97\"/>\r\n       <use x=\"1017.089844\" xlink:href=\"#ArialMT-100\"/>\r\n       <use x=\"1072.705078\" xlink:href=\"#ArialMT-111\"/>\r\n       <use x=\"1128.320312\" xlink:href=\"#ArialMT-40\"/>\r\n       <use x=\"1161.621094\" xlink:href=\"#ArialMT-97\"/>\r\n       <use x=\"1217.236328\" xlink:href=\"#ArialMT-41\"/>\r\n       <use x=\"1250.537109\" xlink:href=\"#ArialMT-47\"/>\r\n       <use x=\"1278.320312\" xlink:href=\"#ArialMT-83\"/>\r\n       <use x=\"1345.019531\" xlink:href=\"#ArialMT-101\"/>\r\n       <use x=\"1400.634766\" xlink:href=\"#ArialMT-112\"/>\r\n       <use x=\"1456.25\" xlink:href=\"#ArialMT-97\"/>\r\n       <use x=\"1511.865234\" xlink:href=\"#ArialMT-114\"/>\r\n       <use x=\"1545.166016\" xlink:href=\"#ArialMT-97\"/>\r\n       <use x=\"1600.78125\" xlink:href=\"#ArialMT-100\"/>\r\n       <use x=\"1656.396484\" xlink:href=\"#ArialMT-111\"/>\r\n       <use x=\"1712.011719\" xlink:href=\"#ArialMT-40\"/>\r\n       <use x=\"1745.3125\" xlink:href=\"#ArialMT-97\"/>\r\n       <use x=\"1800.927734\" xlink:href=\"#ArialMT-41\"/>\r\n      </g>\r\n     </g>\r\n    </g>\r\n    <g id=\"xtick_5\">\r\n     <g id=\"line2d_5\">\r\n      <path clip-path=\"url(#p271aa21d7e)\" d=\"M 348.29375 239.383125 \r\nL 348.29375 21.943125 \r\n\" style=\"fill:none;stroke:#cccccc;stroke-linecap:round;\"/>\r\n     </g>\r\n     <g id=\"text_4\">\r\n      <!-- Viúvo(a) -->\r\n      <g style=\"fill:#262626;\" transform=\"translate(351.14 289.648438)rotate(-90)scale(0.11 -0.11)\">\r\n       <defs>\r\n        <path d=\"M 28.171875 0 \r\nL 0.4375 71.578125 \r\nL 10.6875 71.578125 \r\nL 29.296875 19.578125 \r\nQ 31.546875 13.328125 33.0625 7.859375 \r\nQ 34.71875 13.71875 36.921875 19.578125 \r\nL 56.25 71.578125 \r\nL 65.921875 71.578125 \r\nL 37.890625 0 \r\nz\r\n\" id=\"ArialMT-86\"/>\r\n        <path d=\"M 40.578125 0 \r\nL 40.578125 7.625 \r\nQ 34.515625 -1.171875 24.125 -1.171875 \r\nQ 19.53125 -1.171875 15.546875 0.578125 \r\nQ 11.578125 2.34375 9.640625 5 \r\nQ 7.71875 7.671875 6.9375 11.53125 \r\nQ 6.390625 14.109375 6.390625 19.734375 \r\nL 6.390625 51.859375 \r\nL 15.1875 51.859375 \r\nL 15.1875 23.09375 \r\nQ 15.1875 16.21875 15.71875 13.8125 \r\nQ 16.546875 10.359375 19.234375 8.375 \r\nQ 21.921875 6.390625 25.875 6.390625 \r\nQ 29.828125 6.390625 33.296875 8.421875 \r\nQ 36.765625 10.453125 38.203125 13.9375 \r\nQ 39.65625 17.4375 39.65625 24.078125 \r\nL 39.65625 51.859375 \r\nL 48.4375 51.859375 \r\nL 48.4375 0 \r\nz\r\nM 22.09375 58.296875 \r\nL 28.578125 71.96875 \r\nL 40.109375 71.96875 \r\nL 29.359375 58.296875 \r\nz\r\n\" id=\"ArialMT-250\"/>\r\n       </defs>\r\n       <use xlink:href=\"#ArialMT-86\"/>\r\n       <use x=\"64.949219\" xlink:href=\"#ArialMT-105\"/>\r\n       <use x=\"87.166016\" xlink:href=\"#ArialMT-250\"/>\r\n       <use x=\"142.78125\" xlink:href=\"#ArialMT-118\"/>\r\n       <use x=\"192.78125\" xlink:href=\"#ArialMT-111\"/>\r\n       <use x=\"248.396484\" xlink:href=\"#ArialMT-40\"/>\r\n       <use x=\"281.697266\" xlink:href=\"#ArialMT-97\"/>\r\n       <use x=\"337.3125\" xlink:href=\"#ArialMT-41\"/>\r\n      </g>\r\n     </g>\r\n    </g>\r\n    <g id=\"text_5\">\r\n     <!-- Estado Civil -->\r\n     <g style=\"fill:#262626;\" transform=\"translate(182.695625 463.222813)scale(0.12 -0.12)\">\r\n      <defs>\r\n       <path d=\"M 7.90625 0 \r\nL 7.90625 71.578125 \r\nL 59.671875 71.578125 \r\nL 59.671875 63.140625 \r\nL 17.390625 63.140625 \r\nL 17.390625 41.21875 \r\nL 56.984375 41.21875 \r\nL 56.984375 32.8125 \r\nL 17.390625 32.8125 \r\nL 17.390625 8.453125 \r\nL 61.328125 8.453125 \r\nL 61.328125 0 \r\nz\r\n\" id=\"ArialMT-69\"/>\r\n      </defs>\r\n      <use xlink:href=\"#ArialMT-69\"/>\r\n      <use x=\"66.699219\" xlink:href=\"#ArialMT-115\"/>\r\n      <use x=\"116.699219\" xlink:href=\"#ArialMT-116\"/>\r\n      <use x=\"144.482422\" xlink:href=\"#ArialMT-97\"/>\r\n      <use x=\"200.097656\" xlink:href=\"#ArialMT-100\"/>\r\n      <use x=\"255.712891\" xlink:href=\"#ArialMT-111\"/>\r\n      <use x=\"311.328125\" xlink:href=\"#ArialMT-32\"/>\r\n      <use x=\"339.111328\" xlink:href=\"#ArialMT-67\"/>\r\n      <use x=\"411.328125\" xlink:href=\"#ArialMT-105\"/>\r\n      <use x=\"433.544922\" xlink:href=\"#ArialMT-118\"/>\r\n      <use x=\"483.544922\" xlink:href=\"#ArialMT-105\"/>\r\n      <use x=\"505.761719\" xlink:href=\"#ArialMT-108\"/>\r\n     </g>\r\n    </g>\r\n   </g>\r\n   <g id=\"matplotlib.axis_2\">\r\n    <g id=\"ytick_1\">\r\n     <g id=\"line2d_6\">\r\n      <path clip-path=\"url(#p271aa21d7e)\" d=\"M 46.97375 239.383125 \r\nL 381.77375 239.383125 \r\n\" style=\"fill:none;stroke:#cccccc;stroke-linecap:round;\"/>\r\n     </g>\r\n     <g id=\"text_6\">\r\n      <!-- 0.0 -->\r\n      <g style=\"fill:#262626;\" transform=\"translate(22.18375 243.319922)scale(0.11 -0.11)\">\r\n       <defs>\r\n        <path d=\"M 4.15625 35.296875 \r\nQ 4.15625 48 6.765625 55.734375 \r\nQ 9.375 63.484375 14.515625 67.671875 \r\nQ 19.671875 71.875 27.484375 71.875 \r\nQ 33.25 71.875 37.59375 69.546875 \r\nQ 41.9375 67.234375 44.765625 62.859375 \r\nQ 47.609375 58.5 49.21875 52.21875 \r\nQ 50.828125 45.953125 50.828125 35.296875 \r\nQ 50.828125 22.703125 48.234375 14.96875 \r\nQ 45.65625 7.234375 40.5 3 \r\nQ 35.359375 -1.21875 27.484375 -1.21875 \r\nQ 17.140625 -1.21875 11.234375 6.203125 \r\nQ 4.15625 15.140625 4.15625 35.296875 \r\nz\r\nM 13.1875 35.296875 \r\nQ 13.1875 17.671875 17.3125 11.828125 \r\nQ 21.4375 6 27.484375 6 \r\nQ 33.546875 6 37.671875 11.859375 \r\nQ 41.796875 17.71875 41.796875 35.296875 \r\nQ 41.796875 52.984375 37.671875 58.78125 \r\nQ 33.546875 64.59375 27.390625 64.59375 \r\nQ 21.34375 64.59375 17.71875 59.46875 \r\nQ 13.1875 52.9375 13.1875 35.296875 \r\nz\r\n\" id=\"ArialMT-48\"/>\r\n        <path d=\"M 9.078125 0 \r\nL 9.078125 10.015625 \r\nL 19.09375 10.015625 \r\nL 19.09375 0 \r\nz\r\n\" id=\"ArialMT-46\"/>\r\n       </defs>\r\n       <use xlink:href=\"#ArialMT-48\"/>\r\n       <use x=\"55.615234\" xlink:href=\"#ArialMT-46\"/>\r\n       <use x=\"83.398438\" xlink:href=\"#ArialMT-48\"/>\r\n      </g>\r\n     </g>\r\n    </g>\r\n    <g id=\"ytick_2\">\r\n     <g id=\"line2d_7\">\r\n      <path clip-path=\"url(#p271aa21d7e)\" d=\"M 46.97375 196.592488 \r\nL 381.77375 196.592488 \r\n\" style=\"fill:none;stroke:#cccccc;stroke-linecap:round;\"/>\r\n     </g>\r\n     <g id=\"text_7\">\r\n      <!-- 0.5 -->\r\n      <g style=\"fill:#262626;\" transform=\"translate(22.18375 200.529285)scale(0.11 -0.11)\">\r\n       <defs>\r\n        <path d=\"M 4.15625 18.75 \r\nL 13.375 19.53125 \r\nQ 14.40625 12.796875 18.140625 9.390625 \r\nQ 21.875 6 27.15625 6 \r\nQ 33.5 6 37.890625 10.78125 \r\nQ 42.28125 15.578125 42.28125 23.484375 \r\nQ 42.28125 31 38.0625 35.34375 \r\nQ 33.84375 39.703125 27 39.703125 \r\nQ 22.75 39.703125 19.328125 37.765625 \r\nQ 15.921875 35.84375 13.96875 32.765625 \r\nL 5.71875 33.84375 \r\nL 12.640625 70.609375 \r\nL 48.25 70.609375 \r\nL 48.25 62.203125 \r\nL 19.671875 62.203125 \r\nL 15.828125 42.96875 \r\nQ 22.265625 47.46875 29.34375 47.46875 \r\nQ 38.71875 47.46875 45.15625 40.96875 \r\nQ 51.609375 34.46875 51.609375 24.265625 \r\nQ 51.609375 14.546875 45.953125 7.46875 \r\nQ 39.0625 -1.21875 27.15625 -1.21875 \r\nQ 17.390625 -1.21875 11.203125 4.25 \r\nQ 5.03125 9.71875 4.15625 18.75 \r\nz\r\n\" id=\"ArialMT-53\"/>\r\n       </defs>\r\n       <use xlink:href=\"#ArialMT-48\"/>\r\n       <use x=\"55.615234\" xlink:href=\"#ArialMT-46\"/>\r\n       <use x=\"83.398438\" xlink:href=\"#ArialMT-53\"/>\r\n      </g>\r\n     </g>\r\n    </g>\r\n    <g id=\"ytick_3\">\r\n     <g id=\"line2d_8\">\r\n      <path clip-path=\"url(#p271aa21d7e)\" d=\"M 46.97375 153.801852 \r\nL 381.77375 153.801852 \r\n\" style=\"fill:none;stroke:#cccccc;stroke-linecap:round;\"/>\r\n     </g>\r\n     <g id=\"text_8\">\r\n      <!-- 1.0 -->\r\n      <g style=\"fill:#262626;\" transform=\"translate(22.18375 157.738648)scale(0.11 -0.11)\">\r\n       <defs>\r\n        <path d=\"M 37.25 0 \r\nL 28.46875 0 \r\nL 28.46875 56 \r\nQ 25.296875 52.984375 20.140625 49.953125 \r\nQ 14.984375 46.921875 10.890625 45.40625 \r\nL 10.890625 53.90625 \r\nQ 18.265625 57.375 23.78125 62.296875 \r\nQ 29.296875 67.234375 31.59375 71.875 \r\nL 37.25 71.875 \r\nz\r\n\" id=\"ArialMT-49\"/>\r\n       </defs>\r\n       <use xlink:href=\"#ArialMT-49\"/>\r\n       <use x=\"55.615234\" xlink:href=\"#ArialMT-46\"/>\r\n       <use x=\"83.398438\" xlink:href=\"#ArialMT-48\"/>\r\n      </g>\r\n     </g>\r\n    </g>\r\n    <g id=\"ytick_4\">\r\n     <g id=\"line2d_9\">\r\n      <path clip-path=\"url(#p271aa21d7e)\" d=\"M 46.97375 111.011215 \r\nL 381.77375 111.011215 \r\n\" style=\"fill:none;stroke:#cccccc;stroke-linecap:round;\"/>\r\n     </g>\r\n     <g id=\"text_9\">\r\n      <!-- 1.5 -->\r\n      <g style=\"fill:#262626;\" transform=\"translate(22.18375 114.948012)scale(0.11 -0.11)\">\r\n       <use xlink:href=\"#ArialMT-49\"/>\r\n       <use x=\"55.615234\" xlink:href=\"#ArialMT-46\"/>\r\n       <use x=\"83.398438\" xlink:href=\"#ArialMT-53\"/>\r\n      </g>\r\n     </g>\r\n    </g>\r\n    <g id=\"ytick_5\">\r\n     <g id=\"line2d_10\">\r\n      <path clip-path=\"url(#p271aa21d7e)\" d=\"M 46.97375 68.220578 \r\nL 381.77375 68.220578 \r\n\" style=\"fill:none;stroke:#cccccc;stroke-linecap:round;\"/>\r\n     </g>\r\n     <g id=\"text_10\">\r\n      <!-- 2.0 -->\r\n      <g style=\"fill:#262626;\" transform=\"translate(22.18375 72.157375)scale(0.11 -0.11)\">\r\n       <defs>\r\n        <path d=\"M 50.34375 8.453125 \r\nL 50.34375 0 \r\nL 3.03125 0 \r\nQ 2.9375 3.171875 4.046875 6.109375 \r\nQ 5.859375 10.9375 9.828125 15.625 \r\nQ 13.8125 20.3125 21.34375 26.46875 \r\nQ 33.015625 36.03125 37.109375 41.625 \r\nQ 41.21875 47.21875 41.21875 52.203125 \r\nQ 41.21875 57.421875 37.46875 61 \r\nQ 33.734375 64.59375 27.734375 64.59375 \r\nQ 21.390625 64.59375 17.578125 60.78125 \r\nQ 13.765625 56.984375 13.71875 50.25 \r\nL 4.6875 51.171875 \r\nQ 5.609375 61.28125 11.65625 66.578125 \r\nQ 17.71875 71.875 27.9375 71.875 \r\nQ 38.234375 71.875 44.234375 66.15625 \r\nQ 50.25 60.453125 50.25 52 \r\nQ 50.25 47.703125 48.484375 43.546875 \r\nQ 46.734375 39.40625 42.65625 34.8125 \r\nQ 38.578125 30.21875 29.109375 22.21875 \r\nQ 21.1875 15.578125 18.9375 13.203125 \r\nQ 16.703125 10.84375 15.234375 8.453125 \r\nz\r\n\" id=\"ArialMT-50\"/>\r\n       </defs>\r\n       <use xlink:href=\"#ArialMT-50\"/>\r\n       <use x=\"55.615234\" xlink:href=\"#ArialMT-46\"/>\r\n       <use x=\"83.398438\" xlink:href=\"#ArialMT-48\"/>\r\n      </g>\r\n     </g>\r\n    </g>\r\n    <g id=\"ytick_6\">\r\n     <g id=\"line2d_11\">\r\n      <path clip-path=\"url(#p271aa21d7e)\" d=\"M 46.97375 25.429941 \r\nL 381.77375 25.429941 \r\n\" style=\"fill:none;stroke:#cccccc;stroke-linecap:round;\"/>\r\n     </g>\r\n     <g id=\"text_11\">\r\n      <!-- 2.5 -->\r\n      <g style=\"fill:#262626;\" transform=\"translate(22.18375 29.366738)scale(0.11 -0.11)\">\r\n       <use xlink:href=\"#ArialMT-50\"/>\r\n       <use x=\"55.615234\" xlink:href=\"#ArialMT-46\"/>\r\n       <use x=\"83.398438\" xlink:href=\"#ArialMT-53\"/>\r\n      </g>\r\n     </g>\r\n    </g>\r\n    <g id=\"text_12\">\r\n     <!-- Número de Inscrição -->\r\n     <g style=\"fill:#262626;\" transform=\"translate(15.79875 186.015938)rotate(-90)scale(0.12 -0.12)\">\r\n      <defs>\r\n       <path d=\"M 7.625 0 \r\nL 7.625 71.578125 \r\nL 17.328125 71.578125 \r\nL 54.9375 15.375 \r\nL 54.9375 71.578125 \r\nL 64.015625 71.578125 \r\nL 64.015625 0 \r\nL 54.296875 0 \r\nL 16.703125 56.25 \r\nL 16.703125 0 \r\nz\r\n\" id=\"ArialMT-78\"/>\r\n       <path d=\"M 9.328125 0 \r\nL 9.328125 71.578125 \r\nL 18.796875 71.578125 \r\nL 18.796875 0 \r\nz\r\n\" id=\"ArialMT-73\"/>\r\n       <path d=\"M 40.4375 19 \r\nL 49.078125 17.875 \r\nQ 47.65625 8.9375 41.8125 3.875 \r\nQ 35.984375 -1.171875 27.484375 -1.171875 \r\nQ 16.84375 -1.171875 10.375 5.78125 \r\nQ 3.90625 12.75 3.90625 25.734375 \r\nQ 3.90625 34.125 6.6875 40.421875 \r\nQ 9.46875 46.734375 15.15625 49.875 \r\nQ 20.84375 53.03125 27.546875 53.03125 \r\nQ 35.984375 53.03125 41.359375 48.75 \r\nQ 46.734375 44.484375 48.25 36.625 \r\nL 39.703125 35.296875 \r\nQ 38.484375 40.53125 35.375 43.15625 \r\nQ 32.28125 45.796875 27.875 45.796875 \r\nQ 21.234375 45.796875 17.078125 41.03125 \r\nQ 12.9375 36.28125 12.9375 25.984375 \r\nQ 12.9375 15.53125 16.9375 10.796875 \r\nQ 20.953125 6.0625 27.390625 6.0625 \r\nQ 32.5625 6.0625 36.03125 9.234375 \r\nQ 39.5 12.40625 40.4375 19 \r\nz\r\nM 20.046875 -6.515625 \r\nL 22.59375 2.125 \r\nL 29.125 2.125 \r\nL 27.515625 -3.109375 \r\nQ 31.671875 -3.59375 33.765625 -5.65625 \r\nQ 35.875 -7.734375 35.875 -10.28125 \r\nQ 35.875 -13.9375 32.359375 -16.75 \r\nQ 28.84375 -19.5625 21.75 -19.5625 \r\nQ 17.75 -19.5625 14.71875 -18.96875 \r\nL 15.265625 -13.265625 \r\nQ 18.390625 -13.453125 19.859375 -13.453125 \r\nQ 24.4375 -13.453125 26.296875 -12.1875 \r\nQ 27.71875 -11.203125 27.71875 -9.796875 \r\nQ 27.71875 -8.90625 27.15625 -8.21875 \r\nQ 26.59375 -7.546875 25.078125 -7.046875 \r\nQ 23.5625 -6.5625 20.046875 -6.515625 \r\nz\r\n\" id=\"ArialMT-231\"/>\r\n       <path d=\"M 40.4375 6.390625 \r\nQ 35.546875 2.25 31.03125 0.53125 \r\nQ 26.515625 -1.171875 21.34375 -1.171875 \r\nQ 12.796875 -1.171875 8.203125 3 \r\nQ 3.609375 7.171875 3.609375 13.671875 \r\nQ 3.609375 17.484375 5.34375 20.625 \r\nQ 7.078125 23.78125 9.890625 25.6875 \r\nQ 12.703125 27.59375 16.21875 28.5625 \r\nQ 18.796875 29.25 24.03125 29.890625 \r\nQ 34.671875 31.15625 39.703125 32.90625 \r\nQ 39.75 34.71875 39.75 35.203125 \r\nQ 39.75 40.578125 37.25 42.78125 \r\nQ 33.890625 45.75 27.25 45.75 \r\nQ 21.046875 45.75 18.09375 43.578125 \r\nQ 15.140625 41.40625 13.71875 35.890625 \r\nL 5.125 37.0625 \r\nQ 6.296875 42.578125 8.984375 45.96875 \r\nQ 11.671875 49.359375 16.75 51.1875 \r\nQ 21.828125 53.03125 28.515625 53.03125 \r\nQ 35.15625 53.03125 39.296875 51.46875 \r\nQ 43.453125 49.90625 45.40625 47.53125 \r\nQ 47.359375 45.171875 48.140625 41.546875 \r\nQ 48.578125 39.3125 48.578125 33.453125 \r\nL 48.578125 21.734375 \r\nQ 48.578125 9.46875 49.140625 6.21875 \r\nQ 49.703125 2.984375 51.375 0 \r\nL 42.1875 0 \r\nQ 40.828125 2.734375 40.4375 6.390625 \r\nz\r\nM 39.703125 26.03125 \r\nQ 34.90625 24.078125 25.34375 22.703125 \r\nQ 19.921875 21.921875 17.671875 20.9375 \r\nQ 15.4375 19.96875 14.203125 18.09375 \r\nQ 12.984375 16.21875 12.984375 13.921875 \r\nQ 12.984375 10.40625 15.640625 8.0625 \r\nQ 18.3125 5.71875 23.4375 5.71875 \r\nQ 28.515625 5.71875 32.46875 7.9375 \r\nQ 36.421875 10.15625 38.28125 14.015625 \r\nQ 39.703125 17 39.703125 22.796875 \r\nz\r\nM 11.21875 59.515625 \r\nQ 11.171875 64.59375 14 67.625 \r\nQ 16.78125 70.65625 21.125 70.65625 \r\nQ 24.15625 70.65625 29.375 68.015625 \r\nQ 32.265625 66.546875 33.96875 66.546875 \r\nQ 35.53125 66.546875 36.359375 67.40625 \r\nQ 37.1875 68.265625 37.53125 70.796875 \r\nL 43.890625 70.796875 \r\nQ 43.734375 65.234375 41.078125 62.453125 \r\nQ 38.421875 59.671875 34.3125 59.671875 \r\nQ 31.234375 59.671875 26.203125 62.40625 \r\nQ 22.9375 64.15625 21.421875 64.15625 \r\nQ 19.765625 64.15625 18.734375 62.984375 \r\nQ 17.65625 61.8125 17.71875 59.515625 \r\nz\r\n\" id=\"ArialMT-227\"/>\r\n      </defs>\r\n      <use xlink:href=\"#ArialMT-78\"/>\r\n      <use x=\"72.216797\" xlink:href=\"#ArialMT-250\"/>\r\n      <use x=\"127.832031\" xlink:href=\"#ArialMT-109\"/>\r\n      <use x=\"211.132812\" xlink:href=\"#ArialMT-101\"/>\r\n      <use x=\"266.748047\" xlink:href=\"#ArialMT-114\"/>\r\n      <use x=\"300.048828\" xlink:href=\"#ArialMT-111\"/>\r\n      <use x=\"355.664062\" xlink:href=\"#ArialMT-32\"/>\r\n      <use x=\"383.447266\" xlink:href=\"#ArialMT-100\"/>\r\n      <use x=\"439.0625\" xlink:href=\"#ArialMT-101\"/>\r\n      <use x=\"494.677734\" xlink:href=\"#ArialMT-32\"/>\r\n      <use x=\"522.460938\" xlink:href=\"#ArialMT-73\"/>\r\n      <use x=\"550.244141\" xlink:href=\"#ArialMT-110\"/>\r\n      <use x=\"605.859375\" xlink:href=\"#ArialMT-115\"/>\r\n      <use x=\"655.859375\" xlink:href=\"#ArialMT-99\"/>\r\n      <use x=\"705.859375\" xlink:href=\"#ArialMT-114\"/>\r\n      <use x=\"739.160156\" xlink:href=\"#ArialMT-105\"/>\r\n      <use x=\"761.376953\" xlink:href=\"#ArialMT-231\"/>\r\n      <use x=\"811.376953\" xlink:href=\"#ArialMT-227\"/>\r\n      <use x=\"866.992188\" xlink:href=\"#ArialMT-111\"/>\r\n     </g>\r\n    </g>\r\n    <g id=\"text_13\">\r\n     <!-- 1e7 -->\r\n     <g style=\"fill:#262626;\" transform=\"translate(46.97375 18.943125)scale(0.11 -0.11)\">\r\n      <defs>\r\n       <path d=\"M 4.734375 62.203125 \r\nL 4.734375 70.65625 \r\nL 51.078125 70.65625 \r\nL 51.078125 63.8125 \r\nQ 44.234375 56.546875 37.515625 44.484375 \r\nQ 30.8125 32.421875 27.15625 19.671875 \r\nQ 24.515625 10.6875 23.78125 0 \r\nL 14.75 0 \r\nQ 14.890625 8.453125 18.0625 20.40625 \r\nQ 21.234375 32.375 27.171875 43.484375 \r\nQ 33.109375 54.59375 39.796875 62.203125 \r\nz\r\n\" id=\"ArialMT-55\"/>\r\n      </defs>\r\n      <use xlink:href=\"#ArialMT-49\"/>\r\n      <use x=\"55.615234\" xlink:href=\"#ArialMT-101\"/>\r\n      <use x=\"111.230469\" xlink:href=\"#ArialMT-55\"/>\r\n     </g>\r\n    </g>\r\n   </g>\r\n   <g id=\"patch_3\">\r\n    <path clip-path=\"url(#p271aa21d7e)\" d=\"M 63.71375 239.383125 \r\nL 97.19375 239.383125 \r\nL 97.19375 32.297411 \r\nL 63.71375 32.297411 \r\nz\r\n\" style=\"fill:#4c72b0;stroke:#ffffff;stroke-linejoin:miter;\"/>\r\n   </g>\r\n   <g id=\"patch_4\">\r\n    <path clip-path=\"url(#p271aa21d7e)\" d=\"M 130.67375 239.383125 \r\nL 164.15375 239.383125 \r\nL 164.15375 176.480085 \r\nL 130.67375 176.480085 \r\nz\r\n\" style=\"fill:#4c72b0;stroke:#ffffff;stroke-linejoin:miter;\"/>\r\n   </g>\r\n   <g id=\"patch_5\">\r\n    <path clip-path=\"url(#p271aa21d7e)\" d=\"M 197.63375 239.383125 \r\nL 231.11375 239.383125 \r\nL 231.11375 229.119474 \r\nL 197.63375 229.119474 \r\nz\r\n\" style=\"fill:#4c72b0;stroke:#ffffff;stroke-linejoin:miter;\"/>\r\n   </g>\r\n   <g id=\"patch_6\">\r\n    <path clip-path=\"url(#p271aa21d7e)\" d=\"M 264.59375 239.383125 \r\nL 298.07375 239.383125 \r\nL 298.07375 232.281454 \r\nL 264.59375 232.281454 \r\nz\r\n\" style=\"fill:#4c72b0;stroke:#ffffff;stroke-linejoin:miter;\"/>\r\n   </g>\r\n   <g id=\"patch_7\">\r\n    <path clip-path=\"url(#p271aa21d7e)\" d=\"M 331.55375 239.383125 \r\nL 365.03375 239.383125 \r\nL 365.03375 238.207196 \r\nL 331.55375 238.207196 \r\nz\r\n\" style=\"fill:#4c72b0;stroke:#ffffff;stroke-linejoin:miter;\"/>\r\n   </g>\r\n   <g id=\"patch_8\">\r\n    <path d=\"M 46.97375 239.383125 \r\nL 46.97375 21.943125 \r\n\" style=\"fill:none;stroke:#cccccc;stroke-linecap:square;stroke-linejoin:miter;stroke-width:1.25;\"/>\r\n   </g>\r\n   <g id=\"patch_9\">\r\n    <path d=\"M 381.77375 239.383125 \r\nL 381.77375 21.943125 \r\n\" style=\"fill:none;stroke:#cccccc;stroke-linecap:square;stroke-linejoin:miter;stroke-width:1.25;\"/>\r\n   </g>\r\n   <g id=\"patch_10\">\r\n    <path d=\"M 46.97375 239.383125 \r\nL 381.77375 239.383125 \r\n\" style=\"fill:none;stroke:#cccccc;stroke-linecap:square;stroke-linejoin:miter;stroke-width:1.25;\"/>\r\n   </g>\r\n   <g id=\"patch_11\">\r\n    <path d=\"M 46.97375 21.943125 \r\nL 381.77375 21.943125 \r\n\" style=\"fill:none;stroke:#cccccc;stroke-linecap:square;stroke-linejoin:miter;stroke-width:1.25;\"/>\r\n   </g>\r\n   <g id=\"text_14\">\r\n    <!-- Quantidade de inscriçoes por Estado Civil. -->\r\n    <g style=\"fill:#262626;\" transform=\"translate(101.320625 15.943125)scale(0.12 -0.12)\">\r\n     <defs>\r\n      <path d=\"M 61.96875 7.671875 \r\nQ 68.5625 3.125 74.125 1.03125 \r\nL 71.34375 -5.5625 \r\nQ 63.625 -2.78125 55.953125 3.21875 \r\nQ 48 -1.21875 38.375 -1.21875 \r\nQ 28.65625 -1.21875 20.75 3.46875 \r\nQ 12.84375 8.15625 8.5625 16.640625 \r\nQ 4.296875 25.140625 4.296875 35.796875 \r\nQ 4.296875 46.390625 8.59375 55.078125 \r\nQ 12.890625 63.765625 20.828125 68.3125 \r\nQ 28.765625 72.859375 38.578125 72.859375 \r\nQ 48.484375 72.859375 56.4375 68.140625 \r\nQ 64.40625 63.421875 68.578125 54.953125 \r\nQ 72.75 46.484375 72.75 35.84375 \r\nQ 72.75 27 70.0625 19.9375 \r\nQ 67.390625 12.890625 61.96875 7.671875 \r\nz\r\nM 41.109375 19.78125 \r\nQ 49.3125 17.484375 54.640625 12.9375 \r\nQ 62.984375 20.5625 62.984375 35.84375 \r\nQ 62.984375 44.53125 60.03125 51.015625 \r\nQ 57.078125 57.515625 51.390625 61.109375 \r\nQ 45.703125 64.703125 38.625 64.703125 \r\nQ 28.03125 64.703125 21.046875 57.453125 \r\nQ 14.0625 50.203125 14.0625 35.796875 \r\nQ 14.0625 21.828125 20.96875 14.359375 \r\nQ 27.875 6.890625 38.625 6.890625 \r\nQ 43.703125 6.890625 48.1875 8.796875 \r\nQ 43.75 11.671875 38.8125 12.890625 \r\nz\r\n\" id=\"ArialMT-81\"/>\r\n     </defs>\r\n     <use xlink:href=\"#ArialMT-81\"/>\r\n     <use x=\"77.783203\" xlink:href=\"#ArialMT-117\"/>\r\n     <use x=\"133.398438\" xlink:href=\"#ArialMT-97\"/>\r\n     <use x=\"189.013672\" xlink:href=\"#ArialMT-110\"/>\r\n     <use x=\"244.628906\" xlink:href=\"#ArialMT-116\"/>\r\n     <use x=\"272.412109\" xlink:href=\"#ArialMT-105\"/>\r\n     <use x=\"294.628906\" xlink:href=\"#ArialMT-100\"/>\r\n     <use x=\"350.244141\" xlink:href=\"#ArialMT-97\"/>\r\n     <use x=\"405.859375\" xlink:href=\"#ArialMT-100\"/>\r\n     <use x=\"461.474609\" xlink:href=\"#ArialMT-101\"/>\r\n     <use x=\"517.089844\" xlink:href=\"#ArialMT-32\"/>\r\n     <use x=\"544.873047\" xlink:href=\"#ArialMT-100\"/>\r\n     <use x=\"600.488281\" xlink:href=\"#ArialMT-101\"/>\r\n     <use x=\"656.103516\" xlink:href=\"#ArialMT-32\"/>\r\n     <use x=\"683.886719\" xlink:href=\"#ArialMT-105\"/>\r\n     <use x=\"706.103516\" xlink:href=\"#ArialMT-110\"/>\r\n     <use x=\"761.71875\" xlink:href=\"#ArialMT-115\"/>\r\n     <use x=\"811.71875\" xlink:href=\"#ArialMT-99\"/>\r\n     <use x=\"861.71875\" xlink:href=\"#ArialMT-114\"/>\r\n     <use x=\"895.019531\" xlink:href=\"#ArialMT-105\"/>\r\n     <use x=\"917.236328\" xlink:href=\"#ArialMT-231\"/>\r\n     <use x=\"967.236328\" xlink:href=\"#ArialMT-111\"/>\r\n     <use x=\"1022.851562\" xlink:href=\"#ArialMT-101\"/>\r\n     <use x=\"1078.466797\" xlink:href=\"#ArialMT-115\"/>\r\n     <use x=\"1128.466797\" xlink:href=\"#ArialMT-32\"/>\r\n     <use x=\"1156.25\" xlink:href=\"#ArialMT-112\"/>\r\n     <use x=\"1211.865234\" xlink:href=\"#ArialMT-111\"/>\r\n     <use x=\"1267.480469\" xlink:href=\"#ArialMT-114\"/>\r\n     <use x=\"1300.78125\" xlink:href=\"#ArialMT-32\"/>\r\n     <use x=\"1328.564453\" xlink:href=\"#ArialMT-69\"/>\r\n     <use x=\"1395.263672\" xlink:href=\"#ArialMT-115\"/>\r\n     <use x=\"1445.263672\" xlink:href=\"#ArialMT-116\"/>\r\n     <use x=\"1473.046875\" xlink:href=\"#ArialMT-97\"/>\r\n     <use x=\"1528.662109\" xlink:href=\"#ArialMT-100\"/>\r\n     <use x=\"1584.277344\" xlink:href=\"#ArialMT-111\"/>\r\n     <use x=\"1639.892578\" xlink:href=\"#ArialMT-32\"/>\r\n     <use x=\"1667.675781\" xlink:href=\"#ArialMT-67\"/>\r\n     <use x=\"1739.892578\" xlink:href=\"#ArialMT-105\"/>\r\n     <use x=\"1762.109375\" xlink:href=\"#ArialMT-118\"/>\r\n     <use x=\"1812.109375\" xlink:href=\"#ArialMT-105\"/>\r\n     <use x=\"1834.326172\" xlink:href=\"#ArialMT-108\"/>\r\n     <use x=\"1856.542969\" xlink:href=\"#ArialMT-46\"/>\r\n    </g>\r\n   </g>\r\n  </g>\r\n </g>\r\n <defs>\r\n  <clipPath id=\"p271aa21d7e\">\r\n   <rect height=\"217.44\" width=\"334.8\" x=\"46.97375\" y=\"21.943125\"/>\r\n  </clipPath>\r\n </defs>\r\n</svg>\r\n",
      "image/png": "[encoded data removed]"
     },
     "metadata": {}
    }
   ],
   "source": [
    "print('Quantidade de inscriçoes por Estado Civil.')\n",
    "print('')\n",
    "print(f'Consulta inciada -  {datetime.now()}')\n",
    "\n",
    "# Apresentando os valores da consulta SQL no Spark\n",
    "sqlContext.sql('SELECT ESTADO_CIVIL, COUNT(*) AS QTDE_INSCRICAO, ROUND((COUNT(*)/(SELECT COUNT(*)/100 FROM enemtb)),2) AS PERCENTUAL FROM enemtb GROUP BY ESTADO_CIVIL ORDER BY COUNT(*) DESC').show(truncate = False)\n",
    "\n",
    "# Criação do dataframe com os valores selecionados\n",
    "df_grafico = sqlContext.sql('SELECT ESTADO_CIVIL, COUNT(*) AS QTDE_INSCRICAO, ROUND((COUNT(*)/(SELECT COUNT(*)/100 FROM enemtb)),2) AS PERCENTUAL FROM enemtb GROUP BY ESTADO_CIVIL ORDER BY COUNT(*) DESC').toPandas()\n",
    "\n",
    "# Apresentando o grafico do Dataframe df_grafico.\n",
    "df_grafico.plot(kind='bar', x='ESTADO_CIVIL', y='QTDE_INSCRICAO', legend=False)\n",
    "plt.title('Quantidade de inscriçoes por Estado Civil.')\n",
    "plt.xlabel('Estado Civil',)\n",
    "plt.ylabel('Número de Inscrição')\n",
    "\n",
    "print(f'Consulta realizada com sucesso -  {datetime.now()}')"
   ]
  },
  {
   "cell_type": "code",
   "execution_count": 102,
   "metadata": {
    "tags": []
   },
   "outputs": [
    {
     "output_type": "stream",
     "name": "stdout",
     "text": "Quantidade de inscriçoes por Estado Civil por Ano.\n\nConsulta inciada -  2020-09-02 18:39:44.137977\n+----+---------------------------------------+--------------+----------+\n|ANO |ESTADO_CIVIL                           |QTDE_INSCRICAO|PERCENTUAL|\n+----+---------------------------------------+--------------+----------+\n|2015|Solteiro                               |6417079       |19.03     |\n|2015|Casado(a)/Mora com companheiro(a)      |866112        |2.57      |\n|2015|                                       |323232        |0.96      |\n|2015|Divorciado(a)/Desquitado(a)/Separado(a)|124427        |0.37      |\n|2015|Viúvo(a)                               |15577         |0.05      |\n|2016|Solteiro                               |7144455       |21.19     |\n|2016|Casado(a)/Mora com companheiro(a)      |947502        |2.81      |\n|2016|                                       |380541        |1.13      |\n|2016|Divorciado(a)/Desquitado(a)/Separado(a)|138765        |0.41      |\n|2016|Viúvo(a)                               |16104         |0.05      |\n|2017|Solteiro                               |5680562       |16.85     |\n|2017|Casado(a)/Mora com companheiro(a)      |669750        |1.99      |\n|2017|                                       |271641        |0.81      |\n|2017|Divorciado(a)/Desquitado(a)/Separado(a)|98879         |0.29      |\n|2017|Viúvo(a)                               |10509         |0.03      |\n|2018|Solteiro                               |4748654       |14.09     |\n|2018|Casado(a)/Mora com companheiro(a)      |468245        |1.39      |\n|2018|                                       |217637        |0.65      |\n|2018|Divorciado(a)/Desquitado(a)/Separado(a)|71890         |0.21      |\n|2018|Viúvo(a)                               |7321          |0.02      |\n|2019|Casado(a)/Mora com companheiro(a)      |4398485       |13.05     |\n|2019|Divorciado(a)/Desquitado(a)/Separado(a)|395855        |1.17      |\n|2019|Solteiro                               |206800        |0.61      |\n|2019|Viúvo(a)                               |87894         |0.26      |\n|2019|                                       |6236          |0.02      |\n+----+---------------------------------------+--------------+----------+\n\nConsulta realizada com sucesso -  2020-09-02 18:42:51.830078\n"
    }
   ],
   "source": [
    "print('Quantidade de inscriçoes por Estado Civil por Ano.')\n",
    "print('')\n",
    "print(f'Consulta inciada -  {datetime.now()}')\n",
    "\n",
    "sqlContext.sql('SELECT NU_ANO AS ANO, ESTADO_CIVIL, COUNT(*) AS QTDE_INSCRICAO, ROUND((COUNT(*)/(SELECT COUNT(*)/100 FROM enemtb)),2) AS PERCENTUAL FROM enemtb GROUP BY NU_ANO, ESTADO_CIVIL ORDER BY NU_ANO, COUNT(*) DESC').show(30, truncate = False)\n",
    "\n",
    "print(f'Consulta realizada com sucesso -  {datetime.now()}')"
   ]
  },
  {
   "cell_type": "code",
   "execution_count": 103,
   "metadata": {
    "tags": []
   },
   "outputs": [
    {
     "output_type": "stream",
     "name": "stdout",
     "text": "Quantidade de inscriçoes por Raça.\n\nConsulta inciada -  2020-09-02 18:42:51.893907\n+-------------+--------------+----------+\n|         RACA|QTDE_INSCRICAO|PERCENTUAL|\n+-------------+--------------+----------+\n|        Parda|      15612687|     46.31|\n|       Branca|      12059987|     35.77|\n|        Preta|       4411602|     13.09|\n|      Amarela|        766447|      2.27|\n|Não declarado|        634299|      1.88|\n|    Indígena |        208649|      0.62|\n|             |         20481|      0.06|\n+-------------+--------------+----------+\n\nConsulta realizada com sucesso -  2020-09-02 18:45:52.525893\n"
    }
   ],
   "source": [
    "print('Quantidade de inscriçoes por Raça.')\n",
    "print('')\n",
    "print(f'Consulta inciada -  {datetime.now()}')\n",
    "\n",
    "sqlContext.sql('SELECT RACA, COUNT(*) AS QTDE_INSCRICAO, ROUND((COUNT(*)/(SELECT COUNT(*)/100 FROM enemtb)),2) AS PERCENTUAL FROM enemtb GROUP BY RACA ORDER BY COUNT(*) DESC').show()\n",
    "\n",
    "print(f'Consulta realizada com sucesso -  {datetime.now()}')"
   ]
  },
  {
   "cell_type": "code",
   "execution_count": 104,
   "metadata": {
    "tags": []
   },
   "outputs": [
    {
     "output_type": "stream",
     "name": "stdout",
     "text": "Quantidade de inscriçoes por Raça por Ano.\n\nConsulta inciada -  2020-09-02 18:45:52.544842\n+----+-------------+--------------+----------+\n| ANO|         RACA|QTDE_INSCRICAO|PERCENTUAL|\n+----+-------------+--------------+----------+\n|2015|        Parda|       3528864|     10.47|\n|2015|       Branca|       2843817|      8.44|\n|2015|        Preta|       1013917|      3.01|\n|2015|      Amarela|        170228|       0.5|\n|2015|Não declarado|        124527|      0.37|\n|2015|    Indígena |         44806|      0.13|\n|2015|             |         20268|      0.06|\n|2016|        Parda|       4003922|     11.88|\n|2016|       Branca|       3047482|      9.04|\n|2016|        Preta|       1155766|      3.43|\n|2016|      Amarela|        201102|       0.6|\n|2016|Não declarado|        164629|      0.49|\n|2016|    Indígena |         54253|      0.16|\n|2016|             |           213|       0.0|\n|2017|        Parda|       3154520|      9.36|\n|2017|       Branca|       2355252|      6.99|\n|2017|        Preta|        894916|      2.65|\n|2017|      Amarela|        155344|      0.46|\n|2017|Não declarado|        127508|      0.38|\n|2017|    Indígena |         43801|      0.13|\n|2018|        Parda|       2561318|       7.6|\n|2018|       Branca|       1981657|      5.88|\n|2018|        Preta|        698694|      2.07|\n|2018|      Amarela|        123611|      0.37|\n|2018|Não declarado|        114434|      0.34|\n|2018|    Indígena |         34033|       0.1|\n|2019|        Parda|       2364063|      7.01|\n|2019|       Branca|       1831779|      5.43|\n|2019|        Preta|        648309|      1.92|\n|2019|      Amarela|        116162|      0.34|\n|2019|Não declarado|        103201|      0.31|\n|2019|    Indígena |         31756|      0.09|\n+----+-------------+--------------+----------+\n\nConsulta realizada com sucesso -  2020-09-02 18:48:58.060381\n"
    }
   ],
   "source": [
    "print('Quantidade de inscriçoes por Raça por Ano.')\n",
    "print('')\n",
    "print(f'Consulta inciada -  {datetime.now()}')\n",
    "\n",
    "sqlContext.sql('SELECT NU_ANO AS ANO, RACA, COUNT(*) AS QTDE_INSCRICAO, ROUND((COUNT(*)/(SELECT COUNT(*)/100 FROM enemtb)),2) AS PERCENTUAL FROM enemtb GROUP BY NU_ANO, RACA ORDER BY NU_ANO, COUNT(*) DESC').show(40)\n",
    "\n",
    "print(f'Consulta realizada com sucesso -  {datetime.now()}')"
   ]
  },
  {
   "cell_type": "code",
   "execution_count": 105,
   "metadata": {
    "tags": []
   },
   "outputs": [
    {
     "output_type": "stream",
     "name": "stdout",
     "text": "Quantidade de inscriçoes por Nacionalidade.\n\nConsulta inciada -  2020-09-02 18:48:58.115233\n+---------------------------------------------+--------------+----------+\n|NACIONALIDADE                                |QTDE_INSCRICAO|PERCENTUAL|\n+---------------------------------------------+--------------+----------+\n|Brasileiro(a)                                |32435187      |96.21     |\n|Brasileiro(a) Naturalizado(a)                |1135510       |3.37      |\n|Brasileiro(a) Nato(a), nascido(a) no exterior|85678         |0.25      |\n|Estrangeiro(a)                               |40436         |0.12      |\n|Não informado                                |17341         |0.05      |\n+---------------------------------------------+--------------+----------+\n\nConsulta realizada com sucesso -  2020-09-02 18:52:11.152630\n"
    }
   ],
   "source": [
    "print('Quantidade de inscriçoes por Nacionalidade.')\n",
    "print('')\n",
    "print(f'Consulta inciada -  {datetime.now()}')\n",
    "\n",
    "sqlContext.sql('SELECT NACIONALIDADE, COUNT(*) AS QTDE_INSCRICAO, ROUND((COUNT(*)/(SELECT COUNT(*)/100 FROM enemtb)),2) AS PERCENTUAL FROM enemtb GROUP BY NACIONALIDADE ORDER BY COUNT(*) DESC').show(truncate = False)\n",
    "\n",
    "print(f'Consulta realizada com sucesso -  {datetime.now()}')"
   ]
  },
  {
   "cell_type": "code",
   "execution_count": 106,
   "metadata": {
    "tags": []
   },
   "outputs": [
    {
     "output_type": "stream",
     "name": "stdout",
     "text": "Quantidade de inscriçoes por Nacionalidade por Ano.\n\nConsulta inciada -  2020-09-02 18:52:11.172577\n+----+---------------------------------------------+----------+\n|ANO |NACIONALIDADE                                |PERCENTUAL|\n+----+---------------------------------------------+----------+\n|2015|Brasileiro(a)                                |22.04     |\n|2015|Brasileiro(a) Naturalizado(a)                |0.83      |\n|2015|Brasileiro(a) Nato(a), nascido(a) no exterior|0.07      |\n|2015|Estrangeiro(a)                               |0.03      |\n|2015|Não informado                                |0.01      |\n|2016|Brasileiro(a)                                |24.4      |\n|2016|Brasileiro(a) Naturalizado(a)                |1.08      |\n|2016|Brasileiro(a) Nato(a), nascido(a) no exterior|0.07      |\n|2016|Estrangeiro(a)                               |0.03      |\n|2016|Não informado                                |0.01      |\n|2017|Brasileiro(a)                                |19.28     |\n|2017|Brasileiro(a) Naturalizado(a)                |0.6       |\n|2017|Brasileiro(a) Nato(a), nascido(a) no exterior|0.05      |\n|2017|Estrangeiro(a)                               |0.02      |\n|2017|Não informado                                |0.01      |\n|2018|Brasileiro(a)                                |15.8      |\n|2018|Brasileiro(a) Naturalizado(a)                |0.49      |\n|2018|Brasileiro(a) Nato(a), nascido(a) no exterior|0.04      |\n|2018|Estrangeiro(a)                               |0.02      |\n|2018|Não informado                                |0.01      |\n|2019|Brasileiro(a)                                |14.68     |\n|2019|Brasileiro(a) Naturalizado(a)                |0.37      |\n|2019|Brasileiro(a) Nato(a), nascido(a) no exterior|0.02      |\n|2019|Não informado                                |0.02      |\n|2019|Estrangeiro(a)                               |0.02      |\n+----+---------------------------------------------+----------+\n\nConsulta realizada com sucesso -  2020-09-02 18:55:14.902907\n"
    }
   ],
   "source": [
    "print('Quantidade de inscriçoes por Nacionalidade por Ano.')\n",
    "print('')\n",
    "print(f'Consulta inciada -  {datetime.now()}')\n",
    "\n",
    "sqlContext.sql('SELECT NU_ANO AS ANO, NACIONALIDADE, ROUND((COUNT(*)/(SELECT COUNT(*)/100 FROM enemtb)),2) AS PERCENTUAL FROM enemtb GROUP BY NU_ANO, NACIONALIDADE ORDER BY NU_ANO, COUNT(*) DESC').show(30, truncate = False)\n",
    "\n",
    "print(f'Consulta realizada com sucesso -  {datetime.now()}')"
   ]
  },
  {
   "cell_type": "code",
   "execution_count": 107,
   "metadata": {
    "tags": []
   },
   "outputs": [
    {
     "output_type": "stream",
     "name": "stdout",
     "text": "Quantidade de inscriçoes por Situação Conclusão Ensino Médio.\n\nConsulta inciada -  2020-09-02 18:55:14.923852\n+--------------------------------------------------------+--------------+----------+\n|SITUACAO_CONCLUSAO_ENSINO_MEDIO                         |QTDE_INSCRICAO|PERCENTUAL|\n+--------------------------------------------------------+--------------+----------+\n|Já concluí o Ensino Médio                               |19919399      |59.08     |\n|Estou cursando e concluirei o Ensino Médio no ano       |8424851       |24.99     |\n|Estou cursando e concluirei o Ensino Médio após este ano|4302929       |12.76     |\n|Não concluí e não estou cursando o Ensino Médio         |1066973       |3.16      |\n+--------------------------------------------------------+--------------+----------+\n\nConsulta realizada com sucesso -  2020-09-02 18:58:23.965423\n"
    }
   ],
   "source": [
    "print('Quantidade de inscriçoes por Situação Conclusão Ensino Médio.')\n",
    "print('')\n",
    "print(f'Consulta inciada -  {datetime.now()}')\n",
    "\n",
    "sqlContext.sql('SELECT SITUACAO_CONCLUSAO_ENSINO_MEDIO, COUNT(* ) AS QTDE_INSCRICAO, ROUND((COUNT(*)/(SELECT COUNT(*)/100 FROM enemtb)),2) AS PERCENTUAL FROM enemtb GROUP BY SITUACAO_CONCLUSAO_ENSINO_MEDIO ORDER BY COUNT(*) DESC').show(truncate = False)\n",
    "\n",
    "print(f'Consulta realizada com sucesso -  {datetime.now()}')"
   ]
  },
  {
   "cell_type": "code",
   "execution_count": 108,
   "metadata": {
    "tags": []
   },
   "outputs": [
    {
     "output_type": "stream",
     "name": "stdout",
     "text": "Quantidade de inscriçoes por Situação Conclusão Ensino Médio por Ano.\n\nConsulta inciada -  2020-09-02 18:58:23.990355\n+----+--------------------------------------------------------+--------------+----------+\n|ANO |SITUACAO_CONCLUSAO_ENSINO_MEDIO                         |QTDE_INSCRICAO|PERCENTUAL|\n+----+--------------------------------------------------------+--------------+----------+\n|2015|Já concluí o Ensino Médio                               |4492044       |13.32     |\n|2015|Estou cursando e concluirei o Ensino Médio no ano       |1649860       |4.89      |\n|2015|Estou cursando e concluirei o Ensino Médio após este ano|1157560       |3.43      |\n|2015|Não concluí e não estou cursando o Ensino Médio         |446963        |1.33      |\n|2016|Já concluí o Ensino Médio                               |4928251       |14.62     |\n|2016|Estou cursando e concluirei o Ensino Médio no ano       |1882278       |5.58      |\n|2016|Estou cursando e concluirei o Ensino Médio após este ano|1344085       |3.99      |\n|2016|Não concluí e não estou cursando o Ensino Médio         |472753        |1.4       |\n|2017|Já concluí o Ensino Médio                               |4272215       |12.67     |\n|2017|Estou cursando e concluirei o Ensino Médio no ano       |1786719       |5.3       |\n|2017|Estou cursando e concluirei o Ensino Médio após este ano|597677        |1.77      |\n|2017|Não concluí e não estou cursando o Ensino Médio         |74730         |0.22      |\n|2018|Já concluí o Ensino Médio                               |3233968       |9.59      |\n|2018|Estou cursando e concluirei o Ensino Médio no ano       |1640099       |4.86      |\n|2018|Estou cursando e concluirei o Ensino Médio após este ano|586939        |1.74      |\n|2018|Não concluí e não estou cursando o Ensino Médio         |52741         |0.16      |\n|2019|Já concluí o Ensino Médio                               |2992921       |8.88      |\n|2019|Estou cursando e concluirei o Ensino Médio no ano       |1465895       |4.35      |\n|2019|Estou cursando e concluirei o Ensino Médio após este ano|616668        |1.83      |\n|2019|Não concluí e não estou cursando o Ensino Médio         |19786         |0.06      |\n+----+--------------------------------------------------------+--------------+----------+\n\nConsulta realizada com sucesso -  2020-09-02 19:01:31.812613\n"
    }
   ],
   "source": [
    "print('Quantidade de inscriçoes por Situação Conclusão Ensino Médio por Ano.')\n",
    "print('')\n",
    "print(f'Consulta inciada -  {datetime.now()}')\n",
    "\n",
    "sqlContext.sql('SELECT NU_ANO AS ANO, SITUACAO_CONCLUSAO_ENSINO_MEDIO, COUNT(* ) AS QTDE_INSCRICAO, ROUND((COUNT(*)/(SELECT COUNT(*)/100 FROM enemtb)),2) AS PERCENTUAL FROM enemtb GROUP BY NU_ANO, SITUACAO_CONCLUSAO_ENSINO_MEDIO ORDER BY NU_ANO, COUNT(*) DESC').show(truncate = False)\n",
    "\n",
    "print(f'Consulta realizada com sucesso -  {datetime.now()}')"
   ]
  },
  {
   "cell_type": "code",
   "execution_count": 109,
   "metadata": {
    "tags": []
   },
   "outputs": [
    {
     "output_type": "stream",
     "name": "stdout",
     "text": "Quantidade de inscriçoes por Tipo Escola.\n\nConsulta inciada -  2020-09-02 19:01:31.829567\n+-------------+--------------+----------+\n|  TIPO_ESCOLA|QTDE_INSCRICAO|PERCENTUAL|\n+-------------+--------------+----------+\n|Não Respondeu|      25526429|     75.71|\n|      Pública|       6780145|     20.11|\n|      Privada|       1149757|      3.41|\n|     Exterior|        257821|      0.76|\n+-------------+--------------+----------+\n\nConsulta realizada com sucesso -  2020-09-02 19:04:34.076514\n"
    }
   ],
   "source": [
    "print('Quantidade de inscriçoes por Tipo Escola.')\n",
    "print('')\n",
    "print(f'Consulta inciada -  {datetime.now()}')\n",
    "\n",
    "sqlContext.sql('SELECT TIPO_ESCOLA, COUNT(*) AS QTDE_INSCRICAO, ROUND((COUNT(*)/(SELECT COUNT(*)/100 FROM enemtb)),2) AS PERCENTUAL FROM enemtb GROUP BY TIPO_ESCOLA ORDER BY COUNT(*) DESC').show()\n",
    "\n",
    "print(f'Consulta realizada com sucesso -  {datetime.now()}')"
   ]
  },
  {
   "cell_type": "code",
   "execution_count": 110,
   "metadata": {
    "tags": []
   },
   "outputs": [
    {
     "output_type": "stream",
     "name": "stdout",
     "text": "Quantidade de inscriçoes por Tipo Escola por Ano.\n\nConsulta inciada -  2020-09-02 19:04:34.107430\n+----+-------------+--------------+----------+\n| ANO|  TIPO_ESCOLA|QTDE_INSCRICAO|PERCENTUAL|\n+----+-------------+--------------+----------+\n|2015|Não Respondeu|       6096567|     18.08|\n|2015|      Pública|       1344863|      3.99|\n|2015|      Privada|        304372|       0.9|\n|2015|     Exterior|           625|       0.0|\n|2016|Não Respondeu|       6745091|     20.01|\n|2016|      Pública|       1561876|      4.63|\n|2016|      Privada|        319415|      0.95|\n|2016|     Exterior|           985|       0.0|\n|2017|Não Respondeu|       4944631|     14.67|\n|2017|      Pública|       1488653|      4.42|\n|2017|      Privada|        293461|      0.87|\n|2017|     Exterior|          4596|      0.01|\n|2018|Não Respondeu|       4110764|     12.19|\n|2018|      Pública|       1137491|      3.37|\n|2018|     Exterior|        251615|      0.75|\n|2018|      Privada|         13877|      0.04|\n|2019|Não Respondeu|       3629376|     10.77|\n|2019|      Pública|       1247262|       3.7|\n|2019|      Privada|        218632|      0.65|\n+----+-------------+--------------+----------+\n\nConsulta realizada com sucesso -  2020-09-02 19:07:41.860146\n"
    }
   ],
   "source": [
    "print('Quantidade de inscriçoes por Tipo Escola por Ano.')\n",
    "print('')\n",
    "print(f'Consulta inciada -  {datetime.now()}')\n",
    "\n",
    "sqlContext.sql('SELECT NU_ANO AS ANO, TIPO_ESCOLA, COUNT(*) AS QTDE_INSCRICAO, ROUND((COUNT(*)/(SELECT COUNT(*)/100 FROM enemtb)),2) AS PERCENTUAL FROM enemtb GROUP BY NU_ANO, TIPO_ESCOLA ORDER BY NU_ANO, COUNT(*) DESC').show()\n",
    "\n",
    "print(f'Consulta realizada com sucesso -  {datetime.now()}')"
   ]
  },
  {
   "cell_type": "code",
   "execution_count": 111,
   "metadata": {
    "tags": []
   },
   "outputs": [
    {
     "output_type": "stream",
     "name": "stdout",
     "text": "Quantidade de inscriçoes por Tipo Ensino.\n\nConsulta inciada -  2020-09-02 19:07:41.878097\n+-------------------------------------------+--------------+----------+\n|TIPO_ENSINO                                |QTDE_INSCRICAO|PERCENTUAL|\n+-------------------------------------------+--------------+----------+\n|                                           |22036422      |65.36     |\n|Ensino Regular                             |10700506      |31.74     |\n|Educação de Jovens e Adultos               |917342        |2.72      |\n|Educação Especial - Modalidade Substitutiva|59882         |0.18      |\n+-------------------------------------------+--------------+----------+\n\nConsulta realizada com sucesso -  2020-09-02 19:10:48.129286\n"
    }
   ],
   "source": [
    "print('Quantidade de inscriçoes por Tipo Ensino.')\n",
    "print('')\n",
    "print(f'Consulta inciada -  {datetime.now()}')\n",
    "\n",
    "sqlContext.sql('SELECT TIPO_ENSINO, COUNT(*) AS QTDE_INSCRICAO, ROUND((COUNT(*)/(SELECT COUNT(*)/100 FROM enemtb)),2) AS PERCENTUAL FROM enemtb GROUP BY TIPO_ENSINO ORDER BY COUNT(*) DESC').show(truncate = False)\n",
    "\n",
    "print(f'Consulta realizada com sucesso -  {datetime.now()}')"
   ]
  },
  {
   "cell_type": "code",
   "execution_count": 112,
   "metadata": {
    "tags": []
   },
   "outputs": [
    {
     "output_type": "stream",
     "name": "stdout",
     "text": "Quantidade de inscriçoes por Tipo Ensino por Ano.\n\nConsulta inciada -  2020-09-02 19:10:48.165191\n+----+-------------------------------------------+--------------+----------+\n|ANO |TIPO_ENSINO                                |QTDE_INSCRICAO|PERCENTUAL|\n+----+-------------------------------------------+--------------+----------+\n|2015|                                           |6097192       |18.08     |\n|2015|Ensino Regular                             |1470357       |4.36      |\n|2015|Educação de Jovens e Adultos               |169509        |0.5       |\n|2015|Educação Especial - Modalidade Substitutiva|9369          |0.03      |\n|2016|                                           |6746055       |20.01     |\n|2016|Ensino Regular                             |1652485       |4.9       |\n|2016|Educação de Jovens e Adultos               |218532        |0.65      |\n|2016|Educação Especial - Modalidade Substitutiva|10295         |0.03      |\n|2017|                                           |4945436       |14.67     |\n|2017|Ensino Regular                             |1583756       |4.7       |\n|2017|Educação de Jovens e Adultos               |193096        |0.57      |\n|2017|Educação Especial - Modalidade Substitutiva|9053          |0.03      |\n|2018|Ensino Regular                             |3129510       |9.28      |\n|2018|                                           |2030666       |6.02      |\n|2018|Educação de Jovens e Adultos               |336205        |1.0       |\n|2018|Educação Especial - Modalidade Substitutiva|17366         |0.05      |\n|2019|Ensino Regular                             |2864398       |8.5       |\n|2019|                                           |2217073       |6.58      |\n|2019|Educação Especial - Modalidade Substitutiva|13799         |0.04      |\n+----+-------------------------------------------+--------------+----------+\n\nConsulta realizada com sucesso -  2020-09-02 19:13:52.127297\n"
    }
   ],
   "source": [
    "print('Quantidade de inscriçoes por Tipo Ensino por Ano.')\n",
    "print('')\n",
    "print(f'Consulta inciada -  {datetime.now()}')\n",
    "\n",
    "sqlContext.sql('SELECT NU_ANO AS ANO, TIPO_ENSINO, COUNT(*) AS QTDE_INSCRICAO, ROUND((COUNT(*)/(SELECT COUNT(*)/100 FROM enemtb)),2) AS PERCENTUAL FROM enemtb GROUP BY NU_ANO, TIPO_ENSINO ORDER BY NU_ANO, COUNT(*) DESC').show(truncate = False)\n",
    "\n",
    "print(f'Consulta realizada com sucesso -  {datetime.now()}')"
   ]
  },
  {
   "cell_type": "code",
   "execution_count": 113,
   "metadata": {
    "tags": []
   },
   "outputs": [
    {
     "output_type": "stream",
     "name": "stdout",
     "text": "Quantidade de inscriçoes por Treineiro.\n\nConsulta inciada -  2020-09-02 19:13:52.157219\n+---------+--------------+----------+\n|TREINEIRO|QTDE_INSCRICAO|PERCENTUAL|\n+---------+--------------+----------+\n|      Não|      30127568|     89.36|\n|      Sim|       3586584|     10.64|\n+---------+--------------+----------+\n\nConsulta realizada com sucesso -  2020-09-02 19:16:59.786178\n"
    }
   ],
   "source": [
    "print('Quantidade de inscriçoes por Treineiro.')\n",
    "print('')\n",
    "print(f'Consulta inciada -  {datetime.now()}')\n",
    "\n",
    "sqlContext.sql('SELECT TREINEIRO, COUNT(*) AS QTDE_INSCRICAO, ROUND((COUNT(*)/(SELECT COUNT(*)/100 FROM enemtb)),2) AS PERCENTUAL FROM enemtb GROUP BY TREINEIRO ORDER BY COUNT(*) DESC').show()\n",
    "\n",
    "print(f'Consulta realizada com sucesso -  {datetime.now()}')"
   ]
  },
  {
   "cell_type": "code",
   "execution_count": 114,
   "metadata": {
    "tags": []
   },
   "outputs": [
    {
     "output_type": "stream",
     "name": "stdout",
     "text": "Quantidade de inscriçoes por Treineiro por Ano.\n\nConsulta inciada -  2020-09-02 19:16:59.804130\n+----+---------+--------------+----------+\n| ANO|TREINEIRO|QTDE_INSCRICAO|PERCENTUAL|\n+----+---------+--------------+----------+\n|2015|      Não|       6840001|     20.29|\n|2015|      Sim|        906426|      2.69|\n|2016|      Não|       7608438|     22.57|\n|2016|      Sim|       1018929|      3.02|\n|2017|      Não|       6214489|     18.43|\n|2017|      Sim|        516852|      1.53|\n|2018|      Não|       4986038|     14.79|\n|2018|      Sim|        527709|      1.57|\n|2019|      Não|       4478602|     13.28|\n|2019|      Sim|        616668|      1.83|\n+----+---------+--------------+----------+\n\nConsulta realizada com sucesso -  2020-09-02 19:20:04.465133\n"
    }
   ],
   "source": [
    "print('Quantidade de inscriçoes por Treineiro por Ano.')\n",
    "print('')\n",
    "print(f'Consulta inciada -  {datetime.now()}')\n",
    "\n",
    "sqlContext.sql('SELECT NU_ANO AS ANO, TREINEIRO, COUNT(*) AS QTDE_INSCRICAO, ROUND((COUNT(*)/(SELECT COUNT(*)/100 FROM enemtb)),2) AS PERCENTUAL FROM enemtb GROUP BY NU_ANO, TREINEIRO ORDER BY NU_ANO, COUNT(*) DESC').show()\n",
    "\n",
    "print(f'Consulta realizada com sucesso -  {datetime.now()}')"
   ]
  },
  {
   "cell_type": "code",
   "execution_count": 115,
   "metadata": {
    "tags": []
   },
   "outputs": [
    {
     "output_type": "stream",
     "name": "stdout",
     "text": "Quantidade de inscriçoes por Dependência Administrativa Escola.\n\nConsulta inciada -  2020-09-02 19:20:04.491065\n+---------------------------------+--------------+----------+\n|DEPENDENCIA_ADMINISTRATIVA_ESCOLA|QTDE_INSCRICAO|PERCENTUAL|\n+---------------------------------+--------------+----------+\n|                                 |      25801465|     76.53|\n|                         Estadual|       6280273|     18.63|\n|                          Privada|       1337142|      3.97|\n|                          Federal|        212646|      0.63|\n|                        Municipal|         82626|      0.25|\n+---------------------------------+--------------+----------+\n\nConsulta realizada com sucesso -  2020-09-02 19:23:08.068624\n"
    }
   ],
   "source": [
    "print('Quantidade de inscriçoes por Dependência Administrativa Escola.')\n",
    "print('')\n",
    "print(f'Consulta inciada -  {datetime.now()}')\n",
    "\n",
    "sqlContext.sql('SELECT DEPENDENCIA_ADMINISTRATIVA_ESCOLA, COUNT(*) AS QTDE_INSCRICAO, ROUND((COUNT(*)/(SELECT COUNT(*)/100 FROM enemtb)),2) AS PERCENTUAL FROM enemtb GROUP BY DEPENDENCIA_ADMINISTRATIVA_ESCOLA ORDER BY COUNT(*) DESC').show()\n",
    "\n",
    "print(f'Consulta realizada com sucesso -  {datetime.now()}')"
   ]
  },
  {
   "cell_type": "code",
   "execution_count": 116,
   "metadata": {
    "tags": []
   },
   "outputs": [
    {
     "output_type": "stream",
     "name": "stdout",
     "text": "Quantidade de inscriçoes por Dependência Administrativa Escola por Ano.\n\nConsulta inciada -  2020-09-02 19:23:08.090566\n+----+---------------------------------+--------------+----------+\n| ANO|DEPENDENCIA_ADMINISTRATIVA_ESCOLA|QTDE_INSCRICAO|PERCENTUAL|\n+----+---------------------------------+--------------+----------+\n|2015|                                 |       6097169|     18.08|\n|2015|                         Estadual|       1293573|      3.84|\n|2015|                          Privada|        304364|       0.9|\n|2015|                          Federal|         34192|       0.1|\n|2015|                        Municipal|         17129|      0.05|\n|2016|                                 |       6746085|     20.01|\n|2016|                         Estadual|       1501527|      4.45|\n|2016|                          Privada|        319380|      0.95|\n|2016|                          Federal|         38741|      0.11|\n|2016|                        Municipal|         21634|      0.06|\n|2017|                                 |       4945427|     14.67|\n|2017|                         Estadual|       1423466|      4.22|\n|2017|                          Privada|        297228|      0.88|\n|2017|                          Federal|         44845|      0.13|\n|2017|                        Municipal|         20375|      0.06|\n|2018|                                 |       4064926|     12.06|\n|2018|                         Estadual|       1137369|      3.37|\n|2018|                          Privada|        251837|      0.75|\n|2018|                          Federal|         45777|      0.14|\n|2018|                        Municipal|         13838|      0.04|\n|2019|                                 |       3947858|     11.71|\n|2019|                         Estadual|        924338|      2.74|\n|2019|                          Privada|        164333|      0.49|\n|2019|                          Federal|         49091|      0.15|\n|2019|                        Municipal|          9650|      0.03|\n+----+---------------------------------+--------------+----------+\n\nConsulta realizada com sucesso -  2020-09-02 19:26:14.761914\n"
    }
   ],
   "source": [
    "print('Quantidade de inscriçoes por Dependência Administrativa Escola por Ano.')\n",
    "print('')\n",
    "print(f'Consulta inciada -  {datetime.now()}')\n",
    "\n",
    "sqlContext.sql('SELECT NU_ANO AS ANO, DEPENDENCIA_ADMINISTRATIVA_ESCOLA, COUNT(*) AS QTDE_INSCRICAO, ROUND((COUNT(*)/(SELECT COUNT(*)/100 FROM enemtb)),2) AS PERCENTUAL FROM enemtb GROUP BY NU_ANO, DEPENDENCIA_ADMINISTRATIVA_ESCOLA ORDER BY NU_ANO, COUNT(*) DESC').show(30)\n",
    "\n",
    "print(f'Consulta realizada com sucesso -  {datetime.now()}')"
   ]
  },
  {
   "cell_type": "code",
   "execution_count": 117,
   "metadata": {
    "tags": []
   },
   "outputs": [
    {
     "output_type": "stream",
     "name": "stdout",
     "text": "Quantidade de inscriçoes por Localização Escola.\n\nConsulta inciada -  2020-09-02 19:26:14.794827\n+------------------+--------------+----------+\n|LOCALIZACAO_ESCOLA|QTDE_INSCRICAO|PERCENTUAL|\n+------------------+--------------+----------+\n|                  |      25801465|     76.53|\n|            Urbana|       7665166|     22.74|\n|             Rural|        247521|      0.73|\n+------------------+--------------+----------+\n\nConsulta realizada com sucesso -  2020-09-02 19:29:19.271969\n"
    }
   ],
   "source": [
    "print('Quantidade de inscriçoes por Localização Escola.')\n",
    "print('')\n",
    "print(f'Consulta inciada -  {datetime.now()}')\n",
    "\n",
    "sqlContext.sql('SELECT LOCALIZACAO_ESCOLA, COUNT(*) AS QTDE_INSCRICAO, ROUND((COUNT(*)/(SELECT COUNT(*)/100 FROM enemtb)),2) AS PERCENTUAL FROM enemtb GROUP BY LOCALIZACAO_ESCOLA ORDER BY COUNT(*) DESC').show()\n",
    "\n",
    "print(f'Consulta realizada com sucesso -  {datetime.now()}')"
   ]
  },
  {
   "cell_type": "code",
   "execution_count": 118,
   "metadata": {
    "tags": []
   },
   "outputs": [
    {
     "output_type": "stream",
     "name": "stdout",
     "text": "Quantidade de inscriçoes por Localização Escola por Ano.\n\nConsulta inciada -  2020-09-02 19:29:19.289920\n+----+------------------+--------------+----------+\n| ANO|LOCALIZACAO_ESCOLA|QTDE_INSCRICAO|PERCENTUAL|\n+----+------------------+--------------+----------+\n|2015|                  |       6097169|     18.08|\n|2015|            Urbana|       1602743|      4.75|\n|2015|             Rural|         46515|      0.14|\n|2016|                  |       6746085|     20.01|\n|2016|            Urbana|       1827543|      5.42|\n|2016|             Rural|         53739|      0.16|\n|2017|                  |       4945427|     14.67|\n|2017|            Urbana|       1729579|      5.13|\n|2017|             Rural|         56335|      0.17|\n|2018|                  |       4064926|     12.06|\n|2018|            Urbana|       1399430|      4.15|\n|2018|             Rural|         49391|      0.15|\n|2019|                  |       3947858|     11.71|\n|2019|            Urbana|       1105871|      3.28|\n|2019|             Rural|         41541|      0.12|\n+----+------------------+--------------+----------+\n\nConsulta realizada com sucesso -  2020-09-02 19:32:22.958221\n"
    }
   ],
   "source": [
    "print('Quantidade de inscriçoes por Localização Escola por Ano.')\n",
    "print('')\n",
    "print(f'Consulta inciada -  {datetime.now()}')\n",
    "\n",
    "sqlContext.sql('SELECT NU_ANO AS ANO, LOCALIZACAO_ESCOLA, COUNT(*) AS QTDE_INSCRICAO, ROUND((COUNT(*)/(SELECT COUNT(*)/100 FROM enemtb)),2) AS PERCENTUAL FROM enemtb GROUP BY NU_ANO, LOCALIZACAO_ESCOLA ORDER BY NU_ANO, COUNT(*) DESC').show()\n",
    "\n",
    "print(f'Consulta realizada com sucesso -  {datetime.now()}')"
   ]
  },
  {
   "cell_type": "code",
   "execution_count": 119,
   "metadata": {
    "tags": []
   },
   "outputs": [
    {
     "output_type": "stream",
     "name": "stdout",
     "text": "Quantidade de inscriçoes por Baixa Visão.\n\nConsulta inciada -  2020-09-02 19:32:22.987142\n+-----------+--------------+----------+\n|BAIXA_VISAO|QTDE_INSCRICAO|PERCENTUAL|\n+-----------+--------------+----------+\n|        Não|      33673697|     99.88|\n|        Sim|         40455|      0.12|\n+-----------+--------------+----------+\n\nConsulta realizada com sucesso -  2020-09-02 19:35:27.938353\n"
    }
   ],
   "source": [
    "print('Quantidade de inscriçoes por Baixa Visão.')\n",
    "print('')\n",
    "print(f'Consulta inciada -  {datetime.now()}')\n",
    "\n",
    "sqlContext.sql('SELECT BAIXA_VISAO, COUNT(*) AS QTDE_INSCRICAO, ROUND((COUNT(*)/(SELECT COUNT(*)/100 FROM enemtb)),2) AS PERCENTUAL FROM enemtb GROUP BY BAIXA_VISAO ORDER BY COUNT(*) DESC').show()\n",
    "\n",
    "print(f'Consulta realizada com sucesso -  {datetime.now()}')"
   ]
  },
  {
   "cell_type": "code",
   "execution_count": 120,
   "metadata": {
    "tags": []
   },
   "outputs": [
    {
     "output_type": "stream",
     "name": "stdout",
     "text": "Quantidade de inscriçoes por Baixa Visão por Ano.\n\nConsulta inciada -  2020-09-02 19:35:27.966278\n+----+-----------+--------------+----------+\n| ANO|BAIXA_VISAO|QTDE_INSCRICAO|PERCENTUAL|\n+----+-----------+--------------+----------+\n|2015|        Não|       7736290|     22.95|\n|2015|        Sim|         10137|      0.03|\n|2016|        Não|       8615808|     25.56|\n|2016|        Sim|         11559|      0.03|\n|2017|        Não|       6724034|     19.94|\n|2017|        Sim|          7307|      0.02|\n|2018|        Não|       5508496|     16.34|\n|2018|        Sim|          5251|      0.02|\n|2019|        Não|       5089069|     15.09|\n|2019|        Sim|          6201|      0.02|\n+----+-----------+--------------+----------+\n\nConsulta realizada com sucesso -  2020-09-02 19:38:31.610295\n"
    }
   ],
   "source": [
    "print('Quantidade de inscriçoes por Baixa Visão por Ano.')\n",
    "print('')\n",
    "print(f'Consulta inciada -  {datetime.now()}')\n",
    "\n",
    "sqlContext.sql('SELECT NU_ANO AS ANO, BAIXA_VISAO, COUNT(*) AS QTDE_INSCRICAO, ROUND((COUNT(*)/(SELECT COUNT(*)/100 FROM enemtb)),2) AS PERCENTUAL FROM enemtb GROUP BY NU_ANO, BAIXA_VISAO ORDER BY NU_ANO, COUNT(*) DESC').show()\n",
    "\n",
    "print(f'Consulta realizada com sucesso -  {datetime.now()}')"
   ]
  },
  {
   "cell_type": "code",
   "execution_count": 121,
   "metadata": {
    "tags": []
   },
   "outputs": [
    {
     "output_type": "stream",
     "name": "stdout",
     "text": "Quantidade de inscriçoes por Cegueira.\n\nConsulta inciada -  2020-09-02 19:38:31.629243\n+--------+--------------+----------+\n|CEGUEIRA|QTDE_INSCRICAO|PERCENTUAL|\n+--------+--------------+----------+\n|     Não|      33709598|     99.99|\n|     Sim|          4554|      0.01|\n+--------+--------------+----------+\n\nConsulta realizada com sucesso -  2020-09-02 19:41:36.602674\n"
    }
   ],
   "source": [
    "print('Quantidade de inscriçoes por Cegueira.')\n",
    "print('')\n",
    "print(f'Consulta inciada -  {datetime.now()}')\n",
    "\n",
    "sqlContext.sql('SELECT CEGUEIRA, COUNT(*) AS QTDE_INSCRICAO, ROUND((COUNT(*)/(SELECT COUNT(*)/100 FROM enemtb)),2) AS PERCENTUAL FROM enemtb GROUP BY CEGUEIRA ORDER BY COUNT(*) DESC').show()\n",
    "\n",
    "print(f'Consulta realizada com sucesso -  {datetime.now()}')"
   ]
  },
  {
   "cell_type": "code",
   "execution_count": 122,
   "metadata": {
    "tags": []
   },
   "outputs": [
    {
     "output_type": "stream",
     "name": "stdout",
     "text": "Quantidade de inscriçoes por Cegueira por Ano.\n\nConsulta inciada -  2020-09-02 19:41:36.626610\n+----+--------+--------------+----------+\n| ANO|CEGUEIRA|QTDE_INSCRICAO|PERCENTUAL|\n+----+--------+--------------+----------+\n|2015|     Não|       7745386|     22.97|\n|2015|     Sim|          1041|       0.0|\n|2016|     Não|       8626211|     25.59|\n|2016|     Sim|          1156|       0.0|\n|2017|     Não|       6730457|     19.96|\n|2017|     Sim|           884|       0.0|\n|2018|     Não|       5512989|     16.35|\n|2018|     Sim|           758|       0.0|\n|2019|     Não|       5094555|     15.11|\n|2019|     Sim|           715|       0.0|\n+----+--------+--------------+----------+\n\nConsulta realizada com sucesso -  2020-09-02 19:44:43.597011\n"
    }
   ],
   "source": [
    "print('Quantidade de inscriçoes por Cegueira por Ano.')\n",
    "print('')\n",
    "print(f'Consulta inciada -  {datetime.now()}')\n",
    "\n",
    "sqlContext.sql('SELECT NU_ANO AS ANO, CEGUEIRA, COUNT(*) AS QTDE_INSCRICAO, ROUND((COUNT(*)/(SELECT COUNT(*)/100 FROM enemtb)),2) AS PERCENTUAL FROM enemtb GROUP BY NU_ANO, CEGUEIRA ORDER BY NU_ANO, COUNT(*) DESC').show()\n",
    "\n",
    "print(f'Consulta realizada com sucesso -  {datetime.now()}')"
   ]
  },
  {
   "cell_type": "code",
   "execution_count": 123,
   "metadata": {
    "tags": []
   },
   "outputs": [
    {
     "output_type": "stream",
     "name": "stdout",
     "text": "Quantidade de inscriçoes por Surdez.\n\nConsulta inciada -  2020-09-02 19:44:43.613965\n+------+--------------+----------+\n|SURDEZ|QTDE_INSCRICAO|PERCENTUAL|\n+------+--------------+----------+\n|   Não|      33705038|     99.97|\n|   Sim|          9114|      0.03|\n+------+--------------+----------+\n\nConsulta realizada com sucesso -  2020-09-02 19:47:47.524876\n"
    }
   ],
   "source": [
    "print('Quantidade de inscriçoes por Surdez.')\n",
    "print('')\n",
    "print(f'Consulta inciada -  {datetime.now()}')\n",
    "\n",
    "sqlContext.sql('SELECT SURDEZ, COUNT(*) AS QTDE_INSCRICAO, ROUND((COUNT(*)/(SELECT COUNT(*)/100 FROM enemtb)),2) AS PERCENTUAL FROM enemtb GROUP BY SURDEZ ORDER BY COUNT(*) DESC').show()\n",
    "\n",
    "print(f'Consulta realizada com sucesso -  {datetime.now()}')"
   ]
  },
  {
   "cell_type": "code",
   "execution_count": 124,
   "metadata": {
    "tags": []
   },
   "outputs": [
    {
     "output_type": "stream",
     "name": "stdout",
     "text": "Quantidade de inscriçoes por Surdez por Ano.\n\nConsulta inciada -  2020-09-02 19:47:47.553800\n+----+------+--------------+----------+\n| ANO|SURDEZ|QTDE_INSCRICAO|PERCENTUAL|\n+----+------+--------------+----------+\n|2015|   Não|       7744597|     22.97|\n|2015|   Sim|          1830|      0.01|\n|2016|   Não|       8625076|     25.58|\n|2016|   Sim|          2291|      0.01|\n|2017|   Não|       6729416|     19.96|\n|2017|   Sim|          1925|      0.01|\n|2018|   Não|       5512302|     16.35|\n|2018|   Sim|          1445|       0.0|\n|2019|   Não|       5093647|     15.11|\n|2019|   Sim|          1623|       0.0|\n+----+------+--------------+----------+\n\nConsulta realizada com sucesso -  2020-09-02 19:50:51.754849\n"
    }
   ],
   "source": [
    "print('Quantidade de inscriçoes por Surdez por Ano.')\n",
    "print('')\n",
    "print(f'Consulta inciada -  {datetime.now()}')\n",
    "\n",
    "sqlContext.sql('SELECT NU_ANO AS ANO, SURDEZ, COUNT(*) AS QTDE_INSCRICAO, ROUND((COUNT(*)/(SELECT COUNT(*)/100 FROM enemtb)),2) AS PERCENTUAL FROM enemtb GROUP BY NU_ANO, SURDEZ ORDER BY NU_ANO, COUNT(*) DESC').show()\n",
    "\n",
    "print(f'Consulta realizada com sucesso -  {datetime.now()}')"
   ]
  },
  {
   "cell_type": "code",
   "execution_count": 125,
   "metadata": {
    "tags": []
   },
   "outputs": [
    {
     "output_type": "stream",
     "name": "stdout",
     "text": "Quantidade de inscriçoes por Deficiência Auditiva.\n\nConsulta inciada -  2020-09-02 19:50:51.776789\n+--------------------+--------------+----------+\n|DEFICIENCIA_AUDITIVA|QTDE_INSCRICAO|PERCENTUAL|\n+--------------------+--------------+----------+\n|                 Não|      33691704|     99.93|\n|                 Sim|         22448|      0.07|\n+--------------------+--------------+----------+\n\nConsulta realizada com sucesso -  2020-09-02 19:53:55.817269\n"
    }
   ],
   "source": [
    "print('Quantidade de inscriçoes por Deficiência Auditiva.')\n",
    "print('')\n",
    "print(f'Consulta inciada -  {datetime.now()}')\n",
    "\n",
    "sqlContext.sql('SELECT DEFICIENCIA_AUDITIVA, COUNT(*) AS QTDE_INSCRICAO, ROUND((COUNT(*)/(SELECT COUNT(*)/100 FROM enemtb)),2) AS PERCENTUAL FROM enemtb GROUP BY DEFICIENCIA_AUDITIVA ORDER BY COUNT(*) DESC').show()\n",
    "\n",
    "print(f'Consulta realizada com sucesso -  {datetime.now()}')"
   ]
  },
  {
   "cell_type": "code",
   "execution_count": 126,
   "metadata": {
    "tags": []
   },
   "outputs": [
    {
     "output_type": "stream",
     "name": "stdout",
     "text": "Quantidade de inscriçoes por Deficiência Auditiva por Ano.\n\nConsulta inciada -  2020-09-02 19:53:55.846193\n+----+--------------------+--------------+----------+\n| ANO|DEFICIENCIA_AUDITIVA|QTDE_INSCRICAO|PERCENTUAL|\n+----+--------------------+--------------+----------+\n|2015|                 Não|       7740119|     22.96|\n|2015|                 Sim|          6308|      0.02|\n|2016|                 Não|       8620236|     25.57|\n|2016|                 Sim|          7131|      0.02|\n|2017|                 Não|       6726951|     19.95|\n|2017|                 Sim|          4390|      0.01|\n|2018|                 Não|       5511331|     16.35|\n|2018|                 Sim|          2416|      0.01|\n|2019|                 Não|       5093067|     15.11|\n|2019|                 Sim|          2203|      0.01|\n+----+--------------------+--------------+----------+\n\nConsulta realizada com sucesso -  2020-09-02 19:57:03.134662\n"
    }
   ],
   "source": [
    "print('Quantidade de inscriçoes por Deficiência Auditiva por Ano.')\n",
    "print('')\n",
    "print(f'Consulta inciada -  {datetime.now()}')\n",
    "\n",
    "sqlContext.sql('SELECT NU_ANO AS ANO, DEFICIENCIA_AUDITIVA, COUNT(*) AS QTDE_INSCRICAO, ROUND((COUNT(*)/(SELECT COUNT(*)/100 FROM enemtb)),2) AS PERCENTUAL FROM enemtb GROUP BY NU_ANO, DEFICIENCIA_AUDITIVA ORDER BY NU_ANO, COUNT(*) DESC').show()\n",
    "\n",
    "print(f'Consulta realizada com sucesso -  {datetime.now()}')"
   ]
  },
  {
   "cell_type": "code",
   "execution_count": 127,
   "metadata": {
    "tags": []
   },
   "outputs": [
    {
     "output_type": "stream",
     "name": "stdout",
     "text": "Quantidade de inscriçoes por Surdo_Cegueira.\n\nConsulta inciada -  2020-09-02 19:57:03.165581\n+--------------+--------------+----------+\n|SURDO_CEGUEIRA|QTDE_INSCRICAO|PERCENTUAL|\n+--------------+--------------+----------+\n|           Não|      33714026|     100.0|\n|           Sim|           126|       0.0|\n+--------------+--------------+----------+\n\nConsulta realizada com sucesso -  2020-09-02 20:00:07.572955\n"
    }
   ],
   "source": [
    "print('Quantidade de inscriçoes por Surdo_Cegueira.')\n",
    "print('')\n",
    "print(f'Consulta inciada -  {datetime.now()}')\n",
    "\n",
    "sqlContext.sql('SELECT SURDO_CEGUEIRA, COUNT(*) AS QTDE_INSCRICAO, ROUND((COUNT(*)/(SELECT COUNT(*)/100 FROM enemtb)),2) AS PERCENTUAL FROM enemtb GROUP BY SURDO_CEGUEIRA ORDER BY COUNT(*) DESC').show()\n",
    "\n",
    "print(f'Consulta realizada com sucesso -  {datetime.now()}')"
   ]
  },
  {
   "cell_type": "code",
   "execution_count": 128,
   "metadata": {
    "tags": []
   },
   "outputs": [
    {
     "output_type": "stream",
     "name": "stdout",
     "text": "Quantidade de inscriçoes por Surdo_Cegueira por Ano.\n\nConsulta inciada -  2020-09-02 20:00:07.598885\n+----+--------------+--------------+----------+\n| ANO|SURDO_CEGUEIRA|QTDE_INSCRICAO|PERCENTUAL|\n+----+--------------+--------------+----------+\n|2015|           Não|       7746405|     22.98|\n|2015|           Sim|            22|       0.0|\n|2016|           Não|       8627344|     25.59|\n|2016|           Sim|            23|       0.0|\n|2017|           Não|       6731320|     19.97|\n|2017|           Sim|            21|       0.0|\n|2018|           Não|       5513734|     16.35|\n|2018|           Sim|            13|       0.0|\n|2019|           Não|       5095223|     15.11|\n|2019|           Sim|            47|       0.0|\n+----+--------------+--------------+----------+\n\nConsulta realizada com sucesso -  2020-09-02 20:03:12.674015\n"
    }
   ],
   "source": [
    "print('Quantidade de inscriçoes por Surdo_Cegueira por Ano.')\n",
    "print('')\n",
    "print(f'Consulta inciada -  {datetime.now()}')\n",
    "\n",
    "sqlContext.sql('SELECT NU_ANO AS ANO, SURDO_CEGUEIRA, COUNT(*) AS QTDE_INSCRICAO, ROUND((COUNT(*)/(SELECT COUNT(*)/100 FROM enemtb)),2) AS PERCENTUAL FROM enemtb GROUP BY NU_ANO, SURDO_CEGUEIRA ORDER BY NU_ANO, COUNT(*) DESC').show()\n",
    "\n",
    "print(f'Consulta realizada com sucesso -  {datetime.now()}')"
   ]
  },
  {
   "cell_type": "code",
   "execution_count": 129,
   "metadata": {
    "tags": []
   },
   "outputs": [
    {
     "output_type": "stream",
     "name": "stdout",
     "text": "Quantidade de inscriçoes por Deficiência Física.\n\nConsulta inciada -  2020-09-02 20:03:12.700943\n+------------------+--------------+----------+\n|DEFICIENCIA_FISICA|QTDE_INSCRICAO|PERCENTUAL|\n+------------------+--------------+----------+\n|               Não|      33643894|     99.79|\n|               Sim|         70258|      0.21|\n+------------------+--------------+----------+\n\nConsulta realizada com sucesso -  2020-09-02 20:06:17.534043\n"
    }
   ],
   "source": [
    "print('Quantidade de inscriçoes por Deficiência Física.')\n",
    "print('')\n",
    "print(f'Consulta inciada -  {datetime.now()}')\n",
    "\n",
    "sqlContext.sql('SELECT DEFICIENCIA_FISICA, COUNT(*) AS QTDE_INSCRICAO, ROUND((COUNT(*)/(SELECT COUNT(*)/100 FROM enemtb)),2) AS PERCENTUAL FROM enemtb GROUP BY DEFICIENCIA_FISICA ORDER BY COUNT(*) DESC').show()\n",
    "\n",
    "print(f'Consulta realizada com sucesso -  {datetime.now()}')"
   ]
  },
  {
   "cell_type": "code",
   "execution_count": 130,
   "metadata": {
    "tags": []
   },
   "outputs": [
    {
     "output_type": "stream",
     "name": "stdout",
     "text": "Quantidade de inscriçoes por Deficiência Física por Ano.\n\nConsulta inciada -  2020-09-02 20:06:17.553991\n+----+------------------+--------------+----------+\n| ANO|DEFICIENCIA_FISICA|QTDE_INSCRICAO|PERCENTUAL|\n+----+------------------+--------------+----------+\n|2015|               Não|       7727373|     22.92|\n|2015|               Sim|         19054|      0.06|\n|2016|               Não|       8604998|     25.52|\n|2016|               Sim|         22369|      0.07|\n|2017|               Não|       6718917|     19.93|\n|2017|               Sim|         12424|      0.04|\n|2018|               Não|       5504818|     16.33|\n|2018|               Sim|          8929|      0.03|\n|2019|               Não|       5087788|     15.09|\n|2019|               Sim|          7482|      0.02|\n+----+------------------+--------------+----------+\n\nConsulta realizada com sucesso -  2020-09-02 20:09:21.225487\n"
    }
   ],
   "source": [
    "print('Quantidade de inscriçoes por Deficiência Física por Ano.')\n",
    "print('')\n",
    "print(f'Consulta inciada -  {datetime.now()}')\n",
    "\n",
    "sqlContext.sql('SELECT NU_ANO AS ANO, DEFICIENCIA_FISICA, COUNT(*) AS QTDE_INSCRICAO, ROUND((COUNT(*)/(SELECT COUNT(*)/100 FROM enemtb)),2) AS PERCENTUAL FROM enemtb GROUP BY NU_ANO, DEFICIENCIA_FISICA ORDER BY NU_ANO, COUNT(*) DESC').show()\n",
    "\n",
    "print(f'Consulta realizada com sucesso -  {datetime.now()}')"
   ]
  },
  {
   "cell_type": "code",
   "execution_count": 131,
   "metadata": {
    "tags": []
   },
   "outputs": [
    {
     "output_type": "stream",
     "name": "stdout",
     "text": "Quantidade de inscriçoes por Deficiência Mental.\n\nConsulta inciada -  2020-09-02 20:09:21.255409\n+------------------+--------------+----------+\n|DEFICIENCIA_MENTAL|QTDE_INSCRICAO|PERCENTUAL|\n+------------------+--------------+----------+\n|               Não|      33704239|     99.97|\n|               Sim|          9913|      0.03|\n+------------------+--------------+----------+\n\nConsulta realizada com sucesso -  2020-09-02 20:12:25.614642\n"
    }
   ],
   "source": [
    "print('Quantidade de inscriçoes por Deficiência Mental.')\n",
    "print('')\n",
    "print(f'Consulta inciada -  {datetime.now()}')\n",
    "\n",
    "sqlContext.sql('SELECT DEFICIENCIA_MENTAL, COUNT(*) AS QTDE_INSCRICAO, ROUND((COUNT(*)/(SELECT COUNT(*)/100 FROM enemtb)),2) AS PERCENTUAL FROM enemtb GROUP BY DEFICIENCIA_MENTAL ORDER BY COUNT(*) DESC').show()\n",
    "\n",
    "print(f'Consulta realizada com sucesso -  {datetime.now()}')"
   ]
  },
  {
   "cell_type": "code",
   "execution_count": 132,
   "metadata": {
    "tags": []
   },
   "outputs": [
    {
     "output_type": "stream",
     "name": "stdout",
     "text": "Quantidade de inscriçoes por Deficiência Mental por Ano.\n\nConsulta inciada -  2020-09-02 20:12:25.640573\n+----+------------------+--------------+----------+\n| ANO|DEFICIENCIA_MENTAL|QTDE_INSCRICAO|PERCENTUAL|\n+----+------------------+--------------+----------+\n|2015|               Não|       7744235|     22.97|\n|2015|               Sim|          2192|      0.01|\n|2016|               Não|       8626259|     25.59|\n|2016|               Sim|          1108|       0.0|\n|2017|               Não|       6728929|     19.96|\n|2017|               Sim|          2412|      0.01|\n|2018|               Não|       5511794|     16.35|\n|2018|               Sim|          1953|      0.01|\n|2019|               Não|       5093022|     15.11|\n|2019|               Sim|          2248|      0.01|\n+----+------------------+--------------+----------+\n\nConsulta realizada com sucesso -  2020-09-02 20:15:27.670696\n"
    }
   ],
   "source": [
    "print('Quantidade de inscriçoes por Deficiência Mental por Ano.')\n",
    "print('')\n",
    "print(f'Consulta inciada -  {datetime.now()}')\n",
    "\n",
    "sqlContext.sql('SELECT NU_ANO AS ANO, DEFICIENCIA_MENTAL, COUNT(*) AS QTDE_INSCRICAO, ROUND((COUNT(*)/(SELECT COUNT(*)/100 FROM enemtb)),2) AS PERCENTUAL FROM enemtb GROUP BY NU_ANO, DEFICIENCIA_MENTAL ORDER BY NU_ANO, COUNT(*) DESC').show()\n",
    "\n",
    "print(f'Consulta realizada com sucesso -  {datetime.now()}')"
   ]
  },
  {
   "cell_type": "code",
   "execution_count": 133,
   "metadata": {
    "tags": []
   },
   "outputs": [
    {
     "output_type": "stream",
     "name": "stdout",
     "text": "Quantidade de inscriçoes por Deficit de Atenção.\n\nConsulta inciada -  2020-09-02 20:15:27.690643\n+---------------+--------------+----------+\n|DEFICIT_ATENCAO|QTDE_INSCRICAO|PERCENTUAL|\n+---------------+--------------+----------+\n|            Não|      33681678|      99.9|\n|            Sim|         32474|       0.1|\n+---------------+--------------+----------+\n\nConsulta realizada com sucesso -  2020-09-02 20:18:37.660405\n"
    }
   ],
   "source": [
    "print('Quantidade de inscriçoes por Deficit de Atenção.')\n",
    "print('')\n",
    "print(f'Consulta inciada -  {datetime.now()}')\n",
    "\n",
    "sqlContext.sql('SELECT DEFICIT_ATENCAO, COUNT(*) AS QTDE_INSCRICAO, ROUND((COUNT(*)/(SELECT COUNT(*)/100 FROM enemtb)),2) AS PERCENTUAL FROM enemtb GROUP BY DEFICIT_ATENCAO ORDER BY COUNT(*) DESC').show()\n",
    "\n",
    "print(f'Consulta realizada com sucesso -  {datetime.now()}')"
   ]
  },
  {
   "cell_type": "code",
   "execution_count": 134,
   "metadata": {
    "tags": []
   },
   "outputs": [
    {
     "output_type": "stream",
     "name": "stdout",
     "text": "Quantidade de inscriçoes por Deficit de Atenção por Ano.\n\nConsulta inciada -  2020-09-02 20:18:37.686334\n+----+---------------+--------------+----------+\n| ANO|DEFICIT_ATENCAO|QTDE_INSCRICAO|PERCENTUAL|\n+----+---------------+--------------+----------+\n|2015|            Não|       7742579|     22.97|\n|2015|            Sim|          3848|      0.01|\n|2016|            Não|       8622067|     25.57|\n|2016|            Sim|          5300|      0.02|\n|2017|            Não|       6723552|     19.94|\n|2017|            Sim|          7789|      0.02|\n|2018|            Não|       5506548|     16.33|\n|2018|            Sim|          7199|      0.02|\n|2019|            Não|       5086932|     15.09|\n|2019|            Sim|          8338|      0.02|\n+----+---------------+--------------+----------+\n\nConsulta realizada com sucesso -  2020-09-02 20:21:40.479162\n"
    }
   ],
   "source": [
    "print('Quantidade de inscriçoes por Deficit de Atenção por Ano.')\n",
    "print('')\n",
    "print(f'Consulta inciada -  {datetime.now()}')\n",
    "\n",
    "sqlContext.sql('SELECT NU_ANO AS ANO, DEFICIT_ATENCAO, COUNT(*) AS QTDE_INSCRICAO, ROUND((COUNT(*)/(SELECT COUNT(*)/100 FROM enemtb)),2) AS PERCENTUAL FROM enemtb GROUP BY NU_ANO, DEFICIT_ATENCAO ORDER BY NU_ANO, COUNT(*) DESC').show()\n",
    "\n",
    "print(f'Consulta realizada com sucesso -  {datetime.now()}')"
   ]
  },
  {
   "cell_type": "code",
   "execution_count": 135,
   "metadata": {
    "tags": []
   },
   "outputs": [
    {
     "output_type": "stream",
     "name": "stdout",
     "text": "Quantidade de inscriçoes por Dislexia.\n\nConsulta inciada -  2020-09-02 20:21:40.507127\n+--------+--------------+----------+\n|DISLEXIA|QTDE_INSCRICAO|PERCENTUAL|\n+--------+--------------+----------+\n|     Não|      33707202|     99.98|\n|     Sim|          6950|      0.02|\n+--------+--------------+----------+\n\nConsulta realizada com sucesso -  2020-09-02 20:24:43.415834\n"
    }
   ],
   "source": [
    "print('Quantidade de inscriçoes por Dislexia.')\n",
    "print('')\n",
    "print(f'Consulta inciada -  {datetime.now()}')\n",
    "\n",
    "sqlContext.sql('SELECT DISLEXIA, COUNT(*) AS QTDE_INSCRICAO, ROUND((COUNT(*)/(SELECT COUNT(*)/100 FROM enemtb)),2) AS PERCENTUAL FROM enemtb GROUP BY DISLEXIA ORDER BY COUNT(*) DESC').show()\n",
    "\n",
    "print(f'Consulta realizada com sucesso -  {datetime.now()}')"
   ]
  },
  {
   "cell_type": "code",
   "execution_count": 136,
   "metadata": {
    "tags": []
   },
   "outputs": [
    {
     "output_type": "stream",
     "name": "stdout",
     "text": "Quantidade de inscriçoes por Dislexia por Ano.\n\nConsulta inciada -  2020-09-02 20:24:43.430793\n+----+--------+--------------+----------+\n| ANO|DISLEXIA|QTDE_INSCRICAO|PERCENTUAL|\n+----+--------+--------------+----------+\n|2015|     Não|       7745367|     22.97|\n|2015|     Sim|          1060|       0.0|\n|2016|     Não|       8625928|     25.59|\n|2016|     Sim|          1439|       0.0|\n|2017|     Não|       6729904|     19.96|\n|2017|     Sim|          1437|       0.0|\n|2018|     Não|       5512329|     16.35|\n|2018|     Sim|          1418|       0.0|\n|2019|     Não|       5093674|     15.11|\n|2019|     Sim|          1596|       0.0|\n+----+--------+--------------+----------+\n\nConsulta realizada com sucesso -  2020-09-02 20:27:48.556669\n"
    }
   ],
   "source": [
    "print('Quantidade de inscriçoes por Dislexia por Ano.')\n",
    "print('')\n",
    "print(f'Consulta inciada -  {datetime.now()}')\n",
    "\n",
    "sqlContext.sql('SELECT NU_ANO AS ANO, DISLEXIA, COUNT(*) AS QTDE_INSCRICAO, ROUND((COUNT(*)/(SELECT COUNT(*)/100 FROM enemtb)),2) AS PERCENTUAL FROM enemtb GROUP BY NU_ANO, DISLEXIA ORDER BY NU_ANO, COUNT(*) DESC').show()\n",
    "\n",
    "print(f'Consulta realizada com sucesso -  {datetime.now()}')"
   ]
  },
  {
   "cell_type": "code",
   "execution_count": 137,
   "metadata": {
    "tags": []
   },
   "outputs": [
    {
     "output_type": "stream",
     "name": "stdout",
     "text": "Quantidade de inscriçoes por Discalculia.\n\nConsulta inciada -  2020-09-02 20:27:48.583598\n+-----------+--------------+----------+\n|DISCALCULIA|QTDE_INSCRICAO|PERCENTUAL|\n+-----------+--------------+----------+\n|        Não|      33712676|     100.0|\n|        Sim|          1476|       0.0|\n+-----------+--------------+----------+\n\nConsulta realizada com sucesso -  2020-09-02 20:30:55.340323\n"
    }
   ],
   "source": [
    "print('Quantidade de inscriçoes por Discalculia.')\n",
    "print('')\n",
    "print(f'Consulta inciada -  {datetime.now()}')\n",
    "\n",
    "sqlContext.sql('SELECT DISCALCULIA, COUNT(*) AS QTDE_INSCRICAO, ROUND((COUNT(*)/(SELECT COUNT(*)/100 FROM enemtb)),2) AS PERCENTUAL FROM enemtb GROUP BY DISCALCULIA ORDER BY COUNT(*) DESC').show()\n",
    "\n",
    "print(f'Consulta realizada com sucesso -  {datetime.now()}')"
   ]
  },
  {
   "cell_type": "code",
   "execution_count": 138,
   "metadata": {
    "tags": []
   },
   "outputs": [
    {
     "output_type": "stream",
     "name": "stdout",
     "text": "Quantidade de inscriçoes por Discalculia por Ano.\n\nConsulta inciada -  2020-09-02 20:30:55.360269\n+----+-----------+--------------+----------+\n| ANO|DISCALCULIA|QTDE_INSCRICAO|PERCENTUAL|\n+----+-----------+--------------+----------+\n|2015|        Não|       7746248|     22.98|\n|2015|        Sim|           179|       0.0|\n|2016|        Não|       8627025|     25.59|\n|2016|        Sim|           342|       0.0|\n|2017|        Não|       6731068|     19.97|\n|2017|        Sim|           273|       0.0|\n|2018|        Não|       5513447|     16.35|\n|2018|        Sim|           300|       0.0|\n|2019|        Não|       5094888|     15.11|\n|2019|        Sim|           382|       0.0|\n+----+-----------+--------------+----------+\n\nConsulta realizada com sucesso -  2020-09-02 20:33:57.220575\n"
    }
   ],
   "source": [
    "print('Quantidade de inscriçoes por Discalculia por Ano.')\n",
    "print('')\n",
    "print(f'Consulta inciada -  {datetime.now()}')\n",
    "\n",
    "sqlContext.sql('SELECT NU_ANO AS ANO, DISCALCULIA, COUNT(*) AS QTDE_INSCRICAO, ROUND((COUNT(*)/(SELECT COUNT(*)/100 FROM enemtb)),2) AS PERCENTUAL FROM enemtb GROUP BY NU_ANO, DISCALCULIA ORDER BY NU_ANO, COUNT(*) DESC').show()\n",
    "\n",
    "print(f'Consulta realizada com sucesso -  {datetime.now()}')"
   ]
  },
  {
   "cell_type": "code",
   "execution_count": 139,
   "metadata": {
    "tags": []
   },
   "outputs": [
    {
     "output_type": "stream",
     "name": "stdout",
     "text": "Quantidade de inscriçoes por Autismo.\n\nConsulta inciada -  2020-09-02 20:33:57.235536\n+-------+--------------+----------+\n|AUTISMO|QTDE_INSCRICAO|PERCENTUAL|\n+-------+--------------+----------+\n|    Não|      33710842|     99.99|\n|    Sim|          3310|      0.01|\n+-------+--------------+----------+\n\nConsulta realizada com sucesso -  2020-09-02 20:37:04.556040\n"
    }
   ],
   "source": [
    "print('Quantidade de inscriçoes por Autismo.')\n",
    "print('')\n",
    "print(f'Consulta inciada -  {datetime.now()}')\n",
    "\n",
    "sqlContext.sql('SELECT AUTISMO, COUNT(*) AS QTDE_INSCRICAO, ROUND((COUNT(*)/(SELECT COUNT(*)/100 FROM enemtb)),2) AS PERCENTUAL FROM enemtb GROUP BY AUTISMO ORDER BY COUNT(*) DESC').show()\n",
    "\n",
    "print(f'Consulta realizada com sucesso -  {datetime.now()}')"
   ]
  },
  {
   "cell_type": "code",
   "execution_count": 140,
   "metadata": {
    "tags": []
   },
   "outputs": [
    {
     "output_type": "stream",
     "name": "stdout",
     "text": "Quantidade de inscriçoes por Autismo por Ano.\n\nConsulta inciada -  2020-09-02 20:37:04.574991\n+----+-------+--------------+----------+\n| ANO|AUTISMO|QTDE_INSCRICAO|PERCENTUAL|\n+----+-------+--------------+----------+\n|2015|    Não|       7746171|     22.98|\n|2015|    Sim|           256|       0.0|\n|2016|    Não|       8626995|     25.59|\n|2016|    Sim|           372|       0.0|\n|2017|    Não|       6730637|     19.96|\n|2017|    Sim|           704|       0.0|\n|2018|    Não|       5512973|     16.35|\n|2018|    Sim|           774|       0.0|\n|2019|    Não|       5094066|     15.11|\n|2019|    Sim|          1204|       0.0|\n+----+-------+--------------+----------+\n\nConsulta realizada com sucesso -  2020-09-02 20:40:07.717701\n"
    }
   ],
   "source": [
    "print('Quantidade de inscriçoes por Autismo por Ano.')\n",
    "print('')\n",
    "print(f'Consulta inciada -  {datetime.now()}')\n",
    "\n",
    "sqlContext.sql('SELECT NU_ANO AS ANO, AUTISMO, COUNT(*) AS QTDE_INSCRICAO, ROUND((COUNT(*)/(SELECT COUNT(*)/100 FROM enemtb)),2) AS PERCENTUAL FROM enemtb GROUP BY NU_ANO, AUTISMO ORDER BY NU_ANO, COUNT(*) DESC').show()\n",
    "\n",
    "print(f'Consulta realizada com sucesso -  {datetime.now()}')"
   ]
  },
  {
   "cell_type": "code",
   "execution_count": 141,
   "metadata": {
    "tags": []
   },
   "outputs": [
    {
     "output_type": "stream",
     "name": "stdout",
     "text": "Quantidade de inscriçoes por Visão Monocular.\n\nConsulta inciada -  2020-09-02 20:40:07.737647\n+---------------+--------------+----------+\n|VISAO_MONOCULAR|QTDE_INSCRICAO|PERCENTUAL|\n+---------------+--------------+----------+\n|            Não|      33703225|     99.97|\n|            Sim|         10927|      0.03|\n+---------------+--------------+----------+\n\nConsulta realizada com sucesso -  2020-09-02 20:43:11.909461\n"
    }
   ],
   "source": [
    "print('Quantidade de inscriçoes por Visão Monocular.')\n",
    "print('')\n",
    "print(f'Consulta inciada -  {datetime.now()}')\n",
    "\n",
    "sqlContext.sql('SELECT VISAO_MONOCULAR, COUNT(*) AS QTDE_INSCRICAO, ROUND((COUNT(*)/(SELECT COUNT(*)/100 FROM enemtb)),2) AS PERCENTUAL FROM enemtb GROUP BY VISAO_MONOCULAR ORDER BY COUNT(*) DESC').show()\n",
    "\n",
    "print(f'Consulta realizada com sucesso -  {datetime.now()}')"
   ]
  },
  {
   "cell_type": "code",
   "execution_count": 142,
   "metadata": {
    "tags": []
   },
   "outputs": [
    {
     "output_type": "stream",
     "name": "stdout",
     "text": "Quantidade de inscriçoes por Visão Monocular por Ano.\n\nConsulta inciada -  2020-09-02 20:43:11.934393\n+----+---------------+--------------+----------+\n| ANO|VISAO_MONOCULAR|QTDE_INSCRICAO|PERCENTUAL|\n+----+---------------+--------------+----------+\n|2015|            Não|       7743474|     22.97|\n|2015|            Sim|          2953|      0.01|\n|2016|            Não|       8623622|     25.58|\n|2016|            Sim|          3745|      0.01|\n|2017|            Não|       6729621|     19.96|\n|2017|            Sim|          1720|      0.01|\n|2018|            Não|       5512347|     16.35|\n|2018|            Sim|          1400|       0.0|\n|2019|            Não|       5094161|     15.11|\n|2019|            Sim|          1109|       0.0|\n+----+---------------+--------------+----------+\n\nConsulta realizada com sucesso -  2020-09-02 20:46:18.600022\n"
    }
   ],
   "source": [
    "print('Quantidade de inscriçoes por Visão Monocular por Ano.')\n",
    "print('')\n",
    "print(f'Consulta inciada -  {datetime.now()}')\n",
    "\n",
    "sqlContext.sql('SELECT NU_ANO AS ANO, VISAO_MONOCULAR, COUNT(*) AS QTDE_INSCRICAO, ROUND((COUNT(*)/(SELECT COUNT(*)/100 FROM enemtb)),2) AS PERCENTUAL FROM enemtb GROUP BY NU_ANO, VISAO_MONOCULAR ORDER BY NU_ANO, COUNT(*) DESC').show()\n",
    "\n",
    "print(f'Consulta realizada com sucesso -  {datetime.now()}')"
   ]
  },
  {
   "cell_type": "code",
   "execution_count": 143,
   "metadata": {
    "tags": []
   },
   "outputs": [
    {
     "output_type": "stream",
     "name": "stdout",
     "text": "Quantidade de inscriçoes por Outra Deficiência.\n\nConsulta inciada -  2020-09-02 20:46:18.621964\n+---------+--------------+----------+\n|OUTRA_DEF|QTDE_INSCRICAO|PERCENTUAL|\n+---------+--------------+----------+\n|      Não|      33695615|     99.95|\n|      Sim|         18537|      0.05|\n+---------+--------------+----------+\n\nConsulta realizada com sucesso -  2020-09-02 20:49:21.018948\n"
    }
   ],
   "source": [
    "print('Quantidade de inscriçoes por Outra Deficiência.')\n",
    "print('')\n",
    "print(f'Consulta inciada -  {datetime.now()}')\n",
    "\n",
    "sqlContext.sql('SELECT OUTRA_DEF, COUNT(*) AS QTDE_INSCRICAO, ROUND((COUNT(*)/(SELECT COUNT(*)/100 FROM enemtb)),2) AS PERCENTUAL FROM enemtb GROUP BY OUTRA_DEF ORDER BY COUNT(*) DESC').show()\n",
    "\n",
    "print(f'Consulta realizada com sucesso -  {datetime.now()}')"
   ]
  },
  {
   "cell_type": "code",
   "execution_count": 144,
   "metadata": {
    "tags": []
   },
   "outputs": [
    {
     "output_type": "stream",
     "name": "stdout",
     "text": "Quantidade de inscriçoes por Outra Deficiência por Ano.\n\nConsulta inciada -  2020-09-02 20:49:21.043882\n+----+---------+--------------+----------+\n| ANO|OUTRA_DEF|QTDE_INSCRICAO|PERCENTUAL|\n+----+---------+--------------+----------+\n|2015|      Não|       7745132|     22.97|\n|2015|      Sim|          1295|       0.0|\n|2016|      Não|       8623835|     25.58|\n|2016|      Sim|          3532|      0.01|\n|2017|      Não|       6725390|     19.95|\n|2017|      Sim|          5951|      0.02|\n|2018|      Não|       5509052|     16.34|\n|2018|      Sim|          4695|      0.01|\n|2019|      Não|       5092206|      15.1|\n|2019|      Sim|          3064|      0.01|\n+----+---------+--------------+----------+\n\nConsulta realizada com sucesso -  2020-09-02 20:52:27.043737\n"
    }
   ],
   "source": [
    "print('Quantidade de inscriçoes por Outra Deficiência por Ano.')\n",
    "print('')\n",
    "print(f'Consulta inciada -  {datetime.now()}')\n",
    "\n",
    "sqlContext.sql('SELECT NU_ANO AS ANO, OUTRA_DEF, COUNT(*) AS QTDE_INSCRICAO, ROUND((COUNT(*)/(SELECT COUNT(*)/100 FROM enemtb)),2) AS PERCENTUAL FROM enemtb GROUP BY NU_ANO, OUTRA_DEF ORDER BY NU_ANO, COUNT(*) DESC').show()\n",
    "\n",
    "print(f'Consulta realizada com sucesso -  {datetime.now()}')"
   ]
  },
  {
   "cell_type": "code",
   "execution_count": 145,
   "metadata": {
    "tags": []
   },
   "outputs": [
    {
     "output_type": "stream",
     "name": "stdout",
     "text": "Quantidade de inscriçoes por Gestante.\n\nConsulta inciada -  2020-09-02 20:52:27.070665\n+--------+--------------+----------+\n|GESTANTE|QTDE_INSCRICAO|PERCENTUAL|\n+--------+--------------+----------+\n|     Não|      33693332|     99.94|\n|     Sim|         20820|      0.06|\n+--------+--------------+----------+\n\nConsulta realizada com sucesso -  2020-09-02 20:55:32.486875\n"
    }
   ],
   "source": [
    "print('Quantidade de inscriçoes por Gestante.')\n",
    "print('')\n",
    "print(f'Consulta inciada -  {datetime.now()}')\n",
    "\n",
    "sqlContext.sql('SELECT GESTANTE, COUNT(*) AS QTDE_INSCRICAO, ROUND((COUNT(*)/(SELECT COUNT(*)/100 FROM enemtb)),2) AS PERCENTUAL FROM enemtb GROUP BY GESTANTE ORDER BY COUNT(*) DESC').show()\n",
    "\n",
    "print(f'Consulta realizada com sucesso -  {datetime.now()}')"
   ]
  },
  {
   "cell_type": "code",
   "execution_count": 146,
   "metadata": {
    "tags": []
   },
   "outputs": [
    {
     "output_type": "stream",
     "name": "stdout",
     "text": "Quantidade de inscriçoes por Gestante por Ano.\n\nConsulta inciada -  2020-09-02 20:55:32.503831\n+----+--------+--------------+----------+\n| ANO|GESTANTE|QTDE_INSCRICAO|PERCENTUAL|\n+----+--------+--------------+----------+\n|2015|     Não|       7739050|     22.95|\n|2015|     Sim|          7377|      0.02|\n|2016|     Não|       8619777|     25.57|\n|2016|     Sim|          7590|      0.02|\n|2017|     Não|       6728678|     19.96|\n|2017|     Sim|          2663|      0.01|\n|2018|     Não|       5511967|     16.35|\n|2018|     Sim|          1780|      0.01|\n|2019|     Não|       5093860|     15.11|\n|2019|     Sim|          1410|       0.0|\n+----+--------+--------------+----------+\n\nConsulta realizada com sucesso -  2020-09-02 20:58:37.030603\n"
    }
   ],
   "source": [
    "print('Quantidade de inscriçoes por Gestante por Ano.')\n",
    "print('')\n",
    "print(f'Consulta inciada -  {datetime.now()}')\n",
    "\n",
    "sqlContext.sql('SELECT NU_ANO AS ANO, GESTANTE, COUNT(*) AS QTDE_INSCRICAO, ROUND((COUNT(*)/(SELECT COUNT(*)/100 FROM enemtb)),2) AS PERCENTUAL FROM enemtb GROUP BY NU_ANO, GESTANTE ORDER BY NU_ANO, COUNT(*) DESC').show()\n",
    "\n",
    "print(f'Consulta realizada com sucesso -  {datetime.now()}')"
   ]
  },
  {
   "cell_type": "code",
   "execution_count": 147,
   "metadata": {
    "tags": []
   },
   "outputs": [
    {
     "output_type": "stream",
     "name": "stdout",
     "text": "Quantidade de inscriçoes por Lactante.\n\nConsulta inciada -  2020-09-02 20:58:37.064540\n+--------+--------------+----------+\n|LACTANTE|QTDE_INSCRICAO|PERCENTUAL|\n+--------+--------------+----------+\n|     Não|      33671090|     99.87|\n|     Sim|         43062|      0.13|\n+--------+--------------+----------+\n\nConsulta realizada com sucesso -  2020-09-02 21:01:41.510811\n"
    }
   ],
   "source": [
    "print('Quantidade de inscriçoes por Lactante.')\n",
    "print('')\n",
    "print(f'Consulta inciada -  {datetime.now()}')\n",
    "\n",
    "sqlContext.sql('SELECT LACTANTE, COUNT(*) AS QTDE_INSCRICAO, ROUND((COUNT(*)/(SELECT COUNT(*)/100 FROM enemtb)),2) AS PERCENTUAL FROM enemtb GROUP BY LACTANTE ORDER BY COUNT(*) DESC').show()\n",
    "\n",
    "print(f'Consulta realizada com sucesso -  {datetime.now()}')"
   ]
  },
  {
   "cell_type": "code",
   "execution_count": 148,
   "metadata": {
    "tags": []
   },
   "outputs": [
    {
     "output_type": "stream",
     "name": "stdout",
     "text": "Quantidade de inscriçoes por Lactante por Ano.\n\nConsulta inciada -  2020-09-02 21:01:41.542726\n+----+--------+--------------+----------+\n| ANO|LACTANTE|QTDE_INSCRICAO|PERCENTUAL|\n+----+--------+--------------+----------+\n|2015|     Não|       7736830|     22.95|\n|2015|     Sim|          9597|      0.03|\n|2016|     Não|       8610829|     25.54|\n|2016|     Sim|         16538|      0.05|\n|2017|     Não|       6723420|     19.94|\n|2017|     Sim|          7921|      0.02|\n|2018|     Não|       5508371|     16.34|\n|2018|     Sim|          5376|      0.02|\n|2019|     Não|       5091640|      15.1|\n|2019|     Sim|          3630|      0.01|\n+----+--------+--------------+----------+\n\nConsulta realizada com sucesso -  2020-09-02 21:04:47.084096\n"
    }
   ],
   "source": [
    "print('Quantidade de inscriçoes por Lactante por Ano.')\n",
    "print('')\n",
    "print(f'Consulta inciada -  {datetime.now()}')\n",
    "\n",
    "sqlContext.sql('SELECT NU_ANO AS ANO, LACTANTE, COUNT(*) AS QTDE_INSCRICAO, ROUND((COUNT(*)/(SELECT COUNT(*)/100 FROM enemtb)),2) AS PERCENTUAL FROM enemtb GROUP BY NU_ANO, LACTANTE ORDER BY NU_ANO, COUNT(*) DESC').show()\n",
    "\n",
    "print(f'Consulta realizada com sucesso -  {datetime.now()}')"
   ]
  },
  {
   "cell_type": "code",
   "execution_count": 149,
   "metadata": {
    "tags": []
   },
   "outputs": [
    {
     "output_type": "stream",
     "name": "stdout",
     "text": "Quantidade de inscriçoes por Idoso.\n\nConsulta inciada -  2020-09-02 21:04:47.104041\n+-----+--------------+----------+\n|IDOSO|QTDE_INSCRICAO|PERCENTUAL|\n+-----+--------------+----------+\n|  Não|      33710312|     99.99|\n|  Sim|          3840|      0.01|\n+-----+--------------+----------+\n\nConsulta realizada com sucesso -  2020-09-02 21:07:51.938395\n"
    }
   ],
   "source": [
    "print('Quantidade de inscriçoes por Idoso.')\n",
    "print('')\n",
    "print(f'Consulta inciada -  {datetime.now()}')\n",
    "\n",
    "sqlContext.sql('SELECT IDOSO, COUNT(*) AS QTDE_INSCRICAO, ROUND((COUNT(*)/(SELECT COUNT(*)/100 FROM enemtb)),2) AS PERCENTUAL FROM enemtb GROUP BY IDOSO ORDER BY COUNT(*) DESC').show()\n",
    "\n",
    "print(f'Consulta realizada com sucesso -  {datetime.now()}')"
   ]
  },
  {
   "cell_type": "code",
   "execution_count": 150,
   "metadata": {
    "tags": []
   },
   "outputs": [
    {
     "output_type": "stream",
     "name": "stdout",
     "text": "Quantidade de inscriçoes por Idoso por Ano.\n\nConsulta inciada -  2020-09-02 21:07:51.956346\n+----+-----+--------------+----------+\n| ANO|IDOSO|QTDE_INSCRICAO|PERCENTUAL|\n+----+-----+--------------+----------+\n|2015|  Não|       7744935|     22.97|\n|2015|  Sim|          1492|       0.0|\n|2016|  Não|       8625912|     25.59|\n|2016|  Sim|          1455|       0.0|\n|2017|  Não|       6730934|     19.96|\n|2017|  Sim|           407|       0.0|\n|2018|  Não|       5513493|     16.35|\n|2018|  Sim|           254|       0.0|\n|2019|  Não|       5095038|     15.11|\n|2019|  Sim|           232|       0.0|\n+----+-----+--------------+----------+\n\nConsulta realizada com sucesso -  2020-09-02 21:10:55.016972\n"
    }
   ],
   "source": [
    "print('Quantidade de inscriçoes por Idoso por Ano.')\n",
    "print('')\n",
    "print(f'Consulta inciada -  {datetime.now()}')\n",
    "\n",
    "sqlContext.sql('SELECT NU_ANO AS ANO, IDOSO, COUNT(*) AS QTDE_INSCRICAO, ROUND((COUNT(*)/(SELECT COUNT(*)/100 FROM enemtb)),2) AS PERCENTUAL FROM enemtb GROUP BY NU_ANO, IDOSO ORDER BY NU_ANO, COUNT(*) DESC').show()\n",
    "\n",
    "print(f'Consulta realizada com sucesso -  {datetime.now()}')"
   ]
  },
  {
   "cell_type": "code",
   "execution_count": 151,
   "metadata": {
    "tags": []
   },
   "outputs": [
    {
     "output_type": "stream",
     "name": "stdout",
     "text": "Quantidade de inscriçoes por Esuda em Classe Hospitalar.\n\nConsulta inciada -  2020-09-02 21:10:55.030936\n+------------------------+--------------+----------+\n|ESTUDA_CLASSE_HOSPITALAR|QTDE_INSCRICAO|PERCENTUAL|\n+------------------------+--------------+----------+\n|                     Não|      33713999|     100.0|\n|                     Sim|           153|       0.0|\n+------------------------+--------------+----------+\n\nConsulta realizada com sucesso -  2020-09-02 21:14:03.582175\n"
    }
   ],
   "source": [
    "print('Quantidade de inscriçoes por Esuda em Classe Hospitalar.')\n",
    "print('')\n",
    "print(f'Consulta inciada -  {datetime.now()}')\n",
    "\n",
    "sqlContext.sql('SELECT ESTUDA_CLASSE_HOSPITALAR, COUNT(*) AS QTDE_INSCRICAO, ROUND((COUNT(*)/(SELECT COUNT(*)/100 FROM enemtb)),2) AS PERCENTUAL FROM enemtb GROUP BY ESTUDA_CLASSE_HOSPITALAR ORDER BY COUNT(*) DESC').show()\n",
    "\n",
    "print(f'Consulta realizada com sucesso -  {datetime.now()}')"
   ]
  },
  {
   "cell_type": "code",
   "execution_count": 152,
   "metadata": {
    "tags": []
   },
   "outputs": [
    {
     "output_type": "stream",
     "name": "stdout",
     "text": "Quantidade de inscriçoes por Esuda em Classe Hospitalar por Ano.\n\nConsulta inciada -  2020-09-02 21:14:03.597135\n+----+------------------------+--------------+----------+\n| ANO|ESTUDA_CLASSE_HOSPITALAR|QTDE_INSCRICAO|PERCENTUAL|\n+----+------------------------+--------------+----------+\n|2015|                     Não|       7746409|     22.98|\n|2015|                     Sim|            18|       0.0|\n|2016|                     Não|       8627329|     25.59|\n|2016|                     Sim|            38|       0.0|\n|2017|                     Não|       6731301|     19.97|\n|2017|                     Sim|            40|       0.0|\n|2018|                     Não|       5513714|     16.35|\n|2018|                     Sim|            33|       0.0|\n|2019|                     Não|       5095246|     15.11|\n|2019|                     Sim|            24|       0.0|\n+----+------------------------+--------------+----------+\n\nConsulta realizada com sucesso -  2020-09-02 21:17:08.653801\n"
    }
   ],
   "source": [
    "print('Quantidade de inscriçoes por Esuda em Classe Hospitalar por Ano.')\n",
    "print('')\n",
    "print(f'Consulta inciada -  {datetime.now()}')\n",
    "\n",
    "sqlContext.sql('SELECT NU_ANO AS ANO, ESTUDA_CLASSE_HOSPITALAR, COUNT(*) AS QTDE_INSCRICAO, ROUND((COUNT(*)/(SELECT COUNT(*)/100 FROM enemtb)),2) AS PERCENTUAL FROM enemtb GROUP BY NU_ANO, ESTUDA_CLASSE_HOSPITALAR ORDER BY NU_ANO, COUNT(*) DESC').show()\n",
    "\n",
    "print(f'Consulta realizada com sucesso -  {datetime.now()}')"
   ]
  },
  {
   "cell_type": "code",
   "execution_count": 153,
   "metadata": {
    "tags": []
   },
   "outputs": [
    {
     "output_type": "stream",
     "name": "stdout",
     "text": "Quantidade de inscriçoes por Esuda em Sem Recurso.\n\nConsulta inciada -  2020-09-02 21:17:08.674744\n+-----------+--------------+----------+\n|SEM_RECURSO|QTDE_INSCRICAO|PERCENTUAL|\n+-----------+--------------+----------+\n|        Não|      33598836|     99.66|\n|        Sim|        115316|      0.34|\n+-----------+--------------+----------+\n\nConsulta realizada com sucesso -  2020-09-02 21:20:11.316157\n"
    }
   ],
   "source": [
    "print('Quantidade de inscriçoes por Esuda em Sem Recurso.')\n",
    "print('')\n",
    "print(f'Consulta inciada -  {datetime.now()}')\n",
    "\n",
    "sqlContext.sql('SELECT SEM_RECURSO, COUNT(*) AS QTDE_INSCRICAO, ROUND((COUNT(*)/(SELECT COUNT(*)/100 FROM enemtb)),2) AS PERCENTUAL FROM enemtb GROUP BY SEM_RECURSO ORDER BY COUNT(*) DESC').show()\n",
    "\n",
    "print(f'Consulta realizada com sucesso -  {datetime.now()}')"
   ]
  },
  {
   "cell_type": "code",
   "execution_count": 154,
   "metadata": {
    "tags": []
   },
   "outputs": [
    {
     "output_type": "stream",
     "name": "stdout",
     "text": "Quantidade de inscriçoes por Esuda em Sem Recurso por Ano.\n\nConsulta inciada -  2020-09-02 21:20:11.336102\n+----+-----------+--------------+----------+\n| ANO|SEM_RECURSO|QTDE_INSCRICAO|PERCENTUAL|\n+----+-----------+--------------+----------+\n|2015|        Não|       7711644|     22.87|\n|2015|        Sim|         34783|       0.1|\n|2016|        Não|       8585635|     25.47|\n|2016|        Sim|         41732|      0.12|\n|2017|        Não|       6708183|      19.9|\n|2017|        Sim|         23158|      0.07|\n|2018|        Não|       5504232|     16.33|\n|2018|        Sim|          9515|      0.03|\n|2019|        Não|       5089142|     15.09|\n|2019|        Sim|          6128|      0.02|\n+----+-----------+--------------+----------+\n\nConsulta realizada com sucesso -  2020-09-02 21:23:18.894160\n"
    }
   ],
   "source": [
    "print('Quantidade de inscriçoes por Esuda em Sem Recurso por Ano.')\n",
    "print('')\n",
    "print(f'Consulta inciada -  {datetime.now()}')\n",
    "\n",
    "sqlContext.sql('SELECT NU_ANO AS ANO, SEM_RECURSO, COUNT(*) AS QTDE_INSCRICAO, ROUND((COUNT(*)/(SELECT COUNT(*)/100 FROM enemtb)),2) AS PERCENTUAL FROM enemtb GROUP BY NU_ANO, SEM_RECURSO ORDER BY NU_ANO, COUNT(*) DESC').show()\n",
    "\n",
    "print(f'Consulta realizada com sucesso -  {datetime.now()}')"
   ]
  },
  {
   "cell_type": "code",
   "execution_count": 155,
   "metadata": {
    "tags": []
   },
   "outputs": [
    {
     "output_type": "stream",
     "name": "stdout",
     "text": "Quantidade de inscriçoes por Braille.\n\nConsulta inciada -  2020-09-02 21:23:18.919093\n+-------+--------------+----------+\n|BRAILLE|QTDE_INSCRICAO|PERCENTUAL|\n+-------+--------------+----------+\n|    Não|      33712089|     99.99|\n|    Sim|          2063|      0.01|\n+-------+--------------+----------+\n\nConsulta realizada com sucesso -  2020-09-02 21:26:23.020041\n"
    }
   ],
   "source": [
    "print('Quantidade de inscriçoes por Braille.')\n",
    "print('')\n",
    "print(f'Consulta inciada -  {datetime.now()}')\n",
    "\n",
    "sqlContext.sql('SELECT BRAILLE, COUNT(*) AS QTDE_INSCRICAO, ROUND((COUNT(*)/(SELECT COUNT(*)/100 FROM enemtb)),2) AS PERCENTUAL FROM enemtb GROUP BY BRAILLE ORDER BY COUNT(*) DESC').show()\n",
    "\n",
    "print(f'Consulta realizada com sucesso -  {datetime.now()}')"
   ]
  },
  {
   "cell_type": "code",
   "execution_count": 156,
   "metadata": {
    "tags": []
   },
   "outputs": [
    {
     "output_type": "stream",
     "name": "stdout",
     "text": "Quantidade de inscriçoes por Braille por Ano.\n\nConsulta inciada -  2020-09-02 21:26:23.037994\n+----+-------+--------------+----------+\n| ANO|BRAILLE|QTDE_INSCRICAO|PERCENTUAL|\n+----+-------+--------------+----------+\n|2015|    Não|       7745935|     22.98|\n|2015|    Sim|           492|       0.0|\n|2016|    Não|       8626807|     25.59|\n|2016|    Sim|           560|       0.0|\n|2017|    Não|       6730980|     19.96|\n|2017|    Sim|           361|       0.0|\n|2018|    Não|       5513399|     16.35|\n|2018|    Sim|           348|       0.0|\n|2019|    Não|       5094968|     15.11|\n|2019|    Sim|           302|       0.0|\n+----+-------+--------------+----------+\n\nConsulta realizada com sucesso -  2020-09-02 21:29:26.665958\n"
    }
   ],
   "source": [
    "print('Quantidade de inscriçoes por Braille por Ano.')\n",
    "print('')\n",
    "print(f'Consulta inciada -  {datetime.now()}')\n",
    "\n",
    "sqlContext.sql('SELECT NU_ANO AS ANO, BRAILLE, COUNT(*) AS QTDE_INSCRICAO, ROUND((COUNT(*)/(SELECT COUNT(*)/100 FROM enemtb)),2) AS PERCENTUAL FROM enemtb GROUP BY NU_ANO, BRAILLE ORDER BY NU_ANO, COUNT(*) DESC').show()\n",
    "\n",
    "print(f'Consulta realizada com sucesso -  {datetime.now()}')"
   ]
  },
  {
   "cell_type": "code",
   "execution_count": 157,
   "metadata": {
    "tags": []
   },
   "outputs": [
    {
     "output_type": "stream",
     "name": "stdout",
     "text": "Quantidade de inscriçoes por Ampliada 24.\n\nConsulta inciada -  2020-09-02 21:29:26.689893\n+-----------+--------------+----------+\n|AMPLIADA_24|QTDE_INSCRICAO|PERCENTUAL|\n+-----------+--------------+----------+\n|        Não|      33706677|     99.98|\n|        Sim|          7475|      0.02|\n+-----------+--------------+----------+\n\nConsulta realizada com sucesso -  2020-09-02 21:32:34.553868\n"
    }
   ],
   "source": [
    "print('Quantidade de inscriçoes por Ampliada 24.')\n",
    "print('')\n",
    "print(f'Consulta inciada -  {datetime.now()}')\n",
    "\n",
    "sqlContext.sql('SELECT AMPLIADA_24, COUNT(*) AS QTDE_INSCRICAO, ROUND((COUNT(*)/(SELECT COUNT(*)/100 FROM enemtb)),2) AS PERCENTUAL FROM enemtb GROUP BY AMPLIADA_24 ORDER BY COUNT(*) DESC').show()\n",
    "\n",
    "print(f'Consulta realizada com sucesso -  {datetime.now()}')"
   ]
  },
  {
   "cell_type": "code",
   "execution_count": 158,
   "metadata": {
    "tags": []
   },
   "outputs": [
    {
     "output_type": "stream",
     "name": "stdout",
     "text": "Quantidade de inscriçoes por Ampliada 24.\n\nConsulta inciada -  2020-09-02 21:32:34.580797\n+----+-----------+--------------+----------+\n| ANO|AMPLIADA_24|QTDE_INSCRICAO|PERCENTUAL|\n+----+-----------+--------------+----------+\n|2015|        Não|       7744807|     22.97|\n|2015|        Sim|          1620|       0.0|\n|2016|        Não|       8625244|     25.58|\n|2016|        Sim|          2123|      0.01|\n|2017|        Não|       6729963|     19.96|\n|2017|        Sim|          1378|       0.0|\n|2018|        Não|       5512480|     16.35|\n|2018|        Sim|          1267|       0.0|\n|2019|        Não|       5094183|     15.11|\n|2019|        Sim|          1087|       0.0|\n+----+-----------+--------------+----------+\n\nConsulta realizada com sucesso -  2020-09-02 21:35:39.015752\n"
    }
   ],
   "source": [
    "print('Quantidade de inscriçoes por Ampliada 24.')\n",
    "print('')\n",
    "print(f'Consulta inciada -  {datetime.now()}')\n",
    "\n",
    "sqlContext.sql('SELECT NU_ANO AS ANO, AMPLIADA_24, COUNT(*) AS QTDE_INSCRICAO, ROUND((COUNT(*)/(SELECT COUNT(*)/100 FROM enemtb)),2) AS PERCENTUAL FROM enemtb GROUP BY NU_ANO, AMPLIADA_24 ORDER BY NU_ANO, COUNT(*) DESC').show()\n",
    "\n",
    "print(f'Consulta realizada com sucesso -  {datetime.now()}')"
   ]
  },
  {
   "cell_type": "code",
   "execution_count": 159,
   "metadata": {
    "tags": []
   },
   "outputs": [
    {
     "output_type": "stream",
     "name": "stdout",
     "text": "Quantidade de inscriçoes por Ampliada 18.\n\nConsulta inciada -  2020-09-02 21:35:39.035697\n+-----------+--------------+----------+\n|AMPLIADA_18|QTDE_INSCRICAO|PERCENTUAL|\n+-----------+--------------+----------+\n|        Não|      33687767|     99.92|\n|        Sim|         26385|      0.08|\n+-----------+--------------+----------+\n\nConsulta realizada com sucesso -  2020-09-02 21:38:45.985447\n"
    }
   ],
   "source": [
    "print('Quantidade de inscriçoes por Ampliada 18.')\n",
    "print('')\n",
    "print(f'Consulta inciada -  {datetime.now()}')\n",
    "\n",
    "sqlContext.sql('SELECT AMPLIADA_18, COUNT(*) AS QTDE_INSCRICAO, ROUND((COUNT(*)/(SELECT COUNT(*)/100 FROM enemtb)),2) AS PERCENTUAL FROM enemtb GROUP BY AMPLIADA_18 ORDER BY COUNT(*) DESC').show()\n",
    "\n",
    "print(f'Consulta realizada com sucesso -  {datetime.now()}')"
   ]
  },
  {
   "cell_type": "code",
   "execution_count": 160,
   "metadata": {
    "tags": []
   },
   "outputs": [
    {
     "output_type": "stream",
     "name": "stdout",
     "text": "Quantidade de inscriçoes por Ampliada 18.\n\nConsulta inciada -  2020-09-02 21:38:46.005393\n+----+-----------+--------------+----------+\n| ANO|AMPLIADA_18|QTDE_INSCRICAO|PERCENTUAL|\n+----+-----------+--------------+----------+\n|2015|        Não|       7740023|     22.96|\n|2015|        Sim|          6404|      0.02|\n|2016|        Não|       8620060|     25.57|\n|2016|        Sim|          7307|      0.02|\n|2017|        Não|       6727160|     19.95|\n|2017|        Sim|          4181|      0.01|\n|2018|        Não|       5509824|     16.34|\n|2018|        Sim|          3923|      0.01|\n|2019|        Não|       5090700|      15.1|\n|2019|        Sim|          4570|      0.01|\n+----+-----------+--------------+----------+\n\nConsulta realizada com sucesso -  2020-09-02 21:41:49.912777\n"
    }
   ],
   "source": [
    "print('Quantidade de inscriçoes por Ampliada 18.')\n",
    "print('')\n",
    "print(f'Consulta inciada -  {datetime.now()}')\n",
    "\n",
    "sqlContext.sql('SELECT NU_ANO AS ANO, AMPLIADA_18, COUNT(*) AS QTDE_INSCRICAO, ROUND((COUNT(*)/(SELECT COUNT(*)/100 FROM enemtb)),2) AS PERCENTUAL FROM enemtb GROUP BY NU_ANO, AMPLIADA_18 ORDER BY NU_ANO, COUNT(*) DESC').show()\n",
    "\n",
    "print(f'Consulta realizada com sucesso -  {datetime.now()}')"
   ]
  },
  {
   "cell_type": "code",
   "execution_count": 161,
   "metadata": {
    "tags": []
   },
   "outputs": [
    {
     "output_type": "stream",
     "name": "stdout",
     "text": "Quantidade de inscriçoes por Ledor.\n\nConsulta inciada -  2020-09-02 21:41:49.935716\n+-----+--------------+----------+\n|LEDOR|QTDE_INSCRICAO|PERCENTUAL|\n+-----+--------------+----------+\n|  Não|      33682753|     99.91|\n|  Sim|         31399|      0.09|\n+-----+--------------+----------+\n\nConsulta realizada com sucesso -  2020-09-02 21:44:57.667368\n"
    }
   ],
   "source": [
    "print('Quantidade de inscriçoes por Ledor.')\n",
    "print('')\n",
    "print(f'Consulta inciada -  {datetime.now()}')\n",
    "\n",
    "sqlContext.sql('SELECT LEDOR, COUNT(*) AS QTDE_INSCRICAO, ROUND((COUNT(*)/(SELECT COUNT(*)/100 FROM enemtb)),2) AS PERCENTUAL FROM enemtb GROUP BY LEDOR ORDER BY COUNT(*) DESC').show()\n",
    "\n",
    "print(f'Consulta realizada com sucesso -  {datetime.now()}')"
   ]
  },
  {
   "cell_type": "code",
   "execution_count": 162,
   "metadata": {
    "tags": []
   },
   "outputs": [
    {
     "output_type": "stream",
     "name": "stdout",
     "text": "Quantidade de inscriçoes por Ledor por Ano.\n\nConsulta inciada -  2020-09-02 21:44:57.684323\n+----+-----+--------------+----------+\n| ANO|LEDOR|QTDE_INSCRICAO|PERCENTUAL|\n+----+-----+--------------+----------+\n|2015|  Não|       7739315|     22.96|\n|2015|  Sim|          7112|      0.02|\n|2016|  Não|       8620272|     25.57|\n|2016|  Sim|          7095|      0.02|\n|2017|  Não|       6726195|     19.95|\n|2017|  Sim|          5146|      0.02|\n|2018|  Não|       5507975|     16.34|\n|2018|  Sim|          5772|      0.02|\n|2019|  Não|       5088996|     15.09|\n|2019|  Sim|          6274|      0.02|\n+----+-----+--------------+----------+\n\nConsulta realizada com sucesso -  2020-09-02 21:47:58.698611\n"
    }
   ],
   "source": [
    "print('Quantidade de inscriçoes por Ledor por Ano.')\n",
    "print('')\n",
    "print(f'Consulta inciada -  {datetime.now()}')\n",
    "\n",
    "sqlContext.sql('SELECT NU_ANO AS ANO, LEDOR, COUNT(*) AS QTDE_INSCRICAO, ROUND((COUNT(*)/(SELECT COUNT(*)/100 FROM enemtb)),2) AS PERCENTUAL FROM enemtb GROUP BY NU_ANO, LEDOR ORDER BY NU_ANO, COUNT(*) DESC').show()\n",
    "\n",
    "print(f'Consulta realizada com sucesso -  {datetime.now()}')"
   ]
  },
  {
   "cell_type": "code",
   "execution_count": 163,
   "metadata": {
    "tags": []
   },
   "outputs": [
    {
     "output_type": "stream",
     "name": "stdout",
     "text": "Quantidade de inscriçoes por Acesso.\n\nConsulta inciada -  2020-09-02 21:47:58.725540\n+------+--------------+----------+\n|ACESSO|QTDE_INSCRICAO|PERCENTUAL|\n+------+--------------+----------+\n|   Não|      33653419|     99.82|\n|   Sim|         60733|      0.18|\n+------+--------------+----------+\n\nConsulta realizada com sucesso -  2020-09-02 21:51:05.737875\n"
    }
   ],
   "source": [
    "print('Quantidade de inscriçoes por Acesso.')\n",
    "print('')\n",
    "print(f'Consulta inciada -  {datetime.now()}')\n",
    "\n",
    "sqlContext.sql('SELECT ACESSO, COUNT(*) AS QTDE_INSCRICAO, ROUND((COUNT(*)/(SELECT COUNT(*)/100 FROM enemtb)),2) AS PERCENTUAL FROM enemtb GROUP BY ACESSO ORDER BY COUNT(*) DESC').show()\n",
    "\n",
    "print(f'Consulta realizada com sucesso -  {datetime.now()}')"
   ]
  },
  {
   "cell_type": "code",
   "execution_count": 164,
   "metadata": {
    "tags": []
   },
   "outputs": [
    {
     "output_type": "stream",
     "name": "stdout",
     "text": "Quantidade de inscriçoes por Acesso por Ano.\n\nConsulta inciada -  2020-09-02 21:51:05.765103\n+----+------+--------------+----------+\n| ANO|ACESSO|QTDE_INSCRICAO|PERCENTUAL|\n+----+------+--------------+----------+\n|2015|   Não|       7730673|     22.93|\n|2015|   Sim|         15754|      0.05|\n|2016|   Não|       8609048|     25.54|\n|2016|   Sim|         18319|      0.05|\n|2017|   Não|       6722078|     19.94|\n|2017|   Sim|          9263|      0.03|\n|2018|   Não|       5504357|     16.33|\n|2018|   Sim|          9390|      0.03|\n|2019|   Não|       5087263|     15.09|\n|2019|   Sim|          8007|      0.02|\n+----+------+--------------+----------+\n\nConsulta realizada com sucesso -  2020-09-02 21:54:11.272158\n"
    }
   ],
   "source": [
    "print('Quantidade de inscriçoes por Acesso por Ano.')\n",
    "print('')\n",
    "print(f'Consulta inciada -  {datetime.now()}')\n",
    "\n",
    "sqlContext.sql('SELECT NU_ANO AS ANO, ACESSO, COUNT(*) AS QTDE_INSCRICAO, ROUND((COUNT(*)/(SELECT COUNT(*)/100 FROM enemtb)),2) AS PERCENTUAL FROM enemtb GROUP BY NU_ANO, ACESSO ORDER BY NU_ANO, COUNT(*) DESC').show()\n",
    "\n",
    "print(f'Consulta realizada com sucesso -  {datetime.now()}')"
   ]
  },
  {
   "cell_type": "code",
   "execution_count": 165,
   "metadata": {
    "tags": []
   },
   "outputs": [
    {
     "output_type": "stream",
     "name": "stdout",
     "text": "Quantidade de inscriçoes por Transcrição.\n\nConsulta inciada -  2020-09-02 21:54:11.295095\n+-----------+--------------+----------+\n|TRANSCRICAO|QTDE_INSCRICAO|PERCENTUAL|\n+-----------+--------------+----------+\n|        Não|      33683543|     99.91|\n|        Sim|         30609|      0.09|\n+-----------+--------------+----------+\n\nConsulta realizada com sucesso -  2020-09-02 21:57:16.790977\n"
    }
   ],
   "source": [
    "print('Quantidade de inscriçoes por Transcrição.')\n",
    "print('')\n",
    "print(f'Consulta inciada -  {datetime.now()}')\n",
    "\n",
    "sqlContext.sql('SELECT TRANSCRICAO, COUNT(*) AS QTDE_INSCRICAO, ROUND((COUNT(*)/(SELECT COUNT(*)/100 FROM enemtb)),2) AS PERCENTUAL FROM enemtb GROUP BY TRANSCRICAO ORDER BY COUNT(*) DESC').show()\n",
    "\n",
    "print(f'Consulta realizada com sucesso -  {datetime.now()}')"
   ]
  },
  {
   "cell_type": "code",
   "execution_count": 166,
   "metadata": {
    "tags": []
   },
   "outputs": [
    {
     "output_type": "stream",
     "name": "stdout",
     "text": "Quantidade de inscriçoes por Transcrição por Ano.\n\nConsulta inciada -  2020-09-02 21:57:16.818478\n+----+-----------+--------------+----------+\n| ANO|TRANSCRICAO|QTDE_INSCRICAO|PERCENTUAL|\n+----+-----------+--------------+----------+\n|2015|        Não|       7739137|     22.96|\n|2015|        Sim|          7290|      0.02|\n|2016|        Não|       8620312|     25.57|\n|2016|        Sim|          7055|      0.02|\n|2017|        Não|       6726112|     19.95|\n|2017|        Sim|          5229|      0.02|\n|2018|        Não|       5508346|     16.34|\n|2018|        Sim|          5401|      0.02|\n|2019|        Não|       5089636|      15.1|\n|2019|        Sim|          5634|      0.02|\n+----+-----------+--------------+----------+\n\nConsulta realizada com sucesso -  2020-09-02 22:00:22.943992\n"
    }
   ],
   "source": [
    "print('Quantidade de inscriçoes por Transcrição por Ano.')\n",
    "print('')\n",
    "print(f'Consulta inciada -  {datetime.now()}')\n",
    "\n",
    "sqlContext.sql('SELECT NU_ANO AS ANO, TRANSCRICAO, COUNT(*) AS QTDE_INSCRICAO, ROUND((COUNT(*)/(SELECT COUNT(*)/100 FROM enemtb)),2) AS PERCENTUAL FROM enemtb GROUP BY NU_ANO, TRANSCRICAO ORDER BY NU_ANO, COUNT(*) DESC').show()\n",
    "\n",
    "print(f'Consulta realizada com sucesso -  {datetime.now()}')"
   ]
  },
  {
   "cell_type": "code",
   "execution_count": 167,
   "metadata": {
    "tags": []
   },
   "outputs": [
    {
     "output_type": "stream",
     "name": "stdout",
     "text": "Quantidade de inscriçoes por Libras.\n\nConsulta inciada -  2020-09-02 22:00:22.957954\n+------+--------------+----------+\n|LIBRAS|QTDE_INSCRICAO|PERCENTUAL|\n+------+--------------+----------+\n|   Não|      33704150|     99.97|\n|   Sim|         10002|      0.03|\n+------+--------------+----------+\n\nConsulta realizada com sucesso -  2020-09-02 22:03:27.508236\n"
    }
   ],
   "source": [
    "print('Quantidade de inscriçoes por Libras.')\n",
    "print('')\n",
    "print(f'Consulta inciada -  {datetime.now()}')\n",
    "\n",
    "sqlContext.sql('SELECT LIBRAS, COUNT(*) AS QTDE_INSCRICAO, ROUND((COUNT(*)/(SELECT COUNT(*)/100 FROM enemtb)),2) AS PERCENTUAL FROM enemtb GROUP BY LIBRAS ORDER BY COUNT(*) DESC').show()\n",
    "\n",
    "print(f'Consulta realizada com sucesso -  {datetime.now()}')"
   ]
  },
  {
   "cell_type": "code",
   "execution_count": 168,
   "metadata": {
    "tags": []
   },
   "outputs": [
    {
     "output_type": "stream",
     "name": "stdout",
     "text": "Quantidade de inscriçoes por Libras por Ano.\n\nConsulta inciada -  2020-09-02 22:03:27.539153\n+----+------+--------------+----------+\n| ANO|LIBRAS|QTDE_INSCRICAO|PERCENTUAL|\n+----+------+--------------+----------+\n|2015|   Não|       7743413|     22.97|\n|2015|   Sim|          3014|      0.01|\n|2016|   Não|       8623806|     25.58|\n|2016|   Sim|          3561|      0.01|\n|2017|   Não|       6729982|     19.96|\n|2017|   Sim|          1359|       0.0|\n|2018|   Não|       5512645|     16.35|\n|2018|   Sim|          1102|       0.0|\n|2019|   Não|       5094304|     15.11|\n|2019|   Sim|           966|       0.0|\n+----+------+--------------+----------+\n\nConsulta realizada com sucesso -  2020-09-02 22:06:31.818661\n"
    }
   ],
   "source": [
    "print('Quantidade de inscriçoes por Libras por Ano.')\n",
    "print('')\n",
    "print(f'Consulta inciada -  {datetime.now()}')\n",
    "\n",
    "sqlContext.sql('SELECT NU_ANO AS ANO, LIBRAS, COUNT(*) AS QTDE_INSCRICAO, ROUND((COUNT(*)/(SELECT COUNT(*)/100 FROM enemtb)),2) AS PERCENTUAL FROM enemtb GROUP BY NU_ANO, LIBRAS ORDER BY NU_ANO, COUNT(*) DESC').show()\n",
    "\n",
    "print(f'Consulta realizada com sucesso -  {datetime.now()}')"
   ]
  },
  {
   "cell_type": "code",
   "execution_count": 169,
   "metadata": {
    "tags": []
   },
   "outputs": [
    {
     "output_type": "stream",
     "name": "stdout",
     "text": "Quantidade de inscriçoes por Leitura Labial.\n\nConsulta inciada -  2020-09-02 22:06:31.841600\n+--------------+--------------+----------+\n|LEITURA_LABIAL|QTDE_INSCRICAO|PERCENTUAL|\n+--------------+--------------+----------+\n|           Não|      33708872|     99.98|\n|           Sim|          5280|      0.02|\n+--------------+--------------+----------+\n\nConsulta realizada com sucesso -  2020-09-02 22:09:34.925011\n"
    }
   ],
   "source": [
    "print('Quantidade de inscriçoes por Leitura Labial.')\n",
    "print('')\n",
    "print(f'Consulta inciada -  {datetime.now()}')\n",
    "\n",
    "sqlContext.sql('SELECT LEITURA_LABIAL, COUNT(*) AS QTDE_INSCRICAO, ROUND((COUNT(*)/(SELECT COUNT(*)/100 FROM enemtb)),2) AS PERCENTUAL FROM enemtb GROUP BY LEITURA_LABIAL ORDER BY COUNT(*) DESC').show()\n",
    "\n",
    "print(f'Consulta realizada com sucesso -  {datetime.now()}')"
   ]
  },
  {
   "cell_type": "code",
   "execution_count": 170,
   "metadata": {
    "tags": []
   },
   "outputs": [
    {
     "output_type": "stream",
     "name": "stdout",
     "text": "Quantidade de inscriçoes por Leitura Labial por Ano.\n\nConsulta inciada -  2020-09-02 22:09:34.955922\n+----+--------------+--------------+----------+\n| ANO|LEITURA_LABIAL|QTDE_INSCRICAO|PERCENTUAL|\n+----+--------------+--------------+----------+\n|2015|           Não|       7744949|     22.97|\n|2015|           Sim|          1478|       0.0|\n|2016|           Não|       8625743|     25.58|\n|2016|           Sim|          1624|       0.0|\n|2017|           Não|       6730446|     19.96|\n|2017|           Sim|           895|       0.0|\n|2018|           Não|       5513062|     16.35|\n|2018|           Sim|           685|       0.0|\n|2019|           Não|       5094672|     15.11|\n|2019|           Sim|           598|       0.0|\n+----+--------------+--------------+----------+\n\nConsulta realizada com sucesso -  2020-09-02 22:12:41.910812\n"
    }
   ],
   "source": [
    "print('Quantidade de inscriçoes por Leitura Labial por Ano.')\n",
    "print('')\n",
    "print(f'Consulta inciada -  {datetime.now()}')\n",
    "\n",
    "sqlContext.sql('SELECT NU_ANO AS ANO, LEITURA_LABIAL, COUNT(*) AS QTDE_INSCRICAO, ROUND((COUNT(*)/(SELECT COUNT(*)/100 FROM enemtb)),2) AS PERCENTUAL FROM enemtb GROUP BY NU_ANO, LEITURA_LABIAL ORDER BY NU_ANO, COUNT(*) DESC').show()\n",
    "\n",
    "print(f'Consulta realizada com sucesso -  {datetime.now()}')"
   ]
  },
  {
   "cell_type": "code",
   "execution_count": 171,
   "metadata": {
    "tags": []
   },
   "outputs": [
    {
     "output_type": "stream",
     "name": "stdout",
     "text": "Quantidade de inscriçoes por Mesa Cadeira Rodas.\n\nConsulta inciada -  2020-09-02 22:12:41.932752\n+------------------+--------------+----------+\n|MESA_CADEIRA_RODAS|QTDE_INSCRICAO|PERCENTUAL|\n+------------------+--------------+----------+\n|               Não|      33702892|     99.97|\n|               Sim|         11260|      0.03|\n+------------------+--------------+----------+\n\nConsulta realizada com sucesso -  2020-09-02 22:15:52.274253\n"
    }
   ],
   "source": [
    "print('Quantidade de inscriçoes por Mesa Cadeira Rodas.')\n",
    "print('')\n",
    "print(f'Consulta inciada -  {datetime.now()}')\n",
    "\n",
    "sqlContext.sql('SELECT MESA_CADEIRA_RODAS, COUNT(*) AS QTDE_INSCRICAO, ROUND((COUNT(*)/(SELECT COUNT(*)/100 FROM enemtb)),2) AS PERCENTUAL FROM enemtb GROUP BY MESA_CADEIRA_RODAS ORDER BY COUNT(*) DESC').show()\n",
    "\n",
    "print(f'Consulta realizada com sucesso -  {datetime.now()}')"
   ]
  },
  {
   "cell_type": "code",
   "execution_count": 172,
   "metadata": {
    "tags": []
   },
   "outputs": [
    {
     "output_type": "stream",
     "name": "stdout",
     "text": "Quantidade de inscriçoes por Mesa Cadeira Rodas por Ano.\n\nConsulta inciada -  2020-09-02 22:15:52.307639\n+----+------------------+--------------+----------+\n| ANO|MESA_CADEIRA_RODAS|QTDE_INSCRICAO|PERCENTUAL|\n+----+------------------+--------------+----------+\n|2015|               Não|       7743955|     22.97|\n|2015|               Sim|          2472|      0.01|\n|2016|               Não|       8624404|     25.58|\n|2016|               Sim|          2963|      0.01|\n|2017|               Não|       6729207|     19.96|\n|2017|               Sim|          2134|      0.01|\n|2018|               Não|       5511856|     16.35|\n|2018|               Sim|          1891|      0.01|\n|2019|               Não|       5093470|     15.11|\n|2019|               Sim|          1800|      0.01|\n+----+------------------+--------------+----------+\n\nConsulta realizada com sucesso -  2020-09-02 22:19:01.738111\n"
    }
   ],
   "source": [
    "print('Quantidade de inscriçoes por Mesa Cadeira Rodas por Ano.')\n",
    "print('')\n",
    "print(f'Consulta inciada -  {datetime.now()}')\n",
    "\n",
    "sqlContext.sql('SELECT NU_ANO AS ANO, MESA_CADEIRA_RODAS, COUNT(*) AS QTDE_INSCRICAO, ROUND((COUNT(*)/(SELECT COUNT(*)/100 FROM enemtb)),2) AS PERCENTUAL FROM enemtb GROUP BY NU_ANO, MESA_CADEIRA_RODAS ORDER BY NU_ANO, COUNT(*) DESC').show()\n",
    "\n",
    "print(f'Consulta realizada com sucesso -  {datetime.now()}')"
   ]
  },
  {
   "cell_type": "code",
   "execution_count": 173,
   "metadata": {
    "tags": []
   },
   "outputs": [
    {
     "output_type": "stream",
     "name": "stdout",
     "text": "Quantidade de inscriçoes por Mesa Cadeira Separada.\n\nConsulta inciada -  2020-09-02 22:19:01.773349\n+---------------------+--------------+----------+\n|MESA_CADEIRA_SEPARADA|QTDE_INSCRICAO|PERCENTUAL|\n+---------------------+--------------+----------+\n|                  Não|      33697178|     99.95|\n|                  Sim|         16974|      0.05|\n+---------------------+--------------+----------+\n\nConsulta realizada com sucesso -  2020-09-02 22:22:15.450673\n"
    }
   ],
   "source": [
    "print('Quantidade de inscriçoes por Mesa Cadeira Separada.')\n",
    "print('')\n",
    "print(f'Consulta inciada -  {datetime.now()}')\n",
    "\n",
    "sqlContext.sql('SELECT MESA_CADEIRA_SEPARADA, COUNT(*) AS QTDE_INSCRICAO, ROUND((COUNT(*)/(SELECT COUNT(*)/100 FROM enemtb)),2) AS PERCENTUAL FROM enemtb GROUP BY MESA_CADEIRA_SEPARADA ORDER BY COUNT(*) DESC').show()\n",
    "\n",
    "print(f'Consulta realizada com sucesso -  {datetime.now()}')"
   ]
  },
  {
   "cell_type": "code",
   "execution_count": 174,
   "metadata": {
    "tags": []
   },
   "outputs": [
    {
     "output_type": "stream",
     "name": "stdout",
     "text": "Quantidade de inscriçoes por Mesa Cadeira Separada por Ano.\n\nConsulta inciada -  2020-09-02 22:22:15.481219\n+----+---------------------+--------------+----------+\n| ANO|MESA_CADEIRA_SEPARADA|QTDE_INSCRICAO|PERCENTUAL|\n+----+---------------------+--------------+----------+\n|2015|                  Não|       7742194|     22.96|\n|2015|                  Sim|          4233|      0.01|\n|2016|                  Não|       8621456|     25.57|\n|2016|                  Sim|          5911|      0.02|\n|2017|                  Não|       6727879|     19.96|\n|2017|                  Sim|          3462|      0.01|\n|2018|                  Não|       5511805|     16.35|\n|2018|                  Sim|          1942|      0.01|\n|2019|                  Não|       5093844|     15.11|\n|2019|                  Sim|          1426|       0.0|\n+----+---------------------+--------------+----------+\n\nConsulta realizada com sucesso -  2020-09-02 22:25:22.484234\n"
    }
   ],
   "source": [
    "print('Quantidade de inscriçoes por Mesa Cadeira Separada por Ano.')\n",
    "print('')\n",
    "print(f'Consulta inciada -  {datetime.now()}')\n",
    "\n",
    "sqlContext.sql('SELECT NU_ANO AS ANO, MESA_CADEIRA_SEPARADA, COUNT(*) AS QTDE_INSCRICAO, ROUND((COUNT(*)/(SELECT COUNT(*)/100 FROM enemtb)),2) AS PERCENTUAL FROM enemtb GROUP BY NU_ANO, MESA_CADEIRA_SEPARADA ORDER BY NU_ANO, COUNT(*) DESC').show()\n",
    "\n",
    "print(f'Consulta realizada com sucesso -  {datetime.now()}')"
   ]
  },
  {
   "cell_type": "code",
   "execution_count": 175,
   "metadata": {
    "tags": []
   },
   "outputs": [
    {
     "output_type": "stream",
     "name": "stdout",
     "text": "Quantidade de inscriçoes por Apoio de Perna.\n\nConsulta inciada -  2020-09-02 22:25:22.516610\n+-----------+--------------+----------+\n|APOIO_PERNA|QTDE_INSCRICAO|PERCENTUAL|\n+-----------+--------------+----------+\n|        Não|      33700885|     99.96|\n|        Sim|         13267|      0.04|\n+-----------+--------------+----------+\n\nConsulta realizada com sucesso -  2020-09-02 22:28:31.677971\n"
    }
   ],
   "source": [
    "print('Quantidade de inscriçoes por Apoio de Perna.')\n",
    "print('')\n",
    "print(f'Consulta inciada -  {datetime.now()}')\n",
    "\n",
    "sqlContext.sql('SELECT APOIO_PERNA, COUNT(*) AS QTDE_INSCRICAO, ROUND((COUNT(*)/(SELECT COUNT(*)/100 FROM enemtb)),2) AS PERCENTUAL FROM enemtb GROUP BY APOIO_PERNA ORDER BY COUNT(*) DESC').show()\n",
    "\n",
    "print(f'Consulta realizada com sucesso -  {datetime.now()}')"
   ]
  },
  {
   "cell_type": "code",
   "execution_count": 176,
   "metadata": {
    "tags": []
   },
   "outputs": [
    {
     "output_type": "stream",
     "name": "stdout",
     "text": "Quantidade de inscriçoes por Apoio de Perna por Ano.\n\nConsulta inciada -  2020-09-02 22:28:31.719690\n+----+-----------+--------------+----------+\n| ANO|APOIO_PERNA|QTDE_INSCRICAO|PERCENTUAL|\n+----+-----------+--------------+----------+\n|2015|        Não|       7743254|     22.97|\n|2015|        Sim|          3173|      0.01|\n|2016|        Não|       8623523|     25.58|\n|2016|        Sim|          3844|      0.01|\n|2017|        Não|       6729429|     19.96|\n|2017|        Sim|          1912|      0.01|\n|2018|        Não|       5511656|     16.35|\n|2018|        Sim|          2091|      0.01|\n|2019|        Não|       5093023|     15.11|\n|2019|        Sim|          2247|      0.01|\n+----+-----------+--------------+----------+\n\nConsulta realizada com sucesso -  2020-09-02 22:31:47.260297\n"
    }
   ],
   "source": [
    "print('Quantidade de inscriçoes por Apoio de Perna por Ano.')\n",
    "print('')\n",
    "print(f'Consulta inciada -  {datetime.now()}')\n",
    "\n",
    "sqlContext.sql('SELECT NU_ANO AS ANO, APOIO_PERNA, COUNT(*) AS QTDE_INSCRICAO, ROUND((COUNT(*)/(SELECT COUNT(*)/100 FROM enemtb)),2) AS PERCENTUAL FROM enemtb GROUP BY NU_ANO, APOIO_PERNA ORDER BY NU_ANO, COUNT(*) DESC').show()\n",
    "\n",
    "print(f'Consulta realizada com sucesso -  {datetime.now()}')"
   ]
  },
  {
   "cell_type": "code",
   "execution_count": 177,
   "metadata": {
    "tags": []
   },
   "outputs": [
    {
     "output_type": "stream",
     "name": "stdout",
     "text": "Quantidade de inscriçoes por Guia Iterprete.\n\nConsulta inciada -  2020-09-02 22:31:47.295541\n+---------------+--------------+----------+\n|GUIA_INTERPRETE|QTDE_INSCRICAO|PERCENTUAL|\n+---------------+--------------+----------+\n|            Não|      33714101|     100.0|\n|            Sim|            51|       0.0|\n+---------------+--------------+----------+\n\nConsulta realizada com sucesso -  2020-09-02 22:34:56.482514\n"
    }
   ],
   "source": [
    "print('Quantidade de inscriçoes por Guia Iterprete.')\n",
    "print('')\n",
    "print(f'Consulta inciada -  {datetime.now()}')\n",
    "\n",
    "sqlContext.sql('SELECT GUIA_INTERPRETE, COUNT(*) AS QTDE_INSCRICAO, ROUND((COUNT(*)/(SELECT COUNT(*)/100 FROM enemtb)),2) AS PERCENTUAL FROM enemtb GROUP BY GUIA_INTERPRETE ORDER BY COUNT(*) DESC').show()\n",
    "\n",
    "print(f'Consulta realizada com sucesso -  {datetime.now()}')"
   ]
  },
  {
   "cell_type": "code",
   "execution_count": 178,
   "metadata": {
    "tags": []
   },
   "outputs": [
    {
     "output_type": "stream",
     "name": "stdout",
     "text": "Quantidade de inscriçoes por Guia Iterprete por Ano.\n\nConsulta inciada -  2020-09-02 22:34:56.508954\n+----+---------------+--------------+----------+\n| ANO|GUIA_INTERPRETE|QTDE_INSCRICAO|PERCENTUAL|\n+----+---------------+--------------+----------+\n|2015|            Não|       7746415|     22.98|\n|2015|            Sim|            12|       0.0|\n|2016|            Não|       8627352|     25.59|\n|2016|            Sim|            15|       0.0|\n|2017|            Não|       6731334|     19.97|\n|2017|            Sim|             7|       0.0|\n|2018|            Não|       5513739|     16.35|\n|2018|            Sim|             8|       0.0|\n|2019|            Não|       5095261|     15.11|\n|2019|            Sim|             9|       0.0|\n+----+---------------+--------------+----------+\n\nConsulta realizada com sucesso -  2020-09-02 22:38:02.850316\n"
    }
   ],
   "source": [
    "print('Quantidade de inscriçoes por Guia Iterprete por Ano.')\n",
    "print('')\n",
    "print(f'Consulta inciada -  {datetime.now()}')\n",
    "\n",
    "sqlContext.sql('SELECT NU_ANO AS ANO, GUIA_INTERPRETE, COUNT(*) AS QTDE_INSCRICAO, ROUND((COUNT(*)/(SELECT COUNT(*)/100 FROM enemtb)),2) AS PERCENTUAL FROM enemtb GROUP BY NU_ANO, GUIA_INTERPRETE ORDER BY NU_ANO, COUNT(*) DESC').show()\n",
    "\n",
    "print(f'Consulta realizada com sucesso -  {datetime.now()}')"
   ]
  },
  {
   "cell_type": "code",
   "execution_count": 179,
   "metadata": {
    "tags": []
   },
   "outputs": [
    {
     "output_type": "stream",
     "name": "stdout",
     "text": "Quantidade de inscriçoes por Pedido de Computador.\n\nConsulta inciada -  2020-09-02 22:38:02.870048\n+----------+--------------+----------+\n|COMPUTADOR|QTDE_INSCRICAO|PERCENTUAL|\n+----------+--------------+----------+\n|       Não|      33714118|     100.0|\n|       Sim|            34|       0.0|\n+----------+--------------+----------+\n\nConsulta realizada com sucesso -  2020-09-02 22:41:12.677181\n"
    }
   ],
   "source": [
    "print('Quantidade de inscriçoes por Pedido de Computador.')\n",
    "print('')\n",
    "print(f'Consulta inciada -  {datetime.now()}')\n",
    "\n",
    "sqlContext.sql('SELECT COMPUTADOR, COUNT(*) AS QTDE_INSCRICAO, ROUND((COUNT(*)/(SELECT COUNT(*)/100 FROM enemtb)),2) AS PERCENTUAL FROM enemtb GROUP BY COMPUTADOR ORDER BY COUNT(*) DESC').show()\n",
    "\n",
    "print(f'Consulta realizada com sucesso -  {datetime.now()}')"
   ]
  },
  {
   "cell_type": "code",
   "execution_count": 180,
   "metadata": {
    "tags": []
   },
   "outputs": [
    {
     "output_type": "stream",
     "name": "stdout",
     "text": "Quantidade de inscriçoes por Pedido de Computador por Ano.\n\nConsulta inciada -  2020-09-02 22:41:12.705735\n+----+----------+--------------+----------+\n| ANO|COMPUTADOR|QTDE_INSCRICAO|PERCENTUAL|\n+----+----------+--------------+----------+\n|2015|       Não|       7746421|     22.98|\n|2015|       Sim|             6|       0.0|\n|2016|       Não|       8627358|     25.59|\n|2016|       Sim|             9|       0.0|\n|2017|       Não|       6731338|     19.97|\n|2017|       Sim|             3|       0.0|\n|2018|       Não|       5513739|     16.35|\n|2018|       Sim|             8|       0.0|\n|2019|       Não|       5095262|     15.11|\n|2019|       Sim|             8|       0.0|\n+----+----------+--------------+----------+\n\nConsulta realizada com sucesso -  2020-09-02 22:44:16.154154\n"
    }
   ],
   "source": [
    "print('Quantidade de inscriçoes por Pedido de Computador por Ano.')\n",
    "print('')\n",
    "print(f'Consulta inciada -  {datetime.now()}')\n",
    "\n",
    "sqlContext.sql('SELECT NU_ANO AS ANO, COMPUTADOR, COUNT(*) AS QTDE_INSCRICAO, ROUND((COUNT(*)/(SELECT COUNT(*)/100 FROM enemtb)),2) AS PERCENTUAL FROM enemtb GROUP BY NU_ANO, COMPUTADOR ORDER BY NU_ANO, COUNT(*) DESC').show()\n",
    "\n",
    "print(f'Consulta realizada com sucesso -  {datetime.now()}')"
   ]
  },
  {
   "cell_type": "code",
   "execution_count": 181,
   "metadata": {
    "tags": []
   },
   "outputs": [
    {
     "output_type": "stream",
     "name": "stdout",
     "text": "Quantidade de inscriçoes por Cadeira Especial.\n\nConsulta inciada -  2020-09-02 22:44:16.177552\n+----------------+--------------+----------+\n|CADEIRA_ESPECIAL|QTDE_INSCRICAO|PERCENTUAL|\n+----------------+--------------+----------+\n|             Não|      33714031|     100.0|\n|             Sim|           121|       0.0|\n+----------------+--------------+----------+\n\nConsulta realizada com sucesso -  2020-09-02 22:47:26.578378\n"
    }
   ],
   "source": [
    "print('Quantidade de inscriçoes por Cadeira Especial.')\n",
    "print('')\n",
    "print(f'Consulta inciada -  {datetime.now()}')\n",
    "\n",
    "sqlContext.sql('SELECT CADEIRA_ESPECIAL, COUNT(*) AS QTDE_INSCRICAO, ROUND((COUNT(*)/(SELECT COUNT(*)/100 FROM enemtb)),2) AS PERCENTUAL FROM enemtb GROUP BY CADEIRA_ESPECIAL ORDER BY COUNT(*) DESC').show()\n",
    "\n",
    "print(f'Consulta realizada com sucesso -  {datetime.now()}')"
   ]
  },
  {
   "cell_type": "code",
   "execution_count": 182,
   "metadata": {
    "tags": []
   },
   "outputs": [
    {
     "output_type": "stream",
     "name": "stdout",
     "text": "Quantidade de inscriçoes por Cadeira Especial por Ano.\n\nConsulta inciada -  2020-09-02 22:47:26.616523\n+----+----------------+--------------+----------+\n| ANO|CADEIRA_ESPECIAL|QTDE_INSCRICAO|PERCENTUAL|\n+----+----------------+--------------+----------+\n|2015|             Não|       7746387|     22.98|\n|2015|             Sim|            40|       0.0|\n|2016|             Não|       8627329|     25.59|\n|2016|             Sim|            38|       0.0|\n|2017|             Não|       6731325|     19.97|\n|2017|             Sim|            16|       0.0|\n|2018|             Não|       5513733|     16.35|\n|2018|             Sim|            14|       0.0|\n|2019|             Não|       5095257|     15.11|\n|2019|             Sim|            13|       0.0|\n+----+----------------+--------------+----------+\n\nConsulta realizada com sucesso -  2020-09-02 22:50:45.833065\n"
    }
   ],
   "source": [
    "print('Quantidade de inscriçoes por Cadeira Especial por Ano.')\n",
    "print('')\n",
    "print(f'Consulta inciada -  {datetime.now()}')\n",
    "\n",
    "sqlContext.sql('SELECT NU_ANO AS ANO, CADEIRA_ESPECIAL, COUNT(*) AS QTDE_INSCRICAO, ROUND((COUNT(*)/(SELECT COUNT(*)/100 FROM enemtb)),2) AS PERCENTUAL FROM enemtb GROUP BY NU_ANO, CADEIRA_ESPECIAL ORDER BY NU_ANO, COUNT(*) DESC').show()\n",
    "\n",
    "print(f'Consulta realizada com sucesso -  {datetime.now()}')"
   ]
  },
  {
   "cell_type": "code",
   "execution_count": 183,
   "metadata": {
    "tags": []
   },
   "outputs": [
    {
     "output_type": "stream",
     "name": "stdout",
     "text": "Quantidade de inscriçoes por Cadeira Canhoto.\n\nConsulta inciada -  2020-09-02 22:50:45.871686\n+---------------+--------------+----------+\n|CADEIRA_CANHOTO|QTDE_INSCRICAO|PERCENTUAL|\n+---------------+--------------+----------+\n|            Não|      33714030|     100.0|\n|            Sim|           122|       0.0|\n+---------------+--------------+----------+\n\nConsulta realizada com sucesso -  2020-09-02 22:53:52.816690\n"
    }
   ],
   "source": [
    "print('Quantidade de inscriçoes por Cadeira Canhoto.')\n",
    "print('')\n",
    "print(f'Consulta inciada -  {datetime.now()}')\n",
    "\n",
    "sqlContext.sql('SELECT CADEIRA_CANHOTO, COUNT(*) AS QTDE_INSCRICAO, ROUND((COUNT(*)/(SELECT COUNT(*)/100 FROM enemtb)),2) AS PERCENTUAL FROM enemtb GROUP BY CADEIRA_CANHOTO ORDER BY COUNT(*) DESC').show()\n",
    "\n",
    "print(f'Consulta realizada com sucesso -  {datetime.now()}')"
   ]
  },
  {
   "cell_type": "code",
   "execution_count": 184,
   "metadata": {
    "tags": []
   },
   "outputs": [
    {
     "output_type": "stream",
     "name": "stdout",
     "text": "Quantidade de inscriçoes por Cadeira Canhoto por Ano.\n\nConsulta inciada -  2020-09-02 22:53:52.848183\n+----+---------------+--------------+----------+\n| ANO|CADEIRA_CANHOTO|QTDE_INSCRICAO|PERCENTUAL|\n+----+---------------+--------------+----------+\n|2015|            Não|       7746410|     22.98|\n|2015|            Sim|            17|       0.0|\n|2016|            Não|       8627336|     25.59|\n|2016|            Sim|            31|       0.0|\n|2017|            Não|       6731320|     19.97|\n|2017|            Sim|            21|       0.0|\n|2018|            Não|       5513708|     16.35|\n|2018|            Sim|            39|       0.0|\n|2019|            Não|       5095256|     15.11|\n|2019|            Sim|            14|       0.0|\n+----+---------------+--------------+----------+\n\nConsulta realizada com sucesso -  2020-09-02 22:57:05.779876\n"
    }
   ],
   "source": [
    "print('Quantidade de inscriçoes por Cadeira Canhoto por Ano.')\n",
    "print('')\n",
    "print(f'Consulta inciada -  {datetime.now()}')\n",
    "\n",
    "sqlContext.sql('SELECT NU_ANO AS ANO, CADEIRA_CANHOTO, COUNT(*) AS QTDE_INSCRICAO, ROUND((COUNT(*)/(SELECT COUNT(*)/100 FROM enemtb)),2) AS PERCENTUAL FROM enemtb GROUP BY NU_ANO, CADEIRA_CANHOTO ORDER BY NU_ANO, COUNT(*) DESC').show()\n",
    "\n",
    "print(f'Consulta realizada com sucesso -  {datetime.now()}')"
   ]
  },
  {
   "cell_type": "code",
   "execution_count": 185,
   "metadata": {
    "tags": []
   },
   "outputs": [
    {
     "output_type": "stream",
     "name": "stdout",
     "text": "Quantidade de inscriçoes por Cadeira Acolchoada.\n\nConsulta inciada -  2020-09-02 22:57:05.810202\n+------------------+--------------+----------+\n|CADEIRA_ACOLCHOADA|QTDE_INSCRICAO|PERCENTUAL|\n+------------------+--------------+----------+\n|               Não|      33713388|     100.0|\n|               Sim|           764|       0.0|\n+------------------+--------------+----------+\n\nConsulta realizada com sucesso -  2020-09-02 23:00:16.715441\n"
    }
   ],
   "source": [
    "print('Quantidade de inscriçoes por Cadeira Acolchoada.')\n",
    "print('')\n",
    "print(f'Consulta inciada -  {datetime.now()}')\n",
    "\n",
    "sqlContext.sql('SELECT CADEIRA_ACOLCHOADA, COUNT(*) AS QTDE_INSCRICAO, ROUND((COUNT(*)/(SELECT COUNT(*)/100 FROM enemtb)),2) AS PERCENTUAL FROM enemtb GROUP BY CADEIRA_ACOLCHOADA ORDER BY COUNT(*) DESC').show()\n",
    "\n",
    "print(f'Consulta realizada com sucesso -  {datetime.now()}')"
   ]
  },
  {
   "cell_type": "code",
   "execution_count": 186,
   "metadata": {
    "tags": []
   },
   "outputs": [
    {
     "output_type": "stream",
     "name": "stdout",
     "text": "Quantidade de inscriçoes por Cadeira Acolchoada por Ano.\n\nConsulta inciada -  2020-09-02 23:00:16.741876\n+----+------------------+--------------+----------+\n| ANO|CADEIRA_ACOLCHOADA|QTDE_INSCRICAO|PERCENTUAL|\n+----+------------------+--------------+----------+\n|2015|               Não|       7746392|     22.98|\n|2015|               Sim|            35|       0.0|\n|2016|               Não|       8627085|     25.59|\n|2016|               Sim|           282|       0.0|\n|2017|               Não|       6731221|     19.97|\n|2017|               Sim|           120|       0.0|\n|2018|               Não|       5513594|     16.35|\n|2018|               Sim|           153|       0.0|\n|2019|               Não|       5095096|     15.11|\n|2019|               Sim|           174|       0.0|\n+----+------------------+--------------+----------+\n\nConsulta realizada com sucesso -  2020-09-02 23:03:25.041078\n"
    }
   ],
   "source": [
    "print('Quantidade de inscriçoes por Cadeira Acolchoada por Ano.')\n",
    "print('')\n",
    "print(f'Consulta inciada -  {datetime.now()}')\n",
    "\n",
    "sqlContext.sql('SELECT NU_ANO AS ANO, CADEIRA_ACOLCHOADA, COUNT(*) AS QTDE_INSCRICAO, ROUND((COUNT(*)/(SELECT COUNT(*)/100 FROM enemtb)),2) AS PERCENTUAL FROM enemtb GROUP BY NU_ANO, CADEIRA_ACOLCHOADA ORDER BY NU_ANO, COUNT(*) DESC').show()\n",
    "\n",
    "print(f'Consulta realizada com sucesso -  {datetime.now()}')"
   ]
  },
  {
   "cell_type": "code",
   "execution_count": 187,
   "metadata": {
    "tags": []
   },
   "outputs": [
    {
     "output_type": "stream",
     "name": "stdout",
     "text": "Quantidade de inscriçoes por Prova Deitada.\n\nConsulta inciada -  2020-09-02 23:03:25.069674\n+-------------+--------------+----------+\n|PROVA_DEITADO|QTDE_INSCRICAO|PERCENTUAL|\n+-------------+--------------+----------+\n|          Não|      33714131|     100.0|\n|          Sim|            21|       0.0|\n+-------------+--------------+----------+\n\nConsulta realizada com sucesso -  2020-09-02 23:06:41.843794\n"
    }
   ],
   "source": [
    "print('Quantidade de inscriçoes por Prova Deitada.')\n",
    "print('')\n",
    "print(f'Consulta inciada -  {datetime.now()}')\n",
    "\n",
    "sqlContext.sql('SELECT PROVA_DEITADO, COUNT(*) AS QTDE_INSCRICAO, ROUND((COUNT(*)/(SELECT COUNT(*)/100 FROM enemtb)),2) AS PERCENTUAL FROM enemtb GROUP BY PROVA_DEITADO ORDER BY COUNT(*) DESC').show()\n",
    "\n",
    "print(f'Consulta realizada com sucesso -  {datetime.now()}')"
   ]
  },
  {
   "cell_type": "code",
   "execution_count": 188,
   "metadata": {
    "tags": []
   },
   "outputs": [
    {
     "output_type": "stream",
     "name": "stdout",
     "text": "Quantidade de inscriçoes por Prova Deitada por Ano.\n\nConsulta inciada -  2020-09-02 23:06:41.880442\n+----+-------------+--------------+----------+\n| ANO|PROVA_DEITADO|QTDE_INSCRICAO|PERCENTUAL|\n+----+-------------+--------------+----------+\n|2015|          Não|       7746422|     22.98|\n|2015|          Sim|             5|       0.0|\n|2016|          Não|       8627364|     25.59|\n|2016|          Sim|             3|       0.0|\n|2017|          Não|       6731340|     19.97|\n|2017|          Sim|             1|       0.0|\n|2018|          Não|       5513736|     16.35|\n|2018|          Sim|            11|       0.0|\n|2019|          Não|       5095269|     15.11|\n|2019|          Sim|             1|       0.0|\n+----+-------------+--------------+----------+\n\nConsulta realizada com sucesso -  2020-09-02 23:09:56.821807\n"
    }
   ],
   "source": [
    "print('Quantidade de inscriçoes por Prova Deitada por Ano.')\n",
    "print('')\n",
    "print(f'Consulta inciada -  {datetime.now()}')\n",
    "\n",
    "sqlContext.sql('SELECT NU_ANO AS ANO, PROVA_DEITADO, COUNT(*) AS QTDE_INSCRICAO, ROUND((COUNT(*)/(SELECT COUNT(*)/100 FROM enemtb)),2) AS PERCENTUAL FROM enemtb GROUP BY NU_ANO, PROVA_DEITADO ORDER BY NU_ANO, COUNT(*) DESC').show()\n",
    "\n",
    "print(f'Consulta realizada com sucesso -  {datetime.now()}')"
   ]
  },
  {
   "cell_type": "code",
   "execution_count": 189,
   "metadata": {
    "tags": []
   },
   "outputs": [
    {
     "output_type": "stream",
     "name": "stdout",
     "text": "Quantidade de inscriçoes por Mobiliario Obeso.\n\nConsulta inciada -  2020-09-02 23:09:56.851548\n+----------------+--------------+----------+\n|MOBILIARIO_OBESO|QTDE_INSCRICAO|PERCENTUAL|\n+----------------+--------------+----------+\n|             Não|      33713885|     100.0|\n|             Sim|           267|       0.0|\n+----------------+--------------+----------+\n\nConsulta realizada com sucesso -  2020-09-02 23:13:09.865881\n"
    }
   ],
   "source": [
    "print('Quantidade de inscriçoes por Mobiliario Obeso.')\n",
    "print('')\n",
    "print(f'Consulta inciada -  {datetime.now()}')\n",
    "\n",
    "sqlContext.sql('SELECT MOBILIARIO_OBESO, COUNT(*) AS QTDE_INSCRICAO, ROUND((COUNT(*)/(SELECT COUNT(*)/100 FROM enemtb)),2) AS PERCENTUAL FROM enemtb GROUP BY MOBILIARIO_OBESO ORDER BY COUNT(*) DESC').show()\n",
    "\n",
    "print(f'Consulta realizada com sucesso -  {datetime.now()}')"
   ]
  },
  {
   "cell_type": "code",
   "execution_count": 190,
   "metadata": {
    "tags": []
   },
   "outputs": [
    {
     "output_type": "stream",
     "name": "stdout",
     "text": "Quantidade de inscriçoes por Mobiliario Obeso por Ano.\n\nConsulta inciada -  2020-09-02 23:13:09.907847\n+----+----------------+--------------+----------+\n| ANO|MOBILIARIO_OBESO|QTDE_INSCRICAO|PERCENTUAL|\n+----+----------------+--------------+----------+\n|2015|             Não|       7746395|     22.98|\n|2015|             Sim|            32|       0.0|\n|2016|             Não|       8627312|     25.59|\n|2016|             Sim|            55|       0.0|\n|2017|             Não|       6731288|     19.97|\n|2017|             Sim|            53|       0.0|\n|2018|             Não|       5513679|     16.35|\n|2018|             Sim|            68|       0.0|\n|2019|             Não|       5095211|     15.11|\n|2019|             Sim|            59|       0.0|\n+----+----------------+--------------+----------+\n\nConsulta realizada com sucesso -  2020-09-02 23:16:20.753414\n"
    }
   ],
   "source": [
    "print('Quantidade de inscriçoes por Mobiliario Obeso por Ano.')\n",
    "print('')\n",
    "print(f'Consulta inciada -  {datetime.now()}')\n",
    "\n",
    "sqlContext.sql('SELECT NU_ANO AS ANO, MOBILIARIO_OBESO, COUNT(*) AS QTDE_INSCRICAO, ROUND((COUNT(*)/(SELECT COUNT(*)/100 FROM enemtb)),2) AS PERCENTUAL FROM enemtb GROUP BY NU_ANO, MOBILIARIO_OBESO ORDER BY NU_ANO, COUNT(*) DESC').show()\n",
    "\n",
    "print(f'Consulta realizada com sucesso -  {datetime.now()}')"
   ]
  },
  {
   "cell_type": "code",
   "execution_count": 191,
   "metadata": {
    "tags": []
   },
   "outputs": [
    {
     "output_type": "stream",
     "name": "stdout",
     "text": "Quantidade de inscriçoes por Lamina Overlay.\n\nConsulta inciada -  2020-09-02 23:16:20.783480\n+--------------+--------------+----------+\n|LAMINA_OVERLAY|QTDE_INSCRICAO|PERCENTUAL|\n+--------------+--------------+----------+\n|           Não|      33714070|     100.0|\n|           Sim|            82|       0.0|\n+--------------+--------------+----------+\n\nConsulta realizada com sucesso -  2020-09-02 23:19:34.727606\n"
    }
   ],
   "source": [
    "print('Quantidade de inscriçoes por Lamina Overlay.')\n",
    "print('')\n",
    "print(f'Consulta inciada -  {datetime.now()}')\n",
    "\n",
    "sqlContext.sql('SELECT LAMINA_OVERLAY, COUNT(*) AS QTDE_INSCRICAO, ROUND((COUNT(*)/(SELECT COUNT(*)/100 FROM enemtb)),2) AS PERCENTUAL FROM enemtb GROUP BY LAMINA_OVERLAY ORDER BY COUNT(*) DESC').show()\n",
    "\n",
    "print(f'Consulta realizada com sucesso -  {datetime.now()}')"
   ]
  },
  {
   "cell_type": "code",
   "execution_count": 192,
   "metadata": {
    "tags": []
   },
   "outputs": [
    {
     "output_type": "stream",
     "name": "stdout",
     "text": "Quantidade de inscriçoes por Lamina Overlay por Ano.\n\nConsulta inciada -  2020-09-02 23:19:34.758943\n+----+--------------+--------------+----------+\n| ANO|LAMINA_OVERLAY|QTDE_INSCRICAO|PERCENTUAL|\n+----+--------------+--------------+----------+\n|2015|           Não|       7746417|     22.98|\n|2015|           Sim|            10|       0.0|\n|2016|           Não|       8627347|     25.59|\n|2016|           Sim|            20|       0.0|\n|2017|           Não|       6731334|     19.97|\n|2017|           Sim|             7|       0.0|\n|2018|           Não|       5513729|     16.35|\n|2018|           Sim|            18|       0.0|\n|2019|           Não|       5095243|     15.11|\n|2019|           Sim|            27|       0.0|\n+----+--------------+--------------+----------+\n\nConsulta realizada com sucesso -  2020-09-02 23:22:45.835190\n"
    }
   ],
   "source": [
    "print('Quantidade de inscriçoes por Lamina Overlay por Ano.')\n",
    "print('')\n",
    "print(f'Consulta inciada -  {datetime.now()}')\n",
    "\n",
    "sqlContext.sql('SELECT NU_ANO AS ANO, LAMINA_OVERLAY, COUNT(*) AS QTDE_INSCRICAO, ROUND((COUNT(*)/(SELECT COUNT(*)/100 FROM enemtb)),2) AS PERCENTUAL FROM enemtb GROUP BY NU_ANO, LAMINA_OVERLAY ORDER BY NU_ANO, COUNT(*) DESC').show()\n",
    "\n",
    "print(f'Consulta realizada com sucesso -  {datetime.now()}')"
   ]
  },
  {
   "cell_type": "code",
   "execution_count": 193,
   "metadata": {
    "tags": []
   },
   "outputs": [
    {
     "output_type": "stream",
     "name": "stdout",
     "text": "Quantidade de inscriçoes por Protetor Auricular.\n\nConsulta inciada -  2020-09-02 23:22:45.869933\n+------------------+--------------+----------+\n|PROTETOR_AURICULAR|QTDE_INSCRICAO|PERCENTUAL|\n+------------------+--------------+----------+\n|               Não|      33714130|     100.0|\n|               Sim|            22|       0.0|\n+------------------+--------------+----------+\n\nConsulta realizada com sucesso -  2020-09-02 23:25:56.826688\n"
    }
   ],
   "source": [
    "print('Quantidade de inscriçoes por Protetor Auricular.')\n",
    "print('')\n",
    "print(f'Consulta inciada -  {datetime.now()}')\n",
    "\n",
    "sqlContext.sql('SELECT PROTETOR_AURICULAR, COUNT(*) AS QTDE_INSCRICAO, ROUND((COUNT(*)/(SELECT COUNT(*)/100 FROM enemtb)),2) AS PERCENTUAL FROM enemtb GROUP BY PROTETOR_AURICULAR ORDER BY COUNT(*) DESC').show()\n",
    "\n",
    "print(f'Consulta realizada com sucesso -  {datetime.now()}')"
   ]
  },
  {
   "cell_type": "code",
   "execution_count": 194,
   "metadata": {
    "tags": []
   },
   "outputs": [
    {
     "output_type": "stream",
     "name": "stdout",
     "text": "Quantidade de inscriçoes por Protetor Auricular por Ano.\n\nConsulta inciada -  2020-09-02 23:25:56.870639\n+----+------------------+--------------+----------+\n| ANO|PROTETOR_AURICULAR|QTDE_INSCRICAO|PERCENTUAL|\n+----+------------------+--------------+----------+\n|2015|               Não|       7746423|     22.98|\n|2015|               Sim|             4|       0.0|\n|2016|               Não|       8627363|     25.59|\n|2016|               Sim|             4|       0.0|\n|2017|               Não|       6731338|     19.97|\n|2017|               Sim|             3|       0.0|\n|2018|               Não|       5513741|     16.35|\n|2018|               Sim|             6|       0.0|\n|2019|               Não|       5095265|     15.11|\n|2019|               Sim|             5|       0.0|\n+----+------------------+--------------+----------+\n\nConsulta realizada com sucesso -  2020-09-02 23:29:10.381006\n"
    }
   ],
   "source": [
    "print('Quantidade de inscriçoes por Protetor Auricular por Ano.')\n",
    "print('')\n",
    "print(f'Consulta inciada -  {datetime.now()}')\n",
    "\n",
    "sqlContext.sql('SELECT NU_ANO AS ANO, PROTETOR_AURICULAR, COUNT(*) AS QTDE_INSCRICAO, ROUND((COUNT(*)/(SELECT COUNT(*)/100 FROM enemtb)),2) AS PERCENTUAL FROM enemtb GROUP BY NU_ANO, PROTETOR_AURICULAR ORDER BY NU_ANO, COUNT(*) DESC').show()\n",
    "\n",
    "print(f'Consulta realizada com sucesso -  {datetime.now()}')"
   ]
  },
  {
   "cell_type": "code",
   "execution_count": 195,
   "metadata": {
    "tags": []
   },
   "outputs": [
    {
     "output_type": "stream",
     "name": "stdout",
     "text": "Quantidade de inscriçoes por Medidor Glicose.\n\nConsulta inciada -  2020-09-02 23:29:10.412471\n+---------------+--------------+----------+\n|MEDIDOR_GLICOSE|QTDE_INSCRICAO|PERCENTUAL|\n+---------------+--------------+----------+\n|            Não|      33712326|     99.99|\n|            Sim|          1826|      0.01|\n+---------------+--------------+----------+\n\nConsulta realizada com sucesso -  2020-09-02 23:32:24.540192\n"
    }
   ],
   "source": [
    "print('Quantidade de inscriçoes por Medidor Glicose.')\n",
    "print('')\n",
    "print(f'Consulta inciada -  {datetime.now()}')\n",
    "\n",
    "sqlContext.sql('SELECT MEDIDOR_GLICOSE, COUNT(*) AS QTDE_INSCRICAO, ROUND((COUNT(*)/(SELECT COUNT(*)/100 FROM enemtb)),2) AS PERCENTUAL FROM enemtb GROUP BY MEDIDOR_GLICOSE ORDER BY COUNT(*) DESC').show()\n",
    "\n",
    "print(f'Consulta realizada com sucesso -  {datetime.now()}')"
   ]
  },
  {
   "cell_type": "code",
   "execution_count": 196,
   "metadata": {
    "tags": []
   },
   "outputs": [
    {
     "output_type": "stream",
     "name": "stdout",
     "text": "Quantidade de inscriçoes por Medidor Glicose por Ano.\n\nConsulta inciada -  2020-09-02 23:32:24.563130\n+----+---------------+--------------+----------+\n| ANO|MEDIDOR_GLICOSE|QTDE_INSCRICAO|PERCENTUAL|\n+----+---------------+--------------+----------+\n|2015|            Não|       7746297|     22.98|\n|2015|            Sim|           130|       0.0|\n|2016|            Não|       8627021|     25.59|\n|2016|            Sim|           346|       0.0|\n|2017|            Não|       6731031|     19.97|\n|2017|            Sim|           310|       0.0|\n|2018|            Não|       5513297|     16.35|\n|2018|            Sim|           450|       0.0|\n|2019|            Não|       5094680|     15.11|\n|2019|            Sim|           590|       0.0|\n+----+---------------+--------------+----------+\n\nConsulta realizada com sucesso -  2020-09-02 23:35:27.476958\n"
    }
   ],
   "source": [
    "print('Quantidade de inscriçoes por Medidor Glicose por Ano.')\n",
    "print('')\n",
    "print(f'Consulta inciada -  {datetime.now()}')\n",
    "\n",
    "sqlContext.sql('SELECT NU_ANO AS ANO, MEDIDOR_GLICOSE, COUNT(*) AS QTDE_INSCRICAO, ROUND((COUNT(*)/(SELECT COUNT(*)/100 FROM enemtb)),2) AS PERCENTUAL FROM enemtb GROUP BY NU_ANO, MEDIDOR_GLICOSE ORDER BY NU_ANO, COUNT(*) DESC').show()\n",
    "\n",
    "print(f'Consulta realizada com sucesso -  {datetime.now()}')"
   ]
  },
  {
   "cell_type": "code",
   "execution_count": 197,
   "metadata": {
    "tags": []
   },
   "outputs": [
    {
     "output_type": "stream",
     "name": "stdout",
     "text": "Quantidade de inscriçoes por Máquina de Braile.\n\nConsulta inciada -  2020-09-02 23:35:27.514856\n+--------------+--------------+----------+\n|MAQUINA_BRAILE|QTDE_INSCRICAO|PERCENTUAL|\n+--------------+--------------+----------+\n|           Não|      33713607|     100.0|\n|           Sim|           545|       0.0|\n+--------------+--------------+----------+\n\nConsulta realizada com sucesso -  2020-09-02 23:38:37.658474\n"
    }
   ],
   "source": [
    "print('Quantidade de inscriçoes por Máquina de Braile.')\n",
    "print('')\n",
    "print(f'Consulta inciada -  {datetime.now()}')\n",
    "\n",
    "sqlContext.sql('SELECT MAQUINA_BRAILE, COUNT(*) AS QTDE_INSCRICAO, ROUND((COUNT(*)/(SELECT COUNT(*)/100 FROM enemtb)),2) AS PERCENTUAL FROM enemtb GROUP BY MAQUINA_BRAILE ORDER BY COUNT(*) DESC').show()\n",
    "\n",
    "print(f'Consulta realizada com sucesso -  {datetime.now()}')"
   ]
  },
  {
   "cell_type": "code",
   "execution_count": 198,
   "metadata": {
    "tags": []
   },
   "outputs": [
    {
     "output_type": "stream",
     "name": "stdout",
     "text": "Quantidade de inscriçoes por Máquina de Braile por Ano.\n\nConsulta inciada -  2020-09-02 23:38:37.673435\n+----+--------------+--------------+----------+\n| ANO|MAQUINA_BRAILE|QTDE_INSCRICAO|PERCENTUAL|\n+----+--------------+--------------+----------+\n|2015|           Não|       7746400|     22.98|\n|2015|           Sim|            27|       0.0|\n|2016|           Não|       8627275|     25.59|\n|2016|           Sim|            92|       0.0|\n|2017|           Não|       6731179|     19.97|\n|2017|           Sim|           162|       0.0|\n|2018|           Não|       5513644|     16.35|\n|2018|           Sim|           103|       0.0|\n|2019|           Não|       5095109|     15.11|\n|2019|           Sim|           161|       0.0|\n+----+--------------+--------------+----------+\n\nConsulta realizada com sucesso -  2020-09-02 23:41:46.474573\n"
    }
   ],
   "source": [
    "print('Quantidade de inscriçoes por Máquina de Braile por Ano.')\n",
    "print('')\n",
    "print(f'Consulta inciada -  {datetime.now()}')\n",
    "\n",
    "sqlContext.sql('SELECT NU_ANO AS ANO, MAQUINA_BRAILE, COUNT(*) AS QTDE_INSCRICAO, ROUND((COUNT(*)/(SELECT COUNT(*)/100 FROM enemtb)),2) AS PERCENTUAL FROM enemtb GROUP BY NU_ANO, MAQUINA_BRAILE ORDER BY NU_ANO, COUNT(*) DESC').show()\n",
    "\n",
    "print(f'Consulta realizada com sucesso -  {datetime.now()}')"
   ]
  },
  {
   "cell_type": "code",
   "execution_count": 199,
   "metadata": {
    "tags": []
   },
   "outputs": [
    {
     "output_type": "stream",
     "name": "stdout",
     "text": "Quantidade de inscriçoes por Soroban.\n\nConsulta inciada -  2020-09-02 23:41:46.502498\n+-------+--------------+----------+\n|SOROBAN|QTDE_INSCRICAO|PERCENTUAL|\n+-------+--------------+----------+\n|    Não|      33713939|     100.0|\n|    Sim|           213|       0.0|\n+-------+--------------+----------+\n\nConsulta realizada com sucesso -  2020-09-02 23:44:49.057373\n"
    }
   ],
   "source": [
    "print('Quantidade de inscriçoes por Soroban.')\n",
    "print('')\n",
    "print(f'Consulta inciada -  {datetime.now()}')\n",
    "\n",
    "sqlContext.sql('SELECT SOROBAN, COUNT(*) AS QTDE_INSCRICAO, ROUND((COUNT(*)/(SELECT COUNT(*)/100 FROM enemtb)),2) AS PERCENTUAL FROM enemtb GROUP BY SOROBAN ORDER BY COUNT(*) DESC').show()\n",
    "\n",
    "print(f'Consulta realizada com sucesso -  {datetime.now()}')"
   ]
  },
  {
   "cell_type": "code",
   "execution_count": 200,
   "metadata": {
    "tags": []
   },
   "outputs": [
    {
     "output_type": "stream",
     "name": "stdout",
     "text": "Quantidade de inscriçoes por Soroban por Ano.\n\nConsulta inciada -  2020-09-02 23:44:49.084300\n+----+-------+--------------+----------+\n| ANO|SOROBAN|QTDE_INSCRICAO|PERCENTUAL|\n+----+-------+--------------+----------+\n|2015|    Não|       7746418|     22.98|\n|2015|    Sim|             9|       0.0|\n|2016|    Não|       8627339|     25.59|\n|2016|    Sim|            28|       0.0|\n|2017|    Não|       6731271|     19.97|\n|2017|    Sim|            70|       0.0|\n|2018|    Não|       5513684|     16.35|\n|2018|    Sim|            63|       0.0|\n|2019|    Não|       5095227|     15.11|\n|2019|    Sim|            43|       0.0|\n+----+-------+--------------+----------+\n\nConsulta realizada com sucesso -  2020-09-02 23:47:52.682466\n"
    }
   ],
   "source": [
    "print('Quantidade de inscriçoes por Soroban por Ano.')\n",
    "print('')\n",
    "print(f'Consulta inciada -  {datetime.now()}')\n",
    "\n",
    "sqlContext.sql('SELECT NU_ANO AS ANO, SOROBAN, COUNT(*) AS QTDE_INSCRICAO, ROUND((COUNT(*)/(SELECT COUNT(*)/100 FROM enemtb)),2) AS PERCENTUAL FROM enemtb GROUP BY NU_ANO, SOROBAN ORDER BY NU_ANO, COUNT(*) DESC').show()\n",
    "\n",
    "print(f'Consulta realizada com sucesso -  {datetime.now()}')"
   ]
  },
  {
   "cell_type": "code",
   "execution_count": 201,
   "metadata": {
    "tags": []
   },
   "outputs": [
    {
     "output_type": "stream",
     "name": "stdout",
     "text": "Quantidade de inscriçoes por Marca Passo.\n\nConsulta inciada -  2020-09-02 23:47:52.704407\n+-----------+--------------+----------+\n|MARCA_PASSO|QTDE_INSCRICAO|PERCENTUAL|\n+-----------+--------------+----------+\n|        Não|      33714102|     100.0|\n|        Sim|            50|       0.0|\n+-----------+--------------+----------+\n\nConsulta realizada com sucesso -  2020-09-02 23:51:00.861958\n"
    }
   ],
   "source": [
    "print('Quantidade de inscriçoes por Marca Passo.')\n",
    "print('')\n",
    "print(f'Consulta inciada -  {datetime.now()}')\n",
    "\n",
    "sqlContext.sql('SELECT MARCA_PASSO, COUNT(*) AS QTDE_INSCRICAO, ROUND((COUNT(*)/(SELECT COUNT(*)/100 FROM enemtb)),2) AS PERCENTUAL FROM enemtb GROUP BY MARCA_PASSO ORDER BY COUNT(*) DESC').show()\n",
    "\n",
    "print(f'Consulta realizada com sucesso -  {datetime.now()}')"
   ]
  },
  {
   "cell_type": "code",
   "execution_count": 202,
   "metadata": {
    "tags": []
   },
   "outputs": [
    {
     "output_type": "stream",
     "name": "stdout",
     "text": "Quantidade de inscriçoes por Marca Passo por Ano.\n\nConsulta inciada -  2020-09-02 23:51:00.886890\n+----+-----------+--------------+----------+\n| ANO|MARCA_PASSO|QTDE_INSCRICAO|PERCENTUAL|\n+----+-----------+--------------+----------+\n|2015|        Não|       7746424|     22.98|\n|2015|        Sim|             3|       0.0|\n|2016|        Não|       8627354|     25.59|\n|2016|        Sim|            13|       0.0|\n|2017|        Não|       6731333|     19.97|\n|2017|        Sim|             8|       0.0|\n|2018|        Não|       5513737|     16.35|\n|2018|        Sim|            10|       0.0|\n|2019|        Não|       5095254|     15.11|\n|2019|        Sim|            16|       0.0|\n+----+-----------+--------------+----------+\n\nConsulta realizada com sucesso -  2020-09-02 23:54:06.398954\n"
    }
   ],
   "source": [
    "print('Quantidade de inscriçoes por Marca Passo por Ano.')\n",
    "print('')\n",
    "print(f'Consulta inciada -  {datetime.now()}')\n",
    "\n",
    "sqlContext.sql('SELECT NU_ANO AS ANO, MARCA_PASSO, COUNT(*) AS QTDE_INSCRICAO, ROUND((COUNT(*)/(SELECT COUNT(*)/100 FROM enemtb)),2) AS PERCENTUAL FROM enemtb GROUP BY NU_ANO, MARCA_PASSO ORDER BY NU_ANO, COUNT(*) DESC').show()\n",
    "\n",
    "print(f'Consulta realizada com sucesso -  {datetime.now()}')"
   ]
  },
  {
   "cell_type": "code",
   "execution_count": 203,
   "metadata": {
    "tags": []
   },
   "outputs": [
    {
     "output_type": "stream",
     "name": "stdout",
     "text": "Quantidade de inscriçoes por Sonda.\n\nConsulta inciada -  2020-09-02 23:54:06.427877\n+-----+--------------+----------+\n|SONDA|QTDE_INSCRICAO|PERCENTUAL|\n+-----+--------------+----------+\n|  Não|      33714094|     100.0|\n|  Sim|            58|       0.0|\n+-----+--------------+----------+\n\nConsulta realizada com sucesso -  2020-09-02 23:57:07.446695\n"
    }
   ],
   "source": [
    "print('Quantidade de inscriçoes por Sonda.')\n",
    "print('')\n",
    "print(f'Consulta inciada -  {datetime.now()}')\n",
    "\n",
    "sqlContext.sql('SELECT SONDA, COUNT(*) AS QTDE_INSCRICAO, ROUND((COUNT(*)/(SELECT COUNT(*)/100 FROM enemtb)),2) AS PERCENTUAL FROM enemtb GROUP BY SONDA ORDER BY COUNT(*) DESC').show()\n",
    "\n",
    "print(f'Consulta realizada com sucesso -  {datetime.now()}')"
   ]
  },
  {
   "cell_type": "code",
   "execution_count": 204,
   "metadata": {
    "tags": []
   },
   "outputs": [
    {
     "output_type": "stream",
     "name": "stdout",
     "text": "Quantidade de inscriçoes por Sonda por Ano.\n\nConsulta inciada -  2020-09-02 23:57:07.466641\n+----+-----+--------------+----------+\n| ANO|SONDA|QTDE_INSCRICAO|PERCENTUAL|\n+----+-----+--------------+----------+\n|2015|  Não|       7746419|     22.98|\n|2015|  Sim|             8|       0.0|\n|2016|  Não|       8627351|     25.59|\n|2016|  Sim|            16|       0.0|\n|2017|  Não|       6731328|     19.97|\n|2017|  Sim|            13|       0.0|\n|2018|  Não|       5513736|     16.35|\n|2018|  Sim|            11|       0.0|\n|2019|  Não|       5095260|     15.11|\n|2019|  Sim|            10|       0.0|\n+----+-----+--------------+----------+\n\nConsulta realizada com sucesso -  2020-09-03 00:00:17.658762\n"
    }
   ],
   "source": [
    "print('Quantidade de inscriçoes por Sonda por Ano.')\n",
    "print('')\n",
    "print(f'Consulta inciada -  {datetime.now()}')\n",
    "\n",
    "sqlContext.sql('SELECT NU_ANO AS ANO, SONDA, COUNT(*) AS QTDE_INSCRICAO, ROUND((COUNT(*)/(SELECT COUNT(*)/100 FROM enemtb)),2) AS PERCENTUAL FROM enemtb GROUP BY NU_ANO, SONDA ORDER BY NU_ANO, COUNT(*) DESC').show()\n",
    "\n",
    "print(f'Consulta realizada com sucesso -  {datetime.now()}')"
   ]
  },
  {
   "cell_type": "code",
   "execution_count": 205,
   "metadata": {
    "tags": []
   },
   "outputs": [
    {
     "output_type": "stream",
     "name": "stdout",
     "text": "Quantidade de inscriçoes por Medicamentos.\n\nConsulta inciada -  2020-09-03 00:00:17.673723\n+------------+--------------+----------+\n|MEDICAMENTOS|QTDE_INSCRICAO|PERCENTUAL|\n+------------+--------------+----------+\n|         Não|      33713057|     100.0|\n|         Sim|          1095|       0.0|\n+------------+--------------+----------+\n\nConsulta realizada com sucesso -  2020-09-03 00:03:18.903382\n"
    }
   ],
   "source": [
    "print('Quantidade de inscriçoes por Medicamentos.')\n",
    "print('')\n",
    "print(f'Consulta inciada -  {datetime.now()}')\n",
    "\n",
    "sqlContext.sql('SELECT MEDICAMENTOS, COUNT(*) AS QTDE_INSCRICAO, ROUND((COUNT(*)/(SELECT COUNT(*)/100 FROM enemtb)),2) AS PERCENTUAL FROM enemtb GROUP BY MEDICAMENTOS ORDER BY COUNT(*) DESC').show()\n",
    "\n",
    "print(f'Consulta realizada com sucesso -  {datetime.now()}')"
   ]
  },
  {
   "cell_type": "code",
   "execution_count": 206,
   "metadata": {
    "tags": []
   },
   "outputs": [
    {
     "output_type": "stream",
     "name": "stdout",
     "text": "Quantidade de inscriçoes por Medicamentos por Ano.\n\nConsulta inciada -  2020-09-03 00:03:18.927318\n+----+------------+--------------+----------+\n| ANO|MEDICAMENTOS|QTDE_INSCRICAO|PERCENTUAL|\n+----+------------+--------------+----------+\n|2015|         Não|       7746294|     22.98|\n|2015|         Sim|           133|       0.0|\n|2016|         Não|       8627033|     25.59|\n|2016|         Sim|           334|       0.0|\n|2017|         Não|       6731156|     19.97|\n|2017|         Sim|           185|       0.0|\n|2018|         Não|       5513551|     16.35|\n|2018|         Sim|           196|       0.0|\n|2019|         Não|       5095023|     15.11|\n|2019|         Sim|           247|       0.0|\n+----+------------+--------------+----------+\n\nConsulta realizada com sucesso -  2020-09-03 00:06:25.203189\n"
    }
   ],
   "source": [
    "print('Quantidade de inscriçoes por Medicamentos por Ano.')\n",
    "print('')\n",
    "print(f'Consulta inciada -  {datetime.now()}')\n",
    "\n",
    "sqlContext.sql('SELECT NU_ANO AS ANO, MEDICAMENTOS, COUNT(*) AS QTDE_INSCRICAO, ROUND((COUNT(*)/(SELECT COUNT(*)/100 FROM enemtb)),2) AS PERCENTUAL FROM enemtb GROUP BY NU_ANO, MEDICAMENTOS ORDER BY NU_ANO, COUNT(*) DESC').show()\n",
    "\n",
    "print(f'Consulta realizada com sucesso -  {datetime.now()}')"
   ]
  },
  {
   "cell_type": "code",
   "execution_count": 207,
   "metadata": {
    "tags": []
   },
   "outputs": [
    {
     "output_type": "stream",
     "name": "stdout",
     "text": "Quantidade de inscriçoes por Sala Individual.\n\nConsulta inciada -  2020-09-03 00:06:25.231113\n+---------------+--------------+----------+\n|SALA_INDIVIDUAL|QTDE_INSCRICAO|PERCENTUAL|\n+---------------+--------------+----------+\n|            Não|      33712675|     100.0|\n|            Sim|          1477|       0.0|\n+---------------+--------------+----------+\n\nConsulta realizada com sucesso -  2020-09-03 00:09:31.141542\n"
    }
   ],
   "source": [
    "print('Quantidade de inscriçoes por Sala Individual.')\n",
    "print('')\n",
    "print(f'Consulta inciada -  {datetime.now()}')\n",
    "\n",
    "sqlContext.sql('SELECT SALA_INDIVIDUAL, COUNT(*) AS QTDE_INSCRICAO, ROUND((COUNT(*)/(SELECT COUNT(*)/100 FROM enemtb)),2) AS PERCENTUAL FROM enemtb GROUP BY SALA_INDIVIDUAL ORDER BY COUNT(*) DESC').show()\n",
    "\n",
    "print(f'Consulta realizada com sucesso -  {datetime.now()}')"
   ]
  },
  {
   "cell_type": "code",
   "execution_count": 208,
   "metadata": {
    "tags": []
   },
   "outputs": [
    {
     "output_type": "stream",
     "name": "stdout",
     "text": "Quantidade de inscriçoes por Sala Individual por Ano.\n\nConsulta inciada -  2020-09-03 00:09:31.168515\n+----+---------------+--------------+----------+\n| ANO|SALA_INDIVIDUAL|QTDE_INSCRICAO|PERCENTUAL|\n+----+---------------+--------------+----------+\n|2015|            Não|       7746129|     22.98|\n|2015|            Sim|           298|       0.0|\n|2016|            Não|       8627001|     25.59|\n|2016|            Sim|           366|       0.0|\n|2017|            Não|       6731117|     19.97|\n|2017|            Sim|           224|       0.0|\n|2018|            Não|       5513458|     16.35|\n|2018|            Sim|           289|       0.0|\n|2019|            Não|       5094970|     15.11|\n|2019|            Sim|           300|       0.0|\n+----+---------------+--------------+----------+\n\nConsulta realizada com sucesso -  2020-09-03 00:12:36.213855\n"
    }
   ],
   "source": [
    "print('Quantidade de inscriçoes por Sala Individual por Ano.')\n",
    "print('')\n",
    "print(f'Consulta inciada -  {datetime.now()}')\n",
    "\n",
    "sqlContext.sql('SELECT NU_ANO AS ANO, SALA_INDIVIDUAL, COUNT(*) AS QTDE_INSCRICAO, ROUND((COUNT(*)/(SELECT COUNT(*)/100 FROM enemtb)),2) AS PERCENTUAL FROM enemtb GROUP BY NU_ANO, SALA_INDIVIDUAL ORDER BY NU_ANO, COUNT(*) DESC').show()\n",
    "\n",
    "print(f'Consulta realizada com sucesso -  {datetime.now()}')"
   ]
  },
  {
   "cell_type": "code",
   "execution_count": 209,
   "metadata": {
    "tags": []
   },
   "outputs": [
    {
     "output_type": "stream",
     "name": "stdout",
     "text": "Quantidade de inscriçoes por Sala Especial.\n\nConsulta inciada -  2020-09-03 00:12:36.236793\n+-------------+--------------+----------+\n|SALA_ESPECIAL|QTDE_INSCRICAO|PERCENTUAL|\n+-------------+--------------+----------+\n|          Não|      33712905|     100.0|\n|          Sim|          1247|       0.0|\n+-------------+--------------+----------+\n\nConsulta realizada com sucesso -  2020-09-03 00:15:42.935455\n"
    }
   ],
   "source": [
    "print('Quantidade de inscriçoes por Sala Especial.')\n",
    "print('')\n",
    "print(f'Consulta inciada -  {datetime.now()}')\n",
    "\n",
    "sqlContext.sql('SELECT SALA_ESPECIAL, COUNT(*) AS QTDE_INSCRICAO, ROUND((COUNT(*)/(SELECT COUNT(*)/100 FROM enemtb)),2) AS PERCENTUAL FROM enemtb GROUP BY SALA_ESPECIAL ORDER BY COUNT(*) DESC').show()\n",
    "\n",
    "print(f'Consulta realizada com sucesso -  {datetime.now()}')"
   ]
  },
  {
   "cell_type": "code",
   "execution_count": 210,
   "metadata": {
    "tags": []
   },
   "outputs": [
    {
     "output_type": "stream",
     "name": "stdout",
     "text": "Quantidade de inscriçoes por Sala Especial por Ano.\n\nConsulta inciada -  2020-09-03 00:15:42.963380\n+----+-------------+--------------+----------+\n| ANO|SALA_ESPECIAL|QTDE_INSCRICAO|PERCENTUAL|\n+----+-------------+--------------+----------+\n|2015|          Não|       7746214|     22.98|\n|2015|          Sim|           213|       0.0|\n|2016|          Não|       8627084|     25.59|\n|2016|          Sim|           283|       0.0|\n|2017|          Não|       6731058|     19.97|\n|2017|          Sim|           283|       0.0|\n|2018|          Não|       5513534|     16.35|\n|2018|          Sim|           213|       0.0|\n|2019|          Não|       5095015|     15.11|\n|2019|          Sim|           255|       0.0|\n+----+-------------+--------------+----------+\n\nConsulta realizada com sucesso -  2020-09-03 00:18:44.354886\n"
    }
   ],
   "source": [
    "print('Quantidade de inscriçoes por Sala Especial por Ano.')\n",
    "print('')\n",
    "print(f'Consulta inciada -  {datetime.now()}')\n",
    "\n",
    "sqlContext.sql('SELECT NU_ANO AS ANO, SALA_ESPECIAL, COUNT(*) AS QTDE_INSCRICAO, ROUND((COUNT(*)/(SELECT COUNT(*)/100 FROM enemtb)),2) AS PERCENTUAL FROM enemtb GROUP BY NU_ANO, SALA_ESPECIAL ORDER BY NU_ANO, COUNT(*) DESC').show()\n",
    "\n",
    "print(f'Consulta realizada com sucesso -  {datetime.now()}')"
   ]
  },
  {
   "cell_type": "code",
   "execution_count": 211,
   "metadata": {
    "tags": []
   },
   "outputs": [
    {
     "output_type": "stream",
     "name": "stdout",
     "text": "Quantidade de inscriçoes por Sala para Acompanhante.\n\nConsulta inciada -  2020-09-03 00:18:44.379821\n+-----------------+--------------+----------+\n|SALA_ACOMPANHANTE|QTDE_INSCRICAO|PERCENTUAL|\n+-----------------+--------------+----------+\n|              Não|      33713752|     100.0|\n|              Sim|           400|       0.0|\n+-----------------+--------------+----------+\n\nConsulta realizada com sucesso -  2020-09-03 00:21:53.460850\n"
    }
   ],
   "source": [
    "print('Quantidade de inscriçoes por Sala para Acompanhante.')\n",
    "print('')\n",
    "print(f'Consulta inciada -  {datetime.now()}')\n",
    "\n",
    "sqlContext.sql('SELECT SALA_ACOMPANHANTE, COUNT(*) AS QTDE_INSCRICAO, ROUND((COUNT(*)/(SELECT COUNT(*)/100 FROM enemtb)),2) AS PERCENTUAL FROM enemtb GROUP BY SALA_ACOMPANHANTE ORDER BY COUNT(*) DESC').show()\n",
    "\n",
    "print(f'Consulta realizada com sucesso -  {datetime.now()}')"
   ]
  },
  {
   "cell_type": "code",
   "execution_count": 212,
   "metadata": {
    "tags": []
   },
   "outputs": [
    {
     "output_type": "stream",
     "name": "stdout",
     "text": "Quantidade de inscriçoes por Sala para Acompanhante por Ano.\n\nConsulta inciada -  2020-09-03 00:21:53.487780\n+----+-----------------+--------------+----------+\n| ANO|SALA_ACOMPANHANTE|QTDE_INSCRICAO|PERCENTUAL|\n+----+-----------------+--------------+----------+\n|2015|              Não|       7746331|     22.98|\n|2015|              Sim|            96|       0.0|\n|2016|              Não|       8627265|     25.59|\n|2016|              Sim|           102|       0.0|\n|2017|              Não|       6731247|     19.97|\n|2017|              Sim|            94|       0.0|\n|2018|              Não|       5513692|     16.35|\n|2018|              Sim|            55|       0.0|\n|2019|              Não|       5095217|     15.11|\n|2019|              Sim|            53|       0.0|\n+----+-----------------+--------------+----------+\n\nConsulta realizada com sucesso -  2020-09-03 00:24:54.226680\n"
    }
   ],
   "source": [
    "print('Quantidade de inscriçoes por Sala para Acompanhante por Ano.')\n",
    "print('')\n",
    "print(f'Consulta inciada -  {datetime.now()}')\n",
    "\n",
    "sqlContext.sql('SELECT NU_ANO AS ANO, SALA_ACOMPANHANTE, COUNT(*) AS QTDE_INSCRICAO, ROUND((COUNT(*)/(SELECT COUNT(*)/100 FROM enemtb)),2) AS PERCENTUAL FROM enemtb GROUP BY NU_ANO, SALA_ACOMPANHANTE ORDER BY NU_ANO, COUNT(*) DESC').show()\n",
    "\n",
    "print(f'Consulta realizada com sucesso -  {datetime.now()}')"
   ]
  },
  {
   "cell_type": "code",
   "execution_count": 213,
   "metadata": {
    "tags": []
   },
   "outputs": [
    {
     "output_type": "stream",
     "name": "stdout",
     "text": "Quantidade de inscriçoes por Mobiliario Específico.\n\nConsulta inciada -  2020-09-03 00:24:54.249617\n+---------------------+--------------+----------+\n|MOBILIARIO_ESPECIFICO|QTDE_INSCRICAO|PERCENTUAL|\n+---------------------+--------------+----------+\n|                  Não|      33714017|     100.0|\n|                  Sim|           135|       0.0|\n+---------------------+--------------+----------+\n\nConsulta realizada com sucesso -  2020-09-03 00:28:00.228675\n"
    }
   ],
   "source": [
    "print('Quantidade de inscriçoes por Mobiliario Específico.')\n",
    "print('')\n",
    "print(f'Consulta inciada -  {datetime.now()}')\n",
    "\n",
    "sqlContext.sql('SELECT MOBILIARIO_ESPECIFICO, COUNT(*) AS QTDE_INSCRICAO, ROUND((COUNT(*)/(SELECT COUNT(*)/100 FROM enemtb)),2) AS PERCENTUAL FROM enemtb GROUP BY MOBILIARIO_ESPECIFICO ORDER BY COUNT(*) DESC').show()\n",
    "\n",
    "print(f'Consulta realizada com sucesso -  {datetime.now()}')"
   ]
  },
  {
   "cell_type": "code",
   "execution_count": 214,
   "metadata": {
    "tags": []
   },
   "outputs": [
    {
     "output_type": "stream",
     "name": "stdout",
     "text": "Quantidade de inscriçoes por Mobiliario Específico por Ano.\n\nConsulta inciada -  2020-09-03 00:28:00.250617\n+----+---------------------+--------------+----------+\n| ANO|MOBILIARIO_ESPECIFICO|QTDE_INSCRICAO|PERCENTUAL|\n+----+---------------------+--------------+----------+\n|2015|                  Não|       7746415|     22.98|\n|2015|                  Sim|            12|       0.0|\n|2016|                  Não|       8627337|     25.59|\n|2016|                  Sim|            30|       0.0|\n|2017|                  Não|       6731330|     19.97|\n|2017|                  Sim|            11|       0.0|\n|2018|                  Não|       5513687|     16.35|\n|2018|                  Sim|            60|       0.0|\n|2019|                  Não|       5095248|     15.11|\n|2019|                  Sim|            22|       0.0|\n+----+---------------------+--------------+----------+\n\nConsulta realizada com sucesso -  2020-09-03 00:31:07.516255\n"
    }
   ],
   "source": [
    "print('Quantidade de inscriçoes por Mobiliario Específico por Ano.')\n",
    "print('')\n",
    "print(f'Consulta inciada -  {datetime.now()}')\n",
    "\n",
    "sqlContext.sql('SELECT NU_ANO AS ANO, MOBILIARIO_ESPECIFICO, COUNT(*) AS QTDE_INSCRICAO, ROUND((COUNT(*)/(SELECT COUNT(*)/100 FROM enemtb)),2) AS PERCENTUAL FROM enemtb GROUP BY NU_ANO, MOBILIARIO_ESPECIFICO ORDER BY NU_ANO, COUNT(*) DESC').show()\n",
    "\n",
    "print(f'Consulta realizada com sucesso -  {datetime.now()}')"
   ]
  },
  {
   "cell_type": "code",
   "execution_count": 215,
   "metadata": {
    "tags": []
   },
   "outputs": [
    {
     "output_type": "stream",
     "name": "stdout",
     "text": "Quantidade de inscriçoes por Nome Social.\n\nConsulta inciada -  2020-09-03 00:31:07.539195\n+-----------+--------------+----------+\n|NOME_SOCIAL|QTDE_INSCRICAO|PERCENTUAL|\n+-----------+--------------+----------+\n|        Não|      33712493|     100.0|\n|        Sim|          1659|       0.0|\n+-----------+--------------+----------+\n\nConsulta realizada com sucesso -  2020-09-03 00:34:11.050587\n"
    }
   ],
   "source": [
    "print('Quantidade de inscriçoes por Nome Social.')\n",
    "print('')\n",
    "print(f'Consulta inciada -  {datetime.now()}')\n",
    "\n",
    "sqlContext.sql('SELECT NOME_SOCIAL, COUNT(*) AS QTDE_INSCRICAO, ROUND((COUNT(*)/(SELECT COUNT(*)/100 FROM enemtb)),2) AS PERCENTUAL FROM enemtb GROUP BY NOME_SOCIAL ORDER BY COUNT(*) DESC').show()\n",
    "\n",
    "print(f'Consulta realizada com sucesso -  {datetime.now()}')"
   ]
  },
  {
   "cell_type": "code",
   "execution_count": 216,
   "metadata": {
    "tags": []
   },
   "outputs": [
    {
     "output_type": "stream",
     "name": "stdout",
     "text": "Quantidade de inscriçoes por Nome Social por Ano.\n\nConsulta inciada -  2020-09-03 00:34:11.066544\n+----+-----------+--------------+----------+\n| ANO|NOME_SOCIAL|QTDE_INSCRICAO|PERCENTUAL|\n+----+-----------+--------------+----------+\n|2015|        Não|       7746149|     22.98|\n|2015|        Sim|           278|       0.0|\n|2016|        Não|       8626936|     25.59|\n|2016|        Sim|           431|       0.0|\n|2017|        Não|       6731036|     19.97|\n|2017|        Sim|           305|       0.0|\n|2018|        Não|       5513496|     16.35|\n|2018|        Sim|           251|       0.0|\n|2019|        Não|       5094876|     15.11|\n|2019|        Sim|           394|       0.0|\n+----+-----------+--------------+----------+\n\nConsulta realizada com sucesso -  2020-09-03 00:37:18.916817\n"
    }
   ],
   "source": [
    "print('Quantidade de inscriçoes por Nome Social por Ano.')\n",
    "print('')\n",
    "print(f'Consulta inciada -  {datetime.now()}')\n",
    "\n",
    "sqlContext.sql('SELECT NU_ANO AS ANO, NOME_SOCIAL, COUNT(*) AS QTDE_INSCRICAO, ROUND((COUNT(*)/(SELECT COUNT(*)/100 FROM enemtb)),2) AS PERCENTUAL FROM enemtb GROUP BY NU_ANO, NOME_SOCIAL ORDER BY NU_ANO, COUNT(*) DESC').show()\n",
    "\n",
    "print(f'Consulta realizada com sucesso -  {datetime.now()}')"
   ]
  },
  {
   "cell_type": "code",
   "execution_count": 217,
   "metadata": {
    "tags": []
   },
   "outputs": [
    {
     "output_type": "stream",
     "name": "stdout",
     "text": "Quantidade de inscriçoes por Presença Prova Ciências Natureza.\n\nConsulta inciada -  2020-09-03 00:37:18.942746\n+--------------------------+--------------+----------+\n|PRESENCA_CIENCIAS_NATUREZA|QTDE_INSCRICAO|PERCENTUAL|\n+--------------------------+--------------+----------+\n|         Presente na prova|      23807309|     70.62|\n|            Faltou à prova|       9894904|     29.35|\n|        Eliminado na prova|         10840|      0.03|\n|                          |          1099|       0.0|\n+--------------------------+--------------+----------+\n\nConsulta realizada com sucesso -  2020-09-03 00:40:24.375469\n"
    }
   ],
   "source": [
    "print('Quantidade de inscriçoes por Presença Prova Ciências Natureza.')\n",
    "print('')\n",
    "print(f'Consulta inciada -  {datetime.now()}')\n",
    "\n",
    "sqlContext.sql('SELECT PRESENCA_CIENCIAS_NATUREZA, COUNT(*) AS QTDE_INSCRICAO, ROUND((COUNT(*)/(SELECT COUNT(*)/100 FROM enemtb)),2) AS PERCENTUAL FROM enemtb GROUP BY PRESENCA_CIENCIAS_NATUREZA ORDER BY COUNT(*) DESC').show()\n",
    "\n",
    "print(f'Consulta realizada com sucesso -  {datetime.now()}')"
   ]
  },
  {
   "cell_type": "code",
   "execution_count": 218,
   "metadata": {
    "tags": []
   },
   "outputs": [
    {
     "output_type": "stream",
     "name": "stdout",
     "text": "Quantidade de inscriçoes por Presença Prova Ciências Natureza por Ano.\n\nConsulta inciada -  2020-09-03 00:40:24.403396\n+----+--------------------------+--------------+----------+\n| ANO|PRESENCA_CIENCIAS_NATUREZA|QTDE_INSCRICAO|PERCENTUAL|\n+----+--------------------------+--------------+----------+\n|2015|         Presente na prova|       5755091|     17.07|\n|2015|            Faltou à prova|       1987518|       5.9|\n|2015|        Eliminado na prova|          3475|      0.01|\n|2015|                          |           343|       0.0|\n|2016|         Presente na prova|       5999126|     17.79|\n|2016|            Faltou à prova|       2624156|      7.78|\n|2016|        Eliminado na prova|          3711|      0.01|\n|2016|                          |           374|       0.0|\n|2017|         Presente na prova|       4437560|     13.16|\n|2017|            Faltou à prova|       2292509|       6.8|\n|2017|        Eliminado na prova|          1045|       0.0|\n|2017|                          |           227|       0.0|\n|2018|         Presente na prova|       3905099|     11.58|\n|2018|            Faltou à prova|       1607796|      4.77|\n|2018|        Eliminado na prova|           697|       0.0|\n|2018|                          |           155|       0.0|\n|2019|         Presente na prova|       3710433|     11.01|\n|2019|            Faltou à prova|       1382925|       4.1|\n|2019|        Eliminado na prova|          1912|      0.01|\n+----+--------------------------+--------------+----------+\n\nConsulta realizada com sucesso -  2020-09-03 00:43:28.019825\n"
    }
   ],
   "source": [
    "print('Quantidade de inscriçoes por Presença Prova Ciências Natureza por Ano.')\n",
    "print('')\n",
    "print(f'Consulta inciada -  {datetime.now()}')\n",
    "\n",
    "sqlContext.sql('SELECT NU_ANO AS ANO, PRESENCA_CIENCIAS_NATUREZA, COUNT(*) AS QTDE_INSCRICAO, ROUND((COUNT(*)/(SELECT COUNT(*)/100 FROM enemtb)),2) AS PERCENTUAL FROM enemtb GROUP BY NU_ANO, PRESENCA_CIENCIAS_NATUREZA ORDER BY NU_ANO, COUNT(*) DESC').show()\n",
    "\n",
    "print(f'Consulta realizada com sucesso -  {datetime.now()}')"
   ]
  },
  {
   "cell_type": "code",
   "execution_count": 219,
   "metadata": {
    "tags": []
   },
   "outputs": [
    {
     "output_type": "stream",
     "name": "stdout",
     "text": "Quantidade de inscriçoes por Presença Prova Ciências Humanas.\n\nConsulta inciada -  2020-09-03 00:43:28.044757\n+-------------------------+--------------+----------+\n|PRESENCA_CIENCIAS_HUMANAS|QTDE_INSCRICAO|PERCENTUAL|\n+-------------------------+--------------+----------+\n|        Presente na prova|      24527054|     72.75|\n|           Faltou à prova|       9170610|      27.2|\n|       Eliminado na prova|         15389|      0.05|\n|                         |          1099|       0.0|\n+-------------------------+--------------+----------+\n\nConsulta realizada com sucesso -  2020-09-03 00:46:32.996194\n"
    }
   ],
   "source": [
    "print('Quantidade de inscriçoes por Presença Prova Ciências Humanas.')\n",
    "print('')\n",
    "print(f'Consulta inciada -  {datetime.now()}')\n",
    "\n",
    "sqlContext.sql('SELECT PRESENCA_CIENCIAS_HUMANAS, COUNT(*) AS QTDE_INSCRICAO, ROUND((COUNT(*)/(SELECT COUNT(*)/100 FROM enemtb)),2) AS PERCENTUAL FROM enemtb GROUP BY PRESENCA_CIENCIAS_HUMANAS ORDER BY COUNT(*) DESC').show()\n",
    "\n",
    "print(f'Consulta realizada com sucesso -  {datetime.now()}')"
   ]
  },
  {
   "cell_type": "code",
   "execution_count": 220,
   "metadata": {
    "tags": []
   },
   "outputs": [
    {
     "output_type": "stream",
     "name": "stdout",
     "text": "Quantidade de inscriçoes por Presença Prova Ciências Humanas por Ano.\n\nConsulta inciada -  2020-09-03 00:46:33.021130\n+----+-------------------------+--------------+----------+\n| ANO|PRESENCA_CIENCIAS_HUMANAS|QTDE_INSCRICAO|PERCENTUAL|\n+----+-------------------------+--------------+----------+\n|2015|        Presente na prova|       5755091|     17.07|\n|2015|           Faltou à prova|       1987518|       5.9|\n|2015|       Eliminado na prova|          3475|      0.01|\n|2015|                         |           343|       0.0|\n|2016|        Presente na prova|       5999126|     17.79|\n|2016|           Faltou à prova|       2624156|      7.78|\n|2016|       Eliminado na prova|          3711|      0.01|\n|2016|                         |           374|       0.0|\n|2017|        Presente na prova|       4701428|     13.94|\n|2017|           Faltou à prova|       2027442|      6.01|\n|2017|       Eliminado na prova|          2244|      0.01|\n|2017|                         |           227|       0.0|\n|2018|        Presente na prova|       4148264|      12.3|\n|2018|           Faltou à prova|       1363441|      4.04|\n|2018|       Eliminado na prova|          1887|      0.01|\n|2018|                         |           155|       0.0|\n|2019|        Presente na prova|       3923145|     11.64|\n|2019|           Faltou à prova|       1168053|      3.46|\n|2019|       Eliminado na prova|          4072|      0.01|\n+----+-------------------------+--------------+----------+\n\nConsulta realizada com sucesso -  2020-09-03 00:49:40.278657\n"
    }
   ],
   "source": [
    "print('Quantidade de inscriçoes por Presença Prova Ciências Humanas por Ano.')\n",
    "print('')\n",
    "print(f'Consulta inciada -  {datetime.now()}')\n",
    "\n",
    "sqlContext.sql('SELECT NU_ANO AS ANO, PRESENCA_CIENCIAS_HUMANAS, COUNT(*) AS QTDE_INSCRICAO, ROUND((COUNT(*)/(SELECT COUNT(*)/100 FROM enemtb)),2) AS PERCENTUAL FROM enemtb GROUP BY NU_ANO, PRESENCA_CIENCIAS_HUMANAS ORDER BY NU_ANO, COUNT(*) DESC').show()\n",
    "\n",
    "print(f'Consulta realizada com sucesso -  {datetime.now()}')"
   ]
  },
  {
   "cell_type": "code",
   "execution_count": 221,
   "metadata": {
    "tags": []
   },
   "outputs": [
    {
     "output_type": "stream",
     "name": "stdout",
     "text": "Quantidade de inscriçoes por Presença Prova Linguagens e Códigos.\n\nConsulta inciada -  2020-09-03 00:49:40.305585\n+---------------------------+--------------+----------+\n|PRESENCA_LINGUAGENS_CODIGOS|QTDE_INSCRICAO|PERCENTUAL|\n+---------------------------+--------------+----------+\n|          Presente na prova|      24243348|     71.91|\n|             Faltou à prova|       9452565|     28.04|\n|         Eliminado na prova|         17164|      0.05|\n|                           |          1075|       0.0|\n+---------------------------+--------------+----------+\n\nConsulta realizada com sucesso -  2020-09-03 00:52:43.397270\n"
    }
   ],
   "source": [
    "print('Quantidade de inscriçoes por Presença Prova Linguagens e Códigos.')\n",
    "print('')\n",
    "print(f'Consulta inciada -  {datetime.now()}')\n",
    "\n",
    "sqlContext.sql('SELECT PRESENCA_LINGUAGENS_CODIGOS, COUNT(*) AS QTDE_INSCRICAO, ROUND((COUNT(*)/(SELECT COUNT(*)/100 FROM enemtb)),2) AS PERCENTUAL FROM enemtb GROUP BY PRESENCA_LINGUAGENS_CODIGOS ORDER BY COUNT(*) DESC').show()\n",
    "\n",
    "print(f'Consulta realizada com sucesso -  {datetime.now()}')"
   ]
  },
  {
   "cell_type": "code",
   "execution_count": 222,
   "metadata": {
    "tags": []
   },
   "outputs": [
    {
     "output_type": "stream",
     "name": "stdout",
     "text": "Quantidade de inscriçoes por Presença Prova Linguagens e Códigos por Ano.\n\nConsulta inciada -  2020-09-03 00:52:43.427190\n+----+---------------------------+--------------+----------+\n| ANO|PRESENCA_LINGUAGENS_CODIGOS|QTDE_INSCRICAO|PERCENTUAL|\n+----+---------------------------+--------------+----------+\n|2015|          Presente na prova|       5625540|     16.69|\n|2015|             Faltou à prova|       2116236|      6.28|\n|2015|         Eliminado na prova|          4332|      0.01|\n|2015|                           |           319|       0.0|\n|2016|          Presente na prova|       5844971|     17.34|\n|2016|             Faltou à prova|       2777393|      8.24|\n|2016|         Eliminado na prova|          4629|      0.01|\n|2016|                           |           374|       0.0|\n|2017|          Presente na prova|       4701428|     13.94|\n|2017|             Faltou à prova|       2027442|      6.01|\n|2017|         Eliminado na prova|          2244|      0.01|\n|2017|                           |           227|       0.0|\n|2018|          Presente na prova|       4148264|      12.3|\n|2018|             Faltou à prova|       1363441|      4.04|\n|2018|         Eliminado na prova|          1887|      0.01|\n|2018|                           |           155|       0.0|\n|2019|          Presente na prova|       3923145|     11.64|\n|2019|             Faltou à prova|       1168053|      3.46|\n|2019|         Eliminado na prova|          4072|      0.01|\n+----+---------------------------+--------------+----------+\n\nConsulta realizada com sucesso -  2020-09-03 00:55:47.887045\n"
    }
   ],
   "source": [
    "print('Quantidade de inscriçoes por Presença Prova Linguagens e Códigos por Ano.')\n",
    "print('')\n",
    "print(f'Consulta inciada -  {datetime.now()}')\n",
    "\n",
    "sqlContext.sql('SELECT NU_ANO AS ANO, PRESENCA_LINGUAGENS_CODIGOS, COUNT(*) AS QTDE_INSCRICAO, ROUND((COUNT(*)/(SELECT COUNT(*)/100 FROM enemtb)),2) AS PERCENTUAL FROM enemtb GROUP BY NU_ANO, PRESENCA_LINGUAGENS_CODIGOS ORDER BY NU_ANO, COUNT(*) DESC').show()\n",
    "\n",
    "print(f'Consulta realizada com sucesso -  {datetime.now()}')"
   ]
  },
  {
   "cell_type": "code",
   "execution_count": 223,
   "metadata": {
    "tags": []
   },
   "outputs": [
    {
     "output_type": "stream",
     "name": "stdout",
     "text": "Quantidade de inscriçoes por Presença Prova Matemática.\n\nConsulta inciada -  2020-09-03 00:55:47.905994\n+-------------------+--------------+----------+\n|PRESENCA_MATEMATICA|QTDE_INSCRICAO|PERCENTUAL|\n+-------------------+--------------+----------+\n|  Presente na prova|      23523603|     69.77|\n|     Faltou à prova|      10176859|     30.19|\n| Eliminado na prova|         12615|      0.04|\n|                   |          1075|       0.0|\n+-------------------+--------------+----------+\n\nConsulta realizada com sucesso -  2020-09-03 00:58:53.938631\n"
    }
   ],
   "source": [
    "print('Quantidade de inscriçoes por Presença Prova Matemática.')\n",
    "print('')\n",
    "print(f'Consulta inciada -  {datetime.now()}')\n",
    "\n",
    "sqlContext.sql('SELECT PRESENCA_MATEMATICA, COUNT(*) AS QTDE_INSCRICAO, ROUND((COUNT(*)/(SELECT COUNT(*)/100 FROM enemtb)),2) AS PERCENTUAL FROM enemtb GROUP BY PRESENCA_MATEMATICA ORDER BY COUNT(*) DESC').show()\n",
    "\n",
    "print(f'Consulta realizada com sucesso -  {datetime.now()}')"
   ]
  },
  {
   "cell_type": "code",
   "execution_count": 224,
   "metadata": {
    "tags": []
   },
   "outputs": [
    {
     "output_type": "stream",
     "name": "stdout",
     "text": "Quantidade de inscriçoes por Presença Prova Matemática por Ano.\n\nConsulta inciada -  2020-09-03 00:58:53.969551\n+----+-------------------+--------------+----------+\n| ANO|PRESENCA_MATEMATICA|QTDE_INSCRICAO|PERCENTUAL|\n+----+-------------------+--------------+----------+\n|2015|  Presente na prova|       5625540|     16.69|\n|2015|     Faltou à prova|       2116236|      6.28|\n|2015| Eliminado na prova|          4332|      0.01|\n|2015|                   |           319|       0.0|\n|2016|  Presente na prova|       5844971|     17.34|\n|2016|     Faltou à prova|       2777393|      8.24|\n|2016| Eliminado na prova|          4629|      0.01|\n|2016|                   |           374|       0.0|\n|2017|  Presente na prova|       4437560|     13.16|\n|2017|     Faltou à prova|       2292509|       6.8|\n|2017| Eliminado na prova|          1045|       0.0|\n|2017|                   |           227|       0.0|\n|2018|  Presente na prova|       3905099|     11.58|\n|2018|     Faltou à prova|       1607796|      4.77|\n|2018| Eliminado na prova|           697|       0.0|\n|2018|                   |           155|       0.0|\n|2019|  Presente na prova|       3710433|     11.01|\n|2019|     Faltou à prova|       1382925|       4.1|\n|2019| Eliminado na prova|          1912|      0.01|\n+----+-------------------+--------------+----------+\n\nConsulta realizada com sucesso -  2020-09-03 01:01:57.824785\n"
    }
   ],
   "source": [
    "print('Quantidade de inscriçoes por Presença Prova Matemática por Ano.')\n",
    "print('')\n",
    "print(f'Consulta inciada -  {datetime.now()}')\n",
    "\n",
    "sqlContext.sql('SELECT NU_ANO AS ANO, PRESENCA_MATEMATICA, COUNT(*) AS QTDE_INSCRICAO, ROUND((COUNT(*)/(SELECT COUNT(*)/100 FROM enemtb)),2) AS PERCENTUAL FROM enemtb GROUP BY NU_ANO, PRESENCA_MATEMATICA ORDER BY NU_ANO, COUNT(*) DESC').show()\n",
    "\n",
    "print(f'Consulta realizada com sucesso -  {datetime.now()}')"
   ]
  },
  {
   "cell_type": "code",
   "execution_count": 225,
   "metadata": {
    "tags": []
   },
   "outputs": [
    {
     "output_type": "stream",
     "name": "stdout",
     "text": "Quantidade de inscriçoes por Escolha Línguas.\n\nConsulta inciada -  2020-09-03 01:01:57.849717\n+--------+--------------+----------+\n|  LINGUA|QTDE_INSCRICAO|PERCENTUAL|\n+--------+--------------+----------+\n|Espanhol|      18995697|     56.34|\n|  Inglês|      14718455|     43.66|\n+--------+--------------+----------+\n\nConsulta realizada com sucesso -  2020-09-03 01:05:05.211509\n"
    }
   ],
   "source": [
    "print('Quantidade de inscriçoes por Escolha Línguas.')\n",
    "print('')\n",
    "print(f'Consulta inciada -  {datetime.now()}')\n",
    "\n",
    "sqlContext.sql('SELECT LINGUA, COUNT(*) AS QTDE_INSCRICAO, ROUND((COUNT(*)/(SELECT COUNT(*)/100 FROM enemtb)),2) AS PERCENTUAL FROM enemtb GROUP BY LINGUA ORDER BY COUNT(*) DESC').show()\n",
    "\n",
    "print(f'Consulta realizada com sucesso -  {datetime.now()}')"
   ]
  },
  {
   "cell_type": "code",
   "execution_count": 226,
   "metadata": {
    "tags": []
   },
   "outputs": [
    {
     "output_type": "stream",
     "name": "stdout",
     "text": "Quantidade de inscriçoes por Escolha Línguas por Ano.\n\nConsulta inciada -  2020-09-03 01:05:05.236441\n+----+--------+--------------+----------+\n| ANO|  LINGUA|QTDE_INSCRICAO|PERCENTUAL|\n+----+--------+--------------+----------+\n|2015|Espanhol|       4612529|     13.68|\n|2015|  Inglês|       3133898|       9.3|\n|2016|Espanhol|       5020795|     14.89|\n|2016|  Inglês|       3606572|      10.7|\n|2017|Espanhol|       3749674|     11.12|\n|2017|  Inglês|       2981667|      8.84|\n|2018|Espanhol|       2939201|      8.72|\n|2018|  Inglês|       2574546|      7.64|\n|2019|Espanhol|       2673498|      7.93|\n|2019|  Inglês|       2421772|      7.18|\n+----+--------+--------------+----------+\n\nConsulta realizada com sucesso -  2020-09-03 01:08:10.053873\n"
    }
   ],
   "source": [
    "print('Quantidade de inscriçoes por Escolha Línguas por Ano.')\n",
    "print('')\n",
    "print(f'Consulta inciada -  {datetime.now()}')\n",
    "\n",
    "sqlContext.sql('SELECT NU_ANO AS ANO, LINGUA, COUNT(*) AS QTDE_INSCRICAO, ROUND((COUNT(*)/(SELECT COUNT(*)/100 FROM enemtb)),2) AS PERCENTUAL FROM enemtb GROUP BY NU_ANO, LINGUA ORDER BY NU_ANO, COUNT(*) DESC').show()\n",
    "\n",
    "print(f'Consulta realizada com sucesso -  {datetime.now()}')"
   ]
  },
  {
   "cell_type": "code",
   "execution_count": 227,
   "metadata": {
    "tags": []
   },
   "outputs": [
    {
     "output_type": "stream",
     "name": "stdout",
     "text": "Quantidade de inscriçoes por Status Redação.\n\nConsulta inciada -  2020-09-03 01:08:10.074817\n+-------------------------------+--------------+----------+\n|STATUS_REDACAO                 |QTDE_INSCRICAO|PERCENTUAL|\n+-------------------------------+--------------+----------+\n|Sem problemas                  |23474861      |69.63     |\n|                               |7366434       |21.85     |\n|Em Branco                      |2333045       |6.92      |\n|Fuga ao tema                   |373136        |1.11      |\n|Cópia Texto Motivador          |55760         |0.17      |\n|Texto insuficiente             |41654         |0.12      |\n|Parte desconectada             |32730         |0.1       |\n|Não atendimento ao tipo textual|20782         |0.06      |\n|Anulada                        |15750         |0.05      |\n+-------------------------------+--------------+----------+\n\nConsulta realizada com sucesso -  2020-09-03 01:11:18.050583\n"
    }
   ],
   "source": [
    "print('Quantidade de inscriçoes por Status Redação.')\n",
    "print('')\n",
    "print(f'Consulta inciada -  {datetime.now()}')\n",
    "\n",
    "sqlContext.sql('SELECT STATUS_REDACAO, COUNT(*) AS QTDE_INSCRICAO, ROUND((COUNT(*)/(SELECT COUNT(*)/100 FROM enemtb)),2) AS PERCENTUAL FROM enemtb GROUP BY STATUS_REDACAO ORDER BY COUNT(*) DESC').show(truncate = False)\n",
    "\n",
    "print(f'Consulta realizada com sucesso -  {datetime.now()}')"
   ]
  },
  {
   "cell_type": "code",
   "execution_count": 228,
   "metadata": {
    "tags": []
   },
   "outputs": [
    {
     "output_type": "stream",
     "name": "stdout",
     "text": "Quantidade de inscriçoes por Status Redação por Ano.\n\nConsulta inciada -  2020-09-03 01:11:18.078507\n+----+-------------------------------+--------------+----------+\n|ANO |STATUS_REDACAO                 |QTDE_INSCRICAO|PERCENTUAL|\n+----+-------------------------------+--------------+----------+\n|2015|Sem problemas                  |5548135       |16.46     |\n|2015|Em Branco                      |2145286       |6.36      |\n|2015|Fuga ao tema                   |20765         |0.06      |\n|2015|                               |11689         |0.03      |\n|2015|Não atendimento ao tipo textual|6644          |0.02      |\n|2015|Cópia Texto Motivador          |6092          |0.02      |\n|2015|Texto insuficiente             |3516          |0.01      |\n|2015|Anulada                        |2222          |0.01      |\n|2015|Parte desconectada             |2078          |0.01      |\n|2016|Sem problemas                  |5712543       |16.94     |\n|2016|                               |2787223       |8.27      |\n|2016|Em Branco                      |49348         |0.15      |\n|2016|Fuga ao tema                   |45717         |0.14      |\n|2016|Parte desconectada             |12898         |0.04      |\n|2016|Cópia Texto Motivador          |7844          |0.02      |\n|2016|Texto insuficiente             |6985          |0.02      |\n|2016|Não atendimento ao tipo textual|3386          |0.01      |\n|2016|Anulada                        |1423          |0.0       |\n|2017|Sem problemas                  |4398454       |13.05     |\n|2017|                               |2029913       |6.02      |\n|2017|Fuga ao tema                   |234317        |0.7       |\n|2017|Em Branco                      |35910         |0.11      |\n|2017|Texto insuficiente             |15266         |0.05      |\n|2017|Parte desconectada             |7874          |0.02      |\n|2017|Não atendimento ao tipo textual|4431          |0.01      |\n|2017|Cópia Texto Motivador          |3869          |0.01      |\n|2017|Anulada                        |1307          |0.0       |\n|2018|Sem problemas                  |4036274       |11.97     |\n|2018|                               |1365483       |4.05      |\n|2018|Em Branco                      |45600         |0.14      |\n|2018|Fuga ao tema                   |31714         |0.09      |\n|2018|Cópia Texto Motivador          |14690         |0.04      |\n|2018|Texto insuficiente             |7309          |0.02      |\n|2018|Anulada                        |5139          |0.02      |\n|2018|Parte desconectada             |5017          |0.01      |\n|2018|Não atendimento ao tipo textual|2521          |0.01      |\n|2019|Sem problemas                  |3779455       |11.21     |\n|2019|                               |1172126       |3.48      |\n|2019|Em Branco                      |56901         |0.17      |\n|2019|Fuga ao tema                   |40623         |0.12      |\n|2019|Cópia Texto Motivador          |23265         |0.07      |\n|2019|Texto insuficiente             |8578          |0.03      |\n|2019|Anulada                        |5659          |0.02      |\n|2019|Parte desconectada             |4863          |0.01      |\n|2019|Não atendimento ao tipo textual|3800          |0.01      |\n+----+-------------------------------+--------------+----------+\n\nConsulta realizada com sucesso -  2020-09-03 01:14:20.464019\n"
    }
   ],
   "source": [
    "print('Quantidade de inscriçoes por Status Redação por Ano.')\n",
    "print('')\n",
    "print(f'Consulta inciada -  {datetime.now()}')\n",
    "\n",
    "sqlContext.sql('SELECT NU_ANO AS ANO, STATUS_REDACAO, COUNT(*) AS QTDE_INSCRICAO, ROUND((COUNT(*)/(SELECT COUNT(*)/100 FROM enemtb)),2) AS PERCENTUAL FROM enemtb GROUP BY NU_ANO, STATUS_REDACAO ORDER BY NU_ANO, COUNT(*) DESC').show(100, truncate = False)\n",
    "\n",
    "print(f'Consulta realizada com sucesso -  {datetime.now()}')"
   ]
  },
  {
   "cell_type": "code",
   "execution_count": 229,
   "metadata": {
    "tags": []
   },
   "outputs": [
    {
     "output_type": "stream",
     "name": "stdout",
     "text": "Quantidade de inscriçoes por Pai Estudou?\n\nConsulta inciada -  2020-09-03 01:14:20.534869\n+---------------------------------------------------------------------------------------+--------------+----------+\n|PAI_ESTUDOU                                                                            |QTDE_INSCRICAO|PERCENTUAL|\n+---------------------------------------------------------------------------------------+--------------+----------+\n|Completou o Ensino Médio, mas não completou a Faculdade.                               |8116484       |24.07     |\n|Não completou a 4ª série/5º ano do Ensino Fundamental.                                 |7873004       |23.35     |\n|Completou a 4ª série/5º ano, mas não completou a 8ª série/9º ano do Ensino Fundamental.|5084983       |15.08     |\n|Completou a 8ª série/9º ano do Ensino Fundamental, mas não completou o Ensino Médio.   |4074944       |12.09     |\n|Não sei.                                                                               |3170233       |9.4       |\n|Completou a Faculdade, mas não completou a Pós-graduação.                              |2114497       |6.27      |\n|Nunca estudou.                                                                         |2076754       |6.16      |\n|Completou a Pós-graduação.                                                             |1202565       |3.57      |\n|                                                                                       |688           |0.0       |\n+---------------------------------------------------------------------------------------+--------------+----------+\n\nConsulta realizada com sucesso -  2020-09-03 01:17:27.416229\n"
    }
   ],
   "source": [
    "print('Quantidade de inscriçoes por Pai Estudou?')\n",
    "print('')\n",
    "print(f'Consulta inciada -  {datetime.now()}')\n",
    "\n",
    "sqlContext.sql('SELECT PAI_ESTUDOU, COUNT(*) AS QTDE_INSCRICAO, ROUND((COUNT(*)/(SELECT COUNT(*)/100 FROM enemtb)),2) AS PERCENTUAL FROM enemtb GROUP BY PAI_ESTUDOU ORDER BY COUNT(*) DESC').show(truncate = False)\n",
    "\n",
    "print(f'Consulta realizada com sucesso -  {datetime.now()}')"
   ]
  },
  {
   "cell_type": "code",
   "execution_count": 230,
   "metadata": {
    "tags": []
   },
   "outputs": [
    {
     "output_type": "stream",
     "name": "stdout",
     "text": "Quantidade de inscriçoes por Pai Estudou por Ano?\n\nConsulta inciada -  2020-09-03 01:17:27.437172\n+----+---------------------------------------------------------------------------------------+--------------+----------+\n|ANO |PAI_ESTUDOU                                                                            |QTDE_INSCRICAO|PERCENTUAL|\n+----+---------------------------------------------------------------------------------------+--------------+----------+\n|2015|Completou o Ensino Médio, mas não completou a Faculdade.                               |1819907       |5.4       |\n|2015|Não completou a 4ª série/5º ano do Ensino Fundamental.                                 |1793568       |5.32      |\n|2015|Completou a 4ª série/5º ano, mas não completou a 8ª série/9º ano do Ensino Fundamental.|1239346       |3.68      |\n|2015|Completou a 8ª série/9º ano do Ensino Fundamental, mas não completou o Ensino Médio.   |959339        |2.85      |\n|2015|Não sei.                                                                               |749041        |2.22      |\n|2015|Nunca estudou.                                                                         |482477        |1.43      |\n|2015|Completou a Faculdade, mas não completou a Pós-graduação.                              |453032        |1.34      |\n|2015|Completou a Pós-graduação.                                                             |249033        |0.74      |\n|2015|                                                                                       |684           |0.0       |\n|2016|Não completou a 4ª série/5º ano do Ensino Fundamental.                                 |2073816       |6.15      |\n|2016|Completou o Ensino Médio, mas não completou a Faculdade.                               |1999819       |5.93      |\n|2016|Completou a 4ª série/5º ano, mas não completou a 8ª série/9º ano do Ensino Fundamental.|1322346       |3.92      |\n|2016|Completou a 8ª série/9º ano do Ensino Fundamental, mas não completou o Ensino Médio.   |1073204       |3.18      |\n|2016|Não sei.                                                                               |842596        |2.5       |\n|2016|Nunca estudou.                                                                         |556850        |1.65      |\n|2016|Completou a Faculdade, mas não completou a Pós-graduação.                              |490025        |1.45      |\n|2016|Completou a Pós-graduação.                                                             |268707        |0.8       |\n|2016|                                                                                       |4             |0.0       |\n|2017|Completou o Ensino Médio, mas não completou a Faculdade.                               |1602891       |4.75      |\n|2017|Não completou a 4ª série/5º ano do Ensino Fundamental.                                 |1602749       |4.75      |\n|2017|Completou a 4ª série/5º ano, mas não completou a 8ª série/9º ano do Ensino Fundamental.|1005213       |2.98      |\n|2017|Completou a 8ª série/9º ano do Ensino Fundamental, mas não completou o Ensino Médio.   |814771        |2.42      |\n|2017|Não sei.                                                                               |641041        |1.9       |\n|2017|Nunca estudou.                                                                         |421769        |1.25      |\n|2017|Completou a Faculdade, mas não completou a Pós-graduação.                              |411872        |1.22      |\n|2017|Completou a Pós-graduação.                                                             |231035        |0.69      |\n|2018|Completou o Ensino Médio, mas não completou a Faculdade.                               |1384876       |4.11      |\n|2018|Não completou a 4ª série/5º ano do Ensino Fundamental.                                 |1267055       |3.76      |\n|2018|Completou a 4ª série/5º ano, mas não completou a 8ª série/9º ano do Ensino Fundamental.|794560        |2.36      |\n|2018|Completou a 8ª série/9º ano do Ensino Fundamental, mas não completou o Ensino Médio.   |641010        |1.9       |\n|2018|Não sei.                                                                               |492749        |1.46      |\n|2018|Completou a Faculdade, mas não completou a Pós-graduação.                              |383847        |1.14      |\n|2018|Nunca estudou.                                                                         |325043        |0.96      |\n|2018|Completou a Pós-graduação.                                                             |224607        |0.67      |\n|2019|Completou o Ensino Médio, mas não completou a Faculdade.                               |1308991       |3.88      |\n|2019|Não completou a 4ª série/5º ano do Ensino Fundamental.                                 |1135816       |3.37      |\n|2019|Completou a 4ª série/5º ano, mas não completou a 8ª série/9º ano do Ensino Fundamental.|723518        |2.15      |\n|2019|Completou a 8ª série/9º ano do Ensino Fundamental, mas não completou o Ensino Médio.   |586620        |1.74      |\n|2019|Não sei.                                                                               |444806        |1.32      |\n|2019|Completou a Faculdade, mas não completou a Pós-graduação.                              |375721        |1.11      |\n|2019|Nunca estudou.                                                                         |290615        |0.86      |\n|2019|Completou a Pós-graduação.                                                             |229183        |0.68      |\n+----+---------------------------------------------------------------------------------------+--------------+----------+\n\nConsulta realizada com sucesso -  2020-09-03 01:20:35.182375\n"
    }
   ],
   "source": [
    "print('Quantidade de inscriçoes por Pai Estudou por Ano?')\n",
    "print('')\n",
    "print(f'Consulta inciada -  {datetime.now()}')\n",
    "\n",
    "sqlContext.sql('SELECT NU_ANO AS ANO, PAI_ESTUDOU, COUNT(*) AS QTDE_INSCRICAO, ROUND((COUNT(*)/(SELECT COUNT(*)/100 FROM enemtb)),2) AS PERCENTUAL FROM enemtb GROUP BY NU_ANO, PAI_ESTUDOU ORDER BY NU_ANO, COUNT(*) DESC').show(100, truncate = False)\n",
    "\n",
    "print(f'Consulta realizada com sucesso -  {datetime.now()}')"
   ]
  },
  {
   "cell_type": "code",
   "execution_count": 231,
   "metadata": {
    "tags": []
   },
   "outputs": [
    {
     "output_type": "stream",
     "name": "stdout",
     "text": "Quantidade de inscriçoes por Mãe Estudou?\n\nConsulta inciada -  2020-09-03 01:20:35.202117\n+---------------------------------------------------------------------------------------+--------------+----------+\n|MAE_ESTUDOU                                                                            |QTDE_INSCRICAO|PERCENTUAL|\n+---------------------------------------------------------------------------------------+--------------+----------+\n|Completou o Ensino Médio, mas não completou a Faculdade.                               |10062314      |29.85     |\n|Não completou a 4ª série/5º ano do Ensino Fundamental.                                 |6238429       |18.5      |\n|Completou a 4ª série/5º ano, mas não completou a 8ª série/9º ano do Ensino Fundamental.|4993957       |14.81     |\n|Completou a 8ª série/9º ano do Ensino Fundamental, mas não completou o Ensino Médio.   |4668985       |13.85     |\n|Completou a Faculdade, mas não completou a Pós-graduação.                              |2854443       |8.47      |\n|Completou a Pós-graduação.                                                             |2107605       |6.25      |\n|Nunca estudou.                                                                         |1533813       |4.55      |\n|Não sei.                                                                               |1253916       |3.72      |\n|                                                                                       |690           |0.0       |\n+---------------------------------------------------------------------------------------+--------------+----------+\n\nConsulta realizada com sucesso -  2020-09-03 01:23:34.536984\n"
    }
   ],
   "source": [
    "print('Quantidade de inscriçoes por Mãe Estudou?')\n",
    "print('')\n",
    "print(f'Consulta inciada -  {datetime.now()}')\n",
    "\n",
    "sqlContext.sql('SELECT MAE_ESTUDOU, COUNT(*) AS QTDE_INSCRICAO, ROUND((COUNT(*)/(SELECT COUNT(*)/100 FROM enemtb)),2) AS PERCENTUAL FROM enemtb GROUP BY MAE_ESTUDOU ORDER BY COUNT(*) DESC').show(truncate = False)\n",
    "\n",
    "print(f'Consulta realizada com sucesso -  {datetime.now()}')"
   ]
  },
  {
   "cell_type": "code",
   "execution_count": 232,
   "metadata": {
    "tags": []
   },
   "outputs": [
    {
     "output_type": "stream",
     "name": "stdout",
     "text": "Quantidade de inscriçoes por Mãe Estudou por Ano?\n\nConsulta inciada -  2020-09-03 01:23:34.550948\n+----+---------------------------------------------------------------------------------------+--------------+----------+\n|ANO |MAE_ESTUDOU                                                                            |QTDE_INSCRICAO|PERCENTUAL|\n+----+---------------------------------------------------------------------------------------+--------------+----------+\n|2015|Completou o Ensino Médio, mas não completou a Faculdade.                               |2229080       |6.61      |\n|2015|Não completou a 4ª série/5º ano do Ensino Fundamental.                                 |1478339       |4.38      |\n|2015|Completou a 4ª série/5º ano, mas não completou a 8ª série/9º ano do Ensino Fundamental.|1216696       |3.61      |\n|2015|Completou a 8ª série/9º ano do Ensino Fundamental, mas não completou o Ensino Médio.   |1093654       |3.24      |\n|2015|Completou a Faculdade, mas não completou a Pós-graduação.                              |602518        |1.79      |\n|2015|Completou a Pós-graduação.                                                             |438649        |1.3       |\n|2015|Nunca estudou.                                                                         |374691        |1.11      |\n|2015|Não sei.                                                                               |312114        |0.93      |\n|2015|                                                                                       |686           |0.0       |\n|2016|Completou o Ensino Médio, mas não completou a Faculdade.                               |2479133       |7.35      |\n|2016|Não completou a 4ª série/5º ano do Ensino Fundamental.                                 |1670367       |4.95      |\n|2016|Completou a 4ª série/5º ano, mas não completou a 8ª série/9º ano do Ensino Fundamental.|1320805       |3.92      |\n|2016|Completou a 8ª série/9º ano do Ensino Fundamental, mas não completou o Ensino Médio.   |1232518       |3.66      |\n|2016|Completou a Faculdade, mas não completou a Pós-graduação.                              |658229        |1.95      |\n|2016|Completou a Pós-graduação.                                                             |469503        |1.39      |\n|2016|Nunca estudou.                                                                         |424016        |1.26      |\n|2016|Não sei.                                                                               |372792        |1.11      |\n|2016|                                                                                       |4             |0.0       |\n|2017|Completou o Ensino Médio, mas não completou a Faculdade.                               |1998637       |5.93      |\n|2017|Não completou a 4ª série/5º ano do Ensino Fundamental.                                 |1264310       |3.75      |\n|2017|Completou a 4ª série/5º ano, mas não completou a 8ª série/9º ano do Ensino Fundamental.|996896        |2.96      |\n|2017|Completou a 8ª série/9º ano do Ensino Fundamental, mas não completou o Ensino Médio.   |940217        |2.79      |\n|2017|Completou a Faculdade, mas não completou a Pós-graduação.                              |559119        |1.66      |\n|2017|Completou a Pós-graduação.                                                             |409002        |1.21      |\n|2017|Nunca estudou.                                                                         |312354        |0.93      |\n|2017|Não sei.                                                                               |250806        |0.74      |\n|2018|Completou o Ensino Médio, mas não completou a Faculdade.                               |1721772       |5.11      |\n|2018|Não completou a 4ª série/5º ano do Ensino Fundamental.                                 |970587        |2.88      |\n|2018|Completou a 4ª série/5º ano, mas não completou a 8ª série/9º ano do Ensino Fundamental.|773362        |2.29      |\n|2018|Completou a 8ª série/9º ano do Ensino Fundamental, mas não completou o Ensino Médio.   |735181        |2.18      |\n|2018|Completou a Faculdade, mas não completou a Pós-graduação.                              |520866        |1.54      |\n|2018|Completou a Pós-graduação.                                                             |390981        |1.16      |\n|2018|Nunca estudou.                                                                         |228127        |0.68      |\n|2018|Não sei.                                                                               |172871        |0.51      |\n|2019|Completou o Ensino Médio, mas não completou a Faculdade.                               |1633692       |4.85      |\n|2019|Não completou a 4ª série/5º ano do Ensino Fundamental.                                 |854826        |2.54      |\n|2019|Completou a 4ª série/5º ano, mas não completou a 8ª série/9º ano do Ensino Fundamental.|686198        |2.04      |\n|2019|Completou a 8ª série/9º ano do Ensino Fundamental, mas não completou o Ensino Médio.   |667415        |1.98      |\n|2019|Completou a Faculdade, mas não completou a Pós-graduação.                              |513711        |1.52      |\n|2019|Completou a Pós-graduação.                                                             |399470        |1.18      |\n|2019|Nunca estudou.                                                                         |194625        |0.58      |\n|2019|Não sei.                                                                               |145333        |0.43      |\n+----+---------------------------------------------------------------------------------------+--------------+----------+\n\nConsulta realizada com sucesso -  2020-09-03 01:26:39.131641\n"
    }
   ],
   "source": [
    "print('Quantidade de inscriçoes por Mãe Estudou por Ano?')\n",
    "print('')\n",
    "print(f'Consulta inciada -  {datetime.now()}')\n",
    "\n",
    "sqlContext.sql('SELECT NU_ANO AS ANO, MAE_ESTUDOU, COUNT(*) AS QTDE_INSCRICAO, ROUND((COUNT(*)/(SELECT COUNT(*)/100 FROM enemtb)),2) AS PERCENTUAL FROM enemtb GROUP BY NU_ANO, MAE_ESTUDOU ORDER BY NU_ANO, COUNT(*) DESC').show(50, truncate = False)\n",
    "\n",
    "print(f'Consulta realizada com sucesso -  {datetime.now()}')"
   ]
  },
  {
   "cell_type": "code",
   "execution_count": 233,
   "metadata": {
    "tags": []
   },
   "outputs": [
    {
     "output_type": "stream",
     "name": "stdout",
     "text": "Quantidade de inscriçoes por Quantidade de Pessoas na Residência.\n\nConsulta inciada -  2020-09-03 01:26:39.150590\n+------------------------+--------------+----------+\n|QTDE_MORADOR_RESIDENCIA |QTDE_INSCRICAO|PERCENTUAL|\n+------------------------+--------------+----------+\n|4                       |10520748      |31.21     |\n|3                       |8272709       |24.54     |\n|5                       |5752725       |17.06     |\n|2                       |4125748       |12.24     |\n|6                       |2275631       |6.75      |\n|7                       |968899        |2.87      |\n|1, pois moro sozinho(a).|949920        |2.82      |\n|8                       |443489        |1.32      |\n|9                       |178596        |0.53      |\n|10                      |117303        |0.35      |\n|11                      |39419         |0.12      |\n|12                      |27269         |0.08      |\n|13                      |12265         |0.04      |\n|14                      |6865          |0.02      |\n|20                      |6265          |0.02      |\n|15                      |6103          |0.02      |\n|16                      |2996          |0.01      |\n|18                      |2261          |0.01      |\n|17                      |2200          |0.01      |\n|19                      |2042          |0.01      |\n|                        |699           |0.0       |\n+------------------------+--------------+----------+\n\nConsulta realizada com sucesso -  2020-09-03 01:29:49.510623\n"
    }
   ],
   "source": [
    "print('Quantidade de inscriçoes por Quantidade de Pessoas na Residência.')\n",
    "print('')\n",
    "print(f'Consulta inciada -  {datetime.now()}')\n",
    "\n",
    "sqlContext.sql('SELECT QTDE_MORADOR_RESIDENCIA, COUNT(*) AS QTDE_INSCRICAO, ROUND((COUNT(*)/(SELECT COUNT(*)/100 FROM enemtb)),2) AS PERCENTUAL FROM enemtb GROUP BY QTDE_MORADOR_RESIDENCIA ORDER BY COUNT(*) DESC').show(30, truncate = False)\n",
    "\n",
    "print(f'Consulta realizada com sucesso -  {datetime.now()}')"
   ]
  },
  {
   "cell_type": "code",
   "execution_count": 234,
   "metadata": {
    "tags": []
   },
   "outputs": [
    {
     "output_type": "stream",
     "name": "stdout",
     "text": "Quantidade de inscriçoes por Quantidade de Pessoas na Residência por Ano.\n\nConsulta inciada -  2020-09-03 01:29:49.535554\n+----+------------------------+--------------+----------+\n|ANO |QTDE_MORADOR_RESIDENCIA |QTDE_INSCRICAO|PERCENTUAL|\n+----+------------------------+--------------+----------+\n|2015|4                       |2411757       |7.15      |\n|2015|3                       |1851776       |5.49      |\n|2015|5                       |1373932       |4.08      |\n|2015|2                       |884977        |2.62      |\n|2015|6                       |555156        |1.65      |\n|2015|7                       |236760        |0.7       |\n|2015|1, pois moro sozinho(a).|219393        |0.65      |\n|2015|8                       |110982        |0.33      |\n|2015|9                       |45195         |0.13      |\n|2015|10                      |29468         |0.09      |\n|2015|11                      |9979          |0.03      |\n|2015|12                      |7015          |0.02      |\n|2015|13                      |2872          |0.01      |\n|2015|14                      |1692          |0.01      |\n|2015|15                      |1511          |0.0       |\n|2015|20                      |1449          |0.0       |\n|2015|                        |694           |0.0       |\n|2015|16                      |633           |0.0       |\n|2015|18                      |429           |0.0       |\n|2015|17                      |407           |0.0       |\n|2015|19                      |350           |0.0       |\n|2016|4                       |2644331       |7.84      |\n|2016|3                       |2078789       |6.17      |\n|2016|5                       |1493785       |4.43      |\n|2016|2                       |1057283       |3.14      |\n|2016|6                       |610457        |1.81      |\n|2016|7                       |260874        |0.77      |\n|2016|1, pois moro sozinho(a).|242562        |0.72      |\n|2016|8                       |122524        |0.36      |\n|2016|9                       |51012         |0.15      |\n|2016|10                      |33193         |0.1       |\n|2016|11                      |11401         |0.03      |\n|2016|12                      |8021          |0.02      |\n|2016|13                      |3558          |0.01      |\n|2016|14                      |2144          |0.01      |\n|2016|20                      |2058          |0.01      |\n|2016|15                      |1948          |0.01      |\n|2016|16                      |953           |0.0       |\n|2016|19                      |845           |0.0       |\n|2016|18                      |841           |0.0       |\n|2016|17                      |784           |0.0       |\n|2016|                        |4             |0.0       |\n|2017|4                       |2067312       |6.13      |\n|2017|3                       |1658148       |4.92      |\n|2017|5                       |1137713       |3.37      |\n|2017|2                       |847386        |2.51      |\n|2017|6                       |459550        |1.36      |\n|2017|7                       |193680        |0.57      |\n|2017|1, pois moro sozinho(a).|192962        |0.57      |\n|2017|8                       |90927         |0.27      |\n|2017|9                       |37097         |0.11      |\n|2017|10                      |23815         |0.07      |\n|2017|11                      |8018          |0.02      |\n|2017|12                      |5884          |0.02      |\n|2017|13                      |2517          |0.01      |\n|2017|14                      |1380          |0.0       |\n|2017|20                      |1374          |0.0       |\n|2017|15                      |1286          |0.0       |\n|2017|16                      |663           |0.0       |\n|2017|18                      |596           |0.0       |\n|2017|17                      |544           |0.0       |\n|2017|19                      |488           |0.0       |\n|2017|                        |1             |0.0       |\n|2018|4                       |1757900       |5.21      |\n|2018|3                       |1384158       |4.11      |\n|2018|5                       |916903        |2.72      |\n|2018|2                       |690545        |2.05      |\n|2018|6                       |343627        |1.02      |\n|2018|1, pois moro sozinho(a).|152989        |0.45      |\n|2018|7                       |148705        |0.44      |\n|2018|8                       |63510         |0.19      |\n|2018|9                       |24372         |0.07      |\n|2018|10                      |16635         |0.05      |\n|2018|11                      |5552          |0.02      |\n|2018|12                      |3433          |0.01      |\n|2018|13                      |1806          |0.01      |\n|2018|14                      |900           |0.0       |\n|2018|20                      |812           |0.0       |\n|2018|15                      |739           |0.0       |\n|2018|16                      |416           |0.0       |\n|2018|17                      |282           |0.0       |\n|2018|18                      |236           |0.0       |\n|2018|19                      |227           |0.0       |\n|2019|4                       |1639448       |4.86      |\n|2019|3                       |1299838       |3.86      |\n|2019|5                       |830392        |2.46      |\n|2019|2                       |645557        |1.91      |\n|2019|6                       |306841        |0.91      |\n|2019|1, pois moro sozinho(a).|142014        |0.42      |\n|2019|7                       |128880        |0.38      |\n|2019|8                       |55546         |0.16      |\n|2019|9                       |20920         |0.06      |\n|2019|10                      |14192         |0.04      |\n|2019|11                      |4469          |0.01      |\n|2019|12                      |2916          |0.01      |\n|2019|13                      |1512          |0.0       |\n|2019|14                      |749           |0.0       |\n|2019|15                      |619           |0.0       |\n|2019|20                      |572           |0.0       |\n|2019|16                      |331           |0.0       |\n|2019|17                      |183           |0.0       |\n|2019|18                      |159           |0.0       |\n|2019|19                      |132           |0.0       |\n+----+------------------------+--------------+----------+\n\nConsulta realizada com sucesso -  2020-09-03 01:32:46.205746\n"
    }
   ],
   "source": [
    "print('Quantidade de inscriçoes por Quantidade de Pessoas na Residência por Ano.')\n",
    "print('')\n",
    "print(f'Consulta inciada -  {datetime.now()}')\n",
    "\n",
    "sqlContext.sql('SELECT NU_ANO AS ANO, QTDE_MORADOR_RESIDENCIA, COUNT(*) AS QTDE_INSCRICAO, ROUND((COUNT(*)/(SELECT COUNT(*)/100 FROM enemtb)),2) AS PERCENTUAL FROM enemtb GROUP BY NU_ANO, QTDE_MORADOR_RESIDENCIA ORDER BY NU_ANO, COUNT(*) DESC').show(110, truncate = False)\n",
    "\n",
    "print(f'Consulta realizada com sucesso -  {datetime.now()}')"
   ]
  },
  {
   "cell_type": "code",
   "execution_count": 235,
   "metadata": {
    "tags": []
   },
   "outputs": [
    {
     "output_type": "stream",
     "name": "stdout",
     "text": "Quantidade de inscriçoes por Renda Mensal Familiar.\n\nConsulta inciada -  2020-09-03 01:32:46.231031\n+---------------------------------------------------------+--------------+----------+\n|RENDA_MENSAL_FAMILIAR                                    |QTDE_INSCRICAO|PERCENTUAL|\n+---------------------------------------------------------+--------------+----------+\n|Acima de 1,0 salário mínimo até 1,5.                     |8676283       |25.73     |\n|Até 1,0 salário mínimo.                                  |8562846       |25.4      |\n|Acima de 1,5 salário mínimo até 2,0 salários mínimos.    |3886465       |11.53     |\n|Acima de 2,0 salários mínimos até 2,5 salários mínimos.  |2926930       |8.68      |\n|Acima de 3,0 salários mínimos até 4,0 salários mínimos.  |1968376       |5.84      |\n|Acima de 2,5 salários mínimos até 3,0 salários mínimos.  |1846761       |5.48      |\n|Nenhuma Renda.                                           |1241992       |3.68      |\n|Acima de 4,0 salários mínimos até 5,0 salários mínimos.  |1199179       |3.56      |\n|Acima de 5,0 salários mínimos até 6,0 salários mínimos.  |866593        |2.57      |\n|Acima de 6,0 salários mínimos até 7,0 salários mínimos.  |564727        |1.68      |\n|Acima de 7,0 salários mínimos até 8,0 salários mínimos.  |361117        |1.07      |\n|Acima de 10,0 salários mínimos até 12,0 salários mínimos.|333550        |0.99      |\n|Acima de 20 salários mínimos.                            |315608        |0.94      |\n|Acima de 12,0 salários mínimos até 15,0 salários mínimos.|266142        |0.79      |\n|Acima de 8,0 salários mínimos até 9,0 salários mínimos.  |247428        |0.73      |\n|Acima de 15,0 salários mínimos até 20,0 salários mínimos.|230354        |0.68      |\n|Acima de 9,0 salários mínimos até 10,0 salários mínimos. |219101        |0.65      |\n|                                                         |700           |0.0       |\n+---------------------------------------------------------+--------------+----------+\n\nConsulta realizada com sucesso -  2020-09-03 01:35:56.268844\n"
    }
   ],
   "source": [
    "print('Quantidade de inscriçoes por Renda Mensal Familiar.')\n",
    "print('')\n",
    "print(f'Consulta inciada -  {datetime.now()}')\n",
    "\n",
    "sqlContext.sql('SELECT RENDA_MENSAL_FAMILIAR, COUNT(*) AS QTDE_INSCRICAO, ROUND((COUNT(*)/(SELECT COUNT(*)/100 FROM enemtb)),2) AS PERCENTUAL FROM enemtb GROUP BY RENDA_MENSAL_FAMILIAR ORDER BY COUNT(*) DESC').show(truncate = False)\n",
    "\n",
    "print(f'Consulta realizada com sucesso -  {datetime.now()}')"
   ]
  },
  {
   "cell_type": "code",
   "execution_count": 236,
   "metadata": {
    "tags": []
   },
   "outputs": [
    {
     "output_type": "stream",
     "name": "stdout",
     "text": "Quantidade de inscriçoes por Renda Mensal Familiar por Ano.\n\nConsulta inciada -  2020-09-03 01:35:56.289787\n+----+---------------------------------------------------------+--------------+----------+\n|ANO |RENDA_MENSAL_FAMILIAR                                    |QTDE_INSCRICAO|PERCENTUAL|\n+----+---------------------------------------------------------+--------------+----------+\n|2015|Acima de 1,0 salário mínimo até 1,5.                     |1987406       |5.89      |\n|2015|Até 1,0 salário mínimo.                                  |1840505       |5.46      |\n|2015|Acima de 1,5 salário mínimo até 2,0 salários mínimos.    |983760        |2.92      |\n|2015|Acima de 2,0 salários mínimos até 2,5 salários mínimos.  |646658        |1.92      |\n|2015|Acima de 2,5 salários mínimos até 3,0 salários mínimos.  |575665        |1.71      |\n|2015|Acima de 3,0 salários mínimos até 4,0 salários mínimos.  |457968        |1.36      |\n|2015|Acima de 4,0 salários mínimos até 5,0 salários mínimos.  |250581        |0.74      |\n|2015|Nenhuma Renda.                                           |188949        |0.56      |\n|2015|Acima de 5,0 salários mínimos até 6,0 salários mínimos.  |182627        |0.54      |\n|2015|Acima de 6,0 salários mínimos até 7,0 salários mínimos.  |154483        |0.46      |\n|2015|Acima de 7,0 salários mínimos até 8,0 salários mínimos.  |106358        |0.32      |\n|2015|Acima de 20 salários mínimos.                            |77363         |0.23      |\n|2015|Acima de 10,0 salários mínimos até 12,0 salários mínimos.|68019         |0.2       |\n|2015|Acima de 12,0 salários mínimos até 15,0 salários mínimos.|63896         |0.19      |\n|2015|Acima de 8,0 salários mínimos até 9,0 salários mínimos.  |61931         |0.18      |\n|2015|Acima de 15,0 salários mínimos até 20,0 salários mínimos.|57927         |0.17      |\n|2015|Acima de 9,0 salários mínimos até 10,0 salários mínimos. |41636         |0.12      |\n|2015|                                                         |695           |0.0       |\n|2016|Acima de 1,0 salário mínimo até 1,5.                     |2261102       |6.71      |\n|2016|Até 1,0 salário mínimo.                                  |2219242       |6.58      |\n|2016|Acima de 1,5 salário mínimo até 2,0 salários mínimos.    |1123739       |3.33      |\n|2016|Acima de 2,0 salários mínimos até 2,5 salários mínimos.  |754250        |2.24      |\n|2016|Acima de 3,0 salários mínimos até 4,0 salários mínimos.  |478168        |1.42      |\n|2016|Acima de 2,5 salários mínimos até 3,0 salários mínimos.  |473244        |1.4       |\n|2016|Acima de 4,0 salários mínimos até 5,0 salários mínimos.  |299045        |0.89      |\n|2016|Nenhuma Renda.                                           |295706        |0.88      |\n|2016|Acima de 5,0 salários mínimos até 6,0 salários mínimos.  |197197        |0.58      |\n|2016|Acima de 6,0 salários mínimos até 7,0 salários mínimos.  |124629        |0.37      |\n|2016|Acima de 10,0 salários mínimos até 12,0 salários mínimos.|75569         |0.22      |\n|2016|Acima de 7,0 salários mínimos até 8,0 salários mínimos.  |68567         |0.2       |\n|2016|Acima de 20 salários mínimos.                            |65517         |0.19      |\n|2016|Acima de 12,0 salários mínimos até 15,0 salários mínimos.|59868         |0.18      |\n|2016|Acima de 15,0 salários mínimos até 20,0 salários mínimos.|47380         |0.14      |\n|2016|Acima de 9,0 salários mínimos até 10,0 salários mínimos. |45248         |0.13      |\n|2016|Acima de 8,0 salários mínimos até 9,0 salários mínimos.  |38892         |0.12      |\n|2016|                                                         |4             |0.0       |\n|2017|Até 1,0 salário mínimo.                                  |1910039       |5.67      |\n|2017|Acima de 1,0 salário mínimo até 1,5.                     |1652220       |4.9       |\n|2017|Acima de 1,5 salário mínimo até 2,0 salários mínimos.    |752475        |2.23      |\n|2017|Acima de 2,0 salários mínimos até 2,5 salários mínimos.  |540616        |1.6       |\n|2017|Acima de 3,0 salários mínimos até 4,0 salários mínimos.  |365718        |1.08      |\n|2017|Acima de 2,5 salários mínimos até 3,0 salários mínimos.  |335387        |0.99      |\n|2017|Nenhuma Renda.                                           |289515        |0.86      |\n|2017|Acima de 4,0 salários mínimos até 5,0 salários mínimos.  |243209        |0.72      |\n|2017|Acima de 5,0 salários mínimos até 6,0 salários mínimos.  |170869        |0.51      |\n|2017|Acima de 6,0 salários mínimos até 7,0 salários mínimos.  |104098        |0.31      |\n|2017|Acima de 7,0 salários mínimos até 8,0 salários mínimos.  |64336         |0.19      |\n|2017|Acima de 10,0 salários mínimos até 12,0 salários mínimos.|63457         |0.19      |\n|2017|Acima de 20 salários mínimos.                            |59816         |0.18      |\n|2017|Acima de 8,0 salários mínimos até 9,0 salários mínimos.  |51540         |0.15      |\n|2017|Acima de 12,0 salários mínimos até 15,0 salários mínimos.|45196         |0.13      |\n|2017|Acima de 9,0 salários mínimos até 10,0 salários mínimos. |43926         |0.13      |\n|2017|Acima de 15,0 salários mínimos até 20,0 salários mínimos.|38923         |0.12      |\n|2017|                                                         |1             |0.0       |\n|2018|Acima de 1,0 salário mínimo até 1,5.                     |1464090       |4.34      |\n|2018|Até 1,0 salário mínimo.                                  |1319810       |3.91      |\n|2018|Acima de 1,5 salário mínimo até 2,0 salários mínimos.    |526875        |1.56      |\n|2018|Acima de 2,0 salários mínimos até 2,5 salários mínimos.  |509838        |1.51      |\n|2018|Acima de 3,0 salários mínimos até 4,0 salários mínimos.  |364600        |1.08      |\n|2018|Acima de 2,5 salários mínimos até 3,0 salários mínimos.  |236214        |0.7       |\n|2018|Nenhuma Renda.                                           |235747        |0.7       |\n|2018|Acima de 4,0 salários mínimos até 5,0 salários mínimos.  |213432        |0.63      |\n|2018|Acima de 5,0 salários mínimos até 6,0 salários mínimos.  |172248        |0.51      |\n|2018|Acima de 6,0 salários mínimos até 7,0 salários mínimos.  |100728        |0.3       |\n|2018|Acima de 10,0 salários mínimos até 12,0 salários mínimos.|64856         |0.19      |\n|2018|Acima de 7,0 salários mínimos até 8,0 salários mínimos.  |63830         |0.19      |\n|2018|Acima de 20 salários mínimos.                            |55763         |0.17      |\n|2018|Acima de 8,0 salários mínimos até 9,0 salários mínimos.  |50876         |0.15      |\n|2018|Acima de 12,0 salários mínimos até 15,0 salários mínimos.|46979         |0.14      |\n|2018|Acima de 9,0 salários mínimos até 10,0 salários mínimos. |44991         |0.13      |\n|2018|Acima de 15,0 salários mínimos até 20,0 salários mínimos.|42870         |0.13      |\n|2019|Acima de 1,0 salário mínimo até 1,5.                     |1311465       |3.89      |\n|2019|Até 1,0 salário mínimo.                                  |1273250       |3.78      |\n|2019|Acima de 1,5 salário mínimo até 2,0 salários mínimos.    |499616        |1.48      |\n|2019|Acima de 2,0 salários mínimos até 2,5 salários mínimos.  |475568        |1.41      |\n|2019|Acima de 3,0 salários mínimos até 4,0 salários mínimos.  |301922        |0.9       |\n|2019|Nenhuma Renda.                                           |232075        |0.69      |\n|2019|Acima de 2,5 salários mínimos até 3,0 salários mínimos.  |226251        |0.67      |\n|2019|Acima de 4,0 salários mínimos até 5,0 salários mínimos.  |192912        |0.57      |\n|2019|Acima de 5,0 salários mínimos até 6,0 salários mínimos.  |143652        |0.43      |\n|2019|Acima de 6,0 salários mínimos até 7,0 salários mínimos.  |80789         |0.24      |\n|2019|Acima de 10,0 salários mínimos até 12,0 salários mínimos.|61649         |0.18      |\n|2019|Acima de 7,0 salários mínimos até 8,0 salários mínimos.  |58026         |0.17      |\n|2019|Acima de 20 salários mínimos.                            |57149         |0.17      |\n|2019|Acima de 12,0 salários mínimos até 15,0 salários mínimos.|50203         |0.15      |\n|2019|Acima de 8,0 salários mínimos até 9,0 salários mínimos.  |44189         |0.13      |\n|2019|Acima de 9,0 salários mínimos até 10,0 salários mínimos. |43300         |0.13      |\n|2019|Acima de 15,0 salários mínimos até 20,0 salários mínimos.|43254         |0.13      |\n+----+---------------------------------------------------------+--------------+----------+\n\nConsulta realizada com sucesso -  2020-09-03 01:39:02.625437\n"
    }
   ],
   "source": [
    "print('Quantidade de inscriçoes por Renda Mensal Familiar por Ano.')\n",
    "print('')\n",
    "print(f'Consulta inciada -  {datetime.now()}')\n",
    "\n",
    "sqlContext.sql('SELECT NU_ANO AS ANO, RENDA_MENSAL_FAMILIAR, COUNT(*) AS QTDE_INSCRICAO, ROUND((COUNT(*)/(SELECT COUNT(*)/100 FROM enemtb)),2) AS PERCENTUAL FROM enemtb GROUP BY NU_ANO, RENDA_MENSAL_FAMILIAR ORDER BY NU_ANO, COUNT(*) DESC').show(100, truncate=False)\n",
    "\n",
    "print(f'Consulta realizada com sucesso -  {datetime.now()}')"
   ]
  },
  {
   "cell_type": "code",
   "execution_count": 237,
   "metadata": {
    "tags": []
   },
   "outputs": [
    {
     "output_type": "stream",
     "name": "stdout",
     "text": "Quantidade de inscriçoes por Residência com Celular.\n\nConsulta inciada -  2020-09-03 01:39:02.639401\n+--------------------+--------------+----------+\n|  RESIDENCIA_CELULAR|QTDE_INSCRICAO|PERCENTUAL|\n+--------------------+--------------+----------+\n|          Sim, dois.|      10926685|     32.41|\n|          Sim, três.|       8486907|     25.17|\n|            Sim, um.|       7810792|     23.17|\n|Sim, quatro ou mais.|       5759039|     17.08|\n|                Não.|        729975|      2.17|\n|                    |           754|       0.0|\n+--------------------+--------------+----------+\n\nConsulta realizada com sucesso -  2020-09-03 01:42:01.957378\n"
    }
   ],
   "source": [
    "print('Quantidade de inscriçoes por Residência com Celular.')\n",
    "print('')\n",
    "print(f'Consulta inciada -  {datetime.now()}')\n",
    "\n",
    "sqlContext.sql('SELECT RESIDENCIA_CELULAR, COUNT(*) AS QTDE_INSCRICAO, ROUND((COUNT(*)/(SELECT COUNT(*)/100 FROM enemtb)),2) AS PERCENTUAL FROM enemtb GROUP BY RESIDENCIA_CELULAR ORDER BY COUNT(*) DESC').show()\n",
    "\n",
    "print(f'Consulta realizada com sucesso -  {datetime.now()}')"
   ]
  },
  {
   "cell_type": "code",
   "execution_count": 238,
   "metadata": {
    "tags": []
   },
   "outputs": [
    {
     "output_type": "stream",
     "name": "stdout",
     "text": "Quantidade de inscriçoes por Residência com Celular por Ano.\n\nConsulta inciada -  2020-09-03 01:42:01.974334\n+----+--------------------+--------------+----------+\n| ANO|  RESIDENCIA_CELULAR|QTDE_INSCRICAO|PERCENTUAL|\n+----+--------------------+--------------+----------+\n|2015|          Sim, dois.|       2559154|      7.59|\n|2015|          Sim, três.|       1914053|      5.68|\n|2015|            Sim, um.|       1736663|      5.15|\n|2015|Sim, quatro ou mais.|       1373850|      4.07|\n|2015|                Não.|        161958|      0.48|\n|2015|                    |           749|       0.0|\n|2016|          Sim, dois.|       2827184|      8.39|\n|2016|            Sim, um.|       2124543|       6.3|\n|2016|          Sim, três.|       2092330|      6.21|\n|2016|Sim, quatro ou mais.|       1391513|      4.13|\n|2016|                Não.|        191793|      0.57|\n|2016|                    |             4|       0.0|\n|2017|          Sim, dois.|       2191336|       6.5|\n|2017|          Sim, três.|       1656598|      4.91|\n|2017|            Sim, um.|       1628468|      4.83|\n|2017|Sim, quatro ou mais.|       1101285|      3.27|\n|2017|                Não.|        153653|      0.46|\n|2017|                    |             1|       0.0|\n|2018|          Sim, dois.|       1753982|       5.2|\n|2018|          Sim, três.|       1437670|      4.26|\n|2018|            Sim, um.|       1235701|      3.67|\n|2018|Sim, quatro ou mais.|        973162|      2.89|\n|2018|                Não.|        113232|      0.34|\n|2019|          Sim, dois.|       1595029|      4.73|\n|2019|          Sim, três.|       1386256|      4.11|\n|2019|            Sim, um.|       1085417|      3.22|\n|2019|Sim, quatro ou mais.|        919229|      2.73|\n|2019|                Não.|        109339|      0.32|\n+----+--------------------+--------------+----------+\n\nConsulta realizada com sucesso -  2020-09-03 01:45:13.993845\n"
    }
   ],
   "source": [
    "print('Quantidade de inscriçoes por Residência com Celular por Ano.')\n",
    "print('')\n",
    "print(f'Consulta inciada -  {datetime.now()}')\n",
    "\n",
    "sqlContext.sql('SELECT NU_ANO AS ANO, RESIDENCIA_CELULAR, COUNT(*) AS QTDE_INSCRICAO, ROUND((COUNT(*)/(SELECT COUNT(*)/100 FROM enemtb)),2) AS PERCENTUAL FROM enemtb GROUP BY NU_ANO, RESIDENCIA_CELULAR ORDER BY NU_ANO, COUNT(*) DESC').show(30)\n",
    "\n",
    "print(f'Consulta realizada com sucesso -  {datetime.now()}')"
   ]
  },
  {
   "cell_type": "code",
   "execution_count": 239,
   "metadata": {
    "tags": []
   },
   "outputs": [
    {
     "output_type": "stream",
     "name": "stdout",
     "text": "Quantidade de inscriçoes por Residência com Computador.\n\nConsulta inciada -  2020-09-03 01:45:14.020774\n+---------------------+--------------+----------+\n|RESIDENCIA_COMPUTADOR|QTDE_INSCRICAO|PERCENTUAL|\n+---------------------+--------------+----------+\n|             Sim, um.|      16698903|     49.53|\n|                 Não.|      13316634|      39.5|\n|           Sim, dois.|       2617783|      7.76|\n|           Sim, três.|        755001|      2.24|\n| Sim, quatro ou mais.|        325069|      0.96|\n|                     |           762|       0.0|\n+---------------------+--------------+----------+\n\nConsulta realizada com sucesso -  2020-09-03 01:48:20.461857\n"
    }
   ],
   "source": [
    "print('Quantidade de inscriçoes por Residência com Computador.')\n",
    "print('')\n",
    "print(f'Consulta inciada -  {datetime.now()}')\n",
    "\n",
    "sqlContext.sql('SELECT RESIDENCIA_COMPUTADOR, COUNT(*) AS QTDE_INSCRICAO, ROUND((COUNT(*)/(SELECT COUNT(*)/100 FROM enemtb)),2) AS PERCENTUAL FROM enemtb GROUP BY RESIDENCIA_COMPUTADOR ORDER BY COUNT(*) DESC').show()\n",
    "\n",
    "print(f'Consulta realizada com sucesso -  {datetime.now()}')"
   ]
  },
  {
   "cell_type": "code",
   "execution_count": 240,
   "metadata": {
    "tags": []
   },
   "outputs": [
    {
     "output_type": "stream",
     "name": "stdout",
     "text": "Quantidade de inscriçoes por Residência com Computador por Ano.\n\nConsulta inciada -  2020-09-03 01:48:20.488787\n+----+---------------------+--------------+----------+\n| ANO|RESIDENCIA_COMPUTADOR|QTDE_INSCRICAO|PERCENTUAL|\n+----+---------------------+--------------+----------+\n|2015|             Sim, um.|       4238477|     12.57|\n|2015|                 Não.|       2573603|      7.63|\n|2015|           Sim, dois.|        654291|      1.94|\n|2015|           Sim, três.|        192132|      0.57|\n|2015| Sim, quatro ou mais.|         87167|      0.26|\n|2015|                     |           757|       0.0|\n|2016|             Sim, um.|       4421205|     13.11|\n|2016|                 Não.|       3302709|       9.8|\n|2016|           Sim, dois.|        645732|      1.92|\n|2016|           Sim, três.|        180479|      0.54|\n|2016| Sim, quatro ou mais.|         77238|      0.23|\n|2016|                     |             4|       0.0|\n|2017|             Sim, um.|       3268129|      9.69|\n|2017|                 Não.|       2759216|      8.18|\n|2017|           Sim, dois.|        501431|      1.49|\n|2017|           Sim, três.|        142475|      0.42|\n|2017| Sim, quatro ou mais.|         60089|      0.18|\n|2017|                     |             1|       0.0|\n|2018|             Sim, um.|       2568108|      7.62|\n|2018|                 Não.|       2335639|      6.93|\n|2018|           Sim, dois.|        431722|      1.28|\n|2018|           Sim, três.|        125260|      0.37|\n|2018| Sim, quatro ou mais.|         53018|      0.16|\n|2019|                 Não.|       2345467|      6.96|\n|2019|             Sim, um.|       2202984|      6.53|\n|2019|           Sim, dois.|        384607|      1.14|\n|2019|           Sim, três.|        114655|      0.34|\n|2019| Sim, quatro ou mais.|         47557|      0.14|\n+----+---------------------+--------------+----------+\n\nConsulta realizada com sucesso -  2020-09-03 01:51:22.424171\n"
    }
   ],
   "source": [
    "print('Quantidade de inscriçoes por Residência com Computador por Ano.')\n",
    "print('')\n",
    "print(f'Consulta inciada -  {datetime.now()}')\n",
    "\n",
    "sqlContext.sql('SELECT NU_ANO AS ANO, RESIDENCIA_COMPUTADOR, COUNT(*) AS QTDE_INSCRICAO, ROUND((COUNT(*)/(SELECT COUNT(*)/100 FROM enemtb)),2) AS PERCENTUAL FROM enemtb GROUP BY NU_ANO, RESIDENCIA_COMPUTADOR ORDER BY NU_ANO, COUNT(*) DESC').show(30)\n",
    "\n",
    "print(f'Consulta realizada com sucesso -  {datetime.now()}')"
   ]
  },
  {
   "cell_type": "code",
   "execution_count": 241,
   "metadata": {
    "tags": []
   },
   "outputs": [
    {
     "output_type": "stream",
     "name": "stdout",
     "text": "Quantidade de inscriçoes por Residência com Internet.\n\nConsulta inciada -  2020-09-03 01:51:22.439132\n+-------------------+--------------+----------+\n|RESIDENCIA_INTERNET|QTDE_INSCRICAO|PERCENTUAL|\n+-------------------+--------------+----------+\n|               Sim.|      23073704|     68.44|\n|               Não.|      10639681|     31.56|\n|                   |           767|       0.0|\n+-------------------+--------------+----------+\n\nConsulta realizada com sucesso -  2020-09-03 01:54:30.395755\n"
    }
   ],
   "source": [
    "print('Quantidade de inscriçoes por Residência com Internet.')\n",
    "print('')\n",
    "print(f'Consulta inciada -  {datetime.now()}')\n",
    "\n",
    "sqlContext.sql('SELECT RESIDENCIA_INTERNET, COUNT(*) AS QTDE_INSCRICAO, ROUND((COUNT(*)/(SELECT COUNT(*)/100 FROM enemtb)),2) AS PERCENTUAL FROM enemtb GROUP BY RESIDENCIA_INTERNET ORDER BY COUNT(*) DESC').show()\n",
    "\n",
    "print(f'Consulta realizada com sucesso -  {datetime.now()}')"
   ]
  },
  {
   "cell_type": "code",
   "execution_count": 242,
   "metadata": {
    "tags": []
   },
   "outputs": [
    {
     "output_type": "stream",
     "name": "stdout",
     "text": "Quantidade de inscriçoes por Residência com Internet por Ano.\n\nConsulta inciada -  2020-09-03 01:54:30.417696\n+----+-------------------+--------------+----------+\n| ANO|RESIDENCIA_INTERNET|QTDE_INSCRICAO|PERCENTUAL|\n+----+-------------------+--------------+----------+\n|2015|               Sim.|       4911396|     14.57|\n|2015|               Não.|       2834269|      8.41|\n|2015|                   |           762|       0.0|\n|2016|               Sim.|       5543339|     16.44|\n|2016|               Não.|       3084024|      9.15|\n|2016|                   |             4|       0.0|\n|2017|               Sim.|       4577887|     13.58|\n|2017|               Não.|       2153453|      6.39|\n|2017|                   |             1|       0.0|\n|2018|               Sim.|       4086277|     12.12|\n|2018|               Não.|       1427470|      4.23|\n|2019|               Sim.|       3954805|     11.73|\n|2019|               Não.|       1140465|      3.38|\n+----+-------------------+--------------+----------+\n\nConsulta realizada com sucesso -  2020-09-03 01:57:39.542134\n"
    }
   ],
   "source": [
    "print('Quantidade de inscriçoes por Residência com Internet por Ano.')\n",
    "print('')\n",
    "print(f'Consulta inciada -  {datetime.now()}')\n",
    "\n",
    "sqlContext.sql('SELECT NU_ANO AS ANO, RESIDENCIA_INTERNET, COUNT(*) AS QTDE_INSCRICAO, ROUND((COUNT(*)/(SELECT COUNT(*)/100 FROM enemtb)),2) AS PERCENTUAL FROM enemtb GROUP BY NU_ANO, RESIDENCIA_INTERNET ORDER BY NU_ANO, COUNT(*) DESC').show()\n",
    "\n",
    "print(f'Consulta realizada com sucesso -  {datetime.now()}')"
   ]
  },
  {
   "cell_type": "code",
   "execution_count": 243,
   "metadata": {},
   "outputs": [
    {
     "output_type": "execute_result",
     "data": {
      "text/plain": "['NU_INSCRICAO',\n 'NU_ANO',\n 'NO_MUNICIPIO_RESIDENCIA',\n 'CO_UF_RESIDENCIA',\n 'SG_UF_RESIDENCIA',\n 'NU_IDADE',\n 'TP_SEXO',\n 'TP_ESTADO_CIVIL',\n 'TP_COR_RACA',\n 'TP_NACIONALIDADE',\n 'NO_MUNICIPIO_NASCIMENTO',\n 'CO_UF_NASCIMENTO',\n 'SG_UF_NASCIMENTO',\n 'TP_ST_CONCLUSAO',\n 'TP_ESCOLA',\n 'TP_ENSINO',\n 'IN_TREINEIRO',\n 'CO_UF_ESC',\n 'SG_UF_ESC',\n 'TP_DEPENDENCIA_ADM_ESC',\n 'TP_LOCALIZACAO_ESC',\n 'IN_BAIXA_VISAO',\n 'IN_CEGUEIRA',\n 'IN_SURDEZ',\n 'IN_DEFICIENCIA_AUDITIVA',\n 'IN_SURDO_CEGUEIRA',\n 'IN_DEFICIENCIA_FISICA',\n 'IN_DEFICIENCIA_MENTAL',\n 'IN_DEFICIT_ATENCAO',\n 'IN_DISLEXIA',\n 'IN_DISCALCULIA',\n 'IN_AUTISMO',\n 'IN_VISAO_MONOCULAR',\n 'IN_OUTRA_DEF',\n 'IN_GESTANTE',\n 'IN_LACTANTE',\n 'IN_IDOSO',\n 'IN_ESTUDA_CLASSE_HOSPITALAR',\n 'IN_SEM_RECURSO',\n 'IN_BRAILLE',\n 'IN_AMPLIADA_24',\n 'IN_AMPLIADA_18',\n 'IN_LEDOR',\n 'IN_ACESSO',\n 'IN_TRANSCRICAO',\n 'IN_LIBRAS',\n 'IN_LEITURA_LABIAL',\n 'IN_MESA_CADEIRA_RODAS',\n 'IN_MESA_CADEIRA_SEPARADA',\n 'IN_APOIO_PERNA',\n 'IN_GUIA_INTERPRETE',\n 'IN_COMPUTADOR',\n 'IN_CADEIRA_ESPECIAL',\n 'IN_CADEIRA_CANHOTO',\n 'IN_CADEIRA_ACOLCHOADA',\n 'IN_PROVA_DEITADO',\n 'IN_MOBILIARIO_OBESO',\n 'IN_LAMINA_OVERLAY',\n 'IN_PROTETOR_AURICULAR',\n 'IN_MEDIDOR_GLICOSE',\n 'IN_MAQUINA_BRAILE',\n 'IN_SOROBAN',\n 'IN_MARCA_PASSO',\n 'IN_SONDA',\n 'IN_MEDICAMENTOS',\n 'IN_SALA_INDIVIDUAL',\n 'IN_SALA_ESPECIAL',\n 'IN_SALA_ACOMPANHANTE',\n 'IN_MOBILIARIO_ESPECIFICO',\n 'IN_NOME_SOCIAL',\n 'NO_MUNICIPIO_PROVA',\n 'CO_UF_PROVA',\n 'SG_UF_PROVA',\n 'TP_PRESENCA_CN',\n 'TP_PRESENCA_CH',\n 'TP_PRESENCA_LC',\n 'TP_PRESENCA_MT',\n 'NU_NOTA_CN',\n 'NU_NOTA_CH',\n 'NU_NOTA_LC',\n 'NU_NOTA_MT',\n 'TP_LINGUA',\n 'TP_STATUS_REDACAO',\n 'NU_NOTA_COMP1',\n 'NU_NOTA_COMP2',\n 'NU_NOTA_COMP3',\n 'NU_NOTA_COMP4',\n 'NU_NOTA_COMP5',\n 'NU_NOTA_REDACAO',\n 'Q001',\n 'Q002',\n 'Q005',\n 'Q006',\n 'Q022',\n 'Q024',\n 'Q025',\n 'SEXO',\n 'ESTADO_CIVIL',\n 'RACA',\n 'NACIONALIDADE',\n 'SITUACAO_CONCLUSAO_ENSINO_MEDIO',\n 'TIPO_ESCOLA',\n 'TIPO_ENSINO',\n 'TREINEIRO',\n 'DEPENDENCIA_ADMINISTRATIVA_ESCOLA',\n 'LOCALIZACAO_ESCOLA',\n 'BAIXA_VISAO',\n 'CEGUEIRA',\n 'SURDEZ',\n 'DEFICIENCIA_AUDITIVA',\n 'SURDO_CEGUEIRA',\n 'DEFICIENCIA_FISICA',\n 'DEFICIENCIA_MENTAL',\n 'DEFICIT_ATENCAO',\n 'DISLEXIA',\n 'DISCALCULIA',\n 'AUTISMO',\n 'VISAO_MONOCULAR',\n 'OUTRA_DEF',\n 'GESTANTE',\n 'LACTANTE',\n 'IDOSO',\n 'ESTUDA_CLASSE_HOSPITALAR',\n 'SEM_RECURSO',\n 'BRAILLE',\n 'AMPLIADA_24',\n 'AMPLIADA_18',\n 'LEDOR',\n 'ACESSO',\n 'TRANSCRICAO',\n 'LIBRAS',\n 'LEITURA_LABIAL',\n 'MESA_CADEIRA_RODAS',\n 'MESA_CADEIRA_SEPARADA',\n 'APOIO_PERNA',\n 'GUIA_INTERPRETE',\n 'COMPUTADOR',\n 'CADEIRA_ESPECIAL',\n 'CADEIRA_CANHOTO',\n 'CADEIRA_ACOLCHOADA',\n 'PROVA_DEITADO',\n 'MOBILIARIO_OBESO',\n 'LAMINA_OVERLAY',\n 'PROTETOR_AURICULAR',\n 'MEDIDOR_GLICOSE',\n 'MAQUINA_BRAILE',\n 'SOROBAN',\n 'MARCA_PASSO',\n 'SONDA',\n 'MEDICAMENTOS',\n 'SALA_INDIVIDUAL',\n 'SALA_ESPECIAL',\n 'SALA_ACOMPANHANTE',\n 'MOBILIARIO_ESPECIFICO',\n 'NOME_SOCIAL',\n 'PRESENCA_CIENCIAS_NATUREZA',\n 'PRESENCA_CIENCIAS_HUMANAS',\n 'PRESENCA_LINGUAGENS_CODIGOS',\n 'PRESENCA_MATEMATICA',\n 'LINGUA',\n 'STATUS_REDACAO',\n 'PAI_ESTUDOU',\n 'MAE_ESTUDOU',\n 'QTDE_MORADOR_RESIDENCIA',\n 'RENDA_MENSAL_FAMILIAR',\n 'RESIDENCIA_CELULAR',\n 'RESIDENCIA_COMPUTADOR',\n 'RESIDENCIA_INTERNET']"
     },
     "metadata": {},
     "execution_count": 243
    }
   ],
   "source": [
    "df_enem_analise.columns"
   ]
  },
  {
   "cell_type": "code",
   "execution_count": 244,
   "metadata": {},
   "outputs": [
    {
     "output_type": "execute_result",
     "data": {
      "text/plain": "<AxesSubplot:xlabel='ANO'>"
     },
     "metadata": {},
     "execution_count": 244
    },
    {
     "output_type": "display_data",
     "data": {
      "text/plain": "<Figure size 432x288 with 1 Axes>",
      "image/svg+xml": "<?xml version=\"1.0\" encoding=\"utf-8\" standalone=\"no\"?>\r\n<!DOCTYPE svg PUBLIC \"-//W3C//DTD SVG 1.1//EN\"\r\n  \"http://www.w3.org/Graphics/SVG/1.1/DTD/svg11.dtd\">\r\n<!-- Created with matplotlib (https://matplotlib.org/) -->\r\n<svg height=\"291.656094pt\" version=\"1.1\" viewBox=\"0 0 364.817031 291.656094\" width=\"364.817031pt\" xmlns=\"http://www.w3.org/2000/svg\" xmlns:xlink=\"http://www.w3.org/1999/xlink\">\r\n <metadata>\r\n  <rdf:RDF xmlns:cc=\"http://creativecommons.org/ns#\" xmlns:dc=\"http://purl.org/dc/elements/1.1/\" xmlns:rdf=\"http://www.w3.org/1999/02/22-rdf-syntax-ns#\">\r\n   <cc:Work>\r\n    <dc:type rdf:resource=\"http://purl.org/dc/dcmitype/StillImage\"/>\r\n    <dc:date>2020-09-03T02:00:36.056829</dc:date>\r\n    <dc:format>image/svg+xml</dc:format>\r\n    <dc:creator>\r\n     <cc:Agent>\r\n      <dc:title>Matplotlib v3.3.1, https://matplotlib.org/</dc:title>\r\n     </cc:Agent>\r\n    </dc:creator>\r\n   </cc:Work>\r\n  </rdf:RDF>\r\n </metadata>\r\n <defs>\r\n  <style type=\"text/css\">*{stroke-linecap:butt;stroke-linejoin:round;}</style>\r\n </defs>\r\n <g id=\"figure_1\">\r\n  <g id=\"patch_1\">\r\n   <path d=\"M 0 291.656094 \r\nL 364.817031 291.656094 \r\nL 364.817031 0 \r\nL 0 0 \r\nz\r\n\" style=\"fill:#ffffff;\"/>\r\n  </g>\r\n  <g id=\"axes_1\">\r\n   <g id=\"patch_2\">\r\n    <path d=\"M 22.817031 235.513594 \r\nL 357.617031 235.513594 \r\nL 357.617031 18.073594 \r\nL 22.817031 18.073594 \r\nz\r\n\" style=\"fill:#ffffff;\"/>\r\n   </g>\r\n   <g id=\"matplotlib.axis_1\">\r\n    <g id=\"xtick_1\">\r\n     <g id=\"line2d_1\">\r\n      <path clip-path=\"url(#p160dbe8ece)\" d=\"M 56.297031 235.513594 \r\nL 56.297031 18.073594 \r\n\" style=\"fill:none;stroke:#cccccc;stroke-linecap:round;\"/>\r\n     </g>\r\n     <g id=\"text_1\">\r\n      <!-- 2015 -->\r\n      <g style=\"fill:#262626;\" transform=\"translate(59.140703 269.481719)rotate(-90)scale(0.11 -0.11)\">\r\n       <defs>\r\n        <path d=\"M 50.34375 8.453125 \r\nL 50.34375 0 \r\nL 3.03125 0 \r\nQ 2.9375 3.171875 4.046875 6.109375 \r\nQ 5.859375 10.9375 9.828125 15.625 \r\nQ 13.8125 20.3125 21.34375 26.46875 \r\nQ 33.015625 36.03125 37.109375 41.625 \r\nQ 41.21875 47.21875 41.21875 52.203125 \r\nQ 41.21875 57.421875 37.46875 61 \r\nQ 33.734375 64.59375 27.734375 64.59375 \r\nQ 21.390625 64.59375 17.578125 60.78125 \r\nQ 13.765625 56.984375 13.71875 50.25 \r\nL 4.6875 51.171875 \r\nQ 5.609375 61.28125 11.65625 66.578125 \r\nQ 17.71875 71.875 27.9375 71.875 \r\nQ 38.234375 71.875 44.234375 66.15625 \r\nQ 50.25 60.453125 50.25 52 \r\nQ 50.25 47.703125 48.484375 43.546875 \r\nQ 46.734375 39.40625 42.65625 34.8125 \r\nQ 38.578125 30.21875 29.109375 22.21875 \r\nQ 21.1875 15.578125 18.9375 13.203125 \r\nQ 16.703125 10.84375 15.234375 8.453125 \r\nz\r\n\" id=\"ArialMT-50\"/>\r\n        <path d=\"M 4.15625 35.296875 \r\nQ 4.15625 48 6.765625 55.734375 \r\nQ 9.375 63.484375 14.515625 67.671875 \r\nQ 19.671875 71.875 27.484375 71.875 \r\nQ 33.25 71.875 37.59375 69.546875 \r\nQ 41.9375 67.234375 44.765625 62.859375 \r\nQ 47.609375 58.5 49.21875 52.21875 \r\nQ 50.828125 45.953125 50.828125 35.296875 \r\nQ 50.828125 22.703125 48.234375 14.96875 \r\nQ 45.65625 7.234375 40.5 3 \r\nQ 35.359375 -1.21875 27.484375 -1.21875 \r\nQ 17.140625 -1.21875 11.234375 6.203125 \r\nQ 4.15625 15.140625 4.15625 35.296875 \r\nz\r\nM 13.1875 35.296875 \r\nQ 13.1875 17.671875 17.3125 11.828125 \r\nQ 21.4375 6 27.484375 6 \r\nQ 33.546875 6 37.671875 11.859375 \r\nQ 41.796875 17.71875 41.796875 35.296875 \r\nQ 41.796875 52.984375 37.671875 58.78125 \r\nQ 33.546875 64.59375 27.390625 64.59375 \r\nQ 21.34375 64.59375 17.71875 59.46875 \r\nQ 13.1875 52.9375 13.1875 35.296875 \r\nz\r\n\" id=\"ArialMT-48\"/>\r\n        <path d=\"M 37.25 0 \r\nL 28.46875 0 \r\nL 28.46875 56 \r\nQ 25.296875 52.984375 20.140625 49.953125 \r\nQ 14.984375 46.921875 10.890625 45.40625 \r\nL 10.890625 53.90625 \r\nQ 18.265625 57.375 23.78125 62.296875 \r\nQ 29.296875 67.234375 31.59375 71.875 \r\nL 37.25 71.875 \r\nz\r\n\" id=\"ArialMT-49\"/>\r\n        <path d=\"M 4.15625 18.75 \r\nL 13.375 19.53125 \r\nQ 14.40625 12.796875 18.140625 9.390625 \r\nQ 21.875 6 27.15625 6 \r\nQ 33.5 6 37.890625 10.78125 \r\nQ 42.28125 15.578125 42.28125 23.484375 \r\nQ 42.28125 31 38.0625 35.34375 \r\nQ 33.84375 39.703125 27 39.703125 \r\nQ 22.75 39.703125 19.328125 37.765625 \r\nQ 15.921875 35.84375 13.96875 32.765625 \r\nL 5.71875 33.84375 \r\nL 12.640625 70.609375 \r\nL 48.25 70.609375 \r\nL 48.25 62.203125 \r\nL 19.671875 62.203125 \r\nL 15.828125 42.96875 \r\nQ 22.265625 47.46875 29.34375 47.46875 \r\nQ 38.71875 47.46875 45.15625 40.96875 \r\nQ 51.609375 34.46875 51.609375 24.265625 \r\nQ 51.609375 14.546875 45.953125 7.46875 \r\nQ 39.0625 -1.21875 27.15625 -1.21875 \r\nQ 17.390625 -1.21875 11.203125 4.25 \r\nQ 5.03125 9.71875 4.15625 18.75 \r\nz\r\n\" id=\"ArialMT-53\"/>\r\n       </defs>\r\n       <use xlink:href=\"#ArialMT-50\"/>\r\n       <use x=\"55.615234\" xlink:href=\"#ArialMT-48\"/>\r\n       <use x=\"111.230469\" xlink:href=\"#ArialMT-49\"/>\r\n       <use x=\"166.845703\" xlink:href=\"#ArialMT-53\"/>\r\n      </g>\r\n     </g>\r\n    </g>\r\n    <g id=\"xtick_2\">\r\n     <g id=\"line2d_2\">\r\n      <path clip-path=\"url(#p160dbe8ece)\" d=\"M 123.257031 235.513594 \r\nL 123.257031 18.073594 \r\n\" style=\"fill:none;stroke:#cccccc;stroke-linecap:round;\"/>\r\n     </g>\r\n     <g id=\"text_2\">\r\n      <!-- 2016 -->\r\n      <g style=\"fill:#262626;\" transform=\"translate(126.100703 269.481719)rotate(-90)scale(0.11 -0.11)\">\r\n       <defs>\r\n        <path d=\"M 49.75 54.046875 \r\nL 41.015625 53.375 \r\nQ 39.84375 58.546875 37.703125 60.890625 \r\nQ 34.125 64.65625 28.90625 64.65625 \r\nQ 24.703125 64.65625 21.53125 62.3125 \r\nQ 17.390625 59.28125 14.984375 53.46875 \r\nQ 12.59375 47.65625 12.5 36.921875 \r\nQ 15.671875 41.75 20.265625 44.09375 \r\nQ 24.859375 46.4375 29.890625 46.4375 \r\nQ 38.671875 46.4375 44.84375 39.96875 \r\nQ 51.03125 33.5 51.03125 23.25 \r\nQ 51.03125 16.5 48.125 10.71875 \r\nQ 45.21875 4.9375 40.140625 1.859375 \r\nQ 35.0625 -1.21875 28.609375 -1.21875 \r\nQ 17.625 -1.21875 10.6875 6.859375 \r\nQ 3.765625 14.9375 3.765625 33.5 \r\nQ 3.765625 54.25 11.421875 63.671875 \r\nQ 18.109375 71.875 29.4375 71.875 \r\nQ 37.890625 71.875 43.28125 67.140625 \r\nQ 48.6875 62.40625 49.75 54.046875 \r\nz\r\nM 13.875 23.1875 \r\nQ 13.875 18.65625 15.796875 14.5 \r\nQ 17.71875 10.359375 21.1875 8.171875 \r\nQ 24.65625 6 28.46875 6 \r\nQ 34.03125 6 38.03125 10.484375 \r\nQ 42.046875 14.984375 42.046875 22.703125 \r\nQ 42.046875 30.125 38.078125 34.390625 \r\nQ 34.125 38.671875 28.125 38.671875 \r\nQ 22.171875 38.671875 18.015625 34.390625 \r\nQ 13.875 30.125 13.875 23.1875 \r\nz\r\n\" id=\"ArialMT-54\"/>\r\n       </defs>\r\n       <use xlink:href=\"#ArialMT-50\"/>\r\n       <use x=\"55.615234\" xlink:href=\"#ArialMT-48\"/>\r\n       <use x=\"111.230469\" xlink:href=\"#ArialMT-49\"/>\r\n       <use x=\"166.845703\" xlink:href=\"#ArialMT-54\"/>\r\n      </g>\r\n     </g>\r\n    </g>\r\n    <g id=\"xtick_3\">\r\n     <g id=\"line2d_3\">\r\n      <path clip-path=\"url(#p160dbe8ece)\" d=\"M 190.217031 235.513594 \r\nL 190.217031 18.073594 \r\n\" style=\"fill:none;stroke:#cccccc;stroke-linecap:round;\"/>\r\n     </g>\r\n     <g id=\"text_3\">\r\n      <!-- 2017 -->\r\n      <g style=\"fill:#262626;\" transform=\"translate(193.060703 269.481719)rotate(-90)scale(0.11 -0.11)\">\r\n       <defs>\r\n        <path d=\"M 4.734375 62.203125 \r\nL 4.734375 70.65625 \r\nL 51.078125 70.65625 \r\nL 51.078125 63.8125 \r\nQ 44.234375 56.546875 37.515625 44.484375 \r\nQ 30.8125 32.421875 27.15625 19.671875 \r\nQ 24.515625 10.6875 23.78125 0 \r\nL 14.75 0 \r\nQ 14.890625 8.453125 18.0625 20.40625 \r\nQ 21.234375 32.375 27.171875 43.484375 \r\nQ 33.109375 54.59375 39.796875 62.203125 \r\nz\r\n\" id=\"ArialMT-55\"/>\r\n       </defs>\r\n       <use xlink:href=\"#ArialMT-50\"/>\r\n       <use x=\"55.615234\" xlink:href=\"#ArialMT-48\"/>\r\n       <use x=\"111.230469\" xlink:href=\"#ArialMT-49\"/>\r\n       <use x=\"166.845703\" xlink:href=\"#ArialMT-55\"/>\r\n      </g>\r\n     </g>\r\n    </g>\r\n    <g id=\"xtick_4\">\r\n     <g id=\"line2d_4\">\r\n      <path clip-path=\"url(#p160dbe8ece)\" d=\"M 257.177031 235.513594 \r\nL 257.177031 18.073594 \r\n\" style=\"fill:none;stroke:#cccccc;stroke-linecap:round;\"/>\r\n     </g>\r\n     <g id=\"text_4\">\r\n      <!-- 2018 -->\r\n      <g style=\"fill:#262626;\" transform=\"translate(260.020703 269.481719)rotate(-90)scale(0.11 -0.11)\">\r\n       <defs>\r\n        <path d=\"M 17.671875 38.8125 \r\nQ 12.203125 40.828125 9.5625 44.53125 \r\nQ 6.9375 48.25 6.9375 53.421875 \r\nQ 6.9375 61.234375 12.546875 66.546875 \r\nQ 18.171875 71.875 27.484375 71.875 \r\nQ 36.859375 71.875 42.578125 66.421875 \r\nQ 48.296875 60.984375 48.296875 53.171875 \r\nQ 48.296875 48.1875 45.671875 44.5 \r\nQ 43.0625 40.828125 37.75 38.8125 \r\nQ 44.34375 36.671875 47.78125 31.875 \r\nQ 51.21875 27.09375 51.21875 20.453125 \r\nQ 51.21875 11.28125 44.71875 5.03125 \r\nQ 38.234375 -1.21875 27.640625 -1.21875 \r\nQ 17.046875 -1.21875 10.546875 5.046875 \r\nQ 4.046875 11.328125 4.046875 20.703125 \r\nQ 4.046875 27.6875 7.59375 32.390625 \r\nQ 11.140625 37.109375 17.671875 38.8125 \r\nz\r\nM 15.921875 53.71875 \r\nQ 15.921875 48.640625 19.1875 45.40625 \r\nQ 22.46875 42.1875 27.6875 42.1875 \r\nQ 32.765625 42.1875 36.015625 45.375 \r\nQ 39.265625 48.578125 39.265625 53.21875 \r\nQ 39.265625 58.0625 35.90625 61.359375 \r\nQ 32.5625 64.65625 27.59375 64.65625 \r\nQ 22.5625 64.65625 19.234375 61.421875 \r\nQ 15.921875 58.203125 15.921875 53.71875 \r\nz\r\nM 13.09375 20.65625 \r\nQ 13.09375 16.890625 14.875 13.375 \r\nQ 16.65625 9.859375 20.171875 7.921875 \r\nQ 23.6875 6 27.734375 6 \r\nQ 34.03125 6 38.125 10.046875 \r\nQ 42.234375 14.109375 42.234375 20.359375 \r\nQ 42.234375 26.703125 38.015625 30.859375 \r\nQ 33.796875 35.015625 27.4375 35.015625 \r\nQ 21.234375 35.015625 17.15625 30.90625 \r\nQ 13.09375 26.8125 13.09375 20.65625 \r\nz\r\n\" id=\"ArialMT-56\"/>\r\n       </defs>\r\n       <use xlink:href=\"#ArialMT-50\"/>\r\n       <use x=\"55.615234\" xlink:href=\"#ArialMT-48\"/>\r\n       <use x=\"111.230469\" xlink:href=\"#ArialMT-49\"/>\r\n       <use x=\"166.845703\" xlink:href=\"#ArialMT-56\"/>\r\n      </g>\r\n     </g>\r\n    </g>\r\n    <g id=\"xtick_5\">\r\n     <g id=\"line2d_5\">\r\n      <path clip-path=\"url(#p160dbe8ece)\" d=\"M 324.137031 235.513594 \r\nL 324.137031 18.073594 \r\n\" style=\"fill:none;stroke:#cccccc;stroke-linecap:round;\"/>\r\n     </g>\r\n     <g id=\"text_5\">\r\n      <!-- 2019 -->\r\n      <g style=\"fill:#262626;\" transform=\"translate(326.980703 269.481719)rotate(-90)scale(0.11 -0.11)\">\r\n       <defs>\r\n        <path d=\"M 5.46875 16.546875 \r\nL 13.921875 17.328125 \r\nQ 14.984375 11.375 18.015625 8.6875 \r\nQ 21.046875 6 25.78125 6 \r\nQ 29.828125 6 32.875 7.859375 \r\nQ 35.9375 9.71875 37.890625 12.8125 \r\nQ 39.84375 15.921875 41.15625 21.1875 \r\nQ 42.484375 26.46875 42.484375 31.9375 \r\nQ 42.484375 32.515625 42.4375 33.6875 \r\nQ 39.796875 29.5 35.234375 26.875 \r\nQ 30.671875 24.265625 25.34375 24.265625 \r\nQ 16.453125 24.265625 10.296875 30.703125 \r\nQ 4.15625 37.15625 4.15625 47.703125 \r\nQ 4.15625 58.59375 10.578125 65.234375 \r\nQ 17 71.875 26.65625 71.875 \r\nQ 33.640625 71.875 39.421875 68.109375 \r\nQ 45.21875 64.359375 48.21875 57.390625 \r\nQ 51.21875 50.4375 51.21875 37.25 \r\nQ 51.21875 23.53125 48.234375 15.40625 \r\nQ 45.265625 7.28125 39.375 3.03125 \r\nQ 33.5 -1.21875 25.59375 -1.21875 \r\nQ 17.1875 -1.21875 11.859375 3.4375 \r\nQ 6.546875 8.109375 5.46875 16.546875 \r\nz\r\nM 41.453125 48.140625 \r\nQ 41.453125 55.71875 37.421875 60.15625 \r\nQ 33.40625 64.59375 27.734375 64.59375 \r\nQ 21.875 64.59375 17.53125 59.8125 \r\nQ 13.1875 55.03125 13.1875 47.40625 \r\nQ 13.1875 40.578125 17.3125 36.296875 \r\nQ 21.4375 32.03125 27.484375 32.03125 \r\nQ 33.59375 32.03125 37.515625 36.296875 \r\nQ 41.453125 40.578125 41.453125 48.140625 \r\nz\r\n\" id=\"ArialMT-57\"/>\r\n       </defs>\r\n       <use xlink:href=\"#ArialMT-50\"/>\r\n       <use x=\"55.615234\" xlink:href=\"#ArialMT-48\"/>\r\n       <use x=\"111.230469\" xlink:href=\"#ArialMT-49\"/>\r\n       <use x=\"166.845703\" xlink:href=\"#ArialMT-57\"/>\r\n      </g>\r\n     </g>\r\n    </g>\r\n    <g id=\"text_6\">\r\n     <!-- ANO -->\r\n     <g style=\"fill:#262626;\" transform=\"translate(177.214844 282.071094)scale(0.12 -0.12)\">\r\n      <defs>\r\n       <path d=\"M -0.140625 0 \r\nL 27.34375 71.578125 \r\nL 37.546875 71.578125 \r\nL 66.84375 0 \r\nL 56.0625 0 \r\nL 47.703125 21.6875 \r\nL 17.78125 21.6875 \r\nL 9.90625 0 \r\nz\r\nM 20.515625 29.390625 \r\nL 44.78125 29.390625 \r\nL 37.3125 49.21875 \r\nQ 33.890625 58.25 32.234375 64.0625 \r\nQ 30.859375 57.171875 28.375 50.390625 \r\nz\r\n\" id=\"ArialMT-65\"/>\r\n       <path d=\"M 7.625 0 \r\nL 7.625 71.578125 \r\nL 17.328125 71.578125 \r\nL 54.9375 15.375 \r\nL 54.9375 71.578125 \r\nL 64.015625 71.578125 \r\nL 64.015625 0 \r\nL 54.296875 0 \r\nL 16.703125 56.25 \r\nL 16.703125 0 \r\nz\r\n\" id=\"ArialMT-78\"/>\r\n       <path d=\"M 4.828125 34.859375 \r\nQ 4.828125 52.6875 14.390625 62.765625 \r\nQ 23.96875 72.859375 39.109375 72.859375 \r\nQ 49.03125 72.859375 56.984375 68.109375 \r\nQ 64.9375 63.375 69.109375 54.90625 \r\nQ 73.296875 46.4375 73.296875 35.6875 \r\nQ 73.296875 24.8125 68.890625 16.21875 \r\nQ 64.5 7.625 56.4375 3.203125 \r\nQ 48.390625 -1.21875 39.0625 -1.21875 \r\nQ 28.953125 -1.21875 20.984375 3.65625 \r\nQ 13.03125 8.546875 8.921875 16.984375 \r\nQ 4.828125 25.4375 4.828125 34.859375 \r\nz\r\nM 14.59375 34.71875 \r\nQ 14.59375 21.78125 21.546875 14.328125 \r\nQ 28.515625 6.890625 39.015625 6.890625 \r\nQ 49.703125 6.890625 56.609375 14.40625 \r\nQ 63.53125 21.921875 63.53125 35.75 \r\nQ 63.53125 44.484375 60.578125 51 \r\nQ 57.625 57.515625 51.921875 61.109375 \r\nQ 46.234375 64.703125 39.15625 64.703125 \r\nQ 29.109375 64.703125 21.84375 57.78125 \r\nQ 14.59375 50.875 14.59375 34.71875 \r\nz\r\n\" id=\"ArialMT-79\"/>\r\n      </defs>\r\n      <use xlink:href=\"#ArialMT-65\"/>\r\n      <use x=\"66.699219\" xlink:href=\"#ArialMT-78\"/>\r\n      <use x=\"138.916016\" xlink:href=\"#ArialMT-79\"/>\r\n     </g>\r\n    </g>\r\n   </g>\r\n   <g id=\"matplotlib.axis_2\">\r\n    <g id=\"ytick_1\">\r\n     <g id=\"line2d_6\">\r\n      <path clip-path=\"url(#p160dbe8ece)\" d=\"M 22.817031 235.513594 \r\nL 357.617031 235.513594 \r\n\" style=\"fill:none;stroke:#cccccc;stroke-linecap:round;\"/>\r\n     </g>\r\n     <g id=\"text_7\">\r\n      <!-- 0 -->\r\n      <g style=\"fill:#262626;\" transform=\"translate(7.2 239.450391)scale(0.11 -0.11)\">\r\n       <use xlink:href=\"#ArialMT-48\"/>\r\n      </g>\r\n     </g>\r\n    </g>\r\n    <g id=\"ytick_2\">\r\n     <g id=\"line2d_7\">\r\n      <path clip-path=\"url(#p160dbe8ece)\" d=\"M 22.817031 187.506893 \r\nL 357.617031 187.506893 \r\n\" style=\"fill:none;stroke:#cccccc;stroke-linecap:round;\"/>\r\n     </g>\r\n     <g id=\"text_8\">\r\n      <!-- 2 -->\r\n      <g style=\"fill:#262626;\" transform=\"translate(7.2 191.44369)scale(0.11 -0.11)\">\r\n       <use xlink:href=\"#ArialMT-50\"/>\r\n      </g>\r\n     </g>\r\n    </g>\r\n    <g id=\"ytick_3\">\r\n     <g id=\"line2d_8\">\r\n      <path clip-path=\"url(#p160dbe8ece)\" d=\"M 22.817031 139.500192 \r\nL 357.617031 139.500192 \r\n\" style=\"fill:none;stroke:#cccccc;stroke-linecap:round;\"/>\r\n     </g>\r\n     <g id=\"text_9\">\r\n      <!-- 4 -->\r\n      <g style=\"fill:#262626;\" transform=\"translate(7.2 143.436988)scale(0.11 -0.11)\">\r\n       <defs>\r\n        <path d=\"M 32.328125 0 \r\nL 32.328125 17.140625 \r\nL 1.265625 17.140625 \r\nL 1.265625 25.203125 \r\nL 33.9375 71.578125 \r\nL 41.109375 71.578125 \r\nL 41.109375 25.203125 \r\nL 50.78125 25.203125 \r\nL 50.78125 17.140625 \r\nL 41.109375 17.140625 \r\nL 41.109375 0 \r\nz\r\nM 32.328125 25.203125 \r\nL 32.328125 57.46875 \r\nL 9.90625 25.203125 \r\nz\r\n\" id=\"ArialMT-52\"/>\r\n       </defs>\r\n       <use xlink:href=\"#ArialMT-52\"/>\r\n      </g>\r\n     </g>\r\n    </g>\r\n    <g id=\"ytick_4\">\r\n     <g id=\"line2d_9\">\r\n      <path clip-path=\"url(#p160dbe8ece)\" d=\"M 22.817031 91.493491 \r\nL 357.617031 91.493491 \r\n\" style=\"fill:none;stroke:#cccccc;stroke-linecap:round;\"/>\r\n     </g>\r\n     <g id=\"text_10\">\r\n      <!-- 6 -->\r\n      <g style=\"fill:#262626;\" transform=\"translate(7.2 95.430287)scale(0.11 -0.11)\">\r\n       <use xlink:href=\"#ArialMT-54\"/>\r\n      </g>\r\n     </g>\r\n    </g>\r\n    <g id=\"ytick_5\">\r\n     <g id=\"line2d_10\">\r\n      <path clip-path=\"url(#p160dbe8ece)\" d=\"M 22.817031 43.486789 \r\nL 357.617031 43.486789 \r\n\" style=\"fill:none;stroke:#cccccc;stroke-linecap:round;\"/>\r\n     </g>\r\n     <g id=\"text_11\">\r\n      <!-- 8 -->\r\n      <g style=\"fill:#262626;\" transform=\"translate(7.2 47.423586)scale(0.11 -0.11)\">\r\n       <use xlink:href=\"#ArialMT-56\"/>\r\n      </g>\r\n     </g>\r\n    </g>\r\n    <g id=\"text_12\">\r\n     <!-- 1e6 -->\r\n     <g style=\"fill:#262626;\" transform=\"translate(22.817031 15.073594)scale(0.11 -0.11)\">\r\n      <defs>\r\n       <path d=\"M 42.09375 16.703125 \r\nL 51.171875 15.578125 \r\nQ 49.03125 7.625 43.21875 3.21875 \r\nQ 37.40625 -1.171875 28.375 -1.171875 \r\nQ 17 -1.171875 10.328125 5.828125 \r\nQ 3.65625 12.84375 3.65625 25.484375 \r\nQ 3.65625 38.578125 10.390625 45.796875 \r\nQ 17.140625 53.03125 27.875 53.03125 \r\nQ 38.28125 53.03125 44.875 45.953125 \r\nQ 51.46875 38.875 51.46875 26.03125 \r\nQ 51.46875 25.25 51.421875 23.6875 \r\nL 12.75 23.6875 \r\nQ 13.234375 15.140625 17.578125 10.59375 \r\nQ 21.921875 6.0625 28.421875 6.0625 \r\nQ 33.25 6.0625 36.671875 8.59375 \r\nQ 40.09375 11.140625 42.09375 16.703125 \r\nz\r\nM 13.234375 30.90625 \r\nL 42.1875 30.90625 \r\nQ 41.609375 37.453125 38.875 40.71875 \r\nQ 34.671875 45.796875 27.984375 45.796875 \r\nQ 21.921875 45.796875 17.796875 41.75 \r\nQ 13.671875 37.703125 13.234375 30.90625 \r\nz\r\n\" id=\"ArialMT-101\"/>\r\n      </defs>\r\n      <use xlink:href=\"#ArialMT-49\"/>\r\n      <use x=\"55.615234\" xlink:href=\"#ArialMT-101\"/>\r\n      <use x=\"111.230469\" xlink:href=\"#ArialMT-54\"/>\r\n     </g>\r\n    </g>\r\n   </g>\r\n   <g id=\"patch_3\">\r\n    <path clip-path=\"url(#p160dbe8ece)\" d=\"M 39.557031 235.513594 \r\nL 73.037031 235.513594 \r\nL 73.037031 49.573391 \r\nL 39.557031 49.573391 \r\nz\r\n\" style=\"fill:#4c72b0;stroke:#ffffff;stroke-linejoin:miter;\"/>\r\n   </g>\r\n   <g id=\"patch_4\">\r\n    <path clip-path=\"url(#p160dbe8ece)\" d=\"M 106.517031 235.513594 \r\nL 139.997031 235.513594 \r\nL 139.997031 28.427879 \r\nL 106.517031 28.427879 \r\nz\r\n\" style=\"fill:#4c72b0;stroke:#ffffff;stroke-linejoin:miter;\"/>\r\n   </g>\r\n   <g id=\"patch_5\">\r\n    <path clip-path=\"url(#p160dbe8ece)\" d=\"M 173.477031 235.513594 \r\nL 206.957031 235.513594 \r\nL 206.957031 73.938856 \r\nL 173.477031 73.938856 \r\nz\r\n\" style=\"fill:#4c72b0;stroke:#ffffff;stroke-linejoin:miter;\"/>\r\n   </g>\r\n   <g id=\"patch_6\">\r\n    <path clip-path=\"url(#p160dbe8ece)\" d=\"M 240.437031 235.513594 \r\nL 273.917031 235.513594 \r\nL 273.917031 103.165192 \r\nL 240.437031 103.165192 \r\nz\r\n\" style=\"fill:#4c72b0;stroke:#ffffff;stroke-linejoin:miter;\"/>\r\n   </g>\r\n   <g id=\"patch_7\">\r\n    <path clip-path=\"url(#p160dbe8ece)\" d=\"M 307.397031 235.513594 \r\nL 340.877031 235.513594 \r\nL 340.877031 113.210042 \r\nL 307.397031 113.210042 \r\nz\r\n\" style=\"fill:#4c72b0;stroke:#ffffff;stroke-linejoin:miter;\"/>\r\n   </g>\r\n   <g id=\"patch_8\">\r\n    <path d=\"M 22.817031 235.513594 \r\nL 22.817031 18.073594 \r\n\" style=\"fill:none;stroke:#cccccc;stroke-linecap:square;stroke-linejoin:miter;stroke-width:1.25;\"/>\r\n   </g>\r\n   <g id=\"patch_9\">\r\n    <path d=\"M 357.617031 235.513594 \r\nL 357.617031 18.073594 \r\n\" style=\"fill:none;stroke:#cccccc;stroke-linecap:square;stroke-linejoin:miter;stroke-width:1.25;\"/>\r\n   </g>\r\n   <g id=\"patch_10\">\r\n    <path d=\"M 22.817031 235.513594 \r\nL 357.617031 235.513594 \r\n\" style=\"fill:none;stroke:#cccccc;stroke-linecap:square;stroke-linejoin:miter;stroke-width:1.25;\"/>\r\n   </g>\r\n   <g id=\"patch_11\">\r\n    <path d=\"M 22.817031 18.073594 \r\nL 357.617031 18.073594 \r\n\" style=\"fill:none;stroke:#cccccc;stroke-linecap:square;stroke-linejoin:miter;stroke-width:1.25;\"/>\r\n   </g>\r\n   <g id=\"legend_1\">\r\n    <g id=\"patch_12\">\r\n     <path d=\"M 216.925312 42.574375 \r\nL 349.917031 42.574375 \r\nQ 352.117031 42.574375 352.117031 40.374375 \r\nL 352.117031 25.773594 \r\nQ 352.117031 23.573594 349.917031 23.573594 \r\nL 216.925312 23.573594 \r\nQ 214.725313 23.573594 214.725313 25.773594 \r\nL 214.725313 40.374375 \r\nQ 214.725313 42.574375 216.925312 42.574375 \r\nz\r\n\" style=\"fill:#ffffff;opacity:0.8;stroke:#cccccc;stroke-linejoin:miter;\"/>\r\n    </g>\r\n    <g id=\"patch_13\">\r\n     <path d=\"M 219.125313 35.988125 \r\nL 241.125313 35.988125 \r\nL 241.125313 28.288125 \r\nL 219.125313 28.288125 \r\nz\r\n\" style=\"fill:#4c72b0;stroke:#ffffff;stroke-linejoin:miter;\"/>\r\n    </g>\r\n    <g id=\"text_13\">\r\n     <!-- QTDE_INSCRICAO -->\r\n     <g style=\"fill:#262626;\" transform=\"translate(249.925313 35.988125)scale(0.11 -0.11)\">\r\n      <defs>\r\n       <path d=\"M 61.96875 7.671875 \r\nQ 68.5625 3.125 74.125 1.03125 \r\nL 71.34375 -5.5625 \r\nQ 63.625 -2.78125 55.953125 3.21875 \r\nQ 48 -1.21875 38.375 -1.21875 \r\nQ 28.65625 -1.21875 20.75 3.46875 \r\nQ 12.84375 8.15625 8.5625 16.640625 \r\nQ 4.296875 25.140625 4.296875 35.796875 \r\nQ 4.296875 46.390625 8.59375 55.078125 \r\nQ 12.890625 63.765625 20.828125 68.3125 \r\nQ 28.765625 72.859375 38.578125 72.859375 \r\nQ 48.484375 72.859375 56.4375 68.140625 \r\nQ 64.40625 63.421875 68.578125 54.953125 \r\nQ 72.75 46.484375 72.75 35.84375 \r\nQ 72.75 27 70.0625 19.9375 \r\nQ 67.390625 12.890625 61.96875 7.671875 \r\nz\r\nM 41.109375 19.78125 \r\nQ 49.3125 17.484375 54.640625 12.9375 \r\nQ 62.984375 20.5625 62.984375 35.84375 \r\nQ 62.984375 44.53125 60.03125 51.015625 \r\nQ 57.078125 57.515625 51.390625 61.109375 \r\nQ 45.703125 64.703125 38.625 64.703125 \r\nQ 28.03125 64.703125 21.046875 57.453125 \r\nQ 14.0625 50.203125 14.0625 35.796875 \r\nQ 14.0625 21.828125 20.96875 14.359375 \r\nQ 27.875 6.890625 38.625 6.890625 \r\nQ 43.703125 6.890625 48.1875 8.796875 \r\nQ 43.75 11.671875 38.8125 12.890625 \r\nz\r\n\" id=\"ArialMT-81\"/>\r\n       <path d=\"M 25.921875 0 \r\nL 25.921875 63.140625 \r\nL 2.34375 63.140625 \r\nL 2.34375 71.578125 \r\nL 59.078125 71.578125 \r\nL 59.078125 63.140625 \r\nL 35.40625 63.140625 \r\nL 35.40625 0 \r\nz\r\n\" id=\"ArialMT-84\"/>\r\n       <path d=\"M 7.71875 0 \r\nL 7.71875 71.578125 \r\nL 32.375 71.578125 \r\nQ 40.71875 71.578125 45.125 70.5625 \r\nQ 51.265625 69.140625 55.609375 65.4375 \r\nQ 61.28125 60.640625 64.078125 53.1875 \r\nQ 66.890625 45.75 66.890625 36.1875 \r\nQ 66.890625 28.03125 64.984375 21.734375 \r\nQ 63.09375 15.4375 60.109375 11.296875 \r\nQ 57.125 7.171875 53.578125 4.796875 \r\nQ 50.046875 2.4375 45.046875 1.21875 \r\nQ 40.046875 0 33.546875 0 \r\nz\r\nM 17.1875 8.453125 \r\nL 32.46875 8.453125 \r\nQ 39.546875 8.453125 43.578125 9.765625 \r\nQ 47.609375 11.078125 50 13.484375 \r\nQ 53.375 16.84375 55.25 22.53125 \r\nQ 57.125 28.21875 57.125 36.328125 \r\nQ 57.125 47.5625 53.4375 53.59375 \r\nQ 49.75 59.625 44.484375 61.671875 \r\nQ 40.671875 63.140625 32.234375 63.140625 \r\nL 17.1875 63.140625 \r\nz\r\n\" id=\"ArialMT-68\"/>\r\n       <path d=\"M 7.90625 0 \r\nL 7.90625 71.578125 \r\nL 59.671875 71.578125 \r\nL 59.671875 63.140625 \r\nL 17.390625 63.140625 \r\nL 17.390625 41.21875 \r\nL 56.984375 41.21875 \r\nL 56.984375 32.8125 \r\nL 17.390625 32.8125 \r\nL 17.390625 8.453125 \r\nL 61.328125 8.453125 \r\nL 61.328125 0 \r\nz\r\n\" id=\"ArialMT-69\"/>\r\n       <path d=\"M -1.515625 -19.875 \r\nL -1.515625 -13.53125 \r\nL 56.734375 -13.53125 \r\nL 56.734375 -19.875 \r\nz\r\n\" id=\"ArialMT-95\"/>\r\n       <path d=\"M 9.328125 0 \r\nL 9.328125 71.578125 \r\nL 18.796875 71.578125 \r\nL 18.796875 0 \r\nz\r\n\" id=\"ArialMT-73\"/>\r\n       <path d=\"M 4.5 23 \r\nL 13.421875 23.78125 \r\nQ 14.0625 18.40625 16.375 14.96875 \r\nQ 18.703125 11.53125 23.578125 9.40625 \r\nQ 28.46875 7.28125 34.578125 7.28125 \r\nQ 39.984375 7.28125 44.140625 8.890625 \r\nQ 48.296875 10.5 50.3125 13.296875 \r\nQ 52.34375 16.109375 52.34375 19.4375 \r\nQ 52.34375 22.796875 50.390625 25.3125 \r\nQ 48.4375 27.828125 43.953125 29.546875 \r\nQ 41.0625 30.671875 31.203125 33.03125 \r\nQ 21.34375 35.40625 17.390625 37.5 \r\nQ 12.25 40.1875 9.734375 44.15625 \r\nQ 7.234375 48.140625 7.234375 53.078125 \r\nQ 7.234375 58.5 10.296875 63.203125 \r\nQ 13.375 67.921875 19.28125 70.359375 \r\nQ 25.203125 72.796875 32.421875 72.796875 \r\nQ 40.375 72.796875 46.453125 70.234375 \r\nQ 52.546875 67.671875 55.8125 62.6875 \r\nQ 59.078125 57.71875 59.328125 51.421875 \r\nL 50.25 50.734375 \r\nQ 49.515625 57.515625 45.28125 60.984375 \r\nQ 41.0625 64.453125 32.8125 64.453125 \r\nQ 24.21875 64.453125 20.28125 61.296875 \r\nQ 16.359375 58.15625 16.359375 53.71875 \r\nQ 16.359375 49.859375 19.140625 47.359375 \r\nQ 21.875 44.875 33.421875 42.265625 \r\nQ 44.96875 39.65625 49.265625 37.703125 \r\nQ 55.515625 34.8125 58.484375 30.390625 \r\nQ 61.46875 25.984375 61.46875 20.21875 \r\nQ 61.46875 14.5 58.203125 9.4375 \r\nQ 54.9375 4.390625 48.796875 1.578125 \r\nQ 42.671875 -1.21875 35.015625 -1.21875 \r\nQ 25.296875 -1.21875 18.71875 1.609375 \r\nQ 12.15625 4.4375 8.421875 10.125 \r\nQ 4.6875 15.828125 4.5 23 \r\nz\r\n\" id=\"ArialMT-83\"/>\r\n       <path d=\"M 58.796875 25.09375 \r\nL 68.265625 22.703125 \r\nQ 65.28125 11.03125 57.546875 4.90625 \r\nQ 49.8125 -1.21875 38.625 -1.21875 \r\nQ 27.046875 -1.21875 19.796875 3.484375 \r\nQ 12.546875 8.203125 8.765625 17.140625 \r\nQ 4.984375 26.078125 4.984375 36.328125 \r\nQ 4.984375 47.515625 9.25 55.828125 \r\nQ 13.53125 64.15625 21.40625 68.46875 \r\nQ 29.296875 72.796875 38.765625 72.796875 \r\nQ 49.515625 72.796875 56.828125 67.328125 \r\nQ 64.15625 61.859375 67.046875 51.953125 \r\nL 57.71875 49.75 \r\nQ 55.21875 57.5625 50.484375 61.125 \r\nQ 45.75 64.703125 38.578125 64.703125 \r\nQ 30.328125 64.703125 24.78125 60.734375 \r\nQ 19.234375 56.78125 16.984375 50.109375 \r\nQ 14.75 43.453125 14.75 36.375 \r\nQ 14.75 27.25 17.40625 20.4375 \r\nQ 20.0625 13.625 25.671875 10.25 \r\nQ 31.296875 6.890625 37.84375 6.890625 \r\nQ 45.796875 6.890625 51.3125 11.46875 \r\nQ 56.84375 16.0625 58.796875 25.09375 \r\nz\r\n\" id=\"ArialMT-67\"/>\r\n       <path d=\"M 7.859375 0 \r\nL 7.859375 71.578125 \r\nL 39.59375 71.578125 \r\nQ 49.171875 71.578125 54.140625 69.640625 \r\nQ 59.125 67.71875 62.109375 62.828125 \r\nQ 65.09375 57.953125 65.09375 52.046875 \r\nQ 65.09375 44.4375 60.15625 39.203125 \r\nQ 55.21875 33.984375 44.921875 32.5625 \r\nQ 48.6875 30.765625 50.640625 29 \r\nQ 54.78125 25.203125 58.5 19.484375 \r\nL 70.953125 0 \r\nL 59.03125 0 \r\nL 49.5625 14.890625 \r\nQ 45.40625 21.34375 42.71875 24.75 \r\nQ 40.046875 28.171875 37.921875 29.53125 \r\nQ 35.796875 30.90625 33.59375 31.453125 \r\nQ 31.984375 31.78125 28.328125 31.78125 \r\nL 17.328125 31.78125 \r\nL 17.328125 0 \r\nz\r\nM 17.328125 39.984375 \r\nL 37.703125 39.984375 \r\nQ 44.1875 39.984375 47.84375 41.328125 \r\nQ 51.515625 42.671875 53.421875 45.625 \r\nQ 55.328125 48.578125 55.328125 52.046875 \r\nQ 55.328125 57.125 51.640625 60.390625 \r\nQ 47.953125 63.671875 39.984375 63.671875 \r\nL 17.328125 63.671875 \r\nz\r\n\" id=\"ArialMT-82\"/>\r\n      </defs>\r\n      <use xlink:href=\"#ArialMT-81\"/>\r\n      <use x=\"77.783203\" xlink:href=\"#ArialMT-84\"/>\r\n      <use x=\"138.867188\" xlink:href=\"#ArialMT-68\"/>\r\n      <use x=\"211.083984\" xlink:href=\"#ArialMT-69\"/>\r\n      <use x=\"277.783203\" xlink:href=\"#ArialMT-95\"/>\r\n      <use x=\"333.398438\" xlink:href=\"#ArialMT-73\"/>\r\n      <use x=\"361.181641\" xlink:href=\"#ArialMT-78\"/>\r\n      <use x=\"433.398438\" xlink:href=\"#ArialMT-83\"/>\r\n      <use x=\"500.097656\" xlink:href=\"#ArialMT-67\"/>\r\n      <use x=\"572.314453\" xlink:href=\"#ArialMT-82\"/>\r\n      <use x=\"644.53125\" xlink:href=\"#ArialMT-73\"/>\r\n      <use x=\"672.314453\" xlink:href=\"#ArialMT-67\"/>\r\n      <use x=\"744.53125\" xlink:href=\"#ArialMT-65\"/>\r\n      <use x=\"811.230469\" xlink:href=\"#ArialMT-79\"/>\r\n     </g>\r\n    </g>\r\n   </g>\r\n  </g>\r\n </g>\r\n <defs>\r\n  <clipPath id=\"p160dbe8ece\">\r\n   <rect height=\"217.44\" width=\"334.8\" x=\"22.817031\" y=\"18.073594\"/>\r\n  </clipPath>\r\n </defs>\r\n</svg>\r\n",
      "image/png": "[encoded data removed]"
     },
     "metadata": {}
    }
   ],
   "source": [
    "df_grafico = sqlContext.sql('SELECT NU_ANO AS ANO, COUNT(*) AS QTDE_INSCRICAO, ROUND((COUNT(*)/(SELECT COUNT(*)/100 FROM enemtb)),2) AS PERCENTUAL FROM enemtb GROUP BY NU_ANO ORDER BY NU_ANO, COUNT(*)').toPandas()\n",
    "df_grafico.plot(kind='bar', x='ANO', y='QTDE_INSCRICAO')"
   ]
  },
  {
   "cell_type": "code",
   "execution_count": 245,
   "metadata": {},
   "outputs": [
    {
     "output_type": "execute_result",
     "data": {
      "text/plain": "<AxesSubplot:xlabel='NU_ANO'>"
     },
     "metadata": {},
     "execution_count": 245
    },
    {
     "output_type": "display_data",
     "data": {
      "text/plain": "<Figure size 432x288 with 1 Axes>",
      "image/svg+xml": "<?xml version=\"1.0\" encoding=\"utf-8\" standalone=\"no\"?>\r\n<!DOCTYPE svg PUBLIC \"-//W3C//DTD SVG 1.1//EN\"\r\n  \"http://www.w3.org/Graphics/SVG/1.1/DTD/svg11.dtd\">\r\n<!-- Created with matplotlib (https://matplotlib.org/) -->\r\n<svg height=\"291.809844pt\" version=\"1.1\" viewBox=\"0 0 364.817031 291.809844\" width=\"364.817031pt\" xmlns=\"http://www.w3.org/2000/svg\" xmlns:xlink=\"http://www.w3.org/1999/xlink\">\r\n <metadata>\r\n  <rdf:RDF xmlns:cc=\"http://creativecommons.org/ns#\" xmlns:dc=\"http://purl.org/dc/elements/1.1/\" xmlns:rdf=\"http://www.w3.org/1999/02/22-rdf-syntax-ns#\">\r\n   <cc:Work>\r\n    <dc:type rdf:resource=\"http://purl.org/dc/dcmitype/StillImage\"/>\r\n    <dc:date>2020-09-03T02:02:17.579250</dc:date>\r\n    <dc:format>image/svg+xml</dc:format>\r\n    <dc:creator>\r\n     <cc:Agent>\r\n      <dc:title>Matplotlib v3.3.1, https://matplotlib.org/</dc:title>\r\n     </cc:Agent>\r\n    </dc:creator>\r\n   </cc:Work>\r\n  </rdf:RDF>\r\n </metadata>\r\n <defs>\r\n  <style type=\"text/css\">*{stroke-linecap:butt;stroke-linejoin:round;}</style>\r\n </defs>\r\n <g id=\"figure_1\">\r\n  <g id=\"patch_1\">\r\n   <path d=\"M 0 291.809844 \r\nL 364.817031 291.809844 \r\nL 364.817031 0 \r\nL 0 0 \r\nz\r\n\" style=\"fill:#ffffff;\"/>\r\n  </g>\r\n  <g id=\"axes_1\">\r\n   <g id=\"patch_2\">\r\n    <path d=\"M 22.817031 235.513594 \r\nL 357.617031 235.513594 \r\nL 357.617031 18.073594 \r\nL 22.817031 18.073594 \r\nz\r\n\" style=\"fill:#ffffff;\"/>\r\n   </g>\r\n   <g id=\"matplotlib.axis_1\">\r\n    <g id=\"xtick_1\">\r\n     <g id=\"line2d_1\">\r\n      <path clip-path=\"url(#p851aea3277)\" d=\"M 56.297031 235.513594 \r\nL 56.297031 18.073594 \r\n\" style=\"fill:none;stroke:#cccccc;stroke-linecap:round;\"/>\r\n     </g>\r\n     <g id=\"text_1\">\r\n      <!-- 2015 -->\r\n      <g style=\"fill:#262626;\" transform=\"translate(59.140703 269.481719)rotate(-90)scale(0.11 -0.11)\">\r\n       <defs>\r\n        <path d=\"M 50.34375 8.453125 \r\nL 50.34375 0 \r\nL 3.03125 0 \r\nQ 2.9375 3.171875 4.046875 6.109375 \r\nQ 5.859375 10.9375 9.828125 15.625 \r\nQ 13.8125 20.3125 21.34375 26.46875 \r\nQ 33.015625 36.03125 37.109375 41.625 \r\nQ 41.21875 47.21875 41.21875 52.203125 \r\nQ 41.21875 57.421875 37.46875 61 \r\nQ 33.734375 64.59375 27.734375 64.59375 \r\nQ 21.390625 64.59375 17.578125 60.78125 \r\nQ 13.765625 56.984375 13.71875 50.25 \r\nL 4.6875 51.171875 \r\nQ 5.609375 61.28125 11.65625 66.578125 \r\nQ 17.71875 71.875 27.9375 71.875 \r\nQ 38.234375 71.875 44.234375 66.15625 \r\nQ 50.25 60.453125 50.25 52 \r\nQ 50.25 47.703125 48.484375 43.546875 \r\nQ 46.734375 39.40625 42.65625 34.8125 \r\nQ 38.578125 30.21875 29.109375 22.21875 \r\nQ 21.1875 15.578125 18.9375 13.203125 \r\nQ 16.703125 10.84375 15.234375 8.453125 \r\nz\r\n\" id=\"ArialMT-50\"/>\r\n        <path d=\"M 4.15625 35.296875 \r\nQ 4.15625 48 6.765625 55.734375 \r\nQ 9.375 63.484375 14.515625 67.671875 \r\nQ 19.671875 71.875 27.484375 71.875 \r\nQ 33.25 71.875 37.59375 69.546875 \r\nQ 41.9375 67.234375 44.765625 62.859375 \r\nQ 47.609375 58.5 49.21875 52.21875 \r\nQ 50.828125 45.953125 50.828125 35.296875 \r\nQ 50.828125 22.703125 48.234375 14.96875 \r\nQ 45.65625 7.234375 40.5 3 \r\nQ 35.359375 -1.21875 27.484375 -1.21875 \r\nQ 17.140625 -1.21875 11.234375 6.203125 \r\nQ 4.15625 15.140625 4.15625 35.296875 \r\nz\r\nM 13.1875 35.296875 \r\nQ 13.1875 17.671875 17.3125 11.828125 \r\nQ 21.4375 6 27.484375 6 \r\nQ 33.546875 6 37.671875 11.859375 \r\nQ 41.796875 17.71875 41.796875 35.296875 \r\nQ 41.796875 52.984375 37.671875 58.78125 \r\nQ 33.546875 64.59375 27.390625 64.59375 \r\nQ 21.34375 64.59375 17.71875 59.46875 \r\nQ 13.1875 52.9375 13.1875 35.296875 \r\nz\r\n\" id=\"ArialMT-48\"/>\r\n        <path d=\"M 37.25 0 \r\nL 28.46875 0 \r\nL 28.46875 56 \r\nQ 25.296875 52.984375 20.140625 49.953125 \r\nQ 14.984375 46.921875 10.890625 45.40625 \r\nL 10.890625 53.90625 \r\nQ 18.265625 57.375 23.78125 62.296875 \r\nQ 29.296875 67.234375 31.59375 71.875 \r\nL 37.25 71.875 \r\nz\r\n\" id=\"ArialMT-49\"/>\r\n        <path d=\"M 4.15625 18.75 \r\nL 13.375 19.53125 \r\nQ 14.40625 12.796875 18.140625 9.390625 \r\nQ 21.875 6 27.15625 6 \r\nQ 33.5 6 37.890625 10.78125 \r\nQ 42.28125 15.578125 42.28125 23.484375 \r\nQ 42.28125 31 38.0625 35.34375 \r\nQ 33.84375 39.703125 27 39.703125 \r\nQ 22.75 39.703125 19.328125 37.765625 \r\nQ 15.921875 35.84375 13.96875 32.765625 \r\nL 5.71875 33.84375 \r\nL 12.640625 70.609375 \r\nL 48.25 70.609375 \r\nL 48.25 62.203125 \r\nL 19.671875 62.203125 \r\nL 15.828125 42.96875 \r\nQ 22.265625 47.46875 29.34375 47.46875 \r\nQ 38.71875 47.46875 45.15625 40.96875 \r\nQ 51.609375 34.46875 51.609375 24.265625 \r\nQ 51.609375 14.546875 45.953125 7.46875 \r\nQ 39.0625 -1.21875 27.15625 -1.21875 \r\nQ 17.390625 -1.21875 11.203125 4.25 \r\nQ 5.03125 9.71875 4.15625 18.75 \r\nz\r\n\" id=\"ArialMT-53\"/>\r\n       </defs>\r\n       <use xlink:href=\"#ArialMT-50\"/>\r\n       <use x=\"55.615234\" xlink:href=\"#ArialMT-48\"/>\r\n       <use x=\"111.230469\" xlink:href=\"#ArialMT-49\"/>\r\n       <use x=\"166.845703\" xlink:href=\"#ArialMT-53\"/>\r\n      </g>\r\n     </g>\r\n    </g>\r\n    <g id=\"xtick_2\">\r\n     <g id=\"line2d_2\">\r\n      <path clip-path=\"url(#p851aea3277)\" d=\"M 123.257031 235.513594 \r\nL 123.257031 18.073594 \r\n\" style=\"fill:none;stroke:#cccccc;stroke-linecap:round;\"/>\r\n     </g>\r\n     <g id=\"text_2\">\r\n      <!-- 2016 -->\r\n      <g style=\"fill:#262626;\" transform=\"translate(126.100703 269.481719)rotate(-90)scale(0.11 -0.11)\">\r\n       <defs>\r\n        <path d=\"M 49.75 54.046875 \r\nL 41.015625 53.375 \r\nQ 39.84375 58.546875 37.703125 60.890625 \r\nQ 34.125 64.65625 28.90625 64.65625 \r\nQ 24.703125 64.65625 21.53125 62.3125 \r\nQ 17.390625 59.28125 14.984375 53.46875 \r\nQ 12.59375 47.65625 12.5 36.921875 \r\nQ 15.671875 41.75 20.265625 44.09375 \r\nQ 24.859375 46.4375 29.890625 46.4375 \r\nQ 38.671875 46.4375 44.84375 39.96875 \r\nQ 51.03125 33.5 51.03125 23.25 \r\nQ 51.03125 16.5 48.125 10.71875 \r\nQ 45.21875 4.9375 40.140625 1.859375 \r\nQ 35.0625 -1.21875 28.609375 -1.21875 \r\nQ 17.625 -1.21875 10.6875 6.859375 \r\nQ 3.765625 14.9375 3.765625 33.5 \r\nQ 3.765625 54.25 11.421875 63.671875 \r\nQ 18.109375 71.875 29.4375 71.875 \r\nQ 37.890625 71.875 43.28125 67.140625 \r\nQ 48.6875 62.40625 49.75 54.046875 \r\nz\r\nM 13.875 23.1875 \r\nQ 13.875 18.65625 15.796875 14.5 \r\nQ 17.71875 10.359375 21.1875 8.171875 \r\nQ 24.65625 6 28.46875 6 \r\nQ 34.03125 6 38.03125 10.484375 \r\nQ 42.046875 14.984375 42.046875 22.703125 \r\nQ 42.046875 30.125 38.078125 34.390625 \r\nQ 34.125 38.671875 28.125 38.671875 \r\nQ 22.171875 38.671875 18.015625 34.390625 \r\nQ 13.875 30.125 13.875 23.1875 \r\nz\r\n\" id=\"ArialMT-54\"/>\r\n       </defs>\r\n       <use xlink:href=\"#ArialMT-50\"/>\r\n       <use x=\"55.615234\" xlink:href=\"#ArialMT-48\"/>\r\n       <use x=\"111.230469\" xlink:href=\"#ArialMT-49\"/>\r\n       <use x=\"166.845703\" xlink:href=\"#ArialMT-54\"/>\r\n      </g>\r\n     </g>\r\n    </g>\r\n    <g id=\"xtick_3\">\r\n     <g id=\"line2d_3\">\r\n      <path clip-path=\"url(#p851aea3277)\" d=\"M 190.217031 235.513594 \r\nL 190.217031 18.073594 \r\n\" style=\"fill:none;stroke:#cccccc;stroke-linecap:round;\"/>\r\n     </g>\r\n     <g id=\"text_3\">\r\n      <!-- 2017 -->\r\n      <g style=\"fill:#262626;\" transform=\"translate(193.060703 269.481719)rotate(-90)scale(0.11 -0.11)\">\r\n       <defs>\r\n        <path d=\"M 4.734375 62.203125 \r\nL 4.734375 70.65625 \r\nL 51.078125 70.65625 \r\nL 51.078125 63.8125 \r\nQ 44.234375 56.546875 37.515625 44.484375 \r\nQ 30.8125 32.421875 27.15625 19.671875 \r\nQ 24.515625 10.6875 23.78125 0 \r\nL 14.75 0 \r\nQ 14.890625 8.453125 18.0625 20.40625 \r\nQ 21.234375 32.375 27.171875 43.484375 \r\nQ 33.109375 54.59375 39.796875 62.203125 \r\nz\r\n\" id=\"ArialMT-55\"/>\r\n       </defs>\r\n       <use xlink:href=\"#ArialMT-50\"/>\r\n       <use x=\"55.615234\" xlink:href=\"#ArialMT-48\"/>\r\n       <use x=\"111.230469\" xlink:href=\"#ArialMT-49\"/>\r\n       <use x=\"166.845703\" xlink:href=\"#ArialMT-55\"/>\r\n      </g>\r\n     </g>\r\n    </g>\r\n    <g id=\"xtick_4\">\r\n     <g id=\"line2d_4\">\r\n      <path clip-path=\"url(#p851aea3277)\" d=\"M 257.177031 235.513594 \r\nL 257.177031 18.073594 \r\n\" style=\"fill:none;stroke:#cccccc;stroke-linecap:round;\"/>\r\n     </g>\r\n     <g id=\"text_4\">\r\n      <!-- 2018 -->\r\n      <g style=\"fill:#262626;\" transform=\"translate(260.020703 269.481719)rotate(-90)scale(0.11 -0.11)\">\r\n       <defs>\r\n        <path d=\"M 17.671875 38.8125 \r\nQ 12.203125 40.828125 9.5625 44.53125 \r\nQ 6.9375 48.25 6.9375 53.421875 \r\nQ 6.9375 61.234375 12.546875 66.546875 \r\nQ 18.171875 71.875 27.484375 71.875 \r\nQ 36.859375 71.875 42.578125 66.421875 \r\nQ 48.296875 60.984375 48.296875 53.171875 \r\nQ 48.296875 48.1875 45.671875 44.5 \r\nQ 43.0625 40.828125 37.75 38.8125 \r\nQ 44.34375 36.671875 47.78125 31.875 \r\nQ 51.21875 27.09375 51.21875 20.453125 \r\nQ 51.21875 11.28125 44.71875 5.03125 \r\nQ 38.234375 -1.21875 27.640625 -1.21875 \r\nQ 17.046875 -1.21875 10.546875 5.046875 \r\nQ 4.046875 11.328125 4.046875 20.703125 \r\nQ 4.046875 27.6875 7.59375 32.390625 \r\nQ 11.140625 37.109375 17.671875 38.8125 \r\nz\r\nM 15.921875 53.71875 \r\nQ 15.921875 48.640625 19.1875 45.40625 \r\nQ 22.46875 42.1875 27.6875 42.1875 \r\nQ 32.765625 42.1875 36.015625 45.375 \r\nQ 39.265625 48.578125 39.265625 53.21875 \r\nQ 39.265625 58.0625 35.90625 61.359375 \r\nQ 32.5625 64.65625 27.59375 64.65625 \r\nQ 22.5625 64.65625 19.234375 61.421875 \r\nQ 15.921875 58.203125 15.921875 53.71875 \r\nz\r\nM 13.09375 20.65625 \r\nQ 13.09375 16.890625 14.875 13.375 \r\nQ 16.65625 9.859375 20.171875 7.921875 \r\nQ 23.6875 6 27.734375 6 \r\nQ 34.03125 6 38.125 10.046875 \r\nQ 42.234375 14.109375 42.234375 20.359375 \r\nQ 42.234375 26.703125 38.015625 30.859375 \r\nQ 33.796875 35.015625 27.4375 35.015625 \r\nQ 21.234375 35.015625 17.15625 30.90625 \r\nQ 13.09375 26.8125 13.09375 20.65625 \r\nz\r\n\" id=\"ArialMT-56\"/>\r\n       </defs>\r\n       <use xlink:href=\"#ArialMT-50\"/>\r\n       <use x=\"55.615234\" xlink:href=\"#ArialMT-48\"/>\r\n       <use x=\"111.230469\" xlink:href=\"#ArialMT-49\"/>\r\n       <use x=\"166.845703\" xlink:href=\"#ArialMT-56\"/>\r\n      </g>\r\n     </g>\r\n    </g>\r\n    <g id=\"xtick_5\">\r\n     <g id=\"line2d_5\">\r\n      <path clip-path=\"url(#p851aea3277)\" d=\"M 324.137031 235.513594 \r\nL 324.137031 18.073594 \r\n\" style=\"fill:none;stroke:#cccccc;stroke-linecap:round;\"/>\r\n     </g>\r\n     <g id=\"text_5\">\r\n      <!-- 2019 -->\r\n      <g style=\"fill:#262626;\" transform=\"translate(326.980703 269.481719)rotate(-90)scale(0.11 -0.11)\">\r\n       <defs>\r\n        <path d=\"M 5.46875 16.546875 \r\nL 13.921875 17.328125 \r\nQ 14.984375 11.375 18.015625 8.6875 \r\nQ 21.046875 6 25.78125 6 \r\nQ 29.828125 6 32.875 7.859375 \r\nQ 35.9375 9.71875 37.890625 12.8125 \r\nQ 39.84375 15.921875 41.15625 21.1875 \r\nQ 42.484375 26.46875 42.484375 31.9375 \r\nQ 42.484375 32.515625 42.4375 33.6875 \r\nQ 39.796875 29.5 35.234375 26.875 \r\nQ 30.671875 24.265625 25.34375 24.265625 \r\nQ 16.453125 24.265625 10.296875 30.703125 \r\nQ 4.15625 37.15625 4.15625 47.703125 \r\nQ 4.15625 58.59375 10.578125 65.234375 \r\nQ 17 71.875 26.65625 71.875 \r\nQ 33.640625 71.875 39.421875 68.109375 \r\nQ 45.21875 64.359375 48.21875 57.390625 \r\nQ 51.21875 50.4375 51.21875 37.25 \r\nQ 51.21875 23.53125 48.234375 15.40625 \r\nQ 45.265625 7.28125 39.375 3.03125 \r\nQ 33.5 -1.21875 25.59375 -1.21875 \r\nQ 17.1875 -1.21875 11.859375 3.4375 \r\nQ 6.546875 8.109375 5.46875 16.546875 \r\nz\r\nM 41.453125 48.140625 \r\nQ 41.453125 55.71875 37.421875 60.15625 \r\nQ 33.40625 64.59375 27.734375 64.59375 \r\nQ 21.875 64.59375 17.53125 59.8125 \r\nQ 13.1875 55.03125 13.1875 47.40625 \r\nQ 13.1875 40.578125 17.3125 36.296875 \r\nQ 21.4375 32.03125 27.484375 32.03125 \r\nQ 33.59375 32.03125 37.515625 36.296875 \r\nQ 41.453125 40.578125 41.453125 48.140625 \r\nz\r\n\" id=\"ArialMT-57\"/>\r\n       </defs>\r\n       <use xlink:href=\"#ArialMT-50\"/>\r\n       <use x=\"55.615234\" xlink:href=\"#ArialMT-48\"/>\r\n       <use x=\"111.230469\" xlink:href=\"#ArialMT-49\"/>\r\n       <use x=\"166.845703\" xlink:href=\"#ArialMT-57\"/>\r\n      </g>\r\n     </g>\r\n    </g>\r\n    <g id=\"text_6\">\r\n     <!-- NU_ANO -->\r\n     <g style=\"fill:#262626;\" transform=\"translate(165.212031 282.224844)scale(0.12 -0.12)\">\r\n      <defs>\r\n       <path d=\"M 7.625 0 \r\nL 7.625 71.578125 \r\nL 17.328125 71.578125 \r\nL 54.9375 15.375 \r\nL 54.9375 71.578125 \r\nL 64.015625 71.578125 \r\nL 64.015625 0 \r\nL 54.296875 0 \r\nL 16.703125 56.25 \r\nL 16.703125 0 \r\nz\r\n\" id=\"ArialMT-78\"/>\r\n       <path d=\"M 54.6875 71.578125 \r\nL 64.15625 71.578125 \r\nL 64.15625 30.21875 \r\nQ 64.15625 19.4375 61.71875 13.078125 \r\nQ 59.28125 6.734375 52.90625 2.75 \r\nQ 46.53125 -1.21875 36.1875 -1.21875 \r\nQ 26.125 -1.21875 19.71875 2.25 \r\nQ 13.328125 5.71875 10.59375 12.28125 \r\nQ 7.859375 18.84375 7.859375 30.21875 \r\nL 7.859375 71.578125 \r\nL 17.328125 71.578125 \r\nL 17.328125 30.28125 \r\nQ 17.328125 20.953125 19.0625 16.53125 \r\nQ 20.796875 12.109375 25.015625 9.71875 \r\nQ 29.25 7.328125 35.359375 7.328125 \r\nQ 45.796875 7.328125 50.234375 12.0625 \r\nQ 54.6875 16.796875 54.6875 30.28125 \r\nz\r\n\" id=\"ArialMT-85\"/>\r\n       <path d=\"M -1.515625 -19.875 \r\nL -1.515625 -13.53125 \r\nL 56.734375 -13.53125 \r\nL 56.734375 -19.875 \r\nz\r\n\" id=\"ArialMT-95\"/>\r\n       <path d=\"M -0.140625 0 \r\nL 27.34375 71.578125 \r\nL 37.546875 71.578125 \r\nL 66.84375 0 \r\nL 56.0625 0 \r\nL 47.703125 21.6875 \r\nL 17.78125 21.6875 \r\nL 9.90625 0 \r\nz\r\nM 20.515625 29.390625 \r\nL 44.78125 29.390625 \r\nL 37.3125 49.21875 \r\nQ 33.890625 58.25 32.234375 64.0625 \r\nQ 30.859375 57.171875 28.375 50.390625 \r\nz\r\n\" id=\"ArialMT-65\"/>\r\n       <path d=\"M 4.828125 34.859375 \r\nQ 4.828125 52.6875 14.390625 62.765625 \r\nQ 23.96875 72.859375 39.109375 72.859375 \r\nQ 49.03125 72.859375 56.984375 68.109375 \r\nQ 64.9375 63.375 69.109375 54.90625 \r\nQ 73.296875 46.4375 73.296875 35.6875 \r\nQ 73.296875 24.8125 68.890625 16.21875 \r\nQ 64.5 7.625 56.4375 3.203125 \r\nQ 48.390625 -1.21875 39.0625 -1.21875 \r\nQ 28.953125 -1.21875 20.984375 3.65625 \r\nQ 13.03125 8.546875 8.921875 16.984375 \r\nQ 4.828125 25.4375 4.828125 34.859375 \r\nz\r\nM 14.59375 34.71875 \r\nQ 14.59375 21.78125 21.546875 14.328125 \r\nQ 28.515625 6.890625 39.015625 6.890625 \r\nQ 49.703125 6.890625 56.609375 14.40625 \r\nQ 63.53125 21.921875 63.53125 35.75 \r\nQ 63.53125 44.484375 60.578125 51 \r\nQ 57.625 57.515625 51.921875 61.109375 \r\nQ 46.234375 64.703125 39.15625 64.703125 \r\nQ 29.109375 64.703125 21.84375 57.78125 \r\nQ 14.59375 50.875 14.59375 34.71875 \r\nz\r\n\" id=\"ArialMT-79\"/>\r\n      </defs>\r\n      <use xlink:href=\"#ArialMT-78\"/>\r\n      <use x=\"72.216797\" xlink:href=\"#ArialMT-85\"/>\r\n      <use x=\"144.433594\" xlink:href=\"#ArialMT-95\"/>\r\n      <use x=\"200.048828\" xlink:href=\"#ArialMT-65\"/>\r\n      <use x=\"266.748047\" xlink:href=\"#ArialMT-78\"/>\r\n      <use x=\"338.964844\" xlink:href=\"#ArialMT-79\"/>\r\n     </g>\r\n    </g>\r\n   </g>\r\n   <g id=\"matplotlib.axis_2\">\r\n    <g id=\"ytick_1\">\r\n     <g id=\"line2d_6\">\r\n      <path clip-path=\"url(#p851aea3277)\" d=\"M 22.817031 235.513594 \r\nL 357.617031 235.513594 \r\n\" style=\"fill:none;stroke:#cccccc;stroke-linecap:round;\"/>\r\n     </g>\r\n     <g id=\"text_7\">\r\n      <!-- 0 -->\r\n      <g style=\"fill:#262626;\" transform=\"translate(7.2 239.450391)scale(0.11 -0.11)\">\r\n       <use xlink:href=\"#ArialMT-48\"/>\r\n      </g>\r\n     </g>\r\n    </g>\r\n    <g id=\"ytick_2\">\r\n     <g id=\"line2d_7\">\r\n      <path clip-path=\"url(#p851aea3277)\" d=\"M 22.817031 187.506893 \r\nL 357.617031 187.506893 \r\n\" style=\"fill:none;stroke:#cccccc;stroke-linecap:round;\"/>\r\n     </g>\r\n     <g id=\"text_8\">\r\n      <!-- 2 -->\r\n      <g style=\"fill:#262626;\" transform=\"translate(7.2 191.44369)scale(0.11 -0.11)\">\r\n       <use xlink:href=\"#ArialMT-50\"/>\r\n      </g>\r\n     </g>\r\n    </g>\r\n    <g id=\"ytick_3\">\r\n     <g id=\"line2d_8\">\r\n      <path clip-path=\"url(#p851aea3277)\" d=\"M 22.817031 139.500192 \r\nL 357.617031 139.500192 \r\n\" style=\"fill:none;stroke:#cccccc;stroke-linecap:round;\"/>\r\n     </g>\r\n     <g id=\"text_9\">\r\n      <!-- 4 -->\r\n      <g style=\"fill:#262626;\" transform=\"translate(7.2 143.436988)scale(0.11 -0.11)\">\r\n       <defs>\r\n        <path d=\"M 32.328125 0 \r\nL 32.328125 17.140625 \r\nL 1.265625 17.140625 \r\nL 1.265625 25.203125 \r\nL 33.9375 71.578125 \r\nL 41.109375 71.578125 \r\nL 41.109375 25.203125 \r\nL 50.78125 25.203125 \r\nL 50.78125 17.140625 \r\nL 41.109375 17.140625 \r\nL 41.109375 0 \r\nz\r\nM 32.328125 25.203125 \r\nL 32.328125 57.46875 \r\nL 9.90625 25.203125 \r\nz\r\n\" id=\"ArialMT-52\"/>\r\n       </defs>\r\n       <use xlink:href=\"#ArialMT-52\"/>\r\n      </g>\r\n     </g>\r\n    </g>\r\n    <g id=\"ytick_4\">\r\n     <g id=\"line2d_9\">\r\n      <path clip-path=\"url(#p851aea3277)\" d=\"M 22.817031 91.493491 \r\nL 357.617031 91.493491 \r\n\" style=\"fill:none;stroke:#cccccc;stroke-linecap:round;\"/>\r\n     </g>\r\n     <g id=\"text_10\">\r\n      <!-- 6 -->\r\n      <g style=\"fill:#262626;\" transform=\"translate(7.2 95.430287)scale(0.11 -0.11)\">\r\n       <use xlink:href=\"#ArialMT-54\"/>\r\n      </g>\r\n     </g>\r\n    </g>\r\n    <g id=\"ytick_5\">\r\n     <g id=\"line2d_10\">\r\n      <path clip-path=\"url(#p851aea3277)\" d=\"M 22.817031 43.486789 \r\nL 357.617031 43.486789 \r\n\" style=\"fill:none;stroke:#cccccc;stroke-linecap:round;\"/>\r\n     </g>\r\n     <g id=\"text_11\">\r\n      <!-- 8 -->\r\n      <g style=\"fill:#262626;\" transform=\"translate(7.2 47.423586)scale(0.11 -0.11)\">\r\n       <use xlink:href=\"#ArialMT-56\"/>\r\n      </g>\r\n     </g>\r\n    </g>\r\n    <g id=\"text_12\">\r\n     <!-- 1e6 -->\r\n     <g style=\"fill:#262626;\" transform=\"translate(22.817031 15.073594)scale(0.11 -0.11)\">\r\n      <defs>\r\n       <path d=\"M 42.09375 16.703125 \r\nL 51.171875 15.578125 \r\nQ 49.03125 7.625 43.21875 3.21875 \r\nQ 37.40625 -1.171875 28.375 -1.171875 \r\nQ 17 -1.171875 10.328125 5.828125 \r\nQ 3.65625 12.84375 3.65625 25.484375 \r\nQ 3.65625 38.578125 10.390625 45.796875 \r\nQ 17.140625 53.03125 27.875 53.03125 \r\nQ 38.28125 53.03125 44.875 45.953125 \r\nQ 51.46875 38.875 51.46875 26.03125 \r\nQ 51.46875 25.25 51.421875 23.6875 \r\nL 12.75 23.6875 \r\nQ 13.234375 15.140625 17.578125 10.59375 \r\nQ 21.921875 6.0625 28.421875 6.0625 \r\nQ 33.25 6.0625 36.671875 8.59375 \r\nQ 40.09375 11.140625 42.09375 16.703125 \r\nz\r\nM 13.234375 30.90625 \r\nL 42.1875 30.90625 \r\nQ 41.609375 37.453125 38.875 40.71875 \r\nQ 34.671875 45.796875 27.984375 45.796875 \r\nQ 21.921875 45.796875 17.796875 41.75 \r\nQ 13.671875 37.703125 13.234375 30.90625 \r\nz\r\n\" id=\"ArialMT-101\"/>\r\n      </defs>\r\n      <use xlink:href=\"#ArialMT-49\"/>\r\n      <use x=\"55.615234\" xlink:href=\"#ArialMT-101\"/>\r\n      <use x=\"111.230469\" xlink:href=\"#ArialMT-54\"/>\r\n     </g>\r\n    </g>\r\n   </g>\r\n   <g id=\"patch_3\">\r\n    <path clip-path=\"url(#p851aea3277)\" d=\"M 39.557031 235.513594 \r\nL 73.037031 235.513594 \r\nL 73.037031 49.573391 \r\nL 39.557031 49.573391 \r\nz\r\n\" style=\"fill:#4c72b0;stroke:#ffffff;stroke-linejoin:miter;\"/>\r\n   </g>\r\n   <g id=\"patch_4\">\r\n    <path clip-path=\"url(#p851aea3277)\" d=\"M 106.517031 235.513594 \r\nL 139.997031 235.513594 \r\nL 139.997031 28.427879 \r\nL 106.517031 28.427879 \r\nz\r\n\" style=\"fill:#4c72b0;stroke:#ffffff;stroke-linejoin:miter;\"/>\r\n   </g>\r\n   <g id=\"patch_5\">\r\n    <path clip-path=\"url(#p851aea3277)\" d=\"M 173.477031 235.513594 \r\nL 206.957031 235.513594 \r\nL 206.957031 73.938856 \r\nL 173.477031 73.938856 \r\nz\r\n\" style=\"fill:#4c72b0;stroke:#ffffff;stroke-linejoin:miter;\"/>\r\n   </g>\r\n   <g id=\"patch_6\">\r\n    <path clip-path=\"url(#p851aea3277)\" d=\"M 240.437031 235.513594 \r\nL 273.917031 235.513594 \r\nL 273.917031 103.165192 \r\nL 240.437031 103.165192 \r\nz\r\n\" style=\"fill:#4c72b0;stroke:#ffffff;stroke-linejoin:miter;\"/>\r\n   </g>\r\n   <g id=\"patch_7\">\r\n    <path clip-path=\"url(#p851aea3277)\" d=\"M 307.397031 235.513594 \r\nL 340.877031 235.513594 \r\nL 340.877031 113.210042 \r\nL 307.397031 113.210042 \r\nz\r\n\" style=\"fill:#4c72b0;stroke:#ffffff;stroke-linejoin:miter;\"/>\r\n   </g>\r\n   <g id=\"patch_8\">\r\n    <path d=\"M 22.817031 235.513594 \r\nL 22.817031 18.073594 \r\n\" style=\"fill:none;stroke:#cccccc;stroke-linecap:square;stroke-linejoin:miter;stroke-width:1.25;\"/>\r\n   </g>\r\n   <g id=\"patch_9\">\r\n    <path d=\"M 357.617031 235.513594 \r\nL 357.617031 18.073594 \r\n\" style=\"fill:none;stroke:#cccccc;stroke-linecap:square;stroke-linejoin:miter;stroke-width:1.25;\"/>\r\n   </g>\r\n   <g id=\"patch_10\">\r\n    <path d=\"M 22.817031 235.513594 \r\nL 357.617031 235.513594 \r\n\" style=\"fill:none;stroke:#cccccc;stroke-linecap:square;stroke-linejoin:miter;stroke-width:1.25;\"/>\r\n   </g>\r\n   <g id=\"patch_11\">\r\n    <path d=\"M 22.817031 18.073594 \r\nL 357.617031 18.073594 \r\n\" style=\"fill:none;stroke:#cccccc;stroke-linecap:square;stroke-linejoin:miter;stroke-width:1.25;\"/>\r\n   </g>\r\n   <g id=\"legend_1\">\r\n    <g id=\"patch_12\">\r\n     <path d=\"M 216.925312 42.574375 \r\nL 349.917031 42.574375 \r\nQ 352.117031 42.574375 352.117031 40.374375 \r\nL 352.117031 25.773594 \r\nQ 352.117031 23.573594 349.917031 23.573594 \r\nL 216.925312 23.573594 \r\nQ 214.725313 23.573594 214.725313 25.773594 \r\nL 214.725313 40.374375 \r\nQ 214.725313 42.574375 216.925312 42.574375 \r\nz\r\n\" style=\"fill:#ffffff;opacity:0.8;stroke:#cccccc;stroke-linejoin:miter;\"/>\r\n    </g>\r\n    <g id=\"patch_13\">\r\n     <path d=\"M 219.125313 35.988125 \r\nL 241.125313 35.988125 \r\nL 241.125313 28.288125 \r\nL 219.125313 28.288125 \r\nz\r\n\" style=\"fill:#4c72b0;stroke:#ffffff;stroke-linejoin:miter;\"/>\r\n    </g>\r\n    <g id=\"text_13\">\r\n     <!-- QTDE_INSCRICAO -->\r\n     <g style=\"fill:#262626;\" transform=\"translate(249.925313 35.988125)scale(0.11 -0.11)\">\r\n      <defs>\r\n       <path d=\"M 61.96875 7.671875 \r\nQ 68.5625 3.125 74.125 1.03125 \r\nL 71.34375 -5.5625 \r\nQ 63.625 -2.78125 55.953125 3.21875 \r\nQ 48 -1.21875 38.375 -1.21875 \r\nQ 28.65625 -1.21875 20.75 3.46875 \r\nQ 12.84375 8.15625 8.5625 16.640625 \r\nQ 4.296875 25.140625 4.296875 35.796875 \r\nQ 4.296875 46.390625 8.59375 55.078125 \r\nQ 12.890625 63.765625 20.828125 68.3125 \r\nQ 28.765625 72.859375 38.578125 72.859375 \r\nQ 48.484375 72.859375 56.4375 68.140625 \r\nQ 64.40625 63.421875 68.578125 54.953125 \r\nQ 72.75 46.484375 72.75 35.84375 \r\nQ 72.75 27 70.0625 19.9375 \r\nQ 67.390625 12.890625 61.96875 7.671875 \r\nz\r\nM 41.109375 19.78125 \r\nQ 49.3125 17.484375 54.640625 12.9375 \r\nQ 62.984375 20.5625 62.984375 35.84375 \r\nQ 62.984375 44.53125 60.03125 51.015625 \r\nQ 57.078125 57.515625 51.390625 61.109375 \r\nQ 45.703125 64.703125 38.625 64.703125 \r\nQ 28.03125 64.703125 21.046875 57.453125 \r\nQ 14.0625 50.203125 14.0625 35.796875 \r\nQ 14.0625 21.828125 20.96875 14.359375 \r\nQ 27.875 6.890625 38.625 6.890625 \r\nQ 43.703125 6.890625 48.1875 8.796875 \r\nQ 43.75 11.671875 38.8125 12.890625 \r\nz\r\n\" id=\"ArialMT-81\"/>\r\n       <path d=\"M 25.921875 0 \r\nL 25.921875 63.140625 \r\nL 2.34375 63.140625 \r\nL 2.34375 71.578125 \r\nL 59.078125 71.578125 \r\nL 59.078125 63.140625 \r\nL 35.40625 63.140625 \r\nL 35.40625 0 \r\nz\r\n\" id=\"ArialMT-84\"/>\r\n       <path d=\"M 7.71875 0 \r\nL 7.71875 71.578125 \r\nL 32.375 71.578125 \r\nQ 40.71875 71.578125 45.125 70.5625 \r\nQ 51.265625 69.140625 55.609375 65.4375 \r\nQ 61.28125 60.640625 64.078125 53.1875 \r\nQ 66.890625 45.75 66.890625 36.1875 \r\nQ 66.890625 28.03125 64.984375 21.734375 \r\nQ 63.09375 15.4375 60.109375 11.296875 \r\nQ 57.125 7.171875 53.578125 4.796875 \r\nQ 50.046875 2.4375 45.046875 1.21875 \r\nQ 40.046875 0 33.546875 0 \r\nz\r\nM 17.1875 8.453125 \r\nL 32.46875 8.453125 \r\nQ 39.546875 8.453125 43.578125 9.765625 \r\nQ 47.609375 11.078125 50 13.484375 \r\nQ 53.375 16.84375 55.25 22.53125 \r\nQ 57.125 28.21875 57.125 36.328125 \r\nQ 57.125 47.5625 53.4375 53.59375 \r\nQ 49.75 59.625 44.484375 61.671875 \r\nQ 40.671875 63.140625 32.234375 63.140625 \r\nL 17.1875 63.140625 \r\nz\r\n\" id=\"ArialMT-68\"/>\r\n       <path d=\"M 7.90625 0 \r\nL 7.90625 71.578125 \r\nL 59.671875 71.578125 \r\nL 59.671875 63.140625 \r\nL 17.390625 63.140625 \r\nL 17.390625 41.21875 \r\nL 56.984375 41.21875 \r\nL 56.984375 32.8125 \r\nL 17.390625 32.8125 \r\nL 17.390625 8.453125 \r\nL 61.328125 8.453125 \r\nL 61.328125 0 \r\nz\r\n\" id=\"ArialMT-69\"/>\r\n       <path d=\"M 9.328125 0 \r\nL 9.328125 71.578125 \r\nL 18.796875 71.578125 \r\nL 18.796875 0 \r\nz\r\n\" id=\"ArialMT-73\"/>\r\n       <path d=\"M 4.5 23 \r\nL 13.421875 23.78125 \r\nQ 14.0625 18.40625 16.375 14.96875 \r\nQ 18.703125 11.53125 23.578125 9.40625 \r\nQ 28.46875 7.28125 34.578125 7.28125 \r\nQ 39.984375 7.28125 44.140625 8.890625 \r\nQ 48.296875 10.5 50.3125 13.296875 \r\nQ 52.34375 16.109375 52.34375 19.4375 \r\nQ 52.34375 22.796875 50.390625 25.3125 \r\nQ 48.4375 27.828125 43.953125 29.546875 \r\nQ 41.0625 30.671875 31.203125 33.03125 \r\nQ 21.34375 35.40625 17.390625 37.5 \r\nQ 12.25 40.1875 9.734375 44.15625 \r\nQ 7.234375 48.140625 7.234375 53.078125 \r\nQ 7.234375 58.5 10.296875 63.203125 \r\nQ 13.375 67.921875 19.28125 70.359375 \r\nQ 25.203125 72.796875 32.421875 72.796875 \r\nQ 40.375 72.796875 46.453125 70.234375 \r\nQ 52.546875 67.671875 55.8125 62.6875 \r\nQ 59.078125 57.71875 59.328125 51.421875 \r\nL 50.25 50.734375 \r\nQ 49.515625 57.515625 45.28125 60.984375 \r\nQ 41.0625 64.453125 32.8125 64.453125 \r\nQ 24.21875 64.453125 20.28125 61.296875 \r\nQ 16.359375 58.15625 16.359375 53.71875 \r\nQ 16.359375 49.859375 19.140625 47.359375 \r\nQ 21.875 44.875 33.421875 42.265625 \r\nQ 44.96875 39.65625 49.265625 37.703125 \r\nQ 55.515625 34.8125 58.484375 30.390625 \r\nQ 61.46875 25.984375 61.46875 20.21875 \r\nQ 61.46875 14.5 58.203125 9.4375 \r\nQ 54.9375 4.390625 48.796875 1.578125 \r\nQ 42.671875 -1.21875 35.015625 -1.21875 \r\nQ 25.296875 -1.21875 18.71875 1.609375 \r\nQ 12.15625 4.4375 8.421875 10.125 \r\nQ 4.6875 15.828125 4.5 23 \r\nz\r\n\" id=\"ArialMT-83\"/>\r\n       <path d=\"M 58.796875 25.09375 \r\nL 68.265625 22.703125 \r\nQ 65.28125 11.03125 57.546875 4.90625 \r\nQ 49.8125 -1.21875 38.625 -1.21875 \r\nQ 27.046875 -1.21875 19.796875 3.484375 \r\nQ 12.546875 8.203125 8.765625 17.140625 \r\nQ 4.984375 26.078125 4.984375 36.328125 \r\nQ 4.984375 47.515625 9.25 55.828125 \r\nQ 13.53125 64.15625 21.40625 68.46875 \r\nQ 29.296875 72.796875 38.765625 72.796875 \r\nQ 49.515625 72.796875 56.828125 67.328125 \r\nQ 64.15625 61.859375 67.046875 51.953125 \r\nL 57.71875 49.75 \r\nQ 55.21875 57.5625 50.484375 61.125 \r\nQ 45.75 64.703125 38.578125 64.703125 \r\nQ 30.328125 64.703125 24.78125 60.734375 \r\nQ 19.234375 56.78125 16.984375 50.109375 \r\nQ 14.75 43.453125 14.75 36.375 \r\nQ 14.75 27.25 17.40625 20.4375 \r\nQ 20.0625 13.625 25.671875 10.25 \r\nQ 31.296875 6.890625 37.84375 6.890625 \r\nQ 45.796875 6.890625 51.3125 11.46875 \r\nQ 56.84375 16.0625 58.796875 25.09375 \r\nz\r\n\" id=\"ArialMT-67\"/>\r\n       <path d=\"M 7.859375 0 \r\nL 7.859375 71.578125 \r\nL 39.59375 71.578125 \r\nQ 49.171875 71.578125 54.140625 69.640625 \r\nQ 59.125 67.71875 62.109375 62.828125 \r\nQ 65.09375 57.953125 65.09375 52.046875 \r\nQ 65.09375 44.4375 60.15625 39.203125 \r\nQ 55.21875 33.984375 44.921875 32.5625 \r\nQ 48.6875 30.765625 50.640625 29 \r\nQ 54.78125 25.203125 58.5 19.484375 \r\nL 70.953125 0 \r\nL 59.03125 0 \r\nL 49.5625 14.890625 \r\nQ 45.40625 21.34375 42.71875 24.75 \r\nQ 40.046875 28.171875 37.921875 29.53125 \r\nQ 35.796875 30.90625 33.59375 31.453125 \r\nQ 31.984375 31.78125 28.328125 31.78125 \r\nL 17.328125 31.78125 \r\nL 17.328125 0 \r\nz\r\nM 17.328125 39.984375 \r\nL 37.703125 39.984375 \r\nQ 44.1875 39.984375 47.84375 41.328125 \r\nQ 51.515625 42.671875 53.421875 45.625 \r\nQ 55.328125 48.578125 55.328125 52.046875 \r\nQ 55.328125 57.125 51.640625 60.390625 \r\nQ 47.953125 63.671875 39.984375 63.671875 \r\nL 17.328125 63.671875 \r\nz\r\n\" id=\"ArialMT-82\"/>\r\n      </defs>\r\n      <use xlink:href=\"#ArialMT-81\"/>\r\n      <use x=\"77.783203\" xlink:href=\"#ArialMT-84\"/>\r\n      <use x=\"138.867188\" xlink:href=\"#ArialMT-68\"/>\r\n      <use x=\"211.083984\" xlink:href=\"#ArialMT-69\"/>\r\n      <use x=\"277.783203\" xlink:href=\"#ArialMT-95\"/>\r\n      <use x=\"333.398438\" xlink:href=\"#ArialMT-73\"/>\r\n      <use x=\"361.181641\" xlink:href=\"#ArialMT-78\"/>\r\n      <use x=\"433.398438\" xlink:href=\"#ArialMT-83\"/>\r\n      <use x=\"500.097656\" xlink:href=\"#ArialMT-67\"/>\r\n      <use x=\"572.314453\" xlink:href=\"#ArialMT-82\"/>\r\n      <use x=\"644.53125\" xlink:href=\"#ArialMT-73\"/>\r\n      <use x=\"672.314453\" xlink:href=\"#ArialMT-67\"/>\r\n      <use x=\"744.53125\" xlink:href=\"#ArialMT-65\"/>\r\n      <use x=\"811.230469\" xlink:href=\"#ArialMT-79\"/>\r\n     </g>\r\n    </g>\r\n   </g>\r\n  </g>\r\n </g>\r\n <defs>\r\n  <clipPath id=\"p851aea3277\">\r\n   <rect height=\"217.44\" width=\"334.8\" x=\"22.817031\" y=\"18.073594\"/>\r\n  </clipPath>\r\n </defs>\r\n</svg>\r\n",
      "image/png": "[encoded data removed]"
     },
     "metadata": {}
    }
   ],
   "source": [
    "df_grafico = df_enem_analise.groupBy('NU_ANO').agg(count('NU_INSCRICAO').alias('QTDE_INSCRICAO')).orderBy('NU_ANO').toPandas()\n",
    "df_grafico.plot(kind='bar', x='NU_ANO')"
   ]
  },
  {
   "cell_type": "code",
   "execution_count": 246,
   "metadata": {},
   "outputs": [
    {
     "output_type": "execute_result",
     "data": {
      "text/plain": "<AxesSubplot:xlabel='NU_ANO'>"
     },
     "metadata": {},
     "execution_count": 246
    },
    {
     "output_type": "display_data",
     "data": {
      "text/plain": "<Figure size 432x288 with 1 Axes>",
      "image/svg+xml": "<?xml version=\"1.0\" encoding=\"utf-8\" standalone=\"no\"?>\r\n<!DOCTYPE svg PUBLIC \"-//W3C//DTD SVG 1.1//EN\"\r\n  \"http://www.w3.org/Graphics/SVG/1.1/DTD/svg11.dtd\">\r\n<!-- Created with matplotlib (https://matplotlib.org/) -->\r\n<svg height=\"291.809844pt\" version=\"1.1\" viewBox=\"0 0 364.817031 291.809844\" width=\"364.817031pt\" xmlns=\"http://www.w3.org/2000/svg\" xmlns:xlink=\"http://www.w3.org/1999/xlink\">\r\n <metadata>\r\n  <rdf:RDF xmlns:cc=\"http://creativecommons.org/ns#\" xmlns:dc=\"http://purl.org/dc/elements/1.1/\" xmlns:rdf=\"http://www.w3.org/1999/02/22-rdf-syntax-ns#\">\r\n   <cc:Work>\r\n    <dc:type rdf:resource=\"http://purl.org/dc/dcmitype/StillImage\"/>\r\n    <dc:date>2020-09-03T02:03:48.044559</dc:date>\r\n    <dc:format>image/svg+xml</dc:format>\r\n    <dc:creator>\r\n     <cc:Agent>\r\n      <dc:title>Matplotlib v3.3.1, https://matplotlib.org/</dc:title>\r\n     </cc:Agent>\r\n    </dc:creator>\r\n   </cc:Work>\r\n  </rdf:RDF>\r\n </metadata>\r\n <defs>\r\n  <style type=\"text/css\">*{stroke-linecap:butt;stroke-linejoin:round;}</style>\r\n </defs>\r\n <g id=\"figure_1\">\r\n  <g id=\"patch_1\">\r\n   <path d=\"M 0 291.809844 \r\nL 364.817031 291.809844 \r\nL 364.817031 0 \r\nL 0 0 \r\nz\r\n\" style=\"fill:#ffffff;\"/>\r\n  </g>\r\n  <g id=\"axes_1\">\r\n   <g id=\"patch_2\">\r\n    <path d=\"M 22.817031 235.513594 \r\nL 357.617031 235.513594 \r\nL 357.617031 18.073594 \r\nL 22.817031 18.073594 \r\nz\r\n\" style=\"fill:#ffffff;\"/>\r\n   </g>\r\n   <g id=\"matplotlib.axis_1\">\r\n    <g id=\"xtick_1\">\r\n     <g id=\"line2d_1\">\r\n      <path clip-path=\"url(#pa37a97f46a)\" d=\"M 39.557031 235.513594 \r\nL 39.557031 18.073594 \r\n\" style=\"fill:none;stroke:#cccccc;stroke-linecap:round;\"/>\r\n     </g>\r\n     <g id=\"text_1\">\r\n      <!-- 2019 -->\r\n      <g style=\"fill:#262626;\" transform=\"translate(42.400703 269.481719)rotate(-90)scale(0.11 -0.11)\">\r\n       <defs>\r\n        <path d=\"M 50.34375 8.453125 \r\nL 50.34375 0 \r\nL 3.03125 0 \r\nQ 2.9375 3.171875 4.046875 6.109375 \r\nQ 5.859375 10.9375 9.828125 15.625 \r\nQ 13.8125 20.3125 21.34375 26.46875 \r\nQ 33.015625 36.03125 37.109375 41.625 \r\nQ 41.21875 47.21875 41.21875 52.203125 \r\nQ 41.21875 57.421875 37.46875 61 \r\nQ 33.734375 64.59375 27.734375 64.59375 \r\nQ 21.390625 64.59375 17.578125 60.78125 \r\nQ 13.765625 56.984375 13.71875 50.25 \r\nL 4.6875 51.171875 \r\nQ 5.609375 61.28125 11.65625 66.578125 \r\nQ 17.71875 71.875 27.9375 71.875 \r\nQ 38.234375 71.875 44.234375 66.15625 \r\nQ 50.25 60.453125 50.25 52 \r\nQ 50.25 47.703125 48.484375 43.546875 \r\nQ 46.734375 39.40625 42.65625 34.8125 \r\nQ 38.578125 30.21875 29.109375 22.21875 \r\nQ 21.1875 15.578125 18.9375 13.203125 \r\nQ 16.703125 10.84375 15.234375 8.453125 \r\nz\r\n\" id=\"ArialMT-50\"/>\r\n        <path d=\"M 4.15625 35.296875 \r\nQ 4.15625 48 6.765625 55.734375 \r\nQ 9.375 63.484375 14.515625 67.671875 \r\nQ 19.671875 71.875 27.484375 71.875 \r\nQ 33.25 71.875 37.59375 69.546875 \r\nQ 41.9375 67.234375 44.765625 62.859375 \r\nQ 47.609375 58.5 49.21875 52.21875 \r\nQ 50.828125 45.953125 50.828125 35.296875 \r\nQ 50.828125 22.703125 48.234375 14.96875 \r\nQ 45.65625 7.234375 40.5 3 \r\nQ 35.359375 -1.21875 27.484375 -1.21875 \r\nQ 17.140625 -1.21875 11.234375 6.203125 \r\nQ 4.15625 15.140625 4.15625 35.296875 \r\nz\r\nM 13.1875 35.296875 \r\nQ 13.1875 17.671875 17.3125 11.828125 \r\nQ 21.4375 6 27.484375 6 \r\nQ 33.546875 6 37.671875 11.859375 \r\nQ 41.796875 17.71875 41.796875 35.296875 \r\nQ 41.796875 52.984375 37.671875 58.78125 \r\nQ 33.546875 64.59375 27.390625 64.59375 \r\nQ 21.34375 64.59375 17.71875 59.46875 \r\nQ 13.1875 52.9375 13.1875 35.296875 \r\nz\r\n\" id=\"ArialMT-48\"/>\r\n        <path d=\"M 37.25 0 \r\nL 28.46875 0 \r\nL 28.46875 56 \r\nQ 25.296875 52.984375 20.140625 49.953125 \r\nQ 14.984375 46.921875 10.890625 45.40625 \r\nL 10.890625 53.90625 \r\nQ 18.265625 57.375 23.78125 62.296875 \r\nQ 29.296875 67.234375 31.59375 71.875 \r\nL 37.25 71.875 \r\nz\r\n\" id=\"ArialMT-49\"/>\r\n        <path d=\"M 5.46875 16.546875 \r\nL 13.921875 17.328125 \r\nQ 14.984375 11.375 18.015625 8.6875 \r\nQ 21.046875 6 25.78125 6 \r\nQ 29.828125 6 32.875 7.859375 \r\nQ 35.9375 9.71875 37.890625 12.8125 \r\nQ 39.84375 15.921875 41.15625 21.1875 \r\nQ 42.484375 26.46875 42.484375 31.9375 \r\nQ 42.484375 32.515625 42.4375 33.6875 \r\nQ 39.796875 29.5 35.234375 26.875 \r\nQ 30.671875 24.265625 25.34375 24.265625 \r\nQ 16.453125 24.265625 10.296875 30.703125 \r\nQ 4.15625 37.15625 4.15625 47.703125 \r\nQ 4.15625 58.59375 10.578125 65.234375 \r\nQ 17 71.875 26.65625 71.875 \r\nQ 33.640625 71.875 39.421875 68.109375 \r\nQ 45.21875 64.359375 48.21875 57.390625 \r\nQ 51.21875 50.4375 51.21875 37.25 \r\nQ 51.21875 23.53125 48.234375 15.40625 \r\nQ 45.265625 7.28125 39.375 3.03125 \r\nQ 33.5 -1.21875 25.59375 -1.21875 \r\nQ 17.1875 -1.21875 11.859375 3.4375 \r\nQ 6.546875 8.109375 5.46875 16.546875 \r\nz\r\nM 41.453125 48.140625 \r\nQ 41.453125 55.71875 37.421875 60.15625 \r\nQ 33.40625 64.59375 27.734375 64.59375 \r\nQ 21.875 64.59375 17.53125 59.8125 \r\nQ 13.1875 55.03125 13.1875 47.40625 \r\nQ 13.1875 40.578125 17.3125 36.296875 \r\nQ 21.4375 32.03125 27.484375 32.03125 \r\nQ 33.59375 32.03125 37.515625 36.296875 \r\nQ 41.453125 40.578125 41.453125 48.140625 \r\nz\r\n\" id=\"ArialMT-57\"/>\r\n       </defs>\r\n       <use xlink:href=\"#ArialMT-50\"/>\r\n       <use x=\"55.615234\" xlink:href=\"#ArialMT-48\"/>\r\n       <use x=\"111.230469\" xlink:href=\"#ArialMT-49\"/>\r\n       <use x=\"166.845703\" xlink:href=\"#ArialMT-57\"/>\r\n      </g>\r\n     </g>\r\n    </g>\r\n    <g id=\"xtick_2\">\r\n     <g id=\"line2d_2\">\r\n      <path clip-path=\"url(#pa37a97f46a)\" d=\"M 73.037031 235.513594 \r\nL 73.037031 18.073594 \r\n\" style=\"fill:none;stroke:#cccccc;stroke-linecap:round;\"/>\r\n     </g>\r\n     <g id=\"text_2\">\r\n      <!-- 2019 -->\r\n      <g style=\"fill:#262626;\" transform=\"translate(75.880703 269.481719)rotate(-90)scale(0.11 -0.11)\">\r\n       <use xlink:href=\"#ArialMT-50\"/>\r\n       <use x=\"55.615234\" xlink:href=\"#ArialMT-48\"/>\r\n       <use x=\"111.230469\" xlink:href=\"#ArialMT-49\"/>\r\n       <use x=\"166.845703\" xlink:href=\"#ArialMT-57\"/>\r\n      </g>\r\n     </g>\r\n    </g>\r\n    <g id=\"xtick_3\">\r\n     <g id=\"line2d_3\">\r\n      <path clip-path=\"url(#pa37a97f46a)\" d=\"M 106.517031 235.513594 \r\nL 106.517031 18.073594 \r\n\" style=\"fill:none;stroke:#cccccc;stroke-linecap:round;\"/>\r\n     </g>\r\n     <g id=\"text_3\">\r\n      <!-- 2018 -->\r\n      <g style=\"fill:#262626;\" transform=\"translate(109.360703 269.481719)rotate(-90)scale(0.11 -0.11)\">\r\n       <defs>\r\n        <path d=\"M 17.671875 38.8125 \r\nQ 12.203125 40.828125 9.5625 44.53125 \r\nQ 6.9375 48.25 6.9375 53.421875 \r\nQ 6.9375 61.234375 12.546875 66.546875 \r\nQ 18.171875 71.875 27.484375 71.875 \r\nQ 36.859375 71.875 42.578125 66.421875 \r\nQ 48.296875 60.984375 48.296875 53.171875 \r\nQ 48.296875 48.1875 45.671875 44.5 \r\nQ 43.0625 40.828125 37.75 38.8125 \r\nQ 44.34375 36.671875 47.78125 31.875 \r\nQ 51.21875 27.09375 51.21875 20.453125 \r\nQ 51.21875 11.28125 44.71875 5.03125 \r\nQ 38.234375 -1.21875 27.640625 -1.21875 \r\nQ 17.046875 -1.21875 10.546875 5.046875 \r\nQ 4.046875 11.328125 4.046875 20.703125 \r\nQ 4.046875 27.6875 7.59375 32.390625 \r\nQ 11.140625 37.109375 17.671875 38.8125 \r\nz\r\nM 15.921875 53.71875 \r\nQ 15.921875 48.640625 19.1875 45.40625 \r\nQ 22.46875 42.1875 27.6875 42.1875 \r\nQ 32.765625 42.1875 36.015625 45.375 \r\nQ 39.265625 48.578125 39.265625 53.21875 \r\nQ 39.265625 58.0625 35.90625 61.359375 \r\nQ 32.5625 64.65625 27.59375 64.65625 \r\nQ 22.5625 64.65625 19.234375 61.421875 \r\nQ 15.921875 58.203125 15.921875 53.71875 \r\nz\r\nM 13.09375 20.65625 \r\nQ 13.09375 16.890625 14.875 13.375 \r\nQ 16.65625 9.859375 20.171875 7.921875 \r\nQ 23.6875 6 27.734375 6 \r\nQ 34.03125 6 38.125 10.046875 \r\nQ 42.234375 14.109375 42.234375 20.359375 \r\nQ 42.234375 26.703125 38.015625 30.859375 \r\nQ 33.796875 35.015625 27.4375 35.015625 \r\nQ 21.234375 35.015625 17.15625 30.90625 \r\nQ 13.09375 26.8125 13.09375 20.65625 \r\nz\r\n\" id=\"ArialMT-56\"/>\r\n       </defs>\r\n       <use xlink:href=\"#ArialMT-50\"/>\r\n       <use x=\"55.615234\" xlink:href=\"#ArialMT-48\"/>\r\n       <use x=\"111.230469\" xlink:href=\"#ArialMT-49\"/>\r\n       <use x=\"166.845703\" xlink:href=\"#ArialMT-56\"/>\r\n      </g>\r\n     </g>\r\n    </g>\r\n    <g id=\"xtick_4\">\r\n     <g id=\"line2d_4\">\r\n      <path clip-path=\"url(#pa37a97f46a)\" d=\"M 139.997031 235.513594 \r\nL 139.997031 18.073594 \r\n\" style=\"fill:none;stroke:#cccccc;stroke-linecap:round;\"/>\r\n     </g>\r\n     <g id=\"text_4\">\r\n      <!-- 2018 -->\r\n      <g style=\"fill:#262626;\" transform=\"translate(142.840703 269.481719)rotate(-90)scale(0.11 -0.11)\">\r\n       <use xlink:href=\"#ArialMT-50\"/>\r\n       <use x=\"55.615234\" xlink:href=\"#ArialMT-48\"/>\r\n       <use x=\"111.230469\" xlink:href=\"#ArialMT-49\"/>\r\n       <use x=\"166.845703\" xlink:href=\"#ArialMT-56\"/>\r\n      </g>\r\n     </g>\r\n    </g>\r\n    <g id=\"xtick_5\">\r\n     <g id=\"line2d_5\">\r\n      <path clip-path=\"url(#pa37a97f46a)\" d=\"M 173.477031 235.513594 \r\nL 173.477031 18.073594 \r\n\" style=\"fill:none;stroke:#cccccc;stroke-linecap:round;\"/>\r\n     </g>\r\n     <g id=\"text_5\">\r\n      <!-- 2017 -->\r\n      <g style=\"fill:#262626;\" transform=\"translate(176.320703 269.481719)rotate(-90)scale(0.11 -0.11)\">\r\n       <defs>\r\n        <path d=\"M 4.734375 62.203125 \r\nL 4.734375 70.65625 \r\nL 51.078125 70.65625 \r\nL 51.078125 63.8125 \r\nQ 44.234375 56.546875 37.515625 44.484375 \r\nQ 30.8125 32.421875 27.15625 19.671875 \r\nQ 24.515625 10.6875 23.78125 0 \r\nL 14.75 0 \r\nQ 14.890625 8.453125 18.0625 20.40625 \r\nQ 21.234375 32.375 27.171875 43.484375 \r\nQ 33.109375 54.59375 39.796875 62.203125 \r\nz\r\n\" id=\"ArialMT-55\"/>\r\n       </defs>\r\n       <use xlink:href=\"#ArialMT-50\"/>\r\n       <use x=\"55.615234\" xlink:href=\"#ArialMT-48\"/>\r\n       <use x=\"111.230469\" xlink:href=\"#ArialMT-49\"/>\r\n       <use x=\"166.845703\" xlink:href=\"#ArialMT-55\"/>\r\n      </g>\r\n     </g>\r\n    </g>\r\n    <g id=\"xtick_6\">\r\n     <g id=\"line2d_6\">\r\n      <path clip-path=\"url(#pa37a97f46a)\" d=\"M 206.957031 235.513594 \r\nL 206.957031 18.073594 \r\n\" style=\"fill:none;stroke:#cccccc;stroke-linecap:round;\"/>\r\n     </g>\r\n     <g id=\"text_6\">\r\n      <!-- 2017 -->\r\n      <g style=\"fill:#262626;\" transform=\"translate(209.800703 269.481719)rotate(-90)scale(0.11 -0.11)\">\r\n       <use xlink:href=\"#ArialMT-50\"/>\r\n       <use x=\"55.615234\" xlink:href=\"#ArialMT-48\"/>\r\n       <use x=\"111.230469\" xlink:href=\"#ArialMT-49\"/>\r\n       <use x=\"166.845703\" xlink:href=\"#ArialMT-55\"/>\r\n      </g>\r\n     </g>\r\n    </g>\r\n    <g id=\"xtick_7\">\r\n     <g id=\"line2d_7\">\r\n      <path clip-path=\"url(#pa37a97f46a)\" d=\"M 240.437031 235.513594 \r\nL 240.437031 18.073594 \r\n\" style=\"fill:none;stroke:#cccccc;stroke-linecap:round;\"/>\r\n     </g>\r\n     <g id=\"text_7\">\r\n      <!-- 2016 -->\r\n      <g style=\"fill:#262626;\" transform=\"translate(243.280703 269.481719)rotate(-90)scale(0.11 -0.11)\">\r\n       <defs>\r\n        <path d=\"M 49.75 54.046875 \r\nL 41.015625 53.375 \r\nQ 39.84375 58.546875 37.703125 60.890625 \r\nQ 34.125 64.65625 28.90625 64.65625 \r\nQ 24.703125 64.65625 21.53125 62.3125 \r\nQ 17.390625 59.28125 14.984375 53.46875 \r\nQ 12.59375 47.65625 12.5 36.921875 \r\nQ 15.671875 41.75 20.265625 44.09375 \r\nQ 24.859375 46.4375 29.890625 46.4375 \r\nQ 38.671875 46.4375 44.84375 39.96875 \r\nQ 51.03125 33.5 51.03125 23.25 \r\nQ 51.03125 16.5 48.125 10.71875 \r\nQ 45.21875 4.9375 40.140625 1.859375 \r\nQ 35.0625 -1.21875 28.609375 -1.21875 \r\nQ 17.625 -1.21875 10.6875 6.859375 \r\nQ 3.765625 14.9375 3.765625 33.5 \r\nQ 3.765625 54.25 11.421875 63.671875 \r\nQ 18.109375 71.875 29.4375 71.875 \r\nQ 37.890625 71.875 43.28125 67.140625 \r\nQ 48.6875 62.40625 49.75 54.046875 \r\nz\r\nM 13.875 23.1875 \r\nQ 13.875 18.65625 15.796875 14.5 \r\nQ 17.71875 10.359375 21.1875 8.171875 \r\nQ 24.65625 6 28.46875 6 \r\nQ 34.03125 6 38.03125 10.484375 \r\nQ 42.046875 14.984375 42.046875 22.703125 \r\nQ 42.046875 30.125 38.078125 34.390625 \r\nQ 34.125 38.671875 28.125 38.671875 \r\nQ 22.171875 38.671875 18.015625 34.390625 \r\nQ 13.875 30.125 13.875 23.1875 \r\nz\r\n\" id=\"ArialMT-54\"/>\r\n       </defs>\r\n       <use xlink:href=\"#ArialMT-50\"/>\r\n       <use x=\"55.615234\" xlink:href=\"#ArialMT-48\"/>\r\n       <use x=\"111.230469\" xlink:href=\"#ArialMT-49\"/>\r\n       <use x=\"166.845703\" xlink:href=\"#ArialMT-54\"/>\r\n      </g>\r\n     </g>\r\n    </g>\r\n    <g id=\"xtick_8\">\r\n     <g id=\"line2d_8\">\r\n      <path clip-path=\"url(#pa37a97f46a)\" d=\"M 273.917031 235.513594 \r\nL 273.917031 18.073594 \r\n\" style=\"fill:none;stroke:#cccccc;stroke-linecap:round;\"/>\r\n     </g>\r\n     <g id=\"text_8\">\r\n      <!-- 2016 -->\r\n      <g style=\"fill:#262626;\" transform=\"translate(276.760703 269.481719)rotate(-90)scale(0.11 -0.11)\">\r\n       <use xlink:href=\"#ArialMT-50\"/>\r\n       <use x=\"55.615234\" xlink:href=\"#ArialMT-48\"/>\r\n       <use x=\"111.230469\" xlink:href=\"#ArialMT-49\"/>\r\n       <use x=\"166.845703\" xlink:href=\"#ArialMT-54\"/>\r\n      </g>\r\n     </g>\r\n    </g>\r\n    <g id=\"xtick_9\">\r\n     <g id=\"line2d_9\">\r\n      <path clip-path=\"url(#pa37a97f46a)\" d=\"M 307.397031 235.513594 \r\nL 307.397031 18.073594 \r\n\" style=\"fill:none;stroke:#cccccc;stroke-linecap:round;\"/>\r\n     </g>\r\n     <g id=\"text_9\">\r\n      <!-- 2015 -->\r\n      <g style=\"fill:#262626;\" transform=\"translate(310.240703 269.481719)rotate(-90)scale(0.11 -0.11)\">\r\n       <defs>\r\n        <path d=\"M 4.15625 18.75 \r\nL 13.375 19.53125 \r\nQ 14.40625 12.796875 18.140625 9.390625 \r\nQ 21.875 6 27.15625 6 \r\nQ 33.5 6 37.890625 10.78125 \r\nQ 42.28125 15.578125 42.28125 23.484375 \r\nQ 42.28125 31 38.0625 35.34375 \r\nQ 33.84375 39.703125 27 39.703125 \r\nQ 22.75 39.703125 19.328125 37.765625 \r\nQ 15.921875 35.84375 13.96875 32.765625 \r\nL 5.71875 33.84375 \r\nL 12.640625 70.609375 \r\nL 48.25 70.609375 \r\nL 48.25 62.203125 \r\nL 19.671875 62.203125 \r\nL 15.828125 42.96875 \r\nQ 22.265625 47.46875 29.34375 47.46875 \r\nQ 38.71875 47.46875 45.15625 40.96875 \r\nQ 51.609375 34.46875 51.609375 24.265625 \r\nQ 51.609375 14.546875 45.953125 7.46875 \r\nQ 39.0625 -1.21875 27.15625 -1.21875 \r\nQ 17.390625 -1.21875 11.203125 4.25 \r\nQ 5.03125 9.71875 4.15625 18.75 \r\nz\r\n\" id=\"ArialMT-53\"/>\r\n       </defs>\r\n       <use xlink:href=\"#ArialMT-50\"/>\r\n       <use x=\"55.615234\" xlink:href=\"#ArialMT-48\"/>\r\n       <use x=\"111.230469\" xlink:href=\"#ArialMT-49\"/>\r\n       <use x=\"166.845703\" xlink:href=\"#ArialMT-53\"/>\r\n      </g>\r\n     </g>\r\n    </g>\r\n    <g id=\"xtick_10\">\r\n     <g id=\"line2d_10\">\r\n      <path clip-path=\"url(#pa37a97f46a)\" d=\"M 340.877031 235.513594 \r\nL 340.877031 18.073594 \r\n\" style=\"fill:none;stroke:#cccccc;stroke-linecap:round;\"/>\r\n     </g>\r\n     <g id=\"text_10\">\r\n      <!-- 2015 -->\r\n      <g style=\"fill:#262626;\" transform=\"translate(343.720703 269.481719)rotate(-90)scale(0.11 -0.11)\">\r\n       <use xlink:href=\"#ArialMT-50\"/>\r\n       <use x=\"55.615234\" xlink:href=\"#ArialMT-48\"/>\r\n       <use x=\"111.230469\" xlink:href=\"#ArialMT-49\"/>\r\n       <use x=\"166.845703\" xlink:href=\"#ArialMT-53\"/>\r\n      </g>\r\n     </g>\r\n    </g>\r\n    <g id=\"text_11\">\r\n     <!-- NU_ANO -->\r\n     <g style=\"fill:#262626;\" transform=\"translate(165.212031 282.224844)scale(0.12 -0.12)\">\r\n      <defs>\r\n       <path d=\"M 7.625 0 \r\nL 7.625 71.578125 \r\nL 17.328125 71.578125 \r\nL 54.9375 15.375 \r\nL 54.9375 71.578125 \r\nL 64.015625 71.578125 \r\nL 64.015625 0 \r\nL 54.296875 0 \r\nL 16.703125 56.25 \r\nL 16.703125 0 \r\nz\r\n\" id=\"ArialMT-78\"/>\r\n       <path d=\"M 54.6875 71.578125 \r\nL 64.15625 71.578125 \r\nL 64.15625 30.21875 \r\nQ 64.15625 19.4375 61.71875 13.078125 \r\nQ 59.28125 6.734375 52.90625 2.75 \r\nQ 46.53125 -1.21875 36.1875 -1.21875 \r\nQ 26.125 -1.21875 19.71875 2.25 \r\nQ 13.328125 5.71875 10.59375 12.28125 \r\nQ 7.859375 18.84375 7.859375 30.21875 \r\nL 7.859375 71.578125 \r\nL 17.328125 71.578125 \r\nL 17.328125 30.28125 \r\nQ 17.328125 20.953125 19.0625 16.53125 \r\nQ 20.796875 12.109375 25.015625 9.71875 \r\nQ 29.25 7.328125 35.359375 7.328125 \r\nQ 45.796875 7.328125 50.234375 12.0625 \r\nQ 54.6875 16.796875 54.6875 30.28125 \r\nz\r\n\" id=\"ArialMT-85\"/>\r\n       <path d=\"M -1.515625 -19.875 \r\nL -1.515625 -13.53125 \r\nL 56.734375 -13.53125 \r\nL 56.734375 -19.875 \r\nz\r\n\" id=\"ArialMT-95\"/>\r\n       <path d=\"M -0.140625 0 \r\nL 27.34375 71.578125 \r\nL 37.546875 71.578125 \r\nL 66.84375 0 \r\nL 56.0625 0 \r\nL 47.703125 21.6875 \r\nL 17.78125 21.6875 \r\nL 9.90625 0 \r\nz\r\nM 20.515625 29.390625 \r\nL 44.78125 29.390625 \r\nL 37.3125 49.21875 \r\nQ 33.890625 58.25 32.234375 64.0625 \r\nQ 30.859375 57.171875 28.375 50.390625 \r\nz\r\n\" id=\"ArialMT-65\"/>\r\n       <path d=\"M 4.828125 34.859375 \r\nQ 4.828125 52.6875 14.390625 62.765625 \r\nQ 23.96875 72.859375 39.109375 72.859375 \r\nQ 49.03125 72.859375 56.984375 68.109375 \r\nQ 64.9375 63.375 69.109375 54.90625 \r\nQ 73.296875 46.4375 73.296875 35.6875 \r\nQ 73.296875 24.8125 68.890625 16.21875 \r\nQ 64.5 7.625 56.4375 3.203125 \r\nQ 48.390625 -1.21875 39.0625 -1.21875 \r\nQ 28.953125 -1.21875 20.984375 3.65625 \r\nQ 13.03125 8.546875 8.921875 16.984375 \r\nQ 4.828125 25.4375 4.828125 34.859375 \r\nz\r\nM 14.59375 34.71875 \r\nQ 14.59375 21.78125 21.546875 14.328125 \r\nQ 28.515625 6.890625 39.015625 6.890625 \r\nQ 49.703125 6.890625 56.609375 14.40625 \r\nQ 63.53125 21.921875 63.53125 35.75 \r\nQ 63.53125 44.484375 60.578125 51 \r\nQ 57.625 57.515625 51.921875 61.109375 \r\nQ 46.234375 64.703125 39.15625 64.703125 \r\nQ 29.109375 64.703125 21.84375 57.78125 \r\nQ 14.59375 50.875 14.59375 34.71875 \r\nz\r\n\" id=\"ArialMT-79\"/>\r\n      </defs>\r\n      <use xlink:href=\"#ArialMT-78\"/>\r\n      <use x=\"72.216797\" xlink:href=\"#ArialMT-85\"/>\r\n      <use x=\"144.433594\" xlink:href=\"#ArialMT-95\"/>\r\n      <use x=\"200.048828\" xlink:href=\"#ArialMT-65\"/>\r\n      <use x=\"266.748047\" xlink:href=\"#ArialMT-78\"/>\r\n      <use x=\"338.964844\" xlink:href=\"#ArialMT-79\"/>\r\n     </g>\r\n    </g>\r\n   </g>\r\n   <g id=\"matplotlib.axis_2\">\r\n    <g id=\"ytick_1\">\r\n     <g id=\"line2d_11\">\r\n      <path clip-path=\"url(#pa37a97f46a)\" d=\"M 22.817031 235.513594 \r\nL 357.617031 235.513594 \r\n\" style=\"fill:none;stroke:#cccccc;stroke-linecap:round;\"/>\r\n     </g>\r\n     <g id=\"text_12\">\r\n      <!-- 0 -->\r\n      <g style=\"fill:#262626;\" transform=\"translate(7.2 239.450391)scale(0.11 -0.11)\">\r\n       <use xlink:href=\"#ArialMT-48\"/>\r\n      </g>\r\n     </g>\r\n    </g>\r\n    <g id=\"ytick_2\">\r\n     <g id=\"line2d_12\">\r\n      <path clip-path=\"url(#pa37a97f46a)\" d=\"M 22.817031 193.952141 \r\nL 357.617031 193.952141 \r\n\" style=\"fill:none;stroke:#cccccc;stroke-linecap:round;\"/>\r\n     </g>\r\n     <g id=\"text_13\">\r\n      <!-- 1 -->\r\n      <g style=\"fill:#262626;\" transform=\"translate(7.2 197.888938)scale(0.11 -0.11)\">\r\n       <use xlink:href=\"#ArialMT-49\"/>\r\n      </g>\r\n     </g>\r\n    </g>\r\n    <g id=\"ytick_3\">\r\n     <g id=\"line2d_13\">\r\n      <path clip-path=\"url(#pa37a97f46a)\" d=\"M 22.817031 152.390689 \r\nL 357.617031 152.390689 \r\n\" style=\"fill:none;stroke:#cccccc;stroke-linecap:round;\"/>\r\n     </g>\r\n     <g id=\"text_14\">\r\n      <!-- 2 -->\r\n      <g style=\"fill:#262626;\" transform=\"translate(7.2 156.327486)scale(0.11 -0.11)\">\r\n       <use xlink:href=\"#ArialMT-50\"/>\r\n      </g>\r\n     </g>\r\n    </g>\r\n    <g id=\"ytick_4\">\r\n     <g id=\"line2d_14\">\r\n      <path clip-path=\"url(#pa37a97f46a)\" d=\"M 22.817031 110.829236 \r\nL 357.617031 110.829236 \r\n\" style=\"fill:none;stroke:#cccccc;stroke-linecap:round;\"/>\r\n     </g>\r\n     <g id=\"text_15\">\r\n      <!-- 3 -->\r\n      <g style=\"fill:#262626;\" transform=\"translate(7.2 114.766033)scale(0.11 -0.11)\">\r\n       <defs>\r\n        <path d=\"M 4.203125 18.890625 \r\nL 12.984375 20.0625 \r\nQ 14.5 12.59375 18.140625 9.296875 \r\nQ 21.78125 6 27 6 \r\nQ 33.203125 6 37.46875 10.296875 \r\nQ 41.75 14.59375 41.75 20.953125 \r\nQ 41.75 27 37.796875 30.921875 \r\nQ 33.84375 34.859375 27.734375 34.859375 \r\nQ 25.25 34.859375 21.53125 33.890625 \r\nL 22.515625 41.609375 \r\nQ 23.390625 41.5 23.921875 41.5 \r\nQ 29.546875 41.5 34.03125 44.421875 \r\nQ 38.53125 47.359375 38.53125 53.46875 \r\nQ 38.53125 58.296875 35.25 61.46875 \r\nQ 31.984375 64.65625 26.8125 64.65625 \r\nQ 21.6875 64.65625 18.265625 61.421875 \r\nQ 14.84375 58.203125 13.875 51.765625 \r\nL 5.078125 53.328125 \r\nQ 6.6875 62.15625 12.390625 67.015625 \r\nQ 18.109375 71.875 26.609375 71.875 \r\nQ 32.46875 71.875 37.390625 69.359375 \r\nQ 42.328125 66.84375 44.9375 62.5 \r\nQ 47.5625 58.15625 47.5625 53.265625 \r\nQ 47.5625 48.640625 45.0625 44.828125 \r\nQ 42.578125 41.015625 37.703125 38.765625 \r\nQ 44.046875 37.3125 47.5625 32.6875 \r\nQ 51.078125 28.078125 51.078125 21.140625 \r\nQ 51.078125 11.765625 44.234375 5.25 \r\nQ 37.40625 -1.265625 26.953125 -1.265625 \r\nQ 17.53125 -1.265625 11.296875 4.34375 \r\nQ 5.078125 9.96875 4.203125 18.890625 \r\nz\r\n\" id=\"ArialMT-51\"/>\r\n       </defs>\r\n       <use xlink:href=\"#ArialMT-51\"/>\r\n      </g>\r\n     </g>\r\n    </g>\r\n    <g id=\"ytick_5\">\r\n     <g id=\"line2d_15\">\r\n      <path clip-path=\"url(#pa37a97f46a)\" d=\"M 22.817031 69.267784 \r\nL 357.617031 69.267784 \r\n\" style=\"fill:none;stroke:#cccccc;stroke-linecap:round;\"/>\r\n     </g>\r\n     <g id=\"text_16\">\r\n      <!-- 4 -->\r\n      <g style=\"fill:#262626;\" transform=\"translate(7.2 73.20458)scale(0.11 -0.11)\">\r\n       <defs>\r\n        <path d=\"M 32.328125 0 \r\nL 32.328125 17.140625 \r\nL 1.265625 17.140625 \r\nL 1.265625 25.203125 \r\nL 33.9375 71.578125 \r\nL 41.109375 71.578125 \r\nL 41.109375 25.203125 \r\nL 50.78125 25.203125 \r\nL 50.78125 17.140625 \r\nL 41.109375 17.140625 \r\nL 41.109375 0 \r\nz\r\nM 32.328125 25.203125 \r\nL 32.328125 57.46875 \r\nL 9.90625 25.203125 \r\nz\r\n\" id=\"ArialMT-52\"/>\r\n       </defs>\r\n       <use xlink:href=\"#ArialMT-52\"/>\r\n      </g>\r\n     </g>\r\n    </g>\r\n    <g id=\"ytick_6\">\r\n     <g id=\"line2d_16\">\r\n      <path clip-path=\"url(#pa37a97f46a)\" d=\"M 22.817031 27.706331 \r\nL 357.617031 27.706331 \r\n\" style=\"fill:none;stroke:#cccccc;stroke-linecap:round;\"/>\r\n     </g>\r\n     <g id=\"text_17\">\r\n      <!-- 5 -->\r\n      <g style=\"fill:#262626;\" transform=\"translate(7.2 31.643128)scale(0.11 -0.11)\">\r\n       <use xlink:href=\"#ArialMT-53\"/>\r\n      </g>\r\n     </g>\r\n    </g>\r\n    <g id=\"text_18\">\r\n     <!-- 1e6 -->\r\n     <g style=\"fill:#262626;\" transform=\"translate(22.817031 15.073594)scale(0.11 -0.11)\">\r\n      <defs>\r\n       <path d=\"M 42.09375 16.703125 \r\nL 51.171875 15.578125 \r\nQ 49.03125 7.625 43.21875 3.21875 \r\nQ 37.40625 -1.171875 28.375 -1.171875 \r\nQ 17 -1.171875 10.328125 5.828125 \r\nQ 3.65625 12.84375 3.65625 25.484375 \r\nQ 3.65625 38.578125 10.390625 45.796875 \r\nQ 17.140625 53.03125 27.875 53.03125 \r\nQ 38.28125 53.03125 44.875 45.953125 \r\nQ 51.46875 38.875 51.46875 26.03125 \r\nQ 51.46875 25.25 51.421875 23.6875 \r\nL 12.75 23.6875 \r\nQ 13.234375 15.140625 17.578125 10.59375 \r\nQ 21.921875 6.0625 28.421875 6.0625 \r\nQ 33.25 6.0625 36.671875 8.59375 \r\nQ 40.09375 11.140625 42.09375 16.703125 \r\nz\r\nM 13.234375 30.90625 \r\nL 42.1875 30.90625 \r\nQ 41.609375 37.453125 38.875 40.71875 \r\nQ 34.671875 45.796875 27.984375 45.796875 \r\nQ 21.921875 45.796875 17.796875 41.75 \r\nQ 13.671875 37.703125 13.234375 30.90625 \r\nz\r\n\" id=\"ArialMT-101\"/>\r\n      </defs>\r\n      <use xlink:href=\"#ArialMT-49\"/>\r\n      <use x=\"55.615234\" xlink:href=\"#ArialMT-101\"/>\r\n      <use x=\"111.230469\" xlink:href=\"#ArialMT-54\"/>\r\n     </g>\r\n    </g>\r\n   </g>\r\n   <g id=\"patch_3\">\r\n    <path clip-path=\"url(#pa37a97f46a)\" d=\"M 31.187031 235.513594 \r\nL 47.927031 235.513594 \r\nL 47.927031 109.506668 \r\nL 31.187031 109.506668 \r\nz\r\n\" style=\"fill:#4c72b0;stroke:#ffffff;stroke-linejoin:miter;\"/>\r\n   </g>\r\n   <g id=\"patch_4\">\r\n    <path clip-path=\"url(#pa37a97f46a)\" d=\"M 64.667031 235.513594 \r\nL 81.407031 235.513594 \r\nL 81.407031 149.753698 \r\nL 64.667031 149.753698 \r\nz\r\n\" style=\"fill:#4c72b0;stroke:#ffffff;stroke-linejoin:miter;\"/>\r\n   </g>\r\n   <g id=\"patch_5\">\r\n    <path clip-path=\"url(#pa37a97f46a)\" d=\"M 98.147031 235.513594 \r\nL 114.887031 235.513594 \r\nL 114.887031 100.118725 \r\nL 98.147031 100.118725 \r\nz\r\n\" style=\"fill:#4c72b0;stroke:#ffffff;stroke-linejoin:miter;\"/>\r\n   </g>\r\n   <g id=\"patch_6\">\r\n    <path clip-path=\"url(#pa37a97f46a)\" d=\"M 131.627031 235.513594 \r\nL 148.367031 235.513594 \r\nL 148.367031 141.749128 \r\nL 131.627031 141.749128 \r\nz\r\n\" style=\"fill:#4c72b0;stroke:#ffffff;stroke-linejoin:miter;\"/>\r\n   </g>\r\n   <g id=\"patch_7\">\r\n    <path clip-path=\"url(#pa37a97f46a)\" d=\"M 165.107031 235.513594 \r\nL 181.847031 235.513594 \r\nL 181.847031 71.480682 \r\nL 165.107031 71.480682 \r\nz\r\n\" style=\"fill:#4c72b0;stroke:#ffffff;stroke-linejoin:miter;\"/>\r\n   </g>\r\n   <g id=\"patch_8\">\r\n    <path clip-path=\"url(#pa37a97f46a)\" d=\"M 198.587031 235.513594 \r\nL 215.327031 235.513594 \r\nL 215.327031 119.782196 \r\nL 198.587031 119.782196 \r\nz\r\n\" style=\"fill:#4c72b0;stroke:#ffffff;stroke-linejoin:miter;\"/>\r\n   </g>\r\n   <g id=\"patch_9\">\r\n    <path clip-path=\"url(#pa37a97f46a)\" d=\"M 232.067031 235.513594 \r\nL 248.807031 235.513594 \r\nL 248.807031 28.427879 \r\nL 232.067031 28.427879 \r\nz\r\n\" style=\"fill:#4c72b0;stroke:#ffffff;stroke-linejoin:miter;\"/>\r\n   </g>\r\n   <g id=\"patch_10\">\r\n    <path clip-path=\"url(#pa37a97f46a)\" d=\"M 265.547031 235.513594 \r\nL 282.287031 235.513594 \r\nL 282.287031 84.033404 \r\nL 265.547031 84.033404 \r\nz\r\n\" style=\"fill:#4c72b0;stroke:#ffffff;stroke-linejoin:miter;\"/>\r\n   </g>\r\n   <g id=\"patch_11\">\r\n    <path clip-path=\"url(#pa37a97f46a)\" d=\"M 299.027031 235.513594 \r\nL 315.767031 235.513594 \r\nL 315.767031 50.130896 \r\nL 299.027031 50.130896 \r\nz\r\n\" style=\"fill:#4c72b0;stroke:#ffffff;stroke-linejoin:miter;\"/>\r\n   </g>\r\n   <g id=\"patch_12\">\r\n    <path clip-path=\"url(#pa37a97f46a)\" d=\"M 332.507031 235.513594 \r\nL 349.247031 235.513594 \r\nL 349.247031 98.943534 \r\nL 332.507031 98.943534 \r\nz\r\n\" style=\"fill:#4c72b0;stroke:#ffffff;stroke-linejoin:miter;\"/>\r\n   </g>\r\n   <g id=\"patch_13\">\r\n    <path d=\"M 22.817031 235.513594 \r\nL 22.817031 18.073594 \r\n\" style=\"fill:none;stroke:#cccccc;stroke-linecap:square;stroke-linejoin:miter;stroke-width:1.25;\"/>\r\n   </g>\r\n   <g id=\"patch_14\">\r\n    <path d=\"M 357.617031 235.513594 \r\nL 357.617031 18.073594 \r\n\" style=\"fill:none;stroke:#cccccc;stroke-linecap:square;stroke-linejoin:miter;stroke-width:1.25;\"/>\r\n   </g>\r\n   <g id=\"patch_15\">\r\n    <path d=\"M 22.817031 235.513594 \r\nL 357.617031 235.513594 \r\n\" style=\"fill:none;stroke:#cccccc;stroke-linecap:square;stroke-linejoin:miter;stroke-width:1.25;\"/>\r\n   </g>\r\n   <g id=\"patch_16\">\r\n    <path d=\"M 22.817031 18.073594 \r\nL 357.617031 18.073594 \r\n\" style=\"fill:none;stroke:#cccccc;stroke-linecap:square;stroke-linejoin:miter;stroke-width:1.25;\"/>\r\n   </g>\r\n   <g id=\"legend_1\">\r\n    <g id=\"patch_17\">\r\n     <path d=\"M 30.517031 42.574375 \r\nL 163.50875 42.574375 \r\nQ 165.70875 42.574375 165.70875 40.374375 \r\nL 165.70875 25.773594 \r\nQ 165.70875 23.573594 163.50875 23.573594 \r\nL 30.517031 23.573594 \r\nQ 28.317031 23.573594 28.317031 25.773594 \r\nL 28.317031 40.374375 \r\nQ 28.317031 42.574375 30.517031 42.574375 \r\nz\r\n\" style=\"fill:#ffffff;opacity:0.8;stroke:#cccccc;stroke-linejoin:miter;\"/>\r\n    </g>\r\n    <g id=\"patch_18\">\r\n     <path d=\"M 32.717031 35.988125 \r\nL 54.717031 35.988125 \r\nL 54.717031 28.288125 \r\nL 32.717031 28.288125 \r\nz\r\n\" style=\"fill:#4c72b0;stroke:#ffffff;stroke-linejoin:miter;\"/>\r\n    </g>\r\n    <g id=\"text_19\">\r\n     <!-- QTDE_INSCRICAO -->\r\n     <g style=\"fill:#262626;\" transform=\"translate(63.517031 35.988125)scale(0.11 -0.11)\">\r\n      <defs>\r\n       <path d=\"M 61.96875 7.671875 \r\nQ 68.5625 3.125 74.125 1.03125 \r\nL 71.34375 -5.5625 \r\nQ 63.625 -2.78125 55.953125 3.21875 \r\nQ 48 -1.21875 38.375 -1.21875 \r\nQ 28.65625 -1.21875 20.75 3.46875 \r\nQ 12.84375 8.15625 8.5625 16.640625 \r\nQ 4.296875 25.140625 4.296875 35.796875 \r\nQ 4.296875 46.390625 8.59375 55.078125 \r\nQ 12.890625 63.765625 20.828125 68.3125 \r\nQ 28.765625 72.859375 38.578125 72.859375 \r\nQ 48.484375 72.859375 56.4375 68.140625 \r\nQ 64.40625 63.421875 68.578125 54.953125 \r\nQ 72.75 46.484375 72.75 35.84375 \r\nQ 72.75 27 70.0625 19.9375 \r\nQ 67.390625 12.890625 61.96875 7.671875 \r\nz\r\nM 41.109375 19.78125 \r\nQ 49.3125 17.484375 54.640625 12.9375 \r\nQ 62.984375 20.5625 62.984375 35.84375 \r\nQ 62.984375 44.53125 60.03125 51.015625 \r\nQ 57.078125 57.515625 51.390625 61.109375 \r\nQ 45.703125 64.703125 38.625 64.703125 \r\nQ 28.03125 64.703125 21.046875 57.453125 \r\nQ 14.0625 50.203125 14.0625 35.796875 \r\nQ 14.0625 21.828125 20.96875 14.359375 \r\nQ 27.875 6.890625 38.625 6.890625 \r\nQ 43.703125 6.890625 48.1875 8.796875 \r\nQ 43.75 11.671875 38.8125 12.890625 \r\nz\r\n\" id=\"ArialMT-81\"/>\r\n       <path d=\"M 25.921875 0 \r\nL 25.921875 63.140625 \r\nL 2.34375 63.140625 \r\nL 2.34375 71.578125 \r\nL 59.078125 71.578125 \r\nL 59.078125 63.140625 \r\nL 35.40625 63.140625 \r\nL 35.40625 0 \r\nz\r\n\" id=\"ArialMT-84\"/>\r\n       <path d=\"M 7.71875 0 \r\nL 7.71875 71.578125 \r\nL 32.375 71.578125 \r\nQ 40.71875 71.578125 45.125 70.5625 \r\nQ 51.265625 69.140625 55.609375 65.4375 \r\nQ 61.28125 60.640625 64.078125 53.1875 \r\nQ 66.890625 45.75 66.890625 36.1875 \r\nQ 66.890625 28.03125 64.984375 21.734375 \r\nQ 63.09375 15.4375 60.109375 11.296875 \r\nQ 57.125 7.171875 53.578125 4.796875 \r\nQ 50.046875 2.4375 45.046875 1.21875 \r\nQ 40.046875 0 33.546875 0 \r\nz\r\nM 17.1875 8.453125 \r\nL 32.46875 8.453125 \r\nQ 39.546875 8.453125 43.578125 9.765625 \r\nQ 47.609375 11.078125 50 13.484375 \r\nQ 53.375 16.84375 55.25 22.53125 \r\nQ 57.125 28.21875 57.125 36.328125 \r\nQ 57.125 47.5625 53.4375 53.59375 \r\nQ 49.75 59.625 44.484375 61.671875 \r\nQ 40.671875 63.140625 32.234375 63.140625 \r\nL 17.1875 63.140625 \r\nz\r\n\" id=\"ArialMT-68\"/>\r\n       <path d=\"M 7.90625 0 \r\nL 7.90625 71.578125 \r\nL 59.671875 71.578125 \r\nL 59.671875 63.140625 \r\nL 17.390625 63.140625 \r\nL 17.390625 41.21875 \r\nL 56.984375 41.21875 \r\nL 56.984375 32.8125 \r\nL 17.390625 32.8125 \r\nL 17.390625 8.453125 \r\nL 61.328125 8.453125 \r\nL 61.328125 0 \r\nz\r\n\" id=\"ArialMT-69\"/>\r\n       <path d=\"M 9.328125 0 \r\nL 9.328125 71.578125 \r\nL 18.796875 71.578125 \r\nL 18.796875 0 \r\nz\r\n\" id=\"ArialMT-73\"/>\r\n       <path d=\"M 4.5 23 \r\nL 13.421875 23.78125 \r\nQ 14.0625 18.40625 16.375 14.96875 \r\nQ 18.703125 11.53125 23.578125 9.40625 \r\nQ 28.46875 7.28125 34.578125 7.28125 \r\nQ 39.984375 7.28125 44.140625 8.890625 \r\nQ 48.296875 10.5 50.3125 13.296875 \r\nQ 52.34375 16.109375 52.34375 19.4375 \r\nQ 52.34375 22.796875 50.390625 25.3125 \r\nQ 48.4375 27.828125 43.953125 29.546875 \r\nQ 41.0625 30.671875 31.203125 33.03125 \r\nQ 21.34375 35.40625 17.390625 37.5 \r\nQ 12.25 40.1875 9.734375 44.15625 \r\nQ 7.234375 48.140625 7.234375 53.078125 \r\nQ 7.234375 58.5 10.296875 63.203125 \r\nQ 13.375 67.921875 19.28125 70.359375 \r\nQ 25.203125 72.796875 32.421875 72.796875 \r\nQ 40.375 72.796875 46.453125 70.234375 \r\nQ 52.546875 67.671875 55.8125 62.6875 \r\nQ 59.078125 57.71875 59.328125 51.421875 \r\nL 50.25 50.734375 \r\nQ 49.515625 57.515625 45.28125 60.984375 \r\nQ 41.0625 64.453125 32.8125 64.453125 \r\nQ 24.21875 64.453125 20.28125 61.296875 \r\nQ 16.359375 58.15625 16.359375 53.71875 \r\nQ 16.359375 49.859375 19.140625 47.359375 \r\nQ 21.875 44.875 33.421875 42.265625 \r\nQ 44.96875 39.65625 49.265625 37.703125 \r\nQ 55.515625 34.8125 58.484375 30.390625 \r\nQ 61.46875 25.984375 61.46875 20.21875 \r\nQ 61.46875 14.5 58.203125 9.4375 \r\nQ 54.9375 4.390625 48.796875 1.578125 \r\nQ 42.671875 -1.21875 35.015625 -1.21875 \r\nQ 25.296875 -1.21875 18.71875 1.609375 \r\nQ 12.15625 4.4375 8.421875 10.125 \r\nQ 4.6875 15.828125 4.5 23 \r\nz\r\n\" id=\"ArialMT-83\"/>\r\n       <path d=\"M 58.796875 25.09375 \r\nL 68.265625 22.703125 \r\nQ 65.28125 11.03125 57.546875 4.90625 \r\nQ 49.8125 -1.21875 38.625 -1.21875 \r\nQ 27.046875 -1.21875 19.796875 3.484375 \r\nQ 12.546875 8.203125 8.765625 17.140625 \r\nQ 4.984375 26.078125 4.984375 36.328125 \r\nQ 4.984375 47.515625 9.25 55.828125 \r\nQ 13.53125 64.15625 21.40625 68.46875 \r\nQ 29.296875 72.796875 38.765625 72.796875 \r\nQ 49.515625 72.796875 56.828125 67.328125 \r\nQ 64.15625 61.859375 67.046875 51.953125 \r\nL 57.71875 49.75 \r\nQ 55.21875 57.5625 50.484375 61.125 \r\nQ 45.75 64.703125 38.578125 64.703125 \r\nQ 30.328125 64.703125 24.78125 60.734375 \r\nQ 19.234375 56.78125 16.984375 50.109375 \r\nQ 14.75 43.453125 14.75 36.375 \r\nQ 14.75 27.25 17.40625 20.4375 \r\nQ 20.0625 13.625 25.671875 10.25 \r\nQ 31.296875 6.890625 37.84375 6.890625 \r\nQ 45.796875 6.890625 51.3125 11.46875 \r\nQ 56.84375 16.0625 58.796875 25.09375 \r\nz\r\n\" id=\"ArialMT-67\"/>\r\n       <path d=\"M 7.859375 0 \r\nL 7.859375 71.578125 \r\nL 39.59375 71.578125 \r\nQ 49.171875 71.578125 54.140625 69.640625 \r\nQ 59.125 67.71875 62.109375 62.828125 \r\nQ 65.09375 57.953125 65.09375 52.046875 \r\nQ 65.09375 44.4375 60.15625 39.203125 \r\nQ 55.21875 33.984375 44.921875 32.5625 \r\nQ 48.6875 30.765625 50.640625 29 \r\nQ 54.78125 25.203125 58.5 19.484375 \r\nL 70.953125 0 \r\nL 59.03125 0 \r\nL 49.5625 14.890625 \r\nQ 45.40625 21.34375 42.71875 24.75 \r\nQ 40.046875 28.171875 37.921875 29.53125 \r\nQ 35.796875 30.90625 33.59375 31.453125 \r\nQ 31.984375 31.78125 28.328125 31.78125 \r\nL 17.328125 31.78125 \r\nL 17.328125 0 \r\nz\r\nM 17.328125 39.984375 \r\nL 37.703125 39.984375 \r\nQ 44.1875 39.984375 47.84375 41.328125 \r\nQ 51.515625 42.671875 53.421875 45.625 \r\nQ 55.328125 48.578125 55.328125 52.046875 \r\nQ 55.328125 57.125 51.640625 60.390625 \r\nQ 47.953125 63.671875 39.984375 63.671875 \r\nL 17.328125 63.671875 \r\nz\r\n\" id=\"ArialMT-82\"/>\r\n      </defs>\r\n      <use xlink:href=\"#ArialMT-81\"/>\r\n      <use x=\"77.783203\" xlink:href=\"#ArialMT-84\"/>\r\n      <use x=\"138.867188\" xlink:href=\"#ArialMT-68\"/>\r\n      <use x=\"211.083984\" xlink:href=\"#ArialMT-69\"/>\r\n      <use x=\"277.783203\" xlink:href=\"#ArialMT-95\"/>\r\n      <use x=\"333.398438\" xlink:href=\"#ArialMT-73\"/>\r\n      <use x=\"361.181641\" xlink:href=\"#ArialMT-78\"/>\r\n      <use x=\"433.398438\" xlink:href=\"#ArialMT-83\"/>\r\n      <use x=\"500.097656\" xlink:href=\"#ArialMT-67\"/>\r\n      <use x=\"572.314453\" xlink:href=\"#ArialMT-82\"/>\r\n      <use x=\"644.53125\" xlink:href=\"#ArialMT-73\"/>\r\n      <use x=\"672.314453\" xlink:href=\"#ArialMT-67\"/>\r\n      <use x=\"744.53125\" xlink:href=\"#ArialMT-65\"/>\r\n      <use x=\"811.230469\" xlink:href=\"#ArialMT-79\"/>\r\n     </g>\r\n    </g>\r\n   </g>\r\n  </g>\r\n </g>\r\n <defs>\r\n  <clipPath id=\"pa37a97f46a\">\r\n   <rect height=\"217.44\" width=\"334.8\" x=\"22.817031\" y=\"18.073594\"/>\r\n  </clipPath>\r\n </defs>\r\n</svg>\r\n",
      "image/png": "[encoded data removed]"
     },
     "metadata": {}
    }
   ],
   "source": [
    "df_grafico = df_enem_analise.groupBy('SEXO', 'NU_ANO').agg(count('NU_INSCRICAO').alias('QTDE_INSCRICAO')).orderBy('NU_ANO', 'QTDE_INSCRICAO', ascending = False).toPandas()\n",
    "df_grafico.plot(kind='bar', x='NU_ANO')"
   ]
  },
  {
   "cell_type": "code",
   "execution_count": null,
   "metadata": {},
   "outputs": [],
   "source": []
  }
 ]
}