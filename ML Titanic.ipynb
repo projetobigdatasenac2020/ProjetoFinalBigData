{
 "cells": [
  {
   "cell_type": "code",
   "execution_count": 5,
   "metadata": {},
   "outputs": [],
   "source": [
    "import random\n",
    "import numpy as np\n",
    "import pandas as pd\n",
    "#from sklearn import datasets, svm, cross_validation, tree, preprocessing, metrics\n",
    "#import sklearn.ensemble as ske\n",
    "#import tensorflow as tf\n",
    "#from tensorflow.contrib import skflow\n",
    "\n",
    "from pyspark import SparkContext\n",
    "sc = SparkContext()"
   ]
  },
  {
   "cell_type": "code",
   "execution_count": 6,
   "metadata": {},
   "outputs": [],
   "source": [
    "from pyspark.sql import SQLContext\n",
    "sqlContext = SQLContext(sc)"
   ]
  },
  {
   "cell_type": "code",
   "execution_count": 7,
   "metadata": {},
   "outputs": [],
   "source": [
    "from pyspark.sql.functions import explode"
   ]
  },
  {
   "cell_type": "code",
   "execution_count": 8,
   "metadata": {},
   "outputs": [],
   "source": [
    "from pyspark.sql import *"
   ]
  },
  {
   "cell_type": "code",
   "execution_count": 9,
   "metadata": {},
   "outputs": [],
   "source": [
    "from pyspark.sql.functions import col, asc"
   ]
  },
  {
   "cell_type": "markdown",
   "metadata": {},
   "source": [
    "IMPORTANDO DADOS DO NAVIO TITANIC"
   ]
  },
  {
   "cell_type": "code",
   "execution_count": 10,
   "metadata": {},
   "outputs": [],
   "source": [
    "df = sqlContext.read.format('com.databricks.spark.csv').options(header='true', sep=\";\", inferschema='true', encoding = 'ISO-8859-1').load('C:\\Projeto_Titanic/titanic.csv')"
   ]
  },
  {
   "cell_type": "code",
   "execution_count": 52,
   "metadata": {},
   "outputs": [
    {
     "name": "stdout",
     "output_type": "stream",
     "text": [
      "+------+--------+--------------------+------+------+-----+-----+--------+--------+-------+--------+----+----+--------------------+\n",
      "|pclass|survived|                name|   sex|   age|sibsp|parch|  ticket|    fare|  cabin|embarked|boat|body|           home.dest|\n",
      "+------+--------+--------------------+------+------+-----+-----+--------+--------+-------+--------+----+----+--------------------+\n",
      "|     1|       1|Allen, Miss. Elis...|female|    29|    0|    0|   24160|211,3375|     B5|       S|   2|null|        St Louis, MO|\n",
      "|     1|       1|Allison, Master. ...|  male|0,9167|    1|    2|  113781|151,5500|C22 C26|       S|  11|null|Montreal, PQ / Ch...|\n",
      "|     1|       0|Allison, Miss. He...|female|     2|    1|    2|  113781|151,5500|C22 C26|       S|null|null|Montreal, PQ / Ch...|\n",
      "|     1|       0|Allison, Mr. Huds...|  male|    30|    1|    2|  113781|151,5500|C22 C26|       S|null| 135|Montreal, PQ / Ch...|\n",
      "|     1|       0|Allison, Mrs. Hud...|female|    25|    1|    2|  113781|151,5500|C22 C26|       S|null|null|Montreal, PQ / Ch...|\n",
      "|     1|       1| Anderson, Mr. Harry|  male|    48|    0|    0|   19952| 26,5500|    E12|       S|   3|null|        New York, NY|\n",
      "|     1|       1|Andrews, Miss. Ko...|female|    63|    1|    0|   13502| 77,9583|     D7|       S|  10|null|          Hudson, NY|\n",
      "|     1|       0|Andrews, Mr. Thom...|  male|    39|    0|    0|  112050|  0,0000|    A36|       S|null|null|         Belfast, NI|\n",
      "|     1|       1|Appleton, Mrs. Ed...|female|    53|    2|    0|   11769| 51,4792|   C101|       S|   D|null| Bayside, Queens, NY|\n",
      "|     1|       0|Artagaveytia, Mr....|  male|    71|    0|    0|PC 17609| 49,5042|   null|       C|null|  22| Montevideo, Uruguay|\n",
      "+------+--------+--------------------+------+------+-----+-----+--------+--------+-------+--------+----+----+--------------------+\n",
      "only showing top 10 rows\n",
      "\n"
     ]
    }
   ],
   "source": [
    "df.show(10)"
   ]
  },
  {
   "cell_type": "markdown",
   "metadata": {},
   "source": [
    "QUANTIDADE DE PESSOAS A BORDO - 1309 <br >\n",
    "MÉDIA DE SOBREVIVENCIA - 38%"
   ]
  },
  {
   "cell_type": "code",
   "execution_count": 11,
   "metadata": {},
   "outputs": [
    {
     "name": "stdout",
     "output_type": "stream",
     "text": [
      "+-------+-------------------+\n",
      "|summary|           survived|\n",
      "+-------+-------------------+\n",
      "|  count|               1309|\n",
      "|   mean| 0.3819709702062643|\n",
      "| stddev|0.48605517086648325|\n",
      "|    min|                  0|\n",
      "|    max|                  1|\n",
      "+-------+-------------------+\n",
      "\n"
     ]
    }
   ],
   "source": [
    "df.describe('survived').show()"
   ]
  },
  {
   "cell_type": "markdown",
   "metadata": {},
   "source": [
    "QUANTIDADE DE SOBREVIVENTES NO NAVIO TITANIC"
   ]
  },
  {
   "cell_type": "code",
   "execution_count": 14,
   "metadata": {},
   "outputs": [
    {
     "data": {
      "text/plain": [
       "500"
      ]
     },
     "execution_count": 14,
     "metadata": {},
     "output_type": "execute_result"
    }
   ],
   "source": [
    "df_survived = df.filter(col(\"survived\")==1)\n",
    "df_survived.count()"
   ]
  },
  {
   "cell_type": "code",
   "execution_count": 13,
   "metadata": {},
   "outputs": [],
   "source": [
    "import matplotlib.pyplot as plt\n",
    "%matplotlib inline"
   ]
  },
  {
   "cell_type": "markdown",
   "metadata": {},
   "source": [
    "MÉDIA DE SOBREVIVÊNCIA DO NAVIO TITANIC POR TIPO DE CLASSE \n",
    "PRIMEIRA CLASSE - 62%\n",
    " SEGUNDA CLASSE - 43%\n",
    "TERCEIRA CLASSE - 25%"
   ]
  },
  {
   "cell_type": "code",
   "execution_count": 16,
   "metadata": {},
   "outputs": [
    {
     "name": "stdout",
     "output_type": "stream",
     "text": [
      "+------+-----------+------------------+-------------------+-------------------+------------------+\n",
      "|pclass|avg(pclass)|     avg(survived)|         avg(sibsp)|         avg(parch)|         avg(body)|\n",
      "+------+-----------+------------------+-------------------+-------------------+------------------+\n",
      "|  null|       null|              null|               null|               null|              null|\n",
      "|     1|        1.0|0.6191950464396285|0.43653250773993807| 0.3653250773993808|162.82857142857142|\n",
      "|     3|        3.0|0.2552891396332863| 0.5684062059238364| 0.4005641748942172| 155.8181818181818|\n",
      "|     2|        2.0|0.4296028880866426| 0.3935018050541516|0.36823104693140796|167.38709677419354|\n",
      "+------+-----------+------------------+-------------------+-------------------+------------------+\n",
      "\n"
     ]
    }
   ],
   "source": [
    "df.groupby(col(\"pclass\")).mean().show()"
   ]
  },
  {
   "cell_type": "markdown",
   "metadata": {},
   "source": [
    "MÉDIA DE SOBREVIVÊNCIA DO NAVIO TITANIC POR TIPO DE CLASSE E SEXO\n",
    "PRIMEIRA CLASSE - MULHERES - 96%\n",
    "PRIMEIRA CLASSE - HOMENS   - 34%\n",
    " SEGUNDA CLASSE - MULHERES - 88%\n",
    " SEGUNDA CLASSE - HOMENS   - 14%\n",
    "TERCEIRA CLASSE - MULHERES - 49%\n",
    "TERCEIRA CLASSE - HOMENS   - 15%"
   ]
  },
  {
   "cell_type": "code",
   "execution_count": 25,
   "metadata": {},
   "outputs": [
    {
     "name": "stdout",
     "output_type": "stream",
     "text": [
      "+------+------+-----------+-------------------+-------------------+-------------------+------------------+\n",
      "|pclass|   sex|avg(pclass)|      avg(survived)|         avg(sibsp)|         avg(parch)|         avg(body)|\n",
      "+------+------+-----------+-------------------+-------------------+-------------------+------------------+\n",
      "|  null|  null|       null|               null|               null|               null|              null|\n",
      "|     1|female|        1.0| 0.9652777777777778| 0.5555555555555556| 0.4722222222222222|              null|\n",
      "|     1|  male|        1.0| 0.3407821229050279| 0.3407821229050279|0.27932960893854747|162.82857142857142|\n",
      "|     2|female|        2.0| 0.8867924528301887|                0.5| 0.6509433962264151|              52.0|\n",
      "|     2|  male|        2.0|0.14619883040935672|0.32748538011695905|0.19298245614035087|171.23333333333332|\n",
      "|     3|  male|        3.0|0.15212981744421908|0.47058823529411764|0.25557809330628806|151.85416666666666|\n",
      "|     3|female|        3.0|0.49074074074074076| 0.7916666666666666| 0.7314814814814815|             183.0|\n",
      "+------+------+-----------+-------------------+-------------------+-------------------+------------------+\n",
      "\n"
     ]
    }
   ],
   "source": [
    "df_agrupamento_classe_sexo = df.groupBy([\"pclass\",\"sex\"]).mean()\n",
    "#df_agrupamento_classe_sexo.orderBy(\"pclass\").show()"
   ]
  },
  {
   "cell_type": "code",
   "execution_count": 29,
   "metadata": {},
   "outputs": [],
   "source": [
    "df_pandas= df_agrupamento_classe_sexo.toPandas()"
   ]
  },
  {
   "cell_type": "code",
   "execution_count": 33,
   "metadata": {},
   "outputs": [
    {
     "data": {
      "text/html": [
       "<div>\n",
       "<style scoped>\n",
       "    .dataframe tbody tr th:only-of-type {\n",
       "        vertical-align: middle;\n",
       "    }\n",
       "\n",
       "    .dataframe tbody tr th {\n",
       "        vertical-align: top;\n",
       "    }\n",
       "\n",
       "    .dataframe thead th {\n",
       "        text-align: right;\n",
       "    }\n",
       "</style>\n",
       "<table border=\"1\" class=\"dataframe\">\n",
       "  <thead>\n",
       "    <tr style=\"text-align: right;\">\n",
       "      <th></th>\n",
       "      <th>pclass</th>\n",
       "      <th>sex</th>\n",
       "      <th>avg(pclass)</th>\n",
       "      <th>avg(survived)</th>\n",
       "      <th>avg(sibsp)</th>\n",
       "      <th>avg(parch)</th>\n",
       "      <th>avg(body)</th>\n",
       "    </tr>\n",
       "  </thead>\n",
       "  <tbody>\n",
       "    <tr>\n",
       "      <th>0</th>\n",
       "      <td>NaN</td>\n",
       "      <td>None</td>\n",
       "      <td>NaN</td>\n",
       "      <td>NaN</td>\n",
       "      <td>NaN</td>\n",
       "      <td>NaN</td>\n",
       "      <td>NaN</td>\n",
       "    </tr>\n",
       "    <tr>\n",
       "      <th>1</th>\n",
       "      <td>2.0</td>\n",
       "      <td>female</td>\n",
       "      <td>2.0</td>\n",
       "      <td>0.886792</td>\n",
       "      <td>0.500000</td>\n",
       "      <td>0.650943</td>\n",
       "      <td>52.000000</td>\n",
       "    </tr>\n",
       "    <tr>\n",
       "      <th>2</th>\n",
       "      <td>3.0</td>\n",
       "      <td>male</td>\n",
       "      <td>3.0</td>\n",
       "      <td>0.152130</td>\n",
       "      <td>0.470588</td>\n",
       "      <td>0.255578</td>\n",
       "      <td>151.854167</td>\n",
       "    </tr>\n",
       "    <tr>\n",
       "      <th>3</th>\n",
       "      <td>1.0</td>\n",
       "      <td>male</td>\n",
       "      <td>1.0</td>\n",
       "      <td>0.340782</td>\n",
       "      <td>0.340782</td>\n",
       "      <td>0.279330</td>\n",
       "      <td>162.828571</td>\n",
       "    </tr>\n",
       "    <tr>\n",
       "      <th>4</th>\n",
       "      <td>3.0</td>\n",
       "      <td>female</td>\n",
       "      <td>3.0</td>\n",
       "      <td>0.490741</td>\n",
       "      <td>0.791667</td>\n",
       "      <td>0.731481</td>\n",
       "      <td>183.000000</td>\n",
       "    </tr>\n",
       "    <tr>\n",
       "      <th>5</th>\n",
       "      <td>1.0</td>\n",
       "      <td>female</td>\n",
       "      <td>1.0</td>\n",
       "      <td>0.965278</td>\n",
       "      <td>0.555556</td>\n",
       "      <td>0.472222</td>\n",
       "      <td>NaN</td>\n",
       "    </tr>\n",
       "    <tr>\n",
       "      <th>6</th>\n",
       "      <td>2.0</td>\n",
       "      <td>male</td>\n",
       "      <td>2.0</td>\n",
       "      <td>0.146199</td>\n",
       "      <td>0.327485</td>\n",
       "      <td>0.192982</td>\n",
       "      <td>171.233333</td>\n",
       "    </tr>\n",
       "  </tbody>\n",
       "</table>\n",
       "</div>"
      ],
      "text/plain": [
       "   pclass     sex  avg(pclass)  avg(survived)  avg(sibsp)  avg(parch)  \\\n",
       "0     NaN    None          NaN            NaN         NaN         NaN   \n",
       "1     2.0  female          2.0       0.886792    0.500000    0.650943   \n",
       "2     3.0    male          3.0       0.152130    0.470588    0.255578   \n",
       "3     1.0    male          1.0       0.340782    0.340782    0.279330   \n",
       "4     3.0  female          3.0       0.490741    0.791667    0.731481   \n",
       "5     1.0  female          1.0       0.965278    0.555556    0.472222   \n",
       "6     2.0    male          2.0       0.146199    0.327485    0.192982   \n",
       "\n",
       "    avg(body)  \n",
       "0         NaN  \n",
       "1   52.000000  \n",
       "2  151.854167  \n",
       "3  162.828571  \n",
       "4  183.000000  \n",
       "5         NaN  \n",
       "6  171.233333  "
      ]
     },
     "execution_count": 33,
     "metadata": {},
     "output_type": "execute_result"
    }
   ],
   "source": [
    "df_pandas"
   ]
  },
  {
   "cell_type": "code",
   "execution_count": 47,
   "metadata": {},
   "outputs": [
    {
     "data": {
      "text/plain": [
       "<AxesSubplot:>"
      ]
     },
     "execution_count": 47,
     "metadata": {},
     "output_type": "execute_result"
    },
    {
     "data": {
      "image/png": "[encoded data removed]",
      "text/plain": [
       "<Figure size 432x288 with 1 Axes>"
      ]
     },
     "metadata": {
      "needs_background": "light"
     },
     "output_type": "display_data"
    }
   ],
   "source": [
    "df_pandas['avg(survived)'].plot.bar()"
   ]
  },
  {
   "cell_type": "code",
   "execution_count": 48,
   "metadata": {},
   "outputs": [
    {
     "data": {
      "text/plain": [
       "pclass           6\n",
       "sex              6\n",
       "avg(pclass)      6\n",
       "avg(survived)    6\n",
       "avg(sibsp)       6\n",
       "avg(parch)       6\n",
       "avg(body)        5\n",
       "dtype: int64"
      ]
     },
     "execution_count": 48,
     "metadata": {},
     "output_type": "execute_result"
    }
   ],
   "source": [
    "df_pandas.count()"
   ]
  }
 ],
 "metadata": {
  "kernelspec": {
   "display_name": "Python 3.8.3 32-bit",
   "language": "python",
   "name": "python38332bit9f0040289fca454e8a0516837511703d"
  },
  "language_info": {
   "codemirror_mode": {
    "name": "ipython",
    "version": 3
   },
   "file_extension": ".py",
   "mimetype": "text/x-python",
   "name": "python",
   "nbconvert_exporter": "python",
   "pygments_lexer": "ipython3",
   "version": "3.8.3"
  }
 },
 "nbformat": 4,
 "nbformat_minor": 4
}
