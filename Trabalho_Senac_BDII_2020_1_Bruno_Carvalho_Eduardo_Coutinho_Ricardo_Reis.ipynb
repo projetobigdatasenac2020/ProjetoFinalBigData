{
  "nbformat": 4,
  "nbformat_minor": 0,
  "metadata": {
    "colab": {
      "name": "Trabalho Senac BDII 2020.1 - Bruno Carvalho/Eduardo Coutinho/Ricardo Reis.ipynb",
      "provenance": [],
      "collapsed_sections": []
    },
    "kernelspec": {
      "name": "python3",
      "display_name": "Python 3"
    }
  },
  "cells": [
    {
      "cell_type": "markdown",
      "metadata": {
        "id": "b_e4JxuAQuRa",
        "colab_type": "text"
      },
      "source": [
        "### Trabalho Titanic - Previsão de Sobreviventes"
      ]
    },
    {
      "cell_type": "markdown",
      "metadata": {
        "id": "ZhvI2eZsR-qp",
        "colab_type": "text"
      },
      "source": [
        "O trabalho consiste em , atraves do dataset disponibilizado 'titanic.csv', tentar prever se um passageiro sobreviveu ou não ao naufrágio."
      ]
    },
    {
      "cell_type": "code",
      "metadata": {
        "id": "hwWNL0qtT_dH",
        "colab_type": "code",
        "colab": {
          "base_uri": "https://localhost:8080/",
          "height": 50
        },
        "outputId": "704ac336-dca8-41fc-fc74-e6a1466a2414"
      },
      "source": [
        "# Importando as bibliotecas \n",
        "from datetime import datetime\n",
        "\n",
        "print(f'Importando as bibliotecas - {datetime.now()}.')\n",
        "import os\n",
        "from pyspark.sql import SparkSession\n",
        "from pyspark.sql.functions import explode\n",
        "from pyspark.sql import *\n",
        "from pyspark.sql.functions import col, asc\n",
        "from pyspark.ml.feature import VectorAssembler\n",
        "from pyspark.sql.functions import * \n",
        "from pyspark.sql.types import IntegerType\n",
        "from pyspark.ml.feature import StringIndexer\n",
        "from pyspark.ml.classification import DecisionTreeClassifier, RandomForestClassifier\n",
        "from pyspark.ml.evaluation import BinaryClassificationEvaluator\n",
        "\n",
        "print(f'Importação das bibliotecas com sucesso - {datetime.now()}.')"
      ],
      "execution_count": 1,
      "outputs": [
        {
          "output_type": "stream",
          "text": [
            "Importando as bibliotecas - 2020-08-26 18:21:49.734433.\n",
            "Importação das bibliotecas com sucesso - 2020-08-26 18:21:49.883029.\n"
          ],
          "name": "stdout"
        }
      ]
    },
    {
      "cell_type": "code",
      "metadata": {
        "id": "FJncw4j765zG",
        "colab_type": "code",
        "colab": {
          "base_uri": "https://localhost:8080/",
          "height": 50
        },
        "outputId": "592cba66-9341-46f5-d5d7-7ad37a5d69aa"
      },
      "source": [
        "# Instalando Java JDK e Spark no Colaboratory.\n",
        "\n",
        "print(f'Instalação do JAVA JDK e Spark-3.0.0-bin-hadoop2.7 iniciada - {datetime.now()}.')\n",
        "\n",
        "!apt-get install openjdk-8-jdk-headless -qq > /dev/null\n",
        "!wget -q https://downloads.apache.org/spark/spark-3.0.0/spark-3.0.0-bin-hadoop2.7.tgz\n",
        "!tar xf spark-3.0.0-bin-hadoop2.7.tgz\n",
        "!pip install -q findspark\n",
        "!pip install -q pyspark\n",
        "\n",
        "print(f'Instalação das aplicações com sucesso - {datetime.now()}.')"
      ],
      "execution_count": 2,
      "outputs": [
        {
          "output_type": "stream",
          "text": [
            "Instalação do JAVA JDK e Spark-3.0.0-bin-hadoop2.7 iniciada - 2020-08-26 18:21:53.027440.\n",
            "Instalação das aplicações com sucesso - 2020-08-26 18:22:23.840271.\n"
          ],
          "name": "stdout"
        }
      ]
    },
    {
      "cell_type": "code",
      "metadata": {
        "id": "t1URXo-S7LuW",
        "colab_type": "code",
        "colab": {
          "base_uri": "https://localhost:8080/",
          "height": 50
        },
        "outputId": "feb2b8f1-dd6d-49c1-9518-ccfff512a4a0"
      },
      "source": [
        "# Criando as variáveis de ambientes do JAVA e SPARK no  Colaboratory.\n",
        "\n",
        "print(f'Criação das variáveis de ambiente iniciada- {datetime.now()}.')\n",
        "\n",
        "os.environ[\"JAVA_HOME\"] = \"/usr/lib/jvm/java-8-openjdk-amd64\"\n",
        "os.environ[\"SPARK_HOME\"] = \"/content/spark-3.0.0-bin-hadoop2.7\"\n",
        "\n",
        "print(f'Criação das variáveis de ambiente com sucesso - {datetime.now()}.')"
      ],
      "execution_count": 3,
      "outputs": [
        {
          "output_type": "stream",
          "text": [
            "Criação das variáveis de ambiente iniciada- 2020-08-26 18:22:27.380440.\n",
            "Criação das variáveis de ambiente com sucesso - 2020-08-26 18:22:27.380638.\n"
          ],
          "name": "stdout"
        }
      ]
    },
    {
      "cell_type": "code",
      "metadata": {
        "id": "uCfIUtgU7eBS",
        "colab_type": "code",
        "colab": {
          "base_uri": "https://localhost:8080/",
          "height": 50
        },
        "outputId": "e6466589-a725-4019-8987-4cc45523d060"
      },
      "source": [
        "# Criando uma aplicação \"Titanic\" na Sessão Spark.\n",
        "\n",
        "print(f'Criação da Sessão Spark e Aplicativo Spark Titanic iniciada- {datetime.now()}.')\n",
        "\n",
        "spark = SparkSession.builder \\\n",
        "    .master(\"local[*]\") \\\n",
        "    .appName(\"Titanic\") \\\n",
        "    .getOrCreate()\n",
        "\n",
        "print(f'Criação da Sessão Spark e Aplicativo Spark Titanic com sucesso - {datetime.now()}.')"
      ],
      "execution_count": 4,
      "outputs": [
        {
          "output_type": "stream",
          "text": [
            "Criação da Sessão Spark e Aplicativo Spark Titanic iniciada- 2020-08-26 18:22:30.833493.\n",
            "Criação da Sessão Spark e Aplicativo Spark Titanic com sucesso - 2020-08-26 18:22:36.331258.\n"
          ],
          "name": "stdout"
        }
      ]
    },
    {
      "cell_type": "code",
      "metadata": {
        "id": "PNrMRTsJDAey",
        "colab_type": "code",
        "colab": {
          "base_uri": "https://localhost:8080/",
          "height": 101
        },
        "outputId": "fa19f92e-e1c4-4c2c-a68c-3b8d75db5809"
      },
      "source": [
        "# Apresentando a Sessão Spark Criada.\n",
        "\n",
        "print(f'Apresentação da Sessão Spark e Aplicativo Spark Titanic iniciada- {datetime.now()}.')\n",
        "\n",
        "print('')\n",
        "print(spark)\n",
        "print('')\n",
        "\n",
        "print(f'Apresentação da Sessão Spark e Aplicativo Spark Titanic com sucesso - {datetime.now()}.')"
      ],
      "execution_count": 5,
      "outputs": [
        {
          "output_type": "stream",
          "text": [
            "Apresentação da Sessão Spark e Aplicativo Spark Titanic iniciada- 2020-08-26 18:22:40.231377.\n",
            "\n",
            "<pyspark.sql.session.SparkSession object at 0x7feb44275320>\n",
            "\n",
            "Apresentação da Sessão Spark e Aplicativo Spark Titanic com sucesso - 2020-08-26 18:22:40.231637.\n"
          ],
          "name": "stdout"
        }
      ]
    },
    {
      "cell_type": "code",
      "metadata": {
        "id": "wEhp9eMp8a-4",
        "colab_type": "code",
        "colab": {
          "base_uri": "https://localhost:8080/",
          "height": 50
        },
        "outputId": "b01c5c76-4d4a-42cd-c7bb-f766f26345a9"
      },
      "source": [
        "# Instanciando o Spark.\n",
        "\n",
        "print(f'Instanciando Spark iniciada- {datetime.now()}.')\n",
        "\n",
        "from pyspark.sql import SQLContext\n",
        "sqlContext = SQLContext(spark)\n",
        "\n",
        "print(f'Instanciação Spark com sucesso - {datetime.now()}.')"
      ],
      "execution_count": 6,
      "outputs": [
        {
          "output_type": "stream",
          "text": [
            "Instanciando Spark iniciada- 2020-08-26 18:22:45.842778.\n",
            "Instanciação Spark com sucesso - 2020-08-26 18:22:45.852576.\n"
          ],
          "name": "stdout"
        }
      ]
    },
    {
      "cell_type": "code",
      "metadata": {
        "id": "SNIUAbPSX0KI",
        "colab_type": "code",
        "colab": {
          "resources": {
            "http://localhost:8080/nbextensions/google.colab/files.js": {
              "data": "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",
              "ok": true,
              "headers": [
                [
                  "content-type",
                  "application/javascript"
                ]
              ],
              "status": 200,
              "status_text": ""
            }
          },
          "base_uri": "https://localhost:8080/",
          "height": 140
        },
        "outputId": "230d5cdb-e7fd-4b74-8401-10c6b2a38af2"
      },
      "source": [
        "# Selecionar o arquivo titanic.csv e importar para Google Colaboratory.\n",
        "\n",
        "print('Selecione o arquivo titanic.csv salvo no seu computador.')\n",
        "print('')\n",
        "print(f'Upload arquivo titanic.csv iniciada- {datetime.now()}.')\n",
        "\n",
        "from google.colab import files\n",
        "data_to_load = files.upload()\n",
        "\n",
        "print(f'Upload arquivo titanic.csv com sucesso - {datetime.now()}.')"
      ],
      "execution_count": 7,
      "outputs": [
        {
          "output_type": "stream",
          "text": [
            "Selecione o arquivo titanic.csv salvo no seu computador.\n",
            "\n",
            "Upload arquivo titanic.csv iniciada- 2020-08-26 18:22:51.189337.\n"
          ],
          "name": "stdout"
        },
        {
          "output_type": "display_data",
          "data": {
            "text/html": [
              "\n",
              "     <input type=\"file\" id=\"files-7c04a3c8-d0bb-4596-bdb3-5db4b77798db\" name=\"files[]\" multiple disabled\n",
              "        style=\"border:none\" />\n",
              "     <output id=\"result-7c04a3c8-d0bb-4596-bdb3-5db4b77798db\">\n",
              "      Upload widget is only available when the cell has been executed in the\n",
              "      current browser session. Please rerun this cell to enable.\n",
              "      </output>\n",
              "      <script src=\"/nbextensions/google.colab/files.js\"></script> "
            ],
            "text/plain": [
              "<IPython.core.display.HTML object>"
            ]
          },
          "metadata": {
            "tags": []
          }
        },
        {
          "output_type": "stream",
          "text": [
            "Saving titanic.csv to titanic.csv\n",
            "Upload arquivo titanic.csv com sucesso - 2020-08-26 18:22:57.819725.\n"
          ],
          "name": "stdout"
        }
      ]
    },
    {
      "cell_type": "code",
      "metadata": {
        "id": "lVdJEjh-8-3P",
        "colab_type": "code",
        "colab": {
          "base_uri": "https://localhost:8080/",
          "height": 50
        },
        "outputId": "57f34132-9b82-44c0-91a7-e253eadc9201"
      },
      "source": [
        "# Importação do Dataset titanic.csv para o Dataframe df.\n",
        "\n",
        "print(f'Importação do titanic.csv para o Dataframe df iniciada - {datetime.now()}.')\n",
        "\n",
        "df = spark.read.csv('/content/titanic.csv', inferSchema=True, sep=',',encoding='ISO-8859-1',header=True)\n",
        "\n",
        "print(f'Importação do titanic.csv para o Dataframe df com sucesso - {datetime.now()}.')"
      ],
      "execution_count": 8,
      "outputs": [
        {
          "output_type": "stream",
          "text": [
            "Importação do titanic.csv para o Dataframe df iniciada - 2020-08-26 18:23:03.431084.\n",
            "Importação do titanic.csv para o Dataframe df com sucesso - 2020-08-26 18:23:09.531251.\n"
          ],
          "name": "stdout"
        }
      ]
    },
    {
      "cell_type": "code",
      "metadata": {
        "id": "UQgAxS6L9OYd",
        "colab_type": "code",
        "colab": {
          "base_uri": "https://localhost:8080/",
          "height": 470
        },
        "outputId": "e20df55a-99c6-431d-c402-e418f4a853ce"
      },
      "source": [
        "# Apresentação das 20 primeiras linhas do Dataframe df.\n",
        "\n",
        "print('Apresentação das 20 primeiras linhas do Dataframe df')\n",
        "df.show()"
      ],
      "execution_count": 9,
      "outputs": [
        {
          "output_type": "stream",
          "text": [
            "Apresentação das 20 primeiras linhas do Dataframe df\n",
            "+--------+------+--------------------+------+----+-----------------------+-----------------------+-------+\n",
            "|Survived|Pclass|                Name|   Sex| Age|Siblings/Spouses Aboard|Parents/Children Aboard|   Fare|\n",
            "+--------+------+--------------------+------+----+-----------------------+-----------------------+-------+\n",
            "|       0|     3|Mr. Owen Harris B...|  male|22.0|                      1|                      0|   7.25|\n",
            "|       1|     1|Mrs. John Bradley...|female|38.0|                      1|                      0|71.2833|\n",
            "|       1|     3|Miss. Laina Heikk...|female|26.0|                      0|                      0|  7.925|\n",
            "|       1|     1|Mrs. Jacques Heat...|female|35.0|                      1|                      0|   53.1|\n",
            "|       0|     3|Mr. William Henry...|  male|35.0|                      0|                      0|   8.05|\n",
            "|       0|     3|     Mr. James Moran|  male|27.0|                      0|                      0| 8.4583|\n",
            "|       0|     1|Mr. Timothy J McC...|  male|54.0|                      0|                      0|51.8625|\n",
            "|       0|     3|Master. Gosta Leo...|  male| 2.0|                      3|                      1| 21.075|\n",
            "|       1|     3|Mrs. Oscar W (Eli...|female|27.0|                      0|                      2|11.1333|\n",
            "|       1|     2|Mrs. Nicholas (Ad...|female|14.0|                      1|                      0|30.0708|\n",
            "|       1|     3|Miss. Marguerite ...|female| 4.0|                      1|                      1|   16.7|\n",
            "|       1|     1|Miss. Elizabeth B...|female|58.0|                      0|                      0|  26.55|\n",
            "|       0|     3|Mr. William Henry...|  male|20.0|                      0|                      0|   8.05|\n",
            "|       0|     3|Mr. Anders Johan ...|  male|39.0|                      1|                      5| 31.275|\n",
            "|       0|     3|Miss. Hulda Amand...|female|14.0|                      0|                      0| 7.8542|\n",
            "|       1|     2|Mrs. (Mary D King...|female|55.0|                      0|                      0|   16.0|\n",
            "|       0|     3| Master. Eugene Rice|  male| 2.0|                      4|                      1| 29.125|\n",
            "|       1|     2|Mr. Charles Eugen...|  male|23.0|                      0|                      0|   13.0|\n",
            "|       0|     3|Mrs. Julius (Emel...|female|31.0|                      1|                      0|   18.0|\n",
            "|       1|     3|Mrs. Fatima Masse...|female|22.0|                      0|                      0|  7.225|\n",
            "+--------+------+--------------------+------+----+-----------------------+-----------------------+-------+\n",
            "only showing top 20 rows\n",
            "\n"
          ],
          "name": "stdout"
        }
      ]
    },
    {
      "cell_type": "code",
      "metadata": {
        "id": "sq0jXVxI93QO",
        "colab_type": "code",
        "colab": {
          "base_uri": "https://localhost:8080/",
          "height": 50
        },
        "outputId": "7e6dede3-311c-4222-e41b-33866359bcdb"
      },
      "source": [
        "# Apresentação da Estrutura do Dataframe df.\n",
        "\n",
        "print('Apresentação da Estrutura do Dataframe df')\n",
        "display(df)"
      ],
      "execution_count": 10,
      "outputs": [
        {
          "output_type": "stream",
          "text": [
            "Apresentação da Estrutura do Dataframe df\n"
          ],
          "name": "stdout"
        },
        {
          "output_type": "display_data",
          "data": {
            "text/plain": [
              "DataFrame[Survived: int, Pclass: int, Name: string, Sex: string, Age: double, Siblings/Spouses Aboard: int, Parents/Children Aboard: int, Fare: double]"
            ]
          },
          "metadata": {
            "tags": []
          }
        }
      ]
    },
    {
      "cell_type": "code",
      "metadata": {
        "id": "CJlpBEiX98On",
        "colab_type": "code",
        "colab": {
          "base_uri": "https://localhost:8080/",
          "height": 202
        },
        "outputId": "b9d4a533-20df-41e8-b858-02936edf2e0e"
      },
      "source": [
        "# Outra forma de apresentação da Estrutura do Dataframe df.\n",
        "\n",
        "print('Outra forma de apresentação da Estrutura do Dataframe df')\n",
        "df.printSchema()"
      ],
      "execution_count": 11,
      "outputs": [
        {
          "output_type": "stream",
          "text": [
            "Outra forma de apresentação da Estrutura do Dataframe df\n",
            "root\n",
            " |-- Survived: integer (nullable = true)\n",
            " |-- Pclass: integer (nullable = true)\n",
            " |-- Name: string (nullable = true)\n",
            " |-- Sex: string (nullable = true)\n",
            " |-- Age: double (nullable = true)\n",
            " |-- Siblings/Spouses Aboard: integer (nullable = true)\n",
            " |-- Parents/Children Aboard: integer (nullable = true)\n",
            " |-- Fare: double (nullable = true)\n",
            "\n"
          ],
          "name": "stdout"
        }
      ]
    },
    {
      "cell_type": "code",
      "metadata": {
        "id": "i5U9kmCbIphG",
        "colab_type": "code",
        "colab": {
          "base_uri": "https://localhost:8080/",
          "height": 168
        },
        "outputId": "af301d7e-64cc-472e-ec95-37a375ce9f66"
      },
      "source": [
        "# Apresentação das colunas do Dataframe df.\n",
        "\n",
        "print('Apresentação das colunas do Dataframe df')\n",
        "df.columns"
      ],
      "execution_count": 12,
      "outputs": [
        {
          "output_type": "stream",
          "text": [
            "Apresentação das colunas do Dataframe df\n"
          ],
          "name": "stdout"
        },
        {
          "output_type": "execute_result",
          "data": {
            "text/plain": [
              "['Survived',\n",
              " 'Pclass',\n",
              " 'Name',\n",
              " 'Sex',\n",
              " 'Age',\n",
              " 'Siblings/Spouses Aboard',\n",
              " 'Parents/Children Aboard',\n",
              " 'Fare']"
            ]
          },
          "metadata": {
            "tags": []
          },
          "execution_count": 12
        }
      ]
    },
    {
      "cell_type": "code",
      "metadata": {
        "id": "v1nUBV3--KtW",
        "colab_type": "code",
        "colab": {
          "base_uri": "https://localhost:8080/",
          "height": 50
        },
        "outputId": "c3a8ba24-3f00-43b2-9a2a-d42687107a2a"
      },
      "source": [
        "# Apresentação da quantidade de linhas do Dataframe df.\n",
        "\n",
        "print('Apresentação da quantidade de linhas do Dataframe df')\n",
        "df.count()"
      ],
      "execution_count": 13,
      "outputs": [
        {
          "output_type": "stream",
          "text": [
            "Apresentação da quantidade de linhas do Dataframe df\n"
          ],
          "name": "stdout"
        },
        {
          "output_type": "execute_result",
          "data": {
            "text/plain": [
              "887"
            ]
          },
          "metadata": {
            "tags": []
          },
          "execution_count": 13
        }
      ]
    },
    {
      "cell_type": "code",
      "metadata": {
        "id": "nVGnpUdS-Qcx",
        "colab_type": "code",
        "colab": {
          "base_uri": "https://localhost:8080/",
          "height": 202
        },
        "outputId": "e4bff71f-a5ec-4f8f-df80-32cdc0eb7586"
      },
      "source": [
        "# Apresentação da Descrição do Dataframe df.\n",
        "\n",
        "print('Apresentação da Descrição do Dataframe df')\n",
        "df.describe().show()"
      ],
      "execution_count": 14,
      "outputs": [
        {
          "output_type": "stream",
          "text": [
            "Apresentação da Descrição do Dataframe df\n",
            "+-------+-------------------+------------------+--------------------+------+------------------+-----------------------+-----------------------+-----------------+\n",
            "|summary|           Survived|            Pclass|                Name|   Sex|               Age|Siblings/Spouses Aboard|Parents/Children Aboard|             Fare|\n",
            "+-------+-------------------+------------------+--------------------+------+------------------+-----------------------+-----------------------+-----------------+\n",
            "|  count|                887|               887|                 887|   887|               887|                    887|                    887|              887|\n",
            "|   mean| 0.3855693348365276| 2.305524239007892|                null|  null|29.471443066516347|     0.5253664036076663|     0.3833145434047351|32.30542018038328|\n",
            "| stddev|0.48700411775101266|0.8366620036697728|                null|  null|14.121908405462552|      1.104668553867569|     0.8074659070316833|49.78204040017391|\n",
            "|    min|                  0|                 1|Capt. Edward Giff...|female|              0.42|                      0|                      0|              0.0|\n",
            "|    max|                  1|                 3|the Countess. of ...|  male|              80.0|                      8|                      6|         512.3292|\n",
            "+-------+-------------------+------------------+--------------------+------+------------------+-----------------------+-----------------------+-----------------+\n",
            "\n"
          ],
          "name": "stdout"
        }
      ]
    },
    {
      "cell_type": "code",
      "metadata": {
        "id": "r3PIkHRg-cvG",
        "colab_type": "code",
        "colab": {
          "base_uri": "https://localhost:8080/",
          "height": 185
        },
        "outputId": "d4ea2454-d235-4429-c273-c7576fa2da78"
      },
      "source": [
        "# Apresentação da quantidade de sobreviventes do Dataframe df.\n",
        "\n",
        "print('Apresentação da quantidade de sobreviventes do Dataframe df')\n",
        "print('0 - Não Sobreviveu')\n",
        "print('1 - Sobreviveu')\n",
        "\n",
        "df.groupBy('Survived').count().orderBy('Survived').show()"
      ],
      "execution_count": 17,
      "outputs": [
        {
          "output_type": "stream",
          "text": [
            "Apresentação da quantidade de sobreviventes do Dataframe df\n",
            "0 - Não Sobreviveu\n",
            "1 - Sobreviveu\n",
            "+--------+-----+\n",
            "|Survived|count|\n",
            "+--------+-----+\n",
            "|       0|  545|\n",
            "|       1|  342|\n",
            "+--------+-----+\n",
            "\n"
          ],
          "name": "stdout"
        }
      ]
    },
    {
      "cell_type": "code",
      "metadata": {
        "id": "Hgb4AktjHRkV",
        "colab_type": "code",
        "colab": {
          "base_uri": "https://localhost:8080/",
          "height": 34
        },
        "outputId": "91a0de05-668f-42a7-ae16-b14a30f61bb8"
      },
      "source": [
        "# Criação da variável indexer, convertendo a coluna 'Sex' de String para Int, através da instância StringIndexer.\n",
        "\n",
        "print('Criação da variável indexer, convertendo a coluna Sex de String para Int, através da instância StringIndexer')\n",
        "indexer = StringIndexer(inputCol='Sex', outputCol='SexIndex')"
      ],
      "execution_count": 18,
      "outputs": [
        {
          "output_type": "stream",
          "text": [
            "Criação da variável indexer, convertendo a coluna Sex de String para Int, através da instância StringIndexer\n"
          ],
          "name": "stdout"
        }
      ]
    },
    {
      "cell_type": "code",
      "metadata": {
        "id": "kHV7eGVzHrN4",
        "colab_type": "code",
        "colab": {
          "base_uri": "https://localhost:8080/",
          "height": 34
        },
        "outputId": "48016b84-c0d8-435d-c10c-b03e9a9809cb"
      },
      "source": [
        "# Criação de um novo Dataframe output_fixed com a inclusão da coluna SexIndex.\n",
        "\n",
        "print('Criação de um novo Dataframe output_fixed com a inclusão da coluna SexIndex')\n",
        "output_fixed = indexer.fit(df).transform(df)"
      ],
      "execution_count": 19,
      "outputs": [
        {
          "output_type": "stream",
          "text": [
            "Criação de um novo Dataframe output_fixed com a inclusão da coluna SexIndex\n"
          ],
          "name": "stdout"
        }
      ]
    },
    {
      "cell_type": "code",
      "metadata": {
        "id": "pvDRjQiBIWVd",
        "colab_type": "code",
        "colab": {
          "base_uri": "https://localhost:8080/",
          "height": 218
        },
        "outputId": "e168b77d-c411-4f6c-fa7f-b51e54153f0d"
      },
      "source": [
        "# Apresentação da estrutura do Dataframe output_fixed.\n",
        "\n",
        "print('Apresentação da estrutura do Dataframe output_fixed')\n",
        "output_fixed.printSchema()"
      ],
      "execution_count": 20,
      "outputs": [
        {
          "output_type": "stream",
          "text": [
            "Apresentação da estrutura do Dataframe output_fixed\n",
            "root\n",
            " |-- Survived: integer (nullable = true)\n",
            " |-- Pclass: integer (nullable = true)\n",
            " |-- Name: string (nullable = true)\n",
            " |-- Sex: string (nullable = true)\n",
            " |-- Age: double (nullable = true)\n",
            " |-- Siblings/Spouses Aboard: integer (nullable = true)\n",
            " |-- Parents/Children Aboard: integer (nullable = true)\n",
            " |-- Fare: double (nullable = true)\n",
            " |-- SexIndex: double (nullable = false)\n",
            "\n"
          ],
          "name": "stdout"
        }
      ]
    },
    {
      "cell_type": "code",
      "metadata": {
        "id": "VezvoYnydEsM",
        "colab_type": "code",
        "colab": {
          "base_uri": "https://localhost:8080/",
          "height": 470
        },
        "outputId": "4df5feb9-7a53-4484-a432-3d7a8a474577"
      },
      "source": [
        "# Apresentação das 20 primeiras linhas do Dataframe output_fixed.\n",
        "\n",
        "print('Apresentação das 20 primeiras linhas do Dataframe output_fixed')\n",
        "output_fixed.show()"
      ],
      "execution_count": 21,
      "outputs": [
        {
          "output_type": "stream",
          "text": [
            "Apresentação das 20 primeiras linhas do Dataframe output_fixed\n",
            "+--------+------+--------------------+------+----+-----------------------+-----------------------+-------+--------+\n",
            "|Survived|Pclass|                Name|   Sex| Age|Siblings/Spouses Aboard|Parents/Children Aboard|   Fare|SexIndex|\n",
            "+--------+------+--------------------+------+----+-----------------------+-----------------------+-------+--------+\n",
            "|       0|     3|Mr. Owen Harris B...|  male|22.0|                      1|                      0|   7.25|     0.0|\n",
            "|       1|     1|Mrs. John Bradley...|female|38.0|                      1|                      0|71.2833|     1.0|\n",
            "|       1|     3|Miss. Laina Heikk...|female|26.0|                      0|                      0|  7.925|     1.0|\n",
            "|       1|     1|Mrs. Jacques Heat...|female|35.0|                      1|                      0|   53.1|     1.0|\n",
            "|       0|     3|Mr. William Henry...|  male|35.0|                      0|                      0|   8.05|     0.0|\n",
            "|       0|     3|     Mr. James Moran|  male|27.0|                      0|                      0| 8.4583|     0.0|\n",
            "|       0|     1|Mr. Timothy J McC...|  male|54.0|                      0|                      0|51.8625|     0.0|\n",
            "|       0|     3|Master. Gosta Leo...|  male| 2.0|                      3|                      1| 21.075|     0.0|\n",
            "|       1|     3|Mrs. Oscar W (Eli...|female|27.0|                      0|                      2|11.1333|     1.0|\n",
            "|       1|     2|Mrs. Nicholas (Ad...|female|14.0|                      1|                      0|30.0708|     1.0|\n",
            "|       1|     3|Miss. Marguerite ...|female| 4.0|                      1|                      1|   16.7|     1.0|\n",
            "|       1|     1|Miss. Elizabeth B...|female|58.0|                      0|                      0|  26.55|     1.0|\n",
            "|       0|     3|Mr. William Henry...|  male|20.0|                      0|                      0|   8.05|     0.0|\n",
            "|       0|     3|Mr. Anders Johan ...|  male|39.0|                      1|                      5| 31.275|     0.0|\n",
            "|       0|     3|Miss. Hulda Amand...|female|14.0|                      0|                      0| 7.8542|     1.0|\n",
            "|       1|     2|Mrs. (Mary D King...|female|55.0|                      0|                      0|   16.0|     1.0|\n",
            "|       0|     3| Master. Eugene Rice|  male| 2.0|                      4|                      1| 29.125|     0.0|\n",
            "|       1|     2|Mr. Charles Eugen...|  male|23.0|                      0|                      0|   13.0|     0.0|\n",
            "|       0|     3|Mrs. Julius (Emel...|female|31.0|                      1|                      0|   18.0|     1.0|\n",
            "|       1|     3|Mrs. Fatima Masse...|female|22.0|                      0|                      0|  7.225|     1.0|\n",
            "+--------+------+--------------------+------+----+-----------------------+-----------------------+-------+--------+\n",
            "only showing top 20 rows\n",
            "\n"
          ],
          "name": "stdout"
        }
      ]
    },
    {
      "cell_type": "code",
      "metadata": {
        "id": "v-2ahSAlJdMz",
        "colab_type": "code",
        "colab": {
          "base_uri": "https://localhost:8080/",
          "height": 34
        },
        "outputId": "988e44b6-23e4-48c4-ce6e-a2ed3fc5bc42"
      },
      "source": [
        "# Criação da variável myAssembler, criando a coluna features de vetores, dos dados relevantes para a análise da previção\n",
        "# de sobrevientes do Titanic , através da instância VectorAssembler.\n",
        "\n",
        "print('Criação da variável myAssembler, Criação da Coluna features - coluna de vetores')\n",
        "myAssembler = VectorAssembler(inputCols=['Pclass',\n",
        " 'Age',\n",
        " 'Siblings/Spouses Aboard',\n",
        " 'Parents/Children Aboard',\n",
        " 'Fare',\n",
        " 'SexIndex'],outputCol='features')"
      ],
      "execution_count": 22,
      "outputs": [
        {
          "output_type": "stream",
          "text": [
            "Criação da variável myAssembler, Criação da Coluna features - coluna de vetores\n"
          ],
          "name": "stdout"
        }
      ]
    },
    {
      "cell_type": "code",
      "metadata": {
        "id": "WrwBfK78_5hS",
        "colab_type": "code",
        "colab": {
          "base_uri": "https://localhost:8080/",
          "height": 34
        },
        "outputId": "c0250449-0e62-4a62-9408-02f34817c59b"
      },
      "source": [
        "# Criação do Dataframe output com os dados do Datafrma output_fixed e a inclusão da coluna features.\n",
        "\n",
        "print('Criação do Dataframe output')\n",
        "output = myAssembler.transform(output_fixed)\n"
      ],
      "execution_count": 23,
      "outputs": [
        {
          "output_type": "stream",
          "text": [
            "Criação do Dataframe output\n"
          ],
          "name": "stdout"
        }
      ]
    },
    {
      "cell_type": "code",
      "metadata": {
        "id": "LJFP4TywfQKX",
        "colab_type": "code",
        "colab": {
          "base_uri": "https://localhost:8080/",
          "height": 470
        },
        "outputId": "1ddce751-eeb7-4faa-fcc2-4d2df5a8138a"
      },
      "source": [
        "# Apresentação das 20 primeiras linhas do Dataframe output.\n",
        "\n",
        "print('Apresentação das 20 primeiras linhas do Dataframe output')\n",
        "output.show()"
      ],
      "execution_count": 24,
      "outputs": [
        {
          "output_type": "stream",
          "text": [
            "Apresentação das 20 primeiras linhas do Dataframe output\n",
            "+--------+------+--------------------+------+----+-----------------------+-----------------------+-------+--------+--------------------+\n",
            "|Survived|Pclass|                Name|   Sex| Age|Siblings/Spouses Aboard|Parents/Children Aboard|   Fare|SexIndex|            features|\n",
            "+--------+------+--------------------+------+----+-----------------------+-----------------------+-------+--------+--------------------+\n",
            "|       0|     3|Mr. Owen Harris B...|  male|22.0|                      1|                      0|   7.25|     0.0|[3.0,22.0,1.0,0.0...|\n",
            "|       1|     1|Mrs. John Bradley...|female|38.0|                      1|                      0|71.2833|     1.0|[1.0,38.0,1.0,0.0...|\n",
            "|       1|     3|Miss. Laina Heikk...|female|26.0|                      0|                      0|  7.925|     1.0|[3.0,26.0,0.0,0.0...|\n",
            "|       1|     1|Mrs. Jacques Heat...|female|35.0|                      1|                      0|   53.1|     1.0|[1.0,35.0,1.0,0.0...|\n",
            "|       0|     3|Mr. William Henry...|  male|35.0|                      0|                      0|   8.05|     0.0|[3.0,35.0,0.0,0.0...|\n",
            "|       0|     3|     Mr. James Moran|  male|27.0|                      0|                      0| 8.4583|     0.0|[3.0,27.0,0.0,0.0...|\n",
            "|       0|     1|Mr. Timothy J McC...|  male|54.0|                      0|                      0|51.8625|     0.0|[1.0,54.0,0.0,0.0...|\n",
            "|       0|     3|Master. Gosta Leo...|  male| 2.0|                      3|                      1| 21.075|     0.0|[3.0,2.0,3.0,1.0,...|\n",
            "|       1|     3|Mrs. Oscar W (Eli...|female|27.0|                      0|                      2|11.1333|     1.0|[3.0,27.0,0.0,2.0...|\n",
            "|       1|     2|Mrs. Nicholas (Ad...|female|14.0|                      1|                      0|30.0708|     1.0|[2.0,14.0,1.0,0.0...|\n",
            "|       1|     3|Miss. Marguerite ...|female| 4.0|                      1|                      1|   16.7|     1.0|[3.0,4.0,1.0,1.0,...|\n",
            "|       1|     1|Miss. Elizabeth B...|female|58.0|                      0|                      0|  26.55|     1.0|[1.0,58.0,0.0,0.0...|\n",
            "|       0|     3|Mr. William Henry...|  male|20.0|                      0|                      0|   8.05|     0.0|[3.0,20.0,0.0,0.0...|\n",
            "|       0|     3|Mr. Anders Johan ...|  male|39.0|                      1|                      5| 31.275|     0.0|[3.0,39.0,1.0,5.0...|\n",
            "|       0|     3|Miss. Hulda Amand...|female|14.0|                      0|                      0| 7.8542|     1.0|[3.0,14.0,0.0,0.0...|\n",
            "|       1|     2|Mrs. (Mary D King...|female|55.0|                      0|                      0|   16.0|     1.0|[2.0,55.0,0.0,0.0...|\n",
            "|       0|     3| Master. Eugene Rice|  male| 2.0|                      4|                      1| 29.125|     0.0|[3.0,2.0,4.0,1.0,...|\n",
            "|       1|     2|Mr. Charles Eugen...|  male|23.0|                      0|                      0|   13.0|     0.0|[2.0,23.0,0.0,0.0...|\n",
            "|       0|     3|Mrs. Julius (Emel...|female|31.0|                      1|                      0|   18.0|     1.0|[3.0,31.0,1.0,0.0...|\n",
            "|       1|     3|Mrs. Fatima Masse...|female|22.0|                      0|                      0|  7.225|     1.0|[3.0,22.0,0.0,0.0...|\n",
            "+--------+------+--------------------+------+----+-----------------------+-----------------------+-------+--------+--------------------+\n",
            "only showing top 20 rows\n",
            "\n"
          ],
          "name": "stdout"
        }
      ]
    },
    {
      "cell_type": "code",
      "metadata": {
        "id": "KMARSIBOGZt-",
        "colab_type": "code",
        "colab": {
          "base_uri": "https://localhost:8080/",
          "height": 34
        },
        "outputId": "83f7a205-ccea-4a7d-a71c-f0c2684bec92"
      },
      "source": [
        "# Criação do Dataframe df_final com a seleção das colunas que servirão de Label e Features.\n",
        "# Label = Survided e Features = features.\n",
        "\n",
        "print('Criação do Dataframe df_final com a seleção das colunas que servirão de Label e Features')\n",
        "df_final = output.select('features', 'Survived')"
      ],
      "execution_count": 25,
      "outputs": [
        {
          "output_type": "stream",
          "text": [
            "Criação do Dataframe df_final com a seleção das colunas que servirão de Label e Features\n"
          ],
          "name": "stdout"
        }
      ]
    },
    {
      "cell_type": "code",
      "metadata": {
        "id": "aUnlC43bIrr4",
        "colab_type": "code",
        "colab": {
          "base_uri": "https://localhost:8080/",
          "height": 101
        },
        "outputId": "d0f39392-e95a-460e-db2c-b39a9789fa76"
      },
      "source": [
        "# Apresentação da estrutura do Dataframe df_final.\n",
        "\n",
        "print('Apresentação da estrutura do Dataframe df_final')\n",
        "df_final.printSchema()"
      ],
      "execution_count": 26,
      "outputs": [
        {
          "output_type": "stream",
          "text": [
            "Apresentação da estrutura do Dataframe df_final\n",
            "root\n",
            " |-- features: vector (nullable = true)\n",
            " |-- Survived: integer (nullable = true)\n",
            "\n"
          ],
          "name": "stdout"
        }
      ]
    },
    {
      "cell_type": "code",
      "metadata": {
        "id": "xy4gBvRbIvhJ",
        "colab_type": "code",
        "colab": {
          "base_uri": "https://localhost:8080/",
          "height": 470
        },
        "outputId": "227f4051-087f-463a-f2c7-ff95443bf0e8"
      },
      "source": [
        "# Apresentação das 20 primeiras linhas do Dataframe df_final.\n",
        "\n",
        "print('Apresentação das 20 primeiras linhas do Dataframe df_final')\n",
        "\n",
        "df_final.show()"
      ],
      "execution_count": 27,
      "outputs": [
        {
          "output_type": "stream",
          "text": [
            "Apresentação das 20 primeiras linhas do Dataframe df_final\n",
            "+--------------------+--------+\n",
            "|            features|Survived|\n",
            "+--------------------+--------+\n",
            "|[3.0,22.0,1.0,0.0...|       0|\n",
            "|[1.0,38.0,1.0,0.0...|       1|\n",
            "|[3.0,26.0,0.0,0.0...|       1|\n",
            "|[1.0,35.0,1.0,0.0...|       1|\n",
            "|[3.0,35.0,0.0,0.0...|       0|\n",
            "|[3.0,27.0,0.0,0.0...|       0|\n",
            "|[1.0,54.0,0.0,0.0...|       0|\n",
            "|[3.0,2.0,3.0,1.0,...|       0|\n",
            "|[3.0,27.0,0.0,2.0...|       1|\n",
            "|[2.0,14.0,1.0,0.0...|       1|\n",
            "|[3.0,4.0,1.0,1.0,...|       1|\n",
            "|[1.0,58.0,0.0,0.0...|       1|\n",
            "|[3.0,20.0,0.0,0.0...|       0|\n",
            "|[3.0,39.0,1.0,5.0...|       0|\n",
            "|[3.0,14.0,0.0,0.0...|       0|\n",
            "|[2.0,55.0,0.0,0.0...|       1|\n",
            "|[3.0,2.0,4.0,1.0,...|       0|\n",
            "|[2.0,23.0,0.0,0.0...|       1|\n",
            "|[3.0,31.0,1.0,0.0...|       0|\n",
            "|[3.0,22.0,0.0,0.0...|       1|\n",
            "+--------------------+--------+\n",
            "only showing top 20 rows\n",
            "\n"
          ],
          "name": "stdout"
        }
      ]
    },
    {
      "cell_type": "code",
      "metadata": {
        "id": "93EABX7nJOJ9",
        "colab_type": "code",
        "colab": {
          "base_uri": "https://localhost:8080/",
          "height": 34
        },
        "outputId": "c3fd8322-be09-48a5-8d65-8590400f6b36"
      },
      "source": [
        "# Criação dos Dataframes para Treino e Testes.\n",
        "# Treino com 70% do Dataframe df_final.\n",
        "# Teste com 30% do Dataframe df_final.\n",
        "\n",
        "print('Criação dos Dataframes para Treino com 70% do Dataframe df_final e Testes com 30% do Dataframe df_final')\n",
        "treino_data, teste_data = df_final.randomSplit([0.7, 0.3])"
      ],
      "execution_count": 28,
      "outputs": [
        {
          "output_type": "stream",
          "text": [
            "Criação dos Dataframes para Treino com 70% do Dataframe df_final e Testes com 30% do Dataframe df_final\n"
          ],
          "name": "stdout"
        }
      ]
    },
    {
      "cell_type": "code",
      "metadata": {
        "id": "oVaXE5lNJusw",
        "colab_type": "code",
        "colab": {
          "base_uri": "https://localhost:8080/",
          "height": 34
        },
        "outputId": "a11333d4-f76a-46fb-8bf1-e53049184775"
      },
      "source": [
        "# Criação das Variáveis dtc (Árvore de Decisão) e rfc (Floresta Randômica).\n",
        "\n",
        "print('Criação das Variáveis dtc (Árvore de Decisão) e rfc (Floresta Randômica)')\n",
        "dtc = DecisionTreeClassifier(labelCol='Survived', featuresCol='features')\n",
        "rfc = RandomForestClassifier(labelCol='Survived', featuresCol='features')"
      ],
      "execution_count": 29,
      "outputs": [
        {
          "output_type": "stream",
          "text": [
            "Criação das Variáveis dtc (Árvore de Decisão) e rfc (Floresta Randômica)\n"
          ],
          "name": "stdout"
        }
      ]
    },
    {
      "cell_type": "code",
      "metadata": {
        "id": "rAjtY5oOK4Fy",
        "colab_type": "code",
        "colab": {
          "base_uri": "https://localhost:8080/",
          "height": 34
        },
        "outputId": "cb2131ed-c3f5-4241-fb56-e8653f7b27c4"
      },
      "source": [
        "# Criação das Variáveis dtc_modelo (Árvore de Decisão) e rfc_modelo (Floresta Randômica), para realização do treino \n",
        "# dos algoritmos.\n",
        "\n",
        "print('Criação das Variáveis dtc_modelo (Árvore de Decisão) e rfc_modelo (Floresta Randômica)')\n",
        "dtc_modelo = dtc.fit(treino_data)\n",
        "rfc_modelo = rfc.fit(treino_data)"
      ],
      "execution_count": 30,
      "outputs": [
        {
          "output_type": "stream",
          "text": [
            "Criação das Variáveis dtc_modelo (Árvore de Decisão) e rfc_modelo (Floresta Randômica)\n"
          ],
          "name": "stdout"
        }
      ]
    },
    {
      "cell_type": "code",
      "metadata": {
        "id": "ACKxmj55LLIv",
        "colab_type": "code",
        "colab": {
          "base_uri": "https://localhost:8080/",
          "height": 34
        },
        "outputId": "94650e87-75f9-421b-e3dc-73811ec2606e"
      },
      "source": [
        "# Criação das variaveis dtc_preds (Árvore de Decisão) e rfc_preds (Floresta Randômica) para predição dos sobreviventes do Titanic.\n",
        "\n",
        "print('Criação das variaveis dtc_preds (Árvore de Decisão) e rfc_preds (Floresta Randômica) para predição')\n",
        "dtc_preds = dtc_modelo.transform(teste_data)\n",
        "rfc_preds = rfc_modelo.transform(teste_data)"
      ],
      "execution_count": 31,
      "outputs": [
        {
          "output_type": "stream",
          "text": [
            "Criação das variaveis dtc_preds (Árvore de Decisão) e rfc_preds (Floresta Randômica) para predição\n"
          ],
          "name": "stdout"
        }
      ]
    },
    {
      "cell_type": "code",
      "metadata": {
        "id": "ILTXZdT3LnTd",
        "colab_type": "code",
        "colab": {
          "base_uri": "https://localhost:8080/",
          "height": 470
        },
        "outputId": "49359018-f79c-4480-814a-4d73cd08f36d"
      },
      "source": [
        "# Apresentação do Resultado da predição da variável dtc_preds(Árvore de Decisão).\n",
        "\n",
        "print('Apresentação do Resultado da predição da variável dtc_preds(Árvore de Decisão)')\n",
        "dtc_preds.show()"
      ],
      "execution_count": 32,
      "outputs": [
        {
          "output_type": "stream",
          "text": [
            "Apresentação do Resultado da predição da variável dtc_preds(Árvore de Decisão)\n",
            "+--------------------+--------+-------------+--------------------+----------+\n",
            "|            features|Survived|rawPrediction|         probability|prediction|\n",
            "+--------------------+--------+-------------+--------------------+----------+\n",
            "|(6,[0,1],[1.0,30.0])|       0|   [7.0,13.0]|         [0.35,0.65]|       1.0|\n",
            "|(6,[0,1],[1.0,38.0])|       0|  [37.0,13.0]|         [0.74,0.26]|       0.0|\n",
            "|(6,[0,1],[2.0,19.0])|       0| [264.0,38.0]|[0.87417218543046...|       0.0|\n",
            "|(6,[0,1],[2.0,37.0])|       0| [264.0,38.0]|[0.87417218543046...|       0.0|\n",
            "|[1.0,11.0,1.0,2.0...|       1|    [7.0,2.0]|[0.77777777777777...|       0.0|\n",
            "|[1.0,16.0,0.0,0.0...|       1|  [6.0,106.0]|[0.05357142857142...|       1.0|\n",
            "|[1.0,17.0,0.0,2.0...|       1|    [7.0,2.0]|[0.77777777777777...|       0.0|\n",
            "|[1.0,17.0,1.0,0.0...|       1|  [6.0,106.0]|[0.05357142857142...|       1.0|\n",
            "|[1.0,17.0,1.0,0.0...|       1|  [6.0,106.0]|[0.05357142857142...|       1.0|\n",
            "|[1.0,18.0,1.0,0.0...|       0|    [7.0,2.0]|[0.77777777777777...|       0.0|\n",
            "|[1.0,18.0,2.0,2.0...|       1|  [6.0,106.0]|[0.05357142857142...|       1.0|\n",
            "|[1.0,19.0,0.0,2.0...|       1|  [6.0,106.0]|[0.05357142857142...|       1.0|\n",
            "|[1.0,19.0,1.0,0.0...|       0|   [7.0,13.0]|         [0.35,0.65]|       1.0|\n",
            "|[1.0,19.0,3.0,2.0...|       0|    [7.0,2.0]|[0.77777777777777...|       0.0|\n",
            "|[1.0,22.0,0.0,0.0...|       1|  [6.0,106.0]|[0.05357142857142...|       1.0|\n",
            "|[1.0,23.0,1.0,0.0...|       1|  [6.0,106.0]|[0.05357142857142...|       1.0|\n",
            "|[1.0,24.0,0.0,0.0...|       1|  [6.0,106.0]|[0.05357142857142...|       1.0|\n",
            "|[1.0,25.0,1.0,0.0...|       1|   [7.0,13.0]|         [0.35,0.65]|       1.0|\n",
            "|[1.0,25.0,1.0,0.0...|       1|  [6.0,106.0]|[0.05357142857142...|       1.0|\n",
            "|[1.0,25.0,1.0,2.0...|       0|  [6.0,106.0]|[0.05357142857142...|       1.0|\n",
            "+--------------------+--------+-------------+--------------------+----------+\n",
            "only showing top 20 rows\n",
            "\n"
          ],
          "name": "stdout"
        }
      ]
    },
    {
      "cell_type": "code",
      "metadata": {
        "id": "hCOrM7YiL8qB",
        "colab_type": "code",
        "colab": {
          "base_uri": "https://localhost:8080/",
          "height": 470
        },
        "outputId": "65ee38da-ae71-4233-ae21-324cc23338e5"
      },
      "source": [
        "# Apresentação do Resultado da predição da variável rfc_preds(Floresta Randômica).\n",
        "\n",
        "print('Apresentação do Resultado da predição da variável rfc_preds(Floresta Randômica)')\n",
        "rfc_preds.show()"
      ],
      "execution_count": 33,
      "outputs": [
        {
          "output_type": "stream",
          "text": [
            "Apresentação do Resultado da predição da variável rfc_preds(Floresta Randômica)\n",
            "+--------------------+--------+--------------------+--------------------+----------+\n",
            "|            features|Survived|       rawPrediction|         probability|prediction|\n",
            "+--------------------+--------+--------------------+--------------------+----------+\n",
            "|(6,[0,1],[1.0,30.0])|       0|[16.9495895495539...|[0.84747947747769...|       0.0|\n",
            "|(6,[0,1],[1.0,38.0])|       0|[16.9292491593505...|[0.84646245796752...|       0.0|\n",
            "|(6,[0,1],[2.0,19.0])|       0|[17.3812965820289...|[0.86906482910144...|       0.0|\n",
            "|(6,[0,1],[2.0,37.0])|       0|[18.1068547576464...|[0.90534273788232...|       0.0|\n",
            "|[1.0,11.0,1.0,2.0...|       1|[8.59476234042148...|[0.42973811702107...|       1.0|\n",
            "|[1.0,16.0,0.0,0.0...|       1|[1.38520470898854...|[0.06926023544942...|       1.0|\n",
            "|[1.0,17.0,0.0,2.0...|       1|[13.2379475023633...|[0.66189737511816...|       0.0|\n",
            "|[1.0,17.0,1.0,0.0...|       1|[0.84165925685052...|[0.04208296284252...|       1.0|\n",
            "|[1.0,17.0,1.0,0.0...|       1|[1.39873688242129...|[0.06993684412106...|       1.0|\n",
            "|[1.0,18.0,1.0,0.0...|       0|[12.3342650555004...|[0.61671325277502...|       0.0|\n",
            "|[1.0,18.0,2.0,2.0...|       1|[1.57239498317826...|[0.07861974915891...|       1.0|\n",
            "|[1.0,19.0,0.0,2.0...|       1|[0.90092520580157...|[0.04504626029007...|       1.0|\n",
            "|[1.0,19.0,1.0,0.0...|       0|[13.4046087362099...|[0.67023043681049...|       0.0|\n",
            "|[1.0,19.0,3.0,2.0...|       0|[14.0501100485412...|[0.70250550242706...|       0.0|\n",
            "|[1.0,22.0,0.0,0.0...|       1|[1.06119037207098...|[0.05305951860354...|       1.0|\n",
            "|[1.0,23.0,1.0,0.0...|       1|[1.07472254550373...|[0.05373612727518...|       1.0|\n",
            "|[1.0,24.0,0.0,0.0...|       1|[1.14473774650020...|[0.05723688732501...|       1.0|\n",
            "|[1.0,25.0,1.0,0.0...|       1|[13.4046087362099...|[0.67023043681049...|       0.0|\n",
            "|[1.0,25.0,1.0,0.0...|       1|[1.01764491993295...|[0.05088224599664...|       1.0|\n",
            "|[1.0,25.0,1.0,2.0...|       0|[1.19282509070514...|[0.05964125453525...|       1.0|\n",
            "+--------------------+--------+--------------------+--------------------+----------+\n",
            "only showing top 20 rows\n",
            "\n"
          ],
          "name": "stdout"
        }
      ]
    },
    {
      "cell_type": "code",
      "metadata": {
        "id": "VAhp6yuhMQyi",
        "colab_type": "code",
        "colab": {
          "base_uri": "https://localhost:8080/",
          "height": 34
        },
        "outputId": "f96926f6-831b-4b27-c2f4-7bf3e741c7c5"
      },
      "source": [
        "# Criação da variável my_binary_eval para levantamento do percentual de acertos do algoritmo.\n",
        "\n",
        "print('Criação da variável my_binary_eval para levantamento do percentual de acertos do algoritmo')\n",
        "my_binary_eval = BinaryClassificationEvaluator(labelCol='Survived')"
      ],
      "execution_count": 34,
      "outputs": [
        {
          "output_type": "stream",
          "text": [
            "Criação da variável my_binary_eval para levantamento do percentual de acertos do algoritmo\n"
          ],
          "name": "stdout"
        }
      ]
    },
    {
      "cell_type": "code",
      "metadata": {
        "id": "OAbwOxIYMiB6",
        "colab_type": "code",
        "colab": {
          "base_uri": "https://localhost:8080/",
          "height": 50
        },
        "outputId": "d7216a63-9d25-4773-bb53-ee305e619bb2"
      },
      "source": [
        "# Apresentação da Avaliação do Resultado do Algoritmo Machine Learning Arvore de Decisão - Decision Tree\n",
        "\n",
        "print('Imprimindo a Avaliação do Resultado do Algoritmo Machine Learning Arvore de Decisão - Decision Tree')\n",
        "print(my_binary_eval.evaluate(dtc_preds))"
      ],
      "execution_count": 35,
      "outputs": [
        {
          "output_type": "stream",
          "text": [
            "Imprimindo a Avaliação do Resultado do Algoritmo Machine Learning Arvore de Decisão - Decision Tree\n",
            "0.7975460122699385\n"
          ],
          "name": "stdout"
        }
      ]
    },
    {
      "cell_type": "code",
      "metadata": {
        "id": "KgXNIZowM07-",
        "colab_type": "code",
        "colab": {
          "base_uri": "https://localhost:8080/",
          "height": 50
        },
        "outputId": "55ba06c2-128c-410e-d31c-1e4feac99dd8"
      },
      "source": [
        "# Apresentação da Avaliação do Resultado do Algoritmo Machine Learning Floresta Randômica - Random Forrest\n",
        "\n",
        "print('Imprimindo a Avaliação do Resultado do Algoritmo Machine Learning Floresta Randômica - Random Forrest')\n",
        "print(my_binary_eval.evaluate(rfc_preds))"
      ],
      "execution_count": 36,
      "outputs": [
        {
          "output_type": "stream",
          "text": [
            "Imprimindo a Avaliação do Resultado do Algoritmo Machine Learning Floresta Randômica - Random Forrest\n",
            "0.9068860730462703\n"
          ],
          "name": "stdout"
        }
      ]
    },
    {
      "cell_type": "code",
      "metadata": {
        "id": "BH7Vta8uOQlo",
        "colab_type": "code",
        "colab": {
          "base_uri": "https://localhost:8080/",
          "height": 50
        },
        "outputId": "a2889b48-5cde-4aa0-d46b-524b2906782d"
      },
      "source": [
        "#Aumentando o número de arvores de 20 para 300.\n",
        "\n",
        "rfc = RandomForestClassifier(numTrees=300, labelCol='Survived', featuresCol='features')\n",
        "rfc_modelo = rfc.fit(treino_data)\n",
        "rfc_preds = rfc_modelo.transform(teste_data)\n",
        "print('Imprimindo a Avaliação do Resultado do Algoritmo Machine Learning Floresta Randômica - 300 árvores')\n",
        "print(my_binary_eval.evaluate(dtc_preds))"
      ],
      "execution_count": 37,
      "outputs": [
        {
          "output_type": "stream",
          "text": [
            "Imprimindo a Avaliação do Resultado do Algoritmo Machine Learning Floresta Randômica - 300 árvores\n",
            "0.7975460122699385\n"
          ],
          "name": "stdout"
        }
      ]
    }
  ]
}