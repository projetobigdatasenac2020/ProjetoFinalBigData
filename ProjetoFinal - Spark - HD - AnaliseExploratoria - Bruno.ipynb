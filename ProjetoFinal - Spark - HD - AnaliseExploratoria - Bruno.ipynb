{
 "metadata": {
  "language_info": {
   "codemirror_mode": {
    "name": "ipython",
    "version": 3
   },
   "file_extension": ".py",
   "mimetype": "text/x-python",
   "name": "python",
   "nbconvert_exporter": "python",
   "pygments_lexer": "ipython3",
   "version": "3.8.5-final"
  },
  "orig_nbformat": 2,
  "kernelspec": {
   "name": "python_defaultSpec_1600576698074",
   "display_name": "Python 3.8.5 64-bit"
  }
 },
 "nbformat": 4,
 "nbformat_minor": 2,
 "cells": [
  {
   "cell_type": "code",
   "execution_count": 2,
   "metadata": {
    "tags": []
   },
   "outputs": [
    {
     "output_type": "stream",
     "name": "stdout",
     "text": "Ativação das bibliotecas iniciada - 2020-09-20 13:51:37.674009.\nAtivação das bibliotecas com sucesso - 2020-09-20 13:51:44.615042.\n"
    }
   ],
   "source": [
    "#Importação das bibliotecas utilizadas para manipulação dos dados das paginas Web.\n",
    "\n",
    "from datetime import datetime\n",
    "\n",
    "print(f'Ativação das bibliotecas iniciada - {datetime.now()}.')\n",
    "\n",
    "from bs4 import BeautifulSoup\n",
    "import urllib.request\n",
    "import shutil\n",
    "import os\n",
    "import pandas as pd\n",
    "import pyspark\n",
    "import zipfile\n",
    "import sqlalchemy\n",
    "import pymysql\n",
    "import json\n",
    "import numpy as np\n",
    "import matplotlib.pyplot as plt\n",
    "import seaborn as sns\n",
    "from pyspark import SparkContext\n",
    "from pyspark.sql import SQLContext\n",
    "from pyspark.sql.functions import * \n",
    "\n",
    "print(f'Ativação das bibliotecas com sucesso - {datetime.now()}.')"
   ]
  },
  {
   "cell_type": "code",
   "execution_count": 3,
   "metadata": {
    "tags": []
   },
   "outputs": [
    {
     "output_type": "stream",
     "name": "stdout",
     "text": "Intanciando o Spark - 2020-09-20 13:51:44.642027.\nSpark intanciado com sucesso - 2020-09-20 13:52:08.413360.\n"
    }
   ],
   "source": [
    "# Instanciar Spark\n",
    "\n",
    "print(f'Intanciando o Spark - {datetime.now()}.')\n",
    "\n",
    "sc = SparkContext()\n",
    "sqlContext = SQLContext(sc)\n",
    "\n",
    "print(f'Spark intanciado com sucesso - {datetime.now()}.')"
   ]
  },
  {
   "cell_type": "code",
   "execution_count": 11,
   "metadata": {
    "tags": []
   },
   "outputs": [
    {
     "output_type": "stream",
     "name": "stdout",
     "text": "Criação Dataframes Iniciado - 2020-09-20 14:06:58.236360.\n\n\nCriação Dataframe do Enem 2015 iniciada - 2020-09-20 14:06:58.237358.\nDataframe df_enem2015_completo criado com sucesso - 2020-09-20 14:10:21.018170.\n\n"
    }
   ],
   "source": [
    "# No Processo abaixo, importaremos para o dataframe, apenas para conhecer os dados e verificar o separador do microdado.\n",
    "\n",
    "print('')\n",
    "print(f'Criação Dataframe do Enem 2015 iniciada - {datetime.now()}.')\n",
    "df_enem2015_completo = sqlContext.read.format('com.databricks.spark.csv').options(header='true', sep=\",\", inferschema='true', encoding = 'ISO-8859-1', ).load(r'C:\\Users\\pc\\Downloads\\MicrodadosEnem\\MICRODADOS_ENEM_2015.csv')\n",
    "print(f'Dataframe df_enem2015_completo criado com sucesso - {datetime.now()}.')\n",
    "print('')"
   ]
  },
  {
   "cell_type": "code",
   "execution_count": 4,
   "metadata": {
    "tags": []
   },
   "outputs": [
    {
     "output_type": "stream",
     "name": "stdout",
     "text": "Criação Dataframe do Enem 2016 iniciada- 2020-09-20 13:52:11.202446.\nDataframe df_enem2016_completo criado com sucesso - 2020-09-20 13:56:13.563359.\n\n"
    }
   ],
   "source": [
    "print(f'Criação Dataframe do Enem 2016 iniciada- {datetime.now()}.')\n",
    "df_enem2016_completo = sqlContext.read.format('com.databricks.spark.csv').options(header='true', sep=\";\", inferschema='true', encoding = 'ISO-8859-1').load(r'C:\\Users\\pc\\Downloads\\MicrodadosEnem\\microdados_enem_2016.csv')\n",
    "print(f'Dataframe df_enem2016_completo criado com sucesso - {datetime.now()}.')\n",
    "print('')"
   ]
  },
  {
   "cell_type": "code",
   "execution_count": 5,
   "metadata": {
    "tags": []
   },
   "outputs": [
    {
     "output_type": "stream",
     "name": "stdout",
     "text": "Criação Dataframe do Enem 2017 iniciada - 2020-09-20 13:56:13.594340.\nDataframe df_enem2017_completo criado com sucesso - 2020-09-20 13:58:59.372648.\n\n"
    }
   ],
   "source": [
    "print(f'Criação Dataframe do Enem 2017 iniciada - {datetime.now()}.')\n",
    "df_enem2017_completo = sqlContext.read.format('com.databricks.spark.csv').options(header='true', sep=\";\", inferschema='true', encoding = 'ISO-8859-1').load(r'C:\\Users\\pc\\Downloads\\MicrodadosEnem\\MICRODADOS_ENEM_2017.csv')\n",
    "print(f'Dataframe df_enem2017_completo criado com sucesso - {datetime.now()}.')\n",
    "print('')"
   ]
  },
  {
   "cell_type": "code",
   "execution_count": 7,
   "metadata": {
    "tags": []
   },
   "outputs": [
    {
     "output_type": "stream",
     "name": "stdout",
     "text": "Criação Dataframe do Enem 2018 iniciada - 2020-09-20 14:01:13.661042.\nDataframe df_enem2018_completo criado com sucesso - 2020-09-20 14:03:32.914198.\n\n"
    }
   ],
   "source": [
    "print(f'Criação Dataframe do Enem 2018 iniciada - {datetime.now()}.')\n",
    "df_enem2018_completo = sqlContext.read.format('com.databricks.spark.csv').options(header='true', sep=\";\", inferschema='true', encoding = 'ISO-8859-1').load(r'C:\\Users\\pc\\Downloads\\MicrodadosEnem\\MICRODADOS_ENEM_2018.csv')\n",
    "print(f'Dataframe df_enem2018_completo criado com sucesso - {datetime.now()}.')\n",
    "print('')"
   ]
  },
  {
   "cell_type": "code",
   "execution_count": 6,
   "metadata": {
    "tags": []
   },
   "outputs": [
    {
     "output_type": "stream",
     "name": "stdout",
     "text": "Criação Dataframe do Enem 2019 iniciada - 2020-09-20 13:58:59.410624.\nDataframe df_enem2019_completo criado com sucesso - 2020-09-20 14:01:13.577096.\n\n\nDataframes criados com sucesso - 2020-09-20 14:01:13.579092.\n"
    }
   ],
   "source": [
    "# No Processo abaixo, importaremos para o dataframe, apenas para conhecer os dados e verificar o separador do microdado.\n",
    "\n",
    "print(f'Criação Dataframe do Enem 2019 iniciada - {datetime.now()}.')\n",
    "df_enem2019_completo = sqlContext.read.format('com.databricks.spark.csv').options(header='true', sep=\";\", inferschema='true', encoding = 'ISO-8859-1').load(r'C:\\Users\\pc\\Downloads\\MicrodadosEnem\\MICRODADOS_ENEM_2019.csv')\n",
    "print(f'Dataframe df_enem2019_completo criado com sucesso - {datetime.now()}.')\n",
    "print('')\n",
    "\n",
    "print('')\n",
    "print(f'Dataframes criados com sucesso - {datetime.now()}.')"
   ]
  },
  {
   "cell_type": "code",
   "execution_count": 8,
   "metadata": {
    "tags": []
   },
   "outputs": [
    {
     "output_type": "stream",
     "name": "stdout",
     "text": "Criação da variável columns e seleção das colunas para realização das analises exploratórias - 2020-09-20 14:03:32.978159.\n"
    }
   ],
   "source": [
    "# Criação e seleção das colunas para realização das analises exploratórias\n",
    "\n",
    "print(f'Criação da variável columns e seleção das colunas para realização das analises exploratórias - {datetime.now()}.')\n",
    "\n",
    "columns = ['NU_INSCRICAO', 'NU_ANO', 'NO_MUNICIPIO_RESIDENCIA', 'CO_UF_RESIDENCIA', 'SG_UF_RESIDENCIA', 'NU_IDADE', 'TP_SEXO', 'TP_ESTADO_CIVIL', 'TP_COR_RACA', 'TP_NACIONALIDADE', 'NO_MUNICIPIO_NASCIMENTO', 'CO_UF_NASCIMENTO', 'SG_UF_NASCIMENTO', 'TP_ST_CONCLUSAO', 'TP_ESCOLA', 'TP_ENSINO', 'IN_TREINEIRO', 'CO_UF_ESC', 'SG_UF_ESC', 'TP_DEPENDENCIA_ADM_ESC', 'TP_LOCALIZACAO_ESC', 'IN_BAIXA_VISAO', 'IN_CEGUEIRA', 'IN_SURDEZ', 'IN_DEFICIENCIA_AUDITIVA', 'IN_SURDO_CEGUEIRA', 'IN_DEFICIENCIA_FISICA', 'IN_DEFICIENCIA_MENTAL', 'IN_DEFICIT_ATENCAO', 'IN_DISLEXIA', 'IN_DISCALCULIA', 'IN_AUTISMO', 'IN_VISAO_MONOCULAR', 'IN_OUTRA_DEF', 'IN_GESTANTE', 'IN_LACTANTE', 'IN_IDOSO', 'IN_ESTUDA_CLASSE_HOSPITALAR', 'IN_SEM_RECURSO', 'IN_BRAILLE', 'IN_AMPLIADA_24', 'IN_AMPLIADA_18', 'IN_LEDOR', 'IN_ACESSO', 'IN_TRANSCRICAO', 'IN_LIBRAS', 'IN_LEITURA_LABIAL', 'IN_MESA_CADEIRA_RODAS', 'IN_MESA_CADEIRA_SEPARADA', 'IN_APOIO_PERNA', 'IN_GUIA_INTERPRETE', 'IN_COMPUTADOR', 'IN_CADEIRA_ESPECIAL', 'IN_CADEIRA_CANHOTO', 'IN_CADEIRA_ACOLCHOADA', 'IN_PROVA_DEITADO', 'IN_MOBILIARIO_OBESO', 'IN_LAMINA_OVERLAY', 'IN_PROTETOR_AURICULAR', 'IN_MEDIDOR_GLICOSE', 'IN_MAQUINA_BRAILE', 'IN_SOROBAN', 'IN_MARCA_PASSO', 'IN_SONDA', 'IN_MEDICAMENTOS', 'IN_SALA_INDIVIDUAL', 'IN_SALA_ESPECIAL', 'IN_SALA_ACOMPANHANTE', 'IN_MOBILIARIO_ESPECIFICO', 'IN_NOME_SOCIAL', 'NO_MUNICIPIO_PROVA', 'CO_UF_PROVA', 'SG_UF_PROVA', 'TP_PRESENCA_CN', 'TP_PRESENCA_CH', 'TP_PRESENCA_LC', 'TP_PRESENCA_MT', 'NU_NOTA_CN', 'NU_NOTA_CH', 'NU_NOTA_LC', 'NU_NOTA_MT', 'TP_LINGUA', 'TP_STATUS_REDACAO', 'NU_NOTA_COMP1', 'NU_NOTA_COMP2', 'NU_NOTA_COMP3', 'NU_NOTA_COMP4', 'NU_NOTA_COMP5', 'NU_NOTA_REDACAO', 'Q001', 'Q002', 'Q005', 'Q006', 'Q022', 'Q024', 'Q025']"
   ]
  },
  {
   "cell_type": "code",
   "execution_count": 14,
   "metadata": {
    "tags": []
   },
   "outputs": [
    {
     "output_type": "stream",
     "name": "stdout",
     "text": "Criação Dataframes Iniciado - 2020-09-20 14:12:22.499138.\n\n\nCriação Dataframe do Enem 2015 iniciada - 2020-09-20 14:12:22.500136.\nDataframe df_enem2015 criado com sucesso - 2020-09-20 14:12:23.332623.\n\n\nCriação Dataframe do Enem 2016 iniciada - 2020-09-20 14:12:23.333624.\nDataframe df_enem2016 criado com sucesso - 2020-09-20 14:12:23.992818.\n\n\nCriação Dataframe do Enem 2017 iniciada - 2020-09-20 14:12:24.025799.\nDataframe df_enem2017 criado com sucesso - 2020-09-20 14:12:24.822915.\n\n\nCriação Dataframe do Enem 2018 iniciada - 2020-09-20 14:12:24.825912.\nDataframe df_enem2018 criado com sucesso - 2020-09-20 14:12:25.587442.\n\n\nCriação Dataframe do Enem 2019 iniciada - 2020-09-20 14:12:25.590440.\nDataframe df_enem2019 criado com sucesso - 2020-09-20 14:12:26.159091.\n\n"
    }
   ],
   "source": [
    "# No Processo abaixo, criaremos dataframes, apenas com colunas selecionadas.\n",
    "\n",
    "print(f'Criação Dataframes Iniciado - {datetime.now()}.')\n",
    "print('')\n",
    "\n",
    "print('')\n",
    "print(f'Criação Dataframe do Enem 2015 iniciada - {datetime.now()}.')\n",
    "df_enem2015 = df_enem2015_completo.select(columns)\n",
    "print(f'Dataframe df_enem2015 criado com sucesso - {datetime.now()}.')\n",
    "print('')\n",
    "\n",
    "print('')\n",
    "print(f'Criação Dataframe do Enem 2016 iniciada - {datetime.now()}.')\n",
    "df_enem2016 = df_enem2016_completo.select(columns)\n",
    "print(f'Dataframe df_enem2016 criado com sucesso - {datetime.now()}.')\n",
    "print('')\n",
    "\n",
    "print('')\n",
    "print(f'Criação Dataframe do Enem 2017 iniciada - {datetime.now()}.')\n",
    "df_enem2017 = df_enem2017_completo.select(columns)\n",
    "print(f'Dataframe df_enem2017 criado com sucesso - {datetime.now()}.')\n",
    "print('')\n",
    "\n",
    "print('')\n",
    "print(f'Criação Dataframe do Enem 2018 iniciada - {datetime.now()}.')\n",
    "df_enem2018 = df_enem2018_completo.select(columns)\n",
    "print(f'Dataframe df_enem2018 criado com sucesso - {datetime.now()}.')\n",
    "print('')\n",
    "\n",
    "print('')\n",
    "print(f'Criação Dataframe do Enem 2019 iniciada - {datetime.now()}.')\n",
    "df_enem2019 = df_enem2019_completo.select(columns)\n",
    "print(f'Dataframe df_enem2019 criado com sucesso - {datetime.now()}.')\n",
    "print('')"
   ]
  },
  {
   "cell_type": "code",
   "execution_count": 15,
   "metadata": {
    "tags": []
   },
   "outputs": [
    {
     "output_type": "stream",
     "name": "stdout",
     "text": "Criação Dataframe do df_enem iniciada - 2020-09-20 14:12:49.685729.\nDataframe df_enem criado com sucesso - 2020-09-20 14:12:50.133452.\n"
    }
   ],
   "source": [
    "# Criação de um dataframe uníco, com a união de todos os dataframes criados. \n",
    "\n",
    "print(f'Criação Dataframe do df_enem iniciada - {datetime.now()}.')\n",
    "\n",
    "df_enem = df_enem2015.unionAll(df_enem2016).unionAll(df_enem2017).unionAll(df_enem2018).unionAll(df_enem2019)\n",
    "\n",
    "print(f'Dataframe df_enem criado com sucesso - {datetime.now()}.')"
   ]
  },
  {
   "cell_type": "code",
   "execution_count": null,
   "metadata": {
    "tags": []
   },
   "outputs": [],
   "source": [
    "# Criação das colunas de classificação do dataframe df_enem_analise. \n",
    "\n",
    "print(f'Criação das Colunas Análise Exploratória - {datetime.now()}.')\n",
    "\n",
    "df_enem_sexo = df_enem.withColumn('SEXO', expr(\"case when TP_SEXO = 'M' then 'Masculino' \" + \"when TP_SEXO = 'F' then 'Feminino' \" + \"else '' end\"))\n",
    "\n",
    "df_enem_estado_civil = df_enem_sexo.withColumn('ESTADO_CIVIL', expr(\"case when NU_ANO <> 2019 AND TP_ESTADO_CIVIL = 0 then 'Solteiro(a)' \" + \"when NU_ANO <> 2019 AND TP_ESTADO_CIVIL = 1 then 'Casado(a)/Mora com companheiro(a)' \" + \"when NU_ANO <> 2019 AND TP_ESTADO_CIVIL = 2 then 'Divorciado(a)/Desquitado(a)/Separado(a)' \" + \n",
    "\"when NU_ANO <> 2019 AND TP_ESTADO_CIVIL = 3 then 'Viúvo(a)' \" + \"when NU_ANO = 2019 AND TP_ESTADO_CIVIL = 0 then '' \" + \"when NU_ANO = 2019 AND TP_ESTADO_CIVIL = 1 then 'Solteiro(a)' \" + \"when NU_ANO = 2019 AND TP_ESTADO_CIVIL = 2 then 'Casado(a)/Mora com companheiro(a)' \" + \"when NU_ANO = 2019 AND TP_ESTADO_CIVIL = 3 then 'Divorciado(a)/Desquitado(a)/Separado(a)' \" + \"when NU_ANO = 2019 AND TP_ESTADO_CIVIL = 4 then 'Viúvo(a)' \" + \"else '' end\"))\n",
    "\n",
    "df_enem_raca = df_enem_estado_civil.withColumn('RACA', expr(\"case when TP_COR_RACA = 0 then 'Não declarado' \" + \"when TP_COR_RACA = 1 then 'Branca' \" + \"when TP_COR_RACA = 2 then 'Preta' \" + \"when TP_COR_RACA = 3 then 'Parda' \" + \"when TP_COR_RACA = 4 then 'Amarela' \" + \"when TP_COR_RACA = 5 then 'Indígena ' \" + \"else '' end\"))\n",
    "\n",
    "df_enem_nacionalidade = df_enem_raca.withColumn('NACIONALIDADE', expr(\"case when TP_NACIONALIDADE = 0 then 'Não informado' \" + \"when TP_NACIONALIDADE = 1 then 'Brasileiro(a)' \" + \"when TP_NACIONALIDADE = 2 then 'Brasileiro(a) Naturalizado(a)' \" + \"when TP_NACIONALIDADE = 3 then 'Estrangeiro(a)' \" + \"when TP_NACIONALIDADE = 4 then 'Brasileiro(a) Nato(a), nascido(a) no exterior' \" + \"else '' end\"))\n",
    "\n",
    "df_enem_st_conclusao = df_enem_nacionalidade.withColumn('SITUACAO_CONCLUSAO_ENSINO_MEDIO', expr(\"case when TP_ST_CONCLUSAO = 1 then 'Já concluí o Ensino Médio' \" + \"when TP_ST_CONCLUSAO = 2 then 'Estou cursando e concluirei o Ensino Médio no ano' \" + \"when TP_ST_CONCLUSAO = 3 then 'Estou cursando e concluirei o Ensino Médio após este ano' \" + \"when TP_ST_CONCLUSAO = 4 then 'Não concluí e não estou cursando o Ensino Médio' \" + \"else '' end\"))\n",
    "\n",
    "df_enem_tp_escola = df_enem_st_conclusao.withColumn('TIPO_ESCOLA', expr(\"case when TP_ESCOLA = 1 then 'Não Respondeu' \" + \"when TP_ESCOLA = 2 then 'Pública' \" + \"when TP_ESCOLA = 3 then 'Privada' \" + \"when TP_ESCOLA = 4 then 'Exterior' \" + \"else '' end\"))\n",
    "\n",
    "df_enem_tp_ensino = df_enem_tp_escola.withColumn('TIPO_ENSINO', expr(\"case when TP_ENSINO = 1 then 'Ensino Regular' \" + \"when TP_ENSINO = 2 then 'Educação Especial - Modalidade Substitutiva' \" + \"when TP_ENSINO = 3 then 'Educação de Jovens e Adultos' \" + \"else '' end\"))\n",
    "\n",
    "df_enem_in_treineiro = df_enem_tp_ensino.withColumn('TREINEIRO', expr(\"case when IN_TREINEIRO = 0 then 'Não' \" + \"when IN_TREINEIRO = 1 then 'Sim' \" + \"else '' end\"))\n",
    "\n",
    "df_enem_tp_dependencia_adm_esc = df_enem_in_treineiro.withColumn('DEPENDENCIA_ADMINISTRATIVA_ESCOLA', expr(\"case when TP_DEPENDENCIA_ADM_ESC = 1 then 'Federal' \" + \"when TP_DEPENDENCIA_ADM_ESC = 2 then 'Estadual' \" + \"when TP_DEPENDENCIA_ADM_ESC = 3 then 'Municipal' \" + \"when TP_DEPENDENCIA_ADM_ESC = 4 then 'Privada' \" + \"else '' end\"))\n",
    "\n",
    "df_enem_tp_localizacao_esc = df_enem_tp_dependencia_adm_esc.withColumn('LOCALIZACAO_ESCOLA', expr(\"case when TP_LOCALIZACAO_ESC = 1 then 'Urbana' \" + \"when TP_LOCALIZACAO_ESC = 2 then 'Rural' \" + \"else '' end\"))\n",
    "\n",
    "df_enem_in_baixa_visao = df_enem_tp_localizacao_esc.withColumn('BAIXA_VISAO', expr(\"case when IN_BAIXA_VISAO = 0 then 'Não' \" + \"when IN_BAIXA_VISAO = 1 then 'Sim' \" + \"else '' end\"))\n",
    "\n",
    "df_enem_in_cegueira = df_enem_in_baixa_visao.withColumn('CEGUEIRA', expr(\"case when IN_CEGUEIRA = 0 then 'Não' \" + \"when IN_CEGUEIRA = 1 then 'Sim' \" + \"else '' end\"))\n",
    "\n",
    "df_enem_in_surdez = df_enem_in_cegueira.withColumn('SURDEZ', expr(\"case when IN_SURDEZ = 0 then 'Não' \" + \"when IN_SURDEZ = 1 then 'Sim' \" + \"else '' end\"))\n",
    "\n",
    "df_enem_in_deficiencia_auditiva = df_enem_in_surdez.withColumn('DEFICIENCIA_AUDITIVA', expr(\"case when IN_DEFICIENCIA_AUDITIVA = 0 then 'Não' \" + \"when IN_DEFICIENCIA_AUDITIVA = 1 then 'Sim' \" + \"else '' end\"))\n",
    "\n",
    "df_enem_in_surdo_cegueira = df_enem_in_deficiencia_auditiva.withColumn('SURDO_CEGUEIRA', expr(\"case when IN_SURDO_CEGUEIRA = 0 then 'Não' \" + \"when IN_SURDO_CEGUEIRA = 1 then 'Sim' \" + \"else '' end\"))\n",
    "\n",
    "df_enem_in_deficiencia_fisica = df_enem_in_surdo_cegueira.withColumn('DEFICIENCIA_FISICA', expr(\"case when IN_DEFICIENCIA_FISICA = 0 then 'Não' \" + \"when IN_DEFICIENCIA_FISICA = 1 then 'Sim' \" + \"else '' end\"))\n",
    "\n",
    "df_enem_in_deficiencia_mental = df_enem_in_deficiencia_fisica.withColumn('DEFICIENCIA_MENTAL', expr(\"case when IN_DEFICIENCIA_MENTAL = 0 then 'Não' \" + \"when IN_DEFICIENCIA_MENTAL = 1 then 'Sim' \" + \"else '' end\"))\n",
    "\n",
    "df_enem_in_deficit_atencao = df_enem_in_deficiencia_mental.withColumn('DEFICIT_ATENCAO', expr(\"case when IN_DEFICIT_ATENCAO = 0 then 'Não' \" + \"when IN_DEFICIT_ATENCAO = 1 then 'Sim' \" + \"else '' end\"))\n",
    "\n",
    "df_enem_in_dislexia = df_enem_in_deficit_atencao.withColumn('DISLEXIA', expr(\"case when IN_DISLEXIA = 0 then 'Não' \" + \"when IN_DISLEXIA = 1 then 'Sim' \" + \"else '' end\"))\n",
    "\n",
    "df_enem_in_discalculia = df_enem_in_dislexia.withColumn('DISCALCULIA', expr(\"case when IN_DISCALCULIA = 0 then 'Não' \" + \"when IN_DISCALCULIA = 1 then 'Sim' \" + \"else '' end\"))\n",
    "\n",
    "df_enem_in_autismo = df_enem_in_discalculia.withColumn('AUTISMO', expr(\"case when IN_AUTISMO = 0 then 'Não' \" + \"when IN_AUTISMO = 1 then 'Sim' \" + \"else '' end\"))\n",
    "\n",
    "df_enem_in_visao_monocular = df_enem_in_autismo.withColumn('VISAO_MONOCULAR', expr(\"case when IN_VISAO_MONOCULAR = 0 then 'Não' \" + \"when IN_VISAO_MONOCULAR = 1 then 'Sim' \" + \"else '' end\"))\n",
    "\n",
    "df_enem_in_outra_def = df_enem_in_visao_monocular.withColumn('OUTRA_DEF', expr(\"case when IN_OUTRA_DEF = 0 then 'Não' \" + \"when IN_OUTRA_DEF = 1 then 'Sim' \" + \"else '' end\"))\n",
    "\n",
    "df_enem_in_gestante = df_enem_in_outra_def.withColumn('GESTANTE', expr(\"case when IN_GESTANTE = 0 then 'Não' \" + \"when IN_GESTANTE = 1 then 'Sim' \" + \"else '' end\"))\n",
    "\n",
    "df_enem_in_lactante = df_enem_in_gestante.withColumn('LACTANTE', expr(\"case when IN_LACTANTE = 0 then 'Não' \" + \"when IN_LACTANTE = 1 then 'Sim' \" + \"else '' end\"))\n",
    "\n",
    "df_enem_in_idoso = df_enem_in_lactante.withColumn('IDOSO', expr(\"case when IN_IDOSO = 0 then 'Não' \" + \"when IN_IDOSO = 1 then 'Sim' \" + \"else '' end\"))\n",
    "\n",
    "df_enem_in_estuda_classe_hospitalar = df_enem_in_idoso.withColumn('ESTUDA_CLASSE_HOSPITALAR', expr(\"case when IN_ESTUDA_CLASSE_HOSPITALAR = 0 then 'Não' \" + \"when IN_ESTUDA_CLASSE_HOSPITALAR = 1 then 'Sim' \" + \"else '' end\"))\n",
    "\n",
    "df_enem_in_sem_recurso = df_enem_in_estuda_classe_hospitalar.withColumn('SEM_RECURSO', expr(\"case when IN_SEM_RECURSO = 0 then 'Não' \" + \"when IN_SEM_RECURSO = 1 then 'Sim' \" + \"else '' end\"))\n",
    "\n",
    "df_enem_in_braille = df_enem_in_sem_recurso.withColumn('BRAILLE', expr(\"case when IN_BRAILLE = 0 then 'Não' \" + \"when IN_BRAILLE = 1 then 'Sim' \" + \"else '' end\"))\n",
    "\n",
    "df_enem_in_ampliada_24 = df_enem_in_braille.withColumn('AMPLIADA_24', expr(\"case when IN_AMPLIADA_24 = 0 then 'Não' \" + \"when IN_AMPLIADA_24 = 1 then 'Sim' \" + \"else '' end\"))\n",
    "\n",
    "df_enem_in_ampliada_18 = df_enem_in_ampliada_24.withColumn('AMPLIADA_18', expr(\"case when IN_AMPLIADA_18 = 0 then 'Não' \" + \"when IN_AMPLIADA_18 = 1 then 'Sim' \" + \"else '' end\"))\n",
    "\n",
    "df_enem_in_ledor = df_enem_in_ampliada_18.withColumn('LEDOR', expr(\"case when IN_LEDOR = 0 then 'Não' \" + \"when IN_LEDOR = 1 then 'Sim' \" + \"else '' end\"))\n",
    "\n",
    "df_enem_in_acesso = df_enem_in_ledor.withColumn('ACESSO', expr(\"case when IN_ACESSO = 0 then 'Não' \" + \"when IN_ACESSO = 1 then 'Sim' \" + \"else '' end\"))\n",
    "\n",
    "df_enem_in_transcricao = df_enem_in_acesso.withColumn('TRANSCRICAO', expr(\"case when IN_TRANSCRICAO = 0 then 'Não' \" + \"when IN_TRANSCRICAO = 1 then 'Sim' \" + \"else '' end\"))\n",
    "\n",
    "df_enem_in_libras = df_enem_in_transcricao.withColumn('LIBRAS', expr(\"case when IN_LIBRAS = 0 then 'Não' \" + \"when IN_LIBRAS = 1 then 'Sim' \" + \"else '' end\"))\n",
    "\n",
    "df_enem_in_leitura_labial = df_enem_in_libras.withColumn('LEITURA_LABIAL', expr(\"case when IN_LEITURA_LABIAL = 0 then 'Não' \" + \"when IN_LEITURA_LABIAL = 1 then 'Sim' \" + \"else '' end\"))\n",
    "\n",
    "df_enem_in_mesa_cadeira_rodas = df_enem_in_leitura_labial.withColumn('MESA_CADEIRA_RODAS', expr(\"case when IN_MESA_CADEIRA_RODAS = 0 then 'Não' \" + \"when IN_MESA_CADEIRA_RODAS = 1 then 'Sim' \" + \"else '' end\"))\n",
    "\n",
    "df_enem_in_mesa_cadeira_separada = df_enem_in_mesa_cadeira_rodas.withColumn('MESA_CADEIRA_SEPARADA', expr(\"case when IN_MESA_CADEIRA_SEPARADA = 0 then 'Não' \" + \"when IN_MESA_CADEIRA_SEPARADA = 1 then 'Sim' \" + \"else '' end\"))\n",
    "\n",
    "df_enem_in_apoio_perna = df_enem_in_mesa_cadeira_separada.withColumn('APOIO_PERNA', expr(\"case when IN_APOIO_PERNA = 0 then 'Não' \" + \"when IN_APOIO_PERNA = 1 then 'Sim' \" + \"else '' end\"))\n",
    "\n",
    "df_enem_in_guia_interprete = df_enem_in_apoio_perna.withColumn('GUIA_INTERPRETE', expr(\"case when IN_GUIA_INTERPRETE = 0 then 'Não' \" + \"when IN_GUIA_INTERPRETE = 1 then 'Sim' \" + \"else '' end\"))\n",
    "\n",
    "df_enem_in_computador = df_enem_in_guia_interprete.withColumn('COMPUTADOR', expr(\"case when IN_COMPUTADOR = 0 then 'Não' \" + \"when IN_COMPUTADOR = 1 then 'Sim' \" + \"else '' end\"))\n",
    "\n",
    "df_enem_in_cadeira_especial = df_enem_in_computador.withColumn('CADEIRA_ESPECIAL', expr(\"case when IN_CADEIRA_ESPECIAL = 0 then 'Não' \" + \"when IN_CADEIRA_ESPECIAL = 1 then 'Sim' \" + \"else '' end\"))\n",
    "\n",
    "df_enem_in_cadeira_canhoto = df_enem_in_cadeira_especial.withColumn('CADEIRA_CANHOTO', expr(\"case when IN_CADEIRA_CANHOTO = 0 then 'Não' \" + \"when IN_CADEIRA_CANHOTO = 1 then 'Sim' \" + \"else '' end\"))\n",
    "\n",
    "df_enem_in_cadeira_acolchoada = df_enem_in_cadeira_canhoto.withColumn('CADEIRA_ACOLCHOADA', expr(\"case when IN_CADEIRA_ACOLCHOADA = 0 then 'Não' \" + \"when IN_CADEIRA_ACOLCHOADA = 1 then 'Sim' \" + \"else '' end\"))\n",
    "\n",
    "df_enem_in_prova_deitado = df_enem_in_cadeira_acolchoada.withColumn('PROVA_DEITADO', expr(\"case when IN_PROVA_DEITADO = 0 then 'Não' \" + \"when IN_PROVA_DEITADO = 1 then 'Sim' \" + \"else '' end\"))\n",
    "\n",
    "df_enem_in_mobiliario_obeso = df_enem_in_prova_deitado.withColumn('MOBILIARIO_OBESO', expr(\"case when IN_MOBILIARIO_OBESO = 0 then 'Não' \" + \"when IN_MOBILIARIO_OBESO = 1 then 'Sim' \" + \"else '' end\"))\n",
    "\n",
    "df_enem_in_lamina_overlay = df_enem_in_mobiliario_obeso.withColumn('LAMINA_OVERLAY', expr(\"case when IN_LAMINA_OVERLAY = 0 then 'Não' \" + \"when IN_LAMINA_OVERLAY = 1 then 'Sim' \" + \"else '' end\"))\n",
    "\n",
    "df_enem_in_protetor_auricular = df_enem_in_lamina_overlay.withColumn('PROTETOR_AURICULAR', expr(\"case when IN_PROTETOR_AURICULAR = 0 then 'Não' \" + \"when IN_PROTETOR_AURICULAR = 1 then 'Sim' \" + \"else '' end\"))\n",
    "\n",
    "df_enem_in_medidor_glicose = df_enem_in_protetor_auricular.withColumn('MEDIDOR_GLICOSE', expr(\"case when IN_MEDIDOR_GLICOSE = 0 then 'Não' \" + \"when IN_MEDIDOR_GLICOSE = 1 then 'Sim' \" + \"else '' end\"))\n",
    "\n",
    "df_enem_in_maquina_braile = df_enem_in_medidor_glicose.withColumn('MAQUINA_BRAILE', expr(\"case when IN_MAQUINA_BRAILE = 0 then 'Não' \" + \"when IN_MAQUINA_BRAILE = 1 then 'Sim' \" + \"else '' end\"))\n",
    "\n",
    "df_enem_in_soroban = df_enem_in_maquina_braile.withColumn('SOROBAN', expr(\"case when IN_SOROBAN = 0 then 'Não' \" + \"when IN_SOROBAN = 1 then 'Sim' \" + \"else '' end\"))\n",
    "\n",
    "df_enem_in_marca_passo = df_enem_in_soroban.withColumn('MARCA_PASSO', expr(\"case when IN_MARCA_PASSO = 0 then 'Não' \" + \"when IN_MARCA_PASSO = 1 then 'Sim' \" + \"else '' end\"))\n",
    "\n",
    "df_enem_in_sonda = df_enem_in_marca_passo.withColumn('SONDA', expr(\"case when IN_SONDA = 0 then 'Não' \" + \"when IN_SONDA = 1 then 'Sim' \" + \"else '' end\"))\n",
    "\n",
    "df_enem_in_medicamentos = df_enem_in_sonda.withColumn('MEDICAMENTOS', expr(\"case when IN_MEDICAMENTOS = 0 then 'Não' \" + \"when IN_MEDICAMENTOS = 1 then 'Sim' \" + \"else '' end\"))\n",
    "\n",
    "df_enem_in_sala_individual = df_enem_in_medicamentos.withColumn('SALA_INDIVIDUAL', expr(\"case when IN_SALA_INDIVIDUAL = 0 then 'Não' \" + \"when IN_SALA_INDIVIDUAL = 1 then 'Sim' \" + \"else '' end\"))\n",
    "\n",
    "df_enem_in_sala_especial = df_enem_in_sala_individual.withColumn('SALA_ESPECIAL', expr(\"case when IN_SALA_ESPECIAL = 0 then 'Não' \" + \"when IN_SALA_ESPECIAL = 1 then 'Sim' \" + \"else '' end\"))\n",
    "\n",
    "df_enem_in_sala_acompanhante = df_enem_in_sala_especial.withColumn('SALA_ACOMPANHANTE', expr(\"case when IN_SALA_ACOMPANHANTE = 0 then 'Não' \" + \"when IN_SALA_ACOMPANHANTE = 1 then 'Sim' \" + \"else '' end\"))\n",
    "\n",
    "df_enem_in_mobiliario_especifico = df_enem_in_sala_acompanhante.withColumn('MOBILIARIO_ESPECIFICO', expr(\"case when IN_MOBILIARIO_ESPECIFICO = 0 then 'Não' \" + \"when IN_MOBILIARIO_ESPECIFICO = 1 then 'Sim' \" + \"else '' end\"))\n",
    "\n",
    "df_enem_in_nome_social = df_enem_in_mobiliario_especifico.withColumn('NOME_SOCIAL', expr(\"case when IN_NOME_SOCIAL = 0 then 'Não' \" + \"when IN_NOME_SOCIAL = 1 then 'Sim' \" + \"else '' end\"))\n",
    "\n",
    "df_enem_tp_presenca_cn = df_enem_in_nome_social.withColumn('PRESENCA_CIENCIAS_NATUREZA', expr(\"case when TP_PRESENCA_CN = 0 then 'Faltou à prova' \" + \"when TP_PRESENCA_CN = 1 then 'Presente na prova' \" + \"when TP_PRESENCA_CN = 2 then 'Eliminado na prova' \" + \"else '' end\"))\n",
    "\n",
    "df_enem_tp_presenca_ch = df_enem_tp_presenca_cn.withColumn('PRESENCA_CIENCIAS_HUMANAS', expr(\"case when TP_PRESENCA_CH = 0 then 'Faltou à prova' \" + \"when TP_PRESENCA_CH = 1 then 'Presente na prova' \" + \"when TP_PRESENCA_CH = 2 then 'Eliminado na prova' \" + \"else '' end\"))\n",
    "\n",
    "df_enem_tp_presenca_lc = df_enem_tp_presenca_ch.withColumn('PRESENCA_LINGUAGENS_CODIGOS', expr(\"case when TP_PRESENCA_LC = 0 then 'Faltou à prova' \" + \"when TP_PRESENCA_LC = 1 then 'Presente na prova' \" + \"when TP_PRESENCA_LC = 2 then 'Eliminado na prova' \" + \"else '' end\"))\n",
    "\n",
    "df_enem_tp_presenca_mt = df_enem_tp_presenca_lc.withColumn('PRESENCA_MATEMATICA', expr(\"case when TP_PRESENCA_MT = 0 then 'Faltou à prova' \" + \"when TP_PRESENCA_MT = 1 then 'Presente na prova' \" + \"when TP_PRESENCA_MT = 2 then 'Eliminado na prova' \" + \"else '' end\"))\n",
    "\n",
    "df_enem_tp_lingua = df_enem_tp_presenca_mt.withColumn('LINGUA', expr(\"case when TP_LINGUA = 0 then 'Inglês' \" + \"when TP_LINGUA = 1 then 'Espanhol' \" + \"else '' end\"))\n",
    "\n",
    "df_enem_tp_status_redacao = df_enem_tp_lingua.withColumn('STATUS_REDACAO', expr(\"case when TP_STATUS_REDACAO = 1 then 'Sem problemas' \" + \"when TP_STATUS_REDACAO = 2 then 'Anulada' \" + \"when TP_STATUS_REDACAO = 3 then 'Cópia Texto Motivador' \" + \"when TP_STATUS_REDACAO = 4 then 'Em Branco' \" + \"when TP_STATUS_REDACAO = 6 then 'Fuga ao tema' \" + \"when TP_STATUS_REDACAO = 7 then 'Não atendimento ao tipo textual' \" + \"when TP_STATUS_REDACAO = 8 then 'Texto insuficiente' \" + \"when TP_STATUS_REDACAO = 9 then 'Parte desconectada' \" + \"else '' end\"))\n",
    "\n",
    "df_enem_q001 = df_enem_tp_status_redacao.withColumn('PAI_ESTUDOU', expr(\"case when Q001 = 'A' then 'Nunca estudou.' \" + \"when Q001 = 'B' then 'Não completou a 4ª série/5º ano do Ensino Fundamental.' \" + \"when Q001 = 'C' then 'Completou a 4ª série/5º ano, mas não completou a 8ª série/9º ano do Ensino Fundamental.' \" + \"when Q001 = 'D' then 'Completou a 8ª série/9º ano do Ensino Fundamental, mas não completou o Ensino Médio.' \" + \"when Q001 = 'E' then 'Completou o Ensino Médio, mas não completou a Faculdade.' \" + \"when Q001 = 'F' then 'Completou a Faculdade, mas não completou a Pós-graduação.' \" + \"when Q001 = 'G' then 'Completou a Pós-graduação.' \" + \"when Q001 = 'H' then 'Não sei.' \" + \"else '' end\"))\n",
    "\n",
    "df_enem_q002 = df_enem_q001.withColumn('MAE_ESTUDOU', expr(\"case when Q002 = 'A' then 'Nunca estudou.' \" + \"when Q002 = 'B' then 'Não completou a 4ª série/5º ano do Ensino Fundamental.' \" + \"when Q002 = 'C' then 'Completou a 4ª série/5º ano, mas não completou a 8ª série/9º ano do Ensino Fundamental.' \" + \"when Q002 = 'D' then 'Completou a 8ª série/9º ano do Ensino Fundamental, mas não completou o Ensino Médio.' \" + \"when Q002 = 'E' then 'Completou o Ensino Médio, mas não completou a Faculdade.' \" + \"when Q002 = 'F' then 'Completou a Faculdade, mas não completou a Pós-graduação.' \" + \"when Q002 = 'G' then 'Completou a Pós-graduação.' \" + \"when Q002 = 'H' then 'Não sei.' \" + \"else '' end\"))\n",
    "\n",
    "df_enem_q005 = df_enem_q002.withColumn('QTDE_MORADOR_RESIDENCIA', expr(\"case when Q005 = 1 then '1, pois moro sozinho(a).' \" + \"when Q005 = 2 then '2' \" + \"when Q005 = 3 then '3' \" + \"when Q005 = 4 then '4' \" + \"when Q005 = 5 then '5' \" + \"when Q005 = 6 then '6' \" + \"when Q005 = 7 then '7' \" + \"when Q005 = 8 then '8' \" + \"when Q005 = 9 then '9' \" + \"when Q005 = 10 then '10' \" + \"when Q005 = 11 then '11' \" + \"when Q005 = 12 then '12' \" + \"when Q005 = 13 then '13' \" + \"when Q005 = 14 then '14' \" + \"when Q005 = 15 then '15' \" + \"when Q005 = 16 then '16' \" + \"when Q005 = 17 then '17' \" + \"when Q005 = 18 then '18' \" + \"when Q005 = 19 then '19' \" + \"when Q005 = 20 then '20' \" + \"else '' end\"))\n",
    "\n",
    "df_enem_q006 = df_enem_q005.withColumn('RENDA_MENSAL_FAMILIAR', expr(\"case when Q006 = 'A' then 'Nenhuma Renda.' \" + \"when Q006 = 'B' then 'Até 1,0 salário mínimo.' \" + \"when Q006 = 'C' then 'Acima de 1,0 salário mínimo até 1,5.' \" + \"when Q006 = 'D' then 'Acima de 1,5 salário mínimo até 2,0 salários mínimos.' \" + \"when Q006 = 'E' then 'Acima de 2,0 salários mínimos até 2,5 salários mínimos.' \" + \"when Q006 = 'F' then 'Acima de 2,5 salários mínimos até 3,0 salários mínimos.' \" + \"when Q006 = 'G' then 'Acima de 3,0 salários mínimos até 4,0 salários mínimos.' \" + \"when Q006 = 'H' then 'Acima de 4,0 salários mínimos até 5,0 salários mínimos.' \" + \"when Q006 = 'I' then 'Acima de 5,0 salários mínimos até 6,0 salários mínimos.' \" + \"when Q006 = 'J' then 'Acima de 6,0 salários mínimos até 7,0 salários mínimos.' \" + \"when Q006 = 'K' then 'Acima de 7,0 salários mínimos até 8,0 salários mínimos.' \" + \"when Q006 = 'L' then 'Acima de 8,0 salários mínimos até 9,0 salários mínimos.' \" + \"when Q006 = 'M' then 'Acima de 9,0 salários mínimos até 10,0 salários mínimos.' \" + \"when Q006 = 'N' then 'Acima de 10,0 salários mínimos até 12,0 salários mínimos.' \" + \"when Q006 = 'O' then 'Acima de 12,0 salários mínimos até 15,0 salários mínimos.' \" + \"when Q006 = 'P' then 'Acima de 15,0 salários mínimos até 20,0 salários mínimos.' \" + \"when Q006 = 'Q' then 'Acima de 20 salários mínimos.' \" + \"else '' end\"))\n",
    "\n",
    "df_enem_q022 = df_enem_q006.withColumn('RESIDENCIA_CELULAR', expr(\"case when Q022 = 'A' then 'Não.' \" + \"when Q022 = 'B' then 'Sim, um.' \" + \"when Q022 = 'C' then 'Sim, dois.' \" + \"when Q022 = 'D' then 'Sim, três.' \" + \"when Q022 = 'E' then 'Sim, quatro ou mais.' \" + \"else '' end\"))\n",
    "\n",
    "df_enem_q024 = df_enem_q022.withColumn('RESIDENCIA_COMPUTADOR', expr(\"case when Q024 = 'A' then 'Não.' \" + \"when Q024 = 'B' then 'Sim, um.' \" + \"when Q024 = 'C' then 'Sim, dois.' \" + \"when Q024 = 'D' then 'Sim, três.' \" + \"when Q024 = 'E' then 'Sim, quatro ou mais.' \" + \"else '' end\"))\n",
    "\n",
    "df_enem_q025 = df_enem_q024.withColumn('RESIDENCIA_INTERNET', expr(\"case when Q025 = 'A' then 'Não.' \" + \"when Q025 = 'B' then 'Sim.' \" + \"else '' end\"))\n",
    "\n",
    "df_enem_deficiente = df_enem_q025.withColumn('DEFICIENTE', expr(\"case when IN_BAIXA_VISAO = 1 OR IN_CEGUEIRA = 1 OR IN_SURDEZ = 1 OR IN_DEFICIENCIA_AUDITIVA = 1 OR IN_SURDO_CEGUEIRA = 1 OR IN_DEFICIENCIA_FISICA = 1 OR IN_DEFICIENCIA_MENTAL = 1 OR IN_DEFICIT_ATENCAO = 1 OR IN_DISLEXIA = 1 OR IN_DISCALCULIA = 1 OR IN_AUTISMO = 1 OR IN_VISAO_MONOCULAR = 1 OR IN_OUTRA_DEF = 1 then 'Sim.' \" + \"else 'Não.' end\"))\n",
    "\n",
    "df_enem_aprovacao = df_enem_deficiente.withColumn('APROVADO', expr(\"case when ((NU_NOTA_CN + NU_NOTA_CH + NU_NOTA_LC + NU_NOTA_MT + NU_NOTA_REDACAO) / 5 ) >= 450 then 'Sim.' \" + \"else 'Não.' end\"))\n",
    "\n",
    "df_enem_ausente = df_enem_aprovacao.withColumn('AUSENTE', expr(\"case when TP_PRESENCA_CN = 0 OR TP_PRESENCA_CH = 0 OR TP_PRESENCA_LC = 0 OR TP_PRESENCA_MT = 0 then 'Sim.' \" + \"else 'Não.' end\"))\n",
    "\n",
    "df_enem_analise = df_enem_ausente\n",
    "\n",
    "print(f'Dataframe df_enem_analise criado com sucesso - {datetime.now()}.')\n"
   ]
  },
  {
   "cell_type": "code",
   "execution_count": null,
   "metadata": {
    "tags": []
   },
   "outputs": [],
   "source": [
    "# Criar tabela temporaria e usar sql para consulta\n",
    "\n",
    "print(f'Apresentação do processo de criação de uma tabela temporária para utilização do SQL - {datetime.now()}.')\n",
    "\n",
    "df_enem_analise.createOrReplaceTempView('enemtb')\n",
    "\n",
    "print(f'Criação da tabela temporaria com sucesso - {datetime.now()}.')"
   ]
  },
  {
   "cell_type": "code",
   "execution_count": null,
   "metadata": {
    "tags": []
   },
   "outputs": [],
   "source": [
    "print('Quantidade de inscriçoes Aprovados por Formação Acadêmica Pai.')\n",
    "print('')\n",
    "print(f'Consulta inciada -  {datetime.now()}')\n",
    "\n",
    "# Apresentando os valores da consulta SQL no Spark\n",
    "\n",
    "sqlContext.sql('SELECT PAI_ESTUDOU, COUNT(*) AS QTDE_INSCRICAO, ROUND((COUNT(*)/(SELECT COUNT(*)/100 FROM enemtb WHERE APROVADO = \"Sim.\")),2) AS PERCENTUAL FROM enemtb WHERE APROVADO = \"Sim.\" GROUP BY PAI_ESTUDOU ORDER BY COUNT(*) DESC').show(truncate=False)\n",
    "\n",
    "print(f'Consulta realizada com sucesso - {datetime.now()}')"
   ]
  },
  {
   "cell_type": "code",
   "execution_count": null,
   "metadata": {
    "tags": []
   },
   "outputs": [],
   "source": [
    "print('Quantidade de inscriçoes Aprovados por Formação Acadêmica Mãe.')\n",
    "print('')\n",
    "print(f'Consulta inciada -  {datetime.now()}')\n",
    "\n",
    "# Apresentando os valores da consulta SQL no Spark\n",
    "\n",
    "sqlContext.sql('SELECT MAE_ESTUDOU, COUNT(*) AS QTDE_INSCRICAO, ROUND((COUNT(*)/(SELECT COUNT(*)/100 FROM enemtb WHERE APROVADO = \"Sim.\")),2) AS PERCENTUAL FROM enemtb WHERE APROVADO = \"Sim.\" GROUP BY MAE_ESTUDOU ORDER BY COUNT(*) DESC').show(truncate=False)\n",
    "\n",
    "print(f'Consulta realizada com sucesso - {datetime.now()}')"
   ]
  },
  {
   "cell_type": "code",
   "execution_count": null,
   "metadata": {
    "tags": []
   },
   "outputs": [],
   "source": [
    "print('Quantidade de inscriçoes Aprovados por Quantidade Morador na residência.')\n",
    "print('')\n",
    "print(f'Consulta inciada -  {datetime.now()}')\n",
    "\n",
    "# Apresentando os valores da consulta SQL no Spark\n",
    "\n",
    "sqlContext.sql('SELECT QTDE_MORADOR_RESIDENCIA, COUNT(*) AS QTDE_INSCRICAO, ROUND((COUNT(*)/(SELECT COUNT(*)/100 FROM enemtb WHERE APROVADO = \"Sim.\")),2) AS PERCENTUAL FROM enemtb WHERE APROVADO = \"Sim.\" GROUP BY QTDE_MORADOR_RESIDENCIA ORDER BY COUNT(*) DESC').show(30, truncate=False)\n",
    "\n",
    "print(f'Consulta realizada com sucesso - {datetime.now()}')"
   ]
  },
  {
   "cell_type": "code",
   "execution_count": null,
   "metadata": {
    "tags": []
   },
   "outputs": [],
   "source": [
    "print('Quantidade de inscriçoes Aprovados por Renda Mensal Familiar.')\n",
    "print('')\n",
    "print(f'Consulta inciada -  {datetime.now()}')\n",
    "\n",
    "# Apresentando os valores da consulta SQL no Spark\n",
    "\n",
    "sqlContext.sql('SELECT RENDA_MENSAL_FAMILIAR, COUNT(*) AS QTDE_INSCRICAO, ROUND((COUNT(*)/(SELECT COUNT(*)/100 FROM enemtb WHERE APROVADO = \"Sim.\")),2) AS PERCENTUAL FROM enemtb WHERE APROVADO = \"Sim.\" GROUP BY RENDA_MENSAL_FAMILIAR ORDER BY COUNT(*) DESC').show(truncate=False)\n",
    "\n",
    "print(f'Consulta realizada com sucesso - {datetime.now()}')"
   ]
  },
  {
   "cell_type": "code",
   "execution_count": null,
   "metadata": {
    "tags": []
   },
   "outputs": [],
   "source": [
    "print('Quantidade de inscriçoes Aprovados por Quantidade Celular Residência.')\n",
    "print('')\n",
    "print(f'Consulta inciada -  {datetime.now()}')\n",
    "\n",
    "# Apresentando os valores da consulta SQL no Spark\n",
    "\n",
    "sqlContext.sql('SELECT RESIDENCIA_CELULAR, COUNT(*) AS QTDE_INSCRICAO, ROUND((COUNT(*)/(SELECT COUNT(*)/100 FROM enemtb WHERE APROVADO = \"Sim.\")),2) AS PERCENTUAL FROM enemtb WHERE APROVADO = \"Sim.\" GROUP BY RESIDENCIA_CELULAR ORDER BY COUNT(*) DESC').show(truncate=False)\n",
    "\n",
    "print(f'Consulta realizada com sucesso - {datetime.now()}')"
   ]
  },
  {
   "cell_type": "code",
   "execution_count": null,
   "metadata": {
    "tags": []
   },
   "outputs": [],
   "source": [
    "print('Quantidade de inscriçoes Aprovados por Quantidade Computador Residência.')\n",
    "print('')\n",
    "print(f'Consulta inciada -  {datetime.now()}')\n",
    "\n",
    "# Apresentando os valores da consulta SQL no Spark\n",
    "\n",
    "sqlContext.sql('SELECT RESIDENCIA_COMPUTADOR, COUNT(*) AS QTDE_INSCRICAO, ROUND((COUNT(*)/(SELECT COUNT(*)/100 FROM enemtb WHERE APROVADO = \"Sim.\")),2) AS PERCENTUAL FROM enemtb WHERE APROVADO = \"Sim.\" GROUP BY RESIDENCIA_COMPUTADOR ORDER BY COUNT(*) DESC').show(truncate=False)\n",
    "\n",
    "print(f'Consulta realizada com sucesso - {datetime.now()}')"
   ]
  },
  {
   "cell_type": "code",
   "execution_count": null,
   "metadata": {
    "tags": []
   },
   "outputs": [],
   "source": [
    "print('Quantidade de inscriçoes Aprovados por Ano.')\n",
    "print('')\n",
    "print(f'Consulta inciada -  {datetime.now()}')\n",
    "\n",
    "# Apresentando os valores da consulta SQL no Spark\n",
    "\n",
    "sqlContext.sql('SELECT NU_ANO as ANO, COUNT(*) AS QTDE_INSCRICAO, ROUND((COUNT(*)/(SELECT COUNT(*)/100 FROM enemtb WHERE APROVADO = \"Sim.\")),2) AS PERCENTUAL FROM enemtb WHERE APROVADO = \"Sim.\" GROUP BY NU_ANO ORDER BY COUNT(*) DESC').show(truncate=False)\n",
    "\n",
    "print(f'Consulta realizada com sucesso - {datetime.now()}')"
   ]
  },
  {
   "cell_type": "code",
   "execution_count": null,
   "metadata": {
    "tags": []
   },
   "outputs": [],
   "source": [
    "print('Quantidade de inscriçoes Aprovados por Estado.')\n",
    "print('')\n",
    "print(f'Consulta inciada -  {datetime.now()}')\n",
    "\n",
    "# Apresentando os valores da consulta SQL no Spark\n",
    "\n",
    "sqlContext.sql('SELECT SG_UF_RESIDENCIA, COUNT(*) AS QTDE_INSCRICAO, ROUND((COUNT(*)/(SELECT COUNT(*)/100 FROM enemtb WHERE APROVADO = \"Sim.\")),2) AS PERCENTUAL FROM enemtb WHERE APROVADO = \"Sim.\" GROUP BY SG_UF_RESIDENCIA ORDER BY COUNT(*) DESC').show(30, truncate=False)\n",
    "\n",
    "print(f'Consulta realizada com sucesso - {datetime.now()}')"
   ]
  },
  {
   "cell_type": "code",
   "execution_count": null,
   "metadata": {
    "tags": []
   },
   "outputs": [],
   "source": [
    "print('Quantidade de inscriçoes Aprovados por Sexo.')\n",
    "print('')\n",
    "print(f'Consulta inciada -  {datetime.now()}')\n",
    "\n",
    "# Apresentando os valores da consulta SQL no Spark\n",
    "\n",
    "sqlContext.sql('SELECT SEXO, COUNT(*) AS QTDE_INSCRICAO, ROUND((COUNT(*)/(SELECT COUNT(*)/100 FROM enemtb WHERE APROVADO = \"Sim.\")),2) AS PERCENTUAL FROM enemtb WHERE APROVADO = \"Sim.\" GROUP BY SEXO ORDER BY COUNT(*) DESC').show(30, truncate=False)\n",
    "\n",
    "print(f'Consulta realizada com sucesso - {datetime.now()}')"
   ]
  },
  {
   "cell_type": "code",
   "execution_count": null,
   "metadata": {
    "tags": []
   },
   "outputs": [],
   "source": [
    "print('Quantidade de inscriçoes Aprovados por Estado Civil.')\n",
    "print('')\n",
    "print(f'Consulta inciada -  {datetime.now()}')\n",
    "\n",
    "# Apresentando os valores da consulta SQL no Spark\n",
    "\n",
    "sqlContext.sql('SELECT ESTADO_CIVIL, COUNT(*) AS QTDE_INSCRICAO, ROUND((COUNT(*)/(SELECT COUNT(*)/100 FROM enemtb WHERE APROVADO = \"Sim.\")),2) AS PERCENTUAL FROM enemtb WHERE APROVADO = \"Sim.\" GROUP BY ESTADO_CIVIL ORDER BY COUNT(*) DESC').show(30, truncate=False)\n",
    "\n",
    "print(f'Consulta realizada com sucesso - {datetime.now()}')"
   ]
  },
  {
   "cell_type": "code",
   "execution_count": null,
   "metadata": {
    "tags": []
   },
   "outputs": [],
   "source": [
    "print('Quantidade de inscriçoes Aprovados por Raça.')\n",
    "print('')\n",
    "print(f'Consulta inciada -  {datetime.now()}')\n",
    "\n",
    "# Apresentando os valores da consulta SQL no Spark\n",
    "\n",
    "sqlContext.sql('SELECT RACA, COUNT(*) AS QTDE_INSCRICAO, ROUND((COUNT(*)/(SELECT COUNT(*)/100 FROM enemtb WHERE APROVADO = \"Sim.\")),2) AS PERCENTUAL FROM enemtb WHERE APROVADO = \"Sim.\" GROUP BY RACA ORDER BY COUNT(*) DESC').show(30, truncate=False)\n",
    "\n",
    "print(f'Consulta realizada com sucesso - {datetime.now()}')"
   ]
  },
  {
   "source": [
    "\n",
    "#Analise de média das notas por classe\n",
    "colunas_notas = ['NU_INSCRICAO', 'NU_ANO', 'NO_MUNICIPIO_RESIDENCIA', 'CO_UF_RESIDENCIA', 'SG_UF_RESIDENCIA', 'NU_IDADE', 'TP_SEXO', 'TP_ESTADO_CIVIL', 'TP_COR_RACA', 'TP_NACIONALIDADE', 'NO_MUNICIPIO_NASCIMENTO', 'CO_UF_NASCIMENTO', 'SG_UF_NASCIMENTO', 'TP_ST_CONCLUSAO','IN_TREINEIRO', 'IN_GESTANTE', 'SG_UF_PROVA',  'NU_NOTA_CN', 'NU_NOTA_CH', 'NU_NOTA_LC', 'NU_NOTA_MT', 'TP_LINGUA', 'TP_STATUS_REDACAO', 'NU_NOTA_REDACAO', 'Q001', 'Q002', 'Q005', 'Q006', 'Q022', 'Q024', 'Q025']\n",
    "df_analise_notas = df_enem.select(colunas_notas)\n",
    "df_notas_sem_nulos = df_analise_notas.select(['NU_INSCRICAO','NU_NOTA_CN', 'NU_NOTA_CH', 'NU_NOTA_LC', 'NU_NOTA_MT', 'NU_NOTA_REDACAO','NU_ANO']).filter(\"NU_NOTA_CN is not null and NU_NOTA_CH is not null and NU_NOTA_LC is not null and NU_NOTA_MT is not null and NU_NOTA_REDACAO is not null\")\n"
   ],
   "cell_type": "code",
   "metadata": {
    "tags": []
   },
   "execution_count": 112,
   "outputs": []
  },
  {
   "cell_type": "code",
   "execution_count": 104,
   "metadata": {},
   "outputs": [],
   "source": [
    "from pyspark.sql import functions as F"
   ]
  },
  {
   "cell_type": "code",
   "execution_count": 145,
   "metadata": {
    "tags": []
   },
   "outputs": [],
   "source": [
    "df_agrupado = df_notas_sem_nulos.groupBy(\"NU_ANO\").agg(count(\"NU_INSCRICAO\").alias(\"INSCRICOES\"), (sum(\"NU_NOTA_CN\")/count(\"NU_INSCRICAO\")).alias(\"CIENCIAS_NATURAIS\"), (sum(\"NU_NOTA_CH\")/count(\"NU_INSCRICAO\")).alias(\"CIENCIAS_HUMANAS\"), (sum(\"NU_NOTA_LC\")/count(\"NU_INSCRICAO\")).alias(\"LINGUAGEM_CODIGO\"),(sum(\"NU_NOTA_MT\")/count(\"NU_INSCRICAO\")).alias(\"MATEMATICA\"),(sum(\"NU_NOTA_REDACAO\")/count(\"NU_INSCRICAO\")).alias(\"REDACAO\")).sort(col(\"NU_ANO\").desc())"
   ]
  },
  {
   "cell_type": "code",
   "execution_count": 162,
   "metadata": {
    "tags": []
   },
   "outputs": [
    {
     "output_type": "execute_result",
     "data": {
      "text/plain": "   NU_ANO  INSCRICOES  CIENCIAS_NATURAIS  CIENCIAS_HUMANAS  LINGUAGEM_CODIGO  \\\n0    2019     3702007         477.883272        509.890593        522.396600   \n1    2018     3893743         493.758733        570.811699        528.516471   \n2    2017     4426755         510.922790        521.452671        512.150568   \n3    2016     5818446         478.387398        535.326959        521.042568   \n4    2015     5604905         479.509143        559.268777        505.578629   \n\n   MATEMATICA     REDACAO  \n0  523.185098  579.769406  \n1  535.490338  516.058559  \n2  518.832682  529.387960  \n3  490.233816  530.315316  \n4  468.088781  534.851685  ",
      "text/html": "<div>\n<style scoped>\n    .dataframe tbody tr th:only-of-type {\n        vertical-align: middle;\n    }\n\n    .dataframe tbody tr th {\n        vertical-align: top;\n    }\n\n    .dataframe thead th {\n        text-align: right;\n    }\n</style>\n<table border=\"1\" class=\"dataframe\">\n  <thead>\n    <tr style=\"text-align: right;\">\n      <th></th>\n      <th>NU_ANO</th>\n      <th>INSCRICOES</th>\n      <th>CIENCIAS_NATURAIS</th>\n      <th>CIENCIAS_HUMANAS</th>\n      <th>LINGUAGEM_CODIGO</th>\n      <th>MATEMATICA</th>\n      <th>REDACAO</th>\n    </tr>\n  </thead>\n  <tbody>\n    <tr>\n      <th>0</th>\n      <td>2019</td>\n      <td>3702007</td>\n      <td>477.883272</td>\n      <td>509.890593</td>\n      <td>522.396600</td>\n      <td>523.185098</td>\n      <td>579.769406</td>\n    </tr>\n    <tr>\n      <th>1</th>\n      <td>2018</td>\n      <td>3893743</td>\n      <td>493.758733</td>\n      <td>570.811699</td>\n      <td>528.516471</td>\n      <td>535.490338</td>\n      <td>516.058559</td>\n    </tr>\n    <tr>\n      <th>2</th>\n      <td>2017</td>\n      <td>4426755</td>\n      <td>510.922790</td>\n      <td>521.452671</td>\n      <td>512.150568</td>\n      <td>518.832682</td>\n      <td>529.387960</td>\n    </tr>\n    <tr>\n      <th>3</th>\n      <td>2016</td>\n      <td>5818446</td>\n      <td>478.387398</td>\n      <td>535.326959</td>\n      <td>521.042568</td>\n      <td>490.233816</td>\n      <td>530.315316</td>\n    </tr>\n    <tr>\n      <th>4</th>\n      <td>2015</td>\n      <td>5604905</td>\n      <td>479.509143</td>\n      <td>559.268777</td>\n      <td>505.578629</td>\n      <td>468.088781</td>\n      <td>534.851685</td>\n    </tr>\n  </tbody>\n</table>\n</div>"
     },
     "metadata": {},
     "execution_count": 162
    }
   ],
   "source": [
    "df_grafico = df_agrupado.toPandas()\n",
    "df_grafico"
   ]
  },
  {
   "cell_type": "code",
   "execution_count": 182,
   "metadata": {},
   "outputs": [],
   "source": [
    "# Este df contempla apenas as notas de ciências naturais por ano\n",
    "df_cn = df_notas_sem_nulos.groupBy(\"NU_ANO\").agg((sum(\"NU_NOTA_CN\")/count(\"NU_INSCRICAO\")).alias(\"CIENCIAS_NATURAIS\")).sort(col(\"NU_ANO\").desc())"
   ]
  },
  {
   "cell_type": "code",
   "execution_count": 165,
   "metadata": {},
   "outputs": [
    {
     "output_type": "execute_result",
     "data": {
      "text/plain": "   NU_ANO  CIENCIAS_NATURAIS\n0    2019         477.883272\n1    2018         493.758733\n2    2017         510.922790\n3    2016         478.387398\n4    2015         479.509143",
      "text/html": "<div>\n<style scoped>\n    .dataframe tbody tr th:only-of-type {\n        vertical-align: middle;\n    }\n\n    .dataframe tbody tr th {\n        vertical-align: top;\n    }\n\n    .dataframe thead th {\n        text-align: right;\n    }\n</style>\n<table border=\"1\" class=\"dataframe\">\n  <thead>\n    <tr style=\"text-align: right;\">\n      <th></th>\n      <th>NU_ANO</th>\n      <th>CIENCIAS_NATURAIS</th>\n    </tr>\n  </thead>\n  <tbody>\n    <tr>\n      <th>0</th>\n      <td>2019</td>\n      <td>477.883272</td>\n    </tr>\n    <tr>\n      <th>1</th>\n      <td>2018</td>\n      <td>493.758733</td>\n    </tr>\n    <tr>\n      <th>2</th>\n      <td>2017</td>\n      <td>510.922790</td>\n    </tr>\n    <tr>\n      <th>3</th>\n      <td>2016</td>\n      <td>478.387398</td>\n    </tr>\n    <tr>\n      <th>4</th>\n      <td>2015</td>\n      <td>479.509143</td>\n    </tr>\n  </tbody>\n</table>\n</div>"
     },
     "metadata": {},
     "execution_count": 165
    }
   ],
   "source": [
    "df_cn_pandas = df_cn.toPandas()\n",
    "df_cn_pandas"
   ]
  },
  {
   "cell_type": "code",
   "execution_count": 172,
   "metadata": {},
   "outputs": [
    {
     "output_type": "execute_result",
     "data": {
      "text/plain": "<seaborn.axisgrid.FacetGrid at 0x2b84b23f7f0>"
     },
     "metadata": {},
     "execution_count": 172
    },
    {
     "output_type": "display_data",
     "data": {
      "text/plain": "<Figure size 578.85x432 with 1 Axes>",
      "image/svg+xml": "<?xml version=\"1.0\" encoding=\"utf-8\" standalone=\"no\"?>\r\n<!DOCTYPE svg PUBLIC \"-//W3C//DTD SVG 1.1//EN\"\r\n  \"http://www.w3.org/Graphics/SVG/1.1/DTD/svg11.dtd\">\r\n<!-- Created with matplotlib (https://matplotlib.org/) -->\r\n<svg height=\"421.667969pt\" version=\"1.1\" viewBox=\"0 0 557.147252 421.667969\" width=\"557.147252pt\" xmlns=\"http://www.w3.org/2000/svg\" xmlns:xlink=\"http://www.w3.org/1999/xlink\">\r\n <metadata>\r\n  <rdf:RDF xmlns:cc=\"http://creativecommons.org/ns#\" xmlns:dc=\"http://purl.org/dc/elements/1.1/\" xmlns:rdf=\"http://www.w3.org/1999/02/22-rdf-syntax-ns#\">\r\n   <cc:Work>\r\n    <dc:type rdf:resource=\"http://purl.org/dc/dcmitype/StillImage\"/>\r\n    <dc:date>2020-09-20T23:03:30.633021</dc:date>\r\n    <dc:format>image/svg+xml</dc:format>\r\n    <dc:creator>\r\n     <cc:Agent>\r\n      <dc:title>Matplotlib v3.3.1, https://matplotlib.org/</dc:title>\r\n     </cc:Agent>\r\n    </dc:creator>\r\n   </cc:Work>\r\n  </rdf:RDF>\r\n </metadata>\r\n <defs>\r\n  <style type=\"text/css\">*{stroke-linecap:butt;stroke-linejoin:round;}</style>\r\n </defs>\r\n <g id=\"figure_1\">\r\n  <g id=\"patch_1\">\r\n   <path d=\"M 0 421.667969 \r\nL 557.147252 421.667969 \r\nL 557.147252 0 \r\nL 0 0 \r\nz\r\n\" style=\"fill:#ffffff;\"/>\r\n  </g>\r\n  <g id=\"axes_1\">\r\n   <g id=\"patch_2\">\r\n    <path d=\"M 50.072344 379.78 \r\nL 402.808752 379.78 \r\nL 402.808752 7.2 \r\nL 50.072344 7.2 \r\nz\r\n\" style=\"fill:#ffffff;\"/>\r\n   </g>\r\n   <g id=\"matplotlib.axis_1\">\r\n    <g id=\"xtick_1\">\r\n     <g id=\"text_1\">\r\n      <!-- 2015 -->\r\n      <g style=\"fill:#262626;\" transform=\"translate(73.111922 397.153594)scale(0.11 -0.11)\">\r\n       <defs>\r\n        <path d=\"M 50.34375 8.453125 \r\nL 50.34375 0 \r\nL 3.03125 0 \r\nQ 2.9375 3.171875 4.046875 6.109375 \r\nQ 5.859375 10.9375 9.828125 15.625 \r\nQ 13.8125 20.3125 21.34375 26.46875 \r\nQ 33.015625 36.03125 37.109375 41.625 \r\nQ 41.21875 47.21875 41.21875 52.203125 \r\nQ 41.21875 57.421875 37.46875 61 \r\nQ 33.734375 64.59375 27.734375 64.59375 \r\nQ 21.390625 64.59375 17.578125 60.78125 \r\nQ 13.765625 56.984375 13.71875 50.25 \r\nL 4.6875 51.171875 \r\nQ 5.609375 61.28125 11.65625 66.578125 \r\nQ 17.71875 71.875 27.9375 71.875 \r\nQ 38.234375 71.875 44.234375 66.15625 \r\nQ 50.25 60.453125 50.25 52 \r\nQ 50.25 47.703125 48.484375 43.546875 \r\nQ 46.734375 39.40625 42.65625 34.8125 \r\nQ 38.578125 30.21875 29.109375 22.21875 \r\nQ 21.1875 15.578125 18.9375 13.203125 \r\nQ 16.703125 10.84375 15.234375 8.453125 \r\nz\r\n\" id=\"ArialMT-50\"/>\r\n        <path d=\"M 4.15625 35.296875 \r\nQ 4.15625 48 6.765625 55.734375 \r\nQ 9.375 63.484375 14.515625 67.671875 \r\nQ 19.671875 71.875 27.484375 71.875 \r\nQ 33.25 71.875 37.59375 69.546875 \r\nQ 41.9375 67.234375 44.765625 62.859375 \r\nQ 47.609375 58.5 49.21875 52.21875 \r\nQ 50.828125 45.953125 50.828125 35.296875 \r\nQ 50.828125 22.703125 48.234375 14.96875 \r\nQ 45.65625 7.234375 40.5 3 \r\nQ 35.359375 -1.21875 27.484375 -1.21875 \r\nQ 17.140625 -1.21875 11.234375 6.203125 \r\nQ 4.15625 15.140625 4.15625 35.296875 \r\nz\r\nM 13.1875 35.296875 \r\nQ 13.1875 17.671875 17.3125 11.828125 \r\nQ 21.4375 6 27.484375 6 \r\nQ 33.546875 6 37.671875 11.859375 \r\nQ 41.796875 17.71875 41.796875 35.296875 \r\nQ 41.796875 52.984375 37.671875 58.78125 \r\nQ 33.546875 64.59375 27.390625 64.59375 \r\nQ 21.34375 64.59375 17.71875 59.46875 \r\nQ 13.1875 52.9375 13.1875 35.296875 \r\nz\r\n\" id=\"ArialMT-48\"/>\r\n        <path d=\"M 37.25 0 \r\nL 28.46875 0 \r\nL 28.46875 56 \r\nQ 25.296875 52.984375 20.140625 49.953125 \r\nQ 14.984375 46.921875 10.890625 45.40625 \r\nL 10.890625 53.90625 \r\nQ 18.265625 57.375 23.78125 62.296875 \r\nQ 29.296875 67.234375 31.59375 71.875 \r\nL 37.25 71.875 \r\nz\r\n\" id=\"ArialMT-49\"/>\r\n        <path d=\"M 4.15625 18.75 \r\nL 13.375 19.53125 \r\nQ 14.40625 12.796875 18.140625 9.390625 \r\nQ 21.875 6 27.15625 6 \r\nQ 33.5 6 37.890625 10.78125 \r\nQ 42.28125 15.578125 42.28125 23.484375 \r\nQ 42.28125 31 38.0625 35.34375 \r\nQ 33.84375 39.703125 27 39.703125 \r\nQ 22.75 39.703125 19.328125 37.765625 \r\nQ 15.921875 35.84375 13.96875 32.765625 \r\nL 5.71875 33.84375 \r\nL 12.640625 70.609375 \r\nL 48.25 70.609375 \r\nL 48.25 62.203125 \r\nL 19.671875 62.203125 \r\nL 15.828125 42.96875 \r\nQ 22.265625 47.46875 29.34375 47.46875 \r\nQ 38.71875 47.46875 45.15625 40.96875 \r\nQ 51.609375 34.46875 51.609375 24.265625 \r\nQ 51.609375 14.546875 45.953125 7.46875 \r\nQ 39.0625 -1.21875 27.15625 -1.21875 \r\nQ 17.390625 -1.21875 11.203125 4.25 \r\nQ 5.03125 9.71875 4.15625 18.75 \r\nz\r\n\" id=\"ArialMT-53\"/>\r\n       </defs>\r\n       <use xlink:href=\"#ArialMT-50\"/>\r\n       <use x=\"55.615234\" xlink:href=\"#ArialMT-48\"/>\r\n       <use x=\"111.230469\" xlink:href=\"#ArialMT-49\"/>\r\n       <use x=\"166.845703\" xlink:href=\"#ArialMT-53\"/>\r\n      </g>\r\n     </g>\r\n    </g>\r\n    <g id=\"xtick_2\">\r\n     <g id=\"text_2\">\r\n      <!-- 2016 -->\r\n      <g style=\"fill:#262626;\" transform=\"translate(143.659204 397.153594)scale(0.11 -0.11)\">\r\n       <defs>\r\n        <path d=\"M 49.75 54.046875 \r\nL 41.015625 53.375 \r\nQ 39.84375 58.546875 37.703125 60.890625 \r\nQ 34.125 64.65625 28.90625 64.65625 \r\nQ 24.703125 64.65625 21.53125 62.3125 \r\nQ 17.390625 59.28125 14.984375 53.46875 \r\nQ 12.59375 47.65625 12.5 36.921875 \r\nQ 15.671875 41.75 20.265625 44.09375 \r\nQ 24.859375 46.4375 29.890625 46.4375 \r\nQ 38.671875 46.4375 44.84375 39.96875 \r\nQ 51.03125 33.5 51.03125 23.25 \r\nQ 51.03125 16.5 48.125 10.71875 \r\nQ 45.21875 4.9375 40.140625 1.859375 \r\nQ 35.0625 -1.21875 28.609375 -1.21875 \r\nQ 17.625 -1.21875 10.6875 6.859375 \r\nQ 3.765625 14.9375 3.765625 33.5 \r\nQ 3.765625 54.25 11.421875 63.671875 \r\nQ 18.109375 71.875 29.4375 71.875 \r\nQ 37.890625 71.875 43.28125 67.140625 \r\nQ 48.6875 62.40625 49.75 54.046875 \r\nz\r\nM 13.875 23.1875 \r\nQ 13.875 18.65625 15.796875 14.5 \r\nQ 17.71875 10.359375 21.1875 8.171875 \r\nQ 24.65625 6 28.46875 6 \r\nQ 34.03125 6 38.03125 10.484375 \r\nQ 42.046875 14.984375 42.046875 22.703125 \r\nQ 42.046875 30.125 38.078125 34.390625 \r\nQ 34.125 38.671875 28.125 38.671875 \r\nQ 22.171875 38.671875 18.015625 34.390625 \r\nQ 13.875 30.125 13.875 23.1875 \r\nz\r\n\" id=\"ArialMT-54\"/>\r\n       </defs>\r\n       <use xlink:href=\"#ArialMT-50\"/>\r\n       <use x=\"55.615234\" xlink:href=\"#ArialMT-48\"/>\r\n       <use x=\"111.230469\" xlink:href=\"#ArialMT-49\"/>\r\n       <use x=\"166.845703\" xlink:href=\"#ArialMT-54\"/>\r\n      </g>\r\n     </g>\r\n    </g>\r\n    <g id=\"xtick_3\">\r\n     <g id=\"text_3\">\r\n      <!-- 2017 -->\r\n      <g style=\"fill:#262626;\" transform=\"translate(214.206485 397.153594)scale(0.11 -0.11)\">\r\n       <defs>\r\n        <path d=\"M 4.734375 62.203125 \r\nL 4.734375 70.65625 \r\nL 51.078125 70.65625 \r\nL 51.078125 63.8125 \r\nQ 44.234375 56.546875 37.515625 44.484375 \r\nQ 30.8125 32.421875 27.15625 19.671875 \r\nQ 24.515625 10.6875 23.78125 0 \r\nL 14.75 0 \r\nQ 14.890625 8.453125 18.0625 20.40625 \r\nQ 21.234375 32.375 27.171875 43.484375 \r\nQ 33.109375 54.59375 39.796875 62.203125 \r\nz\r\n\" id=\"ArialMT-55\"/>\r\n       </defs>\r\n       <use xlink:href=\"#ArialMT-50\"/>\r\n       <use x=\"55.615234\" xlink:href=\"#ArialMT-48\"/>\r\n       <use x=\"111.230469\" xlink:href=\"#ArialMT-49\"/>\r\n       <use x=\"166.845703\" xlink:href=\"#ArialMT-55\"/>\r\n      </g>\r\n     </g>\r\n    </g>\r\n    <g id=\"xtick_4\">\r\n     <g id=\"text_4\">\r\n      <!-- 2018 -->\r\n      <g style=\"fill:#262626;\" transform=\"translate(284.753767 397.153594)scale(0.11 -0.11)\">\r\n       <defs>\r\n        <path d=\"M 17.671875 38.8125 \r\nQ 12.203125 40.828125 9.5625 44.53125 \r\nQ 6.9375 48.25 6.9375 53.421875 \r\nQ 6.9375 61.234375 12.546875 66.546875 \r\nQ 18.171875 71.875 27.484375 71.875 \r\nQ 36.859375 71.875 42.578125 66.421875 \r\nQ 48.296875 60.984375 48.296875 53.171875 \r\nQ 48.296875 48.1875 45.671875 44.5 \r\nQ 43.0625 40.828125 37.75 38.8125 \r\nQ 44.34375 36.671875 47.78125 31.875 \r\nQ 51.21875 27.09375 51.21875 20.453125 \r\nQ 51.21875 11.28125 44.71875 5.03125 \r\nQ 38.234375 -1.21875 27.640625 -1.21875 \r\nQ 17.046875 -1.21875 10.546875 5.046875 \r\nQ 4.046875 11.328125 4.046875 20.703125 \r\nQ 4.046875 27.6875 7.59375 32.390625 \r\nQ 11.140625 37.109375 17.671875 38.8125 \r\nz\r\nM 15.921875 53.71875 \r\nQ 15.921875 48.640625 19.1875 45.40625 \r\nQ 22.46875 42.1875 27.6875 42.1875 \r\nQ 32.765625 42.1875 36.015625 45.375 \r\nQ 39.265625 48.578125 39.265625 53.21875 \r\nQ 39.265625 58.0625 35.90625 61.359375 \r\nQ 32.5625 64.65625 27.59375 64.65625 \r\nQ 22.5625 64.65625 19.234375 61.421875 \r\nQ 15.921875 58.203125 15.921875 53.71875 \r\nz\r\nM 13.09375 20.65625 \r\nQ 13.09375 16.890625 14.875 13.375 \r\nQ 16.65625 9.859375 20.171875 7.921875 \r\nQ 23.6875 6 27.734375 6 \r\nQ 34.03125 6 38.125 10.046875 \r\nQ 42.234375 14.109375 42.234375 20.359375 \r\nQ 42.234375 26.703125 38.015625 30.859375 \r\nQ 33.796875 35.015625 27.4375 35.015625 \r\nQ 21.234375 35.015625 17.15625 30.90625 \r\nQ 13.09375 26.8125 13.09375 20.65625 \r\nz\r\n\" id=\"ArialMT-56\"/>\r\n       </defs>\r\n       <use xlink:href=\"#ArialMT-50\"/>\r\n       <use x=\"55.615234\" xlink:href=\"#ArialMT-48\"/>\r\n       <use x=\"111.230469\" xlink:href=\"#ArialMT-49\"/>\r\n       <use x=\"166.845703\" xlink:href=\"#ArialMT-56\"/>\r\n      </g>\r\n     </g>\r\n    </g>\r\n    <g id=\"xtick_5\">\r\n     <g id=\"text_5\">\r\n      <!-- 2019 -->\r\n      <g style=\"fill:#262626;\" transform=\"translate(355.301048 397.153594)scale(0.11 -0.11)\">\r\n       <defs>\r\n        <path d=\"M 5.46875 16.546875 \r\nL 13.921875 17.328125 \r\nQ 14.984375 11.375 18.015625 8.6875 \r\nQ 21.046875 6 25.78125 6 \r\nQ 29.828125 6 32.875 7.859375 \r\nQ 35.9375 9.71875 37.890625 12.8125 \r\nQ 39.84375 15.921875 41.15625 21.1875 \r\nQ 42.484375 26.46875 42.484375 31.9375 \r\nQ 42.484375 32.515625 42.4375 33.6875 \r\nQ 39.796875 29.5 35.234375 26.875 \r\nQ 30.671875 24.265625 25.34375 24.265625 \r\nQ 16.453125 24.265625 10.296875 30.703125 \r\nQ 4.15625 37.15625 4.15625 47.703125 \r\nQ 4.15625 58.59375 10.578125 65.234375 \r\nQ 17 71.875 26.65625 71.875 \r\nQ 33.640625 71.875 39.421875 68.109375 \r\nQ 45.21875 64.359375 48.21875 57.390625 \r\nQ 51.21875 50.4375 51.21875 37.25 \r\nQ 51.21875 23.53125 48.234375 15.40625 \r\nQ 45.265625 7.28125 39.375 3.03125 \r\nQ 33.5 -1.21875 25.59375 -1.21875 \r\nQ 17.1875 -1.21875 11.859375 3.4375 \r\nQ 6.546875 8.109375 5.46875 16.546875 \r\nz\r\nM 41.453125 48.140625 \r\nQ 41.453125 55.71875 37.421875 60.15625 \r\nQ 33.40625 64.59375 27.734375 64.59375 \r\nQ 21.875 64.59375 17.53125 59.8125 \r\nQ 13.1875 55.03125 13.1875 47.40625 \r\nQ 13.1875 40.578125 17.3125 36.296875 \r\nQ 21.4375 32.03125 27.484375 32.03125 \r\nQ 33.59375 32.03125 37.515625 36.296875 \r\nQ 41.453125 40.578125 41.453125 48.140625 \r\nz\r\n\" id=\"ArialMT-57\"/>\r\n       </defs>\r\n       <use xlink:href=\"#ArialMT-50\"/>\r\n       <use x=\"55.615234\" xlink:href=\"#ArialMT-48\"/>\r\n       <use x=\"111.230469\" xlink:href=\"#ArialMT-49\"/>\r\n       <use x=\"166.845703\" xlink:href=\"#ArialMT-57\"/>\r\n      </g>\r\n     </g>\r\n    </g>\r\n    <g id=\"text_6\">\r\n     <!-- NU_ANO -->\r\n     <g style=\"fill:#262626;\" transform=\"translate(201.435548 412.082969)scale(0.12 -0.12)\">\r\n      <defs>\r\n       <path d=\"M 7.625 0 \r\nL 7.625 71.578125 \r\nL 17.328125 71.578125 \r\nL 54.9375 15.375 \r\nL 54.9375 71.578125 \r\nL 64.015625 71.578125 \r\nL 64.015625 0 \r\nL 54.296875 0 \r\nL 16.703125 56.25 \r\nL 16.703125 0 \r\nz\r\n\" id=\"ArialMT-78\"/>\r\n       <path d=\"M 54.6875 71.578125 \r\nL 64.15625 71.578125 \r\nL 64.15625 30.21875 \r\nQ 64.15625 19.4375 61.71875 13.078125 \r\nQ 59.28125 6.734375 52.90625 2.75 \r\nQ 46.53125 -1.21875 36.1875 -1.21875 \r\nQ 26.125 -1.21875 19.71875 2.25 \r\nQ 13.328125 5.71875 10.59375 12.28125 \r\nQ 7.859375 18.84375 7.859375 30.21875 \r\nL 7.859375 71.578125 \r\nL 17.328125 71.578125 \r\nL 17.328125 30.28125 \r\nQ 17.328125 20.953125 19.0625 16.53125 \r\nQ 20.796875 12.109375 25.015625 9.71875 \r\nQ 29.25 7.328125 35.359375 7.328125 \r\nQ 45.796875 7.328125 50.234375 12.0625 \r\nQ 54.6875 16.796875 54.6875 30.28125 \r\nz\r\n\" id=\"ArialMT-85\"/>\r\n       <path d=\"M -1.515625 -19.875 \r\nL -1.515625 -13.53125 \r\nL 56.734375 -13.53125 \r\nL 56.734375 -19.875 \r\nz\r\n\" id=\"ArialMT-95\"/>\r\n       <path d=\"M -0.140625 0 \r\nL 27.34375 71.578125 \r\nL 37.546875 71.578125 \r\nL 66.84375 0 \r\nL 56.0625 0 \r\nL 47.703125 21.6875 \r\nL 17.78125 21.6875 \r\nL 9.90625 0 \r\nz\r\nM 20.515625 29.390625 \r\nL 44.78125 29.390625 \r\nL 37.3125 49.21875 \r\nQ 33.890625 58.25 32.234375 64.0625 \r\nQ 30.859375 57.171875 28.375 50.390625 \r\nz\r\n\" id=\"ArialMT-65\"/>\r\n       <path d=\"M 4.828125 34.859375 \r\nQ 4.828125 52.6875 14.390625 62.765625 \r\nQ 23.96875 72.859375 39.109375 72.859375 \r\nQ 49.03125 72.859375 56.984375 68.109375 \r\nQ 64.9375 63.375 69.109375 54.90625 \r\nQ 73.296875 46.4375 73.296875 35.6875 \r\nQ 73.296875 24.8125 68.890625 16.21875 \r\nQ 64.5 7.625 56.4375 3.203125 \r\nQ 48.390625 -1.21875 39.0625 -1.21875 \r\nQ 28.953125 -1.21875 20.984375 3.65625 \r\nQ 13.03125 8.546875 8.921875 16.984375 \r\nQ 4.828125 25.4375 4.828125 34.859375 \r\nz\r\nM 14.59375 34.71875 \r\nQ 14.59375 21.78125 21.546875 14.328125 \r\nQ 28.515625 6.890625 39.015625 6.890625 \r\nQ 49.703125 6.890625 56.609375 14.40625 \r\nQ 63.53125 21.921875 63.53125 35.75 \r\nQ 63.53125 44.484375 60.578125 51 \r\nQ 57.625 57.515625 51.921875 61.109375 \r\nQ 46.234375 64.703125 39.15625 64.703125 \r\nQ 29.109375 64.703125 21.84375 57.78125 \r\nQ 14.59375 50.875 14.59375 34.71875 \r\nz\r\n\" id=\"ArialMT-79\"/>\r\n      </defs>\r\n      <use xlink:href=\"#ArialMT-78\"/>\r\n      <use x=\"72.216797\" xlink:href=\"#ArialMT-85\"/>\r\n      <use x=\"144.433594\" xlink:href=\"#ArialMT-95\"/>\r\n      <use x=\"200.048828\" xlink:href=\"#ArialMT-65\"/>\r\n      <use x=\"266.748047\" xlink:href=\"#ArialMT-78\"/>\r\n      <use x=\"338.964844\" xlink:href=\"#ArialMT-79\"/>\r\n     </g>\r\n    </g>\r\n   </g>\r\n   <g id=\"matplotlib.axis_2\">\r\n    <g id=\"ytick_1\">\r\n     <g id=\"line2d_1\">\r\n      <path clip-path=\"url(#p1beb7ff76e)\" d=\"M 50.072344 379.78 \r\nL 402.808752 379.78 \r\n\" style=\"fill:none;stroke:#cccccc;stroke-linecap:round;\"/>\r\n     </g>\r\n     <g id=\"text_7\">\r\n      <!-- 0 -->\r\n      <g style=\"fill:#262626;\" transform=\"translate(34.455313 383.716797)scale(0.11 -0.11)\">\r\n       <use xlink:href=\"#ArialMT-48\"/>\r\n      </g>\r\n     </g>\r\n    </g>\r\n    <g id=\"ytick_2\">\r\n     <g id=\"line2d_2\">\r\n      <path clip-path=\"url(#p1beb7ff76e)\" d=\"M 50.072344 310.329566 \r\nL 402.808752 310.329566 \r\n\" style=\"fill:none;stroke:#cccccc;stroke-linecap:round;\"/>\r\n     </g>\r\n     <g id=\"text_8\">\r\n      <!-- 100 -->\r\n      <g style=\"fill:#262626;\" transform=\"translate(22.22125 314.266363)scale(0.11 -0.11)\">\r\n       <use xlink:href=\"#ArialMT-49\"/>\r\n       <use x=\"55.615234\" xlink:href=\"#ArialMT-48\"/>\r\n       <use x=\"111.230469\" xlink:href=\"#ArialMT-48\"/>\r\n      </g>\r\n     </g>\r\n    </g>\r\n    <g id=\"ytick_3\">\r\n     <g id=\"line2d_3\">\r\n      <path clip-path=\"url(#p1beb7ff76e)\" d=\"M 50.072344 240.879132 \r\nL 402.808752 240.879132 \r\n\" style=\"fill:none;stroke:#cccccc;stroke-linecap:round;\"/>\r\n     </g>\r\n     <g id=\"text_9\">\r\n      <!-- 200 -->\r\n      <g style=\"fill:#262626;\" transform=\"translate(22.22125 244.815929)scale(0.11 -0.11)\">\r\n       <use xlink:href=\"#ArialMT-50\"/>\r\n       <use x=\"55.615234\" xlink:href=\"#ArialMT-48\"/>\r\n       <use x=\"111.230469\" xlink:href=\"#ArialMT-48\"/>\r\n      </g>\r\n     </g>\r\n    </g>\r\n    <g id=\"ytick_4\">\r\n     <g id=\"line2d_4\">\r\n      <path clip-path=\"url(#p1beb7ff76e)\" d=\"M 50.072344 171.428698 \r\nL 402.808752 171.428698 \r\n\" style=\"fill:none;stroke:#cccccc;stroke-linecap:round;\"/>\r\n     </g>\r\n     <g id=\"text_10\">\r\n      <!-- 300 -->\r\n      <g style=\"fill:#262626;\" transform=\"translate(22.22125 175.365495)scale(0.11 -0.11)\">\r\n       <defs>\r\n        <path d=\"M 4.203125 18.890625 \r\nL 12.984375 20.0625 \r\nQ 14.5 12.59375 18.140625 9.296875 \r\nQ 21.78125 6 27 6 \r\nQ 33.203125 6 37.46875 10.296875 \r\nQ 41.75 14.59375 41.75 20.953125 \r\nQ 41.75 27 37.796875 30.921875 \r\nQ 33.84375 34.859375 27.734375 34.859375 \r\nQ 25.25 34.859375 21.53125 33.890625 \r\nL 22.515625 41.609375 \r\nQ 23.390625 41.5 23.921875 41.5 \r\nQ 29.546875 41.5 34.03125 44.421875 \r\nQ 38.53125 47.359375 38.53125 53.46875 \r\nQ 38.53125 58.296875 35.25 61.46875 \r\nQ 31.984375 64.65625 26.8125 64.65625 \r\nQ 21.6875 64.65625 18.265625 61.421875 \r\nQ 14.84375 58.203125 13.875 51.765625 \r\nL 5.078125 53.328125 \r\nQ 6.6875 62.15625 12.390625 67.015625 \r\nQ 18.109375 71.875 26.609375 71.875 \r\nQ 32.46875 71.875 37.390625 69.359375 \r\nQ 42.328125 66.84375 44.9375 62.5 \r\nQ 47.5625 58.15625 47.5625 53.265625 \r\nQ 47.5625 48.640625 45.0625 44.828125 \r\nQ 42.578125 41.015625 37.703125 38.765625 \r\nQ 44.046875 37.3125 47.5625 32.6875 \r\nQ 51.078125 28.078125 51.078125 21.140625 \r\nQ 51.078125 11.765625 44.234375 5.25 \r\nQ 37.40625 -1.265625 26.953125 -1.265625 \r\nQ 17.53125 -1.265625 11.296875 4.34375 \r\nQ 5.078125 9.96875 4.203125 18.890625 \r\nz\r\n\" id=\"ArialMT-51\"/>\r\n       </defs>\r\n       <use xlink:href=\"#ArialMT-51\"/>\r\n       <use x=\"55.615234\" xlink:href=\"#ArialMT-48\"/>\r\n       <use x=\"111.230469\" xlink:href=\"#ArialMT-48\"/>\r\n      </g>\r\n     </g>\r\n    </g>\r\n    <g id=\"ytick_5\">\r\n     <g id=\"line2d_5\">\r\n      <path clip-path=\"url(#p1beb7ff76e)\" d=\"M 50.072344 101.978264 \r\nL 402.808752 101.978264 \r\n\" style=\"fill:none;stroke:#cccccc;stroke-linecap:round;\"/>\r\n     </g>\r\n     <g id=\"text_11\">\r\n      <!-- 400 -->\r\n      <g style=\"fill:#262626;\" transform=\"translate(22.22125 105.915061)scale(0.11 -0.11)\">\r\n       <defs>\r\n        <path d=\"M 32.328125 0 \r\nL 32.328125 17.140625 \r\nL 1.265625 17.140625 \r\nL 1.265625 25.203125 \r\nL 33.9375 71.578125 \r\nL 41.109375 71.578125 \r\nL 41.109375 25.203125 \r\nL 50.78125 25.203125 \r\nL 50.78125 17.140625 \r\nL 41.109375 17.140625 \r\nL 41.109375 0 \r\nz\r\nM 32.328125 25.203125 \r\nL 32.328125 57.46875 \r\nL 9.90625 25.203125 \r\nz\r\n\" id=\"ArialMT-52\"/>\r\n       </defs>\r\n       <use xlink:href=\"#ArialMT-52\"/>\r\n       <use x=\"55.615234\" xlink:href=\"#ArialMT-48\"/>\r\n       <use x=\"111.230469\" xlink:href=\"#ArialMT-48\"/>\r\n      </g>\r\n     </g>\r\n    </g>\r\n    <g id=\"ytick_6\">\r\n     <g id=\"line2d_6\">\r\n      <path clip-path=\"url(#p1beb7ff76e)\" d=\"M 50.072344 32.52783 \r\nL 402.808752 32.52783 \r\n\" style=\"fill:none;stroke:#cccccc;stroke-linecap:round;\"/>\r\n     </g>\r\n     <g id=\"text_12\">\r\n      <!-- 500 -->\r\n      <g style=\"fill:#262626;\" transform=\"translate(22.22125 36.464627)scale(0.11 -0.11)\">\r\n       <use xlink:href=\"#ArialMT-53\"/>\r\n       <use x=\"55.615234\" xlink:href=\"#ArialMT-48\"/>\r\n       <use x=\"111.230469\" xlink:href=\"#ArialMT-48\"/>\r\n      </g>\r\n     </g>\r\n    </g>\r\n    <g id=\"text_13\">\r\n     <!-- Média de notas por ano -->\r\n     <g style=\"fill:#262626;\" transform=\"translate(15.83625 256.528437)rotate(-90)scale(0.12 -0.12)\">\r\n      <defs>\r\n       <path d=\"M 7.421875 0 \r\nL 7.421875 71.578125 \r\nL 21.6875 71.578125 \r\nL 38.625 20.90625 \r\nQ 40.96875 13.8125 42.046875 10.296875 \r\nQ 43.265625 14.203125 45.84375 21.78125 \r\nL 62.984375 71.578125 \r\nL 75.734375 71.578125 \r\nL 75.734375 0 \r\nL 66.609375 0 \r\nL 66.609375 59.90625 \r\nL 45.796875 0 \r\nL 37.25 0 \r\nL 16.546875 60.9375 \r\nL 16.546875 0 \r\nz\r\n\" id=\"ArialMT-77\"/>\r\n       <path d=\"M 42.09375 16.703125 \r\nL 51.171875 15.578125 \r\nQ 49.03125 7.625 43.21875 3.21875 \r\nQ 37.40625 -1.171875 28.375 -1.171875 \r\nQ 17 -1.171875 10.328125 5.828125 \r\nQ 3.65625 12.84375 3.65625 25.484375 \r\nQ 3.65625 38.578125 10.390625 45.796875 \r\nQ 17.140625 53.03125 27.875 53.03125 \r\nQ 38.28125 53.03125 44.875 45.953125 \r\nQ 51.46875 38.875 51.46875 26.03125 \r\nQ 51.46875 25.25 51.421875 23.6875 \r\nL 12.75 23.6875 \r\nQ 13.234375 15.140625 17.578125 10.59375 \r\nQ 21.921875 6.0625 28.421875 6.0625 \r\nQ 33.25 6.0625 36.671875 8.59375 \r\nQ 40.09375 11.140625 42.09375 16.703125 \r\nz\r\nM 13.234375 30.90625 \r\nL 42.1875 30.90625 \r\nQ 41.609375 37.453125 38.875 40.71875 \r\nQ 34.671875 45.796875 27.984375 45.796875 \r\nQ 21.921875 45.796875 17.796875 41.75 \r\nQ 13.671875 37.703125 13.234375 30.90625 \r\nz\r\nM 22.703125 58.296875 \r\nL 29.203125 71.96875 \r\nL 40.71875 71.96875 \r\nL 29.984375 58.296875 \r\nz\r\n\" id=\"ArialMT-233\"/>\r\n       <path d=\"M 40.234375 0 \r\nL 40.234375 6.546875 \r\nQ 35.296875 -1.171875 25.734375 -1.171875 \r\nQ 19.53125 -1.171875 14.328125 2.25 \r\nQ 9.125 5.671875 6.265625 11.796875 \r\nQ 3.421875 17.921875 3.421875 25.875 \r\nQ 3.421875 33.640625 6 39.96875 \r\nQ 8.59375 46.296875 13.765625 49.65625 \r\nQ 18.953125 53.03125 25.34375 53.03125 \r\nQ 30.03125 53.03125 33.6875 51.046875 \r\nQ 37.359375 49.078125 39.65625 45.90625 \r\nL 39.65625 71.578125 \r\nL 48.390625 71.578125 \r\nL 48.390625 0 \r\nz\r\nM 12.453125 25.875 \r\nQ 12.453125 15.921875 16.640625 10.984375 \r\nQ 20.84375 6.0625 26.5625 6.0625 \r\nQ 32.328125 6.0625 36.34375 10.765625 \r\nQ 40.375 15.484375 40.375 25.140625 \r\nQ 40.375 35.796875 36.265625 40.765625 \r\nQ 32.171875 45.75 26.171875 45.75 \r\nQ 20.3125 45.75 16.375 40.96875 \r\nQ 12.453125 36.1875 12.453125 25.875 \r\nz\r\n\" id=\"ArialMT-100\"/>\r\n       <path d=\"M 6.640625 61.46875 \r\nL 6.640625 71.578125 \r\nL 15.4375 71.578125 \r\nL 15.4375 61.46875 \r\nz\r\nM 6.640625 0 \r\nL 6.640625 51.859375 \r\nL 15.4375 51.859375 \r\nL 15.4375 0 \r\nz\r\n\" id=\"ArialMT-105\"/>\r\n       <path d=\"M 40.4375 6.390625 \r\nQ 35.546875 2.25 31.03125 0.53125 \r\nQ 26.515625 -1.171875 21.34375 -1.171875 \r\nQ 12.796875 -1.171875 8.203125 3 \r\nQ 3.609375 7.171875 3.609375 13.671875 \r\nQ 3.609375 17.484375 5.34375 20.625 \r\nQ 7.078125 23.78125 9.890625 25.6875 \r\nQ 12.703125 27.59375 16.21875 28.5625 \r\nQ 18.796875 29.25 24.03125 29.890625 \r\nQ 34.671875 31.15625 39.703125 32.90625 \r\nQ 39.75 34.71875 39.75 35.203125 \r\nQ 39.75 40.578125 37.25 42.78125 \r\nQ 33.890625 45.75 27.25 45.75 \r\nQ 21.046875 45.75 18.09375 43.578125 \r\nQ 15.140625 41.40625 13.71875 35.890625 \r\nL 5.125 37.0625 \r\nQ 6.296875 42.578125 8.984375 45.96875 \r\nQ 11.671875 49.359375 16.75 51.1875 \r\nQ 21.828125 53.03125 28.515625 53.03125 \r\nQ 35.15625 53.03125 39.296875 51.46875 \r\nQ 43.453125 49.90625 45.40625 47.53125 \r\nQ 47.359375 45.171875 48.140625 41.546875 \r\nQ 48.578125 39.3125 48.578125 33.453125 \r\nL 48.578125 21.734375 \r\nQ 48.578125 9.46875 49.140625 6.21875 \r\nQ 49.703125 2.984375 51.375 0 \r\nL 42.1875 0 \r\nQ 40.828125 2.734375 40.4375 6.390625 \r\nz\r\nM 39.703125 26.03125 \r\nQ 34.90625 24.078125 25.34375 22.703125 \r\nQ 19.921875 21.921875 17.671875 20.9375 \r\nQ 15.4375 19.96875 14.203125 18.09375 \r\nQ 12.984375 16.21875 12.984375 13.921875 \r\nQ 12.984375 10.40625 15.640625 8.0625 \r\nQ 18.3125 5.71875 23.4375 5.71875 \r\nQ 28.515625 5.71875 32.46875 7.9375 \r\nQ 36.421875 10.15625 38.28125 14.015625 \r\nQ 39.703125 17 39.703125 22.796875 \r\nz\r\n\" id=\"ArialMT-97\"/>\r\n       <path id=\"ArialMT-32\"/>\r\n       <path d=\"M 42.09375 16.703125 \r\nL 51.171875 15.578125 \r\nQ 49.03125 7.625 43.21875 3.21875 \r\nQ 37.40625 -1.171875 28.375 -1.171875 \r\nQ 17 -1.171875 10.328125 5.828125 \r\nQ 3.65625 12.84375 3.65625 25.484375 \r\nQ 3.65625 38.578125 10.390625 45.796875 \r\nQ 17.140625 53.03125 27.875 53.03125 \r\nQ 38.28125 53.03125 44.875 45.953125 \r\nQ 51.46875 38.875 51.46875 26.03125 \r\nQ 51.46875 25.25 51.421875 23.6875 \r\nL 12.75 23.6875 \r\nQ 13.234375 15.140625 17.578125 10.59375 \r\nQ 21.921875 6.0625 28.421875 6.0625 \r\nQ 33.25 6.0625 36.671875 8.59375 \r\nQ 40.09375 11.140625 42.09375 16.703125 \r\nz\r\nM 13.234375 30.90625 \r\nL 42.1875 30.90625 \r\nQ 41.609375 37.453125 38.875 40.71875 \r\nQ 34.671875 45.796875 27.984375 45.796875 \r\nQ 21.921875 45.796875 17.796875 41.75 \r\nQ 13.671875 37.703125 13.234375 30.90625 \r\nz\r\n\" id=\"ArialMT-101\"/>\r\n       <path d=\"M 6.59375 0 \r\nL 6.59375 51.859375 \r\nL 14.5 51.859375 \r\nL 14.5 44.484375 \r\nQ 20.21875 53.03125 31 53.03125 \r\nQ 35.6875 53.03125 39.625 51.34375 \r\nQ 43.5625 49.65625 45.515625 46.921875 \r\nQ 47.46875 44.1875 48.25 40.4375 \r\nQ 48.734375 37.984375 48.734375 31.890625 \r\nL 48.734375 0 \r\nL 39.9375 0 \r\nL 39.9375 31.546875 \r\nQ 39.9375 36.921875 38.90625 39.578125 \r\nQ 37.890625 42.234375 35.28125 43.8125 \r\nQ 32.671875 45.40625 29.15625 45.40625 \r\nQ 23.53125 45.40625 19.453125 41.84375 \r\nQ 15.375 38.28125 15.375 28.328125 \r\nL 15.375 0 \r\nz\r\n\" id=\"ArialMT-110\"/>\r\n       <path d=\"M 3.328125 25.921875 \r\nQ 3.328125 40.328125 11.328125 47.265625 \r\nQ 18.015625 53.03125 27.640625 53.03125 \r\nQ 38.328125 53.03125 45.109375 46.015625 \r\nQ 51.90625 39.015625 51.90625 26.65625 \r\nQ 51.90625 16.65625 48.90625 10.90625 \r\nQ 45.90625 5.171875 40.15625 2 \r\nQ 34.421875 -1.171875 27.640625 -1.171875 \r\nQ 16.75 -1.171875 10.03125 5.8125 \r\nQ 3.328125 12.796875 3.328125 25.921875 \r\nz\r\nM 12.359375 25.921875 \r\nQ 12.359375 15.96875 16.703125 11.015625 \r\nQ 21.046875 6.0625 27.640625 6.0625 \r\nQ 34.1875 6.0625 38.53125 11.03125 \r\nQ 42.875 16.015625 42.875 26.21875 \r\nQ 42.875 35.84375 38.5 40.796875 \r\nQ 34.125 45.75 27.640625 45.75 \r\nQ 21.046875 45.75 16.703125 40.8125 \r\nQ 12.359375 35.890625 12.359375 25.921875 \r\nz\r\n\" id=\"ArialMT-111\"/>\r\n       <path d=\"M 25.78125 7.859375 \r\nL 27.046875 0.09375 \r\nQ 23.34375 -0.6875 20.40625 -0.6875 \r\nQ 15.625 -0.6875 12.984375 0.828125 \r\nQ 10.359375 2.34375 9.28125 4.8125 \r\nQ 8.203125 7.28125 8.203125 15.1875 \r\nL 8.203125 45.015625 \r\nL 1.765625 45.015625 \r\nL 1.765625 51.859375 \r\nL 8.203125 51.859375 \r\nL 8.203125 64.703125 \r\nL 16.9375 69.96875 \r\nL 16.9375 51.859375 \r\nL 25.78125 51.859375 \r\nL 25.78125 45.015625 \r\nL 16.9375 45.015625 \r\nL 16.9375 14.703125 \r\nQ 16.9375 10.9375 17.40625 9.859375 \r\nQ 17.875 8.796875 18.921875 8.15625 \r\nQ 19.96875 7.515625 21.921875 7.515625 \r\nQ 23.390625 7.515625 25.78125 7.859375 \r\nz\r\n\" id=\"ArialMT-116\"/>\r\n       <path d=\"M 3.078125 15.484375 \r\nL 11.765625 16.84375 \r\nQ 12.5 11.625 15.84375 8.84375 \r\nQ 19.1875 6.0625 25.203125 6.0625 \r\nQ 31.25 6.0625 34.171875 8.515625 \r\nQ 37.109375 10.984375 37.109375 14.3125 \r\nQ 37.109375 17.28125 34.515625 19 \r\nQ 32.71875 20.171875 25.53125 21.96875 \r\nQ 15.875 24.421875 12.140625 26.203125 \r\nQ 8.40625 27.984375 6.46875 31.125 \r\nQ 4.546875 34.28125 4.546875 38.09375 \r\nQ 4.546875 41.546875 6.125 44.5 \r\nQ 7.71875 47.46875 10.453125 49.421875 \r\nQ 12.5 50.921875 16.03125 51.96875 \r\nQ 19.578125 53.03125 23.640625 53.03125 \r\nQ 29.734375 53.03125 34.34375 51.265625 \r\nQ 38.96875 49.515625 41.15625 46.5 \r\nQ 43.359375 43.5 44.1875 38.484375 \r\nL 35.59375 37.3125 \r\nQ 35.015625 41.3125 32.203125 43.546875 \r\nQ 29.390625 45.796875 24.265625 45.796875 \r\nQ 18.21875 45.796875 15.625 43.796875 \r\nQ 13.03125 41.796875 13.03125 39.109375 \r\nQ 13.03125 37.40625 14.109375 36.03125 \r\nQ 15.1875 34.625 17.484375 33.6875 \r\nQ 18.796875 33.203125 25.25 31.453125 \r\nQ 34.578125 28.953125 38.25 27.359375 \r\nQ 41.9375 25.78125 44.03125 22.75 \r\nQ 46.140625 19.734375 46.140625 15.234375 \r\nQ 46.140625 10.84375 43.578125 6.953125 \r\nQ 41.015625 3.078125 36.171875 0.953125 \r\nQ 31.34375 -1.171875 25.25 -1.171875 \r\nQ 15.140625 -1.171875 9.84375 3.03125 \r\nQ 4.546875 7.234375 3.078125 15.484375 \r\nz\r\n\" id=\"ArialMT-115\"/>\r\n       <path d=\"M 6.59375 -19.875 \r\nL 6.59375 51.859375 \r\nL 14.59375 51.859375 \r\nL 14.59375 45.125 \r\nQ 17.4375 49.078125 21 51.046875 \r\nQ 24.5625 53.03125 29.640625 53.03125 \r\nQ 36.28125 53.03125 41.359375 49.609375 \r\nQ 46.4375 46.1875 49.015625 39.953125 \r\nQ 51.609375 33.734375 51.609375 26.3125 \r\nQ 51.609375 18.359375 48.75 11.984375 \r\nQ 45.90625 5.609375 40.453125 2.21875 \r\nQ 35.015625 -1.171875 29 -1.171875 \r\nQ 24.609375 -1.171875 21.109375 0.6875 \r\nQ 17.625 2.546875 15.375 5.375 \r\nL 15.375 -19.875 \r\nz\r\nM 14.546875 25.640625 \r\nQ 14.546875 15.625 18.59375 10.84375 \r\nQ 22.65625 6.0625 28.421875 6.0625 \r\nQ 34.28125 6.0625 38.453125 11.015625 \r\nQ 42.625 15.96875 42.625 26.375 \r\nQ 42.625 36.28125 38.546875 41.203125 \r\nQ 34.46875 46.140625 28.8125 46.140625 \r\nQ 23.1875 46.140625 18.859375 40.890625 \r\nQ 14.546875 35.640625 14.546875 25.640625 \r\nz\r\n\" id=\"ArialMT-112\"/>\r\n       <path d=\"M 6.5 0 \r\nL 6.5 51.859375 \r\nL 14.40625 51.859375 \r\nL 14.40625 44 \r\nQ 17.4375 49.515625 20 51.265625 \r\nQ 22.5625 53.03125 25.640625 53.03125 \r\nQ 30.078125 53.03125 34.671875 50.203125 \r\nL 31.640625 42.046875 \r\nQ 28.421875 43.953125 25.203125 43.953125 \r\nQ 22.3125 43.953125 20.015625 42.21875 \r\nQ 17.71875 40.484375 16.75 37.40625 \r\nQ 15.28125 32.71875 15.28125 27.15625 \r\nL 15.28125 0 \r\nz\r\n\" id=\"ArialMT-114\"/>\r\n      </defs>\r\n      <use xlink:href=\"#ArialMT-77\"/>\r\n      <use x=\"83.300781\" xlink:href=\"#ArialMT-233\"/>\r\n      <use x=\"138.916016\" xlink:href=\"#ArialMT-100\"/>\r\n      <use x=\"194.53125\" xlink:href=\"#ArialMT-105\"/>\r\n      <use x=\"216.748047\" xlink:href=\"#ArialMT-97\"/>\r\n      <use x=\"272.363281\" xlink:href=\"#ArialMT-32\"/>\r\n      <use x=\"300.146484\" xlink:href=\"#ArialMT-100\"/>\r\n      <use x=\"355.761719\" xlink:href=\"#ArialMT-101\"/>\r\n      <use x=\"411.376953\" xlink:href=\"#ArialMT-32\"/>\r\n      <use x=\"439.160156\" xlink:href=\"#ArialMT-110\"/>\r\n      <use x=\"494.775391\" xlink:href=\"#ArialMT-111\"/>\r\n      <use x=\"550.390625\" xlink:href=\"#ArialMT-116\"/>\r\n      <use x=\"578.173828\" xlink:href=\"#ArialMT-97\"/>\r\n      <use x=\"633.789062\" xlink:href=\"#ArialMT-115\"/>\r\n      <use x=\"683.789062\" xlink:href=\"#ArialMT-32\"/>\r\n      <use x=\"711.572266\" xlink:href=\"#ArialMT-112\"/>\r\n      <use x=\"767.1875\" xlink:href=\"#ArialMT-111\"/>\r\n      <use x=\"822.802734\" xlink:href=\"#ArialMT-114\"/>\r\n      <use x=\"856.103516\" xlink:href=\"#ArialMT-32\"/>\r\n      <use x=\"883.886719\" xlink:href=\"#ArialMT-97\"/>\r\n      <use x=\"939.501953\" xlink:href=\"#ArialMT-110\"/>\r\n      <use x=\"995.117188\" xlink:href=\"#ArialMT-111\"/>\r\n     </g>\r\n    </g>\r\n   </g>\r\n   <g id=\"patch_3\">\r\n    <path clip-path=\"url(#p1beb7ff76e)\" d=\"M 0 0 \r\nz\r\n\" style=\"fill:#10256f;stroke:#ffffff;stroke-linejoin:miter;\"/>\r\n   </g>\r\n   <g id=\"patch_4\">\r\n    <path clip-path=\"url(#p1beb7ff76e)\" d=\"M 0 0 \r\nz\r\n\" style=\"fill:#10256f;stroke:#ffffff;stroke-linejoin:miter;\"/>\r\n   </g>\r\n   <g id=\"patch_5\">\r\n    <path clip-path=\"url(#p1beb7ff76e)\" d=\"M 0 0 \r\nz\r\n\" style=\"fill:#10256f;stroke:#ffffff;stroke-linejoin:miter;\"/>\r\n   </g>\r\n   <g id=\"patch_6\">\r\n    <path clip-path=\"url(#p1beb7ff76e)\" d=\"M 0 0 \r\nz\r\n\" style=\"fill:#10256f;stroke:#ffffff;stroke-linejoin:miter;\"/>\r\n   </g>\r\n   <g id=\"patch_7\">\r\n    <path clip-path=\"url(#p1beb7ff76e)\" d=\"M 339.316198 379.78 \r\nL 350.603763 379.78 \r\nL 350.603763 47.887994 \r\nL 339.316198 47.887994 \r\nz\r\n\" style=\"fill:#10256f;stroke:#ffffff;stroke-linejoin:miter;\"/>\r\n   </g>\r\n   <g id=\"patch_8\">\r\n    <path clip-path=\"url(#p1beb7ff76e)\" d=\"M 0 0 \r\nz\r\n\" style=\"fill:#9c4821;stroke:#ffffff;stroke-linejoin:miter;\"/>\r\n   </g>\r\n   <g id=\"patch_9\">\r\n    <path clip-path=\"url(#p1beb7ff76e)\" d=\"M 138.961919 379.78 \r\nL 150.249484 379.78 \r\nL 150.249484 47.537876 \r\nL 138.961919 47.537876 \r\nz\r\n\" style=\"fill:#9c4821;stroke:#ffffff;stroke-linejoin:miter;\"/>\r\n   </g>\r\n   <g id=\"patch_10\">\r\n    <path clip-path=\"url(#p1beb7ff76e)\" d=\"M 0 0 \r\nz\r\n\" style=\"fill:#9c4821;stroke:#ffffff;stroke-linejoin:miter;\"/>\r\n   </g>\r\n   <g id=\"patch_11\">\r\n    <path clip-path=\"url(#p1beb7ff76e)\" d=\"M 0 0 \r\nz\r\n\" style=\"fill:#9c4821;stroke:#ffffff;stroke-linejoin:miter;\"/>\r\n   </g>\r\n   <g id=\"patch_12\">\r\n    <path clip-path=\"url(#p1beb7ff76e)\" d=\"M 0 0 \r\nz\r\n\" style=\"fill:#9c4821;stroke:#ffffff;stroke-linejoin:miter;\"/>\r\n   </g>\r\n   <g id=\"patch_13\">\r\n    <path clip-path=\"url(#p1beb7ff76e)\" d=\"M 79.702202 379.78 \r\nL 90.989767 379.78 \r\nL 90.989767 46.758819 \r\nL 79.702202 46.758819 \r\nz\r\n\" style=\"fill:#1e6525;stroke:#ffffff;stroke-linejoin:miter;\"/>\r\n   </g>\r\n   <g id=\"patch_14\">\r\n    <path clip-path=\"url(#p1beb7ff76e)\" d=\"M 0 0 \r\nz\r\n\" style=\"fill:#1e6525;stroke:#ffffff;stroke-linejoin:miter;\"/>\r\n   </g>\r\n   <g id=\"patch_15\">\r\n    <path clip-path=\"url(#p1beb7ff76e)\" d=\"M 0 0 \r\nz\r\n\" style=\"fill:#1e6525;stroke:#ffffff;stroke-linejoin:miter;\"/>\r\n   </g>\r\n   <g id=\"patch_16\">\r\n    <path clip-path=\"url(#p1beb7ff76e)\" d=\"M 0 0 \r\nz\r\n\" style=\"fill:#1e6525;stroke:#ffffff;stroke-linejoin:miter;\"/>\r\n   </g>\r\n   <g id=\"patch_17\">\r\n    <path clip-path=\"url(#p1beb7ff76e)\" d=\"M 0 0 \r\nz\r\n\" style=\"fill:#1e6525;stroke:#ffffff;stroke-linejoin:miter;\"/>\r\n   </g>\r\n   <g id=\"patch_18\">\r\n    <path clip-path=\"url(#p1beb7ff76e)\" d=\"M 0 0 \r\nz\r\n\" style=\"fill:#7b1711;stroke:#ffffff;stroke-linejoin:miter;\"/>\r\n   </g>\r\n   <g id=\"patch_19\">\r\n    <path clip-path=\"url(#p1beb7ff76e)\" d=\"M 0 0 \r\nz\r\n\" style=\"fill:#7b1711;stroke:#ffffff;stroke-linejoin:miter;\"/>\r\n   </g>\r\n   <g id=\"patch_20\">\r\n    <path clip-path=\"url(#p1beb7ff76e)\" d=\"M 0 0 \r\nz\r\n\" style=\"fill:#7b1711;stroke:#ffffff;stroke-linejoin:miter;\"/>\r\n   </g>\r\n   <g id=\"patch_21\">\r\n    <path clip-path=\"url(#p1beb7ff76e)\" d=\"M 302.631612 379.78 \r\nL 313.919177 379.78 \r\nL 313.919177 36.862416 \r\nL 302.631612 36.862416 \r\nz\r\n\" style=\"fill:#7b1711;stroke:#ffffff;stroke-linejoin:miter;\"/>\r\n   </g>\r\n   <g id=\"patch_22\">\r\n    <path clip-path=\"url(#p1beb7ff76e)\" d=\"M 0 0 \r\nz\r\n\" style=\"fill:#7b1711;stroke:#ffffff;stroke-linejoin:miter;\"/>\r\n   </g>\r\n   <g id=\"patch_23\">\r\n    <path clip-path=\"url(#p1beb7ff76e)\" d=\"M 0 0 \r\nz\r\n\" style=\"fill:#552867;stroke:#ffffff;stroke-linejoin:miter;\"/>\r\n   </g>\r\n   <g id=\"patch_24\">\r\n    <path clip-path=\"url(#p1beb7ff76e)\" d=\"M 0 0 \r\nz\r\n\" style=\"fill:#552867;stroke:#ffffff;stroke-linejoin:miter;\"/>\r\n   </g>\r\n   <g id=\"patch_25\">\r\n    <path clip-path=\"url(#p1beb7ff76e)\" d=\"M 243.371895 379.78 \r\nL 254.65946 379.78 \r\nL 254.65946 24.941905 \r\nL 243.371895 24.941905 \r\nz\r\n\" style=\"fill:#552867;stroke:#ffffff;stroke-linejoin:miter;\"/>\r\n   </g>\r\n   <g id=\"patch_26\">\r\n    <path clip-path=\"url(#p1beb7ff76e)\" d=\"M 0 0 \r\nz\r\n\" style=\"fill:#552867;stroke:#ffffff;stroke-linejoin:miter;\"/>\r\n   </g>\r\n   <g id=\"patch_27\">\r\n    <path clip-path=\"url(#p1beb7ff76e)\" d=\"M 0 0 \r\nz\r\n\" style=\"fill:#552867;stroke:#ffffff;stroke-linejoin:miter;\"/>\r\n   </g>\r\n   <g id=\"line2d_7\">\r\n    <path clip-path=\"url(#p1beb7ff76e)\" d=\"M 0 0 \r\n\" style=\"fill:none;stroke:#424242;stroke-linecap:round;stroke-width:2.7;\"/>\r\n   </g>\r\n   <g id=\"line2d_8\">\r\n    <path clip-path=\"url(#p1beb7ff76e)\" d=\"M 0 0 \r\n\" style=\"fill:none;stroke:#424242;stroke-linecap:round;stroke-width:2.7;\"/>\r\n   </g>\r\n   <g id=\"line2d_9\">\r\n    <path clip-path=\"url(#p1beb7ff76e)\" d=\"M 0 0 \r\n\" style=\"fill:none;stroke:#424242;stroke-linecap:round;stroke-width:2.7;\"/>\r\n   </g>\r\n   <g id=\"line2d_10\">\r\n    <path clip-path=\"url(#p1beb7ff76e)\" d=\"M 0 0 \r\n\" style=\"fill:none;stroke:#424242;stroke-linecap:round;stroke-width:2.7;\"/>\r\n   </g>\r\n   <g id=\"line2d_11\">\r\n    <path clip-path=\"url(#p1beb7ff76e)\" d=\"M 0 0 \r\n\" style=\"fill:none;stroke:#424242;stroke-linecap:round;stroke-width:2.7;\"/>\r\n   </g>\r\n   <g id=\"line2d_12\">\r\n    <path clip-path=\"url(#p1beb7ff76e)\" d=\"M 0 0 \r\n\" style=\"fill:none;stroke:#424242;stroke-linecap:round;stroke-width:2.7;\"/>\r\n   </g>\r\n   <g id=\"line2d_13\">\r\n    <path clip-path=\"url(#p1beb7ff76e)\" d=\"M 0 0 \r\n\" style=\"fill:none;stroke:#424242;stroke-linecap:round;stroke-width:2.7;\"/>\r\n   </g>\r\n   <g id=\"line2d_14\">\r\n    <path clip-path=\"url(#p1beb7ff76e)\" d=\"M 0 0 \r\n\" style=\"fill:none;stroke:#424242;stroke-linecap:round;stroke-width:2.7;\"/>\r\n   </g>\r\n   <g id=\"line2d_15\">\r\n    <path clip-path=\"url(#p1beb7ff76e)\" d=\"M 0 0 \r\n\" style=\"fill:none;stroke:#424242;stroke-linecap:round;stroke-width:2.7;\"/>\r\n   </g>\r\n   <g id=\"line2d_16\">\r\n    <path clip-path=\"url(#p1beb7ff76e)\" d=\"M 0 0 \r\n\" style=\"fill:none;stroke:#424242;stroke-linecap:round;stroke-width:2.7;\"/>\r\n   </g>\r\n   <g id=\"line2d_17\">\r\n    <path clip-path=\"url(#p1beb7ff76e)\" d=\"M 0 0 \r\n\" style=\"fill:none;stroke:#424242;stroke-linecap:round;stroke-width:2.7;\"/>\r\n   </g>\r\n   <g id=\"line2d_18\">\r\n    <path clip-path=\"url(#p1beb7ff76e)\" d=\"M 0 0 \r\n\" style=\"fill:none;stroke:#424242;stroke-linecap:round;stroke-width:2.7;\"/>\r\n   </g>\r\n   <g id=\"line2d_19\">\r\n    <path clip-path=\"url(#p1beb7ff76e)\" d=\"M 0 0 \r\n\" style=\"fill:none;stroke:#424242;stroke-linecap:round;stroke-width:2.7;\"/>\r\n   </g>\r\n   <g id=\"line2d_20\">\r\n    <path clip-path=\"url(#p1beb7ff76e)\" d=\"M 0 0 \r\n\" style=\"fill:none;stroke:#424242;stroke-linecap:round;stroke-width:2.7;\"/>\r\n   </g>\r\n   <g id=\"line2d_21\">\r\n    <path clip-path=\"url(#p1beb7ff76e)\" d=\"M 0 0 \r\n\" style=\"fill:none;stroke:#424242;stroke-linecap:round;stroke-width:2.7;\"/>\r\n   </g>\r\n   <g id=\"line2d_22\">\r\n    <path clip-path=\"url(#p1beb7ff76e)\" d=\"M 0 0 \r\n\" style=\"fill:none;stroke:#424242;stroke-linecap:round;stroke-width:2.7;\"/>\r\n   </g>\r\n   <g id=\"line2d_23\">\r\n    <path clip-path=\"url(#p1beb7ff76e)\" d=\"M 0 0 \r\n\" style=\"fill:none;stroke:#424242;stroke-linecap:round;stroke-width:2.7;\"/>\r\n   </g>\r\n   <g id=\"line2d_24\">\r\n    <path clip-path=\"url(#p1beb7ff76e)\" d=\"M 0 0 \r\n\" style=\"fill:none;stroke:#424242;stroke-linecap:round;stroke-width:2.7;\"/>\r\n   </g>\r\n   <g id=\"line2d_25\">\r\n    <path clip-path=\"url(#p1beb7ff76e)\" d=\"M 0 0 \r\n\" style=\"fill:none;stroke:#424242;stroke-linecap:round;stroke-width:2.7;\"/>\r\n   </g>\r\n   <g id=\"line2d_26\">\r\n    <path clip-path=\"url(#p1beb7ff76e)\" d=\"M 0 0 \r\n\" style=\"fill:none;stroke:#424242;stroke-linecap:round;stroke-width:2.7;\"/>\r\n   </g>\r\n   <g id=\"line2d_27\">\r\n    <path clip-path=\"url(#p1beb7ff76e)\" d=\"M 0 0 \r\n\" style=\"fill:none;stroke:#424242;stroke-linecap:round;stroke-width:2.7;\"/>\r\n   </g>\r\n   <g id=\"line2d_28\">\r\n    <path clip-path=\"url(#p1beb7ff76e)\" d=\"M 0 0 \r\n\" style=\"fill:none;stroke:#424242;stroke-linecap:round;stroke-width:2.7;\"/>\r\n   </g>\r\n   <g id=\"line2d_29\">\r\n    <path clip-path=\"url(#p1beb7ff76e)\" d=\"M 0 0 \r\n\" style=\"fill:none;stroke:#424242;stroke-linecap:round;stroke-width:2.7;\"/>\r\n   </g>\r\n   <g id=\"line2d_30\">\r\n    <path clip-path=\"url(#p1beb7ff76e)\" d=\"M 0 0 \r\n\" style=\"fill:none;stroke:#424242;stroke-linecap:round;stroke-width:2.7;\"/>\r\n   </g>\r\n   <g id=\"line2d_31\">\r\n    <path clip-path=\"url(#p1beb7ff76e)\" d=\"M 0 0 \r\n\" style=\"fill:none;stroke:#424242;stroke-linecap:round;stroke-width:2.7;\"/>\r\n   </g>\r\n   <g id=\"patch_28\">\r\n    <path d=\"M 50.072344 379.78 \r\nL 402.808752 379.78 \r\n\" style=\"fill:none;stroke:#cccccc;stroke-linecap:square;stroke-linejoin:miter;stroke-width:1.25;\"/>\r\n   </g>\r\n  </g>\r\n  <g id=\"legend_1\">\r\n   <g id=\"text_14\">\r\n    <!-- CIENCIAS_NATURAIS -->\r\n    <g style=\"fill:#262626;\" transform=\"translate(416.753267 175.109687)scale(0.12 -0.12)\">\r\n     <defs>\r\n      <path d=\"M 58.796875 25.09375 \r\nL 68.265625 22.703125 \r\nQ 65.28125 11.03125 57.546875 4.90625 \r\nQ 49.8125 -1.21875 38.625 -1.21875 \r\nQ 27.046875 -1.21875 19.796875 3.484375 \r\nQ 12.546875 8.203125 8.765625 17.140625 \r\nQ 4.984375 26.078125 4.984375 36.328125 \r\nQ 4.984375 47.515625 9.25 55.828125 \r\nQ 13.53125 64.15625 21.40625 68.46875 \r\nQ 29.296875 72.796875 38.765625 72.796875 \r\nQ 49.515625 72.796875 56.828125 67.328125 \r\nQ 64.15625 61.859375 67.046875 51.953125 \r\nL 57.71875 49.75 \r\nQ 55.21875 57.5625 50.484375 61.125 \r\nQ 45.75 64.703125 38.578125 64.703125 \r\nQ 30.328125 64.703125 24.78125 60.734375 \r\nQ 19.234375 56.78125 16.984375 50.109375 \r\nQ 14.75 43.453125 14.75 36.375 \r\nQ 14.75 27.25 17.40625 20.4375 \r\nQ 20.0625 13.625 25.671875 10.25 \r\nQ 31.296875 6.890625 37.84375 6.890625 \r\nQ 45.796875 6.890625 51.3125 11.46875 \r\nQ 56.84375 16.0625 58.796875 25.09375 \r\nz\r\n\" id=\"ArialMT-67\"/>\r\n      <path d=\"M 9.328125 0 \r\nL 9.328125 71.578125 \r\nL 18.796875 71.578125 \r\nL 18.796875 0 \r\nz\r\n\" id=\"ArialMT-73\"/>\r\n      <path d=\"M 7.90625 0 \r\nL 7.90625 71.578125 \r\nL 59.671875 71.578125 \r\nL 59.671875 63.140625 \r\nL 17.390625 63.140625 \r\nL 17.390625 41.21875 \r\nL 56.984375 41.21875 \r\nL 56.984375 32.8125 \r\nL 17.390625 32.8125 \r\nL 17.390625 8.453125 \r\nL 61.328125 8.453125 \r\nL 61.328125 0 \r\nz\r\n\" id=\"ArialMT-69\"/>\r\n      <path d=\"M 4.5 23 \r\nL 13.421875 23.78125 \r\nQ 14.0625 18.40625 16.375 14.96875 \r\nQ 18.703125 11.53125 23.578125 9.40625 \r\nQ 28.46875 7.28125 34.578125 7.28125 \r\nQ 39.984375 7.28125 44.140625 8.890625 \r\nQ 48.296875 10.5 50.3125 13.296875 \r\nQ 52.34375 16.109375 52.34375 19.4375 \r\nQ 52.34375 22.796875 50.390625 25.3125 \r\nQ 48.4375 27.828125 43.953125 29.546875 \r\nQ 41.0625 30.671875 31.203125 33.03125 \r\nQ 21.34375 35.40625 17.390625 37.5 \r\nQ 12.25 40.1875 9.734375 44.15625 \r\nQ 7.234375 48.140625 7.234375 53.078125 \r\nQ 7.234375 58.5 10.296875 63.203125 \r\nQ 13.375 67.921875 19.28125 70.359375 \r\nQ 25.203125 72.796875 32.421875 72.796875 \r\nQ 40.375 72.796875 46.453125 70.234375 \r\nQ 52.546875 67.671875 55.8125 62.6875 \r\nQ 59.078125 57.71875 59.328125 51.421875 \r\nL 50.25 50.734375 \r\nQ 49.515625 57.515625 45.28125 60.984375 \r\nQ 41.0625 64.453125 32.8125 64.453125 \r\nQ 24.21875 64.453125 20.28125 61.296875 \r\nQ 16.359375 58.15625 16.359375 53.71875 \r\nQ 16.359375 49.859375 19.140625 47.359375 \r\nQ 21.875 44.875 33.421875 42.265625 \r\nQ 44.96875 39.65625 49.265625 37.703125 \r\nQ 55.515625 34.8125 58.484375 30.390625 \r\nQ 61.46875 25.984375 61.46875 20.21875 \r\nQ 61.46875 14.5 58.203125 9.4375 \r\nQ 54.9375 4.390625 48.796875 1.578125 \r\nQ 42.671875 -1.21875 35.015625 -1.21875 \r\nQ 25.296875 -1.21875 18.71875 1.609375 \r\nQ 12.15625 4.4375 8.421875 10.125 \r\nQ 4.6875 15.828125 4.5 23 \r\nz\r\n\" id=\"ArialMT-83\"/>\r\n      <path d=\"M 25.921875 0 \r\nL 25.921875 63.140625 \r\nL 2.34375 63.140625 \r\nL 2.34375 71.578125 \r\nL 59.078125 71.578125 \r\nL 59.078125 63.140625 \r\nL 35.40625 63.140625 \r\nL 35.40625 0 \r\nz\r\n\" id=\"ArialMT-84\"/>\r\n      <path d=\"M 7.859375 0 \r\nL 7.859375 71.578125 \r\nL 39.59375 71.578125 \r\nQ 49.171875 71.578125 54.140625 69.640625 \r\nQ 59.125 67.71875 62.109375 62.828125 \r\nQ 65.09375 57.953125 65.09375 52.046875 \r\nQ 65.09375 44.4375 60.15625 39.203125 \r\nQ 55.21875 33.984375 44.921875 32.5625 \r\nQ 48.6875 30.765625 50.640625 29 \r\nQ 54.78125 25.203125 58.5 19.484375 \r\nL 70.953125 0 \r\nL 59.03125 0 \r\nL 49.5625 14.890625 \r\nQ 45.40625 21.34375 42.71875 24.75 \r\nQ 40.046875 28.171875 37.921875 29.53125 \r\nQ 35.796875 30.90625 33.59375 31.453125 \r\nQ 31.984375 31.78125 28.328125 31.78125 \r\nL 17.328125 31.78125 \r\nL 17.328125 0 \r\nz\r\nM 17.328125 39.984375 \r\nL 37.703125 39.984375 \r\nQ 44.1875 39.984375 47.84375 41.328125 \r\nQ 51.515625 42.671875 53.421875 45.625 \r\nQ 55.328125 48.578125 55.328125 52.046875 \r\nQ 55.328125 57.125 51.640625 60.390625 \r\nQ 47.953125 63.671875 39.984375 63.671875 \r\nL 17.328125 63.671875 \r\nz\r\n\" id=\"ArialMT-82\"/>\r\n     </defs>\r\n     <use xlink:href=\"#ArialMT-67\"/>\r\n     <use x=\"72.216797\" xlink:href=\"#ArialMT-73\"/>\r\n     <use x=\"100\" xlink:href=\"#ArialMT-69\"/>\r\n     <use x=\"166.699219\" xlink:href=\"#ArialMT-78\"/>\r\n     <use x=\"238.916016\" xlink:href=\"#ArialMT-67\"/>\r\n     <use x=\"311.132812\" xlink:href=\"#ArialMT-73\"/>\r\n     <use x=\"338.916016\" xlink:href=\"#ArialMT-65\"/>\r\n     <use x=\"405.615234\" xlink:href=\"#ArialMT-83\"/>\r\n     <use x=\"472.314453\" xlink:href=\"#ArialMT-95\"/>\r\n     <use x=\"527.929688\" xlink:href=\"#ArialMT-78\"/>\r\n     <use x=\"600.146484\" xlink:href=\"#ArialMT-65\"/>\r\n     <use x=\"659.470703\" xlink:href=\"#ArialMT-84\"/>\r\n     <use x=\"720.554688\" xlink:href=\"#ArialMT-85\"/>\r\n     <use x=\"792.771484\" xlink:href=\"#ArialMT-82\"/>\r\n     <use x=\"864.988281\" xlink:href=\"#ArialMT-65\"/>\r\n     <use x=\"931.6875\" xlink:href=\"#ArialMT-73\"/>\r\n     <use x=\"959.470703\" xlink:href=\"#ArialMT-83\"/>\r\n    </g>\r\n   </g>\r\n   <g id=\"patch_29\">\r\n    <path d=\"M 409.401783 190.868281 \r\nL 431.401783 190.868281 \r\nL 431.401783 183.168281 \r\nL 409.401783 183.168281 \r\nz\r\n\" style=\"fill:#10256f;stroke:#ffffff;stroke-linejoin:miter;\"/>\r\n   </g>\r\n   <g id=\"text_15\">\r\n    <!-- 477.88327161455885 -->\r\n    <g style=\"fill:#262626;\" transform=\"translate(440.201783 190.868281)scale(0.11 -0.11)\">\r\n     <defs>\r\n      <path d=\"M 9.078125 0 \r\nL 9.078125 10.015625 \r\nL 19.09375 10.015625 \r\nL 19.09375 0 \r\nz\r\n\" id=\"ArialMT-46\"/>\r\n     </defs>\r\n     <use xlink:href=\"#ArialMT-52\"/>\r\n     <use x=\"55.615234\" xlink:href=\"#ArialMT-55\"/>\r\n     <use x=\"111.230469\" xlink:href=\"#ArialMT-55\"/>\r\n     <use x=\"166.845703\" xlink:href=\"#ArialMT-46\"/>\r\n     <use x=\"194.628906\" xlink:href=\"#ArialMT-56\"/>\r\n     <use x=\"250.244141\" xlink:href=\"#ArialMT-56\"/>\r\n     <use x=\"305.859375\" xlink:href=\"#ArialMT-51\"/>\r\n     <use x=\"361.474609\" xlink:href=\"#ArialMT-50\"/>\r\n     <use x=\"417.089844\" xlink:href=\"#ArialMT-55\"/>\r\n     <use x=\"472.705078\" xlink:href=\"#ArialMT-49\"/>\r\n     <use x=\"528.320312\" xlink:href=\"#ArialMT-54\"/>\r\n     <use x=\"583.935547\" xlink:href=\"#ArialMT-49\"/>\r\n     <use x=\"639.550781\" xlink:href=\"#ArialMT-52\"/>\r\n     <use x=\"695.166016\" xlink:href=\"#ArialMT-53\"/>\r\n     <use x=\"750.78125\" xlink:href=\"#ArialMT-53\"/>\r\n     <use x=\"806.396484\" xlink:href=\"#ArialMT-56\"/>\r\n     <use x=\"862.011719\" xlink:href=\"#ArialMT-56\"/>\r\n     <use x=\"917.626953\" xlink:href=\"#ArialMT-53\"/>\r\n    </g>\r\n   </g>\r\n   <g id=\"patch_30\">\r\n    <path d=\"M 409.401783 206.428125 \r\nL 431.401783 206.428125 \r\nL 431.401783 198.728125 \r\nL 409.401783 198.728125 \r\nz\r\n\" style=\"fill:#9c4821;stroke:#ffffff;stroke-linejoin:miter;\"/>\r\n   </g>\r\n   <g id=\"text_16\">\r\n    <!-- 478.3873980440827 -->\r\n    <g style=\"fill:#262626;\" transform=\"translate(440.201783 206.428125)scale(0.11 -0.11)\">\r\n     <use xlink:href=\"#ArialMT-52\"/>\r\n     <use x=\"55.615234\" xlink:href=\"#ArialMT-55\"/>\r\n     <use x=\"111.230469\" xlink:href=\"#ArialMT-56\"/>\r\n     <use x=\"166.845703\" xlink:href=\"#ArialMT-46\"/>\r\n     <use x=\"194.628906\" xlink:href=\"#ArialMT-51\"/>\r\n     <use x=\"250.244141\" xlink:href=\"#ArialMT-56\"/>\r\n     <use x=\"305.859375\" xlink:href=\"#ArialMT-55\"/>\r\n     <use x=\"361.474609\" xlink:href=\"#ArialMT-51\"/>\r\n     <use x=\"417.089844\" xlink:href=\"#ArialMT-57\"/>\r\n     <use x=\"472.705078\" xlink:href=\"#ArialMT-56\"/>\r\n     <use x=\"528.320312\" xlink:href=\"#ArialMT-48\"/>\r\n     <use x=\"583.935547\" xlink:href=\"#ArialMT-52\"/>\r\n     <use x=\"639.550781\" xlink:href=\"#ArialMT-52\"/>\r\n     <use x=\"695.166016\" xlink:href=\"#ArialMT-48\"/>\r\n     <use x=\"750.78125\" xlink:href=\"#ArialMT-56\"/>\r\n     <use x=\"806.396484\" xlink:href=\"#ArialMT-50\"/>\r\n     <use x=\"862.011719\" xlink:href=\"#ArialMT-55\"/>\r\n    </g>\r\n   </g>\r\n   <g id=\"patch_31\">\r\n    <path d=\"M 409.401783 221.987969 \r\nL 431.401783 221.987969 \r\nL 431.401783 214.287969 \r\nL 409.401783 214.287969 \r\nz\r\n\" style=\"fill:#1e6525;stroke:#ffffff;stroke-linejoin:miter;\"/>\r\n   </g>\r\n   <g id=\"text_17\">\r\n    <!-- 479.509143205818 -->\r\n    <g style=\"fill:#262626;\" transform=\"translate(440.201783 221.987969)scale(0.11 -0.11)\">\r\n     <use xlink:href=\"#ArialMT-52\"/>\r\n     <use x=\"55.615234\" xlink:href=\"#ArialMT-55\"/>\r\n     <use x=\"111.230469\" xlink:href=\"#ArialMT-57\"/>\r\n     <use x=\"166.845703\" xlink:href=\"#ArialMT-46\"/>\r\n     <use x=\"194.628906\" xlink:href=\"#ArialMT-53\"/>\r\n     <use x=\"250.244141\" xlink:href=\"#ArialMT-48\"/>\r\n     <use x=\"305.859375\" xlink:href=\"#ArialMT-57\"/>\r\n     <use x=\"361.474609\" xlink:href=\"#ArialMT-49\"/>\r\n     <use x=\"417.089844\" xlink:href=\"#ArialMT-52\"/>\r\n     <use x=\"472.705078\" xlink:href=\"#ArialMT-51\"/>\r\n     <use x=\"528.320312\" xlink:href=\"#ArialMT-50\"/>\r\n     <use x=\"583.935547\" xlink:href=\"#ArialMT-48\"/>\r\n     <use x=\"639.550781\" xlink:href=\"#ArialMT-53\"/>\r\n     <use x=\"695.166016\" xlink:href=\"#ArialMT-56\"/>\r\n     <use x=\"750.78125\" xlink:href=\"#ArialMT-49\"/>\r\n     <use x=\"806.396484\" xlink:href=\"#ArialMT-56\"/>\r\n    </g>\r\n   </g>\r\n   <g id=\"patch_32\">\r\n    <path d=\"M 409.401783 237.547812 \r\nL 431.401783 237.547812 \r\nL 431.401783 229.847812 \r\nL 409.401783 229.847812 \r\nz\r\n\" style=\"fill:#7b1711;stroke:#ffffff;stroke-linejoin:miter;\"/>\r\n   </g>\r\n   <g id=\"text_18\">\r\n    <!-- 493.75873335759263 -->\r\n    <g style=\"fill:#262626;\" transform=\"translate(440.201783 237.547812)scale(0.11 -0.11)\">\r\n     <use xlink:href=\"#ArialMT-52\"/>\r\n     <use x=\"55.615234\" xlink:href=\"#ArialMT-57\"/>\r\n     <use x=\"111.230469\" xlink:href=\"#ArialMT-51\"/>\r\n     <use x=\"166.845703\" xlink:href=\"#ArialMT-46\"/>\r\n     <use x=\"194.628906\" xlink:href=\"#ArialMT-55\"/>\r\n     <use x=\"250.244141\" xlink:href=\"#ArialMT-53\"/>\r\n     <use x=\"305.859375\" xlink:href=\"#ArialMT-56\"/>\r\n     <use x=\"361.474609\" xlink:href=\"#ArialMT-55\"/>\r\n     <use x=\"417.089844\" xlink:href=\"#ArialMT-51\"/>\r\n     <use x=\"472.705078\" xlink:href=\"#ArialMT-51\"/>\r\n     <use x=\"528.320312\" xlink:href=\"#ArialMT-51\"/>\r\n     <use x=\"583.935547\" xlink:href=\"#ArialMT-53\"/>\r\n     <use x=\"639.550781\" xlink:href=\"#ArialMT-55\"/>\r\n     <use x=\"695.166016\" xlink:href=\"#ArialMT-53\"/>\r\n     <use x=\"750.78125\" xlink:href=\"#ArialMT-57\"/>\r\n     <use x=\"806.396484\" xlink:href=\"#ArialMT-50\"/>\r\n     <use x=\"862.011719\" xlink:href=\"#ArialMT-54\"/>\r\n     <use x=\"917.626953\" xlink:href=\"#ArialMT-51\"/>\r\n    </g>\r\n   </g>\r\n   <g id=\"patch_33\">\r\n    <path d=\"M 409.401783 253.107656 \r\nL 431.401783 253.107656 \r\nL 431.401783 245.407656 \r\nL 409.401783 245.407656 \r\nz\r\n\" style=\"fill:#552867;stroke:#ffffff;stroke-linejoin:miter;\"/>\r\n   </g>\r\n   <g id=\"text_19\">\r\n    <!-- 510.92278971842825 -->\r\n    <g style=\"fill:#262626;\" transform=\"translate(440.201783 253.107656)scale(0.11 -0.11)\">\r\n     <use xlink:href=\"#ArialMT-53\"/>\r\n     <use x=\"55.615234\" xlink:href=\"#ArialMT-49\"/>\r\n     <use x=\"111.230469\" xlink:href=\"#ArialMT-48\"/>\r\n     <use x=\"166.845703\" xlink:href=\"#ArialMT-46\"/>\r\n     <use x=\"194.628906\" xlink:href=\"#ArialMT-57\"/>\r\n     <use x=\"250.244141\" xlink:href=\"#ArialMT-50\"/>\r\n     <use x=\"305.859375\" xlink:href=\"#ArialMT-50\"/>\r\n     <use x=\"361.474609\" xlink:href=\"#ArialMT-55\"/>\r\n     <use x=\"417.089844\" xlink:href=\"#ArialMT-56\"/>\r\n     <use x=\"472.705078\" xlink:href=\"#ArialMT-57\"/>\r\n     <use x=\"528.320312\" xlink:href=\"#ArialMT-55\"/>\r\n     <use x=\"583.935547\" xlink:href=\"#ArialMT-49\"/>\r\n     <use x=\"639.550781\" xlink:href=\"#ArialMT-56\"/>\r\n     <use x=\"695.166016\" xlink:href=\"#ArialMT-52\"/>\r\n     <use x=\"750.78125\" xlink:href=\"#ArialMT-50\"/>\r\n     <use x=\"806.396484\" xlink:href=\"#ArialMT-56\"/>\r\n     <use x=\"862.011719\" xlink:href=\"#ArialMT-50\"/>\r\n     <use x=\"917.626953\" xlink:href=\"#ArialMT-53\"/>\r\n    </g>\r\n   </g>\r\n  </g>\r\n </g>\r\n <defs>\r\n  <clipPath id=\"p1beb7ff76e\">\r\n   <rect height=\"372.58\" width=\"352.736408\" x=\"50.072344\" y=\"7.2\"/>\r\n  </clipPath>\r\n </defs>\r\n</svg>\r\n",
      "image/png": "[encoded data removed]"
     },
     "metadata": {}
    }
   ],
   "source": [
    "sns.set(style=\"whitegrid\")\n",
    "\n",
    "# Draw a nested barplot to show survival for class and sex\n",
    "g = sns.catplot(x=\"NU_ANO\", y=\"CIENCIAS_NATURAIS\", hue=\"CIENCIAS_NATURAIS\", data=df_cn_pandas, height=6, kind=\"bar\", palette=\"dark\")\n",
    "g.despine(left=True)\n",
    "g.set_ylabels(\"Média de notas por ano\")"
   ]
  },
  {
   "cell_type": "code",
   "execution_count": null,
   "metadata": {},
   "outputs": [],
   "source": [
    "# Este df contempla apenas as notas de ciências naturais por ano\n",
    "df_ch = df_notas_sem_nulos.groupBy(\"NU_ANO\").agg((sum(\"NU_NOTA_CH\")/count(\"NU_INSCRICAO\")).alias(\"CIENCIAS_HUMANAS\")).sort(col(\"NU_ANO\").desc())"
   ]
  },
  {
   "cell_type": "code",
   "execution_count": null,
   "metadata": {},
   "outputs": [],
   "source": [
    "df_ch_pandas = df_ch.toPandas()\n",
    "df_ch_pandas"
   ]
  },
  {
   "cell_type": "code",
   "execution_count": null,
   "metadata": {},
   "outputs": [],
   "source": [
    "sns.set(style=\"whitegrid\")\n",
    "\n",
    "# Draw a nested barplot to show survival for class and sex\n",
    "g = sns.catplot(x=\"NU_ANO\", y=\"CIENCIAS_HUMANAS\", hue=\"CIENCIAS_NATURAIS\", data=df_ch_pandas, height=6, kind=\"bar\", palette=\"dark\")\n",
    "g.despine(left=True)\n",
    "g.set_ylabels(\"Média de notas por ano\")"
   ]
  }
 ]
}